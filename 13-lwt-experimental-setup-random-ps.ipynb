{
 "cells": [
  {
   "cell_type": "code",
   "execution_count": 1,
   "id": "6226e3aa",
   "metadata": {},
   "outputs": [
    {
     "name": "stderr",
     "output_type": "stream",
     "text": [
      "/Users/jensen/Desktop/recommendation-systems/projects/product-reviews-recommender/.venv/lib/python3.9/site-packages/gensim/similarities/__init__.py:15: UserWarning: The gensim.similarities.levenshtein submodule is disabled, because the optional Levenshtein package <https://pypi.org/project/python-Levenshtein/> is unavailable. Install Levenhstein (e.g. `pip install python-Levenshtein`) to suppress this warning.\n",
      "  warnings.warn(msg)\n"
     ]
    }
   ],
   "source": [
    "from collections import defaultdict\n",
    "\n",
    "import gensim\n",
    "import numpy as np\n",
    "import pandas as pd\n",
    "from sqlalchemy import create_engine\n",
    "from surprise import Dataset, Reader, NormalPredictor\n",
    "from tqdm import tqdm\n",
    "\n",
    "from src.models import evaluate_model\n",
    "from src.utilities import utilities\n",
    "\n",
    "tqdm.pandas()"
   ]
  },
  {
   "cell_type": "markdown",
   "id": "d6ff2a31",
   "metadata": {},
   "source": [
    "# Load Data"
   ]
  },
  {
   "cell_type": "code",
   "execution_count": 2,
   "id": "1408e3a3",
   "metadata": {},
   "outputs": [],
   "source": [
    "# global variables\n",
    "DATA_PATH = \"data/evaluation\"\n",
    "CATEGORY = \"Pet_Supplies\"\n",
    "\n",
    "# reproducibility checks\n",
    "SEED = 42\n",
    "np.random.seed(42)\n",
    "\n",
    "train = pd.read_csv(f\"{DATA_PATH}/{CATEGORY}_train.csv\")"
   ]
  },
  {
   "cell_type": "code",
   "execution_count": 3,
   "id": "23c3b2f5",
   "metadata": {},
   "outputs": [
    {
     "data": {
      "text/html": [
       "<div>\n",
       "<style scoped>\n",
       "    .dataframe tbody tr th:only-of-type {\n",
       "        vertical-align: middle;\n",
       "    }\n",
       "\n",
       "    .dataframe tbody tr th {\n",
       "        vertical-align: top;\n",
       "    }\n",
       "\n",
       "    .dataframe thead th {\n",
       "        text-align: right;\n",
       "    }\n",
       "</style>\n",
       "<table border=\"1\" class=\"dataframe\">\n",
       "  <thead>\n",
       "    <tr style=\"text-align: right;\">\n",
       "      <th></th>\n",
       "      <th>index</th>\n",
       "      <th>asin</th>\n",
       "      <th>title</th>\n",
       "      <th>categories</th>\n",
       "      <th>reviewerID</th>\n",
       "      <th>overall</th>\n",
       "      <th>reviewText</th>\n",
       "      <th>reviewTime</th>\n",
       "      <th>processedReviewText</th>\n",
       "    </tr>\n",
       "  </thead>\n",
       "  <tbody>\n",
       "    <tr>\n",
       "      <th>0</th>\n",
       "      <td>0</td>\n",
       "      <td>1223000893</td>\n",
       "      <td>Cat Sitter DVD Trilogy - Vol 1, Vol 2 and Vol 3</td>\n",
       "      <td>[]</td>\n",
       "      <td>A14CK12J7C7JRK</td>\n",
       "      <td>3.0</td>\n",
       "      <td>I purchased the Trilogy with hoping my two cat...</td>\n",
       "      <td>2011-01-12</td>\n",
       "      <td>purchase trilogy hop cat age interested yr old...</td>\n",
       "    </tr>\n",
       "    <tr>\n",
       "      <th>1</th>\n",
       "      <td>2</td>\n",
       "      <td>1223000893</td>\n",
       "      <td>Cat Sitter DVD Trilogy - Vol 1, Vol 2 and Vol 3</td>\n",
       "      <td>[]</td>\n",
       "      <td>A2CR37UY3VR7BN</td>\n",
       "      <td>4.0</td>\n",
       "      <td>I bought the triliogy and have tested out all ...</td>\n",
       "      <td>2012-12-19</td>\n",
       "      <td>buy triliogy test dvd appear volume receive re...</td>\n",
       "    </tr>\n",
       "    <tr>\n",
       "      <th>2</th>\n",
       "      <td>3</td>\n",
       "      <td>1223000893</td>\n",
       "      <td>Cat Sitter DVD Trilogy - Vol 1, Vol 2 and Vol 3</td>\n",
       "      <td>[]</td>\n",
       "      <td>A2A4COGL9VW2HY</td>\n",
       "      <td>4.0</td>\n",
       "      <td>My female kitty could care less about these vi...</td>\n",
       "      <td>2011-05-12</td>\n",
       "      <td>female kitty care video care little male dig a...</td>\n",
       "    </tr>\n",
       "    <tr>\n",
       "      <th>3</th>\n",
       "      <td>4</td>\n",
       "      <td>1223000893</td>\n",
       "      <td>Cat Sitter DVD Trilogy - Vol 1, Vol 2 and Vol 3</td>\n",
       "      <td>[]</td>\n",
       "      <td>A2UBQA85NIGLHA</td>\n",
       "      <td>3.0</td>\n",
       "      <td>If I had gotten just volume two, I would have ...</td>\n",
       "      <td>2012-03-05</td>\n",
       "      <td>volume star trilogy star read review know vol ...</td>\n",
       "    </tr>\n",
       "    <tr>\n",
       "      <th>4</th>\n",
       "      <td>5</td>\n",
       "      <td>B00005MF9U</td>\n",
       "      <td>LitterMaid LM900 Mega Self-Cleaning Litter Box</td>\n",
       "      <td>['Pet Supplies', 'Cats', 'Litter &amp;amp; Housebr...</td>\n",
       "      <td>A2BH04B9G9LOYA</td>\n",
       "      <td>1.0</td>\n",
       "      <td>First off, it seems that someone is spamming t...</td>\n",
       "      <td>2006-12-31</td>\n",
       "      <td>spamming review glow reviewer review amazon ba...</td>\n",
       "    </tr>\n",
       "    <tr>\n",
       "      <th>68865</th>\n",
       "      <td>111581</td>\n",
       "      <td>B00K3YPOO0</td>\n",
       "      <td>Brightest Black Light Flashlight on Amazon- UV...</td>\n",
       "      <td>[]</td>\n",
       "      <td>A11J1FHCK5U06J</td>\n",
       "      <td>4.0</td>\n",
       "      <td>Now I know exactly where the trouble spots are...</td>\n",
       "      <td>2014-05-23</td>\n",
       "      <td>know exactly trouble spot sniffing guess invis...</td>\n",
       "    </tr>\n",
       "    <tr>\n",
       "      <th>68866</th>\n",
       "      <td>111585</td>\n",
       "      <td>B00K3YPOO0</td>\n",
       "      <td>Brightest Black Light Flashlight on Amazon- UV...</td>\n",
       "      <td>[]</td>\n",
       "      <td>A18JF0T0GOCORW</td>\n",
       "      <td>4.0</td>\n",
       "      <td>I use this light to help me find stains when I...</td>\n",
       "      <td>2014-05-24</td>\n",
       "      <td>use light help stain carpet clean pre treat ca...</td>\n",
       "    </tr>\n",
       "    <tr>\n",
       "      <th>68867</th>\n",
       "      <td>111595</td>\n",
       "      <td>B00K7EG97C</td>\n",
       "      <td>Nutro Crunchy Dog Treats with Real Mixed Berri...</td>\n",
       "      <td>['Pet Supplies', 'Dogs', 'Treats', 'Cookies, B...</td>\n",
       "      <td>A3GRPCW9DG427Z</td>\n",
       "      <td>5.0</td>\n",
       "      <td>We are owned by the 3 pickiest pooches in the ...</td>\n",
       "      <td>2013-07-27</td>\n",
       "      <td>pickiest pooch world love fool reject doggie t...</td>\n",
       "    </tr>\n",
       "    <tr>\n",
       "      <th>68868</th>\n",
       "      <td>111598</td>\n",
       "      <td>B00K7EG97C</td>\n",
       "      <td>Nutro Crunchy Dog Treats with Real Mixed Berri...</td>\n",
       "      <td>['Pet Supplies', 'Dogs', 'Treats', 'Cookies, B...</td>\n",
       "      <td>A2X6TLAX3JEO1A</td>\n",
       "      <td>5.0</td>\n",
       "      <td>My highly allergic white boxer loves these tre...</td>\n",
       "      <td>2014-05-09</td>\n",
       "      <td>highly allergic white boxer love treat meat co...</td>\n",
       "    </tr>\n",
       "    <tr>\n",
       "      <th>68869</th>\n",
       "      <td>111602</td>\n",
       "      <td>B00KJGFGFO</td>\n",
       "      <td>Curry Brush with Coarse or Fine Bristles. High...</td>\n",
       "      <td>[]</td>\n",
       "      <td>A9PG9ODPPP31N</td>\n",
       "      <td>5.0</td>\n",
       "      <td>Works great on my medium sized dog. She has ve...</td>\n",
       "      <td>2014-07-09</td>\n",
       "      <td>work great medium size dog coarse hair work gr...</td>\n",
       "    </tr>\n",
       "  </tbody>\n",
       "</table>\n",
       "</div>"
      ],
      "text/plain": [
       "        index        asin                                              title  \\\n",
       "0           0  1223000893    Cat Sitter DVD Trilogy - Vol 1, Vol 2 and Vol 3   \n",
       "1           2  1223000893    Cat Sitter DVD Trilogy - Vol 1, Vol 2 and Vol 3   \n",
       "2           3  1223000893    Cat Sitter DVD Trilogy - Vol 1, Vol 2 and Vol 3   \n",
       "3           4  1223000893    Cat Sitter DVD Trilogy - Vol 1, Vol 2 and Vol 3   \n",
       "4           5  B00005MF9U     LitterMaid LM900 Mega Self-Cleaning Litter Box   \n",
       "68865  111581  B00K3YPOO0  Brightest Black Light Flashlight on Amazon- UV...   \n",
       "68866  111585  B00K3YPOO0  Brightest Black Light Flashlight on Amazon- UV...   \n",
       "68867  111595  B00K7EG97C  Nutro Crunchy Dog Treats with Real Mixed Berri...   \n",
       "68868  111598  B00K7EG97C  Nutro Crunchy Dog Treats with Real Mixed Berri...   \n",
       "68869  111602  B00KJGFGFO  Curry Brush with Coarse or Fine Bristles. High...   \n",
       "\n",
       "                                              categories      reviewerID  \\\n",
       "0                                                     []  A14CK12J7C7JRK   \n",
       "1                                                     []  A2CR37UY3VR7BN   \n",
       "2                                                     []  A2A4COGL9VW2HY   \n",
       "3                                                     []  A2UBQA85NIGLHA   \n",
       "4      ['Pet Supplies', 'Cats', 'Litter &amp; Housebr...  A2BH04B9G9LOYA   \n",
       "68865                                                 []  A11J1FHCK5U06J   \n",
       "68866                                                 []  A18JF0T0GOCORW   \n",
       "68867  ['Pet Supplies', 'Dogs', 'Treats', 'Cookies, B...  A3GRPCW9DG427Z   \n",
       "68868  ['Pet Supplies', 'Dogs', 'Treats', 'Cookies, B...  A2X6TLAX3JEO1A   \n",
       "68869                                                 []   A9PG9ODPPP31N   \n",
       "\n",
       "       overall                                         reviewText  reviewTime  \\\n",
       "0          3.0  I purchased the Trilogy with hoping my two cat...  2011-01-12   \n",
       "1          4.0  I bought the triliogy and have tested out all ...  2012-12-19   \n",
       "2          4.0  My female kitty could care less about these vi...  2011-05-12   \n",
       "3          3.0  If I had gotten just volume two, I would have ...  2012-03-05   \n",
       "4          1.0  First off, it seems that someone is spamming t...  2006-12-31   \n",
       "68865      4.0  Now I know exactly where the trouble spots are...  2014-05-23   \n",
       "68866      4.0  I use this light to help me find stains when I...  2014-05-24   \n",
       "68867      5.0  We are owned by the 3 pickiest pooches in the ...  2013-07-27   \n",
       "68868      5.0  My highly allergic white boxer loves these tre...  2014-05-09   \n",
       "68869      5.0  Works great on my medium sized dog. She has ve...  2014-07-09   \n",
       "\n",
       "                                     processedReviewText  \n",
       "0      purchase trilogy hop cat age interested yr old...  \n",
       "1      buy triliogy test dvd appear volume receive re...  \n",
       "2      female kitty care video care little male dig a...  \n",
       "3      volume star trilogy star read review know vol ...  \n",
       "4      spamming review glow reviewer review amazon ba...  \n",
       "68865  know exactly trouble spot sniffing guess invis...  \n",
       "68866  use light help stain carpet clean pre treat ca...  \n",
       "68867  pickiest pooch world love fool reject doggie t...  \n",
       "68868  highly allergic white boxer love treat meat co...  \n",
       "68869  work great medium size dog coarse hair work gr...  "
      ]
     },
     "execution_count": 3,
     "metadata": {},
     "output_type": "execute_result"
    }
   ],
   "source": [
    "# checking train dataframe\n",
    "train.head().append(train.tail())"
   ]
  },
  {
   "cell_type": "markdown",
   "id": "b026e402",
   "metadata": {},
   "source": [
    "# Utility Function"
   ]
  },
  {
   "cell_type": "code",
   "execution_count": 4,
   "id": "9b9ca18d",
   "metadata": {},
   "outputs": [],
   "source": [
    "def get_top_n(predictions, n=10):\n",
    "    \"\"\"Return the top-N recommendation for each user from a set of predictions.\n",
    "\n",
    "    Args:\n",
    "        predictions(list of Prediction objects): The list of predictions, as\n",
    "            returned by the test method of an algorithm.\n",
    "        n(int): The number of recommendation to output for each user. Default\n",
    "            is 10.\n",
    "\n",
    "    Returns:\n",
    "    A dict where keys are user (raw) ids and values are lists of tuples:\n",
    "        [(raw item id, rating estimation), ...] of size n.\n",
    "    \"\"\"\n",
    "\n",
    "    # First map the predictions to each user.\n",
    "    top_n = defaultdict(list)\n",
    "    for uid, iid, true_r, est, _ in predictions:\n",
    "        top_n[uid].append((iid, est))\n",
    "\n",
    "    # Then sort the predictions for each user and retrieve the k highest ones.\n",
    "    for uid, user_ratings in top_n.items():\n",
    "        user_ratings.sort(key=lambda x: x[1], reverse=True)\n",
    "        top_n[uid] = user_ratings[:n]\n",
    "\n",
    "    return top_n"
   ]
  },
  {
   "cell_type": "markdown",
   "id": "b650e6f1",
   "metadata": {},
   "source": [
    "# Generate N-Recommendations = {10, 25, 30, 45}"
   ]
  },
  {
   "cell_type": "markdown",
   "id": "24d411a6",
   "metadata": {},
   "source": [
    "## Load Test Data"
   ]
  },
  {
   "cell_type": "code",
   "execution_count": 5,
   "id": "6ec8adeb",
   "metadata": {},
   "outputs": [],
   "source": [
    "test = pd.read_csv(f\"{DATA_PATH}/{CATEGORY}_test.csv\")"
   ]
  },
  {
   "cell_type": "code",
   "execution_count": 6,
   "id": "7c7af911",
   "metadata": {},
   "outputs": [
    {
     "data": {
      "text/html": [
       "<div>\n",
       "<style scoped>\n",
       "    .dataframe tbody tr th:only-of-type {\n",
       "        vertical-align: middle;\n",
       "    }\n",
       "\n",
       "    .dataframe tbody tr th {\n",
       "        vertical-align: top;\n",
       "    }\n",
       "\n",
       "    .dataframe thead th {\n",
       "        text-align: right;\n",
       "    }\n",
       "</style>\n",
       "<table border=\"1\" class=\"dataframe\">\n",
       "  <thead>\n",
       "    <tr style=\"text-align: right;\">\n",
       "      <th></th>\n",
       "      <th>index</th>\n",
       "      <th>asin</th>\n",
       "      <th>title</th>\n",
       "      <th>categories</th>\n",
       "      <th>reviewerID</th>\n",
       "      <th>overall</th>\n",
       "      <th>reviewText</th>\n",
       "      <th>reviewTime</th>\n",
       "      <th>processedReviewText</th>\n",
       "    </tr>\n",
       "  </thead>\n",
       "  <tbody>\n",
       "    <tr>\n",
       "      <th>0</th>\n",
       "      <td>1</td>\n",
       "      <td>1223000893</td>\n",
       "      <td>Cat Sitter DVD Trilogy - Vol 1, Vol 2 and Vol 3</td>\n",
       "      <td>[]</td>\n",
       "      <td>A39QHP5WLON5HV</td>\n",
       "      <td>5.0</td>\n",
       "      <td>There are usually one or more of my cats watch...</td>\n",
       "      <td>2013-09-14</td>\n",
       "      <td>usually cat watch tv stay trouble dvd play lik...</td>\n",
       "    </tr>\n",
       "    <tr>\n",
       "      <th>1</th>\n",
       "      <td>104</td>\n",
       "      <td>B00005MF9V</td>\n",
       "      <td>LitterMaid Universal Cat Privacy Tent (LMT100)</td>\n",
       "      <td>['Pet Supplies', 'Cats', 'Litter &amp; Housebreaki...</td>\n",
       "      <td>A366V0GCEPH5CX</td>\n",
       "      <td>5.0</td>\n",
       "      <td>My cats love it and so do I. I no longer have ...</td>\n",
       "      <td>2013-02-02</td>\n",
       "      <td>cat love longer cat litter fly floor litter fl...</td>\n",
       "    </tr>\n",
       "    <tr>\n",
       "      <th>2</th>\n",
       "      <td>133</td>\n",
       "      <td>B00005MF9T</td>\n",
       "      <td>LitterMaid LM500 Automated Litter Box</td>\n",
       "      <td>['Pet Supplies', 'Cats', 'Litter &amp; Housebreaki...</td>\n",
       "      <td>ALWWS8QBYN80B</td>\n",
       "      <td>1.0</td>\n",
       "      <td>I have one female cat that weighs under 10 pou...</td>\n",
       "      <td>2004-11-17</td>\n",
       "      <td>female cat weigh pound year old use everclean ...</td>\n",
       "    </tr>\n",
       "    <tr>\n",
       "      <th>3</th>\n",
       "      <td>153</td>\n",
       "      <td>B00005MF9W</td>\n",
       "      <td>LitterMaid Waste Receptacles Automatic Litter ...</td>\n",
       "      <td>['Pet Supplies', 'Cats', 'Litter &amp; Housebreaki...</td>\n",
       "      <td>A3PVI3NE7OY1SP</td>\n",
       "      <td>5.0</td>\n",
       "      <td>I love these. They make the clean up so much e...</td>\n",
       "      <td>2013-09-26</td>\n",
       "      <td>love clean easy clean box manually use issue w...</td>\n",
       "    </tr>\n",
       "    <tr>\n",
       "      <th>4</th>\n",
       "      <td>154</td>\n",
       "      <td>B00005MF9W</td>\n",
       "      <td>LitterMaid Waste Receptacles Automatic Litter ...</td>\n",
       "      <td>['Pet Supplies', 'Cats', 'Litter &amp; Housebreaki...</td>\n",
       "      <td>A2H83XMHUVDLJY</td>\n",
       "      <td>4.0</td>\n",
       "      <td>I love this litter box. I do not use the lids,...</td>\n",
       "      <td>2014-06-26</td>\n",
       "      <td>love litter box use lid use receptacle tear cr...</td>\n",
       "    </tr>\n",
       "    <tr>\n",
       "      <th>41564</th>\n",
       "      <td>111601</td>\n",
       "      <td>B00KJGFGFO</td>\n",
       "      <td>Curry Brush with Coarse or Fine Bristles. High...</td>\n",
       "      <td>[]</td>\n",
       "      <td>AV34KNYW82YSS</td>\n",
       "      <td>4.0</td>\n",
       "      <td>Pulled lots of hair out of my Labs coat. Didn'...</td>\n",
       "      <td>2014-07-18</td>\n",
       "      <td>pulled lot hair labs coat think prove wrong co...</td>\n",
       "    </tr>\n",
       "    <tr>\n",
       "      <th>41565</th>\n",
       "      <td>111603</td>\n",
       "      <td>B00KJGFGFO</td>\n",
       "      <td>Curry Brush with Coarse or Fine Bristles. High...</td>\n",
       "      <td>[]</td>\n",
       "      <td>A1YMNTFLNDYQ1F</td>\n",
       "      <td>5.0</td>\n",
       "      <td>I have been trying to find a rubber bristle br...</td>\n",
       "      <td>2014-07-16</td>\n",
       "      <td>try rubber bristle brush persian year lose glo...</td>\n",
       "    </tr>\n",
       "    <tr>\n",
       "      <th>41566</th>\n",
       "      <td>111604</td>\n",
       "      <td>B00KJGFGFO</td>\n",
       "      <td>Curry Brush with Coarse or Fine Bristles. High...</td>\n",
       "      <td>[]</td>\n",
       "      <td>A1FQ3HRVXA4A5B</td>\n",
       "      <td>5.0</td>\n",
       "      <td>Great product to use on your pets knowing this...</td>\n",
       "      <td>2014-07-11</td>\n",
       "      <td>great product use pet know gentle rubber damag...</td>\n",
       "    </tr>\n",
       "    <tr>\n",
       "      <th>41567</th>\n",
       "      <td>111605</td>\n",
       "      <td>B00KJGFGFO</td>\n",
       "      <td>Curry Brush with Coarse or Fine Bristles. High...</td>\n",
       "      <td>[]</td>\n",
       "      <td>A3OP6CI0XCRQXO</td>\n",
       "      <td>5.0</td>\n",
       "      <td>I bought a second one because I have two cats ...</td>\n",
       "      <td>2014-07-22</td>\n",
       "      <td>buy second cat american short hair buy brush m...</td>\n",
       "    </tr>\n",
       "    <tr>\n",
       "      <th>41568</th>\n",
       "      <td>111606</td>\n",
       "      <td>B00KJGFGFO</td>\n",
       "      <td>Curry Brush with Coarse or Fine Bristles. High...</td>\n",
       "      <td>[]</td>\n",
       "      <td>A11LC938XF35XN</td>\n",
       "      <td>5.0</td>\n",
       "      <td>Our dogs love getting brushed with this.  It m...</td>\n",
       "      <td>2014-07-17</td>\n",
       "      <td>dog love brush massage remove heavy undercoat ...</td>\n",
       "    </tr>\n",
       "  </tbody>\n",
       "</table>\n",
       "</div>"
      ],
      "text/plain": [
       "        index        asin                                              title  \\\n",
       "0           1  1223000893    Cat Sitter DVD Trilogy - Vol 1, Vol 2 and Vol 3   \n",
       "1         104  B00005MF9V     LitterMaid Universal Cat Privacy Tent (LMT100)   \n",
       "2         133  B00005MF9T              LitterMaid LM500 Automated Litter Box   \n",
       "3         153  B00005MF9W  LitterMaid Waste Receptacles Automatic Litter ...   \n",
       "4         154  B00005MF9W  LitterMaid Waste Receptacles Automatic Litter ...   \n",
       "41564  111601  B00KJGFGFO  Curry Brush with Coarse or Fine Bristles. High...   \n",
       "41565  111603  B00KJGFGFO  Curry Brush with Coarse or Fine Bristles. High...   \n",
       "41566  111604  B00KJGFGFO  Curry Brush with Coarse or Fine Bristles. High...   \n",
       "41567  111605  B00KJGFGFO  Curry Brush with Coarse or Fine Bristles. High...   \n",
       "41568  111606  B00KJGFGFO  Curry Brush with Coarse or Fine Bristles. High...   \n",
       "\n",
       "                                              categories      reviewerID  \\\n",
       "0                                                     []  A39QHP5WLON5HV   \n",
       "1      ['Pet Supplies', 'Cats', 'Litter & Housebreaki...  A366V0GCEPH5CX   \n",
       "2      ['Pet Supplies', 'Cats', 'Litter & Housebreaki...   ALWWS8QBYN80B   \n",
       "3      ['Pet Supplies', 'Cats', 'Litter & Housebreaki...  A3PVI3NE7OY1SP   \n",
       "4      ['Pet Supplies', 'Cats', 'Litter & Housebreaki...  A2H83XMHUVDLJY   \n",
       "41564                                                 []   AV34KNYW82YSS   \n",
       "41565                                                 []  A1YMNTFLNDYQ1F   \n",
       "41566                                                 []  A1FQ3HRVXA4A5B   \n",
       "41567                                                 []  A3OP6CI0XCRQXO   \n",
       "41568                                                 []  A11LC938XF35XN   \n",
       "\n",
       "       overall                                         reviewText  reviewTime  \\\n",
       "0          5.0  There are usually one or more of my cats watch...  2013-09-14   \n",
       "1          5.0  My cats love it and so do I. I no longer have ...  2013-02-02   \n",
       "2          1.0  I have one female cat that weighs under 10 pou...  2004-11-17   \n",
       "3          5.0  I love these. They make the clean up so much e...  2013-09-26   \n",
       "4          4.0  I love this litter box. I do not use the lids,...  2014-06-26   \n",
       "41564      4.0  Pulled lots of hair out of my Labs coat. Didn'...  2014-07-18   \n",
       "41565      5.0  I have been trying to find a rubber bristle br...  2014-07-16   \n",
       "41566      5.0  Great product to use on your pets knowing this...  2014-07-11   \n",
       "41567      5.0  I bought a second one because I have two cats ...  2014-07-22   \n",
       "41568      5.0  Our dogs love getting brushed with this.  It m...  2014-07-17   \n",
       "\n",
       "                                     processedReviewText  \n",
       "0      usually cat watch tv stay trouble dvd play lik...  \n",
       "1      cat love longer cat litter fly floor litter fl...  \n",
       "2      female cat weigh pound year old use everclean ...  \n",
       "3      love clean easy clean box manually use issue w...  \n",
       "4      love litter box use lid use receptacle tear cr...  \n",
       "41564  pulled lot hair labs coat think prove wrong co...  \n",
       "41565  try rubber bristle brush persian year lose glo...  \n",
       "41566  great product use pet know gentle rubber damag...  \n",
       "41567  buy second cat american short hair buy brush m...  \n",
       "41568  dog love brush massage remove heavy undercoat ...  "
      ]
     },
     "execution_count": 6,
     "metadata": {},
     "output_type": "execute_result"
    }
   ],
   "source": [
    "test.head().append(test.tail())"
   ]
  },
  {
   "cell_type": "code",
   "execution_count": 7,
   "id": "2830b012",
   "metadata": {},
   "outputs": [],
   "source": [
    "# generating test history\n",
    "test_user_history = (pd.DataFrame(test.groupby(['reviewerID'])['asin']\n",
    "                                  .apply(list).reset_index()))"
   ]
  },
  {
   "cell_type": "code",
   "execution_count": 8,
   "id": "86f5e2a5",
   "metadata": {},
   "outputs": [
    {
     "name": "stdout",
     "output_type": "stream",
     "text": [
      "                  reviewerID                                  asin\n",
      "0      A04173782GDZSQ91AJ7OD              [B0090Z9AYS, B00CPDWT2M]\n",
      "1      A042274212BJJVOBS4Q85              [B005AZ4M3Q, B00771WQIY]\n",
      "2       A0436342QLT4257JODYJ  [B0018CDR68, B003SJTM8Q, B00474A3DY]\n",
      "3      A04795073FIBKY8GSLZYI              [B001PKT30M, B005DGI2RY]\n",
      "4      A06658082A27F4VB5UG8E              [B000TZ1TTM, B0019VUHH0]\n",
      "...                      ...                                   ...\n",
      "18993          AZYJE40XW6MFG              [B00HVAKJZS, B00IDZT294]\n",
      "18994          AZZ56WF4X19G2                          [B004A7X218]\n",
      "18995          AZZNK89PXD006  [B0002DHV16, B005BP8MQ8, B009RTX4SU]\n",
      "18996          AZZV9PDNMCOZW              [B007EQL390, B00ISBWVT6]\n",
      "18997          AZZYW4YOE1B6E  [B0002AQPA2, B0002AQPA2, B0002ARQV4]\n",
      "\n",
      "[18998 rows x 2 columns]\n"
     ]
    }
   ],
   "source": [
    "print(test_user_history)"
   ]
  },
  {
   "cell_type": "markdown",
   "id": "322bbb56",
   "metadata": {},
   "source": [
    "# Preparing Dataset for Surprise's Algorithm"
   ]
  },
  {
   "cell_type": "code",
   "execution_count": 9,
   "id": "64fb769b",
   "metadata": {},
   "outputs": [],
   "source": [
    "# create reader\n",
    "reader = Reader(rating_scale=(1,5))\n",
    "# generate data required for surprise\n",
    "data = Dataset.load_from_df(train[[\"reviewerID\", \"asin\", \"overall\"]], reader)\n",
    "# generating trainset\n",
    "trainset = data.build_full_trainset()"
   ]
  },
  {
   "cell_type": "markdown",
   "id": "9966a70d",
   "metadata": {},
   "source": [
    "# Instantiate Random Recommender (Topic Modelling)"
   ]
  },
  {
   "cell_type": "code",
   "execution_count": 10,
   "id": "045f9da1",
   "metadata": {},
   "outputs": [],
   "source": [
    "random = NormalPredictor()"
   ]
  },
  {
   "cell_type": "code",
   "execution_count": 11,
   "id": "04374f9f",
   "metadata": {},
   "outputs": [
    {
     "data": {
      "text/plain": [
       "<surprise.prediction_algorithms.random_pred.NormalPredictor at 0x12e610a90>"
      ]
     },
     "execution_count": 11,
     "metadata": {},
     "output_type": "execute_result"
    }
   ],
   "source": [
    "random.fit(trainset)"
   ]
  },
  {
   "cell_type": "code",
   "execution_count": 12,
   "id": "4eb99a53",
   "metadata": {},
   "outputs": [
    {
     "name": "stdout",
     "output_type": "stream",
     "text": [
      "CPU times: user 48.9 s, sys: 2.19 s, total: 51.1 s\n",
      "Wall time: 51.5 s\n"
     ]
    }
   ],
   "source": [
    "%%time\n",
    "# generate candidate items for user to predict rating\n",
    "testset = trainset.build_anti_testset()"
   ]
  },
  {
   "cell_type": "code",
   "execution_count": 13,
   "id": "8fe7949a",
   "metadata": {},
   "outputs": [
    {
     "name": "stdout",
     "output_type": "stream",
     "text": [
      "CPU times: user 10min 27s, sys: 5min 25s, total: 15min 53s\n",
      "Wall time: 18min 7s\n"
     ]
    }
   ],
   "source": [
    "%%time\n",
    "# predict ratings for all pairs (u, i) that are NOT in the training set\n",
    "candidate_items = random.test(testset, verbose=False)"
   ]
  },
  {
   "cell_type": "markdown",
   "id": "ce80581f",
   "metadata": {},
   "source": [
    "## Loop through N = {10, 25, 30, 45}"
   ]
  },
  {
   "cell_type": "code",
   "execution_count": 14,
   "id": "d4bc2c9c",
   "metadata": {},
   "outputs": [],
   "source": [
    "# generate item popularity\n",
    "item_popularity = evaluate_model.generate_item_popularity(train)"
   ]
  },
  {
   "cell_type": "code",
   "execution_count": 15,
   "id": "b6d1dc8a",
   "metadata": {},
   "outputs": [
    {
     "name": "stdout",
     "output_type": "stream",
     "text": [
      "The RANDOM has an average recall@10: 0.00085, average novelty@10: 0.91573\n",
      "The RANDOM has an average recall@25: 0.00202, average novelty@25: 0.92857\n",
      "The RANDOM has an average recall@30: 0.00256, average novelty@30: 0.93204\n",
      "The RANDOM has an average recall@45: 0.00349, average novelty@45: 0.93951\n"
     ]
    }
   ],
   "source": [
    "n_recommendations = {}\n",
    "for n in [10, 25, 30, 45]:\n",
    "    # retrieve the top-n items based on similarities\n",
    "    top_ns = get_top_n(candidate_items, n)\n",
    "    # evaluate how well the recommended items predicted the future purchases\n",
    "    n_recommended_items = (evaluate_model.\n",
    "                           evaluate_recommendations(model_name = 'RANDOM',\n",
    "                                                    top_ns = top_ns,\n",
    "                                                    user_rating_history = test_user_history, \n",
    "                                                    item_popularity = item_popularity, \n",
    "                                                    n = n,\n",
    "                                                    mf_based = True))\n",
    "    # saving the n-value and recommended items\n",
    "    n_recommendations[n] = (top_ns, n_recommended_items)"
   ]
  },
  {
   "cell_type": "markdown",
   "id": "9e40efb1",
   "metadata": {},
   "source": [
    "# Evaluate N-Recommendations"
   ]
  },
  {
   "cell_type": "markdown",
   "id": "aeee0a0d",
   "metadata": {},
   "source": [
    "## N=10"
   ]
  },
  {
   "cell_type": "code",
   "execution_count": 16,
   "id": "3ba284a5",
   "metadata": {},
   "outputs": [
    {
     "name": "stdout",
     "output_type": "stream",
     "text": [
      "For user: A1VDN9IJ05N2DM:\n",
      "Purchase History:\n",
      "             asin                                              title\n",
      "13671  B0002ARQT6                      Marshall Small Animal PlayPen\n",
      "13675  B0002ARQT6                      Marshall Small Animal PlayPen\n",
      "27343  B0006ABVEI  IRIS Neat 'n Dry Premium Pet Training Pads, Sm...\n",
      "\n",
      "Recommending:\n",
      "\n",
      "         asin                                              title\n",
      "0  B000068GQ3  Nutri-Vet Hip &amp; Joint Regular Strength Che...\n",
      "1  B00006H36X  Advantage Once-A-Month Topical Flea Treatment ...\n",
      "2  B00006HI46                    Mutt Mitt Dog Waste Pick Up Bag\n",
      "3  B000084EEC    Nupro Nutri-Pet All Natural Supplement for Dogs\n",
      "4  B000084ET2                World's Best Cat Litter (17-lb bag)\n",
      "5  B000084ESL  KONG - Dental - Durable Rubber, Teeth and Gum ...\n",
      "6  B000084F04  sWheat Scoop Fast-Clumping All-Natural Cat Lit...\n",
      "7  B000084F2Q                   Aspen pet Cool Flow Pet Fountain\n",
      "8  B000084EN5                      TetraPond Floating Koi Sticks\n",
      "9  B00008DFGY  Frontline Plus for Dogs Small Dog (5-22 pounds...\n"
     ]
    }
   ],
   "source": [
    "top_ns_10 = n_recommendations[10][0]\n",
    "utilities.retrieve_recommendations(train, top_ns_10, mf_based=True)"
   ]
  },
  {
   "cell_type": "markdown",
   "id": "05a4eb24",
   "metadata": {},
   "source": [
    "## N=25"
   ]
  },
  {
   "cell_type": "code",
   "execution_count": 17,
   "id": "a17bb28a",
   "metadata": {},
   "outputs": [
    {
     "name": "stdout",
     "output_type": "stream",
     "text": [
      "For user: A2TE6RYAMG7MAA:\n",
      "Purchase History:\n",
      "             asin                                              title\n",
      "45912  B0017SZSI8      Pawsitively Gourmet Doughnut Cookies For Dogs\n",
      "48222  B001E52YO0   Nathan&#39;S Famous Hot Dog Treats, All Beef,...\n",
      "\n",
      "Recommending:\n",
      "\n",
      "          asin                                              title\n",
      "0   1223000893    Cat Sitter DVD Trilogy - Vol 1, Vol 2 and Vol 3\n",
      "1   B00005MF9V     LitterMaid Universal Cat Privacy Tent (LMT100)\n",
      "2   B00005MF9T              LitterMaid LM500 Automated Litter Box\n",
      "3   B00005MF9W  LitterMaid Waste Receptacles Automatic Litter ...\n",
      "4   B00006HI46                    Mutt Mitt Dog Waste Pick Up Bag\n",
      "5   B00006IX5A               Canine Hardware Chuckit! Tennis Ball\n",
      "6   B00006JHRE                    Lentek 6-Day Automatic Pet Dish\n",
      "7   B000084EXU  Nylabone Dental Chew Petit Original Flavored B...\n",
      "8   B000084EVX  Northeastern Products Cedarific Natural Cedar ...\n",
      "9   B000084F1Z      Natural Balance Limited Ingredient Dog Treats\n",
      "10  B000084F4N  Purina Pro Plan Savor Salmon &amp; Rice Formul...\n",
      "11  B000084EN5                      TetraPond Floating Koi Sticks\n",
      "12  B000084F80    Hartz Chew 'n Clean Bacon Flavored Dog Chew Toy\n",
      "13  B000084F3T     Pureness Giant Cat Litter Pan, Assorted Colors\n",
      "14  B00008DFK5      KONG - Easy Treat - Dog Treat Paste - 8 Ounce\n",
      "15  B00008DFOG                     Redbarn Pet Products Food Roll\n",
      "16  B0000BYDH7                    Nylabone FlexiChew Chicken Bone\n",
      "17  B0001ZWZ8O     PetSafe Wireless Fence Pet Containment Systems\n",
      "18  B00020SVDG                    Aqua Clear Power Filter - 110 V\n",
      "19  B00023D368  PetSafe Deluxe Bark Control Collar (PDBC-300) ...\n",
      "20  B000255NX2                  Python Brass Adapter for Aquarium\n",
      "21  B000255O2W                           Feeding Station for fish\n",
      "22  B000255OZ4  Filter-Max III Prefilter - for Aquariums over ...\n",
      "23  B000255OTA                          Zoo Med Basking Spot Lamp\n",
      "24  B000255P9E                          Seachem Neutral Regulator\n"
     ]
    }
   ],
   "source": [
    "top_ns_25 = n_recommendations[25][0]\n",
    "utilities.retrieve_recommendations(train, top_ns_25, mf_based=True)"
   ]
  },
  {
   "cell_type": "markdown",
   "id": "17584420",
   "metadata": {},
   "source": [
    "## N=30"
   ]
  },
  {
   "cell_type": "code",
   "execution_count": 18,
   "id": "4e1ed45d",
   "metadata": {},
   "outputs": [
    {
     "name": "stdout",
     "output_type": "stream",
     "text": [
      "For user: ATZAD00EIVTF4:\n",
      "Purchase History:\n",
      "             asin                                              title\n",
      "26187  B0006345PW       Hill's Science Diet Adult Oral Care Cat Food\n",
      "26473  B000634IBS           Purina Cat Chow Indoor Formula, 7-Pounds\n",
      "29118  B0007A67SC  Purina Moist &amp; Meaty Burger With Cheddar C...\n",
      "44025  B0012TYZ4K  Merrick Hungry Dog Value Pack, 2-Pound Bag, 1 Bag\n",
      "51569  B001QCKS4O   Purina Pro Plan Savor Shredded Blend Chicken ...\n",
      "54771  B002CJIPEK                     Purina Chef Michael'S Dog Food\n",
      "66120  B007KLK9WQ  Joy Pet 6-1/2-Inch Double Headed Tarter Remove...\n",
      "\n",
      "Recommending:\n",
      "\n",
      "          asin                                              title\n",
      "0   1223000893    Cat Sitter DVD Trilogy - Vol 1, Vol 2 and Vol 3\n",
      "1   B00005MF9U     LitterMaid LM900 Mega Self-Cleaning Litter Box\n",
      "2   B00005MF9V     LitterMaid Universal Cat Privacy Tent (LMT100)\n",
      "3   B00005OU62  LitterMaid LM700 Self-Cleaning Automatic Litte...\n",
      "4   B000062WUT                             Multipet Plush Dog Toy\n",
      "5   B000068GQ3  Nutri-Vet Hip &amp; Joint Regular Strength Che...\n",
      "6   B00006HI46                    Mutt Mitt Dog Waste Pick Up Bag\n",
      "7   B00006IV1S  BISSELL Pet Stain &amp; Odor Pretreat for Carp...\n",
      "8   B00006IX59                         Chuckit! Dog Ball Launcher\n",
      "9   B000084ET2                World's Best Cat Litter (17-lb bag)\n",
      "10  B000084ETV  Canidae Dry Dog Food For All Life Stages, Chic...\n",
      "11  B000084ESL  KONG - Dental - Durable Rubber, Teeth and Gum ...\n",
      "12  B000084ERH    Nylabone Galileo Original Flavored Dog Chew Toy\n",
      "13  B000084F39         Van Ness Small Litter Pan, Assorted Colors\n",
      "14  B000084F2Q                   Aspen pet Cool Flow Pet Fountain\n",
      "15  B00008DFTP  Purina Pro Plan Focus Small Breed Formula Adul...\n",
      "16  B00008DFPT     Oxbow Animal Health Oat Hay For Pets, 15-Ounce\n",
      "17  B0000BYDH7                    Nylabone FlexiChew Chicken Bone\n",
      "18  B000197Y8G                          KONG Biscuit Ball Dog Toy\n",
      "19  B00019JOSO                   Instant Ocean SeaTest Hydrometer\n",
      "20  B00023D368  PetSafe Deluxe Bark Control Collar (PDBC-300) ...\n",
      "21  B000255MZG         API STRESS COAT Aquarium Water Conditioner\n",
      "22  B000255MV0                                      Rena Air Pump\n",
      "23  B000255NIC         API AQUARIUM SALT Freshwater Aquarium Salt\n",
      "24  B000255NVE                   Python Aquarium Replacement Pump\n",
      "25  B000255NCI                               API Master Test Kits\n",
      "26  B000255O90  Wirezoll Perfecto Manufacturing APF33240 Glass...\n",
      "27  B000255QLG                     Seachem Flourish Tabs 10 Count\n",
      "28  B000255R3I                            Seachem ParaGuard 100ml\n",
      "29  B000255UR6  San Francisco Bay Brand/Sally's Freeze Dried B...\n"
     ]
    }
   ],
   "source": [
    "top_ns_30 = n_recommendations[30][0]\n",
    "utilities.retrieve_recommendations(train, top_ns_30, mf_based=True)"
   ]
  },
  {
   "cell_type": "markdown",
   "id": "456ce669",
   "metadata": {},
   "source": [
    "## N=45"
   ]
  },
  {
   "cell_type": "code",
   "execution_count": 19,
   "id": "4f34640d",
   "metadata": {},
   "outputs": [
    {
     "name": "stdout",
     "output_type": "stream",
     "text": [
      "For user: A2WR1ANKIO05ZF:\n",
      "Purchase History:\n",
      "             asin                                              title\n",
      "38867  B000MD3NLS  MidWest Homes for Pets Snap'y Fit Stainless St...\n",
      "\n",
      "Recommending:\n",
      "\n",
      "          asin                                              title\n",
      "0   B000065AAY              KONG Material Dog - Dr. Noys' Dog Toy\n",
      "1   B00006H388  Novartis Program Once-a-Month Flea Prevention ...\n",
      "2   B00006H38A  Program Oral Suspension For Cats 11-20 lbs, 6 ...\n",
      "3   B00006HI46                    Mutt Mitt Dog Waste Pick Up Bag\n",
      "4   B00006IV1S  BISSELL Pet Stain &amp; Odor Pretreat for Carp...\n",
      "5   B000084F04  sWheat Scoop Fast-Clumping All-Natural Cat Lit...\n",
      "6   B000084E66          Petmate 26124 Kitty Cap (Colors May Vary)\n",
      "7   B000084F6X   Arm &amp; Hammer Super Scoop Litter, Fresh Scent\n",
      "8   B00008DFGY  Frontline Plus for Dogs Small Dog (5-22 pounds...\n",
      "9   B00008Q2XX  VetriScience Laboratories Canine Plus Suppleme...\n",
      "10  B00009OLE2  Avoderm Natural Adult Dry Dog Food Chicken Mea...\n",
      "11  B0000BYDH7                    Nylabone FlexiChew Chicken Bone\n",
      "12  B0000CEPED  Nylabone Healthy Edibles Dog Chew Treat Bones ...\n",
      "13  B0000UOFHO         Ergo Systems Auto Pet Feeder, Medium, Gray\n",
      "14  B00019JOSO                   Instant Ocean SeaTest Hydrometer\n",
      "15  B0001BV0OI  Arm &amp; Hammer Super Scoop Clumping Litter, ...\n",
      "16  B0001MYNLY               Lentek Bark Free Dog Training Device\n",
      "17  B00020SVDG                    Aqua Clear Power Filter - 110 V\n",
      "18  B00023XCYG       LitterMaid LMC100 Litter Box Carpet (LMC100)\n",
      "19  B000255MPG                                 Freshwater Biozyme\n",
      "20  B000255MV0                                      Rena Air Pump\n",
      "21  B000255NVE                   Python Aquarium Replacement Pump\n",
      "22  B000255OTA                          Zoo Med Basking Spot Lamp\n",
      "23  B000255NXC  Python No Spill Clean and Fill Aquarium Mainte...\n",
      "24  B000255PJY                  Cichlid Lake Salt, 1 kg / 2.2 lbs\n",
      "25  B000255QLG                     Seachem Flourish Tabs 10 Count\n",
      "26  B000255PFS                   Seachem Neutral Regulator 1 Kilo\n",
      "27  B000255PJE                              Seachem Purigen 250ml\n",
      "28  B000255S00                      Seachem Matrix Carbon 1 Liter\n",
      "29  B000255UYY     Petromalt Sentry Malt Flavored Hairball Relief\n",
      "30  B000255QJS                             Seachem Flourish 500ml\n",
      "31  B0002563MM               Clear &amp; Flexible Air Line Tubing\n",
      "32  B00025642Q          Fluval Peat Granules, 500 Gram/17.6 Ounce\n",
      "33  B000255R5G                              Seachem Ammonia Alert\n",
      "34  B000256566  AquaClear Powerhead 20 - 110 V, 127 Gallons pe...\n",
      "35  B00025650W   Penn-Plax Bubble-Wall Air Diffuser for Aquariums\n",
      "36  B00025664C                POLYBIO POLY FILTER PAD 4 X 8&quot;\n",
      "37  B0002567XW  LAFEBER'S Original Flavor Avi-Cakes for Parake...\n",
      "38  B00025662Y  Mardel CopperSafe Fish Treatment (Freshwater/S...\n",
      "39  B0002568I6  Fluval Replacement 304, 404, 305, 405, 306 and...\n",
      "40  B0002567YQ  Fluval Suction Cups, (4) 4x12 mm and clips, (8...\n",
      "41  B0002568SG  Zoo Med ReptiSafe Instant Terrarium Water Cond...\n",
      "42  B0002568UE            Penn Plax Floating Aquarium Thermometer\n",
      "43  B0002567B4       Brand New Marineland Max-Jet 1200 Item #7280\n",
      "44  B00025694Y                 Neutral Regulator, 500 g / 1.1 lbs\n"
     ]
    }
   ],
   "source": [
    "top_ns_45 = n_recommendations[45][0]\n",
    "utilities.retrieve_recommendations(train, top_ns_45, mf_based=True)"
   ]
  },
  {
   "cell_type": "markdown",
   "id": "c14a87c6",
   "metadata": {},
   "source": [
    "# Cross-Analysis for Cold-Start Users (<= 2 Purchased Items)"
   ]
  },
  {
   "cell_type": "code",
   "execution_count": 20,
   "id": "828306f8",
   "metadata": {},
   "outputs": [],
   "source": [
    "cold_start_users = utilities.generate_cold_start_users(train)"
   ]
  },
  {
   "cell_type": "code",
   "execution_count": 21,
   "id": "bddd8c6b",
   "metadata": {},
   "outputs": [
    {
     "name": "stdout",
     "output_type": "stream",
     "text": [
      "The RANDOM has an average recall@10: 0.00018, average novelty@10: 0.91557\n",
      "The RANDOM has an average recall@25: 0.00054, average novelty@25: 0.92865\n",
      "The RANDOM has an average recall@30: 0.00072, average novelty@30: 0.93209\n",
      "The RANDOM has an average recall@45: 0.00120, average novelty@45: 0.93958\n"
     ]
    }
   ],
   "source": [
    "for n in tuple(zip([10, 25, 30, 45], [top_ns_10, top_ns_25, top_ns_30, top_ns_45])):\n",
    "    cold_start_top_ns = dict(filter(lambda x: x[0] in cold_start_users, n[1].items()))\n",
    "    # evaluate how well the recommended items predicted the future purchases\n",
    "    # on cold start users\n",
    "    n_recommended_items = (evaluate_model.\n",
    "                           evaluate_recommendations(model_name = 'RANDOM',\n",
    "                                                    top_ns = cold_start_top_ns,\n",
    "                                                    user_rating_history = test_user_history, \n",
    "                                                    item_popularity = item_popularity, \n",
    "                                                    n = n[0],\n",
    "                                                    mf_based = True))"
   ]
  },
  {
   "cell_type": "markdown",
   "id": "147129f1",
   "metadata": {},
   "source": [
    "# Generating Recommended Items DataFrame"
   ]
  },
  {
   "cell_type": "code",
   "execution_count": 22,
   "id": "da9723b5",
   "metadata": {},
   "outputs": [],
   "source": [
    "max_recommendations = (utilities\n",
    "                       .generate_recommendations_df(\n",
    "                           train, \n",
    "                           n_recommendations, \n",
    "                           \"RANDOM\", mf_based=True))"
   ]
  },
  {
   "cell_type": "markdown",
   "id": "83539a1a",
   "metadata": {},
   "source": [
    "# Store in `SQLite` DB"
   ]
  },
  {
   "cell_type": "code",
   "execution_count": 25,
   "id": "8665b16a",
   "metadata": {},
   "outputs": [],
   "source": [
    "engine = create_engine(\"sqlite:///recommender.db\", echo=True)"
   ]
  },
  {
   "cell_type": "code",
   "execution_count": 26,
   "id": "c9d16299",
   "metadata": {},
   "outputs": [
    {
     "name": "stdout",
     "output_type": "stream",
     "text": [
      "2021-09-28 19:50:35,098 INFO sqlalchemy.engine.Engine PRAGMA main.table_info(\"Pet_Supplies\")\n",
      "2021-09-28 19:50:35,099 INFO sqlalchemy.engine.Engine [raw sql] ()\n",
      "2021-09-28 19:50:35,414 INFO sqlalchemy.engine.Engine BEGIN (implicit)\n",
      "2021-09-28 19:50:39,586 INFO sqlalchemy.engine.Engine INSERT INTO \"Pet_Supplies\" (\"index\", \"reviewerID\", item_rank, asin, algorithm, title) VALUES (?, ?, ?, ?, ?, ?)\n",
      "2021-09-28 19:50:39,587 INFO sqlalchemy.engine.Engine [generated in 3.17510s] ((0, 'A04173782GDZSQ91AJ7OD', 0, 'B000062WUT', 'RANDOM', 'Multipet Plush Dog Toy'), (1, 'A04173782GDZSQ91AJ7OD', 1, 'B000068GQ3', 'RANDOM', 'Nutri-Vet Hip &amp; Joint Regular Strength Chewables for Dogs'), (2, 'A04173782GDZSQ91AJ7OD', 2, 'B00006IX5A', 'RANDOM', 'Canine Hardware Chuckit! Tennis Ball'), (3, 'A04173782GDZSQ91AJ7OD', 3, 'B00006OALW', 'RANDOM', 'PetSTEP Original Folding Pet Ramp'), (4, 'A04173782GDZSQ91AJ7OD', 4, 'B000084ETV', 'RANDOM', 'Canidae Dry Dog Food For All Life Stages, Chicken, Turkey, Lamb, And Fish, 30-Pound'), (5, 'A04173782GDZSQ91AJ7OD', 5, 'B000084F04', 'RANDOM', 'sWheat Scoop Fast-Clumping All-Natural Cat Litter, 40lb Bag'), (6, 'A04173782GDZSQ91AJ7OD', 6, 'B000084F39', 'RANDOM', 'Van Ness Small Litter Pan, Assorted Colors'), (7, 'A04173782GDZSQ91AJ7OD', 7, 'B00008434T', 'RANDOM', 'Ticked Off Pets Tick Remover, White')  ... displaying 10 of 857610 total bound parameter sets ...  (857608, 'AZZYW4YOE1B6E', 43, 'B00025694Y', 'RANDOM', 'Neutral Regulator, 500 g / 1.1 lbs'), (857609, 'AZZYW4YOE1B6E', 44, 'B000256CG4', 'RANDOM', 'AFC PETMATE 26317 Cat Crazies Cat Toy'))\n",
      "2021-09-28 19:50:45,101 INFO sqlalchemy.engine.Engine COMMIT\n",
      "2021-09-28 19:50:45,603 INFO sqlalchemy.engine.Engine SELECT name FROM sqlite_master WHERE type='table' ORDER BY name\n",
      "2021-09-28 19:50:45,603 INFO sqlalchemy.engine.Engine [raw sql] ()\n"
     ]
    }
   ],
   "source": [
    "max_recommendations.to_sql(f\"{CATEGORY}\", con=engine, if_exists=\"append\")"
   ]
  },
  {
   "cell_type": "code",
   "execution_count": null,
   "id": "21ffb609",
   "metadata": {},
   "outputs": [],
   "source": []
  }
 ],
 "metadata": {
  "kernelspec": {
   "display_name": "Python 3 (ipykernel)",
   "language": "python",
   "name": "python3"
  },
  "language_info": {
   "codemirror_mode": {
    "name": "ipython",
    "version": 3
   },
   "file_extension": ".py",
   "mimetype": "text/x-python",
   "name": "python",
   "nbconvert_exporter": "python",
   "pygments_lexer": "ipython3",
   "version": "3.9.6"
  }
 },
 "nbformat": 4,
 "nbformat_minor": 5
}
