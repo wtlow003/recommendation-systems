{
 "cells": [
  {
   "cell_type": "code",
   "execution_count": 32,
   "id": "8989ccfe",
   "metadata": {
    "scrolled": true
   },
   "outputs": [],
   "source": [
    "from pathlib import Path\n",
    "import pickle\n",
    "import warnings\n",
    "\n",
    "import gensim\n",
    "import numpy as np\n",
    "import pandas as pd\n",
    "from sqlalchemy import create_engine\n",
    "from surprise import Dataset, Reader\n",
    "from tqdm import tqdm\n",
    "\n",
    "from src.models import cf, evaluate_model, lda\n",
    "from src.utilities import utilities\n",
    "\n",
    "tqdm.pandas()\n",
    "warnings.filterwarnings('ignore')"
   ]
  },
  {
   "cell_type": "markdown",
   "id": "0fc6b5b6",
   "metadata": {},
   "source": [
    "# Load Data"
   ]
  },
  {
   "cell_type": "code",
   "execution_count": 2,
   "id": "10702db9",
   "metadata": {},
   "outputs": [],
   "source": [
    "# global variables\n",
    "DATA_PATH = \"data/evaluation\"\n",
    "CATEGORY = \"Pet_Supplies\"\n",
    "MODEL_PATH = Path(f\"models/saved_lda/{CATEGORY}_lda.model\")\n",
    "\n",
    "# LDA parameters\n",
    "EPOCHS = 10\n",
    "\n",
    "# training parameters\n",
    "N_EPOCHS = 5\n",
    "LR_ALL = 0.005\n",
    "BETA = 0.1\n",
    "\n",
    "# reproducibility checks\n",
    "SEED = 42\n",
    "np.random.seed(42)\n",
    "\n",
    "train = pd.read_csv(f\"{DATA_PATH}/{CATEGORY}_train.csv\")"
   ]
  },
  {
   "cell_type": "code",
   "execution_count": 3,
   "id": "8b501eea",
   "metadata": {},
   "outputs": [
    {
     "data": {
      "text/html": [
       "<div>\n",
       "<style scoped>\n",
       "    .dataframe tbody tr th:only-of-type {\n",
       "        vertical-align: middle;\n",
       "    }\n",
       "\n",
       "    .dataframe tbody tr th {\n",
       "        vertical-align: top;\n",
       "    }\n",
       "\n",
       "    .dataframe thead th {\n",
       "        text-align: right;\n",
       "    }\n",
       "</style>\n",
       "<table border=\"1\" class=\"dataframe\">\n",
       "  <thead>\n",
       "    <tr style=\"text-align: right;\">\n",
       "      <th></th>\n",
       "      <th>index</th>\n",
       "      <th>asin</th>\n",
       "      <th>title</th>\n",
       "      <th>categories</th>\n",
       "      <th>reviewerID</th>\n",
       "      <th>overall</th>\n",
       "      <th>reviewText</th>\n",
       "      <th>reviewTime</th>\n",
       "      <th>processedReviewText</th>\n",
       "    </tr>\n",
       "  </thead>\n",
       "  <tbody>\n",
       "    <tr>\n",
       "      <th>0</th>\n",
       "      <td>0</td>\n",
       "      <td>1223000893</td>\n",
       "      <td>Cat Sitter DVD Trilogy - Vol 1, Vol 2 and Vol 3</td>\n",
       "      <td>[]</td>\n",
       "      <td>A14CK12J7C7JRK</td>\n",
       "      <td>3.0</td>\n",
       "      <td>I purchased the Trilogy with hoping my two cat...</td>\n",
       "      <td>2011-01-12</td>\n",
       "      <td>purchase trilogy hop cat age interested yr old...</td>\n",
       "    </tr>\n",
       "    <tr>\n",
       "      <th>1</th>\n",
       "      <td>2</td>\n",
       "      <td>1223000893</td>\n",
       "      <td>Cat Sitter DVD Trilogy - Vol 1, Vol 2 and Vol 3</td>\n",
       "      <td>[]</td>\n",
       "      <td>A2CR37UY3VR7BN</td>\n",
       "      <td>4.0</td>\n",
       "      <td>I bought the triliogy and have tested out all ...</td>\n",
       "      <td>2012-12-19</td>\n",
       "      <td>buy triliogy test dvd appear volume receive re...</td>\n",
       "    </tr>\n",
       "    <tr>\n",
       "      <th>2</th>\n",
       "      <td>3</td>\n",
       "      <td>1223000893</td>\n",
       "      <td>Cat Sitter DVD Trilogy - Vol 1, Vol 2 and Vol 3</td>\n",
       "      <td>[]</td>\n",
       "      <td>A2A4COGL9VW2HY</td>\n",
       "      <td>4.0</td>\n",
       "      <td>My female kitty could care less about these vi...</td>\n",
       "      <td>2011-05-12</td>\n",
       "      <td>female kitty care video care little male dig a...</td>\n",
       "    </tr>\n",
       "    <tr>\n",
       "      <th>3</th>\n",
       "      <td>4</td>\n",
       "      <td>1223000893</td>\n",
       "      <td>Cat Sitter DVD Trilogy - Vol 1, Vol 2 and Vol 3</td>\n",
       "      <td>[]</td>\n",
       "      <td>A2UBQA85NIGLHA</td>\n",
       "      <td>3.0</td>\n",
       "      <td>If I had gotten just volume two, I would have ...</td>\n",
       "      <td>2012-03-05</td>\n",
       "      <td>volume star trilogy star read review know vol ...</td>\n",
       "    </tr>\n",
       "    <tr>\n",
       "      <th>4</th>\n",
       "      <td>5</td>\n",
       "      <td>B00005MF9U</td>\n",
       "      <td>LitterMaid LM900 Mega Self-Cleaning Litter Box</td>\n",
       "      <td>['Pet Supplies', 'Cats', 'Litter &amp;amp; Housebr...</td>\n",
       "      <td>A2BH04B9G9LOYA</td>\n",
       "      <td>1.0</td>\n",
       "      <td>First off, it seems that someone is spamming t...</td>\n",
       "      <td>2006-12-31</td>\n",
       "      <td>spamming review glow reviewer review amazon ba...</td>\n",
       "    </tr>\n",
       "    <tr>\n",
       "      <th>68865</th>\n",
       "      <td>111581</td>\n",
       "      <td>B00K3YPOO0</td>\n",
       "      <td>Brightest Black Light Flashlight on Amazon- UV...</td>\n",
       "      <td>[]</td>\n",
       "      <td>A11J1FHCK5U06J</td>\n",
       "      <td>4.0</td>\n",
       "      <td>Now I know exactly where the trouble spots are...</td>\n",
       "      <td>2014-05-23</td>\n",
       "      <td>know exactly trouble spot sniffing guess invis...</td>\n",
       "    </tr>\n",
       "    <tr>\n",
       "      <th>68866</th>\n",
       "      <td>111585</td>\n",
       "      <td>B00K3YPOO0</td>\n",
       "      <td>Brightest Black Light Flashlight on Amazon- UV...</td>\n",
       "      <td>[]</td>\n",
       "      <td>A18JF0T0GOCORW</td>\n",
       "      <td>4.0</td>\n",
       "      <td>I use this light to help me find stains when I...</td>\n",
       "      <td>2014-05-24</td>\n",
       "      <td>use light help stain carpet clean pre treat ca...</td>\n",
       "    </tr>\n",
       "    <tr>\n",
       "      <th>68867</th>\n",
       "      <td>111595</td>\n",
       "      <td>B00K7EG97C</td>\n",
       "      <td>Nutro Crunchy Dog Treats with Real Mixed Berri...</td>\n",
       "      <td>['Pet Supplies', 'Dogs', 'Treats', 'Cookies, B...</td>\n",
       "      <td>A3GRPCW9DG427Z</td>\n",
       "      <td>5.0</td>\n",
       "      <td>We are owned by the 3 pickiest pooches in the ...</td>\n",
       "      <td>2013-07-27</td>\n",
       "      <td>pickiest pooch world love fool reject doggie t...</td>\n",
       "    </tr>\n",
       "    <tr>\n",
       "      <th>68868</th>\n",
       "      <td>111598</td>\n",
       "      <td>B00K7EG97C</td>\n",
       "      <td>Nutro Crunchy Dog Treats with Real Mixed Berri...</td>\n",
       "      <td>['Pet Supplies', 'Dogs', 'Treats', 'Cookies, B...</td>\n",
       "      <td>A2X6TLAX3JEO1A</td>\n",
       "      <td>5.0</td>\n",
       "      <td>My highly allergic white boxer loves these tre...</td>\n",
       "      <td>2014-05-09</td>\n",
       "      <td>highly allergic white boxer love treat meat co...</td>\n",
       "    </tr>\n",
       "    <tr>\n",
       "      <th>68869</th>\n",
       "      <td>111602</td>\n",
       "      <td>B00KJGFGFO</td>\n",
       "      <td>Curry Brush with Coarse or Fine Bristles. High...</td>\n",
       "      <td>[]</td>\n",
       "      <td>A9PG9ODPPP31N</td>\n",
       "      <td>5.0</td>\n",
       "      <td>Works great on my medium sized dog. She has ve...</td>\n",
       "      <td>2014-07-09</td>\n",
       "      <td>work great medium size dog coarse hair work gr...</td>\n",
       "    </tr>\n",
       "  </tbody>\n",
       "</table>\n",
       "</div>"
      ],
      "text/plain": [
       "        index        asin                                              title  \\\n",
       "0           0  1223000893    Cat Sitter DVD Trilogy - Vol 1, Vol 2 and Vol 3   \n",
       "1           2  1223000893    Cat Sitter DVD Trilogy - Vol 1, Vol 2 and Vol 3   \n",
       "2           3  1223000893    Cat Sitter DVD Trilogy - Vol 1, Vol 2 and Vol 3   \n",
       "3           4  1223000893    Cat Sitter DVD Trilogy - Vol 1, Vol 2 and Vol 3   \n",
       "4           5  B00005MF9U     LitterMaid LM900 Mega Self-Cleaning Litter Box   \n",
       "68865  111581  B00K3YPOO0  Brightest Black Light Flashlight on Amazon- UV...   \n",
       "68866  111585  B00K3YPOO0  Brightest Black Light Flashlight on Amazon- UV...   \n",
       "68867  111595  B00K7EG97C  Nutro Crunchy Dog Treats with Real Mixed Berri...   \n",
       "68868  111598  B00K7EG97C  Nutro Crunchy Dog Treats with Real Mixed Berri...   \n",
       "68869  111602  B00KJGFGFO  Curry Brush with Coarse or Fine Bristles. High...   \n",
       "\n",
       "                                              categories      reviewerID  \\\n",
       "0                                                     []  A14CK12J7C7JRK   \n",
       "1                                                     []  A2CR37UY3VR7BN   \n",
       "2                                                     []  A2A4COGL9VW2HY   \n",
       "3                                                     []  A2UBQA85NIGLHA   \n",
       "4      ['Pet Supplies', 'Cats', 'Litter &amp; Housebr...  A2BH04B9G9LOYA   \n",
       "68865                                                 []  A11J1FHCK5U06J   \n",
       "68866                                                 []  A18JF0T0GOCORW   \n",
       "68867  ['Pet Supplies', 'Dogs', 'Treats', 'Cookies, B...  A3GRPCW9DG427Z   \n",
       "68868  ['Pet Supplies', 'Dogs', 'Treats', 'Cookies, B...  A2X6TLAX3JEO1A   \n",
       "68869                                                 []   A9PG9ODPPP31N   \n",
       "\n",
       "       overall                                         reviewText  reviewTime  \\\n",
       "0          3.0  I purchased the Trilogy with hoping my two cat...  2011-01-12   \n",
       "1          4.0  I bought the triliogy and have tested out all ...  2012-12-19   \n",
       "2          4.0  My female kitty could care less about these vi...  2011-05-12   \n",
       "3          3.0  If I had gotten just volume two, I would have ...  2012-03-05   \n",
       "4          1.0  First off, it seems that someone is spamming t...  2006-12-31   \n",
       "68865      4.0  Now I know exactly where the trouble spots are...  2014-05-23   \n",
       "68866      4.0  I use this light to help me find stains when I...  2014-05-24   \n",
       "68867      5.0  We are owned by the 3 pickiest pooches in the ...  2013-07-27   \n",
       "68868      5.0  My highly allergic white boxer loves these tre...  2014-05-09   \n",
       "68869      5.0  Works great on my medium sized dog. She has ve...  2014-07-09   \n",
       "\n",
       "                                     processedReviewText  \n",
       "0      purchase trilogy hop cat age interested yr old...  \n",
       "1      buy triliogy test dvd appear volume receive re...  \n",
       "2      female kitty care video care little male dig a...  \n",
       "3      volume star trilogy star read review know vol ...  \n",
       "4      spamming review glow reviewer review amazon ba...  \n",
       "68865  know exactly trouble spot sniffing guess invis...  \n",
       "68866  use light help stain carpet clean pre treat ca...  \n",
       "68867  pickiest pooch world love fool reject doggie t...  \n",
       "68868  highly allergic white boxer love treat meat co...  \n",
       "68869  work great medium size dog coarse hair work gr...  "
      ]
     },
     "execution_count": 3,
     "metadata": {},
     "output_type": "execute_result"
    }
   ],
   "source": [
    "# checking train dataframe\n",
    "train.head().append(train.tail())"
   ]
  },
  {
   "cell_type": "markdown",
   "id": "7f7cc66e",
   "metadata": {},
   "source": [
    "# Preparing Topic Vectors [Train/Load]"
   ]
  },
  {
   "cell_type": "code",
   "execution_count": 4,
   "id": "df05785c",
   "metadata": {},
   "outputs": [],
   "source": [
    "# # generating tokenized reviews\n",
    "# processed_reviews = train[\"processedReviewText\"].apply(lambda x: x.split())"
   ]
  },
  {
   "cell_type": "code",
   "execution_count": 5,
   "id": "928d28c4",
   "metadata": {},
   "outputs": [],
   "source": [
    "# # instantiate lda model\n",
    "# lda_model = lda.LDA(reviews=processed_reviews, n_epochs=EPOCHS)"
   ]
  },
  {
   "cell_type": "code",
   "execution_count": 6,
   "id": "5b80e17d",
   "metadata": {
    "scrolled": true
   },
   "outputs": [],
   "source": [
    "# %%time\n",
    "# # training the LDA model\n",
    "# lda_model.train()"
   ]
  },
  {
   "cell_type": "code",
   "execution_count": 7,
   "id": "f10037d7",
   "metadata": {},
   "outputs": [],
   "source": [
    "# # save model\n",
    "# pickle.dump(lda_model, open(MODEL_PATH, \"wb\"))"
   ]
  },
  {
   "cell_type": "markdown",
   "id": "f2ee6aeb",
   "metadata": {},
   "source": [
    "## Load Trained LDA Model"
   ]
  },
  {
   "cell_type": "code",
   "execution_count": 8,
   "id": "f8d6cb5b",
   "metadata": {},
   "outputs": [],
   "source": [
    "lda_model = pickle.load(open(MODEL_PATH, \"rb\"))"
   ]
  },
  {
   "cell_type": "markdown",
   "id": "53537751",
   "metadata": {},
   "source": [
    "# Generating User/Item Topic Vectors"
   ]
  },
  {
   "cell_type": "code",
   "execution_count": 9,
   "id": "5e0d386e",
   "metadata": {},
   "outputs": [
    {
     "name": "stderr",
     "output_type": "stream",
     "text": [
      "100%|████████████████████████████████████████████| 19058/19058 [00:14<00:00, 1336.99it/s]\n",
      "100%|███████████████████████████████████████████████| 4878/4878 [00:05<00:00, 909.56it/s]\n"
     ]
    }
   ],
   "source": [
    "user_idx_map, user_vecs, item_idx_map, item_vecs = utilities.generate_user_item_vectors(lda_model, train)"
   ]
  },
  {
   "cell_type": "code",
   "execution_count": 10,
   "id": "9e9bebb5",
   "metadata": {},
   "outputs": [],
   "source": [
    "# converting factors into numpy obj\n",
    "user_factors = user_vecs.to_numpy()\n",
    "item_factors = item_vecs.to_numpy()"
   ]
  },
  {
   "cell_type": "code",
   "execution_count": 11,
   "id": "549515a7",
   "metadata": {},
   "outputs": [
    {
     "data": {
      "text/plain": [
       "array([0.00036381, 0.00036381, 0.00036381, 0.00036381, 0.14345573,\n",
       "       0.00036381, 0.00036381, 0.00036381, 0.00036381, 0.00036381,\n",
       "       0.00036381, 0.00036381, 0.00036381, 0.14020865, 0.00036381,\n",
       "       0.00036381, 0.00036381, 0.16489097, 0.00036381, 0.24272475,\n",
       "       0.08820931, 0.10163331, 0.00036381, 0.00036381, 0.00036381,\n",
       "       0.00036381, 0.00036381, 0.00036381, 0.00036381, 0.00036381,\n",
       "       0.00036381, 0.00036381, 0.00036381, 0.00036381, 0.00036381,\n",
       "       0.00036381, 0.00036381, 0.00036381, 0.00036381, 0.00036381,\n",
       "       0.00036381, 0.00036381, 0.10323327, 0.00036381, 0.00036381,\n",
       "       0.00036381, 0.00036381, 0.00036381, 0.00036381, 0.00036381],\n",
       "      dtype=float32)"
      ]
     },
     "execution_count": 11,
     "metadata": {},
     "output_type": "execute_result"
    }
   ],
   "source": [
    "# check user factors\n",
    "user_factors[0,:]"
   ]
  },
  {
   "cell_type": "code",
   "execution_count": 12,
   "id": "9d06c7c4",
   "metadata": {},
   "outputs": [
    {
     "data": {
      "text/plain": [
       "array([9.5528401e-02, 1.4507551e-04, 1.4507551e-04, 1.4507551e-04,\n",
       "       1.4507551e-04, 1.4507551e-04, 1.4507551e-04, 1.4507551e-04,\n",
       "       1.4507551e-04, 2.3869988e-02, 1.4507551e-04, 1.4507551e-04,\n",
       "       1.4507551e-04, 1.4507551e-04, 1.4507551e-04, 1.4507551e-04,\n",
       "       2.5293065e-02, 1.4507551e-04, 5.4683823e-02, 1.4507551e-04,\n",
       "       1.4507551e-04, 1.2912405e-01, 1.4507551e-04, 1.4507551e-04,\n",
       "       1.4507551e-04, 1.4507551e-04, 4.9176782e-02, 1.8134082e-02,\n",
       "       4.2473695e-01, 1.4507551e-04, 1.4507551e-04, 1.4507551e-04,\n",
       "       1.4507551e-04, 1.4507551e-04, 1.4507551e-04, 7.6067477e-02,\n",
       "       7.1464084e-02, 1.4507551e-04, 1.4507551e-04, 1.4507551e-04,\n",
       "       1.4507551e-04, 1.4507551e-04, 1.4507551e-04, 1.4507551e-04,\n",
       "       1.4507551e-04, 1.4507551e-04, 1.4507551e-04, 2.6263399e-02,\n",
       "       1.4507551e-04, 1.4507551e-04], dtype=float32)"
      ]
     },
     "execution_count": 12,
     "metadata": {},
     "output_type": "execute_result"
    }
   ],
   "source": [
    "# check item factors\n",
    "item_factors[0,:]"
   ]
  },
  {
   "cell_type": "markdown",
   "id": "ea420a3f",
   "metadata": {},
   "source": [
    "# Generate N-Recommendations = {10, 25, 30, 45}"
   ]
  },
  {
   "cell_type": "markdown",
   "id": "057aa77f",
   "metadata": {},
   "source": [
    "## Load Test Data"
   ]
  },
  {
   "cell_type": "code",
   "execution_count": 13,
   "id": "52c2f6aa",
   "metadata": {},
   "outputs": [],
   "source": [
    "test = pd.read_csv(f\"{DATA_PATH}/{CATEGORY}_test.csv\")"
   ]
  },
  {
   "cell_type": "code",
   "execution_count": 14,
   "id": "84c8e1d6",
   "metadata": {},
   "outputs": [
    {
     "data": {
      "text/html": [
       "<div>\n",
       "<style scoped>\n",
       "    .dataframe tbody tr th:only-of-type {\n",
       "        vertical-align: middle;\n",
       "    }\n",
       "\n",
       "    .dataframe tbody tr th {\n",
       "        vertical-align: top;\n",
       "    }\n",
       "\n",
       "    .dataframe thead th {\n",
       "        text-align: right;\n",
       "    }\n",
       "</style>\n",
       "<table border=\"1\" class=\"dataframe\">\n",
       "  <thead>\n",
       "    <tr style=\"text-align: right;\">\n",
       "      <th></th>\n",
       "      <th>index</th>\n",
       "      <th>asin</th>\n",
       "      <th>title</th>\n",
       "      <th>categories</th>\n",
       "      <th>reviewerID</th>\n",
       "      <th>overall</th>\n",
       "      <th>reviewText</th>\n",
       "      <th>reviewTime</th>\n",
       "      <th>processedReviewText</th>\n",
       "    </tr>\n",
       "  </thead>\n",
       "  <tbody>\n",
       "    <tr>\n",
       "      <th>0</th>\n",
       "      <td>1</td>\n",
       "      <td>1223000893</td>\n",
       "      <td>Cat Sitter DVD Trilogy - Vol 1, Vol 2 and Vol 3</td>\n",
       "      <td>[]</td>\n",
       "      <td>A39QHP5WLON5HV</td>\n",
       "      <td>5.0</td>\n",
       "      <td>There are usually one or more of my cats watch...</td>\n",
       "      <td>2013-09-14</td>\n",
       "      <td>usually cat watch tv stay trouble dvd play lik...</td>\n",
       "    </tr>\n",
       "    <tr>\n",
       "      <th>1</th>\n",
       "      <td>104</td>\n",
       "      <td>B00005MF9V</td>\n",
       "      <td>LitterMaid Universal Cat Privacy Tent (LMT100)</td>\n",
       "      <td>['Pet Supplies', 'Cats', 'Litter &amp; Housebreaki...</td>\n",
       "      <td>A366V0GCEPH5CX</td>\n",
       "      <td>5.0</td>\n",
       "      <td>My cats love it and so do I. I no longer have ...</td>\n",
       "      <td>2013-02-02</td>\n",
       "      <td>cat love longer cat litter fly floor litter fl...</td>\n",
       "    </tr>\n",
       "    <tr>\n",
       "      <th>2</th>\n",
       "      <td>133</td>\n",
       "      <td>B00005MF9T</td>\n",
       "      <td>LitterMaid LM500 Automated Litter Box</td>\n",
       "      <td>['Pet Supplies', 'Cats', 'Litter &amp; Housebreaki...</td>\n",
       "      <td>ALWWS8QBYN80B</td>\n",
       "      <td>1.0</td>\n",
       "      <td>I have one female cat that weighs under 10 pou...</td>\n",
       "      <td>2004-11-17</td>\n",
       "      <td>female cat weigh pound year old use everclean ...</td>\n",
       "    </tr>\n",
       "    <tr>\n",
       "      <th>3</th>\n",
       "      <td>153</td>\n",
       "      <td>B00005MF9W</td>\n",
       "      <td>LitterMaid Waste Receptacles Automatic Litter ...</td>\n",
       "      <td>['Pet Supplies', 'Cats', 'Litter &amp; Housebreaki...</td>\n",
       "      <td>A3PVI3NE7OY1SP</td>\n",
       "      <td>5.0</td>\n",
       "      <td>I love these. They make the clean up so much e...</td>\n",
       "      <td>2013-09-26</td>\n",
       "      <td>love clean easy clean box manually use issue w...</td>\n",
       "    </tr>\n",
       "    <tr>\n",
       "      <th>4</th>\n",
       "      <td>154</td>\n",
       "      <td>B00005MF9W</td>\n",
       "      <td>LitterMaid Waste Receptacles Automatic Litter ...</td>\n",
       "      <td>['Pet Supplies', 'Cats', 'Litter &amp; Housebreaki...</td>\n",
       "      <td>A2H83XMHUVDLJY</td>\n",
       "      <td>4.0</td>\n",
       "      <td>I love this litter box. I do not use the lids,...</td>\n",
       "      <td>2014-06-26</td>\n",
       "      <td>love litter box use lid use receptacle tear cr...</td>\n",
       "    </tr>\n",
       "    <tr>\n",
       "      <th>41564</th>\n",
       "      <td>111601</td>\n",
       "      <td>B00KJGFGFO</td>\n",
       "      <td>Curry Brush with Coarse or Fine Bristles. High...</td>\n",
       "      <td>[]</td>\n",
       "      <td>AV34KNYW82YSS</td>\n",
       "      <td>4.0</td>\n",
       "      <td>Pulled lots of hair out of my Labs coat. Didn'...</td>\n",
       "      <td>2014-07-18</td>\n",
       "      <td>pulled lot hair labs coat think prove wrong co...</td>\n",
       "    </tr>\n",
       "    <tr>\n",
       "      <th>41565</th>\n",
       "      <td>111603</td>\n",
       "      <td>B00KJGFGFO</td>\n",
       "      <td>Curry Brush with Coarse or Fine Bristles. High...</td>\n",
       "      <td>[]</td>\n",
       "      <td>A1YMNTFLNDYQ1F</td>\n",
       "      <td>5.0</td>\n",
       "      <td>I have been trying to find a rubber bristle br...</td>\n",
       "      <td>2014-07-16</td>\n",
       "      <td>try rubber bristle brush persian year lose glo...</td>\n",
       "    </tr>\n",
       "    <tr>\n",
       "      <th>41566</th>\n",
       "      <td>111604</td>\n",
       "      <td>B00KJGFGFO</td>\n",
       "      <td>Curry Brush with Coarse or Fine Bristles. High...</td>\n",
       "      <td>[]</td>\n",
       "      <td>A1FQ3HRVXA4A5B</td>\n",
       "      <td>5.0</td>\n",
       "      <td>Great product to use on your pets knowing this...</td>\n",
       "      <td>2014-07-11</td>\n",
       "      <td>great product use pet know gentle rubber damag...</td>\n",
       "    </tr>\n",
       "    <tr>\n",
       "      <th>41567</th>\n",
       "      <td>111605</td>\n",
       "      <td>B00KJGFGFO</td>\n",
       "      <td>Curry Brush with Coarse or Fine Bristles. High...</td>\n",
       "      <td>[]</td>\n",
       "      <td>A3OP6CI0XCRQXO</td>\n",
       "      <td>5.0</td>\n",
       "      <td>I bought a second one because I have two cats ...</td>\n",
       "      <td>2014-07-22</td>\n",
       "      <td>buy second cat american short hair buy brush m...</td>\n",
       "    </tr>\n",
       "    <tr>\n",
       "      <th>41568</th>\n",
       "      <td>111606</td>\n",
       "      <td>B00KJGFGFO</td>\n",
       "      <td>Curry Brush with Coarse or Fine Bristles. High...</td>\n",
       "      <td>[]</td>\n",
       "      <td>A11LC938XF35XN</td>\n",
       "      <td>5.0</td>\n",
       "      <td>Our dogs love getting brushed with this.  It m...</td>\n",
       "      <td>2014-07-17</td>\n",
       "      <td>dog love brush massage remove heavy undercoat ...</td>\n",
       "    </tr>\n",
       "  </tbody>\n",
       "</table>\n",
       "</div>"
      ],
      "text/plain": [
       "        index        asin                                              title  \\\n",
       "0           1  1223000893    Cat Sitter DVD Trilogy - Vol 1, Vol 2 and Vol 3   \n",
       "1         104  B00005MF9V     LitterMaid Universal Cat Privacy Tent (LMT100)   \n",
       "2         133  B00005MF9T              LitterMaid LM500 Automated Litter Box   \n",
       "3         153  B00005MF9W  LitterMaid Waste Receptacles Automatic Litter ...   \n",
       "4         154  B00005MF9W  LitterMaid Waste Receptacles Automatic Litter ...   \n",
       "41564  111601  B00KJGFGFO  Curry Brush with Coarse or Fine Bristles. High...   \n",
       "41565  111603  B00KJGFGFO  Curry Brush with Coarse or Fine Bristles. High...   \n",
       "41566  111604  B00KJGFGFO  Curry Brush with Coarse or Fine Bristles. High...   \n",
       "41567  111605  B00KJGFGFO  Curry Brush with Coarse or Fine Bristles. High...   \n",
       "41568  111606  B00KJGFGFO  Curry Brush with Coarse or Fine Bristles. High...   \n",
       "\n",
       "                                              categories      reviewerID  \\\n",
       "0                                                     []  A39QHP5WLON5HV   \n",
       "1      ['Pet Supplies', 'Cats', 'Litter & Housebreaki...  A366V0GCEPH5CX   \n",
       "2      ['Pet Supplies', 'Cats', 'Litter & Housebreaki...   ALWWS8QBYN80B   \n",
       "3      ['Pet Supplies', 'Cats', 'Litter & Housebreaki...  A3PVI3NE7OY1SP   \n",
       "4      ['Pet Supplies', 'Cats', 'Litter & Housebreaki...  A2H83XMHUVDLJY   \n",
       "41564                                                 []   AV34KNYW82YSS   \n",
       "41565                                                 []  A1YMNTFLNDYQ1F   \n",
       "41566                                                 []  A1FQ3HRVXA4A5B   \n",
       "41567                                                 []  A3OP6CI0XCRQXO   \n",
       "41568                                                 []  A11LC938XF35XN   \n",
       "\n",
       "       overall                                         reviewText  reviewTime  \\\n",
       "0          5.0  There are usually one or more of my cats watch...  2013-09-14   \n",
       "1          5.0  My cats love it and so do I. I no longer have ...  2013-02-02   \n",
       "2          1.0  I have one female cat that weighs under 10 pou...  2004-11-17   \n",
       "3          5.0  I love these. They make the clean up so much e...  2013-09-26   \n",
       "4          4.0  I love this litter box. I do not use the lids,...  2014-06-26   \n",
       "41564      4.0  Pulled lots of hair out of my Labs coat. Didn'...  2014-07-18   \n",
       "41565      5.0  I have been trying to find a rubber bristle br...  2014-07-16   \n",
       "41566      5.0  Great product to use on your pets knowing this...  2014-07-11   \n",
       "41567      5.0  I bought a second one because I have two cats ...  2014-07-22   \n",
       "41568      5.0  Our dogs love getting brushed with this.  It m...  2014-07-17   \n",
       "\n",
       "                                     processedReviewText  \n",
       "0      usually cat watch tv stay trouble dvd play lik...  \n",
       "1      cat love longer cat litter fly floor litter fl...  \n",
       "2      female cat weigh pound year old use everclean ...  \n",
       "3      love clean easy clean box manually use issue w...  \n",
       "4      love litter box use lid use receptacle tear cr...  \n",
       "41564  pulled lot hair labs coat think prove wrong co...  \n",
       "41565  try rubber bristle brush persian year lose glo...  \n",
       "41566  great product use pet know gentle rubber damag...  \n",
       "41567  buy second cat american short hair buy brush m...  \n",
       "41568  dog love brush massage remove heavy undercoat ...  "
      ]
     },
     "execution_count": 14,
     "metadata": {},
     "output_type": "execute_result"
    }
   ],
   "source": [
    "test.head().append(test.tail())"
   ]
  },
  {
   "cell_type": "code",
   "execution_count": 15,
   "id": "fea6fb93",
   "metadata": {},
   "outputs": [],
   "source": [
    "# generating test history\n",
    "test_user_history = (pd.DataFrame(test.groupby(['reviewerID'])['asin']\n",
    "                                  .apply(list).reset_index()))"
   ]
  },
  {
   "cell_type": "code",
   "execution_count": 16,
   "id": "f9b316c6",
   "metadata": {},
   "outputs": [
    {
     "name": "stdout",
     "output_type": "stream",
     "text": [
      "                  reviewerID                                  asin\n",
      "0      A04173782GDZSQ91AJ7OD              [B0090Z9AYS, B00CPDWT2M]\n",
      "1      A042274212BJJVOBS4Q85              [B005AZ4M3Q, B00771WQIY]\n",
      "2       A0436342QLT4257JODYJ  [B0018CDR68, B003SJTM8Q, B00474A3DY]\n",
      "3      A04795073FIBKY8GSLZYI              [B001PKT30M, B005DGI2RY]\n",
      "4      A06658082A27F4VB5UG8E              [B000TZ1TTM, B0019VUHH0]\n",
      "...                      ...                                   ...\n",
      "18993          AZYJE40XW6MFG              [B00HVAKJZS, B00IDZT294]\n",
      "18994          AZZ56WF4X19G2                          [B004A7X218]\n",
      "18995          AZZNK89PXD006  [B0002DHV16, B005BP8MQ8, B009RTX4SU]\n",
      "18996          AZZV9PDNMCOZW              [B007EQL390, B00ISBWVT6]\n",
      "18997          AZZYW4YOE1B6E  [B0002AQPA2, B0002AQPA2, B0002ARQV4]\n",
      "\n",
      "[18998 rows x 2 columns]\n"
     ]
    }
   ],
   "source": [
    "print(test_user_history)"
   ]
  },
  {
   "cell_type": "markdown",
   "id": "3e74b499",
   "metadata": {},
   "source": [
    "## Preparing Dataset for Surprise's Algorithm"
   ]
  },
  {
   "cell_type": "code",
   "execution_count": 17,
   "id": "22d9e162",
   "metadata": {},
   "outputs": [],
   "source": [
    "# create reader\n",
    "reader = Reader(rating_scale=(1,5))\n",
    "# generate data required for surprise\n",
    "data = Dataset.load_from_df(train[[\"reviewerID\", \"asin\", \"overall\"]], reader)\n",
    "# generating trainset\n",
    "trainset = data.build_full_trainset()"
   ]
  },
  {
   "cell_type": "markdown",
   "id": "cc2c289d",
   "metadata": {},
   "source": [
    "## Instantiate Pre-Initialised Matrix Factorization (Topic Modelling)"
   ]
  },
  {
   "cell_type": "code",
   "execution_count": 18,
   "id": "6f59e06e",
   "metadata": {},
   "outputs": [],
   "source": [
    "# instantiating ti_mf\n",
    "ti_mf = cf.PreInitialisedMF(user_map=user_idx_map,\n",
    "                            item_map=item_idx_map,\n",
    "                            user_factor=user_factors,\n",
    "                            item_factor=item_factors,\n",
    "                            learning_rate=LR_ALL,\n",
    "                            beta=BETA,\n",
    "                            num_epochs=N_EPOCHS,\n",
    "                            num_factors=50)"
   ]
  },
  {
   "cell_type": "code",
   "execution_count": 19,
   "id": "cc866db5",
   "metadata": {},
   "outputs": [
    {
     "name": "stdout",
     "output_type": "stream",
     "text": [
      "Processing epoch 0\n",
      "Processing epoch 1\n",
      "Processing epoch 2\n",
      "Processing epoch 3\n",
      "Processing epoch 4\n",
      "CPU times: user 2min 54s, sys: 898 ms, total: 2min 55s\n",
      "Wall time: 2min 56s\n"
     ]
    }
   ],
   "source": [
    "%%time\n",
    "# fitting to training data\n",
    "ti_mf.fit(trainset, verbose=True)"
   ]
  },
  {
   "cell_type": "code",
   "execution_count": 20,
   "id": "ab9b930d",
   "metadata": {},
   "outputs": [
    {
     "name": "stdout",
     "output_type": "stream",
     "text": [
      "CPU times: user 45.9 s, sys: 2.05 s, total: 48 s\n",
      "Wall time: 48.4 s\n"
     ]
    }
   ],
   "source": [
    "%%time\n",
    "# generate candidate items for user to predict rating\n",
    "testset = trainset.build_anti_testset()"
   ]
  },
  {
   "cell_type": "code",
   "execution_count": 21,
   "id": "c5a239a9",
   "metadata": {},
   "outputs": [
    {
     "name": "stdout",
     "output_type": "stream",
     "text": [
      "CPU times: user 11min 46s, sys: 4min 6s, total: 15min 53s\n",
      "Wall time: 17min 18s\n"
     ]
    }
   ],
   "source": [
    "%%time\n",
    "# predict ratings for all pairs (u, i) that are NOT in the training set\n",
    "candidate_items = ti_mf.test(testset, verbose=False)"
   ]
  },
  {
   "cell_type": "markdown",
   "id": "81f4fe03",
   "metadata": {},
   "source": [
    "## Save Model\n",
    "* Not adviced to save model due to long persistence time required to save model."
   ]
  },
  {
   "cell_type": "markdown",
   "id": "773e39b0",
   "metadata": {},
   "source": [
    "## Loop through N = {10, 25, 30, 45}"
   ]
  },
  {
   "cell_type": "code",
   "execution_count": 22,
   "id": "74a1d337",
   "metadata": {},
   "outputs": [],
   "source": [
    "# generate item popularity\n",
    "item_popularity = evaluate_model.generate_item_popularity(train)"
   ]
  },
  {
   "cell_type": "code",
   "execution_count": 23,
   "id": "cdfce793",
   "metadata": {},
   "outputs": [
    {
     "name": "stdout",
     "output_type": "stream",
     "text": [
      "The TI-MF has an average recall@10: 0.00498, average novelty@10: 0.92980\n",
      "The TI-MF has an average recall@25: 0.01086, average novelty@25: 0.93145\n",
      "The TI-MF has an average recall@30: 0.01300, average novelty@30: 0.93102\n",
      "The TI-MF has an average recall@45: 0.01919, average novelty@45: 0.93271\n"
     ]
    }
   ],
   "source": [
    "n_recommendations = {}\n",
    "for n in [10, 25, 30, 45]:\n",
    "    # retrieve the top-n items based on similarities\n",
    "    # top_ns = get_top_n(candidate_items, n)\n",
    "    top_ns = ti_mf.get_top_n(candidate_items, n)\n",
    "    # evaluate how well the recommended items predicted the future purchases\n",
    "    n_recommended_items = (evaluate_model.\n",
    "                           evaluate_recommendations(model_name = 'TI-MF',\n",
    "                                                    top_ns = top_ns,\n",
    "                                                    user_rating_history = test_user_history, \n",
    "                                                    item_popularity = item_popularity, \n",
    "                                                    n = n,\n",
    "                                                    mf_based = True))\n",
    "    # saving the n-value and recommended items\n",
    "    n_recommendations[n] = (top_ns, n_recommended_items)"
   ]
  },
  {
   "cell_type": "markdown",
   "id": "733a392d",
   "metadata": {},
   "source": [
    "# Evaluate N-Recommendations"
   ]
  },
  {
   "cell_type": "markdown",
   "id": "e936d5be",
   "metadata": {},
   "source": [
    "## N=10"
   ]
  },
  {
   "cell_type": "code",
   "execution_count": 24,
   "id": "2a97ac0d",
   "metadata": {},
   "outputs": [
    {
     "name": "stdout",
     "output_type": "stream",
     "text": [
      "For user: A3T87QAUUPTMZK:\n",
      "Purchase History:\n",
      "             asin                                              title\n",
      "43366  B0010OSIHW  Zoo Med Eco Earth Compressed Coconut Fiber Sub...\n",
      "45100  B00167VVP4   Zoo Med Eco Earth Loose Coconut Fiber Substra...\n",
      "46998  B0019IJXD2       Zoo Med Reptile Fogger Terrarium Humidifier \n",
      "\n",
      "Recommending:\n",
      "\n",
      "         asin                                              title\n",
      "0  B000MLHDS4  Wellness Pure Rewards Natural Grain Free Dog T...\n",
      "1  B000255P9E                          Seachem Neutral Regulator\n",
      "2  B001HN5Z4K  Bit-O-Luv Bistro Beef Recipe Dog Treats, 4.0-O...\n",
      "3  B000ILEIUE  Blue Dog Bakery | Dog Treats | All-Natural | P...\n",
      "4  B0012KB4D4  Purina Friskies Gravy Sensations Wet Cat Food ...\n",
      "5  B000MLG4K2  Wellness Wellbites Soft Natural Dog Treats, Tu...\n",
      "6  B000I82DU4                 Milk-Bone Flavor Snacks Dog Treats\n",
      "7  B0002QX3SS          Bamboo  Combat Extreme Flying-Cow Dog Toy\n",
      "8  B000N5Z5YI                  Merrick Lamb Hold EMS Filets 8 Oz\n",
      "9  B00BC3ZB2G  BRAVO 294121 Freeze Dried Buffalo Meat Trainin...\n"
     ]
    }
   ],
   "source": [
    "top_ns_10 = n_recommendations[10][0]\n",
    "utilities.retrieve_recommendations(train, top_ns_10, mf_based=True)"
   ]
  },
  {
   "cell_type": "markdown",
   "id": "8fc28d45",
   "metadata": {},
   "source": [
    "## N=25"
   ]
  },
  {
   "cell_type": "code",
   "execution_count": 25,
   "id": "ad7a350d",
   "metadata": {},
   "outputs": [
    {
     "name": "stdout",
     "output_type": "stream",
     "text": [
      "For user: A1XEZIHQIUAOR1:\n",
      "Purchase History:\n",
      "             asin                                              title\n",
      "1487   B000084E6V                      Nylabone Dental Dinosaur Chew\n",
      "1727   B000084E6V                      Nylabone Dental Dinosaur Chew\n",
      "28789  B0006VMN4O  Pioneer Pet SmartCat Peek-A-Prize Toy Box with...\n",
      "37658  B000JZ1WSU                     SmartCat 3836 Tick Tock Teaser\n",
      "42603  B000XZDV44  Hill'S Science Diet Kitten Savory Salmon Entre...\n",
      "43867  B0012KCUOG  Whisker Lickin'S Soft &amp; Delicious Chicken ...\n",
      "\n",
      "Recommending:\n",
      "\n",
      "          asin                                              title\n",
      "0   B0002AQL5G  API REPLACEMENT TEST TUBES WITH CAPS For Any A...\n",
      "1   B000HHSLEI                        Pet Stages Mini Jingle Cage\n",
      "2   B000255MZG         API STRESS COAT Aquarium Water Conditioner\n",
      "3   B0002DI1W4  CO2 Natural Plant System Bubble Counter with S...\n",
      "4   B000YIYSH4  Acurel Premium Activated Filter Carbon Granule...\n",
      "5   B0002563MM               Clear &amp; Flexible Air Line Tubing\n",
      "6   B0002565SY  Marineland Rite-Size Penguin Power Filter Cart...\n",
      "7   B003JFRQQ4  Scaredy Cut Tiny Trim by Small Pet Grooming Sa...\n",
      "8   B001CZXZEU      Fluval External Power Filter Pre-Filter Media\n",
      "9   B000F4AVPA                                Chuckit! Ultra Ball\n",
      "10  B0002565Q6  MarineLand Micron Cartridge, Fits Magnum Canis...\n",
      "11  B0002Z7VAK  EHEIM Substrat Pro Biological Filter Media (Si...\n",
      "12  B0002A5VWK                            Seachem Cuprisorb 100ml\n",
      "13  B0002DJVQY   JW Pet Company Activitoys Triple Mirror Bird Toy\n",
      "14  B0002567GE  Twin Miami Fur Mice - 4&quot; X 4.75&quot; X 1...\n",
      "15  B00025YUR2     Marineland Magnum Dual Purpose Canister Filter\n",
      "16  B001LNUKE6                Purebites Cheddar Cheese Dog Treats\n",
      "17  B0002DHPDA                          Fluker's Cricket Quencher\n",
      "18  B0002566H4               Nylabone Original Dura Chew Dog Chew\n",
      "19  B0002563S6          Magic Coat Cat Tearless Shampoo, 12-Ounce\n",
      "20  B0002DHNY6  KONG - Snacks - All Natural Dog Treats (Best U...\n",
      "21  B000NRS31S  Marineland Polishing Filter Pads for Canister ...\n",
      "22  B000255PJY                  Cichlid Lake Salt, 1 kg / 2.2 lbs\n",
      "23  B0002AROVQ                         Marshall Ferret Litter Pan\n",
      "24  B0060QJ48C                            Fluval 306/406 Bio-Foam\n"
     ]
    }
   ],
   "source": [
    "top_ns_25 = n_recommendations[25][0]\n",
    "utilities.retrieve_recommendations(train, top_ns_25, mf_based=True)"
   ]
  },
  {
   "cell_type": "markdown",
   "id": "2adc3b85",
   "metadata": {},
   "source": [
    "## N=30"
   ]
  },
  {
   "cell_type": "code",
   "execution_count": 26,
   "id": "db0a60a2",
   "metadata": {},
   "outputs": [
    {
     "name": "stdout",
     "output_type": "stream",
     "text": [
      "For user: A89LQAXW1IY6S:\n",
      "Purchase History:\n",
      "             asin                                              title\n",
      "12819  B0002ARP2O  Marshall Ferret Deluxe Leisure Lounge, Pattern...\n",
      "12825  B0002ARP2O  Marshall Ferret Deluxe Leisure Lounge, Pattern...\n",
      "38837  B000MD3NLS  MidWest Homes for Pets Snap'y Fit Stainless St...\n",
      "42683  B000Y8UNAU  Pro Select Fleece Cat Perch Covers - Comfortab...\n",
      "46465  B0018CJZ32                         SmartCat Corner Litter Box\n",
      "\n",
      "Recommending:\n",
      "\n",
      "          asin                                              title\n",
      "0   B00290K0C2                LitterLocker Refill Cartridge 10 pk\n",
      "1   B001OQXEHK  Fresh Step Crystals, Premium Cat Litter, Scent...\n",
      "2   B001U8FOES                       Curvations Litter Scoop Size\n",
      "3   B004U8Z2YW  Arm &amp; Hammer Double Duty Clumping Litter, ...\n",
      "4   B008W8IC4I  Cat's Pride Fresh and Light Multi-Cat Premium ...\n",
      "5   B0014CHDYO  Breeze Tidy Cat Litter Pads 16.9&quot;x11.4&qu...\n",
      "6   B001HSMYSU   LitterMaid Ultimate Accessories Kit for Elite...\n",
      "7   B000NSGKYY                Litter Locker Refill Cartridge 5 pk\n",
      "8   B0015ZN54C                        Pureness Giant Litter Scoop\n",
      "9   B005KSHGW2  Purina Pro Plan Dog Toothbrush Stick Rubber Ma...\n",
      "10  B000EUC9J6  Northeastern Products Cedarific Natural Cedar ...\n",
      "11  B007Z8LBZI  Litter Genie Ultimate Cat Litter Disposal Syst...\n",
      "12  B000PKSW5A  Precious Cat Dr. Elsey's Kitten Attract Scoopa...\n",
      "13  B0002DHY4K  Tetra Whisper Power Filter for Aquariums, 3 Fi...\n",
      "14  B007Z8LBJE         LitterLocker 6-Pack Genie Refill Cartridge\n",
      "15  B0053FOGNO    Duranimals Durascoop Cat Litter Scoop, Assorted\n",
      "16  B0009YUI86  Blue Buffalo Life Protection Formula Natural A...\n",
      "17  B003JFRQQ4  Scaredy Cut Tiny Trim by Small Pet Grooming Sa...\n",
      "18  B0002DHCHO                                            Nemex 2\n",
      "19  B00J5VQSWE    Nyantomo Purr Fect Potty Hooded Box Starter Kit\n",
      "20  B001E52YO0   Nathan&#39;S Famous Hot Dog Treats, All Beef,...\n",
      "21  B0002AQPA2                                 KONG - Goodie Bone\n",
      "22  B001Q9EHIK   Lucky Champ Litter Champ Refill Liner - Singl...\n",
      "23  B004U8Z42C  Arm &amp; Hammer Double Duty Clumping Litter, ...\n",
      "24  B001F51MY2        Cats Rule Perfect Litter Mat Neutral Stripe\n",
      "25  B0019CZAZ8  Tidy Cat BREEZE Cat Refill Pads 16.9&quot; x 1...\n",
      "26  B004U369HQ  Forever Flap Kit for Improved Odor Control, In...\n",
      "27  B000084F3T     Pureness Giant Cat Litter Pan, Assorted Colors\n",
      "28  B00791W1T6  Blue Naturally Fresh Multi-Cat Clumping Cat Li...\n",
      "29  B001CQABOQ  Petmate Easyturn Stake with Cable Corkscrew Do...\n"
     ]
    }
   ],
   "source": [
    "top_ns_30 = n_recommendations[30][0]\n",
    "utilities.retrieve_recommendations(train, top_ns_30, mf_based=True)"
   ]
  },
  {
   "cell_type": "markdown",
   "id": "d2f8f8f8",
   "metadata": {},
   "source": [
    "## N=45"
   ]
  },
  {
   "cell_type": "code",
   "execution_count": 27,
   "id": "8daf6f5e",
   "metadata": {},
   "outputs": [
    {
     "name": "stdout",
     "output_type": "stream",
     "text": [
      "For user: A3C2ECIXEQ0YFQ:\n",
      "Purchase History:\n",
      "             asin                                              title\n",
      "30751  B0009YS4P0  Nutri-Vet Hip &amp; Joint Extra Strength Chewa...\n",
      "37067  B000IBRI2Y              Dog Dazer II Ultrasonic Dog Deterrent\n",
      "40175  B000OV4VAU                        Nutri-Vet Alaska Salmon Oil\n",
      "53623  B0029NQTI8  Pedigree Choice Cuts Variety Pack Lamb/Vegetab...\n",
      "\n",
      "Recommending:\n",
      "\n",
      "          asin                                              title\n",
      "0   B000F4AVPA                                Chuckit! Ultra Ball\n",
      "1   B001LNUKE6                Purebites Cheddar Cheese Dog Treats\n",
      "2   B000255MZG         API STRESS COAT Aquarium Water Conditioner\n",
      "3   B003JFRQQ4  Scaredy Cut Tiny Trim by Small Pet Grooming Sa...\n",
      "4   B0002DJVQY   JW Pet Company Activitoys Triple Mirror Bird Toy\n",
      "5   B0002AROVQ                         Marshall Ferret Litter Pan\n",
      "6   B00006IX59                         Chuckit! Dog Ball Launcher\n",
      "7   B0006JKCN0              KONG Frog Dog Toy, Extra Small, Green\n",
      "8   B0002563S6          Magic Coat Cat Tearless Shampoo, 12-Ounce\n",
      "9   B0017J8NDY  Mammoth Flossy Chews Cottonblend Color 5-Knot ...\n",
      "10  B00025YUR2     Marineland Magnum Dual Purpose Canister Filter\n",
      "11  B001B4TV2W                            Chuckit! Max Glow Ball,\n",
      "12  B001GS71KW  Precision Pet Petmate Soft Side Play Yard Heav...\n",
      "13  B0002XUJFG       Nature's Miracle Quick Results Training Pads\n",
      "14  B000062WUT                             Multipet Plush Dog Toy\n",
      "15  B00025646W  Kordon Methylene Blue-General Disease Preventi...\n",
      "16  B0002DHZ9Y  Python No Spill Clean and Fill Aquarium Gravel...\n",
      "17  B0017JFNNC                     Redbarn Naturals Bully Springs\n",
      "18  B000QSON4K  Greenies Pill Pockets Soft Dog Treats, Beef, C...\n",
      "19  B000K9JRH8  GoCat DaBird Feather Refill, Assorted Colors, ...\n",
      "20  B003BYQ100             Armarkat B5701 57-Inch Cat Tree, Ivory\n",
      "21  B000255P9E                          Seachem Neutral Regulator\n",
      "22  B0006L2VR8  Interpet Limited Superpet Critter Bath Powder ...\n",
      "23  B000255NX2                  Python Brass Adapter for Aquarium\n",
      "24  B000I82DU4                 Milk-Bone Flavor Snacks Dog Treats\n",
      "25  B0012KB4D4  Purina Friskies Gravy Sensations Wet Cat Food ...\n",
      "26  B000084ETV  Canidae Dry Dog Food For All Life Stages, Chic...\n",
      "27  B003O68ZH2  Petrageous Designs KaleidoROPE Dog Toy, 25&quo...\n",
      "28  B0002AS1CC                 Bergan Turbo Scratcher Accessories\n",
      "29  B00176CT5U  KONG Air Dog Squeakair Birthday Balls Dog Toy,...\n",
      "30  B004VBC0NE     Kong Cat Wobbler, Treat Dispensing Toy, Purple\n",
      "31  B0002ARWTA  Ethical Products Dog Cat Food Can Cover, 3.5-I...\n",
      "32  B000296N7S  Panacur C Canine Dewormer, Net Wt. 12 Grams, P...\n",
      "33  B0006JKO9W  Coralife 05692 Pure-Flo II 50-Gallon Per Day 4...\n",
      "34  B000BATJH4  Yummy Chummies Arctic Paws 4-Ounce Soft &amp; ...\n",
      "35  B0002AQL5G  API REPLACEMENT TEST TUBES WITH CAPS For Any A...\n",
      "36  B000A6UF4U     Gamma2 Vittles Vault Plus for Pet Food Storage\n",
      "37  B0002DK60E           Van Ness Sifting Enclosed Cat Litter Pan\n",
      "38  B0018CK0G8  Stella &amp; Chewy'S Freeze-Dried Dinner Patti...\n",
      "39  B003RFKXNE  Petstages Orka Rubber Tennis Ball Chew and Fet...\n",
      "40  B000BTL4KU  Ruff Dawg K9 Flyer Rubber Dog Toy Large Assort...\n",
      "41  B000FO1QOU  Tomlyn High Calorie Nutritional Gel for Puppie...\n",
      "42  B0042I5G2I       Outward Hound Tail Teaser Dog Flirt Pole Toy\n",
      "43  B0002AB9F8    Earthbath Hot Spot &amp; Itch Relief Spray Dogs\n",
      "44  B0002H3V5M  Outward Hound Kyjen  PP01131 PipSqueaks Duck T...\n"
     ]
    }
   ],
   "source": [
    "top_ns_45 = n_recommendations[45][0]\n",
    "utilities.retrieve_recommendations(train, top_ns_45, mf_based=True)"
   ]
  },
  {
   "cell_type": "markdown",
   "id": "554e3f7d",
   "metadata": {},
   "source": [
    "# Cross-Analysis for Cold-Start Users (<= 2 Purchased Items)"
   ]
  },
  {
   "cell_type": "code",
   "execution_count": 28,
   "id": "cb82f883",
   "metadata": {},
   "outputs": [],
   "source": [
    "cold_start_users = utilities.generate_cold_start_users(train)"
   ]
  },
  {
   "cell_type": "code",
   "execution_count": 29,
   "id": "572ef68d",
   "metadata": {},
   "outputs": [
    {
     "name": "stdout",
     "output_type": "stream",
     "text": [
      "The TI-MF has an average recall@10: 0.00452, average novelty@10: 0.92967\n",
      "The TI-MF has an average recall@25: 0.01138, average novelty@25: 0.93145\n",
      "The TI-MF has an average recall@30: 0.01367, average novelty@30: 0.93100\n",
      "The TI-MF has an average recall@45: 0.02107, average novelty@45: 0.93273\n"
     ]
    }
   ],
   "source": [
    "for n in tuple(zip([10, 25, 30, 45], [top_ns_10, top_ns_25, top_ns_30, top_ns_45])):\n",
    "    cold_start_top_ns = dict(filter(lambda x: x[0] in cold_start_users, n[1].items()))\n",
    "    # evaluate how well the recommended items predicted the future purchases\n",
    "    # on cold start users\n",
    "    n_recommended_items = (evaluate_model.\n",
    "                           evaluate_recommendations(model_name = 'TI-MF',\n",
    "                                                    top_ns = cold_start_top_ns,\n",
    "                                                    user_rating_history = test_user_history, \n",
    "                                                    item_popularity = item_popularity, \n",
    "                                                    n = n[0],\n",
    "                                                    mf_based = True))"
   ]
  },
  {
   "cell_type": "markdown",
   "id": "ced46a65",
   "metadata": {},
   "source": [
    "# Generating Recommended Items DataFrame"
   ]
  },
  {
   "cell_type": "code",
   "execution_count": 30,
   "id": "f14dbe72",
   "metadata": {},
   "outputs": [],
   "source": [
    "max_recommendations = (utilities\n",
    "                       .generate_recommendations_df(\n",
    "                           train, \n",
    "                           n_recommendations, \n",
    "                           \"TI-MF\", mf_based=True))"
   ]
  },
  {
   "cell_type": "code",
   "execution_count": 31,
   "id": "f74dc029",
   "metadata": {},
   "outputs": [
    {
     "data": {
      "text/html": [
       "<div>\n",
       "<style scoped>\n",
       "    .dataframe tbody tr th:only-of-type {\n",
       "        vertical-align: middle;\n",
       "    }\n",
       "\n",
       "    .dataframe tbody tr th {\n",
       "        vertical-align: top;\n",
       "    }\n",
       "\n",
       "    .dataframe thead th {\n",
       "        text-align: right;\n",
       "    }\n",
       "</style>\n",
       "<table border=\"1\" class=\"dataframe\">\n",
       "  <thead>\n",
       "    <tr style=\"text-align: right;\">\n",
       "      <th></th>\n",
       "      <th>reviewerID</th>\n",
       "      <th>item_rank</th>\n",
       "      <th>asin</th>\n",
       "      <th>algorithm</th>\n",
       "      <th>title</th>\n",
       "    </tr>\n",
       "  </thead>\n",
       "  <tbody>\n",
       "    <tr>\n",
       "      <th>0</th>\n",
       "      <td>A04173782GDZSQ91AJ7OD</td>\n",
       "      <td>0</td>\n",
       "      <td>B000255MZG</td>\n",
       "      <td>TI-MF</td>\n",
       "      <td>API STRESS COAT Aquarium Water Conditioner</td>\n",
       "    </tr>\n",
       "    <tr>\n",
       "      <th>1</th>\n",
       "      <td>A04173782GDZSQ91AJ7OD</td>\n",
       "      <td>1</td>\n",
       "      <td>B00025YUR2</td>\n",
       "      <td>TI-MF</td>\n",
       "      <td>Marineland Magnum Dual Purpose Canister Filter</td>\n",
       "    </tr>\n",
       "    <tr>\n",
       "      <th>2</th>\n",
       "      <td>A04173782GDZSQ91AJ7OD</td>\n",
       "      <td>2</td>\n",
       "      <td>B0002DJVQY</td>\n",
       "      <td>TI-MF</td>\n",
       "      <td>JW Pet Company Activitoys Triple Mirror Bird Toy</td>\n",
       "    </tr>\n",
       "    <tr>\n",
       "      <th>3</th>\n",
       "      <td>A04173782GDZSQ91AJ7OD</td>\n",
       "      <td>3</td>\n",
       "      <td>B000F4AVPA</td>\n",
       "      <td>TI-MF</td>\n",
       "      <td>Chuckit! Ultra Ball</td>\n",
       "    </tr>\n",
       "    <tr>\n",
       "      <th>4</th>\n",
       "      <td>A04173782GDZSQ91AJ7OD</td>\n",
       "      <td>4</td>\n",
       "      <td>B003JFRQQ4</td>\n",
       "      <td>TI-MF</td>\n",
       "      <td>Scaredy Cut Tiny Trim by Small Pet Grooming Sa...</td>\n",
       "    </tr>\n",
       "    <tr>\n",
       "      <th>...</th>\n",
       "      <td>...</td>\n",
       "      <td>...</td>\n",
       "      <td>...</td>\n",
       "      <td>...</td>\n",
       "      <td>...</td>\n",
       "    </tr>\n",
       "    <tr>\n",
       "      <th>857605</th>\n",
       "      <td>AZZYW4YOE1B6E</td>\n",
       "      <td>40</td>\n",
       "      <td>B001OCJXRO</td>\n",
       "      <td>TI-MF</td>\n",
       "      <td>Forever Litter Tray Reusable Replacement for S...</td>\n",
       "    </tr>\n",
       "    <tr>\n",
       "      <th>857606</th>\n",
       "      <td>AZZYW4YOE1B6E</td>\n",
       "      <td>41</td>\n",
       "      <td>B0002AROVQ</td>\n",
       "      <td>TI-MF</td>\n",
       "      <td>Marshall Ferret Litter Pan</td>\n",
       "    </tr>\n",
       "    <tr>\n",
       "      <th>857607</th>\n",
       "      <td>AZZYW4YOE1B6E</td>\n",
       "      <td>42</td>\n",
       "      <td>B0002AQSAY</td>\n",
       "      <td>TI-MF</td>\n",
       "      <td>Premium Choice All Natural Unscented Scoopable...</td>\n",
       "    </tr>\n",
       "    <tr>\n",
       "      <th>857608</th>\n",
       "      <td>AZZYW4YOE1B6E</td>\n",
       "      <td>43</td>\n",
       "      <td>B001B4H6HY</td>\n",
       "      <td>TI-MF</td>\n",
       "      <td>Pet Buddies PB6510 Cat Litter Buster Mat 18&amp;qu...</td>\n",
       "    </tr>\n",
       "    <tr>\n",
       "      <th>857609</th>\n",
       "      <td>AZZYW4YOE1B6E</td>\n",
       "      <td>44</td>\n",
       "      <td>B001QXZHKS</td>\n",
       "      <td>TI-MF</td>\n",
       "      <td>Citrus Magic Litter Box Odor Eliminator 11.2 O...</td>\n",
       "    </tr>\n",
       "  </tbody>\n",
       "</table>\n",
       "<p>857610 rows × 5 columns</p>\n",
       "</div>"
      ],
      "text/plain": [
       "                   reviewerID item_rank        asin algorithm  \\\n",
       "0       A04173782GDZSQ91AJ7OD         0  B000255MZG     TI-MF   \n",
       "1       A04173782GDZSQ91AJ7OD         1  B00025YUR2     TI-MF   \n",
       "2       A04173782GDZSQ91AJ7OD         2  B0002DJVQY     TI-MF   \n",
       "3       A04173782GDZSQ91AJ7OD         3  B000F4AVPA     TI-MF   \n",
       "4       A04173782GDZSQ91AJ7OD         4  B003JFRQQ4     TI-MF   \n",
       "...                       ...       ...         ...       ...   \n",
       "857605          AZZYW4YOE1B6E        40  B001OCJXRO     TI-MF   \n",
       "857606          AZZYW4YOE1B6E        41  B0002AROVQ     TI-MF   \n",
       "857607          AZZYW4YOE1B6E        42  B0002AQSAY     TI-MF   \n",
       "857608          AZZYW4YOE1B6E        43  B001B4H6HY     TI-MF   \n",
       "857609          AZZYW4YOE1B6E        44  B001QXZHKS     TI-MF   \n",
       "\n",
       "                                                    title  \n",
       "0              API STRESS COAT Aquarium Water Conditioner  \n",
       "1          Marineland Magnum Dual Purpose Canister Filter  \n",
       "2        JW Pet Company Activitoys Triple Mirror Bird Toy  \n",
       "3                                     Chuckit! Ultra Ball  \n",
       "4       Scaredy Cut Tiny Trim by Small Pet Grooming Sa...  \n",
       "...                                                   ...  \n",
       "857605  Forever Litter Tray Reusable Replacement for S...  \n",
       "857606                         Marshall Ferret Litter Pan  \n",
       "857607  Premium Choice All Natural Unscented Scoopable...  \n",
       "857608  Pet Buddies PB6510 Cat Litter Buster Mat 18&qu...  \n",
       "857609  Citrus Magic Litter Box Odor Eliminator 11.2 O...  \n",
       "\n",
       "[857610 rows x 5 columns]"
      ]
     },
     "execution_count": 31,
     "metadata": {},
     "output_type": "execute_result"
    }
   ],
   "source": [
    "max_recommendations"
   ]
  },
  {
   "cell_type": "markdown",
   "id": "0104d27f",
   "metadata": {},
   "source": [
    "# Store in `SQLite` DB"
   ]
  },
  {
   "cell_type": "code",
   "execution_count": 33,
   "id": "1e84bc55",
   "metadata": {},
   "outputs": [],
   "source": [
    "engine = create_engine(\"sqlite:///recommender.db\", echo=True)"
   ]
  },
  {
   "cell_type": "code",
   "execution_count": 34,
   "id": "f6f4a49b",
   "metadata": {},
   "outputs": [
    {
     "name": "stdout",
     "output_type": "stream",
     "text": [
      "2021-09-29 02:19:52,591 INFO sqlalchemy.engine.Engine PRAGMA main.table_info(\"Pet_Supplies\")\n",
      "2021-09-29 02:19:52,597 INFO sqlalchemy.engine.Engine [raw sql] ()\n",
      "2021-09-29 02:19:52,889 INFO sqlalchemy.engine.Engine BEGIN (implicit)\n",
      "2021-09-29 02:19:56,411 INFO sqlalchemy.engine.Engine INSERT INTO \"Pet_Supplies\" (\"index\", \"reviewerID\", item_rank, asin, algorithm, title) VALUES (?, ?, ?, ?, ?, ?)\n",
      "2021-09-29 02:19:56,412 INFO sqlalchemy.engine.Engine [generated in 2.88443s] ((0, 'A04173782GDZSQ91AJ7OD', 0, 'B000255MZG', 'TI-MF', 'API STRESS COAT Aquarium Water Conditioner'), (1, 'A04173782GDZSQ91AJ7OD', 1, 'B00025YUR2', 'TI-MF', 'Marineland Magnum Dual Purpose Canister Filter'), (2, 'A04173782GDZSQ91AJ7OD', 2, 'B0002DJVQY', 'TI-MF', 'JW Pet Company Activitoys Triple Mirror Bird Toy'), (3, 'A04173782GDZSQ91AJ7OD', 3, 'B000F4AVPA', 'TI-MF', 'Chuckit! Ultra Ball'), (4, 'A04173782GDZSQ91AJ7OD', 4, 'B003JFRQQ4', 'TI-MF', 'Scaredy Cut Tiny Trim by Small Pet Grooming Safety Scissor - 4.5&quot; Ear, Nose, Face, Paw - for Cats, Dogs, and All Pets'), (5, 'A04173782GDZSQ91AJ7OD', 5, 'B001LNUKE6', 'TI-MF', 'Purebites Cheddar Cheese Dog Treats'), (6, 'A04173782GDZSQ91AJ7OD', 6, 'B000255NX2', 'TI-MF', 'Python Brass Adapter for Aquarium'), (7, 'A04173782GDZSQ91AJ7OD', 7, 'B0002563S6', 'TI-MF', 'Magic Coat Cat Tearless Shampoo, 12-Ounce')  ... displaying 10 of 857610 total bound parameter sets ...  (857608, 'AZZYW4YOE1B6E', 43, 'B001B4H6HY', 'TI-MF', 'Pet Buddies PB6510 Cat Litter Buster Mat 18&quot; x 25&quot; Dark Grey'), (857609, 'AZZYW4YOE1B6E', 44, 'B001QXZHKS', 'TI-MF', 'Citrus Magic Litter Box Odor Eliminator 11.2 Ounce Shaker'))\n",
      "2021-09-29 02:20:02,614 INFO sqlalchemy.engine.Engine COMMIT\n",
      "2021-09-29 02:20:02,900 INFO sqlalchemy.engine.Engine SELECT name FROM sqlite_master WHERE type='table' ORDER BY name\n",
      "2021-09-29 02:20:02,902 INFO sqlalchemy.engine.Engine [raw sql] ()\n"
     ]
    }
   ],
   "source": [
    "max_recommendations.to_sql(f\"{CATEGORY}\", con=engine, if_exists=\"append\")"
   ]
  },
  {
   "cell_type": "code",
   "execution_count": null,
   "id": "56042506",
   "metadata": {},
   "outputs": [],
   "source": []
  }
 ],
 "metadata": {
  "kernelspec": {
   "display_name": "Python 3 (ipykernel)",
   "language": "python",
   "name": "python3"
  },
  "language_info": {
   "codemirror_mode": {
    "name": "ipython",
    "version": 3
   },
   "file_extension": ".py",
   "mimetype": "text/x-python",
   "name": "python",
   "nbconvert_exporter": "python",
   "pygments_lexer": "ipython3",
   "version": "3.9.6"
  }
 },
 "nbformat": 4,
 "nbformat_minor": 5
}
