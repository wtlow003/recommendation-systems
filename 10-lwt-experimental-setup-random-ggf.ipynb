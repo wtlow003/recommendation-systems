{
 "cells": [
  {
   "cell_type": "code",
   "execution_count": 1,
   "id": "0dbc52fe",
   "metadata": {},
   "outputs": [
    {
     "name": "stderr",
     "output_type": "stream",
     "text": [
      "/Users/jensen/Desktop/recommendation-systems/projects/product-reviews-recommender/.venv/lib/python3.9/site-packages/gensim/similarities/__init__.py:15: UserWarning: The gensim.similarities.levenshtein submodule is disabled, because the optional Levenshtein package <https://pypi.org/project/python-Levenshtein/> is unavailable. Install Levenhstein (e.g. `pip install python-Levenshtein`) to suppress this warning.\n",
      "  warnings.warn(msg)\n"
     ]
    }
   ],
   "source": [
    "from collections import defaultdict\n",
    "\n",
    "# data manipulation\n",
    "import numpy as np\n",
    "import pandas as pd\n",
    "import warnings\n",
    "\n",
    "# db, recommender algorithm, progress bar\n",
    "from sqlalchemy import create_engine\n",
    "from surprise import Dataset, Reader, NormalPredictor\n",
    "from tqdm import tqdm\n",
    "\n",
    "# custom functions\n",
    "from src.models import evaluate_model\n",
    "from src.utilities import utilities\n",
    "\n",
    "tqdm.pandas()\n",
    "warnings.filterwarnings('ignore')"
   ]
  },
  {
   "cell_type": "markdown",
   "id": "d6ff2a31",
   "metadata": {},
   "source": [
    "# Load Data"
   ]
  },
  {
   "cell_type": "code",
   "execution_count": 2,
   "id": "1408e3a3",
   "metadata": {},
   "outputs": [],
   "source": [
    "# global variables\n",
    "DATA_PATH = \"data/evaluation\"\n",
    "CATEGORY = \"Grocery_and_Gourmet_Food\"\n",
    "\n",
    "# reproducibility checks\n",
    "SEED = 42\n",
    "np.random.seed(42)\n",
    "\n",
    "train = pd.read_csv(f\"{DATA_PATH}/{CATEGORY}_train.csv\")"
   ]
  },
  {
   "cell_type": "code",
   "execution_count": 3,
   "id": "23c3b2f5",
   "metadata": {},
   "outputs": [
    {
     "data": {
      "text/html": [
       "<div>\n",
       "<style scoped>\n",
       "    .dataframe tbody tr th:only-of-type {\n",
       "        vertical-align: middle;\n",
       "    }\n",
       "\n",
       "    .dataframe tbody tr th {\n",
       "        vertical-align: top;\n",
       "    }\n",
       "\n",
       "    .dataframe thead th {\n",
       "        text-align: right;\n",
       "    }\n",
       "</style>\n",
       "<table border=\"1\" class=\"dataframe\">\n",
       "  <thead>\n",
       "    <tr style=\"text-align: right;\">\n",
       "      <th></th>\n",
       "      <th>index</th>\n",
       "      <th>asin</th>\n",
       "      <th>title</th>\n",
       "      <th>categories</th>\n",
       "      <th>reviewerID</th>\n",
       "      <th>overall</th>\n",
       "      <th>reviewText</th>\n",
       "      <th>reviewTime</th>\n",
       "      <th>processedReviewText</th>\n",
       "    </tr>\n",
       "  </thead>\n",
       "  <tbody>\n",
       "    <tr>\n",
       "      <th>0</th>\n",
       "      <td>0</td>\n",
       "      <td>9742356831</td>\n",
       "      <td>Mae Ploy Green Curry Paste, 14 oz</td>\n",
       "      <td>['Grocery &amp; Gourmet Food', 'Sauces, Gravies &amp; ...</td>\n",
       "      <td>A23RYWDS884TUL</td>\n",
       "      <td>5.0</td>\n",
       "      <td>This curry paste makes a delicious curry.  I j...</td>\n",
       "      <td>2013-05-28</td>\n",
       "      <td>curry paste delicious curry fry chicken vegeta...</td>\n",
       "    </tr>\n",
       "    <tr>\n",
       "      <th>1</th>\n",
       "      <td>1</td>\n",
       "      <td>9742356831</td>\n",
       "      <td>Mae Ploy Green Curry Paste, 14 oz</td>\n",
       "      <td>['Grocery &amp; Gourmet Food', 'Sauces, Gravies &amp; ...</td>\n",
       "      <td>A945RBQWGZXCK</td>\n",
       "      <td>5.0</td>\n",
       "      <td>I've purchased different curries in the grocer...</td>\n",
       "      <td>2012-09-17</td>\n",
       "      <td>purchase different curry grocery store complet...</td>\n",
       "    </tr>\n",
       "    <tr>\n",
       "      <th>2</th>\n",
       "      <td>3</td>\n",
       "      <td>9742356831</td>\n",
       "      <td>Mae Ploy Green Curry Paste, 14 oz</td>\n",
       "      <td>['Grocery &amp; Gourmet Food', 'Sauces, Gravies &amp; ...</td>\n",
       "      <td>A3AMNY44OP8AOU</td>\n",
       "      <td>4.0</td>\n",
       "      <td>I started a new diet restricting all added sug...</td>\n",
       "      <td>2014-01-23</td>\n",
       "      <td>start new diet restrict added sugar brand suga...</td>\n",
       "    </tr>\n",
       "    <tr>\n",
       "      <th>3</th>\n",
       "      <td>4</td>\n",
       "      <td>9742356831</td>\n",
       "      <td>Mae Ploy Green Curry Paste, 14 oz</td>\n",
       "      <td>['Grocery &amp; Gourmet Food', 'Sauces, Gravies &amp; ...</td>\n",
       "      <td>A3IB4CQ2QEJLJ8</td>\n",
       "      <td>5.0</td>\n",
       "      <td>So many flavors. I can't begin to tell you how...</td>\n",
       "      <td>2014-04-27</td>\n",
       "      <td>flavor begin tell love mae ploy curry ask reci...</td>\n",
       "    </tr>\n",
       "    <tr>\n",
       "      <th>4</th>\n",
       "      <td>5</td>\n",
       "      <td>9742356831</td>\n",
       "      <td>Mae Ploy Green Curry Paste, 14 oz</td>\n",
       "      <td>['Grocery &amp; Gourmet Food', 'Sauces, Gravies &amp; ...</td>\n",
       "      <td>AQA5DF3RWKETQ</td>\n",
       "      <td>5.0</td>\n",
       "      <td>I've used this a lot recently in some of my ch...</td>\n",
       "      <td>2012-11-27</td>\n",
       "      <td>use lot recently chicken dish use lot like spi...</td>\n",
       "    </tr>\n",
       "    <tr>\n",
       "      <th>47769</th>\n",
       "      <td>77420</td>\n",
       "      <td>B00I33696K</td>\n",
       "      <td>Reese's Miniature Peanut Butter Cups .31oz - 1...</td>\n",
       "      <td>['Grocery &amp; Gourmet Food', 'Candy &amp; Chocolate'...</td>\n",
       "      <td>A192LQZWDYPR4U</td>\n",
       "      <td>5.0</td>\n",
       "      <td>Another quality Reese Peanut Butter Cup produc...</td>\n",
       "      <td>2014-02-27</td>\n",
       "      <td>quality reese peanut butter cup product great ...</td>\n",
       "    </tr>\n",
       "    <tr>\n",
       "      <th>47770</th>\n",
       "      <td>77421</td>\n",
       "      <td>B00I33696K</td>\n",
       "      <td>Reese's Miniature Peanut Butter Cups .31oz - 1...</td>\n",
       "      <td>['Grocery &amp; Gourmet Food', 'Candy &amp; Chocolate'...</td>\n",
       "      <td>A2QKXW3LDQ66P5</td>\n",
       "      <td>5.0</td>\n",
       "      <td>I purchased these for my husband who has every...</td>\n",
       "      <td>2013-02-20</td>\n",
       "      <td>purchase husband love reeses valentine day pre...</td>\n",
       "    </tr>\n",
       "    <tr>\n",
       "      <th>47771</th>\n",
       "      <td>77430</td>\n",
       "      <td>B00ID9VSOM</td>\n",
       "      <td>Viva Labs Organic Coconut Sugar: Non-GMO, Low-...</td>\n",
       "      <td>['Grocery &amp; Gourmet Food', 'Cooking &amp; Baking',...</td>\n",
       "      <td>A2P3TGJU301KXD</td>\n",
       "      <td>5.0</td>\n",
       "      <td>this stuff is INCREDIBILY yummy! SO much bette...</td>\n",
       "      <td>2014-07-15</td>\n",
       "      <td>stuff incredibily yummy good regular brown sug...</td>\n",
       "    </tr>\n",
       "    <tr>\n",
       "      <th>47772</th>\n",
       "      <td>77456</td>\n",
       "      <td>B00IRL93SY</td>\n",
       "      <td>Barrie House Kenya Estate - AA Single Cup Caps...</td>\n",
       "      <td>['Grocery &amp; Gourmet Food', 'Beverages', 'Coffe...</td>\n",
       "      <td>AEFE9VDHTQ199</td>\n",
       "      <td>5.0</td>\n",
       "      <td>Very nice aroma, body and taste! Will buy this...</td>\n",
       "      <td>2014-05-24</td>\n",
       "      <td>nice aroma body taste buy coffee good coffee a...</td>\n",
       "    </tr>\n",
       "    <tr>\n",
       "      <th>47773</th>\n",
       "      <td>77508</td>\n",
       "      <td>B00ISVHJ3Y</td>\n",
       "      <td>Wholesome Sweeteners, Organic Sweet and Lite S...</td>\n",
       "      <td>['Grocery &amp; Gourmet Food', 'Cooking &amp; Baking',...</td>\n",
       "      <td>A2AEZQ3DGBBLPR</td>\n",
       "      <td>2.0</td>\n",
       "      <td>This is a no go for diabetics according to my ...</td>\n",
       "      <td>2014-06-26</td>\n",
       "      <td>diabetic accord wife doctor order intention us...</td>\n",
       "    </tr>\n",
       "  </tbody>\n",
       "</table>\n",
       "</div>"
      ],
      "text/plain": [
       "       index        asin                                              title  \\\n",
       "0          0  9742356831                  Mae Ploy Green Curry Paste, 14 oz   \n",
       "1          1  9742356831                  Mae Ploy Green Curry Paste, 14 oz   \n",
       "2          3  9742356831                  Mae Ploy Green Curry Paste, 14 oz   \n",
       "3          4  9742356831                  Mae Ploy Green Curry Paste, 14 oz   \n",
       "4          5  9742356831                  Mae Ploy Green Curry Paste, 14 oz   \n",
       "47769  77420  B00I33696K  Reese's Miniature Peanut Butter Cups .31oz - 1...   \n",
       "47770  77421  B00I33696K  Reese's Miniature Peanut Butter Cups .31oz - 1...   \n",
       "47771  77430  B00ID9VSOM  Viva Labs Organic Coconut Sugar: Non-GMO, Low-...   \n",
       "47772  77456  B00IRL93SY  Barrie House Kenya Estate - AA Single Cup Caps...   \n",
       "47773  77508  B00ISVHJ3Y  Wholesome Sweeteners, Organic Sweet and Lite S...   \n",
       "\n",
       "                                              categories      reviewerID  \\\n",
       "0      ['Grocery & Gourmet Food', 'Sauces, Gravies & ...  A23RYWDS884TUL   \n",
       "1      ['Grocery & Gourmet Food', 'Sauces, Gravies & ...   A945RBQWGZXCK   \n",
       "2      ['Grocery & Gourmet Food', 'Sauces, Gravies & ...  A3AMNY44OP8AOU   \n",
       "3      ['Grocery & Gourmet Food', 'Sauces, Gravies & ...  A3IB4CQ2QEJLJ8   \n",
       "4      ['Grocery & Gourmet Food', 'Sauces, Gravies & ...   AQA5DF3RWKETQ   \n",
       "47769  ['Grocery & Gourmet Food', 'Candy & Chocolate'...  A192LQZWDYPR4U   \n",
       "47770  ['Grocery & Gourmet Food', 'Candy & Chocolate'...  A2QKXW3LDQ66P5   \n",
       "47771  ['Grocery & Gourmet Food', 'Cooking & Baking',...  A2P3TGJU301KXD   \n",
       "47772  ['Grocery & Gourmet Food', 'Beverages', 'Coffe...   AEFE9VDHTQ199   \n",
       "47773  ['Grocery & Gourmet Food', 'Cooking & Baking',...  A2AEZQ3DGBBLPR   \n",
       "\n",
       "       overall                                         reviewText  reviewTime  \\\n",
       "0          5.0  This curry paste makes a delicious curry.  I j...  2013-05-28   \n",
       "1          5.0  I've purchased different curries in the grocer...  2012-09-17   \n",
       "2          4.0  I started a new diet restricting all added sug...  2014-01-23   \n",
       "3          5.0  So many flavors. I can't begin to tell you how...  2014-04-27   \n",
       "4          5.0  I've used this a lot recently in some of my ch...  2012-11-27   \n",
       "47769      5.0  Another quality Reese Peanut Butter Cup produc...  2014-02-27   \n",
       "47770      5.0  I purchased these for my husband who has every...  2013-02-20   \n",
       "47771      5.0  this stuff is INCREDIBILY yummy! SO much bette...  2014-07-15   \n",
       "47772      5.0  Very nice aroma, body and taste! Will buy this...  2014-05-24   \n",
       "47773      2.0  This is a no go for diabetics according to my ...  2014-06-26   \n",
       "\n",
       "                                     processedReviewText  \n",
       "0      curry paste delicious curry fry chicken vegeta...  \n",
       "1      purchase different curry grocery store complet...  \n",
       "2      start new diet restrict added sugar brand suga...  \n",
       "3      flavor begin tell love mae ploy curry ask reci...  \n",
       "4      use lot recently chicken dish use lot like spi...  \n",
       "47769  quality reese peanut butter cup product great ...  \n",
       "47770  purchase husband love reeses valentine day pre...  \n",
       "47771  stuff incredibily yummy good regular brown sug...  \n",
       "47772  nice aroma body taste buy coffee good coffee a...  \n",
       "47773  diabetic accord wife doctor order intention us...  "
      ]
     },
     "execution_count": 3,
     "metadata": {},
     "output_type": "execute_result"
    }
   ],
   "source": [
    "# checking train dataframe\n",
    "train.head().append(train.tail())"
   ]
  },
  {
   "cell_type": "markdown",
   "id": "b026e402",
   "metadata": {},
   "source": [
    "# Utility Function"
   ]
  },
  {
   "cell_type": "code",
   "execution_count": 4,
   "id": "9b9ca18d",
   "metadata": {},
   "outputs": [],
   "source": [
    "def get_top_n(predictions, n=10):\n",
    "    \"\"\"Return the top-N recommendation for each user from a set of predictions.\n",
    "\n",
    "    Args:\n",
    "        predictions(list of Prediction objects): The list of predictions, as\n",
    "            returned by the test method of an algorithm.\n",
    "        n(int): The number of recommendation to output for each user. Default\n",
    "            is 10.\n",
    "\n",
    "    Returns:\n",
    "    A dict where keys are user (raw) ids and values are lists of tuples:\n",
    "        [(raw item id, rating estimation), ...] of size n.\n",
    "    \"\"\"\n",
    "\n",
    "    # First map the predictions to each user.\n",
    "    top_n = defaultdict(list)\n",
    "    for uid, iid, true_r, est, _ in predictions:\n",
    "        top_n[uid].append((iid, est))\n",
    "\n",
    "    # Then sort the predictions for each user and retrieve the k highest ones.\n",
    "    for uid, user_ratings in top_n.items():\n",
    "        user_ratings.sort(key=lambda x: x[1], reverse=True)\n",
    "        top_n[uid] = user_ratings[:n]\n",
    "\n",
    "    return top_n"
   ]
  },
  {
   "cell_type": "markdown",
   "id": "b650e6f1",
   "metadata": {},
   "source": [
    "# Generate N-Recommendations = {10, 25, 30, 45}"
   ]
  },
  {
   "cell_type": "markdown",
   "id": "24d411a6",
   "metadata": {},
   "source": [
    "## Load Test Data"
   ]
  },
  {
   "cell_type": "code",
   "execution_count": 5,
   "id": "6ec8adeb",
   "metadata": {},
   "outputs": [],
   "source": [
    "test = pd.read_csv(f\"{DATA_PATH}/{CATEGORY}_test.csv\")"
   ]
  },
  {
   "cell_type": "code",
   "execution_count": 6,
   "id": "7c7af911",
   "metadata": {},
   "outputs": [
    {
     "data": {
      "text/html": [
       "<div>\n",
       "<style scoped>\n",
       "    .dataframe tbody tr th:only-of-type {\n",
       "        vertical-align: middle;\n",
       "    }\n",
       "\n",
       "    .dataframe tbody tr th {\n",
       "        vertical-align: top;\n",
       "    }\n",
       "\n",
       "    .dataframe thead th {\n",
       "        text-align: right;\n",
       "    }\n",
       "</style>\n",
       "<table border=\"1\" class=\"dataframe\">\n",
       "  <thead>\n",
       "    <tr style=\"text-align: right;\">\n",
       "      <th></th>\n",
       "      <th>index</th>\n",
       "      <th>asin</th>\n",
       "      <th>title</th>\n",
       "      <th>categories</th>\n",
       "      <th>reviewerID</th>\n",
       "      <th>overall</th>\n",
       "      <th>reviewText</th>\n",
       "      <th>reviewTime</th>\n",
       "      <th>processedReviewText</th>\n",
       "    </tr>\n",
       "  </thead>\n",
       "  <tbody>\n",
       "    <tr>\n",
       "      <th>0</th>\n",
       "      <td>2</td>\n",
       "      <td>9742356831</td>\n",
       "      <td>Mae Ploy Green Curry Paste, 14 oz</td>\n",
       "      <td>['Grocery &amp; Gourmet Food', 'Sauces, Gravies &amp; ...</td>\n",
       "      <td>A1TCSC0YWT82Q0</td>\n",
       "      <td>5.0</td>\n",
       "      <td>I love ethnic foods and to cook them. I recent...</td>\n",
       "      <td>2013-08-03</td>\n",
       "      <td>love ethnic food cook recently purchase produc...</td>\n",
       "    </tr>\n",
       "    <tr>\n",
       "      <th>1</th>\n",
       "      <td>8</td>\n",
       "      <td>9742356831</td>\n",
       "      <td>Mae Ploy Green Curry Paste, 14 oz</td>\n",
       "      <td>['Grocery &amp; Gourmet Food', 'Sauces, Gravies &amp; ...</td>\n",
       "      <td>A1Z7Y2GMAP9SRY</td>\n",
       "      <td>5.0</td>\n",
       "      <td>I like to make my own curry but this is a tast...</td>\n",
       "      <td>2014-06-27</td>\n",
       "      <td>like curry tasty alternative use base kind dif...</td>\n",
       "    </tr>\n",
       "    <tr>\n",
       "      <th>2</th>\n",
       "      <td>23</td>\n",
       "      <td>B00004S1C5</td>\n",
       "      <td>Ateco Food Coloring Kit, 6 colors</td>\n",
       "      <td>['Grocery &amp; Gourmet Food', 'Cooking &amp; Baking',...</td>\n",
       "      <td>A14YSMLYLJEMET</td>\n",
       "      <td>1.0</td>\n",
       "      <td>This product is no where near natural / organi...</td>\n",
       "      <td>2013-03-29</td>\n",
       "      <td>product near natural organic wish review purch...</td>\n",
       "    </tr>\n",
       "    <tr>\n",
       "      <th>3</th>\n",
       "      <td>31</td>\n",
       "      <td>B00005344V</td>\n",
       "      <td>Traditional Medicinals Organic Breathe Easy Se...</td>\n",
       "      <td>['Grocery &amp; Gourmet Food', 'Beverages', 'Coffe...</td>\n",
       "      <td>A2F488C4PLWGEI</td>\n",
       "      <td>5.0</td>\n",
       "      <td>If my wife drinks a cup of this tea when she f...</td>\n",
       "      <td>2014-03-23</td>\n",
       "      <td>wife drink cup tea feel attack come help avoid...</td>\n",
       "    </tr>\n",
       "    <tr>\n",
       "      <th>4</th>\n",
       "      <td>32</td>\n",
       "      <td>B00005344V</td>\n",
       "      <td>Traditional Medicinals Organic Breathe Easy Se...</td>\n",
       "      <td>['Grocery &amp; Gourmet Food', 'Beverages', 'Coffe...</td>\n",
       "      <td>AO1HXV7DWZZIR</td>\n",
       "      <td>5.0</td>\n",
       "      <td>I don't know about the medicinal aspects of th...</td>\n",
       "      <td>2014-02-06</td>\n",
       "      <td>know medicinal aspect tea flavor downright scr...</td>\n",
       "    </tr>\n",
       "    <tr>\n",
       "      <th>28001</th>\n",
       "      <td>77519</td>\n",
       "      <td>B00ISVHJ3Y</td>\n",
       "      <td>Wholesome Sweeteners, Organic Sweet and Lite S...</td>\n",
       "      <td>['Grocery &amp; Gourmet Food', 'Cooking &amp; Baking',...</td>\n",
       "      <td>A1WT3TVHANP7ZF</td>\n",
       "      <td>3.0</td>\n",
       "      <td>Hmmm. I really wanted to love this sweetener. ...</td>\n",
       "      <td>2014-07-22</td>\n",
       "      <td>hmmm want love sweetener half sugar half stevi...</td>\n",
       "    </tr>\n",
       "    <tr>\n",
       "      <th>28002</th>\n",
       "      <td>77520</td>\n",
       "      <td>B00ISVHJ3Y</td>\n",
       "      <td>Wholesome Sweeteners, Organic Sweet and Lite S...</td>\n",
       "      <td>['Grocery &amp; Gourmet Food', 'Cooking &amp; Baking',...</td>\n",
       "      <td>A3NEAETOSXDBOM</td>\n",
       "      <td>5.0</td>\n",
       "      <td>I confess I have a sweet tooth, and love the t...</td>\n",
       "      <td>2014-06-30</td>\n",
       "      <td>confess sweet tooth love taste sugar recognize...</td>\n",
       "    </tr>\n",
       "    <tr>\n",
       "      <th>28003</th>\n",
       "      <td>77521</td>\n",
       "      <td>B00ISVHJ3Y</td>\n",
       "      <td>Wholesome Sweeteners, Organic Sweet and Lite S...</td>\n",
       "      <td>['Grocery &amp; Gourmet Food', 'Cooking &amp; Baking',...</td>\n",
       "      <td>AD1ZOPB0BBEHB</td>\n",
       "      <td>4.0</td>\n",
       "      <td>It has a little of the stevia aftertaste, but ...</td>\n",
       "      <td>2014-07-17</td>\n",
       "      <td>little stevia aftertaste fair compromise able ...</td>\n",
       "    </tr>\n",
       "    <tr>\n",
       "      <th>28004</th>\n",
       "      <td>77522</td>\n",
       "      <td>B00ISVHJ3Y</td>\n",
       "      <td>Wholesome Sweeteners, Organic Sweet and Lite S...</td>\n",
       "      <td>['Grocery &amp; Gourmet Food', 'Cooking &amp; Baking',...</td>\n",
       "      <td>A18ECVX2RJ7HUE</td>\n",
       "      <td>5.0</td>\n",
       "      <td>i love marinade for grilled flank steak or lon...</td>\n",
       "      <td>2014-05-30</td>\n",
       "      <td>love marinade grilled flank steak london broil...</td>\n",
       "    </tr>\n",
       "    <tr>\n",
       "      <th>28005</th>\n",
       "      <td>77523</td>\n",
       "      <td>B00ISVHJ3Y</td>\n",
       "      <td>Wholesome Sweeteners, Organic Sweet and Lite S...</td>\n",
       "      <td>['Grocery &amp; Gourmet Food', 'Cooking &amp; Baking',...</td>\n",
       "      <td>A2G04D4QZAXL15</td>\n",
       "      <td>3.0</td>\n",
       "      <td>I've been using Truvia (a form of stevia) on m...</td>\n",
       "      <td>2014-05-27</td>\n",
       "      <td>use truvia form stevia cereal greek yogurt yea...</td>\n",
       "    </tr>\n",
       "  </tbody>\n",
       "</table>\n",
       "</div>"
      ],
      "text/plain": [
       "       index        asin                                              title  \\\n",
       "0          2  9742356831                  Mae Ploy Green Curry Paste, 14 oz   \n",
       "1          8  9742356831                  Mae Ploy Green Curry Paste, 14 oz   \n",
       "2         23  B00004S1C5                  Ateco Food Coloring Kit, 6 colors   \n",
       "3         31  B00005344V  Traditional Medicinals Organic Breathe Easy Se...   \n",
       "4         32  B00005344V  Traditional Medicinals Organic Breathe Easy Se...   \n",
       "28001  77519  B00ISVHJ3Y  Wholesome Sweeteners, Organic Sweet and Lite S...   \n",
       "28002  77520  B00ISVHJ3Y  Wholesome Sweeteners, Organic Sweet and Lite S...   \n",
       "28003  77521  B00ISVHJ3Y  Wholesome Sweeteners, Organic Sweet and Lite S...   \n",
       "28004  77522  B00ISVHJ3Y  Wholesome Sweeteners, Organic Sweet and Lite S...   \n",
       "28005  77523  B00ISVHJ3Y  Wholesome Sweeteners, Organic Sweet and Lite S...   \n",
       "\n",
       "                                              categories      reviewerID  \\\n",
       "0      ['Grocery & Gourmet Food', 'Sauces, Gravies & ...  A1TCSC0YWT82Q0   \n",
       "1      ['Grocery & Gourmet Food', 'Sauces, Gravies & ...  A1Z7Y2GMAP9SRY   \n",
       "2      ['Grocery & Gourmet Food', 'Cooking & Baking',...  A14YSMLYLJEMET   \n",
       "3      ['Grocery & Gourmet Food', 'Beverages', 'Coffe...  A2F488C4PLWGEI   \n",
       "4      ['Grocery & Gourmet Food', 'Beverages', 'Coffe...   AO1HXV7DWZZIR   \n",
       "28001  ['Grocery & Gourmet Food', 'Cooking & Baking',...  A1WT3TVHANP7ZF   \n",
       "28002  ['Grocery & Gourmet Food', 'Cooking & Baking',...  A3NEAETOSXDBOM   \n",
       "28003  ['Grocery & Gourmet Food', 'Cooking & Baking',...   AD1ZOPB0BBEHB   \n",
       "28004  ['Grocery & Gourmet Food', 'Cooking & Baking',...  A18ECVX2RJ7HUE   \n",
       "28005  ['Grocery & Gourmet Food', 'Cooking & Baking',...  A2G04D4QZAXL15   \n",
       "\n",
       "       overall                                         reviewText  reviewTime  \\\n",
       "0          5.0  I love ethnic foods and to cook them. I recent...  2013-08-03   \n",
       "1          5.0  I like to make my own curry but this is a tast...  2014-06-27   \n",
       "2          1.0  This product is no where near natural / organi...  2013-03-29   \n",
       "3          5.0  If my wife drinks a cup of this tea when she f...  2014-03-23   \n",
       "4          5.0  I don't know about the medicinal aspects of th...  2014-02-06   \n",
       "28001      3.0  Hmmm. I really wanted to love this sweetener. ...  2014-07-22   \n",
       "28002      5.0  I confess I have a sweet tooth, and love the t...  2014-06-30   \n",
       "28003      4.0  It has a little of the stevia aftertaste, but ...  2014-07-17   \n",
       "28004      5.0  i love marinade for grilled flank steak or lon...  2014-05-30   \n",
       "28005      3.0  I've been using Truvia (a form of stevia) on m...  2014-05-27   \n",
       "\n",
       "                                     processedReviewText  \n",
       "0      love ethnic food cook recently purchase produc...  \n",
       "1      like curry tasty alternative use base kind dif...  \n",
       "2      product near natural organic wish review purch...  \n",
       "3      wife drink cup tea feel attack come help avoid...  \n",
       "4      know medicinal aspect tea flavor downright scr...  \n",
       "28001  hmmm want love sweetener half sugar half stevi...  \n",
       "28002  confess sweet tooth love taste sugar recognize...  \n",
       "28003  little stevia aftertaste fair compromise able ...  \n",
       "28004  love marinade grilled flank steak london broil...  \n",
       "28005  use truvia form stevia cereal greek yogurt yea...  "
      ]
     },
     "execution_count": 6,
     "metadata": {},
     "output_type": "execute_result"
    }
   ],
   "source": [
    "test.head().append(test.tail())"
   ]
  },
  {
   "cell_type": "code",
   "execution_count": 7,
   "id": "2830b012",
   "metadata": {},
   "outputs": [],
   "source": [
    "# generating test history\n",
    "test_user_history = (pd.DataFrame(test.groupby(['reviewerID'])['asin']\n",
    "                                  .apply(list).reset_index()))"
   ]
  },
  {
   "cell_type": "code",
   "execution_count": 8,
   "id": "86f5e2a5",
   "metadata": {},
   "outputs": [
    {
     "name": "stdout",
     "output_type": "stream",
     "text": [
      "                  reviewerID  \\\n",
      "0      A00177463W0XWB16A9O05   \n",
      "1      A022899328A0QROR32DCT   \n",
      "2      A068255029AHTHDXZURNU   \n",
      "3      A06944662TFWOKKV4GJKX   \n",
      "4             A1004703RC79J9   \n",
      "...                      ...   \n",
      "13274          AZWRZZAMX90VT   \n",
      "13275          AZXKAH2DE6C8A   \n",
      "13276          AZXON596A1VXC   \n",
      "13277          AZYXC63SS008M   \n",
      "13278          AZZ5ASC403N74   \n",
      "\n",
      "                                                    asin  \n",
      "0                               [B00474OR8G, B00BFM6OAW]  \n",
      "1                                           [B00CMQDKES]  \n",
      "2                                           [B001FA1K2G]  \n",
      "3                                           [B000GFYRHG]  \n",
      "4                                           [B003GTR8IO]  \n",
      "...                                                  ...  \n",
      "13274  [B0007R9L4M, B000CN7BMA, B001EQ5D1K, B002VT3GX...  \n",
      "13275   [B000MAK41I, B004X8TJP2, B006H34CUS, B007W14RMM]  \n",
      "13276                           [B001EO5S0I, B00271QQ7Q]  \n",
      "13277                                       [B0054TWPNC]  \n",
      "13278                                       [B00BIEU5PC]  \n",
      "\n",
      "[13279 rows x 2 columns]\n"
     ]
    }
   ],
   "source": [
    "print(test_user_history)"
   ]
  },
  {
   "cell_type": "markdown",
   "id": "322bbb56",
   "metadata": {},
   "source": [
    "# Preparing Dataset for Surprise's Algorithm"
   ]
  },
  {
   "cell_type": "code",
   "execution_count": 9,
   "id": "64fb769b",
   "metadata": {},
   "outputs": [],
   "source": [
    "# create reader\n",
    "reader = Reader(rating_scale=(1,5))\n",
    "# generate data required for surprise\n",
    "data = Dataset.load_from_df(train[[\"reviewerID\", \"asin\", \"overall\"]], reader)\n",
    "# generating trainset\n",
    "trainset = data.build_full_trainset()"
   ]
  },
  {
   "cell_type": "markdown",
   "id": "9966a70d",
   "metadata": {},
   "source": [
    "# Instantiate Random Recommender (Topic Modelling)"
   ]
  },
  {
   "cell_type": "code",
   "execution_count": 10,
   "id": "045f9da1",
   "metadata": {},
   "outputs": [],
   "source": [
    "random = NormalPredictor()"
   ]
  },
  {
   "cell_type": "code",
   "execution_count": 11,
   "id": "04374f9f",
   "metadata": {},
   "outputs": [
    {
     "data": {
      "text/plain": [
       "<surprise.prediction_algorithms.random_pred.NormalPredictor at 0x131b6ff10>"
      ]
     },
     "execution_count": 11,
     "metadata": {},
     "output_type": "execute_result"
    }
   ],
   "source": [
    "random.fit(trainset)"
   ]
  },
  {
   "cell_type": "code",
   "execution_count": 12,
   "id": "4eb99a53",
   "metadata": {},
   "outputs": [
    {
     "name": "stdout",
     "output_type": "stream",
     "text": [
      "CPU times: user 35.8 s, sys: 1.64 s, total: 37.5 s\n",
      "Wall time: 37.9 s\n"
     ]
    }
   ],
   "source": [
    "%%time\n",
    "# generate candidate items for user to predict rating\n",
    "testset = trainset.build_anti_testset()"
   ]
  },
  {
   "cell_type": "code",
   "execution_count": 13,
   "id": "8fe7949a",
   "metadata": {},
   "outputs": [
    {
     "name": "stdout",
     "output_type": "stream",
     "text": [
      "CPU times: user 6min 45s, sys: 1min 54s, total: 8min 39s\n",
      "Wall time: 9min 16s\n"
     ]
    }
   ],
   "source": [
    "%%time\n",
    "# predict ratings for all pairs (u, i) that are NOT in the training set\n",
    "candidate_items = random.test(testset, verbose=False)"
   ]
  },
  {
   "cell_type": "markdown",
   "id": "ce80581f",
   "metadata": {},
   "source": [
    "## Loop through N = {10, 25, 30, 45}"
   ]
  },
  {
   "cell_type": "code",
   "execution_count": 14,
   "id": "d4bc2c9c",
   "metadata": {},
   "outputs": [],
   "source": [
    "# generate item popularity\n",
    "item_popularity = evaluate_model.generate_item_popularity(train)"
   ]
  },
  {
   "cell_type": "code",
   "execution_count": 15,
   "id": "9dcb59bd",
   "metadata": {},
   "outputs": [
    {
     "name": "stdout",
     "output_type": "stream",
     "text": [
      "The RANDOM has an average recall@10: 0.00046, average novelty@10: 0.95775\n",
      "The RANDOM has an average recall@25: 0.00166, average novelty@25: 0.95966\n",
      "The RANDOM has an average recall@30: 0.00213, average novelty@30: 0.96197\n",
      "The RANDOM has an average recall@45: 0.00376, average novelty@45: 0.96666\n"
     ]
    }
   ],
   "source": [
    "n_recommendations = {}\n",
    "for n in [10, 25, 30, 45]:\n",
    "    # retrieve the top-n items based on similarities\n",
    "    top_ns = get_top_n(candidate_items, n)\n",
    "    # evaluate how well the recommended items predicted the future purchases\n",
    "    n_recommended_items = (evaluate_model.\n",
    "                           evaluate_recommendations(model_name = 'RANDOM',\n",
    "                                                    top_ns = top_ns,\n",
    "                                                    user_rating_history = test_user_history, \n",
    "                                                    item_popularity = item_popularity, \n",
    "                                                    n = n,\n",
    "                                                    mf_based = True))\n",
    "    # saving the n-value and recommended items\n",
    "    n_recommendations[n] = (top_ns, n_recommended_items)"
   ]
  },
  {
   "cell_type": "markdown",
   "id": "10e8723a",
   "metadata": {},
   "source": [
    "# Evaluate N-Recommendations"
   ]
  },
  {
   "cell_type": "markdown",
   "id": "63d554b6",
   "metadata": {},
   "source": [
    "## N=10"
   ]
  },
  {
   "cell_type": "code",
   "execution_count": 16,
   "id": "83aff7ba",
   "metadata": {},
   "outputs": [
    {
     "name": "stdout",
     "output_type": "stream",
     "text": [
      "For user: A3BIR2418I0M3N:\n",
      "Purchase History:\n",
      "             asin                                              title\n",
      "1117   B0001M0Z6Q  Spicy World Peppercorn (Whole)-Black Tellicher...\n",
      "6127   B000EVMNMI        Haribo Gummi Candy, Happy-Cola, 5-Pound Bag\n",
      "9746   B000HVX6NK  Sea's Gift Korean Seaweed Snack (Kim Nori), Ro...\n",
      "10086  B000J4IDO2  Coffee People K-Cups, Black Tiger Extra Bold, ...\n",
      "10249  B000JZEABG  Black Forest Gummy Bears Ferrara Candy, Natura...\n",
      "17529  B001D0IZBM                     Grocery &amp; Gourmet Food\" />\n",
      "23972  B001KTA03C  Green Mountain Coffee Double Black Diamond, 24...\n",
      "\n",
      "Recommending:\n",
      "\n",
      "         asin                                              title\n",
      "0  9742356831                  Mae Ploy Green Curry Paste, 14 oz\n",
      "1  B00004S1C5                  Ateco Food Coloring Kit, 6 colors\n",
      "2  B0000DID5R           Dave's Original Insanity Hot Sauce - 5oz\n",
      "3  B0000GHNT0  El Yucateco Chile Habanero Hot Sauce Bottle, R...\n",
      "4  B0000IJYK4  Maseca Instant Yellow Corn Masa Flour 4.84lb |...\n",
      "5  B0000W0GQQ  Nielsen-Massey Madagascar Bourbon Vanilla Bean...\n",
      "6  B00012182G                                 Fresh Whole Rabbit\n",
      "7  B00015UC8O                          Barley Malt Powder, 1 lb.\n",
      "8  B00016LAFM    BETTER THAN BOUILLON Organic Chicken Base, 8 OZ\n",
      "9  B00016XJM4  Frontier Co-op Nutritional Yeast Mini Flakes, ...\n"
     ]
    }
   ],
   "source": [
    "top_ns_10 = n_recommendations[10][0]\n",
    "utilities.retrieve_recommendations(train, top_ns_10, mf_based=True)"
   ]
  },
  {
   "cell_type": "markdown",
   "id": "15f9f6ec",
   "metadata": {},
   "source": [
    "## N=25"
   ]
  },
  {
   "cell_type": "code",
   "execution_count": 17,
   "id": "fd3c8e9a",
   "metadata": {},
   "outputs": [
    {
     "name": "stdout",
     "output_type": "stream",
     "text": [
      "For user: A310AONCWMN6MV:\n",
      "Purchase History:\n",
      "            asin                                              title\n",
      "9516  B000HDJZWO  Enjoy Life Baking Chocolate, Soy free, Nut fre...\n",
      "\n",
      "Recommending:\n",
      "\n",
      "          asin                                              title\n",
      "0   B00005344V  Traditional Medicinals Organic Breathe Easy Se...\n",
      "1   B0000CNU15  Lee Kum Kee Chiu Chow Chili Oil net wt. 205g (...\n",
      "2   B0000DBN1L               Tazo Organic Chai, 24 Tea Bags 2.3oz\n",
      "3   B0000DID5R           Dave's Original Insanity Hot Sauce - 5oz\n",
      "4   B0000GHNT0  El Yucateco Chile Habanero Hot Sauce Bottle, R...\n",
      "5   B0000SXEN2      Sans Sucre Chocolate Mousse Mix - Gluten Free\n",
      "6   B00012182G                                 Fresh Whole Rabbit\n",
      "7   B0001590IC    Freshpak Rooibos Tea 80 Tagless Bags (2 X Pack)\n",
      "8   B00015UC8O                          Barley Malt Powder, 1 lb.\n",
      "9   B00015YTU6                              Quinoa Berries, 1 lb.\n",
      "10  B00016AQRU  Traditional Medicinal Organic Ginger with Cham...\n",
      "11  B00016JGZI                 Coconut Chips, 1 lb. by Barry Farm\n",
      "12  B00016LA8Y        Better Than Bouillon Base, Lobster, 8 Ounce\n",
      "13  B00016UX1E  Lee Kum Kee Premium Oyster Sauce, 18-Ounce Gla...\n",
      "14  B00016XJM4  Frontier Co-op Nutritional Yeast Mini Flakes, ...\n",
      "15  B00017LEY8        Ladyfinger Gourmet Popping Corn Size: 2 lbs\n",
      "16  B0001BH5YM        Pommery Meaux Mustard Stone Jar, 17.6-Ounce\n",
      "17  B0001CXUEK          Carob Chips, Barley Malt Sweetened, 1 lb.\n",
      "18  B0001EJ4CU  Lee Kum Kee Premium Dark Soy Sauce - 16.9 fl. ...\n",
      "19  B0001M10VA      Frontier Five Spice Powder, 1.92-Ounce Bottle\n",
      "20  B0001M10ZG        Frontier Pizza Seasoning, 1.04-Ounce Bottle\n",
      "21  B0001XXB3E                Wilton White Sparkling Sugar, 8 oz.\n",
      "22  B00024G8WI  World's Best Milka Chocolate - Alpine Milk, 10...\n",
      "23  B00029JDDE            Ting Ting Jahe Ginger Candy, 5.25 Ounce\n",
      "24  B0004MTM9O          Bonne Maman Preserve, Raspberry, 13-Ounce\n"
     ]
    }
   ],
   "source": [
    "top_ns_25 = n_recommendations[25][0]\n",
    "utilities.retrieve_recommendations(train, top_ns_25, mf_based=True)"
   ]
  },
  {
   "cell_type": "markdown",
   "id": "87fa45ea",
   "metadata": {},
   "source": [
    "## N=30"
   ]
  },
  {
   "cell_type": "code",
   "execution_count": 18,
   "id": "3d167194",
   "metadata": {},
   "outputs": [
    {
     "name": "stdout",
     "output_type": "stream",
     "text": [
      "For user: A1U90MYVSLLFI1:\n",
      "Purchase History:\n",
      "             asin                                              title\n",
      "23887  B001J9QBU4                     Grocery &amp; Gourmet Food\" />\n",
      "40633  B005HGAVD8  Crazy Cups Wolfgang Puck Sampler,  K-Cup Porti...\n",
      "41039  B005K4Q1T0  Grove Square Hot Cocoa Dark Chocolate, 24 Sing...\n",
      "42212  B005XB145Q         Tazo Zen Green Tea Keurig K-Cups, 16 Count\n",
      "46460  B00AP7VGNI  GEVALIA Kaffe Signature Blend K-CUP Pods - 12 ...\n",
      "\n",
      "Recommending:\n",
      "\n",
      "          asin                                              title\n",
      "0   B00005344V  Traditional Medicinals Organic Breathe Easy Se...\n",
      "1   B0000CNU15  Lee Kum Kee Chiu Chow Chili Oil net wt. 205g (...\n",
      "2   B0000DI085  Simply Organic Almond Extract, Certified Organ...\n",
      "3   B0000DID5R           Dave's Original Insanity Hot Sauce - 5oz\n",
      "4   B0000E5JIU      Cafe Du Monde Coffee Chicory, 15 Ounce Ground\n",
      "5   B0000GHNT0  El Yucateco Chile Habanero Hot Sauce Bottle, R...\n",
      "6   B00014JNI0  YS Organic Bee Farms CERTIFIED ORGANIC RAW HON...\n",
      "7   B00015HNMM               Organic Pu-erh Teabags - 18 Tea Bags\n",
      "8   B00015UC4S                                    Clear Jel, 1 lb\n",
      "9   B00016AQRU  Traditional Medicinal Organic Ginger with Cham...\n",
      "10  B00016UX1E  Lee Kum Kee Premium Oyster Sauce, 18-Ounce Gla...\n",
      "11  B00016XLEA   Frontier Turmeric Root Ground, 1.92-Ounce Bottle\n",
      "12  B00017LF24                     Popcorn &amp; Nut Salt - 24 oz\n",
      "13  B0001CXUN6  Stevita Stevia Supreme Powder - 50 Packets - S...\n",
      "14  B0001DMTPU                    Lee Kum Kee Hoisin Sauce, 20 oz\n",
      "15  B0001I1HFS  Serendipity 3 Frrrozen Hot Chocolate Mix 18oz ...\n",
      "16  B0001LQJZI  PG Tips Premium Black Tea, Black Tea Pyramid B...\n",
      "17  B000216O16   Authentic Foods Superfine White Rice Flour - 3lb\n",
      "18  B00028Q45A    Arrowhead Mills Organic Flax Seeds, 1 Pound Bag\n",
      "19  B00029JDDE            Ting Ting Jahe Ginger Candy, 5.25 Ounce\n",
      "20  B0002YB40O        Ajinomoto - Hon Dashi (Soup Stock) 4.23 Oz.\n",
      "21  B0002YB210                 Kikkoman Manjo Aji Mirin, 17 fl oz\n",
      "22  B00032C8T6  Kellogg's Breakfast Cereal, Frosted Flakes, Fa...\n",
      "23  B0004M1J54         San-J Reduced Salt Soy Tamari Sauce, 10 oz\n",
      "24  B0004MVRH4   Diamond of California, Shelled Walnuts, 10 Ounce\n",
      "25  B0005YLN0W                Ritz Crackers, 10 Count, 37.7 Ounce\n",
      "26  B0005Z7IAA  Domino Premium Pure Cane Sugar Cubes Dots, 1 P...\n",
      "27  B0005Z7PI0   Ghiradelli Hot Chocolate, Double Chocolate, 16oz\n",
      "28  B0005Z6LLW  Ghirardelli Hot Chocolate Mix , Chocolate Moch...\n",
      "29  B0005ZH4QI              Skippy Creamy Peanut Butter, 40 Ounce\n"
     ]
    }
   ],
   "source": [
    "top_ns_30 = n_recommendations[30][0]\n",
    "utilities.retrieve_recommendations(train, top_ns_30, mf_based=True)"
   ]
  },
  {
   "cell_type": "markdown",
   "id": "6652610f",
   "metadata": {},
   "source": [
    "## N=45"
   ]
  },
  {
   "cell_type": "code",
   "execution_count": 19,
   "id": "ffc94e95",
   "metadata": {},
   "outputs": [
    {
     "name": "stdout",
     "output_type": "stream",
     "text": [
      "For user: A3EAAFGS0DU8R6:\n",
      "Purchase History:\n",
      "             asin                                              title\n",
      "16531  B001ACMCNA  Chebe Bread Pizza Crust Mix, Gluten Free, 7.5-...\n",
      "16562  B001ACNWUC   Chebe Bread Focaccia Flat Bread Mix, Gluten F...\n",
      "34472  B004AHCGI8  Pomi Tomatoes, Strained, 26.46-Ounce Carton (P...\n",
      "\n",
      "Recommending:\n",
      "\n",
      "          asin                                              title\n",
      "0   B0000CDEPD      Rodelle Organic Pure Vanilla Extract, 4-Ounce\n",
      "1   B0000CNU1S                   Dynasty Five Spices Powder, 2 oz\n",
      "2   B0000CNU1X  Hime Powdered Wasabi (Japanese Horseradish) - ...\n",
      "3   B0000DBN1L               Tazo Organic Chai, 24 Tea Bags 2.3oz\n",
      "4   B0000DI085  Simply Organic Almond Extract, Certified Organ...\n",
      "5   B0000DID5R           Dave's Original Insanity Hot Sauce - 5oz\n",
      "6   B0000GL6RK         Taj&iacute;n Cl&aacute;sico Seasoning 5 oz\n",
      "7   B0000V09L4  Igourmet Cheddars of the World Assortment, 2-P...\n",
      "8   B00012182G                                 Fresh Whole Rabbit\n",
      "9   B00014VTNW            Marmite Yeast Extract Flavored, 4.40 oz\n",
      "10  B0001590IC    Freshpak Rooibos Tea 80 Tagless Bags (2 X Pack)\n",
      "11  B00016BS7W                     Pumpkin Seeds - Pepitas, 8 oz.\n",
      "12  B00016JGZI                 Coconut Chips, 1 lb. by Barry Farm\n",
      "13  B00016LAFM    BETTER THAN BOUILLON Organic Chicken Base, 8 OZ\n",
      "14  B00017LF24                     Popcorn &amp; Nut Salt - 24 oz\n",
      "15  B0001CXUEK          Carob Chips, Barley Malt Sweetened, 1 lb.\n",
      "16  B0001FFHCK     Amber Lyn Sugar-Free  Dark Chocolate, 15-Count\n",
      "17  B0001M10ZG        Frontier Pizza Seasoning, 1.04-Ounce Bottle\n",
      "18  B0001XXB3E                Wilton White Sparkling Sugar, 8 oz.\n",
      "19  B000216O16   Authentic Foods Superfine White Rice Flour - 3lb\n",
      "20  B00021639Y   Authentic Foods Superfine Brown Rice Flour - 3lb\n",
      "21  B00029KOVO  MarketSpice Teabags, box of 24 (Market Spice T...\n",
      "22  B0002PHEZC  Premium Madagascar Vanilla Beans - 7 beans JR ...\n",
      "23  B00032C8T6  Kellogg's Breakfast Cereal, Frosted Flakes, Fa...\n",
      "24  B0004JQW54                        TEXAS PETE Hot Sauce, 12 oz\n",
      "25  B0005Z7PI0   Ghiradelli Hot Chocolate, Double Chocolate, 16oz\n",
      "26  B0005Z6LLW  Ghirardelli Hot Chocolate Mix , Chocolate Moch...\n",
      "27  B0005ZHPFI  Crystal Hot Sauce Louisiana's Pure Hot Sauce -...\n",
      "28  B0005ZXPY8           Arm &amp; Hammer Baking Soda-4LB (01170)\n",
      "29  B00078N908                  Spicy World Whole Allspice, 16 oz\n",
      "30  B0007IQQXA   Van Houtte French Vanilla Coffee K Cups 18 Count\n",
      "31  B0007LXU86  Kashi GOLEAN Bar, Chocolate Almond Toffee, 2.7...\n",
      "32  B0007R9L3I  Tasty Bite Kashmir Spinach Entree, Heat &amp; ...\n",
      "33  B00099XNO2  Suddenly Pasta Salad, Creamy Parmesan, 6.2-Oun...\n",
      "34  B00099XNA6  Betty Crocker Hamburger Helper Philly Cheesest...\n",
      "35  B00099XOW8  Knorr Rice Sides - Chicken Broccoli - 5.5 oz -...\n",
      "36  B00099ZGFG  Ostrim Beef &amp; Ostrich Jerky Pepper 10-1.05...\n",
      "37  B0009F3PHQ  Traditional Medicinals Organic EveryDay Detox ...\n",
      "38  B0009F3POO  Traditional Medicinals Organic Throat Coat Sea...\n",
      "39  B0009F3PM6  Traditional Medicinals Organic Chamomile Herba...\n",
      "40  B0009F3SDC  Yogi Tea - Peach DeTox - Healthy Warming Blend...\n",
      "41  B0009F3SC8  Yogi Tea - Green Tea Super Antioxidant - Helps...\n",
      "42  B0009I6FFC        White Rabbit Creamy Candy 6.3 Oz (180 Gram)\n",
      "43  B0009JRKDC          Nutiva Organic Virgin Coconut Oil - 29 oz\n",
      "44  B0009PAVQY  RICE BRAN OIL | All Natural, Made from 100% US...\n"
     ]
    }
   ],
   "source": [
    "top_ns_45 = n_recommendations[45][0]\n",
    "utilities.retrieve_recommendations(train, top_ns_45, mf_based=True)"
   ]
  },
  {
   "cell_type": "markdown",
   "id": "83abd0f8",
   "metadata": {},
   "source": [
    "# Cross-Analysis for Cold-Start Users (<= 2 Purchased Items)"
   ]
  },
  {
   "cell_type": "code",
   "execution_count": 20,
   "id": "d3bc4c4d",
   "metadata": {},
   "outputs": [],
   "source": [
    "cold_start_users = utilities.generate_cold_start_users(train)"
   ]
  },
  {
   "cell_type": "code",
   "execution_count": 21,
   "id": "b3b9234c",
   "metadata": {},
   "outputs": [
    {
     "name": "stdout",
     "output_type": "stream",
     "text": [
      "The RANDOM has an average recall@10: 0.00020, average novelty@10: 0.95770\n",
      "The RANDOM has an average recall@25: 0.00094, average novelty@25: 0.95963\n",
      "The RANDOM has an average recall@30: 0.00134, average novelty@30: 0.96195\n",
      "The RANDOM has an average recall@45: 0.00321, average novelty@45: 0.96664\n"
     ]
    }
   ],
   "source": [
    "for n in tuple(zip([10, 25, 30, 45], [top_ns_10, top_ns_25, top_ns_30, top_ns_45])):\n",
    "    cold_start_top_ns = dict(filter(lambda x: x[0] in cold_start_users, n[1].items()))\n",
    "    # evaluate how well the recommended items predicted the future purchases\n",
    "    # on cold start users\n",
    "    n_recommended_items = (evaluate_model.\n",
    "                           evaluate_recommendations(model_name = 'RANDOM',\n",
    "                                                    top_ns = cold_start_top_ns,\n",
    "                                                    user_rating_history = test_user_history, \n",
    "                                                    item_popularity = item_popularity, \n",
    "                                                    n = n[0],\n",
    "                                                    mf_based = True))"
   ]
  },
  {
   "cell_type": "markdown",
   "id": "eaa7beb9",
   "metadata": {},
   "source": [
    "# Generating Recommended Items DataFrame"
   ]
  },
  {
   "cell_type": "code",
   "execution_count": 22,
   "id": "9cb2984c",
   "metadata": {},
   "outputs": [],
   "source": [
    "max_recommendations = (utilities\n",
    "                       .generate_recommendations_df(\n",
    "                           train, \n",
    "                           n_recommendations, \n",
    "                           \"RANDOM\", mf_based=True))"
   ]
  },
  {
   "cell_type": "code",
   "execution_count": 23,
   "id": "6fa78337",
   "metadata": {},
   "outputs": [
    {
     "data": {
      "text/html": [
       "<div>\n",
       "<style scoped>\n",
       "    .dataframe tbody tr th:only-of-type {\n",
       "        vertical-align: middle;\n",
       "    }\n",
       "\n",
       "    .dataframe tbody tr th {\n",
       "        vertical-align: top;\n",
       "    }\n",
       "\n",
       "    .dataframe thead th {\n",
       "        text-align: right;\n",
       "    }\n",
       "</style>\n",
       "<table border=\"1\" class=\"dataframe\">\n",
       "  <thead>\n",
       "    <tr style=\"text-align: right;\">\n",
       "      <th></th>\n",
       "      <th>reviewerID</th>\n",
       "      <th>item_rank</th>\n",
       "      <th>asin</th>\n",
       "      <th>algorithm</th>\n",
       "      <th>title</th>\n",
       "    </tr>\n",
       "  </thead>\n",
       "  <tbody>\n",
       "    <tr>\n",
       "      <th>0</th>\n",
       "      <td>A00177463W0XWB16A9O05</td>\n",
       "      <td>0</td>\n",
       "      <td>B0000CNU15</td>\n",
       "      <td>RANDOM</td>\n",
       "      <td>Lee Kum Kee Chiu Chow Chili Oil net wt. 205g (...</td>\n",
       "    </tr>\n",
       "    <tr>\n",
       "      <th>1</th>\n",
       "      <td>A00177463W0XWB16A9O05</td>\n",
       "      <td>1</td>\n",
       "      <td>B0000GHNT0</td>\n",
       "      <td>RANDOM</td>\n",
       "      <td>El Yucateco Chile Habanero Hot Sauce Bottle, R...</td>\n",
       "    </tr>\n",
       "    <tr>\n",
       "      <th>2</th>\n",
       "      <td>A00177463W0XWB16A9O05</td>\n",
       "      <td>2</td>\n",
       "      <td>B0000TA3SK</td>\n",
       "      <td>RANDOM</td>\n",
       "      <td>Wright's Natural Hickory Seasoning Liquid Smok...</td>\n",
       "    </tr>\n",
       "    <tr>\n",
       "      <th>3</th>\n",
       "      <td>A00177463W0XWB16A9O05</td>\n",
       "      <td>3</td>\n",
       "      <td>B0000W0GQQ</td>\n",
       "      <td>RANDOM</td>\n",
       "      <td>Nielsen-Massey Madagascar Bourbon Vanilla Bean...</td>\n",
       "    </tr>\n",
       "    <tr>\n",
       "      <th>4</th>\n",
       "      <td>A00177463W0XWB16A9O05</td>\n",
       "      <td>4</td>\n",
       "      <td>B00014JNI0</td>\n",
       "      <td>RANDOM</td>\n",
       "      <td>YS Organic Bee Farms CERTIFIED ORGANIC RAW HON...</td>\n",
       "    </tr>\n",
       "    <tr>\n",
       "      <th>...</th>\n",
       "      <td>...</td>\n",
       "      <td>...</td>\n",
       "      <td>...</td>\n",
       "      <td>...</td>\n",
       "      <td>...</td>\n",
       "    </tr>\n",
       "    <tr>\n",
       "      <th>602860</th>\n",
       "      <td>AZZ5ASC403N74</td>\n",
       "      <td>40</td>\n",
       "      <td>B000BIQLL8</td>\n",
       "      <td>RANDOM</td>\n",
       "      <td>Kikkoman Instant Tofu Miso Soup (Soybean Paste...</td>\n",
       "    </tr>\n",
       "    <tr>\n",
       "      <th>602861</th>\n",
       "      <td>AZZ5ASC403N74</td>\n",
       "      <td>41</td>\n",
       "      <td>B000BLNU6E</td>\n",
       "      <td>RANDOM</td>\n",
       "      <td>Grand Ghirardelli Chocolate Gift Basket</td>\n",
       "    </tr>\n",
       "    <tr>\n",
       "      <th>602862</th>\n",
       "      <td>AZZ5ASC403N74</td>\n",
       "      <td>42</td>\n",
       "      <td>B000BP1SDM</td>\n",
       "      <td>RANDOM</td>\n",
       "      <td>Ginger People Original Ginger Chews 3oz Bag</td>\n",
       "    </tr>\n",
       "    <tr>\n",
       "      <th>602863</th>\n",
       "      <td>AZZ5ASC403N74</td>\n",
       "      <td>43</td>\n",
       "      <td>B000CFJDWY</td>\n",
       "      <td>RANDOM</td>\n",
       "      <td>Late July Organic Classic Rich Crackers, 6-Oun...</td>\n",
       "    </tr>\n",
       "    <tr>\n",
       "      <th>602864</th>\n",
       "      <td>AZZ5ASC403N74</td>\n",
       "      <td>44</td>\n",
       "      <td>B000CFLBEM</td>\n",
       "      <td>RANDOM</td>\n",
       "      <td>Late July Organic Round Saltine Crackers, 6-Ou...</td>\n",
       "    </tr>\n",
       "  </tbody>\n",
       "</table>\n",
       "<p>602865 rows × 5 columns</p>\n",
       "</div>"
      ],
      "text/plain": [
       "                   reviewerID item_rank        asin algorithm  \\\n",
       "0       A00177463W0XWB16A9O05         0  B0000CNU15    RANDOM   \n",
       "1       A00177463W0XWB16A9O05         1  B0000GHNT0    RANDOM   \n",
       "2       A00177463W0XWB16A9O05         2  B0000TA3SK    RANDOM   \n",
       "3       A00177463W0XWB16A9O05         3  B0000W0GQQ    RANDOM   \n",
       "4       A00177463W0XWB16A9O05         4  B00014JNI0    RANDOM   \n",
       "...                       ...       ...         ...       ...   \n",
       "602860          AZZ5ASC403N74        40  B000BIQLL8    RANDOM   \n",
       "602861          AZZ5ASC403N74        41  B000BLNU6E    RANDOM   \n",
       "602862          AZZ5ASC403N74        42  B000BP1SDM    RANDOM   \n",
       "602863          AZZ5ASC403N74        43  B000CFJDWY    RANDOM   \n",
       "602864          AZZ5ASC403N74        44  B000CFLBEM    RANDOM   \n",
       "\n",
       "                                                    title  \n",
       "0       Lee Kum Kee Chiu Chow Chili Oil net wt. 205g (...  \n",
       "1       El Yucateco Chile Habanero Hot Sauce Bottle, R...  \n",
       "2       Wright's Natural Hickory Seasoning Liquid Smok...  \n",
       "3       Nielsen-Massey Madagascar Bourbon Vanilla Bean...  \n",
       "4       YS Organic Bee Farms CERTIFIED ORGANIC RAW HON...  \n",
       "...                                                   ...  \n",
       "602860  Kikkoman Instant Tofu Miso Soup (Soybean Paste...  \n",
       "602861            Grand Ghirardelli Chocolate Gift Basket  \n",
       "602862        Ginger People Original Ginger Chews 3oz Bag  \n",
       "602863  Late July Organic Classic Rich Crackers, 6-Oun...  \n",
       "602864  Late July Organic Round Saltine Crackers, 6-Ou...  \n",
       "\n",
       "[602865 rows x 5 columns]"
      ]
     },
     "execution_count": 23,
     "metadata": {},
     "output_type": "execute_result"
    }
   ],
   "source": [
    "max_recommendations"
   ]
  },
  {
   "cell_type": "markdown",
   "id": "80b4f989",
   "metadata": {},
   "source": [
    "# Store in `SQLite` DB"
   ]
  },
  {
   "cell_type": "code",
   "execution_count": 26,
   "id": "31a31059",
   "metadata": {},
   "outputs": [],
   "source": [
    "engine = create_engine(\"sqlite:///recommender.db\", echo=True)"
   ]
  },
  {
   "cell_type": "code",
   "execution_count": 27,
   "id": "6fdc4ce9",
   "metadata": {},
   "outputs": [
    {
     "name": "stdout",
     "output_type": "stream",
     "text": [
      "2021-09-29 17:32:34,523 INFO sqlalchemy.engine.Engine PRAGMA main.table_info(\"Grocery_and_Gourmet_Food\")\n",
      "2021-09-29 17:32:34,527 INFO sqlalchemy.engine.Engine [raw sql] ()\n",
      "2021-09-29 17:32:34,531 INFO sqlalchemy.engine.Engine PRAGMA temp.table_info(\"Grocery_and_Gourmet_Food\")\n",
      "2021-09-29 17:32:34,531 INFO sqlalchemy.engine.Engine [raw sql] ()\n",
      "2021-09-29 17:32:34,535 INFO sqlalchemy.engine.Engine BEGIN (implicit)\n",
      "2021-09-29 17:32:34,537 INFO sqlalchemy.engine.Engine \n",
      "CREATE TABLE \"Grocery_and_Gourmet_Food\" (\n",
      "\t\"index\" BIGINT, \n",
      "\t\"reviewerID\" TEXT, \n",
      "\titem_rank BIGINT, \n",
      "\tasin TEXT, \n",
      "\talgorithm TEXT, \n",
      "\ttitle TEXT\n",
      ")\n",
      "\n",
      "\n",
      "2021-09-29 17:32:34,537 INFO sqlalchemy.engine.Engine [no key 0.00076s] ()\n",
      "2021-09-29 17:32:34,540 INFO sqlalchemy.engine.Engine CREATE INDEX \"ix_Grocery_and_Gourmet_Food_index\" ON \"Grocery_and_Gourmet_Food\" (\"index\")\n",
      "2021-09-29 17:32:34,541 INFO sqlalchemy.engine.Engine [no key 0.00074s] ()\n",
      "2021-09-29 17:32:34,543 INFO sqlalchemy.engine.Engine COMMIT\n",
      "2021-09-29 17:32:34,783 INFO sqlalchemy.engine.Engine BEGIN (implicit)\n",
      "2021-09-29 17:32:37,038 INFO sqlalchemy.engine.Engine INSERT INTO \"Grocery_and_Gourmet_Food\" (\"index\", \"reviewerID\", item_rank, asin, algorithm, title) VALUES (?, ?, ?, ?, ?, ?)\n",
      "2021-09-29 17:32:37,039 INFO sqlalchemy.engine.Engine [generated in 1.84483s] ((0, 'A00177463W0XWB16A9O05', 0, 'B0000CNU15', 'RANDOM', 'Lee Kum Kee Chiu Chow Chili Oil net wt. 205g (7.2oz)'), (1, 'A00177463W0XWB16A9O05', 1, 'B0000GHNT0', 'RANDOM', 'El Yucateco Chile Habanero Hot Sauce Bottle, Red, 8 Ounce'), (2, 'A00177463W0XWB16A9O05', 2, 'B0000TA3SK', 'RANDOM', \"Wright's Natural Hickory Seasoning Liquid Smoke, 128 Ounce\"), (3, 'A00177463W0XWB16A9O05', 3, 'B0000W0GQQ', 'RANDOM', 'Nielsen-Massey Madagascar Bourbon Vanilla Bean Paste, with gift box, 32 ounces'), (4, 'A00177463W0XWB16A9O05', 4, 'B00014JNI0', 'RANDOM', 'YS Organic Bee Farms CERTIFIED ORGANIC RAW HONEY 100% CERTIFIED ORGANIC HONEY Raw, Unprocessed, Unpasteurized - Kosher 32oz(pack of 1)'), (5, 'A00177463W0XWB16A9O05', 5, 'B00014VTNW', 'RANDOM', 'Marmite Yeast Extract Flavored, 4.40 oz'), (6, 'A00177463W0XWB16A9O05', 6, 'B0001590IC', 'RANDOM', 'Freshpak Rooibos Tea 80 Tagless Bags (2 X Pack)'), (7, 'A00177463W0XWB16A9O05', 7, 'B00015UC4S', 'RANDOM', 'Clear Jel, 1 lb')  ... displaying 10 of 602865 total bound parameter sets ...  (602863, 'AZZ5ASC403N74', 43, 'B000CFJDWY', 'RANDOM', 'Late July Organic Classic Rich Crackers, 6-Ounce Boxes (Pack of 12)'), (602864, 'AZZ5ASC403N74', 44, 'B000CFLBEM', 'RANDOM', 'Late July Organic Round Saltine Crackers, 6-Ounce Boxes (Pack of 12)'))\n",
      "2021-09-29 17:32:38,469 INFO sqlalchemy.engine.Engine COMMIT\n",
      "2021-09-29 17:32:38,658 INFO sqlalchemy.engine.Engine SELECT name FROM sqlite_master WHERE type='table' ORDER BY name\n",
      "2021-09-29 17:32:38,659 INFO sqlalchemy.engine.Engine [raw sql] ()\n"
     ]
    }
   ],
   "source": [
    "max_recommendations.to_sql(f\"{CATEGORY}\", con=engine, if_exists=\"append\")"
   ]
  },
  {
   "cell_type": "code",
   "execution_count": null,
   "id": "e3de69a4",
   "metadata": {},
   "outputs": [],
   "source": []
  }
 ],
 "metadata": {
  "kernelspec": {
   "display_name": "Python 3 (ipykernel)",
   "language": "python",
   "name": "python3"
  },
  "language_info": {
   "codemirror_mode": {
    "name": "ipython",
    "version": 3
   },
   "file_extension": ".py",
   "mimetype": "text/x-python",
   "name": "python",
   "nbconvert_exporter": "python",
   "pygments_lexer": "ipython3",
   "version": "3.9.6"
  }
 },
 "nbformat": 4,
 "nbformat_minor": 5
}
