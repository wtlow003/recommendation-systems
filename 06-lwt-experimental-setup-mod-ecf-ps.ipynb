{
 "cells": [
  {
   "cell_type": "code",
   "execution_count": 1,
   "id": "efda0bf7",
   "metadata": {},
   "outputs": [
    {
     "name": "stderr",
     "output_type": "stream",
     "text": [
      "/Users/jensen/Desktop/recommendation-systems/.venv/lib/python3.9/site-packages/gensim/similarities/__init__.py:15: UserWarning: The gensim.similarities.levenshtein submodule is disabled, because the optional Levenshtein package <https://pypi.org/project/python-Levenshtein/> is unavailable. Install Levenhstein (e.g. `pip install python-Levenshtein`) to suppress this warning.\n",
      "  warnings.warn(msg)\n"
     ]
    }
   ],
   "source": [
    "import warnings\n",
    "\n",
    "import numpy as np\n",
    "import pandas as pd\n",
    "\n",
    "from gensim.models.doc2vec import Doc2Vec\n",
    "from sqlalchemy import create_engine\n",
    "from tqdm import tqdm\n",
    "\n",
    "from src.models import algorithms, evaluate_model\n",
    "from src.utilities import utilities\n",
    "\n",
    "tqdm.pandas()\n",
    "warnings.filterwarnings('ignore')"
   ]
  },
  {
   "cell_type": "markdown",
   "id": "3e56bfe5",
   "metadata": {},
   "source": [
    "# Load Data and Models"
   ]
  },
  {
   "cell_type": "code",
   "execution_count": 2,
   "id": "d4e036df",
   "metadata": {},
   "outputs": [],
   "source": [
    "# global variables\n",
    "DATA_PATH = \"data/evaluation\"\n",
    "D2V_PATH = \"models/d2v\"\n",
    "CATEGORY = \"Pet_Supplies\"\n",
    "\n",
    "# d2v training parameters\n",
    "EPOCHS = 10\n",
    "\n",
    "# training parameters\n",
    "N_EPOCHS = 5\n",
    "LR_ALL = 0.005\n",
    "BETA = 0.1\n",
    "\n",
    "# reproducibility checks\n",
    "SEED = 42\n",
    "np.random.seed(42)\n",
    "\n",
    "train = pd.read_csv(f\"{DATA_PATH}/{CATEGORY}_train.csv\")\n",
    "d2v = Doc2Vec.load(f\"{D2V_PATH}/{CATEGORY}_user_item_50_{EPOCHS}_d2v.model\")"
   ]
  },
  {
   "cell_type": "code",
   "execution_count": 3,
   "id": "4b085128",
   "metadata": {
    "scrolled": true
   },
   "outputs": [
    {
     "data": {
      "text/html": [
       "<div>\n",
       "<style scoped>\n",
       "    .dataframe tbody tr th:only-of-type {\n",
       "        vertical-align: middle;\n",
       "    }\n",
       "\n",
       "    .dataframe tbody tr th {\n",
       "        vertical-align: top;\n",
       "    }\n",
       "\n",
       "    .dataframe thead th {\n",
       "        text-align: right;\n",
       "    }\n",
       "</style>\n",
       "<table border=\"1\" class=\"dataframe\">\n",
       "  <thead>\n",
       "    <tr style=\"text-align: right;\">\n",
       "      <th></th>\n",
       "      <th>index</th>\n",
       "      <th>asin</th>\n",
       "      <th>title</th>\n",
       "      <th>categories</th>\n",
       "      <th>reviewerID</th>\n",
       "      <th>overall</th>\n",
       "      <th>reviewText</th>\n",
       "      <th>reviewTime</th>\n",
       "      <th>processedReviewText</th>\n",
       "    </tr>\n",
       "  </thead>\n",
       "  <tbody>\n",
       "    <tr>\n",
       "      <th>0</th>\n",
       "      <td>0</td>\n",
       "      <td>1223000893</td>\n",
       "      <td>Cat Sitter DVD Trilogy - Vol 1, Vol 2 and Vol 3</td>\n",
       "      <td>[]</td>\n",
       "      <td>A14CK12J7C7JRK</td>\n",
       "      <td>3.0</td>\n",
       "      <td>I purchased the Trilogy with hoping my two cat...</td>\n",
       "      <td>2011-01-12</td>\n",
       "      <td>purchase trilogy hop cat age interested yr old...</td>\n",
       "    </tr>\n",
       "    <tr>\n",
       "      <th>1</th>\n",
       "      <td>2</td>\n",
       "      <td>1223000893</td>\n",
       "      <td>Cat Sitter DVD Trilogy - Vol 1, Vol 2 and Vol 3</td>\n",
       "      <td>[]</td>\n",
       "      <td>A2CR37UY3VR7BN</td>\n",
       "      <td>4.0</td>\n",
       "      <td>I bought the triliogy and have tested out all ...</td>\n",
       "      <td>2012-12-19</td>\n",
       "      <td>buy triliogy test dvd appear volume receive re...</td>\n",
       "    </tr>\n",
       "    <tr>\n",
       "      <th>2</th>\n",
       "      <td>3</td>\n",
       "      <td>1223000893</td>\n",
       "      <td>Cat Sitter DVD Trilogy - Vol 1, Vol 2 and Vol 3</td>\n",
       "      <td>[]</td>\n",
       "      <td>A2A4COGL9VW2HY</td>\n",
       "      <td>4.0</td>\n",
       "      <td>My female kitty could care less about these vi...</td>\n",
       "      <td>2011-05-12</td>\n",
       "      <td>female kitty care video care little male dig a...</td>\n",
       "    </tr>\n",
       "    <tr>\n",
       "      <th>3</th>\n",
       "      <td>4</td>\n",
       "      <td>1223000893</td>\n",
       "      <td>Cat Sitter DVD Trilogy - Vol 1, Vol 2 and Vol 3</td>\n",
       "      <td>[]</td>\n",
       "      <td>A2UBQA85NIGLHA</td>\n",
       "      <td>3.0</td>\n",
       "      <td>If I had gotten just volume two, I would have ...</td>\n",
       "      <td>2012-03-05</td>\n",
       "      <td>volume star trilogy star read review know vol ...</td>\n",
       "    </tr>\n",
       "    <tr>\n",
       "      <th>4</th>\n",
       "      <td>5</td>\n",
       "      <td>B00005MF9U</td>\n",
       "      <td>LitterMaid LM900 Mega Self-Cleaning Litter Box</td>\n",
       "      <td>['Pet Supplies', 'Cats', 'Litter &amp;amp; Housebr...</td>\n",
       "      <td>A2BH04B9G9LOYA</td>\n",
       "      <td>1.0</td>\n",
       "      <td>First off, it seems that someone is spamming t...</td>\n",
       "      <td>2006-12-31</td>\n",
       "      <td>spamming review glow reviewer review amazon ba...</td>\n",
       "    </tr>\n",
       "    <tr>\n",
       "      <th>68865</th>\n",
       "      <td>111581</td>\n",
       "      <td>B00K3YPOO0</td>\n",
       "      <td>Brightest Black Light Flashlight on Amazon- UV...</td>\n",
       "      <td>[]</td>\n",
       "      <td>A11J1FHCK5U06J</td>\n",
       "      <td>4.0</td>\n",
       "      <td>Now I know exactly where the trouble spots are...</td>\n",
       "      <td>2014-05-23</td>\n",
       "      <td>know exactly trouble spot sniffing guess invis...</td>\n",
       "    </tr>\n",
       "    <tr>\n",
       "      <th>68866</th>\n",
       "      <td>111585</td>\n",
       "      <td>B00K3YPOO0</td>\n",
       "      <td>Brightest Black Light Flashlight on Amazon- UV...</td>\n",
       "      <td>[]</td>\n",
       "      <td>A18JF0T0GOCORW</td>\n",
       "      <td>4.0</td>\n",
       "      <td>I use this light to help me find stains when I...</td>\n",
       "      <td>2014-05-24</td>\n",
       "      <td>use light help stain carpet clean pre treat ca...</td>\n",
       "    </tr>\n",
       "    <tr>\n",
       "      <th>68867</th>\n",
       "      <td>111595</td>\n",
       "      <td>B00K7EG97C</td>\n",
       "      <td>Nutro Crunchy Dog Treats with Real Mixed Berri...</td>\n",
       "      <td>['Pet Supplies', 'Dogs', 'Treats', 'Cookies, B...</td>\n",
       "      <td>A3GRPCW9DG427Z</td>\n",
       "      <td>5.0</td>\n",
       "      <td>We are owned by the 3 pickiest pooches in the ...</td>\n",
       "      <td>2013-07-27</td>\n",
       "      <td>pickiest pooch world love fool reject doggie t...</td>\n",
       "    </tr>\n",
       "    <tr>\n",
       "      <th>68868</th>\n",
       "      <td>111598</td>\n",
       "      <td>B00K7EG97C</td>\n",
       "      <td>Nutro Crunchy Dog Treats with Real Mixed Berri...</td>\n",
       "      <td>['Pet Supplies', 'Dogs', 'Treats', 'Cookies, B...</td>\n",
       "      <td>A2X6TLAX3JEO1A</td>\n",
       "      <td>5.0</td>\n",
       "      <td>My highly allergic white boxer loves these tre...</td>\n",
       "      <td>2014-05-09</td>\n",
       "      <td>highly allergic white boxer love treat meat co...</td>\n",
       "    </tr>\n",
       "    <tr>\n",
       "      <th>68869</th>\n",
       "      <td>111602</td>\n",
       "      <td>B00KJGFGFO</td>\n",
       "      <td>Curry Brush with Coarse or Fine Bristles. High...</td>\n",
       "      <td>[]</td>\n",
       "      <td>A9PG9ODPPP31N</td>\n",
       "      <td>5.0</td>\n",
       "      <td>Works great on my medium sized dog. She has ve...</td>\n",
       "      <td>2014-07-09</td>\n",
       "      <td>work great medium size dog coarse hair work gr...</td>\n",
       "    </tr>\n",
       "  </tbody>\n",
       "</table>\n",
       "</div>"
      ],
      "text/plain": [
       "        index        asin                                              title  \\\n",
       "0           0  1223000893    Cat Sitter DVD Trilogy - Vol 1, Vol 2 and Vol 3   \n",
       "1           2  1223000893    Cat Sitter DVD Trilogy - Vol 1, Vol 2 and Vol 3   \n",
       "2           3  1223000893    Cat Sitter DVD Trilogy - Vol 1, Vol 2 and Vol 3   \n",
       "3           4  1223000893    Cat Sitter DVD Trilogy - Vol 1, Vol 2 and Vol 3   \n",
       "4           5  B00005MF9U     LitterMaid LM900 Mega Self-Cleaning Litter Box   \n",
       "68865  111581  B00K3YPOO0  Brightest Black Light Flashlight on Amazon- UV...   \n",
       "68866  111585  B00K3YPOO0  Brightest Black Light Flashlight on Amazon- UV...   \n",
       "68867  111595  B00K7EG97C  Nutro Crunchy Dog Treats with Real Mixed Berri...   \n",
       "68868  111598  B00K7EG97C  Nutro Crunchy Dog Treats with Real Mixed Berri...   \n",
       "68869  111602  B00KJGFGFO  Curry Brush with Coarse or Fine Bristles. High...   \n",
       "\n",
       "                                              categories      reviewerID  \\\n",
       "0                                                     []  A14CK12J7C7JRK   \n",
       "1                                                     []  A2CR37UY3VR7BN   \n",
       "2                                                     []  A2A4COGL9VW2HY   \n",
       "3                                                     []  A2UBQA85NIGLHA   \n",
       "4      ['Pet Supplies', 'Cats', 'Litter &amp; Housebr...  A2BH04B9G9LOYA   \n",
       "68865                                                 []  A11J1FHCK5U06J   \n",
       "68866                                                 []  A18JF0T0GOCORW   \n",
       "68867  ['Pet Supplies', 'Dogs', 'Treats', 'Cookies, B...  A3GRPCW9DG427Z   \n",
       "68868  ['Pet Supplies', 'Dogs', 'Treats', 'Cookies, B...  A2X6TLAX3JEO1A   \n",
       "68869                                                 []   A9PG9ODPPP31N   \n",
       "\n",
       "       overall                                         reviewText  reviewTime  \\\n",
       "0          3.0  I purchased the Trilogy with hoping my two cat...  2011-01-12   \n",
       "1          4.0  I bought the triliogy and have tested out all ...  2012-12-19   \n",
       "2          4.0  My female kitty could care less about these vi...  2011-05-12   \n",
       "3          3.0  If I had gotten just volume two, I would have ...  2012-03-05   \n",
       "4          1.0  First off, it seems that someone is spamming t...  2006-12-31   \n",
       "68865      4.0  Now I know exactly where the trouble spots are...  2014-05-23   \n",
       "68866      4.0  I use this light to help me find stains when I...  2014-05-24   \n",
       "68867      5.0  We are owned by the 3 pickiest pooches in the ...  2013-07-27   \n",
       "68868      5.0  My highly allergic white boxer loves these tre...  2014-05-09   \n",
       "68869      5.0  Works great on my medium sized dog. She has ve...  2014-07-09   \n",
       "\n",
       "                                     processedReviewText  \n",
       "0      purchase trilogy hop cat age interested yr old...  \n",
       "1      buy triliogy test dvd appear volume receive re...  \n",
       "2      female kitty care video care little male dig a...  \n",
       "3      volume star trilogy star read review know vol ...  \n",
       "4      spamming review glow reviewer review amazon ba...  \n",
       "68865  know exactly trouble spot sniffing guess invis...  \n",
       "68866  use light help stain carpet clean pre treat ca...  \n",
       "68867  pickiest pooch world love fool reject doggie t...  \n",
       "68868  highly allergic white boxer love treat meat co...  \n",
       "68869  work great medium size dog coarse hair work gr...  "
      ]
     },
     "execution_count": 3,
     "metadata": {},
     "output_type": "execute_result"
    }
   ],
   "source": [
    "# checking train dataframe\n",
    "train.head().append(train.tail())"
   ]
  },
  {
   "cell_type": "code",
   "execution_count": 4,
   "id": "ba37a930",
   "metadata": {},
   "outputs": [
    {
     "data": {
      "text/plain": [
       "array([-0.27808702, -0.12123964, -0.01402191, -0.06815875, -0.0564175 ,\n",
       "        0.04842656,  0.0368541 ,  0.01398593, -0.14648551,  0.08242252,\n",
       "        0.06371399,  0.15403804,  0.05145778,  0.04584663, -0.06243193,\n",
       "       -0.08451284,  0.00833067, -0.02114333, -0.08585242,  0.0117121 ,\n",
       "        0.01590339,  0.00859375, -0.11234739, -0.09751832, -0.00462302,\n",
       "        0.16073631,  0.03879074, -0.1404444 , -0.07833791, -0.14203373,\n",
       "        0.01051444,  0.07330766,  0.00680773,  0.10980774,  0.0329658 ,\n",
       "        0.15197492, -0.09528293, -0.15051496,  0.13257255, -0.00050401,\n",
       "       -0.04297897,  0.12316997, -0.0282629 , -0.00220049,  0.02751359,\n",
       "        0.13378084,  0.11880151, -0.06431285, -0.03257735, -0.04988131],\n",
       "      dtype=float32)"
      ]
     },
     "execution_count": 4,
     "metadata": {},
     "output_type": "execute_result"
    }
   ],
   "source": [
    "# testing d2v models\n",
    "d2v.dv[0]"
   ]
  },
  {
   "cell_type": "markdown",
   "id": "4ed374ca",
   "metadata": {},
   "source": [
    "# Generating User/Item Embeddings"
   ]
  },
  {
   "cell_type": "code",
   "execution_count": 5,
   "id": "ccc02f16",
   "metadata": {},
   "outputs": [],
   "source": [
    "user_idx_map, user_vecs, item_idx_map, item_vecs = utilities.generate_user_item_embeddings(train, d2v)"
   ]
  },
  {
   "cell_type": "code",
   "execution_count": 6,
   "id": "455ba70f",
   "metadata": {},
   "outputs": [],
   "source": [
    "# converting factors into numpy obj\n",
    "user_factors = user_vecs.to_numpy()\n",
    "item_factors = item_vecs.to_numpy()"
   ]
  },
  {
   "cell_type": "code",
   "execution_count": 7,
   "id": "e06b73c0",
   "metadata": {},
   "outputs": [
    {
     "data": {
      "text/plain": [
       "array([-0.8208622 , -0.13265412,  0.08794311, -0.31527147,  0.05089829,\n",
       "        0.01806653, -0.01790568,  0.12906374, -0.32686502,  0.34363213,\n",
       "        0.11507503,  0.19288237,  0.2258099 ,  0.139002  , -0.02829647,\n",
       "        0.18842314, -0.04987793,  0.06237138, -0.21363561, -0.17762592,\n",
       "       -0.01040701,  0.21963714, -0.07449435, -0.01158117, -0.08465536,\n",
       "        0.28415218, -0.14400692, -0.493495  , -0.26090425, -0.24364568,\n",
       "        0.28065497, -0.07475447,  0.03166582,  0.06282842,  0.05320998,\n",
       "        0.53347766, -0.19234563,  0.00528651,  0.4275993 ,  0.3116027 ,\n",
       "       -0.08872687,  0.17197491, -0.19117323, -0.19778593, -0.1686984 ,\n",
       "        0.27757648,  0.18943855, -0.05875679, -0.06944423,  0.0362678 ],\n",
       "      dtype=float32)"
      ]
     },
     "execution_count": 7,
     "metadata": {},
     "output_type": "execute_result"
    }
   ],
   "source": [
    "# check user factors\n",
    "user_factors[0,:]"
   ]
  },
  {
   "cell_type": "code",
   "execution_count": 8,
   "id": "e0652aad",
   "metadata": {},
   "outputs": [
    {
     "data": {
      "text/plain": [
       "array([-0.27808702, -0.12123964, -0.01402191, -0.06815875, -0.0564175 ,\n",
       "        0.04842656,  0.0368541 ,  0.01398593, -0.14648551,  0.08242252,\n",
       "        0.06371399,  0.15403804,  0.05145778,  0.04584663, -0.06243193,\n",
       "       -0.08451284,  0.00833067, -0.02114333, -0.08585242,  0.0117121 ,\n",
       "        0.01590339,  0.00859375, -0.11234739, -0.09751832, -0.00462302,\n",
       "        0.16073631,  0.03879074, -0.1404444 , -0.07833791, -0.14203373,\n",
       "        0.01051444,  0.07330766,  0.00680773,  0.10980774,  0.0329658 ,\n",
       "        0.15197492, -0.09528293, -0.15051496,  0.13257255, -0.00050401,\n",
       "       -0.04297897,  0.12316997, -0.0282629 , -0.00220049,  0.02751359,\n",
       "        0.13378084,  0.11880151, -0.06431285, -0.03257735, -0.04988131],\n",
       "      dtype=float32)"
      ]
     },
     "execution_count": 8,
     "metadata": {},
     "output_type": "execute_result"
    }
   ],
   "source": [
    "# check item factors\n",
    "item_factors[0,:]"
   ]
  },
  {
   "cell_type": "markdown",
   "id": "6c47668d",
   "metadata": {},
   "source": [
    "# Generate N-Recommendations = {10, 25, 30, 45}"
   ]
  },
  {
   "cell_type": "markdown",
   "id": "f58f98d6",
   "metadata": {},
   "source": [
    "## Load Test Data"
   ]
  },
  {
   "cell_type": "code",
   "execution_count": 9,
   "id": "11b82429",
   "metadata": {},
   "outputs": [
    {
     "data": {
      "text/html": [
       "<div>\n",
       "<style scoped>\n",
       "    .dataframe tbody tr th:only-of-type {\n",
       "        vertical-align: middle;\n",
       "    }\n",
       "\n",
       "    .dataframe tbody tr th {\n",
       "        vertical-align: top;\n",
       "    }\n",
       "\n",
       "    .dataframe thead th {\n",
       "        text-align: right;\n",
       "    }\n",
       "</style>\n",
       "<table border=\"1\" class=\"dataframe\">\n",
       "  <thead>\n",
       "    <tr style=\"text-align: right;\">\n",
       "      <th></th>\n",
       "      <th>index</th>\n",
       "      <th>asin</th>\n",
       "      <th>title</th>\n",
       "      <th>categories</th>\n",
       "      <th>reviewerID</th>\n",
       "      <th>overall</th>\n",
       "      <th>reviewText</th>\n",
       "      <th>reviewTime</th>\n",
       "      <th>processedReviewText</th>\n",
       "    </tr>\n",
       "  </thead>\n",
       "  <tbody>\n",
       "    <tr>\n",
       "      <th>0</th>\n",
       "      <td>1</td>\n",
       "      <td>1223000893</td>\n",
       "      <td>Cat Sitter DVD Trilogy - Vol 1, Vol 2 and Vol 3</td>\n",
       "      <td>[]</td>\n",
       "      <td>A39QHP5WLON5HV</td>\n",
       "      <td>5.0</td>\n",
       "      <td>There are usually one or more of my cats watch...</td>\n",
       "      <td>2013-09-14</td>\n",
       "      <td>usually cat watch tv stay trouble dvd play lik...</td>\n",
       "    </tr>\n",
       "    <tr>\n",
       "      <th>1</th>\n",
       "      <td>104</td>\n",
       "      <td>B00005MF9V</td>\n",
       "      <td>LitterMaid Universal Cat Privacy Tent (LMT100)</td>\n",
       "      <td>['Pet Supplies', 'Cats', 'Litter &amp; Housebreaki...</td>\n",
       "      <td>A366V0GCEPH5CX</td>\n",
       "      <td>5.0</td>\n",
       "      <td>My cats love it and so do I. I no longer have ...</td>\n",
       "      <td>2013-02-02</td>\n",
       "      <td>cat love longer cat litter fly floor litter fl...</td>\n",
       "    </tr>\n",
       "    <tr>\n",
       "      <th>2</th>\n",
       "      <td>133</td>\n",
       "      <td>B00005MF9T</td>\n",
       "      <td>LitterMaid LM500 Automated Litter Box</td>\n",
       "      <td>['Pet Supplies', 'Cats', 'Litter &amp; Housebreaki...</td>\n",
       "      <td>ALWWS8QBYN80B</td>\n",
       "      <td>1.0</td>\n",
       "      <td>I have one female cat that weighs under 10 pou...</td>\n",
       "      <td>2004-11-17</td>\n",
       "      <td>female cat weigh pound year old use everclean ...</td>\n",
       "    </tr>\n",
       "    <tr>\n",
       "      <th>3</th>\n",
       "      <td>153</td>\n",
       "      <td>B00005MF9W</td>\n",
       "      <td>LitterMaid Waste Receptacles Automatic Litter ...</td>\n",
       "      <td>['Pet Supplies', 'Cats', 'Litter &amp; Housebreaki...</td>\n",
       "      <td>A3PVI3NE7OY1SP</td>\n",
       "      <td>5.0</td>\n",
       "      <td>I love these. They make the clean up so much e...</td>\n",
       "      <td>2013-09-26</td>\n",
       "      <td>love clean easy clean box manually use issue w...</td>\n",
       "    </tr>\n",
       "    <tr>\n",
       "      <th>4</th>\n",
       "      <td>154</td>\n",
       "      <td>B00005MF9W</td>\n",
       "      <td>LitterMaid Waste Receptacles Automatic Litter ...</td>\n",
       "      <td>['Pet Supplies', 'Cats', 'Litter &amp; Housebreaki...</td>\n",
       "      <td>A2H83XMHUVDLJY</td>\n",
       "      <td>4.0</td>\n",
       "      <td>I love this litter box. I do not use the lids,...</td>\n",
       "      <td>2014-06-26</td>\n",
       "      <td>love litter box use lid use receptacle tear cr...</td>\n",
       "    </tr>\n",
       "    <tr>\n",
       "      <th>41564</th>\n",
       "      <td>111601</td>\n",
       "      <td>B00KJGFGFO</td>\n",
       "      <td>Curry Brush with Coarse or Fine Bristles. High...</td>\n",
       "      <td>[]</td>\n",
       "      <td>AV34KNYW82YSS</td>\n",
       "      <td>4.0</td>\n",
       "      <td>Pulled lots of hair out of my Labs coat. Didn'...</td>\n",
       "      <td>2014-07-18</td>\n",
       "      <td>pulled lot hair labs coat think prove wrong co...</td>\n",
       "    </tr>\n",
       "    <tr>\n",
       "      <th>41565</th>\n",
       "      <td>111603</td>\n",
       "      <td>B00KJGFGFO</td>\n",
       "      <td>Curry Brush with Coarse or Fine Bristles. High...</td>\n",
       "      <td>[]</td>\n",
       "      <td>A1YMNTFLNDYQ1F</td>\n",
       "      <td>5.0</td>\n",
       "      <td>I have been trying to find a rubber bristle br...</td>\n",
       "      <td>2014-07-16</td>\n",
       "      <td>try rubber bristle brush persian year lose glo...</td>\n",
       "    </tr>\n",
       "    <tr>\n",
       "      <th>41566</th>\n",
       "      <td>111604</td>\n",
       "      <td>B00KJGFGFO</td>\n",
       "      <td>Curry Brush with Coarse or Fine Bristles. High...</td>\n",
       "      <td>[]</td>\n",
       "      <td>A1FQ3HRVXA4A5B</td>\n",
       "      <td>5.0</td>\n",
       "      <td>Great product to use on your pets knowing this...</td>\n",
       "      <td>2014-07-11</td>\n",
       "      <td>great product use pet know gentle rubber damag...</td>\n",
       "    </tr>\n",
       "    <tr>\n",
       "      <th>41567</th>\n",
       "      <td>111605</td>\n",
       "      <td>B00KJGFGFO</td>\n",
       "      <td>Curry Brush with Coarse or Fine Bristles. High...</td>\n",
       "      <td>[]</td>\n",
       "      <td>A3OP6CI0XCRQXO</td>\n",
       "      <td>5.0</td>\n",
       "      <td>I bought a second one because I have two cats ...</td>\n",
       "      <td>2014-07-22</td>\n",
       "      <td>buy second cat american short hair buy brush m...</td>\n",
       "    </tr>\n",
       "    <tr>\n",
       "      <th>41568</th>\n",
       "      <td>111606</td>\n",
       "      <td>B00KJGFGFO</td>\n",
       "      <td>Curry Brush with Coarse or Fine Bristles. High...</td>\n",
       "      <td>[]</td>\n",
       "      <td>A11LC938XF35XN</td>\n",
       "      <td>5.0</td>\n",
       "      <td>Our dogs love getting brushed with this.  It m...</td>\n",
       "      <td>2014-07-17</td>\n",
       "      <td>dog love brush massage remove heavy undercoat ...</td>\n",
       "    </tr>\n",
       "  </tbody>\n",
       "</table>\n",
       "</div>"
      ],
      "text/plain": [
       "        index        asin                                              title  \\\n",
       "0           1  1223000893    Cat Sitter DVD Trilogy - Vol 1, Vol 2 and Vol 3   \n",
       "1         104  B00005MF9V     LitterMaid Universal Cat Privacy Tent (LMT100)   \n",
       "2         133  B00005MF9T              LitterMaid LM500 Automated Litter Box   \n",
       "3         153  B00005MF9W  LitterMaid Waste Receptacles Automatic Litter ...   \n",
       "4         154  B00005MF9W  LitterMaid Waste Receptacles Automatic Litter ...   \n",
       "41564  111601  B00KJGFGFO  Curry Brush with Coarse or Fine Bristles. High...   \n",
       "41565  111603  B00KJGFGFO  Curry Brush with Coarse or Fine Bristles. High...   \n",
       "41566  111604  B00KJGFGFO  Curry Brush with Coarse or Fine Bristles. High...   \n",
       "41567  111605  B00KJGFGFO  Curry Brush with Coarse or Fine Bristles. High...   \n",
       "41568  111606  B00KJGFGFO  Curry Brush with Coarse or Fine Bristles. High...   \n",
       "\n",
       "                                              categories      reviewerID  \\\n",
       "0                                                     []  A39QHP5WLON5HV   \n",
       "1      ['Pet Supplies', 'Cats', 'Litter & Housebreaki...  A366V0GCEPH5CX   \n",
       "2      ['Pet Supplies', 'Cats', 'Litter & Housebreaki...   ALWWS8QBYN80B   \n",
       "3      ['Pet Supplies', 'Cats', 'Litter & Housebreaki...  A3PVI3NE7OY1SP   \n",
       "4      ['Pet Supplies', 'Cats', 'Litter & Housebreaki...  A2H83XMHUVDLJY   \n",
       "41564                                                 []   AV34KNYW82YSS   \n",
       "41565                                                 []  A1YMNTFLNDYQ1F   \n",
       "41566                                                 []  A1FQ3HRVXA4A5B   \n",
       "41567                                                 []  A3OP6CI0XCRQXO   \n",
       "41568                                                 []  A11LC938XF35XN   \n",
       "\n",
       "       overall                                         reviewText  reviewTime  \\\n",
       "0          5.0  There are usually one or more of my cats watch...  2013-09-14   \n",
       "1          5.0  My cats love it and so do I. I no longer have ...  2013-02-02   \n",
       "2          1.0  I have one female cat that weighs under 10 pou...  2004-11-17   \n",
       "3          5.0  I love these. They make the clean up so much e...  2013-09-26   \n",
       "4          4.0  I love this litter box. I do not use the lids,...  2014-06-26   \n",
       "41564      4.0  Pulled lots of hair out of my Labs coat. Didn'...  2014-07-18   \n",
       "41565      5.0  I have been trying to find a rubber bristle br...  2014-07-16   \n",
       "41566      5.0  Great product to use on your pets knowing this...  2014-07-11   \n",
       "41567      5.0  I bought a second one because I have two cats ...  2014-07-22   \n",
       "41568      5.0  Our dogs love getting brushed with this.  It m...  2014-07-17   \n",
       "\n",
       "                                     processedReviewText  \n",
       "0      usually cat watch tv stay trouble dvd play lik...  \n",
       "1      cat love longer cat litter fly floor litter fl...  \n",
       "2      female cat weigh pound year old use everclean ...  \n",
       "3      love clean easy clean box manually use issue w...  \n",
       "4      love litter box use lid use receptacle tear cr...  \n",
       "41564  pulled lot hair labs coat think prove wrong co...  \n",
       "41565  try rubber bristle brush persian year lose glo...  \n",
       "41566  great product use pet know gentle rubber damag...  \n",
       "41567  buy second cat american short hair buy brush m...  \n",
       "41568  dog love brush massage remove heavy undercoat ...  "
      ]
     },
     "execution_count": 9,
     "metadata": {},
     "output_type": "execute_result"
    }
   ],
   "source": [
    "test = pd.read_csv(f\"{DATA_PATH}/{CATEGORY}_test.csv\")\n",
    "test.head().append(test.tail())"
   ]
  },
  {
   "cell_type": "code",
   "execution_count": 10,
   "id": "dc34f14f",
   "metadata": {},
   "outputs": [],
   "source": [
    "# generating test history\n",
    "test_user_history = (pd.DataFrame(test.groupby(['reviewerID'])['asin']\n",
    "                                  .apply(list).reset_index()))"
   ]
  },
  {
   "cell_type": "code",
   "execution_count": 11,
   "id": "85b19cfc",
   "metadata": {},
   "outputs": [
    {
     "name": "stdout",
     "output_type": "stream",
     "text": [
      "                  reviewerID                                  asin\n",
      "0      A04173782GDZSQ91AJ7OD              [B0090Z9AYS, B00CPDWT2M]\n",
      "1      A042274212BJJVOBS4Q85              [B005AZ4M3Q, B00771WQIY]\n",
      "2       A0436342QLT4257JODYJ  [B0018CDR68, B003SJTM8Q, B00474A3DY]\n",
      "3      A04795073FIBKY8GSLZYI              [B001PKT30M, B005DGI2RY]\n",
      "4      A06658082A27F4VB5UG8E              [B000TZ1TTM, B0019VUHH0]\n",
      "...                      ...                                   ...\n",
      "18993          AZYJE40XW6MFG              [B00HVAKJZS, B00IDZT294]\n",
      "18994          AZZ56WF4X19G2                          [B004A7X218]\n",
      "18995          AZZNK89PXD006  [B0002DHV16, B005BP8MQ8, B009RTX4SU]\n",
      "18996          AZZV9PDNMCOZW              [B007EQL390, B00ISBWVT6]\n",
      "18997          AZZYW4YOE1B6E  [B0002AQPA2, B0002AQPA2, B0002ARQV4]\n",
      "\n",
      "[18998 rows x 2 columns]\n"
     ]
    }
   ],
   "source": [
    "print(test_user_history)"
   ]
  },
  {
   "cell_type": "markdown",
   "id": "0d650855",
   "metadata": {},
   "source": [
    "## Preparing Dataset for Surprise's Algorithm"
   ]
  },
  {
   "cell_type": "markdown",
   "id": "07343755",
   "metadata": {},
   "source": [
    "## Instantiate Pre-Initialised Matrix Factorization (Paragraph Vector)"
   ]
  },
  {
   "cell_type": "code",
   "execution_count": 12,
   "id": "cd71b389",
   "metadata": {},
   "outputs": [],
   "source": [
    "# instantiating mod-ecf\n",
    "mod_ecf = algorithms.PreInitialisedMF(user_map=user_idx_map,\n",
    "                                      item_map=item_idx_map,\n",
    "                                      user_factor=user_factors,\n",
    "                                      item_factor=item_factors,\n",
    "                                      learning_rate=LR_ALL,\n",
    "                                      beta=BETA,\n",
    "                                      num_epochs=N_EPOCHS,\n",
    "                                      num_factors=50)"
   ]
  },
  {
   "cell_type": "code",
   "execution_count": 13,
   "id": "1eeabadc",
   "metadata": {},
   "outputs": [
    {
     "name": "stdout",
     "output_type": "stream",
     "text": [
      "Processing epoch 0\n",
      "Processing epoch 1\n",
      "Processing epoch 2\n",
      "Processing epoch 3\n",
      "Processing epoch 4\n",
      "CPU times: user 2min 53s, sys: 372 ms, total: 2min 53s\n",
      "Wall time: 2min 53s\n"
     ]
    }
   ],
   "source": [
    "%%time\n",
    "# fitting to training data\n",
    "mod_ecf.fit(train, verbose=True)"
   ]
  },
  {
   "cell_type": "code",
   "execution_count": 14,
   "id": "fa587004",
   "metadata": {},
   "outputs": [
    {
     "name": "stdout",
     "output_type": "stream",
     "text": [
      "CPU times: user 45.3 s, sys: 1.99 s, total: 47.3 s\n",
      "Wall time: 47.4 s\n"
     ]
    }
   ],
   "source": [
    "%%time\n",
    "# generate candidate items for user to predict rating\n",
    "testset = mod_ecf.trainset.build_anti_testset()"
   ]
  },
  {
   "cell_type": "code",
   "execution_count": 15,
   "id": "c8e539de",
   "metadata": {},
   "outputs": [
    {
     "name": "stdout",
     "output_type": "stream",
     "text": [
      "CPU times: user 11min 18s, sys: 3min 54s, total: 15min 13s\n",
      "Wall time: 16min 44s\n"
     ]
    }
   ],
   "source": [
    "%%time\n",
    "# predict ratings for all pairs (u, i) that are NOT in the training set\n",
    "candidate_items = mod_ecf.test(testset, verbose=False)"
   ]
  },
  {
   "cell_type": "markdown",
   "id": "006c2beb",
   "metadata": {},
   "source": [
    "## Loop through N = {10, 25, 30, 45}"
   ]
  },
  {
   "cell_type": "code",
   "execution_count": 16,
   "id": "b98c854f",
   "metadata": {},
   "outputs": [],
   "source": [
    "# generate item popularity\n",
    "item_popularity = evaluate_model.generate_item_popularity(train)"
   ]
  },
  {
   "cell_type": "code",
   "execution_count": 17,
   "id": "2caa53f0",
   "metadata": {},
   "outputs": [
    {
     "name": "stdout",
     "output_type": "stream",
     "text": [
      "The MOD-ECF has an average recall@5: 0.00439, average novelty@5: 0.95870\n",
      "The MOD-ECF has an average recall@10: 0.00840, average novelty@10: 0.96224\n",
      "The MOD-ECF has an average recall@15: 0.01274, average novelty@15: 0.96423\n",
      "The MOD-ECF has an average recall@20: 0.01571, average novelty@20: 0.96555\n",
      "CPU times: user 7min 50s, sys: 4min 14s, total: 12min 4s\n",
      "Wall time: 15min 55s\n"
     ]
    }
   ],
   "source": [
    "%%time\n",
    "n_recommendations = {}\n",
    "for n in [5, 10, 15, 20]:\n",
    "    # retrieve the top-n items based on similarities\n",
    "    top_ns = mod_ecf.get_top_n(candidate_items, n)\n",
    "    # evaluate how well the recommended items predicted the future purchases\n",
    "    n_recommended_items = (evaluate_model.\n",
    "                           evaluate_recommendations(model_name = 'MOD-ECF',\n",
    "                                                    top_ns = top_ns,\n",
    "                                                    user_rating_history = test_user_history, \n",
    "                                                    item_popularity = item_popularity, \n",
    "                                                    n = n,\n",
    "                                                    mf_based = True))\n",
    "    # saving the n-value and recommended items\n",
    "    n_recommendations[n] = (top_ns, n_recommended_items)"
   ]
  },
  {
   "cell_type": "markdown",
   "id": "d3e73163",
   "metadata": {},
   "source": [
    "# Evaluate N-Recommendations"
   ]
  },
  {
   "cell_type": "markdown",
   "id": "a30e36de",
   "metadata": {},
   "source": [
    "## N=5"
   ]
  },
  {
   "cell_type": "code",
   "execution_count": 18,
   "id": "4e86fdb8",
   "metadata": {},
   "outputs": [
    {
     "name": "stdout",
     "output_type": "stream",
     "text": [
      "For user: A3T87QAUUPTMZK:\n",
      "Purchase History:\n",
      "             asin                                              title\n",
      "43366  B0010OSIHW  Zoo Med Eco Earth Compressed Coconut Fiber Sub...\n",
      "45100  B00167VVP4   Zoo Med Eco Earth Loose Coconut Fiber Substra...\n",
      "46998  B0019IJXD2       Zoo Med Reptile Fogger Terrarium Humidifier \n",
      "\n",
      "Recommending:\n",
      "\n",
      "         asin                                              title\n",
      "0  B005HJYXNO         AquaTop In-Line UV Sterilizer 10W - IL10UV\n",
      "1  B005VFLAG2       Finnex External Refugium Breeder Hang-On Box\n",
      "2  B000MPR2GI       Good Pet Stuff Company Hidden Cat Litter Box\n",
      "3  B0002DJONY                            Vittles Vault Stackable\n",
      "4  B001E530FM  Purina Tidy Cats BREEZE Litter System Cat Pad ...\n"
     ]
    }
   ],
   "source": [
    "top_ns_05 = n_recommendations[5][0]\n",
    "utilities.retrieve_recommendations(train, top_ns_05, mf_based=True)"
   ]
  },
  {
   "cell_type": "markdown",
   "id": "ca424cf6",
   "metadata": {},
   "source": [
    "## N=10"
   ]
  },
  {
   "cell_type": "code",
   "execution_count": 19,
   "id": "4522e6db",
   "metadata": {},
   "outputs": [
    {
     "name": "stdout",
     "output_type": "stream",
     "text": [
      "For user: A1XEZIHQIUAOR1:\n",
      "Purchase History:\n",
      "             asin                                              title\n",
      "1487   B000084E6V                      Nylabone Dental Dinosaur Chew\n",
      "1727   B000084E6V                      Nylabone Dental Dinosaur Chew\n",
      "28789  B0006VMN4O  Pioneer Pet SmartCat Peek-A-Prize Toy Box with...\n",
      "37658  B000JZ1WSU                     SmartCat 3836 Tick Tock Teaser\n",
      "42603  B000XZDV44  Hill'S Science Diet Kitten Savory Salmon Entre...\n",
      "43867  B0012KCUOG  Whisker Lickin'S Soft &amp; Delicious Chicken ...\n",
      "\n",
      "Recommending:\n",
      "\n",
      "         asin                                              title\n",
      "0  B000084E7Y                  Multipet Duckworth Duck Large 13\"\n",
      "1  B00028ZLVS  Sergeants - Pet Specialty Division Petrodex Do...\n",
      "2  B0002AQ81I                        Penn Plax Knot Dog Rope Toy\n",
      "3  B0002ASGYU  LPVLUX Deshedding Gloves 1 Pair - Dog Grooming...\n",
      "4  B0002ASM94  Nylabone Dura Chew Pooch Pacifier Chew Bone Va...\n",
      "5  B0002ASN5W                    Original Knot Bone Dog Chew Toy\n",
      "6  B0002ASNQQ  Nylabone Dura Chew Petit Liver Flavored Bone D...\n",
      "7  B0002ASPT6  Nylabone Big Chew Durable Toy Bone for Large B...\n",
      "8  B0002DGMGG         Nylabone Dura Chew Double Action Chew Wolf\n",
      "9  B0002DGM7K  Nylabone Just For Puppies  Key Ring Bone Puppy...\n"
     ]
    }
   ],
   "source": [
    "top_ns_10 = n_recommendations[10][0]\n",
    "utilities.retrieve_recommendations(train, top_ns_10, mf_based=True)"
   ]
  },
  {
   "cell_type": "markdown",
   "id": "ffe6bc5f",
   "metadata": {},
   "source": [
    "## N=15"
   ]
  },
  {
   "cell_type": "code",
   "execution_count": 20,
   "id": "02c52994",
   "metadata": {},
   "outputs": [
    {
     "name": "stdout",
     "output_type": "stream",
     "text": [
      "For user: A89LQAXW1IY6S:\n",
      "Purchase History:\n",
      "             asin                                              title\n",
      "12819  B0002ARP2O  Marshall Ferret Deluxe Leisure Lounge, Pattern...\n",
      "12825  B0002ARP2O  Marshall Ferret Deluxe Leisure Lounge, Pattern...\n",
      "38837  B000MD3NLS  MidWest Homes for Pets Snap'y Fit Stainless St...\n",
      "42683  B000Y8UNAU  Pro Select Fleece Cat Perch Covers - Comfortab...\n",
      "46465  B0018CJZ32                         SmartCat Corner Litter Box\n",
      "\n",
      "Recommending:\n",
      "\n",
      "          asin                                              title\n",
      "0   B0002DGVY4  Herm Sprenger Pet Supply Imports Chrome Plated...\n",
      "1   B0002Z7VAK  EHEIM Substrat Pro Biological Filter Media (Si...\n",
      "2   B0002Z9A4U  Muttluks Original All-Weather IB to XXL Dog Bo...\n",
      "3   B00061MWJA  Oster Professional Pet Grooming Undercoat Rake...\n",
      "4   B00061V0M0      Vo-Toys 1208 Ferret Cat Toy Cat &amp; Dog Toy\n",
      "5   B000633XBE  Rinse Ace Deluxe Pet Shower Sprayer with 8 foo...\n",
      "6   B000634MXM                           Snoozer Lookout Car Seat\n",
      "7   B0006BB78W                   Lixit Waterboy Travel Water Bowl\n",
      "8   B0006G5DJ6                       Healthy Pet Bedding, Natural\n",
      "9   B0006HU52U              Remington Plastic Kennel, Beige/Green\n",
      "10  B0006JKCN0              KONG Frog Dog Toy, Extra Small, Green\n",
      "11  B0006L0UGW  Herm Sprenger Chrome Plated Ultra-Plus Prong T...\n",
      "12  B0006Z9RB2  Pet Gear Happy Trails Pet Stroller for Cats/Do...\n",
      "13  B00074W45S  Soft Claws Feline Nail Caps - 40 Nail Caps and...\n",
      "14  B00076KR9G  Virbac Preventic Tick Collar, Large Dog, 25\", ...\n"
     ]
    }
   ],
   "source": [
    "top_ns_15 = n_recommendations[15][0]\n",
    "utilities.retrieve_recommendations(train, top_ns_15, mf_based=True)"
   ]
  },
  {
   "cell_type": "markdown",
   "id": "02489a59",
   "metadata": {},
   "source": [
    "## N=20"
   ]
  },
  {
   "cell_type": "code",
   "execution_count": 21,
   "id": "c3588f67",
   "metadata": {},
   "outputs": [
    {
     "name": "stdout",
     "output_type": "stream",
     "text": [
      "For user: A3C2ECIXEQ0YFQ:\n",
      "Purchase History:\n",
      "             asin                                              title\n",
      "30751  B0009YS4P0  Nutri-Vet Hip &amp; Joint Extra Strength Chewa...\n",
      "37067  B000IBRI2Y              Dog Dazer II Ultrasonic Dog Deterrent\n",
      "40175  B000OV4VAU                        Nutri-Vet Alaska Salmon Oil\n",
      "53623  B0029NQTI8  Pedigree Choice Cuts Variety Pack Lamb/Vegetab...\n",
      "\n",
      "Recommending:\n",
      "\n",
      "          asin                                              title\n",
      "0   B001P220TQ   Hikari Usa Inc AHK42553 Saki Goldfish 7.0 -Ounce\n",
      "1   B000VK6N14  Castor &amp; Pollux Natural Ultramix Dry Cat F...\n",
      "2   B001BCOZ9S  Castor &amp; Pollux Natural Ultramix Dry Puppy...\n",
      "3   B0018CG2DI  Chicken Soup For The Dog Lover'S Soul Canned F...\n",
      "4   B003R0MFX0  Tiki Cat Napili Wild Salmon And Chicken In Chi...\n",
      "5   B0089A62MS                       Merrick Classic Real Chicken\n",
      "6   B000A6UF4U     Gamma2 Vittles Vault Plus for Pet Food Storage\n",
      "7   B0017JGAB6  Iceland Pure Unscented Pharmaceutical Grade Sa...\n",
      "8   B0018CK0EA  Stella &amp; Chewy'S Freeze-Dried Dinner Patti...\n",
      "9   B001BCWAFY  Castor &amp; Pollux Natural Ultramix Large Bre...\n",
      "10  B002AY5BHG                Ziwi Peak Air-Dried Dog Food Recipe\n",
      "11  B0007LDX8I                  Harrisons High Potency Coarse 5lb\n",
      "12  B0012KB4U2  Purina Whisker Lickin's Crunchy &amp; Yummy Ch...\n",
      "13  B0018CICX6  Nature'S Variety Prairie Dry Dog Food, Chicken...\n",
      "14  B003P9XFVO  Blue Buffalo Wilderness Grain Free Dry Dog Foo...\n",
      "15  B0018CK0EU  Stella &amp; Chewy'S Freeze-Dried Dinner Patti...\n",
      "16  B0018CE6DQ  Chicken Soup For The Dog Lover'S Soul Dry Dog ...\n",
      "17  B000O5DI3W     Greenies Pill Pocket Soft Dog Treats - Chicken\n",
      "18  B00DURIOI0  Hill'S Science Diet Adult Grain Free Dog Food,...\n",
      "19  B0019QKOQY  Orijen Regional Poultry and Fish Grain-Free Dr...\n"
     ]
    }
   ],
   "source": [
    "top_ns_20 = n_recommendations[20][0]\n",
    "utilities.retrieve_recommendations(train, top_ns_20, mf_based=True)"
   ]
  },
  {
   "cell_type": "markdown",
   "id": "3555815e",
   "metadata": {},
   "source": [
    "# Cross-Analysis for Cold-Start Users (<= 2 Purchased Items)"
   ]
  },
  {
   "cell_type": "code",
   "execution_count": 22,
   "id": "fb9a1653",
   "metadata": {},
   "outputs": [],
   "source": [
    "cold_start_users = utilities.generate_cold_start_users(train)"
   ]
  },
  {
   "cell_type": "code",
   "execution_count": 23,
   "id": "ce2e43c8",
   "metadata": {},
   "outputs": [
    {
     "name": "stdout",
     "output_type": "stream",
     "text": [
      "The MOD-ECF has an average recall@5: 0.00524, average novelty@5: 0.96737\n",
      "The MOD-ECF has an average recall@10: 0.01000, average novelty@10: 0.97012\n",
      "The MOD-ECF has an average recall@15: 0.01493, average novelty@15: 0.97165\n",
      "The MOD-ECF has an average recall@20: 0.01788, average novelty@20: 0.97258\n"
     ]
    }
   ],
   "source": [
    "for n in tuple(zip([5, 10, 15, 20], [top_ns_05, top_ns_10, top_ns_15, top_ns_20])):\n",
    "    cold_start_top_ns = dict(filter(lambda x: x[0] in cold_start_users, n[1].items()))\n",
    "    # evaluate how well the recommended items predicted the future purchases\n",
    "    # on cold start users\n",
    "    n_recommended_items = (evaluate_model.\n",
    "                           evaluate_recommendations(model_name = 'MOD-ECF',\n",
    "                                                    top_ns = cold_start_top_ns,\n",
    "                                                    user_rating_history = test_user_history, \n",
    "                                                    item_popularity = item_popularity, \n",
    "                                                    n = n[0],\n",
    "                                                    mf_based = True))"
   ]
  },
  {
   "cell_type": "markdown",
   "id": "3bc9cc55",
   "metadata": {},
   "source": [
    "# Generating Recommended Items DataFrame"
   ]
  },
  {
   "cell_type": "code",
   "execution_count": 24,
   "id": "e1f4cbe5",
   "metadata": {},
   "outputs": [],
   "source": [
    "max_recommendations = (utilities\n",
    "                       .generate_recommendations_df(train,\n",
    "                                                    n_recommendations,\n",
    "                                                    \"MOD-ECF\",\n",
    "                                                    mf_based=True,\n",
    "                                                    max_recommended=20))"
   ]
  },
  {
   "cell_type": "code",
   "execution_count": 25,
   "id": "ac991384",
   "metadata": {},
   "outputs": [
    {
     "data": {
      "text/html": [
       "<div>\n",
       "<style scoped>\n",
       "    .dataframe tbody tr th:only-of-type {\n",
       "        vertical-align: middle;\n",
       "    }\n",
       "\n",
       "    .dataframe tbody tr th {\n",
       "        vertical-align: top;\n",
       "    }\n",
       "\n",
       "    .dataframe thead th {\n",
       "        text-align: right;\n",
       "    }\n",
       "</style>\n",
       "<table border=\"1\" class=\"dataframe\">\n",
       "  <thead>\n",
       "    <tr style=\"text-align: right;\">\n",
       "      <th></th>\n",
       "      <th>reviewerID</th>\n",
       "      <th>item_rank</th>\n",
       "      <th>asin</th>\n",
       "      <th>algorithm</th>\n",
       "      <th>title</th>\n",
       "    </tr>\n",
       "  </thead>\n",
       "  <tbody>\n",
       "    <tr>\n",
       "      <th>0</th>\n",
       "      <td>A04173782GDZSQ91AJ7OD</td>\n",
       "      <td>0</td>\n",
       "      <td>B001E530FM</td>\n",
       "      <td>MOD-ECF</td>\n",
       "      <td>Purina Tidy Cats BREEZE Litter System Cat Pad ...</td>\n",
       "    </tr>\n",
       "    <tr>\n",
       "      <th>1</th>\n",
       "      <td>A04173782GDZSQ91AJ7OD</td>\n",
       "      <td>1</td>\n",
       "      <td>B000MPR2GI</td>\n",
       "      <td>MOD-ECF</td>\n",
       "      <td>Good Pet Stuff Company Hidden Cat Litter Box</td>\n",
       "    </tr>\n",
       "    <tr>\n",
       "      <th>2</th>\n",
       "      <td>A04173782GDZSQ91AJ7OD</td>\n",
       "      <td>2</td>\n",
       "      <td>B001U8L8NO</td>\n",
       "      <td>MOD-ECF</td>\n",
       "      <td>Van Ness Odor Control Extra Giant Translucent...</td>\n",
       "    </tr>\n",
       "    <tr>\n",
       "      <th>3</th>\n",
       "      <td>A04173782GDZSQ91AJ7OD</td>\n",
       "      <td>3</td>\n",
       "      <td>B002CYNMTS</td>\n",
       "      <td>MOD-ECF</td>\n",
       "      <td>Tidy Cats Cat Litter Pan</td>\n",
       "    </tr>\n",
       "    <tr>\n",
       "      <th>4</th>\n",
       "      <td>A04173782GDZSQ91AJ7OD</td>\n",
       "      <td>4</td>\n",
       "      <td>B0002DJONY</td>\n",
       "      <td>MOD-ECF</td>\n",
       "      <td>Vittles Vault Stackable</td>\n",
       "    </tr>\n",
       "    <tr>\n",
       "      <th>...</th>\n",
       "      <td>...</td>\n",
       "      <td>...</td>\n",
       "      <td>...</td>\n",
       "      <td>...</td>\n",
       "      <td>...</td>\n",
       "    </tr>\n",
       "    <tr>\n",
       "      <th>381155</th>\n",
       "      <td>AZZYW4YOE1B6E</td>\n",
       "      <td>15</td>\n",
       "      <td>B001J8H1E0</td>\n",
       "      <td>MOD-ECF</td>\n",
       "      <td>PLATO Dog Treats - Organic Chicken Real Strips</td>\n",
       "    </tr>\n",
       "    <tr>\n",
       "      <th>381156</th>\n",
       "      <td>AZZYW4YOE1B6E</td>\n",
       "      <td>16</td>\n",
       "      <td>B000O5DI1E</td>\n",
       "      <td>MOD-ECF</td>\n",
       "      <td>Beef Pill Pockets Large 7.9oz</td>\n",
       "    </tr>\n",
       "    <tr>\n",
       "      <th>381157</th>\n",
       "      <td>AZZYW4YOE1B6E</td>\n",
       "      <td>17</td>\n",
       "      <td>B000OUOYH6</td>\n",
       "      <td>MOD-ECF</td>\n",
       "      <td>Pet Botanics Training Reward</td>\n",
       "    </tr>\n",
       "    <tr>\n",
       "      <th>381158</th>\n",
       "      <td>AZZYW4YOE1B6E</td>\n",
       "      <td>18</td>\n",
       "      <td>B000MCXXKU</td>\n",
       "      <td>MOD-ECF</td>\n",
       "      <td>Bio Spot Spot On for Dogs 16-30 lbs., 6 Month ...</td>\n",
       "    </tr>\n",
       "    <tr>\n",
       "      <th>381159</th>\n",
       "      <td>AZZYW4YOE1B6E</td>\n",
       "      <td>19</td>\n",
       "      <td>B0018CK0EU</td>\n",
       "      <td>MOD-ECF</td>\n",
       "      <td>Stella &amp;amp; Chewy'S Freeze-Dried Dinner Patti...</td>\n",
       "    </tr>\n",
       "  </tbody>\n",
       "</table>\n",
       "<p>381160 rows × 5 columns</p>\n",
       "</div>"
      ],
      "text/plain": [
       "                   reviewerID item_rank        asin algorithm  \\\n",
       "0       A04173782GDZSQ91AJ7OD         0  B001E530FM   MOD-ECF   \n",
       "1       A04173782GDZSQ91AJ7OD         1  B000MPR2GI   MOD-ECF   \n",
       "2       A04173782GDZSQ91AJ7OD         2  B001U8L8NO   MOD-ECF   \n",
       "3       A04173782GDZSQ91AJ7OD         3  B002CYNMTS   MOD-ECF   \n",
       "4       A04173782GDZSQ91AJ7OD         4  B0002DJONY   MOD-ECF   \n",
       "...                       ...       ...         ...       ...   \n",
       "381155          AZZYW4YOE1B6E        15  B001J8H1E0   MOD-ECF   \n",
       "381156          AZZYW4YOE1B6E        16  B000O5DI1E   MOD-ECF   \n",
       "381157          AZZYW4YOE1B6E        17  B000OUOYH6   MOD-ECF   \n",
       "381158          AZZYW4YOE1B6E        18  B000MCXXKU   MOD-ECF   \n",
       "381159          AZZYW4YOE1B6E        19  B0018CK0EU   MOD-ECF   \n",
       "\n",
       "                                                    title  \n",
       "0       Purina Tidy Cats BREEZE Litter System Cat Pad ...  \n",
       "1            Good Pet Stuff Company Hidden Cat Litter Box  \n",
       "2        Van Ness Odor Control Extra Giant Translucent...  \n",
       "3                               Tidy Cats Cat Litter Pan   \n",
       "4                                 Vittles Vault Stackable  \n",
       "...                                                   ...  \n",
       "381155     PLATO Dog Treats - Organic Chicken Real Strips  \n",
       "381156                      Beef Pill Pockets Large 7.9oz  \n",
       "381157                       Pet Botanics Training Reward  \n",
       "381158  Bio Spot Spot On for Dogs 16-30 lbs., 6 Month ...  \n",
       "381159  Stella &amp; Chewy'S Freeze-Dried Dinner Patti...  \n",
       "\n",
       "[381160 rows x 5 columns]"
      ]
     },
     "execution_count": 25,
     "metadata": {},
     "output_type": "execute_result"
    }
   ],
   "source": [
    "max_recommendations"
   ]
  },
  {
   "cell_type": "markdown",
   "id": "f0b2186b",
   "metadata": {},
   "source": [
    "# Store in `SQLite` DB"
   ]
  },
  {
   "cell_type": "code",
   "execution_count": 26,
   "id": "033886f4",
   "metadata": {},
   "outputs": [],
   "source": [
    "# engine = create_engine(\"sqlite:///recommender.db\", echo=True)"
   ]
  },
  {
   "cell_type": "code",
   "execution_count": 27,
   "id": "291e2d20",
   "metadata": {},
   "outputs": [],
   "source": [
    "# max_recommendations.to_sql(f\"{CATEGORY}\", con=engine, if_exists=\"append\")"
   ]
  },
  {
   "cell_type": "code",
   "execution_count": null,
   "id": "30462fb1",
   "metadata": {},
   "outputs": [],
   "source": []
  }
 ],
 "metadata": {
  "kernelspec": {
   "display_name": "Python 3 (ipykernel)",
   "language": "python",
   "name": "python3"
  },
  "language_info": {
   "codemirror_mode": {
    "name": "ipython",
    "version": 3
   },
   "file_extension": ".py",
   "mimetype": "text/x-python",
   "name": "python",
   "nbconvert_exporter": "python",
   "pygments_lexer": "ipython3",
   "version": "3.9.6"
  }
 },
 "nbformat": 4,
 "nbformat_minor": 5
}
