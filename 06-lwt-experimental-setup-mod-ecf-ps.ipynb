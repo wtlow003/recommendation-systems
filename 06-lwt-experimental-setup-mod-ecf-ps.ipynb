{
 "cells": [
  {
   "cell_type": "raw",
   "id": "9006e1a2",
   "metadata": {},
   "source": [
    "import warnings\n",
    "\n",
    "import numpy as np\n",
    "import pandas as pd\n",
    "\n",
    "from gensim.models.doc2vec import Doc2Vec\n",
    "from sqlalchemy import create_engine\n",
    "from surprise import Dataset, Reader\n",
    "from tqdm import tqdm\n",
    "\n",
    "from src.models import cf, evaluate_model\n",
    "from src.utilities import utilities\n",
    "\n",
    "tqdm.pandas()\n",
    "warnings.filterwarnings('ignore')"
   ]
  },
  {
   "cell_type": "markdown",
   "id": "3e56bfe5",
   "metadata": {},
   "source": [
    "# Load Data and Models"
   ]
  },
  {
   "cell_type": "code",
   "execution_count": 2,
   "id": "d4e036df",
   "metadata": {},
   "outputs": [],
   "source": [
    "# global variables\n",
    "DATA_PATH = \"data/evaluation\"\n",
    "D2V_PATH = \"models/d2v\"\n",
    "CATEGORY = \"Pet_Supplies\"\n",
    "\n",
    "# d2v training parameters\n",
    "EPOCHS = 10\n",
    "\n",
    "# training parameters\n",
    "N_EPOCHS = 5\n",
    "LR_ALL = 0.005\n",
    "BETA = 0.1\n",
    "\n",
    "# reproducibility checks\n",
    "SEED = 42\n",
    "np.random.seed(42)\n",
    "\n",
    "train = pd.read_csv(f\"{DATA_PATH}/{CATEGORY}_train.csv\")\n",
    "d2v = Doc2Vec.load(f\"{D2V_PATH}/{CATEGORY}_user_item_50_{EPOCHS}_d2v.model\")"
   ]
  },
  {
   "cell_type": "code",
   "execution_count": 3,
   "id": "4b085128",
   "metadata": {
    "scrolled": true
   },
   "outputs": [
    {
     "data": {
      "text/html": [
       "<div>\n",
       "<style scoped>\n",
       "    .dataframe tbody tr th:only-of-type {\n",
       "        vertical-align: middle;\n",
       "    }\n",
       "\n",
       "    .dataframe tbody tr th {\n",
       "        vertical-align: top;\n",
       "    }\n",
       "\n",
       "    .dataframe thead th {\n",
       "        text-align: right;\n",
       "    }\n",
       "</style>\n",
       "<table border=\"1\" class=\"dataframe\">\n",
       "  <thead>\n",
       "    <tr style=\"text-align: right;\">\n",
       "      <th></th>\n",
       "      <th>index</th>\n",
       "      <th>asin</th>\n",
       "      <th>title</th>\n",
       "      <th>categories</th>\n",
       "      <th>reviewerID</th>\n",
       "      <th>overall</th>\n",
       "      <th>reviewText</th>\n",
       "      <th>reviewTime</th>\n",
       "      <th>processedReviewText</th>\n",
       "    </tr>\n",
       "  </thead>\n",
       "  <tbody>\n",
       "    <tr>\n",
       "      <th>0</th>\n",
       "      <td>0</td>\n",
       "      <td>1223000893</td>\n",
       "      <td>Cat Sitter DVD Trilogy - Vol 1, Vol 2 and Vol 3</td>\n",
       "      <td>[]</td>\n",
       "      <td>A14CK12J7C7JRK</td>\n",
       "      <td>3.0</td>\n",
       "      <td>I purchased the Trilogy with hoping my two cat...</td>\n",
       "      <td>2011-01-12</td>\n",
       "      <td>purchase trilogy hop cat age interested yr old...</td>\n",
       "    </tr>\n",
       "    <tr>\n",
       "      <th>1</th>\n",
       "      <td>2</td>\n",
       "      <td>1223000893</td>\n",
       "      <td>Cat Sitter DVD Trilogy - Vol 1, Vol 2 and Vol 3</td>\n",
       "      <td>[]</td>\n",
       "      <td>A2CR37UY3VR7BN</td>\n",
       "      <td>4.0</td>\n",
       "      <td>I bought the triliogy and have tested out all ...</td>\n",
       "      <td>2012-12-19</td>\n",
       "      <td>buy triliogy test dvd appear volume receive re...</td>\n",
       "    </tr>\n",
       "    <tr>\n",
       "      <th>2</th>\n",
       "      <td>3</td>\n",
       "      <td>1223000893</td>\n",
       "      <td>Cat Sitter DVD Trilogy - Vol 1, Vol 2 and Vol 3</td>\n",
       "      <td>[]</td>\n",
       "      <td>A2A4COGL9VW2HY</td>\n",
       "      <td>4.0</td>\n",
       "      <td>My female kitty could care less about these vi...</td>\n",
       "      <td>2011-05-12</td>\n",
       "      <td>female kitty care video care little male dig a...</td>\n",
       "    </tr>\n",
       "    <tr>\n",
       "      <th>3</th>\n",
       "      <td>4</td>\n",
       "      <td>1223000893</td>\n",
       "      <td>Cat Sitter DVD Trilogy - Vol 1, Vol 2 and Vol 3</td>\n",
       "      <td>[]</td>\n",
       "      <td>A2UBQA85NIGLHA</td>\n",
       "      <td>3.0</td>\n",
       "      <td>If I had gotten just volume two, I would have ...</td>\n",
       "      <td>2012-03-05</td>\n",
       "      <td>volume star trilogy star read review know vol ...</td>\n",
       "    </tr>\n",
       "    <tr>\n",
       "      <th>4</th>\n",
       "      <td>5</td>\n",
       "      <td>B00005MF9U</td>\n",
       "      <td>LitterMaid LM900 Mega Self-Cleaning Litter Box</td>\n",
       "      <td>['Pet Supplies', 'Cats', 'Litter &amp;amp; Housebr...</td>\n",
       "      <td>A2BH04B9G9LOYA</td>\n",
       "      <td>1.0</td>\n",
       "      <td>First off, it seems that someone is spamming t...</td>\n",
       "      <td>2006-12-31</td>\n",
       "      <td>spamming review glow reviewer review amazon ba...</td>\n",
       "    </tr>\n",
       "    <tr>\n",
       "      <th>68865</th>\n",
       "      <td>111581</td>\n",
       "      <td>B00K3YPOO0</td>\n",
       "      <td>Brightest Black Light Flashlight on Amazon- UV...</td>\n",
       "      <td>[]</td>\n",
       "      <td>A11J1FHCK5U06J</td>\n",
       "      <td>4.0</td>\n",
       "      <td>Now I know exactly where the trouble spots are...</td>\n",
       "      <td>2014-05-23</td>\n",
       "      <td>know exactly trouble spot sniffing guess invis...</td>\n",
       "    </tr>\n",
       "    <tr>\n",
       "      <th>68866</th>\n",
       "      <td>111585</td>\n",
       "      <td>B00K3YPOO0</td>\n",
       "      <td>Brightest Black Light Flashlight on Amazon- UV...</td>\n",
       "      <td>[]</td>\n",
       "      <td>A18JF0T0GOCORW</td>\n",
       "      <td>4.0</td>\n",
       "      <td>I use this light to help me find stains when I...</td>\n",
       "      <td>2014-05-24</td>\n",
       "      <td>use light help stain carpet clean pre treat ca...</td>\n",
       "    </tr>\n",
       "    <tr>\n",
       "      <th>68867</th>\n",
       "      <td>111595</td>\n",
       "      <td>B00K7EG97C</td>\n",
       "      <td>Nutro Crunchy Dog Treats with Real Mixed Berri...</td>\n",
       "      <td>['Pet Supplies', 'Dogs', 'Treats', 'Cookies, B...</td>\n",
       "      <td>A3GRPCW9DG427Z</td>\n",
       "      <td>5.0</td>\n",
       "      <td>We are owned by the 3 pickiest pooches in the ...</td>\n",
       "      <td>2013-07-27</td>\n",
       "      <td>pickiest pooch world love fool reject doggie t...</td>\n",
       "    </tr>\n",
       "    <tr>\n",
       "      <th>68868</th>\n",
       "      <td>111598</td>\n",
       "      <td>B00K7EG97C</td>\n",
       "      <td>Nutro Crunchy Dog Treats with Real Mixed Berri...</td>\n",
       "      <td>['Pet Supplies', 'Dogs', 'Treats', 'Cookies, B...</td>\n",
       "      <td>A2X6TLAX3JEO1A</td>\n",
       "      <td>5.0</td>\n",
       "      <td>My highly allergic white boxer loves these tre...</td>\n",
       "      <td>2014-05-09</td>\n",
       "      <td>highly allergic white boxer love treat meat co...</td>\n",
       "    </tr>\n",
       "    <tr>\n",
       "      <th>68869</th>\n",
       "      <td>111602</td>\n",
       "      <td>B00KJGFGFO</td>\n",
       "      <td>Curry Brush with Coarse or Fine Bristles. High...</td>\n",
       "      <td>[]</td>\n",
       "      <td>A9PG9ODPPP31N</td>\n",
       "      <td>5.0</td>\n",
       "      <td>Works great on my medium sized dog. She has ve...</td>\n",
       "      <td>2014-07-09</td>\n",
       "      <td>work great medium size dog coarse hair work gr...</td>\n",
       "    </tr>\n",
       "  </tbody>\n",
       "</table>\n",
       "</div>"
      ],
      "text/plain": [
       "        index        asin                                              title  \\\n",
       "0           0  1223000893    Cat Sitter DVD Trilogy - Vol 1, Vol 2 and Vol 3   \n",
       "1           2  1223000893    Cat Sitter DVD Trilogy - Vol 1, Vol 2 and Vol 3   \n",
       "2           3  1223000893    Cat Sitter DVD Trilogy - Vol 1, Vol 2 and Vol 3   \n",
       "3           4  1223000893    Cat Sitter DVD Trilogy - Vol 1, Vol 2 and Vol 3   \n",
       "4           5  B00005MF9U     LitterMaid LM900 Mega Self-Cleaning Litter Box   \n",
       "68865  111581  B00K3YPOO0  Brightest Black Light Flashlight on Amazon- UV...   \n",
       "68866  111585  B00K3YPOO0  Brightest Black Light Flashlight on Amazon- UV...   \n",
       "68867  111595  B00K7EG97C  Nutro Crunchy Dog Treats with Real Mixed Berri...   \n",
       "68868  111598  B00K7EG97C  Nutro Crunchy Dog Treats with Real Mixed Berri...   \n",
       "68869  111602  B00KJGFGFO  Curry Brush with Coarse or Fine Bristles. High...   \n",
       "\n",
       "                                              categories      reviewerID  \\\n",
       "0                                                     []  A14CK12J7C7JRK   \n",
       "1                                                     []  A2CR37UY3VR7BN   \n",
       "2                                                     []  A2A4COGL9VW2HY   \n",
       "3                                                     []  A2UBQA85NIGLHA   \n",
       "4      ['Pet Supplies', 'Cats', 'Litter &amp; Housebr...  A2BH04B9G9LOYA   \n",
       "68865                                                 []  A11J1FHCK5U06J   \n",
       "68866                                                 []  A18JF0T0GOCORW   \n",
       "68867  ['Pet Supplies', 'Dogs', 'Treats', 'Cookies, B...  A3GRPCW9DG427Z   \n",
       "68868  ['Pet Supplies', 'Dogs', 'Treats', 'Cookies, B...  A2X6TLAX3JEO1A   \n",
       "68869                                                 []   A9PG9ODPPP31N   \n",
       "\n",
       "       overall                                         reviewText  reviewTime  \\\n",
       "0          3.0  I purchased the Trilogy with hoping my two cat...  2011-01-12   \n",
       "1          4.0  I bought the triliogy and have tested out all ...  2012-12-19   \n",
       "2          4.0  My female kitty could care less about these vi...  2011-05-12   \n",
       "3          3.0  If I had gotten just volume two, I would have ...  2012-03-05   \n",
       "4          1.0  First off, it seems that someone is spamming t...  2006-12-31   \n",
       "68865      4.0  Now I know exactly where the trouble spots are...  2014-05-23   \n",
       "68866      4.0  I use this light to help me find stains when I...  2014-05-24   \n",
       "68867      5.0  We are owned by the 3 pickiest pooches in the ...  2013-07-27   \n",
       "68868      5.0  My highly allergic white boxer loves these tre...  2014-05-09   \n",
       "68869      5.0  Works great on my medium sized dog. She has ve...  2014-07-09   \n",
       "\n",
       "                                     processedReviewText  \n",
       "0      purchase trilogy hop cat age interested yr old...  \n",
       "1      buy triliogy test dvd appear volume receive re...  \n",
       "2      female kitty care video care little male dig a...  \n",
       "3      volume star trilogy star read review know vol ...  \n",
       "4      spamming review glow reviewer review amazon ba...  \n",
       "68865  know exactly trouble spot sniffing guess invis...  \n",
       "68866  use light help stain carpet clean pre treat ca...  \n",
       "68867  pickiest pooch world love fool reject doggie t...  \n",
       "68868  highly allergic white boxer love treat meat co...  \n",
       "68869  work great medium size dog coarse hair work gr...  "
      ]
     },
     "execution_count": 3,
     "metadata": {},
     "output_type": "execute_result"
    }
   ],
   "source": [
    "# checking train dataframe\n",
    "train.head().append(train.tail())"
   ]
  },
  {
   "cell_type": "code",
   "execution_count": 4,
   "id": "ba37a930",
   "metadata": {},
   "outputs": [
    {
     "data": {
      "text/plain": [
       "array([-0.27808702, -0.12123964, -0.01402191, -0.06815875, -0.0564175 ,\n",
       "        0.04842656,  0.0368541 ,  0.01398593, -0.14648551,  0.08242252,\n",
       "        0.06371399,  0.15403804,  0.05145778,  0.04584663, -0.06243193,\n",
       "       -0.08451284,  0.00833067, -0.02114333, -0.08585242,  0.0117121 ,\n",
       "        0.01590339,  0.00859375, -0.11234739, -0.09751832, -0.00462302,\n",
       "        0.16073631,  0.03879074, -0.1404444 , -0.07833791, -0.14203373,\n",
       "        0.01051444,  0.07330766,  0.00680773,  0.10980774,  0.0329658 ,\n",
       "        0.15197492, -0.09528293, -0.15051496,  0.13257255, -0.00050401,\n",
       "       -0.04297897,  0.12316997, -0.0282629 , -0.00220049,  0.02751359,\n",
       "        0.13378084,  0.11880151, -0.06431285, -0.03257735, -0.04988131],\n",
       "      dtype=float32)"
      ]
     },
     "execution_count": 4,
     "metadata": {},
     "output_type": "execute_result"
    }
   ],
   "source": [
    "# testing d2v models\n",
    "d2v.dv[0]"
   ]
  },
  {
   "cell_type": "markdown",
   "id": "4ed374ca",
   "metadata": {},
   "source": [
    "# Generating User & Item Embeddings"
   ]
  },
  {
   "cell_type": "code",
   "execution_count": 5,
   "id": "ccc02f16",
   "metadata": {},
   "outputs": [],
   "source": [
    "user_idx_map, user_vecs, item_idx_map, item_vecs = utilities.generate_user_item_embeddings(train, d2v)"
   ]
  },
  {
   "cell_type": "code",
   "execution_count": 6,
   "id": "455ba70f",
   "metadata": {},
   "outputs": [],
   "source": [
    "# converting factors into numpy obj\n",
    "user_factors = user_vecs.to_numpy()\n",
    "item_factors = item_vecs.to_numpy()"
   ]
  },
  {
   "cell_type": "code",
   "execution_count": 7,
   "id": "e06b73c0",
   "metadata": {},
   "outputs": [
    {
     "data": {
      "text/plain": [
       "array([-0.8208622 , -0.13265412,  0.08794311, -0.31527147,  0.05089829,\n",
       "        0.01806653, -0.01790568,  0.12906374, -0.32686502,  0.34363213,\n",
       "        0.11507503,  0.19288237,  0.2258099 ,  0.139002  , -0.02829647,\n",
       "        0.18842314, -0.04987793,  0.06237138, -0.21363561, -0.17762592,\n",
       "       -0.01040701,  0.21963714, -0.07449435, -0.01158117, -0.08465536,\n",
       "        0.28415218, -0.14400692, -0.493495  , -0.26090425, -0.24364568,\n",
       "        0.28065497, -0.07475447,  0.03166582,  0.06282842,  0.05320998,\n",
       "        0.53347766, -0.19234563,  0.00528651,  0.4275993 ,  0.3116027 ,\n",
       "       -0.08872687,  0.17197491, -0.19117323, -0.19778593, -0.1686984 ,\n",
       "        0.27757648,  0.18943855, -0.05875679, -0.06944423,  0.0362678 ],\n",
       "      dtype=float32)"
      ]
     },
     "execution_count": 7,
     "metadata": {},
     "output_type": "execute_result"
    }
   ],
   "source": [
    "# check user factors\n",
    "user_factors[0,:]"
   ]
  },
  {
   "cell_type": "code",
   "execution_count": 8,
   "id": "e0652aad",
   "metadata": {},
   "outputs": [
    {
     "data": {
      "text/plain": [
       "array([-0.27808702, -0.12123964, -0.01402191, -0.06815875, -0.0564175 ,\n",
       "        0.04842656,  0.0368541 ,  0.01398593, -0.14648551,  0.08242252,\n",
       "        0.06371399,  0.15403804,  0.05145778,  0.04584663, -0.06243193,\n",
       "       -0.08451284,  0.00833067, -0.02114333, -0.08585242,  0.0117121 ,\n",
       "        0.01590339,  0.00859375, -0.11234739, -0.09751832, -0.00462302,\n",
       "        0.16073631,  0.03879074, -0.1404444 , -0.07833791, -0.14203373,\n",
       "        0.01051444,  0.07330766,  0.00680773,  0.10980774,  0.0329658 ,\n",
       "        0.15197492, -0.09528293, -0.15051496,  0.13257255, -0.00050401,\n",
       "       -0.04297897,  0.12316997, -0.0282629 , -0.00220049,  0.02751359,\n",
       "        0.13378084,  0.11880151, -0.06431285, -0.03257735, -0.04988131],\n",
       "      dtype=float32)"
      ]
     },
     "execution_count": 8,
     "metadata": {},
     "output_type": "execute_result"
    }
   ],
   "source": [
    "# check item factors\n",
    "item_factors[0,:]"
   ]
  },
  {
   "cell_type": "markdown",
   "id": "e6e16880",
   "metadata": {},
   "source": [
    "# Utility Functions"
   ]
  },
  {
   "cell_type": "markdown",
   "id": "6c47668d",
   "metadata": {},
   "source": [
    "# Generate N-Recommendations = {10, 25, 30, 45}"
   ]
  },
  {
   "cell_type": "markdown",
   "id": "f58f98d6",
   "metadata": {},
   "source": [
    "## Load Test Data"
   ]
  },
  {
   "cell_type": "code",
   "execution_count": 9,
   "id": "11b82429",
   "metadata": {},
   "outputs": [
    {
     "data": {
      "text/html": [
       "<div>\n",
       "<style scoped>\n",
       "    .dataframe tbody tr th:only-of-type {\n",
       "        vertical-align: middle;\n",
       "    }\n",
       "\n",
       "    .dataframe tbody tr th {\n",
       "        vertical-align: top;\n",
       "    }\n",
       "\n",
       "    .dataframe thead th {\n",
       "        text-align: right;\n",
       "    }\n",
       "</style>\n",
       "<table border=\"1\" class=\"dataframe\">\n",
       "  <thead>\n",
       "    <tr style=\"text-align: right;\">\n",
       "      <th></th>\n",
       "      <th>index</th>\n",
       "      <th>asin</th>\n",
       "      <th>title</th>\n",
       "      <th>categories</th>\n",
       "      <th>reviewerID</th>\n",
       "      <th>overall</th>\n",
       "      <th>reviewText</th>\n",
       "      <th>reviewTime</th>\n",
       "      <th>processedReviewText</th>\n",
       "    </tr>\n",
       "  </thead>\n",
       "  <tbody>\n",
       "    <tr>\n",
       "      <th>0</th>\n",
       "      <td>1</td>\n",
       "      <td>1223000893</td>\n",
       "      <td>Cat Sitter DVD Trilogy - Vol 1, Vol 2 and Vol 3</td>\n",
       "      <td>[]</td>\n",
       "      <td>A39QHP5WLON5HV</td>\n",
       "      <td>5.0</td>\n",
       "      <td>There are usually one or more of my cats watch...</td>\n",
       "      <td>2013-09-14</td>\n",
       "      <td>usually cat watch tv stay trouble dvd play lik...</td>\n",
       "    </tr>\n",
       "    <tr>\n",
       "      <th>1</th>\n",
       "      <td>104</td>\n",
       "      <td>B00005MF9V</td>\n",
       "      <td>LitterMaid Universal Cat Privacy Tent (LMT100)</td>\n",
       "      <td>['Pet Supplies', 'Cats', 'Litter &amp; Housebreaki...</td>\n",
       "      <td>A366V0GCEPH5CX</td>\n",
       "      <td>5.0</td>\n",
       "      <td>My cats love it and so do I. I no longer have ...</td>\n",
       "      <td>2013-02-02</td>\n",
       "      <td>cat love longer cat litter fly floor litter fl...</td>\n",
       "    </tr>\n",
       "    <tr>\n",
       "      <th>2</th>\n",
       "      <td>133</td>\n",
       "      <td>B00005MF9T</td>\n",
       "      <td>LitterMaid LM500 Automated Litter Box</td>\n",
       "      <td>['Pet Supplies', 'Cats', 'Litter &amp; Housebreaki...</td>\n",
       "      <td>ALWWS8QBYN80B</td>\n",
       "      <td>1.0</td>\n",
       "      <td>I have one female cat that weighs under 10 pou...</td>\n",
       "      <td>2004-11-17</td>\n",
       "      <td>female cat weigh pound year old use everclean ...</td>\n",
       "    </tr>\n",
       "    <tr>\n",
       "      <th>3</th>\n",
       "      <td>153</td>\n",
       "      <td>B00005MF9W</td>\n",
       "      <td>LitterMaid Waste Receptacles Automatic Litter ...</td>\n",
       "      <td>['Pet Supplies', 'Cats', 'Litter &amp; Housebreaki...</td>\n",
       "      <td>A3PVI3NE7OY1SP</td>\n",
       "      <td>5.0</td>\n",
       "      <td>I love these. They make the clean up so much e...</td>\n",
       "      <td>2013-09-26</td>\n",
       "      <td>love clean easy clean box manually use issue w...</td>\n",
       "    </tr>\n",
       "    <tr>\n",
       "      <th>4</th>\n",
       "      <td>154</td>\n",
       "      <td>B00005MF9W</td>\n",
       "      <td>LitterMaid Waste Receptacles Automatic Litter ...</td>\n",
       "      <td>['Pet Supplies', 'Cats', 'Litter &amp; Housebreaki...</td>\n",
       "      <td>A2H83XMHUVDLJY</td>\n",
       "      <td>4.0</td>\n",
       "      <td>I love this litter box. I do not use the lids,...</td>\n",
       "      <td>2014-06-26</td>\n",
       "      <td>love litter box use lid use receptacle tear cr...</td>\n",
       "    </tr>\n",
       "    <tr>\n",
       "      <th>41564</th>\n",
       "      <td>111601</td>\n",
       "      <td>B00KJGFGFO</td>\n",
       "      <td>Curry Brush with Coarse or Fine Bristles. High...</td>\n",
       "      <td>[]</td>\n",
       "      <td>AV34KNYW82YSS</td>\n",
       "      <td>4.0</td>\n",
       "      <td>Pulled lots of hair out of my Labs coat. Didn'...</td>\n",
       "      <td>2014-07-18</td>\n",
       "      <td>pulled lot hair labs coat think prove wrong co...</td>\n",
       "    </tr>\n",
       "    <tr>\n",
       "      <th>41565</th>\n",
       "      <td>111603</td>\n",
       "      <td>B00KJGFGFO</td>\n",
       "      <td>Curry Brush with Coarse or Fine Bristles. High...</td>\n",
       "      <td>[]</td>\n",
       "      <td>A1YMNTFLNDYQ1F</td>\n",
       "      <td>5.0</td>\n",
       "      <td>I have been trying to find a rubber bristle br...</td>\n",
       "      <td>2014-07-16</td>\n",
       "      <td>try rubber bristle brush persian year lose glo...</td>\n",
       "    </tr>\n",
       "    <tr>\n",
       "      <th>41566</th>\n",
       "      <td>111604</td>\n",
       "      <td>B00KJGFGFO</td>\n",
       "      <td>Curry Brush with Coarse or Fine Bristles. High...</td>\n",
       "      <td>[]</td>\n",
       "      <td>A1FQ3HRVXA4A5B</td>\n",
       "      <td>5.0</td>\n",
       "      <td>Great product to use on your pets knowing this...</td>\n",
       "      <td>2014-07-11</td>\n",
       "      <td>great product use pet know gentle rubber damag...</td>\n",
       "    </tr>\n",
       "    <tr>\n",
       "      <th>41567</th>\n",
       "      <td>111605</td>\n",
       "      <td>B00KJGFGFO</td>\n",
       "      <td>Curry Brush with Coarse or Fine Bristles. High...</td>\n",
       "      <td>[]</td>\n",
       "      <td>A3OP6CI0XCRQXO</td>\n",
       "      <td>5.0</td>\n",
       "      <td>I bought a second one because I have two cats ...</td>\n",
       "      <td>2014-07-22</td>\n",
       "      <td>buy second cat american short hair buy brush m...</td>\n",
       "    </tr>\n",
       "    <tr>\n",
       "      <th>41568</th>\n",
       "      <td>111606</td>\n",
       "      <td>B00KJGFGFO</td>\n",
       "      <td>Curry Brush with Coarse or Fine Bristles. High...</td>\n",
       "      <td>[]</td>\n",
       "      <td>A11LC938XF35XN</td>\n",
       "      <td>5.0</td>\n",
       "      <td>Our dogs love getting brushed with this.  It m...</td>\n",
       "      <td>2014-07-17</td>\n",
       "      <td>dog love brush massage remove heavy undercoat ...</td>\n",
       "    </tr>\n",
       "  </tbody>\n",
       "</table>\n",
       "</div>"
      ],
      "text/plain": [
       "        index        asin                                              title  \\\n",
       "0           1  1223000893    Cat Sitter DVD Trilogy - Vol 1, Vol 2 and Vol 3   \n",
       "1         104  B00005MF9V     LitterMaid Universal Cat Privacy Tent (LMT100)   \n",
       "2         133  B00005MF9T              LitterMaid LM500 Automated Litter Box   \n",
       "3         153  B00005MF9W  LitterMaid Waste Receptacles Automatic Litter ...   \n",
       "4         154  B00005MF9W  LitterMaid Waste Receptacles Automatic Litter ...   \n",
       "41564  111601  B00KJGFGFO  Curry Brush with Coarse or Fine Bristles. High...   \n",
       "41565  111603  B00KJGFGFO  Curry Brush with Coarse or Fine Bristles. High...   \n",
       "41566  111604  B00KJGFGFO  Curry Brush with Coarse or Fine Bristles. High...   \n",
       "41567  111605  B00KJGFGFO  Curry Brush with Coarse or Fine Bristles. High...   \n",
       "41568  111606  B00KJGFGFO  Curry Brush with Coarse or Fine Bristles. High...   \n",
       "\n",
       "                                              categories      reviewerID  \\\n",
       "0                                                     []  A39QHP5WLON5HV   \n",
       "1      ['Pet Supplies', 'Cats', 'Litter & Housebreaki...  A366V0GCEPH5CX   \n",
       "2      ['Pet Supplies', 'Cats', 'Litter & Housebreaki...   ALWWS8QBYN80B   \n",
       "3      ['Pet Supplies', 'Cats', 'Litter & Housebreaki...  A3PVI3NE7OY1SP   \n",
       "4      ['Pet Supplies', 'Cats', 'Litter & Housebreaki...  A2H83XMHUVDLJY   \n",
       "41564                                                 []   AV34KNYW82YSS   \n",
       "41565                                                 []  A1YMNTFLNDYQ1F   \n",
       "41566                                                 []  A1FQ3HRVXA4A5B   \n",
       "41567                                                 []  A3OP6CI0XCRQXO   \n",
       "41568                                                 []  A11LC938XF35XN   \n",
       "\n",
       "       overall                                         reviewText  reviewTime  \\\n",
       "0          5.0  There are usually one or more of my cats watch...  2013-09-14   \n",
       "1          5.0  My cats love it and so do I. I no longer have ...  2013-02-02   \n",
       "2          1.0  I have one female cat that weighs under 10 pou...  2004-11-17   \n",
       "3          5.0  I love these. They make the clean up so much e...  2013-09-26   \n",
       "4          4.0  I love this litter box. I do not use the lids,...  2014-06-26   \n",
       "41564      4.0  Pulled lots of hair out of my Labs coat. Didn'...  2014-07-18   \n",
       "41565      5.0  I have been trying to find a rubber bristle br...  2014-07-16   \n",
       "41566      5.0  Great product to use on your pets knowing this...  2014-07-11   \n",
       "41567      5.0  I bought a second one because I have two cats ...  2014-07-22   \n",
       "41568      5.0  Our dogs love getting brushed with this.  It m...  2014-07-17   \n",
       "\n",
       "                                     processedReviewText  \n",
       "0      usually cat watch tv stay trouble dvd play lik...  \n",
       "1      cat love longer cat litter fly floor litter fl...  \n",
       "2      female cat weigh pound year old use everclean ...  \n",
       "3      love clean easy clean box manually use issue w...  \n",
       "4      love litter box use lid use receptacle tear cr...  \n",
       "41564  pulled lot hair labs coat think prove wrong co...  \n",
       "41565  try rubber bristle brush persian year lose glo...  \n",
       "41566  great product use pet know gentle rubber damag...  \n",
       "41567  buy second cat american short hair buy brush m...  \n",
       "41568  dog love brush massage remove heavy undercoat ...  "
      ]
     },
     "execution_count": 9,
     "metadata": {},
     "output_type": "execute_result"
    }
   ],
   "source": [
    "test = pd.read_csv(f\"{DATA_PATH}/{CATEGORY}_test.csv\")\n",
    "test.head().append(test.tail())"
   ]
  },
  {
   "cell_type": "code",
   "execution_count": 10,
   "id": "dc34f14f",
   "metadata": {},
   "outputs": [],
   "source": [
    "# generating test history\n",
    "test_user_history = (pd.DataFrame(test.groupby(['reviewerID'])['asin']\n",
    "                                  .apply(list).reset_index()))"
   ]
  },
  {
   "cell_type": "code",
   "execution_count": 11,
   "id": "85b19cfc",
   "metadata": {},
   "outputs": [
    {
     "name": "stdout",
     "output_type": "stream",
     "text": [
      "                  reviewerID                                  asin\n",
      "0      A04173782GDZSQ91AJ7OD              [B0090Z9AYS, B00CPDWT2M]\n",
      "1      A042274212BJJVOBS4Q85              [B005AZ4M3Q, B00771WQIY]\n",
      "2       A0436342QLT4257JODYJ  [B0018CDR68, B003SJTM8Q, B00474A3DY]\n",
      "3      A04795073FIBKY8GSLZYI              [B001PKT30M, B005DGI2RY]\n",
      "4      A06658082A27F4VB5UG8E              [B000TZ1TTM, B0019VUHH0]\n",
      "...                      ...                                   ...\n",
      "18993          AZYJE40XW6MFG              [B00HVAKJZS, B00IDZT294]\n",
      "18994          AZZ56WF4X19G2                          [B004A7X218]\n",
      "18995          AZZNK89PXD006  [B0002DHV16, B005BP8MQ8, B009RTX4SU]\n",
      "18996          AZZV9PDNMCOZW              [B007EQL390, B00ISBWVT6]\n",
      "18997          AZZYW4YOE1B6E  [B0002AQPA2, B0002AQPA2, B0002ARQV4]\n",
      "\n",
      "[18998 rows x 2 columns]\n"
     ]
    }
   ],
   "source": [
    "print(test_user_history)"
   ]
  },
  {
   "cell_type": "markdown",
   "id": "0d650855",
   "metadata": {},
   "source": [
    "## Preparing Dataset for Surprise's Algorithm"
   ]
  },
  {
   "cell_type": "code",
   "execution_count": 12,
   "id": "05afcd97",
   "metadata": {},
   "outputs": [],
   "source": [
    "# create reader\n",
    "reader = Reader(rating_scale=(1,5))\n",
    "# generate data required for surprise\n",
    "data = Dataset.load_from_df(train[[\"reviewerID\", \"asin\", \"overall\"]], reader)\n",
    "# generating trainset\n",
    "trainset = data.build_full_trainset()"
   ]
  },
  {
   "cell_type": "markdown",
   "id": "07343755",
   "metadata": {},
   "source": [
    "## Instantiate Pre-Initialised Matrix Factorization (Paragraph Vector)"
   ]
  },
  {
   "cell_type": "code",
   "execution_count": 13,
   "id": "cd71b389",
   "metadata": {},
   "outputs": [],
   "source": [
    "# instantiating mod-ecf\n",
    "mod_ecf = cf.PreInitialisedMF(user_map=user_idx_map,\n",
    "                              item_map=item_idx_map,\n",
    "                              user_factor=user_factors,\n",
    "                              item_factor=item_factors,\n",
    "                              learning_rate=LR_ALL,\n",
    "                              beta=BETA,\n",
    "                              num_epochs=N_EPOCHS,\n",
    "                              num_factors=50)"
   ]
  },
  {
   "cell_type": "code",
   "execution_count": 14,
   "id": "1eeabadc",
   "metadata": {},
   "outputs": [
    {
     "name": "stdout",
     "output_type": "stream",
     "text": [
      "Processing epoch 0\n",
      "Processing epoch 1\n",
      "Processing epoch 2\n",
      "Processing epoch 3\n",
      "Processing epoch 4\n",
      "CPU times: user 2min 50s, sys: 490 ms, total: 2min 50s\n",
      "Wall time: 2min 51s\n"
     ]
    }
   ],
   "source": [
    "%%time\n",
    "# fitting to training data\n",
    "mod_ecf.fit(trainset, verbose=True)"
   ]
  },
  {
   "cell_type": "code",
   "execution_count": 15,
   "id": "fa587004",
   "metadata": {},
   "outputs": [
    {
     "name": "stdout",
     "output_type": "stream",
     "text": [
      "CPU times: user 45.1 s, sys: 1.97 s, total: 47.1 s\n",
      "Wall time: 47.2 s\n"
     ]
    }
   ],
   "source": [
    "%%time\n",
    "# generate candidate items for user to predict rating\n",
    "testset = trainset.build_anti_testset()"
   ]
  },
  {
   "cell_type": "code",
   "execution_count": 16,
   "id": "c8e539de",
   "metadata": {},
   "outputs": [
    {
     "name": "stdout",
     "output_type": "stream",
     "text": [
      "CPU times: user 11min 42s, sys: 4min 17s, total: 15min 59s\n",
      "Wall time: 17min 47s\n"
     ]
    }
   ],
   "source": [
    "%%time\n",
    "# predict ratings for all pairs (u, i) that are NOT in the training set\n",
    "candidate_items = mod_ecf.test(testset, verbose=False)"
   ]
  },
  {
   "cell_type": "markdown",
   "id": "006c2beb",
   "metadata": {},
   "source": [
    "## Loop through N = {10, 25, 30, 45}"
   ]
  },
  {
   "cell_type": "code",
   "execution_count": 17,
   "id": "b98c854f",
   "metadata": {},
   "outputs": [],
   "source": [
    "# generate item popularity\n",
    "item_popularity = evaluate_model.generate_item_popularity(train)"
   ]
  },
  {
   "cell_type": "code",
   "execution_count": 18,
   "id": "2caa53f0",
   "metadata": {},
   "outputs": [
    {
     "name": "stdout",
     "output_type": "stream",
     "text": [
      "The MOD-ECF has an average recall@10: 0.00840, average novelty@10: 0.96224\n",
      "The MOD-ECF has an average recall@25: 0.01887, average novelty@25: 0.96655\n",
      "The MOD-ECF has an average recall@30: 0.02156, average novelty@30: 0.96741\n",
      "The MOD-ECF has an average recall@45: 0.02990, average novelty@45: 0.96933\n"
     ]
    }
   ],
   "source": [
    "n_recommendations = {}\n",
    "for n in [10, 25, 30, 45]:\n",
    "    # retrieve the top-n items based on similarities\n",
    "    # top_ns = get_top_n(candidate_items, n)\n",
    "    top_ns = mod_ecf.get_top_n(candidate_items, n)\n",
    "    # evaluate how well the recommended items predicted the future purchases\n",
    "    n_recommended_items = (evaluate_model.\n",
    "                           evaluate_recommendations(model_name = 'MOD-ECF',\n",
    "                                                    top_ns = top_ns,\n",
    "                                                    user_rating_history = test_user_history, \n",
    "                                                    item_popularity = item_popularity, \n",
    "                                                    n = n,\n",
    "                                                    mf_based = True))\n",
    "    # saving the n-value and recommended items\n",
    "    n_recommendations[n] = (top_ns, n_recommended_items)"
   ]
  },
  {
   "cell_type": "markdown",
   "id": "d3e73163",
   "metadata": {},
   "source": [
    "# Evaluate N-Recommendations"
   ]
  },
  {
   "cell_type": "markdown",
   "id": "a30e36de",
   "metadata": {},
   "source": [
    "## N=10"
   ]
  },
  {
   "cell_type": "code",
   "execution_count": 19,
   "id": "4e86fdb8",
   "metadata": {},
   "outputs": [
    {
     "name": "stdout",
     "output_type": "stream",
     "text": [
      "For user: A3T87QAUUPTMZK:\n",
      "Purchase History:\n",
      "             asin                                              title\n",
      "43366  B0010OSIHW  Zoo Med Eco Earth Compressed Coconut Fiber Sub...\n",
      "45100  B00167VVP4   Zoo Med Eco Earth Loose Coconut Fiber Substra...\n",
      "46998  B0019IJXD2       Zoo Med Reptile Fogger Terrarium Humidifier \n",
      "\n",
      "Recommending:\n",
      "\n",
      "         asin                                              title\n",
      "0  B005HJYXNO         AquaTop In-Line UV Sterilizer 10W - IL10UV\n",
      "1  B005VFLAG2       Finnex External Refugium Breeder Hang-On Box\n",
      "2  B000MPR2GI       Good Pet Stuff Company Hidden Cat Litter Box\n",
      "3  B0002DJONY                            Vittles Vault Stackable\n",
      "4  B001E530FM  Purina Tidy Cats BREEZE Litter System Cat Pad ...\n",
      "5  B001U8L8NO   Van Ness Odor Control Extra Giant Translucent...\n",
      "6  B00GH9HRZ4  Finnex FugeRay Planted+ Aquarium LED Light Plu...\n",
      "7  B000A6UF4U     Gamma2 Vittles Vault Plus for Pet Food Storage\n",
      "8  B004PU7SBU  simplehuman Large Pet Food Storage Can, Brushe...\n",
      "9  B0017JE6B2                                 Pet Food Container\n"
     ]
    }
   ],
   "source": [
    "top_ns_10 = n_recommendations[10][0]\n",
    "utilities.retrieve_recommendations(train, top_ns_10, mf_based=True)"
   ]
  },
  {
   "cell_type": "markdown",
   "id": "ca424cf6",
   "metadata": {},
   "source": [
    "## N=25"
   ]
  },
  {
   "cell_type": "code",
   "execution_count": 20,
   "id": "4522e6db",
   "metadata": {},
   "outputs": [
    {
     "name": "stdout",
     "output_type": "stream",
     "text": [
      "For user: A1XEZIHQIUAOR1:\n",
      "Purchase History:\n",
      "             asin                                              title\n",
      "1487   B000084E6V                      Nylabone Dental Dinosaur Chew\n",
      "1727   B000084E6V                      Nylabone Dental Dinosaur Chew\n",
      "28789  B0006VMN4O  Pioneer Pet SmartCat Peek-A-Prize Toy Box with...\n",
      "37658  B000JZ1WSU                     SmartCat 3836 Tick Tock Teaser\n",
      "42603  B000XZDV44  Hill'S Science Diet Kitten Savory Salmon Entre...\n",
      "43867  B0012KCUOG  Whisker Lickin'S Soft &amp; Delicious Chicken ...\n",
      "\n",
      "Recommending:\n",
      "\n",
      "          asin                                              title\n",
      "0   B000084E7Y                  Multipet Duckworth Duck Large 13\"\n",
      "1   B00028ZLVS  Sergeants - Pet Specialty Division Petrodex Do...\n",
      "2   B0002AQ81I                        Penn Plax Knot Dog Rope Toy\n",
      "3   B0002ASGYU  LPVLUX Deshedding Gloves 1 Pair - Dog Grooming...\n",
      "4   B0002ASM94  Nylabone Dura Chew Pooch Pacifier Chew Bone Va...\n",
      "5   B0002ASN5W                    Original Knot Bone Dog Chew Toy\n",
      "6   B0002ASNQQ  Nylabone Dura Chew Petit Liver Flavored Bone D...\n",
      "7   B0002ASPT6  Nylabone Big Chew Durable Toy Bone for Large B...\n",
      "8   B0002DGMGG         Nylabone Dura Chew Double Action Chew Wolf\n",
      "9   B0002DGM7K  Nylabone Just For Puppies  Key Ring Bone Puppy...\n",
      "10  B0002DGVY4  Herm Sprenger Pet Supply Imports Chrome Plated...\n",
      "11  B0002DHOJA  KONG - Ball with Hole - Durable Rubber, Fetch Toy\n",
      "12  B0002DHNY6  KONG - Snacks - All Natural Dog Treats (Best U...\n",
      "13  B0002DJXJE                     JW Pet Good Cuz Rubber Dog Toy\n",
      "14  B0002DK4D8  PEDIGREE MARROBONE Dog Treats Real Beef Flavor...\n",
      "15  B0002DK4IS                      Our Pets Big Bone Storage Bin\n",
      "16  B0002DK6W2  Multipet Loofa Dog Plush Dog Toy (Colors May V...\n",
      "17  B0002DJX3A  JW HOL-ee Roller Original Treat Dispensing Dog...\n",
      "18  B0002DK9OM                        Jolly Pets Romp-n-Roll Ball\n",
      "19  B0002EOVZO                        Planet Dog Orbee-Tuff Orbee\n",
      "20  B0002HBMYO  Outward Hound Kyjen 31007 Egg Babies Dinosaur ...\n",
      "21  B0002HBLVS        Kyjen Plush Puppies Deluxe Crazies Dog Toys\n",
      "22  B0002I0O5G  Outward Hound Hide-A-Squirrel Puzzle Plush Squ...\n",
      "23  B0002QX3SS          Bamboo  Combat Extreme Flying-Cow Dog Toy\n",
      "24  B0002QX3Q0       Charlee Bear Dog Treat, 16-Ounce, Cheese/Egg\n"
     ]
    }
   ],
   "source": [
    "top_ns_25 = n_recommendations[25][0]\n",
    "utilities.retrieve_recommendations(train, top_ns_25, mf_based=True)"
   ]
  },
  {
   "cell_type": "markdown",
   "id": "ffe6bc5f",
   "metadata": {},
   "source": [
    "## N=30"
   ]
  },
  {
   "cell_type": "code",
   "execution_count": 21,
   "id": "02c52994",
   "metadata": {},
   "outputs": [
    {
     "name": "stdout",
     "output_type": "stream",
     "text": [
      "For user: A89LQAXW1IY6S:\n",
      "Purchase History:\n",
      "             asin                                              title\n",
      "12819  B0002ARP2O  Marshall Ferret Deluxe Leisure Lounge, Pattern...\n",
      "12825  B0002ARP2O  Marshall Ferret Deluxe Leisure Lounge, Pattern...\n",
      "38837  B000MD3NLS  MidWest Homes for Pets Snap'y Fit Stainless St...\n",
      "42683  B000Y8UNAU  Pro Select Fleece Cat Perch Covers - Comfortab...\n",
      "46465  B0018CJZ32                         SmartCat Corner Litter Box\n",
      "\n",
      "Recommending:\n",
      "\n",
      "          asin                                              title\n",
      "0   B0002DGVY4  Herm Sprenger Pet Supply Imports Chrome Plated...\n",
      "1   B0002Z7VAK  EHEIM Substrat Pro Biological Filter Media (Si...\n",
      "2   B0002Z9A4U  Muttluks Original All-Weather IB to XXL Dog Bo...\n",
      "3   B00061MWJA  Oster Professional Pet Grooming Undercoat Rake...\n",
      "4   B00061V0M0      Vo-Toys 1208 Ferret Cat Toy Cat &amp; Dog Toy\n",
      "5   B000633XBE  Rinse Ace Deluxe Pet Shower Sprayer with 8 foo...\n",
      "6   B000634MXM                           Snoozer Lookout Car Seat\n",
      "7   B0006BB78W                   Lixit Waterboy Travel Water Bowl\n",
      "8   B0006G5DJ6                       Healthy Pet Bedding, Natural\n",
      "9   B0006HU52U              Remington Plastic Kennel, Beige/Green\n",
      "10  B0006JKCN0              KONG Frog Dog Toy, Extra Small, Green\n",
      "11  B0006L0UGW  Herm Sprenger Chrome Plated Ultra-Plus Prong T...\n",
      "12  B0006Z9RB2  Pet Gear Happy Trails Pet Stroller for Cats/Do...\n",
      "13  B00074W45S  Soft Claws Feline Nail Caps - 40 Nail Caps and...\n",
      "14  B00076KR9G  Virbac Preventic Tick Collar, Large Dog, 25\", ...\n",
      "15  B0009YD810                Peter's Woven Grass Mat for Rabbits\n",
      "16  B0009YUE6C  PetBuckle Kwik-Connect Tether for the Universa...\n",
      "17  B0009YUIZE  Petmate FATCAT Big Mama's Scratchy Box Cardboa...\n",
      "18  B0009YUE7Q         Our Pets Lift-N-Aid Large Mobility Harness\n",
      "19  B0009YYQ4S                Vittles Vault II Pet Food Container\n",
      "20  B0009YYOMW  Outward Hound Walk N Roll Pet Stroller Fold Up...\n",
      "21  B000A09C4K     PetSafe Wireless Fence Pet Containment Systems\n",
      "22  B000A6UF4U     Gamma2 Vittles Vault Plus for Pet Food Storage\n",
      "23  B000ACR18C           Sportpet Pop Open Cat Play Cubes, 2 Pack\n",
      "24  B000AQPSC4                 Richell Wood Freestanding Pet Gate\n",
      "25  B000AY3DVE  Planet Dog Orbee Tuff Soccer, Durable Dog Play...\n",
      "26  B000AYB4VK  Planet Dog 5' Natural Hemp Leash with Fleece H...\n",
      "27  B000BART6M  Planet Dog Orbee Tuff Diamond Plate Dog Ball, ...\n",
      "28  B000BP751G  Planet Dog Orbee Tuff Soccer, Durable Dog Play...\n",
      "29  B000BZ4RGC                      C&amp;S Peanut Nuggets, 27 oz\n"
     ]
    }
   ],
   "source": [
    "top_ns_30 = n_recommendations[30][0]\n",
    "utilities.retrieve_recommendations(train, top_ns_30, mf_based=True)"
   ]
  },
  {
   "cell_type": "markdown",
   "id": "02489a59",
   "metadata": {},
   "source": [
    "## N=45"
   ]
  },
  {
   "cell_type": "code",
   "execution_count": 22,
   "id": "c3588f67",
   "metadata": {},
   "outputs": [
    {
     "name": "stdout",
     "output_type": "stream",
     "text": [
      "For user: A3C2ECIXEQ0YFQ:\n",
      "Purchase History:\n",
      "             asin                                              title\n",
      "30751  B0009YS4P0  Nutri-Vet Hip &amp; Joint Extra Strength Chewa...\n",
      "37067  B000IBRI2Y              Dog Dazer II Ultrasonic Dog Deterrent\n",
      "40175  B000OV4VAU                        Nutri-Vet Alaska Salmon Oil\n",
      "53623  B0029NQTI8  Pedigree Choice Cuts Variety Pack Lamb/Vegetab...\n",
      "\n",
      "Recommending:\n",
      "\n",
      "          asin                                              title\n",
      "0   B001P220TQ   Hikari Usa Inc AHK42553 Saki Goldfish 7.0 -Ounce\n",
      "1   B000VK6N14  Castor &amp; Pollux Natural Ultramix Dry Cat F...\n",
      "2   B001BCOZ9S  Castor &amp; Pollux Natural Ultramix Dry Puppy...\n",
      "3   B0018CG2DI  Chicken Soup For The Dog Lover'S Soul Canned F...\n",
      "4   B003R0MFX0  Tiki Cat Napili Wild Salmon And Chicken In Chi...\n",
      "5   B0089A62MS                       Merrick Classic Real Chicken\n",
      "6   B000A6UF4U     Gamma2 Vittles Vault Plus for Pet Food Storage\n",
      "7   B0017JGAB6  Iceland Pure Unscented Pharmaceutical Grade Sa...\n",
      "8   B0018CK0EA  Stella &amp; Chewy'S Freeze-Dried Dinner Patti...\n",
      "9   B001BCWAFY  Castor &amp; Pollux Natural Ultramix Large Bre...\n",
      "10  B002AY5BHG                Ziwi Peak Air-Dried Dog Food Recipe\n",
      "11  B0007LDX8I                  Harrisons High Potency Coarse 5lb\n",
      "12  B0012KB4U2  Purina Whisker Lickin's Crunchy &amp; Yummy Ch...\n",
      "13  B0018CICX6  Nature'S Variety Prairie Dry Dog Food, Chicken...\n",
      "14  B003P9XFVO  Blue Buffalo Wilderness Grain Free Dry Dog Foo...\n",
      "15  B0018CK0EU  Stella &amp; Chewy'S Freeze-Dried Dinner Patti...\n",
      "16  B0018CE6DQ  Chicken Soup For The Dog Lover'S Soul Dry Dog ...\n",
      "17  B000O5DI3W     Greenies Pill Pocket Soft Dog Treats - Chicken\n",
      "18  B00DURIOI0  Hill'S Science Diet Adult Grain Free Dog Food,...\n",
      "19  B0019QKOQY  Orijen Regional Poultry and Fish Grain-Free Dr...\n",
      "20  B000O5DI1E                      Beef Pill Pockets Large 7.9oz\n",
      "21  B0017JE6B2                                 Pet Food Container\n",
      "22  B000NVBVCC  Stella &amp; Chewy'S Freeze-Dried Dinner Patti...\n",
      "23  B000MCXXKU  Bio Spot Spot On for Dogs 16-30 lbs., 6 Month ...\n",
      "24  B0019T25QI  Merrick Before Grain #1 Chicken Dry Cat Food, ...\n",
      "25  B00141NFHO           Dogswell Happy Hips Can Dog Food 12 Pack\n",
      "26  B000FO1QOU  Tomlyn High Calorie Nutritional Gel for Puppie...\n",
      "27  B000Z3IQ0S  PureBites Chicken Breast Freeze-Dried Treats f...\n",
      "28  B000W5SLHW       Orijen Grain-Free Adult Dry Dog Food, 15.4lb\n",
      "29  B002ANE43Y                       Milk-Bone MaroSnacks, 40 oz.\n",
      "30  B000M4ZVOE                 Duralactin Feline L-Lysine, 32.5mL\n",
      "31  B0029O0XGQ                     Temptations Classic Cat Treats\n",
      "32  B0017T2Y48      Orijen 6-Fish Grain-Free Dry Dog Food, 15.4lb\n",
      "33  B003P9WU74  Royal Canin Dry Cat Food, Maine Coon 31 Formul...\n",
      "34  B000KKOMSG       Vetoquinol Epakitin Powder for Dogs and Cats\n",
      "35  B0018CJY7O  Chicken Soup For The Puppy Lover'S Soul Canned...\n",
      "36  B00025Z6G6      Hikari Cichlid Gold Floating Pellets for Pets\n",
      "37  B001TLY7DK  Weruva Dog Food, Kobe Yume With American-Style...\n",
      "38  B000WFKTWM     Purina ONE Indoor Advantage Adult Dry Cat Food\n",
      "39  B000OUOYH6                       Pet Botanics Training Reward\n",
      "40  B000NV9VQA         Real Meat Venison Jerky Dog Treats (12 oz)\n",
      "41  B0051QJRSY       Nutramax Cosequin Sprinkle Capsules for Cats\n",
      "42  B000MLG4K2  Wellness Wellbites Soft Natural Dog Treats, Tu...\n",
      "43  B00025Z6Q6  Tetra TetraCichlid Balanced Diet Flakes Food f...\n",
      "44  B009KSFOTK  VetriScience Perio Support Pro for Dogs and Ca...\n"
     ]
    }
   ],
   "source": [
    "top_ns_45 = n_recommendations[45][0]\n",
    "utilities.retrieve_recommendations(train, top_ns_45, mf_based=True)"
   ]
  },
  {
   "cell_type": "markdown",
   "id": "3555815e",
   "metadata": {},
   "source": [
    "# Cross-Analysis for Cold-Start Users (<= 2 Purchased Items)"
   ]
  },
  {
   "cell_type": "code",
   "execution_count": 23,
   "id": "fb9a1653",
   "metadata": {},
   "outputs": [],
   "source": [
    "cold_start_users = utilities.generate_cold_start_users(train)"
   ]
  },
  {
   "cell_type": "code",
   "execution_count": 24,
   "id": "ce2e43c8",
   "metadata": {},
   "outputs": [
    {
     "name": "stdout",
     "output_type": "stream",
     "text": [
      "The MOD-ECF has an average recall@10: 0.01000, average novelty@10: 0.97012\n",
      "The MOD-ECF has an average recall@25: 0.02125, average novelty@25: 0.97337\n",
      "The MOD-ECF has an average recall@30: 0.02408, average novelty@30: 0.97401\n",
      "The MOD-ECF has an average recall@45: 0.03245, average novelty@45: 0.97544\n"
     ]
    }
   ],
   "source": [
    "for n in tuple(zip([10, 25, 30, 45], [top_ns_10, top_ns_25, top_ns_30, top_ns_45])):\n",
    "    cold_start_top_ns = dict(filter(lambda x: x[0] in cold_start_users, n[1].items()))\n",
    "    # evaluate how well the recommended items predicted the future purchases\n",
    "    # on cold start users\n",
    "    n_recommended_items = (evaluate_model.\n",
    "                           evaluate_recommendations(model_name = 'MOD-ECF',\n",
    "                                                    top_ns = cold_start_top_ns,\n",
    "                                                    user_rating_history = test_user_history, \n",
    "                                                    item_popularity = item_popularity, \n",
    "                                                    n = n[0],\n",
    "                                                    mf_based = True))"
   ]
  },
  {
   "cell_type": "markdown",
   "id": "3bc9cc55",
   "metadata": {},
   "source": [
    "# Generating Recommended Items DataFrame"
   ]
  },
  {
   "cell_type": "code",
   "execution_count": 25,
   "id": "e1f4cbe5",
   "metadata": {},
   "outputs": [],
   "source": [
    "max_recommendations = (utilities\n",
    "                       .generate_recommendations_df(\n",
    "                           train, \n",
    "                           n_recommendations, \n",
    "                           \"MOD-ECF\", mf_based=True))"
   ]
  },
  {
   "cell_type": "code",
   "execution_count": 26,
   "id": "ac991384",
   "metadata": {},
   "outputs": [
    {
     "data": {
      "text/html": [
       "<div>\n",
       "<style scoped>\n",
       "    .dataframe tbody tr th:only-of-type {\n",
       "        vertical-align: middle;\n",
       "    }\n",
       "\n",
       "    .dataframe tbody tr th {\n",
       "        vertical-align: top;\n",
       "    }\n",
       "\n",
       "    .dataframe thead th {\n",
       "        text-align: right;\n",
       "    }\n",
       "</style>\n",
       "<table border=\"1\" class=\"dataframe\">\n",
       "  <thead>\n",
       "    <tr style=\"text-align: right;\">\n",
       "      <th></th>\n",
       "      <th>reviewerID</th>\n",
       "      <th>item_rank</th>\n",
       "      <th>asin</th>\n",
       "      <th>algorithm</th>\n",
       "      <th>title</th>\n",
       "    </tr>\n",
       "  </thead>\n",
       "  <tbody>\n",
       "    <tr>\n",
       "      <th>0</th>\n",
       "      <td>A04173782GDZSQ91AJ7OD</td>\n",
       "      <td>0</td>\n",
       "      <td>B001E530FM</td>\n",
       "      <td>MOD-ECF</td>\n",
       "      <td>Purina Tidy Cats BREEZE Litter System Cat Pad ...</td>\n",
       "    </tr>\n",
       "    <tr>\n",
       "      <th>1</th>\n",
       "      <td>A04173782GDZSQ91AJ7OD</td>\n",
       "      <td>1</td>\n",
       "      <td>B000MPR2GI</td>\n",
       "      <td>MOD-ECF</td>\n",
       "      <td>Good Pet Stuff Company Hidden Cat Litter Box</td>\n",
       "    </tr>\n",
       "    <tr>\n",
       "      <th>2</th>\n",
       "      <td>A04173782GDZSQ91AJ7OD</td>\n",
       "      <td>2</td>\n",
       "      <td>B001U8L8NO</td>\n",
       "      <td>MOD-ECF</td>\n",
       "      <td>Van Ness Odor Control Extra Giant Translucent...</td>\n",
       "    </tr>\n",
       "    <tr>\n",
       "      <th>3</th>\n",
       "      <td>A04173782GDZSQ91AJ7OD</td>\n",
       "      <td>3</td>\n",
       "      <td>B002CYNMTS</td>\n",
       "      <td>MOD-ECF</td>\n",
       "      <td>Tidy Cats Cat Litter Pan</td>\n",
       "    </tr>\n",
       "    <tr>\n",
       "      <th>4</th>\n",
       "      <td>A04173782GDZSQ91AJ7OD</td>\n",
       "      <td>4</td>\n",
       "      <td>B0002DJONY</td>\n",
       "      <td>MOD-ECF</td>\n",
       "      <td>Vittles Vault Stackable</td>\n",
       "    </tr>\n",
       "    <tr>\n",
       "      <th>...</th>\n",
       "      <td>...</td>\n",
       "      <td>...</td>\n",
       "      <td>...</td>\n",
       "      <td>...</td>\n",
       "      <td>...</td>\n",
       "    </tr>\n",
       "    <tr>\n",
       "      <th>857605</th>\n",
       "      <td>AZZYW4YOE1B6E</td>\n",
       "      <td>40</td>\n",
       "      <td>B00IDZT22Q</td>\n",
       "      <td>MOD-ECF</td>\n",
       "      <td>Nutrience Original Adult Chicken Meal With Bro...</td>\n",
       "    </tr>\n",
       "    <tr>\n",
       "      <th>857606</th>\n",
       "      <td>AZZYW4YOE1B6E</td>\n",
       "      <td>41</td>\n",
       "      <td>B000DLBCSU</td>\n",
       "      <td>MOD-ECF</td>\n",
       "      <td>Pup-Peroni Original Lean Beef Flavor Dog Snack...</td>\n",
       "    </tr>\n",
       "    <tr>\n",
       "      <th>857607</th>\n",
       "      <td>AZZYW4YOE1B6E</td>\n",
       "      <td>42</td>\n",
       "      <td>B0029O0XGQ</td>\n",
       "      <td>MOD-ECF</td>\n",
       "      <td>Temptations Classic Cat Treats</td>\n",
       "    </tr>\n",
       "    <tr>\n",
       "      <th>857608</th>\n",
       "      <td>AZZYW4YOE1B6E</td>\n",
       "      <td>43</td>\n",
       "      <td>B00IDZTGMM</td>\n",
       "      <td>MOD-ECF</td>\n",
       "      <td>Nutrience Original Healthy Adult Cat Food, 18-...</td>\n",
       "    </tr>\n",
       "    <tr>\n",
       "      <th>857609</th>\n",
       "      <td>AZZYW4YOE1B6E</td>\n",
       "      <td>44</td>\n",
       "      <td>B001E50V54</td>\n",
       "      <td>MOD-ECF</td>\n",
       "      <td>Milk-Bone MaroSnacks Dog Treats for Small Dogs...</td>\n",
       "    </tr>\n",
       "  </tbody>\n",
       "</table>\n",
       "<p>857610 rows × 5 columns</p>\n",
       "</div>"
      ],
      "text/plain": [
       "                   reviewerID item_rank        asin algorithm  \\\n",
       "0       A04173782GDZSQ91AJ7OD         0  B001E530FM   MOD-ECF   \n",
       "1       A04173782GDZSQ91AJ7OD         1  B000MPR2GI   MOD-ECF   \n",
       "2       A04173782GDZSQ91AJ7OD         2  B001U8L8NO   MOD-ECF   \n",
       "3       A04173782GDZSQ91AJ7OD         3  B002CYNMTS   MOD-ECF   \n",
       "4       A04173782GDZSQ91AJ7OD         4  B0002DJONY   MOD-ECF   \n",
       "...                       ...       ...         ...       ...   \n",
       "857605          AZZYW4YOE1B6E        40  B00IDZT22Q   MOD-ECF   \n",
       "857606          AZZYW4YOE1B6E        41  B000DLBCSU   MOD-ECF   \n",
       "857607          AZZYW4YOE1B6E        42  B0029O0XGQ   MOD-ECF   \n",
       "857608          AZZYW4YOE1B6E        43  B00IDZTGMM   MOD-ECF   \n",
       "857609          AZZYW4YOE1B6E        44  B001E50V54   MOD-ECF   \n",
       "\n",
       "                                                    title  \n",
       "0       Purina Tidy Cats BREEZE Litter System Cat Pad ...  \n",
       "1            Good Pet Stuff Company Hidden Cat Litter Box  \n",
       "2        Van Ness Odor Control Extra Giant Translucent...  \n",
       "3                               Tidy Cats Cat Litter Pan   \n",
       "4                                 Vittles Vault Stackable  \n",
       "...                                                   ...  \n",
       "857605  Nutrience Original Adult Chicken Meal With Bro...  \n",
       "857606  Pup-Peroni Original Lean Beef Flavor Dog Snack...  \n",
       "857607                     Temptations Classic Cat Treats  \n",
       "857608  Nutrience Original Healthy Adult Cat Food, 18-...  \n",
       "857609  Milk-Bone MaroSnacks Dog Treats for Small Dogs...  \n",
       "\n",
       "[857610 rows x 5 columns]"
      ]
     },
     "execution_count": 26,
     "metadata": {},
     "output_type": "execute_result"
    }
   ],
   "source": [
    "max_recommendations"
   ]
  },
  {
   "cell_type": "markdown",
   "id": "f0b2186b",
   "metadata": {},
   "source": [
    "# Store in `SQLite` DB"
   ]
  },
  {
   "cell_type": "code",
   "execution_count": 27,
   "id": "033886f4",
   "metadata": {},
   "outputs": [],
   "source": [
    "engine = create_engine(\"sqlite:///recommender.db\", echo=True)"
   ]
  },
  {
   "cell_type": "code",
   "execution_count": 28,
   "id": "291e2d20",
   "metadata": {},
   "outputs": [
    {
     "name": "stdout",
     "output_type": "stream",
     "text": [
      "2021-09-29 03:04:11,338 INFO sqlalchemy.engine.Engine PRAGMA main.table_info(\"Pet_Supplies\")\n",
      "2021-09-29 03:04:11,346 INFO sqlalchemy.engine.Engine [raw sql] ()\n",
      "2021-09-29 03:04:11,599 INFO sqlalchemy.engine.Engine BEGIN (implicit)\n",
      "2021-09-29 03:04:14,602 INFO sqlalchemy.engine.Engine INSERT INTO \"Pet_Supplies\" (\"index\", \"reviewerID\", item_rank, asin, algorithm, title) VALUES (?, ?, ?, ?, ?, ?)\n",
      "2021-09-29 03:04:14,603 INFO sqlalchemy.engine.Engine [generated in 2.46564s] ((0, 'A04173782GDZSQ91AJ7OD', 0, 'B001E530FM', 'MOD-ECF', 'Purina Tidy Cats BREEZE Litter System Cat Pad Refills'), (1, 'A04173782GDZSQ91AJ7OD', 1, 'B000MPR2GI', 'MOD-ECF', 'Good Pet Stuff Company Hidden Cat Litter Box'), (2, 'A04173782GDZSQ91AJ7OD', 2, 'B001U8L8NO', 'MOD-ECF', ' Van Ness Odor Control Extra Giant Translucent Enclosed Cat Pan with Odor Door - #CP7TR'), (3, 'A04173782GDZSQ91AJ7OD', 3, 'B002CYNMTS', 'MOD-ECF', ' Tidy Cats Cat Litter Pan '), (4, 'A04173782GDZSQ91AJ7OD', 4, 'B0002DJONY', 'MOD-ECF', 'Vittles Vault Stackable'), (5, 'A04173782GDZSQ91AJ7OD', 5, 'B000HHLVA4', 'MOD-ECF', 'Petmate Giant Litter Pan for Cat'), (6, 'A04173782GDZSQ91AJ7OD', 6, 'B009XB1E5W', 'MOD-ECF', 'Allmax Puppy Training Pads, 27.5-Inch by 35.5-Inch X-Large, 40-Piece'), (7, 'A04173782GDZSQ91AJ7OD', 7, 'B0017JE6B2', 'MOD-ECF', 'Pet Food Container')  ... displaying 10 of 857610 total bound parameter sets ...  (857608, 'AZZYW4YOE1B6E', 43, 'B00IDZTGMM', 'MOD-ECF', 'Nutrience Original Healthy Adult Cat Food, 18-Pounds, Chicken Meal With Brown Rice Recipe'), (857609, 'AZZYW4YOE1B6E', 44, 'B001E50V54', 'MOD-ECF', 'Milk-Bone MaroSnacks Dog Treats for Small Dogs, 15-Ounce (Pack of 6)'))\n",
      "2021-09-29 03:04:22,408 INFO sqlalchemy.engine.Engine COMMIT\n",
      "2021-09-29 03:04:23,322 INFO sqlalchemy.engine.Engine SELECT name FROM sqlite_master WHERE type='table' ORDER BY name\n",
      "2021-09-29 03:04:23,323 INFO sqlalchemy.engine.Engine [raw sql] ()\n"
     ]
    }
   ],
   "source": [
    "max_recommendations.to_sql(f\"{CATEGORY}\", con=engine, if_exists=\"append\")"
   ]
  },
  {
   "cell_type": "code",
   "execution_count": null,
   "id": "30462fb1",
   "metadata": {},
   "outputs": [],
   "source": []
  }
 ],
 "metadata": {
  "kernelspec": {
   "display_name": "Python 3 (ipykernel)",
   "language": "python",
   "name": "python3"
  },
  "language_info": {
   "codemirror_mode": {
    "name": "ipython",
    "version": 3
   },
   "file_extension": ".py",
   "mimetype": "text/x-python",
   "name": "python",
   "nbconvert_exporter": "python",
   "pygments_lexer": "ipython3",
   "version": "3.9.6"
  }
 },
 "nbformat": 4,
 "nbformat_minor": 5
}
