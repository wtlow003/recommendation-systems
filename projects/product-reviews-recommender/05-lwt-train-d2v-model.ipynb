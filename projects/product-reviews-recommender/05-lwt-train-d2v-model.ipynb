{
 "cells": [
  {
   "cell_type": "code",
   "execution_count": null,
   "metadata": {},
   "outputs": [],
   "source": [
    "!pip install gensim\n",
    "!pip install pandas\n",
    "!pip install pandarallel\n",
    "!pip install numpy\n",
    "!pip install tqdm\n",
    "!pip install ipywidgets"
   ]
  },
  {
   "cell_type": "code",
   "execution_count": 1,
   "metadata": {},
   "outputs": [
    {
     "output_type": "stream",
     "name": "stdout",
     "text": [
      "INFO: Pandarallel will run on 8 workers.\n",
      "INFO: Pandarallel will use standard multiprocessing data transfer (pipe) to transfer data between the main process and workers.\n",
      "/Users/jensen/opt/anaconda3/lib/python3.8/site-packages/gensim/similarities/__init__.py:15: UserWarning: The gensim.similarities.levenshtein submodule is disabled, because the optional Levenshtein package <https://pypi.org/project/python-Levenshtein/> is unavailable. Install Levenhstein (e.g. `pip install python-Levenshtein`) to suppress this warning.\n",
      "  warnings.warn(msg)\n"
     ]
    }
   ],
   "source": [
    "import logging\n",
    "import numpy as np\n",
    "import pandas as pd\n",
    "import warnings\n",
    "\n",
    "from gensim.models.doc2vec import Doc2Vec\n",
    "from gensim.similarities.annoy import AnnoyIndexer\n",
    "from pandarallel import pandarallel\n",
    "from pathlib import Path\n",
    "from pprint import pprint\n",
    "from src.features import preprocessing\n",
    "from tqdm import tqdm\n",
    "\n",
    "pandarallel.initialize(progress_bar=True)\n",
    "tqdm.pandas()\n",
    "warnings.filterwarnings('ignore')"
   ]
  },
  {
   "cell_type": "markdown",
   "metadata": {},
   "source": [
    "# 1. Load data\n",
    "\n",
    "Let's load the train/test data that we have processed previously. We will do a quick check on the shape of both datasets, and also visually inspect that the `processedReviewText` should still be `str` format – hence, we are required to tokenized it before parsing into the `Doc2Vec` model."
   ]
  },
  {
   "cell_type": "code",
   "execution_count": 2,
   "metadata": {},
   "outputs": [],
   "source": [
    "# global variables\n",
    "DATA_PATH = Path('data/processed/')\n",
    "CATEGORY = 'Clothing_Shoes_and_Jewelry'\n",
    "\n",
    "train = pd.read_csv(f\"{DATA_PATH}/{CATEGORY}_train.csv\")\n",
    "test = pd.read_csv(f\"{DATA_PATH}/{CATEGORY}_test.csv\")"
   ]
  },
  {
   "cell_type": "code",
   "execution_count": 3,
   "metadata": {},
   "outputs": [
    {
     "output_type": "stream",
     "name": "stdout",
     "text": [
      "Train: (231491, 5), unique users: 39387, unique items: 23033\nTest: (47145, 5), unique users: 39380, unique items: 17949\n"
     ]
    }
   ],
   "source": [
    "print(f\"Train: {train.shape}, unique users: {train.reviewerID.nunique()}, unique items: {train.asin.nunique()}\")\n",
    "print(f\"Test: {test.shape}, unique users: {test.reviewerID.nunique()}, unique items: {test.asin.nunique()}\")"
   ]
  },
  {
   "cell_type": "code",
   "execution_count": 4,
   "metadata": {},
   "outputs": [
    {
     "output_type": "execute_result",
     "data": {
      "text/plain": [
       "        overall      reviewerID        asin  \\\n",
       "0           5.0  A1KLRMWW2FWPL4  0000031887   \n",
       "1           5.0  A2G5TCU2WDFZ65  0000031887   \n",
       "2           5.0  A1RLQXYNCMWRWN  0000031887   \n",
       "3           4.0   A27UF1MSF3DB2  0000031887   \n",
       "4           5.0  A16GFPNVF4Y816  0000031887   \n",
       "231486      5.0   ACJT8MUC0LRF0  B00KKXCJQU   \n",
       "231487      5.0  A2DG63DN704LOI  B00KKXCJQU   \n",
       "231488      5.0  A1UQBFCERIP7VJ  B00KKXCJQU   \n",
       "231489      5.0  A22CW0ZHY3NJH8  B00KKXCJQU   \n",
       "231490      5.0  A30VWT3R25QAVD  B00KKXCJQU   \n",
       "\n",
       "                                               reviewText  \\\n",
       "0       This is a great tutu and at a really great pri...   \n",
       "1       I bought this for my 4 yr old daughter for dan...   \n",
       "2       What can I say... my daughters have it in oran...   \n",
       "3       I received this today and I'm not a fan of it ...   \n",
       "4       Bought this as a backup to the regular ballet ...   \n",
       "231486  When I pack it looks like a disaster area in a...   \n",
       "231487  I don't normally go ga-ga over a product very ...   \n",
       "231488  These are very nice packing cubes and the 18 x...   \n",
       "231489  I am on vacation with my family of four and th...   \n",
       "231490  When I signed up to receive a free set of Shac...   \n",
       "\n",
       "                                      processedReviewText  \n",
       "0       this great tutu great price it look cheap glad...  \n",
       "1       buy yr old daughter dance class wore today tim...  \n",
       "2       what daughters orange black white pink think b...  \n",
       "3       receive today fan daughter think puffier look ...  \n",
       "4       bought backup regular ballet outfit daughter w...  \n",
       "231486  when pack look like disaster area suitcase pac...  \n",
       "231487  normally ga ga product cub awesome help review...  \n",
       "231488  these nice packing cube laundry storage bag ni...  \n",
       "231489  vacation family shacke pak set wonderful excep...  \n",
       "231490  when sign receive free set shacke pak review t...  "
      ],
      "text/html": "<div>\n<style scoped>\n    .dataframe tbody tr th:only-of-type {\n        vertical-align: middle;\n    }\n\n    .dataframe tbody tr th {\n        vertical-align: top;\n    }\n\n    .dataframe thead th {\n        text-align: right;\n    }\n</style>\n<table border=\"1\" class=\"dataframe\">\n  <thead>\n    <tr style=\"text-align: right;\">\n      <th></th>\n      <th>overall</th>\n      <th>reviewerID</th>\n      <th>asin</th>\n      <th>reviewText</th>\n      <th>processedReviewText</th>\n    </tr>\n  </thead>\n  <tbody>\n    <tr>\n      <th>0</th>\n      <td>5.0</td>\n      <td>A1KLRMWW2FWPL4</td>\n      <td>0000031887</td>\n      <td>This is a great tutu and at a really great pri...</td>\n      <td>this great tutu great price it look cheap glad...</td>\n    </tr>\n    <tr>\n      <th>1</th>\n      <td>5.0</td>\n      <td>A2G5TCU2WDFZ65</td>\n      <td>0000031887</td>\n      <td>I bought this for my 4 yr old daughter for dan...</td>\n      <td>buy yr old daughter dance class wore today tim...</td>\n    </tr>\n    <tr>\n      <th>2</th>\n      <td>5.0</td>\n      <td>A1RLQXYNCMWRWN</td>\n      <td>0000031887</td>\n      <td>What can I say... my daughters have it in oran...</td>\n      <td>what daughters orange black white pink think b...</td>\n    </tr>\n    <tr>\n      <th>3</th>\n      <td>4.0</td>\n      <td>A27UF1MSF3DB2</td>\n      <td>0000031887</td>\n      <td>I received this today and I'm not a fan of it ...</td>\n      <td>receive today fan daughter think puffier look ...</td>\n    </tr>\n    <tr>\n      <th>4</th>\n      <td>5.0</td>\n      <td>A16GFPNVF4Y816</td>\n      <td>0000031887</td>\n      <td>Bought this as a backup to the regular ballet ...</td>\n      <td>bought backup regular ballet outfit daughter w...</td>\n    </tr>\n    <tr>\n      <th>231486</th>\n      <td>5.0</td>\n      <td>ACJT8MUC0LRF0</td>\n      <td>B00KKXCJQU</td>\n      <td>When I pack it looks like a disaster area in a...</td>\n      <td>when pack look like disaster area suitcase pac...</td>\n    </tr>\n    <tr>\n      <th>231487</th>\n      <td>5.0</td>\n      <td>A2DG63DN704LOI</td>\n      <td>B00KKXCJQU</td>\n      <td>I don't normally go ga-ga over a product very ...</td>\n      <td>normally ga ga product cub awesome help review...</td>\n    </tr>\n    <tr>\n      <th>231488</th>\n      <td>5.0</td>\n      <td>A1UQBFCERIP7VJ</td>\n      <td>B00KKXCJQU</td>\n      <td>These are very nice packing cubes and the 18 x...</td>\n      <td>these nice packing cube laundry storage bag ni...</td>\n    </tr>\n    <tr>\n      <th>231489</th>\n      <td>5.0</td>\n      <td>A22CW0ZHY3NJH8</td>\n      <td>B00KKXCJQU</td>\n      <td>I am on vacation with my family of four and th...</td>\n      <td>vacation family shacke pak set wonderful excep...</td>\n    </tr>\n    <tr>\n      <th>231490</th>\n      <td>5.0</td>\n      <td>A30VWT3R25QAVD</td>\n      <td>B00KKXCJQU</td>\n      <td>When I signed up to receive a free set of Shac...</td>\n      <td>when sign receive free set shacke pak review t...</td>\n    </tr>\n  </tbody>\n</table>\n</div>"
     },
     "metadata": {},
     "execution_count": 4
    }
   ],
   "source": [
    "# check train\n",
    "train.head().append(train.tail())"
   ]
  },
  {
   "cell_type": "code",
   "execution_count": 5,
   "metadata": {},
   "outputs": [
    {
     "output_type": "execute_result",
     "data": {
      "text/plain": [
       "       overall      reviewerID        asin  \\\n",
       "0          5.0   A8U3FAMSJVHS5  0000031887   \n",
       "1          5.0  A3GEOILWLK86XM  0000031887   \n",
       "2          5.0  A2A2WZYLU528RO  0000031887   \n",
       "3          5.0  A34ATJR9KFIXL9  0000031887   \n",
       "4          5.0  A1MXJVYXE2QU6H  0000031887   \n",
       "47140      5.0  A2XX2A4OJCDNLZ  B00KF9180W   \n",
       "47141      2.0  A34BZM6S9L7QI4  B00KGCLROK   \n",
       "47142      5.0  A25C2M3QF9G7OQ  B00KGCLROK   \n",
       "47143      5.0   AEL6CQNQXONBX  B00KKXCJQU   \n",
       "47144      5.0  A1EVV74UQYVKRY  B00KKXCJQU   \n",
       "\n",
       "                                              reviewText  \\\n",
       "0      We bought several tutus at once, and they are ...   \n",
       "1      Thank you Halo Heaven great product for Little...   \n",
       "2      My daughter has worn this skirt almost every d...   \n",
       "3      Full and well stitched.  This tutu is a beauti...   \n",
       "4      Perfect for my budding grand daughter ballerin...   \n",
       "47140  While balaclavas can be used for a variety of ...   \n",
       "47141  These were a free sample for review.  I was ex...   \n",
       "47142  These socks are very nicely made and quite com...   \n",
       "47143  This set of travel organizers includes four pi...   \n",
       "47144  I've been traveling back and forth to England ...   \n",
       "\n",
       "                                     processedReviewText  \n",
       "0      we buy tutu get high review sturdy seemingly t...  \n",
       "1      thank halo heaven great product little girls m...  \n",
       "2      my daughter worn skirt day receive washer clot...  \n",
       "3      full stitch this tutu beautiful purple color l...  \n",
       "4      perfect bud grand daughter ballerina beautiful...  \n",
       "47140  while balaclavas variety thing use mainly late...  \n",
       "47141  these free sample review excite try unfortunat...  \n",
       "47142  these sock nicely comfortable wear the grip do...  \n",
       "47143  this set travel organizer include piece total ...  \n",
       "47144  travel forth england pack way suitcases some p...  "
      ],
      "text/html": "<div>\n<style scoped>\n    .dataframe tbody tr th:only-of-type {\n        vertical-align: middle;\n    }\n\n    .dataframe tbody tr th {\n        vertical-align: top;\n    }\n\n    .dataframe thead th {\n        text-align: right;\n    }\n</style>\n<table border=\"1\" class=\"dataframe\">\n  <thead>\n    <tr style=\"text-align: right;\">\n      <th></th>\n      <th>overall</th>\n      <th>reviewerID</th>\n      <th>asin</th>\n      <th>reviewText</th>\n      <th>processedReviewText</th>\n    </tr>\n  </thead>\n  <tbody>\n    <tr>\n      <th>0</th>\n      <td>5.0</td>\n      <td>A8U3FAMSJVHS5</td>\n      <td>0000031887</td>\n      <td>We bought several tutus at once, and they are ...</td>\n      <td>we buy tutu get high review sturdy seemingly t...</td>\n    </tr>\n    <tr>\n      <th>1</th>\n      <td>5.0</td>\n      <td>A3GEOILWLK86XM</td>\n      <td>0000031887</td>\n      <td>Thank you Halo Heaven great product for Little...</td>\n      <td>thank halo heaven great product little girls m...</td>\n    </tr>\n    <tr>\n      <th>2</th>\n      <td>5.0</td>\n      <td>A2A2WZYLU528RO</td>\n      <td>0000031887</td>\n      <td>My daughter has worn this skirt almost every d...</td>\n      <td>my daughter worn skirt day receive washer clot...</td>\n    </tr>\n    <tr>\n      <th>3</th>\n      <td>5.0</td>\n      <td>A34ATJR9KFIXL9</td>\n      <td>0000031887</td>\n      <td>Full and well stitched.  This tutu is a beauti...</td>\n      <td>full stitch this tutu beautiful purple color l...</td>\n    </tr>\n    <tr>\n      <th>4</th>\n      <td>5.0</td>\n      <td>A1MXJVYXE2QU6H</td>\n      <td>0000031887</td>\n      <td>Perfect for my budding grand daughter ballerin...</td>\n      <td>perfect bud grand daughter ballerina beautiful...</td>\n    </tr>\n    <tr>\n      <th>47140</th>\n      <td>5.0</td>\n      <td>A2XX2A4OJCDNLZ</td>\n      <td>B00KF9180W</td>\n      <td>While balaclavas can be used for a variety of ...</td>\n      <td>while balaclavas variety thing use mainly late...</td>\n    </tr>\n    <tr>\n      <th>47141</th>\n      <td>2.0</td>\n      <td>A34BZM6S9L7QI4</td>\n      <td>B00KGCLROK</td>\n      <td>These were a free sample for review.  I was ex...</td>\n      <td>these free sample review excite try unfortunat...</td>\n    </tr>\n    <tr>\n      <th>47142</th>\n      <td>5.0</td>\n      <td>A25C2M3QF9G7OQ</td>\n      <td>B00KGCLROK</td>\n      <td>These socks are very nicely made and quite com...</td>\n      <td>these sock nicely comfortable wear the grip do...</td>\n    </tr>\n    <tr>\n      <th>47143</th>\n      <td>5.0</td>\n      <td>AEL6CQNQXONBX</td>\n      <td>B00KKXCJQU</td>\n      <td>This set of travel organizers includes four pi...</td>\n      <td>this set travel organizer include piece total ...</td>\n    </tr>\n    <tr>\n      <th>47144</th>\n      <td>5.0</td>\n      <td>A1EVV74UQYVKRY</td>\n      <td>B00KKXCJQU</td>\n      <td>I've been traveling back and forth to England ...</td>\n      <td>travel forth england pack way suitcases some p...</td>\n    </tr>\n  </tbody>\n</table>\n</div>"
     },
     "metadata": {},
     "execution_count": 5
    }
   ],
   "source": [
    "# check test\n",
    "test.head().append(test.tail())"
   ]
  },
  {
   "cell_type": "markdown",
   "metadata": {},
   "source": [
    "# 2. Doc2Vec model"
   ]
  },
  {
   "cell_type": "markdown",
   "metadata": {},
   "source": [
    "## 2.1 Preparing `TaggedDocument` for Doc2Vec model\n",
    "\n",
    "In this following section, we will generating tagged documents that will be feed into the `Doc2Vec` model. We will be required to generate documents, where each is 'tagged' with the corresponding `asin` of which the review is addressing. This enables the Doc2Vec model to identify documents that are associated to each of the asin within our training dataset, and create a document vector based on the seperated documents for each asin. \n",
    "\n",
    "The intuition behind this preparation is that we assume that each asin is a representation of all the reviews customers has left after purchasing. If customers like any aspect of the product, the reviews should leave relevant positive feedback on that particular e.g., \"the boots is comfortable\" – hence, we know that this particular boots is comfortable. If a product (asin) has many of such reviews, semantically, we can build an item profile that associates this boots as a product that is comfortable. As embeddings are generated in *n*-dimensional vector space, we can then attempt to find similar products within the neighbourhood that has a similar profile be it is either a pair of boots, or a product that is comfortable in nature. \n",
    "\n",
    "The reason why we are building this in an item-item level is because at a user-level, interests may vary greatly depending on the user needs when purchasing items. Also, as some users may be more negative in nature, their reviews may generally be more critical which will inherently develop a profile that is critical in nature. Assuming this, if we were to place this user profile vector into the *n*-dimensional vector space, we will likely be recommending products that were also critically (or negatively) reviewed. This meant that for this user, we might only be generating poor recommendations due to how its neighbourhood is associated with a negatively semantics. However, in terms of item-level, it is highly unlike that a user has only made poor purchases on the site and hence, its more likely that the items profile develop should have a mix of good and possibly poor semantics. This ensures that we will have positive recommendations generated if we were to implement a treshold of sort, to ensure that the average/weighted average rating of the products meets an initial criteria for recommendations."
   ]
  },
  {
   "cell_type": "code",
   "execution_count": null,
   "metadata": {},
   "outputs": [],
   "source": [
    "%%time\n",
    "# tokenizng the `processedReviewText`\n",
    "train['tokenizedReviewText'] = train['processedReviewText'].parallel_apply(lambda x: x.split())"
   ]
  },
  {
   "cell_type": "code",
   "execution_count": null,
   "metadata": {},
   "outputs": [],
   "source": [
    "# check train\n",
    "train.head().append(train.tail())"
   ]
  },
  {
   "cell_type": "markdown",
   "metadata": {},
   "source": [
    "## 2.2 Preparing `item-level` tagged documents"
   ]
  },
  {
   "cell_type": "code",
   "execution_count": null,
   "metadata": {},
   "outputs": [],
   "source": [
    "_, item_documents = preprocessing.prepare_tagged_documents(users='reviewerID', asins='asin', reviews='tokenizedReviewText', df=train)"
   ]
  },
  {
   "cell_type": "code",
   "execution_count": null,
   "metadata": {},
   "outputs": [],
   "source": [
    "pprint(item_documents[:10])"
   ]
  },
  {
   "cell_type": "markdown",
   "metadata": {},
   "source": [
    "## 2.3 Training `Doc2Vec` model\n",
    "\n",
    "We will be training a `Doc2Vec` model with initial hyperparameters decided based on a study by [Caselles-Dupré, Lesaint, and Royo-Letelier (2018)](https://arxiv.org/abs/1804.04212), where they observed that `negative sampling distribution`, `number of epochs`, `subsampling parameter` and `window size` can significantly improve performance on recommendation tasks. Hence, we will have decided to start with values that similar to those presented in the studies as the basis for improvement during this project."
   ]
  },
  {
   "cell_type": "code",
   "execution_count": 6,
   "metadata": {},
   "outputs": [],
   "source": [
    "logging.basicConfig(level=logging.DEBUG,\n",
    "                    format='%(asctime)s %(message)s')\n",
    "\n",
    "# model parameters\n",
    "VECTOR_SIZE = 150\n",
    "MIN_COUNT = 10\n",
    "NEGATIVE = 5\n",
    "NS_EXPONENT = 0.5\n",
    "SAMPLE = 1e-05\n",
    "DM = 1\n",
    "WORKERS = 8\n",
    "EPOCHS = 50"
   ]
  },
  {
   "cell_type": "code",
   "execution_count": null,
   "metadata": {},
   "outputs": [],
   "source": [
    "model = Doc2Vec(\n",
    "    vector_size=VECTOR_SIZE,\n",
    "    min_count=MIN_COUNT,\n",
    "    negative=NEGATIVE,\n",
    "    sample=SAMPLE,\n",
    "    ns_exponent=NS_EXPONENT,\n",
    "    dm=DM,\n",
    "    workers=WORKERS,\n",
    ")\n",
    "\n",
    "# building vocab\n",
    "model.build_vocab(item_documents)\n",
    "\n",
    "# training model\n",
    "model.train(item_documents, total_examples=model.corpus_count, epochs=EPOCHS)"
   ]
  },
  {
   "cell_type": "code",
   "execution_count": null,
   "metadata": {},
   "outputs": [],
   "source": [
    "# saving model\n",
    "MODEL_PATH = Path(\"models/d2v/\")\n",
    "\n",
    "model.save(f\"{MODEL_PATH}/{CATEGORY}_{VECTOR_SIZE}_{SAMPLE}_{EPOCHS}_d2v.model\")"
   ]
  },
  {
   "cell_type": "markdown",
   "metadata": {},
   "source": [
    "## 2.4 Verifying Doc2Vec model"
   ]
  },
  {
   "cell_type": "code",
   "execution_count": 7,
   "metadata": {},
   "outputs": [
    {
     "output_type": "stream",
     "name": "stderr",
     "text": [
      "2021-07-21 00:01:52,447 loading Doc2Vec object from models/d2v/Clothing_Shoes_and_Jewelry_150_1e-05_50_d2v.model\n",
      "2021-07-21 00:01:52,448 {'uri': 'models/d2v/Clothing_Shoes_and_Jewelry_150_1e-05_50_d2v.model', 'mode': 'rb', 'buffering': -1, 'encoding': None, 'errors': None, 'newline': None, 'closefd': True, 'opener': None, 'ignore_ext': False, 'compression': None, 'transport_params': None}\n",
      "2021-07-21 00:01:52,484 loading dv recursively from models/d2v/Clothing_Shoes_and_Jewelry_150_1e-05_50_d2v.model.dv.* with mmap=None\n",
      "2021-07-21 00:01:52,485 loading wv recursively from models/d2v/Clothing_Shoes_and_Jewelry_150_1e-05_50_d2v.model.wv.* with mmap=None\n",
      "2021-07-21 00:01:52,486 setting ignored attribute cum_table to None\n",
      "2021-07-21 00:01:52,627 Doc2Vec lifecycle event {'fname': 'models/d2v/Clothing_Shoes_and_Jewelry_150_1e-05_50_d2v.model', 'datetime': '2021-07-21T00:01:52.600508', 'gensim': '4.0.1', 'python': '3.8.8 (default, Apr 13 2021, 12:59:45) \\n[Clang 10.0.0 ]', 'platform': 'macOS-10.16-x86_64-i386-64bit', 'event': 'loaded'}\n"
     ]
    }
   ],
   "source": [
    "MODEL_PATH = Path(\"models/d2v/\")\n",
    "\n",
    "model = Doc2Vec.load(f\"{MODEL_PATH}/{CATEGORY}_{VECTOR_SIZE}_{SAMPLE}_{EPOCHS}_d2v.model\")"
   ]
  },
  {
   "cell_type": "markdown",
   "metadata": {},
   "source": [
    "### 2.4.1 Testing retrieval of vectors via index"
   ]
  },
  {
   "cell_type": "code",
   "execution_count": 8,
   "metadata": {},
   "outputs": [
    {
     "output_type": "execute_result",
     "data": {
      "text/plain": [
       "array([-0.55455124, -0.06204286,  0.12651655,  0.17184411, -0.41832566,\n",
       "        0.43929744,  0.5989178 , -0.47313836, -0.26175705,  0.23614489,\n",
       "       -1.3901784 ,  0.6646123 ,  0.06347404,  0.08615484, -0.6717607 ,\n",
       "       -0.3768335 ,  1.0026171 ,  0.25654572,  0.5956967 ,  0.09548705,\n",
       "       -0.5090417 , -0.28958946,  1.0680248 , -0.2967359 ,  0.05868936,\n",
       "       -0.27846545, -0.45245284, -0.39223024, -0.13383815, -0.5927535 ,\n",
       "       -0.6065034 ,  0.11480772, -0.24187134,  0.89880323, -0.4563438 ,\n",
       "       -0.07274003, -0.25703123, -0.67628574, -0.23870592,  0.03952418,\n",
       "       -0.43918917, -0.37131128, -0.3459309 ,  0.22690648,  0.44771397,\n",
       "       -0.46793684, -0.09896857, -0.5261713 , -0.02965886,  0.6870407 ,\n",
       "       -0.49471295, -0.55824864,  0.14912887,  0.19684845,  0.06110121,\n",
       "        0.08721235, -0.67826223,  0.18145782,  0.49971262, -0.26642862,\n",
       "        0.00974132,  0.02288771, -0.05008493, -0.4627209 , -0.58579177,\n",
       "       -0.63324004,  0.05645867, -0.5750356 ,  0.32855687, -0.35113615,\n",
       "        0.7569445 , -0.67850393, -0.0524528 , -0.53823   , -1.1557726 ,\n",
       "       -0.5679395 , -1.1064653 ,  0.526135  , -0.13573413,  0.43550092,\n",
       "       -0.39238155, -0.44137383, -1.0005105 ,  1.6980033 ,  0.30435106,\n",
       "       -0.5381352 , -0.3579662 , -0.6549845 ,  0.49981952, -0.23570788,\n",
       "        0.48940828, -0.6091184 , -0.17778827, -0.21728638, -0.15546602,\n",
       "        1.4347874 ,  0.08449812, -1.0857158 , -0.58185023,  0.45998797,\n",
       "        0.17175175, -0.10798352,  0.35381648,  0.2235827 , -0.14653455,\n",
       "       -1.1150416 , -0.21234849, -0.11326766, -1.1686791 , -0.8082808 ,\n",
       "       -1.0795724 , -0.6491186 ,  0.03086999, -1.173729  ,  1.1349939 ,\n",
       "       -0.4635328 ,  0.53326315, -0.16851126, -0.05698306, -1.0091105 ,\n",
       "       -0.36412108,  0.07882185,  0.39582285, -0.7907473 ,  0.10666534,\n",
       "        0.08741264,  0.6285177 , -0.30344784,  0.4370744 ,  0.9516405 ,\n",
       "        0.19413961,  0.10110148, -0.05380991, -0.0546403 ,  0.03100655,\n",
       "        1.0864135 , -1.7737452 , -0.06892032, -0.5284419 ,  0.22118248,\n",
       "       -0.6440948 , -0.00414208,  0.02530223,  0.01232426, -0.56234187,\n",
       "        0.3020728 ,  0.20977837,  0.00233771,  0.19263285, -0.94992065],\n",
       "      dtype=float32)"
      ]
     },
     "metadata": {},
     "execution_count": 8
    }
   ],
   "source": [
    "model.dv[0] # '0000031887'"
   ]
  },
  {
   "cell_type": "markdown",
   "metadata": {},
   "source": [
    "### 2.4.2 Testing retrieval of vectors via tags"
   ]
  },
  {
   "cell_type": "code",
   "execution_count": 9,
   "metadata": {},
   "outputs": [
    {
     "output_type": "error",
     "ename": "NameError",
     "evalue": "name 'item_documents' is not defined",
     "traceback": [
      "\u001b[0;31m---------------------------------------------------------------------------\u001b[0m",
      "\u001b[0;31mNameError\u001b[0m                                 Traceback (most recent call last)",
      "\u001b[0;32m<ipython-input-9-01bb18529793>\u001b[0m in \u001b[0;36m<module>\u001b[0;34m\u001b[0m\n\u001b[0;32m----> 1\u001b[0;31m \u001b[0mprint\u001b[0m\u001b[0;34m(\u001b[0m\u001b[0;34m[\u001b[0m\u001b[0mi\u001b[0m\u001b[0;34m[\u001b[0m\u001b[0;36m1\u001b[0m\u001b[0;34m]\u001b[0m \u001b[0;32mfor\u001b[0m \u001b[0mi\u001b[0m \u001b[0;32min\u001b[0m \u001b[0mitem_documents\u001b[0m\u001b[0;34m[\u001b[0m\u001b[0;34m:\u001b[0m\u001b[0;36m5\u001b[0m\u001b[0;34m]\u001b[0m\u001b[0;34m]\u001b[0m\u001b[0;34m)\u001b[0m\u001b[0;34m\u001b[0m\u001b[0;34m\u001b[0m\u001b[0m\n\u001b[0m",
      "\u001b[0;31mNameError\u001b[0m: name 'item_documents' is not defined"
     ]
    }
   ],
   "source": [
    "print([i[1] for i in item_documents[:5]])"
   ]
  },
  {
   "cell_type": "code",
   "execution_count": 10,
   "metadata": {},
   "outputs": [
    {
     "output_type": "execute_result",
     "data": {
      "text/plain": [
       "array([-0.55455124, -0.06204286,  0.12651655,  0.17184411, -0.41832566,\n",
       "        0.43929744,  0.5989178 , -0.47313836, -0.26175705,  0.23614489,\n",
       "       -1.3901784 ,  0.6646123 ,  0.06347404,  0.08615484, -0.6717607 ,\n",
       "       -0.3768335 ,  1.0026171 ,  0.25654572,  0.5956967 ,  0.09548705,\n",
       "       -0.5090417 , -0.28958946,  1.0680248 , -0.2967359 ,  0.05868936,\n",
       "       -0.27846545, -0.45245284, -0.39223024, -0.13383815, -0.5927535 ,\n",
       "       -0.6065034 ,  0.11480772, -0.24187134,  0.89880323, -0.4563438 ,\n",
       "       -0.07274003, -0.25703123, -0.67628574, -0.23870592,  0.03952418,\n",
       "       -0.43918917, -0.37131128, -0.3459309 ,  0.22690648,  0.44771397,\n",
       "       -0.46793684, -0.09896857, -0.5261713 , -0.02965886,  0.6870407 ,\n",
       "       -0.49471295, -0.55824864,  0.14912887,  0.19684845,  0.06110121,\n",
       "        0.08721235, -0.67826223,  0.18145782,  0.49971262, -0.26642862,\n",
       "        0.00974132,  0.02288771, -0.05008493, -0.4627209 , -0.58579177,\n",
       "       -0.63324004,  0.05645867, -0.5750356 ,  0.32855687, -0.35113615,\n",
       "        0.7569445 , -0.67850393, -0.0524528 , -0.53823   , -1.1557726 ,\n",
       "       -0.5679395 , -1.1064653 ,  0.526135  , -0.13573413,  0.43550092,\n",
       "       -0.39238155, -0.44137383, -1.0005105 ,  1.6980033 ,  0.30435106,\n",
       "       -0.5381352 , -0.3579662 , -0.6549845 ,  0.49981952, -0.23570788,\n",
       "        0.48940828, -0.6091184 , -0.17778827, -0.21728638, -0.15546602,\n",
       "        1.4347874 ,  0.08449812, -1.0857158 , -0.58185023,  0.45998797,\n",
       "        0.17175175, -0.10798352,  0.35381648,  0.2235827 , -0.14653455,\n",
       "       -1.1150416 , -0.21234849, -0.11326766, -1.1686791 , -0.8082808 ,\n",
       "       -1.0795724 , -0.6491186 ,  0.03086999, -1.173729  ,  1.1349939 ,\n",
       "       -0.4635328 ,  0.53326315, -0.16851126, -0.05698306, -1.0091105 ,\n",
       "       -0.36412108,  0.07882185,  0.39582285, -0.7907473 ,  0.10666534,\n",
       "        0.08741264,  0.6285177 , -0.30344784,  0.4370744 ,  0.9516405 ,\n",
       "        0.19413961,  0.10110148, -0.05380991, -0.0546403 ,  0.03100655,\n",
       "        1.0864135 , -1.7737452 , -0.06892032, -0.5284419 ,  0.22118248,\n",
       "       -0.6440948 , -0.00414208,  0.02530223,  0.01232426, -0.56234187,\n",
       "        0.3020728 ,  0.20977837,  0.00233771,  0.19263285, -0.94992065],\n",
       "      dtype=float32)"
      ]
     },
     "metadata": {},
     "execution_count": 10
    }
   ],
   "source": [
    "model.dv['0000031887']"
   ]
  },
  {
   "cell_type": "markdown",
   "metadata": {},
   "source": [
    "### 2.4.3 Checking number of document vectors"
   ]
  },
  {
   "cell_type": "code",
   "execution_count": 11,
   "metadata": {},
   "outputs": [
    {
     "output_type": "stream",
     "name": "stdout",
     "text": [
      "Number of document vectors: 23033\n"
     ]
    }
   ],
   "source": [
    "print(f\"Number of document vectors: {len(model.dv.index_to_key)}\")"
   ]
  },
  {
   "cell_type": "markdown",
   "metadata": {},
   "source": [
    "We observed that by calling the document vector via both index and actual tags returns the same vector. We also generated `23033` vectors that is aligned with the number of unique items we have in training data. "
   ]
  },
  {
   "cell_type": "markdown",
   "metadata": {},
   "source": [
    "## 2.5 Examining Doc2Vec results"
   ]
  },
  {
   "cell_type": "markdown",
   "metadata": {},
   "source": [
    "### 2.5.1 Are inferred vectors close to the precalculated ones?"
   ]
  },
  {
   "cell_type": "code",
   "execution_count": 12,
   "metadata": {},
   "outputs": [
    {
     "output_type": "error",
     "ename": "KeyError",
     "evalue": "'tokenizedReviewText'",
     "traceback": [
      "\u001b[0;31m---------------------------------------------------------------------------\u001b[0m",
      "\u001b[0;31mKeyError\u001b[0m                                  Traceback (most recent call last)",
      "\u001b[0;32m~/opt/anaconda3/lib/python3.8/site-packages/pandas/core/indexes/base.py\u001b[0m in \u001b[0;36mget_loc\u001b[0;34m(self, key, method, tolerance)\u001b[0m\n\u001b[1;32m   3360\u001b[0m             \u001b[0;32mtry\u001b[0m\u001b[0;34m:\u001b[0m\u001b[0;34m\u001b[0m\u001b[0;34m\u001b[0m\u001b[0m\n\u001b[0;32m-> 3361\u001b[0;31m                 \u001b[0;32mreturn\u001b[0m \u001b[0mself\u001b[0m\u001b[0;34m.\u001b[0m\u001b[0m_engine\u001b[0m\u001b[0;34m.\u001b[0m\u001b[0mget_loc\u001b[0m\u001b[0;34m(\u001b[0m\u001b[0mcasted_key\u001b[0m\u001b[0;34m)\u001b[0m\u001b[0;34m\u001b[0m\u001b[0;34m\u001b[0m\u001b[0m\n\u001b[0m\u001b[1;32m   3362\u001b[0m             \u001b[0;32mexcept\u001b[0m \u001b[0mKeyError\u001b[0m \u001b[0;32mas\u001b[0m \u001b[0merr\u001b[0m\u001b[0;34m:\u001b[0m\u001b[0;34m\u001b[0m\u001b[0;34m\u001b[0m\u001b[0m\n",
      "\u001b[0;32m~/opt/anaconda3/lib/python3.8/site-packages/pandas/_libs/index.pyx\u001b[0m in \u001b[0;36mpandas._libs.index.IndexEngine.get_loc\u001b[0;34m()\u001b[0m\n",
      "\u001b[0;32m~/opt/anaconda3/lib/python3.8/site-packages/pandas/_libs/index.pyx\u001b[0m in \u001b[0;36mpandas._libs.index.IndexEngine.get_loc\u001b[0;34m()\u001b[0m\n",
      "\u001b[0;32mpandas/_libs/hashtable_class_helper.pxi\u001b[0m in \u001b[0;36mpandas._libs.hashtable.PyObjectHashTable.get_item\u001b[0;34m()\u001b[0m\n",
      "\u001b[0;32mpandas/_libs/hashtable_class_helper.pxi\u001b[0m in \u001b[0;36mpandas._libs.hashtable.PyObjectHashTable.get_item\u001b[0;34m()\u001b[0m\n",
      "\u001b[0;31mKeyError\u001b[0m: 'tokenizedReviewText'",
      "\nThe above exception was the direct cause of the following exception:\n",
      "\u001b[0;31mKeyError\u001b[0m                                  Traceback (most recent call last)",
      "\u001b[0;32m<ipython-input-12-0a9cd299b620>\u001b[0m in \u001b[0;36m<module>\u001b[0;34m\u001b[0m\n\u001b[1;32m      4\u001b[0m \u001b[0;31m# combining all the words from the all reviews\u001b[0m\u001b[0;34m\u001b[0m\u001b[0;34m\u001b[0m\u001b[0;34m\u001b[0m\u001b[0m\n\u001b[1;32m      5\u001b[0m \u001b[0mall_review\u001b[0m \u001b[0;34m=\u001b[0m \u001b[0;34m[\u001b[0m\u001b[0;34m]\u001b[0m\u001b[0;34m\u001b[0m\u001b[0;34m\u001b[0m\u001b[0m\n\u001b[0;32m----> 6\u001b[0;31m \u001b[0;32mfor\u001b[0m \u001b[0mreview\u001b[0m \u001b[0;32min\u001b[0m \u001b[0mtrain\u001b[0m\u001b[0;34m[\u001b[0m\u001b[0mtrain\u001b[0m\u001b[0;34m[\u001b[0m\u001b[0;34m'asin'\u001b[0m\u001b[0;34m]\u001b[0m \u001b[0;34m==\u001b[0m \u001b[0mrandom_asin\u001b[0m\u001b[0;34m]\u001b[0m\u001b[0;34m[\u001b[0m\u001b[0;34m\"tokenizedReviewText\"\u001b[0m\u001b[0;34m]\u001b[0m\u001b[0;34m:\u001b[0m\u001b[0;34m\u001b[0m\u001b[0;34m\u001b[0m\u001b[0m\n\u001b[0m\u001b[1;32m      7\u001b[0m     \u001b[0mall_review\u001b[0m\u001b[0;34m.\u001b[0m\u001b[0mextend\u001b[0m\u001b[0;34m(\u001b[0m\u001b[0mreview\u001b[0m\u001b[0;34m)\u001b[0m\u001b[0;34m\u001b[0m\u001b[0;34m\u001b[0m\u001b[0m\n\u001b[1;32m      8\u001b[0m \u001b[0;34m\u001b[0m\u001b[0m\n",
      "\u001b[0;32m~/opt/anaconda3/lib/python3.8/site-packages/pandas/core/frame.py\u001b[0m in \u001b[0;36m__getitem__\u001b[0;34m(self, key)\u001b[0m\n\u001b[1;32m   3453\u001b[0m             \u001b[0;32mif\u001b[0m \u001b[0mself\u001b[0m\u001b[0;34m.\u001b[0m\u001b[0mcolumns\u001b[0m\u001b[0;34m.\u001b[0m\u001b[0mnlevels\u001b[0m \u001b[0;34m>\u001b[0m \u001b[0;36m1\u001b[0m\u001b[0;34m:\u001b[0m\u001b[0;34m\u001b[0m\u001b[0;34m\u001b[0m\u001b[0m\n\u001b[1;32m   3454\u001b[0m                 \u001b[0;32mreturn\u001b[0m \u001b[0mself\u001b[0m\u001b[0;34m.\u001b[0m\u001b[0m_getitem_multilevel\u001b[0m\u001b[0;34m(\u001b[0m\u001b[0mkey\u001b[0m\u001b[0;34m)\u001b[0m\u001b[0;34m\u001b[0m\u001b[0;34m\u001b[0m\u001b[0m\n\u001b[0;32m-> 3455\u001b[0;31m             \u001b[0mindexer\u001b[0m \u001b[0;34m=\u001b[0m \u001b[0mself\u001b[0m\u001b[0;34m.\u001b[0m\u001b[0mcolumns\u001b[0m\u001b[0;34m.\u001b[0m\u001b[0mget_loc\u001b[0m\u001b[0;34m(\u001b[0m\u001b[0mkey\u001b[0m\u001b[0;34m)\u001b[0m\u001b[0;34m\u001b[0m\u001b[0;34m\u001b[0m\u001b[0m\n\u001b[0m\u001b[1;32m   3456\u001b[0m             \u001b[0;32mif\u001b[0m \u001b[0mis_integer\u001b[0m\u001b[0;34m(\u001b[0m\u001b[0mindexer\u001b[0m\u001b[0;34m)\u001b[0m\u001b[0;34m:\u001b[0m\u001b[0;34m\u001b[0m\u001b[0;34m\u001b[0m\u001b[0m\n\u001b[1;32m   3457\u001b[0m                 \u001b[0mindexer\u001b[0m \u001b[0;34m=\u001b[0m \u001b[0;34m[\u001b[0m\u001b[0mindexer\u001b[0m\u001b[0;34m]\u001b[0m\u001b[0;34m\u001b[0m\u001b[0;34m\u001b[0m\u001b[0m\n",
      "\u001b[0;32m~/opt/anaconda3/lib/python3.8/site-packages/pandas/core/indexes/base.py\u001b[0m in \u001b[0;36mget_loc\u001b[0;34m(self, key, method, tolerance)\u001b[0m\n\u001b[1;32m   3361\u001b[0m                 \u001b[0;32mreturn\u001b[0m \u001b[0mself\u001b[0m\u001b[0;34m.\u001b[0m\u001b[0m_engine\u001b[0m\u001b[0;34m.\u001b[0m\u001b[0mget_loc\u001b[0m\u001b[0;34m(\u001b[0m\u001b[0mcasted_key\u001b[0m\u001b[0;34m)\u001b[0m\u001b[0;34m\u001b[0m\u001b[0;34m\u001b[0m\u001b[0m\n\u001b[1;32m   3362\u001b[0m             \u001b[0;32mexcept\u001b[0m \u001b[0mKeyError\u001b[0m \u001b[0;32mas\u001b[0m \u001b[0merr\u001b[0m\u001b[0;34m:\u001b[0m\u001b[0;34m\u001b[0m\u001b[0;34m\u001b[0m\u001b[0m\n\u001b[0;32m-> 3363\u001b[0;31m                 \u001b[0;32mraise\u001b[0m \u001b[0mKeyError\u001b[0m\u001b[0;34m(\u001b[0m\u001b[0mkey\u001b[0m\u001b[0;34m)\u001b[0m \u001b[0;32mfrom\u001b[0m \u001b[0merr\u001b[0m\u001b[0;34m\u001b[0m\u001b[0;34m\u001b[0m\u001b[0m\n\u001b[0m\u001b[1;32m   3364\u001b[0m \u001b[0;34m\u001b[0m\u001b[0m\n\u001b[1;32m   3365\u001b[0m         \u001b[0;32mif\u001b[0m \u001b[0mis_scalar\u001b[0m\u001b[0;34m(\u001b[0m\u001b[0mkey\u001b[0m\u001b[0;34m)\u001b[0m \u001b[0;32mand\u001b[0m \u001b[0misna\u001b[0m\u001b[0;34m(\u001b[0m\u001b[0mkey\u001b[0m\u001b[0;34m)\u001b[0m \u001b[0;32mand\u001b[0m \u001b[0;32mnot\u001b[0m \u001b[0mself\u001b[0m\u001b[0;34m.\u001b[0m\u001b[0mhasnans\u001b[0m\u001b[0;34m:\u001b[0m\u001b[0;34m\u001b[0m\u001b[0;34m\u001b[0m\u001b[0m\n",
      "\u001b[0;31mKeyError\u001b[0m: 'tokenizedReviewText'"
     ]
    }
   ],
   "source": [
    "# let's try to generate a random item id and infer its vector and compare if we can get similar items back\n",
    "random_asin = np.random.choice(list(train['asin'].unique()), 1)[0]\n",
    "\n",
    "# combining all the words from the all reviews\n",
    "all_review = []\n",
    "for review in train[train['asin'] == random_asin][\"tokenizedReviewText\"]:\n",
    "    all_review.extend(review)\n",
    "\n",
    "# inferring vector\n",
    "print(f\"For item {random_asin}...\\n\")\n",
    "print(f'Most similar D2V vectors: {model.dv.most_similar([model.infer_vector(all_review, epochs=5)], topn=5)}')"
   ]
  },
  {
   "cell_type": "code",
   "execution_count": 13,
   "metadata": {},
   "outputs": [
    {
     "output_type": "error",
     "ename": "KeyError",
     "evalue": "'tokenizedReviewText'",
     "traceback": [
      "\u001b[0;31m---------------------------------------------------------------------------\u001b[0m",
      "\u001b[0;31mKeyError\u001b[0m                                  Traceback (most recent call last)",
      "\u001b[0;32m~/opt/anaconda3/lib/python3.8/site-packages/pandas/core/indexes/base.py\u001b[0m in \u001b[0;36mget_loc\u001b[0;34m(self, key, method, tolerance)\u001b[0m\n\u001b[1;32m   3360\u001b[0m             \u001b[0;32mtry\u001b[0m\u001b[0;34m:\u001b[0m\u001b[0;34m\u001b[0m\u001b[0;34m\u001b[0m\u001b[0m\n\u001b[0;32m-> 3361\u001b[0;31m                 \u001b[0;32mreturn\u001b[0m \u001b[0mself\u001b[0m\u001b[0;34m.\u001b[0m\u001b[0m_engine\u001b[0m\u001b[0;34m.\u001b[0m\u001b[0mget_loc\u001b[0m\u001b[0;34m(\u001b[0m\u001b[0mcasted_key\u001b[0m\u001b[0;34m)\u001b[0m\u001b[0;34m\u001b[0m\u001b[0;34m\u001b[0m\u001b[0m\n\u001b[0m\u001b[1;32m   3362\u001b[0m             \u001b[0;32mexcept\u001b[0m \u001b[0mKeyError\u001b[0m \u001b[0;32mas\u001b[0m \u001b[0merr\u001b[0m\u001b[0;34m:\u001b[0m\u001b[0;34m\u001b[0m\u001b[0;34m\u001b[0m\u001b[0m\n",
      "\u001b[0;32m~/opt/anaconda3/lib/python3.8/site-packages/pandas/_libs/index.pyx\u001b[0m in \u001b[0;36mpandas._libs.index.IndexEngine.get_loc\u001b[0;34m()\u001b[0m\n",
      "\u001b[0;32m~/opt/anaconda3/lib/python3.8/site-packages/pandas/_libs/index.pyx\u001b[0m in \u001b[0;36mpandas._libs.index.IndexEngine.get_loc\u001b[0;34m()\u001b[0m\n",
      "\u001b[0;32mpandas/_libs/hashtable_class_helper.pxi\u001b[0m in \u001b[0;36mpandas._libs.hashtable.PyObjectHashTable.get_item\u001b[0;34m()\u001b[0m\n",
      "\u001b[0;32mpandas/_libs/hashtable_class_helper.pxi\u001b[0m in \u001b[0;36mpandas._libs.hashtable.PyObjectHashTable.get_item\u001b[0;34m()\u001b[0m\n",
      "\u001b[0;31mKeyError\u001b[0m: 'tokenizedReviewText'",
      "\nThe above exception was the direct cause of the following exception:\n",
      "\u001b[0;31mKeyError\u001b[0m                                  Traceback (most recent call last)",
      "\u001b[0;32m<ipython-input-13-0a9cd299b620>\u001b[0m in \u001b[0;36m<module>\u001b[0;34m\u001b[0m\n\u001b[1;32m      4\u001b[0m \u001b[0;31m# combining all the words from the all reviews\u001b[0m\u001b[0;34m\u001b[0m\u001b[0;34m\u001b[0m\u001b[0;34m\u001b[0m\u001b[0m\n\u001b[1;32m      5\u001b[0m \u001b[0mall_review\u001b[0m \u001b[0;34m=\u001b[0m \u001b[0;34m[\u001b[0m\u001b[0;34m]\u001b[0m\u001b[0;34m\u001b[0m\u001b[0;34m\u001b[0m\u001b[0m\n\u001b[0;32m----> 6\u001b[0;31m \u001b[0;32mfor\u001b[0m \u001b[0mreview\u001b[0m \u001b[0;32min\u001b[0m \u001b[0mtrain\u001b[0m\u001b[0;34m[\u001b[0m\u001b[0mtrain\u001b[0m\u001b[0;34m[\u001b[0m\u001b[0;34m'asin'\u001b[0m\u001b[0;34m]\u001b[0m \u001b[0;34m==\u001b[0m \u001b[0mrandom_asin\u001b[0m\u001b[0;34m]\u001b[0m\u001b[0;34m[\u001b[0m\u001b[0;34m\"tokenizedReviewText\"\u001b[0m\u001b[0;34m]\u001b[0m\u001b[0;34m:\u001b[0m\u001b[0;34m\u001b[0m\u001b[0;34m\u001b[0m\u001b[0m\n\u001b[0m\u001b[1;32m      7\u001b[0m     \u001b[0mall_review\u001b[0m\u001b[0;34m.\u001b[0m\u001b[0mextend\u001b[0m\u001b[0;34m(\u001b[0m\u001b[0mreview\u001b[0m\u001b[0;34m)\u001b[0m\u001b[0;34m\u001b[0m\u001b[0;34m\u001b[0m\u001b[0m\n\u001b[1;32m      8\u001b[0m \u001b[0;34m\u001b[0m\u001b[0m\n",
      "\u001b[0;32m~/opt/anaconda3/lib/python3.8/site-packages/pandas/core/frame.py\u001b[0m in \u001b[0;36m__getitem__\u001b[0;34m(self, key)\u001b[0m\n\u001b[1;32m   3453\u001b[0m             \u001b[0;32mif\u001b[0m \u001b[0mself\u001b[0m\u001b[0;34m.\u001b[0m\u001b[0mcolumns\u001b[0m\u001b[0;34m.\u001b[0m\u001b[0mnlevels\u001b[0m \u001b[0;34m>\u001b[0m \u001b[0;36m1\u001b[0m\u001b[0;34m:\u001b[0m\u001b[0;34m\u001b[0m\u001b[0;34m\u001b[0m\u001b[0m\n\u001b[1;32m   3454\u001b[0m                 \u001b[0;32mreturn\u001b[0m \u001b[0mself\u001b[0m\u001b[0;34m.\u001b[0m\u001b[0m_getitem_multilevel\u001b[0m\u001b[0;34m(\u001b[0m\u001b[0mkey\u001b[0m\u001b[0;34m)\u001b[0m\u001b[0;34m\u001b[0m\u001b[0;34m\u001b[0m\u001b[0m\n\u001b[0;32m-> 3455\u001b[0;31m             \u001b[0mindexer\u001b[0m \u001b[0;34m=\u001b[0m \u001b[0mself\u001b[0m\u001b[0;34m.\u001b[0m\u001b[0mcolumns\u001b[0m\u001b[0;34m.\u001b[0m\u001b[0mget_loc\u001b[0m\u001b[0;34m(\u001b[0m\u001b[0mkey\u001b[0m\u001b[0;34m)\u001b[0m\u001b[0;34m\u001b[0m\u001b[0;34m\u001b[0m\u001b[0m\n\u001b[0m\u001b[1;32m   3456\u001b[0m             \u001b[0;32mif\u001b[0m \u001b[0mis_integer\u001b[0m\u001b[0;34m(\u001b[0m\u001b[0mindexer\u001b[0m\u001b[0;34m)\u001b[0m\u001b[0;34m:\u001b[0m\u001b[0;34m\u001b[0m\u001b[0;34m\u001b[0m\u001b[0m\n\u001b[1;32m   3457\u001b[0m                 \u001b[0mindexer\u001b[0m \u001b[0;34m=\u001b[0m \u001b[0;34m[\u001b[0m\u001b[0mindexer\u001b[0m\u001b[0;34m]\u001b[0m\u001b[0;34m\u001b[0m\u001b[0;34m\u001b[0m\u001b[0m\n",
      "\u001b[0;32m~/opt/anaconda3/lib/python3.8/site-packages/pandas/core/indexes/base.py\u001b[0m in \u001b[0;36mget_loc\u001b[0;34m(self, key, method, tolerance)\u001b[0m\n\u001b[1;32m   3361\u001b[0m                 \u001b[0;32mreturn\u001b[0m \u001b[0mself\u001b[0m\u001b[0;34m.\u001b[0m\u001b[0m_engine\u001b[0m\u001b[0;34m.\u001b[0m\u001b[0mget_loc\u001b[0m\u001b[0;34m(\u001b[0m\u001b[0mcasted_key\u001b[0m\u001b[0;34m)\u001b[0m\u001b[0;34m\u001b[0m\u001b[0;34m\u001b[0m\u001b[0m\n\u001b[1;32m   3362\u001b[0m             \u001b[0;32mexcept\u001b[0m \u001b[0mKeyError\u001b[0m \u001b[0;32mas\u001b[0m \u001b[0merr\u001b[0m\u001b[0;34m:\u001b[0m\u001b[0;34m\u001b[0m\u001b[0;34m\u001b[0m\u001b[0m\n\u001b[0;32m-> 3363\u001b[0;31m                 \u001b[0;32mraise\u001b[0m \u001b[0mKeyError\u001b[0m\u001b[0;34m(\u001b[0m\u001b[0mkey\u001b[0m\u001b[0;34m)\u001b[0m \u001b[0;32mfrom\u001b[0m \u001b[0merr\u001b[0m\u001b[0;34m\u001b[0m\u001b[0;34m\u001b[0m\u001b[0m\n\u001b[0m\u001b[1;32m   3364\u001b[0m \u001b[0;34m\u001b[0m\u001b[0m\n\u001b[1;32m   3365\u001b[0m         \u001b[0;32mif\u001b[0m \u001b[0mis_scalar\u001b[0m\u001b[0;34m(\u001b[0m\u001b[0mkey\u001b[0m\u001b[0;34m)\u001b[0m \u001b[0;32mand\u001b[0m \u001b[0misna\u001b[0m\u001b[0;34m(\u001b[0m\u001b[0mkey\u001b[0m\u001b[0;34m)\u001b[0m \u001b[0;32mand\u001b[0m \u001b[0;32mnot\u001b[0m \u001b[0mself\u001b[0m\u001b[0;34m.\u001b[0m\u001b[0mhasnans\u001b[0m\u001b[0;34m:\u001b[0m\u001b[0;34m\u001b[0m\u001b[0;34m\u001b[0m\u001b[0m\n",
      "\u001b[0;31mKeyError\u001b[0m: 'tokenizedReviewText'"
     ]
    }
   ],
   "source": [
    "# let's try to generate a random item id and infer its vector and compare if we can get similar items back\n",
    "random_asin = np.random.choice(list(train['asin'].unique()), 1)[0]\n",
    "\n",
    "# combining all the words from the all reviews\n",
    "all_review = []\n",
    "for review in train[train['asin'] == random_asin][\"tokenizedReviewText\"]:\n",
    "    all_review.extend(review)\n",
    "\n",
    "# inferring vector\n",
    "print(f\"For item {random_asin}...\\n\")\n",
    "print(f'Most similar D2V vectors: {model.dv.most_similar([model.infer_vector(all_review, epochs=5)], topn=5)}')"
   ]
  },
  {
   "cell_type": "markdown",
   "metadata": {},
   "source": [
    "We are able to verify that by using the same tokens used for training, we were able to still infer accurate vectors from the model."
   ]
  },
  {
   "cell_type": "markdown",
   "metadata": {},
   "source": [
    "### 2.5.2 Generating top-N recommendations based on aggregated item history\n",
    "\n",
    "As mentioned previously, we wanted to generate recommendations based on item-level instead of user-level due to the fact that user's nature is dynamic. What user like now, might not be the same a few days or weeks later. However, on a item perspective, if an item is good, general public who purchased the item should have positive feedback. The nature of the item profile should not vary as much as it would on a user-level. \n",
    "\n",
    "Hence, instead of building a user profile based on the reviews that the user has given, instead, we will build an *aggregated* item history profile based on the past purchase history of the users. A simplification of the algorithm would be:\n",
    "\n",
    "1. Identify the list of items previously purchased by a user\n",
    "2. Using the Doc2Vec model trained on unique tags based on `asin`, we mean-aggregate the item's document vectors to produce a aggregate item purchase history vector\n",
    "3. Using the aggregated item purchase history vector, we find the top-N, 10, recommendations while excluding previously purchased item and setting a treshold for the mean/weighted-mean rating of the recommended items to ensure that items purchase is popular among others as well."
   ]
  },
  {
   "cell_type": "code",
   "execution_count": 14,
   "metadata": {},
   "outputs": [],
   "source": [
    "# TODO: need to figure how to define a treshold\n",
    "def get_top_n(user, n=10, threshold=4):\n",
    "\n",
    "    # retrieving user's purchase history\n",
    "    purchase_history = train.groupby(['reviewerID'])['asin'].apply(list)[user]\n",
    "\n",
    "    purchase_history_vec = np.zeros(150)\n",
    "    for item in purchase_history:\n",
    "        purchase_history_vec += model.dv[item]\n",
    "    # mean aggregation\n",
    "    purchase_history_vec /= len(purchase_history)\n",
    "\n",
    "    return [i[0] for i in model.dv.most_similar([purchase_history_vec], topn=n)]"
   ]
  },
  {
   "cell_type": "code",
   "execution_count": 15,
   "metadata": {},
   "outputs": [
    {
     "output_type": "stream",
     "name": "stdout",
     "text": [
      "              asin                                         reviewText\n",
      "141747  B0067GUM2W  This necklace is actually a lot nicer than i e...\n",
      "164511  B007WNWEFC  No closure but the chain is quite long. The oc...\n",
      "229819  B00H2SU5ZI  I bought this in eggplant and dark brown and I...\n",
      "230705  B00ICP47CC  I figured out I'm not a huge fan of the poly-s...\n",
      "231362  B00JH0RWEG  I love this skirt! I'm 5'8&#34; and I typicall...\n",
      "\n",
      "For user A2GS3YF3AZ8CVT...\n",
      "\n",
      "Most similar item D2V vectors: ['B0067GUM2W', 'B007WNWEFC', 'B006WXSY3E', 'B00A73WBZW', 'B006WXW16U', 'B00DCL33QM', 'B00CAMCKJ0', 'B00EU7EKGE', 'B00AV4OR3Q', 'B00GY4V38O']\n"
     ]
    }
   ],
   "source": [
    "# generating a random user\n",
    "random_user = np.random.choice(list(train['reviewerID'].unique()), 1)[0]\n",
    "# looking at user records\n",
    "pprint(train[train['reviewerID'] == random_user][[\"asin\", \"reviewText\"]])\n",
    "\n",
    "print(f\"\\nFor user {random_user}...\\n\")\n",
    "print(f'Most similar item D2V vectors: {get_top_n(random_user)}')"
   ]
  },
  {
   "cell_type": "markdown",
   "metadata": {},
   "source": [
    "The example of recommendation above where user `A2OSOO0NRPLZRH`"
   ]
  },
  {
   "cell_type": "markdown",
   "metadata": {},
   "source": [
    "## 3. Computing Metrics\n",
    "\n",
    "Now that we are able to generate recommendations for users, we are going to compute metrics to better evaluate our model with existing techniques used in recommendations for comparison. \n",
    "\n",
    "We will be using the following metrics:\n",
    "\n",
    "1. `Precision@K`: Proportion of recommendations that are relevant (which means that items that users has already make a purchase before).\n",
    "2. `Recall@K`: Proportion of relevant recommendations retrieved.\n"
   ]
  },
  {
   "cell_type": "code",
   "execution_count": 16,
   "metadata": {},
   "outputs": [
    {
     "output_type": "execute_result",
     "data": {
      "text/plain": [
       "       overall      reviewerID        asin  \\\n",
       "0          5.0   A8U3FAMSJVHS5  0000031887   \n",
       "1          5.0  A3GEOILWLK86XM  0000031887   \n",
       "2          5.0  A2A2WZYLU528RO  0000031887   \n",
       "3          5.0  A34ATJR9KFIXL9  0000031887   \n",
       "4          5.0  A1MXJVYXE2QU6H  0000031887   \n",
       "47140      5.0  A2XX2A4OJCDNLZ  B00KF9180W   \n",
       "47141      2.0  A34BZM6S9L7QI4  B00KGCLROK   \n",
       "47142      5.0  A25C2M3QF9G7OQ  B00KGCLROK   \n",
       "47143      5.0   AEL6CQNQXONBX  B00KKXCJQU   \n",
       "47144      5.0  A1EVV74UQYVKRY  B00KKXCJQU   \n",
       "\n",
       "                                              reviewText  \\\n",
       "0      We bought several tutus at once, and they are ...   \n",
       "1      Thank you Halo Heaven great product for Little...   \n",
       "2      My daughter has worn this skirt almost every d...   \n",
       "3      Full and well stitched.  This tutu is a beauti...   \n",
       "4      Perfect for my budding grand daughter ballerin...   \n",
       "47140  While balaclavas can be used for a variety of ...   \n",
       "47141  These were a free sample for review.  I was ex...   \n",
       "47142  These socks are very nicely made and quite com...   \n",
       "47143  This set of travel organizers includes four pi...   \n",
       "47144  I've been traveling back and forth to England ...   \n",
       "\n",
       "                                     processedReviewText  \n",
       "0      we buy tutu get high review sturdy seemingly t...  \n",
       "1      thank halo heaven great product little girls m...  \n",
       "2      my daughter worn skirt day receive washer clot...  \n",
       "3      full stitch this tutu beautiful purple color l...  \n",
       "4      perfect bud grand daughter ballerina beautiful...  \n",
       "47140  while balaclavas variety thing use mainly late...  \n",
       "47141  these free sample review excite try unfortunat...  \n",
       "47142  these sock nicely comfortable wear the grip do...  \n",
       "47143  this set travel organizer include piece total ...  \n",
       "47144  travel forth england pack way suitcases some p...  "
      ],
      "text/html": "<div>\n<style scoped>\n    .dataframe tbody tr th:only-of-type {\n        vertical-align: middle;\n    }\n\n    .dataframe tbody tr th {\n        vertical-align: top;\n    }\n\n    .dataframe thead th {\n        text-align: right;\n    }\n</style>\n<table border=\"1\" class=\"dataframe\">\n  <thead>\n    <tr style=\"text-align: right;\">\n      <th></th>\n      <th>overall</th>\n      <th>reviewerID</th>\n      <th>asin</th>\n      <th>reviewText</th>\n      <th>processedReviewText</th>\n    </tr>\n  </thead>\n  <tbody>\n    <tr>\n      <th>0</th>\n      <td>5.0</td>\n      <td>A8U3FAMSJVHS5</td>\n      <td>0000031887</td>\n      <td>We bought several tutus at once, and they are ...</td>\n      <td>we buy tutu get high review sturdy seemingly t...</td>\n    </tr>\n    <tr>\n      <th>1</th>\n      <td>5.0</td>\n      <td>A3GEOILWLK86XM</td>\n      <td>0000031887</td>\n      <td>Thank you Halo Heaven great product for Little...</td>\n      <td>thank halo heaven great product little girls m...</td>\n    </tr>\n    <tr>\n      <th>2</th>\n      <td>5.0</td>\n      <td>A2A2WZYLU528RO</td>\n      <td>0000031887</td>\n      <td>My daughter has worn this skirt almost every d...</td>\n      <td>my daughter worn skirt day receive washer clot...</td>\n    </tr>\n    <tr>\n      <th>3</th>\n      <td>5.0</td>\n      <td>A34ATJR9KFIXL9</td>\n      <td>0000031887</td>\n      <td>Full and well stitched.  This tutu is a beauti...</td>\n      <td>full stitch this tutu beautiful purple color l...</td>\n    </tr>\n    <tr>\n      <th>4</th>\n      <td>5.0</td>\n      <td>A1MXJVYXE2QU6H</td>\n      <td>0000031887</td>\n      <td>Perfect for my budding grand daughter ballerin...</td>\n      <td>perfect bud grand daughter ballerina beautiful...</td>\n    </tr>\n    <tr>\n      <th>47140</th>\n      <td>5.0</td>\n      <td>A2XX2A4OJCDNLZ</td>\n      <td>B00KF9180W</td>\n      <td>While balaclavas can be used for a variety of ...</td>\n      <td>while balaclavas variety thing use mainly late...</td>\n    </tr>\n    <tr>\n      <th>47141</th>\n      <td>2.0</td>\n      <td>A34BZM6S9L7QI4</td>\n      <td>B00KGCLROK</td>\n      <td>These were a free sample for review.  I was ex...</td>\n      <td>these free sample review excite try unfortunat...</td>\n    </tr>\n    <tr>\n      <th>47142</th>\n      <td>5.0</td>\n      <td>A25C2M3QF9G7OQ</td>\n      <td>B00KGCLROK</td>\n      <td>These socks are very nicely made and quite com...</td>\n      <td>these sock nicely comfortable wear the grip do...</td>\n    </tr>\n    <tr>\n      <th>47143</th>\n      <td>5.0</td>\n      <td>AEL6CQNQXONBX</td>\n      <td>B00KKXCJQU</td>\n      <td>This set of travel organizers includes four pi...</td>\n      <td>this set travel organizer include piece total ...</td>\n    </tr>\n    <tr>\n      <th>47144</th>\n      <td>5.0</td>\n      <td>A1EVV74UQYVKRY</td>\n      <td>B00KKXCJQU</td>\n      <td>I've been traveling back and forth to England ...</td>\n      <td>travel forth england pack way suitcases some p...</td>\n    </tr>\n  </tbody>\n</table>\n</div>"
     },
     "metadata": {},
     "execution_count": 16
    }
   ],
   "source": [
    "# let take a look at our testing set \n",
    "test.head().append(test.tail())"
   ]
  },
  {
   "cell_type": "code",
   "execution_count": 17,
   "metadata": {},
   "outputs": [
    {
     "output_type": "stream",
     "name": "stdout",
     "text": [
      "              reviewerID          asin\n0  A001114613O3F18Q5NVR6  [B000J6ZYL0]\n1  A00146182PNM90WNNAZ5Q  [B00823Y41S]\n2  A00165422B2GAUE3EL6Z0  [B008G51WHQ]\n3  A00338282E99B8OR2JYTZ  [B00DVFNNQE]\n4  A00354001GE099Q1FL0TU  [B00BTWAZ0I]\n"
     ]
    }
   ],
   "source": [
    "# creating the purchase history of users in the testing set\n",
    "test_purchase_history = test.groupby(['reviewerID'])['asin'].apply(list).to_frame().reset_index()\n",
    "\n",
    "pprint(test_purchase_history.iloc[:5])"
   ]
  },
  {
   "cell_type": "code",
   "execution_count": 18,
   "metadata": {},
   "outputs": [
    {
     "output_type": "stream",
     "name": "stdout",
     "text": [
      "           reviewerID                                               asin\n109    A104QGECCAFCI9                                       [B00592VMNI]\n15112  A2G5OW0UIBAUIT                           [B008SCM0AU, B00AOCV6OI]\n13118  A29BPMJI0ZYH4H  [B0058XH5D4, B007BZ5CUU, B00A0SXLOO, B00AVPHH4...\n37097   ARQZEE0LA1PBB                                       [B000A2KC7O]\n31660   A8VSC4N8D63MJ                                       [B007ZRS0ZI]\n...               ...                                                ...\n14667  A2EP4PMBS78D5F                                       [B001SN8DHK]\n16387  A2KNB31SNXN0MR                                       [B008MMJ27K]\n33258   AENTXUFIYPSMZ                                       [B003NX8C2O]\n7029    A1OJHJSWH0F4K                                       [B0087SX5YA]\n26273  A3IKG99RBVQDMK                                       [B00CJ6YMES]\n\n[5000 rows x 2 columns]\n"
     ]
    }
   ],
   "source": [
    "# let randomly sample 1000 rows to make predictions\n",
    "sampled_test_purchase_history = test_purchase_history.sample(n=5000, random_state=42)\n",
    "\n",
    "pprint(sampled_test_purchase_history)"
   ]
  },
  {
   "cell_type": "code",
   "execution_count": 19,
   "metadata": {},
   "outputs": [
    {
     "output_type": "display_data",
     "data": {
      "text/plain": "VBox(children=(HBox(children=(IntProgress(value=0, description='0.00%', max=625), Label(value='0 / 625'))), HB…",
      "application/vnd.jupyter.widget-view+json": {
       "version_major": 2,
       "version_minor": 0,
       "model_id": "c3b335d6c7c74bfbb372c390613daa94"
      }
     },
     "metadata": {}
    },
    {
     "output_type": "stream",
     "name": "stdout",
     "text": [
      "CPU times: user 11.4 s, sys: 1.41 s, total: 12.8 s\nWall time: 18min 58s\n"
     ]
    }
   ],
   "source": [
    "%%time\n",
    "# generating predictions\n",
    "sampled_test_purchase_history['asin_predictions'] = sampled_test_purchase_history['reviewerID'].parallel_apply(get_top_n)"
   ]
  },
  {
   "cell_type": "code",
   "execution_count": 20,
   "metadata": {},
   "outputs": [
    {
     "output_type": "execute_result",
     "data": {
      "text/plain": [
       "           reviewerID                                               asin  \\\n",
       "109    A104QGECCAFCI9                                       [B00592VMNI]   \n",
       "15112  A2G5OW0UIBAUIT                           [B008SCM0AU, B00AOCV6OI]   \n",
       "13118  A29BPMJI0ZYH4H  [B0058XH5D4, B007BZ5CUU, B00A0SXLOO, B00AVPHH4...   \n",
       "37097   ARQZEE0LA1PBB                                       [B000A2KC7O]   \n",
       "31660   A8VSC4N8D63MJ                                       [B007ZRS0ZI]   \n",
       "14667  A2EP4PMBS78D5F                                       [B001SN8DHK]   \n",
       "16387  A2KNB31SNXN0MR                                       [B008MMJ27K]   \n",
       "33258   AENTXUFIYPSMZ                                       [B003NX8C2O]   \n",
       "7029    A1OJHJSWH0F4K                                       [B0087SX5YA]   \n",
       "26273  A3IKG99RBVQDMK                                       [B00CJ6YMES]   \n",
       "\n",
       "                                        asin_predictions  \n",
       "109    [B000MM8I5U, B001KVQM96, B005FDWNKM, B00FSB5SB...  \n",
       "15112  [B008SCHXGQ, B007JPJD6G, B00CVQ16S6, B0094FYRM...  \n",
       "13118  [B008KKSJYQ, B00AKSCOMO, B00BXXX3PM, B008KKSKJ...  \n",
       "37097  [B006H9S4LU, B009V7Q8YK, B0030BELDS, B0018OFU9...  \n",
       "31660  [B0006LMBJ6, B000S6ICUQ, B0018OHOB0, B0018OLPQ...  \n",
       "14667  [B004A9FVDS, B005AFKQFY, B002AHW2P2, B002463U8...  \n",
       "16387  [B009WQRQ64, B004Y6R5EA, B00CYNAUE2, B00J6OOYI...  \n",
       "33258  [B0007YR8WW, B000T8EN8I, B001124KQG, B004A7XXI...  \n",
       "7029   [B00BU17JP2, B007MU5HUE, B004WJBZ54, B009TYOL8...  \n",
       "26273  [B007VU1H2W, B008KKOEA4, B00BM27X46, B005TEO7V...  "
      ],
      "text/html": "<div>\n<style scoped>\n    .dataframe tbody tr th:only-of-type {\n        vertical-align: middle;\n    }\n\n    .dataframe tbody tr th {\n        vertical-align: top;\n    }\n\n    .dataframe thead th {\n        text-align: right;\n    }\n</style>\n<table border=\"1\" class=\"dataframe\">\n  <thead>\n    <tr style=\"text-align: right;\">\n      <th></th>\n      <th>reviewerID</th>\n      <th>asin</th>\n      <th>asin_predictions</th>\n    </tr>\n  </thead>\n  <tbody>\n    <tr>\n      <th>109</th>\n      <td>A104QGECCAFCI9</td>\n      <td>[B00592VMNI]</td>\n      <td>[B000MM8I5U, B001KVQM96, B005FDWNKM, B00FSB5SB...</td>\n    </tr>\n    <tr>\n      <th>15112</th>\n      <td>A2G5OW0UIBAUIT</td>\n      <td>[B008SCM0AU, B00AOCV6OI]</td>\n      <td>[B008SCHXGQ, B007JPJD6G, B00CVQ16S6, B0094FYRM...</td>\n    </tr>\n    <tr>\n      <th>13118</th>\n      <td>A29BPMJI0ZYH4H</td>\n      <td>[B0058XH5D4, B007BZ5CUU, B00A0SXLOO, B00AVPHH4...</td>\n      <td>[B008KKSJYQ, B00AKSCOMO, B00BXXX3PM, B008KKSKJ...</td>\n    </tr>\n    <tr>\n      <th>37097</th>\n      <td>ARQZEE0LA1PBB</td>\n      <td>[B000A2KC7O]</td>\n      <td>[B006H9S4LU, B009V7Q8YK, B0030BELDS, B0018OFU9...</td>\n    </tr>\n    <tr>\n      <th>31660</th>\n      <td>A8VSC4N8D63MJ</td>\n      <td>[B007ZRS0ZI]</td>\n      <td>[B0006LMBJ6, B000S6ICUQ, B0018OHOB0, B0018OLPQ...</td>\n    </tr>\n    <tr>\n      <th>14667</th>\n      <td>A2EP4PMBS78D5F</td>\n      <td>[B001SN8DHK]</td>\n      <td>[B004A9FVDS, B005AFKQFY, B002AHW2P2, B002463U8...</td>\n    </tr>\n    <tr>\n      <th>16387</th>\n      <td>A2KNB31SNXN0MR</td>\n      <td>[B008MMJ27K]</td>\n      <td>[B009WQRQ64, B004Y6R5EA, B00CYNAUE2, B00J6OOYI...</td>\n    </tr>\n    <tr>\n      <th>33258</th>\n      <td>AENTXUFIYPSMZ</td>\n      <td>[B003NX8C2O]</td>\n      <td>[B0007YR8WW, B000T8EN8I, B001124KQG, B004A7XXI...</td>\n    </tr>\n    <tr>\n      <th>7029</th>\n      <td>A1OJHJSWH0F4K</td>\n      <td>[B0087SX5YA]</td>\n      <td>[B00BU17JP2, B007MU5HUE, B004WJBZ54, B009TYOL8...</td>\n    </tr>\n    <tr>\n      <th>26273</th>\n      <td>A3IKG99RBVQDMK</td>\n      <td>[B00CJ6YMES]</td>\n      <td>[B007VU1H2W, B008KKOEA4, B00BM27X46, B005TEO7V...</td>\n    </tr>\n  </tbody>\n</table>\n</div>"
     },
     "metadata": {},
     "execution_count": 20
    }
   ],
   "source": [
    "# checking the dataframe\n",
    "sampled_test_purchase_history.head().append(sampled_test_purchase_history.tail())"
   ]
  },
  {
   "cell_type": "markdown",
   "metadata": {},
   "source": [
    "### 3.1 Defining utility metrics functions"
   ]
  },
  {
   "cell_type": "code",
   "execution_count": 21,
   "metadata": {},
   "outputs": [],
   "source": [
    "def precision_at_k(asins, predicted_asins, k=10):\n",
    "    # number of relevant items\n",
    "    set_actual = set(asins)\n",
    "    set_preds = set(predicted_asins)\n",
    "    num_relevant = len(set_actual.intersection(set_preds))\n",
    "    \n",
    "    # calculating precision@K - relevant / total recommended\n",
    "    precision_at_k = num_relevant / k\n",
    "    \n",
    "    return precision_at_k\n",
    "\n",
    "def recall_at_k(asins, predicted_asins, k=10):\n",
    "    # number of relevant items\n",
    "    set_actual = set(asins)\n",
    "    set_preds = set(predicted_asins)\n",
    "    num_relevant = len(set_actual.intersection(set_preds))\n",
    "    \n",
    "    # calculating recall@K - relevant / total relevant items\n",
    "    recall_at_k = num_relevant / len(asins)\n",
    "    \n",
    "    return recall_at_k"
   ]
  },
  {
   "cell_type": "code",
   "execution_count": 22,
   "metadata": {},
   "outputs": [
    {
     "output_type": "stream",
     "name": "stderr",
     "text": [
      "100%|██████████| 5000/5000 [00:00<00:00, 20988.54it/s]\n",
      "100%|██████████| 5000/5000 [00:00<00:00, 30353.83it/s]\n"
     ]
    }
   ],
   "source": [
    "# computing the metrics\n",
    "sampled_test_purchase_history['precision@K'] = sampled_test_purchase_history.progress_apply(lambda x: precision_at_k(x.asin, x.asin_predictions), axis=1)\n",
    "sampled_test_purchase_history['recall@K'] = sampled_test_purchase_history.progress_apply(lambda x: recall_at_k(x.asin, x.asin_predictions), axis=1)"
   ]
  },
  {
   "cell_type": "code",
   "execution_count": 23,
   "metadata": {},
   "outputs": [
    {
     "output_type": "execute_result",
     "data": {
      "text/plain": [
       "           reviewerID                                               asin  \\\n",
       "109    A104QGECCAFCI9                                       [B00592VMNI]   \n",
       "15112  A2G5OW0UIBAUIT                           [B008SCM0AU, B00AOCV6OI]   \n",
       "13118  A29BPMJI0ZYH4H  [B0058XH5D4, B007BZ5CUU, B00A0SXLOO, B00AVPHH4...   \n",
       "37097   ARQZEE0LA1PBB                                       [B000A2KC7O]   \n",
       "31660   A8VSC4N8D63MJ                                       [B007ZRS0ZI]   \n",
       "14667  A2EP4PMBS78D5F                                       [B001SN8DHK]   \n",
       "16387  A2KNB31SNXN0MR                                       [B008MMJ27K]   \n",
       "33258   AENTXUFIYPSMZ                                       [B003NX8C2O]   \n",
       "7029    A1OJHJSWH0F4K                                       [B0087SX5YA]   \n",
       "26273  A3IKG99RBVQDMK                                       [B00CJ6YMES]   \n",
       "\n",
       "                                        asin_predictions  precision@K  \\\n",
       "109    [B000MM8I5U, B001KVQM96, B005FDWNKM, B00FSB5SB...          0.0   \n",
       "15112  [B008SCHXGQ, B007JPJD6G, B00CVQ16S6, B0094FYRM...          0.0   \n",
       "13118  [B008KKSJYQ, B00AKSCOMO, B00BXXX3PM, B008KKSKJ...          0.0   \n",
       "37097  [B006H9S4LU, B009V7Q8YK, B0030BELDS, B0018OFU9...          0.0   \n",
       "31660  [B0006LMBJ6, B000S6ICUQ, B0018OHOB0, B0018OLPQ...          0.0   \n",
       "14667  [B004A9FVDS, B005AFKQFY, B002AHW2P2, B002463U8...          0.0   \n",
       "16387  [B009WQRQ64, B004Y6R5EA, B00CYNAUE2, B00J6OOYI...          0.0   \n",
       "33258  [B0007YR8WW, B000T8EN8I, B001124KQG, B004A7XXI...          0.0   \n",
       "7029   [B00BU17JP2, B007MU5HUE, B004WJBZ54, B009TYOL8...          0.0   \n",
       "26273  [B007VU1H2W, B008KKOEA4, B00BM27X46, B005TEO7V...          0.0   \n",
       "\n",
       "       recall@K  \n",
       "109         0.0  \n",
       "15112       0.0  \n",
       "13118       0.0  \n",
       "37097       0.0  \n",
       "31660       0.0  \n",
       "14667       0.0  \n",
       "16387       0.0  \n",
       "33258       0.0  \n",
       "7029        0.0  \n",
       "26273       0.0  "
      ],
      "text/html": "<div>\n<style scoped>\n    .dataframe tbody tr th:only-of-type {\n        vertical-align: middle;\n    }\n\n    .dataframe tbody tr th {\n        vertical-align: top;\n    }\n\n    .dataframe thead th {\n        text-align: right;\n    }\n</style>\n<table border=\"1\" class=\"dataframe\">\n  <thead>\n    <tr style=\"text-align: right;\">\n      <th></th>\n      <th>reviewerID</th>\n      <th>asin</th>\n      <th>asin_predictions</th>\n      <th>precision@K</th>\n      <th>recall@K</th>\n    </tr>\n  </thead>\n  <tbody>\n    <tr>\n      <th>109</th>\n      <td>A104QGECCAFCI9</td>\n      <td>[B00592VMNI]</td>\n      <td>[B000MM8I5U, B001KVQM96, B005FDWNKM, B00FSB5SB...</td>\n      <td>0.0</td>\n      <td>0.0</td>\n    </tr>\n    <tr>\n      <th>15112</th>\n      <td>A2G5OW0UIBAUIT</td>\n      <td>[B008SCM0AU, B00AOCV6OI]</td>\n      <td>[B008SCHXGQ, B007JPJD6G, B00CVQ16S6, B0094FYRM...</td>\n      <td>0.0</td>\n      <td>0.0</td>\n    </tr>\n    <tr>\n      <th>13118</th>\n      <td>A29BPMJI0ZYH4H</td>\n      <td>[B0058XH5D4, B007BZ5CUU, B00A0SXLOO, B00AVPHH4...</td>\n      <td>[B008KKSJYQ, B00AKSCOMO, B00BXXX3PM, B008KKSKJ...</td>\n      <td>0.0</td>\n      <td>0.0</td>\n    </tr>\n    <tr>\n      <th>37097</th>\n      <td>ARQZEE0LA1PBB</td>\n      <td>[B000A2KC7O]</td>\n      <td>[B006H9S4LU, B009V7Q8YK, B0030BELDS, B0018OFU9...</td>\n      <td>0.0</td>\n      <td>0.0</td>\n    </tr>\n    <tr>\n      <th>31660</th>\n      <td>A8VSC4N8D63MJ</td>\n      <td>[B007ZRS0ZI]</td>\n      <td>[B0006LMBJ6, B000S6ICUQ, B0018OHOB0, B0018OLPQ...</td>\n      <td>0.0</td>\n      <td>0.0</td>\n    </tr>\n    <tr>\n      <th>14667</th>\n      <td>A2EP4PMBS78D5F</td>\n      <td>[B001SN8DHK]</td>\n      <td>[B004A9FVDS, B005AFKQFY, B002AHW2P2, B002463U8...</td>\n      <td>0.0</td>\n      <td>0.0</td>\n    </tr>\n    <tr>\n      <th>16387</th>\n      <td>A2KNB31SNXN0MR</td>\n      <td>[B008MMJ27K]</td>\n      <td>[B009WQRQ64, B004Y6R5EA, B00CYNAUE2, B00J6OOYI...</td>\n      <td>0.0</td>\n      <td>0.0</td>\n    </tr>\n    <tr>\n      <th>33258</th>\n      <td>AENTXUFIYPSMZ</td>\n      <td>[B003NX8C2O]</td>\n      <td>[B0007YR8WW, B000T8EN8I, B001124KQG, B004A7XXI...</td>\n      <td>0.0</td>\n      <td>0.0</td>\n    </tr>\n    <tr>\n      <th>7029</th>\n      <td>A1OJHJSWH0F4K</td>\n      <td>[B0087SX5YA]</td>\n      <td>[B00BU17JP2, B007MU5HUE, B004WJBZ54, B009TYOL8...</td>\n      <td>0.0</td>\n      <td>0.0</td>\n    </tr>\n    <tr>\n      <th>26273</th>\n      <td>A3IKG99RBVQDMK</td>\n      <td>[B00CJ6YMES]</td>\n      <td>[B007VU1H2W, B008KKOEA4, B00BM27X46, B005TEO7V...</td>\n      <td>0.0</td>\n      <td>0.0</td>\n    </tr>\n  </tbody>\n</table>\n</div>"
     },
     "metadata": {},
     "execution_count": 23
    }
   ],
   "source": [
    "# checking the dataframe\n",
    "sampled_test_purchase_history.head().append(sampled_test_purchase_history.tail())"
   ]
  },
  {
   "cell_type": "markdown",
   "metadata": {},
   "source": [
    "### 3.2 Retrieving the average metrics "
   ]
  },
  {
   "cell_type": "code",
   "execution_count": 24,
   "metadata": {},
   "outputs": [
    {
     "output_type": "stream",
     "name": "stdout",
     "text": [
      "The model has a average precision@K: 0.00136, average recall@K: 0.01214.\n"
     ]
    }
   ],
   "source": [
    "average_precision_at_k = sampled_test_purchase_history[\"precision@K\"].mean()\n",
    "average_recall_at_k = sampled_test_purchase_history[\"recall@K\"].mean()\n",
    "\n",
    "print(f\"The model has a average precision@K: {average_precision_at_k:.5f}, average recall@K: {average_recall_at_k:.5f}.\")"
   ]
  },
  {
   "cell_type": "markdown",
   "metadata": {},
   "source": [
    "### 3.3 Looking at the correct recommendations"
   ]
  },
  {
   "cell_type": "code",
   "execution_count": 25,
   "metadata": {},
   "outputs": [
    {
     "output_type": "execute_result",
     "data": {
      "text/plain": [
       "           reviewerID          asin  \\\n",
       "37689   ATQVNXUU2N1GG  [B0009WXTX4]   \n",
       "39337   AZV969S41XUYF  [B009S3HPTE]   \n",
       "36648   AQA5BVA14WTJQ  [B000KPP352]   \n",
       "37385   ASQFKYFTM1A3G  [B002YIPCJA]   \n",
       "2158   A17OB8ULOJ5U50  [B000UECV3U]   \n",
       "35465   AM74DCJX3UI7X  [B002JKZU4A]   \n",
       "29431  A3TF05A315UM97  [B006GDARO4]   \n",
       "22453  A35ARB435GXRMH  [B006B3AOJC]   \n",
       "29035  A3S4V8NPKKDDUL  [B001SN8BLS]   \n",
       "30780   A5SYJBHLU748Z  [B008Q0E61U]   \n",
       "29005  A3S2F1048AZND0  [B002PHLVJA]   \n",
       "21856  A33BS7GBS6M4AG  [B004L8J0C6]   \n",
       "26196  A3I9PXOHGTCBRJ  [B004GXBP1U]   \n",
       "5853   A1KJZVR4IMMNZ1  [B001SLB6EY]   \n",
       "36113   AOGLLKPJHEUAZ  [B00A2XMIHS]   \n",
       "5754   A1K9RNDI16D0NO  [B006UV7FE2]   \n",
       "1464   A1548JZDHCDDMD  [B00AU8U3TK]   \n",
       "25533  A3FSUA15VNXSHE  [B000YSX9E2]   \n",
       "2116   A17IW97EDJ0MO2  [B003IHUAWK]   \n",
       "37577   ATC9EURXKX5EP  [B004H9PCU8]   \n",
       "33960   AGXOXQOLRKOLV  [B006SF1XMA]   \n",
       "26903  A3KS7A3RSULBCC  [B001ECZOKY]   \n",
       "5371   A1IYXM44ZXQSSI  [B00566SN8E]   \n",
       "33124   AE83ZOB7NUZSL  [B00DNQIIE8]   \n",
       "8249   A1SRKKFOW0FGZR  [B001DNE5QS]   \n",
       "18092  A2QHW8NXVTPW8K  [B000072UMJ]   \n",
       "33532   AFN83BTCXQ7H5  [B0040ZDSHI]   \n",
       "21187  A31178QVC2BZC6  [B00866B6DU]   \n",
       "585    A11X7N5RO4H6L9  [B0067GUM2W]   \n",
       "2585   A194BS9R1WFN65  [B004K6KM8K]   \n",
       "2135   A17LPGJKVMUR94  [B002VLZH1S]   \n",
       "37696   ATS9OKPIDNQBK  [B0001YSBEW]   \n",
       "2525   A18WW0J7K8YWQG  [B008KM948O]   \n",
       "3105   A1B2ZS1GCAS4GL  [B0073IMSUW]   \n",
       "7003   A1OGXR0166Q0XJ  [B00CJJ9WFO]   \n",
       "14207  A2D379GQ80B3VF  [B0046EHFWM]   \n",
       "4602   A1GAM4Y9SA0YII  [B00AR2B98I]   \n",
       "32789   ACYTBEZL1U1SF  [B00ESMUBS2]   \n",
       "37798   AU4OTW3U6WZUJ  [B003XSLEYM]   \n",
       "29600  A3TYCQ2Y083FR2  [B00A73XGX8]   \n",
       "21879  A33E8W97FEGM5P  [B007MQYRFO]   \n",
       "34364   AIAJ467HPC1IP  [B005HB7E2O]   \n",
       "28452  A3Q5767O3R054X  [B007021NLQ]   \n",
       "7033   A1OK7BADCJ2064  [B008R8ZPMU]   \n",
       "34907   AK936OEXZTJPC  [B004FLITT4]   \n",
       "30975   A6G59K3P5HVE9  [B00CQ4CR6S]   \n",
       "37056   ARMQKSJZ9YCFJ  [B003ZN4YUQ]   \n",
       "37868   AUF06EDLDCZ1K  [B009286OD8]   \n",
       "22856  A36QCJFY47IZXL  [B007C38LNQ]   \n",
       "9132   A1VQ0KS5EL89HH  [B0000WL386]   \n",
       "35227   ALBY2RDQQGCTR  [B0076R768E]   \n",
       "22974  A376NR3T7LM202  [B002TSA1Z0]   \n",
       "31877   A9O195GYZ7OG1  [B004025XU6]   \n",
       "18501  A2RXS7VPWSPWUD  [B00131GGLC]   \n",
       "36572   APZRK1GP6B2HA  [B00AR2B98I]   \n",
       "16200  A2JXV623KTDJV0  [B00AULJECO]   \n",
       "\n",
       "                                        asin_predictions  precision@K  \\\n",
       "37689  [B000ZPMYCC, B000B5MI3Q, B0032FOSI0, B009KYJAJ...          0.1   \n",
       "39337  [B009S3HYQ8, B006NU5Z60, B006LFF850, B009S3HL9...          0.1   \n",
       "36648  [B000KKTPD8, B000XY3XX4, B000KPPICA, B000KPP35...          0.1   \n",
       "37385  [B002WUVOBA, B002VS8H3G, B001WWWAA8, B002YM52L...          0.1   \n",
       "2158   [B000CC3OMC, B000BVYQ9O, B000BVYQ9Y, B0006GYLO...          0.1   \n",
       "35465  [B002JL1ZUC, B004874ZHK, B009DKKVFW, B004DYUAX...          0.1   \n",
       "29431  [B0055X1NDK, B002RS26LE, B0085U2YTC, B0064YY0D...          0.1   \n",
       "22453  [B005UVM368, B0062WL55E, B008IZKAP4, B00EU7OYY...          0.1   \n",
       "29035  [B001N0MSI8, B002RL87OQ, B003FSPWAC, B001SN8AD...          0.1   \n",
       "30780  [B001PUJH3A, B001NODU36, B001B9XI3A, B001DNFAO...          0.1   \n",
       "29005  [B001IB70JY, B0013B0IYI, B000GXPD7G, B000HEJ3L...          0.1   \n",
       "21856  [B00DEMN8DW, B001N4OCII, B002GCE3R6, B002IGN8J...          0.1   \n",
       "26196  [B004Q7AB4I, B006R0PZ5C, B001FWZ098, B007C8PUP...          0.1   \n",
       "5853   [B001SLA884, B002LI8D12, B00AWRIQ98, B0030XTNE...          0.1   \n",
       "36113  [B007NLX16O, B00BFDZOR0, B005BNWBMG, B000EPJIH...          0.1   \n",
       "5754   [B0074ZVIX2, B009416GUE, B005G4B1VM, B007GHG75...          0.1   \n",
       "1464   [B00AR2B98I, B00AR2B8V6, B00AR2B8MU, B00A03YEX...          0.1   \n",
       "25533  [B0006UZWDO, B002FCG4G0, B0053ZLHMW, B007Q1ZVE...          0.1   \n",
       "2116   [B000G6SRW6, B000XDMGD8, B000HDTK6K, B000FAWTS...          0.1   \n",
       "37577  [B000N8Q4PY, B00AQKDA7E, B0018T2KWS, B004H9PCU...          0.1   \n",
       "33960  [B0036994M2, B003P2VHKC, B00DVQUTC4, B0011ZX63...          0.1   \n",
       "26903  [B000H94P2I, B0065MS8OC, B00150DTE8, B000ST6ZN...          0.1   \n",
       "5371   [B003VPA5PG, B003VPA6BY, B002KMI7OC, B002FGU3X...          0.1   \n",
       "33124  [B006QEUPZY, B00DCL33QM, B006WXSY3E, B006WXW16...          0.1   \n",
       "8249   [B004WQRED4, B008I6HXD0, B0092OQHPM, B000WG66T...          0.1   \n",
       "18092  [B00006XXGO, B000K7CFX8, B0007LIA4K, B00555242...          0.1   \n",
       "33532  [B005BZQHEC, B005LHG8IA, B00635S03U, B005CBDL3...          0.1   \n",
       "21187  [B0090UGFD2, B00BIPIF4O, B008CQHZES, B009DKKVX...          0.1   \n",
       "585    [B007GIQHBA, B005LERHD8, B007WNWEFC, B00DNQIIE...          0.1   \n",
       "2585   [B004JZYGQ6, B00427WWEE, B004K6KM8K, B001E6UJL...          0.1   \n",
       "2135   [B000J6ZYL0, B000EGR6IY, B000MN8ODU, B00719Z59...          0.1   \n",
       "37696  [B0000ANHST, B0000ANECK, B0001YSBEW, B006TC6GL...          0.1   \n",
       "2525   [B00BQUAO5E, B00BQUANBY, B008KM948O, B00BQUAMV...          0.1   \n",
       "3105   [B0058XIMMM, B0073IMSUW, B009ZDEXQK, B009Z5DR7...          0.1   \n",
       "7003   [B00CJGBNGI, B00CJI5D3A, B00CJJ9WFO, B00CJ05ZW...          0.1   \n",
       "14207  [B004VA6ZXQ, B00BPN4E94, B00CTUVJ5E, B0089TQQI...          0.1   \n",
       "4602   [B00AU8U3TK, B00AU8U1KG, B00AR2B8MU, B00AR2B98...          0.1   \n",
       "32789  [B005489MZ2, B00939UAIQ, B00ESMUBS2, B00E0IYEE...          0.1   \n",
       "37798  [B007NLX16O, B00DMEFORK, B008UC9MGS, B00CDZN91...          0.1   \n",
       "29600  [B006WXSY3E, B00DCL33QM, B002W8SKYQ, B005LERHD...          0.1   \n",
       "21879  [B00120WEME, B008A0QR4U, B0054675IU, B005BNWBM...          0.1   \n",
       "34364  [B00586V8V6, B005HBE6FC, B005HB7E2O, B00586SSA...          0.1   \n",
       "28452  [B007028WPQ, B007Y6GPSO, B00DLUINT6, B00702442...          0.1   \n",
       "7033   [B004SAS28K, B004SB1M04, B008R8ZPMU, B0076U83Y...          0.1   \n",
       "34907  [B0097O08FM, B008KGJZWK, B005LBYYQY, B00HSZLR2...          0.1   \n",
       "30975  [B007CRR6XS, B00APBGCCY, B00CQ4ANJG, B00ASPPQ8...          0.1   \n",
       "37056  [B0036994M2, B001LJEB3G, B0001I9WMI, B006SF1XM...          0.1   \n",
       "37868  [B000PH25X8, B004M41SJM, B005BB9AP4, B007L6IDH...          0.1   \n",
       "22856  [B006J77KG0, B005CSNVS8, B007P84S26, B0059WCB8...          0.1   \n",
       "9132   [B0000WL0WA, B0001YSBEW, B000KFRWI8, B000E69Z3...          0.1   \n",
       "35227  [B0076R6L8U, B008NR9B6G, B008NQ5X5K, B008NQNHL...          0.1   \n",
       "22974  [B001F50G8K, B001F50GH6, B001F50GVW, B001RZIX5...          0.1   \n",
       "31877  [B004J2JPDI, B002JCSU4K, B0058M4ON4, B002N5N25...          0.1   \n",
       "18501  [B0007TTSZC, B0023RSKL4, B000XEVM50, B000XETJU...          0.1   \n",
       "36572  [B00AU8U1KG, B00AR2B8DE, B0042U44R4, B004FVPP6...          0.1   \n",
       "16200  [B001NTV4BG, B00CII37DY, B00BXXX3PM, B002WIHRS...          0.1   \n",
       "\n",
       "       recall@K  \n",
       "37689       1.0  \n",
       "39337       1.0  \n",
       "36648       1.0  \n",
       "37385       1.0  \n",
       "2158        1.0  \n",
       "35465       1.0  \n",
       "29431       1.0  \n",
       "22453       1.0  \n",
       "29035       1.0  \n",
       "30780       1.0  \n",
       "29005       1.0  \n",
       "21856       1.0  \n",
       "26196       1.0  \n",
       "5853        1.0  \n",
       "36113       1.0  \n",
       "5754        1.0  \n",
       "1464        1.0  \n",
       "25533       1.0  \n",
       "2116        1.0  \n",
       "37577       1.0  \n",
       "33960       1.0  \n",
       "26903       1.0  \n",
       "5371        1.0  \n",
       "33124       1.0  \n",
       "8249        1.0  \n",
       "18092       1.0  \n",
       "33532       1.0  \n",
       "21187       1.0  \n",
       "585         1.0  \n",
       "2585        1.0  \n",
       "2135        1.0  \n",
       "37696       1.0  \n",
       "2525        1.0  \n",
       "3105        1.0  \n",
       "7003        1.0  \n",
       "14207       1.0  \n",
       "4602        1.0  \n",
       "32789       1.0  \n",
       "37798       1.0  \n",
       "29600       1.0  \n",
       "21879       1.0  \n",
       "34364       1.0  \n",
       "28452       1.0  \n",
       "7033        1.0  \n",
       "34907       1.0  \n",
       "30975       1.0  \n",
       "37056       1.0  \n",
       "37868       1.0  \n",
       "22856       1.0  \n",
       "9132        1.0  \n",
       "35227       1.0  \n",
       "22974       1.0  \n",
       "31877       1.0  \n",
       "18501       1.0  \n",
       "36572       1.0  \n",
       "16200       1.0  "
      ],
      "text/html": "<div>\n<style scoped>\n    .dataframe tbody tr th:only-of-type {\n        vertical-align: middle;\n    }\n\n    .dataframe tbody tr th {\n        vertical-align: top;\n    }\n\n    .dataframe thead th {\n        text-align: right;\n    }\n</style>\n<table border=\"1\" class=\"dataframe\">\n  <thead>\n    <tr style=\"text-align: right;\">\n      <th></th>\n      <th>reviewerID</th>\n      <th>asin</th>\n      <th>asin_predictions</th>\n      <th>precision@K</th>\n      <th>recall@K</th>\n    </tr>\n  </thead>\n  <tbody>\n    <tr>\n      <th>37689</th>\n      <td>ATQVNXUU2N1GG</td>\n      <td>[B0009WXTX4]</td>\n      <td>[B000ZPMYCC, B000B5MI3Q, B0032FOSI0, B009KYJAJ...</td>\n      <td>0.1</td>\n      <td>1.0</td>\n    </tr>\n    <tr>\n      <th>39337</th>\n      <td>AZV969S41XUYF</td>\n      <td>[B009S3HPTE]</td>\n      <td>[B009S3HYQ8, B006NU5Z60, B006LFF850, B009S3HL9...</td>\n      <td>0.1</td>\n      <td>1.0</td>\n    </tr>\n    <tr>\n      <th>36648</th>\n      <td>AQA5BVA14WTJQ</td>\n      <td>[B000KPP352]</td>\n      <td>[B000KKTPD8, B000XY3XX4, B000KPPICA, B000KPP35...</td>\n      <td>0.1</td>\n      <td>1.0</td>\n    </tr>\n    <tr>\n      <th>37385</th>\n      <td>ASQFKYFTM1A3G</td>\n      <td>[B002YIPCJA]</td>\n      <td>[B002WUVOBA, B002VS8H3G, B001WWWAA8, B002YM52L...</td>\n      <td>0.1</td>\n      <td>1.0</td>\n    </tr>\n    <tr>\n      <th>2158</th>\n      <td>A17OB8ULOJ5U50</td>\n      <td>[B000UECV3U]</td>\n      <td>[B000CC3OMC, B000BVYQ9O, B000BVYQ9Y, B0006GYLO...</td>\n      <td>0.1</td>\n      <td>1.0</td>\n    </tr>\n    <tr>\n      <th>35465</th>\n      <td>AM74DCJX3UI7X</td>\n      <td>[B002JKZU4A]</td>\n      <td>[B002JL1ZUC, B004874ZHK, B009DKKVFW, B004DYUAX...</td>\n      <td>0.1</td>\n      <td>1.0</td>\n    </tr>\n    <tr>\n      <th>29431</th>\n      <td>A3TF05A315UM97</td>\n      <td>[B006GDARO4]</td>\n      <td>[B0055X1NDK, B002RS26LE, B0085U2YTC, B0064YY0D...</td>\n      <td>0.1</td>\n      <td>1.0</td>\n    </tr>\n    <tr>\n      <th>22453</th>\n      <td>A35ARB435GXRMH</td>\n      <td>[B006B3AOJC]</td>\n      <td>[B005UVM368, B0062WL55E, B008IZKAP4, B00EU7OYY...</td>\n      <td>0.1</td>\n      <td>1.0</td>\n    </tr>\n    <tr>\n      <th>29035</th>\n      <td>A3S4V8NPKKDDUL</td>\n      <td>[B001SN8BLS]</td>\n      <td>[B001N0MSI8, B002RL87OQ, B003FSPWAC, B001SN8AD...</td>\n      <td>0.1</td>\n      <td>1.0</td>\n    </tr>\n    <tr>\n      <th>30780</th>\n      <td>A5SYJBHLU748Z</td>\n      <td>[B008Q0E61U]</td>\n      <td>[B001PUJH3A, B001NODU36, B001B9XI3A, B001DNFAO...</td>\n      <td>0.1</td>\n      <td>1.0</td>\n    </tr>\n    <tr>\n      <th>29005</th>\n      <td>A3S2F1048AZND0</td>\n      <td>[B002PHLVJA]</td>\n      <td>[B001IB70JY, B0013B0IYI, B000GXPD7G, B000HEJ3L...</td>\n      <td>0.1</td>\n      <td>1.0</td>\n    </tr>\n    <tr>\n      <th>21856</th>\n      <td>A33BS7GBS6M4AG</td>\n      <td>[B004L8J0C6]</td>\n      <td>[B00DEMN8DW, B001N4OCII, B002GCE3R6, B002IGN8J...</td>\n      <td>0.1</td>\n      <td>1.0</td>\n    </tr>\n    <tr>\n      <th>26196</th>\n      <td>A3I9PXOHGTCBRJ</td>\n      <td>[B004GXBP1U]</td>\n      <td>[B004Q7AB4I, B006R0PZ5C, B001FWZ098, B007C8PUP...</td>\n      <td>0.1</td>\n      <td>1.0</td>\n    </tr>\n    <tr>\n      <th>5853</th>\n      <td>A1KJZVR4IMMNZ1</td>\n      <td>[B001SLB6EY]</td>\n      <td>[B001SLA884, B002LI8D12, B00AWRIQ98, B0030XTNE...</td>\n      <td>0.1</td>\n      <td>1.0</td>\n    </tr>\n    <tr>\n      <th>36113</th>\n      <td>AOGLLKPJHEUAZ</td>\n      <td>[B00A2XMIHS]</td>\n      <td>[B007NLX16O, B00BFDZOR0, B005BNWBMG, B000EPJIH...</td>\n      <td>0.1</td>\n      <td>1.0</td>\n    </tr>\n    <tr>\n      <th>5754</th>\n      <td>A1K9RNDI16D0NO</td>\n      <td>[B006UV7FE2]</td>\n      <td>[B0074ZVIX2, B009416GUE, B005G4B1VM, B007GHG75...</td>\n      <td>0.1</td>\n      <td>1.0</td>\n    </tr>\n    <tr>\n      <th>1464</th>\n      <td>A1548JZDHCDDMD</td>\n      <td>[B00AU8U3TK]</td>\n      <td>[B00AR2B98I, B00AR2B8V6, B00AR2B8MU, B00A03YEX...</td>\n      <td>0.1</td>\n      <td>1.0</td>\n    </tr>\n    <tr>\n      <th>25533</th>\n      <td>A3FSUA15VNXSHE</td>\n      <td>[B000YSX9E2]</td>\n      <td>[B0006UZWDO, B002FCG4G0, B0053ZLHMW, B007Q1ZVE...</td>\n      <td>0.1</td>\n      <td>1.0</td>\n    </tr>\n    <tr>\n      <th>2116</th>\n      <td>A17IW97EDJ0MO2</td>\n      <td>[B003IHUAWK]</td>\n      <td>[B000G6SRW6, B000XDMGD8, B000HDTK6K, B000FAWTS...</td>\n      <td>0.1</td>\n      <td>1.0</td>\n    </tr>\n    <tr>\n      <th>37577</th>\n      <td>ATC9EURXKX5EP</td>\n      <td>[B004H9PCU8]</td>\n      <td>[B000N8Q4PY, B00AQKDA7E, B0018T2KWS, B004H9PCU...</td>\n      <td>0.1</td>\n      <td>1.0</td>\n    </tr>\n    <tr>\n      <th>33960</th>\n      <td>AGXOXQOLRKOLV</td>\n      <td>[B006SF1XMA]</td>\n      <td>[B0036994M2, B003P2VHKC, B00DVQUTC4, B0011ZX63...</td>\n      <td>0.1</td>\n      <td>1.0</td>\n    </tr>\n    <tr>\n      <th>26903</th>\n      <td>A3KS7A3RSULBCC</td>\n      <td>[B001ECZOKY]</td>\n      <td>[B000H94P2I, B0065MS8OC, B00150DTE8, B000ST6ZN...</td>\n      <td>0.1</td>\n      <td>1.0</td>\n    </tr>\n    <tr>\n      <th>5371</th>\n      <td>A1IYXM44ZXQSSI</td>\n      <td>[B00566SN8E]</td>\n      <td>[B003VPA5PG, B003VPA6BY, B002KMI7OC, B002FGU3X...</td>\n      <td>0.1</td>\n      <td>1.0</td>\n    </tr>\n    <tr>\n      <th>33124</th>\n      <td>AE83ZOB7NUZSL</td>\n      <td>[B00DNQIIE8]</td>\n      <td>[B006QEUPZY, B00DCL33QM, B006WXSY3E, B006WXW16...</td>\n      <td>0.1</td>\n      <td>1.0</td>\n    </tr>\n    <tr>\n      <th>8249</th>\n      <td>A1SRKKFOW0FGZR</td>\n      <td>[B001DNE5QS]</td>\n      <td>[B004WQRED4, B008I6HXD0, B0092OQHPM, B000WG66T...</td>\n      <td>0.1</td>\n      <td>1.0</td>\n    </tr>\n    <tr>\n      <th>18092</th>\n      <td>A2QHW8NXVTPW8K</td>\n      <td>[B000072UMJ]</td>\n      <td>[B00006XXGO, B000K7CFX8, B0007LIA4K, B00555242...</td>\n      <td>0.1</td>\n      <td>1.0</td>\n    </tr>\n    <tr>\n      <th>33532</th>\n      <td>AFN83BTCXQ7H5</td>\n      <td>[B0040ZDSHI]</td>\n      <td>[B005BZQHEC, B005LHG8IA, B00635S03U, B005CBDL3...</td>\n      <td>0.1</td>\n      <td>1.0</td>\n    </tr>\n    <tr>\n      <th>21187</th>\n      <td>A31178QVC2BZC6</td>\n      <td>[B00866B6DU]</td>\n      <td>[B0090UGFD2, B00BIPIF4O, B008CQHZES, B009DKKVX...</td>\n      <td>0.1</td>\n      <td>1.0</td>\n    </tr>\n    <tr>\n      <th>585</th>\n      <td>A11X7N5RO4H6L9</td>\n      <td>[B0067GUM2W]</td>\n      <td>[B007GIQHBA, B005LERHD8, B007WNWEFC, B00DNQIIE...</td>\n      <td>0.1</td>\n      <td>1.0</td>\n    </tr>\n    <tr>\n      <th>2585</th>\n      <td>A194BS9R1WFN65</td>\n      <td>[B004K6KM8K]</td>\n      <td>[B004JZYGQ6, B00427WWEE, B004K6KM8K, B001E6UJL...</td>\n      <td>0.1</td>\n      <td>1.0</td>\n    </tr>\n    <tr>\n      <th>2135</th>\n      <td>A17LPGJKVMUR94</td>\n      <td>[B002VLZH1S]</td>\n      <td>[B000J6ZYL0, B000EGR6IY, B000MN8ODU, B00719Z59...</td>\n      <td>0.1</td>\n      <td>1.0</td>\n    </tr>\n    <tr>\n      <th>37696</th>\n      <td>ATS9OKPIDNQBK</td>\n      <td>[B0001YSBEW]</td>\n      <td>[B0000ANHST, B0000ANECK, B0001YSBEW, B006TC6GL...</td>\n      <td>0.1</td>\n      <td>1.0</td>\n    </tr>\n    <tr>\n      <th>2525</th>\n      <td>A18WW0J7K8YWQG</td>\n      <td>[B008KM948O]</td>\n      <td>[B00BQUAO5E, B00BQUANBY, B008KM948O, B00BQUAMV...</td>\n      <td>0.1</td>\n      <td>1.0</td>\n    </tr>\n    <tr>\n      <th>3105</th>\n      <td>A1B2ZS1GCAS4GL</td>\n      <td>[B0073IMSUW]</td>\n      <td>[B0058XIMMM, B0073IMSUW, B009ZDEXQK, B009Z5DR7...</td>\n      <td>0.1</td>\n      <td>1.0</td>\n    </tr>\n    <tr>\n      <th>7003</th>\n      <td>A1OGXR0166Q0XJ</td>\n      <td>[B00CJJ9WFO]</td>\n      <td>[B00CJGBNGI, B00CJI5D3A, B00CJJ9WFO, B00CJ05ZW...</td>\n      <td>0.1</td>\n      <td>1.0</td>\n    </tr>\n    <tr>\n      <th>14207</th>\n      <td>A2D379GQ80B3VF</td>\n      <td>[B0046EHFWM]</td>\n      <td>[B004VA6ZXQ, B00BPN4E94, B00CTUVJ5E, B0089TQQI...</td>\n      <td>0.1</td>\n      <td>1.0</td>\n    </tr>\n    <tr>\n      <th>4602</th>\n      <td>A1GAM4Y9SA0YII</td>\n      <td>[B00AR2B98I]</td>\n      <td>[B00AU8U3TK, B00AU8U1KG, B00AR2B8MU, B00AR2B98...</td>\n      <td>0.1</td>\n      <td>1.0</td>\n    </tr>\n    <tr>\n      <th>32789</th>\n      <td>ACYTBEZL1U1SF</td>\n      <td>[B00ESMUBS2]</td>\n      <td>[B005489MZ2, B00939UAIQ, B00ESMUBS2, B00E0IYEE...</td>\n      <td>0.1</td>\n      <td>1.0</td>\n    </tr>\n    <tr>\n      <th>37798</th>\n      <td>AU4OTW3U6WZUJ</td>\n      <td>[B003XSLEYM]</td>\n      <td>[B007NLX16O, B00DMEFORK, B008UC9MGS, B00CDZN91...</td>\n      <td>0.1</td>\n      <td>1.0</td>\n    </tr>\n    <tr>\n      <th>29600</th>\n      <td>A3TYCQ2Y083FR2</td>\n      <td>[B00A73XGX8]</td>\n      <td>[B006WXSY3E, B00DCL33QM, B002W8SKYQ, B005LERHD...</td>\n      <td>0.1</td>\n      <td>1.0</td>\n    </tr>\n    <tr>\n      <th>21879</th>\n      <td>A33E8W97FEGM5P</td>\n      <td>[B007MQYRFO]</td>\n      <td>[B00120WEME, B008A0QR4U, B0054675IU, B005BNWBM...</td>\n      <td>0.1</td>\n      <td>1.0</td>\n    </tr>\n    <tr>\n      <th>34364</th>\n      <td>AIAJ467HPC1IP</td>\n      <td>[B005HB7E2O]</td>\n      <td>[B00586V8V6, B005HBE6FC, B005HB7E2O, B00586SSA...</td>\n      <td>0.1</td>\n      <td>1.0</td>\n    </tr>\n    <tr>\n      <th>28452</th>\n      <td>A3Q5767O3R054X</td>\n      <td>[B007021NLQ]</td>\n      <td>[B007028WPQ, B007Y6GPSO, B00DLUINT6, B00702442...</td>\n      <td>0.1</td>\n      <td>1.0</td>\n    </tr>\n    <tr>\n      <th>7033</th>\n      <td>A1OK7BADCJ2064</td>\n      <td>[B008R8ZPMU]</td>\n      <td>[B004SAS28K, B004SB1M04, B008R8ZPMU, B0076U83Y...</td>\n      <td>0.1</td>\n      <td>1.0</td>\n    </tr>\n    <tr>\n      <th>34907</th>\n      <td>AK936OEXZTJPC</td>\n      <td>[B004FLITT4]</td>\n      <td>[B0097O08FM, B008KGJZWK, B005LBYYQY, B00HSZLR2...</td>\n      <td>0.1</td>\n      <td>1.0</td>\n    </tr>\n    <tr>\n      <th>30975</th>\n      <td>A6G59K3P5HVE9</td>\n      <td>[B00CQ4CR6S]</td>\n      <td>[B007CRR6XS, B00APBGCCY, B00CQ4ANJG, B00ASPPQ8...</td>\n      <td>0.1</td>\n      <td>1.0</td>\n    </tr>\n    <tr>\n      <th>37056</th>\n      <td>ARMQKSJZ9YCFJ</td>\n      <td>[B003ZN4YUQ]</td>\n      <td>[B0036994M2, B001LJEB3G, B0001I9WMI, B006SF1XM...</td>\n      <td>0.1</td>\n      <td>1.0</td>\n    </tr>\n    <tr>\n      <th>37868</th>\n      <td>AUF06EDLDCZ1K</td>\n      <td>[B009286OD8]</td>\n      <td>[B000PH25X8, B004M41SJM, B005BB9AP4, B007L6IDH...</td>\n      <td>0.1</td>\n      <td>1.0</td>\n    </tr>\n    <tr>\n      <th>22856</th>\n      <td>A36QCJFY47IZXL</td>\n      <td>[B007C38LNQ]</td>\n      <td>[B006J77KG0, B005CSNVS8, B007P84S26, B0059WCB8...</td>\n      <td>0.1</td>\n      <td>1.0</td>\n    </tr>\n    <tr>\n      <th>9132</th>\n      <td>A1VQ0KS5EL89HH</td>\n      <td>[B0000WL386]</td>\n      <td>[B0000WL0WA, B0001YSBEW, B000KFRWI8, B000E69Z3...</td>\n      <td>0.1</td>\n      <td>1.0</td>\n    </tr>\n    <tr>\n      <th>35227</th>\n      <td>ALBY2RDQQGCTR</td>\n      <td>[B0076R768E]</td>\n      <td>[B0076R6L8U, B008NR9B6G, B008NQ5X5K, B008NQNHL...</td>\n      <td>0.1</td>\n      <td>1.0</td>\n    </tr>\n    <tr>\n      <th>22974</th>\n      <td>A376NR3T7LM202</td>\n      <td>[B002TSA1Z0]</td>\n      <td>[B001F50G8K, B001F50GH6, B001F50GVW, B001RZIX5...</td>\n      <td>0.1</td>\n      <td>1.0</td>\n    </tr>\n    <tr>\n      <th>31877</th>\n      <td>A9O195GYZ7OG1</td>\n      <td>[B004025XU6]</td>\n      <td>[B004J2JPDI, B002JCSU4K, B0058M4ON4, B002N5N25...</td>\n      <td>0.1</td>\n      <td>1.0</td>\n    </tr>\n    <tr>\n      <th>18501</th>\n      <td>A2RXS7VPWSPWUD</td>\n      <td>[B00131GGLC]</td>\n      <td>[B0007TTSZC, B0023RSKL4, B000XEVM50, B000XETJU...</td>\n      <td>0.1</td>\n      <td>1.0</td>\n    </tr>\n    <tr>\n      <th>36572</th>\n      <td>APZRK1GP6B2HA</td>\n      <td>[B00AR2B98I]</td>\n      <td>[B00AU8U1KG, B00AR2B8DE, B0042U44R4, B004FVPP6...</td>\n      <td>0.1</td>\n      <td>1.0</td>\n    </tr>\n    <tr>\n      <th>16200</th>\n      <td>A2JXV623KTDJV0</td>\n      <td>[B00AULJECO]</td>\n      <td>[B001NTV4BG, B00CII37DY, B00BXXX3PM, B002WIHRS...</td>\n      <td>0.1</td>\n      <td>1.0</td>\n    </tr>\n  </tbody>\n</table>\n</div>"
     },
     "metadata": {},
     "execution_count": 25
    }
   ],
   "source": [
    "sampled_test_purchase_history[sampled_test_purchase_history['recall@K'] == 1]"
   ]
  },
  {
   "cell_type": "markdown",
   "metadata": {},
   "source": [
    "At the moment, we have computed the metrics for the model which comes to average precision@k: `0.00190` and average recall@k: `0.01663`. As we dont have any other baseline to compare with at the moment, we are unable to better interpret model. \n",
    "\n",
    "The next step involves, using `approximate nearest neighbour` method to help us query similarities as opposed to the current brute-force search in the `Doc2Vec` model. Theoretically, we can achieve up to *11*x performance increase but still, it is subjected to the number of trees built during the indexing phase. "
   ]
  },
  {
   "cell_type": "markdown",
   "metadata": {},
   "source": [
    "### 3.4 Improving query time using `Annoy`"
   ]
  },
  {
   "cell_type": "code",
   "execution_count": 26,
   "metadata": {},
   "outputs": [
    {
     "output_type": "error",
     "ename": "ImportError",
     "evalue": "Annoy not installed. To use the Annoy indexer, please run `pip install annoy`.",
     "traceback": [
      "\u001b[0;31m---------------------------------------------------------------------------\u001b[0m",
      "\u001b[0;31mModuleNotFoundError\u001b[0m                       Traceback (most recent call last)",
      "\u001b[0;32m~/opt/anaconda3/lib/python3.8/site-packages/gensim/similarities/annoy.py\u001b[0m in \u001b[0;36m_build_from_model\u001b[0;34m(self, vectors, labels, num_features)\u001b[0m\n\u001b[1;32m    155\u001b[0m         \u001b[0;32mtry\u001b[0m\u001b[0;34m:\u001b[0m\u001b[0;34m\u001b[0m\u001b[0;34m\u001b[0m\u001b[0m\n\u001b[0;32m--> 156\u001b[0;31m             \u001b[0;32mfrom\u001b[0m \u001b[0mannoy\u001b[0m \u001b[0;32mimport\u001b[0m \u001b[0mAnnoyIndex\u001b[0m\u001b[0;34m\u001b[0m\u001b[0;34m\u001b[0m\u001b[0m\n\u001b[0m\u001b[1;32m    157\u001b[0m         \u001b[0;32mexcept\u001b[0m \u001b[0mImportError\u001b[0m\u001b[0;34m:\u001b[0m\u001b[0;34m\u001b[0m\u001b[0;34m\u001b[0m\u001b[0m\n",
      "\u001b[0;31mModuleNotFoundError\u001b[0m: No module named 'annoy'",
      "\nDuring handling of the above exception, another exception occurred:\n",
      "\u001b[0;31mImportError\u001b[0m                               Traceback (most recent call last)",
      "\u001b[0;32m<ipython-input-26-ecda01c9f845>\u001b[0m in \u001b[0;36m<module>\u001b[0;34m\u001b[0m\n\u001b[1;32m      1\u001b[0m \u001b[0;31m# building index using 100 trees\u001b[0m\u001b[0;34m\u001b[0m\u001b[0;34m\u001b[0m\u001b[0;34m\u001b[0m\u001b[0m\n\u001b[0;32m----> 2\u001b[0;31m \u001b[0mannoy_index\u001b[0m \u001b[0;34m=\u001b[0m \u001b[0mAnnoyIndexer\u001b[0m\u001b[0;34m(\u001b[0m\u001b[0mmodel\u001b[0m\u001b[0;34m,\u001b[0m \u001b[0;36m100\u001b[0m\u001b[0;34m)\u001b[0m\u001b[0;34m\u001b[0m\u001b[0;34m\u001b[0m\u001b[0m\n\u001b[0m\u001b[1;32m      3\u001b[0m \u001b[0;34m\u001b[0m\u001b[0m\n\u001b[1;32m      4\u001b[0m \u001b[0;31m# TODO: need to figure how to define a treshold\u001b[0m\u001b[0;34m\u001b[0m\u001b[0;34m\u001b[0m\u001b[0;34m\u001b[0m\u001b[0m\n\u001b[1;32m      5\u001b[0m \u001b[0;32mdef\u001b[0m \u001b[0mget_top_n_annoy\u001b[0m\u001b[0;34m(\u001b[0m\u001b[0muser\u001b[0m\u001b[0;34m,\u001b[0m \u001b[0mn\u001b[0m\u001b[0;34m=\u001b[0m\u001b[0;36m10\u001b[0m\u001b[0;34m,\u001b[0m \u001b[0mthreshold\u001b[0m\u001b[0;34m=\u001b[0m\u001b[0;36m4\u001b[0m\u001b[0;34m,\u001b[0m \u001b[0mindexer\u001b[0m\u001b[0;34m=\u001b[0m\u001b[0mannoy_index\u001b[0m\u001b[0;34m)\u001b[0m\u001b[0;34m:\u001b[0m\u001b[0;34m\u001b[0m\u001b[0;34m\u001b[0m\u001b[0m\n",
      "\u001b[0;32m~/opt/anaconda3/lib/python3.8/site-packages/gensim/similarities/annoy.py\u001b[0m in \u001b[0;36m__init__\u001b[0;34m(self, model, num_trees)\u001b[0m\n\u001b[1;32m     83\u001b[0m             \u001b[0;32melse\u001b[0m\u001b[0;34m:\u001b[0m\u001b[0;34m\u001b[0m\u001b[0;34m\u001b[0m\u001b[0m\n\u001b[1;32m     84\u001b[0m                 \u001b[0;32mraise\u001b[0m \u001b[0mValueError\u001b[0m\u001b[0;34m(\u001b[0m\u001b[0;34m\"Only a Word2Vec, Doc2Vec, FastText or KeyedVectors instance can be used\"\u001b[0m\u001b[0;34m)\u001b[0m\u001b[0;34m\u001b[0m\u001b[0;34m\u001b[0m\u001b[0m\n\u001b[0;32m---> 85\u001b[0;31m             \u001b[0mself\u001b[0m\u001b[0;34m.\u001b[0m\u001b[0m_build_from_model\u001b[0m\u001b[0;34m(\u001b[0m\u001b[0mkv\u001b[0m\u001b[0;34m.\u001b[0m\u001b[0mget_normed_vectors\u001b[0m\u001b[0;34m(\u001b[0m\u001b[0;34m)\u001b[0m\u001b[0;34m,\u001b[0m \u001b[0mkv\u001b[0m\u001b[0;34m.\u001b[0m\u001b[0mindex_to_key\u001b[0m\u001b[0;34m,\u001b[0m \u001b[0mkv\u001b[0m\u001b[0;34m.\u001b[0m\u001b[0mvector_size\u001b[0m\u001b[0;34m)\u001b[0m\u001b[0;34m\u001b[0m\u001b[0;34m\u001b[0m\u001b[0m\n\u001b[0m\u001b[1;32m     86\u001b[0m \u001b[0;34m\u001b[0m\u001b[0m\n\u001b[1;32m     87\u001b[0m     \u001b[0;32mdef\u001b[0m \u001b[0msave\u001b[0m\u001b[0;34m(\u001b[0m\u001b[0mself\u001b[0m\u001b[0;34m,\u001b[0m \u001b[0mfname\u001b[0m\u001b[0;34m,\u001b[0m \u001b[0mprotocol\u001b[0m\u001b[0;34m=\u001b[0m\u001b[0mutils\u001b[0m\u001b[0;34m.\u001b[0m\u001b[0mPICKLE_PROTOCOL\u001b[0m\u001b[0;34m)\u001b[0m\u001b[0;34m:\u001b[0m\u001b[0;34m\u001b[0m\u001b[0;34m\u001b[0m\u001b[0m\n",
      "\u001b[0;32m~/opt/anaconda3/lib/python3.8/site-packages/gensim/similarities/annoy.py\u001b[0m in \u001b[0;36m_build_from_model\u001b[0;34m(self, vectors, labels, num_features)\u001b[0m\n\u001b[1;32m    156\u001b[0m             \u001b[0;32mfrom\u001b[0m \u001b[0mannoy\u001b[0m \u001b[0;32mimport\u001b[0m \u001b[0mAnnoyIndex\u001b[0m\u001b[0;34m\u001b[0m\u001b[0;34m\u001b[0m\u001b[0m\n\u001b[1;32m    157\u001b[0m         \u001b[0;32mexcept\u001b[0m \u001b[0mImportError\u001b[0m\u001b[0;34m:\u001b[0m\u001b[0;34m\u001b[0m\u001b[0;34m\u001b[0m\u001b[0m\n\u001b[0;32m--> 158\u001b[0;31m             \u001b[0;32mraise\u001b[0m \u001b[0m_NOANNOY\u001b[0m\u001b[0;34m\u001b[0m\u001b[0;34m\u001b[0m\u001b[0m\n\u001b[0m\u001b[1;32m    159\u001b[0m \u001b[0;34m\u001b[0m\u001b[0m\n\u001b[1;32m    160\u001b[0m         \u001b[0mindex\u001b[0m \u001b[0;34m=\u001b[0m \u001b[0mAnnoyIndex\u001b[0m\u001b[0;34m(\u001b[0m\u001b[0mnum_features\u001b[0m\u001b[0;34m,\u001b[0m \u001b[0mmetric\u001b[0m\u001b[0;34m=\u001b[0m\u001b[0;34m'angular'\u001b[0m\u001b[0;34m)\u001b[0m\u001b[0;34m\u001b[0m\u001b[0;34m\u001b[0m\u001b[0m\n",
      "\u001b[0;31mImportError\u001b[0m: Annoy not installed. To use the Annoy indexer, please run `pip install annoy`."
     ]
    }
   ],
   "source": [
    "# building index using 100 trees\n",
    "annoy_index = AnnoyIndexer(model, 100)\n",
    "\n",
    "# TODO: need to figure how to define a treshold\n",
    "def get_top_n_annoy(user, n=10, threshold=4, indexer=annoy_index):\n",
    "\n",
    "    # retrieving user's purchase history\n",
    "    purchase_history = train.groupby(['reviewerID'])['asin'].apply(list)[user]\n",
    "\n",
    "    purchase_history_vec = np.zeros(150)\n",
    "    for item in purchase_history:\n",
    "        purchase_history_vec += model.dv[item]\n",
    "    # mean aggregation\n",
    "    purchase_history_vec /= len(purchase_history)\n",
    "\n",
    "    return [i[0] for i in model.dv.most_similar([purchase_history_vec], topn=n, indexer=indexer)]"
   ]
  },
  {
   "cell_type": "code",
   "execution_count": null,
   "metadata": {},
   "outputs": [],
   "source": [
    "# generating predictions\n",
    "sampled_test_purchase_history['asin_predictions_annoy'] = sampled_test_purchase_history['reviewerID'].progress_apply(get_top_n_annoy)"
   ]
  },
  {
   "cell_type": "code",
   "execution_count": null,
   "metadata": {},
   "outputs": [],
   "source": [
    "# checking the dataframe\n",
    "sampled_test_purchase_history.head().append(sampled_test_purchase_history.tail())"
   ]
  },
  {
   "cell_type": "code",
   "execution_count": null,
   "metadata": {},
   "outputs": [],
   "source": [
    "# computing the metrics\n",
    "sampled_test_purchase_history['precision@K_annoy'] = sampled_test_purchase_history.progress_apply(lambda x: precision_at_k(x.asin, x.asin_predictions_annoy), axis=1)\n",
    "sampled_test_purchase_history['recall@K_annoy'] = sampled_test_purchase_history.progress_apply(lambda x: recall_at_k(x.asin, x.asin_predictions_annoy), axis=1)"
   ]
  },
  {
   "cell_type": "code",
   "execution_count": null,
   "metadata": {},
   "outputs": [],
   "source": [
    "average_precision_at_k_annoy = sampled_test_purchase_history[\"precision@K_annoy\"].mean()\n",
    "average_recall_at_k_annoy = sampled_test_purchase_history[\"recall@K_annoy\"].mean()\n",
    "\n",
    "print(f\"The model has a average precision@K: {average_precision_at_k_annoy:.5f}, average recall@K: {average_recall_at_k_annoy:.5f}.\")"
   ]
  },
  {
   "cell_type": "markdown",
   "metadata": {},
   "source": [
    "Based on initial observation, by no means the speed up was significant. Either the current annoy indexer setup is inappropriate or existing function design is flawed considering that we have have to do a inner `for` loop within the retrieval function. Design improvement would include shifting pre-computation user's purchase history vector into a hashmap (dictionary) to allow O(1) time complexity. "
   ]
  },
  {
   "cell_type": "markdown",
   "metadata": {},
   "source": [
    "### 4. Misc"
   ]
  },
  {
   "cell_type": "code",
   "execution_count": null,
   "metadata": {},
   "outputs": [],
   "source": [
    "# save the test users\n",
    "sampled_test_purchase_history['reviewerID'].to_csv(\"test_users_id.csv\", index=False)"
   ]
  },
  {
   "cell_type": "code",
   "execution_count": null,
   "metadata": {},
   "outputs": [],
   "source": []
  }
 ],
 "metadata": {
  "environment": {
   "name": "common-cu110.m75",
   "type": "gcloud",
   "uri": "gcr.io/deeplearning-platform-release/base-cu110:m75"
  },
  "interpreter": {
   "hash": "25ff572cf74667139a08e9b3925acace09b8544c3d9e895a2455f974072b7e88"
  },
  "kernelspec": {
   "name": "python3",
   "display_name": "Python 3.8.8 64-bit ('base': conda)"
  },
  "language_info": {
   "codemirror_mode": {
    "name": "ipython",
    "version": 3
   },
   "file_extension": ".py",
   "mimetype": "text/x-python",
   "name": "python",
   "nbconvert_exporter": "python",
   "pygments_lexer": "ipython3",
   "version": "3.8.8"
  }
 },
 "nbformat": 4,
 "nbformat_minor": 4
}