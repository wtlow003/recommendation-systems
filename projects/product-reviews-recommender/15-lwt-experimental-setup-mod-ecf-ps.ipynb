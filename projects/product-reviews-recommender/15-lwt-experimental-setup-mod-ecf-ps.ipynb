{
 "cells": [
  {
   "cell_type": "code",
   "execution_count": 1,
   "id": "36551cca",
   "metadata": {},
   "outputs": [
    {
     "name": "stderr",
     "output_type": "stream",
     "text": [
      "/Users/jensen/Desktop/recommendation-systems/projects/product-reviews-recommender/.venv/lib/python3.9/site-packages/gensim/similarities/__init__.py:15: UserWarning: The gensim.similarities.levenshtein submodule is disabled, because the optional Levenshtein package <https://pypi.org/project/python-Levenshtein/> is unavailable. Install Levenhstein (e.g. `pip install python-Levenshtein`) to suppress this warning.\n",
      "  warnings.warn(msg)\n"
     ]
    }
   ],
   "source": [
    "import warnings\n",
    "\n",
    "import numpy as np\n",
    "import pandas as pd\n",
    "\n",
    "from gensim.models.doc2vec import Doc2Vec\n",
    "from surprise import Dataset, Reader\n",
    "from tqdm import tqdm\n",
    "\n",
    "from src.models import cf, evaluate_model\n",
    "from src.utilities import utilities\n",
    "\n",
    "tqdm.pandas()\n",
    "warnings.filterwarnings('ignore')"
   ]
  },
  {
   "cell_type": "markdown",
   "id": "3e56bfe5",
   "metadata": {},
   "source": [
    "# Load Data and Models"
   ]
  },
  {
   "cell_type": "code",
   "execution_count": 2,
   "id": "d4e036df",
   "metadata": {},
   "outputs": [],
   "source": [
    "# global variables\n",
    "DATA_PATH = \"data/evaluation\"\n",
    "D2V_PATH = \"models/d2v\"\n",
    "CATEGORY = \"Pet_Supplies\"\n",
    "\n",
    "# d2v training parameters\n",
    "EPOCHS = 10\n",
    "\n",
    "# training parameters\n",
    "N_EPOCHS = 15\n",
    "LR_ALL = 0.01\n",
    "BETA = 0.1\n",
    "\n",
    "# reproducibility checks\n",
    "SEED = 42\n",
    "np.random.seed(42)\n",
    "\n",
    "train = pd.read_csv(f\"{DATA_PATH}/{CATEGORY}_train.csv\")\n",
    "d2v = Doc2Vec.load(f\"{D2V_PATH}/{CATEGORY}_user_item_50_{EPOCHS}_d2v.model\")"
   ]
  },
  {
   "cell_type": "code",
   "execution_count": 3,
   "id": "4b085128",
   "metadata": {
    "scrolled": true
   },
   "outputs": [
    {
     "data": {
      "text/html": [
       "<div>\n",
       "<style scoped>\n",
       "    .dataframe tbody tr th:only-of-type {\n",
       "        vertical-align: middle;\n",
       "    }\n",
       "\n",
       "    .dataframe tbody tr th {\n",
       "        vertical-align: top;\n",
       "    }\n",
       "\n",
       "    .dataframe thead th {\n",
       "        text-align: right;\n",
       "    }\n",
       "</style>\n",
       "<table border=\"1\" class=\"dataframe\">\n",
       "  <thead>\n",
       "    <tr style=\"text-align: right;\">\n",
       "      <th></th>\n",
       "      <th>index</th>\n",
       "      <th>asin</th>\n",
       "      <th>title</th>\n",
       "      <th>categories</th>\n",
       "      <th>reviewerID</th>\n",
       "      <th>overall</th>\n",
       "      <th>reviewText</th>\n",
       "      <th>reviewTime</th>\n",
       "      <th>processedReviewText</th>\n",
       "    </tr>\n",
       "  </thead>\n",
       "  <tbody>\n",
       "    <tr>\n",
       "      <th>0</th>\n",
       "      <td>0</td>\n",
       "      <td>1223000893</td>\n",
       "      <td>Cat Sitter DVD Trilogy - Vol 1, Vol 2 and Vol 3</td>\n",
       "      <td>[]</td>\n",
       "      <td>A14CK12J7C7JRK</td>\n",
       "      <td>3.0</td>\n",
       "      <td>I purchased the Trilogy with hoping my two cat...</td>\n",
       "      <td>2011-01-12</td>\n",
       "      <td>purchase trilogy hop cat age interested yr old...</td>\n",
       "    </tr>\n",
       "    <tr>\n",
       "      <th>1</th>\n",
       "      <td>2</td>\n",
       "      <td>1223000893</td>\n",
       "      <td>Cat Sitter DVD Trilogy - Vol 1, Vol 2 and Vol 3</td>\n",
       "      <td>[]</td>\n",
       "      <td>A2CR37UY3VR7BN</td>\n",
       "      <td>4.0</td>\n",
       "      <td>I bought the triliogy and have tested out all ...</td>\n",
       "      <td>2012-12-19</td>\n",
       "      <td>buy triliogy test dvd appear volume receive re...</td>\n",
       "    </tr>\n",
       "    <tr>\n",
       "      <th>2</th>\n",
       "      <td>3</td>\n",
       "      <td>1223000893</td>\n",
       "      <td>Cat Sitter DVD Trilogy - Vol 1, Vol 2 and Vol 3</td>\n",
       "      <td>[]</td>\n",
       "      <td>A2A4COGL9VW2HY</td>\n",
       "      <td>4.0</td>\n",
       "      <td>My female kitty could care less about these vi...</td>\n",
       "      <td>2011-05-12</td>\n",
       "      <td>female kitty care video care little male dig a...</td>\n",
       "    </tr>\n",
       "    <tr>\n",
       "      <th>3</th>\n",
       "      <td>4</td>\n",
       "      <td>1223000893</td>\n",
       "      <td>Cat Sitter DVD Trilogy - Vol 1, Vol 2 and Vol 3</td>\n",
       "      <td>[]</td>\n",
       "      <td>A2UBQA85NIGLHA</td>\n",
       "      <td>3.0</td>\n",
       "      <td>If I had gotten just volume two, I would have ...</td>\n",
       "      <td>2012-03-05</td>\n",
       "      <td>volume star trilogy star read review know vol ...</td>\n",
       "    </tr>\n",
       "    <tr>\n",
       "      <th>4</th>\n",
       "      <td>5</td>\n",
       "      <td>B00005MF9U</td>\n",
       "      <td>LitterMaid LM900 Mega Self-Cleaning Litter Box</td>\n",
       "      <td>['Pet Supplies', 'Cats', 'Litter &amp;amp; Housebr...</td>\n",
       "      <td>A2BH04B9G9LOYA</td>\n",
       "      <td>1.0</td>\n",
       "      <td>First off, it seems that someone is spamming t...</td>\n",
       "      <td>2006-12-31</td>\n",
       "      <td>spamming review glow reviewer review amazon ba...</td>\n",
       "    </tr>\n",
       "    <tr>\n",
       "      <th>68865</th>\n",
       "      <td>111581</td>\n",
       "      <td>B00K3YPOO0</td>\n",
       "      <td>Brightest Black Light Flashlight on Amazon- UV...</td>\n",
       "      <td>[]</td>\n",
       "      <td>A11J1FHCK5U06J</td>\n",
       "      <td>4.0</td>\n",
       "      <td>Now I know exactly where the trouble spots are...</td>\n",
       "      <td>2014-05-23</td>\n",
       "      <td>know exactly trouble spot sniffing guess invis...</td>\n",
       "    </tr>\n",
       "    <tr>\n",
       "      <th>68866</th>\n",
       "      <td>111585</td>\n",
       "      <td>B00K3YPOO0</td>\n",
       "      <td>Brightest Black Light Flashlight on Amazon- UV...</td>\n",
       "      <td>[]</td>\n",
       "      <td>A18JF0T0GOCORW</td>\n",
       "      <td>4.0</td>\n",
       "      <td>I use this light to help me find stains when I...</td>\n",
       "      <td>2014-05-24</td>\n",
       "      <td>use light help stain carpet clean pre treat ca...</td>\n",
       "    </tr>\n",
       "    <tr>\n",
       "      <th>68867</th>\n",
       "      <td>111595</td>\n",
       "      <td>B00K7EG97C</td>\n",
       "      <td>Nutro Crunchy Dog Treats with Real Mixed Berri...</td>\n",
       "      <td>['Pet Supplies', 'Dogs', 'Treats', 'Cookies, B...</td>\n",
       "      <td>A3GRPCW9DG427Z</td>\n",
       "      <td>5.0</td>\n",
       "      <td>We are owned by the 3 pickiest pooches in the ...</td>\n",
       "      <td>2013-07-27</td>\n",
       "      <td>pickiest pooch world love fool reject doggie t...</td>\n",
       "    </tr>\n",
       "    <tr>\n",
       "      <th>68868</th>\n",
       "      <td>111598</td>\n",
       "      <td>B00K7EG97C</td>\n",
       "      <td>Nutro Crunchy Dog Treats with Real Mixed Berri...</td>\n",
       "      <td>['Pet Supplies', 'Dogs', 'Treats', 'Cookies, B...</td>\n",
       "      <td>A2X6TLAX3JEO1A</td>\n",
       "      <td>5.0</td>\n",
       "      <td>My highly allergic white boxer loves these tre...</td>\n",
       "      <td>2014-05-09</td>\n",
       "      <td>highly allergic white boxer love treat meat co...</td>\n",
       "    </tr>\n",
       "    <tr>\n",
       "      <th>68869</th>\n",
       "      <td>111602</td>\n",
       "      <td>B00KJGFGFO</td>\n",
       "      <td>Curry Brush with Coarse or Fine Bristles. High...</td>\n",
       "      <td>[]</td>\n",
       "      <td>A9PG9ODPPP31N</td>\n",
       "      <td>5.0</td>\n",
       "      <td>Works great on my medium sized dog. She has ve...</td>\n",
       "      <td>2014-07-09</td>\n",
       "      <td>work great medium size dog coarse hair work gr...</td>\n",
       "    </tr>\n",
       "  </tbody>\n",
       "</table>\n",
       "</div>"
      ],
      "text/plain": [
       "        index        asin                                              title  \\\n",
       "0           0  1223000893    Cat Sitter DVD Trilogy - Vol 1, Vol 2 and Vol 3   \n",
       "1           2  1223000893    Cat Sitter DVD Trilogy - Vol 1, Vol 2 and Vol 3   \n",
       "2           3  1223000893    Cat Sitter DVD Trilogy - Vol 1, Vol 2 and Vol 3   \n",
       "3           4  1223000893    Cat Sitter DVD Trilogy - Vol 1, Vol 2 and Vol 3   \n",
       "4           5  B00005MF9U     LitterMaid LM900 Mega Self-Cleaning Litter Box   \n",
       "68865  111581  B00K3YPOO0  Brightest Black Light Flashlight on Amazon- UV...   \n",
       "68866  111585  B00K3YPOO0  Brightest Black Light Flashlight on Amazon- UV...   \n",
       "68867  111595  B00K7EG97C  Nutro Crunchy Dog Treats with Real Mixed Berri...   \n",
       "68868  111598  B00K7EG97C  Nutro Crunchy Dog Treats with Real Mixed Berri...   \n",
       "68869  111602  B00KJGFGFO  Curry Brush with Coarse or Fine Bristles. High...   \n",
       "\n",
       "                                              categories      reviewerID  \\\n",
       "0                                                     []  A14CK12J7C7JRK   \n",
       "1                                                     []  A2CR37UY3VR7BN   \n",
       "2                                                     []  A2A4COGL9VW2HY   \n",
       "3                                                     []  A2UBQA85NIGLHA   \n",
       "4      ['Pet Supplies', 'Cats', 'Litter &amp; Housebr...  A2BH04B9G9LOYA   \n",
       "68865                                                 []  A11J1FHCK5U06J   \n",
       "68866                                                 []  A18JF0T0GOCORW   \n",
       "68867  ['Pet Supplies', 'Dogs', 'Treats', 'Cookies, B...  A3GRPCW9DG427Z   \n",
       "68868  ['Pet Supplies', 'Dogs', 'Treats', 'Cookies, B...  A2X6TLAX3JEO1A   \n",
       "68869                                                 []   A9PG9ODPPP31N   \n",
       "\n",
       "       overall                                         reviewText  reviewTime  \\\n",
       "0          3.0  I purchased the Trilogy with hoping my two cat...  2011-01-12   \n",
       "1          4.0  I bought the triliogy and have tested out all ...  2012-12-19   \n",
       "2          4.0  My female kitty could care less about these vi...  2011-05-12   \n",
       "3          3.0  If I had gotten just volume two, I would have ...  2012-03-05   \n",
       "4          1.0  First off, it seems that someone is spamming t...  2006-12-31   \n",
       "68865      4.0  Now I know exactly where the trouble spots are...  2014-05-23   \n",
       "68866      4.0  I use this light to help me find stains when I...  2014-05-24   \n",
       "68867      5.0  We are owned by the 3 pickiest pooches in the ...  2013-07-27   \n",
       "68868      5.0  My highly allergic white boxer loves these tre...  2014-05-09   \n",
       "68869      5.0  Works great on my medium sized dog. She has ve...  2014-07-09   \n",
       "\n",
       "                                     processedReviewText  \n",
       "0      purchase trilogy hop cat age interested yr old...  \n",
       "1      buy triliogy test dvd appear volume receive re...  \n",
       "2      female kitty care video care little male dig a...  \n",
       "3      volume star trilogy star read review know vol ...  \n",
       "4      spamming review glow reviewer review amazon ba...  \n",
       "68865  know exactly trouble spot sniffing guess invis...  \n",
       "68866  use light help stain carpet clean pre treat ca...  \n",
       "68867  pickiest pooch world love fool reject doggie t...  \n",
       "68868  highly allergic white boxer love treat meat co...  \n",
       "68869  work great medium size dog coarse hair work gr...  "
      ]
     },
     "execution_count": 3,
     "metadata": {},
     "output_type": "execute_result"
    }
   ],
   "source": [
    "# checking train dataframe\n",
    "train.head().append(train.tail())"
   ]
  },
  {
   "cell_type": "code",
   "execution_count": 4,
   "id": "ba37a930",
   "metadata": {},
   "outputs": [
    {
     "data": {
      "text/plain": [
       "array([-0.2520061 , -0.12801759, -0.01807678, -0.06055114, -0.04010666,\n",
       "        0.04099023,  0.0625717 ,  0.00891204, -0.13964826,  0.08402346,\n",
       "        0.0650855 ,  0.13047956,  0.03227995,  0.03988666, -0.07124443,\n",
       "       -0.06424009,  0.02801364, -0.00741817, -0.09139743,  0.02618102,\n",
       "       -0.01038758,  0.00207332, -0.13542707, -0.09922392, -0.02690951,\n",
       "        0.11702102,  0.03746996, -0.1585136 , -0.08835025, -0.13124834,\n",
       "        0.02231358,  0.05603463, -0.0014683 ,  0.0878399 ,  0.04198717,\n",
       "        0.19678356, -0.13217868, -0.15097322,  0.16004062, -0.01319988,\n",
       "       -0.02964439,  0.06364242, -0.0199494 ,  0.00027959,  0.01765113,\n",
       "        0.14233795,  0.11001149, -0.06930998, -0.03381407, -0.05987406],\n",
       "      dtype=float32)"
      ]
     },
     "execution_count": 4,
     "metadata": {},
     "output_type": "execute_result"
    }
   ],
   "source": [
    "# testing d2v models\n",
    "d2v.dv[0]"
   ]
  },
  {
   "cell_type": "markdown",
   "id": "4ed374ca",
   "metadata": {},
   "source": [
    "# Generating User & Item Embeddings"
   ]
  },
  {
   "cell_type": "code",
   "execution_count": 5,
   "id": "ccc02f16",
   "metadata": {},
   "outputs": [],
   "source": [
    "user_idx_map, user_vecs, item_idx_map, item_vecs = utilities.generate_user_item_embeddings(train, d2v)"
   ]
  },
  {
   "cell_type": "code",
   "execution_count": 6,
   "id": "455ba70f",
   "metadata": {},
   "outputs": [],
   "source": [
    "# converting factors into numpy obj\n",
    "user_factors = user_vecs.to_numpy()\n",
    "item_factors = item_vecs.to_numpy()"
   ]
  },
  {
   "cell_type": "code",
   "execution_count": 7,
   "id": "e06b73c0",
   "metadata": {},
   "outputs": [
    {
     "data": {
      "text/plain": [
       "array([-0.8561372 , -0.08760148,  0.22061206, -0.23743176,  0.20440523,\n",
       "       -0.05492518,  0.08233099,  0.14771615, -0.3847315 ,  0.35306096,\n",
       "        0.06957682,  0.25351733,  0.25282878,  0.09940425,  0.10070784,\n",
       "        0.2629964 , -0.168038  ,  0.12743732, -0.2336523 , -0.26059604,\n",
       "       -0.08014607,  0.22298959, -0.00285875, -0.11516835, -0.07916622,\n",
       "        0.24770644, -0.20618638, -0.5045272 , -0.2963034 , -0.4026901 ,\n",
       "        0.21374956, -0.06301931,  0.11857571,  0.19401436, -0.03305751,\n",
       "        0.51753765, -0.12518515, -0.07292145,  0.5125408 ,  0.32581112,\n",
       "       -0.09140911,  0.10136102, -0.10169743, -0.16989364, -0.18277352,\n",
       "        0.2366689 ,  0.2156801 , -0.14649333, -0.14269456,  0.12841523],\n",
       "      dtype=float32)"
      ]
     },
     "execution_count": 7,
     "metadata": {},
     "output_type": "execute_result"
    }
   ],
   "source": [
    "# check user factors\n",
    "user_factors[0,:]"
   ]
  },
  {
   "cell_type": "code",
   "execution_count": 8,
   "id": "e0652aad",
   "metadata": {},
   "outputs": [
    {
     "data": {
      "text/plain": [
       "array([-0.2520061 , -0.12801759, -0.01807678, -0.06055114, -0.04010666,\n",
       "        0.04099023,  0.0625717 ,  0.00891204, -0.13964826,  0.08402346,\n",
       "        0.0650855 ,  0.13047956,  0.03227995,  0.03988666, -0.07124443,\n",
       "       -0.06424009,  0.02801364, -0.00741817, -0.09139743,  0.02618102,\n",
       "       -0.01038758,  0.00207332, -0.13542707, -0.09922392, -0.02690951,\n",
       "        0.11702102,  0.03746996, -0.1585136 , -0.08835025, -0.13124834,\n",
       "        0.02231358,  0.05603463, -0.0014683 ,  0.0878399 ,  0.04198717,\n",
       "        0.19678356, -0.13217868, -0.15097322,  0.16004062, -0.01319988,\n",
       "       -0.02964439,  0.06364242, -0.0199494 ,  0.00027959,  0.01765113,\n",
       "        0.14233795,  0.11001149, -0.06930998, -0.03381407, -0.05987406],\n",
       "      dtype=float32)"
      ]
     },
     "execution_count": 8,
     "metadata": {},
     "output_type": "execute_result"
    }
   ],
   "source": [
    "# check item factors\n",
    "item_factors[0,:]"
   ]
  },
  {
   "cell_type": "markdown",
   "id": "e6e16880",
   "metadata": {},
   "source": [
    "# Utility Functions"
   ]
  },
  {
   "cell_type": "markdown",
   "id": "6c47668d",
   "metadata": {},
   "source": [
    "# Generate N-Recommendations = {10, 25, 30, 45}"
   ]
  },
  {
   "cell_type": "markdown",
   "id": "f58f98d6",
   "metadata": {},
   "source": [
    "## Load Test Data"
   ]
  },
  {
   "cell_type": "code",
   "execution_count": 9,
   "id": "11b82429",
   "metadata": {},
   "outputs": [
    {
     "data": {
      "text/html": [
       "<div>\n",
       "<style scoped>\n",
       "    .dataframe tbody tr th:only-of-type {\n",
       "        vertical-align: middle;\n",
       "    }\n",
       "\n",
       "    .dataframe tbody tr th {\n",
       "        vertical-align: top;\n",
       "    }\n",
       "\n",
       "    .dataframe thead th {\n",
       "        text-align: right;\n",
       "    }\n",
       "</style>\n",
       "<table border=\"1\" class=\"dataframe\">\n",
       "  <thead>\n",
       "    <tr style=\"text-align: right;\">\n",
       "      <th></th>\n",
       "      <th>index</th>\n",
       "      <th>asin</th>\n",
       "      <th>title</th>\n",
       "      <th>categories</th>\n",
       "      <th>reviewerID</th>\n",
       "      <th>overall</th>\n",
       "      <th>reviewText</th>\n",
       "      <th>reviewTime</th>\n",
       "      <th>processedReviewText</th>\n",
       "    </tr>\n",
       "  </thead>\n",
       "  <tbody>\n",
       "    <tr>\n",
       "      <th>0</th>\n",
       "      <td>1</td>\n",
       "      <td>1223000893</td>\n",
       "      <td>Cat Sitter DVD Trilogy - Vol 1, Vol 2 and Vol 3</td>\n",
       "      <td>[]</td>\n",
       "      <td>A39QHP5WLON5HV</td>\n",
       "      <td>5.0</td>\n",
       "      <td>There are usually one or more of my cats watch...</td>\n",
       "      <td>2013-09-14</td>\n",
       "      <td>usually cat watch tv stay trouble dvd play lik...</td>\n",
       "    </tr>\n",
       "    <tr>\n",
       "      <th>1</th>\n",
       "      <td>104</td>\n",
       "      <td>B00005MF9V</td>\n",
       "      <td>LitterMaid Universal Cat Privacy Tent (LMT100)</td>\n",
       "      <td>['Pet Supplies', 'Cats', 'Litter &amp; Housebreaki...</td>\n",
       "      <td>A366V0GCEPH5CX</td>\n",
       "      <td>5.0</td>\n",
       "      <td>My cats love it and so do I. I no longer have ...</td>\n",
       "      <td>2013-02-02</td>\n",
       "      <td>cat love longer cat litter fly floor litter fl...</td>\n",
       "    </tr>\n",
       "    <tr>\n",
       "      <th>2</th>\n",
       "      <td>133</td>\n",
       "      <td>B00005MF9T</td>\n",
       "      <td>LitterMaid LM500 Automated Litter Box</td>\n",
       "      <td>['Pet Supplies', 'Cats', 'Litter &amp; Housebreaki...</td>\n",
       "      <td>ALWWS8QBYN80B</td>\n",
       "      <td>1.0</td>\n",
       "      <td>I have one female cat that weighs under 10 pou...</td>\n",
       "      <td>2004-11-17</td>\n",
       "      <td>female cat weigh pound year old use everclean ...</td>\n",
       "    </tr>\n",
       "    <tr>\n",
       "      <th>3</th>\n",
       "      <td>153</td>\n",
       "      <td>B00005MF9W</td>\n",
       "      <td>LitterMaid Waste Receptacles Automatic Litter ...</td>\n",
       "      <td>['Pet Supplies', 'Cats', 'Litter &amp; Housebreaki...</td>\n",
       "      <td>A3PVI3NE7OY1SP</td>\n",
       "      <td>5.0</td>\n",
       "      <td>I love these. They make the clean up so much e...</td>\n",
       "      <td>2013-09-26</td>\n",
       "      <td>love clean easy clean box manually use issue w...</td>\n",
       "    </tr>\n",
       "    <tr>\n",
       "      <th>4</th>\n",
       "      <td>154</td>\n",
       "      <td>B00005MF9W</td>\n",
       "      <td>LitterMaid Waste Receptacles Automatic Litter ...</td>\n",
       "      <td>['Pet Supplies', 'Cats', 'Litter &amp; Housebreaki...</td>\n",
       "      <td>A2H83XMHUVDLJY</td>\n",
       "      <td>4.0</td>\n",
       "      <td>I love this litter box. I do not use the lids,...</td>\n",
       "      <td>2014-06-26</td>\n",
       "      <td>love litter box use lid use receptacle tear cr...</td>\n",
       "    </tr>\n",
       "    <tr>\n",
       "      <th>41564</th>\n",
       "      <td>111601</td>\n",
       "      <td>B00KJGFGFO</td>\n",
       "      <td>Curry Brush with Coarse or Fine Bristles. High...</td>\n",
       "      <td>[]</td>\n",
       "      <td>AV34KNYW82YSS</td>\n",
       "      <td>4.0</td>\n",
       "      <td>Pulled lots of hair out of my Labs coat. Didn'...</td>\n",
       "      <td>2014-07-18</td>\n",
       "      <td>pulled lot hair labs coat think prove wrong co...</td>\n",
       "    </tr>\n",
       "    <tr>\n",
       "      <th>41565</th>\n",
       "      <td>111603</td>\n",
       "      <td>B00KJGFGFO</td>\n",
       "      <td>Curry Brush with Coarse or Fine Bristles. High...</td>\n",
       "      <td>[]</td>\n",
       "      <td>A1YMNTFLNDYQ1F</td>\n",
       "      <td>5.0</td>\n",
       "      <td>I have been trying to find a rubber bristle br...</td>\n",
       "      <td>2014-07-16</td>\n",
       "      <td>try rubber bristle brush persian year lose glo...</td>\n",
       "    </tr>\n",
       "    <tr>\n",
       "      <th>41566</th>\n",
       "      <td>111604</td>\n",
       "      <td>B00KJGFGFO</td>\n",
       "      <td>Curry Brush with Coarse or Fine Bristles. High...</td>\n",
       "      <td>[]</td>\n",
       "      <td>A1FQ3HRVXA4A5B</td>\n",
       "      <td>5.0</td>\n",
       "      <td>Great product to use on your pets knowing this...</td>\n",
       "      <td>2014-07-11</td>\n",
       "      <td>great product use pet know gentle rubber damag...</td>\n",
       "    </tr>\n",
       "    <tr>\n",
       "      <th>41567</th>\n",
       "      <td>111605</td>\n",
       "      <td>B00KJGFGFO</td>\n",
       "      <td>Curry Brush with Coarse or Fine Bristles. High...</td>\n",
       "      <td>[]</td>\n",
       "      <td>A3OP6CI0XCRQXO</td>\n",
       "      <td>5.0</td>\n",
       "      <td>I bought a second one because I have two cats ...</td>\n",
       "      <td>2014-07-22</td>\n",
       "      <td>buy second cat american short hair buy brush m...</td>\n",
       "    </tr>\n",
       "    <tr>\n",
       "      <th>41568</th>\n",
       "      <td>111606</td>\n",
       "      <td>B00KJGFGFO</td>\n",
       "      <td>Curry Brush with Coarse or Fine Bristles. High...</td>\n",
       "      <td>[]</td>\n",
       "      <td>A11LC938XF35XN</td>\n",
       "      <td>5.0</td>\n",
       "      <td>Our dogs love getting brushed with this.  It m...</td>\n",
       "      <td>2014-07-17</td>\n",
       "      <td>dog love brush massage remove heavy undercoat ...</td>\n",
       "    </tr>\n",
       "  </tbody>\n",
       "</table>\n",
       "</div>"
      ],
      "text/plain": [
       "        index        asin                                              title  \\\n",
       "0           1  1223000893    Cat Sitter DVD Trilogy - Vol 1, Vol 2 and Vol 3   \n",
       "1         104  B00005MF9V     LitterMaid Universal Cat Privacy Tent (LMT100)   \n",
       "2         133  B00005MF9T              LitterMaid LM500 Automated Litter Box   \n",
       "3         153  B00005MF9W  LitterMaid Waste Receptacles Automatic Litter ...   \n",
       "4         154  B00005MF9W  LitterMaid Waste Receptacles Automatic Litter ...   \n",
       "41564  111601  B00KJGFGFO  Curry Brush with Coarse or Fine Bristles. High...   \n",
       "41565  111603  B00KJGFGFO  Curry Brush with Coarse or Fine Bristles. High...   \n",
       "41566  111604  B00KJGFGFO  Curry Brush with Coarse or Fine Bristles. High...   \n",
       "41567  111605  B00KJGFGFO  Curry Brush with Coarse or Fine Bristles. High...   \n",
       "41568  111606  B00KJGFGFO  Curry Brush with Coarse or Fine Bristles. High...   \n",
       "\n",
       "                                              categories      reviewerID  \\\n",
       "0                                                     []  A39QHP5WLON5HV   \n",
       "1      ['Pet Supplies', 'Cats', 'Litter & Housebreaki...  A366V0GCEPH5CX   \n",
       "2      ['Pet Supplies', 'Cats', 'Litter & Housebreaki...   ALWWS8QBYN80B   \n",
       "3      ['Pet Supplies', 'Cats', 'Litter & Housebreaki...  A3PVI3NE7OY1SP   \n",
       "4      ['Pet Supplies', 'Cats', 'Litter & Housebreaki...  A2H83XMHUVDLJY   \n",
       "41564                                                 []   AV34KNYW82YSS   \n",
       "41565                                                 []  A1YMNTFLNDYQ1F   \n",
       "41566                                                 []  A1FQ3HRVXA4A5B   \n",
       "41567                                                 []  A3OP6CI0XCRQXO   \n",
       "41568                                                 []  A11LC938XF35XN   \n",
       "\n",
       "       overall                                         reviewText  reviewTime  \\\n",
       "0          5.0  There are usually one or more of my cats watch...  2013-09-14   \n",
       "1          5.0  My cats love it and so do I. I no longer have ...  2013-02-02   \n",
       "2          1.0  I have one female cat that weighs under 10 pou...  2004-11-17   \n",
       "3          5.0  I love these. They make the clean up so much e...  2013-09-26   \n",
       "4          4.0  I love this litter box. I do not use the lids,...  2014-06-26   \n",
       "41564      4.0  Pulled lots of hair out of my Labs coat. Didn'...  2014-07-18   \n",
       "41565      5.0  I have been trying to find a rubber bristle br...  2014-07-16   \n",
       "41566      5.0  Great product to use on your pets knowing this...  2014-07-11   \n",
       "41567      5.0  I bought a second one because I have two cats ...  2014-07-22   \n",
       "41568      5.0  Our dogs love getting brushed with this.  It m...  2014-07-17   \n",
       "\n",
       "                                     processedReviewText  \n",
       "0      usually cat watch tv stay trouble dvd play lik...  \n",
       "1      cat love longer cat litter fly floor litter fl...  \n",
       "2      female cat weigh pound year old use everclean ...  \n",
       "3      love clean easy clean box manually use issue w...  \n",
       "4      love litter box use lid use receptacle tear cr...  \n",
       "41564  pulled lot hair labs coat think prove wrong co...  \n",
       "41565  try rubber bristle brush persian year lose glo...  \n",
       "41566  great product use pet know gentle rubber damag...  \n",
       "41567  buy second cat american short hair buy brush m...  \n",
       "41568  dog love brush massage remove heavy undercoat ...  "
      ]
     },
     "execution_count": 9,
     "metadata": {},
     "output_type": "execute_result"
    }
   ],
   "source": [
    "test = pd.read_csv(f\"{DATA_PATH}/{CATEGORY}_test.csv\")\n",
    "test.head().append(test.tail())"
   ]
  },
  {
   "cell_type": "code",
   "execution_count": 10,
   "id": "dc34f14f",
   "metadata": {},
   "outputs": [],
   "source": [
    "# generating test history\n",
    "test_user_history = (pd.DataFrame(test.groupby(['reviewerID'])['asin']\n",
    "                                  .apply(list).reset_index()))"
   ]
  },
  {
   "cell_type": "code",
   "execution_count": 11,
   "id": "85b19cfc",
   "metadata": {},
   "outputs": [
    {
     "name": "stdout",
     "output_type": "stream",
     "text": [
      "                  reviewerID                                  asin\n",
      "0      A04173782GDZSQ91AJ7OD              [B0090Z9AYS, B00CPDWT2M]\n",
      "1      A042274212BJJVOBS4Q85              [B005AZ4M3Q, B00771WQIY]\n",
      "2       A0436342QLT4257JODYJ  [B0018CDR68, B003SJTM8Q, B00474A3DY]\n",
      "3      A04795073FIBKY8GSLZYI              [B001PKT30M, B005DGI2RY]\n",
      "4      A06658082A27F4VB5UG8E              [B000TZ1TTM, B0019VUHH0]\n",
      "...                      ...                                   ...\n",
      "18993          AZYJE40XW6MFG              [B00HVAKJZS, B00IDZT294]\n",
      "18994          AZZ56WF4X19G2                          [B004A7X218]\n",
      "18995          AZZNK89PXD006  [B0002DHV16, B005BP8MQ8, B009RTX4SU]\n",
      "18996          AZZV9PDNMCOZW              [B007EQL390, B00ISBWVT6]\n",
      "18997          AZZYW4YOE1B6E  [B0002AQPA2, B0002AQPA2, B0002ARQV4]\n",
      "\n",
      "[18998 rows x 2 columns]\n"
     ]
    }
   ],
   "source": [
    "print(test_user_history)"
   ]
  },
  {
   "cell_type": "markdown",
   "id": "0d650855",
   "metadata": {},
   "source": [
    "## Preparing Dataset for Surprise's Algorithm"
   ]
  },
  {
   "cell_type": "code",
   "execution_count": 12,
   "id": "05afcd97",
   "metadata": {},
   "outputs": [],
   "source": [
    "# create reader\n",
    "reader = Reader(rating_scale=(1,5))\n",
    "# generate data required for surprise\n",
    "data = Dataset.load_from_df(train[[\"reviewerID\", \"asin\", \"overall\"]], reader)\n",
    "# generating trainset\n",
    "trainset = data.build_full_trainset()"
   ]
  },
  {
   "cell_type": "markdown",
   "id": "07343755",
   "metadata": {},
   "source": [
    "## Instantiate Pre-Initialised Matrix Factorization (Paragraph Vector)"
   ]
  },
  {
   "cell_type": "code",
   "execution_count": 13,
   "id": "cd71b389",
   "metadata": {},
   "outputs": [],
   "source": [
    "# instantiating mod-ecf\n",
    "mod_ecf = cf.PreInitialisedMF(user_map=user_idx_map,\n",
    "                              item_map=item_idx_map,\n",
    "                              user_factor=user_factors,\n",
    "                              item_factor=item_factors,\n",
    "                              learning_rate=LR_ALL,\n",
    "                              beta=BETA,\n",
    "                              num_epochs=N_EPOCHS,\n",
    "                              num_factors=50)"
   ]
  },
  {
   "cell_type": "code",
   "execution_count": 14,
   "id": "1eeabadc",
   "metadata": {},
   "outputs": [
    {
     "name": "stdout",
     "output_type": "stream",
     "text": [
      "Processing epoch 0\n",
      "Processing epoch 1\n",
      "Processing epoch 2\n",
      "Processing epoch 3\n",
      "Processing epoch 4\n",
      "Processing epoch 5\n",
      "Processing epoch 6\n",
      "Processing epoch 7\n",
      "Processing epoch 8\n",
      "Processing epoch 9\n",
      "Processing epoch 10\n",
      "Processing epoch 11\n",
      "Processing epoch 12\n",
      "Processing epoch 13\n",
      "Processing epoch 14\n",
      "CPU times: user 8min 46s, sys: 2.12 s, total: 8min 48s\n",
      "Wall time: 8min 53s\n"
     ]
    }
   ],
   "source": [
    "%%time\n",
    "# fitting to training data\n",
    "mod_ecf.fit(trainset, verbose=True)"
   ]
  },
  {
   "cell_type": "code",
   "execution_count": 15,
   "id": "fa587004",
   "metadata": {},
   "outputs": [
    {
     "name": "stdout",
     "output_type": "stream",
     "text": [
      "CPU times: user 51.7 s, sys: 2.64 s, total: 54.4 s\n",
      "Wall time: 55.1 s\n"
     ]
    }
   ],
   "source": [
    "%%time\n",
    "# generate candidate items for user to predict rating\n",
    "testset = trainset.build_anti_testset()"
   ]
  },
  {
   "cell_type": "code",
   "execution_count": 16,
   "id": "c8e539de",
   "metadata": {},
   "outputs": [
    {
     "name": "stdout",
     "output_type": "stream",
     "text": [
      "CPU times: user 12min 31s, sys: 6min 13s, total: 18min 45s\n",
      "Wall time: 21min 55s\n"
     ]
    }
   ],
   "source": [
    "%%time\n",
    "# predict ratings for all pairs (u, i) that are NOT in the training set\n",
    "candidate_items = mod_ecf.test(testset, verbose=False)"
   ]
  },
  {
   "cell_type": "markdown",
   "id": "006c2beb",
   "metadata": {},
   "source": [
    "## Loop through N = {10, 25, 30, 45}"
   ]
  },
  {
   "cell_type": "code",
   "execution_count": 17,
   "id": "b98c854f",
   "metadata": {},
   "outputs": [],
   "source": [
    "# generate item popularity\n",
    "item_popularity = evaluate_model.generate_item_popularity(train)"
   ]
  },
  {
   "cell_type": "code",
   "execution_count": 18,
   "id": "2caa53f0",
   "metadata": {},
   "outputs": [
    {
     "name": "stdout",
     "output_type": "stream",
     "text": [
      "The MOD-ECF has an average recall@10: 0.00485, average novelty@10: 0.95198\n",
      "The MOD-ECF has an average recall@25: 0.01231, average novelty@25: 0.95818\n",
      "The MOD-ECF has an average recall@30: 0.01462, average novelty@30: 0.95962\n",
      "The MOD-ECF has an average recall@45: 0.02073, average novelty@45: 0.96280\n"
     ]
    }
   ],
   "source": [
    "n_recommendations = {}\n",
    "for n in [10, 25, 30, 45]:\n",
    "    # retrieve the top-n items based on similarities\n",
    "    # top_ns = get_top_n(candidate_items, n)\n",
    "    top_ns = mod_ecf.get_top_n(candidate_items, n)\n",
    "    # evaluate how well the recommended items predicted the future purchases\n",
    "    n_recommended_items = (evaluate_model.\n",
    "                           evaluate_recommendations(model_name = 'MOD-ECF',\n",
    "                                                    top_ns = top_ns,\n",
    "                                                    user_rating_history = test_user_history, \n",
    "                                                    item_popularity = item_popularity, \n",
    "                                                    n = n,\n",
    "                                                    mf_based = True))\n",
    "    # saving the n-value and recommended items\n",
    "    n_recommendations[n] = (top_ns, n_recommended_items)"
   ]
  },
  {
   "cell_type": "markdown",
   "id": "d3e73163",
   "metadata": {},
   "source": [
    "# Evaluate N-Recommendations"
   ]
  },
  {
   "cell_type": "markdown",
   "id": "a30e36de",
   "metadata": {},
   "source": [
    "## N=10"
   ]
  },
  {
   "cell_type": "code",
   "execution_count": 19,
   "id": "4e86fdb8",
   "metadata": {},
   "outputs": [
    {
     "name": "stdout",
     "output_type": "stream",
     "text": [
      "For user: A3T87QAUUPTMZK:\n",
      "Purchase History:\n",
      "             asin                                              title\n",
      "43366  B0010OSIHW  Zoo Med Eco Earth Compressed Coconut Fiber Sub...\n",
      "45100  B00167VVP4   Zoo Med Eco Earth Loose Coconut Fiber Substra...\n",
      "46998  B0019IJXD2       Zoo Med Reptile Fogger Terrarium Humidifier \n",
      "\n",
      "Recommending:\n",
      "\n",
      "         asin                                              title\n",
      "0  B0002AS1CC                 Bergan Turbo Scratcher Accessories\n",
      "1  B00006IX59                         Chuckit! Dog Ball Launcher\n",
      "2  B003FM7JZY                        Timothy Gold Hay, 5Lb, Blue\n",
      "3  B00025K1GG                  Hikari Freeze Dried Tubifex Worms\n",
      "4  B000255NCI                               API Master Test Kits\n",
      "5  B000AAIAJS                             Vitakraft Rabbit Slims\n",
      "6  B0002DJONY                            Vittles Vault Stackable\n",
      "7  B000084F4T  Purina Pro Plan Focus Weight Management Chicke...\n",
      "8  B000255OIG       Stewart Freeze Dried Treats 14 oz Beef Liver\n",
      "9  B0002563O0                           JW Comfy Perch for Birds\n"
     ]
    }
   ],
   "source": [
    "top_ns_10 = n_recommendations[10][0]\n",
    "utilities.retrieve_recommendations(train, top_ns_10, mf_based=True)"
   ]
  },
  {
   "cell_type": "markdown",
   "id": "ca424cf6",
   "metadata": {},
   "source": [
    "## N=25"
   ]
  },
  {
   "cell_type": "code",
   "execution_count": 20,
   "id": "4522e6db",
   "metadata": {},
   "outputs": [
    {
     "name": "stdout",
     "output_type": "stream",
     "text": [
      "For user: A1XEZIHQIUAOR1:\n",
      "Purchase History:\n",
      "             asin                                              title\n",
      "1487   B000084E6V                      Nylabone Dental Dinosaur Chew\n",
      "1727   B000084E6V                      Nylabone Dental Dinosaur Chew\n",
      "28789  B0006VMN4O  Pioneer Pet SmartCat Peek-A-Prize Toy Box with...\n",
      "37658  B000JZ1WSU                     SmartCat 3836 Tick Tock Teaser\n",
      "42603  B000XZDV44  Hill'S Science Diet Kitten Savory Salmon Entre...\n",
      "43867  B0012KCUOG  Whisker Lickin'S Soft &amp; Delicious Chicken ...\n",
      "\n",
      "Recommending:\n",
      "\n",
      "          asin                                              title\n",
      "0   B00006IX5A               Canine Hardware Chuckit! Tennis Ball\n",
      "1   B000084DXS  Hill's Science Diet Puppy Chicken &amp; Barley...\n",
      "2   B000084E7Y                  Multipet Duckworth Duck Large 13\"\n",
      "3   B000084F4T  Purina Pro Plan Focus Weight Management Chicke...\n",
      "4   B000084F80    Hartz Chew 'n Clean Bacon Flavored Dog Chew Toy\n",
      "5   B00008434T                Ticked Off Pets Tick Remover, White\n",
      "6   B00008O36H  Purina Beneful Healthy Weight with Real Chicke...\n",
      "7   B0000AH3UK            Merrick Flossies Tendon Chews Pack of 5\n",
      "8   B0000AH9UH          Hedgehogz, Squeak and Grunt Plush Dog Toy\n",
      "9   B0000BYDH7                    Nylabone FlexiChew Chicken Bone\n",
      "10  B000255NCI                               API Master Test Kits\n",
      "11  B0002563O0                           JW Comfy Perch for Birds\n",
      "12  B0002566H4               Nylabone Original Dura Chew Dog Chew\n",
      "13  B0002565SE  MarineLand Rite-Size U Bonded Foam Sleeve for ...\n",
      "14  B0002567WS  Lafeber's Classic Nutri-Berries for Cockatiels...\n",
      "15  B0002567YQ  Fluval Suction Cups, (4) 4x12 mm and clips, (8...\n",
      "16  B0002568HW  Fluval Aquastop For Fluval 104-404, 105-405 Se...\n",
      "17  B00025K1GQ  Hikari Bio-Pure Freeze Dried Blood Worms for P...\n",
      "18  B00025YVG2                                            Wardley\n",
      "19  B00025YVH6                    Exclusively Pet Best Buddy Bits\n",
      "20  B00025Z6FW  Hikari Cichlid Gold Floating Baby Pellets for ...\n",
      "21  B00025YVPI             AFC PETMATE 26333 Looney Loops Cat Toy\n",
      "22  B00025Z6SE  TetraMin Complete Diet Tropical Tablets for Bo...\n",
      "23  B00025Z6Q6  Tetra TetraCichlid Balanced Diet Flakes Food f...\n",
      "24  B0002602UK                        Ethical Stonewe Animal Dish\n"
     ]
    }
   ],
   "source": [
    "top_ns_25 = n_recommendations[25][0]\n",
    "utilities.retrieve_recommendations(train, top_ns_25, mf_based=True)"
   ]
  },
  {
   "cell_type": "markdown",
   "id": "ffe6bc5f",
   "metadata": {},
   "source": [
    "## N=30"
   ]
  },
  {
   "cell_type": "code",
   "execution_count": 21,
   "id": "02c52994",
   "metadata": {},
   "outputs": [
    {
     "name": "stdout",
     "output_type": "stream",
     "text": [
      "For user: A89LQAXW1IY6S:\n",
      "Purchase History:\n",
      "             asin                                              title\n",
      "12819  B0002ARP2O  Marshall Ferret Deluxe Leisure Lounge, Pattern...\n",
      "12825  B0002ARP2O  Marshall Ferret Deluxe Leisure Lounge, Pattern...\n",
      "38837  B000MD3NLS  MidWest Homes for Pets Snap'y Fit Stainless St...\n",
      "42683  B000Y8UNAU  Pro Select Fleece Cat Perch Covers - Comfortab...\n",
      "46465  B0018CJZ32                         SmartCat Corner Litter Box\n",
      "\n",
      "Recommending:\n",
      "\n",
      "          asin                                              title\n",
      "0   B000084DXS  Hill's Science Diet Puppy Chicken &amp; Barley...\n",
      "1   B000084F4T  Purina Pro Plan Focus Weight Management Chicke...\n",
      "2   B00008434T                Ticked Off Pets Tick Remover, White\n",
      "3   B0000AH3UK            Merrick Flossies Tendon Chews Pack of 5\n",
      "4   B00025K1GQ  Hikari Bio-Pure Freeze Dried Blood Worms for P...\n",
      "5   B00025YVG2                                            Wardley\n",
      "6   B00025Z6FW  Hikari Cichlid Gold Floating Baby Pellets for ...\n",
      "7   B00025Z6Q6  Tetra TetraCichlid Balanced Diet Flakes Food f...\n",
      "8   B0002602UK                        Ethical Stonewe Animal Dish\n",
      "9   B00027466A                            Chuckit! Travel Dog Bed\n",
      "10  B00028ZLD6                     Panacur Canine Dewormer 1 gram\n",
      "11  B0002APL84  Four Paws Red 15 Foot Medium Weight Dog Tie Ou...\n",
      "12  B0002APQV6  Simple Solution Pet Stain and Odor Remover | E...\n",
      "13  B0002ARR7W  Our Pets Store-N- Feed Adjustable Raised Dog B...\n",
      "14  B0002AROVQ                         Marshall Ferret Litter Pan\n",
      "15  B0002AS5H8         Ethical 5-Inch Cat-Paw Print Stonware Dish\n",
      "16  B0002AS5QE                        Ethical Stonewe Animal Dish\n",
      "17  B0002ASCD0  Van Ness. Heavyweight Jumbo Crock Dish, 106 Ounce\n",
      "18  B0002ASCGM  Van Ness Odor Control Extra Giant Enclosed Cat...\n",
      "19  B0002ASGZ4                 Four Paws Cat Grooming Curry Brush\n",
      "20  B0002ASCQC                          Van Ness 2 Cup Food Scoop\n",
      "21  B0002AT450                     Rake Set for Pet Waste Removal\n",
      "22  B0002AT45A                    Spade Set for Pet Waste Removal\n",
      "23  B0002DGVY4  Herm Sprenger Pet Supply Imports Chrome Plated...\n",
      "24  B0002DJL0K               Marshall Pet Products Super Thru-Way\n",
      "25  B0002DJODE                      Vitakraft Chinchilla Cocktail\n",
      "26  B0002DJONY                            Vittles Vault Stackable\n",
      "27  B0002DK09G           JW Pet Company GripSoft Cat Nail Clipper\n",
      "28  B0002DK4D8  PEDIGREE MARROBONE Dog Treats Real Beef Flavor...\n",
      "29  B0002DK4IS                      Our Pets Big Bone Storage Bin\n"
     ]
    }
   ],
   "source": [
    "top_ns_30 = n_recommendations[30][0]\n",
    "utilities.retrieve_recommendations(train, top_ns_30, mf_based=True)"
   ]
  },
  {
   "cell_type": "markdown",
   "id": "02489a59",
   "metadata": {},
   "source": [
    "## N=45"
   ]
  },
  {
   "cell_type": "code",
   "execution_count": 22,
   "id": "c3588f67",
   "metadata": {},
   "outputs": [
    {
     "name": "stdout",
     "output_type": "stream",
     "text": [
      "For user: A3C2ECIXEQ0YFQ:\n",
      "Purchase History:\n",
      "             asin                                              title\n",
      "30751  B0009YS4P0  Nutri-Vet Hip &amp; Joint Extra Strength Chewa...\n",
      "37067  B000IBRI2Y              Dog Dazer II Ultrasonic Dog Deterrent\n",
      "40175  B000OV4VAU                        Nutri-Vet Alaska Salmon Oil\n",
      "53623  B0029NQTI8  Pedigree Choice Cuts Variety Pack Lamb/Vegetab...\n",
      "\n",
      "Recommending:\n",
      "\n",
      "          asin                                              title\n",
      "0   B00025K1GQ  Hikari Bio-Pure Freeze Dried Blood Worms for P...\n",
      "1   B003R0MFX0  Tiki Cat Napili Wild Salmon And Chicken In Chi...\n",
      "2   B000084F4T  Purina Pro Plan Focus Weight Management Chicke...\n",
      "3   B002BR9GUU  Acana Wild Prairie Grain-Free Dry Dog Food, 29...\n",
      "4   B00028ZLD6                     Panacur Canine Dewormer 1 gram\n",
      "5   B0012KB4U2  Purina Whisker Lickin's Crunchy &amp; Yummy Ch...\n",
      "6   B001G0NKVO  Purina Friskies Indoor Adult Wet Cat Food - (2...\n",
      "7   B00025Z6Q6  Tetra TetraCichlid Balanced Diet Flakes Food f...\n",
      "8   B00E0HQR1U  No Grainers By Nootie Jerky Chew Grain Free Li...\n",
      "9   B0015G862M  Stella &amp; Chewy'S Freeze-Dried Dinner Patti...\n",
      "10  B0089A62MS                       Merrick Classic Real Chicken\n",
      "11  B0018CK0EU  Stella &amp; Chewy'S Freeze-Dried Dinner Patti...\n",
      "12  B000O5DI3W     Greenies Pill Pocket Soft Dog Treats - Chicken\n",
      "13  B007CGL85Q      AvoDerm Natural Revolving Menu Adult Dog Food\n",
      "14  B0000AH3UK            Merrick Flossies Tendon Chews Pack of 5\n",
      "15  B003P9WU74  Royal Canin Dry Cat Food, Maine Coon 31 Formul...\n",
      "16  B000OUOYH6                       Pet Botanics Training Reward\n",
      "17  B0029NVJFQ  Whiskas Temptations Creamy Dairy Flavour Treat...\n",
      "18  B000AAIAJS                             Vitakraft Rabbit Slims\n",
      "19  B002XAXYFI                   CoCoTherapy Coconut Chips - 6 oz\n",
      "20  B0017T2Y48      Orijen 6-Fish Grain-Free Dry Dog Food, 15.4lb\n",
      "21  B000FO1QOU  Tomlyn High Calorie Nutritional Gel for Puppie...\n",
      "22  B0051QJRSY       Nutramax Cosequin Sprinkle Capsules for Cats\n",
      "23  B000A6UF4U     Gamma2 Vittles Vault Plus for Pet Food Storage\n",
      "24  B006SO16N2  ZippyPaws Dog Poop Waste Pick-Up Bags with Han...\n",
      "25  B007CREMW6                             Flexi Giant Tape Leash\n",
      "26  B001P220TQ   Hikari Usa Inc AHK42553 Saki Goldfish 7.0 -Ounce\n",
      "27  B0013L2DSC  Oxbow Essentials Adult Guinea Pig (Timothy Bas...\n",
      "28  B0002DK4D8  PEDIGREE MARROBONE Dog Treats Real Beef Flavor...\n",
      "29  B000N5Z5YI                  Merrick Lamb Hold EMS Filets 8 Oz\n",
      "30  B006JRRRQI  IRIS Airtight Pet Food Container, 50-Pound, Cl...\n",
      "31  B004HE5IXE  Hikari Usa Inc AHK21416 Mini Algae Wafers 3 -O...\n",
      "32  B001GBD0SG  Nutramax Welactin Feline Soft Gel Caps - 60 Count\n",
      "33  B0029NWW5W  Pedigree Little Champions 12 Pouch Variety Pac...\n",
      "34  B000PKSW5A  Precious Cat Dr. Elsey's Kitten Attract Scoopa...\n",
      "35  B00025Z6FW  Hikari Cichlid Gold Floating Baby Pellets for ...\n",
      "36  B0012KH0H8  Friskies Cat Treats Tender Hairball Remedy Wit...\n",
      "37  B00063KNX0  Nylabone Nutri Dent Limited Ingredient Dental ...\n",
      "38  B007PGOGS4  SAN FRANCISCO BAY Brand ASF71104 Freeze Dried ...\n",
      "39  B0009XLVDS               CANIDAE All Life Stages Dog Dry Food\n",
      "40  B000QSON4K  Greenies Pill Pockets Soft Dog Treats, Beef, C...\n",
      "41  B000MLHDS4  Wellness Pure Rewards Natural Grain Free Dog T...\n",
      "42  B000NV9VPQ  THE REAL MEAT COMPANY 828010 Dog Jerky Lamb Tr...\n",
      "43  B0018CG2DI  Chicken Soup For The Dog Lover'S Soul Canned F...\n",
      "44  B0019QKOQY  Orijen Regional Poultry and Fish Grain-Free Dr...\n"
     ]
    }
   ],
   "source": [
    "top_ns_45 = n_recommendations[45][0]\n",
    "utilities.retrieve_recommendations(train, top_ns_45, mf_based=True)"
   ]
  },
  {
   "cell_type": "code",
   "execution_count": null,
   "id": "1bdfb48d",
   "metadata": {},
   "outputs": [],
   "source": []
  }
 ],
 "metadata": {
  "kernelspec": {
   "display_name": "Python 3 (ipykernel)",
   "language": "python",
   "name": "python3"
  },
  "language_info": {
   "codemirror_mode": {
    "name": "ipython",
    "version": 3
   },
   "file_extension": ".py",
   "mimetype": "text/x-python",
   "name": "python",
   "nbconvert_exporter": "python",
   "pygments_lexer": "ipython3",
   "version": "3.9.6"
  }
 },
 "nbformat": 4,
 "nbformat_minor": 5
}
