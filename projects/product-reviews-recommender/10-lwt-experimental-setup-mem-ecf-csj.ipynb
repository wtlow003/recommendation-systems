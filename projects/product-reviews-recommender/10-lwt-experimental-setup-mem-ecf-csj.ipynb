{
 "cells": [
  {
   "cell_type": "code",
   "execution_count": 1,
   "id": "d5bb6033",
   "metadata": {},
   "outputs": [
    {
     "name": "stderr",
     "output_type": "stream",
     "text": [
      "/Users/jensen/Desktop/recommendation-systems/projects/product-reviews-recommender/.venv/lib/python3.9/site-packages/gensim/similarities/__init__.py:15: UserWarning: The gensim.similarities.levenshtein submodule is disabled, because the optional Levenshtein package <https://pypi.org/project/python-Levenshtein/> is unavailable. Install Levenhstein (e.g. `pip install python-Levenshtein`) to suppress this warning.\n",
      "  warnings.warn(msg)\n"
     ]
    },
    {
     "name": "stdout",
     "output_type": "stream",
     "text": [
      "INFO: Pandarallel will run on 8 workers.\n",
      "INFO: Pandarallel will use standard multiprocessing data transfer (pipe) to transfer data between the main process and workers.\n"
     ]
    }
   ],
   "source": [
    "import numpy as np\n",
    "import pandas as pd\n",
    "import warnings\n",
    "\n",
    "from gensim.models.doc2vec import Doc2Vec\n",
    "from pandarallel import pandarallel\n",
    "from tqdm import tqdm\n",
    "\n",
    "from src.models import cf\n",
    "\n",
    "pandarallel.initialize()\n",
    "tqdm.pandas()\n",
    "warnings.filterwarnings('ignore')"
   ]
  },
  {
   "cell_type": "markdown",
   "id": "ccc8b955",
   "metadata": {},
   "source": [
    "# Load Data and Models"
   ]
  },
  {
   "cell_type": "code",
   "execution_count": 2,
   "id": "4026a31d",
   "metadata": {},
   "outputs": [],
   "source": [
    "# global variables\n",
    "DATA_PATH = \"data/evaluation\"\n",
    "D2V_PATH = \"models/d2v\"\n",
    "CATEGORY = \"Clothing_Shoes_and_Jewelry\"\n",
    "\n",
    "train = pd.read_csv(f\"{DATA_PATH}/{CATEGORY}_train.csv\")\n",
    "d2v = Doc2Vec.load(f\"{D2V_PATH}/{CATEGORY}_50_d2v.model\")"
   ]
  },
  {
   "cell_type": "code",
   "execution_count": 3,
   "id": "d310a929",
   "metadata": {},
   "outputs": [
    {
     "data": {
      "text/html": [
       "<div>\n",
       "<style scoped>\n",
       "    .dataframe tbody tr th:only-of-type {\n",
       "        vertical-align: middle;\n",
       "    }\n",
       "\n",
       "    .dataframe tbody tr th {\n",
       "        vertical-align: top;\n",
       "    }\n",
       "\n",
       "    .dataframe thead th {\n",
       "        text-align: right;\n",
       "    }\n",
       "</style>\n",
       "<table border=\"1\" class=\"dataframe\">\n",
       "  <thead>\n",
       "    <tr style=\"text-align: right;\">\n",
       "      <th></th>\n",
       "      <th>index</th>\n",
       "      <th>asin</th>\n",
       "      <th>title</th>\n",
       "      <th>categories</th>\n",
       "      <th>reviewerID</th>\n",
       "      <th>overall</th>\n",
       "      <th>reviewText</th>\n",
       "      <th>reviewTime</th>\n",
       "      <th>processedReviewText</th>\n",
       "    </tr>\n",
       "  </thead>\n",
       "  <tbody>\n",
       "    <tr>\n",
       "      <th>0</th>\n",
       "      <td>0</td>\n",
       "      <td>0000031887</td>\n",
       "      <td>Ballet Dress-Up Fairy Tutu</td>\n",
       "      <td>[['Clothing, Shoes &amp; Jewelry', 'Girls', 'Cloth...</td>\n",
       "      <td>A1KLRMWW2FWPL4</td>\n",
       "      <td>5.0</td>\n",
       "      <td>This is a great tutu and at a really great pri...</td>\n",
       "      <td>2011-02-12</td>\n",
       "      <td>great tutu great price look cheap glad look am...</td>\n",
       "    </tr>\n",
       "    <tr>\n",
       "      <th>1</th>\n",
       "      <td>1</td>\n",
       "      <td>0000031887</td>\n",
       "      <td>Ballet Dress-Up Fairy Tutu</td>\n",
       "      <td>[['Clothing, Shoes &amp; Jewelry', 'Girls', 'Cloth...</td>\n",
       "      <td>A2G5TCU2WDFZ65</td>\n",
       "      <td>5.0</td>\n",
       "      <td>I bought this for my 4 yr old daughter for dan...</td>\n",
       "      <td>2013-01-19</td>\n",
       "      <td>buy yr old daughter dance class wear today tim...</td>\n",
       "    </tr>\n",
       "    <tr>\n",
       "      <th>2</th>\n",
       "      <td>2</td>\n",
       "      <td>0000031887</td>\n",
       "      <td>Ballet Dress-Up Fairy Tutu</td>\n",
       "      <td>[['Clothing, Shoes &amp; Jewelry', 'Girls', 'Cloth...</td>\n",
       "      <td>A1RLQXYNCMWRWN</td>\n",
       "      <td>5.0</td>\n",
       "      <td>What can I say... my daughters have it in oran...</td>\n",
       "      <td>2013-01-04</td>\n",
       "      <td>daughter orange black white pink think buy fuc...</td>\n",
       "    </tr>\n",
       "    <tr>\n",
       "      <th>3</th>\n",
       "      <td>3</td>\n",
       "      <td>0000031887</td>\n",
       "      <td>Ballet Dress-Up Fairy Tutu</td>\n",
       "      <td>[['Clothing, Shoes &amp; Jewelry', 'Girls', 'Cloth...</td>\n",
       "      <td>A8U3FAMSJVHS5</td>\n",
       "      <td>5.0</td>\n",
       "      <td>We bought several tutus at once, and they are ...</td>\n",
       "      <td>2014-04-27</td>\n",
       "      <td>buy tutu high review sturdy seemingly girl wea...</td>\n",
       "    </tr>\n",
       "    <tr>\n",
       "      <th>4</th>\n",
       "      <td>4</td>\n",
       "      <td>0000031887</td>\n",
       "      <td>Ballet Dress-Up Fairy Tutu</td>\n",
       "      <td>[['Clothing, Shoes &amp; Jewelry', 'Girls', 'Cloth...</td>\n",
       "      <td>A3GEOILWLK86XM</td>\n",
       "      <td>5.0</td>\n",
       "      <td>Thank you Halo Heaven great product for Little...</td>\n",
       "      <td>2014-03-15</td>\n",
       "      <td>thank halo heaven great product little girls g...</td>\n",
       "    </tr>\n",
       "    <tr>\n",
       "      <th>176500</th>\n",
       "      <td>278257</td>\n",
       "      <td>B00JULS24Q</td>\n",
       "      <td>Buyinhouse Feeling Adorable Cute Pink Bowknot ...</td>\n",
       "      <td>[['Clothing, Shoes &amp; Jewelry', 'Novelty, Costu...</td>\n",
       "      <td>A2IQT5AFFXA1OM</td>\n",
       "      <td>4.0</td>\n",
       "      <td>This item is exactly as described but for some...</td>\n",
       "      <td>2014-05-21</td>\n",
       "      <td>item exactly described reason like person like...</td>\n",
       "    </tr>\n",
       "    <tr>\n",
       "      <th>176501</th>\n",
       "      <td>278290</td>\n",
       "      <td>B00K035Y08</td>\n",
       "      <td>Sakkas 197 Oasis Gauzy Crepe Sleeveless Blouse...</td>\n",
       "      <td>[['Clothing, Shoes &amp; Jewelry', 'Women', 'Cloth...</td>\n",
       "      <td>A1XWMGHBAPKOV3</td>\n",
       "      <td>5.0</td>\n",
       "      <td>Put on and it fit great easy care also.Would t...</td>\n",
       "      <td>2014-06-15</td>\n",
       "      <td>fit great easy care tell friend buy thank hawa...</td>\n",
       "    </tr>\n",
       "    <tr>\n",
       "      <th>176502</th>\n",
       "      <td>278297</td>\n",
       "      <td>B00K0352PU</td>\n",
       "      <td>Sakkas Paradise Embroidered Relaxed Fit Blouse</td>\n",
       "      <td>[['Clothing, Shoes &amp; Jewelry', 'Women', 'Cloth...</td>\n",
       "      <td>A3VTQB69FYGQDU</td>\n",
       "      <td>3.0</td>\n",
       "      <td>Before I washed the top it was extremely large...</td>\n",
       "      <td>2014-06-06</td>\n",
       "      <td>wash extremely large fit perfectly wash embroi...</td>\n",
       "    </tr>\n",
       "    <tr>\n",
       "      <th>176503</th>\n",
       "      <td>278316</td>\n",
       "      <td>B00K8J06CK</td>\n",
       "      <td>TrendzArt Azules Poly Span Floral Print Full L...</td>\n",
       "      <td>[['Clothing, Shoes &amp; Jewelry', 'Women', 'Cloth...</td>\n",
       "      <td>A241BLSJL8AGY</td>\n",
       "      <td>4.0</td>\n",
       "      <td>This maxi skirt was very nice material it fit ...</td>\n",
       "      <td>2014-06-20</td>\n",
       "      <td>maxi skirt nice material fit nicely color pret...</td>\n",
       "    </tr>\n",
       "    <tr>\n",
       "      <th>176504</th>\n",
       "      <td>278345</td>\n",
       "      <td>B00KF9180W</td>\n",
       "      <td>[2 PACK] Multi-Purpose Sports Balaclava - For ...</td>\n",
       "      <td>[['Clothing, Shoes &amp; Jewelry', 'Men', 'Accesso...</td>\n",
       "      <td>A2YKWYC3WQJX5J</td>\n",
       "      <td>5.0</td>\n",
       "      <td>This is truly a year round product. Here in th...</td>\n",
       "      <td>2014-06-21</td>\n",
       "      <td>truly year round product midwest summer use ba...</td>\n",
       "    </tr>\n",
       "  </tbody>\n",
       "</table>\n",
       "</div>"
      ],
      "text/plain": [
       "         index        asin                                              title  \\\n",
       "0            0  0000031887                         Ballet Dress-Up Fairy Tutu   \n",
       "1            1  0000031887                         Ballet Dress-Up Fairy Tutu   \n",
       "2            2  0000031887                         Ballet Dress-Up Fairy Tutu   \n",
       "3            3  0000031887                         Ballet Dress-Up Fairy Tutu   \n",
       "4            4  0000031887                         Ballet Dress-Up Fairy Tutu   \n",
       "176500  278257  B00JULS24Q  Buyinhouse Feeling Adorable Cute Pink Bowknot ...   \n",
       "176501  278290  B00K035Y08  Sakkas 197 Oasis Gauzy Crepe Sleeveless Blouse...   \n",
       "176502  278297  B00K0352PU     Sakkas Paradise Embroidered Relaxed Fit Blouse   \n",
       "176503  278316  B00K8J06CK  TrendzArt Azules Poly Span Floral Print Full L...   \n",
       "176504  278345  B00KF9180W  [2 PACK] Multi-Purpose Sports Balaclava - For ...   \n",
       "\n",
       "                                               categories      reviewerID  \\\n",
       "0       [['Clothing, Shoes & Jewelry', 'Girls', 'Cloth...  A1KLRMWW2FWPL4   \n",
       "1       [['Clothing, Shoes & Jewelry', 'Girls', 'Cloth...  A2G5TCU2WDFZ65   \n",
       "2       [['Clothing, Shoes & Jewelry', 'Girls', 'Cloth...  A1RLQXYNCMWRWN   \n",
       "3       [['Clothing, Shoes & Jewelry', 'Girls', 'Cloth...   A8U3FAMSJVHS5   \n",
       "4       [['Clothing, Shoes & Jewelry', 'Girls', 'Cloth...  A3GEOILWLK86XM   \n",
       "176500  [['Clothing, Shoes & Jewelry', 'Novelty, Costu...  A2IQT5AFFXA1OM   \n",
       "176501  [['Clothing, Shoes & Jewelry', 'Women', 'Cloth...  A1XWMGHBAPKOV3   \n",
       "176502  [['Clothing, Shoes & Jewelry', 'Women', 'Cloth...  A3VTQB69FYGQDU   \n",
       "176503  [['Clothing, Shoes & Jewelry', 'Women', 'Cloth...   A241BLSJL8AGY   \n",
       "176504  [['Clothing, Shoes & Jewelry', 'Men', 'Accesso...  A2YKWYC3WQJX5J   \n",
       "\n",
       "        overall                                         reviewText  \\\n",
       "0           5.0  This is a great tutu and at a really great pri...   \n",
       "1           5.0  I bought this for my 4 yr old daughter for dan...   \n",
       "2           5.0  What can I say... my daughters have it in oran...   \n",
       "3           5.0  We bought several tutus at once, and they are ...   \n",
       "4           5.0  Thank you Halo Heaven great product for Little...   \n",
       "176500      4.0  This item is exactly as described but for some...   \n",
       "176501      5.0  Put on and it fit great easy care also.Would t...   \n",
       "176502      3.0  Before I washed the top it was extremely large...   \n",
       "176503      4.0  This maxi skirt was very nice material it fit ...   \n",
       "176504      5.0  This is truly a year round product. Here in th...   \n",
       "\n",
       "        reviewTime                                processedReviewText  \n",
       "0       2011-02-12  great tutu great price look cheap glad look am...  \n",
       "1       2013-01-19  buy yr old daughter dance class wear today tim...  \n",
       "2       2013-01-04  daughter orange black white pink think buy fuc...  \n",
       "3       2014-04-27  buy tutu high review sturdy seemingly girl wea...  \n",
       "4       2014-03-15  thank halo heaven great product little girls g...  \n",
       "176500  2014-05-21  item exactly described reason like person like...  \n",
       "176501  2014-06-15  fit great easy care tell friend buy thank hawa...  \n",
       "176502  2014-06-06  wash extremely large fit perfectly wash embroi...  \n",
       "176503  2014-06-20  maxi skirt nice material fit nicely color pret...  \n",
       "176504  2014-06-21  truly year round product midwest summer use ba...  "
      ]
     },
     "execution_count": 3,
     "metadata": {},
     "output_type": "execute_result"
    }
   ],
   "source": [
    "# checking train dataframe\n",
    "train.head().append(train.tail())"
   ]
  },
  {
   "cell_type": "code",
   "execution_count": 4,
   "id": "55810656",
   "metadata": {},
   "outputs": [
    {
     "data": {
      "text/plain": [
       "array([ 5.1905590e-01, -1.8664794e-02,  3.6558089e-01,  2.1327564e-01,\n",
       "       -1.2871456e-01, -6.6470662e-03,  8.4289604e-01,  3.3393204e-01,\n",
       "       -1.5057931e+00, -1.6294066e-03,  3.7197164e-01,  2.6250139e-01,\n",
       "       -1.0654725e+00, -5.2654725e-01, -1.3182850e+00,  4.3912196e-01,\n",
       "        7.9720378e-01,  2.8077942e-01, -8.1759244e-01, -1.0747051e+00,\n",
       "       -1.4533414e-01,  4.2795819e-01,  9.3902397e-01,  1.1115754e+00,\n",
       "        1.6438978e+00,  1.3701128e+00,  3.3023664e-01, -3.3916229e-01,\n",
       "       -6.3672036e-02,  4.8618659e-01,  3.0647725e-01,  8.2723975e-01,\n",
       "       -4.7669479e-01, -1.3936814e-02, -1.3913001e+00,  1.2560036e+00,\n",
       "        2.0797744e+00,  8.0265391e-01,  7.8117311e-01,  2.2114015e+00,\n",
       "        8.6191636e-01,  2.7219886e-01, -8.0978021e-02, -9.9884219e-02,\n",
       "        2.2644877e+00, -8.0019486e-01,  1.3349795e-02, -8.4338784e-02,\n",
       "       -1.2035748e+00,  6.8047214e-01], dtype=float32)"
      ]
     },
     "execution_count": 4,
     "metadata": {},
     "output_type": "execute_result"
    }
   ],
   "source": [
    "# testing d2v models\n",
    "d2v.dv[0]"
   ]
  },
  {
   "cell_type": "markdown",
   "id": "54d8e9ff",
   "metadata": {},
   "source": [
    "# Generate User Embeddings"
   ]
  },
  {
   "cell_type": "code",
   "execution_count": 5,
   "id": "5ce0b98c",
   "metadata": {},
   "outputs": [
    {
     "name": "stderr",
     "output_type": "stream",
     "text": [
      "100%|██████████████████████████████████████████████████████| 39386/39386 [00:00<00:00, 64156.19it/s]"
     ]
    },
    {
     "name": "stdout",
     "output_type": "stream",
     "text": [
      "reviewerID\n",
      "A001114613O3F18Q5NVR6     [B0016JNS44, B001T54XA8, B004AZXO1I, B004QJWKLS]\n",
      "A00146182PNM90WNNAZ5Q     [B000JJX7C0, B000MX3SH2, B003CO205E, B008JXDFCU]\n",
      "A00165422B2GAUE3EL6Z0     [B007WADN4G, B007WAEBPQ, B007WAT3I6, B008G51WHQ]\n",
      "A00338282E99B8OR2JYTZ                 [B002FA5B8O, B003F06XQW, B00768LFYY]\n",
      "A00354001GE099Q1FL0TU                 [B00387EEYA, B003RYZY8E, B0058XN9ZC]\n",
      "                                               ...                        \n",
      "AZZMQ85DPFEG3            [B0007KPPAI, B005EYUQ7E, B005VEMVI4, B007LOTZ5...\n",
      "AZZNK89PXD006                         [B000KGOHLM, B005C3DH00, B005PQPLLC]\n",
      "AZZT1ERHBSNQ8            [B000UANLGU, B002ATSG8C, B002UTJVMM, B007P83XJ...\n",
      "AZZTOUKVTUMVM             [B000196UJ0, B009GE3XQ4, B00C2DJ66C, B00C4NV6LS]\n",
      "AZZYW4YOE1B6E                         [B003V4AKTS, B004G8GOW0, B007LTV82W]\n",
      "Name: asin, Length: 39386, dtype: object\n"
     ]
    },
    {
     "name": "stderr",
     "output_type": "stream",
     "text": [
      "\n"
     ]
    }
   ],
   "source": [
    "# get user rating history\n",
    "train_user_rating_history = train.groupby([\"reviewerID\"])[\"asin\"].progress_apply(list)\n",
    "print(train_user_rating_history)"
   ]
  },
  {
   "cell_type": "code",
   "execution_count": 6,
   "id": "44201966",
   "metadata": {},
   "outputs": [],
   "source": [
    "def generate_user_embeddings(user_rating_history: pd.DataFrame, d2v: Doc2Vec) -> dict:\n",
    "    \"\"\"\n",
    "    \n",
    "    Args:\n",
    "        unique_users ([list]):\n",
    "        d2v ([Doc2Vec]):\n",
    "    \"\"\"\n",
    "    \n",
    "    # generate unique users\n",
    "    unique_users = user_rating_history.reset_index()[\"reviewerID\"].tolist()\n",
    "    \n",
    "    user_embeddings = {}\n",
    "    for user in tqdm(unique_users):\n",
    "        user_embedding = np.zeros(50)\n",
    "        for item in user_rating_history[user]:\n",
    "            user_embedding += d2v.dv[item]\n",
    "            \n",
    "        # computing mean aggregation\n",
    "        user_embedding /= len(user_rating_history[user])\n",
    "        user_embeddings[user] = user_embedding\n",
    "        \n",
    "    return user_embeddings"
   ]
  },
  {
   "cell_type": "code",
   "execution_count": 7,
   "id": "93d7d17d",
   "metadata": {},
   "outputs": [
    {
     "name": "stderr",
     "output_type": "stream",
     "text": [
      "100%|██████████████████████████████████████████████████████| 39386/39386 [00:01<00:00, 34280.59it/s]\n"
     ]
    }
   ],
   "source": [
    "train_user_embeddings = generate_user_embeddings(train_user_rating_history, d2v)"
   ]
  },
  {
   "cell_type": "markdown",
   "id": "e5a513b1",
   "metadata": {},
   "source": [
    "# Utility Functions"
   ]
  },
  {
   "cell_type": "code",
   "execution_count": 8,
   "id": "4417ea1c",
   "metadata": {},
   "outputs": [],
   "source": [
    "def get_top_n(predictions: dict, user_rating_history: pd.DataFrame, n=10) -> dict:\n",
    "    \"\"\"Return the top-N recommendations for each user based on cosine similarity.\n",
    "    \n",
    "    Args:\n",
    "        d2v ([Doc2Vec]): Doc2Vec of item representations based on reviews.\n",
    "        user_rating_history ([dict]): \"Future\" purchases aggregated by users based on\n",
    "            test set.\n",
    "    \n",
    "    Returns:\n",
    "        ([dict]): A dictionary of top-N recommendations for each unique user, sorted by\n",
    "            cosine similarties.\n",
    "    \"\"\"\n",
    "    \n",
    "    # retrieve a 200 items candidate list based on similarities\n",
    "    top_ns = {}\n",
    "    for user in predictions:\n",
    "        rated_items = user_rating_history[user]\n",
    "        candidate_items = [i[0] for i in predictions[user]]\n",
    "        unrated_items = set(candidate_items) - set(rated_items)\n",
    "        \n",
    "        user_top_n = []\n",
    "        idx = 0\n",
    "        while len(user_top_n) < n:\n",
    "            if candidate_items[idx] in unrated_items:\n",
    "                user_top_n.append(candidate_items[idx])\n",
    "                idx += 1\n",
    "            else:\n",
    "                idx += 1\n",
    "        \n",
    "        top_ns[user] = user_top_n\n",
    "        \n",
    "    return top_ns\n",
    "\n",
    "def recall_at_k(asins, predicted_asins, k=10):\n",
    "    # number of relevant items\n",
    "    set_actual = set(asins)\n",
    "    set_preds = set(predicted_asins)\n",
    "    num_relevant = len(set_actual.intersection(set_preds))\n",
    "    \n",
    "    # calculating recall@K - relevant / total relevant items\n",
    "    recall_at_k = num_relevant / len(asins)\n",
    "    \n",
    "    return recall_at_k\n",
    "\n",
    "def novelty_at_k(item_popularity, predicted_asins, k=10):\n",
    "    \"\"\"\n",
    "    \"\"\"\n",
    "    # finding avg novelty\n",
    "    popularity_sum = item_popularity.loc[predicted_asins].sum()\n",
    "    novelty_at_k = ((k*1) - popularity_sum) / k\n",
    "    \n",
    "    return novelty_at_k\n",
    "\n",
    "def generate_item_popularity(train: pd.DataFrame) -> pd.DataFrame:\n",
    "    \"\"\"\n",
    "    \"\"\"\n",
    "    \n",
    "    # create a mapping of item popularatity\n",
    "    # based on sum(item's review / max reviews) / no items\n",
    "    max_reviews = (train.groupby(['asin'])\n",
    "                   .agg({'processedReviewText': 'count'})\n",
    "                   .max()\n",
    "                   .values[0])\n",
    "    item_popularity = (train.groupby(['asin'])\n",
    "                       .agg({'processedReviewText': 'count'})\n",
    "                       .apply(lambda x: x/max_reviews))\n",
    "    \n",
    "    return item_popularity\n",
    "    \n",
    "\n",
    "def evaluate_recommendations(top_ns: dict, user_rating_history: pd.DataFrame, item_popularity: pd.DataFrame, k=10) -> pd.DataFrame:\n",
    "    \"\"\"\n",
    "    \n",
    "    Args:\n",
    "        top_ns\n",
    "        user_rating_history\n",
    "    \"\"\"\n",
    "    \n",
    "    test_recommendations = pd.DataFrame(top_ns.items(), columns=[\"reviewerID\", \"pred_asin\"])\n",
    "    \n",
    "    # combined test history and recommendations\n",
    "    test_merged = pd.merge(user_rating_history, test_recommendations, on=\"reviewerID\", how=\"inner\")\n",
    "    \n",
    "    # generating recall@k metrics\n",
    "    test_merged[\"recall@k\"] = test_merged.apply(lambda x: recall_at_k(x.asin, x.pred_asin, k=k), axis=1)\n",
    "    test_merged[\"novelty@k\"] = test_merged.apply(lambda x: novelty_at_k(item_popularity, x.pred_asin, k=k), axis=1)\n",
    "    average_recall_at_k = test_merged[\"recall@k\"].mean()\n",
    "    average_novelty_at_k = test_merged[\"novelty@k\"].mean()\n",
    "    \n",
    "    print(f\"The MEM-ECF has an average recall@{k}: {average_recall_at_k:.5f}, average novelty@{k}: {average_novelty_at_k:.5f}\")\n",
    "    \n",
    "    return test_merged"
   ]
  },
  {
   "cell_type": "markdown",
   "id": "d7900a33",
   "metadata": {},
   "source": [
    "# Generate N-Recommendations = {10, 25, 30, 45}"
   ]
  },
  {
   "cell_type": "markdown",
   "id": "68c53c10",
   "metadata": {},
   "source": [
    "## Load Test Data"
   ]
  },
  {
   "cell_type": "code",
   "execution_count": 9,
   "id": "779da8b3",
   "metadata": {},
   "outputs": [],
   "source": [
    "test = pd.read_csv(f\"{DATA_PATH}/{CATEGORY}_test.csv\")"
   ]
  },
  {
   "cell_type": "code",
   "execution_count": 10,
   "id": "a667ee13",
   "metadata": {},
   "outputs": [
    {
     "data": {
      "text/html": [
       "<div>\n",
       "<style scoped>\n",
       "    .dataframe tbody tr th:only-of-type {\n",
       "        vertical-align: middle;\n",
       "    }\n",
       "\n",
       "    .dataframe tbody tr th {\n",
       "        vertical-align: top;\n",
       "    }\n",
       "\n",
       "    .dataframe thead th {\n",
       "        text-align: right;\n",
       "    }\n",
       "</style>\n",
       "<table border=\"1\" class=\"dataframe\">\n",
       "  <thead>\n",
       "    <tr style=\"text-align: right;\">\n",
       "      <th></th>\n",
       "      <th>index</th>\n",
       "      <th>asin</th>\n",
       "      <th>title</th>\n",
       "      <th>categories</th>\n",
       "      <th>reviewerID</th>\n",
       "      <th>overall</th>\n",
       "      <th>reviewText</th>\n",
       "      <th>reviewTime</th>\n",
       "      <th>processedReviewText</th>\n",
       "    </tr>\n",
       "  </thead>\n",
       "  <tbody>\n",
       "    <tr>\n",
       "      <th>0</th>\n",
       "      <td>6</td>\n",
       "      <td>0000031887</td>\n",
       "      <td>Ballet Dress-Up Fairy Tutu</td>\n",
       "      <td>[['Clothing, Shoes &amp; Jewelry', 'Girls', 'Cloth...</td>\n",
       "      <td>A16GFPNVF4Y816</td>\n",
       "      <td>5.0</td>\n",
       "      <td>Bought this as a backup to the regular ballet ...</td>\n",
       "      <td>2014-05-03</td>\n",
       "      <td>bought backup regular ballet outfit daughter w...</td>\n",
       "    </tr>\n",
       "    <tr>\n",
       "      <th>1</th>\n",
       "      <td>17</td>\n",
       "      <td>0000031887</td>\n",
       "      <td>Ballet Dress-Up Fairy Tutu</td>\n",
       "      <td>[['Clothing, Shoes &amp; Jewelry', 'Girls', 'Cloth...</td>\n",
       "      <td>A2XJ13PIXVJFJH</td>\n",
       "      <td>1.0</td>\n",
       "      <td>Never GOT this item - but gave a 1 STAR becaus...</td>\n",
       "      <td>2014-05-12</td>\n",
       "      <td>item star reply supplier great try send item r...</td>\n",
       "    </tr>\n",
       "    <tr>\n",
       "      <th>2</th>\n",
       "      <td>23</td>\n",
       "      <td>0123456479</td>\n",
       "      <td>SHINING IMAGE HUGE PINK LEATHER JEWELRY BOX / ...</td>\n",
       "      <td>[['Clothing, Shoes &amp; Jewelry', 'Novelty, Costu...</td>\n",
       "      <td>A2WNN1DQVL4LH5</td>\n",
       "      <td>5.0</td>\n",
       "      <td>The minute I saw this my heart skipped a beat....</td>\n",
       "      <td>2013-11-07</td>\n",
       "      <td>minute saw heart skip beat nice case sort coll...</td>\n",
       "    </tr>\n",
       "    <tr>\n",
       "      <th>3</th>\n",
       "      <td>24</td>\n",
       "      <td>0123456479</td>\n",
       "      <td>SHINING IMAGE HUGE PINK LEATHER JEWELRY BOX / ...</td>\n",
       "      <td>[['Clothing, Shoes &amp; Jewelry', 'Novelty, Costu...</td>\n",
       "      <td>A1ZPOCG2ST2CY3</td>\n",
       "      <td>5.0</td>\n",
       "      <td>Love this Jewelry Box  so well put together ho...</td>\n",
       "      <td>2014-01-19</td>\n",
       "      <td>love jewelry box hold plendy love pink look ni...</td>\n",
       "    </tr>\n",
       "    <tr>\n",
       "      <th>4</th>\n",
       "      <td>27</td>\n",
       "      <td>0123456479</td>\n",
       "      <td>SHINING IMAGE HUGE PINK LEATHER JEWELRY BOX / ...</td>\n",
       "      <td>[['Clothing, Shoes &amp; Jewelry', 'Novelty, Costu...</td>\n",
       "      <td>A1JC50F14SLAEV</td>\n",
       "      <td>3.0</td>\n",
       "      <td>I wanted to have the title summarize my though...</td>\n",
       "      <td>2014-05-12</td>\n",
       "      <td>want title summarize thought decide read entir...</td>\n",
       "    </tr>\n",
       "    <tr>\n",
       "      <th>99497</th>\n",
       "      <td>278341</td>\n",
       "      <td>B00KF9180W</td>\n",
       "      <td>[2 PACK] Multi-Purpose Sports Balaclava - For ...</td>\n",
       "      <td>[['Clothing, Shoes &amp; Jewelry', 'Men', 'Accesso...</td>\n",
       "      <td>A1EVV74UQYVKRY</td>\n",
       "      <td>4.0</td>\n",
       "      <td>I go walking a lot in all kinds of weather and...</td>\n",
       "      <td>2014-06-16</td>\n",
       "      <td>walk lot kind weather know lot like block cold...</td>\n",
       "    </tr>\n",
       "    <tr>\n",
       "      <th>99498</th>\n",
       "      <td>278342</td>\n",
       "      <td>B00KF9180W</td>\n",
       "      <td>[2 PACK] Multi-Purpose Sports Balaclava - For ...</td>\n",
       "      <td>[['Clothing, Shoes &amp; Jewelry', 'Men', 'Accesso...</td>\n",
       "      <td>ABUE0ALHKWKHC</td>\n",
       "      <td>5.0</td>\n",
       "      <td>This two pack of Balaclavas makes for a very n...</td>\n",
       "      <td>2014-06-09</td>\n",
       "      <td>pack balaclava nice purchase balaclava fit snu...</td>\n",
       "    </tr>\n",
       "    <tr>\n",
       "      <th>99499</th>\n",
       "      <td>278343</td>\n",
       "      <td>B00KF9180W</td>\n",
       "      <td>[2 PACK] Multi-Purpose Sports Balaclava - For ...</td>\n",
       "      <td>[['Clothing, Shoes &amp; Jewelry', 'Men', 'Accesso...</td>\n",
       "      <td>A1PI8VBCXXSGC7</td>\n",
       "      <td>5.0</td>\n",
       "      <td>Well, the first thing I did was try the balacl...</td>\n",
       "      <td>2014-06-13</td>\n",
       "      <td>thing try balaclava hubby try fit average size...</td>\n",
       "    </tr>\n",
       "    <tr>\n",
       "      <th>99500</th>\n",
       "      <td>278344</td>\n",
       "      <td>B00KF9180W</td>\n",
       "      <td>[2 PACK] Multi-Purpose Sports Balaclava - For ...</td>\n",
       "      <td>[['Clothing, Shoes &amp; Jewelry', 'Men', 'Accesso...</td>\n",
       "      <td>A2XX2A4OJCDNLZ</td>\n",
       "      <td>5.0</td>\n",
       "      <td>While balaclavas can be used for a variety of ...</td>\n",
       "      <td>2014-06-13</td>\n",
       "      <td>balaclava use variety thing use mainly late fa...</td>\n",
       "    </tr>\n",
       "    <tr>\n",
       "      <th>99501</th>\n",
       "      <td>278346</td>\n",
       "      <td>B00KF9180W</td>\n",
       "      <td>[2 PACK] Multi-Purpose Sports Balaclava - For ...</td>\n",
       "      <td>[['Clothing, Shoes &amp; Jewelry', 'Men', 'Accesso...</td>\n",
       "      <td>A3UJRNI8UR4871</td>\n",
       "      <td>4.0</td>\n",
       "      <td>Nice material, but not as nice as  silk or mer...</td>\n",
       "      <td>2014-06-09</td>\n",
       "      <td>nice material nice silk merino wool course mat...</td>\n",
       "    </tr>\n",
       "  </tbody>\n",
       "</table>\n",
       "</div>"
      ],
      "text/plain": [
       "        index        asin                                              title  \\\n",
       "0           6  0000031887                         Ballet Dress-Up Fairy Tutu   \n",
       "1          17  0000031887                         Ballet Dress-Up Fairy Tutu   \n",
       "2          23  0123456479  SHINING IMAGE HUGE PINK LEATHER JEWELRY BOX / ...   \n",
       "3          24  0123456479  SHINING IMAGE HUGE PINK LEATHER JEWELRY BOX / ...   \n",
       "4          27  0123456479  SHINING IMAGE HUGE PINK LEATHER JEWELRY BOX / ...   \n",
       "99497  278341  B00KF9180W  [2 PACK] Multi-Purpose Sports Balaclava - For ...   \n",
       "99498  278342  B00KF9180W  [2 PACK] Multi-Purpose Sports Balaclava - For ...   \n",
       "99499  278343  B00KF9180W  [2 PACK] Multi-Purpose Sports Balaclava - For ...   \n",
       "99500  278344  B00KF9180W  [2 PACK] Multi-Purpose Sports Balaclava - For ...   \n",
       "99501  278346  B00KF9180W  [2 PACK] Multi-Purpose Sports Balaclava - For ...   \n",
       "\n",
       "                                              categories      reviewerID  \\\n",
       "0      [['Clothing, Shoes & Jewelry', 'Girls', 'Cloth...  A16GFPNVF4Y816   \n",
       "1      [['Clothing, Shoes & Jewelry', 'Girls', 'Cloth...  A2XJ13PIXVJFJH   \n",
       "2      [['Clothing, Shoes & Jewelry', 'Novelty, Costu...  A2WNN1DQVL4LH5   \n",
       "3      [['Clothing, Shoes & Jewelry', 'Novelty, Costu...  A1ZPOCG2ST2CY3   \n",
       "4      [['Clothing, Shoes & Jewelry', 'Novelty, Costu...  A1JC50F14SLAEV   \n",
       "99497  [['Clothing, Shoes & Jewelry', 'Men', 'Accesso...  A1EVV74UQYVKRY   \n",
       "99498  [['Clothing, Shoes & Jewelry', 'Men', 'Accesso...   ABUE0ALHKWKHC   \n",
       "99499  [['Clothing, Shoes & Jewelry', 'Men', 'Accesso...  A1PI8VBCXXSGC7   \n",
       "99500  [['Clothing, Shoes & Jewelry', 'Men', 'Accesso...  A2XX2A4OJCDNLZ   \n",
       "99501  [['Clothing, Shoes & Jewelry', 'Men', 'Accesso...  A3UJRNI8UR4871   \n",
       "\n",
       "       overall                                         reviewText  reviewTime  \\\n",
       "0          5.0  Bought this as a backup to the regular ballet ...  2014-05-03   \n",
       "1          1.0  Never GOT this item - but gave a 1 STAR becaus...  2014-05-12   \n",
       "2          5.0  The minute I saw this my heart skipped a beat....  2013-11-07   \n",
       "3          5.0  Love this Jewelry Box  so well put together ho...  2014-01-19   \n",
       "4          3.0  I wanted to have the title summarize my though...  2014-05-12   \n",
       "99497      4.0  I go walking a lot in all kinds of weather and...  2014-06-16   \n",
       "99498      5.0  This two pack of Balaclavas makes for a very n...  2014-06-09   \n",
       "99499      5.0  Well, the first thing I did was try the balacl...  2014-06-13   \n",
       "99500      5.0  While balaclavas can be used for a variety of ...  2014-06-13   \n",
       "99501      4.0  Nice material, but not as nice as  silk or mer...  2014-06-09   \n",
       "\n",
       "                                     processedReviewText  \n",
       "0      bought backup regular ballet outfit daughter w...  \n",
       "1      item star reply supplier great try send item r...  \n",
       "2      minute saw heart skip beat nice case sort coll...  \n",
       "3      love jewelry box hold plendy love pink look ni...  \n",
       "4      want title summarize thought decide read entir...  \n",
       "99497  walk lot kind weather know lot like block cold...  \n",
       "99498  pack balaclava nice purchase balaclava fit snu...  \n",
       "99499  thing try balaclava hubby try fit average size...  \n",
       "99500  balaclava use variety thing use mainly late fa...  \n",
       "99501  nice material nice silk merino wool course mat...  "
      ]
     },
     "execution_count": 10,
     "metadata": {},
     "output_type": "execute_result"
    }
   ],
   "source": [
    "test.head().append(test.tail())"
   ]
  },
  {
   "cell_type": "code",
   "execution_count": 11,
   "id": "cd568ec2",
   "metadata": {},
   "outputs": [],
   "source": [
    "# generating test history\n",
    "test_user_history = (pd.DataFrame(test.groupby(['reviewerID'])['asin']\n",
    "                                  .apply(list).reset_index()))"
   ]
  },
  {
   "cell_type": "code",
   "execution_count": 12,
   "id": "7a799a6a",
   "metadata": {},
   "outputs": [
    {
     "name": "stdout",
     "output_type": "stream",
     "text": [
      "                  reviewerID                                              asin\n",
      "0      A001114613O3F18Q5NVR6              [B000J6ZYL0, B005BXP7R2, B0093STGGO]\n",
      "1      A00146182PNM90WNNAZ5Q              [B006Y4QDVQ, B00823Y41S, B00BQJV1LG]\n",
      "2      A00165422B2GAUE3EL6Z0                          [B008SBGKP2, B00BLW2PZY]\n",
      "3      A00338282E99B8OR2JYTZ                          [B003F8BKGW, B00DVFNNQE]\n",
      "4      A00354001GE099Q1FL0TU                          [B0058YTOP0, B00BTWAZ0I]\n",
      "...                      ...                                               ...\n",
      "39358          AZZMQ85DPFEG3  [B000S7O8AS, B009N0CSXU, B00CKGB85I, B00DUW4VAA]\n",
      "39359          AZZNK89PXD006                          [B004L7J7IO, B008ZBPQJ6]\n",
      "39360          AZZT1ERHBSNQ8              [B00856U6BE, B0089GNZNQ, B00CPK44DM]\n",
      "39361          AZZTOUKVTUMVM                          [B000VL04LS, B0053XF2U2]\n",
      "39362          AZZYW4YOE1B6E                          [B007UNSF3O, B008J4RESK]\n",
      "\n",
      "[39363 rows x 2 columns]\n"
     ]
    }
   ],
   "source": [
    "print(test_user_history)"
   ]
  },
  {
   "cell_type": "markdown",
   "id": "9290464f",
   "metadata": {},
   "source": [
    "## Instantiate Memory-based Embedding CF (Item-based)"
   ]
  },
  {
   "cell_type": "code",
   "execution_count": 13,
   "id": "33206ceb",
   "metadata": {},
   "outputs": [],
   "source": [
    "mem_ecf = cf.EmbeddedItemBasedCF(d2v)"
   ]
  },
  {
   "cell_type": "code",
   "execution_count": 14,
   "id": "33c20ea3",
   "metadata": {},
   "outputs": [
    {
     "name": "stderr",
     "output_type": "stream",
     "text": [
      "100%|██████████████████████████████████████████████████████| 39386/39386 [00:01<00:00, 32447.20it/s]\n"
     ]
    }
   ],
   "source": [
    "# fit learning algorithm to training data\n",
    "mem_ecf.fit(train)"
   ]
  },
  {
   "cell_type": "code",
   "execution_count": 15,
   "id": "d63d8435",
   "metadata": {},
   "outputs": [
    {
     "name": "stderr",
     "output_type": "stream",
     "text": [
      "100%|███████████████████████████████████████████████████████| 39386/39386 [00:28<00:00, 1398.69it/s]\n"
     ]
    }
   ],
   "source": [
    "# generate n-number of candidates items (200)\n",
    "candidate_items = mem_ecf.test()"
   ]
  },
  {
   "cell_type": "markdown",
   "id": "bd02102f",
   "metadata": {},
   "source": [
    "## Loop through N = {10, 25, 30, 45}"
   ]
  },
  {
   "cell_type": "code",
   "execution_count": 16,
   "id": "bc3bc2fa",
   "metadata": {},
   "outputs": [],
   "source": [
    "# generate item popularity\n",
    "item_popularity = generate_item_popularity(train)"
   ]
  },
  {
   "cell_type": "code",
   "execution_count": 17,
   "id": "71184af5",
   "metadata": {},
   "outputs": [
    {
     "name": "stdout",
     "output_type": "stream",
     "text": [
      "The MEM-ECF has an average recall@10: 0.01172, average novelty@10: 0.97791\n",
      "The MEM-ECF has an average recall@25: 0.02399, average novelty@25: 0.97883\n",
      "The MEM-ECF has an average recall@30: 0.02740, average novelty@30: 0.97905\n",
      "The MEM-ECF has an average recall@45: 0.03610, average novelty@45: 0.97953\n"
     ]
    }
   ],
   "source": [
    "n_recommendations = {}\n",
    "for n in [10, 25, 30, 45]:\n",
    "    # retrieve the top-n items based on similarities\n",
    "    top_ns = get_top_n(candidate_items, mem_ecf.user_rating_history, n)\n",
    "    # evaluate how well the recommended items predicted the future purchases\n",
    "    n_recommended_items = evaluate_recommendations(top_ns, test_user_history, item_popularity, n)\n",
    "    # saving the n-value and recommended items\n",
    "    n_recommendations[n] = (top_ns, n_recommended_items)"
   ]
  },
  {
   "cell_type": "markdown",
   "id": "ccb14b27",
   "metadata": {},
   "source": [
    "# Evaluate N-Recommendations"
   ]
  },
  {
   "cell_type": "code",
   "execution_count": 18,
   "id": "4a194f34",
   "metadata": {},
   "outputs": [],
   "source": [
    "def retrieve_recommendations(train: pd.DataFrame, top_ns: dict):\n",
    "    \"\"\"\n",
    "    \"\"\"\n",
    "    # generating a random user\n",
    "    random_user = np.random.choice(list(train['reviewerID'].unique()), 1)[0]\n",
    "    print(f\"For user: {random_user}:\")\n",
    "    print(f\"Purchase History:\\n{train[train['reviewerID'] == random_user][['asin', 'title']]}\")\n",
    "\n",
    "    # find the recommendations\n",
    "    print(f\"\\nRecommending:\\n\")\n",
    "    recommendations = (train[train['asin']\n",
    "                             .isin(top_ns[random_user])][['asin', 'title']]\n",
    "                       .drop_duplicates(subset='asin')\n",
    "                       .set_index('asin'))\n",
    "    print(f\"{recommendations.loc[top_ns[random_user]].reset_index()}\")"
   ]
  },
  {
   "cell_type": "markdown",
   "id": "d844dcb0",
   "metadata": {},
   "source": [
    "## N=10"
   ]
  },
  {
   "cell_type": "code",
   "execution_count": 19,
   "id": "2534229a",
   "metadata": {},
   "outputs": [],
   "source": [
    "top_ns_10 = n_recommendations[10][0]"
   ]
  },
  {
   "cell_type": "code",
   "execution_count": 20,
   "id": "14bf8c9b",
   "metadata": {},
   "outputs": [
    {
     "name": "stdout",
     "output_type": "stream",
     "text": [
      "For user: A3O9GI4D85UIVA:\n",
      "Purchase History:\n",
      "              asin                                              title\n",
      "89231   B0049PMHTO                   Black Military Wool Glove Liners\n",
      "106992  B0057F9JYG  Columbia Sportswear Women's Descender Trail Ru...\n",
      "108767  B00594LZNI        Vivobarefoot Women's Neo Trail Running Shoe\n",
      "\n",
      "Recommending:\n",
      "\n",
      "         asin                                              title\n",
      "0  B000HKPFS0                Black GI Polypropylene Glove Liners\n",
      "1  B0000DYNCP               Smartwool Trekking Heavy, Crew beige\n",
      "2  B002YN977I  Darn Tough Vermont Merino Wool Mountaineering ...\n",
      "3  B0009MZVO4    Thorlo Women's Lite Running Mini Ankle-Cut Sock\n",
      "4  B0000DYNCD            Smartwool Men's Hiking Medium Crew Sock\n",
      "5  B001H0FE2G                  Isotoner Women's Solid Knit Glove\n",
      "6  B0009MZXT2          Thorlo Men's Wool/Silk Lt Hiker Crew Sock\n",
      "7  B0009MZW2A  Thorlo Women's Moderate Cushion Light  Hiking ...\n",
      "8  B000W8UUW8                         Sorel Women's Glacier Boot\n",
      "9  B00011VJ7Q        Wigwam Men's Hiking/Outdoor Pro Length Sock\n"
     ]
    }
   ],
   "source": [
    "retrieve_recommendations(train, top_ns_10)"
   ]
  },
  {
   "cell_type": "markdown",
   "id": "08d04ced",
   "metadata": {},
   "source": [
    "## N=25"
   ]
  },
  {
   "cell_type": "code",
   "execution_count": 21,
   "id": "52278122",
   "metadata": {},
   "outputs": [],
   "source": [
    "top_ns_25 = n_recommendations[25][0]"
   ]
  },
  {
   "cell_type": "code",
   "execution_count": 22,
   "id": "0fe585b0",
   "metadata": {},
   "outputs": [
    {
     "name": "stdout",
     "output_type": "stream",
     "text": [
      "For user: A1BJ7X0KD3URX4:\n",
      "Purchase History:\n",
      "             asin                                              title\n",
      "17292  B000EZTOYO                 Birkenstock Gizeh Birko-Flor Thong\n",
      "32836  B000UK0Q6I  Cocoons Fitovers Polarized Sunglasses Mini Sli...\n",
      "53824  B001SN8BLS  Skechers Women's Shape Ups - Sleek Fit Fitness...\n",
      "93013  B004HHUNI6                    Clarks Women's May Poppy Loafer\n",
      "\n",
      "Recommending:\n",
      "\n",
      "          asin                                              title\n",
      "0   B002UXRZOO          Clarks Women's Wave.Cruise Mary Jane Flat\n",
      "1   B005DNM2RI            Clarks Women's Lexi Willow Slide Sandal\n",
      "2   B0000BW6IN                   New Balance Women's W801 Sneaker\n",
      "3   B002LZURAA                  Birkenstock Women's Mayari Sandal\n",
      "4   B0044QPXTE             Birkenstock Women's Adria Thong Sandal\n",
      "5   B0036OS0FE      Crocs Women's Wrapped Clog,Black/Black,4 M US\n",
      "6   B008LYRVCW                  Clarks Women's Leisa Lolly Sandal\n",
      "7   B006R2QJ14              Clarks Women's Clarks Lexi Cedar Mule\n",
      "8   B0059P7ON2           Clarks Women's Sixty Delta Slip On Flats\n",
      "9   B002CYYO0E                      Alegria Women's debra Slip-On\n",
      "10  B00BGM5FI8     Skechers Women's Sport Skech Air Cross Trainer\n",
      "11  B0039YPEMS        Walking Cradles Women's Fawn Ballerina Flat\n",
      "12  B00258S95I                    Klogs USA Women's Carolina Clog\n",
      "13  B008JW3I0A     Clarks Women's Clarks Lucia Coral Wedge Sandal\n",
      "14  B004H44D62       Spring Step Women's Orella Slingback Sandal2\n",
      "15  B000XHSGK6               LifeStride Women's Rhonda Espadrille\n",
      "16  B007PBO9Y0                    Easy Spirit Women's Eztime Clog\n",
      "17  B003URPTK6                      Clarks Women's Ina Bow Sandal\n",
      "18  B00008LUS5  Softsposts Stephanie Women's Leather Casual Pumps\n",
      "19  B008NR9IIC          Orthaheel Womens Maui Sandal Black Size 6\n",
      "20  B004TRP4EW  Portlandia Women's Free Flat,Bordeaux Burnishe...\n",
      "21  B0086UD7ME                  Clarks Women's Ella Chorus Sandal\n",
      "22  B0039NN7S2                   AVIA Women's A9999W Walking Shoe\n",
      "23  B003BU3UXA  Skechers Women's Shape Ups XW Hyperactive Sneaker\n",
      "24  B0076R768E                    Orthaheel Maddie Women's Loafer\n"
     ]
    }
   ],
   "source": [
    "retrieve_recommendations(train, top_ns_25)"
   ]
  },
  {
   "cell_type": "markdown",
   "id": "4846c07e",
   "metadata": {},
   "source": [
    "## N=30"
   ]
  },
  {
   "cell_type": "code",
   "execution_count": 23,
   "id": "793f9c53",
   "metadata": {},
   "outputs": [],
   "source": [
    "top_ns_30 = n_recommendations[30][0]"
   ]
  },
  {
   "cell_type": "code",
   "execution_count": 24,
   "id": "5436781b",
   "metadata": {},
   "outputs": [
    {
     "name": "stdout",
     "output_type": "stream",
     "text": [
      "For user: A2VNIZTV0BGUCX:\n",
      "Purchase History:\n",
      "              asin                                              title\n",
      "26438   B000N63OB8  Hanes 5.2 oz Women's COMFORTSOFT Relax Fit V-N...\n",
      "41060   B0015A6WKQ                    Levi's Juniors 535 Legging Jean\n",
      "41963   B001718DSM                       Nike Womens Celso Girl Thong\n",
      "42754   B0018N8YRE         Funtasma by Pleaser Women's Lust-2000 Boot\n",
      "62102   B002JB6VEC                  Nike Women's Comfort Thong Sandal\n",
      "141983  B0085VGQAO    Womens Elegant Sleek Patent Leather Skinny Belt\n",
      "174552  B00EVPPG5Y     Vip Women's Long Sleeved Scoop Neck Midi Dress\n",
      "\n",
      "Recommending:\n",
      "\n",
      "          asin                                              title\n",
      "0   B00C2QLEXC  Lucky Brand Women's Sweet N Straight Crop, 28,...\n",
      "1   B005OKDO22          Levi's Women's 512 Bermuda, Social Blue,4\n",
      "2   B007OQ8FRS  Lee Women's Misses Slender Secret Scarlett Bar...\n",
      "3   B007Y8WR8O  Calvin Klein Jeans Women's Indigo Denim Straig...\n",
      "4   B00EB10XEW  WallFlower Juniors Luscious Curvy Basic Bootcu...\n",
      "5   B009RRHS0M  (EP1394-RCK-1) Dollhouse Whiskered Button-Flap...\n",
      "6   B00EDTNPRE  WallFlower Juniors Plus Size Luscious Curvy Bo...\n",
      "7   B00AEQ62Y8  Levi's Women's 505 Straight Leg Pant, Camp San...\n",
      "8   B00EDTKSE2  WallFlower Juniors Plus Size 37&quot; Inseam B...\n",
      "9   B00CWUC9TQ  Plus Size Yoga Long Stretch Pants 95% Cotton, ...\n",
      "10  B00GAY8VKG                       Levi's Women's Bermuda Short\n",
      "11  B0018T2KWS  Levi's 528 Juniors Curvy Cut Skinny Jean, Show...\n",
      "12  B004M41SJM                  Everyday Yoga Pants (Tall Length)\n",
      "13  B0058ZYWXI  Lucky Brand Women's Sweet-N-Flare Five Pocket ...\n",
      "14  B004I7A0IS  Women's Plus Size Jean, capri length, relaxed ...\n",
      "15  B005YO1F42   Levi's Women's Mid Rise Bermuda, Sunlit Indigo,6\n",
      "16  B000YJ5B5G  Calvin Klein Jeans Women's Black Skinny Jean,b...\n",
      "17  B00AM2RB62  Trixx Intimates Women's Black Crotchless Boysh...\n",
      "18  B004FPYGD8   Dockers Women's The Khaki With Hello Smooth Pant\n",
      "19  B00BT9M7RU  Lee Women's Comfort Waist Carden Slimming Stra...\n",
      "20  B00EDTMCGE  WallFlower Juniors Plus Size Washed Classic Le...\n",
      "21  B00EB0ZH12  WallFlower Juniors Washed Classic Legendary Bo...\n",
      "22  B003M2X1VI            Levi's Men's 505 Regular Fit Twill Pant\n",
      "23  B00BYN0YW6     Star Vixen Women's Short Sleeve Faux-Wrap Maxi\n",
      "24  B00F9IQ2CS  SOL Tie Dye Umbrella Top in Colors. One Size F...\n",
      "25  B00A6XGBHM     Levi's Men's 511 Slim Fit Stonewash Twill Pant\n",
      "26  B009TT9E9G      Briggs New York Women's Ankle Pant, Black, 10\n",
      "27  B00B59YWP4  U.S. Polo Assn. Women's Curvy Flare Jean, Blue...\n",
      "28  B005FM6V2Y              WallFlower Juniors Famous Flare Jeans\n",
      "29  B0060MDU7W         U-Turn Jeans Women's Hybrid Denim Leggings\n"
     ]
    }
   ],
   "source": [
    "retrieve_recommendations(train, top_ns_30)"
   ]
  },
  {
   "cell_type": "markdown",
   "id": "8ad48ff2",
   "metadata": {},
   "source": [
    "## N=45"
   ]
  },
  {
   "cell_type": "code",
   "execution_count": 25,
   "id": "354ce974",
   "metadata": {},
   "outputs": [],
   "source": [
    "top_ns_45 = n_recommendations[45][0]"
   ]
  },
  {
   "cell_type": "code",
   "execution_count": 26,
   "id": "025239d7",
   "metadata": {},
   "outputs": [
    {
     "name": "stdout",
     "output_type": "stream",
     "text": [
      "For user: A17WAIYTFIQYB3:\n",
      "Purchase History:\n",
      "              asin                                              title\n",
      "51900   B001NXBVY2  FitFlop Women's Walkstar 3 Metallic Sandal San...\n",
      "54976   B001UV3FYG            Dansko Women's Professional Tooled Clog\n",
      "132886  B007HXMQXM  Allegra K Women Boat Neck Long Batwing Sleeve ...\n",
      "158234  B009ZDEXQK         Skechers Women's Go Walk 2 Fashion Sneaker\n",
      "162881  B00AVPHH4Q      Top Moda Women's COCO 1 Knee High Riding Boot\n",
      "168863  B00CIBCJ62  Cotton Cantina Soft Chevron Sheer Infinity Sca...\n",
      "\n",
      "Recommending:\n",
      "\n",
      "          asin                                              title\n",
      "0   B00DEQJLJ8        Clarks Women's Ashland India Mary Jane Flat\n",
      "1   B004VUXAZC         Klogs USA Women's Tropical Platform Sandal\n",
      "2   B00ANJJZAO                       crocs Women's Gianna LK Flat\n",
      "3   B004WNFCUE             Soft Style Women's Easy To Pleats Pump\n",
      "4   B0044QPXTE             Birkenstock Women's Adria Thong Sandal\n",
      "5   B005OHS826           Hush Puppies Women's Vesper Slide Sandal\n",
      "6   B00D3HL8U8  Zehui Womens Ballet Sparkle Pointy Transparent...\n",
      "7   B008KYW7TK               Crocs Women's 14101 Kadee Snake Flat\n",
      "8   B00ATWQCO2                    Clarks Women's May Rosebud Clog\n",
      "9   B005OBISS6  Kenneth Cole REACTION Women's Sole My Heart We...\n",
      "10  B005CRVO38  Clarks Women's Lexi Elm Ankle-Strap Sandal,Bro...\n",
      "11  B008R8ZPMU                  FitFlop Women's Shuv Slide Sandal\n",
      "12  B002VJJF3Q  Skechers Women's Flash Drive Platform Thong,Bl...\n",
      "13  B007VMCFLC         Jessica Simpson Women's Malisa Ballet Flat\n",
      "14  B005DM112G  Earthies Women's Domingo T-Strap Sandal,Black,...\n",
      "15  B004EDVFCG                          Birkenstock Larisa Sandal\n",
      "16  B00B7NHZK2  Womens Roman Gladiator Sandals Flats w/Rhinest...\n",
      "17  B004ZIKQ7A                   Aerosoles Women's Playhouse Pump\n",
      "18  B008OOKCWA            Skechers Women's Go Walk Presta. Loafer\n",
      "19  B00AWJ61VQ          Naturalizer Women's Jepson Mary Jane Pump\n",
      "20  B0089NALI6                Columbia Women's Sunlight II Sandal\n",
      "21  B00106DYYC               Circa Joan &amp; David Women's Yavin\n",
      "22  B008JW3I0A     Clarks Women's Clarks Lucia Coral Wedge Sandal\n",
      "23  B00CP5UCRY  Women's T Strap Snakeskin Roman Gladiator Sand...\n",
      "24  B009AMKOC8              Naturalizer Women's Alka Thong Sandal\n",
      "25  B000XHSGK6               LifeStride Women's Rhonda Espadrille\n",
      "26  B00F9IQ2CS  SOL Tie Dye Umbrella Top in Colors. One Size F...\n",
      "27  B00AZWFDT6                OTBT Women's Park Place Ballet Flat\n",
      "28  B0084DPJN8      Skechers Women's Disco Bunny Mirror Ball Clog\n",
      "29  B002IN5J7Q                            Aravon Womens Maya Pump\n",
      "30  B003ZUSHWA           Clarks Women's Latin Circle Thong Sandal\n",
      "31  B005FXL7KO  Skechers Women's Rumblets Rhinestone Thong Sandal\n",
      "32  B008GY91Q6             Naughty Monkey Women's World Wide Boot\n",
      "33  B005FVRD9A               Easy Street Women's Fling Espadrille\n",
      "34  B00ASHT2OU               Clarks Women's Dunbar Cruiser Loafer\n",
      "35  B00DU769AU        Skechers Women's Bobs Plush Peace Love Flat\n",
      "36  B0028M3SFW                      Rampage Women's Carlie 1 Boot\n",
      "37  B008LVLHG6                         Clarks Women's Surf Sandal\n",
      "38  B003XX05IS                     Reef Women's Miss J-Bay Sandal\n",
      "39  B007MZHSR4                Rampage Women's Nessa Platform Pump\n",
      "40  B00B7MQF18  Womens Roman Gladiator Sandals Microsuede W/Rh...\n",
      "41  B00GJXITVE  Ollio Women's Ballet Comfort Light Faux Suede ...\n",
      "42  B005OYKZRA             Hi-Tec Women's Waimea Slide Water Shoe\n",
      "43  B00AZ94MUK            Bobs from Skechers Women's Bobtail Flat\n",
      "44  B001ET7K9U       Madden Girl Women's Sursey Pump,Black,9 M US\n"
     ]
    }
   ],
   "source": [
    "retrieve_recommendations(train, top_ns_45)"
   ]
  },
  {
   "cell_type": "code",
   "execution_count": null,
   "id": "d558faae",
   "metadata": {},
   "outputs": [],
   "source": []
  }
 ],
 "metadata": {
  "kernelspec": {
   "display_name": "Python 3 (ipykernel)",
   "language": "python",
   "name": "python3"
  },
  "language_info": {
   "codemirror_mode": {
    "name": "ipython",
    "version": 3
   },
   "file_extension": ".py",
   "mimetype": "text/x-python",
   "name": "python",
   "nbconvert_exporter": "python",
   "pygments_lexer": "ipython3",
   "version": "3.9.6"
  }
 },
 "nbformat": 4,
 "nbformat_minor": 5
}
