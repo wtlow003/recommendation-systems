{
 "cells": [
  {
   "cell_type": "code",
   "execution_count": 1,
   "id": "c665c066",
   "metadata": {},
   "outputs": [
    {
     "name": "stderr",
     "output_type": "stream",
     "text": [
      "/Users/jensen/Desktop/recommendation-systems/projects/product-reviews-recommender/.venv/lib/python3.9/site-packages/gensim/similarities/__init__.py:15: UserWarning: The gensim.similarities.levenshtein submodule is disabled, because the optional Levenshtein package <https://pypi.org/project/python-Levenshtein/> is unavailable. Install Levenhstein (e.g. `pip install python-Levenshtein`) to suppress this warning.\n",
      "  warnings.warn(msg)\n"
     ]
    }
   ],
   "source": [
    "from pathlib import Path\n",
    "import pickle\n",
    "import warnings\n",
    "\n",
    "import numpy as np\n",
    "import pandas as pd\n",
    "\n",
    "from surprise import Dataset, Reader, dump\n",
    "from tqdm import tqdm\n",
    "\n",
    "from src.models import cf, evaluate_model\n",
    "from src.utilities import utilities\n",
    "\n",
    "tqdm.pandas()\n",
    "warnings.filterwarnings('ignore')"
   ]
  },
  {
   "cell_type": "markdown",
   "id": "c8423b6f",
   "metadata": {},
   "source": [
    "# Load Data"
   ]
  },
  {
   "cell_type": "code",
   "execution_count": 2,
   "id": "de9567d6",
   "metadata": {},
   "outputs": [],
   "source": [
    "# global variables\n",
    "DATA_PATH = \"data/evaluation\"\n",
    "CATEGORY = \"Pet_Supplies\"\n",
    "MODEL_PATH = Path(f\"models/funk_svd/funk_svd_{CATEGORY}.pkl\")\n",
    "\n",
    "# training parameters\n",
    "N_EPOCHS = 15\n",
    "LR_ALL = 0.01\n",
    "BETA = 0.1\n",
    "\n",
    "# reproducibility checks\n",
    "SEED = 42\n",
    "np.random.seed(42)\n",
    "\n",
    "train = pd.read_csv(f\"{DATA_PATH}/{CATEGORY}_train.csv\")"
   ]
  },
  {
   "cell_type": "code",
   "execution_count": 3,
   "id": "df224947",
   "metadata": {},
   "outputs": [
    {
     "data": {
      "text/html": [
       "<div>\n",
       "<style scoped>\n",
       "    .dataframe tbody tr th:only-of-type {\n",
       "        vertical-align: middle;\n",
       "    }\n",
       "\n",
       "    .dataframe tbody tr th {\n",
       "        vertical-align: top;\n",
       "    }\n",
       "\n",
       "    .dataframe thead th {\n",
       "        text-align: right;\n",
       "    }\n",
       "</style>\n",
       "<table border=\"1\" class=\"dataframe\">\n",
       "  <thead>\n",
       "    <tr style=\"text-align: right;\">\n",
       "      <th></th>\n",
       "      <th>index</th>\n",
       "      <th>asin</th>\n",
       "      <th>title</th>\n",
       "      <th>categories</th>\n",
       "      <th>reviewerID</th>\n",
       "      <th>overall</th>\n",
       "      <th>reviewText</th>\n",
       "      <th>reviewTime</th>\n",
       "      <th>processedReviewText</th>\n",
       "    </tr>\n",
       "  </thead>\n",
       "  <tbody>\n",
       "    <tr>\n",
       "      <th>0</th>\n",
       "      <td>0</td>\n",
       "      <td>1223000893</td>\n",
       "      <td>Cat Sitter DVD Trilogy - Vol 1, Vol 2 and Vol 3</td>\n",
       "      <td>[]</td>\n",
       "      <td>A14CK12J7C7JRK</td>\n",
       "      <td>3.0</td>\n",
       "      <td>I purchased the Trilogy with hoping my two cat...</td>\n",
       "      <td>2011-01-12</td>\n",
       "      <td>purchase trilogy hop cat age interested yr old...</td>\n",
       "    </tr>\n",
       "    <tr>\n",
       "      <th>1</th>\n",
       "      <td>2</td>\n",
       "      <td>1223000893</td>\n",
       "      <td>Cat Sitter DVD Trilogy - Vol 1, Vol 2 and Vol 3</td>\n",
       "      <td>[]</td>\n",
       "      <td>A2CR37UY3VR7BN</td>\n",
       "      <td>4.0</td>\n",
       "      <td>I bought the triliogy and have tested out all ...</td>\n",
       "      <td>2012-12-19</td>\n",
       "      <td>buy triliogy test dvd appear volume receive re...</td>\n",
       "    </tr>\n",
       "    <tr>\n",
       "      <th>2</th>\n",
       "      <td>3</td>\n",
       "      <td>1223000893</td>\n",
       "      <td>Cat Sitter DVD Trilogy - Vol 1, Vol 2 and Vol 3</td>\n",
       "      <td>[]</td>\n",
       "      <td>A2A4COGL9VW2HY</td>\n",
       "      <td>4.0</td>\n",
       "      <td>My female kitty could care less about these vi...</td>\n",
       "      <td>2011-05-12</td>\n",
       "      <td>female kitty care video care little male dig a...</td>\n",
       "    </tr>\n",
       "    <tr>\n",
       "      <th>3</th>\n",
       "      <td>4</td>\n",
       "      <td>1223000893</td>\n",
       "      <td>Cat Sitter DVD Trilogy - Vol 1, Vol 2 and Vol 3</td>\n",
       "      <td>[]</td>\n",
       "      <td>A2UBQA85NIGLHA</td>\n",
       "      <td>3.0</td>\n",
       "      <td>If I had gotten just volume two, I would have ...</td>\n",
       "      <td>2012-03-05</td>\n",
       "      <td>volume star trilogy star read review know vol ...</td>\n",
       "    </tr>\n",
       "    <tr>\n",
       "      <th>4</th>\n",
       "      <td>5</td>\n",
       "      <td>B00005MF9U</td>\n",
       "      <td>LitterMaid LM900 Mega Self-Cleaning Litter Box</td>\n",
       "      <td>['Pet Supplies', 'Cats', 'Litter &amp;amp; Housebr...</td>\n",
       "      <td>A2BH04B9G9LOYA</td>\n",
       "      <td>1.0</td>\n",
       "      <td>First off, it seems that someone is spamming t...</td>\n",
       "      <td>2006-12-31</td>\n",
       "      <td>spamming review glow reviewer review amazon ba...</td>\n",
       "    </tr>\n",
       "    <tr>\n",
       "      <th>68865</th>\n",
       "      <td>111581</td>\n",
       "      <td>B00K3YPOO0</td>\n",
       "      <td>Brightest Black Light Flashlight on Amazon- UV...</td>\n",
       "      <td>[]</td>\n",
       "      <td>A11J1FHCK5U06J</td>\n",
       "      <td>4.0</td>\n",
       "      <td>Now I know exactly where the trouble spots are...</td>\n",
       "      <td>2014-05-23</td>\n",
       "      <td>know exactly trouble spot sniffing guess invis...</td>\n",
       "    </tr>\n",
       "    <tr>\n",
       "      <th>68866</th>\n",
       "      <td>111585</td>\n",
       "      <td>B00K3YPOO0</td>\n",
       "      <td>Brightest Black Light Flashlight on Amazon- UV...</td>\n",
       "      <td>[]</td>\n",
       "      <td>A18JF0T0GOCORW</td>\n",
       "      <td>4.0</td>\n",
       "      <td>I use this light to help me find stains when I...</td>\n",
       "      <td>2014-05-24</td>\n",
       "      <td>use light help stain carpet clean pre treat ca...</td>\n",
       "    </tr>\n",
       "    <tr>\n",
       "      <th>68867</th>\n",
       "      <td>111595</td>\n",
       "      <td>B00K7EG97C</td>\n",
       "      <td>Nutro Crunchy Dog Treats with Real Mixed Berri...</td>\n",
       "      <td>['Pet Supplies', 'Dogs', 'Treats', 'Cookies, B...</td>\n",
       "      <td>A3GRPCW9DG427Z</td>\n",
       "      <td>5.0</td>\n",
       "      <td>We are owned by the 3 pickiest pooches in the ...</td>\n",
       "      <td>2013-07-27</td>\n",
       "      <td>pickiest pooch world love fool reject doggie t...</td>\n",
       "    </tr>\n",
       "    <tr>\n",
       "      <th>68868</th>\n",
       "      <td>111598</td>\n",
       "      <td>B00K7EG97C</td>\n",
       "      <td>Nutro Crunchy Dog Treats with Real Mixed Berri...</td>\n",
       "      <td>['Pet Supplies', 'Dogs', 'Treats', 'Cookies, B...</td>\n",
       "      <td>A2X6TLAX3JEO1A</td>\n",
       "      <td>5.0</td>\n",
       "      <td>My highly allergic white boxer loves these tre...</td>\n",
       "      <td>2014-05-09</td>\n",
       "      <td>highly allergic white boxer love treat meat co...</td>\n",
       "    </tr>\n",
       "    <tr>\n",
       "      <th>68869</th>\n",
       "      <td>111602</td>\n",
       "      <td>B00KJGFGFO</td>\n",
       "      <td>Curry Brush with Coarse or Fine Bristles. High...</td>\n",
       "      <td>[]</td>\n",
       "      <td>A9PG9ODPPP31N</td>\n",
       "      <td>5.0</td>\n",
       "      <td>Works great on my medium sized dog. She has ve...</td>\n",
       "      <td>2014-07-09</td>\n",
       "      <td>work great medium size dog coarse hair work gr...</td>\n",
       "    </tr>\n",
       "  </tbody>\n",
       "</table>\n",
       "</div>"
      ],
      "text/plain": [
       "        index        asin                                              title  \\\n",
       "0           0  1223000893    Cat Sitter DVD Trilogy - Vol 1, Vol 2 and Vol 3   \n",
       "1           2  1223000893    Cat Sitter DVD Trilogy - Vol 1, Vol 2 and Vol 3   \n",
       "2           3  1223000893    Cat Sitter DVD Trilogy - Vol 1, Vol 2 and Vol 3   \n",
       "3           4  1223000893    Cat Sitter DVD Trilogy - Vol 1, Vol 2 and Vol 3   \n",
       "4           5  B00005MF9U     LitterMaid LM900 Mega Self-Cleaning Litter Box   \n",
       "68865  111581  B00K3YPOO0  Brightest Black Light Flashlight on Amazon- UV...   \n",
       "68866  111585  B00K3YPOO0  Brightest Black Light Flashlight on Amazon- UV...   \n",
       "68867  111595  B00K7EG97C  Nutro Crunchy Dog Treats with Real Mixed Berri...   \n",
       "68868  111598  B00K7EG97C  Nutro Crunchy Dog Treats with Real Mixed Berri...   \n",
       "68869  111602  B00KJGFGFO  Curry Brush with Coarse or Fine Bristles. High...   \n",
       "\n",
       "                                              categories      reviewerID  \\\n",
       "0                                                     []  A14CK12J7C7JRK   \n",
       "1                                                     []  A2CR37UY3VR7BN   \n",
       "2                                                     []  A2A4COGL9VW2HY   \n",
       "3                                                     []  A2UBQA85NIGLHA   \n",
       "4      ['Pet Supplies', 'Cats', 'Litter &amp; Housebr...  A2BH04B9G9LOYA   \n",
       "68865                                                 []  A11J1FHCK5U06J   \n",
       "68866                                                 []  A18JF0T0GOCORW   \n",
       "68867  ['Pet Supplies', 'Dogs', 'Treats', 'Cookies, B...  A3GRPCW9DG427Z   \n",
       "68868  ['Pet Supplies', 'Dogs', 'Treats', 'Cookies, B...  A2X6TLAX3JEO1A   \n",
       "68869                                                 []   A9PG9ODPPP31N   \n",
       "\n",
       "       overall                                         reviewText  reviewTime  \\\n",
       "0          3.0  I purchased the Trilogy with hoping my two cat...  2011-01-12   \n",
       "1          4.0  I bought the triliogy and have tested out all ...  2012-12-19   \n",
       "2          4.0  My female kitty could care less about these vi...  2011-05-12   \n",
       "3          3.0  If I had gotten just volume two, I would have ...  2012-03-05   \n",
       "4          1.0  First off, it seems that someone is spamming t...  2006-12-31   \n",
       "68865      4.0  Now I know exactly where the trouble spots are...  2014-05-23   \n",
       "68866      4.0  I use this light to help me find stains when I...  2014-05-24   \n",
       "68867      5.0  We are owned by the 3 pickiest pooches in the ...  2013-07-27   \n",
       "68868      5.0  My highly allergic white boxer loves these tre...  2014-05-09   \n",
       "68869      5.0  Works great on my medium sized dog. She has ve...  2014-07-09   \n",
       "\n",
       "                                     processedReviewText  \n",
       "0      purchase trilogy hop cat age interested yr old...  \n",
       "1      buy triliogy test dvd appear volume receive re...  \n",
       "2      female kitty care video care little male dig a...  \n",
       "3      volume star trilogy star read review know vol ...  \n",
       "4      spamming review glow reviewer review amazon ba...  \n",
       "68865  know exactly trouble spot sniffing guess invis...  \n",
       "68866  use light help stain carpet clean pre treat ca...  \n",
       "68867  pickiest pooch world love fool reject doggie t...  \n",
       "68868  highly allergic white boxer love treat meat co...  \n",
       "68869  work great medium size dog coarse hair work gr...  "
      ]
     },
     "execution_count": 3,
     "metadata": {},
     "output_type": "execute_result"
    }
   ],
   "source": [
    "# checking train dataframe\n",
    "train.head().append(train.tail())"
   ]
  },
  {
   "cell_type": "markdown",
   "id": "e086b611",
   "metadata": {},
   "source": [
    "# Utility Functions"
   ]
  },
  {
   "cell_type": "markdown",
   "id": "59cfe8eb",
   "metadata": {},
   "source": [
    "# Generate N-Recommendations = {10, 25, 30, 45}"
   ]
  },
  {
   "cell_type": "markdown",
   "id": "f907ff8c",
   "metadata": {},
   "source": [
    "## Load Test Data"
   ]
  },
  {
   "cell_type": "code",
   "execution_count": 4,
   "id": "746e250d",
   "metadata": {},
   "outputs": [],
   "source": [
    "test = pd.read_csv(f\"{DATA_PATH}/{CATEGORY}_test.csv\")"
   ]
  },
  {
   "cell_type": "code",
   "execution_count": 5,
   "id": "280f57c5",
   "metadata": {},
   "outputs": [
    {
     "data": {
      "text/html": [
       "<div>\n",
       "<style scoped>\n",
       "    .dataframe tbody tr th:only-of-type {\n",
       "        vertical-align: middle;\n",
       "    }\n",
       "\n",
       "    .dataframe tbody tr th {\n",
       "        vertical-align: top;\n",
       "    }\n",
       "\n",
       "    .dataframe thead th {\n",
       "        text-align: right;\n",
       "    }\n",
       "</style>\n",
       "<table border=\"1\" class=\"dataframe\">\n",
       "  <thead>\n",
       "    <tr style=\"text-align: right;\">\n",
       "      <th></th>\n",
       "      <th>index</th>\n",
       "      <th>asin</th>\n",
       "      <th>title</th>\n",
       "      <th>categories</th>\n",
       "      <th>reviewerID</th>\n",
       "      <th>overall</th>\n",
       "      <th>reviewText</th>\n",
       "      <th>reviewTime</th>\n",
       "      <th>processedReviewText</th>\n",
       "    </tr>\n",
       "  </thead>\n",
       "  <tbody>\n",
       "    <tr>\n",
       "      <th>0</th>\n",
       "      <td>1</td>\n",
       "      <td>1223000893</td>\n",
       "      <td>Cat Sitter DVD Trilogy - Vol 1, Vol 2 and Vol 3</td>\n",
       "      <td>[]</td>\n",
       "      <td>A39QHP5WLON5HV</td>\n",
       "      <td>5.0</td>\n",
       "      <td>There are usually one or more of my cats watch...</td>\n",
       "      <td>2013-09-14</td>\n",
       "      <td>usually cat watch tv stay trouble dvd play lik...</td>\n",
       "    </tr>\n",
       "    <tr>\n",
       "      <th>1</th>\n",
       "      <td>104</td>\n",
       "      <td>B00005MF9V</td>\n",
       "      <td>LitterMaid Universal Cat Privacy Tent (LMT100)</td>\n",
       "      <td>['Pet Supplies', 'Cats', 'Litter &amp; Housebreaki...</td>\n",
       "      <td>A366V0GCEPH5CX</td>\n",
       "      <td>5.0</td>\n",
       "      <td>My cats love it and so do I. I no longer have ...</td>\n",
       "      <td>2013-02-02</td>\n",
       "      <td>cat love longer cat litter fly floor litter fl...</td>\n",
       "    </tr>\n",
       "    <tr>\n",
       "      <th>2</th>\n",
       "      <td>133</td>\n",
       "      <td>B00005MF9T</td>\n",
       "      <td>LitterMaid LM500 Automated Litter Box</td>\n",
       "      <td>['Pet Supplies', 'Cats', 'Litter &amp; Housebreaki...</td>\n",
       "      <td>ALWWS8QBYN80B</td>\n",
       "      <td>1.0</td>\n",
       "      <td>I have one female cat that weighs under 10 pou...</td>\n",
       "      <td>2004-11-17</td>\n",
       "      <td>female cat weigh pound year old use everclean ...</td>\n",
       "    </tr>\n",
       "    <tr>\n",
       "      <th>3</th>\n",
       "      <td>153</td>\n",
       "      <td>B00005MF9W</td>\n",
       "      <td>LitterMaid Waste Receptacles Automatic Litter ...</td>\n",
       "      <td>['Pet Supplies', 'Cats', 'Litter &amp; Housebreaki...</td>\n",
       "      <td>A3PVI3NE7OY1SP</td>\n",
       "      <td>5.0</td>\n",
       "      <td>I love these. They make the clean up so much e...</td>\n",
       "      <td>2013-09-26</td>\n",
       "      <td>love clean easy clean box manually use issue w...</td>\n",
       "    </tr>\n",
       "    <tr>\n",
       "      <th>4</th>\n",
       "      <td>154</td>\n",
       "      <td>B00005MF9W</td>\n",
       "      <td>LitterMaid Waste Receptacles Automatic Litter ...</td>\n",
       "      <td>['Pet Supplies', 'Cats', 'Litter &amp; Housebreaki...</td>\n",
       "      <td>A2H83XMHUVDLJY</td>\n",
       "      <td>4.0</td>\n",
       "      <td>I love this litter box. I do not use the lids,...</td>\n",
       "      <td>2014-06-26</td>\n",
       "      <td>love litter box use lid use receptacle tear cr...</td>\n",
       "    </tr>\n",
       "    <tr>\n",
       "      <th>41564</th>\n",
       "      <td>111601</td>\n",
       "      <td>B00KJGFGFO</td>\n",
       "      <td>Curry Brush with Coarse or Fine Bristles. High...</td>\n",
       "      <td>[]</td>\n",
       "      <td>AV34KNYW82YSS</td>\n",
       "      <td>4.0</td>\n",
       "      <td>Pulled lots of hair out of my Labs coat. Didn'...</td>\n",
       "      <td>2014-07-18</td>\n",
       "      <td>pulled lot hair labs coat think prove wrong co...</td>\n",
       "    </tr>\n",
       "    <tr>\n",
       "      <th>41565</th>\n",
       "      <td>111603</td>\n",
       "      <td>B00KJGFGFO</td>\n",
       "      <td>Curry Brush with Coarse or Fine Bristles. High...</td>\n",
       "      <td>[]</td>\n",
       "      <td>A1YMNTFLNDYQ1F</td>\n",
       "      <td>5.0</td>\n",
       "      <td>I have been trying to find a rubber bristle br...</td>\n",
       "      <td>2014-07-16</td>\n",
       "      <td>try rubber bristle brush persian year lose glo...</td>\n",
       "    </tr>\n",
       "    <tr>\n",
       "      <th>41566</th>\n",
       "      <td>111604</td>\n",
       "      <td>B00KJGFGFO</td>\n",
       "      <td>Curry Brush with Coarse or Fine Bristles. High...</td>\n",
       "      <td>[]</td>\n",
       "      <td>A1FQ3HRVXA4A5B</td>\n",
       "      <td>5.0</td>\n",
       "      <td>Great product to use on your pets knowing this...</td>\n",
       "      <td>2014-07-11</td>\n",
       "      <td>great product use pet know gentle rubber damag...</td>\n",
       "    </tr>\n",
       "    <tr>\n",
       "      <th>41567</th>\n",
       "      <td>111605</td>\n",
       "      <td>B00KJGFGFO</td>\n",
       "      <td>Curry Brush with Coarse or Fine Bristles. High...</td>\n",
       "      <td>[]</td>\n",
       "      <td>A3OP6CI0XCRQXO</td>\n",
       "      <td>5.0</td>\n",
       "      <td>I bought a second one because I have two cats ...</td>\n",
       "      <td>2014-07-22</td>\n",
       "      <td>buy second cat american short hair buy brush m...</td>\n",
       "    </tr>\n",
       "    <tr>\n",
       "      <th>41568</th>\n",
       "      <td>111606</td>\n",
       "      <td>B00KJGFGFO</td>\n",
       "      <td>Curry Brush with Coarse or Fine Bristles. High...</td>\n",
       "      <td>[]</td>\n",
       "      <td>A11LC938XF35XN</td>\n",
       "      <td>5.0</td>\n",
       "      <td>Our dogs love getting brushed with this.  It m...</td>\n",
       "      <td>2014-07-17</td>\n",
       "      <td>dog love brush massage remove heavy undercoat ...</td>\n",
       "    </tr>\n",
       "  </tbody>\n",
       "</table>\n",
       "</div>"
      ],
      "text/plain": [
       "        index        asin                                              title  \\\n",
       "0           1  1223000893    Cat Sitter DVD Trilogy - Vol 1, Vol 2 and Vol 3   \n",
       "1         104  B00005MF9V     LitterMaid Universal Cat Privacy Tent (LMT100)   \n",
       "2         133  B00005MF9T              LitterMaid LM500 Automated Litter Box   \n",
       "3         153  B00005MF9W  LitterMaid Waste Receptacles Automatic Litter ...   \n",
       "4         154  B00005MF9W  LitterMaid Waste Receptacles Automatic Litter ...   \n",
       "41564  111601  B00KJGFGFO  Curry Brush with Coarse or Fine Bristles. High...   \n",
       "41565  111603  B00KJGFGFO  Curry Brush with Coarse or Fine Bristles. High...   \n",
       "41566  111604  B00KJGFGFO  Curry Brush with Coarse or Fine Bristles. High...   \n",
       "41567  111605  B00KJGFGFO  Curry Brush with Coarse or Fine Bristles. High...   \n",
       "41568  111606  B00KJGFGFO  Curry Brush with Coarse or Fine Bristles. High...   \n",
       "\n",
       "                                              categories      reviewerID  \\\n",
       "0                                                     []  A39QHP5WLON5HV   \n",
       "1      ['Pet Supplies', 'Cats', 'Litter & Housebreaki...  A366V0GCEPH5CX   \n",
       "2      ['Pet Supplies', 'Cats', 'Litter & Housebreaki...   ALWWS8QBYN80B   \n",
       "3      ['Pet Supplies', 'Cats', 'Litter & Housebreaki...  A3PVI3NE7OY1SP   \n",
       "4      ['Pet Supplies', 'Cats', 'Litter & Housebreaki...  A2H83XMHUVDLJY   \n",
       "41564                                                 []   AV34KNYW82YSS   \n",
       "41565                                                 []  A1YMNTFLNDYQ1F   \n",
       "41566                                                 []  A1FQ3HRVXA4A5B   \n",
       "41567                                                 []  A3OP6CI0XCRQXO   \n",
       "41568                                                 []  A11LC938XF35XN   \n",
       "\n",
       "       overall                                         reviewText  reviewTime  \\\n",
       "0          5.0  There are usually one or more of my cats watch...  2013-09-14   \n",
       "1          5.0  My cats love it and so do I. I no longer have ...  2013-02-02   \n",
       "2          1.0  I have one female cat that weighs under 10 pou...  2004-11-17   \n",
       "3          5.0  I love these. They make the clean up so much e...  2013-09-26   \n",
       "4          4.0  I love this litter box. I do not use the lids,...  2014-06-26   \n",
       "41564      4.0  Pulled lots of hair out of my Labs coat. Didn'...  2014-07-18   \n",
       "41565      5.0  I have been trying to find a rubber bristle br...  2014-07-16   \n",
       "41566      5.0  Great product to use on your pets knowing this...  2014-07-11   \n",
       "41567      5.0  I bought a second one because I have two cats ...  2014-07-22   \n",
       "41568      5.0  Our dogs love getting brushed with this.  It m...  2014-07-17   \n",
       "\n",
       "                                     processedReviewText  \n",
       "0      usually cat watch tv stay trouble dvd play lik...  \n",
       "1      cat love longer cat litter fly floor litter fl...  \n",
       "2      female cat weigh pound year old use everclean ...  \n",
       "3      love clean easy clean box manually use issue w...  \n",
       "4      love litter box use lid use receptacle tear cr...  \n",
       "41564  pulled lot hair labs coat think prove wrong co...  \n",
       "41565  try rubber bristle brush persian year lose glo...  \n",
       "41566  great product use pet know gentle rubber damag...  \n",
       "41567  buy second cat american short hair buy brush m...  \n",
       "41568  dog love brush massage remove heavy undercoat ...  "
      ]
     },
     "execution_count": 5,
     "metadata": {},
     "output_type": "execute_result"
    }
   ],
   "source": [
    "test.head().append(test.tail())"
   ]
  },
  {
   "cell_type": "code",
   "execution_count": 6,
   "id": "5c7f4039",
   "metadata": {},
   "outputs": [],
   "source": [
    "# generating test history\n",
    "test_user_history = (pd.DataFrame(test.groupby(['reviewerID'])['asin']\n",
    "                                  .apply(list).reset_index()))"
   ]
  },
  {
   "cell_type": "code",
   "execution_count": 7,
   "id": "a141edc8",
   "metadata": {},
   "outputs": [
    {
     "name": "stdout",
     "output_type": "stream",
     "text": [
      "                  reviewerID                                  asin\n",
      "0      A04173782GDZSQ91AJ7OD              [B0090Z9AYS, B00CPDWT2M]\n",
      "1      A042274212BJJVOBS4Q85              [B005AZ4M3Q, B00771WQIY]\n",
      "2       A0436342QLT4257JODYJ  [B0018CDR68, B003SJTM8Q, B00474A3DY]\n",
      "3      A04795073FIBKY8GSLZYI              [B001PKT30M, B005DGI2RY]\n",
      "4      A06658082A27F4VB5UG8E              [B000TZ1TTM, B0019VUHH0]\n",
      "...                      ...                                   ...\n",
      "18993          AZYJE40XW6MFG              [B00HVAKJZS, B00IDZT294]\n",
      "18994          AZZ56WF4X19G2                          [B004A7X218]\n",
      "18995          AZZNK89PXD006  [B0002DHV16, B005BP8MQ8, B009RTX4SU]\n",
      "18996          AZZV9PDNMCOZW              [B007EQL390, B00ISBWVT6]\n",
      "18997          AZZYW4YOE1B6E  [B0002AQPA2, B0002AQPA2, B0002ARQV4]\n",
      "\n",
      "[18998 rows x 2 columns]\n"
     ]
    }
   ],
   "source": [
    "print(test_user_history)"
   ]
  },
  {
   "cell_type": "markdown",
   "id": "090a56a2",
   "metadata": {},
   "source": [
    "## Instantiate FunkSVD (Matrix Factorization)"
   ]
  },
  {
   "cell_type": "code",
   "execution_count": 8,
   "id": "84886447",
   "metadata": {},
   "outputs": [],
   "source": [
    "# instantiating funksvd \n",
    "funk_svd = cf.FunkMF(n_epochs=N_EPOCHS, \n",
    "                     lr_all=LR_ALL, \n",
    "                     reg_all=BETA)"
   ]
  },
  {
   "cell_type": "code",
   "execution_count": 9,
   "id": "6cebc3d3",
   "metadata": {},
   "outputs": [
    {
     "name": "stdout",
     "output_type": "stream",
     "text": [
      "Processing epoch 0\n",
      "Processing epoch 1\n",
      "Processing epoch 2\n",
      "Processing epoch 3\n",
      "Processing epoch 4\n",
      "Processing epoch 5\n",
      "Processing epoch 6\n",
      "Processing epoch 7\n",
      "Processing epoch 8\n",
      "Processing epoch 9\n",
      "Processing epoch 10\n",
      "Processing epoch 11\n",
      "Processing epoch 12\n",
      "Processing epoch 13\n",
      "Processing epoch 14\n"
     ]
    }
   ],
   "source": [
    "# fitting to the training data\n",
    "funk_svd.fit(train)"
   ]
  },
  {
   "cell_type": "code",
   "execution_count": 10,
   "id": "75d850f3",
   "metadata": {},
   "outputs": [
    {
     "name": "stdout",
     "output_type": "stream",
     "text": [
      "CPU times: user 43.7 s, sys: 1.74 s, total: 45.4 s\n",
      "Wall time: 45.8 s\n"
     ]
    }
   ],
   "source": [
    "%%time\n",
    "# creating testset for prediction\n",
    "testset = funk_svd.trainset.build_anti_testset()"
   ]
  },
  {
   "cell_type": "code",
   "execution_count": 11,
   "id": "7ac2aaca",
   "metadata": {},
   "outputs": [
    {
     "name": "stdout",
     "output_type": "stream",
     "text": [
      "CPU times: user 9min 53s, sys: 4min 44s, total: 14min 37s\n",
      "Wall time: 16min 16s\n"
     ]
    }
   ],
   "source": [
    "%%time\n",
    "# generate candidate times\n",
    "candidate_items = funk_svd.test(testset)"
   ]
  },
  {
   "cell_type": "markdown",
   "id": "46c12b78",
   "metadata": {},
   "source": [
    "## Save Model\n",
    "\n",
    "* Not adviced to save model due to long persistence time required to save the model."
   ]
  },
  {
   "cell_type": "code",
   "execution_count": 12,
   "id": "01b918b2",
   "metadata": {},
   "outputs": [],
   "source": [
    "# MODEL_PATH.parent.mkdir(parents=True, exist_ok=True)\n",
    "# dump.dump(MODEL_PATH, algo=funk_svd)"
   ]
  },
  {
   "cell_type": "code",
   "execution_count": 13,
   "id": "176370e9",
   "metadata": {},
   "outputs": [],
   "source": [
    "# load model\n",
    "# _, funk_svd = dump.load(MODEL_PATH)"
   ]
  },
  {
   "cell_type": "markdown",
   "id": "fe3b5941",
   "metadata": {},
   "source": [
    "## Loop through N = {10, 25, 30, 45}"
   ]
  },
  {
   "cell_type": "code",
   "execution_count": 14,
   "id": "89c333b3",
   "metadata": {},
   "outputs": [],
   "source": [
    "# generate item popularity\n",
    "item_popularity = evaluate_model.generate_item_popularity(train)"
   ]
  },
  {
   "cell_type": "code",
   "execution_count": 15,
   "id": "8e8bd8fc",
   "metadata": {},
   "outputs": [
    {
     "name": "stdout",
     "output_type": "stream",
     "text": [
      "The FUNK-SVD has an average recall@10: 0.00196, average novelty@10: 0.96508\n",
      "The FUNK-SVD has an average recall@25: 0.00574, average novelty@25: 0.96254\n",
      "The FUNK-SVD has an average recall@30: 0.00754, average novelty@30: 0.96190\n",
      "The FUNK-SVD has an average recall@45: 0.01232, average novelty@45: 0.96085\n",
      "CPU times: user 7min 38s, sys: 4min 7s, total: 11min 46s\n",
      "Wall time: 15min 19s\n"
     ]
    }
   ],
   "source": [
    "%%time\n",
    "n_recommendations = {}\n",
    "for n in [10, 25, 30, 45]:\n",
    "    # retrieve the top-n items based on similarities\n",
    "    # top_ns = get_top_n(candidate_items, n)\n",
    "    top_ns = funk_svd.get_top_n(n)\n",
    "    # evaluate how well the recommended items predicted the future purchases\n",
    "    n_recommended_items = (evaluate_model.\n",
    "                           evaluate_recommendations(model_name = 'FUNK-SVD',\n",
    "                                                    top_ns = top_ns,\n",
    "                                                    user_rating_history = test_user_history, \n",
    "                                                    item_popularity = item_popularity, \n",
    "                                                    n = n,\n",
    "                                                    mf_based = True))\n",
    "    # saving the n-value and recommended items\n",
    "    n_recommendations[n] = (top_ns, n_recommended_items)"
   ]
  },
  {
   "cell_type": "markdown",
   "id": "6b054127",
   "metadata": {},
   "source": [
    "# Evaluate N-Recommendations"
   ]
  },
  {
   "cell_type": "markdown",
   "id": "7c56fb86",
   "metadata": {},
   "source": [
    "## N=10"
   ]
  },
  {
   "cell_type": "code",
   "execution_count": 16,
   "id": "93f6073e",
   "metadata": {},
   "outputs": [
    {
     "name": "stdout",
     "output_type": "stream",
     "text": [
      "For user: AM7YDJ5OF3P5P:\n",
      "Purchase History:\n",
      "             asin                                              title\n",
      "40436  B000PKSW5A  Precious Cat Dr. Elsey's Kitten Attract Scoopa...\n",
      "50006  B001K5NTOS                   Our Pets SmartScoop Litter Mat-p\n",
      "57972  B003R0LLIK  Purina Pro Plan Focus Chicken &amp; Rice Formu...\n",
      "66811  B008MZILMY           Blue Tasty Chicken Kitty Yums Cat Treats\n",
      "\n",
      "Recommending:\n",
      "\n",
      "         asin                                              title\n",
      "0  B00025Z6Q6  Tetra TetraCichlid Balanced Diet Flakes Food f...\n",
      "1  B0002APQV6  Simple Solution Pet Stain and Odor Remover | E...\n",
      "2  B0013L2DSC  Oxbow Essentials Adult Guinea Pig (Timothy Bas...\n",
      "3  B000HHSAU8    Tetra Whisper Fish Net With Soft Cushion Handle\n",
      "4  B000084F4T  Purina Pro Plan Focus Weight Management Chicke...\n",
      "5  B00874BSGG  Pet Waste Disposal Bags - 1000 Dog Poop Pick U...\n",
      "6  B000OQPVUE  TetraCichlid Cichlid Crisps Advanced Clear Wat...\n",
      "7  B000CMKHSQ  JW Pet Company Insight Cuttlebone Holder, Colo...\n",
      "8  B00028ZLD6                     Panacur Canine Dewormer 1 gram\n",
      "9  B0015G862M  Stella &amp; Chewy'S Freeze-Dried Dinner Patti...\n"
     ]
    }
   ],
   "source": [
    "top_ns_10 = n_recommendations[10][0]\n",
    "utilities.retrieve_recommendations(train, top_ns_10, mf_based=True)"
   ]
  },
  {
   "cell_type": "markdown",
   "id": "2d9e325a",
   "metadata": {},
   "source": [
    "## N=25"
   ]
  },
  {
   "cell_type": "code",
   "execution_count": 17,
   "id": "8555043a",
   "metadata": {},
   "outputs": [
    {
     "name": "stdout",
     "output_type": "stream",
     "text": [
      "For user: AUIQTTPIMCVQ4:\n",
      "Purchase History:\n",
      "             asin                                              title\n",
      "40981  B000ROR8Z4  Sojos Good Dog Crunchy Natural Dog Treats, 8-O...\n",
      "60885  B004ULYZII                         Bully Pizzle, 6 Inch 25 Pk\n",
      "67348  B00AEJANCW  KONG Chase-It Wand Squeaking Dog Toy, Assorted...\n",
      "\n",
      "Recommending:\n",
      "\n",
      "          asin                                              title\n",
      "0   B0029O0XGQ                     Temptations Classic Cat Treats\n",
      "1   B0015G862M  Stella &amp; Chewy'S Freeze-Dried Dinner Patti...\n",
      "2   B00025Z6Q6  Tetra TetraCichlid Balanced Diet Flakes Food f...\n",
      "3   B005NFSUFY  Oster Professional Turbo A5 Heavy Duty Animal ...\n",
      "4   B000A6UF4U     Gamma2 Vittles Vault Plus for Pet Food Storage\n",
      "5   B0021X17XS  Zymox Otic Enzymatic Pet Ear Treatment without...\n",
      "6   B000CMKHSQ  JW Pet Company Insight Cuttlebone Holder, Colo...\n",
      "7   B007CREMW6                             Flexi Giant Tape Leash\n",
      "8   B0002A5WQ0                            Prime, 4 L / 1 fl. gal.\n",
      "9   B0006Z9RB2  Pet Gear Happy Trails Pet Stroller for Cats/Do...\n",
      "10  B000084F4T  Purina Pro Plan Focus Weight Management Chicke...\n",
      "11  B00027ZWFO         Zoo Med ReptiSafe Water Conditioner, 64 oz\n",
      "12  B00061UX2I  Super Bird Creations 1/2-Inch by 52-Inch Rope ...\n",
      "13  B000O5DI3W     Greenies Pill Pocket Soft Dog Treats - Chicken\n",
      "14  B0006MU8RC          Merrick The Tank Beef Knuckle, Pack of 10\n",
      "15  B000255PFI                                      Seachem Prime\n",
      "16  B0029NVJFQ  Whiskas Temptations Creamy Dairy Flavour Treat...\n",
      "17  B003JFRQQ4  Scaredy Cut Tiny Trim by Small Pet Grooming Sa...\n",
      "18  B00E0HQR1U  No Grainers By Nootie Jerky Chew Grain Free Li...\n",
      "19  B0012KB4U2  Purina Whisker Lickin's Crunchy &amp; Yummy Ch...\n",
      "20  B00079PHV6             Earthbath Oatmeal and Aloe Conditioner\n",
      "21  B00H7PY3JA  Petseer Pet Odor Eliminator and Stain Remover ...\n",
      "22  B003BYQ1C8                            Armarkat Cat Tree Model\n",
      "23  B0002DJONY                            Vittles Vault Stackable\n",
      "24  B00CPDWT2M  Benebone Real Flavor Wishbone Dog Chew Toy, Ma...\n"
     ]
    }
   ],
   "source": [
    "top_ns_25 = n_recommendations[25][0]\n",
    "utilities.retrieve_recommendations(train, top_ns_25, mf_based=True)"
   ]
  },
  {
   "cell_type": "markdown",
   "id": "b63d0263",
   "metadata": {},
   "source": [
    "## N=30"
   ]
  },
  {
   "cell_type": "code",
   "execution_count": 18,
   "id": "e4ef333b",
   "metadata": {},
   "outputs": [
    {
     "name": "stdout",
     "output_type": "stream",
     "text": [
      "For user: A2YORE61EX6ASQ:\n",
      "Purchase History:\n",
      "             asin                             title\n",
      "24664  B0002XUIRA  Fashion Pet Suede Shearling Coat\n",
      "24707  B0002XUIRA  Fashion Pet Suede Shearling Coat\n",
      "\n",
      "Recommending:\n",
      "\n",
      "          asin                                              title\n",
      "0   B0002ARKVA           Kenic Kalaya Emu Oil Pet Spray, 17-Ounce\n",
      "1   B00H7PY3JA  Petseer Pet Odor Eliminator and Stain Remover ...\n",
      "2   B0012KB4U2  Purina Whisker Lickin's Crunchy &amp; Yummy Ch...\n",
      "3   B00079PHV6             Earthbath Oatmeal and Aloe Conditioner\n",
      "4   B0021X17XS  Zymox Otic Enzymatic Pet Ear Treatment without...\n",
      "5   B000255PFI                                      Seachem Prime\n",
      "6   B000A6UF4U     Gamma2 Vittles Vault Plus for Pet Food Storage\n",
      "7   B00025Z6Q6  Tetra TetraCichlid Balanced Diet Flakes Food f...\n",
      "8   B0029O0XGQ                     Temptations Classic Cat Treats\n",
      "9   B00028ZLD6                     Panacur Canine Dewormer 1 gram\n",
      "10  B0002DJONY                            Vittles Vault Stackable\n",
      "11  B000OQPVUE  TetraCichlid Cichlid Crisps Advanced Clear Wat...\n",
      "12  B000F4O9S0  LuckyPet Pet ID Tag - Round - Custom engraved ...\n",
      "13  B004J1JPUC  Antler Dog Chew From Pet Expertise, X-Small 3&...\n",
      "14  B003BYQ1C8                            Armarkat Cat Tree Model\n",
      "15  B0002A5WQ0                            Prime, 4 L / 1 fl. gal.\n",
      "16  B0017J8NDY  Mammoth Flossy Chews Cottonblend Color 5-Knot ...\n",
      "17  B007CREMW6                             Flexi Giant Tape Leash\n",
      "18  B001F0RQEW   Boss Pet - Prestige Dome Stake 21&quot; - Col...\n",
      "19  B0000AH3UK            Merrick Flossies Tendon Chews Pack of 5\n",
      "20  B000CMKHSQ  JW Pet Company Insight Cuttlebone Holder, Colo...\n",
      "21  B0064ZX6RO           P.L.A.Y. Pet Lifestyle and You Crate Pad\n",
      "22  B00008DFOG                     Redbarn Pet Products Food Roll\n",
      "23  B0010B6IFY  Purina Fancy Feast Grilled Collection Wet Cat ...\n",
      "24  B0027JF0NO   Van Ness Giant High Sides Cat Litter Pan, Ass...\n",
      "25  B000084F4T  Purina Pro Plan Focus Weight Management Chicke...\n",
      "26  B0002ASCD0  Van Ness. Heavyweight Jumbo Crock Dish, 106 Ounce\n",
      "27  B0018CK0EU  Stella &amp; Chewy'S Freeze-Dried Dinner Patti...\n",
      "28  B004BFGE1Y                       Aqueon Algae Cleaning Magnet\n",
      "29  B001EWCOCU  Coastal Pet Titan Metal Extra Heavy Chain Dog ...\n"
     ]
    }
   ],
   "source": [
    "top_ns_30 = n_recommendations[30][0]\n",
    "utilities.retrieve_recommendations(train, top_ns_30, mf_based=True)"
   ]
  },
  {
   "cell_type": "markdown",
   "id": "bb587e63",
   "metadata": {},
   "source": [
    "## N=45"
   ]
  },
  {
   "cell_type": "code",
   "execution_count": 19,
   "id": "06de827d",
   "metadata": {},
   "outputs": [
    {
     "name": "stdout",
     "output_type": "stream",
     "text": [
      "For user: A3PDSVXNSBA9ZQ:\n",
      "Purchase History:\n",
      "             asin                                              title\n",
      "20851  B0002DK2DU              Roll n Clean Self Cleaning Litter Box\n",
      "21049  B0002DK2DU              Roll n Clean Self Cleaning Litter Box\n",
      "31120  B0009YWLCM  K&amp;H Pet Products Pet Bed Warmer Tan - MET ...\n",
      "35405  B000G136RM                 Hartz Home Protection Gel Dog Pads\n",
      "\n",
      "Recommending:\n",
      "\n",
      "          asin                                              title\n",
      "0   B000084DXS  Hill's Science Diet Puppy Chicken &amp; Barley...\n",
      "1   B000084E7Y                  Multipet Duckworth Duck Large 13\"\n",
      "2   B00008434T                Ticked Off Pets Tick Remover, White\n",
      "3   B00008DFOG                     Redbarn Pet Products Food Roll\n",
      "4   B00008JOL0                       Zuke's Hip Action Dog Treats\n",
      "5   B0000AH3UK            Merrick Flossies Tendon Chews Pack of 5\n",
      "6   B000255MZG         API STRESS COAT Aquarium Water Conditioner\n",
      "7   B000255PFI                                      Seachem Prime\n",
      "8   B0002563O0                           JW Comfy Perch for Birds\n",
      "9   B00025662Y  Mardel CopperSafe Fish Treatment (Freshwater/S...\n",
      "10  B0002568HW  Fluval Aquastop For Fluval 104-404, 105-405 Se...\n",
      "11  B00025694Y                 Neutral Regulator, 500 g / 1.1 lbs\n",
      "12  B00025Z6Q6  Tetra TetraCichlid Balanced Diet Flakes Food f...\n",
      "13  B00027466A                            Chuckit! Travel Dog Bed\n",
      "14  B00027ZWFO         Zoo Med ReptiSafe Water Conditioner, 64 oz\n",
      "15  B00028ZLD6                     Panacur Canine Dewormer 1 gram\n",
      "16  B000296N7S  Panacur C Canine Dewormer, Net Wt. 12 Grams, P...\n",
      "17  B0002A5WQ0                            Prime, 4 L / 1 fl. gal.\n",
      "18  B0002APQUW  Simple Solution Pet Stain &amp; Odor Remover, ...\n",
      "19  B0002APQV6  Simple Solution Pet Stain and Odor Remover | E...\n",
      "20  B0002AR76I          Booda 1 Ring Swing N-Feet Perch for Birds\n",
      "21  B0002ARKVA           Kenic Kalaya Emu Oil Pet Spray, 17-Ounce\n",
      "22  B0002ARR22  Safari Dual-Sided, Stainless Steel Shedding Blade\n",
      "23  B0002AS1CC                 Bergan Turbo Scratcher Accessories\n",
      "24  B0002AS5H8         Ethical 5-Inch Cat-Paw Print Stonware Dish\n",
      "25  B0002ASCD0  Van Ness. Heavyweight Jumbo Crock Dish, 106 Ounce\n",
      "26  B0002ASCQC                          Van Ness 2 Cup Food Scoop\n",
      "27  B0002DGVY4  Herm Sprenger Pet Supply Imports Chrome Plated...\n",
      "28  B0002DI156                    Tetra ReptoTreat Suprema Sticks\n",
      "29  B0002DJODE                      Vitakraft Chinchilla Cocktail\n",
      "30  B0002DJONY                            Vittles Vault Stackable\n",
      "31  B0002DK4D8  PEDIGREE MARROBONE Dog Treats Real Beef Flavor...\n",
      "32  B0002E7IT0  New Life Spectrum Cichlid Formula - 2000 g (70...\n",
      "33  B0002YFB8A  Pet Ag KMR Milk Replacer Food Supplement for K...\n",
      "34  B00061MWJA  Oster Professional Pet Grooming Undercoat Rake...\n",
      "35  B00061UX2I  Super Bird Creations 1/2-Inch by 52-Inch Rope ...\n",
      "36  B0006JM0K8  Koller Products TM1240 Tom Aquarium Algae Scra...\n",
      "37  B0006N9LN8    Nupro Nutri-Pet All Natural Supplement for Dogs\n",
      "38  B00079PHV6             Earthbath Oatmeal and Aloe Conditioner\n",
      "39  B0009RSZ38                                     CET Toothpaste\n",
      "40  B0009YUIZE  Petmate FATCAT Big Mama's Scratchy Box Cardboa...\n",
      "41  B000A6UF4U     Gamma2 Vittles Vault Plus for Pet Food Storage\n",
      "42  B000AS94OK  Aria Sheer Delight Bows for Dogs, 100-Piece Ca...\n",
      "43  B000AYB4VK  Planet Dog 5' Natural Hemp Leash with Fleece H...\n",
      "44  B000CMKHSQ  JW Pet Company Insight Cuttlebone Holder, Colo...\n"
     ]
    }
   ],
   "source": [
    "top_ns_45 = n_recommendations[45][0]\n",
    "utilities.retrieve_recommendations(train, top_ns_45, mf_based=True)"
   ]
  },
  {
   "cell_type": "code",
   "execution_count": null,
   "id": "ecb9b090",
   "metadata": {},
   "outputs": [],
   "source": []
  }
 ],
 "metadata": {
  "kernelspec": {
   "display_name": "Python 3 (ipykernel)",
   "language": "python",
   "name": "python3"
  },
  "language_info": {
   "codemirror_mode": {
    "name": "ipython",
    "version": 3
   },
   "file_extension": ".py",
   "mimetype": "text/x-python",
   "name": "python",
   "nbconvert_exporter": "python",
   "pygments_lexer": "ipython3",
   "version": "3.9.6"
  }
 },
 "nbformat": 4,
 "nbformat_minor": 5
}
