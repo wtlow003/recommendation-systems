{
 "cells": [
  {
   "cell_type": "code",
   "execution_count": 1,
   "id": "c665c066",
   "metadata": {},
   "outputs": [
    {
     "name": "stderr",
     "output_type": "stream",
     "text": [
      "/Users/jensen/Desktop/recommendation-systems/projects/product-reviews-recommender/.venv/lib/python3.9/site-packages/gensim/similarities/__init__.py:15: UserWarning: The gensim.similarities.levenshtein submodule is disabled, because the optional Levenshtein package <https://pypi.org/project/python-Levenshtein/> is unavailable. Install Levenhstein (e.g. `pip install python-Levenshtein`) to suppress this warning.\n",
      "  warnings.warn(msg)\n"
     ]
    }
   ],
   "source": [
    "from pathlib import Path\n",
    "import pickle\n",
    "import warnings\n",
    "\n",
    "import numpy as np\n",
    "import pandas as pd\n",
    "\n",
    "from surprise import Dataset, Reader, dump\n",
    "from tqdm import tqdm\n",
    "\n",
    "from src.models import cf, evaluate_model\n",
    "from src.utilities import utilities\n",
    "\n",
    "tqdm.pandas()\n",
    "warnings.filterwarnings('ignore')"
   ]
  },
  {
   "cell_type": "markdown",
   "id": "c8423b6f",
   "metadata": {},
   "source": [
    "# Load Data"
   ]
  },
  {
   "cell_type": "code",
   "execution_count": 2,
   "id": "de9567d6",
   "metadata": {},
   "outputs": [],
   "source": [
    "# global variables\n",
    "DATA_PATH = \"data/evaluation\"\n",
    "CATEGORY = \"Grocery_and_Gourmet_Food\"\n",
    "MODEL_PATH = Path(f\"models/funk_svd/funk_svd_{CATEGORY}.pkl\")\n",
    "\n",
    "# training parameters\n",
    "N_EPOCHS = 15\n",
    "LR_ALL = 0.01\n",
    "BETA = 0.1\n",
    "\n",
    "# reproducibility checks\n",
    "SEED = 42\n",
    "np.random.seed(42)\n",
    "\n",
    "train = pd.read_csv(f\"{DATA_PATH}/{CATEGORY}_train.csv\")"
   ]
  },
  {
   "cell_type": "code",
   "execution_count": 3,
   "id": "df224947",
   "metadata": {},
   "outputs": [
    {
     "data": {
      "text/html": [
       "<div>\n",
       "<style scoped>\n",
       "    .dataframe tbody tr th:only-of-type {\n",
       "        vertical-align: middle;\n",
       "    }\n",
       "\n",
       "    .dataframe tbody tr th {\n",
       "        vertical-align: top;\n",
       "    }\n",
       "\n",
       "    .dataframe thead th {\n",
       "        text-align: right;\n",
       "    }\n",
       "</style>\n",
       "<table border=\"1\" class=\"dataframe\">\n",
       "  <thead>\n",
       "    <tr style=\"text-align: right;\">\n",
       "      <th></th>\n",
       "      <th>index</th>\n",
       "      <th>asin</th>\n",
       "      <th>title</th>\n",
       "      <th>categories</th>\n",
       "      <th>reviewerID</th>\n",
       "      <th>overall</th>\n",
       "      <th>reviewText</th>\n",
       "      <th>reviewTime</th>\n",
       "      <th>processedReviewText</th>\n",
       "    </tr>\n",
       "  </thead>\n",
       "  <tbody>\n",
       "    <tr>\n",
       "      <th>0</th>\n",
       "      <td>0</td>\n",
       "      <td>9742356831</td>\n",
       "      <td>Mae Ploy Green Curry Paste, 14 oz</td>\n",
       "      <td>['Grocery &amp; Gourmet Food', 'Sauces, Gravies &amp; ...</td>\n",
       "      <td>A23RYWDS884TUL</td>\n",
       "      <td>5.0</td>\n",
       "      <td>This curry paste makes a delicious curry.  I j...</td>\n",
       "      <td>2013-05-28</td>\n",
       "      <td>curry paste delicious curry fry chicken vegeta...</td>\n",
       "    </tr>\n",
       "    <tr>\n",
       "      <th>1</th>\n",
       "      <td>1</td>\n",
       "      <td>9742356831</td>\n",
       "      <td>Mae Ploy Green Curry Paste, 14 oz</td>\n",
       "      <td>['Grocery &amp; Gourmet Food', 'Sauces, Gravies &amp; ...</td>\n",
       "      <td>A945RBQWGZXCK</td>\n",
       "      <td>5.0</td>\n",
       "      <td>I've purchased different curries in the grocer...</td>\n",
       "      <td>2012-09-17</td>\n",
       "      <td>purchase different curry grocery store complet...</td>\n",
       "    </tr>\n",
       "    <tr>\n",
       "      <th>2</th>\n",
       "      <td>3</td>\n",
       "      <td>9742356831</td>\n",
       "      <td>Mae Ploy Green Curry Paste, 14 oz</td>\n",
       "      <td>['Grocery &amp; Gourmet Food', 'Sauces, Gravies &amp; ...</td>\n",
       "      <td>A3AMNY44OP8AOU</td>\n",
       "      <td>4.0</td>\n",
       "      <td>I started a new diet restricting all added sug...</td>\n",
       "      <td>2014-01-23</td>\n",
       "      <td>start new diet restrict added sugar brand suga...</td>\n",
       "    </tr>\n",
       "    <tr>\n",
       "      <th>3</th>\n",
       "      <td>4</td>\n",
       "      <td>9742356831</td>\n",
       "      <td>Mae Ploy Green Curry Paste, 14 oz</td>\n",
       "      <td>['Grocery &amp; Gourmet Food', 'Sauces, Gravies &amp; ...</td>\n",
       "      <td>A3IB4CQ2QEJLJ8</td>\n",
       "      <td>5.0</td>\n",
       "      <td>So many flavors. I can't begin to tell you how...</td>\n",
       "      <td>2014-04-27</td>\n",
       "      <td>flavor begin tell love mae ploy curry ask reci...</td>\n",
       "    </tr>\n",
       "    <tr>\n",
       "      <th>4</th>\n",
       "      <td>5</td>\n",
       "      <td>9742356831</td>\n",
       "      <td>Mae Ploy Green Curry Paste, 14 oz</td>\n",
       "      <td>['Grocery &amp; Gourmet Food', 'Sauces, Gravies &amp; ...</td>\n",
       "      <td>AQA5DF3RWKETQ</td>\n",
       "      <td>5.0</td>\n",
       "      <td>I've used this a lot recently in some of my ch...</td>\n",
       "      <td>2012-11-27</td>\n",
       "      <td>use lot recently chicken dish use lot like spi...</td>\n",
       "    </tr>\n",
       "    <tr>\n",
       "      <th>47769</th>\n",
       "      <td>77420</td>\n",
       "      <td>B00I33696K</td>\n",
       "      <td>Reese's Miniature Peanut Butter Cups .31oz - 1...</td>\n",
       "      <td>['Grocery &amp; Gourmet Food', 'Candy &amp; Chocolate'...</td>\n",
       "      <td>A192LQZWDYPR4U</td>\n",
       "      <td>5.0</td>\n",
       "      <td>Another quality Reese Peanut Butter Cup produc...</td>\n",
       "      <td>2014-02-27</td>\n",
       "      <td>quality reese peanut butter cup product great ...</td>\n",
       "    </tr>\n",
       "    <tr>\n",
       "      <th>47770</th>\n",
       "      <td>77421</td>\n",
       "      <td>B00I33696K</td>\n",
       "      <td>Reese's Miniature Peanut Butter Cups .31oz - 1...</td>\n",
       "      <td>['Grocery &amp; Gourmet Food', 'Candy &amp; Chocolate'...</td>\n",
       "      <td>A2QKXW3LDQ66P5</td>\n",
       "      <td>5.0</td>\n",
       "      <td>I purchased these for my husband who has every...</td>\n",
       "      <td>2013-02-20</td>\n",
       "      <td>purchase husband love reeses valentine day pre...</td>\n",
       "    </tr>\n",
       "    <tr>\n",
       "      <th>47771</th>\n",
       "      <td>77430</td>\n",
       "      <td>B00ID9VSOM</td>\n",
       "      <td>Viva Labs Organic Coconut Sugar: Non-GMO, Low-...</td>\n",
       "      <td>['Grocery &amp; Gourmet Food', 'Cooking &amp; Baking',...</td>\n",
       "      <td>A2P3TGJU301KXD</td>\n",
       "      <td>5.0</td>\n",
       "      <td>this stuff is INCREDIBILY yummy! SO much bette...</td>\n",
       "      <td>2014-07-15</td>\n",
       "      <td>stuff incredibily yummy good regular brown sug...</td>\n",
       "    </tr>\n",
       "    <tr>\n",
       "      <th>47772</th>\n",
       "      <td>77456</td>\n",
       "      <td>B00IRL93SY</td>\n",
       "      <td>Barrie House Kenya Estate - AA Single Cup Caps...</td>\n",
       "      <td>['Grocery &amp; Gourmet Food', 'Beverages', 'Coffe...</td>\n",
       "      <td>AEFE9VDHTQ199</td>\n",
       "      <td>5.0</td>\n",
       "      <td>Very nice aroma, body and taste! Will buy this...</td>\n",
       "      <td>2014-05-24</td>\n",
       "      <td>nice aroma body taste buy coffee good coffee a...</td>\n",
       "    </tr>\n",
       "    <tr>\n",
       "      <th>47773</th>\n",
       "      <td>77508</td>\n",
       "      <td>B00ISVHJ3Y</td>\n",
       "      <td>Wholesome Sweeteners, Organic Sweet and Lite S...</td>\n",
       "      <td>['Grocery &amp; Gourmet Food', 'Cooking &amp; Baking',...</td>\n",
       "      <td>A2AEZQ3DGBBLPR</td>\n",
       "      <td>2.0</td>\n",
       "      <td>This is a no go for diabetics according to my ...</td>\n",
       "      <td>2014-06-26</td>\n",
       "      <td>diabetic accord wife doctor order intention us...</td>\n",
       "    </tr>\n",
       "  </tbody>\n",
       "</table>\n",
       "</div>"
      ],
      "text/plain": [
       "       index        asin                                              title  \\\n",
       "0          0  9742356831                  Mae Ploy Green Curry Paste, 14 oz   \n",
       "1          1  9742356831                  Mae Ploy Green Curry Paste, 14 oz   \n",
       "2          3  9742356831                  Mae Ploy Green Curry Paste, 14 oz   \n",
       "3          4  9742356831                  Mae Ploy Green Curry Paste, 14 oz   \n",
       "4          5  9742356831                  Mae Ploy Green Curry Paste, 14 oz   \n",
       "47769  77420  B00I33696K  Reese's Miniature Peanut Butter Cups .31oz - 1...   \n",
       "47770  77421  B00I33696K  Reese's Miniature Peanut Butter Cups .31oz - 1...   \n",
       "47771  77430  B00ID9VSOM  Viva Labs Organic Coconut Sugar: Non-GMO, Low-...   \n",
       "47772  77456  B00IRL93SY  Barrie House Kenya Estate - AA Single Cup Caps...   \n",
       "47773  77508  B00ISVHJ3Y  Wholesome Sweeteners, Organic Sweet and Lite S...   \n",
       "\n",
       "                                              categories      reviewerID  \\\n",
       "0      ['Grocery & Gourmet Food', 'Sauces, Gravies & ...  A23RYWDS884TUL   \n",
       "1      ['Grocery & Gourmet Food', 'Sauces, Gravies & ...   A945RBQWGZXCK   \n",
       "2      ['Grocery & Gourmet Food', 'Sauces, Gravies & ...  A3AMNY44OP8AOU   \n",
       "3      ['Grocery & Gourmet Food', 'Sauces, Gravies & ...  A3IB4CQ2QEJLJ8   \n",
       "4      ['Grocery & Gourmet Food', 'Sauces, Gravies & ...   AQA5DF3RWKETQ   \n",
       "47769  ['Grocery & Gourmet Food', 'Candy & Chocolate'...  A192LQZWDYPR4U   \n",
       "47770  ['Grocery & Gourmet Food', 'Candy & Chocolate'...  A2QKXW3LDQ66P5   \n",
       "47771  ['Grocery & Gourmet Food', 'Cooking & Baking',...  A2P3TGJU301KXD   \n",
       "47772  ['Grocery & Gourmet Food', 'Beverages', 'Coffe...   AEFE9VDHTQ199   \n",
       "47773  ['Grocery & Gourmet Food', 'Cooking & Baking',...  A2AEZQ3DGBBLPR   \n",
       "\n",
       "       overall                                         reviewText  reviewTime  \\\n",
       "0          5.0  This curry paste makes a delicious curry.  I j...  2013-05-28   \n",
       "1          5.0  I've purchased different curries in the grocer...  2012-09-17   \n",
       "2          4.0  I started a new diet restricting all added sug...  2014-01-23   \n",
       "3          5.0  So many flavors. I can't begin to tell you how...  2014-04-27   \n",
       "4          5.0  I've used this a lot recently in some of my ch...  2012-11-27   \n",
       "47769      5.0  Another quality Reese Peanut Butter Cup produc...  2014-02-27   \n",
       "47770      5.0  I purchased these for my husband who has every...  2013-02-20   \n",
       "47771      5.0  this stuff is INCREDIBILY yummy! SO much bette...  2014-07-15   \n",
       "47772      5.0  Very nice aroma, body and taste! Will buy this...  2014-05-24   \n",
       "47773      2.0  This is a no go for diabetics according to my ...  2014-06-26   \n",
       "\n",
       "                                     processedReviewText  \n",
       "0      curry paste delicious curry fry chicken vegeta...  \n",
       "1      purchase different curry grocery store complet...  \n",
       "2      start new diet restrict added sugar brand suga...  \n",
       "3      flavor begin tell love mae ploy curry ask reci...  \n",
       "4      use lot recently chicken dish use lot like spi...  \n",
       "47769  quality reese peanut butter cup product great ...  \n",
       "47770  purchase husband love reeses valentine day pre...  \n",
       "47771  stuff incredibily yummy good regular brown sug...  \n",
       "47772  nice aroma body taste buy coffee good coffee a...  \n",
       "47773  diabetic accord wife doctor order intention us...  "
      ]
     },
     "execution_count": 3,
     "metadata": {},
     "output_type": "execute_result"
    }
   ],
   "source": [
    "# checking train dataframe\n",
    "train.head().append(train.tail())"
   ]
  },
  {
   "cell_type": "markdown",
   "id": "e086b611",
   "metadata": {},
   "source": [
    "# Utility Functions"
   ]
  },
  {
   "cell_type": "markdown",
   "id": "59cfe8eb",
   "metadata": {},
   "source": [
    "# Generate N-Recommendations = {10, 25, 30, 45}"
   ]
  },
  {
   "cell_type": "markdown",
   "id": "f907ff8c",
   "metadata": {},
   "source": [
    "## Load Test Data"
   ]
  },
  {
   "cell_type": "code",
   "execution_count": 4,
   "id": "746e250d",
   "metadata": {},
   "outputs": [],
   "source": [
    "test = pd.read_csv(f\"{DATA_PATH}/{CATEGORY}_test.csv\")"
   ]
  },
  {
   "cell_type": "code",
   "execution_count": 5,
   "id": "280f57c5",
   "metadata": {},
   "outputs": [
    {
     "data": {
      "text/html": [
       "<div>\n",
       "<style scoped>\n",
       "    .dataframe tbody tr th:only-of-type {\n",
       "        vertical-align: middle;\n",
       "    }\n",
       "\n",
       "    .dataframe tbody tr th {\n",
       "        vertical-align: top;\n",
       "    }\n",
       "\n",
       "    .dataframe thead th {\n",
       "        text-align: right;\n",
       "    }\n",
       "</style>\n",
       "<table border=\"1\" class=\"dataframe\">\n",
       "  <thead>\n",
       "    <tr style=\"text-align: right;\">\n",
       "      <th></th>\n",
       "      <th>index</th>\n",
       "      <th>asin</th>\n",
       "      <th>title</th>\n",
       "      <th>categories</th>\n",
       "      <th>reviewerID</th>\n",
       "      <th>overall</th>\n",
       "      <th>reviewText</th>\n",
       "      <th>reviewTime</th>\n",
       "      <th>processedReviewText</th>\n",
       "    </tr>\n",
       "  </thead>\n",
       "  <tbody>\n",
       "    <tr>\n",
       "      <th>0</th>\n",
       "      <td>2</td>\n",
       "      <td>9742356831</td>\n",
       "      <td>Mae Ploy Green Curry Paste, 14 oz</td>\n",
       "      <td>['Grocery &amp; Gourmet Food', 'Sauces, Gravies &amp; ...</td>\n",
       "      <td>A1TCSC0YWT82Q0</td>\n",
       "      <td>5.0</td>\n",
       "      <td>I love ethnic foods and to cook them. I recent...</td>\n",
       "      <td>2013-08-03</td>\n",
       "      <td>love ethnic food cook recently purchase produc...</td>\n",
       "    </tr>\n",
       "    <tr>\n",
       "      <th>1</th>\n",
       "      <td>8</td>\n",
       "      <td>9742356831</td>\n",
       "      <td>Mae Ploy Green Curry Paste, 14 oz</td>\n",
       "      <td>['Grocery &amp; Gourmet Food', 'Sauces, Gravies &amp; ...</td>\n",
       "      <td>A1Z7Y2GMAP9SRY</td>\n",
       "      <td>5.0</td>\n",
       "      <td>I like to make my own curry but this is a tast...</td>\n",
       "      <td>2014-06-27</td>\n",
       "      <td>like curry tasty alternative use base kind dif...</td>\n",
       "    </tr>\n",
       "    <tr>\n",
       "      <th>2</th>\n",
       "      <td>23</td>\n",
       "      <td>B00004S1C5</td>\n",
       "      <td>Ateco Food Coloring Kit, 6 colors</td>\n",
       "      <td>['Grocery &amp; Gourmet Food', 'Cooking &amp; Baking',...</td>\n",
       "      <td>A14YSMLYLJEMET</td>\n",
       "      <td>1.0</td>\n",
       "      <td>This product is no where near natural / organi...</td>\n",
       "      <td>2013-03-29</td>\n",
       "      <td>product near natural organic wish review purch...</td>\n",
       "    </tr>\n",
       "    <tr>\n",
       "      <th>3</th>\n",
       "      <td>31</td>\n",
       "      <td>B00005344V</td>\n",
       "      <td>Traditional Medicinals Organic Breathe Easy Se...</td>\n",
       "      <td>['Grocery &amp; Gourmet Food', 'Beverages', 'Coffe...</td>\n",
       "      <td>A2F488C4PLWGEI</td>\n",
       "      <td>5.0</td>\n",
       "      <td>If my wife drinks a cup of this tea when she f...</td>\n",
       "      <td>2014-03-23</td>\n",
       "      <td>wife drink cup tea feel attack come help avoid...</td>\n",
       "    </tr>\n",
       "    <tr>\n",
       "      <th>4</th>\n",
       "      <td>32</td>\n",
       "      <td>B00005344V</td>\n",
       "      <td>Traditional Medicinals Organic Breathe Easy Se...</td>\n",
       "      <td>['Grocery &amp; Gourmet Food', 'Beverages', 'Coffe...</td>\n",
       "      <td>AO1HXV7DWZZIR</td>\n",
       "      <td>5.0</td>\n",
       "      <td>I don't know about the medicinal aspects of th...</td>\n",
       "      <td>2014-02-06</td>\n",
       "      <td>know medicinal aspect tea flavor downright scr...</td>\n",
       "    </tr>\n",
       "    <tr>\n",
       "      <th>28001</th>\n",
       "      <td>77519</td>\n",
       "      <td>B00ISVHJ3Y</td>\n",
       "      <td>Wholesome Sweeteners, Organic Sweet and Lite S...</td>\n",
       "      <td>['Grocery &amp; Gourmet Food', 'Cooking &amp; Baking',...</td>\n",
       "      <td>A1WT3TVHANP7ZF</td>\n",
       "      <td>3.0</td>\n",
       "      <td>Hmmm. I really wanted to love this sweetener. ...</td>\n",
       "      <td>2014-07-22</td>\n",
       "      <td>hmmm want love sweetener half sugar half stevi...</td>\n",
       "    </tr>\n",
       "    <tr>\n",
       "      <th>28002</th>\n",
       "      <td>77520</td>\n",
       "      <td>B00ISVHJ3Y</td>\n",
       "      <td>Wholesome Sweeteners, Organic Sweet and Lite S...</td>\n",
       "      <td>['Grocery &amp; Gourmet Food', 'Cooking &amp; Baking',...</td>\n",
       "      <td>A3NEAETOSXDBOM</td>\n",
       "      <td>5.0</td>\n",
       "      <td>I confess I have a sweet tooth, and love the t...</td>\n",
       "      <td>2014-06-30</td>\n",
       "      <td>confess sweet tooth love taste sugar recognize...</td>\n",
       "    </tr>\n",
       "    <tr>\n",
       "      <th>28003</th>\n",
       "      <td>77521</td>\n",
       "      <td>B00ISVHJ3Y</td>\n",
       "      <td>Wholesome Sweeteners, Organic Sweet and Lite S...</td>\n",
       "      <td>['Grocery &amp; Gourmet Food', 'Cooking &amp; Baking',...</td>\n",
       "      <td>AD1ZOPB0BBEHB</td>\n",
       "      <td>4.0</td>\n",
       "      <td>It has a little of the stevia aftertaste, but ...</td>\n",
       "      <td>2014-07-17</td>\n",
       "      <td>little stevia aftertaste fair compromise able ...</td>\n",
       "    </tr>\n",
       "    <tr>\n",
       "      <th>28004</th>\n",
       "      <td>77522</td>\n",
       "      <td>B00ISVHJ3Y</td>\n",
       "      <td>Wholesome Sweeteners, Organic Sweet and Lite S...</td>\n",
       "      <td>['Grocery &amp; Gourmet Food', 'Cooking &amp; Baking',...</td>\n",
       "      <td>A18ECVX2RJ7HUE</td>\n",
       "      <td>5.0</td>\n",
       "      <td>i love marinade for grilled flank steak or lon...</td>\n",
       "      <td>2014-05-30</td>\n",
       "      <td>love marinade grilled flank steak london broil...</td>\n",
       "    </tr>\n",
       "    <tr>\n",
       "      <th>28005</th>\n",
       "      <td>77523</td>\n",
       "      <td>B00ISVHJ3Y</td>\n",
       "      <td>Wholesome Sweeteners, Organic Sweet and Lite S...</td>\n",
       "      <td>['Grocery &amp; Gourmet Food', 'Cooking &amp; Baking',...</td>\n",
       "      <td>A2G04D4QZAXL15</td>\n",
       "      <td>3.0</td>\n",
       "      <td>I've been using Truvia (a form of stevia) on m...</td>\n",
       "      <td>2014-05-27</td>\n",
       "      <td>use truvia form stevia cereal greek yogurt yea...</td>\n",
       "    </tr>\n",
       "  </tbody>\n",
       "</table>\n",
       "</div>"
      ],
      "text/plain": [
       "       index        asin                                              title  \\\n",
       "0          2  9742356831                  Mae Ploy Green Curry Paste, 14 oz   \n",
       "1          8  9742356831                  Mae Ploy Green Curry Paste, 14 oz   \n",
       "2         23  B00004S1C5                  Ateco Food Coloring Kit, 6 colors   \n",
       "3         31  B00005344V  Traditional Medicinals Organic Breathe Easy Se...   \n",
       "4         32  B00005344V  Traditional Medicinals Organic Breathe Easy Se...   \n",
       "28001  77519  B00ISVHJ3Y  Wholesome Sweeteners, Organic Sweet and Lite S...   \n",
       "28002  77520  B00ISVHJ3Y  Wholesome Sweeteners, Organic Sweet and Lite S...   \n",
       "28003  77521  B00ISVHJ3Y  Wholesome Sweeteners, Organic Sweet and Lite S...   \n",
       "28004  77522  B00ISVHJ3Y  Wholesome Sweeteners, Organic Sweet and Lite S...   \n",
       "28005  77523  B00ISVHJ3Y  Wholesome Sweeteners, Organic Sweet and Lite S...   \n",
       "\n",
       "                                              categories      reviewerID  \\\n",
       "0      ['Grocery & Gourmet Food', 'Sauces, Gravies & ...  A1TCSC0YWT82Q0   \n",
       "1      ['Grocery & Gourmet Food', 'Sauces, Gravies & ...  A1Z7Y2GMAP9SRY   \n",
       "2      ['Grocery & Gourmet Food', 'Cooking & Baking',...  A14YSMLYLJEMET   \n",
       "3      ['Grocery & Gourmet Food', 'Beverages', 'Coffe...  A2F488C4PLWGEI   \n",
       "4      ['Grocery & Gourmet Food', 'Beverages', 'Coffe...   AO1HXV7DWZZIR   \n",
       "28001  ['Grocery & Gourmet Food', 'Cooking & Baking',...  A1WT3TVHANP7ZF   \n",
       "28002  ['Grocery & Gourmet Food', 'Cooking & Baking',...  A3NEAETOSXDBOM   \n",
       "28003  ['Grocery & Gourmet Food', 'Cooking & Baking',...   AD1ZOPB0BBEHB   \n",
       "28004  ['Grocery & Gourmet Food', 'Cooking & Baking',...  A18ECVX2RJ7HUE   \n",
       "28005  ['Grocery & Gourmet Food', 'Cooking & Baking',...  A2G04D4QZAXL15   \n",
       "\n",
       "       overall                                         reviewText  reviewTime  \\\n",
       "0          5.0  I love ethnic foods and to cook them. I recent...  2013-08-03   \n",
       "1          5.0  I like to make my own curry but this is a tast...  2014-06-27   \n",
       "2          1.0  This product is no where near natural / organi...  2013-03-29   \n",
       "3          5.0  If my wife drinks a cup of this tea when she f...  2014-03-23   \n",
       "4          5.0  I don't know about the medicinal aspects of th...  2014-02-06   \n",
       "28001      3.0  Hmmm. I really wanted to love this sweetener. ...  2014-07-22   \n",
       "28002      5.0  I confess I have a sweet tooth, and love the t...  2014-06-30   \n",
       "28003      4.0  It has a little of the stevia aftertaste, but ...  2014-07-17   \n",
       "28004      5.0  i love marinade for grilled flank steak or lon...  2014-05-30   \n",
       "28005      3.0  I've been using Truvia (a form of stevia) on m...  2014-05-27   \n",
       "\n",
       "                                     processedReviewText  \n",
       "0      love ethnic food cook recently purchase produc...  \n",
       "1      like curry tasty alternative use base kind dif...  \n",
       "2      product near natural organic wish review purch...  \n",
       "3      wife drink cup tea feel attack come help avoid...  \n",
       "4      know medicinal aspect tea flavor downright scr...  \n",
       "28001  hmmm want love sweetener half sugar half stevi...  \n",
       "28002  confess sweet tooth love taste sugar recognize...  \n",
       "28003  little stevia aftertaste fair compromise able ...  \n",
       "28004  love marinade grilled flank steak london broil...  \n",
       "28005  use truvia form stevia cereal greek yogurt yea...  "
      ]
     },
     "execution_count": 5,
     "metadata": {},
     "output_type": "execute_result"
    }
   ],
   "source": [
    "test.head().append(test.tail())"
   ]
  },
  {
   "cell_type": "code",
   "execution_count": 6,
   "id": "5c7f4039",
   "metadata": {},
   "outputs": [],
   "source": [
    "# generating test history\n",
    "test_user_history = (pd.DataFrame(test.groupby(['reviewerID'])['asin']\n",
    "                                  .apply(list).reset_index()))"
   ]
  },
  {
   "cell_type": "code",
   "execution_count": 7,
   "id": "a141edc8",
   "metadata": {},
   "outputs": [
    {
     "name": "stdout",
     "output_type": "stream",
     "text": [
      "                  reviewerID  \\\n",
      "0      A00177463W0XWB16A9O05   \n",
      "1      A022899328A0QROR32DCT   \n",
      "2      A068255029AHTHDXZURNU   \n",
      "3      A06944662TFWOKKV4GJKX   \n",
      "4             A1004703RC79J9   \n",
      "...                      ...   \n",
      "13274          AZWRZZAMX90VT   \n",
      "13275          AZXKAH2DE6C8A   \n",
      "13276          AZXON596A1VXC   \n",
      "13277          AZYXC63SS008M   \n",
      "13278          AZZ5ASC403N74   \n",
      "\n",
      "                                                    asin  \n",
      "0                               [B00474OR8G, B00BFM6OAW]  \n",
      "1                                           [B00CMQDKES]  \n",
      "2                                           [B001FA1K2G]  \n",
      "3                                           [B000GFYRHG]  \n",
      "4                                           [B003GTR8IO]  \n",
      "...                                                  ...  \n",
      "13274  [B0007R9L4M, B000CN7BMA, B001EQ5D1K, B002VT3GX...  \n",
      "13275   [B000MAK41I, B004X8TJP2, B006H34CUS, B007W14RMM]  \n",
      "13276                           [B001EO5S0I, B00271QQ7Q]  \n",
      "13277                                       [B0054TWPNC]  \n",
      "13278                                       [B00BIEU5PC]  \n",
      "\n",
      "[13279 rows x 2 columns]\n"
     ]
    }
   ],
   "source": [
    "print(test_user_history)"
   ]
  },
  {
   "cell_type": "markdown",
   "id": "090a56a2",
   "metadata": {},
   "source": [
    "## Instantiate FunkSVD (Matrix Factorization)"
   ]
  },
  {
   "cell_type": "code",
   "execution_count": 8,
   "id": "84886447",
   "metadata": {},
   "outputs": [],
   "source": [
    "# instantiating funksvd \n",
    "funk_svd = cf.FunkMF(n_epochs=N_EPOCHS, \n",
    "                     lr_all=LR_ALL, \n",
    "                     reg_all=BETA)"
   ]
  },
  {
   "cell_type": "code",
   "execution_count": 9,
   "id": "6cebc3d3",
   "metadata": {},
   "outputs": [
    {
     "name": "stdout",
     "output_type": "stream",
     "text": [
      "Processing epoch 0\n",
      "Processing epoch 1\n",
      "Processing epoch 2\n",
      "Processing epoch 3\n",
      "Processing epoch 4\n",
      "Processing epoch 5\n",
      "Processing epoch 6\n",
      "Processing epoch 7\n",
      "Processing epoch 8\n",
      "Processing epoch 9\n",
      "Processing epoch 10\n",
      "Processing epoch 11\n",
      "Processing epoch 12\n",
      "Processing epoch 13\n",
      "Processing epoch 14\n"
     ]
    }
   ],
   "source": [
    "# fitting to the training data\n",
    "funk_svd.fit(train)"
   ]
  },
  {
   "cell_type": "code",
   "execution_count": 10,
   "id": "75d850f3",
   "metadata": {},
   "outputs": [
    {
     "name": "stdout",
     "output_type": "stream",
     "text": [
      "CPU times: user 30.8 s, sys: 1.25 s, total: 32.1 s\n",
      "Wall time: 32.2 s\n"
     ]
    }
   ],
   "source": [
    "%%time\n",
    "# creating testset for prediction\n",
    "testset = funk_svd.trainset.build_anti_testset()"
   ]
  },
  {
   "cell_type": "code",
   "execution_count": 11,
   "id": "7ac2aaca",
   "metadata": {},
   "outputs": [
    {
     "name": "stdout",
     "output_type": "stream",
     "text": [
      "CPU times: user 6min 52s, sys: 1min 46s, total: 8min 38s\n",
      "Wall time: 9min 14s\n"
     ]
    }
   ],
   "source": [
    "%%time\n",
    "# generate candidate times\n",
    "candidate_items = funk_svd.test(testset)"
   ]
  },
  {
   "cell_type": "markdown",
   "id": "46c12b78",
   "metadata": {},
   "source": [
    "## Save Model\n",
    "\n",
    "* Not adviced to save model due to long persistence time required to save the model."
   ]
  },
  {
   "cell_type": "code",
   "execution_count": 12,
   "id": "01b918b2",
   "metadata": {},
   "outputs": [],
   "source": [
    "# MODEL_PATH.parent.mkdir(parents=True, exist_ok=True)\n",
    "# dump.dump(MODEL_PATH, algo=funk_svd)"
   ]
  },
  {
   "cell_type": "code",
   "execution_count": 13,
   "id": "176370e9",
   "metadata": {},
   "outputs": [],
   "source": [
    "# load model\n",
    "# _, funk_svd = dump.load(MODEL_PATH)"
   ]
  },
  {
   "cell_type": "markdown",
   "id": "fe3b5941",
   "metadata": {},
   "source": [
    "## Loop through N = {10, 25, 30, 45}"
   ]
  },
  {
   "cell_type": "code",
   "execution_count": 14,
   "id": "89c333b3",
   "metadata": {},
   "outputs": [],
   "source": [
    "# generate item popularity\n",
    "item_popularity = evaluate_model.generate_item_popularity(train)"
   ]
  },
  {
   "cell_type": "code",
   "execution_count": 15,
   "id": "8e8bd8fc",
   "metadata": {},
   "outputs": [
    {
     "name": "stdout",
     "output_type": "stream",
     "text": [
      "The FUNK-SVD has an average recall@10: 0.00349, average novelty@10: 0.94647\n",
      "The FUNK-SVD has an average recall@25: 0.01046, average novelty@25: 0.94908\n",
      "The FUNK-SVD has an average recall@30: 0.01257, average novelty@30: 0.94992\n",
      "The FUNK-SVD has an average recall@45: 0.01875, average novelty@45: 0.95206\n",
      "CPU times: user 4min 10s, sys: 1min 48s, total: 5min 59s\n",
      "Wall time: 7min 19s\n"
     ]
    }
   ],
   "source": [
    "%%time\n",
    "n_recommendations = {}\n",
    "for n in [10, 25, 30, 45]:\n",
    "    # retrieve the top-n items based on similarities\n",
    "    # top_ns = get_top_n(candidate_items, n)\n",
    "    top_ns = funk_svd.get_top_n(n)\n",
    "    # evaluate how well the recommended items predicted the future purchases\n",
    "    n_recommended_items = (evaluate_model.\n",
    "                           evaluate_recommendations(model_name = 'FUNK-SVD',\n",
    "                                                    top_ns = top_ns,\n",
    "                                                    user_rating_history = test_user_history, \n",
    "                                                    item_popularity = item_popularity, \n",
    "                                                    n = n,\n",
    "                                                    mf_based = True))\n",
    "    # saving the n-value and recommended items\n",
    "    n_recommendations[n] = (top_ns, n_recommended_items)"
   ]
  },
  {
   "cell_type": "markdown",
   "id": "6b054127",
   "metadata": {},
   "source": [
    "# Evaluate N-Recommendations"
   ]
  },
  {
   "cell_type": "markdown",
   "id": "7c56fb86",
   "metadata": {},
   "source": [
    "## N=10"
   ]
  },
  {
   "cell_type": "code",
   "execution_count": 16,
   "id": "93f6073e",
   "metadata": {},
   "outputs": [
    {
     "name": "stdout",
     "output_type": "stream",
     "text": [
      "For user: A3R3SOV9T2GQUG:\n",
      "Purchase History:\n",
      "             asin                                              title\n",
      "17110  B001CHFUDC  Coffee People Donut Shop Regular Medium Roast ...\n",
      "20836  B001EO6ESS  Green Mountain Coffee Decaf Dark Magic, 24-Cou...\n",
      "\n",
      "Recommending:\n",
      "\n",
      "         asin                                              title\n",
      "0  B000G82L62  Lundberg Family Farms Wild Blend Rice, 16 Ounc...\n",
      "1  B000JMAVYO  Spicy World Almonds Whole (Natural and Raw), 4...\n",
      "2  B001PEWJWC  Garbanzo Beans aka Chickpeas or Ceci Beans | N...\n",
      "3  B0042PB70Q  La Tourangelle Organic Sunflower Oil, 16.9-Oun...\n",
      "4  B000VK4F5A  Kinnikinnick Gluten Free Animal Cookies, 8 Oun...\n",
      "5  B000EDM6BO  Bob's Red Mill Whole Grain Teff, 24-ounce (Pac...\n",
      "6  B002EY5TTW  Wild Planet, Wild Albacore Tuna, 5-Ounce Cans,...\n",
      "7  B0029JEJR0  Dove Dark Chocolate Almond Promises, 8.5-Ounce...\n",
      "8  B001LQWO8I  Stakich RAW HONEY - 100% Pure, Unprocessed, Un...\n",
      "9  B000216O16   Authentic Foods Superfine White Rice Flour - 3lb\n"
     ]
    }
   ],
   "source": [
    "top_ns_10 = n_recommendations[10][0]\n",
    "utilities.retrieve_recommendations(train, top_ns_10, mf_based=True)"
   ]
  },
  {
   "cell_type": "markdown",
   "id": "2d9e325a",
   "metadata": {},
   "source": [
    "## N=25"
   ]
  },
  {
   "cell_type": "code",
   "execution_count": 17,
   "id": "8555043a",
   "metadata": {},
   "outputs": [
    {
     "name": "stdout",
     "output_type": "stream",
     "text": [
      "For user: AT2IQUQOH1W4Q:\n",
      "Purchase History:\n",
      "             asin                                              title\n",
      "21373  B001EQ4Z96  McCormick Culinary Imitation Banana Extract, 1...\n",
      "29358  B002EY5TTW  Wild Planet, Wild Albacore Tuna, 5-Ounce Cans,...\n",
      "\n",
      "Recommending:\n",
      "\n",
      "          asin                                              title\n",
      "0   B00271QQ7Q  Coombs Family Farms 100% Pure Organic Maple Sy...\n",
      "1   B000EDK5LM  Bob's Red Mill Vital Wheat Gluten Flour, 22-ou...\n",
      "2   B000216O16   Authentic Foods Superfine White Rice Flour - 3lb\n",
      "3   B000S8593W           Nutiva Hempseeds, Shelled, Pouch 8.00 OZ\n",
      "4   B003OGKCDC  Nature's Way Organic Extra Virgin Coconut Oil-...\n",
      "5   B0029J6QLM         Snickers Dark Chocolate Candy (Pack of 24)\n",
      "6   B001PEWJWC  Garbanzo Beans aka Chickpeas or Ceci Beans | N...\n",
      "7   B000EDM6BO  Bob's Red Mill Whole Grain Teff, 24-ounce (Pac...\n",
      "8   B004AFODLI  Kodiak Cakes All Natural Frontier Pancake, Fla...\n",
      "9   B001LQWO8I  Stakich RAW HONEY - 100% Pure, Unprocessed, Un...\n",
      "10  B000EDG3UE  Bob's Red Mill Organic Grain Quinoa, 26 Ounce ...\n",
      "11  B001EO5ZHO  Huy Fong, Sriracha Hot Chili Sauce, 17-Ounce B...\n",
      "12  B0014UH7J2          NOW real Food Xanthan Gum Powder, 6-Ounce\n",
      "13  B002AUF0Q2   Glutenfreeda Gluten Free Instant Oatmeal, Var...\n",
      "14  B000JMAVYO  Spicy World Almonds Whole (Natural and Raw), 4...\n",
      "15  B001ELL44A  Arrowhead Mills Organic Spelt Flour, 2 Pound (...\n",
      "16  B0001M0Z6Q  Spicy World Peppercorn (Whole)-Black Tellicher...\n",
      "17  B000EDDS6Q  Bob's Red Mill Old Country Style Muesli Cereal...\n",
      "18  B000HDJZWO  Enjoy Life Baking Chocolate, Soy free, Nut fre...\n",
      "19  B000F4D5GC  Let's Do Organic Shredded, Unsweetened Coconut...\n",
      "20  B004YN7VYM  Dreamfields Pasta Healthy Carb Living, Elbow M...\n",
      "21  B000FDMLVS  Hodgson Mill Vital Wheat Gluten 6.5-Ounce Boxe...\n",
      "22  B00250M2ZY  Bobs Sweet Stripes Soft Peppermint Balls (51 O...\n",
      "23  B00DS842HS  Viva Naturals Organic Extra Virgin Coconut Oil...\n",
      "24  B0039QXWPM  Harmony House Foods Soup Mix, Dried Vegetable,...\n"
     ]
    }
   ],
   "source": [
    "top_ns_25 = n_recommendations[25][0]\n",
    "utilities.retrieve_recommendations(train, top_ns_25, mf_based=True)"
   ]
  },
  {
   "cell_type": "markdown",
   "id": "b63d0263",
   "metadata": {},
   "source": [
    "## N=30"
   ]
  },
  {
   "cell_type": "code",
   "execution_count": 18,
   "id": "e4ef333b",
   "metadata": {},
   "outputs": [
    {
     "name": "stdout",
     "output_type": "stream",
     "text": [
      "For user: A1F9Z42CFF9IAY:\n",
      "Purchase History:\n",
      "             asin                                              title\n",
      "24784  B001M09AZS  Quaker Instant Oatmeal Cinnamon &amp; Spice, 1...\n",
      "33996  B0045Z4JAI  Newman's Own Organics Newman's Special Decaf K...\n",
      "35453  B004FELBH8  Newtons Fruit Thins Fig and Honey, 10.5-Ounce ...\n",
      "37061  B004LA1LKI  Ritz Crackerful Multigrain Crackers, Sharp Che...\n",
      "41144  B005K4Q1T0  Grove Square Hot Cocoa Dark Chocolate, 24 Sing...\n",
      "42190  B005VOOQHS  Kool Aid Peach Mango Sugar Sweetened, 19-Ounce...\n",
      "42541  B0061IUKDM  Higgins &amp; Burke, Green Tea, 20 Count (Pack...\n",
      "43485  B006MONQMC  Vitamin Squeeze Energy Drink, Fruit Punch, 12-...\n",
      "44735  B007JFXWRC  Lipton Herbal Pyramid Tea Bags, Blackberry Van...\n",
      "45014  B007POT6VI         Quaker Instant Oats Variety Pack, 48-Count\n",
      "45594  B008YUL4KI  Lipton Pyramid Tea Bags, Spiced Cinnamon Chai,...\n",
      "\n",
      "Recommending:\n",
      "\n",
      "          asin                                              title\n",
      "0   B000JMAVYO  Spicy World Almonds Whole (Natural and Raw), 4...\n",
      "1   B001PEWJWC  Garbanzo Beans aka Chickpeas or Ceci Beans | N...\n",
      "2   B000G82L62  Lundberg Family Farms Wild Blend Rice, 16 Ounc...\n",
      "3   B0016BS3BK  Ghirardelli Double Chocolate Brownie Mix, 18-O...\n",
      "4   B001PF1846  Green Split Peas | Non-GMO Project Verified | ...\n",
      "5   B003WEC9PU  JOLLY RANCHER Hard Candy, Watermelon, 160 Coun...\n",
      "6   B0029JES6W  M&amp;M'S Almond Chocolate Candy 9.9-Ounce Bag...\n",
      "7   B004KUV136  GF Harvest Gluten Free Organic Rolled Oats, 41...\n",
      "8   B004VLVOJ0  Bob's Red Mill Organic Oats Whole Groats, 29 O...\n",
      "9   B00020UGNE  Leonidas Belgian Chocolates: 1 lb Signature Or...\n",
      "10  B001PIH3MY  Annie's Organic Cheddar Bunnies, Baked Snack C...\n",
      "11  B002HG9R1I          Atomic Horseradish - Extra Hot - 6 Oz Jar\n",
      "12  B001LQWO8I  Stakich RAW HONEY - 100% Pure, Unprocessed, Un...\n",
      "13  B005E230UG  Raw Almonds from California - 10 (1 Lb) Reseal...\n",
      "14  B002EY5TTW  Wild Planet, Wild Albacore Tuna, 5-Ounce Cans,...\n",
      "15  B001EO5ZHO  Huy Fong, Sriracha Hot Chili Sauce, 17-Ounce B...\n",
      "16  B00286KM2A  Lipton Gallon-Sized Black Iced Tea Bags, Unswe...\n",
      "17  B00856TSCC  Manitoba Harvest Hemp Hearts Raw Shelled Hemp ...\n",
      "18  B000EVE3YE  Glutino Gluten Free Pantry Muffin Mix, 15-Ounc...\n",
      "19  B000EDM6BO  Bob's Red Mill Whole Grain Teff, 24-ounce (Pac...\n",
      "20  B000ISZ310  NOW Foods Organic Cocoa Powder, Unsweetened-12 oz\n",
      "21  B000EDDS6Q  Bob's Red Mill Old Country Style Muesli Cereal...\n",
      "22  B001ELL68Y                     Grocery &amp; Gourmet Food\" />\n",
      "23  B005VBD4BA  Campbell's Tomato Soup, 14.5 Ounce Cans (Pack ...\n",
      "24  B0001CXUHW                   Saf Instant Yeast, 1 Pound Pouch\n",
      "25  B0029JEKAG  Dove Milk Chocolate, Silky Smooth Promises, 9....\n",
      "26  B003OGKCDC  Nature's Way Organic Extra Virgin Coconut Oil-...\n",
      "27  B002O58YH0  Eight O'Clock Whole Bean Coffee, The Original,...\n",
      "28  B0000DI085  Simply Organic Almond Extract, Certified Organ...\n",
      "29  B000F4D5GC  Let's Do Organic Shredded, Unsweetened Coconut...\n"
     ]
    }
   ],
   "source": [
    "top_ns_30 = n_recommendations[30][0]\n",
    "utilities.retrieve_recommendations(train, top_ns_30, mf_based=True)"
   ]
  },
  {
   "cell_type": "markdown",
   "id": "bb587e63",
   "metadata": {},
   "source": [
    "## N=45"
   ]
  },
  {
   "cell_type": "code",
   "execution_count": 19,
   "id": "06de827d",
   "metadata": {},
   "outputs": [
    {
     "name": "stdout",
     "output_type": "stream",
     "text": [
      "For user: A19XXJ5ZQCMA5B:\n",
      "Purchase History:\n",
      "             asin                                              title\n",
      "13551  B000YPIL2K  Quaker Instant Grits Flavor Variety, 12-Count ...\n",
      "19001  B001E5E24A   Medaglia D&#39;Oro Instant Espresso Coffee, 2...\n",
      "\n",
      "Recommending:\n",
      "\n",
      "          asin                                              title\n",
      "0   B000216O16   Authentic Foods Superfine White Rice Flour - 3lb\n",
      "1   B0029J6QLM         Snickers Dark Chocolate Candy (Pack of 24)\n",
      "2   B0021491QM  Ortiz Bonito Del Norte - White Tuna in Olive O...\n",
      "3   B000JMAVYO  Spicy World Almonds Whole (Natural and Raw), 4...\n",
      "4   B001E50WDA  SPLENDA No Calorie Sweetener Granular, 9.7-Oun...\n",
      "5   B000EICISA       Mae Ploy Thai Yellow Curry Paste - 14 oz jar\n",
      "6   B000EVE3YE  Glutino Gluten Free Pantry Muffin Mix, 15-Ounc...\n",
      "7   B0029JEJR0  Dove Dark Chocolate Almond Promises, 8.5-Ounce...\n",
      "8   B001PF1846  Green Split Peas | Non-GMO Project Verified | ...\n",
      "9   B003OGKCDC  Nature's Way Organic Extra Virgin Coconut Oil-...\n",
      "10  B001ELL68Y                     Grocery &amp; Gourmet Food\" />\n",
      "11  B001IZBIRA  KIT KAT White Cr&egrave;me Candy Bar (Pack of 24)\n",
      "12  B0002YB40O        Ajinomoto - Hon Dashi (Soup Stock) 4.23 Oz.\n",
      "13  B003S1TNIS  FiberGourmet Light Spaghetti, 8-Ounce Boxes (P...\n",
      "14  B0000IJYK4  Maseca Instant Yellow Corn Masa Flour 4.84lb |...\n",
      "15  B00250M2ZY  Bobs Sweet Stripes Soft Peppermint Balls (51 O...\n",
      "16  B001ELL44A  Arrowhead Mills Organic Spelt Flour, 2 Pound (...\n",
      "17  B000F4D5GC  Let's Do Organic Shredded, Unsweetened Coconut...\n",
      "18  B000EDDS6Q  Bob's Red Mill Old Country Style Muesli Cereal...\n",
      "19  B000FDMLVS  Hodgson Mill Vital Wheat Gluten 6.5-Ounce Boxe...\n",
      "20  B000HDJZWO  Enjoy Life Baking Chocolate, Soy free, Nut fre...\n",
      "21  B000XBCBW6                    Kirkland Signature Walnuts-3lbs\n",
      "22  B000WR8TK4  Simply Organic All-Purpose Seasoning, Certifie...\n",
      "23  B000FBM54S  Jules Destrooper Butter Waffles, Belgian Vanil...\n",
      "24  B001VNGLEY  Frontier Co-op Organic Mediterranean Oregano L...\n",
      "25  B0000DI085  Simply Organic Almond Extract, Certified Organ...\n",
      "26  B005C3IVN8  Anderson's Pure Maple Syrup, Grade A Very Dark...\n",
      "27  B002EY5TTW  Wild Planet, Wild Albacore Tuna, 5-Ounce Cans,...\n",
      "28  B001ELL4E0   Arrowhead Mills Organic Hot Cereal, Steel Cut...\n",
      "29  B002RBRY0Y  Lindt LINDOR Dark Chocolate Truffles, Kosher, ...\n",
      "30  B001EO5ZHO  Huy Fong, Sriracha Hot Chili Sauce, 17-Ounce B...\n",
      "31  B00856TSCC  Manitoba Harvest Hemp Hearts Raw Shelled Hemp ...\n",
      "32  B001E5DYEE  Traverse Bay Fruit Dried Cherries, 8 Ounce (Pa...\n",
      "33  B003WEC9PU  JOLLY RANCHER Hard Candy, Watermelon, 160 Coun...\n",
      "34  B001PEWJWC  Garbanzo Beans aka Chickpeas or Ceci Beans | N...\n",
      "35  B000EDM6BO  Bob's Red Mill Whole Grain Teff, 24-ounce (Pac...\n",
      "36  B000WL39JQ  HERSHEY'S Chocolate Candy Bar , 30 Count Varie...\n",
      "37  B000LKU59A  Santa Barbara Olive Co. California Medium Pitt...\n",
      "38  B0029JES6W  M&amp;M'S Almond Chocolate Candy 9.9-Ounce Bag...\n",
      "39  B000S8593W           Nutiva Hempseeds, Shelled, Pouch 8.00 OZ\n",
      "40  B000EDK5LM  Bob's Red Mill Vital Wheat Gluten Flour, 22-ou...\n",
      "41  B002HG9R1I          Atomic Horseradish - Extra Hot - 6 Oz Jar\n",
      "42  B005C3IVME     Anderson's Pure Maple Syrup, Grade A, 32-Ounce\n",
      "43  B001LQWO8I  Stakich RAW HONEY - 100% Pure, Unprocessed, Un...\n",
      "44  B004VDGXG2  Nestle Carnation Instant Nonfat Dry Milk, 9.6-...\n"
     ]
    }
   ],
   "source": [
    "top_ns_45 = n_recommendations[45][0]\n",
    "utilities.retrieve_recommendations(train, top_ns_45, mf_based=True)"
   ]
  },
  {
   "cell_type": "code",
   "execution_count": null,
   "id": "ecb9b090",
   "metadata": {},
   "outputs": [],
   "source": []
  }
 ],
 "metadata": {
  "kernelspec": {
   "display_name": "Python 3 (ipykernel)",
   "language": "python",
   "name": "python3"
  },
  "language_info": {
   "codemirror_mode": {
    "name": "ipython",
    "version": 3
   },
   "file_extension": ".py",
   "mimetype": "text/x-python",
   "name": "python",
   "nbconvert_exporter": "python",
   "pygments_lexer": "ipython3",
   "version": "3.9.6"
  }
 },
 "nbformat": 4,
 "nbformat_minor": 5
}
