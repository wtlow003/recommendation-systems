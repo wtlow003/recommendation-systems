{
 "metadata": {
  "language_info": {
   "codemirror_mode": {
    "name": "ipython",
    "version": 3
   },
   "file_extension": ".py",
   "mimetype": "text/x-python",
   "name": "python",
   "nbconvert_exporter": "python",
   "pygments_lexer": "ipython3",
   "version": "3.9.4"
  },
  "orig_nbformat": 4,
  "kernelspec": {
   "name": "python3",
   "display_name": "Python 3.9.4 64-bit"
  },
  "interpreter": {
   "hash": "aee8b7b246df8f9039afb4144a1f6fd8d2ca17a180786b69acc140d282b71a49"
  }
 },
 "nbformat": 4,
 "nbformat_minor": 2,
 "cells": [
  {
   "source": [
    "### 0. Import packages"
   ],
   "cell_type": "markdown",
   "metadata": {}
  },
  {
   "cell_type": "code",
   "execution_count": 1,
   "metadata": {},
   "outputs": [
    {
     "output_type": "stream",
     "name": "stderr",
     "text": [
      "/usr/local/lib/python3.9/site-packages/gensim/similarities/__init__.py:15: UserWarning: The gensim.similarities.levenshtein submodule is disabled, because the optional Levenshtein package <https://pypi.org/project/python-Levenshtein/> is unavailable. Install Levenhstein (e.g. `pip install python-Levenshtein`) to suppress this warning.\n",
      "  warnings.warn(msg)\n",
      "INFO: Pandarallel will run on 8 workers.\n",
      "INFO: Pandarallel will use standard multiprocessing data transfer (pipe) to transfer data between the main process and workers.\n"
     ]
    }
   ],
   "source": [
    "import logging\n",
    "import missingno as msno\n",
    "import numpy as np\n",
    "import pandas as pd\n",
    "import warnings\n",
    "\n",
    "from pandarallel import pandarallel\n",
    "from pathlib import Path\n",
    "from pprint import pprint\n",
    "from src.data import load_dataset\n",
    "from src.features import build_features, preprocessing\n",
    "from tqdm import tqdm\n",
    "\n",
    "pandarallel.initialize()\n",
    "tqdm.pandas()\n",
    "warnings.filterwarnings(\"ignore\")"
   ]
  },
  {
   "source": [
    "### 1. Load datasets"
   ],
   "cell_type": "markdown",
   "metadata": {}
  },
  {
   "cell_type": "code",
   "execution_count": 2,
   "metadata": {},
   "outputs": [],
   "source": [
    "# global variables\n",
    "DATA_PATH = Path('data/interim/')\n",
    "CATEGORY = 'Sports_and_Outdoors'"
   ]
  },
  {
   "cell_type": "code",
   "execution_count": null,
   "metadata": {},
   "outputs": [],
   "source": [
    "%%time\n",
    "prod_meta, prod_reviews = load_dataset.load_dataset(CATEGORY, DATA_PATH)"
   ]
  },
  {
   "cell_type": "code",
   "execution_count": null,
   "metadata": {},
   "outputs": [],
   "source": [
    "print(prod_reviews.info(memory_usage=\"deep\"))\n",
    "prod_reviews.head()"
   ]
  },
  {
   "cell_type": "code",
   "execution_count": null,
   "metadata": {},
   "outputs": [],
   "source": [
    "print(prod_meta.info(memory_usage=\"deep\"))\n",
    "prod_meta.head()"
   ]
  },
  {
   "cell_type": "code",
   "execution_count": null,
   "metadata": {},
   "outputs": [],
   "source": [
    "# merge reviews and metadata\n",
    "prod_merged = pd.merge(prod_reviews, prod_meta, how='inner', on='asin')\n",
    "\n",
    "print(prod_merged.info(memory_usage=\"deep\"))\n",
    "prod_merged.head()"
   ]
  },
  {
   "cell_type": "code",
   "execution_count": null,
   "metadata": {},
   "outputs": [],
   "source": [
    "# visualise the null compositions\n",
    "msno.matrix(prod_merged)"
   ]
  },
  {
   "cell_type": "code",
   "execution_count": null,
   "metadata": {},
   "outputs": [],
   "source": [
    "# NOTE: drop all in empty values in either overall, reviewText, title\n",
    "prod_merged = prod_merged.dropna(subset=['title', 'overall', 'reviewText'], axis=0)\n",
    "# first attempt at removing possible null values disguised as other value\n",
    "prod_merged = prod_merged.replace({'': np.nan})\n",
    "prod_merged = prod_merged.dropna(subset=['title', 'reviewText'], axis=0)\n",
    "# drop duplicated reviews due to different item variant\n",
    "prod_merged = prod_merged.drop_duplicates(subset=['asin', 'overall', 'reviewerID','reviewText'], keep='first')\n",
    "\n",
    "print(prod_merged.info(memory_usage=\"deep\"))\n",
    "prod_merged.head()"
   ]
  },
  {
   "source": [
    "### 2. Conduct text processing"
   ],
   "cell_type": "markdown",
   "metadata": {}
  },
  {
   "cell_type": "code",
   "execution_count": null,
   "metadata": {},
   "outputs": [],
   "source": [
    "%%time\n",
    "prod_merged['processedReviewText'] = prod_merged['reviewText'].parallel_apply(build_features.text_preprocess)"
   ]
  },
  {
   "cell_type": "code",
   "execution_count": null,
   "metadata": {},
   "outputs": [],
   "source": [
    "# checking `processedReviewText`\n",
    "print(prod_merged.shape)\n",
    "\n",
    "prod_merged.head().append(prod_merged.tail())"
   ]
  },
  {
   "cell_type": "code",
   "execution_count": null,
   "metadata": {},
   "outputs": [],
   "source": [
    "# conduct second round of null value removal\n",
    "# prod_merged = preprocessing.removing_missing_reviews(prod_merged, 'processedReviewText')\n",
    "prod_merged.reset_index(inplace=True)"
   ]
  },
  {
   "cell_type": "code",
   "execution_count": null,
   "metadata": {},
   "outputs": [],
   "source": [
    "print(prod_merged.shape)"
   ]
  },
  {
   "source": [
    "### 3. Creating `HDFStore` to store our intermediary dataframe"
   ],
   "cell_type": "markdown",
   "metadata": {}
  },
  {
   "cell_type": "code",
   "execution_count": null,
   "metadata": {},
   "outputs": [],
   "source": [
    "# create storage object with filename 'processed_overall'\n",
    "data_store = pd.HDFStore(f\"{DATA_PATH/'processed_overall.h5'}\")\n",
    "\n",
    "# put dataframe into the object setting the key as 'movie_overall_processed'\n",
    "data_store[CATEGORY] = prod_merged\n",
    "data_store.close()"
   ]
  },
  {
   "cell_type": "code",
   "execution_count": null,
   "metadata": {},
   "outputs": [],
   "source": [
    "%%time\n",
    "# temporary store as pkl\n",
    "prod_merged.to_pickle(f\"{DATA_PATH}/{CATEGORY}_processed.pkl\")"
   ]
  },
  {
   "cell_type": "code",
   "execution_count": 3,
   "metadata": {},
   "outputs": [
    {
     "output_type": "stream",
     "name": "stdout",
     "text": [
      "CPU times: user 1.63 s, sys: 834 ms, total: 2.47 s\nWall time: 2.49 s\n"
     ]
    }
   ],
   "source": [
    "%%time\n",
    "# loading processed dataframe from pkl\n",
    "prod_merged = pd.read_pickle(f\"{DATA_PATH}/{CATEGORY}_processed.pkl\")"
   ]
  },
  {
   "cell_type": "code",
   "execution_count": 4,
   "metadata": {},
   "outputs": [
    {
     "output_type": "stream",
     "name": "stdout",
     "text": [
      "(2677396, 8)\n"
     ]
    },
    {
     "output_type": "execute_result",
     "data": {
      "text/plain": [
       "           index                              title     brand        asin  \\\n",
       "0              0           Adult Ballet Tutu Yellow  BubuBibi  0000032034   \n",
       "1              1           Adult Ballet Tutu Yellow  BubuBibi  0000032034   \n",
       "2              2           Adult Ballet Tutu Yellow  BubuBibi  0000032034   \n",
       "3              3           Adult Ballet Tutu Yellow  BubuBibi  0000032034   \n",
       "4              4           Adult Ballet Tutu Yellow  BubuBibi  0000032034   \n",
       "2677391  2677391  2XU Men's Core Compression Shorts       2XU  B01HJGAJ9O   \n",
       "2677392  2677392  2XU Men's Core Compression Shorts       2XU  B01HJGAJ9O   \n",
       "2677393  2677393  2XU Men's Core Compression Shorts       2XU  B01HJGAJ9O   \n",
       "2677394  2677394  2XU Men's Core Compression Shorts       2XU  B01HJGAJ9O   \n",
       "2677395  2677395  2XU Men's Core Compression Shorts       2XU  B01HJGAJ9O   \n",
       "\n",
       "         overall      reviewerID  \\\n",
       "0            5.0  A180LQZBUWVOLF   \n",
       "1            1.0   ATMFGKU5SVEYY   \n",
       "2            5.0  A1QE70QBJ8U6ZG   \n",
       "3            5.0  A22CP6Z73MZTYU   \n",
       "4            4.0  A22L28G8NRNLLN   \n",
       "2677391      3.0   AK3DMNXEFD97W   \n",
       "2677392      5.0  A3VUVANLER4L19   \n",
       "2677393      5.0  A3060N0IGEMVZT   \n",
       "2677394      5.0  A3TN0U64HONOPB   \n",
       "2677395      5.0   AJDQLM8PT3YWT   \n",
       "\n",
       "                                                reviewText  \\\n",
       "0                  What a spectacular tutu! Very slimming.   \n",
       "1        What the heck? Is this a tutu for nuns? I know...   \n",
       "2                        Exactly what we were looking for!   \n",
       "3        I used this skirt for a Halloween costume and ...   \n",
       "4        This is thick enough that you can't see throug...   \n",
       "2677391  I was not impressed by these compression short...   \n",
       "2677392  2XU makes great compression shorts. A bit more...   \n",
       "2677393  These are my favorite compression shorts for r...   \n",
       "2677394  Love the shorts.. amazing comfortable, perfect...   \n",
       "2677395                                     Superb quality   \n",
       "\n",
       "                                       processedReviewText  \n",
       "0                      what spectacular tutu very slimming  \n",
       "1        what heck is tutu nun know cut still also laye...  \n",
       "2                                             exactly look  \n",
       "3        skirt halloween costume glue bunch feather it ...  \n",
       "4           this long sure check dimension end cut shorter  \n",
       "2677391  impress compression short they like good quali...  \n",
       "2677392  xu make great compression short bit expensive ...  \n",
       "2677393  these favorite compression short run thin mate...  \n",
       "2677394  love short amaze comfortable perfect compressi...  \n",
       "2677395                                     superb quality  "
      ],
      "text/html": "<div>\n<style scoped>\n    .dataframe tbody tr th:only-of-type {\n        vertical-align: middle;\n    }\n\n    .dataframe tbody tr th {\n        vertical-align: top;\n    }\n\n    .dataframe thead th {\n        text-align: right;\n    }\n</style>\n<table border=\"1\" class=\"dataframe\">\n  <thead>\n    <tr style=\"text-align: right;\">\n      <th></th>\n      <th>index</th>\n      <th>title</th>\n      <th>brand</th>\n      <th>asin</th>\n      <th>overall</th>\n      <th>reviewerID</th>\n      <th>reviewText</th>\n      <th>processedReviewText</th>\n    </tr>\n  </thead>\n  <tbody>\n    <tr>\n      <th>0</th>\n      <td>0</td>\n      <td>Adult Ballet Tutu Yellow</td>\n      <td>BubuBibi</td>\n      <td>0000032034</td>\n      <td>5.0</td>\n      <td>A180LQZBUWVOLF</td>\n      <td>What a spectacular tutu! Very slimming.</td>\n      <td>what spectacular tutu very slimming</td>\n    </tr>\n    <tr>\n      <th>1</th>\n      <td>1</td>\n      <td>Adult Ballet Tutu Yellow</td>\n      <td>BubuBibi</td>\n      <td>0000032034</td>\n      <td>1.0</td>\n      <td>ATMFGKU5SVEYY</td>\n      <td>What the heck? Is this a tutu for nuns? I know...</td>\n      <td>what heck is tutu nun know cut still also laye...</td>\n    </tr>\n    <tr>\n      <th>2</th>\n      <td>2</td>\n      <td>Adult Ballet Tutu Yellow</td>\n      <td>BubuBibi</td>\n      <td>0000032034</td>\n      <td>5.0</td>\n      <td>A1QE70QBJ8U6ZG</td>\n      <td>Exactly what we were looking for!</td>\n      <td>exactly look</td>\n    </tr>\n    <tr>\n      <th>3</th>\n      <td>3</td>\n      <td>Adult Ballet Tutu Yellow</td>\n      <td>BubuBibi</td>\n      <td>0000032034</td>\n      <td>5.0</td>\n      <td>A22CP6Z73MZTYU</td>\n      <td>I used this skirt for a Halloween costume and ...</td>\n      <td>skirt halloween costume glue bunch feather it ...</td>\n    </tr>\n    <tr>\n      <th>4</th>\n      <td>4</td>\n      <td>Adult Ballet Tutu Yellow</td>\n      <td>BubuBibi</td>\n      <td>0000032034</td>\n      <td>4.0</td>\n      <td>A22L28G8NRNLLN</td>\n      <td>This is thick enough that you can't see throug...</td>\n      <td>this long sure check dimension end cut shorter</td>\n    </tr>\n    <tr>\n      <th>2677391</th>\n      <td>2677391</td>\n      <td>2XU Men's Core Compression Shorts</td>\n      <td>2XU</td>\n      <td>B01HJGAJ9O</td>\n      <td>3.0</td>\n      <td>AK3DMNXEFD97W</td>\n      <td>I was not impressed by these compression short...</td>\n      <td>impress compression short they like good quali...</td>\n    </tr>\n    <tr>\n      <th>2677392</th>\n      <td>2677392</td>\n      <td>2XU Men's Core Compression Shorts</td>\n      <td>2XU</td>\n      <td>B01HJGAJ9O</td>\n      <td>5.0</td>\n      <td>A3VUVANLER4L19</td>\n      <td>2XU makes great compression shorts. A bit more...</td>\n      <td>xu make great compression short bit expensive ...</td>\n    </tr>\n    <tr>\n      <th>2677393</th>\n      <td>2677393</td>\n      <td>2XU Men's Core Compression Shorts</td>\n      <td>2XU</td>\n      <td>B01HJGAJ9O</td>\n      <td>5.0</td>\n      <td>A3060N0IGEMVZT</td>\n      <td>These are my favorite compression shorts for r...</td>\n      <td>these favorite compression short run thin mate...</td>\n    </tr>\n    <tr>\n      <th>2677394</th>\n      <td>2677394</td>\n      <td>2XU Men's Core Compression Shorts</td>\n      <td>2XU</td>\n      <td>B01HJGAJ9O</td>\n      <td>5.0</td>\n      <td>A3TN0U64HONOPB</td>\n      <td>Love the shorts.. amazing comfortable, perfect...</td>\n      <td>love short amaze comfortable perfect compressi...</td>\n    </tr>\n    <tr>\n      <th>2677395</th>\n      <td>2677395</td>\n      <td>2XU Men's Core Compression Shorts</td>\n      <td>2XU</td>\n      <td>B01HJGAJ9O</td>\n      <td>5.0</td>\n      <td>AJDQLM8PT3YWT</td>\n      <td>Superb quality</td>\n      <td>superb quality</td>\n    </tr>\n  </tbody>\n</table>\n</div>"
     },
     "metadata": {},
     "execution_count": 4
    }
   ],
   "source": [
    "print(prod_merged.shape)\n",
    "\n",
    "prod_merged.head().append(prod_merged.tail())"
   ]
  },
  {
   "source": [
    "### 4. Generating train/test split"
   ],
   "cell_type": "markdown",
   "metadata": {}
  },
  {
   "cell_type": "code",
   "execution_count": 5,
   "metadata": {},
   "outputs": [],
   "source": [
    "def train_test_split(df, sample_rate):\n",
    "    # generating user-review mapping\n",
    "    user_review_map = df.groupby(['reviewerID'])['index'].progress_apply(list).to_dict()\n",
    "\n",
    "    test_review_index = set()\n",
    "    for user in user_review_map:\n",
    "        sample_number = int(len(user_review_map[user]) * sample_rate)\n",
    "        test_review_index |= set(np.random.choice(user_review_map[user], sample_number, replace=False))\n",
    "\n",
    "    train = df[~df['index'].isin(test_review_index)]\n",
    "    test = df[df['index'].isin(test_review_index)]\n",
    "\n",
    "    # removing any user/items that is in test but NOT in train\n",
    "    train_prods = train['asin'].unique()\n",
    "    train_users = train['reviewerID'].unique()\n",
    "\n",
    "    test = test[(test['asin'].isin(train_prods)) & (test['reviewerID'].isin(train_users))]\n",
    "\n",
    "    return train, test"
   ]
  },
  {
   "cell_type": "code",
   "execution_count": 6,
   "metadata": {},
   "outputs": [
    {
     "output_type": "stream",
     "name": "stderr",
     "text": [
      "100%|██████████| 332231/332231 [00:09<00:00, 35647.56it/s]\n"
     ]
    }
   ],
   "source": [
    "train, test = train_test_split(prod_merged, .2)"
   ]
  },
  {
   "source": [
    "#### Checking train/test dataset"
   ],
   "cell_type": "markdown",
   "metadata": {}
  },
  {
   "cell_type": "code",
   "execution_count": 7,
   "metadata": {},
   "outputs": [
    {
     "output_type": "stream",
     "name": "stdout",
     "text": [
      "(2242666, 8)\n"
     ]
    },
    {
     "output_type": "execute_result",
     "data": {
      "text/plain": [
       "           index                              title     brand        asin  \\\n",
       "0              0           Adult Ballet Tutu Yellow  BubuBibi  0000032034   \n",
       "1              1           Adult Ballet Tutu Yellow  BubuBibi  0000032034   \n",
       "2              2           Adult Ballet Tutu Yellow  BubuBibi  0000032034   \n",
       "3              3           Adult Ballet Tutu Yellow  BubuBibi  0000032034   \n",
       "5              5           Adult Ballet Tutu Yellow  BubuBibi  0000032034   \n",
       "2677391  2677391  2XU Men's Core Compression Shorts       2XU  B01HJGAJ9O   \n",
       "2677392  2677392  2XU Men's Core Compression Shorts       2XU  B01HJGAJ9O   \n",
       "2677393  2677393  2XU Men's Core Compression Shorts       2XU  B01HJGAJ9O   \n",
       "2677394  2677394  2XU Men's Core Compression Shorts       2XU  B01HJGAJ9O   \n",
       "2677395  2677395  2XU Men's Core Compression Shorts       2XU  B01HJGAJ9O   \n",
       "\n",
       "         overall      reviewerID  \\\n",
       "0            5.0  A180LQZBUWVOLF   \n",
       "1            1.0   ATMFGKU5SVEYY   \n",
       "2            5.0  A1QE70QBJ8U6ZG   \n",
       "3            5.0  A22CP6Z73MZTYU   \n",
       "5            3.0  A3O0KC7YKT5P9T   \n",
       "2677391      3.0   AK3DMNXEFD97W   \n",
       "2677392      5.0  A3VUVANLER4L19   \n",
       "2677393      5.0  A3060N0IGEMVZT   \n",
       "2677394      5.0  A3TN0U64HONOPB   \n",
       "2677395      5.0   AJDQLM8PT3YWT   \n",
       "\n",
       "                                                reviewText  \\\n",
       "0                  What a spectacular tutu! Very slimming.   \n",
       "1        What the heck? Is this a tutu for nuns? I know...   \n",
       "2                        Exactly what we were looking for!   \n",
       "3        I used this skirt for a Halloween costume and ...   \n",
       "5        I had to add some designs to the tutu worked w...   \n",
       "2677391  I was not impressed by these compression short...   \n",
       "2677392  2XU makes great compression shorts. A bit more...   \n",
       "2677393  These are my favorite compression shorts for r...   \n",
       "2677394  Love the shorts.. amazing comfortable, perfect...   \n",
       "2677395                                     Superb quality   \n",
       "\n",
       "                                       processedReviewText  \n",
       "0                      what spectacular tutu very slimming  \n",
       "1        what heck is tutu nun know cut still also laye...  \n",
       "2                                             exactly look  \n",
       "3        skirt halloween costume glue bunch feather it ...  \n",
       "5                     add designs tutu work hold wear tear  \n",
       "2677391  impress compression short they like good quali...  \n",
       "2677392  xu make great compression short bit expensive ...  \n",
       "2677393  these favorite compression short run thin mate...  \n",
       "2677394  love short amaze comfortable perfect compressi...  \n",
       "2677395                                     superb quality  "
      ],
      "text/html": "<div>\n<style scoped>\n    .dataframe tbody tr th:only-of-type {\n        vertical-align: middle;\n    }\n\n    .dataframe tbody tr th {\n        vertical-align: top;\n    }\n\n    .dataframe thead th {\n        text-align: right;\n    }\n</style>\n<table border=\"1\" class=\"dataframe\">\n  <thead>\n    <tr style=\"text-align: right;\">\n      <th></th>\n      <th>index</th>\n      <th>title</th>\n      <th>brand</th>\n      <th>asin</th>\n      <th>overall</th>\n      <th>reviewerID</th>\n      <th>reviewText</th>\n      <th>processedReviewText</th>\n    </tr>\n  </thead>\n  <tbody>\n    <tr>\n      <th>0</th>\n      <td>0</td>\n      <td>Adult Ballet Tutu Yellow</td>\n      <td>BubuBibi</td>\n      <td>0000032034</td>\n      <td>5.0</td>\n      <td>A180LQZBUWVOLF</td>\n      <td>What a spectacular tutu! Very slimming.</td>\n      <td>what spectacular tutu very slimming</td>\n    </tr>\n    <tr>\n      <th>1</th>\n      <td>1</td>\n      <td>Adult Ballet Tutu Yellow</td>\n      <td>BubuBibi</td>\n      <td>0000032034</td>\n      <td>1.0</td>\n      <td>ATMFGKU5SVEYY</td>\n      <td>What the heck? Is this a tutu for nuns? I know...</td>\n      <td>what heck is tutu nun know cut still also laye...</td>\n    </tr>\n    <tr>\n      <th>2</th>\n      <td>2</td>\n      <td>Adult Ballet Tutu Yellow</td>\n      <td>BubuBibi</td>\n      <td>0000032034</td>\n      <td>5.0</td>\n      <td>A1QE70QBJ8U6ZG</td>\n      <td>Exactly what we were looking for!</td>\n      <td>exactly look</td>\n    </tr>\n    <tr>\n      <th>3</th>\n      <td>3</td>\n      <td>Adult Ballet Tutu Yellow</td>\n      <td>BubuBibi</td>\n      <td>0000032034</td>\n      <td>5.0</td>\n      <td>A22CP6Z73MZTYU</td>\n      <td>I used this skirt for a Halloween costume and ...</td>\n      <td>skirt halloween costume glue bunch feather it ...</td>\n    </tr>\n    <tr>\n      <th>5</th>\n      <td>5</td>\n      <td>Adult Ballet Tutu Yellow</td>\n      <td>BubuBibi</td>\n      <td>0000032034</td>\n      <td>3.0</td>\n      <td>A3O0KC7YKT5P9T</td>\n      <td>I had to add some designs to the tutu worked w...</td>\n      <td>add designs tutu work hold wear tear</td>\n    </tr>\n    <tr>\n      <th>2677391</th>\n      <td>2677391</td>\n      <td>2XU Men's Core Compression Shorts</td>\n      <td>2XU</td>\n      <td>B01HJGAJ9O</td>\n      <td>3.0</td>\n      <td>AK3DMNXEFD97W</td>\n      <td>I was not impressed by these compression short...</td>\n      <td>impress compression short they like good quali...</td>\n    </tr>\n    <tr>\n      <th>2677392</th>\n      <td>2677392</td>\n      <td>2XU Men's Core Compression Shorts</td>\n      <td>2XU</td>\n      <td>B01HJGAJ9O</td>\n      <td>5.0</td>\n      <td>A3VUVANLER4L19</td>\n      <td>2XU makes great compression shorts. A bit more...</td>\n      <td>xu make great compression short bit expensive ...</td>\n    </tr>\n    <tr>\n      <th>2677393</th>\n      <td>2677393</td>\n      <td>2XU Men's Core Compression Shorts</td>\n      <td>2XU</td>\n      <td>B01HJGAJ9O</td>\n      <td>5.0</td>\n      <td>A3060N0IGEMVZT</td>\n      <td>These are my favorite compression shorts for r...</td>\n      <td>these favorite compression short run thin mate...</td>\n    </tr>\n    <tr>\n      <th>2677394</th>\n      <td>2677394</td>\n      <td>2XU Men's Core Compression Shorts</td>\n      <td>2XU</td>\n      <td>B01HJGAJ9O</td>\n      <td>5.0</td>\n      <td>A3TN0U64HONOPB</td>\n      <td>Love the shorts.. amazing comfortable, perfect...</td>\n      <td>love short amaze comfortable perfect compressi...</td>\n    </tr>\n    <tr>\n      <th>2677395</th>\n      <td>2677395</td>\n      <td>2XU Men's Core Compression Shorts</td>\n      <td>2XU</td>\n      <td>B01HJGAJ9O</td>\n      <td>5.0</td>\n      <td>AJDQLM8PT3YWT</td>\n      <td>Superb quality</td>\n      <td>superb quality</td>\n    </tr>\n  </tbody>\n</table>\n</div>"
     },
     "metadata": {},
     "execution_count": 7
    }
   ],
   "source": [
    "print(train.shape)\n",
    "train.head().append(train.tail())"
   ]
  },
  {
   "cell_type": "code",
   "execution_count": 8,
   "metadata": {},
   "outputs": [
    {
     "output_type": "stream",
     "name": "stdout",
     "text": [
      "(434692, 8)\n"
     ]
    },
    {
     "output_type": "execute_result",
     "data": {
      "text/plain": [
       "           index                                              title     brand  \\\n",
       "4              4                           Adult Ballet Tutu Yellow  BubuBibi   \n",
       "13            13       Delorme New York State Atlas &amp; Gazetteer    Garmin   \n",
       "17            17       Delorme New York State Atlas &amp; Gazetteer    Garmin   \n",
       "18            18       Delorme New York State Atlas &amp; Gazetteer    Garmin   \n",
       "19            19       Delorme New York State Atlas &amp; Gazetteer    Garmin   \n",
       "2677368  2677368  Soft Cooling Towel for Instant Relief, 48inch ...    Pusdon   \n",
       "2677379  2677379  Soft Cooling Towel for Instant Relief, 48inch ...    Pusdon   \n",
       "2677380  2677380  Soft Cooling Towel for Instant Relief, 48inch ...    Pusdon   \n",
       "2677385  2677385  T&amp;s Shell Catcher Beretta A400 Multitarget...       STS   \n",
       "2677386  2677386  T&amp;s Shell Catcher Beretta A400 Multitarget...       STS   \n",
       "\n",
       "               asin  overall      reviewerID  \\\n",
       "4        0000032034      4.0  A22L28G8NRNLLN   \n",
       "13       0899332757      5.0    A1LACH6MLQWZ   \n",
       "17       0899332757      5.0  A1EEXQY23P5XSE   \n",
       "18       0899332757      5.0  A1IQJSM0YNQJTT   \n",
       "19       0899332757      5.0   AXUAY9M189EJ1   \n",
       "2677368  B01HJDGJ1E      5.0  A1V3TVLKZXNB31   \n",
       "2677379  B01HJDGJ1E      5.0  A1KJG1DXMN6YY9   \n",
       "2677380  B01HJDGJ1E      5.0  A1HCLZ57P6O0YM   \n",
       "2677385  B01HJHHBHG      5.0  A3QK5ZLRE2KHLL   \n",
       "2677386  B01HJHHBHG      5.0  A3VDML80KNR9QQ   \n",
       "\n",
       "                                                reviewText  \\\n",
       "4        This is thick enough that you can't see throug...   \n",
       "13       If you're interested in exploring any area of ...   \n",
       "17       Really, 4.5/5 stars. Missing a little detail w...   \n",
       "18                         Arrived in tact and as expected   \n",
       "19       These are the best maps, I get one for any sta...   \n",
       "2677368                      works well and was well made.   \n",
       "2677379  My husband and I live in the High Desert in So...   \n",
       "2677380  The shipping was fast and I'm not sure how lon...   \n",
       "2677385                                   Works every time   \n",
       "2677386  I have a briley bolt release paddle installed ...   \n",
       "\n",
       "                                       processedReviewText  \n",
       "4           this long sure check dimension end cut shorter  \n",
       "13       if interested explore area new york metropolit...  \n",
       "17       really star missing little come access road pa...  \n",
       "18                                     arrived tact expect  \n",
       "19       these best map state travel need pick florida ...  \n",
       "2677368                                               work  \n",
       "2677379  my husband live high desert southern californi...  \n",
       "2677380  the shipping fast sure long suppose stay cold ...  \n",
       "2677385                                         works time  \n",
       "2677386  briley bolt release paddle instal xplor sport ...  "
      ],
      "text/html": "<div>\n<style scoped>\n    .dataframe tbody tr th:only-of-type {\n        vertical-align: middle;\n    }\n\n    .dataframe tbody tr th {\n        vertical-align: top;\n    }\n\n    .dataframe thead th {\n        text-align: right;\n    }\n</style>\n<table border=\"1\" class=\"dataframe\">\n  <thead>\n    <tr style=\"text-align: right;\">\n      <th></th>\n      <th>index</th>\n      <th>title</th>\n      <th>brand</th>\n      <th>asin</th>\n      <th>overall</th>\n      <th>reviewerID</th>\n      <th>reviewText</th>\n      <th>processedReviewText</th>\n    </tr>\n  </thead>\n  <tbody>\n    <tr>\n      <th>4</th>\n      <td>4</td>\n      <td>Adult Ballet Tutu Yellow</td>\n      <td>BubuBibi</td>\n      <td>0000032034</td>\n      <td>4.0</td>\n      <td>A22L28G8NRNLLN</td>\n      <td>This is thick enough that you can't see throug...</td>\n      <td>this long sure check dimension end cut shorter</td>\n    </tr>\n    <tr>\n      <th>13</th>\n      <td>13</td>\n      <td>Delorme New York State Atlas &amp;amp; Gazetteer</td>\n      <td>Garmin</td>\n      <td>0899332757</td>\n      <td>5.0</td>\n      <td>A1LACH6MLQWZ</td>\n      <td>If you're interested in exploring any area of ...</td>\n      <td>if interested explore area new york metropolit...</td>\n    </tr>\n    <tr>\n      <th>17</th>\n      <td>17</td>\n      <td>Delorme New York State Atlas &amp;amp; Gazetteer</td>\n      <td>Garmin</td>\n      <td>0899332757</td>\n      <td>5.0</td>\n      <td>A1EEXQY23P5XSE</td>\n      <td>Really, 4.5/5 stars. Missing a little detail w...</td>\n      <td>really star missing little come access road pa...</td>\n    </tr>\n    <tr>\n      <th>18</th>\n      <td>18</td>\n      <td>Delorme New York State Atlas &amp;amp; Gazetteer</td>\n      <td>Garmin</td>\n      <td>0899332757</td>\n      <td>5.0</td>\n      <td>A1IQJSM0YNQJTT</td>\n      <td>Arrived in tact and as expected</td>\n      <td>arrived tact expect</td>\n    </tr>\n    <tr>\n      <th>19</th>\n      <td>19</td>\n      <td>Delorme New York State Atlas &amp;amp; Gazetteer</td>\n      <td>Garmin</td>\n      <td>0899332757</td>\n      <td>5.0</td>\n      <td>AXUAY9M189EJ1</td>\n      <td>These are the best maps, I get one for any sta...</td>\n      <td>these best map state travel need pick florida ...</td>\n    </tr>\n    <tr>\n      <th>2677368</th>\n      <td>2677368</td>\n      <td>Soft Cooling Towel for Instant Relief, 48inch ...</td>\n      <td>Pusdon</td>\n      <td>B01HJDGJ1E</td>\n      <td>5.0</td>\n      <td>A1V3TVLKZXNB31</td>\n      <td>works well and was well made.</td>\n      <td>work</td>\n    </tr>\n    <tr>\n      <th>2677379</th>\n      <td>2677379</td>\n      <td>Soft Cooling Towel for Instant Relief, 48inch ...</td>\n      <td>Pusdon</td>\n      <td>B01HJDGJ1E</td>\n      <td>5.0</td>\n      <td>A1KJG1DXMN6YY9</td>\n      <td>My husband and I live in the High Desert in So...</td>\n      <td>my husband live high desert southern californi...</td>\n    </tr>\n    <tr>\n      <th>2677380</th>\n      <td>2677380</td>\n      <td>Soft Cooling Towel for Instant Relief, 48inch ...</td>\n      <td>Pusdon</td>\n      <td>B01HJDGJ1E</td>\n      <td>5.0</td>\n      <td>A1HCLZ57P6O0YM</td>\n      <td>The shipping was fast and I'm not sure how lon...</td>\n      <td>the shipping fast sure long suppose stay cold ...</td>\n    </tr>\n    <tr>\n      <th>2677385</th>\n      <td>2677385</td>\n      <td>T&amp;amp;s Shell Catcher Beretta A400 Multitarget...</td>\n      <td>STS</td>\n      <td>B01HJHHBHG</td>\n      <td>5.0</td>\n      <td>A3QK5ZLRE2KHLL</td>\n      <td>Works every time</td>\n      <td>works time</td>\n    </tr>\n    <tr>\n      <th>2677386</th>\n      <td>2677386</td>\n      <td>T&amp;amp;s Shell Catcher Beretta A400 Multitarget...</td>\n      <td>STS</td>\n      <td>B01HJHHBHG</td>\n      <td>5.0</td>\n      <td>A3VDML80KNR9QQ</td>\n      <td>I have a briley bolt release paddle installed ...</td>\n      <td>briley bolt release paddle instal xplor sport ...</td>\n    </tr>\n  </tbody>\n</table>\n</div>"
     },
     "metadata": {},
     "execution_count": 8
    }
   ],
   "source": [
    "print(test.shape)\n",
    "test.head().append(test.tail())"
   ]
  },
  {
   "source": [
    "#### Saving train/test data to `data/processed/`"
   ],
   "cell_type": "markdown",
   "metadata": {}
  },
  {
   "cell_type": "code",
   "execution_count": 9,
   "metadata": {},
   "outputs": [],
   "source": [
    "DATA_PATH = Path(\"data/processed/\")\n",
    "\n",
    "train.to_csv(f\"{DATA_PATH}/{CATEGORY}_train.csv\", index=False)\n",
    "test.to_csv(f\"{DATA_PATH}/{CATEGORY}_test.csv\", index=False)"
   ]
  },
  {
   "cell_type": "code",
   "execution_count": null,
   "metadata": {},
   "outputs": [],
   "source": []
  }
 ]
}