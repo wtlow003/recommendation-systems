{
 "cells": [
  {
   "cell_type": "code",
   "execution_count": 42,
   "id": "054f6e5b",
   "metadata": {},
   "outputs": [
    {
     "name": "stdout",
     "output_type": "stream",
     "text": [
      "INFO: Pandarallel will run on 8 workers.\n",
      "INFO: Pandarallel will use standard multiprocessing data transfer (pipe) to transfer data between the main process and workers.\n"
     ]
    }
   ],
   "source": [
    "from pathlib import Path\n",
    "import pickle\n",
    "import warnings\n",
    "\n",
    "import numpy as np\n",
    "import pandas as pd\n",
    "from pandarallel import pandarallel\n",
    "from sklearn.metrics.pairwise import cosine_similarity\n",
    "from sklearn.metrics import pairwise_distances\n",
    "from sqlalchemy import create_engine\n",
    "from tqdm import tqdm\n",
    "\n",
    "from src.models import cf, evaluate_model\n",
    "from src.utilities import utilities\n",
    "\n",
    "pandarallel.initialize()\n",
    "tqdm.pandas()\n",
    "warnings.filterwarnings('ignore')"
   ]
  },
  {
   "cell_type": "markdown",
   "id": "d99df1ea",
   "metadata": {},
   "source": [
    "# Load Data"
   ]
  },
  {
   "cell_type": "code",
   "execution_count": 2,
   "id": "6468429e",
   "metadata": {},
   "outputs": [],
   "source": [
    "# global variables\n",
    "DATA_PATH = \"data/evaluation\"\n",
    "CATEGORY = \"Grocery_and_Gourmet_Food\"\n",
    "MODEL_PATH = Path(f\"models/ub_cf/ub_cf_{CATEGORY}.pkl\")\n",
    "\n",
    "# reproducibility checks\n",
    "SEED = 42\n",
    "np.random.seed(42)\n",
    "\n",
    "# load train dataset\n",
    "train = pd.read_csv(f\"{DATA_PATH}/{CATEGORY}_train.csv\")"
   ]
  },
  {
   "cell_type": "code",
   "execution_count": 3,
   "id": "74b50ddf",
   "metadata": {},
   "outputs": [
    {
     "data": {
      "text/html": [
       "<div>\n",
       "<style scoped>\n",
       "    .dataframe tbody tr th:only-of-type {\n",
       "        vertical-align: middle;\n",
       "    }\n",
       "\n",
       "    .dataframe tbody tr th {\n",
       "        vertical-align: top;\n",
       "    }\n",
       "\n",
       "    .dataframe thead th {\n",
       "        text-align: right;\n",
       "    }\n",
       "</style>\n",
       "<table border=\"1\" class=\"dataframe\">\n",
       "  <thead>\n",
       "    <tr style=\"text-align: right;\">\n",
       "      <th></th>\n",
       "      <th>index</th>\n",
       "      <th>asin</th>\n",
       "      <th>title</th>\n",
       "      <th>categories</th>\n",
       "      <th>reviewerID</th>\n",
       "      <th>overall</th>\n",
       "      <th>reviewText</th>\n",
       "      <th>reviewTime</th>\n",
       "      <th>processedReviewText</th>\n",
       "    </tr>\n",
       "  </thead>\n",
       "  <tbody>\n",
       "    <tr>\n",
       "      <th>0</th>\n",
       "      <td>0</td>\n",
       "      <td>9742356831</td>\n",
       "      <td>Mae Ploy Green Curry Paste, 14 oz</td>\n",
       "      <td>['Grocery &amp; Gourmet Food', 'Sauces, Gravies &amp; ...</td>\n",
       "      <td>A23RYWDS884TUL</td>\n",
       "      <td>5.0</td>\n",
       "      <td>This curry paste makes a delicious curry.  I j...</td>\n",
       "      <td>2013-05-28</td>\n",
       "      <td>curry paste delicious curry fry chicken vegeta...</td>\n",
       "    </tr>\n",
       "    <tr>\n",
       "      <th>1</th>\n",
       "      <td>1</td>\n",
       "      <td>9742356831</td>\n",
       "      <td>Mae Ploy Green Curry Paste, 14 oz</td>\n",
       "      <td>['Grocery &amp; Gourmet Food', 'Sauces, Gravies &amp; ...</td>\n",
       "      <td>A945RBQWGZXCK</td>\n",
       "      <td>5.0</td>\n",
       "      <td>I've purchased different curries in the grocer...</td>\n",
       "      <td>2012-09-17</td>\n",
       "      <td>purchase different curry grocery store complet...</td>\n",
       "    </tr>\n",
       "    <tr>\n",
       "      <th>2</th>\n",
       "      <td>3</td>\n",
       "      <td>9742356831</td>\n",
       "      <td>Mae Ploy Green Curry Paste, 14 oz</td>\n",
       "      <td>['Grocery &amp; Gourmet Food', 'Sauces, Gravies &amp; ...</td>\n",
       "      <td>A3AMNY44OP8AOU</td>\n",
       "      <td>4.0</td>\n",
       "      <td>I started a new diet restricting all added sug...</td>\n",
       "      <td>2014-01-23</td>\n",
       "      <td>start new diet restrict added sugar brand suga...</td>\n",
       "    </tr>\n",
       "    <tr>\n",
       "      <th>3</th>\n",
       "      <td>4</td>\n",
       "      <td>9742356831</td>\n",
       "      <td>Mae Ploy Green Curry Paste, 14 oz</td>\n",
       "      <td>['Grocery &amp; Gourmet Food', 'Sauces, Gravies &amp; ...</td>\n",
       "      <td>A3IB4CQ2QEJLJ8</td>\n",
       "      <td>5.0</td>\n",
       "      <td>So many flavors. I can't begin to tell you how...</td>\n",
       "      <td>2014-04-27</td>\n",
       "      <td>flavor begin tell love mae ploy curry ask reci...</td>\n",
       "    </tr>\n",
       "    <tr>\n",
       "      <th>4</th>\n",
       "      <td>5</td>\n",
       "      <td>9742356831</td>\n",
       "      <td>Mae Ploy Green Curry Paste, 14 oz</td>\n",
       "      <td>['Grocery &amp; Gourmet Food', 'Sauces, Gravies &amp; ...</td>\n",
       "      <td>AQA5DF3RWKETQ</td>\n",
       "      <td>5.0</td>\n",
       "      <td>I've used this a lot recently in some of my ch...</td>\n",
       "      <td>2012-11-27</td>\n",
       "      <td>use lot recently chicken dish use lot like spi...</td>\n",
       "    </tr>\n",
       "    <tr>\n",
       "      <th>47769</th>\n",
       "      <td>77420</td>\n",
       "      <td>B00I33696K</td>\n",
       "      <td>Reese's Miniature Peanut Butter Cups .31oz - 1...</td>\n",
       "      <td>['Grocery &amp; Gourmet Food', 'Candy &amp; Chocolate'...</td>\n",
       "      <td>A192LQZWDYPR4U</td>\n",
       "      <td>5.0</td>\n",
       "      <td>Another quality Reese Peanut Butter Cup produc...</td>\n",
       "      <td>2014-02-27</td>\n",
       "      <td>quality reese peanut butter cup product great ...</td>\n",
       "    </tr>\n",
       "    <tr>\n",
       "      <th>47770</th>\n",
       "      <td>77421</td>\n",
       "      <td>B00I33696K</td>\n",
       "      <td>Reese's Miniature Peanut Butter Cups .31oz - 1...</td>\n",
       "      <td>['Grocery &amp; Gourmet Food', 'Candy &amp; Chocolate'...</td>\n",
       "      <td>A2QKXW3LDQ66P5</td>\n",
       "      <td>5.0</td>\n",
       "      <td>I purchased these for my husband who has every...</td>\n",
       "      <td>2013-02-20</td>\n",
       "      <td>purchase husband love reeses valentine day pre...</td>\n",
       "    </tr>\n",
       "    <tr>\n",
       "      <th>47771</th>\n",
       "      <td>77430</td>\n",
       "      <td>B00ID9VSOM</td>\n",
       "      <td>Viva Labs Organic Coconut Sugar: Non-GMO, Low-...</td>\n",
       "      <td>['Grocery &amp; Gourmet Food', 'Cooking &amp; Baking',...</td>\n",
       "      <td>A2P3TGJU301KXD</td>\n",
       "      <td>5.0</td>\n",
       "      <td>this stuff is INCREDIBILY yummy! SO much bette...</td>\n",
       "      <td>2014-07-15</td>\n",
       "      <td>stuff incredibily yummy good regular brown sug...</td>\n",
       "    </tr>\n",
       "    <tr>\n",
       "      <th>47772</th>\n",
       "      <td>77456</td>\n",
       "      <td>B00IRL93SY</td>\n",
       "      <td>Barrie House Kenya Estate - AA Single Cup Caps...</td>\n",
       "      <td>['Grocery &amp; Gourmet Food', 'Beverages', 'Coffe...</td>\n",
       "      <td>AEFE9VDHTQ199</td>\n",
       "      <td>5.0</td>\n",
       "      <td>Very nice aroma, body and taste! Will buy this...</td>\n",
       "      <td>2014-05-24</td>\n",
       "      <td>nice aroma body taste buy coffee good coffee a...</td>\n",
       "    </tr>\n",
       "    <tr>\n",
       "      <th>47773</th>\n",
       "      <td>77508</td>\n",
       "      <td>B00ISVHJ3Y</td>\n",
       "      <td>Wholesome Sweeteners, Organic Sweet and Lite S...</td>\n",
       "      <td>['Grocery &amp; Gourmet Food', 'Cooking &amp; Baking',...</td>\n",
       "      <td>A2AEZQ3DGBBLPR</td>\n",
       "      <td>2.0</td>\n",
       "      <td>This is a no go for diabetics according to my ...</td>\n",
       "      <td>2014-06-26</td>\n",
       "      <td>diabetic accord wife doctor order intention us...</td>\n",
       "    </tr>\n",
       "  </tbody>\n",
       "</table>\n",
       "</div>"
      ],
      "text/plain": [
       "       index        asin                                              title  \\\n",
       "0          0  9742356831                  Mae Ploy Green Curry Paste, 14 oz   \n",
       "1          1  9742356831                  Mae Ploy Green Curry Paste, 14 oz   \n",
       "2          3  9742356831                  Mae Ploy Green Curry Paste, 14 oz   \n",
       "3          4  9742356831                  Mae Ploy Green Curry Paste, 14 oz   \n",
       "4          5  9742356831                  Mae Ploy Green Curry Paste, 14 oz   \n",
       "47769  77420  B00I33696K  Reese's Miniature Peanut Butter Cups .31oz - 1...   \n",
       "47770  77421  B00I33696K  Reese's Miniature Peanut Butter Cups .31oz - 1...   \n",
       "47771  77430  B00ID9VSOM  Viva Labs Organic Coconut Sugar: Non-GMO, Low-...   \n",
       "47772  77456  B00IRL93SY  Barrie House Kenya Estate - AA Single Cup Caps...   \n",
       "47773  77508  B00ISVHJ3Y  Wholesome Sweeteners, Organic Sweet and Lite S...   \n",
       "\n",
       "                                              categories      reviewerID  \\\n",
       "0      ['Grocery & Gourmet Food', 'Sauces, Gravies & ...  A23RYWDS884TUL   \n",
       "1      ['Grocery & Gourmet Food', 'Sauces, Gravies & ...   A945RBQWGZXCK   \n",
       "2      ['Grocery & Gourmet Food', 'Sauces, Gravies & ...  A3AMNY44OP8AOU   \n",
       "3      ['Grocery & Gourmet Food', 'Sauces, Gravies & ...  A3IB4CQ2QEJLJ8   \n",
       "4      ['Grocery & Gourmet Food', 'Sauces, Gravies & ...   AQA5DF3RWKETQ   \n",
       "47769  ['Grocery & Gourmet Food', 'Candy & Chocolate'...  A192LQZWDYPR4U   \n",
       "47770  ['Grocery & Gourmet Food', 'Candy & Chocolate'...  A2QKXW3LDQ66P5   \n",
       "47771  ['Grocery & Gourmet Food', 'Cooking & Baking',...  A2P3TGJU301KXD   \n",
       "47772  ['Grocery & Gourmet Food', 'Beverages', 'Coffe...   AEFE9VDHTQ199   \n",
       "47773  ['Grocery & Gourmet Food', 'Cooking & Baking',...  A2AEZQ3DGBBLPR   \n",
       "\n",
       "       overall                                         reviewText  reviewTime  \\\n",
       "0          5.0  This curry paste makes a delicious curry.  I j...  2013-05-28   \n",
       "1          5.0  I've purchased different curries in the grocer...  2012-09-17   \n",
       "2          4.0  I started a new diet restricting all added sug...  2014-01-23   \n",
       "3          5.0  So many flavors. I can't begin to tell you how...  2014-04-27   \n",
       "4          5.0  I've used this a lot recently in some of my ch...  2012-11-27   \n",
       "47769      5.0  Another quality Reese Peanut Butter Cup produc...  2014-02-27   \n",
       "47770      5.0  I purchased these for my husband who has every...  2013-02-20   \n",
       "47771      5.0  this stuff is INCREDIBILY yummy! SO much bette...  2014-07-15   \n",
       "47772      5.0  Very nice aroma, body and taste! Will buy this...  2014-05-24   \n",
       "47773      2.0  This is a no go for diabetics according to my ...  2014-06-26   \n",
       "\n",
       "                                     processedReviewText  \n",
       "0      curry paste delicious curry fry chicken vegeta...  \n",
       "1      purchase different curry grocery store complet...  \n",
       "2      start new diet restrict added sugar brand suga...  \n",
       "3      flavor begin tell love mae ploy curry ask reci...  \n",
       "4      use lot recently chicken dish use lot like spi...  \n",
       "47769  quality reese peanut butter cup product great ...  \n",
       "47770  purchase husband love reeses valentine day pre...  \n",
       "47771  stuff incredibily yummy good regular brown sug...  \n",
       "47772  nice aroma body taste buy coffee good coffee a...  \n",
       "47773  diabetic accord wife doctor order intention us...  "
      ]
     },
     "execution_count": 3,
     "metadata": {},
     "output_type": "execute_result"
    }
   ],
   "source": [
    "# checking train dataframe\n",
    "train.head().append(train.tail())"
   ]
  },
  {
   "cell_type": "code",
   "execution_count": 4,
   "id": "c805e4cd",
   "metadata": {},
   "outputs": [
    {
     "name": "stderr",
     "output_type": "stream",
     "text": [
      "100%|███████████████████████████████████████████| 13397/13397 [00:00<00:00, 66507.78it/s]"
     ]
    },
    {
     "name": "stdout",
     "output_type": "stream",
     "text": [
      "reviewerID\n",
      "A00177463W0XWB16A9O05                             [B0029XDZIK, B0094ISOMA]\n",
      "A022899328A0QROR32DCT                             [B001ACMCNU, B003TO9RSU]\n",
      "A068255029AHTHDXZURNU                             [B000K8WVYA, B0094ISOMA]\n",
      "A06944662TFWOKKV4GJKX                                         [B000CQBZPG]\n",
      "A1004703RC79J9                                                [B001E50THY]\n",
      "                                               ...                        \n",
      "AZWRZZAMX90VT            [B0007R9L5Q, B000CQ01GU, B000E123IC, B000E46LZ...\n",
      "AZXKAH2DE6C8A            [B000EML7DS, B000ODF2ME, B001650XUK, B0018QLG9...\n",
      "AZXON596A1VXC                         [B00113SKZW, B00113ZTVK, B001L4JH5I]\n",
      "AZYXC63SS008M                                                 [B0040WCQKQ]\n",
      "AZZ5ASC403N74                                                 [B004U49QU2]\n",
      "Name: asin, Length: 13397, dtype: object\n"
     ]
    },
    {
     "name": "stderr",
     "output_type": "stream",
     "text": [
      "\n"
     ]
    }
   ],
   "source": [
    "# get user rating history\n",
    "train_user_rating_history = train.groupby([\"reviewerID\"])[\"asin\"].progress_apply(list)\n",
    "print(train_user_rating_history)"
   ]
  },
  {
   "cell_type": "markdown",
   "id": "a2b57c91",
   "metadata": {},
   "source": [
    "# Generate N-Recommendations = {10, 25, 30, 45}"
   ]
  },
  {
   "cell_type": "markdown",
   "id": "f79bbbd3",
   "metadata": {},
   "source": [
    "## Load Test Data"
   ]
  },
  {
   "cell_type": "code",
   "execution_count": 5,
   "id": "216ef47c",
   "metadata": {},
   "outputs": [],
   "source": [
    "# loading test dataset\n",
    "test = pd.read_csv(f\"{DATA_PATH}/{CATEGORY}_test.csv\")"
   ]
  },
  {
   "cell_type": "code",
   "execution_count": 6,
   "id": "7d56ca46",
   "metadata": {},
   "outputs": [
    {
     "data": {
      "text/html": [
       "<div>\n",
       "<style scoped>\n",
       "    .dataframe tbody tr th:only-of-type {\n",
       "        vertical-align: middle;\n",
       "    }\n",
       "\n",
       "    .dataframe tbody tr th {\n",
       "        vertical-align: top;\n",
       "    }\n",
       "\n",
       "    .dataframe thead th {\n",
       "        text-align: right;\n",
       "    }\n",
       "</style>\n",
       "<table border=\"1\" class=\"dataframe\">\n",
       "  <thead>\n",
       "    <tr style=\"text-align: right;\">\n",
       "      <th></th>\n",
       "      <th>index</th>\n",
       "      <th>asin</th>\n",
       "      <th>title</th>\n",
       "      <th>categories</th>\n",
       "      <th>reviewerID</th>\n",
       "      <th>overall</th>\n",
       "      <th>reviewText</th>\n",
       "      <th>reviewTime</th>\n",
       "      <th>processedReviewText</th>\n",
       "    </tr>\n",
       "  </thead>\n",
       "  <tbody>\n",
       "    <tr>\n",
       "      <th>0</th>\n",
       "      <td>2</td>\n",
       "      <td>9742356831</td>\n",
       "      <td>Mae Ploy Green Curry Paste, 14 oz</td>\n",
       "      <td>['Grocery &amp; Gourmet Food', 'Sauces, Gravies &amp; ...</td>\n",
       "      <td>A1TCSC0YWT82Q0</td>\n",
       "      <td>5.0</td>\n",
       "      <td>I love ethnic foods and to cook them. I recent...</td>\n",
       "      <td>2013-08-03</td>\n",
       "      <td>love ethnic food cook recently purchase produc...</td>\n",
       "    </tr>\n",
       "    <tr>\n",
       "      <th>1</th>\n",
       "      <td>8</td>\n",
       "      <td>9742356831</td>\n",
       "      <td>Mae Ploy Green Curry Paste, 14 oz</td>\n",
       "      <td>['Grocery &amp; Gourmet Food', 'Sauces, Gravies &amp; ...</td>\n",
       "      <td>A1Z7Y2GMAP9SRY</td>\n",
       "      <td>5.0</td>\n",
       "      <td>I like to make my own curry but this is a tast...</td>\n",
       "      <td>2014-06-27</td>\n",
       "      <td>like curry tasty alternative use base kind dif...</td>\n",
       "    </tr>\n",
       "    <tr>\n",
       "      <th>2</th>\n",
       "      <td>23</td>\n",
       "      <td>B00004S1C5</td>\n",
       "      <td>Ateco Food Coloring Kit, 6 colors</td>\n",
       "      <td>['Grocery &amp; Gourmet Food', 'Cooking &amp; Baking',...</td>\n",
       "      <td>A14YSMLYLJEMET</td>\n",
       "      <td>1.0</td>\n",
       "      <td>This product is no where near natural / organi...</td>\n",
       "      <td>2013-03-29</td>\n",
       "      <td>product near natural organic wish review purch...</td>\n",
       "    </tr>\n",
       "    <tr>\n",
       "      <th>3</th>\n",
       "      <td>31</td>\n",
       "      <td>B00005344V</td>\n",
       "      <td>Traditional Medicinals Organic Breathe Easy Se...</td>\n",
       "      <td>['Grocery &amp; Gourmet Food', 'Beverages', 'Coffe...</td>\n",
       "      <td>A2F488C4PLWGEI</td>\n",
       "      <td>5.0</td>\n",
       "      <td>If my wife drinks a cup of this tea when she f...</td>\n",
       "      <td>2014-03-23</td>\n",
       "      <td>wife drink cup tea feel attack come help avoid...</td>\n",
       "    </tr>\n",
       "    <tr>\n",
       "      <th>4</th>\n",
       "      <td>32</td>\n",
       "      <td>B00005344V</td>\n",
       "      <td>Traditional Medicinals Organic Breathe Easy Se...</td>\n",
       "      <td>['Grocery &amp; Gourmet Food', 'Beverages', 'Coffe...</td>\n",
       "      <td>AO1HXV7DWZZIR</td>\n",
       "      <td>5.0</td>\n",
       "      <td>I don't know about the medicinal aspects of th...</td>\n",
       "      <td>2014-02-06</td>\n",
       "      <td>know medicinal aspect tea flavor downright scr...</td>\n",
       "    </tr>\n",
       "    <tr>\n",
       "      <th>28001</th>\n",
       "      <td>77519</td>\n",
       "      <td>B00ISVHJ3Y</td>\n",
       "      <td>Wholesome Sweeteners, Organic Sweet and Lite S...</td>\n",
       "      <td>['Grocery &amp; Gourmet Food', 'Cooking &amp; Baking',...</td>\n",
       "      <td>A1WT3TVHANP7ZF</td>\n",
       "      <td>3.0</td>\n",
       "      <td>Hmmm. I really wanted to love this sweetener. ...</td>\n",
       "      <td>2014-07-22</td>\n",
       "      <td>hmmm want love sweetener half sugar half stevi...</td>\n",
       "    </tr>\n",
       "    <tr>\n",
       "      <th>28002</th>\n",
       "      <td>77520</td>\n",
       "      <td>B00ISVHJ3Y</td>\n",
       "      <td>Wholesome Sweeteners, Organic Sweet and Lite S...</td>\n",
       "      <td>['Grocery &amp; Gourmet Food', 'Cooking &amp; Baking',...</td>\n",
       "      <td>A3NEAETOSXDBOM</td>\n",
       "      <td>5.0</td>\n",
       "      <td>I confess I have a sweet tooth, and love the t...</td>\n",
       "      <td>2014-06-30</td>\n",
       "      <td>confess sweet tooth love taste sugar recognize...</td>\n",
       "    </tr>\n",
       "    <tr>\n",
       "      <th>28003</th>\n",
       "      <td>77521</td>\n",
       "      <td>B00ISVHJ3Y</td>\n",
       "      <td>Wholesome Sweeteners, Organic Sweet and Lite S...</td>\n",
       "      <td>['Grocery &amp; Gourmet Food', 'Cooking &amp; Baking',...</td>\n",
       "      <td>AD1ZOPB0BBEHB</td>\n",
       "      <td>4.0</td>\n",
       "      <td>It has a little of the stevia aftertaste, but ...</td>\n",
       "      <td>2014-07-17</td>\n",
       "      <td>little stevia aftertaste fair compromise able ...</td>\n",
       "    </tr>\n",
       "    <tr>\n",
       "      <th>28004</th>\n",
       "      <td>77522</td>\n",
       "      <td>B00ISVHJ3Y</td>\n",
       "      <td>Wholesome Sweeteners, Organic Sweet and Lite S...</td>\n",
       "      <td>['Grocery &amp; Gourmet Food', 'Cooking &amp; Baking',...</td>\n",
       "      <td>A18ECVX2RJ7HUE</td>\n",
       "      <td>5.0</td>\n",
       "      <td>i love marinade for grilled flank steak or lon...</td>\n",
       "      <td>2014-05-30</td>\n",
       "      <td>love marinade grilled flank steak london broil...</td>\n",
       "    </tr>\n",
       "    <tr>\n",
       "      <th>28005</th>\n",
       "      <td>77523</td>\n",
       "      <td>B00ISVHJ3Y</td>\n",
       "      <td>Wholesome Sweeteners, Organic Sweet and Lite S...</td>\n",
       "      <td>['Grocery &amp; Gourmet Food', 'Cooking &amp; Baking',...</td>\n",
       "      <td>A2G04D4QZAXL15</td>\n",
       "      <td>3.0</td>\n",
       "      <td>I've been using Truvia (a form of stevia) on m...</td>\n",
       "      <td>2014-05-27</td>\n",
       "      <td>use truvia form stevia cereal greek yogurt yea...</td>\n",
       "    </tr>\n",
       "  </tbody>\n",
       "</table>\n",
       "</div>"
      ],
      "text/plain": [
       "       index        asin                                              title  \\\n",
       "0          2  9742356831                  Mae Ploy Green Curry Paste, 14 oz   \n",
       "1          8  9742356831                  Mae Ploy Green Curry Paste, 14 oz   \n",
       "2         23  B00004S1C5                  Ateco Food Coloring Kit, 6 colors   \n",
       "3         31  B00005344V  Traditional Medicinals Organic Breathe Easy Se...   \n",
       "4         32  B00005344V  Traditional Medicinals Organic Breathe Easy Se...   \n",
       "28001  77519  B00ISVHJ3Y  Wholesome Sweeteners, Organic Sweet and Lite S...   \n",
       "28002  77520  B00ISVHJ3Y  Wholesome Sweeteners, Organic Sweet and Lite S...   \n",
       "28003  77521  B00ISVHJ3Y  Wholesome Sweeteners, Organic Sweet and Lite S...   \n",
       "28004  77522  B00ISVHJ3Y  Wholesome Sweeteners, Organic Sweet and Lite S...   \n",
       "28005  77523  B00ISVHJ3Y  Wholesome Sweeteners, Organic Sweet and Lite S...   \n",
       "\n",
       "                                              categories      reviewerID  \\\n",
       "0      ['Grocery & Gourmet Food', 'Sauces, Gravies & ...  A1TCSC0YWT82Q0   \n",
       "1      ['Grocery & Gourmet Food', 'Sauces, Gravies & ...  A1Z7Y2GMAP9SRY   \n",
       "2      ['Grocery & Gourmet Food', 'Cooking & Baking',...  A14YSMLYLJEMET   \n",
       "3      ['Grocery & Gourmet Food', 'Beverages', 'Coffe...  A2F488C4PLWGEI   \n",
       "4      ['Grocery & Gourmet Food', 'Beverages', 'Coffe...   AO1HXV7DWZZIR   \n",
       "28001  ['Grocery & Gourmet Food', 'Cooking & Baking',...  A1WT3TVHANP7ZF   \n",
       "28002  ['Grocery & Gourmet Food', 'Cooking & Baking',...  A3NEAETOSXDBOM   \n",
       "28003  ['Grocery & Gourmet Food', 'Cooking & Baking',...   AD1ZOPB0BBEHB   \n",
       "28004  ['Grocery & Gourmet Food', 'Cooking & Baking',...  A18ECVX2RJ7HUE   \n",
       "28005  ['Grocery & Gourmet Food', 'Cooking & Baking',...  A2G04D4QZAXL15   \n",
       "\n",
       "       overall                                         reviewText  reviewTime  \\\n",
       "0          5.0  I love ethnic foods and to cook them. I recent...  2013-08-03   \n",
       "1          5.0  I like to make my own curry but this is a tast...  2014-06-27   \n",
       "2          1.0  This product is no where near natural / organi...  2013-03-29   \n",
       "3          5.0  If my wife drinks a cup of this tea when she f...  2014-03-23   \n",
       "4          5.0  I don't know about the medicinal aspects of th...  2014-02-06   \n",
       "28001      3.0  Hmmm. I really wanted to love this sweetener. ...  2014-07-22   \n",
       "28002      5.0  I confess I have a sweet tooth, and love the t...  2014-06-30   \n",
       "28003      4.0  It has a little of the stevia aftertaste, but ...  2014-07-17   \n",
       "28004      5.0  i love marinade for grilled flank steak or lon...  2014-05-30   \n",
       "28005      3.0  I've been using Truvia (a form of stevia) on m...  2014-05-27   \n",
       "\n",
       "                                     processedReviewText  \n",
       "0      love ethnic food cook recently purchase produc...  \n",
       "1      like curry tasty alternative use base kind dif...  \n",
       "2      product near natural organic wish review purch...  \n",
       "3      wife drink cup tea feel attack come help avoid...  \n",
       "4      know medicinal aspect tea flavor downright scr...  \n",
       "28001  hmmm want love sweetener half sugar half stevi...  \n",
       "28002  confess sweet tooth love taste sugar recognize...  \n",
       "28003  little stevia aftertaste fair compromise able ...  \n",
       "28004  love marinade grilled flank steak london broil...  \n",
       "28005  use truvia form stevia cereal greek yogurt yea...  "
      ]
     },
     "execution_count": 6,
     "metadata": {},
     "output_type": "execute_result"
    }
   ],
   "source": [
    "test.head().append(test.tail())"
   ]
  },
  {
   "cell_type": "code",
   "execution_count": 7,
   "id": "1d42af2f",
   "metadata": {},
   "outputs": [],
   "source": [
    "# generating test history\n",
    "test_user_history = (pd.DataFrame(test.groupby(['reviewerID'])['asin']\n",
    "                                  .apply(list).reset_index()))"
   ]
  },
  {
   "cell_type": "code",
   "execution_count": 8,
   "id": "0a3c6934",
   "metadata": {},
   "outputs": [
    {
     "name": "stdout",
     "output_type": "stream",
     "text": [
      "                  reviewerID  \\\n",
      "0      A00177463W0XWB16A9O05   \n",
      "1      A022899328A0QROR32DCT   \n",
      "2      A068255029AHTHDXZURNU   \n",
      "3      A06944662TFWOKKV4GJKX   \n",
      "4             A1004703RC79J9   \n",
      "...                      ...   \n",
      "13274          AZWRZZAMX90VT   \n",
      "13275          AZXKAH2DE6C8A   \n",
      "13276          AZXON596A1VXC   \n",
      "13277          AZYXC63SS008M   \n",
      "13278          AZZ5ASC403N74   \n",
      "\n",
      "                                                    asin  \n",
      "0                               [B00474OR8G, B00BFM6OAW]  \n",
      "1                                           [B00CMQDKES]  \n",
      "2                                           [B001FA1K2G]  \n",
      "3                                           [B000GFYRHG]  \n",
      "4                                           [B003GTR8IO]  \n",
      "...                                                  ...  \n",
      "13274  [B0007R9L4M, B000CN7BMA, B001EQ5D1K, B002VT3GX...  \n",
      "13275   [B000MAK41I, B004X8TJP2, B006H34CUS, B007W14RMM]  \n",
      "13276                           [B001EO5S0I, B00271QQ7Q]  \n",
      "13277                                       [B0054TWPNC]  \n",
      "13278                                       [B00BIEU5PC]  \n",
      "\n",
      "[13279 rows x 2 columns]\n"
     ]
    }
   ],
   "source": [
    "print(test_user_history)"
   ]
  },
  {
   "cell_type": "markdown",
   "id": "960c85be",
   "metadata": {},
   "source": [
    "## Instantiate Memory-based Embedding CF (User-based)"
   ]
  },
  {
   "cell_type": "code",
   "execution_count": 9,
   "id": "5a613133",
   "metadata": {},
   "outputs": [],
   "source": [
    "# instantiate model\n",
    "ub_cf = cf.UserBasedCF()"
   ]
  },
  {
   "cell_type": "code",
   "execution_count": 10,
   "id": "070ea35e",
   "metadata": {},
   "outputs": [
    {
     "name": "stdout",
     "output_type": "stream",
     "text": [
      "Generating user rating history...\n",
      "Generating user-rating item rating (utility) matrix...\n",
      "Generate user similarities matrix...\n",
      "Generate k-neighbourhood of similar users...\n",
      "CPU times: user 50.3 s, sys: 1.97 s, total: 52.3 s\n",
      "Wall time: 32.7 s\n"
     ]
    }
   ],
   "source": [
    "%%time\n",
    "# fit learning algorithm to training datab\n",
    "ub_cf.fit(train, k_neighbours=50)"
   ]
  },
  {
   "cell_type": "code",
   "execution_count": 11,
   "id": "684069f3",
   "metadata": {},
   "outputs": [
    {
     "name": "stderr",
     "output_type": "stream",
     "text": [
      "100%|██████████████████████████████████████████████| 13397/13397 [37:38<00:00,  5.93it/s]\n"
     ]
    }
   ],
   "source": [
    "# generate candidates items ranked by predicted ratings\n",
    "candidate_items = ub_cf.test()"
   ]
  },
  {
   "cell_type": "markdown",
   "id": "165789d5",
   "metadata": {},
   "source": [
    "## Save Model"
   ]
  },
  {
   "cell_type": "code",
   "execution_count": 12,
   "id": "9f27a0f3",
   "metadata": {},
   "outputs": [],
   "source": [
    "# MODEL_PATH.parent.mkdir(parents=True, exist_ok=True)\n",
    "# with open(MODEL_PATH, \"wb\") as f:\n",
    "#     pickle.dump(ub_cf, f)"
   ]
  },
  {
   "cell_type": "code",
   "execution_count": 13,
   "id": "edfda5e1",
   "metadata": {},
   "outputs": [],
   "source": [
    "# # load model\n",
    "# with open(MODEL_PATH, \"rb\") as f:\n",
    "#     ub_cf = pickle.load(f)"
   ]
  },
  {
   "cell_type": "markdown",
   "id": "162dfd9b",
   "metadata": {},
   "source": [
    "## Loop through N = {10, 25, 30, 45}"
   ]
  },
  {
   "cell_type": "code",
   "execution_count": 14,
   "id": "f8a4d061",
   "metadata": {},
   "outputs": [],
   "source": [
    "# generate item popularity\n",
    "item_popularity = evaluate_model.generate_item_popularity(train)"
   ]
  },
  {
   "cell_type": "code",
   "execution_count": 15,
   "id": "00e832bb",
   "metadata": {
    "scrolled": true
   },
   "outputs": [
    {
     "name": "stdout",
     "output_type": "stream",
     "text": [
      "The UB-CF has an average recall@10: 0.02183, average novelty@10: 0.90570\n",
      "The UB-CF has an average recall@25: 0.03339, average novelty@25: 0.93888\n",
      "The UB-CF has an average recall@30: 0.03621, average novelty@30: 0.94462\n",
      "The UB-CF has an average recall@45: 0.04601, average novelty@45: 0.95403\n"
     ]
    }
   ],
   "source": [
    "n_recommendations = {}\n",
    "for n in [10, 25, 30, 45]:\n",
    "    # retrieve the top-n items based on similarities\n",
    "    # top_ns = get_top_n(candidate_items, train_user_rating_history, n)\n",
    "    top_ns = ub_cf.get_top_n(n)\n",
    "    # evaluate how well the recommended items predicted the future purchases\n",
    "    n_recommended_items = (evaluate_model\n",
    "                           .evaluate_recommendations(model_name = 'UB-CF',\n",
    "                                                     top_ns = top_ns, \n",
    "                                                     user_rating_history = test_user_history,\n",
    "                                                     item_popularity = item_popularity,\n",
    "                                                     n = n,\n",
    "                                                     mf_based = False))\n",
    "    # saving the n-value and recommended items\n",
    "    n_recommendations[n] = (top_ns, n_recommended_items)"
   ]
  },
  {
   "cell_type": "markdown",
   "id": "0cf77a85",
   "metadata": {},
   "source": [
    "# Evaluate N-Recommendations "
   ]
  },
  {
   "cell_type": "markdown",
   "id": "f6ccfde9",
   "metadata": {},
   "source": [
    "## N=10"
   ]
  },
  {
   "cell_type": "code",
   "execution_count": 16,
   "id": "976d4af5",
   "metadata": {},
   "outputs": [],
   "source": [
    "top_ns_10 = n_recommendations[10][0]"
   ]
  },
  {
   "cell_type": "code",
   "execution_count": 17,
   "id": "c763317d",
   "metadata": {},
   "outputs": [
    {
     "name": "stdout",
     "output_type": "stream",
     "text": [
      "For user: A5PC6KU9TQFRY:\n",
      "Purchase History:\n",
      "             asin                                              title\n",
      "346    B00014HS2S  Prince of Peace Oolong Tea - 100 Tea Bags net ...\n",
      "351    B00014HS2S  Prince of Peace Oolong Tea - 100 Tea Bags net ...\n",
      "8980   B000H1195C  Kikkoman Egg Flower, Hot and Sour Soup, 0.88-O...\n",
      "34315  B004772OWE  Celestial Seasonings Authentic Green Tea, K-Cu...\n",
      "43219  B006GCMI5Q  Benson's - Table Tasty Salt Substitute - No Po...\n",
      "\n",
      "Recommending:\n",
      "\n",
      "         asin                                              title\n",
      "0  B0042LH7TK  Green Mountain Coffee Fair Trade Pumpkin Spice...\n",
      "1  B000BXSRT2     World Confections Candy Cigarettes, Pack of 24\n",
      "2  B006846XQ2  Starbucks Tazo Tea * Awake * Black Tea, 16 K-C...\n",
      "3  B000H11C6I  Blue Diamond Almond Nut-Thins Cracker Crisps, ...\n",
      "4  B000J4IDO2  Coffee People K-Cups, Black Tiger Extra Bold, ...\n",
      "5  B0029XDZIK  Keurig, The Original Donut Shop, Medium Roast ...\n",
      "6  B004OINZZQ  Twinings of London Winter Spice Herbal Tea Bag...\n",
      "7  B007PA33MA  Timothy's Decaf Colombian K-Cup Counts for Keu...\n",
      "8  B002HQCWYM  Twinings of London English Breakfast Tea K-Cup...\n",
      "9  B000ER1EPE  Earth's Best Organic Sesame Street Toddler Let...\n"
     ]
    }
   ],
   "source": [
    "utilities.retrieve_recommendations(train, top_ns_10, target_user='A5PC6KU9TQFRY')"
   ]
  },
  {
   "cell_type": "markdown",
   "id": "3e84d1b0",
   "metadata": {},
   "source": [
    "## N=25"
   ]
  },
  {
   "cell_type": "code",
   "execution_count": 18,
   "id": "f1106ae0",
   "metadata": {},
   "outputs": [],
   "source": [
    "top_ns_25 = n_recommendations[25][0]"
   ]
  },
  {
   "cell_type": "code",
   "execution_count": 19,
   "id": "55930c8d",
   "metadata": {},
   "outputs": [
    {
     "name": "stdout",
     "output_type": "stream",
     "text": [
      "For user: A2H84V55USFJQX:\n",
      "Purchase History:\n",
      "             asin                                              title\n",
      "13844  B000ZSZ5S4  Blue Diamond Almonds, Bold Salt &amp; Vinegar,...\n",
      "41088  B005K4Q1T0  Grove Square Hot Cocoa Dark Chocolate, 24 Sing...\n",
      "\n",
      "Recommending:\n",
      "\n",
      "          asin                                              title\n",
      "0   B002HQCWYM  Twinings of London English Breakfast Tea K-Cup...\n",
      "1   B004AE1FHY  Folgers Classic Roast Instant Coffee, 8 Ounce ...\n",
      "2   B000EDG4V2       Bob's Red Mill Guar Gum, 8 Ounce (Case of 8)\n",
      "3   B0048CHI9M  Splenda Minis Dissolvable Tablets, 100-Count (...\n",
      "4   B0029XDZIK  Keurig, The Original Donut Shop, Medium Roast ...\n",
      "5   B001D0IZBM                     Grocery &amp; Gourmet Food\" />\n",
      "6   B001NJI7GQ  Vita Coco Coconut Water, Pineapple - Naturally...\n",
      "7   B004AWTR6M  Green Mountain Hot Apple Cider single serve ca...\n",
      "8   B0005ZH4QI              Skippy Creamy Peanut Butter, 40 Ounce\n",
      "9   B00017028M              Maldon Sea Salt Flakes, 8.5 ounce Box\n",
      "10  B001EQ56V2   Fiber One Raisin Bran Clusters, 17.25-Ounce B...\n",
      "11  B001EYUE5C  Green Mountain Coffee Southern Pecan, K-Cup Po...\n",
      "12  B000GAT6NG  Nutiva Organic, Cold-Pressed, Unrefined, Virgi...\n",
      "13  B005HGAVD8  Crazy Cups Wolfgang Puck Sampler,  K-Cup Porti...\n",
      "14  B000ER1EPE  Earth's Best Organic Sesame Street Toddler Let...\n",
      "15  B00AFS8LTO   Fiber Gourmet Crackers, Nacho Thinables, 6 Ounce\n",
      "16  B005U4RFUY  Snyders | Old Fashioned Pretzel Sticks 3 pound...\n",
      "17  B00DM07VHA  Biltong Seasoned Dried Beef, Original Sliced, ...\n",
      "18  B0042RBHDG                  Starbucks Hot Cocoa Powder, 2.5lb\n",
      "19  B004EDZ83S  Tully's Coffee  Dark Roast, French Roast,  K-C...\n",
      "20  B00394JNAW  Antimo Caputo Italian &quot;00&quot; Farina Fl...\n",
      "21  B00AR6Q5JC  Rishi Tea Organic Caffeine-Free Turmeric Ginge...\n",
      "22  B00CBHR1NY              Bird's Custard Powder, 600g Canisters\n",
      "23  B00B0JCHZQ  True Black Cherry Limeade, Peach Lemonade, &am...\n",
      "24  B001PB801Y           Two Pounds Of Dates Pitted - We Got Nuts\n"
     ]
    }
   ],
   "source": [
    "utilities.retrieve_recommendations(train, top_ns_25)"
   ]
  },
  {
   "cell_type": "markdown",
   "id": "451fd10c",
   "metadata": {},
   "source": [
    "## N=30"
   ]
  },
  {
   "cell_type": "code",
   "execution_count": 20,
   "id": "45063536",
   "metadata": {},
   "outputs": [],
   "source": [
    "top_ns_30 = n_recommendations[30][0]"
   ]
  },
  {
   "cell_type": "code",
   "execution_count": 21,
   "id": "04c83c41",
   "metadata": {},
   "outputs": [
    {
     "name": "stdout",
     "output_type": "stream",
     "text": [
      "For user: A2W9B725TZBXOX:\n",
      "Purchase History:\n",
      "             asin                                              title\n",
      "1645   B0005Z6LLW  Ghirardelli Hot Chocolate Mix , Chocolate Moch...\n",
      "4683   B000ED9L6C  Bob's Red Mill Raw Shelled Sunflower Seeds (Ke...\n",
      "8508   B000GATCRQ  Dream Foods International Volcano Lemon Burst,...\n",
      "15333  B0014EOUAW  V8 V-Fusion Light Peach Mango Juice Drink, 46-...\n",
      "18192  B001E52ZAS  Post Shredded Wheat Lightly Frosted Cereal, Sp...\n",
      "21093  B001EPQV1W  Honey Bunches of Oats with Almonds, 14.5-Ounce...\n",
      "22932  B001G8UC8K  Tootsie Roll Midgees Candy 5 Pound Value Bag 7...\n",
      "23025  B001GVIRD4                     Grocery &amp; Gourmet Food\" />\n",
      "24945  B001NC8HQS  Idahoan Buttery homestyle flavored mashed pota...\n",
      "25830  B001SAQ7WQ  Progresso Traditional Soup, Chickarina (Chicke...\n",
      "26956  B0025UOMY8  Maruchan Yakisoba Spicy Vegetable, 3.79-Ounce ...\n",
      "33467  B00421DMLM  Libby's Splenda Sliced Peaches, 23.5-Ounce Jar...\n",
      "34141  B004727CL2  Snack Factory Pretzel Crisps Everything, 7.2-O...\n",
      "40204  B005C3IVN8  Anderson's Pure Maple Syrup, Grade A Very Dark...\n",
      "40494  B005ER1DJ6  Quaker Popped Rice Crisps Snacks Chocolate, 7....\n",
      "40552  B005FUMNPU  Quakes Rice Snacks, Sweet Chili, 6 Ounce (Pack...\n",
      "\n",
      "Recommending:\n",
      "\n",
      "          asin                                              title\n",
      "0   B0001CXUDG                      Carob Powder, Light Roast 1lb\n",
      "1   B0042LH7TK  Green Mountain Coffee Fair Trade Pumpkin Spice...\n",
      "2   B000BXSRT2     World Confections Candy Cigarettes, Pack of 24\n",
      "3   B000OZFECU  Spicy World Citric Acid, 5-Pound (Food Grade, ...\n",
      "4   B000ER1EPE  Earth's Best Organic Sesame Street Toddler Let...\n",
      "5   B005U4RFUY  Snyders | Old Fashioned Pretzel Sticks 3 pound...\n",
      "6   B00AFS8LTO   Fiber Gourmet Crackers, Nacho Thinables, 6 Ounce\n",
      "7   B003CK0VVI  Stash Tea Superfruits Sampler, Six Flavor Vari...\n",
      "8   B00DM07VHA  Biltong Seasoned Dried Beef, Original Sliced, ...\n",
      "9   B001EQ5NMY         Spam with Cheese, 12 Ounce Can (Pack of 6)\n",
      "10  B0042RBHDG                  Starbucks Hot Cocoa Powder, 2.5lb\n",
      "11  B00A66S32U  Amoretti Premium Syrup, Madagascar Bourbon Van...\n",
      "12  B002DOG6VS  Bali's Best Coffee Candy, 5.3 Oz (150g) Bag wi...\n",
      "13  B00394JNAW  Antimo Caputo Italian &quot;00&quot; Farina Fl...\n",
      "14  B00AR6Q5JC  Rishi Tea Organic Caffeine-Free Turmeric Ginge...\n",
      "15  B00CBHR1NY              Bird's Custard Powder, 600g Canisters\n",
      "16  B00BCL2UK4  KIND Nuts &amp; Spices, Variety Pack, 12-Count...\n",
      "17  B005HE1KRQ            Bob's Red Mill Whole Grain Teff - 24 oz\n",
      "18  B0012BXTU4           Equal Exchange Baking Cocoa, 8-Ounce Can\n",
      "19  B008ZWILNS  Aroy-D Pure Coconut Cream, 33.8 Fluid Ounce (P...\n",
      "20  B001EQ4Z96  McCormick Culinary Imitation Banana Extract, 1...\n",
      "21  B0012BSDNW  Frontier Co-op Organic Hibiscus Flowers, Cut &...\n",
      "22  B00B0JCHZQ  True Black Cherry Limeade, Peach Lemonade, &am...\n",
      "23  B005P0WOZE  Dulse Flakes - Certified Organic- Sea Vegetabl...\n",
      "24  B002GPNT32  RICE DREAM Horchata Rice Drink, 32 fl. oz. (Pa...\n",
      "25  B0049YP724  Great River Organic Milling, Whole Grain, Hull...\n",
      "26  B007P5JG08  Lipton To Go Stix Iced Green Tea Mix Tea and H...\n",
      "27  B000FIZPIY  CORAZONAS Snacks, Jalapeno Jack, 2-Ounce Bags ...\n",
      "28  B0000V09L4  Igourmet Cheddars of the World Assortment, 2-P...\n",
      "29  B001SAXLEI  Bulk Nuts, Nut Usa. Pecan Halves, 5-Pound - We...\n"
     ]
    }
   ],
   "source": [
    "utilities.retrieve_recommendations(train, top_ns_30)"
   ]
  },
  {
   "cell_type": "markdown",
   "id": "a07e61cc",
   "metadata": {},
   "source": [
    "## N=45"
   ]
  },
  {
   "cell_type": "code",
   "execution_count": 22,
   "id": "d34fd03d",
   "metadata": {},
   "outputs": [],
   "source": [
    "top_ns_45 = n_recommendations[45][0]"
   ]
  },
  {
   "cell_type": "code",
   "execution_count": 23,
   "id": "7c68a9b6",
   "metadata": {},
   "outputs": [
    {
     "name": "stdout",
     "output_type": "stream",
     "text": [
      "For user: A1G8ECTOF35O2R:\n",
      "Purchase History:\n",
      "             asin                                              title\n",
      "9115   B000H26J7E  Lindt Excellence Bar, 70% Cocoa Smooth Dark Ch...\n",
      "47677  B00EKLPLU4              Healthworks Cacao Powder Organic, 1lb\n",
      "\n",
      "Recommending:\n",
      "\n",
      "          asin                                              title\n",
      "0   B001EQ5NMY         Spam with Cheese, 12 Ounce Can (Pack of 6)\n",
      "1   B0042LH7TK  Green Mountain Coffee Fair Trade Pumpkin Spice...\n",
      "2   B000BXSRT2     World Confections Candy Cigarettes, Pack of 24\n",
      "3   B005U4RFUY  Snyders | Old Fashioned Pretzel Sticks 3 pound...\n",
      "4   B003CK0VVI  Stash Tea Superfruits Sampler, Six Flavor Vari...\n",
      "5   B00DM07VHA  Biltong Seasoned Dried Beef, Original Sliced, ...\n",
      "6   B0042RBHDG                  Starbucks Hot Cocoa Powder, 2.5lb\n",
      "7   B00826N3C6  CBTL Creme Brulee Coffee Capsules By The Coffe...\n",
      "8   B00A66S32U  Amoretti Premium Syrup, Madagascar Bourbon Van...\n",
      "9   B00394JNAW  Antimo Caputo Italian &quot;00&quot; Farina Fl...\n",
      "10  B008YQKZ3O      Nature's Way Liquid Coconut Premium Oil 10 oz\n",
      "11  B00EOVWO00  Paula Deen Sugar Free BBQ Sauce Special 2 Pack...\n",
      "12  B000RHUVSM         Chipotle Morita Chile Powder, 20 Ounce Jar\n",
      "13  B00AR6Q5JC  Rishi Tea Organic Caffeine-Free Turmeric Ginge...\n",
      "14  B007P5T3Y2  Apple &amp; Eve Fruitables Variety Pack, 6.75 ...\n",
      "15  B00BCL2UK4  KIND Nuts &amp; Spices, Variety Pack, 12-Count...\n",
      "16  B005HE1KRQ            Bob's Red Mill Whole Grain Teff - 24 oz\n",
      "17  B008ZWILNS  Aroy-D Pure Coconut Cream, 33.8 Fluid Ounce (P...\n",
      "18  B0055AEOC0  Don Francisco's Hawaiian Hazelnut, Premium 100...\n",
      "19  B004PE91ES  Dagoba Xocolatl Hot Chocolate, Fair Trade Cert...\n",
      "20  B005P0WOZE  Dulse Flakes - Certified Organic- Sea Vegetabl...\n",
      "21  B0012BSDNW  Frontier Co-op Organic Hibiscus Flowers, Cut &...\n",
      "22  B001PB801Y           Two Pounds Of Dates Pitted - We Got Nuts\n",
      "23  B00CS4J6B0  Fresh Roasted Coffee LLC, Black Knight Organic...\n",
      "24  B002GPNT32  RICE DREAM Horchata Rice Drink, 32 fl. oz. (Pa...\n",
      "25  B0049YP724  Great River Organic Milling, Whole Grain, Hull...\n",
      "26  B000FIZPIY  CORAZONAS Snacks, Jalapeno Jack, 2-Ounce Bags ...\n",
      "27  B00ADX5WZ2  Planters Fancy Whole Cashews, Salted, 33 Ounce...\n",
      "28  B0000V09L4  Igourmet Cheddars of the World Assortment, 2-P...\n",
      "29  B001SAXLEI  Bulk Nuts, Nut Usa. Pecan Halves, 5-Pound - We...\n",
      "30  B00CIX6P1U  Vita Coco Kids Coconut Water, Variety Pack, 6 ...\n",
      "31  B002Q7RMGA  Boston Tea Finest Grade Loose Pineapple Paradi...\n",
      "32  B00BG0ZJ0Y  matchaDNA Organic Powdered Matcha Green Tea, 1...\n",
      "33  B005Q8BL9A  Stash Tea Exotic Tea Six Flavor Assortment, 18...\n",
      "34  B008YK1U16   Planters Deluxe Mixed Nuts, Salted, 34 Ounce Jar\n",
      "35  B00ASD2F8O  Kirkland Saigon Cinnamon 10.7 Oz Bottles( Pack...\n",
      "36  B00B59QDEC  Keystone Meats All Natural Canned Beef, Ground...\n",
      "37  B000XB49U8  Southern Homestyle Corn Flake Crumbs, Gluten F...\n",
      "38  B000K89490  Spicy World Masoor Dal (Indian Red Lentils) 4 ...\n",
      "39  B006ULT3WY                Chimes Orange Ginger Chews, 1lb Bag\n",
      "40  B00AAL6W2Y  Mantova Organic Flavored Balsamic Vinegar Cond...\n",
      "41  B009GDC3I4  Starbucks Decaf Pike Place Roast, K-Cup for Ke...\n",
      "42  B0027DUJFE  Navitas Organics Antioxidant Superfruit Blend ...\n",
      "43  B004X71550  Swerve Granular Sweetener 12 Ounce + Measuring...\n",
      "44  B00F9WG6V6  Swad Indian Spice Turmeric Haldi Powder, 14 Ounce\n"
     ]
    }
   ],
   "source": [
    "utilities.retrieve_recommendations(train, top_ns_45)"
   ]
  },
  {
   "cell_type": "markdown",
   "id": "2c93d13d",
   "metadata": {},
   "source": [
    "# Cross-Analysis for Cold-Start Users (<= 2 Purchased Items)"
   ]
  },
  {
   "cell_type": "code",
   "execution_count": 24,
   "id": "6f512c90",
   "metadata": {},
   "outputs": [],
   "source": [
    "cold_start_users = utilities.generate_cold_start_users(train)"
   ]
  },
  {
   "cell_type": "code",
   "execution_count": 25,
   "id": "7b9fcacf",
   "metadata": {},
   "outputs": [
    {
     "name": "stdout",
     "output_type": "stream",
     "text": [
      "The UB-CF has an average recall@10: 0.02074, average novelty@10: 0.95150\n",
      "The UB-CF has an average recall@25: 0.02816, average novelty@25: 0.97078\n",
      "The UB-CF has an average recall@30: 0.02970, average novelty@30: 0.97368\n",
      "The UB-CF has an average recall@45: 0.03719, average novelty@45: 0.97812\n"
     ]
    }
   ],
   "source": [
    "for n in tuple(zip([10, 25, 30, 45], [top_ns_10, top_ns_25, top_ns_30, top_ns_45])):\n",
    "    cold_start_top_ns = dict(filter(lambda x: x[0] in cold_start_users, n[1].items()))\n",
    "    # evaluate how well the recommended items predicted the future purchases\n",
    "    # on cold start users\n",
    "    n_recommended_items = (evaluate_model.\n",
    "                           evaluate_recommendations(model_name = 'UB-CF',\n",
    "                                                    top_ns = cold_start_top_ns,\n",
    "                                                    user_rating_history = test_user_history, \n",
    "                                                    item_popularity = item_popularity, \n",
    "                                                    n = n[0],\n",
    "                                                    mf_based = False))"
   ]
  },
  {
   "cell_type": "markdown",
   "id": "84b61136",
   "metadata": {},
   "source": [
    "# Generating Recommended Items DataFrame"
   ]
  },
  {
   "cell_type": "code",
   "execution_count": 39,
   "id": "794eeb41",
   "metadata": {},
   "outputs": [],
   "source": [
    "def generate_recommendations_df(\n",
    "    train: pd.DataFrame,\n",
    "    n_recommendations: dict,\n",
    "    algo_name: str,\n",
    "    mf_based=False,\n",
    "    max_recommended: int = 45,\n",
    "):\n",
    "    \"\"\" \"\"\"\n",
    "    \n",
    "    try:\n",
    "        top_ns = n_recommendations[max_recommended][0]\n",
    "        top_ns_df = pd.DataFrame.from_dict(top_ns).T.reset_index()\n",
    "        # transform column data to row wise\n",
    "        top_ns_df = top_ns_df.melt(\n",
    "            id_vars=\"index\", var_name=\"item_rank\", value_name=\"recommended_items\"\n",
    "        ).sort_values(by=[\"index\", \"item_rank\"])\n",
    "    except ValueError:\n",
    "        top_ns = n_recommendations[max_recommended][0]\n",
    "        top_ns_df = (pd.DataFrame\n",
    "                     .from_dict(n_recommendations[45][0], orient=\"index\")\n",
    "                     .stack()\n",
    "                     .to_frame().\n",
    "                     reset_index())\n",
    "    \n",
    "    # rename columns\n",
    "    top_ns_df.columns = [\"reviewerID\", \"item_rank\", \"asin\"]    \n",
    "    # add the in columns specifying top-n and algorithm\n",
    "    top_ns_df[\"algorithm\"] = algo_name \n",
    "\n",
    "    if mf_based:\n",
    "        top_ns_df[\"asin\"] = top_ns_df[\"asin\"].apply(lambda x: x[0])    \n",
    "\n",
    "    # add in item title\n",
    "    item_info = train[[\"asin\", \"title\"]].drop_duplicates()    \n",
    "    recommendation_df = top_ns_df.merge(item_info, how=\"left\", on=\"asin\")\n",
    "\n",
    "    return recommendation_df"
   ]
  },
  {
   "cell_type": "code",
   "execution_count": 47,
   "id": "b0ff568e",
   "metadata": {},
   "outputs": [],
   "source": [
    "max_recommendations = generate_recommendations_df(train, n_recommendations, \"UB-CF\", mf_based=False)"
   ]
  },
  {
   "cell_type": "markdown",
   "id": "194d9531",
   "metadata": {},
   "source": [
    "# Store in `SQLite` DB"
   ]
  },
  {
   "cell_type": "code",
   "execution_count": 43,
   "id": "eb59d0aa",
   "metadata": {},
   "outputs": [],
   "source": [
    "engine = create_engine(\"sqlite:///recommender.db\", echo=True)"
   ]
  },
  {
   "cell_type": "code",
   "execution_count": 46,
   "id": "1c80e9c7",
   "metadata": {},
   "outputs": [
    {
     "name": "stdout",
     "output_type": "stream",
     "text": [
      "2021-09-22 23:15:04,103 INFO sqlalchemy.engine.Engine PRAGMA main.table_info(\"Grocery_and_Gourmet_Food\")\n",
      "2021-09-22 23:15:04,104 INFO sqlalchemy.engine.Engine [raw sql] ()\n",
      "2021-09-22 23:15:04,258 INFO sqlalchemy.engine.Engine BEGIN (implicit)\n",
      "2021-09-22 23:15:07,311 INFO sqlalchemy.engine.Engine INSERT INTO \"Grocery_and_Gourmet_Food\" (\"index\", \"reviewerID\", item_rank, asin, algorithm, title) VALUES (?, ?, ?, ?, ?, ?)\n",
      "2021-09-22 23:15:07,311 INFO sqlalchemy.engine.Engine [generated in 2.58914s] ((0, 'A00177463W0XWB16A9O05', 0, 'B0029XDZKI', 'UB-CF', \"Keurig, Gloria Jean's, Hazelnut, K-Cup Counts, 50 Count\"), (1, 'A00177463W0XWB16A9O05', 1, 'B001CHFUDC', 'UB-CF', 'Coffee People Donut Shop Regular Medium Roast Extra Bold, K-Cup Portion Pack for Keurig K-Cup Brewers 24-Count (Pack of 2)'), (2, 'A00177463W0XWB16A9O05', 2, 'B000NERTSE', 'UB-CF', 'Hormel Premium Real Crumbled Bacon 20 oz'), (3, 'A00177463W0XWB16A9O05', 3, 'B005U4RFUY', 'UB-CF', 'Snyders | Old Fashioned Pretzel Sticks 3 pounds 7 ounces'), (4, 'A00177463W0XWB16A9O05', 4, 'B00AFS8LTO', 'UB-CF', 'Fiber Gourmet Crackers, Nacho Thinables, 6 Ounce'), (5, 'A00177463W0XWB16A9O05', 5, 'B000ER1EPE', 'UB-CF', \"Earth's Best Organic Sesame Street Toddler Letter of the Day Cookies, Oatmeal Cinnamon, 5.3 oz. Box (Pack of 6)\"), (6, 'A00177463W0XWB16A9O05', 6, 'B00DM07VHA', 'UB-CF', 'Biltong Seasoned Dried Beef, Original Sliced, 8 oz'), (7, 'A00177463W0XWB16A9O05', 7, 'B004KPZOIE', 'UB-CF', 'Linwoods Ground Flaxseed, Cocoa, Strawberries and Blueberries, 12.7000-Ounce')  ... displaying 10 of 591722 total bound parameter sets ...  (591720, 'AZZ5ASC403N74', 43, 'B00GPCW9G0', 'UB-CF', 'Yacon Syrup,100% Pure Raw All Natural Low Cal Natural Sweetener, 8 oz'), (591721, 'AZZ5ASC403N74', 44, 'B000OIMSL2', 'UB-CF', 'Skittles Sour Candy, 1.8 ounce (24 Single Packs)'))\n",
      "2021-09-22 23:15:08,888 INFO sqlalchemy.engine.Engine COMMIT\n",
      "2021-09-22 23:15:09,160 INFO sqlalchemy.engine.Engine SELECT name FROM sqlite_master WHERE type='table' ORDER BY name\n",
      "2021-09-22 23:15:09,161 INFO sqlalchemy.engine.Engine [raw sql] ()\n"
     ]
    }
   ],
   "source": [
    "max_recommendations.to_sql(f\"{CATEGORY}\", con=engine, if_exists=\"append\")"
   ]
  },
  {
   "cell_type": "code",
   "execution_count": null,
   "id": "7b1bb0d9",
   "metadata": {},
   "outputs": [],
   "source": []
  }
 ],
 "metadata": {
  "kernelspec": {
   "display_name": "Python 3 (ipykernel)",
   "language": "python",
   "name": "python3"
  },
  "language_info": {
   "codemirror_mode": {
    "name": "ipython",
    "version": 3
   },
   "file_extension": ".py",
   "mimetype": "text/x-python",
   "name": "python",
   "nbconvert_exporter": "python",
   "pygments_lexer": "ipython3",
   "version": "3.9.6"
  }
 },
 "nbformat": 4,
 "nbformat_minor": 5
}
