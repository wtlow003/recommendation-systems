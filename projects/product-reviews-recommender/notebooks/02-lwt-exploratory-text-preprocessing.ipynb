{
 "cells": [
  {
   "cell_type": "code",
   "execution_count": 1,
   "id": "54668b68",
   "metadata": {},
   "outputs": [
    {
     "name": "stderr",
     "output_type": "stream",
     "text": [
      "/usr/local/lib/python3.9/site-packages/gensim/similarities/__init__.py:15: UserWarning: The gensim.similarities.levenshtein submodule is disabled, because the optional Levenshtein package <https://pypi.org/project/python-Levenshtein/> is unavailable. Install Levenhstein (e.g. `pip install python-Levenshtein`) to suppress this warning.\n",
      "  warnings.warn(msg)\n"
     ]
    },
    {
     "name": "stdout",
     "output_type": "stream",
     "text": [
      "INFO: Pandarallel will run on 8 workers.\n",
      "INFO: Pandarallel will use standard multiprocessing data transfer (pipe) to transfer data between the main process and workers.\n"
     ]
    }
   ],
   "source": [
    "import numpy as np\n",
    "import pandas as pd\n",
    "\n",
    "import contractions\n",
    "import re\n",
    "from gensim.parsing.preprocessing import remove_stopwords\n",
    "from gensim.utils import simple_preprocess\n",
    "import nltk\n",
    "from nltk.corpus import stopwords\n",
    "from textblob import TextBlob\n",
    "\n",
    "from src.features.build_features import preprocess_text, lemmatize_with_postags, remove_missing_reviews\n",
    "from src.utilities.utilities import text_statistics, token_statistics\n",
    "\n",
    "from pandarallel import pandarallel\n",
    "from tqdm import tqdm\n",
    "\n",
    "import matplotlib.pyplot as plt\n",
    "import seaborn as sns\n",
    "\n",
    "tqdm.pandas()\n",
    "pandarallel.initialize()"
   ]
  },
  {
   "cell_type": "code",
   "execution_count": 2,
   "id": "ce807905",
   "metadata": {},
   "outputs": [],
   "source": [
    "# setting some CONSTANTs\n",
    "plt.style.use(['science'])\n",
    "plt.rcParams.update({\n",
    "    \"text.usetex\": False,\n",
    "    \"font.family\": \"serif\",   # specify font family here\n",
    "    \"font.serif\": [\"Palatino\"],  # specify font here\n",
    "    \"font.size\":12})"
   ]
  },
  {
   "cell_type": "markdown",
   "id": "ed965d62",
   "metadata": {},
   "source": [
    "# Exploratory Text Pre-processing"
   ]
  },
  {
   "cell_type": "code",
   "execution_count": 3,
   "id": "49d41d19",
   "metadata": {},
   "outputs": [],
   "source": [
    "CATEGORY = \"Grocery_and_Gourmet_Food\""
   ]
  },
  {
   "cell_type": "code",
   "execution_count": 4,
   "id": "7a32f62f",
   "metadata": {},
   "outputs": [
    {
     "data": {
      "text/html": [
       "<div>\n",
       "<style scoped>\n",
       "    .dataframe tbody tr th:only-of-type {\n",
       "        vertical-align: middle;\n",
       "    }\n",
       "\n",
       "    .dataframe tbody tr th {\n",
       "        vertical-align: top;\n",
       "    }\n",
       "\n",
       "    .dataframe thead th {\n",
       "        text-align: right;\n",
       "    }\n",
       "</style>\n",
       "<table border=\"1\" class=\"dataframe\">\n",
       "  <thead>\n",
       "    <tr style=\"text-align: right;\">\n",
       "      <th></th>\n",
       "      <th>asin</th>\n",
       "      <th>title</th>\n",
       "      <th>categories</th>\n",
       "      <th>reviewerID</th>\n",
       "      <th>overall</th>\n",
       "      <th>reviewText</th>\n",
       "      <th>reviewTime</th>\n",
       "    </tr>\n",
       "  </thead>\n",
       "  <tbody>\n",
       "    <tr>\n",
       "      <th>0</th>\n",
       "      <td>9742356831</td>\n",
       "      <td>Mae Ploy Green Curry Paste, 14 oz</td>\n",
       "      <td>['Grocery &amp; Gourmet Food', 'Sauces, Gravies &amp; ...</td>\n",
       "      <td>A23RYWDS884TUL</td>\n",
       "      <td>5.0</td>\n",
       "      <td>This curry paste makes a delicious curry.  I j...</td>\n",
       "      <td>05 28, 2013</td>\n",
       "    </tr>\n",
       "    <tr>\n",
       "      <th>1</th>\n",
       "      <td>9742356831</td>\n",
       "      <td>Mae Ploy Green Curry Paste, 14 oz</td>\n",
       "      <td>['Grocery &amp; Gourmet Food', 'Sauces, Gravies &amp; ...</td>\n",
       "      <td>A945RBQWGZXCK</td>\n",
       "      <td>5.0</td>\n",
       "      <td>I've purchased different curries in the grocer...</td>\n",
       "      <td>09 17, 2012</td>\n",
       "    </tr>\n",
       "    <tr>\n",
       "      <th>2</th>\n",
       "      <td>9742356831</td>\n",
       "      <td>Mae Ploy Green Curry Paste, 14 oz</td>\n",
       "      <td>['Grocery &amp; Gourmet Food', 'Sauces, Gravies &amp; ...</td>\n",
       "      <td>A1TCSC0YWT82Q0</td>\n",
       "      <td>5.0</td>\n",
       "      <td>I love ethnic foods and to cook them. I recent...</td>\n",
       "      <td>08 3, 2013</td>\n",
       "    </tr>\n",
       "    <tr>\n",
       "      <th>3</th>\n",
       "      <td>9742356831</td>\n",
       "      <td>Mae Ploy Green Curry Paste, 14 oz</td>\n",
       "      <td>['Grocery &amp; Gourmet Food', 'Sauces, Gravies &amp; ...</td>\n",
       "      <td>A3AMNY44OP8AOU</td>\n",
       "      <td>4.0</td>\n",
       "      <td>I started a new diet restricting all added sug...</td>\n",
       "      <td>01 23, 2014</td>\n",
       "    </tr>\n",
       "    <tr>\n",
       "      <th>4</th>\n",
       "      <td>9742356831</td>\n",
       "      <td>Mae Ploy Green Curry Paste, 14 oz</td>\n",
       "      <td>['Grocery &amp; Gourmet Food', 'Sauces, Gravies &amp; ...</td>\n",
       "      <td>A3IB4CQ2QEJLJ8</td>\n",
       "      <td>5.0</td>\n",
       "      <td>So many flavors. I can't begin to tell you how...</td>\n",
       "      <td>04 27, 2014</td>\n",
       "    </tr>\n",
       "  </tbody>\n",
       "</table>\n",
       "</div>"
      ],
      "text/plain": [
       "         asin                              title  \\\n",
       "0  9742356831  Mae Ploy Green Curry Paste, 14 oz   \n",
       "1  9742356831  Mae Ploy Green Curry Paste, 14 oz   \n",
       "2  9742356831  Mae Ploy Green Curry Paste, 14 oz   \n",
       "3  9742356831  Mae Ploy Green Curry Paste, 14 oz   \n",
       "4  9742356831  Mae Ploy Green Curry Paste, 14 oz   \n",
       "\n",
       "                                          categories      reviewerID  overall  \\\n",
       "0  ['Grocery & Gourmet Food', 'Sauces, Gravies & ...  A23RYWDS884TUL      5.0   \n",
       "1  ['Grocery & Gourmet Food', 'Sauces, Gravies & ...   A945RBQWGZXCK      5.0   \n",
       "2  ['Grocery & Gourmet Food', 'Sauces, Gravies & ...  A1TCSC0YWT82Q0      5.0   \n",
       "3  ['Grocery & Gourmet Food', 'Sauces, Gravies & ...  A3AMNY44OP8AOU      4.0   \n",
       "4  ['Grocery & Gourmet Food', 'Sauces, Gravies & ...  A3IB4CQ2QEJLJ8      5.0   \n",
       "\n",
       "                                          reviewText   reviewTime  \n",
       "0  This curry paste makes a delicious curry.  I j...  05 28, 2013  \n",
       "1  I've purchased different curries in the grocer...  09 17, 2012  \n",
       "2  I love ethnic foods and to cook them. I recent...   08 3, 2013  \n",
       "3  I started a new diet restricting all added sug...  01 23, 2014  \n",
       "4  So many flavors. I can't begin to tell you how...  04 27, 2014  "
      ]
     },
     "execution_count": 4,
     "metadata": {},
     "output_type": "execute_result"
    }
   ],
   "source": [
    "# load dataset\n",
    "products = pd.read_csv(f\"data/interim/{CATEGORY}_merged.csv\")\n",
    "\n",
    "# check first 5 rows\n",
    "products.head()"
   ]
  },
  {
   "cell_type": "markdown",
   "id": "c173c084",
   "metadata": {},
   "source": [
    "## 1. Review Text Characteristics"
   ]
  },
  {
   "cell_type": "markdown",
   "id": "10cf2ac8",
   "metadata": {},
   "source": [
    "### What is the min/max and average review length?"
   ]
  },
  {
   "cell_type": "code",
   "execution_count": 5,
   "id": "5b35e8a7",
   "metadata": {},
   "outputs": [
    {
     "name": "stdout",
     "output_type": "stream",
     "text": [
      "Text statistics:\n",
      "\n",
      "Minimum `reviewText` length: 2 characters, 1 words.\n",
      "Maximum `reviewText` length: 18801 characters, 3368 words.\n",
      "Mean `reviewText` length: 502.79 characters, 91.84 words.\n",
      "Median `reviewText` length: 347.0 characters, 64.0 words.\n"
     ]
    }
   ],
   "source": [
    "text_statistics(products, 'reviewText')"
   ]
  },
  {
   "cell_type": "markdown",
   "id": "3a345c81",
   "metadata": {},
   "source": [
    "## 2. Text Pre-processing"
   ]
  },
  {
   "cell_type": "markdown",
   "id": "b5e85df6",
   "metadata": {},
   "source": [
    "### Expanding Contractions"
   ]
  },
  {
   "cell_type": "code",
   "execution_count": 6,
   "id": "c66be634",
   "metadata": {},
   "outputs": [],
   "source": [
    "products[\"processedReviewText\"] = products[\"reviewText\"].parallel_apply(lambda x: contractions.fix(x))"
   ]
  },
  {
   "cell_type": "code",
   "execution_count": 7,
   "id": "b9fd616c",
   "metadata": {},
   "outputs": [
    {
     "name": "stdout",
     "output_type": "stream",
     "text": [
      "Text statistics:\n",
      "\n",
      "Minimum `reviewText` length: 2 characters, 1 words.\n",
      "Maximum `reviewText` length: 18916 characters, 3459 words.\n",
      "Mean `reviewText` length: 505.10 characters, 93.45 words.\n",
      "Median `reviewText` length: 349.0 characters, 66.0 words.\n"
     ]
    }
   ],
   "source": [
    "# check statistics\n",
    "text_statistics(products, \"processedReviewText\")"
   ]
  },
  {
   "cell_type": "code",
   "execution_count": 8,
   "id": "8c117054",
   "metadata": {},
   "outputs": [
    {
     "name": "stdout",
     "output_type": "stream",
     "text": [
      "['I occasionally like to add a little flavor to my club soda or mineral water & this gives me a healthy choice. For me it is very sweet, because I really restrict my carb intake. It only takes a couple of drops in a 16 oz. bottle of water, to satisfy me.', \"I enjoy a variety of coffees, especially espresso made with Italian beans like Lavazza, and I find the flavor to this smooth and pleasant.  I see that a lot of people did not like the flavor to this and I wonder if it is because it does not have the regular kind of sweet Starbucks flavoring.  A lot of those drinks have a lot of sugar and flavorings in them.And I HAVE learned that apparently this has some sneaky sugar in it from reading Jenn's review.  that is really a shame.That is why this review is 4 stars instead of 5.  I do not look at that info carefully enough so I was lulled into complacency.  90 calories is like a free lunch.I have ALSO learned that apparently people got a much better deal on this than I EVER did.  I usually buy them on subscription for $11-12 for a twelve pack.  I have never gotten two cases for $12.  I guess I will have to watch much more carefully for a better price.\", 'This product tastes as good as any store bought sauce I have tried and I love the packaging! Try it!', 'Oh yes ! This is the best Chai tea blend I have found yet. It makes a great hot mug of tea. A little spicy but not too much. I add milk and sugar and I am good to go......yummy....', 'First off, I am no athlete. But when rushed for time, I like to grab a light, quick meal before I power walk (keeps me going). So I tried this shake, in the strawberry flavor.Taste wise, the flavor was okay. Yes, I tasted strawberry, but not a natural fruit taste (then again the can SAYS \"artificial flavor\"). Still, there was no \"yuck-factor\" at all.Second, the nutrient value listed was pretty high in all the stuff that is supposed to energize before or repair after a workout. (Such as 56g of carbs, 580mg of potassium, 20g of sodium.)Will those amounts of nutrients do the trick? you will have to wait for a review from a real athlete to know for sure!For me, the bottom line was: taste was okay, and I did not feel hungry or fatigued after my 2 mile walk. Could have been the power of suggestion, then again, it could have been the boost from this shake.Worth a try, I think, for any serious athlete.', 'This Kona blend coffee is delicious -- this is not a very dark roasted coffee and it is not bitter; it is very mellow and a great breakfast brew.', 'better for diabetics (or supposed to be) than regular cane or beet sugar......and it takes less to get the desired result of sweetness.I ordered this for my mother, who likes it because it mixes easily and is NOT artificial', 'I was never a big fan of fruit Newton cookies, so I was a bit wary of these. I do, however, love cranberry citrus sweets, so I gave Newtons Fruit Thins a chance. they are, as the name suggests, thin cookies with a nice bit of crunch to them, but they are not hard at all. They have a hint of sweetness without being too sweet, and the citrus gives them a nice bit of tartness. The dried cranberries add a good, chewy texture to the crispy cookie. These are great to keep on hand when you want something a little bit sweet, but not overpoweringly so. Yum!', 'My  husband is diabetic and I use this to make his drinks and he does not seem to complain like with other sugar alternatives.', 'This product might have a funny name but it is great;it has pure ingredients and can be eaten when you get a snack attack; it is low in calories and healthier for you.  Love this product and recommend it to everyone young or old.', 'I really like these apple clusters.  They are just dried apples with some cinnamon (both tastes I enjoy).  They are very crunchy and I like the texture.  Plus, they are filling, so while I like them, I can eat them in moderation, which makes them a healthy snack.', 'This review is from: Barilla Whole Grain Thin Spaghetti Pasta, 13.25 Ounce Boxes (Pack of 4) (Grocery)Customer review from the Amazon Vine Program (what is this?)I was surprised at the goodness of this whole grain spaghetti. Spaghetti is one of the pastas that has been more resistant against going whole grain. I found that with sufficient olive oil in the mix, this product is excellent.', 'The powder milk does not have the wonky taste that the regular Meyenberg milk has. The powder tastes super cheesy but that can taste good to some, like me. When mixed with water however, it has a slightly cheesy but pleasant taste, and it has a creamy mouthfeel. This would go great with ice cream recipes if you are sensitive to cow milk.This also tastes great without water. The powder melts in my mouth be creamy spoonfuls. I do not buy this product as much as its cholesterol may be oxidized, but once I have my hands on it, it is very hard not to resist eating it by spoonfuls or mixing it with milkshakes.', 'This does not smell chemically at all.  The ones in the super markets always smell like toe jam to me.  have not used them in years!  I have some sensitivity to some onions and this one does not make me gag at all.  Just a little goes a long way.  Nice supplement for hamburger helpers and pre-packaged things that are light on taste.', 'I would call these &#34;snack&#34; bars more than anything else.They do have 6 grams of protien which is not bad, but it is not enough to make it any sort of protein bar either.  And although they are gluten free, they still have a good 10 grams of net carbs (19 g carbs - 9 g of fiber) so they are not for atkins or keto dieters either.  (And yes, I know they are from the South Beach Diet, but my point stands...)However, they TASTE GREAT!  Nice and sweet and chocolately with a satisfying chewiness that does not hurt your jaw (seriously, some bars are as hard to eat as taffy). They are not at all hard to eat and do not have any unpleasant tastes or aftertastes like many protein bars do or like things high in fiber can.The chocolate raspberry is great too...both flavors come through.  Mostly chocolate with sort of a jammy flavor you can taste mixed in.Not sticky, though I would caution they will melt if left in a car or a pocket.On the whole, the remind me a lot of Dark Chocolate Raspberry Zone Perfect Bars (which I love)....just softer/less crisp and a bit smaller (but lower calorie).As a candy bar substitute or a mid-day snack, I would definitely endorse them based on taste and calorie count with a nice bit of fiber.', 'First off, I love the pyramid versus the regular tea bag.  I do not know why it works better, but it does.  The leaves stay put so there is nothing floating around in the tea and the flavor is fantastic.  Now as for this particular flavor, Blackberry Vanilla, it is amazing.  I can taste the blackberry and hibiscus flowers far more than the vanilla, but since I love blackberries and the other flavorings (blueberries and raspberries among others), it is perfect for me.  I did not even have to add any sort of sweetener.  An added bonus:  the smell is heavenly.', 'This is some great tasting coffee, to bad it cost so much. I will one day get another bag but for now my wallet is tight due to our glorious leader and his bad great ideas.', 'I have been eating Frosted Flakes for as long as I can remember. One of those simple treats that never gets old. Although, as age has not stood still for me, I tend to mix this with a more age-appropriate cereal such as bran flakes. A good-sized touch of Tony the Tiger makes the good-for-you cereal much easier to deal with.The box is huge, but inside there are two sealed bags of a more normal size that will fit in the cabinet. Very fresh, and if you catch it on a price dip, it is better priced than the warehouse clubs.Love those flakes!', 'I actually ordered this not seeing that it was green tea. Mango/peach/pineapple sounded good....but I do not like green tea except when it is totally by itself because it can tend to dominate the taste. That is what the problem was for me, but it is my fault. If you do not mind the taste of green tea with other flavors then I am sure it will be ok for you, but it is not very sweet unless you add sweetener, which I wanted to avoid doing personally but I ended up adding stevia to be able to bear to drink it.', 'As others have noted, there is BPA in this can. What they have done is to write \"BPA FREE CAN\" in relatively large lettering (that they emblazon with black and gold) on the side of the packaging - the side that you will see when they are stacked on a shelf in a shop. They also state in tiny lettering (hidden away at the bottom of the underside of the packaging, below the address - somewhere you would never normally bother reading) that this does not include the lid.This is utterly cynical and misleading and I will not be purchasing any of their products any more.', 'This olive oil was top notch.  I only use it in special recipes and love its pretty green color and silky texture.  I would buy again.', 'By itself the flavor is too strong and overwhelming after a few bites. I used as an additive with other stuff mixed in for my pasta. The buttermilk cream base lends itself very good as an additive.', 'My husband has celiac disease and this is a product that he can use.  Pancakes are the best and he enjoys them very much,', \"we have used Hershey's Chocolate Syrup for year for making Chocolate Milk and as an Ice Cream Topping.  It was always good but since we are a dark chocolate kind of family, when we saw that it was offered in Special Dark Chocolate we gave it a try.  Amazing!  This is all we use now.If you like Hershey's Chocolate Syrup and like Dark Chocolate then I think you will definitely want to give this a try.  Even if you are new to this type of thing, I think you will find yourself a new treat.  I highly recommend trying it.\", 'The Biryani one of this line is a little more involved than the Butter Chicken or Lamb Curry but it is still very good.  Recipe calls for lemon curd which can be hard to find, but there is some on Amazon.  The paste has a nice flavor and makes a good meal with some basmati rice.']\n"
     ]
    }
   ],
   "source": [
    "print([i for i in products.sample(25)[\"processedReviewText\"].values.tolist()])"
   ]
  },
  {
   "cell_type": "markdown",
   "id": "4fe6924e",
   "metadata": {},
   "source": [
    "### Removing Special Characters"
   ]
  },
  {
   "cell_type": "code",
   "execution_count": 9,
   "id": "ce07b913",
   "metadata": {},
   "outputs": [],
   "source": [
    "products[\"processedReviewText\"] = products[\"processedReviewText\"].parallel_apply(lambda x: \" \".join(str(x).splitlines()))\n",
    "products[\"processedReviewText\"] = products[\"processedReviewText\"].parallel_apply(lambda x: re.sub(r\"[^a-zA-Z]+\", ' ', x.lower()))"
   ]
  },
  {
   "cell_type": "code",
   "execution_count": 10,
   "id": "29f5790b",
   "metadata": {},
   "outputs": [
    {
     "name": "stdout",
     "output_type": "stream",
     "text": [
      "Text statistics:\n",
      "\n",
      "Minimum `reviewText` length: 2 characters, 1 words.\n",
      "Maximum `reviewText` length: 17928 characters, 3399 words.\n",
      "Mean `reviewText` length: 487.98 characters, 94.21 words.\n",
      "Median `reviewText` length: 338.0 characters, 66.0 words.\n"
     ]
    }
   ],
   "source": [
    "# check statistics\n",
    "text_statistics(products, \"processedReviewText\")"
   ]
  },
  {
   "cell_type": "code",
   "execution_count": 11,
   "id": "f1460af5",
   "metadata": {},
   "outputs": [
    {
     "name": "stdout",
     "output_type": "stream",
     "text": [
      "['i collect teas i have soooo many my favorite though is stinky tea or earl grey this cardamom pu erh tea is just like a mild earl grey if you like eg you will enjoy this tea very much if you do not you probably will not like this it is very strong at first sniff but after you brew it it becomes a relatively mild gentle tea i enjoyed it five stars ', 'a w e s o m e and guiltless to boot i am ordering more this season ', 'do not under estimate the appeal of salt and cayenne red pepper for many soup lovers and reviewers that includes me i certainly like this soup but i am under no illusions it is far from healthy and it only has two flavors candidly this is nothing more than a watery noodle soup with lots of red pepper and a tremendous amount of salt if you add an egg it can taste even better chop up some scallion and it further improves there is nothing terribly impressive about this soup yet as i said i like it this dry soup mix consists of a large packet of noodles essentially tasteless yet ladened with calories of saturated fats and two much smaller packets one of these small packets contains less than a tablespoon of chopped dried vegetables and the other is a spice packet consisting largely of salt msg and red cayenne pepper add some water and you have cups of soup impressions beyond the watery base there are no thickeners my first impression was that of salt followed after a few more spoonfuls of the emerging heat of cayenne pepper as is typical with cayenne pepper the heat builds up on the palate over time some might call this soup medium hot but for many i would imagine they would call it very hot however it easy to adjust the heat level just add less of the salt spice packet but the only real tastes here are those of salt and cayenne pepper the noodles are essentially tasteless and the vegetable packet is so small that it can add nothing more than visual appeal however i will say it again do not under estimate the appeal of salt and cayenne pepper this soup can be greatly improved by cracking an egg into the mix and stirring it in during the last minute of boiling the egg not only adds a much needed third taste but also thickens the soup considerably i was quite surprised how much an egg improved this soup make no mistake adding an egg really changes the character of the soup at the i paid with shipping for a case of this soup was a good value i would give this soup or stars with an egg but i am a bit biased toward anything hot maybe stars with an egg is most appropriate and or stars is more accurate for this soup without an egg health watch one packet of this soup provides almost of an individual s daily allowance of salt that is a stunning amount of salt plus this soup has of the daily allowance of saturated fats thanks to the palm oil used to fry the noodles with almost calories you will be adding a few inches to your waist line if you eat it regularly it is shame the company choose palm oil to fry its noodles in presumably to save a few cents and added so much salt it makes this soup needlessly unhealthy it is in fact a poster child for all that is wrong with processed foods i have to add the ingredient list is truly frightening with a long list of chemicals far more than is typical even in processed foods this is probably not a soup anyone should serve more than once a month view this soup as equivalent to a bag of potato chips no more or less healthy of course adding an egg to the mix just makes this soup less healthy another heads up some of the reviews on amazon strike me as a bit suspect there are a number of star reviews generated by one time only amazon reviewers once these reviewers have promoted this company s product they never publish another review i have seen this same pattern time after time for all the other soups made by this particular company finally everyone should keep in mind how hard it is to believe that any dried soup with a tiny flavor packet could ever rate or stars among people that have a serious love of soup consider too the simple fact that very few of the soup s ingredients are even readily identifiable as a food my thanks to the previous reviewers who suggested adding an egg it made a world of differencethis same soup is sold in case lots of packages packages or packages all of which are listed separately on amazon the prices differ on a package by package basis too generally the pack which ships for free is the better value ', 'these nuts make for a great snack throughout the day only problem is that you easily run out of them when your whole family is snacking along with you tasty and a good price for the amount you get ', 'i have always been a fan of the original chips ahoy cookies and since i love chocolate i had to try these unfortunately i did not care for them that much the overall flavor is very chocolatey however that is the best thing i can say about them there is so little fudge in the center of the cookie you barely can see it let alone taste it since they are called megafudge i expect a lot more fudgey filling the chips are quite small and do not add much to the cookie my biggest complaint is that they are too soft many very many of the cookies in my package were partially or completely broken and crumbly because they are that soft the cookies are also on the small side yet they are calories for only two if they were bigger did not crumble so much and had a lot more fudge inside i would have enjoyed these much more but as they are i will not get them again ', 'i was so glad to find this rice vinegar on amazon i love this on any vegetable whether it is fresh or steamed i will be reordering this on a regular basis ', 'i have been a long time fan of frosted mini wheats and have tried all of the newer flavors that have recently added to their lineup strawberry mixed fruit etc so i was very excited to try this one when it came out and it did not disappoint at first i was a little skeptical about it being the littler size as i thought it was going to get soggy quickly in milk but i ended up eating it so fast because it tasted so good i did not even notice the cinnamon roll flavor is fantastic now to overpowering and not too little that you can barely taste it like with some other cereals this is a win for me will definitely be buying this one again and again ', 'these pork rinds fry in their own fat rather than having to be deep fried which is a lifesaver if you like pork rinds i am not the biggest fan but sometimes i am kind of hungry and these pack way more protein than the average fatty snack the only problem is the type of fat it is fried in melted pig fat from the skin itself not particularly healthy but it is much healthier than the mexican bagged varieties since we do not have a microwave oh my god how do we get by without one we toast them in a toaster oven on a baking tray for about minutes at f f they come out great if you lean closer to minutes you get a crunchy porky tasting snack while if you go past you will get the typically super puffed pork rind you would expect from cardenas i cannot comment on how well they crisp in the microwave but i expect it should yield the same results ', 'i ordered this item in order to get the supposed substantial savings as this item was a special offer the box arrived and after opening it was as though there had been a powdered chocolate explosion inside the shipping box it was all over the place none of the actual drink mix boxes were opened nor did they appear to be damaged upon first inspectionupon further inspection i found that in several of the boxes included in the shipment that the individual packages of beverage mix had non sealed sides on the product envelopes inside the sealed boxes apparently during shipping these envelopes leaked out most of the chocolate drink powder which then leaked out of the boxes perhaps this is why they were on sale as a special had to throw of the boxes away no savings on this order and apparently no compensation for that either per amazon rules very disappointed am contacting the swiss miss people accordingly ', 'we will we are always ordering this as we just a lot of it it is perfect with chocolate hazelnut tea', 'i received this at no cost in exchange for writing a review i love green tea and drink it every day with my lunch much better and healthier than any diet drinks this product is excellent contrary to a negative review complaining about its color and freshness the package i received contained nice green matcha that was delicious green tea is an acquired taste and is not for everyone initially i thought the current price of was exorbitant i was wrong i based that initial opinion on the fact that i can buy kirkland signature ito en matcha blend green tea japanese green tea leaves tea bags at my local costco for however after i wrote that in my initial review the seller contacted me and correctly pointed out that the costco product is not organic and also that i was getting tea bags rather than matcha if you use the costco product you know that the amount of matcha accompanying each tea bag is negligible anything organic always carries a more expensive price tag other sellers on the internet of organic matcha green tea powder that i saw charge at least as much and often more sometimes double than this seller so this product is reasonably priced for what you get i found that only a small amount was necessary to give me the same potency that i was getting from the costco tea bags so i can probably get at least cups from this bag i am still experimenting how much to use so that number may be higher bottom line if you are willing to pay more money for organic green tea powder this product is a good buy ', 'great gift for any coffee drinker very nice assortment one pack per pot impressive boxing wide variety of flavors highly recommend', 'the german chocolate cake cups is to me a light taste in which i like a stronger flavor very easy to order ad fast delivery the price is great too', 'since buying this raw honey online it has been the best would never even think about going back to anything but raw honey ', 'i usually buy these at my local whole foods but since i was ordering more stuff anyway i added these to the order am sure they will taste as good as expected if you have not had kale chips before you really should try but i ended up with a package consisting more of kale chip powder and not so many decent sized chips will stick to buying these at the store in future ', 'this syrup is so fantastic this makes every drink so yummy be careful this is kind of addictive you will use this syrup every thing you drink also the price is so good at my walmart local shop the half sized bottle was about what a good deal this is the best thing i bought from amazon ', 'i use this brand for smoothies cooking baking and for many things it has great flavor aand it sells at amazon for a great price ', 'caza trail has a wonderfully flavorful english breakfast tea it is not too weak or strong using a standard sized coffee cup and you can just add a bit or no sugar for your taste it is very good unsweetened as well i love that this is a quick and easy way to make a perfect cup of smooth and delicious breakfast tea ', 'these are perfect for one bowl of cereal no more having milk go bad just refridgerate it the night before as they are kept in the cabinets also good for single servings made of mashed potatoes or to use in batter mixes no more waste economical indeed', 'we got these to give as small christmas gifts topeople who touch out lives then we got hooked on eating them they arefresh tasty and feel decadent when we eat them thankfully our next shipment will not come for another month gives us time to work off the weight ', 'i had been taking papaya enzyme after meals and it helped but the brand i liked had some questionable ingredients and the brand that was more natural tasted awful when i found chimes i was so relieved that they helped my stomach and digestion husband finds them to be spicy i think they are mild as far as ginger goes fantastic price and quick shipping ', 'opened the shipping box right away noticed it was slightly crushed on the top no packing to protect the box of crackers about were crushed sad about that love the flavor though they taste a little different than the white cheddar which i also love great mild and creamy taste i noticed one of the other reviewers suggested to put them in salads and soups will save the broken ones for that nice idea thanks for another great product will buy them and also try some of the other new flavors ', 'golean crunch appeals to both my tastebuds and to my diet i did however find the honey almond flax variety a bit too sweet for my taste this version was also not as crunchy as the original golean crunch and i do like that crunch i can see this as an excellent substitute for parents who want their children to eat a healthier cereal but are having trouble weaning them from the wide range of sugared cereals ', 'these nong shim bowl noodle hot and spicy bowls are very good tasting and a little over the medium range of the spicy hot range the spiciness is about right right for me but no one else in my house can handle these while they can not be directly microwaved these are easy enough to prepare by following the directions all you have to do is pull the cover halfway up open and add the contents of the flavor packet add hot water and let it sit for three minutes my only concern about these is that the nutritional information lists the serving size is listed as the bowl did not notice that before we ordered them which means you have to double the values if you eat the whole thing a whole bowl then contains calories carbs too much for me and of your total daily recommended sodium i get around this by braking and removing half of the dry noodle bunch before adding the hot water recommended cfh', 'high fructose corn syrup sugar apple powder sorbitol dextrose glycerin then strawberry and a paragraph of other hard to pronounce stuff naturally and artificially flavored i expected more from the quaker name it is cal but each bar is only oz i will stick with tjs friut bars as far as the taste they are ok not the best or worst i have had the only really positive thing i can say is g trans fat ']\n"
     ]
    }
   ],
   "source": [
    "print([i for i in products.sample(25)[\"processedReviewText\"].values.tolist()])"
   ]
  },
  {
   "cell_type": "markdown",
   "id": "1fa32b99",
   "metadata": {},
   "source": [
    "### Lower Case"
   ]
  },
  {
   "cell_type": "code",
   "execution_count": 12,
   "id": "5b084cde",
   "metadata": {},
   "outputs": [],
   "source": [
    "products[\"processedReviewText\"] = products[\"processedReviewText\"].parallel_apply(lambda x: x.lower())"
   ]
  },
  {
   "cell_type": "code",
   "execution_count": 13,
   "id": "886070de",
   "metadata": {},
   "outputs": [
    {
     "name": "stdout",
     "output_type": "stream",
     "text": [
      "Text statistics:\n",
      "\n",
      "Minimum `reviewText` length: 2 characters, 1 words.\n",
      "Maximum `reviewText` length: 17928 characters, 3399 words.\n",
      "Mean `reviewText` length: 487.98 characters, 94.21 words.\n",
      "Median `reviewText` length: 338.0 characters, 66.0 words.\n"
     ]
    }
   ],
   "source": [
    "# check statistics\n",
    "text_statistics(products, \"processedReviewText\")"
   ]
  },
  {
   "cell_type": "code",
   "execution_count": 14,
   "id": "308bc854",
   "metadata": {},
   "outputs": [
    {
     "name": "stdout",
     "output_type": "stream",
     "text": [
      "['i made these yesterday for me and my husband i am so glad i found these i added a really good vanilla to the mix then i added chopped pecans and a small amount of mini semi sweet chocolate chips enjoy life non dairy non nuts non soy as i am not big on chocolate i love the fact that this mix includes brown sugar which is in keeping with the recipe i used prior to going gluten free i think i have lost all self control with these i made these last night and there are very few remaining it is probably because i have found something regular i can eat without fear of repercussions would make this for a mixed audience gluten free non gf the only con about this mix is that it is a bit salty ', 'this is a good tasting tea but needs to be steeped for awhile or it is a bit weak i think the perfect energy is a bit of a stretch since there are so many variables to whether or not this will help your energy level it does have caffiene so if caffiene does anything for you it might boost your energy i rarely ever have caffiene so for me it did give me an energy boost but also insominia so it was not a good trade off overall i liked the flavor and if i was going to stay up late or needed an extra burst for a specific reason i would have a cup however it is not something i would incorporate into my routine because of the caffiene and my low tolerance for it ', 'otherwise known as prunes dried plums are one of the very best foods there are for anti oxidant value these are very tasty and you do not have to worry about any undesirable or even unintentioned bad things being in there even my wife who is a junk food junkie if there ever was one likes them having oz re sealable bags mean they stay fresh vs using oz box there is no down side here even as a very severe diabetic i have no problem with them ', 'very happy to find this product excellent tasting you would never know it is gluten free i am so happy now i can order chinese chicken fried rice i tell them in advance must be gluten free no soy sauce after years i can now enjoy chicken fried rice again caution this so far has worked for me telling my local chinese restaurant must be gluten free no soy sauce this technique may not work for some celiacs i only eat chinese once a month or less i do this as a treat these little packets are convenient and easy to carry amazon has a wonderful price on them these will last me for a long time ', 'after researching this coffee i decided to give it a try so happy that i did it is just the perfect blend of coffee the flavor is awesome the packaging is fantastic now that this one was so well received by me and my husband i will be trying the different blends next i will keep you posted i love coffee if you have ever tried raven s brew this one meets and exceeds it never thought that i would say that the only reason i deviated was the deadmans reach had a to week deivery time happy happy happy ', 'unlike many other healthy pastas whole grain whole wheat etc barilla s plus actually tastes good when cooked personally i cannot tell much of a difference between this and regular pasta ', 'love this product it tastes better than other baking sodas and still can be used for tasks other baking sodas can be used for i do use the less expensive kind for cleaning but for an antacid this is best use from to tsp in to oz water and as an addition to my tooth brushing i add it to my wet electric toothbrush before adding a bit of toothpaste once or twice a week i use it for baking too of course i will definitely order more when i get close to depleting my supply ', 'bland salad bland flavors and for a convenience product this requires more effort than it is worth the sad thing is in the same amount of time you could easily whip up a salad like this from scratch and have it taste much better without the maltodextrin modified corn starch guar gum spices and the ubiquitous and mysterious natural flavor ', 'i did not realize until i got this that it is not recommended for pregnant women which i am so i had my husband try this out and give his opinion the first thing i noticed was that it came in a nice aluminum can so it stayed cold rather than a cardboard carton or plastic bottle like other energy drinks it is also from jamba juice so i figured it would be high quality i did smell it and it smelled delicious my husband drank it this afternoon and did not get into his normal afternoon slump he did not feel totally energized but definitely felt good and kept going it was only his first jamba juice energy drink and feels like if he drank them more often he would feel more each time he did love the flavor of strawberry banana rather than the typical mixed berry or chocolate flavors he also said there was no bad aftertaste which he has also experienced from other energy drinks overall my husband said he would like to continue drinking the jamba juice drinks so i guess that is a good sign ', 'fantastic for camping at breakfast half rehydrate and pick at all day on the trail also throw a handful in soups stews reyhydrate as a side dish rehydrate and dress with some olive oil and some sliced almonds really lightweight and super great for snacking and picking also try frying them in a little coconut oil as they are they crisp up nicely and make a great paleo snack ', 'i really like this granulated garlic it is not as fine as a powder and has a great aroma and adds a good flavor to foods this is a pretty large container but now i do not have to skimp just to not run out quickly i am glad i gave it a try ', 'this was a lighting deal and all that was left was the chocolate mint it taste like drinking an andes mint i probably would not have gotten this one if there were other choice but it was really good it has made me consider other flavors for sure ', 'yes most of the cans arrive dented so if you are fearful of that do not get it but pumpkin is hard to find in the stores other than in fall so if you like to extend your pumpkin usage to other seasons this is a good buy definitely good quality for feeding dogs or making bread or pumpkin fudge yum ', 'this yellow curry paste is fabulous vegetarian and wonderful i made a simple chicken curry all i did was cut up a large onion a large yam a tablespoon of the yellow curry and add a can of coconut milk and half a cup of water and put it on high heat and it was ready in minutes wow ', 'very good tasty aromatic when popping and it is not a gmo product we need good home grown healthy food not gmo garbage ', 'it is the best snack to comfort your hunger during boring class time recommend for candy lovers who prefers chewy texture ', 'this coffee is very tasty if you like flavored coffees but i must say that the hazelnut is still my all time favorite and i will probably go back to it next order ', 'i got one package of peacock brown rice vermicelli free from the amazon vine program in exchange for writing a review of the product i thought this product would be a healthy way to eat pasta and it reminded me of asian rice noodles when i removed it from the packet we like brown rice and try to eat whole grain pasta to add complex carbohydrates to our diets i soaked it for a minute as directed then added it to a hot wok along with sesame oil shrimp chopped green onion precooked chopped bok choy a little soy sauce and ginger i tossed it gently for a minute and thought perhaps it would soften up a bit with the oil and heat but all it did was turn into a clumpy glob we did manage to eat some of it and pick out the shrimp and vegetables but none of my family liked this product at all it was basically tasteless in addition to being gummy i have never seen any type of noodle go from crunchy and breaking into pieces to a gummy wad of glue so fast i will not be buying this product in the future ', 'an interesting but perhaps not so time saving idea cook your pasta sauce right in the microwave how hard is it to take your pasta sauce out of a jar and put it in a microwave safe container answer simple but if you are on a busy schedule and do not want to bother dirtying another dish this might be the product for you it does cook and make popping noises that the instructions so nicely point out in about seconds in the microwave as directed the pasta sauce is only so so as the sauce is quite thin when it comes out of the microwave there are no artificial ingredients inside it is not a bad pasta sauce but definitely not worth the price the price premium on this not so special sauce in this case i do not believe justifies the convenience ', 'i love these little berries they are tart with hints of sweet i put them in cereals oatmeal trail mix and smoothies i eat them alone sometimes too as a snack i shared some with my yr old grandson and he likes them now too ', 'well in spite of its being not overhead hard or dry this is a fiercely crunchy snack very noisy not recommended for quiet movie theatres these are little balls about the size of nickle and quite crunchy not recommended for toddlers now on to the important part pretty good i would give taste about stars the outer crunchy part does not have a lot of tastes but you immediately get into the apple taste when you bite its the true taste of real apples somewhere between the quality of softbaked apples and dried apple rings yummy stuff you actually taste the spice as aftertaste where its a bit strong they taste nice but i am not sure if i would buy again simply because i was very offput by the embarrassing level of noise with each bite the crunchy layer was not my favorite part anyway i would however definitely try products from this company as i was happy with the quality and taste ', 'my first experience with this cereal was with a case of it from amazon so thank goodness it was good you would think it be hard to mess up gluten free rice cereal but believe me there are some awful ones out there this with the welcome addition of fruit is wonderful i have never had freeze dried berries before either and they were tasty please make one with more blueberries i also bought the erewhon brown rice cream if you are missing oatmeal for breakfast because you are sensitive to gluten try the brown rice cream with brown sugar and raisins it is actually pretty good i highly recommend this cereal ', 'i sent this to my son with some other prefab meals he is picky beyond words and broke but that never bothered his taste buds i took a chance on this despite it being a smaller portion because many people like healthy choice meals this just got an it is edible rating from him so it might make it to someone elses i liked it since i was exchanging portion size for what i hoped would be a flavorable treat it did not live up to my hopes ', 'this has a really nice garlic flavor we were buying it at our local shop in town for a much higher price but we use so much of it we do a lot of stir fry veggies and it is not cheap in town i figured we should try amazon for an alternative and i would definitely buy this over and over again our next quest is a good sesame oil ', 'i have purchased several dates from different companies on amazon and i must say that these are by far the best dates amazon has to offer they are a bit pricey but well worth it i only wish the bag was larger stars all the way ']\n"
     ]
    }
   ],
   "source": [
    "print([i for i in products.sample(25)[\"processedReviewText\"].values.tolist()])"
   ]
  },
  {
   "cell_type": "markdown",
   "id": "e6dc7093",
   "metadata": {},
   "source": [
    "### Lemmatization"
   ]
  },
  {
   "cell_type": "code",
   "execution_count": 15,
   "id": "3443276d",
   "metadata": {},
   "outputs": [],
   "source": [
    "def lemmatize_with_postags(sentence):\n",
    "    \"\"\"Lemmatize a given sentence based on given POS tags.\n",
    "        Ref: https://www.machinelearningplus.com/nlp/lemmatization-examples-python/#comparingnltktextblobspacypatternandstanfordcorenlp\n",
    "\n",
    "    Args:\n",
    "        sentence ([type]): [description]\n",
    "\n",
    "    Returns:\n",
    "        [type]: [description]\n",
    "    \"\"\"\n",
    "    sent = TextBlob(sentence)\n",
    "    tag_dict = {\"J\": \"a\", \"N\": \"n\", \"V\": \"v\", \"R\": \"r\"}\n",
    "    words_and_tags = [(w, tag_dict.get(pos[0], \"n\")) for w, pos in sent.tags]\n",
    "    lemmatized_list = [wd.lemmatize(tag) for wd, tag in words_and_tags]\n",
    "\n",
    "    return \" \".join(lemmatized_list)"
   ]
  },
  {
   "cell_type": "code",
   "execution_count": 16,
   "id": "4e6ccb95",
   "metadata": {},
   "outputs": [
    {
     "name": "stdout",
     "output_type": "stream",
     "text": [
      "CPU times: user 170 ms, sys: 222 ms, total: 392 ms\n",
      "Wall time: 1min 51s\n"
     ]
    }
   ],
   "source": [
    "%%time\n",
    "products[\"processedReviewText\"] = products[\"processedReviewText\"].parallel_apply(lambda x: lemmatize_with_postags(x))"
   ]
  },
  {
   "cell_type": "code",
   "execution_count": 17,
   "id": "7c9f696a",
   "metadata": {},
   "outputs": [
    {
     "name": "stdout",
     "output_type": "stream",
     "text": [
      "Text statistics:\n",
      "\n",
      "Minimum `reviewText` length: 2 characters, 1 words.\n",
      "Maximum `reviewText` length: 17273 characters, 3400 words.\n",
      "Mean `reviewText` length: 470.50 characters, 94.29 words.\n",
      "Median `reviewText` length: 325.0 characters, 66.0 words.\n"
     ]
    }
   ],
   "source": [
    "# check statistics\n",
    "text_statistics(products, \"processedReviewText\")"
   ]
  },
  {
   "cell_type": "code",
   "execution_count": 18,
   "id": "e6411698",
   "metadata": {},
   "outputs": [
    {
     "name": "stdout",
     "output_type": "stream",
     "text": [
      "['i like seaweed soup and just love the same product from san j also available from amazon get it it be star this miso cup brand be terrible i can not tell you more than this be just yicky wish there be a zero star rating i do not finish the first cup even but do give it a second try the next day with same result therefore i only use one serve envelope before give away the rest oh why do i stray from san j actually i think it might be worth try miso cup s different flavor to add variety to my afternoon broth experience but all the miso cup be equally dreadful i give these and the other miso cup box to a food pantry but i tell them first why to warn others it might not suit them get the san j brand', 'this tea burst with fruity flavor in your mouth with each swallow while it be not my favorite for wake up in the morning or calm down before bed at night it be a great mid day tea to put a little pep in the day', 'this magnolia puerh and green tea blend be surprisingly smooth and easy to brew i have brew it a a green tea and a a black and it be delicious both way brew it a a black tea bring out deep and rich yet still smooth tone brew it a a green highlight the florals i appreciate that the flavor oil magnolia be not too strong a other flavor tea i have try no strange oil slick at the top of your cup and not oily residue in the teapot the floral be there but it do not overpower this be a well make tea i use a zarafina machine to brew all my tea and have find that one magnolia puerh tea bag be good for cup of tea this be a delightful tea blend and i will buy again be this review helpful please let me know vote', 'just the right size for a snack any time the lid be easy to remove and the bowl fit the hand but you can not open it without the juice spill out', 'not much flavor to the cooky sticlky texture i would prefer either crisper cookie or a soft cooky would not buy them again', 'i get into a weird dolma craze and buy several different variety i kind of make these my go to dolma due to the size of the can and similar quality to divina though perhaps distinctly different the leaf might occasionally seam a little bit tougher though i have see a very consistent quality that be sometimes a more palatable and standard expectancy for traditional dolmas', 'the lindt truffle be a big hit at our office and home the white in particular be a favorite of one person another friend love milk chocolate these have both together a she will of the light milk chocolate and a filling of vanilla scent white chocolate which be really not chocolate a it be a confection of sugar milk cocoa butter and vanilla but no cocoa so technically not chocolate but who care the combination be really good the trick of the lindt truffle be that the filling melt at a low temperature than the she will and the she will melt in your mouth a well but melt at a slightly high temperature this provide a sensual experience of the chocolate melt suddenly in your mouth and release all the flavor and fragrance so the problem be the same low melting temperature mean that ship them could lead to tragedy if they arrive at your store presumably in a temperature control shipping tractor trailer all be well but the trip from warehouse to you via mail or ups truck could be perilous after a cold winter it be almost degree here yesterday in april and presumably hotter inside a truck my advice find them locally i do not order perishable foodstuff from spring through fall a our temperature get rather high and these chocolate melt more quickly than others great idea however to combine the white and the milk chocolate i would hope they would make this combo available all year and part of the assortment bag we like to give a gift i might just have to put a few of these in the freezer if they be limited edition', 'nice earthy rustic flavor not subtle at all and very much like the tea i enjoy for year at street side kiosk and small shop while living in the orient no fancy hibiscus overtone or fancy flavoring this be the kind of tea the common man enjoy at meal', 'i be not a fan of decaf but sometimes i need the taste of coffee without the caffeine and this be good but you need to be a dark coffee drinker even in decaf you taste the coffee yum', 'although i love coffee i have never be a flavored coffee drinker i be however a chocolate fan and figure that the combination of the two flavor be worth check out a it happen this coffee arrive just in time to take to my mother in law s house where there be plenty of other coffee and chocolate lover around to help try it out my first reaction when open the bag be simply put to drool this be yummy smell stuff here but of course the proof be in the taste so use my mil s coffee maker an extremely slow drip thing that take around minute to make an cup pot i follow the package direction on measurement and wait it be not long before everyone in the family be gather around the coffee maker cup in hand this stuff smell that good before i get to the taste let me point out that this be an extremely finely ground coffee a a result the water go through it even more slowly than usual and almost overflow the filter keep that in mind if you be think about make a full pot with this stuff it be probably best to do a half pot at a time unless you be really fond of clean up coffee basket overflow that say once the coffee be ready it be well worth the wait my sister in law who like hers with cream and sugar say this taste almost like a coffee flavor candy bar personally i like my coffee black and yet i be really surprise at how smooth yet flavorful this coffee be it do not taste like a candy bar to me but it do have a nice note of chocolate with each swallow not overpower but if anything very complimentary to the depth of the coffee flavor we all agree it be a winner particularly those of u on a diet that be me who felt like they be actually get a treat with their morning coffee when in fact there be no diet busting involve good stuff', 'these be so tasty and just the right amount of cacao powder chocolate blend with goji chia sunflower seed etc i love the fact that it taste like a dessert than a health snack have all natural organic ingredient and that it good for you i recommend try this if you be look for healthy snack alternative', 'i have be enjoy reese s peanut butter cup for over year and they have finally outdo themselves dark chocolate be superb and possibly healthy bet you can not eat one', 'come in a nice little metal container with lid look and smell perfect for cook price be good for the item', 'community coffee dark roast be a disappointment flat and with very little flavor i be a big coffee drinker and usually enjoy a strong dark roast doctor with brown sugar and cream big rich flavor be what i be look for i be concern when i first open the bag and realize i could not smell it brew a cup anyway and it still do not have that rich coffee smell it do not taste bad and people who like a milder cup would probably enjoy it definitely not for you if you enjoy the darker roast', 'well i have get two year old and these bar claim to be kid friendly i like the nutritional info in term of have fiber and be low in sugar we try to not to get stuff with more than gram of sugar per serve they be very soft which be nice many granola bar be too hard for little one to eat the banana flavor in these be natural taste not fake or chemical but it have a weird taste like over cooked baked good or something i do not taste any chocolate at all in these now i give one to the less picky eater she say she like and gobble it up give one to the picky eater say she like it then half way through do not want to finish it on next offering neither girl want one and say they do not like them on next offering they both act like they be get some sort of special treat and the both gobble it down also of note both girl flick off the oat that be on the surface of the bar and do not like those so it be hard to say i guess i can simply say that these be just okay and that i would not buy them again i will stick with annie s chocolate chippers', 'i always have this tuna in my home and use it when i want some tuna with a kick this be perfect for those occasion safcol be one of the few brand that offer a flavored tuna that be different from most plus i trust the integrity of this company', 'this be a great alternative to buy candy for your kid a these be fruit i could eat a box of these in a day it be great that they give you three choice of these this be also a good substitute then these fruit roll up type product in the store where you peel the dried fruit off the plastic these be too hard for me to peel off and leave a lot of mess clif bar be a great company so i would guarantee these be the best quality', 'perfect size for snack perfect size for on the go and the perfect size that be portion control great price', 'every time i buy these they taste great possibly the best tasting decaf k cup available rich and aromatic i have also never have problem use these in the keurig but i do close the top with a bit of a slam', 'great product light and fluffy much more so then alkali process will definitely buy this again raw be way well then process', 'i be first give this treat on a trip through england when the b b owner offer me some for my breakfast she have a sly grin on her face and now i know she be expect me to react like most yank do but she and i be both surprise a tiny dab of this stuff on the corner of a piece of toast be sheer heaven to me i felt a sense of wellbeing spread from my mouth throughout my body i know that sound a bit extreme but that be really how it felt all my life i have crave savory flavor and have be draw to food such a red meat preferably scorch on the outside tomato mushroom and dark green vegetable i will take one saltine cracker over a handful of cooky any day of the week well come to find out marmite be high in the fifth flavor umami and that be what i be always try to find in my food it be that flavor i be look for distil down into a little brown jar mind you it be strong stuff a little dab will satisfy all your red meat craving though it contain not one spec of any animal product but more than a dab be really just way too strong even for a savory food lover like me spread it thin it be great spread nearly transparently over toast or cracker and a couple of drop will make any insipid can broth lot more hearty caution if you own a cat make sure to wash your hand after eat marmite apparently they go for it too and will try very enthusiastically to remove your finger and run away with them if any trace be remain on your hand', 'i soak almond blend in water then strain into almond milk and pulp which i use for make raw desert these taste great and be fresh i wish i could support local agriculture but here in california the law require pasteurization so stupid i can not soak soak pasteurized almond for long because they will start to rot i will continue to buy from terrasoul have have good experience with them so far', 'i try these after progresso stop make their little can of tuna in oil and i find them to be an adequate substitute the progresso tuna be in a small can with a ring pull top which i like but i be content to use a can opener for a product this good i be pray chicken of the sea keep this tuna in olive oil on the market and i be hop at some point to find it on my grocer s shelf i do think this brand use a good grade of olive oil too', 'this tea be very good it have a spicy sweet taste without any sugar i can not believe that it be available online at such a great price too', 'if you likekellogg s special k red berriesyou will probably like back to nature s summer berry blend cereal they be not however completely alike the flake be just a little bit thicker then national brand flake which help them stay crunchy longer in milk the flake also have a strong flavor then you normally expect from flake i expect that be thicker and make from high fiber grain there be a longer cooking time so they be more toasty tasting there be also strong but not unpleasantly so note of brown sugar or possibly molasses the flavor of the berry do not stand out as much in summer berry blend but the over all taste be good one cup of the cereal along with one cup of soy milk be enough of a breakfast to fill me up without weigh down my stomach like a rock it be very filling and after a while i start have cup or even cup serving instead i get my box a a free sample so at the time i write this there be no price list for the box pack amazon be plan to offer the box seem small when you hold it in your hand but the back of it state that there be one cup serving inside if you be like me and find it particularly fill you can make it last a little over a week so i will leave it to you to decide if it be a good value or not i personally prefer the light taste of the national brand if you want something with a more bold flavor to start your day this be definitely the breakfast cereal for you']\n"
     ]
    }
   ],
   "source": [
    "print([i for i in products.sample(25)[\"processedReviewText\"].values.tolist()])"
   ]
  },
  {
   "cell_type": "markdown",
   "id": "c3c02423",
   "metadata": {},
   "source": [
    "### Remove Stop Words"
   ]
  },
  {
   "cell_type": "code",
   "execution_count": 19,
   "id": "29f87a9b",
   "metadata": {},
   "outputs": [],
   "source": [
    "products[\"processedReviewText\"] = products[\"processedReviewText\"].parallel_apply(lambda x: remove_stopwords(x))"
   ]
  },
  {
   "cell_type": "code",
   "execution_count": 20,
   "id": "2f07f920",
   "metadata": {},
   "outputs": [
    {
     "name": "stdout",
     "output_type": "stream",
     "text": [
      "Text statistics:\n",
      "\n",
      "Minimum `reviewText` length: 2 characters, 1 words.\n",
      "Maximum `reviewText` length: 9424 characters, 1433 words.\n",
      "Mean `reviewText` length: 257.16 characters, 39.82 words.\n",
      "Median `reviewText` length: 173.0 characters, 27.0 words.\n"
     ]
    }
   ],
   "source": [
    "# check statistics\n",
    "text_statistics(products, \"processedReviewText\")"
   ]
  },
  {
   "cell_type": "code",
   "execution_count": 21,
   "id": "03ddb070",
   "metadata": {},
   "outputs": [
    {
     "name": "stdout",
     "output_type": "stream",
     "text": [
      "['company use cheap product chinathat poisen remember veggie booty recall year ago plus product healthy real', 'adamant lover coffeehouse peppermint mochas need cold want nice hot cup chocolate cool edge peppermint look package peppermint cocoa syrups adore york s peppermint patty expectation peppermint chocolate international coffee buy occasion added shot normal brew coffee home like add flavor spike plain brew bit energy like add shot espresso douse cup sugar cream like coffee smooth sweet normal use mind purchase item try stand test couple spoonful powder cup add brewed coffee heat milk pour powder use hot water cocoa sure use brew coffee mix nice strong sweet peppermint taste dark edge chocolate flavor know brewed coffee bring chocolate bit happy lose peppermint mix smell carry lot mint little disappointing hop scent taste experience peppermint mocha spike heated milk produce sweet cup lose coffee flavor honestly end taste like decent cup peppermint hot cocoa instead mocha start recommend powder hint coffee bit taste recommended powder create bodied drink coffee esque add brewed cup definitely honestly think best way use product powder mixed milk water gak probably skip little sweet cocoa consider alternative', 'downright bad ramen noodle bear packaging taste plastic wash direct wash bit direct matter unappetizing texture like clay play doh sauce come good aftertaste know flavor sauce noodle worth money plethora great ramens dead set avoid dried noodle recommend like nongshim shin noodle ramen office adores', 'like cocoa puff oat square shape course ingredient list suggest good nurition healthy dosage fiber year old like eat handful sit rest u use great substitude cereal', 'buy follow instruction try sort food banana hummus relish taste', 'order coffee bold flavor coffee good meal', 'bold flavor coffee roast little dark bitter favorite k cup coffee coffee work lot expensive regular k cup taste try recommend friends like actually buy certain try good coffee responsible company pay living wage worker produce coffee try green footprint process farm way way use material use nearly recyclable cup', 'fine tasting long lasting non drippy food variety size available organic want', 'sugar free pretty good far best try tried like regular mr butterworth sugar free think enjoy sugar free version fool kid comment syrup taste different', 'crisp chill refresh synthetic flavoring add sucrose zico packaged beverage yard men prefer smart paper carton packaging create bulk waste canned drink nature s engineering pack fruit punch electrolyte overtly critical potassium think like product buy manage time taste spring water herbal tea yoga regime suggest helpful wean alcohol conventional mystery soda pop', 'taste great recall far calorie original spam definitely buy soon price item', 'love mango orange delicious bitter artificial sugar flavor smell like syrup', 'gourmet good reliable fresh green tea important powdery bits stick tongue', 'grow asian family drink like aloe chia seed like new nice weird flavor drink mainstream aloe gloe like aloe drink right word aloe drink think refreshing best word chill taste room temperature aside drink aloe drink tend water like smoothie like slightly slimy problem fan texture drink bias chinese version slightly sappy texture sweeten cane sugar stevia include particularly fond stevia tell drink read label drink drink small dos probably bottle aloe gloe drink definitely try buy think okay pick drink buy', 'work great gluten free bake easily able convert normal recipe gf switch flour add', 'matter recipe tell believe substitute zero sugar result chemical taste mess end throw expensive sugar alternative trash nasty', 'sorry product bit flavor rancid bird squirrel like good afterall', 'iced coffee drink spring summer fall vanilla chocolate spot caramel real heavy cream great iced coffee drink pot regular coffee night b cool frige', 'try salad dressing mix olive oil different vinigars season use season dry rub meat poultry fish pasta stove large drawer seasoning use season sure like wonderful herb season use separatly allthe time sure taste food ingredient spice sea salt garlic red bell pepper onion citric acid natural lemon juice powder season smell wonderful think try use dipping sause olive oil', 'hanker bit different standard ramen try hit minute end end use microwave add dried shrimp bit flavor umami noodle plump good texture decent bite soggy paste dall apart remind decent pasta broth definitely spicy hot burn mouth hot fool great seafood flavor intruiging mix ocean life sand lance usual ton sodium low calorie pack bit calorie play usual game portion presume portion bag doubt folk divvy feel like portion child s tea party cold damp rainy day nice way warm intend try flavor maybe add dried bonito flake stuff good platform experiment tasty hearty highly recommend void tummy craving noodle note product origins korea think version sell usa', 'id heard quinoa read excellent source slow digest carbs muscle fitness buy pleasantly surprise like taste tend cook steamer cook brown rice work fine overall food thrill rave review want good tasting healthy food recommend product', 'somewhat hard pull filling teeth solid best snack amazon subscription price right costco far best nature valley brand snack bar', 'wife long time coconut lover notice recently ease consumption stuff island way act like coconut glad enjoy', 'honestly deal like grocery plus use amazon s subscription program save prime membership need leave house buy splenda great office use want buy bulk save money home think solidify likesweet n low cool dry cabinet store airtight container help worried bad good packet u nice able staple like hand easily', 'read review candy s smooth taste fresh hard candy hard cany jar']\n"
     ]
    }
   ],
   "source": [
    "print([i for i in products.sample(25)[\"processedReviewText\"].values.tolist()])"
   ]
  },
  {
   "cell_type": "markdown",
   "id": "e3421397",
   "metadata": {},
   "source": [
    "### Tokenization"
   ]
  },
  {
   "cell_type": "code",
   "execution_count": 22,
   "id": "8a52f419",
   "metadata": {},
   "outputs": [],
   "source": [
    "products[\"processedReviewText\"] = products[\"processedReviewText\"].parallel_apply(lambda x: simple_preprocess(x, deacc=True))"
   ]
  },
  {
   "cell_type": "code",
   "execution_count": 23,
   "id": "1974142b",
   "metadata": {},
   "outputs": [
    {
     "name": "stdout",
     "output_type": "stream",
     "text": [
      "[['pleased', 'tahini', 'al', 'wadi', 'jar', 'arrive', 'okay', 'plastic', 'wrap', 'jar', 'little', 'greasy', 'touch', 'wash', 'away', 'little', 'warm', 'water', 'soap', 'unopened', 'believe', 'jar', 'store', 'unrefrigerated', 'refrigerate', 'safe', 'use', 'tahini', 'mainly', 'hummus', 'work', 'awesome', 'spread', 'falafel', 'tahini', 'food', 'processor', 'lemon', 'juice', 'couple', 'garlic', 'clove', 'cold', 'water', 'mint', 'leaf'], ['great', 'single', 'cup', 'maker', 'keurig', 'mr', 'coffee', 'cup', 'maker'], ['foolish', 'dumb', 'sound', 'forget', 'impact', 'caffeine', 'health', 'issue', 'primarily', 'raise', 'ocular', 'pressure', 'glaucoma', 'medical', 'eye', 'issue', 'new', 'job', 'new', 'pressure', 'stress', 'longer', 'hour', 'inclement', 'weather', 'brew', 'coffee', 'refill', 'big', 'travel', 'mug', 'think', 'use', 'high', 'quality', 'coffee', 'read', 'article', 'organic', 'high', 'quality', 'coffee', 'affect', 'affect', 'actual', 'caffeine', 'component', 'felt', 'okay', 'drink', 'wrong', 'forget', 'use', 'mix', 'coffee', 'half', 'half', 'teeccino', 'cut', 'caffeine', 'teeccino', 'great', 'product', 'cost', 'effective', 'prefer', 'gluten', 'past', 'try', 'packet', 'dandy', 'blend', 'ok', 'quickly', 'harden', 'dry', 'throw', 'away', 'unused', 'packet', 'receive', 'bad', 'news', 'ophthalmologist', 'draw', 'board', 'saw', 'bag', 'dandy', 'blend', 'outstanding', 'review', 'comment', 'think', 'gluten', 'free', 'explain', 'site', 'dandelion', 'great', 'liver', 'closely', 'relate', 'eye', 'issue', 'hand', 'hand', 'milk', 'thistle', 'day', 'liver', 'added', 'bonus', 'ask', 'question', 'area', 'great', 'feature', 'big', 'help', 'want', 'able', 'brew', 'dandy', 'blend', 'scoop', 'regular', 'coffee', 'ground', 'teeccino', 'tell', 'score', 'right', 'enjoy', 'delicious', 'cup', 'mixed', 'brew', 'eventually', 'cut', 'coffee', 'altogether', 'chicken', 'db', 'brew', 'basket', 'use', 'normal', 'water', 'pot', 'scoop', 'coffee', 'instead', 'finish', 'brewing', 'add', 'rounded', 'tablespoon', 'pot', 'stir', 'fabulous', 'recipe', 'idea', 'bag', 'website', 'great', 'think', 'look', 'forward', 'try', 'ready', 'travel', 'bring', 'folks', 'monitor', 'blood', 'pressure', 'home', 'occasionally', 'monitor', 'ocular', 'pressure', 'hopefully', 'day', 'possible', 'fortunately', 'regularly', 'close', 'watch', 'insurance', 'chance', 'disastrous', 'sure', 'eye', 'check', 'regularly', 'especially', 'check', 'pressure', 'lead', 'blindness', 'week', 'later', 'mixed', 'coffee', 'week', 'end', 'love', 'prefer', 'delicious', 'awesome', 'headache', 'fatigue', 'withdrawal', 'whatsoever', 'coffee', 'awesome'], ['grocery', 'store', 'area', 'usually', 'produce', 'section', 'experience', 'buy', 'pack', 'like', 'miracle', 'brand', 'house', 'brand', 'okay', 'purpose', 'low', 'carb', 'use', 'vehicle', 'like', 'brand', 'regular', 'pasta', 'favorite', 'use', 'far', 'low', 'carb', 'chicken', 'soup', 'sure', 'cut', 'noodle', 'bite', 'size', 'piece', 'alarm', 'noodle', 'eat', 'non', 'digestible', 'especially', 'eat', 'bag', 'probably', 'enema'], ['like', 'dry', 'berry', 'month', 'shelf', 'life', 'use', 'pancake', 'smoothy', 'trail', 'mix', 'ps', 'unlike', 'reviewer', 'read', 'ingredient', 'list', 'purchase', 'simple'], ['obviously', 'preference', 'taste', 'clearly', 'plenty', 'people', 'different', 'preference', 'like', 'texture', 'crunchy', 'kind', 'pastey', 'chew', 'flavor', 'ok', 'like', 'natural', 'food', 'totally', 'fine', 'sugary', 'sweet', 'fake', 'flavor', 'think', 'pastiness', 'away', 'enjoyment', 'natural', 'flavor', 'snack', 'purchase', 'word', 'try', 'plenty', 'love'], ['great', 'cook', 'bake', 'pour', 'pancake', 'like', 'ease', 'subscribe', 'save', 'sure', 'hand'], ['free', 'sample', 'husband', 'try', 'son', 'allergy', 'peanuts', 'yummy', 'try'], ['little', 'high', 'sugar', 'taste', 'good', 'especially', 'chocolate', 'chip', 'variety', 'chocolate', 'flavor', 'favorite'], ['love', 'package', 'large', 'expect', 'bring', 'lunch', 'leave', 'afternoon', 'fresh', 'tasty', 'order'], ['exactly', 'expect', 'mild', 'coconut', 'taste', 'consistency', 'coconut', 'oil', 'solid', 'room', 'temperature', 'good', 'price', 'pack'], ['favorite', 'brand', 'salt', 'pepper', 'pistachio', 'brand', 'pepper', 'taste', 'salt'], ['perfect', 'pistachio', 'nearly', 'open', 'maybe', 'nut', 'bag', 'pleased', 'quality', 'taste', 'superb', 'exactly', 'right', 'crunch', 'expiration', 'date', 'year', 'taste', 'good', 'sure', 'long', 'new', 'pistachio', 'nut', 'keenan', 'stop', 'supply', 'purchase', 'brand'], ['vanilla', 'bean', 'version', 'vanilla', 'bean', 'bit', 'strong', 'flavor', 'like', 'good'], ['chip', 'extremely', 'tasty', 'price', 'low', 'buy', 'food', 'cent', 'bag', 'wait', 'ship'], ['handy', 'way', 'flavor', 'chai', 'brew', 'combine', 'cane', 'sugar', 'gram', 'packet', 'milk', 'powder', 'black', 'tea', 'cardamom', 'powder', 'spice', 'flavor', 'moderately', 'spicy', 'strong', 'masala', 'chai', 'variety', 'try', 'steep', 'pre', 'add', 'milk', 'sugar', 'dos', 'dilute', 'effect', 'try', 'aid', 'digestion', 'help', 'stomach', 'rumble', 'worsen', 'pleasant', 'course', 'easy', 'prepare', 'taste', 'cool', 'pour', 'nearly', 'boiling', 'water', 'package', 'advise', 'hot', 'sweeter', 'flavor', 'come', 'low', 'temperature'], ['truly', 'dislike', 'product', 'use', 'true', 'grapefruit', 'crystal', 'thrill', 'tried', 'good', 'dilution', 'help', 'taste', 'like', 'diet', 'soda', 'year', 'ago', 'bad', 'taste'], ['order', 'ounce', 'bag', 'today', 'purchase', 'amazon', 'long', 'unfortunately', 'fresh', 'nice', 'quality', 'resealable', 'bag', 'fresh', 'delicious', 'watch', 'low', 'price', 'happy', 'freshness', 'quality', 'product', 'look', 'fresh', 'smell', 'fresh', 'order', 'ounce', 'size', 'multiple', 'time', 'far', 'complaint'], ['ginger', 'snap', 'gingery', 'tasty', 'crisp', 'gem', 'glad', 'delicious', 'replacement', 'wheat', 'laden', 'variety', 'problem', 'family', 'eat', 'gluten', 'free', 'leave'], ['cereal', 'bit', 'pricey', 'usually', 'buy', 'coupon', 'directly', 'box', 'buy', 'store', 'buy', 'cereal', 'good', 'matter', 'fact', 'cereal', 'usually', 'buy', 'try', 'cascadian', 'farm', 'flavor', 'pretty', 'tasty', 'opinion', 'best', 'highly', 'recommend'], ['wonderful', 'know', 'welch', 'grape', 'juice', 'concentrate', 'handy', 'require', 'freeze', 'free', 'space', 'freezer', 'soon', 'customary', 'orange', 'juice', 'delicious', 'change', 'price', 'right'], ['reservation', 'try', 'new', 'relatively', 'healthy', 'food', 'product', 'double', 'choc', 'chunk', 'breakfast', 'cookie', 'winner', 'love', 'bake', 'try', 'cooky', 'home', 'store', 'bought', 'baker', 'chocolate', 'chunk', 'breakfast', 'cookie', 'favorite', 'chocolate', 'cooky', 'pretty', 'healthy', 'low', 'fat', 'high', 'fiber', 'protein', 'taste', 'good', 'concern', 'product', 'short', 'shelf', 'life', 'eat', 'pretty', 'quickly', 'mean', 'product', 'excessive', 'preservative', 'unlike', 'similar', 'product', 'market', 'love', 'pronounce', 'ingredient', 'list'], ['family', 'like', 'beef', 'jerky', 'low', 'calorie', 'high', 'protein', 'snack', 'mr', 'pepper', 'flavor', 'strong', 'unpleasant', 'spicy', 'taste', 'grass', 'feed', 'beef', 'contain', 'msg', 'long', 'list', 'ingredient', 'suppose', 'ship', 'beef', 'brazil', 'beef', 'jerky', 'overall', 'think', 'convenient', 'snack', 'emergency', 'food', 'hand', 'ingredient', 'beef', 'water', 'sugar', 'salt', 'black', 'pepper', 'soy', 'sauce', 'water', 'wheat', 'soy', 'salt', 'smoke', 'flavor', 'hydrolyze', 'soy', 'protein', 'garlic', 'powder', 'maltodextrin', 'onion', 'powder', 'soybean', 'oil', 'monosodium', 'glutamate', 'silicon', 'dioxide', 'flavor', 'glycol', 'propylene', 'paprika', 'sodium', 'erythorbate', 'sodium', 'nitrite', 'contain', 'soy', 'wheat'], ['order', 'thrill', 'product', 'fresh', 'soft', 'fragrant', 'use', 'lot', 'vanilla', 'bean', 'family', 'love', 'vanilla', 'sauce', 'bake', 'good', 'fresh', 'bean', 'seal', 'tightly', 'soft', 'use', 'seal', 'meal', 'care', 'stay', 'nice', 'month', 'beat', 'price', 'mccormick', 'sell', 'vanilla', 'bean', 'jar', 'bean', 'quality', 'near', 'continue', 'buy', 'product'], ['love', 'hot', 'cocoa', 'cold', 'day', 'whip', 'cream', 'cocoa', 'tasty', 'easy', 'ace']]\n"
     ]
    }
   ],
   "source": [
    "print([i for i in products.sample(25)[\"processedReviewText\"].values.tolist()])"
   ]
  },
  {
   "cell_type": "markdown",
   "id": "620edc4c",
   "metadata": {},
   "source": [
    "### Combining Tokens Into Pre-processed Reviews"
   ]
  },
  {
   "cell_type": "code",
   "execution_count": 24,
   "id": "70dcebcf",
   "metadata": {},
   "outputs": [],
   "source": [
    "products[\"processedReviewText\"] = products[\"processedReviewText\"].parallel_apply(lambda x: ' '.join(x))"
   ]
  },
  {
   "cell_type": "code",
   "execution_count": 25,
   "id": "b5c944d5",
   "metadata": {},
   "outputs": [
    {
     "name": "stdout",
     "output_type": "stream",
     "text": [
      "Text statistics:\n",
      "\n",
      "Minimum `reviewText` length: 0 characters, 0 words.\n",
      "Maximum `reviewText` length: 9385 characters, 1423 words.\n",
      "Mean `reviewText` length: 255.96 characters, 39.32 words.\n",
      "Median `reviewText` length: 172.0 characters, 27.0 words.\n"
     ]
    }
   ],
   "source": [
    "# check statistics\n",
    "text_statistics(products, \"processedReviewText\")"
   ]
  },
  {
   "cell_type": "code",
   "execution_count": 26,
   "id": "2c5c05a9",
   "metadata": {
    "scrolled": true
   },
   "outputs": [
    {
     "name": "stdout",
     "output_type": "stream",
     "text": [
      "['tinkyada product use fabulous fact hard state good try wheat pasta past bitter try husband stop ask white flour pasta', 'buy product local costco cheap price live work desolate place amazon deliver costco pay amazon asking price exact bottle mexican coca cola good bother drink regular soda high fructose corn syrup fast food restaurant day order bottle apple juice endure spectacular taste american coke high fructose corn syrup stand taste regular soda anymore run bottle mexican coke trip costco soda costco rate product absolute star', 'tasty reason star price somewhat high retailer', 'cappuccino drinker sweet drink like product delightful change straight coffee hot chocolate wish partially hydrogenate vegetable oil corn syrup solid feel like eat right drink', 'buy gift daughter work lunch complaint heard purchase right price easy open', 'hot cocoa product super yummy milk sugar add add coffee like overall good quality', 'love product love eat frost shredded wheat usually sweet lightly frost perfect', 'dad absolute favorite candy love orange bittersweet chocolate best flavor match heaven adore dad pass away stash cupboard easy welcome dinner sweet coffee guest', 'buy item large size long expiration date online rid car november eat exciting experiment cut item diet trial error method crohn disease', 'product great mandarin taste brand normally purchase store sugary flavor pack liquid problem bent swing openers trouble open', 'new study review fda bisphenol important muir glen consistently best canned tomato product market liner real problem contain bisphenol like nice rid type liner state ban pending congress investigate institute safe update manufacturer cease use bpa liner update review star', 'kosher symbol label assure dolphin sea creature catch process tuna taste selling point subscribe save', 'herbal tea like normally prefer tea contain tea leave herbal infusion sure read instruction tea leaf need steep long extract flavor minute think complain lack flavor subtle bad thing unlike reviewer think hibiscus stand orange flavor fact add orange slice second cup enhance flavor profile', 'pleased quality extract almond flavor hard nail unpleasant aftertaste prepared product great', 'absolutely love oatmeal protein content fairly high added whey protein flax seed pack calorie bad prefer golean oatmeal regular quaker oatmeal price save subscribe amazon good know cheap worth want live healthy lifestyle taste great add fresh frozen blueberry fruit flavor artificial flavor highly recommend', 'drawback flavor strong taste delicious good combine flavor', 'like frost mini wheat like cinnamon roll turn good pair taste exactly like cinnamon roll end taste sugary maybe double serving size box claim hold sever finish bowl recommend serve jut craving mini wheat pick flavor stick original stick actual roll kind hankering cinnamon roll', 'microwave popcorn come favorite brand popcorn usually hot air popcorn popper try incorporate nifty bowl bag open way bag ready bowl regard epic fail bowl bag red strip pull supposedly cause bag open widely bowl shape manage pull red strip way package instead rip entire bag pour popped corn big bowl eat microwave popcorn consider handy task simply work way intend popcorn delicious like lot salt butter flavor detect butter popcorn miss expect taste bit butter fully pop start burn microwave minute direction pop minute manage bowl open direct flat allow stand taste popcorn good star unpopped kernals like recommend leave bad taste mouth long time eat yicki', 'chocolate good good kid enjoy box come pouch pouch piece pouch calorie total gram sugar mind skinny cow product try pretty impressed definitely try skinny cow product future', 'star attempt healthy abandon flavour way fry small maybe break apart transit problem packaging like size good crunch come taste lack cheese bitter saltiness imagine bag plain potato stix shake orange dust kraft mac cheese knock brand pretty like half fat chip gluten free msg free trans fat free nut free deliciousness free kudos vegetarian cholosterol free ness prefer bit tasty', 'item great taste use tea touch sweetness essence vanilla great stuff', 'keurig brew cup size small cup size hot chocolate weak dissapointing salvage buy brew cup coffee brew cup hot chocolate mocha dissapointing gloria jean', 'love liption tea especially cold winter month new pyramid tea bag allow flavor bag original bag break open easily regular tea bag nice', 'personally love quaker oatmeal cooky usually eat healthy cooky know difference great oatmeal chocolate taste soft chewy easy place individually wrap pretty big cooky great snack recommend think tasty', 'chip little tomato taste jalepeno mild good alternative plain tortilla chip overwhelm taste good change']\n"
     ]
    }
   ],
   "source": [
    "print([i for i in products.sample(25)[\"processedReviewText\"].values.tolist()])"
   ]
  },
  {
   "cell_type": "markdown",
   "id": "f343c041",
   "metadata": {},
   "source": [
    "### Removing Empty Reviews\n",
    "\n",
    "Post pre-processing, we observed that the minimum characters and words of a review is 0. This indicates some reviews which are short to begin with, will get pruned after the series of pre-processing. Hence, we will remove such reviews."
   ]
  },
  {
   "cell_type": "code",
   "execution_count": 27,
   "id": "d7307e95",
   "metadata": {},
   "outputs": [],
   "source": [
    "products = remove_missing_reviews(products, \"processedReviewText\")"
   ]
  },
  {
   "cell_type": "code",
   "execution_count": 28,
   "id": "1444e9f4",
   "metadata": {},
   "outputs": [
    {
     "name": "stdout",
     "output_type": "stream",
     "text": [
      "Text statistics:\n",
      "\n",
      "Minimum `reviewText` length: 2 characters, 1 words.\n",
      "Maximum `reviewText` length: 9385 characters, 1423 words.\n",
      "Mean `reviewText` length: 255.96 characters, 39.32 words.\n",
      "Median `reviewText` length: 172.0 characters, 27.0 words.\n"
     ]
    }
   ],
   "source": [
    "text_statistics(products, \"processedReviewText\")"
   ]
  },
  {
   "cell_type": "code",
   "execution_count": 29,
   "id": "f4a79174",
   "metadata": {},
   "outputs": [
    {
     "name": "stdout",
     "output_type": "stream",
     "text": [
      "Rows: 77602, Columns: 10.\n"
     ]
    }
   ],
   "source": [
    "# check shape\n",
    "print(f\"Rows: {products.shape[0]}, Columns: {products.shape[1]}.\")"
   ]
  },
  {
   "cell_type": "code",
   "execution_count": 30,
   "id": "123cf19f",
   "metadata": {},
   "outputs": [
    {
     "data": {
      "text/html": [
       "<div>\n",
       "<style scoped>\n",
       "    .dataframe tbody tr th:only-of-type {\n",
       "        vertical-align: middle;\n",
       "    }\n",
       "\n",
       "    .dataframe tbody tr th {\n",
       "        vertical-align: top;\n",
       "    }\n",
       "\n",
       "    .dataframe thead th {\n",
       "        text-align: right;\n",
       "    }\n",
       "</style>\n",
       "<table border=\"1\" class=\"dataframe\">\n",
       "  <thead>\n",
       "    <tr style=\"text-align: right;\">\n",
       "      <th></th>\n",
       "      <th>asin</th>\n",
       "      <th>title</th>\n",
       "      <th>categories</th>\n",
       "      <th>reviewerID</th>\n",
       "      <th>overall</th>\n",
       "      <th>reviewText</th>\n",
       "      <th>reviewTime</th>\n",
       "      <th>reviewCharLength</th>\n",
       "      <th>reviewWordLength</th>\n",
       "      <th>processedReviewText</th>\n",
       "    </tr>\n",
       "  </thead>\n",
       "  <tbody>\n",
       "    <tr>\n",
       "      <th>77597</th>\n",
       "      <td>B00KCJRVO2</td>\n",
       "      <td>Chex Gluten Free Oatmeal Variety Pack, 8.84 Ounce</td>\n",
       "      <td>['Grocery &amp; Gourmet Food', 'Breakfast Foods', ...</td>\n",
       "      <td>A2L6QS8SVHT9RG</td>\n",
       "      <td>4.0</td>\n",
       "      <td>Delicious gluten-free oatmeal: we tried both t...</td>\n",
       "      <td>07 12, 2014</td>\n",
       "      <td>305</td>\n",
       "      <td>41</td>\n",
       "      <td>delicious gluten free oatmeal try regular plai...</td>\n",
       "    </tr>\n",
       "    <tr>\n",
       "      <th>77598</th>\n",
       "      <td>B00KCJRVO2</td>\n",
       "      <td>Chex Gluten Free Oatmeal Variety Pack, 8.84 Ounce</td>\n",
       "      <td>['Grocery &amp; Gourmet Food', 'Breakfast Foods', ...</td>\n",
       "      <td>AFJFXN42RZ3G2</td>\n",
       "      <td>4.0</td>\n",
       "      <td>With the many selections of instant oatmeal ce...</td>\n",
       "      <td>07 6, 2014</td>\n",
       "      <td>508</td>\n",
       "      <td>77</td>\n",
       "      <td>selection instant oatmeal cereal produce choos...</td>\n",
       "    </tr>\n",
       "    <tr>\n",
       "      <th>77599</th>\n",
       "      <td>B00KCJRVO2</td>\n",
       "      <td>Chex Gluten Free Oatmeal Variety Pack, 8.84 Ounce</td>\n",
       "      <td>['Grocery &amp; Gourmet Food', 'Breakfast Foods', ...</td>\n",
       "      <td>ASEBX8TBYWQWA</td>\n",
       "      <td>5.0</td>\n",
       "      <td>While I usually review CDs and DVDs, as well a...</td>\n",
       "      <td>07 1, 2014</td>\n",
       "      <td>1065</td>\n",
       "      <td>158</td>\n",
       "      <td>usually review cd dvd entertainment relate boo...</td>\n",
       "    </tr>\n",
       "    <tr>\n",
       "      <th>77600</th>\n",
       "      <td>B00KCJRVO2</td>\n",
       "      <td>Chex Gluten Free Oatmeal Variety Pack, 8.84 Ounce</td>\n",
       "      <td>['Grocery &amp; Gourmet Food', 'Breakfast Foods', ...</td>\n",
       "      <td>ANKQGTXHREOI5</td>\n",
       "      <td>4.0</td>\n",
       "      <td>My son and I enjoyed these oatmeal packets.  H...</td>\n",
       "      <td>07 4, 2014</td>\n",
       "      <td>338</td>\n",
       "      <td>47</td>\n",
       "      <td>son enjoy oatmeal packet fond maple brown suga...</td>\n",
       "    </tr>\n",
       "    <tr>\n",
       "      <th>77601</th>\n",
       "      <td>B00KCJRVO2</td>\n",
       "      <td>Chex Gluten Free Oatmeal Variety Pack, 8.84 Ounce</td>\n",
       "      <td>['Grocery &amp; Gourmet Food', 'Breakfast Foods', ...</td>\n",
       "      <td>A2CF66KIQ3RKX3</td>\n",
       "      <td>4.0</td>\n",
       "      <td>I like to eat oatmeal i the mornings. I usuall...</td>\n",
       "      <td>07 11, 2014</td>\n",
       "      <td>259</td>\n",
       "      <td>39</td>\n",
       "      <td>like eat oatmeal morning usually buy quaker oa...</td>\n",
       "    </tr>\n",
       "  </tbody>\n",
       "</table>\n",
       "</div>"
      ],
      "text/plain": [
       "             asin                                              title  \\\n",
       "77597  B00KCJRVO2  Chex Gluten Free Oatmeal Variety Pack, 8.84 Ounce   \n",
       "77598  B00KCJRVO2  Chex Gluten Free Oatmeal Variety Pack, 8.84 Ounce   \n",
       "77599  B00KCJRVO2  Chex Gluten Free Oatmeal Variety Pack, 8.84 Ounce   \n",
       "77600  B00KCJRVO2  Chex Gluten Free Oatmeal Variety Pack, 8.84 Ounce   \n",
       "77601  B00KCJRVO2  Chex Gluten Free Oatmeal Variety Pack, 8.84 Ounce   \n",
       "\n",
       "                                              categories      reviewerID  \\\n",
       "77597  ['Grocery & Gourmet Food', 'Breakfast Foods', ...  A2L6QS8SVHT9RG   \n",
       "77598  ['Grocery & Gourmet Food', 'Breakfast Foods', ...   AFJFXN42RZ3G2   \n",
       "77599  ['Grocery & Gourmet Food', 'Breakfast Foods', ...   ASEBX8TBYWQWA   \n",
       "77600  ['Grocery & Gourmet Food', 'Breakfast Foods', ...   ANKQGTXHREOI5   \n",
       "77601  ['Grocery & Gourmet Food', 'Breakfast Foods', ...  A2CF66KIQ3RKX3   \n",
       "\n",
       "       overall                                         reviewText  \\\n",
       "77597      4.0  Delicious gluten-free oatmeal: we tried both t...   \n",
       "77598      4.0  With the many selections of instant oatmeal ce...   \n",
       "77599      5.0  While I usually review CDs and DVDs, as well a...   \n",
       "77600      4.0  My son and I enjoyed these oatmeal packets.  H...   \n",
       "77601      4.0  I like to eat oatmeal i the mornings. I usuall...   \n",
       "\n",
       "        reviewTime  reviewCharLength  reviewWordLength  \\\n",
       "77597  07 12, 2014               305                41   \n",
       "77598   07 6, 2014               508                77   \n",
       "77599   07 1, 2014              1065               158   \n",
       "77600   07 4, 2014               338                47   \n",
       "77601  07 11, 2014               259                39   \n",
       "\n",
       "                                     processedReviewText  \n",
       "77597  delicious gluten free oatmeal try regular plai...  \n",
       "77598  selection instant oatmeal cereal produce choos...  \n",
       "77599  usually review cd dvd entertainment relate boo...  \n",
       "77600  son enjoy oatmeal packet fond maple brown suga...  \n",
       "77601  like eat oatmeal morning usually buy quaker oa...  "
      ]
     },
     "execution_count": 30,
     "metadata": {},
     "output_type": "execute_result"
    }
   ],
   "source": [
    "# check last 5 rows and their index\n",
    "products.tail()"
   ]
  },
  {
   "cell_type": "markdown",
   "id": "9fed617c",
   "metadata": {},
   "source": [
    "# Pre-processing Demonstration"
   ]
  },
  {
   "cell_type": "code",
   "execution_count": 31,
   "id": "e4ff4a08",
   "metadata": {},
   "outputs": [
    {
     "data": {
      "text/html": [
       "<div>\n",
       "<style scoped>\n",
       "    .dataframe tbody tr th:only-of-type {\n",
       "        vertical-align: middle;\n",
       "    }\n",
       "\n",
       "    .dataframe tbody tr th {\n",
       "        vertical-align: top;\n",
       "    }\n",
       "\n",
       "    .dataframe thead th {\n",
       "        text-align: right;\n",
       "    }\n",
       "</style>\n",
       "<table border=\"1\" class=\"dataframe\">\n",
       "  <thead>\n",
       "    <tr style=\"text-align: right;\">\n",
       "      <th></th>\n",
       "      <th>asin</th>\n",
       "      <th>title</th>\n",
       "      <th>categories</th>\n",
       "      <th>reviewerID</th>\n",
       "      <th>overall</th>\n",
       "      <th>reviewText</th>\n",
       "      <th>reviewTime</th>\n",
       "    </tr>\n",
       "  </thead>\n",
       "  <tbody>\n",
       "    <tr>\n",
       "      <th>0</th>\n",
       "      <td>9742356831</td>\n",
       "      <td>Mae Ploy Green Curry Paste, 14 oz</td>\n",
       "      <td>['Grocery &amp; Gourmet Food', 'Sauces, Gravies &amp; ...</td>\n",
       "      <td>A23RYWDS884TUL</td>\n",
       "      <td>5.0</td>\n",
       "      <td>This curry paste makes a delicious curry.  I j...</td>\n",
       "      <td>05 28, 2013</td>\n",
       "    </tr>\n",
       "    <tr>\n",
       "      <th>1</th>\n",
       "      <td>9742356831</td>\n",
       "      <td>Mae Ploy Green Curry Paste, 14 oz</td>\n",
       "      <td>['Grocery &amp; Gourmet Food', 'Sauces, Gravies &amp; ...</td>\n",
       "      <td>A945RBQWGZXCK</td>\n",
       "      <td>5.0</td>\n",
       "      <td>I've purchased different curries in the grocer...</td>\n",
       "      <td>09 17, 2012</td>\n",
       "    </tr>\n",
       "    <tr>\n",
       "      <th>2</th>\n",
       "      <td>9742356831</td>\n",
       "      <td>Mae Ploy Green Curry Paste, 14 oz</td>\n",
       "      <td>['Grocery &amp; Gourmet Food', 'Sauces, Gravies &amp; ...</td>\n",
       "      <td>A1TCSC0YWT82Q0</td>\n",
       "      <td>5.0</td>\n",
       "      <td>I love ethnic foods and to cook them. I recent...</td>\n",
       "      <td>08 3, 2013</td>\n",
       "    </tr>\n",
       "    <tr>\n",
       "      <th>3</th>\n",
       "      <td>9742356831</td>\n",
       "      <td>Mae Ploy Green Curry Paste, 14 oz</td>\n",
       "      <td>['Grocery &amp; Gourmet Food', 'Sauces, Gravies &amp; ...</td>\n",
       "      <td>A3AMNY44OP8AOU</td>\n",
       "      <td>4.0</td>\n",
       "      <td>I started a new diet restricting all added sug...</td>\n",
       "      <td>01 23, 2014</td>\n",
       "    </tr>\n",
       "    <tr>\n",
       "      <th>4</th>\n",
       "      <td>9742356831</td>\n",
       "      <td>Mae Ploy Green Curry Paste, 14 oz</td>\n",
       "      <td>['Grocery &amp; Gourmet Food', 'Sauces, Gravies &amp; ...</td>\n",
       "      <td>A3IB4CQ2QEJLJ8</td>\n",
       "      <td>5.0</td>\n",
       "      <td>So many flavors. I can't begin to tell you how...</td>\n",
       "      <td>04 27, 2014</td>\n",
       "    </tr>\n",
       "  </tbody>\n",
       "</table>\n",
       "</div>"
      ],
      "text/plain": [
       "         asin                              title  \\\n",
       "0  9742356831  Mae Ploy Green Curry Paste, 14 oz   \n",
       "1  9742356831  Mae Ploy Green Curry Paste, 14 oz   \n",
       "2  9742356831  Mae Ploy Green Curry Paste, 14 oz   \n",
       "3  9742356831  Mae Ploy Green Curry Paste, 14 oz   \n",
       "4  9742356831  Mae Ploy Green Curry Paste, 14 oz   \n",
       "\n",
       "                                          categories      reviewerID  overall  \\\n",
       "0  ['Grocery & Gourmet Food', 'Sauces, Gravies & ...  A23RYWDS884TUL      5.0   \n",
       "1  ['Grocery & Gourmet Food', 'Sauces, Gravies & ...   A945RBQWGZXCK      5.0   \n",
       "2  ['Grocery & Gourmet Food', 'Sauces, Gravies & ...  A1TCSC0YWT82Q0      5.0   \n",
       "3  ['Grocery & Gourmet Food', 'Sauces, Gravies & ...  A3AMNY44OP8AOU      4.0   \n",
       "4  ['Grocery & Gourmet Food', 'Sauces, Gravies & ...  A3IB4CQ2QEJLJ8      5.0   \n",
       "\n",
       "                                          reviewText   reviewTime  \n",
       "0  This curry paste makes a delicious curry.  I j...  05 28, 2013  \n",
       "1  I've purchased different curries in the grocer...  09 17, 2012  \n",
       "2  I love ethnic foods and to cook them. I recent...   08 3, 2013  \n",
       "3  I started a new diet restricting all added sug...  01 23, 2014  \n",
       "4  So many flavors. I can't begin to tell you how...  04 27, 2014  "
      ]
     },
     "execution_count": 31,
     "metadata": {},
     "output_type": "execute_result"
    }
   ],
   "source": [
    "# load dataset\n",
    "products_demo = pd.read_csv(f\"data/interim/{CATEGORY}_merged.csv\")\n",
    "\n",
    "# check first 5 rows\n",
    "products_demo.head()"
   ]
  },
  {
   "cell_type": "code",
   "execution_count": 32,
   "id": "3be01ce8",
   "metadata": {},
   "outputs": [],
   "source": [
    "n_random_products = products_demo.sample(10)"
   ]
  },
  {
   "cell_type": "code",
   "execution_count": 33,
   "id": "72c28fc6",
   "metadata": {},
   "outputs": [
    {
     "name": "stderr",
     "output_type": "stream",
     "text": [
      "100%|██████████| 10/10 [00:01<00:00,  7.59it/s]\n"
     ]
    }
   ],
   "source": [
    "n_random_products[\"processedReviewText\"] = n_random_products[\"reviewText\"].progress_apply(lambda x: preprocess_text(x))"
   ]
  },
  {
   "cell_type": "code",
   "execution_count": 34,
   "id": "01802028",
   "metadata": {
    "scrolled": true
   },
   "outputs": [
    {
     "data": {
      "text/html": [
       "<div>\n",
       "<style scoped>\n",
       "    .dataframe tbody tr th:only-of-type {\n",
       "        vertical-align: middle;\n",
       "    }\n",
       "\n",
       "    .dataframe tbody tr th {\n",
       "        vertical-align: top;\n",
       "    }\n",
       "\n",
       "    .dataframe thead th {\n",
       "        text-align: right;\n",
       "    }\n",
       "</style>\n",
       "<table border=\"1\" class=\"dataframe\">\n",
       "  <thead>\n",
       "    <tr style=\"text-align: right;\">\n",
       "      <th></th>\n",
       "      <th>asin</th>\n",
       "      <th>title</th>\n",
       "      <th>categories</th>\n",
       "      <th>reviewerID</th>\n",
       "      <th>overall</th>\n",
       "      <th>reviewText</th>\n",
       "      <th>reviewTime</th>\n",
       "      <th>processedReviewText</th>\n",
       "    </tr>\n",
       "  </thead>\n",
       "  <tbody>\n",
       "    <tr>\n",
       "      <th>41811</th>\n",
       "      <td>B002D4DY8G</td>\n",
       "      <td>Gevalia Dark Chocolate Truffle Ground Coffee, ...</td>\n",
       "      <td>['Grocery &amp; Gourmet Food', 'Beverages', 'Coffe...</td>\n",
       "      <td>A35Q0RBM3YNQNF</td>\n",
       "      <td>3.0</td>\n",
       "      <td>I brewed the Gevalia Dark Chocolate Truffle co...</td>\n",
       "      <td>11 25, 2009</td>\n",
       "      <td>brew gevalia dark chocolate truffle coffee cui...</td>\n",
       "    </tr>\n",
       "    <tr>\n",
       "      <th>72005</th>\n",
       "      <td>B00B18PAWI</td>\n",
       "      <td>Nestle Skinny Cow Divine Filled Chocolates, Ca...</td>\n",
       "      <td>['Grocery &amp; Gourmet Food', 'Food &amp; Beverage Gi...</td>\n",
       "      <td>A184ZFZZBWEXMS</td>\n",
       "      <td>5.0</td>\n",
       "      <td>I was pleasantly surprised upon taking my firs...</td>\n",
       "      <td>03 28, 2013</td>\n",
       "      <td>pleasantly surprise bite expect calorie good s...</td>\n",
       "    </tr>\n",
       "    <tr>\n",
       "      <th>42345</th>\n",
       "      <td>B002EDDA2Q</td>\n",
       "      <td>REESE'S Peanut Butter Cups, Dark Chocolate Can...</td>\n",
       "      <td>['Grocery &amp; Gourmet Food', 'Candy &amp; Chocolate'...</td>\n",
       "      <td>A2V06LQMT0FEFX</td>\n",
       "      <td>5.0</td>\n",
       "      <td>Dark Chocolate Peanut Butter Cups Are So Good,...</td>\n",
       "      <td>05 17, 2014</td>\n",
       "      <td>dark chocolate peanut butter cup good eat fami...</td>\n",
       "    </tr>\n",
       "    <tr>\n",
       "      <th>76151</th>\n",
       "      <td>B00DUW79Y0</td>\n",
       "      <td>Snack Pack Chocolate and Butterscotch Pudding ...</td>\n",
       "      <td>['Grocery &amp; Gourmet Food', 'Cooking &amp; Baking',...</td>\n",
       "      <td>A3H21IVDHN0WHN</td>\n",
       "      <td>4.0</td>\n",
       "      <td>Excellent quality, but too pricey.  Will power...</td>\n",
       "      <td>07 12, 2014</td>\n",
       "      <td>excellent quality pricey power need eat portio...</td>\n",
       "    </tr>\n",
       "    <tr>\n",
       "      <th>35381</th>\n",
       "      <td>B001O8PSRW</td>\n",
       "      <td>Arrowhead Mills Organic Yellow Popcorn - 28 oz</td>\n",
       "      <td>['Grocery &amp; Gourmet Food', 'Snack Foods', 'Pop...</td>\n",
       "      <td>ACMWFQ6ZUUCQG</td>\n",
       "      <td>5.0</td>\n",
       "      <td>Hardly a widow in any batch.  Very large and p...</td>\n",
       "      <td>12 21, 2012</td>\n",
       "      <td>hardly widow batch large puffy pop little pric...</td>\n",
       "    </tr>\n",
       "    <tr>\n",
       "      <th>57918</th>\n",
       "      <td>B0051NHI6U</td>\n",
       "      <td>Rodelle Organics Pure Vanilla Extract-Bourbon,...</td>\n",
       "      <td>['Grocery &amp; Gourmet Food', 'Cooking &amp; Baking']</td>\n",
       "      <td>A10J8E7PWBODL7</td>\n",
       "      <td>5.0</td>\n",
       "      <td>Ionly eat organic now and find that flavor is ...</td>\n",
       "      <td>04 3, 2014</td>\n",
       "      <td>ionly eat organic flavor important guess lack ...</td>\n",
       "    </tr>\n",
       "    <tr>\n",
       "      <th>67677</th>\n",
       "      <td>B007JHXQQC</td>\n",
       "      <td>Vita Coco Caf&amp;eacute; Latte, Original, 11.1 Ou...</td>\n",
       "      <td>['Grocery &amp; Gourmet Food', 'Beverages', 'Bottl...</td>\n",
       "      <td>A1YCCRVPH18GQR</td>\n",
       "      <td>5.0</td>\n",
       "      <td>This is my favorite coconut water. It's so yum...</td>\n",
       "      <td>08 18, 2013</td>\n",
       "      <td>favorite coconut water yummy love taste like i...</td>\n",
       "    </tr>\n",
       "    <tr>\n",
       "      <th>60589</th>\n",
       "      <td>B005IW4WEA</td>\n",
       "      <td>KIND Healthy Grains Clusters, Peanut Butter Wh...</td>\n",
       "      <td>['Grocery &amp; Gourmet Food', 'Breakfast Foods', ...</td>\n",
       "      <td>AFDJGY68CQL2X</td>\n",
       "      <td>4.0</td>\n",
       "      <td>I was excited to try this cereal, and when I e...</td>\n",
       "      <td>11 15, 2011</td>\n",
       "      <td>excite try cereal eat granola like plain sligh...</td>\n",
       "    </tr>\n",
       "    <tr>\n",
       "      <th>54678</th>\n",
       "      <td>B004OP74HE</td>\n",
       "      <td>Nature Valley Granola Thins Crispy Squares - D...</td>\n",
       "      <td>['Grocery &amp; Gourmet Food', 'Snack Foods', 'Bars']</td>\n",
       "      <td>AHRNDSKWH1YBT</td>\n",
       "      <td>5.0</td>\n",
       "      <td>I love to have one of these after lunch at wor...</td>\n",
       "      <td>01 23, 2012</td>\n",
       "      <td>love lunch work quick grab snack errand kid lu...</td>\n",
       "    </tr>\n",
       "    <tr>\n",
       "      <th>26736</th>\n",
       "      <td>B001E5E1MI</td>\n",
       "      <td>Nutiva Organic, Cold-Pressed, Unrefined, Virgi...</td>\n",
       "      <td>['Grocery &amp; Gourmet Food', 'Cooking &amp; Baking',...</td>\n",
       "      <td>A3KZLIEGCSSM5L</td>\n",
       "      <td>4.0</td>\n",
       "      <td>Jarrow EVCO is becoming too expensive but othe...</td>\n",
       "      <td>08 21, 2011</td>\n",
       "      <td>jarrow evco expensive brand price range fell s...</td>\n",
       "    </tr>\n",
       "  </tbody>\n",
       "</table>\n",
       "</div>"
      ],
      "text/plain": [
       "             asin                                              title  \\\n",
       "41811  B002D4DY8G  Gevalia Dark Chocolate Truffle Ground Coffee, ...   \n",
       "72005  B00B18PAWI  Nestle Skinny Cow Divine Filled Chocolates, Ca...   \n",
       "42345  B002EDDA2Q  REESE'S Peanut Butter Cups, Dark Chocolate Can...   \n",
       "76151  B00DUW79Y0  Snack Pack Chocolate and Butterscotch Pudding ...   \n",
       "35381  B001O8PSRW     Arrowhead Mills Organic Yellow Popcorn - 28 oz   \n",
       "57918  B0051NHI6U  Rodelle Organics Pure Vanilla Extract-Bourbon,...   \n",
       "67677  B007JHXQQC  Vita Coco Caf&eacute; Latte, Original, 11.1 Ou...   \n",
       "60589  B005IW4WEA  KIND Healthy Grains Clusters, Peanut Butter Wh...   \n",
       "54678  B004OP74HE  Nature Valley Granola Thins Crispy Squares - D...   \n",
       "26736  B001E5E1MI  Nutiva Organic, Cold-Pressed, Unrefined, Virgi...   \n",
       "\n",
       "                                              categories      reviewerID  \\\n",
       "41811  ['Grocery & Gourmet Food', 'Beverages', 'Coffe...  A35Q0RBM3YNQNF   \n",
       "72005  ['Grocery & Gourmet Food', 'Food & Beverage Gi...  A184ZFZZBWEXMS   \n",
       "42345  ['Grocery & Gourmet Food', 'Candy & Chocolate'...  A2V06LQMT0FEFX   \n",
       "76151  ['Grocery & Gourmet Food', 'Cooking & Baking',...  A3H21IVDHN0WHN   \n",
       "35381  ['Grocery & Gourmet Food', 'Snack Foods', 'Pop...   ACMWFQ6ZUUCQG   \n",
       "57918     ['Grocery & Gourmet Food', 'Cooking & Baking']  A10J8E7PWBODL7   \n",
       "67677  ['Grocery & Gourmet Food', 'Beverages', 'Bottl...  A1YCCRVPH18GQR   \n",
       "60589  ['Grocery & Gourmet Food', 'Breakfast Foods', ...   AFDJGY68CQL2X   \n",
       "54678  ['Grocery & Gourmet Food', 'Snack Foods', 'Bars']   AHRNDSKWH1YBT   \n",
       "26736  ['Grocery & Gourmet Food', 'Cooking & Baking',...  A3KZLIEGCSSM5L   \n",
       "\n",
       "       overall                                         reviewText  \\\n",
       "41811      3.0  I brewed the Gevalia Dark Chocolate Truffle co...   \n",
       "72005      5.0  I was pleasantly surprised upon taking my firs...   \n",
       "42345      5.0  Dark Chocolate Peanut Butter Cups Are So Good,...   \n",
       "76151      4.0  Excellent quality, but too pricey.  Will power...   \n",
       "35381      5.0  Hardly a widow in any batch.  Very large and p...   \n",
       "57918      5.0  Ionly eat organic now and find that flavor is ...   \n",
       "67677      5.0  This is my favorite coconut water. It's so yum...   \n",
       "60589      4.0  I was excited to try this cereal, and when I e...   \n",
       "54678      5.0  I love to have one of these after lunch at wor...   \n",
       "26736      4.0  Jarrow EVCO is becoming too expensive but othe...   \n",
       "\n",
       "        reviewTime                                processedReviewText  \n",
       "41811  11 25, 2009  brew gevalia dark chocolate truffle coffee cui...  \n",
       "72005  03 28, 2013  pleasantly surprise bite expect calorie good s...  \n",
       "42345  05 17, 2014  dark chocolate peanut butter cup good eat fami...  \n",
       "76151  07 12, 2014  excellent quality pricey power need eat portio...  \n",
       "35381  12 21, 2012  hardly widow batch large puffy pop little pric...  \n",
       "57918   04 3, 2014  ionly eat organic flavor important guess lack ...  \n",
       "67677  08 18, 2013  favorite coconut water yummy love taste like i...  \n",
       "60589  11 15, 2011  excite try cereal eat granola like plain sligh...  \n",
       "54678  01 23, 2012  love lunch work quick grab snack errand kid lu...  \n",
       "26736  08 21, 2011  jarrow evco expensive brand price range fell s...  "
      ]
     },
     "execution_count": 34,
     "metadata": {},
     "output_type": "execute_result"
    }
   ],
   "source": [
    "n_random_products"
   ]
  },
  {
   "cell_type": "code",
   "execution_count": 35,
   "id": "ca8d9487",
   "metadata": {},
   "outputs": [
    {
     "name": "stdout",
     "output_type": "stream",
     "text": [
      "Review text pre-processing, before vs. after: \n",
      "Before: I brewed the Gevalia Dark Chocolate Truffle coffee both in a Cuisinart automatic brew coffee maker and a french press. I followed the instructions on the package - 1 rounded tablespoon for each 6 ounce cup of coffee. I found the same taste results with both methods. I like a good cup of black coffee but am not fanatical about it. I do grind fresh bold or medium body beans each morning and use filtered water to prepare the pot.As someone who usually adds a little espresso or instant espresso powder to most chocolate recipes I know this flavor combination is a wonderful marriage. Depending on the percentage of espresso to chocolate, the result is either a deep mocha flavor with the coffee playing a major role, or a small addition will result in complex chocolate flavor with no obvious coffee component.  Unfortunately, with the Gevalia Dark Chocolate Truffle coffee the merger of coffee and chocolate adversely affected both the coffee and the chocolate flavor.There is a definite aftertaste from the artificial flavor, and the coffee itself is bitter and acidic. I do not know if the artificial flavor affected the coffee or the coffee is bitter and acidic on its own but, after each sip I had an involuntary puckering reaction, not my lips, but the inside of my cheeks as if I was consuming something containing acetic acid, like vinegar, not that it tasted like vinegar - it didn't.  The flavor was remarkably unpleasant, and when the cup cooled off, it tasted worse. Even the aroma while brewing smelled artificial.The other reviewers who mention how greatly improved the flavor became once cream was added is an indication of a consistent problem.  I love the taste of coffee and like it unadorned - no cream or sugar. I only add cream if I am in a restaurant and the coffee doesn't taste good. I use the cream to doctor-it-up in hopes of salvaging some of the flavor and masking the poor aspects whether caused by bitterness or coffee that's been sitting in the pot too long.  This coffee is no exception, the cream vastly improved the drinkability, but the action is akin to smearing butter on a day old roll. Underneath it is still a stale roll, and although the butter tastes delicious, it would not be accurate to call the combination a buttery delight.On the positive side, flavored coffees are usually light body and the Gevalia is definitely medium body. The packaging is quite attractive and the name is clever, but in the end may work against the product because Dark Chocolate Truffle evokes a clear taste profile for most people and the coffee doesn't live up to the name. I am rating the coffee three stars instead of less because if the purchaser always uses cream in their coffee, many of the taste issues I encountered should be if not resolved, at least mitigated.\n",
      "After: brew gevalia dark chocolate truffle coffee cuisinart automatic brew coffee maker french press follow instruction package round tablespoon ounce cup coffee taste result method like good cup black coffee fanatical grind fresh bold medium body bean morning use filtered water prepare pot usually add little espresso instant espresso powder chocolate recipe know flavor combination wonderful marriage depend percentage espresso chocolate result deep mocha flavor coffee play major role small addition result complex chocolate flavor obvious coffee component unfortunately gevalia dark chocolate truffle coffee merger coffee chocolate adversely affected coffee chocolate flavor definite aftertaste artificial flavor coffee bitter acidic know artificial flavor affect coffee coffee bitter acidic sip involuntary puckering reaction lip inside cheek consume contain acetic acid like vinegar taste like vinegar flavor remarkably unpleasant cup cool taste bad aroma brew smell artificial reviewer mention greatly improve flavor cream add indication consistent problem love taste coffee like unadorned cream sugar add cream restaurant coffee taste good use cream doctor hope salvage flavor mask poor aspect cause bitterness coffee sit pot long coffee exception cream vastly improve drinkability action akin smear butter day old roll underneath stale roll butter taste delicious accurate combination buttery delight positive flavor coffee usually light body gevalia definitely medium body packaging attractive clever end work product dark chocolate truffle evoke clear taste profile people coffee live rating coffee star instead purchaser use cream coffee taste issue encounter resolve mitigated\n",
      "\n",
      "Before: I was pleasantly surprised upon taking my first bite!  I wasn't expecting only 130 calories to be so good.  There's nothing skinny about the taste, these are absolutely delicious.  The chocolate was heavenly in taste and texture. The carmel, luscious,  as described on the box.  I must try the other Skinny Cow products now.\n",
      "After: pleasantly surprise bite expect calorie good skinny taste absolutely delicious chocolate heavenly taste texture carmel luscious box try skinny cow product\n",
      "\n",
      "Before: Dark Chocolate Peanut Butter Cups Are So Good, Can Not Eat Just One, The Whole Family Enjoys Them, Thank You.\n",
      "After: dark chocolate peanut butter cup good eat family enjoy thank\n",
      "\n",
      "Before: Excellent quality, but too pricey.  Will power is needed as you will find yourself eating more than one portion.  Overall good quality and would recommend.\n",
      "After: excellent quality pricey power need eat portion overall good quality recommend\n",
      "\n",
      "Before: Hardly a widow in any batch.  Very large and puffy when popped.  Little pricey but you get what you paid for.\n",
      "After: hardly widow batch large puffy pop little pricey pay\n",
      "\n",
      "Before: Ionly eat organic now and find that flavor is more important than before. (I guess the lack of pesticides, chemicals and artificial ingredients has improved my ability to taste what I am eating.) I love how this extract enhances whatever I add it to. I am looking forward to the amazing homemade vanilla ice cream this summer.\n",
      "After: ionly eat organic flavor important guess lack pesticide chemical artificial ingredient improve ability taste eat love extract enhance add look forward amazing homemade vanilla ice cream summer\n",
      "\n",
      "Before: This is my favorite coconut water. It's so yummy, I love it.  It tastes like an iced coffee. If you are watching your caffeine intake like me you do have limit how many of these you drink but it's a really nice treat to have one.\n",
      "After: favorite coconut water yummy love taste like iced coffee watch caffeine intake like limit drink nice treat\n",
      "\n",
      "Before: I was excited to try this cereal, and when I eat granola, I like putting them on top of plain (perhaps just slightly sugared) oatmeal cereals. Hot.When I first opened the bag, I was surprised that it smelled a bit rancid... I wasn't sure whether or not that is how it's supposed to smell. However, the taste is great. It is very nutty, and very chewy/crunchy. It also doesn't become soggy quickly, even though I put it into hot oatmeal.My one slight complain would be that the bag does not seem to seal very well. It has the built-in seal, but it doesn't seal tightly - some light movements would open it. It also doesn't stand on its bottom, but that's probably not a huge deal.Overall, I really enjoyed this granola. It's very tasty.\n",
      "After: excite try cereal eat granola like plain slightly sugared oatmeal cereal hot open bag surprise smell bit rancid sure suppose smell taste great nutty chewy crunchy soggy quickly hot oatmeal slight complain bag seal build seal seal tightly light movement open stand probably huge deal overall enjoy granola tasty\n",
      "\n",
      "Before: I love to have one of these after lunch at work, for a quick grab-on-the-go snack between errands or to give my kids in their lunches. They are crunchy but not overly so, the chocolate is just enough to give you the taste without overpowering the granola.The good part for me is that they are only 2 Weight Watchers Plus Points, which makes this a great option for quick energy when needed that tastes good.\n",
      "After: love lunch work quick grab snack errand kid lunch crunchy overly chocolate taste overpower granola good weight watcher plus point great option quick energy need taste good\n",
      "\n",
      "Before: Jarrow EVCO is becoming too expensive but other brands in its price range fell short. Nutiva is almost as good in flavor & aroma. It's at the moment more cost effective & I like that I now have options at this price point.  Good coconut flavor & aroma; my household uses it as the Primary oil for all cooking uses & as a health supplement. We go through at least 16oz per week.\n",
      "After: jarrow evco expensive brand price range fell short nutiva good flavor aroma moment cost effective like option price point good coconut flavor aroma household use primary oil cooking health supplement oz week\n",
      "\n"
     ]
    }
   ],
   "source": [
    "print(\"Review text pre-processing, before vs. after: \")\n",
    "before = n_random_products[\"reviewText\"].values.tolist()\n",
    "after = n_random_products[\"processedReviewText\"].values.tolist()\n",
    "\n",
    "for i in zip(before, after):\n",
    "    print(f\"Before: {i[0]}\")\n",
    "    print(f\"After: {i[1]}\\n\")"
   ]
  },
  {
   "cell_type": "markdown",
   "id": "afec6e28",
   "metadata": {},
   "source": [
    "# Data Visualization"
   ]
  },
  {
   "cell_type": "code",
   "execution_count": 36,
   "id": "f0e33887",
   "metadata": {},
   "outputs": [
    {
     "name": "stdout",
     "output_type": "stream",
     "text": [
      "Text statistics:\n",
      "\n",
      "Minimum `reviewText` length: 2 characters, 1 words.\n",
      "Maximum `reviewText` length: 18801 characters, 3368 words.\n",
      "Mean `reviewText` length: 502.80 characters, 91.84 words.\n",
      "Median `reviewText` length: 347.0 characters, 64.0 words.\n"
     ]
    }
   ],
   "source": [
    "text_statistics(products, \"reviewText\")"
   ]
  },
  {
   "cell_type": "code",
   "execution_count": 37,
   "id": "997d3fa7",
   "metadata": {},
   "outputs": [
    {
     "data": {
      "text/html": [
       "<div>\n",
       "<style scoped>\n",
       "    .dataframe tbody tr th:only-of-type {\n",
       "        vertical-align: middle;\n",
       "    }\n",
       "\n",
       "    .dataframe tbody tr th {\n",
       "        vertical-align: top;\n",
       "    }\n",
       "\n",
       "    .dataframe thead th {\n",
       "        text-align: right;\n",
       "    }\n",
       "</style>\n",
       "<table border=\"1\" class=\"dataframe\">\n",
       "  <thead>\n",
       "    <tr style=\"text-align: right;\">\n",
       "      <th></th>\n",
       "      <th>asin</th>\n",
       "      <th>title</th>\n",
       "      <th>categories</th>\n",
       "      <th>reviewerID</th>\n",
       "      <th>overall</th>\n",
       "      <th>reviewText</th>\n",
       "      <th>reviewTime</th>\n",
       "      <th>reviewCharLength</th>\n",
       "      <th>reviewWordLength</th>\n",
       "      <th>processedReviewText</th>\n",
       "    </tr>\n",
       "  </thead>\n",
       "  <tbody>\n",
       "    <tr>\n",
       "      <th>0</th>\n",
       "      <td>9742356831</td>\n",
       "      <td>Mae Ploy Green Curry Paste, 14 oz</td>\n",
       "      <td>['Grocery &amp; Gourmet Food', 'Sauces, Gravies &amp; ...</td>\n",
       "      <td>A23RYWDS884TUL</td>\n",
       "      <td>5.0</td>\n",
       "      <td>This curry paste makes a delicious curry.  I j...</td>\n",
       "      <td>05 28, 2013</td>\n",
       "      <td>209</td>\n",
       "      <td>36</td>\n",
       "      <td>curry paste delicious curry fry chicken vegeta...</td>\n",
       "    </tr>\n",
       "    <tr>\n",
       "      <th>1</th>\n",
       "      <td>9742356831</td>\n",
       "      <td>Mae Ploy Green Curry Paste, 14 oz</td>\n",
       "      <td>['Grocery &amp; Gourmet Food', 'Sauces, Gravies &amp; ...</td>\n",
       "      <td>A945RBQWGZXCK</td>\n",
       "      <td>5.0</td>\n",
       "      <td>I've purchased different curries in the grocer...</td>\n",
       "      <td>09 17, 2012</td>\n",
       "      <td>314</td>\n",
       "      <td>57</td>\n",
       "      <td>purchase different curry grocery store complet...</td>\n",
       "    </tr>\n",
       "    <tr>\n",
       "      <th>2</th>\n",
       "      <td>9742356831</td>\n",
       "      <td>Mae Ploy Green Curry Paste, 14 oz</td>\n",
       "      <td>['Grocery &amp; Gourmet Food', 'Sauces, Gravies &amp; ...</td>\n",
       "      <td>A1TCSC0YWT82Q0</td>\n",
       "      <td>5.0</td>\n",
       "      <td>I love ethnic foods and to cook them. I recent...</td>\n",
       "      <td>08 3, 2013</td>\n",
       "      <td>510</td>\n",
       "      <td>98</td>\n",
       "      <td>love ethnic food cook recently purchase produc...</td>\n",
       "    </tr>\n",
       "    <tr>\n",
       "      <th>3</th>\n",
       "      <td>9742356831</td>\n",
       "      <td>Mae Ploy Green Curry Paste, 14 oz</td>\n",
       "      <td>['Grocery &amp; Gourmet Food', 'Sauces, Gravies &amp; ...</td>\n",
       "      <td>A3AMNY44OP8AOU</td>\n",
       "      <td>4.0</td>\n",
       "      <td>I started a new diet restricting all added sug...</td>\n",
       "      <td>01 23, 2014</td>\n",
       "      <td>272</td>\n",
       "      <td>52</td>\n",
       "      <td>start new diet restrict added sugar brand suga...</td>\n",
       "    </tr>\n",
       "    <tr>\n",
       "      <th>4</th>\n",
       "      <td>9742356831</td>\n",
       "      <td>Mae Ploy Green Curry Paste, 14 oz</td>\n",
       "      <td>['Grocery &amp; Gourmet Food', 'Sauces, Gravies &amp; ...</td>\n",
       "      <td>A3IB4CQ2QEJLJ8</td>\n",
       "      <td>5.0</td>\n",
       "      <td>So many flavors. I can't begin to tell you how...</td>\n",
       "      <td>04 27, 2014</td>\n",
       "      <td>554</td>\n",
       "      <td>112</td>\n",
       "      <td>flavor begin tell love mae ploy curry ask reci...</td>\n",
       "    </tr>\n",
       "  </tbody>\n",
       "</table>\n",
       "</div>"
      ],
      "text/plain": [
       "         asin                              title  \\\n",
       "0  9742356831  Mae Ploy Green Curry Paste, 14 oz   \n",
       "1  9742356831  Mae Ploy Green Curry Paste, 14 oz   \n",
       "2  9742356831  Mae Ploy Green Curry Paste, 14 oz   \n",
       "3  9742356831  Mae Ploy Green Curry Paste, 14 oz   \n",
       "4  9742356831  Mae Ploy Green Curry Paste, 14 oz   \n",
       "\n",
       "                                          categories      reviewerID  overall  \\\n",
       "0  ['Grocery & Gourmet Food', 'Sauces, Gravies & ...  A23RYWDS884TUL      5.0   \n",
       "1  ['Grocery & Gourmet Food', 'Sauces, Gravies & ...   A945RBQWGZXCK      5.0   \n",
       "2  ['Grocery & Gourmet Food', 'Sauces, Gravies & ...  A1TCSC0YWT82Q0      5.0   \n",
       "3  ['Grocery & Gourmet Food', 'Sauces, Gravies & ...  A3AMNY44OP8AOU      4.0   \n",
       "4  ['Grocery & Gourmet Food', 'Sauces, Gravies & ...  A3IB4CQ2QEJLJ8      5.0   \n",
       "\n",
       "                                          reviewText   reviewTime  \\\n",
       "0  This curry paste makes a delicious curry.  I j...  05 28, 2013   \n",
       "1  I've purchased different curries in the grocer...  09 17, 2012   \n",
       "2  I love ethnic foods and to cook them. I recent...   08 3, 2013   \n",
       "3  I started a new diet restricting all added sug...  01 23, 2014   \n",
       "4  So many flavors. I can't begin to tell you how...  04 27, 2014   \n",
       "\n",
       "   reviewCharLength  reviewWordLength  \\\n",
       "0               209                36   \n",
       "1               314                57   \n",
       "2               510                98   \n",
       "3               272                52   \n",
       "4               554               112   \n",
       "\n",
       "                                 processedReviewText  \n",
       "0  curry paste delicious curry fry chicken vegeta...  \n",
       "1  purchase different curry grocery store complet...  \n",
       "2  love ethnic food cook recently purchase produc...  \n",
       "3  start new diet restrict added sugar brand suga...  \n",
       "4  flavor begin tell love mae ploy curry ask reci...  "
      ]
     },
     "execution_count": 37,
     "metadata": {},
     "output_type": "execute_result"
    }
   ],
   "source": [
    "products.head()"
   ]
  },
  {
   "cell_type": "code",
   "execution_count": 38,
   "id": "58892cab",
   "metadata": {},
   "outputs": [],
   "source": [
    "products[\"processedReviewWordLength\"] = products[\"processedReviewText\"].apply(lambda x: len(x.split()))"
   ]
  },
  {
   "cell_type": "code",
   "execution_count": 39,
   "id": "867cc4e6",
   "metadata": {},
   "outputs": [],
   "source": [
    "def plot_distributions(df, cols=['reviewWordLength', 'processedReviewWordLength']):\n",
    "    fig, axes = plt.subplots(1, 2, figsize=(15, 8), sharey=True)\n",
    "    fig.suptitle(f\"Comparison of Review Words Distribution Before and After Pre-processing\", y=0.925, verticalalignment='bottom')\n",
    "    for idx, col in enumerate(cols):\n",
    "        ax = sns.histplot(df[col], ax=axes[idx], bins=100, binwidth=10)\n",
    "        ax.set_xlim(0,500)\n",
    "    \n",
    "    plt.savefig(f\"reports/figures/review_words_distribution.png\", dpi=150)\n",
    "    plt.show()"
   ]
  },
  {
   "cell_type": "code",
   "execution_count": 40,
   "id": "d432696c",
   "metadata": {},
   "outputs": [
    {
     "data": {
      "image/png": "[encoded data removed]",
      "text/plain": [
       "<Figure size 1080x576 with 2 Axes>"
      ]
     },
     "metadata": {
      "needs_background": "light"
     },
     "output_type": "display_data"
    }
   ],
   "source": [
    "plot_distributions(products)"
   ]
  },
  {
   "cell_type": "code",
   "execution_count": 41,
   "id": "372d2255",
   "metadata": {},
   "outputs": [
    {
     "data": {
      "text/html": [
       "<div>\n",
       "<style scoped>\n",
       "    .dataframe tbody tr th:only-of-type {\n",
       "        vertical-align: middle;\n",
       "    }\n",
       "\n",
       "    .dataframe tbody tr th {\n",
       "        vertical-align: top;\n",
       "    }\n",
       "\n",
       "    .dataframe thead th {\n",
       "        text-align: right;\n",
       "    }\n",
       "</style>\n",
       "<table border=\"1\" class=\"dataframe\">\n",
       "  <thead>\n",
       "    <tr style=\"text-align: right;\">\n",
       "      <th></th>\n",
       "      <th>asin</th>\n",
       "      <th>title</th>\n",
       "      <th>categories</th>\n",
       "      <th>reviewerID</th>\n",
       "      <th>overall</th>\n",
       "      <th>reviewText</th>\n",
       "      <th>reviewTime</th>\n",
       "      <th>reviewCharLength</th>\n",
       "      <th>reviewWordLength</th>\n",
       "      <th>processedReviewText</th>\n",
       "      <th>processedReviewWordLength</th>\n",
       "    </tr>\n",
       "  </thead>\n",
       "  <tbody>\n",
       "    <tr>\n",
       "      <th>70387</th>\n",
       "      <td>B0098WV8F2</td>\n",
       "      <td>Bell Plantation PB2 Powdered Peanut Butter and...</td>\n",
       "      <td>['Grocery &amp; Gourmet Food', 'Jams, Jellies &amp; Sw...</td>\n",
       "      <td>A3W1L4XPSAUK0M</td>\n",
       "      <td>5.0</td>\n",
       "      <td>Ok!</td>\n",
       "      <td>07 10, 2014</td>\n",
       "      <td>3</td>\n",
       "      <td>1</td>\n",
       "      <td>ok</td>\n",
       "      <td>1</td>\n",
       "    </tr>\n",
       "    <tr>\n",
       "      <th>19694</th>\n",
       "      <td>B0010UOGWM</td>\n",
       "      <td>SodaStream Diet Ginger Ale Syrup, 500mL</td>\n",
       "      <td>['Grocery &amp; Gourmet Food', 'Beverages', 'Bottl...</td>\n",
       "      <td>A2GJ8E2JIJW08E</td>\n",
       "      <td>3.0</td>\n",
       "      <td>Ok</td>\n",
       "      <td>07 2, 2014</td>\n",
       "      <td>2</td>\n",
       "      <td>1</td>\n",
       "      <td>ok</td>\n",
       "      <td>1</td>\n",
       "    </tr>\n",
       "    <tr>\n",
       "      <th>25670</th>\n",
       "      <td>B001E52YY0</td>\n",
       "      <td>Old Wisconsin Turkey Sausage Snack Bites, 8-O...</td>\n",
       "      <td>['Grocery &amp; Gourmet Food', 'Snack Foods', 'Jer...</td>\n",
       "      <td>A30ZJ9OT34RI8P</td>\n",
       "      <td>3.0</td>\n",
       "      <td>it was ok</td>\n",
       "      <td>07 5, 2014</td>\n",
       "      <td>9</td>\n",
       "      <td>3</td>\n",
       "      <td>ok</td>\n",
       "      <td>1</td>\n",
       "    </tr>\n",
       "    <tr>\n",
       "      <th>72509</th>\n",
       "      <td>B00BFM6OAW</td>\n",
       "      <td>Kind Peanut Butter Dark Chocolate+ Protein, 1....</td>\n",
       "      <td>['Grocery &amp; Gourmet Food', 'Snack Foods']</td>\n",
       "      <td>A3PADOH71NGT71</td>\n",
       "      <td>4.0</td>\n",
       "      <td>this was ok</td>\n",
       "      <td>07 5, 2014</td>\n",
       "      <td>11</td>\n",
       "      <td>3</td>\n",
       "      <td>ok</td>\n",
       "      <td>1</td>\n",
       "    </tr>\n",
       "    <tr>\n",
       "      <th>64751</th>\n",
       "      <td>B006H3BFQM</td>\n",
       "      <td>SeaSnax Seaweed Snk Chptle 5Ct 0.54Oz Seaweed ...</td>\n",
       "      <td>['Grocery &amp; Gourmet Food', 'Snack Foods', 'Sea...</td>\n",
       "      <td>A3CP9LMG5SM5KK</td>\n",
       "      <td>5.0</td>\n",
       "      <td>YUM, but $$$</td>\n",
       "      <td>07 7, 2014</td>\n",
       "      <td>12</td>\n",
       "      <td>3</td>\n",
       "      <td>yum</td>\n",
       "      <td>1</td>\n",
       "    </tr>\n",
       "    <tr>\n",
       "      <th>...</th>\n",
       "      <td>...</td>\n",
       "      <td>...</td>\n",
       "      <td>...</td>\n",
       "      <td>...</td>\n",
       "      <td>...</td>\n",
       "      <td>...</td>\n",
       "      <td>...</td>\n",
       "      <td>...</td>\n",
       "      <td>...</td>\n",
       "      <td>...</td>\n",
       "      <td>...</td>\n",
       "    </tr>\n",
       "    <tr>\n",
       "      <th>47358</th>\n",
       "      <td>B003ULJIP4</td>\n",
       "      <td>Numi Organic Tea Numi's Collection, Assorted F...</td>\n",
       "      <td>['Grocery &amp; Gourmet Food', 'Beverages', 'Coffe...</td>\n",
       "      <td>A3PUQVVX2QGBOP</td>\n",
       "      <td>5.0</td>\n",
       "      <td>Having decided to give coffee a rest for a whi...</td>\n",
       "      <td>01 4, 2014</td>\n",
       "      <td>11308</td>\n",
       "      <td>1985</td>\n",
       "      <td>decide coffee rest tea honest effort decide pu...</td>\n",
       "      <td>914</td>\n",
       "    </tr>\n",
       "    <tr>\n",
       "      <th>7696</th>\n",
       "      <td>B000EMAZPO</td>\n",
       "      <td>Lipton Black Tea, Black Pearl Pure Long Leaf 2...</td>\n",
       "      <td>['Grocery &amp; Gourmet Food', 'Beverages', 'Coffe...</td>\n",
       "      <td>A28P0QPSXBJTN</td>\n",
       "      <td>4.0</td>\n",
       "      <td>Lipton Black Pearl Tea.  Ahhhh.  Now only a bl...</td>\n",
       "      <td>08 18, 2010</td>\n",
       "      <td>10889</td>\n",
       "      <td>1829</td>\n",
       "      <td>lipton black pearl tea ahhhh bloody fool equat...</td>\n",
       "      <td>935</td>\n",
       "    </tr>\n",
       "    <tr>\n",
       "      <th>28343</th>\n",
       "      <td>B001ELL288</td>\n",
       "      <td>Eden Selected Dried Montmorency Cherries, 4-Ou...</td>\n",
       "      <td>['Grocery &amp; Gourmet Food', 'Produce', 'Dried F...</td>\n",
       "      <td>A3RR2P5IS3DGPR</td>\n",
       "      <td>5.0</td>\n",
       "      <td>These Eden Dried Montmorency Cherries are perf...</td>\n",
       "      <td>06 11, 2010</td>\n",
       "      <td>9736</td>\n",
       "      <td>1468</td>\n",
       "      <td>eden dry montmorency cherry perfection delicio...</td>\n",
       "      <td>865</td>\n",
       "    </tr>\n",
       "    <tr>\n",
       "      <th>68282</th>\n",
       "      <td>B007TGO1TY</td>\n",
       "      <td>NECTRESSE Natural No Calorie Sweetener, 140 Se...</td>\n",
       "      <td>['Grocery &amp; Gourmet Food', 'Cooking &amp; Baking',...</td>\n",
       "      <td>A2VW4FYZILSXF2</td>\n",
       "      <td>4.0</td>\n",
       "      <td>PROS:Very nearly like sugarWorks great in cold...</td>\n",
       "      <td>07 15, 2012</td>\n",
       "      <td>12052</td>\n",
       "      <td>1992</td>\n",
       "      <td>pro nearly like sugarworks great cold beverage...</td>\n",
       "      <td>927</td>\n",
       "    </tr>\n",
       "    <tr>\n",
       "      <th>24996</th>\n",
       "      <td>B001DEX99Q</td>\n",
       "      <td>Vitalicious Super Sampler, 2-Ounce Packages (P...</td>\n",
       "      <td>['Grocery &amp; Gourmet Food', 'Breads &amp; Bakery', ...</td>\n",
       "      <td>AJNJNA093JUW0</td>\n",
       "      <td>2.0</td>\n",
       "      <td>I am a sweet-aholic. That's my main downfall w...</td>\n",
       "      <td>10 15, 2009</td>\n",
       "      <td>18801</td>\n",
       "      <td>3368</td>\n",
       "      <td>sweet aholic main downfall come eat healthy po...</td>\n",
       "      <td>1423</td>\n",
       "    </tr>\n",
       "  </tbody>\n",
       "</table>\n",
       "<p>77602 rows × 11 columns</p>\n",
       "</div>"
      ],
      "text/plain": [
       "             asin                                              title  \\\n",
       "70387  B0098WV8F2  Bell Plantation PB2 Powdered Peanut Butter and...   \n",
       "19694  B0010UOGWM            SodaStream Diet Ginger Ale Syrup, 500mL   \n",
       "25670  B001E52YY0   Old Wisconsin Turkey Sausage Snack Bites, 8-O...   \n",
       "72509  B00BFM6OAW  Kind Peanut Butter Dark Chocolate+ Protein, 1....   \n",
       "64751  B006H3BFQM  SeaSnax Seaweed Snk Chptle 5Ct 0.54Oz Seaweed ...   \n",
       "...           ...                                                ...   \n",
       "47358  B003ULJIP4  Numi Organic Tea Numi's Collection, Assorted F...   \n",
       "7696   B000EMAZPO  Lipton Black Tea, Black Pearl Pure Long Leaf 2...   \n",
       "28343  B001ELL288  Eden Selected Dried Montmorency Cherries, 4-Ou...   \n",
       "68282  B007TGO1TY  NECTRESSE Natural No Calorie Sweetener, 140 Se...   \n",
       "24996  B001DEX99Q  Vitalicious Super Sampler, 2-Ounce Packages (P...   \n",
       "\n",
       "                                              categories      reviewerID  \\\n",
       "70387  ['Grocery & Gourmet Food', 'Jams, Jellies & Sw...  A3W1L4XPSAUK0M   \n",
       "19694  ['Grocery & Gourmet Food', 'Beverages', 'Bottl...  A2GJ8E2JIJW08E   \n",
       "25670  ['Grocery & Gourmet Food', 'Snack Foods', 'Jer...  A30ZJ9OT34RI8P   \n",
       "72509          ['Grocery & Gourmet Food', 'Snack Foods']  A3PADOH71NGT71   \n",
       "64751  ['Grocery & Gourmet Food', 'Snack Foods', 'Sea...  A3CP9LMG5SM5KK   \n",
       "...                                                  ...             ...   \n",
       "47358  ['Grocery & Gourmet Food', 'Beverages', 'Coffe...  A3PUQVVX2QGBOP   \n",
       "7696   ['Grocery & Gourmet Food', 'Beverages', 'Coffe...   A28P0QPSXBJTN   \n",
       "28343  ['Grocery & Gourmet Food', 'Produce', 'Dried F...  A3RR2P5IS3DGPR   \n",
       "68282  ['Grocery & Gourmet Food', 'Cooking & Baking',...  A2VW4FYZILSXF2   \n",
       "24996  ['Grocery & Gourmet Food', 'Breads & Bakery', ...   AJNJNA093JUW0   \n",
       "\n",
       "       overall                                         reviewText  \\\n",
       "70387      5.0                                                Ok!   \n",
       "19694      3.0                                                 Ok   \n",
       "25670      3.0                                          it was ok   \n",
       "72509      4.0                                        this was ok   \n",
       "64751      5.0                                       YUM, but $$$   \n",
       "...        ...                                                ...   \n",
       "47358      5.0  Having decided to give coffee a rest for a whi...   \n",
       "7696       4.0  Lipton Black Pearl Tea.  Ahhhh.  Now only a bl...   \n",
       "28343      5.0  These Eden Dried Montmorency Cherries are perf...   \n",
       "68282      4.0  PROS:Very nearly like sugarWorks great in cold...   \n",
       "24996      2.0  I am a sweet-aholic. That's my main downfall w...   \n",
       "\n",
       "        reviewTime  reviewCharLength  reviewWordLength  \\\n",
       "70387  07 10, 2014                 3                 1   \n",
       "19694   07 2, 2014                 2                 1   \n",
       "25670   07 5, 2014                 9                 3   \n",
       "72509   07 5, 2014                11                 3   \n",
       "64751   07 7, 2014                12                 3   \n",
       "...            ...               ...               ...   \n",
       "47358   01 4, 2014             11308              1985   \n",
       "7696   08 18, 2010             10889              1829   \n",
       "28343  06 11, 2010              9736              1468   \n",
       "68282  07 15, 2012             12052              1992   \n",
       "24996  10 15, 2009             18801              3368   \n",
       "\n",
       "                                     processedReviewText  \\\n",
       "70387                                                 ok   \n",
       "19694                                                 ok   \n",
       "25670                                                 ok   \n",
       "72509                                                 ok   \n",
       "64751                                                yum   \n",
       "...                                                  ...   \n",
       "47358  decide coffee rest tea honest effort decide pu...   \n",
       "7696   lipton black pearl tea ahhhh bloody fool equat...   \n",
       "28343  eden dry montmorency cherry perfection delicio...   \n",
       "68282  pro nearly like sugarworks great cold beverage...   \n",
       "24996  sweet aholic main downfall come eat healthy po...   \n",
       "\n",
       "       processedReviewWordLength  \n",
       "70387                          1  \n",
       "19694                          1  \n",
       "25670                          1  \n",
       "72509                          1  \n",
       "64751                          1  \n",
       "...                          ...  \n",
       "47358                        914  \n",
       "7696                         935  \n",
       "28343                        865  \n",
       "68282                        927  \n",
       "24996                       1423  \n",
       "\n",
       "[77602 rows x 11 columns]"
      ]
     },
     "execution_count": 41,
     "metadata": {},
     "output_type": "execute_result"
    }
   ],
   "source": [
    "products.sort_values(by='processedReviewText', ascending=True, key=lambda x: x.str.len())"
   ]
  },
  {
   "cell_type": "code",
   "execution_count": 42,
   "id": "f7d1cf53",
   "metadata": {},
   "outputs": [
    {
     "name": "stdout",
     "output_type": "stream",
     "text": [
      "The number of unique tokens: 43611\n"
     ]
    }
   ],
   "source": [
    "# finding unique tokens for `preprocessedReviewText`\n",
    "concat_tokens = ' '.join(products[\"processedReviewText\"])\n",
    "unique_tokens = len(set(concat_tokens.split()))\n",
    "print(f\"The number of unique tokens: {unique_tokens}\")"
   ]
  },
  {
   "cell_type": "code",
   "execution_count": 48,
   "id": "619ade40",
   "metadata": {},
   "outputs": [
    {
     "name": "stdout",
     "output_type": "stream",
     "text": [
      "The number of unique tokens: 230912\n"
     ]
    }
   ],
   "source": [
    "# finding unique tokens for `reviewText`\n",
    "concat_tokens = ' '.join(products[\"reviewText\"])\n",
    "unique_tokens = len(set(concat_tokens.split()))\n",
    "print(f\"The number of unique tokens: {unique_tokens}\")"
   ]
  },
  {
   "cell_type": "markdown",
   "id": "ed243358",
   "metadata": {},
   "source": [
    "## Misc Test"
   ]
  },
  {
   "cell_type": "code",
   "execution_count": 43,
   "id": "32a37a49",
   "metadata": {},
   "outputs": [
    {
     "name": "stdout",
     "output_type": "stream",
     "text": [
      "This product cleaned my cook top very well. The cleaning pads are easy on/easy off, and can also be used without the handle for those hard to reach areas. I was surprised to see how much gunk the cleaner took off. The cleaning pads come in a resealable pouch of six.Be advised, it doesn't matter what cleaner is used, if there is burnt-on gunk on the cook top, it's going to take some elbow grease to get it off. The handle that is used with the pads helps with heavier cleaning.There's all kinds of cook top cleaners on the market, but for ease and comfort of use, I really like this one.\n"
     ]
    }
   ],
   "source": [
    "review = products_demo.sample(1)['reviewText'].values[0]\n",
    "print(review)"
   ]
  },
  {
   "cell_type": "code",
   "execution_count": 44,
   "id": "f8f68de4",
   "metadata": {},
   "outputs": [
    {
     "name": "stdout",
     "output_type": "stream",
     "text": [
      "This product clean my cook top very well The cleaning pad be easy on/easy off and can also be use without the handle for those hard to reach area I be surprise to see how much gunk the clean take off The cleaning pad come in a resealable pouch of six.Be advise it do n't matter what cleaner be use if there be burnt-on gunk on the cook top it 's go to take some elbow grease to get it off The handle that be use with the pad help with heavy cleaning.There 's all kind of cook top cleaner on the market but for ease and comfort of use I really like this one\n"
     ]
    }
   ],
   "source": [
    "review = lemmatize_with_postags(review)\n",
    "print(review)"
   ]
  },
  {
   "cell_type": "code",
   "execution_count": 45,
   "id": "cdc2e211",
   "metadata": {},
   "outputs": [
    {
     "name": "stdout",
     "output_type": "stream",
     "text": [
      "['this', 'product', 'clean', 'my', 'cook', 'top', 'very', 'well', 'the', 'cleaning', 'pad', 'be', 'easy', 'on', 'easy', 'off', 'and', 'can', 'also', 'be', 'use', 'without', 'the', 'handle', 'for', 'those', 'hard', 'to', 'reach', 'area', 'be', 'surprise', 'to', 'see', 'how', 'much', 'gunk', 'the', 'clean', 'take', 'off', 'the', 'cleaning', 'pad', 'come', 'in', 'resealable', 'pouch', 'of', 'six', 'be', 'advise', 'it', 'do', 'matter', 'what', 'cleaner', 'be', 'use', 'if', 'there', 'be', 'burnt', 'on', 'gunk', 'on', 'the', 'cook', 'top', 'it', 'go', 'to', 'take', 'some', 'elbow', 'grease', 'to', 'get', 'it', 'off', 'the', 'handle', 'that', 'be', 'use', 'with', 'the', 'pad', 'help', 'with', 'heavy', 'cleaning', 'there', 'all', 'kind', 'of', 'cook', 'top', 'cleaner', 'on', 'the', 'market', 'but', 'for', 'ease', 'and', 'comfort', 'of', 'use', 'really', 'like', 'this', 'one']\n"
     ]
    }
   ],
   "source": [
    "review = simple_preprocess(review, deacc=True)\n",
    "print(review)"
   ]
  },
  {
   "cell_type": "code",
   "execution_count": 46,
   "id": "f99242e6",
   "metadata": {},
   "outputs": [
    {
     "name": "stdout",
     "output_type": "stream",
     "text": [
      "product clean cook cleaning pad easy easy use handle hard reach area surprise gunk clean cleaning pad come resealable pouch advise matter cleaner use burnt gunk cook elbow grease handle use pad help heavy cleaning kind cook cleaner market ease comfort use like\n"
     ]
    }
   ],
   "source": [
    "review_gensim = remove_stopwords(\" \".join(review))\n",
    "print(review_gensim)"
   ]
  },
  {
   "cell_type": "code",
   "execution_count": 47,
   "id": "8a70cb7b",
   "metadata": {},
   "outputs": [
    {
     "name": "stdout",
     "output_type": "stream",
     "text": [
      "product clean cook top well cleaning pad easy easy use without handle hard reach area surprise see much gunk clean cleaning pad resealable pouch six advise matter cleaner use burnt gunk cook top go elbow grease get handle use pad help heavy cleaning kind cook top cleaner market ease comfort use really like\n"
     ]
    }
   ],
   "source": [
    "review_nltk = \" \".join([word for word in review if not word in stopwords.words()])\n",
    "print(review_nltk)"
   ]
  },
  {
   "cell_type": "code",
   "execution_count": null,
   "id": "5f0c6b49",
   "metadata": {},
   "outputs": [],
   "source": []
  }
 ],
 "metadata": {
  "kernelspec": {
   "display_name": "Python 3 (ipykernel)",
   "language": "python",
   "name": "python3"
  },
  "language_info": {
   "codemirror_mode": {
    "name": "ipython",
    "version": 3
   },
   "file_extension": ".py",
   "mimetype": "text/x-python",
   "name": "python",
   "nbconvert_exporter": "python",
   "pygments_lexer": "ipython3",
   "version": "3.9.6"
  }
 },
 "nbformat": 4,
 "nbformat_minor": 5
}
