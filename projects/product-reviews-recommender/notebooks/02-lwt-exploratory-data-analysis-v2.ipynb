{
 "cells": [
  {
   "cell_type": "code",
   "execution_count": 1,
   "metadata": {},
   "outputs": [],
   "source": [
    "import numpy as np\n",
    "import matplotlib.pyplot as plt\n",
    "import pandas as pd\n",
    "import re\n",
    "import sys\n",
    "import os\n",
    "\n",
    "# circumvent src import errors\n",
    "sys.path.append(os.path.abspath('..'))\n",
    "\n",
    "from src.data import data\n",
    "from src.features import preprocessing\n",
    "from src.utilities import utilities\n",
    "from pprint import pprint"
   ]
  },
  {
   "cell_type": "markdown",
   "metadata": {},
   "source": [
    "##### Loading the raw dataset"
   ]
  },
  {
   "cell_type": "code",
   "execution_count": 2,
   "metadata": {},
   "outputs": [
    {
     "name": "stderr",
     "output_type": "stream",
     "text": [
      "/Users/jensen/anaconda3/lib/python3.7/site-packages/IPython/core/interactiveshell.py:3057: DtypeWarning: Columns (10) have mixed types.Specify dtype option on import or set low_memory=False.\n",
      "  interactivity=interactivity, compiler=compiler, result=result)\n"
     ]
    },
    {
     "name": "stdout",
     "output_type": "stream",
     "text": [
      "The dataframe consists of 3408421 rows and 12 columns\n",
      "The number of unique reviewerID: 297491\n",
      "The number of unique reviewText: 2645764\n",
      "The number of unique asin: 60175\n"
     ]
    },
    {
     "data": {
      "text/html": [
       "<div>\n",
       "<style scoped>\n",
       "    .dataframe tbody tr th:only-of-type {\n",
       "        vertical-align: middle;\n",
       "    }\n",
       "\n",
       "    .dataframe tbody tr th {\n",
       "        vertical-align: top;\n",
       "    }\n",
       "\n",
       "    .dataframe thead th {\n",
       "        text-align: right;\n",
       "    }\n",
       "</style>\n",
       "<table border=\"1\" class=\"dataframe\">\n",
       "  <thead>\n",
       "    <tr style=\"text-align: right;\">\n",
       "      <th></th>\n",
       "      <th>overall</th>\n",
       "      <th>verified</th>\n",
       "      <th>reviewTime</th>\n",
       "      <th>reviewerID</th>\n",
       "      <th>asin</th>\n",
       "      <th>style</th>\n",
       "      <th>reviewerName</th>\n",
       "      <th>reviewText</th>\n",
       "      <th>summary</th>\n",
       "      <th>unixReviewTime</th>\n",
       "      <th>vote</th>\n",
       "      <th>image</th>\n",
       "    </tr>\n",
       "  </thead>\n",
       "  <tbody>\n",
       "    <tr>\n",
       "      <th>0</th>\n",
       "      <td>5.0</td>\n",
       "      <td>True</td>\n",
       "      <td>11 9, 2012</td>\n",
       "      <td>A2M1CU2IRZG0K9</td>\n",
       "      <td>0005089549</td>\n",
       "      <td>{'Format:': ' VHS Tape'}</td>\n",
       "      <td>Terri</td>\n",
       "      <td>So sorry I didn't purchase this years ago when...</td>\n",
       "      <td>Amazing!</td>\n",
       "      <td>1352419200</td>\n",
       "      <td>NaN</td>\n",
       "      <td>NaN</td>\n",
       "    </tr>\n",
       "    <tr>\n",
       "      <th>1</th>\n",
       "      <td>5.0</td>\n",
       "      <td>True</td>\n",
       "      <td>12 30, 2011</td>\n",
       "      <td>AFTUJYISOFHY6</td>\n",
       "      <td>0005089549</td>\n",
       "      <td>{'Format:': ' VHS Tape'}</td>\n",
       "      <td>Melissa D. Abercrombie</td>\n",
       "      <td>Believe me when I tell you that you will recei...</td>\n",
       "      <td>Great Gospel VHS of the Cathedrals!</td>\n",
       "      <td>1325203200</td>\n",
       "      <td>NaN</td>\n",
       "      <td>NaN</td>\n",
       "    </tr>\n",
       "    <tr>\n",
       "      <th>2</th>\n",
       "      <td>5.0</td>\n",
       "      <td>True</td>\n",
       "      <td>04 21, 2005</td>\n",
       "      <td>A3JVF9Y53BEOGC</td>\n",
       "      <td>000503860X</td>\n",
       "      <td>{'Format:': ' DVD'}</td>\n",
       "      <td>Anthony Thompson</td>\n",
       "      <td>I have seen X live many times, both in the ear...</td>\n",
       "      <td>A great document of a great band</td>\n",
       "      <td>1114041600</td>\n",
       "      <td>11</td>\n",
       "      <td>NaN</td>\n",
       "    </tr>\n",
       "    <tr>\n",
       "      <th>3</th>\n",
       "      <td>5.0</td>\n",
       "      <td>True</td>\n",
       "      <td>04 6, 2005</td>\n",
       "      <td>A12VPEOEZS1KTC</td>\n",
       "      <td>000503860X</td>\n",
       "      <td>{'Format:': ' DVD'}</td>\n",
       "      <td>JadeRain</td>\n",
       "      <td>I was so excited for this!  Finally, a live co...</td>\n",
       "      <td>YES!!  X LIVE!!</td>\n",
       "      <td>1112745600</td>\n",
       "      <td>5</td>\n",
       "      <td>NaN</td>\n",
       "    </tr>\n",
       "    <tr>\n",
       "      <th>4</th>\n",
       "      <td>5.0</td>\n",
       "      <td>True</td>\n",
       "      <td>12 3, 2010</td>\n",
       "      <td>ATLZNVLYKP9AZ</td>\n",
       "      <td>000503860X</td>\n",
       "      <td>{'Format:': ' DVD'}</td>\n",
       "      <td>T. Fisher</td>\n",
       "      <td>X is one of the best punk bands ever. I don't ...</td>\n",
       "      <td>X have still got it</td>\n",
       "      <td>1291334400</td>\n",
       "      <td>5</td>\n",
       "      <td>NaN</td>\n",
       "    </tr>\n",
       "  </tbody>\n",
       "</table>\n",
       "</div>"
      ],
      "text/plain": [
       "   overall  verified   reviewTime      reviewerID        asin  \\\n",
       "0      5.0      True   11 9, 2012  A2M1CU2IRZG0K9  0005089549   \n",
       "1      5.0      True  12 30, 2011   AFTUJYISOFHY6  0005089549   \n",
       "2      5.0      True  04 21, 2005  A3JVF9Y53BEOGC  000503860X   \n",
       "3      5.0      True   04 6, 2005  A12VPEOEZS1KTC  000503860X   \n",
       "4      5.0      True   12 3, 2010   ATLZNVLYKP9AZ  000503860X   \n",
       "\n",
       "                      style            reviewerName  \\\n",
       "0  {'Format:': ' VHS Tape'}                   Terri   \n",
       "1  {'Format:': ' VHS Tape'}  Melissa D. Abercrombie   \n",
       "2       {'Format:': ' DVD'}        Anthony Thompson   \n",
       "3       {'Format:': ' DVD'}                JadeRain   \n",
       "4       {'Format:': ' DVD'}               T. Fisher   \n",
       "\n",
       "                                          reviewText  \\\n",
       "0  So sorry I didn't purchase this years ago when...   \n",
       "1  Believe me when I tell you that you will recei...   \n",
       "2  I have seen X live many times, both in the ear...   \n",
       "3  I was so excited for this!  Finally, a live co...   \n",
       "4  X is one of the best punk bands ever. I don't ...   \n",
       "\n",
       "                               summary  unixReviewTime vote image  \n",
       "0                             Amazing!      1352419200  NaN   NaN  \n",
       "1  Great Gospel VHS of the Cathedrals!      1325203200  NaN   NaN  \n",
       "2     A great document of a great band      1114041600   11   NaN  \n",
       "3                      YES!!  X LIVE!!      1112745600    5   NaN  \n",
       "4                  X have still got it      1291334400    5   NaN  "
      ]
     },
     "execution_count": 2,
     "metadata": {},
     "output_type": "execute_result"
    }
   ],
   "source": [
    "relevant_cols = ['asin', 'overall', 'verified', 'reviewerID', 'reviewText']\n",
    "movies_raw = pd.read_csv(\"../data/raw/Movies_and_TV_5.csv\")\n",
    "# need to drop all null values in reviews\n",
    "movies_raw.dropna(axis=0, subset=['reviewText'], inplace=True)\n",
    "\n",
    "# summary statistics\n",
    "utilities.summary_statistics(movies_raw)\n",
    "movies_raw.head()"
   ]
  },
  {
   "cell_type": "markdown",
   "metadata": {},
   "source": [
    "##### Loading the merged dataset "
   ]
  },
  {
   "cell_type": "code",
   "execution_count": 3,
   "metadata": {},
   "outputs": [
    {
     "name": "stderr",
     "output_type": "stream",
     "text": [
      "/Users/jensen/anaconda3/lib/python3.7/site-packages/IPython/core/interactiveshell.py:3057: DtypeWarning: Columns (18) have mixed types.Specify dtype option on import or set low_memory=False.\n",
      "  interactivity=interactivity, compiler=compiler, result=result)\n"
     ]
    },
    {
     "name": "stdout",
     "output_type": "stream",
     "text": [
      "The dataframe consists of 1672887 rows and 8 columns\n",
      "The number of unique reviewerID: 227647\n",
      "The number of unique reviewText: 1606801\n",
      "The number of unique asin: 59750\n"
     ]
    },
    {
     "data": {
      "text/html": [
       "<div>\n",
       "<style scoped>\n",
       "    .dataframe tbody tr th:only-of-type {\n",
       "        vertical-align: middle;\n",
       "    }\n",
       "\n",
       "    .dataframe tbody tr th {\n",
       "        vertical-align: top;\n",
       "    }\n",
       "\n",
       "    .dataframe thead th {\n",
       "        text-align: right;\n",
       "    }\n",
       "</style>\n",
       "<table border=\"1\" class=\"dataframe\">\n",
       "  <thead>\n",
       "    <tr style=\"text-align: right;\">\n",
       "      <th></th>\n",
       "      <th>description</th>\n",
       "      <th>title</th>\n",
       "      <th>asin</th>\n",
       "      <th>details</th>\n",
       "      <th>overall</th>\n",
       "      <th>verified</th>\n",
       "      <th>reviewerID</th>\n",
       "      <th>reviewText</th>\n",
       "    </tr>\n",
       "  </thead>\n",
       "  <tbody>\n",
       "    <tr>\n",
       "      <th>0</th>\n",
       "      <td>['Barefoot Contessa Volume 2: On these three d...</td>\n",
       "      <td>Barefoot Contessa (with Ina Garten), Entertain...</td>\n",
       "      <td>0000143588</td>\n",
       "      <td>NaN</td>\n",
       "      <td>5.0</td>\n",
       "      <td>True</td>\n",
       "      <td>AVIY68KEPQ5ZD</td>\n",
       "      <td>I am very pleased with the dvd only wish i cou...</td>\n",
       "    </tr>\n",
       "    <tr>\n",
       "      <th>1</th>\n",
       "      <td>['Barefoot Contessa Volume 2: On these three d...</td>\n",
       "      <td>Barefoot Contessa (with Ina Garten), Entertain...</td>\n",
       "      <td>0000143588</td>\n",
       "      <td>NaN</td>\n",
       "      <td>5.0</td>\n",
       "      <td>True</td>\n",
       "      <td>A3MP1M1DWO836V</td>\n",
       "      <td>I love Ina Garten and I was so happy that they...</td>\n",
       "    </tr>\n",
       "    <tr>\n",
       "      <th>2</th>\n",
       "      <td>['Barefoot Contessa Volume 2: On these three d...</td>\n",
       "      <td>Barefoot Contessa (with Ina Garten), Entertain...</td>\n",
       "      <td>0000143588</td>\n",
       "      <td>NaN</td>\n",
       "      <td>5.0</td>\n",
       "      <td>True</td>\n",
       "      <td>A2MSEN5APH6E6L</td>\n",
       "      <td>I cannot say enough good things about this DVD...</td>\n",
       "    </tr>\n",
       "    <tr>\n",
       "      <th>3</th>\n",
       "      <td>['Barefoot Contessa Volume 2: On these three d...</td>\n",
       "      <td>Barefoot Contessa (with Ina Garten), Entertain...</td>\n",
       "      <td>0000143588</td>\n",
       "      <td>NaN</td>\n",
       "      <td>5.0</td>\n",
       "      <td>True</td>\n",
       "      <td>A3MP1M1DWO836V</td>\n",
       "      <td>Great dvd of one of my favorite cooking shows....</td>\n",
       "    </tr>\n",
       "    <tr>\n",
       "      <th>4</th>\n",
       "      <td>['Barefoot Contessa Volume 2: On these three d...</td>\n",
       "      <td>Barefoot Contessa (with Ina Garten), Entertain...</td>\n",
       "      <td>0000143588</td>\n",
       "      <td>NaN</td>\n",
       "      <td>5.0</td>\n",
       "      <td>True</td>\n",
       "      <td>A3MP1M1DWO836V</td>\n",
       "      <td>I wish she would release more DVDs.  These are...</td>\n",
       "    </tr>\n",
       "  </tbody>\n",
       "</table>\n",
       "</div>"
      ],
      "text/plain": [
       "                                         description  \\\n",
       "0  ['Barefoot Contessa Volume 2: On these three d...   \n",
       "1  ['Barefoot Contessa Volume 2: On these three d...   \n",
       "2  ['Barefoot Contessa Volume 2: On these three d...   \n",
       "3  ['Barefoot Contessa Volume 2: On these three d...   \n",
       "4  ['Barefoot Contessa Volume 2: On these three d...   \n",
       "\n",
       "                                               title        asin details  \\\n",
       "0  Barefoot Contessa (with Ina Garten), Entertain...  0000143588     NaN   \n",
       "1  Barefoot Contessa (with Ina Garten), Entertain...  0000143588     NaN   \n",
       "2  Barefoot Contessa (with Ina Garten), Entertain...  0000143588     NaN   \n",
       "3  Barefoot Contessa (with Ina Garten), Entertain...  0000143588     NaN   \n",
       "4  Barefoot Contessa (with Ina Garten), Entertain...  0000143588     NaN   \n",
       "\n",
       "   overall  verified      reviewerID  \\\n",
       "0      5.0      True   AVIY68KEPQ5ZD   \n",
       "1      5.0      True  A3MP1M1DWO836V   \n",
       "2      5.0      True  A2MSEN5APH6E6L   \n",
       "3      5.0      True  A3MP1M1DWO836V   \n",
       "4      5.0      True  A3MP1M1DWO836V   \n",
       "\n",
       "                                          reviewText  \n",
       "0  I am very pleased with the dvd only wish i cou...  \n",
       "1  I love Ina Garten and I was so happy that they...  \n",
       "2  I cannot say enough good things about this DVD...  \n",
       "3  Great dvd of one of my favorite cooking shows....  \n",
       "4  I wish she would release more DVDs.  These are...  "
      ]
     },
     "execution_count": 3,
     "metadata": {},
     "output_type": "execute_result"
    }
   ],
   "source": [
    "relevant_cols = ['title', 'description', 'details', 'asin', 'overall', 'verified', 'reviewerID', 'reviewText']\n",
    "movies_merged = pd.read_csv(\"../data/interim/Movies_and_TV_merged.csv\", usecols=relevant_cols)\n",
    "\n",
    "# summary statistics\n",
    "utilities.summary_statistics(movies_merged)\n",
    "movies_merged.head()"
   ]
  },
  {
   "cell_type": "markdown",
   "metadata": {},
   "source": [
    "##### Creating `Verified` and `Unverified` Split"
   ]
  },
  {
   "cell_type": "code",
   "execution_count": 4,
   "metadata": {},
   "outputs": [
    {
     "name": "stdout",
     "output_type": "stream",
     "text": [
      "Statistics for `Verified` reviews:\n",
      "The dataframe consists of 1053985 rows and 8 columns\n",
      "The number of unique reviewerID: 205872\n",
      "The number of unique reviewText: 1012823\n",
      "The number of unique asin: 57512\n",
      "\n",
      "\n",
      "Statistics for `Unverified` reviews:\n",
      "The dataframe consists of 618902 rows and 8 columns\n",
      "The number of unique reviewerID: 109898\n",
      "The number of unique reviewText: 594194\n",
      "The number of unique asin: 51361\n"
     ]
    }
   ],
   "source": [
    "movies_verified, movies_unverified = data.make_dataset(movies_merged)\n",
    "\n",
    "# summary statistics\n",
    "print(\"Statistics for `Verified` reviews:\")\n",
    "utilities.summary_statistics(movies_verified)\n",
    "print(\"\\n\")\n",
    "print(\"Statistics for `Unverified` reviews:\")\n",
    "utilities.summary_statistics(movies_unverified)"
   ]
  },
  {
   "cell_type": "markdown",
   "metadata": {},
   "source": [
    "##### Loading product metadata"
   ]
  },
  {
   "cell_type": "code",
   "execution_count": 5,
   "metadata": {},
   "outputs": [
    {
     "name": "stdout",
     "output_type": "stream",
     "text": [
      "The dataframe consists of 181839 rows and 4 columns\n",
      "The number of unique asin: 181839\n"
     ]
    },
    {
     "data": {
      "text/html": [
       "<div>\n",
       "<style scoped>\n",
       "    .dataframe tbody tr th:only-of-type {\n",
       "        vertical-align: middle;\n",
       "    }\n",
       "\n",
       "    .dataframe tbody tr th {\n",
       "        vertical-align: top;\n",
       "    }\n",
       "\n",
       "    .dataframe thead th {\n",
       "        text-align: right;\n",
       "    }\n",
       "</style>\n",
       "<table border=\"1\" class=\"dataframe\">\n",
       "  <thead>\n",
       "    <tr style=\"text-align: right;\">\n",
       "      <th></th>\n",
       "      <th>description</th>\n",
       "      <th>title</th>\n",
       "      <th>price</th>\n",
       "      <th>asin</th>\n",
       "    </tr>\n",
       "  </thead>\n",
       "  <tbody>\n",
       "    <tr>\n",
       "      <th>0</th>\n",
       "      <td>[]</td>\n",
       "      <td>Understanding Seizures and Epilepsy</td>\n",
       "      <td>NaN</td>\n",
       "      <td>0000695009</td>\n",
       "    </tr>\n",
       "    <tr>\n",
       "      <th>1</th>\n",
       "      <td>[]</td>\n",
       "      <td>Spirit Led&amp;mdash;Moving By Grace In The Holy S...</td>\n",
       "      <td>NaN</td>\n",
       "      <td>0000791156</td>\n",
       "    </tr>\n",
       "    <tr>\n",
       "      <th>2</th>\n",
       "      <td>['Disc 1: Flour Power (Scones; Shortcakes; Sou...</td>\n",
       "      <td>My Fair Pastry (Good Eats Vol. 9)</td>\n",
       "      <td>NaN</td>\n",
       "      <td>0000143529</td>\n",
       "    </tr>\n",
       "    <tr>\n",
       "      <th>3</th>\n",
       "      <td>['Barefoot Contessa Volume 2: On these three d...</td>\n",
       "      <td>Barefoot Contessa (with Ina Garten), Entertain...</td>\n",
       "      <td>$74.95</td>\n",
       "      <td>0000143588</td>\n",
       "    </tr>\n",
       "    <tr>\n",
       "      <th>4</th>\n",
       "      <td>['Rise and Swine (Good Eats Vol. 7) includes b...</td>\n",
       "      <td>Rise and Swine (Good Eats Vol. 7)</td>\n",
       "      <td>NaN</td>\n",
       "      <td>0000143502</td>\n",
       "    </tr>\n",
       "  </tbody>\n",
       "</table>\n",
       "</div>"
      ],
      "text/plain": [
       "                                         description  \\\n",
       "0                                                 []   \n",
       "1                                                 []   \n",
       "2  ['Disc 1: Flour Power (Scones; Shortcakes; Sou...   \n",
       "3  ['Barefoot Contessa Volume 2: On these three d...   \n",
       "4  ['Rise and Swine (Good Eats Vol. 7) includes b...   \n",
       "\n",
       "                                               title   price        asin  \n",
       "0                Understanding Seizures and Epilepsy     NaN  0000695009  \n",
       "1  Spirit Led&mdash;Moving By Grace In The Holy S...     NaN  0000791156  \n",
       "2                  My Fair Pastry (Good Eats Vol. 9)     NaN  0000143529  \n",
       "3  Barefoot Contessa (with Ina Garten), Entertain...  $74.95  0000143588  \n",
       "4                  Rise and Swine (Good Eats Vol. 7)     NaN  0000143502  "
      ]
     },
     "execution_count": 5,
     "metadata": {},
     "output_type": "execute_result"
    }
   ],
   "source": [
    "movies_metadata = pd.read_csv(\"../data/interim/meta_Movies_and_TV.csv\", usecols=['title', 'description', 'asin', 'price'])\n",
    "\n",
    "# summary statistics\n",
    "utilities.summary_statistics(movies_metadata, cols=['asin'])\n",
    "movies_metadata.head()"
   ]
  },
  {
   "cell_type": "markdown",
   "metadata": {},
   "source": [
    "### 1. Exploratory Data Analysis"
   ]
  },
  {
   "cell_type": "markdown",
   "metadata": {},
   "source": [
    "##### What is the global average rating, per product, per reviewer?"
   ]
  },
  {
   "cell_type": "code",
   "execution_count": 6,
   "metadata": {},
   "outputs": [],
   "source": [
    "reviews_df = [movies_raw, movies_merged, movies_verified, movies_unverified]"
   ]
  },
  {
   "cell_type": "code",
   "execution_count": 7,
   "metadata": {},
   "outputs": [
    {
     "name": "stdout",
     "output_type": "stream",
     "text": [
      "==========\n",
      "Global average ratings: 4.221144042945399\n",
      "For product reviews:\n",
      "Minimum reviews for product: 1, Maximum reviews for products: 7189\n",
      "Average reviews per products: 56.64181138346489\n",
      "The interquartile range:\n",
      "0.25     8.0\n",
      "0.50    16.0\n",
      "0.75    40.0\n",
      "Name: reviewText, dtype: float64\n",
      "\n",
      "For user reviews:\n",
      "Minimum reviews for users: 1, Maximum reviews for users: 3509\n",
      "Average reviews per users: 11.457223916017627\n",
      "The interquartile range:\n",
      "0.25     5.0\n",
      "0.50     7.0\n",
      "0.75    11.0\n",
      "Name: reviewText, dtype: float64\n",
      "\n",
      "==========\n",
      "Global average ratings: 4.095759008229486\n",
      "For product reviews:\n",
      "Minimum reviews for product: 1, Maximum reviews for products: 3040\n",
      "Average reviews per products: 27.998108786610878\n",
      "The interquartile range:\n",
      "0.25     5.0\n",
      "0.50     9.0\n",
      "0.75    21.0\n",
      "Name: reviewText, dtype: float64\n",
      "\n",
      "For user reviews:\n",
      "Minimum reviews for users: 1, Maximum reviews for users: 1972\n",
      "Average reviews per users: 7.348601123669541\n",
      "The interquartile range:\n",
      "0.25    3.0\n",
      "0.50    5.0\n",
      "0.75    7.0\n",
      "Name: reviewText, dtype: float64\n",
      "\n",
      "==========\n",
      "Global average ratings: 4.240931322552028\n",
      "For product reviews:\n",
      "Minimum reviews for product: 1, Maximum reviews for products: 2415\n",
      "Average reviews per products: 18.326349283627763\n",
      "The interquartile range:\n",
      "0.25     3.0\n",
      "0.50     6.0\n",
      "0.75    14.0\n",
      "Name: reviewText, dtype: float64\n",
      "\n",
      "For user reviews:\n",
      "Minimum reviews for users: 1, Maximum reviews for users: 731\n",
      "Average reviews per users: 5.119613157690215\n",
      "The interquartile range:\n",
      "0.25    2.0\n",
      "0.50    4.0\n",
      "0.75    6.0\n",
      "Name: reviewText, dtype: float64\n",
      "\n",
      "==========\n",
      "Global average ratings: 3.8485317546235107\n",
      "For product reviews:\n",
      "Minimum reviews for product: 1, Maximum reviews for products: 1367\n",
      "Average reviews per products: 12.050037966550496\n",
      "The interquartile range:\n",
      "0.25    2.0\n",
      "0.50    4.0\n",
      "0.75    9.0\n",
      "Name: reviewText, dtype: float64\n",
      "\n",
      "For user reviews:\n",
      "Minimum reviews for users: 1, Maximum reviews for users: 1906\n",
      "Average reviews per users: 5.63160385084351\n",
      "The interquartile range:\n",
      "0.25    1.0\n",
      "0.50    3.0\n",
      "0.75    5.0\n",
      "Name: reviewText, dtype: float64\n",
      "\n"
     ]
    }
   ],
   "source": [
    "for df in reviews_df:\n",
    "    utilities.reviews_count(df)"
   ]
  },
  {
   "cell_type": "markdown",
   "metadata": {},
   "source": [
    "##### Computing average rating per product"
   ]
  },
  {
   "cell_type": "code",
   "execution_count": 8,
   "metadata": {},
   "outputs": [
    {
     "name": "stdout",
     "output_type": "stream",
     "text": [
      "4\n"
     ]
    }
   ],
   "source": [
    "prod_ratings = []\n",
    "\n",
    "for df in reviews_df:\n",
    "    ratings = preprocessing.compute_mean_ratings(df, 'reviewText', 'overall')\n",
    "    prod_ratings.append(ratings)\n",
    "    \n",
    "print(len(prod_ratings))"
   ]
  },
  {
   "cell_type": "code",
   "execution_count": 9,
   "metadata": {},
   "outputs": [],
   "source": [
    "prod_ratings_raw, prod_ratings_merged, prod_ratings_verified, prod_ratings_unverified = prod_ratings"
   ]
  },
  {
   "cell_type": "code",
   "execution_count": 51,
   "metadata": {},
   "outputs": [
    {
     "name": "stdout",
     "output_type": "stream",
     "text": [
      "==========\n",
      "Average of average ratings: 4.131229554799301\n",
      "             asin  rating_counts  rating_average  rating_weighted\n",
      "0      0000143588              5             5.0         4.227760\n",
      "28158  B000WH5AW4              6             5.0         4.244547\n",
      "28175  B000WM8IGY              1             5.0         4.152419\n",
      "50956  B00FBRCY06             12             5.0         4.331715\n",
      "39616  B004D2GMSU             11             5.0         4.318611\n",
      "39609  B004CZZZVS              5             5.0         4.227760\n",
      "39592  B004CZZYZ0              5             5.0         4.227760\n",
      "39584  B004CZRDWC              5             5.0         4.227760\n",
      "39573  B004CYVZ22              5             5.0         4.227760\n",
      "15463  B0000EMYBQ              8             5.0         4.276025\n",
      "\n",
      "\n",
      "==========\n",
      "Average of average ratings: 4.031798135812332\n",
      "             asin  rating_counts  rating_average  rating_weighted\n",
      "0      0000143588              5             5.0         4.217991\n",
      "40583  B004WKRQTM              5             5.0         4.217991\n",
      "4111   6303335306              3             5.0         4.152823\n",
      "40590  B004WO6HT8             11             5.0         4.364618\n",
      "40592  B004WO9OMA              8             5.0         4.298888\n",
      "8042   6305861714              3             5.0         4.152823\n",
      "40607  B004WSA4AC              3             5.0         4.152823\n",
      "8043   6305861749              4             5.0         4.186710\n",
      "18500  B0007SL1NU              4             5.0         4.186710\n",
      "18493  B0007RO8MW              6             5.0         4.246954\n",
      "\n",
      "\n",
      "==========\n",
      "Average of average ratings: 4.140360592945858\n",
      "             asin  rating_counts  rating_average  rating_weighted\n",
      "0      0000143588              5             5.0         4.366581\n",
      "25986  B000TGI7B4              1             5.0         4.197670\n",
      "26015  B000TI85VY              2             5.0         4.247816\n",
      "26003  B000TGKW5I              3             5.0         4.292062\n",
      "26000  B000TGJ8DA              1             5.0         4.197670\n",
      "25995  B000TGJ88A             13             5.0         4.554261\n",
      "6013   6304498349              2             5.0         4.247816\n",
      "6014   6304498934             18             5.0         4.623908\n",
      "25974  B000TEUSLI              2             5.0         4.247816\n",
      "5988   6304481764              1             5.0         4.197670\n",
      "\n",
      "\n",
      "==========\n",
      "Average of average ratings: 3.8614288182520653\n",
      "             asin  rating_counts  rating_average  rating_weighted\n",
      "25680  B000V9KEQA              1             5.0         3.975286\n",
      "33720  B0037TVOD8              1             5.0         3.975286\n",
      "9980   B000056B0H              1             5.0         3.975286\n",
      "33738  B00386OX74              1             5.0         3.975286\n",
      "33736  B00386F0D0              1             5.0         3.975286\n",
      "9989   B000056C0H              4             5.0         4.211758\n",
      "9992   B000056C0P              2             5.0         4.068442\n",
      "33735  B00386EZUY              1             5.0         3.975286\n",
      "33728  B0037Z96BO              2             5.0         4.068442\n",
      "33725  B0037X5BU6              1             5.0         3.975286\n",
      "\n",
      "\n"
     ]
    }
   ],
   "source": [
    "for rating in prod_ratings:\n",
    "    print(\"==========\")\n",
    "    print(f\"Average of average ratings: {rating['rating_average'].mean()}\")\n",
    "    print(rating.sort_values(['rating_average'], ascending=False).head(10))\n",
    "    print(\"\\n\")"
   ]
  },
  {
   "cell_type": "markdown",
   "metadata": {},
   "source": [
    "Based on the output, you observed that for all the Top 10 product average ratings obtained across all 4 different variation of the dataset, all 4 dataframe has shown that the top 10 products (with 5.0 ratings) are all products with little reviews (< 50).\n",
    "\n",
    "Consider this, if we were to recommend such products to others soley because the fact that they obtained an average rating of 5.0, we may be \"*inaccurately*\" recommending such items as they might just be relative new items that has not been thorough ordered and used by the wider consumer base on the platform.\n",
    "\n",
    "Hence, we will need devised a rating that is more concrete and can factor in a threshold amount of ratings required for a product to get listed on the `product ranking`. This provides a more balance look to the ratings of a product as we now consider the global settings."
   ]
  },
  {
   "cell_type": "code",
   "execution_count": 11,
   "metadata": {},
   "outputs": [],
   "source": [
    "def compute_weighted_ratings(df, count_col, avg_rating_col, threshold=.75):\n",
    "    \"\"\"Computes weighted ratings based on number of ratings and average rating.\n",
    "\n",
    "        Args:\n",
    "            df [pd.DataFrame]: DataFrame consisting both rating counts and average rating.\n",
    "            count_col [str]: Column name for number of ratings.\n",
    "            avg_rating_col [str]: Column name for average rating.\n",
    "            threshold [float]: Threshold for minimum of ratings/reviews to qualify for ranking.\n",
    "        Returns:\n",
    "            df [pd.DataFrame]: DataFrame with newly computed weighted ratings\n",
    "    \"\"\"\n",
    "\n",
    "    m = df[count_col].quantile(threshold)\n",
    "    C = df[avg_rating_col].mean()    # global average rating\n",
    "\n",
    "    df['rating_weighted'] = (df.apply(lambda x: ((x[count_col]/(x[count_col] + m)\n",
    "                                                  * x[avg_rating_col])\n",
    "                                                 + (m/(m + x[count_col]) * C)), axis=1)\n",
    "                            )\n",
    "\n",
    "    return df"
   ]
  },
  {
   "cell_type": "code",
   "execution_count": 34,
   "metadata": {},
   "outputs": [
    {
     "name": "stdout",
     "output_type": "stream",
     "text": [
      "==========\n",
      "Weighted Average Ratings: 4.145024217169458\n",
      "             asin  rating_counts  rating_average  rating_weighted\n",
      "13026  B00006CXSS           5712        4.885679         4.880433\n",
      "57345  B00YSG2ZPA           5748        4.885525         4.880313\n",
      "28597  B000Y5JFNY            720        4.905556         4.864802\n",
      "54502  B00MO21WAY            817        4.888617         4.853266\n",
      "18714  B0007Y08P6            469        4.914712         4.853142\n",
      "17214  B0002NY8PI            992        4.878024         4.849079\n",
      "30218  B00151QYYE            263        4.939163         4.832506\n",
      "168    0782010792           1236        4.851942         4.829349\n",
      "19526  B0009UC7MK            430        4.893023         4.828190\n",
      "46414  B009AF5OY8           1167        4.850900         4.827050\n",
      "\n",
      "\n",
      "==========\n",
      "Weighted Average Ratings: 4.04423394238819\n",
      "             asin  rating_counts  rating_average  rating_weighted\n",
      "12999  B00006CXSS           2497        4.891069         4.883903\n",
      "56993  B00YSG2ZPA           2515        4.890258         4.883150\n",
      "17172  B0002NY8PI            379        4.865435         4.821669\n",
      "32469  B001FB4VXU            210        4.895238         4.816744\n",
      "48047  B00BIR2A3E            188        4.904255         4.816592\n",
      "26452  B000PMFO3Q            219        4.890411         4.815282\n",
      "25351  B000MQCBSQ            307        4.863192         4.809963\n",
      "45930  B00915G6MG            268        4.869403         4.808539\n",
      "41194  B0053O89WY            330        4.857576         4.808170\n",
      "197    0783225857            536        4.837687         4.807303\n",
      "\n",
      "\n",
      "==========\n",
      "Weighted Average Ratings: 4.162922446688671\n",
      "             asin  rating_counts  rating_average  rating_weighted\n",
      "54856  B00YSG2ZPA           1646        4.900365         4.893955\n",
      "12286  B00006CXSS           1639        4.898719         4.892296\n",
      "1126   6300215695            422        4.890995         4.866892\n",
      "33067  B001UHOWX8            419        4.887828         4.863661\n",
      "192    0783225857            406        4.884236         4.859441\n",
      "30962  B001FB4VXU            183        4.912568         4.857691\n",
      "25400  B000QUEQ86            101        4.950495         4.851870\n",
      "955    6300182304            115        4.930435         4.844690\n",
      "46191  B00BIR2A3E            171        4.900585         4.843054\n",
      "14565  B0000EYV7E            142        4.908451         4.839520\n",
      "\n",
      "\n",
      "==========\n",
      "Weighted Average Ratings: 3.855262512547882\n",
      "             asin  rating_counts  rating_average  rating_weighted\n",
      "12478  B00006CXSS            858        4.876457         4.865920\n",
      "49176  B00YSG2ZPA            869        4.871116         4.860766\n",
      "24533  B000PMFO3Q            204        4.882353         4.839215\n",
      "32006  B0027VST2Q            112        4.910714         4.832668\n",
      "23588  B000MQCBSQ            229        4.851528         4.814088\n",
      "35962  B004MYOYFC            139        4.870504         4.809141\n",
      "33786  B00395ATT0            390        4.828205         4.806398\n",
      "16333  B0002NY8PI            153        4.843137         4.788598\n",
      "40887  B009AF5OY8            260        4.819231         4.787185\n",
      "12436  B00006AUHB             86        4.883721         4.786872\n",
      "\n",
      "\n"
     ]
    }
   ],
   "source": [
    "computed_prod_ratings = []\n",
    "\n",
    "for rating in prod_ratings:\n",
    "    computed_ratings = preprocessing.compute_weighted_ratings(rating, 'rating_counts', 'rating_average')\n",
    "    computed_prod_ratings.append(computed_ratings)\n",
    "    print(\"==========\")\n",
    "    print(f\"Weighted Average Ratings: {computed_ratings['rating_weighted'].mean()}\")\n",
    "    print(computed_ratings.sort_values('rating_weighted', ascending=False).head(10))\n",
    "    print(\"\\n\")"
   ]
  },
  {
   "cell_type": "code",
   "execution_count": 31,
   "metadata": {},
   "outputs": [],
   "source": [
    "def retrieve_product_metadata(asin, metadata):\n",
    "    \"\"\"Retrieve product metadata based on product id (asin).\n",
    "    \"\"\"\n",
    "    prod_details = metadata[metadata['asin'] == asin]\n",
    "    print(f\"ASIN: {asin}, Title: {prod_details['title'].values} is ${prod_details['price'].values}\")"
   ]
  },
  {
   "cell_type": "code",
   "execution_count": 32,
   "metadata": {},
   "outputs": [
    {
     "name": "stdout",
     "output_type": "stream",
     "text": [
      "==========\n",
      "ASIN: B00006CXSS, Title: ['Band Of Brothers (DVD)'] is $[nan]\n",
      "ASIN: B00YSG2ZPA, Title: ['Band of Brothers(Elite SC/BD+DCExp12-21)'] is $['$25.16']\n",
      "ASIN: B000Y5JFNY, Title: ['The Sound of Music'] is $['$74.47']\n",
      "ASIN: B00MO21WAY, Title: ['Masterpiece: Downton Abbey Season 5'] is $['$16.71']\n",
      "ASIN: B0007Y08P6, Title: ['The Andy Griffith Show - The Complete Second Season'] is $['$20.00']\n",
      "\n",
      "\n",
      "==========\n",
      "ASIN: B00006CXSS, Title: ['Band Of Brothers (DVD)'] is $[nan]\n",
      "ASIN: B00YSG2ZPA, Title: ['Band of Brothers(Elite SC/BD+DCExp12-21)'] is $['$25.16']\n",
      "ASIN: B0002NY8PI, Title: ['The Andy Griffith Show - The Complete First Season'] is $['$24.12']\n",
      "ASIN: B001FB4VXU, Title: [' The Big Bang Theory'] is $['$14.59']\n",
      "ASIN: B00BIR2A3E, Title: ['Call the Midwife: Season 2'] is $['$20.09']\n",
      "\n",
      "\n",
      "==========\n",
      "ASIN: B00YSG2ZPA, Title: ['Band of Brothers(Elite SC/BD+DCExp12-21)'] is $['$25.16']\n",
      "ASIN: B00006CXSS, Title: ['Band Of Brothers (DVD)'] is $[nan]\n",
      "ASIN: 6300215695, Title: ['White Christmas VHS'] is $['$9.49']\n",
      "ASIN: B001UHOWX8, Title: ['White Christmas'] is $[nan]\n",
      "ASIN: 0783225857, Title: ['To Kill a Mockingbird'] is $['$17.69']\n",
      "\n",
      "\n",
      "==========\n",
      "ASIN: B00006CXSS, Title: ['Band Of Brothers (DVD)'] is $[nan]\n",
      "ASIN: B00YSG2ZPA, Title: ['Band of Brothers(Elite SC/BD+DCExp12-21)'] is $['$25.16']\n",
      "ASIN: B000PMFO3Q, Title: [\"Foyle's War - Series 3 - Complete 2004\"] is $['$17.68']\n",
      "ASIN: B0027VST2Q, Title: ['The Closer: Season 5'] is $['$26.59']\n",
      "ASIN: B000MQCBSQ, Title: [\"Foyle's War - Series 1 Complete 2002\"] is $['$17.74']\n",
      "\n",
      "\n"
     ]
    }
   ],
   "source": [
    "for rating in computed_prod_ratings:\n",
    "    top_5 = rating.sort_values('rating_weighted', ascending=False).head(5)['asin'].tolist()\n",
    "    print(\"==========\")\n",
    "    for asin in top_5:\n",
    "        retrieve_product_metadata(asin, movies_metadata)\n",
    "    print(\"\\n\")"
   ]
  },
  {
   "cell_type": "markdown",
   "metadata": {},
   "source": [
    "##### What are the statistics on ratings?"
   ]
  },
  {
   "cell_type": "code",
   "execution_count": 67,
   "metadata": {},
   "outputs": [],
   "source": [
    "def rating_summary_statistics(df, cols=['rating_average', 'rating_weighted']):\n",
    "    print(\"==========\")\n",
    "    print(f\"For average of average ratings:\")\n",
    "    print(f\"\\tThe mean ratings per product is: {df['rating_average'].mean():.3f}\")\n",
    "    print(f\"\\tThe median ratings per product is: {df['rating_average'].quantile(.5):.3f}\")\n",
    "    print(f\"\\tThe 25th and 75th percentile of number of reviews is: \"\n",
    "      f\"{df['rating_average'].quantile(.25):.3f} and \"\n",
    "      f\"{df['rating_average'].quantile(.75):.3f} respectively.\")\n",
    "    print(f\"For weighted average ratings:\")\n",
    "    print(f\"\\tThe mean ratings per product is: {df['rating_weighted'].mean():.3f}\")\n",
    "    print(f\"\\tThe median ratings per product is: {df['rating_weighted'].quantile(.5):.3f}\")\n",
    "    print(f\"\\tThe 25th and 75th percentile of number of reviews is: \"\n",
    "      f\"{df['rating_weighted'].quantile(.25):.3f} and \"\n",
    "      f\"{df['rating_weighted'].quantile(.75):.3f} respectively.\")\n",
    "    print(\"\\n\")\n",
    "          \n",
    "def plot_ratings(df, cols=['rating_average', 'rating_weighted']):\n",
    "    fig, axes = plt.subplots(1, 2, figsize=(12,6))\n",
    "    fig.suptitle(\"Average Ratings vs Weighted Ratings\")\n",
    "    for idx, col in enumerate(cols):\n",
    "          df[col].hist(ax=axes[idx])\n",
    "    plt.show()"
   ]
  },
  {
   "cell_type": "code",
   "execution_count": 60,
   "metadata": {},
   "outputs": [
    {
     "name": "stdout",
     "output_type": "stream",
     "text": [
      "==========\n",
      "For average of average ratings:\n",
      "\tThe mean ratings per product is: 4.131\n",
      "\tThe median ratings per product is: 4.293\n",
      "\tThe 25th and 75th percentile of number of reviews is: 3.800 and 4.625 respectively.\n",
      "For weighted average ratings:\n",
      "\tThe mean ratings per product is: 4.145\n",
      "\tThe median ratings per product is: 4.172\n",
      "\tThe 25th and 75th percentile of number of reviews is: 4.048 and 4.270 respectively.\n",
      "\n",
      "\n",
      "==========\n",
      "For average of average ratings:\n",
      "\tThe mean ratings per product is: 4.032\n",
      "\tThe median ratings per product is: 4.200\n",
      "\tThe 25th and 75th percentile of number of reviews is: 3.645 and 4.592 respectively.\n",
      "For weighted average ratings:\n",
      "\tThe mean ratings per product is: 4.044\n",
      "\tThe median ratings per product is: 4.073\n",
      "\tThe 25th and 75th percentile of number of reviews is: 3.922 and 4.189 respectively.\n",
      "\n",
      "\n",
      "==========\n",
      "For average of average ratings:\n",
      "\tThe mean ratings per product is: 4.140\n",
      "\tThe median ratings per product is: 4.333\n",
      "\tThe 25th and 75th percentile of number of reviews is: 3.800 and 4.717 respectively.\n",
      "For weighted average ratings:\n",
      "\tThe mean ratings per product is: 4.163\n",
      "\tThe median ratings per product is: 4.198\n",
      "\tThe 25th and 75th percentile of number of reviews is: 4.054 and 4.303 respectively.\n",
      "\n",
      "\n",
      "==========\n",
      "For average of average ratings:\n",
      "\tThe mean ratings per product is: 3.861\n",
      "\tThe median ratings per product is: 4.000\n",
      "\tThe 25th and 75th percentile of number of reviews is: 3.333 and 4.600 respectively.\n",
      "For weighted average ratings:\n",
      "\tThe mean ratings per product is: 3.855\n",
      "\tThe median ratings per product is: 3.896\n",
      "\tThe 25th and 75th percentile of number of reviews is: 3.705 and 4.058 respectively.\n",
      "\n",
      "\n"
     ]
    }
   ],
   "source": [
    "for rating in computed_prod_ratings:\n",
    "    rating_summary_statistics(rating)"
   ]
  },
  {
   "cell_type": "code",
   "execution_count": 68,
   "metadata": {},
   "outputs": [
    {
     "data": {
      "image/png": "[encoded data removed]",
      "text/plain": [
       "<Figure size 864x432 with 2 Axes>"
      ]
     },
     "metadata": {
      "needs_background": "light"
     },
     "output_type": "display_data"
    },
    {
     "data": {
      "image/png": "[encoded data removed]",
      "text/plain": [
       "<Figure size 864x432 with 2 Axes>"
      ]
     },
     "metadata": {
      "needs_background": "light"
     },
     "output_type": "display_data"
    },
    {
     "data": {
      "image/png": "[encoded data removed]",
      "text/plain": [
       "<Figure size 864x432 with 2 Axes>"
      ]
     },
     "metadata": {
      "needs_background": "light"
     },
     "output_type": "display_data"
    },
    {
     "data": {
      "image/png": "[encoded data removed]",
      "text/plain": [
       "<Figure size 864x432 with 2 Axes>"
      ]
     },
     "metadata": {
      "needs_background": "light"
     },
     "output_type": "display_data"
    }
   ],
   "source": [
    "for rating in computed_prod_ratings:\n",
    "    plot_ratings(rating)"
   ]
  },
  {
   "cell_type": "code",
   "execution_count": null,
   "metadata": {},
   "outputs": [],
   "source": []
  }
 ],
 "metadata": {
  "kernelspec": {
   "display_name": "Python 3",
   "language": "python",
   "name": "python3"
  },
  "language_info": {
   "codemirror_mode": {
    "name": "ipython",
    "version": 3
   },
   "file_extension": ".py",
   "mimetype": "text/x-python",
   "name": "python",
   "nbconvert_exporter": "python",
   "pygments_lexer": "ipython3",
   "version": "3.7.3"
  }
 },
 "nbformat": 4,
 "nbformat_minor": 2
}
