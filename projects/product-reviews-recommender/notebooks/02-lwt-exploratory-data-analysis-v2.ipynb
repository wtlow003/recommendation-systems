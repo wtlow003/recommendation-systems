{
 "cells": [
  {
   "cell_type": "code",
   "execution_count": 1,
   "metadata": {},
   "outputs": [],
   "source": [
    "import numpy as np\n",
    "import matplotlib.pyplot as plt\n",
    "import pandas as pd\n",
    "import re\n",
    "import sys\n",
    "import os\n",
    "\n",
    "# circumvent src import errors\n",
    "sys.path.append(os.path.abspath('..'))\n",
    "\n",
    "from src.data import data\n",
    "from src.features import preprocessing\n",
    "from src.utilities import utilities\n",
    "from pprint import pprint"
   ]
  },
  {
   "cell_type": "markdown",
   "metadata": {},
   "source": [
    "##### Loading the raw dataset"
   ]
  },
  {
   "cell_type": "code",
   "execution_count": 2,
   "metadata": {},
   "outputs": [
    {
     "name": "stderr",
     "output_type": "stream",
     "text": [
      "/Users/jensen/anaconda3/lib/python3.7/site-packages/IPython/core/interactiveshell.py:3057: DtypeWarning: Columns (10) have mixed types.Specify dtype option on import or set low_memory=False.\n",
      "  interactivity=interactivity, compiler=compiler, result=result)\n"
     ]
    },
    {
     "name": "stdout",
     "output_type": "stream",
     "text": [
      "The dataframe consists of 2222573 rows and 12 columns\n",
      "The number of unique reviewerID: 139815\n",
      "The number of unique reviewText: 2114477\n",
      "The number of unique asin: 98824\n"
     ]
    },
    {
     "data": {
      "text/html": [
       "<div>\n",
       "<style scoped>\n",
       "    .dataframe tbody tr th:only-of-type {\n",
       "        vertical-align: middle;\n",
       "    }\n",
       "\n",
       "    .dataframe tbody tr th {\n",
       "        vertical-align: top;\n",
       "    }\n",
       "\n",
       "    .dataframe thead th {\n",
       "        text-align: right;\n",
       "    }\n",
       "</style>\n",
       "<table border=\"1\" class=\"dataframe\">\n",
       "  <thead>\n",
       "    <tr style=\"text-align: right;\">\n",
       "      <th></th>\n",
       "      <th>overall</th>\n",
       "      <th>verified</th>\n",
       "      <th>reviewTime</th>\n",
       "      <th>reviewerID</th>\n",
       "      <th>asin</th>\n",
       "      <th>style</th>\n",
       "      <th>reviewerName</th>\n",
       "      <th>reviewText</th>\n",
       "      <th>summary</th>\n",
       "      <th>unixReviewTime</th>\n",
       "      <th>vote</th>\n",
       "      <th>image</th>\n",
       "    </tr>\n",
       "  </thead>\n",
       "  <tbody>\n",
       "    <tr>\n",
       "      <th>0</th>\n",
       "      <td>4.0</td>\n",
       "      <td>True</td>\n",
       "      <td>07 3, 2014</td>\n",
       "      <td>A2LSKD2H9U8N0J</td>\n",
       "      <td>B000FA5KK0</td>\n",
       "      <td>{'Format:': ' Kindle Edition'}</td>\n",
       "      <td>sandra sue marsolek</td>\n",
       "      <td>pretty good story, a little exaggerated, but I...</td>\n",
       "      <td>pretty good story</td>\n",
       "      <td>1404345600</td>\n",
       "      <td>NaN</td>\n",
       "      <td>NaN</td>\n",
       "    </tr>\n",
       "    <tr>\n",
       "      <th>1</th>\n",
       "      <td>5.0</td>\n",
       "      <td>True</td>\n",
       "      <td>05 26, 2014</td>\n",
       "      <td>A2QP13XTJND1QS</td>\n",
       "      <td>B000FA5KK0</td>\n",
       "      <td>{'Format:': ' Kindle Edition'}</td>\n",
       "      <td>Tpl</td>\n",
       "      <td>If you've read other max brand westerns, you k...</td>\n",
       "      <td>A very good book</td>\n",
       "      <td>1401062400</td>\n",
       "      <td>NaN</td>\n",
       "      <td>NaN</td>\n",
       "    </tr>\n",
       "    <tr>\n",
       "      <th>2</th>\n",
       "      <td>5.0</td>\n",
       "      <td>True</td>\n",
       "      <td>09 16, 2016</td>\n",
       "      <td>A8WQ7MAG3HFOZ</td>\n",
       "      <td>B000FA5KK0</td>\n",
       "      <td>{'Format:': ' Kindle Edition'}</td>\n",
       "      <td>Alverne F. Anderson</td>\n",
       "      <td>Love Max, always a fun twist</td>\n",
       "      <td>Five Stars</td>\n",
       "      <td>1473984000</td>\n",
       "      <td>NaN</td>\n",
       "      <td>NaN</td>\n",
       "    </tr>\n",
       "    <tr>\n",
       "      <th>3</th>\n",
       "      <td>5.0</td>\n",
       "      <td>True</td>\n",
       "      <td>03 3, 2016</td>\n",
       "      <td>A1E0MODSRYP7O</td>\n",
       "      <td>B000FA5KK0</td>\n",
       "      <td>{'Format:': ' Kindle Edition'}</td>\n",
       "      <td>Jeff</td>\n",
       "      <td>As usual for him, a good book</td>\n",
       "      <td>a good</td>\n",
       "      <td>1456963200</td>\n",
       "      <td>NaN</td>\n",
       "      <td>NaN</td>\n",
       "    </tr>\n",
       "    <tr>\n",
       "      <th>4</th>\n",
       "      <td>5.0</td>\n",
       "      <td>True</td>\n",
       "      <td>09 10, 2015</td>\n",
       "      <td>AYUTCGVSM1H7T</td>\n",
       "      <td>B000FA5KK0</td>\n",
       "      <td>{'Format:': ' Kindle Edition'}</td>\n",
       "      <td>DEHS - EddyRapcon</td>\n",
       "      <td>MB is one of the original western writers and ...</td>\n",
       "      <td>A Western</td>\n",
       "      <td>1441843200</td>\n",
       "      <td>2</td>\n",
       "      <td>NaN</td>\n",
       "    </tr>\n",
       "  </tbody>\n",
       "</table>\n",
       "</div>"
      ],
      "text/plain": [
       "   overall  verified   reviewTime      reviewerID        asin  \\\n",
       "0      4.0      True   07 3, 2014  A2LSKD2H9U8N0J  B000FA5KK0   \n",
       "1      5.0      True  05 26, 2014  A2QP13XTJND1QS  B000FA5KK0   \n",
       "2      5.0      True  09 16, 2016   A8WQ7MAG3HFOZ  B000FA5KK0   \n",
       "3      5.0      True   03 3, 2016   A1E0MODSRYP7O  B000FA5KK0   \n",
       "4      5.0      True  09 10, 2015   AYUTCGVSM1H7T  B000FA5KK0   \n",
       "\n",
       "                            style         reviewerName  \\\n",
       "0  {'Format:': ' Kindle Edition'}  sandra sue marsolek   \n",
       "1  {'Format:': ' Kindle Edition'}                  Tpl   \n",
       "2  {'Format:': ' Kindle Edition'}  Alverne F. Anderson   \n",
       "3  {'Format:': ' Kindle Edition'}                 Jeff   \n",
       "4  {'Format:': ' Kindle Edition'}    DEHS - EddyRapcon   \n",
       "\n",
       "                                          reviewText            summary  \\\n",
       "0  pretty good story, a little exaggerated, but I...  pretty good story   \n",
       "1  If you've read other max brand westerns, you k...   A very good book   \n",
       "2                       Love Max, always a fun twist         Five Stars   \n",
       "3                      As usual for him, a good book             a good   \n",
       "4  MB is one of the original western writers and ...          A Western   \n",
       "\n",
       "   unixReviewTime vote image  \n",
       "0      1404345600  NaN   NaN  \n",
       "1      1401062400  NaN   NaN  \n",
       "2      1473984000  NaN   NaN  \n",
       "3      1456963200  NaN   NaN  \n",
       "4      1441843200    2   NaN  "
      ]
     },
     "execution_count": 2,
     "metadata": {},
     "output_type": "execute_result"
    }
   ],
   "source": [
    "relevant_cols = ['asin', 'overall', 'verified', 'reviewerID', 'reviewText']\n",
    "prod_raw = pd.read_csv(\"../data/raw/Kindle_Store_5.csv\")\n",
    "# need to drop all null values in reviews\n",
    "prod_raw.dropna(axis=0, subset=['reviewText'], inplace=True)\n",
    "\n",
    "# summary statistics\n",
    "utilities.summary_statistics(prod_raw)\n",
    "prod_raw.head()"
   ]
  },
  {
   "cell_type": "markdown",
   "metadata": {},
   "source": [
    "##### Loading the merged dataset "
   ]
  },
  {
   "cell_type": "code",
   "execution_count": 3,
   "metadata": {},
   "outputs": [
    {
     "name": "stdout",
     "output_type": "stream",
     "text": [
      "The dataframe consists of 1846590 rows and 8 columns\n",
      "The number of unique reviewerID: 130008\n",
      "The number of unique reviewText: 1843681\n",
      "The number of unique asin: 98059\n"
     ]
    },
    {
     "data": {
      "text/html": [
       "<div>\n",
       "<style scoped>\n",
       "    .dataframe tbody tr th:only-of-type {\n",
       "        vertical-align: middle;\n",
       "    }\n",
       "\n",
       "    .dataframe tbody tr th {\n",
       "        vertical-align: top;\n",
       "    }\n",
       "\n",
       "    .dataframe thead th {\n",
       "        text-align: right;\n",
       "    }\n",
       "</style>\n",
       "<table border=\"1\" class=\"dataframe\">\n",
       "  <thead>\n",
       "    <tr style=\"text-align: right;\">\n",
       "      <th></th>\n",
       "      <th>description</th>\n",
       "      <th>title</th>\n",
       "      <th>details</th>\n",
       "      <th>asin</th>\n",
       "      <th>overall</th>\n",
       "      <th>verified</th>\n",
       "      <th>reviewerID</th>\n",
       "      <th>reviewText</th>\n",
       "    </tr>\n",
       "  </thead>\n",
       "  <tbody>\n",
       "    <tr>\n",
       "      <th>0</th>\n",
       "      <td>[]</td>\n",
       "      <td>Brother One Cell</td>\n",
       "      <td>{'File Size:': '766 KB', 'Print Length:': '368...</td>\n",
       "      <td>B0012DHDVS</td>\n",
       "      <td>5.0</td>\n",
       "      <td>False</td>\n",
       "      <td>A230ZS8F6I0AGM</td>\n",
       "      <td>I've learned so much from Cullen, for example:...</td>\n",
       "    </tr>\n",
       "    <tr>\n",
       "      <th>1</th>\n",
       "      <td>[]</td>\n",
       "      <td>God in the White House</td>\n",
       "      <td>{'File Size:': '605 KB', 'Print Length:': '260...</td>\n",
       "      <td>B0012GTZCK</td>\n",
       "      <td>3.0</td>\n",
       "      <td>True</td>\n",
       "      <td>A2DMROV9MIMSDU</td>\n",
       "      <td>Not what I was expecting. I was looking for a ...</td>\n",
       "    </tr>\n",
       "    <tr>\n",
       "      <th>2</th>\n",
       "      <td>[]</td>\n",
       "      <td>God in the White House</td>\n",
       "      <td>{'File Size:': '605 KB', 'Print Length:': '260...</td>\n",
       "      <td>B0012GTZCK</td>\n",
       "      <td>5.0</td>\n",
       "      <td>True</td>\n",
       "      <td>ARZXHYT2EH1V0</td>\n",
       "      <td>This short book reveals realities vital to the...</td>\n",
       "    </tr>\n",
       "    <tr>\n",
       "      <th>3</th>\n",
       "      <td>[]</td>\n",
       "      <td>Vingt Mille Lieues sous les mers (French Editi...</td>\n",
       "      <td>{'File Size:': '1097 KB', 'Print Length:': '60...</td>\n",
       "      <td>B0012LHGJ4</td>\n",
       "      <td>5.0</td>\n",
       "      <td>True</td>\n",
       "      <td>AYKIGSPZ8TLR7</td>\n",
       "      <td>IT WAS DONE AS A FILM IN THE 1950-60s.  VERY P...</td>\n",
       "    </tr>\n",
       "    <tr>\n",
       "      <th>4</th>\n",
       "      <td>[]</td>\n",
       "      <td>Wood-Carving Design and Workmanship - Kindle e...</td>\n",
       "      <td>{'File Size:': '6851 KB', 'Print Length:': '31...</td>\n",
       "      <td>B0012RMVH0</td>\n",
       "      <td>5.0</td>\n",
       "      <td>True</td>\n",
       "      <td>AQR816QPFU5JE</td>\n",
       "      <td>Excellent book. This is something I have wante...</td>\n",
       "    </tr>\n",
       "  </tbody>\n",
       "</table>\n",
       "</div>"
      ],
      "text/plain": [
       "  description                                              title  \\\n",
       "0          []                                   Brother One Cell   \n",
       "1          []                             God in the White House   \n",
       "2          []                             God in the White House   \n",
       "3          []  Vingt Mille Lieues sous les mers (French Editi...   \n",
       "4          []  Wood-Carving Design and Workmanship - Kindle e...   \n",
       "\n",
       "                                             details        asin  overall  \\\n",
       "0  {'File Size:': '766 KB', 'Print Length:': '368...  B0012DHDVS      5.0   \n",
       "1  {'File Size:': '605 KB', 'Print Length:': '260...  B0012GTZCK      3.0   \n",
       "2  {'File Size:': '605 KB', 'Print Length:': '260...  B0012GTZCK      5.0   \n",
       "3  {'File Size:': '1097 KB', 'Print Length:': '60...  B0012LHGJ4      5.0   \n",
       "4  {'File Size:': '6851 KB', 'Print Length:': '31...  B0012RMVH0      5.0   \n",
       "\n",
       "   verified      reviewerID                                         reviewText  \n",
       "0     False  A230ZS8F6I0AGM  I've learned so much from Cullen, for example:...  \n",
       "1      True  A2DMROV9MIMSDU  Not what I was expecting. I was looking for a ...  \n",
       "2      True   ARZXHYT2EH1V0  This short book reveals realities vital to the...  \n",
       "3      True   AYKIGSPZ8TLR7  IT WAS DONE AS A FILM IN THE 1950-60s.  VERY P...  \n",
       "4      True   AQR816QPFU5JE  Excellent book. This is something I have wante...  "
      ]
     },
     "execution_count": 3,
     "metadata": {},
     "output_type": "execute_result"
    }
   ],
   "source": [
    "relevant_cols = ['title', 'description', 'details', 'asin', 'overall', 'verified', 'reviewerID', 'reviewText']\n",
    "prod_merged = pd.read_csv(\"../data/interim/Kindle_Store_5_merged.csv\", usecols=relevant_cols)\n",
    "\n",
    "# summary statistics\n",
    "utilities.summary_statistics(prod_merged)\n",
    "prod_merged.head()"
   ]
  },
  {
   "cell_type": "markdown",
   "metadata": {},
   "source": [
    "##### Creating `Verified` and `Unverified` Split"
   ]
  },
  {
   "cell_type": "code",
   "execution_count": 4,
   "metadata": {},
   "outputs": [
    {
     "name": "stdout",
     "output_type": "stream",
     "text": [
      "Statistics for `Verified` reviews:\n",
      "The dataframe consists of 1121827 rows and 8 columns\n",
      "The number of unique reviewerID: 119757\n",
      "The number of unique reviewText: 1119927\n",
      "The number of unique asin: 93519\n",
      "\n",
      "\n",
      "Statistics for `Unverified` reviews:\n",
      "The dataframe consists of 724763 rows and 8 columns\n",
      "The number of unique reviewerID: 80255\n",
      "The number of unique reviewText: 723943\n",
      "The number of unique asin: 82166\n"
     ]
    }
   ],
   "source": [
    "prod_verified, prod_unverified = data.make_dataset(prod_merged)\n",
    "\n",
    "# summary statistics\n",
    "print(\"Statistics for `Verified` reviews:\")\n",
    "utilities.summary_statistics(prod_verified)\n",
    "print(\"\\n\")\n",
    "print(\"Statistics for `Unverified` reviews:\")\n",
    "utilities.summary_statistics(prod_unverified)"
   ]
  },
  {
   "cell_type": "markdown",
   "metadata": {},
   "source": [
    "##### Loading product metadata"
   ]
  },
  {
   "cell_type": "code",
   "execution_count": 6,
   "metadata": {},
   "outputs": [
    {
     "name": "stdout",
     "output_type": "stream",
     "text": [
      "The dataframe consists of 491670 rows and 4 columns\n",
      "The number of unique asin: 491670\n"
     ]
    },
    {
     "data": {
      "text/html": [
       "<div>\n",
       "<style scoped>\n",
       "    .dataframe tbody tr th:only-of-type {\n",
       "        vertical-align: middle;\n",
       "    }\n",
       "\n",
       "    .dataframe tbody tr th {\n",
       "        vertical-align: top;\n",
       "    }\n",
       "\n",
       "    .dataframe thead th {\n",
       "        text-align: right;\n",
       "    }\n",
       "</style>\n",
       "<table border=\"1\" class=\"dataframe\">\n",
       "  <thead>\n",
       "    <tr style=\"text-align: right;\">\n",
       "      <th></th>\n",
       "      <th>description</th>\n",
       "      <th>title</th>\n",
       "      <th>price</th>\n",
       "      <th>asin</th>\n",
       "    </tr>\n",
       "  </thead>\n",
       "  <tbody>\n",
       "    <tr>\n",
       "      <th>0</th>\n",
       "      <td>[]</td>\n",
       "      <td>NaN</td>\n",
       "      <td>NaN</td>\n",
       "      <td>B000FA5KKA</td>\n",
       "    </tr>\n",
       "    <tr>\n",
       "      <th>1</th>\n",
       "      <td>[]</td>\n",
       "      <td>NaN</td>\n",
       "      <td>NaN</td>\n",
       "      <td>B000FA5M3K</td>\n",
       "    </tr>\n",
       "    <tr>\n",
       "      <th>2</th>\n",
       "      <td>[]</td>\n",
       "      <td>NaN</td>\n",
       "      <td>NaN</td>\n",
       "      <td>B000FA5KJQ</td>\n",
       "    </tr>\n",
       "    <tr>\n",
       "      <th>3</th>\n",
       "      <td>[]</td>\n",
       "      <td>NaN</td>\n",
       "      <td>NaN</td>\n",
       "      <td>B000FA5NSO</td>\n",
       "    </tr>\n",
       "    <tr>\n",
       "      <th>4</th>\n",
       "      <td>[]</td>\n",
       "      <td>NaN</td>\n",
       "      <td>NaN</td>\n",
       "      <td>B000FA5KX2</td>\n",
       "    </tr>\n",
       "  </tbody>\n",
       "</table>\n",
       "</div>"
      ],
      "text/plain": [
       "  description title price        asin\n",
       "0          []   NaN   NaN  B000FA5KKA\n",
       "1          []   NaN   NaN  B000FA5M3K\n",
       "2          []   NaN   NaN  B000FA5KJQ\n",
       "3          []   NaN   NaN  B000FA5NSO\n",
       "4          []   NaN   NaN  B000FA5KX2"
      ]
     },
     "execution_count": 6,
     "metadata": {},
     "output_type": "execute_result"
    }
   ],
   "source": [
    "prod_metadata = pd.read_csv(\"../data/interim/meta_Kindle_Store_5.csv\", usecols=['title', 'description', 'asin', 'price'])\n",
    "\n",
    "# summary statistics\n",
    "utilities.summary_statistics(prod_metadata, cols=['asin'])\n",
    "prod_metadata.head()"
   ]
  },
  {
   "cell_type": "markdown",
   "metadata": {},
   "source": [
    "### 1. Exploratory Data Analysis"
   ]
  },
  {
   "cell_type": "markdown",
   "metadata": {},
   "source": [
    "##### What is the global average rating, per product, per reviewer?"
   ]
  },
  {
   "cell_type": "code",
   "execution_count": 7,
   "metadata": {},
   "outputs": [],
   "source": [
    "reviews_df = [prod_raw, prod_merged, prod_verified, prod_unverified]"
   ]
  },
  {
   "cell_type": "code",
   "execution_count": 8,
   "metadata": {},
   "outputs": [
    {
     "name": "stdout",
     "output_type": "stream",
     "text": [
      "==========\n",
      "Global average ratings: 4.394655653605079\n",
      "For product reviews:\n",
      "Minimum reviews for product: 1, Maximum reviews for products: 2217\n",
      "Average reviews per products: 22.490214927547964\n",
      "The interquartile range:\n",
      "0.25     7.0\n",
      "0.50    12.0\n",
      "0.75    24.0\n",
      "Name: reviewText, dtype: float64\n",
      "\n",
      "For user reviews:\n",
      "Minimum reviews for users: 1, Maximum reviews for users: 1377\n",
      "Average reviews per users: 15.89652755426814\n",
      "The interquartile range:\n",
      "0.25     6.0\n",
      "0.50     8.0\n",
      "0.75    14.0\n",
      "Name: reviewText, dtype: float64\n",
      "\n",
      "==========\n",
      "Global average ratings: 4.390552315348832\n",
      "For product reviews:\n",
      "Minimum reviews for product: 1, Maximum reviews for products: 1752\n",
      "Average reviews per products: 18.831417819883946\n",
      "The interquartile range:\n",
      "0.25     6.0\n",
      "0.50    10.0\n",
      "0.75    20.0\n",
      "Name: reviewText, dtype: float64\n",
      "\n",
      "For user reviews:\n",
      "Minimum reviews for users: 1, Maximum reviews for users: 1364\n",
      "Average reviews per users: 14.2036643898837\n",
      "The interquartile range:\n",
      "0.25     5.0\n",
      "0.50     7.0\n",
      "0.75    13.0\n",
      "Name: reviewText, dtype: float64\n",
      "\n",
      "==========\n",
      "Global average ratings: 4.358598964011385\n",
      "For product reviews:\n",
      "Minimum reviews for product: 1, Maximum reviews for products: 1514\n",
      "Average reviews per products: 11.995712101284232\n",
      "The interquartile range:\n",
      "0.25     4.0\n",
      "0.50     6.0\n",
      "0.75    12.0\n",
      "Name: reviewText, dtype: float64\n",
      "\n",
      "For user reviews:\n",
      "Minimum reviews for users: 1, Maximum reviews for users: 717\n",
      "Average reviews per users: 9.367527576676103\n",
      "The interquartile range:\n",
      "0.25    3.0\n",
      "0.50    5.0\n",
      "0.75    9.0\n",
      "Name: reviewText, dtype: float64\n",
      "\n",
      "==========\n",
      "Global average ratings: 4.44001142442426\n",
      "For product reviews:\n",
      "Minimum reviews for product: 1, Maximum reviews for products: 500\n",
      "Average reviews per products: 8.820716598106273\n",
      "The interquartile range:\n",
      "0.25    2.0\n",
      "0.50    4.0\n",
      "0.75    9.0\n",
      "Name: reviewText, dtype: float64\n",
      "\n",
      "For user reviews:\n",
      "Minimum reviews for users: 1, Maximum reviews for users: 1063\n",
      "Average reviews per users: 9.030751978069903\n",
      "The interquartile range:\n",
      "0.25    2.0\n",
      "0.50    4.0\n",
      "0.75    8.0\n",
      "Name: reviewText, dtype: float64\n",
      "\n"
     ]
    }
   ],
   "source": [
    "for df in reviews_df:\n",
    "    utilities.reviews_count(df)"
   ]
  },
  {
   "cell_type": "markdown",
   "metadata": {},
   "source": [
    "##### Computing average rating per product"
   ]
  },
  {
   "cell_type": "code",
   "execution_count": 9,
   "metadata": {},
   "outputs": [
    {
     "name": "stdout",
     "output_type": "stream",
     "text": [
      "4\n"
     ]
    }
   ],
   "source": [
    "prod_ratings = []\n",
    "\n",
    "for df in reviews_df:\n",
    "    ratings = preprocessing.compute_mean_ratings(df, 'reviewText', 'overall')\n",
    "    prod_ratings.append(ratings)\n",
    "    \n",
    "print(len(prod_ratings))"
   ]
  },
  {
   "cell_type": "code",
   "execution_count": 10,
   "metadata": {},
   "outputs": [],
   "source": [
    "prod_ratings_raw, prod_ratings_merged, prod_ratings_verified, prod_ratings_unverified = prod_ratings"
   ]
  },
  {
   "cell_type": "code",
   "execution_count": 11,
   "metadata": {},
   "outputs": [
    {
     "name": "stdout",
     "output_type": "stream",
     "text": [
      "==========\n",
      "Average of average ratings: 4.370028337328869\n",
      "             asin  rating_counts  rating_average\n",
      "32480  B00GO942QO              8             5.0\n",
      "12021  B0090R7BRO              8             5.0\n",
      "27838  B00ER8ECL4             14             5.0\n",
      "42502  B00JYFN72A             13             5.0\n",
      "55128  B00OQPOOZM              6             5.0\n",
      "27854  B00EREDDTA              5             5.0\n",
      "74355  B011CX8DO8             18             5.0\n",
      "21515  B00CCSUJXG              6             5.0\n",
      "88421  B01AVT7188              5             5.0\n",
      "88422  B01AVTFXP6              5             5.0\n",
      "\n",
      "\n",
      "==========\n",
      "Average of average ratings: 4.360667974967413\n",
      "             asin  rating_counts  rating_average\n",
      "0      B0012DHDVS              1             5.0\n",
      "58838  B00R0D4FD8             11             5.0\n",
      "59091  B00R4ZI7X6              4             5.0\n",
      "59081  B00R4UVA76              6             5.0\n",
      "59049  B00R3TEPGQ              4             5.0\n",
      "9475   B007IZWQUM              6             5.0\n",
      "59036  B00R3KKTKQ              5             5.0\n",
      "59031  B00R3IVZ9W              3             5.0\n",
      "59023  B00R3FO98Y              1             5.0\n",
      "58982  B00R28MVZU              3             5.0\n",
      "\n",
      "\n",
      "==========\n",
      "Average of average ratings: 4.360032290081317\n",
      "             asin  rating_counts  rating_average\n",
      "46759  B00M5EHZ3Y              3             5.0\n",
      "49616  B00NCAKJQ0              5             5.0\n",
      "49654  B00ND8BWOO              3             5.0\n",
      "49650  B00ND7B7OA              2             5.0\n",
      "49649  B00ND71WLS              1             5.0\n",
      "49642  B00NCWLMKK              4             5.0\n",
      "49636  B00NCQ43OI              1             5.0\n",
      "49635  B00NCPH7YW              5             5.0\n",
      "49634  B00NCNW5JQ              3             5.0\n",
      "49633  B00NCNIKAY              4             5.0\n",
      "\n",
      "\n",
      "==========\n",
      "Average of average ratings: 4.3858543193106705\n",
      "             asin  rating_counts  rating_average\n",
      "0      B0012DHDVS              1             5.0\n",
      "43511  B00OL2N7R6              1             5.0\n",
      "15747  B00C12870A              3             5.0\n",
      "43355  B00OI0B0E8              3             5.0\n",
      "43356  B00OI2H7GQ              1             5.0\n",
      "43358  B00OI2XFR6              3             5.0\n",
      "15743  B00C11TV92              2             5.0\n",
      "15742  B00C11IGCK              2             5.0\n",
      "15741  B00C118WKG              1             5.0\n",
      "43368  B00OI8T51U              1             5.0\n",
      "\n",
      "\n"
     ]
    }
   ],
   "source": [
    "for rating in prod_ratings:\n",
    "    print(\"==========\")\n",
    "    print(f\"Average of average ratings: {rating['rating_average'].mean()}\")\n",
    "    print(rating.sort_values(['rating_average'], ascending=False).head(10))\n",
    "    print(\"\\n\")"
   ]
  },
  {
   "cell_type": "markdown",
   "metadata": {},
   "source": [
    "Based on the output, you observed that for all the Top 10 product average ratings obtained across all 4 different variation of the dataset, all 4 dataframe has shown that the top 10 products (with 5.0 ratings) are all products with little reviews (< 50).\n",
    "\n",
    "Consider this, if we were to recommend such products to others soley because the fact that they obtained an average rating of 5.0, we may be \"*inaccurately*\" recommending such items as they might just be relative new items that has not been thorough ordered and used by the wider consumer base on the platform.\n",
    "\n",
    "Hence, we will need devised a rating that is more concrete and can factor in a threshold amount of ratings required for a product to get listed on the `product ranking`. This provides a more balance look to the ratings of a product as we now consider the global settings."
   ]
  },
  {
   "cell_type": "code",
   "execution_count": 12,
   "metadata": {},
   "outputs": [],
   "source": [
    "def compute_weighted_ratings(df, count_col, avg_rating_col, threshold=.75):\n",
    "    \"\"\"Computes weighted ratings based on number of ratings and average rating.\n",
    "\n",
    "        Args:\n",
    "            df [pd.DataFrame]: DataFrame consisting both rating counts and average rating.\n",
    "            count_col [str]: Column name for number of ratings.\n",
    "            avg_rating_col [str]: Column name for average rating.\n",
    "            threshold [float]: Threshold for minimum of ratings/reviews to qualify for ranking.\n",
    "        Returns:\n",
    "            df [pd.DataFrame]: DataFrame with newly computed weighted ratings\n",
    "    \"\"\"\n",
    "\n",
    "    m = df[count_col].quantile(threshold)\n",
    "    C = df[avg_rating_col].mean()    # global average rating\n",
    "\n",
    "    df['rating_weighted'] = (df.apply(lambda x: ((x[count_col]/(x[count_col] + m)\n",
    "                                                  * x[avg_rating_col])\n",
    "                                                 + (m/(m + x[count_col]) * C)), axis=1)\n",
    "                            )\n",
    "\n",
    "    return df"
   ]
  },
  {
   "cell_type": "code",
   "execution_count": 13,
   "metadata": {},
   "outputs": [
    {
     "name": "stdout",
     "output_type": "stream",
     "text": [
      "==========\n",
      "Weighted Average Ratings: 4.375328171468122\n",
      "             asin  rating_counts  rating_average  rating_weighted\n",
      "54438  B00OGM2722            307        4.918567         4.878794\n",
      "82207  B017FRG18A            184        4.934783         4.869619\n",
      "94889  B01ER3O8UI            255        4.905882         4.859787\n",
      "50355  B00MUXSBBA            268        4.895522         4.852331\n",
      "42022  B00JRNOW4G            169        4.911243         4.843941\n",
      "97209  B01GF9OSI4            180        4.905556         4.842552\n",
      "84756  B018RFX3I0            182        4.901099         4.839227\n",
      "95962  B01FK7LI7G            243        4.884774         4.838504\n",
      "49406  B00MH6I3PE             81        4.975309         4.836959\n",
      "87742  B01AH9OBOO            166        4.903614         4.836214\n",
      "\n",
      "\n",
      "==========\n",
      "Weighted Average Ratings: 4.367349486762257\n",
      "             asin  rating_counts  rating_average  rating_weighted\n",
      "53937  B00OGM2722            271        4.926199         4.887331\n",
      "49856  B00MUXSBBA            240        4.904167         4.862359\n",
      "81542  B017FRG18A            135        4.933333         4.859441\n",
      "94125  B01ER3O8UI            215        4.902326         4.856227\n",
      "88047  B01B3PU09G             86        4.965116         4.851069\n",
      "96444  B01GF9OSI4            166        4.909639         4.850609\n",
      "95632  B01FV7OB5G            115        4.930435         4.846025\n",
      "48910  B00MH6I3PE             76        4.973684         4.845972\n",
      "84066  B018RFX3I0            165        4.903030         4.844397\n",
      "93417  B01E7VZH6O            178        4.893258         4.839461\n",
      "\n",
      "\n",
      "==========\n",
      "Weighted Average Ratings: 4.360734884635809\n",
      "             asin  rating_counts  rating_average  rating_weighted\n",
      "52272  B00OGM2722            201        4.920398         4.888828\n",
      "76025  B015YGB1W0             63        4.984127         4.884272\n",
      "89239  B01E7VZH6O            139        4.928058         4.882916\n",
      "41755  B00K8916TW             79        4.962025         4.882642\n",
      "89026  B01E22VU46             58        4.982759         4.876006\n",
      "48375  B00MUXSBBA            166        4.903614         4.866968\n",
      "18510  B00BNB54RE             60        4.966667         4.865561\n",
      "78256  B017FRG18A             51        4.980392         4.862228\n",
      "92026  B01GF9OSI4            115        4.913043         4.860790\n",
      "80587  B018RFX3I0             64        4.953125         4.859479\n",
      "\n",
      "\n",
      "==========\n",
      "Weighted Average Ratings: 4.395624168047644\n",
      "             asin  rating_counts  rating_average  rating_weighted\n",
      "79360  B01FCBU7OU             86        4.965116         4.910239\n",
      "33338  B00JX22C0C            115        4.947826         4.907038\n",
      "79987  B01FV7OB5G             81        4.962963         4.905252\n",
      "80787  B01GGNXFEW            128        4.929688         4.893961\n",
      "78636  B01ER3O8UI            174        4.913793         4.887829\n",
      "54173  B00VJ2BFN4             40        5.000000         4.887198\n",
      "62970  B014C6V5GA             39        5.000000         4.884848\n",
      "75597  B01CK9WEGG             73        4.945205         4.883813\n",
      "78818  B01EXDNG96             38        5.000000         4.882398\n",
      "44149  B00OXF86D6             37        5.000000         4.879841\n",
      "\n",
      "\n"
     ]
    }
   ],
   "source": [
    "computed_prod_ratings = []\n",
    "\n",
    "for rating in prod_ratings:\n",
    "    computed_ratings = preprocessing.compute_weighted_ratings(rating, 'rating_counts', 'rating_average')\n",
    "    computed_prod_ratings.append(computed_ratings)\n",
    "    print(\"==========\")\n",
    "    print(f\"Weighted Average Ratings: {computed_ratings['rating_weighted'].mean()}\")\n",
    "    print(computed_ratings.sort_values('rating_weighted', ascending=False).head(10))\n",
    "    print(\"\\n\")"
   ]
  },
  {
   "cell_type": "code",
   "execution_count": 14,
   "metadata": {},
   "outputs": [],
   "source": [
    "def retrieve_product_metadata(asin, metadata):\n",
    "    \"\"\"Retrieve product metadata based on product id (asin).\n",
    "    \"\"\"\n",
    "    prod_details = metadata[metadata['asin'] == asin]\n",
    "    print(f\"ASIN: {asin}, Title: {prod_details['title'].values} is ${prod_details['price'].values}\")"
   ]
  },
  {
   "cell_type": "code",
   "execution_count": 16,
   "metadata": {},
   "outputs": [
    {
     "name": "stdout",
     "output_type": "stream",
     "text": [
      "==========\n",
      "ASIN: B00OGM2722, Title: ['Collateral (Blood &amp; Roses series Book 6) - Kindle edition'] is $[nan]\n",
      "ASIN: B017FRG18A, Title: ['A Very Beastly Christmas (Gray Back Bears Book 7) - Kindle edition'] is $[nan]\n",
      "ASIN: B01ER3O8UI, Title: ['Little Miami Girl: Antonia and Jahiem&#39;s Love Story - Kindle edition'] is $[nan]\n",
      "ASIN: B00MUXSBBA, Title: ['Twisted (Blood &amp; Roses series Book 5) - Kindle edition'] is $[nan]\n",
      "ASIN: B00JRNOW4G, Title: ['Love Redeemed (Love&#39;s Improbable Possibility Book 4) - Kindle edition'] is $[nan]\n",
      "\n",
      "\n",
      "==========\n",
      "ASIN: B00OGM2722, Title: ['Collateral (Blood &amp; Roses series Book 6) - Kindle edition'] is $[nan]\n",
      "ASIN: B00MUXSBBA, Title: ['Twisted (Blood &amp; Roses series Book 5) - Kindle edition'] is $[nan]\n",
      "ASIN: B017FRG18A, Title: ['A Very Beastly Christmas (Gray Back Bears Book 7) - Kindle edition'] is $[nan]\n",
      "ASIN: B01ER3O8UI, Title: ['Little Miami Girl: Antonia and Jahiem&#39;s Love Story - Kindle edition'] is $[nan]\n",
      "ASIN: B01B3PU09G, Title: ['My Soul Is Satisfied (The Langston Family Saga Book 3) - Kindle edition'] is $[nan]\n",
      "\n",
      "\n",
      "==========\n",
      "ASIN: B00OGM2722, Title: ['Collateral (Blood &amp; Roses series Book 6) - Kindle edition'] is $[nan]\n",
      "ASIN: B015YGB1W0, Title: ['December: Calendar Girl Book 12 - Kindle edition'] is $[nan]\n",
      "ASIN: B01E7VZH6O, Title: ['Bonded with Ezra (Love Unaccounted Book 3) - Kindle edition'] is $[nan]\n",
      "ASIN: B00K8916TW, Title: ['Dom Wars - Round Four - Kindle edition'] is $[nan]\n",
      "ASIN: B01E22VU46, Title: ['Chop, Chop - The Series of a Lifetime: Books 1 - 7 - Kindle edition'] is $[nan]\n",
      "\n",
      "\n",
      "==========\n",
      "ASIN: B01FCBU7OU, Title: ['Convincing Cara (Wishing Well, Texas Book 2) - Kindle edition'] is $[nan]\n",
      "ASIN: B00JX22C0C, Title: ['Uncaged Love #2: MMA New Adult Contemporary Romance - Kindle edition'] is $[nan]\n",
      "ASIN: B01FV7OB5G, Title: ['Sapphire Falls: Going To Find Temptation (Kindle Worlds) - Kindle edition'] is $[nan]\n",
      "ASIN: B01GGNXFEW, Title: ['Air Ryder (Harper&#39;s Mountains Book 3) - Kindle edition'] is $[nan]\n",
      "ASIN: B01ER3O8UI, Title: ['Little Miami Girl: Antonia and Jahiem&#39;s Love Story - Kindle edition'] is $[nan]\n",
      "\n",
      "\n"
     ]
    }
   ],
   "source": [
    "for rating in computed_prod_ratings:\n",
    "    top_5 = rating.sort_values('rating_weighted', ascending=False).head(5)['asin'].tolist()\n",
    "    print(\"==========\")\n",
    "    for asin in top_5:\n",
    "        retrieve_product_metadata(asin, prod_metadata)\n",
    "    print(\"\\n\")"
   ]
  },
  {
   "cell_type": "markdown",
   "metadata": {},
   "source": [
    "##### What are the statistics on ratings?"
   ]
  },
  {
   "cell_type": "code",
   "execution_count": 17,
   "metadata": {},
   "outputs": [],
   "source": [
    "def rating_summary_statistics(df, cols=['rating_average', 'rating_weighted']):\n",
    "    print(\"==========\")\n",
    "    print(f\"For average of average ratings:\")\n",
    "    print(f\"\\tThe mean ratings per product is: {df['rating_average'].mean():.3f}\")\n",
    "    print(f\"\\tThe median ratings per product is: {df['rating_average'].quantile(.5):.3f}\")\n",
    "    print(f\"\\tThe 25th and 75th percentile of number of reviews is: \"\n",
    "      f\"{df['rating_average'].quantile(.25):.3f} and \"\n",
    "      f\"{df['rating_average'].quantile(.75):.3f} respectively.\")\n",
    "    print(f\"For weighted average ratings:\")\n",
    "    print(f\"\\tThe mean ratings per product is: {df['rating_weighted'].mean():.3f}\")\n",
    "    print(f\"\\tThe median ratings per product is: {df['rating_weighted'].quantile(.5):.3f}\")\n",
    "    print(f\"\\tThe 25th and 75th percentile of number of reviews is: \"\n",
    "      f\"{df['rating_weighted'].quantile(.25):.3f} and \"\n",
    "      f\"{df['rating_weighted'].quantile(.75):.3f} respectively.\")\n",
    "    print(\"\\n\")\n",
    "          \n",
    "def plot_ratings(df, cols=['rating_average', 'rating_weighted']):\n",
    "    fig, axes = plt.subplots(1, 2, figsize=(12,6))\n",
    "    fig.suptitle(\"Average Ratings vs Weighted Ratings\")\n",
    "    for idx, col in enumerate(cols):\n",
    "          df[col].hist(ax=axes[idx])\n",
    "    plt.show()"
   ]
  },
  {
   "cell_type": "code",
   "execution_count": 18,
   "metadata": {},
   "outputs": [
    {
     "name": "stdout",
     "output_type": "stream",
     "text": [
      "==========\n",
      "For average of average ratings:\n",
      "\tThe mean ratings per product is: 4.370\n",
      "\tThe median ratings per product is: 4.444\n",
      "\tThe 25th and 75th percentile of number of reviews is: 4.143 and 4.698 respectively.\n",
      "For weighted average ratings:\n",
      "\tThe mean ratings per product is: 4.375\n",
      "\tThe median ratings per product is: 4.397\n",
      "\tThe 25th and 75th percentile of number of reviews is: 4.296 and 4.479 respectively.\n",
      "\n",
      "\n",
      "==========\n",
      "For average of average ratings:\n",
      "\tThe mean ratings per product is: 4.361\n",
      "\tThe median ratings per product is: 4.455\n",
      "\tThe 25th and 75th percentile of number of reviews is: 4.125 and 4.714 respectively.\n",
      "For weighted average ratings:\n",
      "\tThe mean ratings per product is: 4.367\n",
      "\tThe median ratings per product is: 4.393\n",
      "\tThe 25th and 75th percentile of number of reviews is: 4.282 and 4.474 respectively.\n",
      "\n",
      "\n",
      "==========\n",
      "For average of average ratings:\n",
      "\tThe mean ratings per product is: 4.360\n",
      "\tThe median ratings per product is: 4.500\n",
      "\tThe 25th and 75th percentile of number of reviews is: 4.000 and 4.780 respectively.\n",
      "For weighted average ratings:\n",
      "\tThe mean ratings per product is: 4.361\n",
      "\tThe median ratings per product is: 4.396\n",
      "\tThe 25th and 75th percentile of number of reviews is: 4.270 and 4.488 respectively.\n",
      "\n",
      "\n",
      "==========\n",
      "For average of average ratings:\n",
      "\tThe mean ratings per product is: 4.386\n",
      "\tThe median ratings per product is: 4.500\n",
      "\tThe 25th and 75th percentile of number of reviews is: 4.000 and 4.932 respectively.\n",
      "For weighted average ratings:\n",
      "\tThe mean ratings per product is: 4.396\n",
      "\tThe median ratings per product is: 4.447\n",
      "\tThe 25th and 75th percentile of number of reviews is: 4.316 and 4.498 respectively.\n",
      "\n",
      "\n"
     ]
    }
   ],
   "source": [
    "for rating in computed_prod_ratings:\n",
    "    rating_summary_statistics(rating)"
   ]
  },
  {
   "cell_type": "code",
   "execution_count": 19,
   "metadata": {},
   "outputs": [
    {
     "data": {
      "image/png": "[encoded data removed]",
      "text/plain": [
       "<Figure size 864x432 with 2 Axes>"
      ]
     },
     "metadata": {
      "needs_background": "light"
     },
     "output_type": "display_data"
    },
    {
     "data": {
      "image/png": "[encoded data removed]",
      "text/plain": [
       "<Figure size 864x432 with 2 Axes>"
      ]
     },
     "metadata": {
      "needs_background": "light"
     },
     "output_type": "display_data"
    },
    {
     "data": {
      "image/png": "[encoded data removed]",
      "text/plain": [
       "<Figure size 864x432 with 2 Axes>"
      ]
     },
     "metadata": {
      "needs_background": "light"
     },
     "output_type": "display_data"
    },
    {
     "data": {
      "image/png": "[encoded data removed]",
      "text/plain": [
       "<Figure size 864x432 with 2 Axes>"
      ]
     },
     "metadata": {
      "needs_background": "light"
     },
     "output_type": "display_data"
    }
   ],
   "source": [
    "for rating in computed_prod_ratings:\n",
    "    plot_ratings(rating)"
   ]
  },
  {
   "cell_type": "code",
   "execution_count": null,
   "metadata": {},
   "outputs": [],
   "source": []
  }
 ],
 "metadata": {
  "kernelspec": {
   "display_name": "Python 3",
   "language": "python",
   "name": "python3"
  },
  "language_info": {
   "codemirror_mode": {
    "name": "ipython",
    "version": 3
   },
   "file_extension": ".py",
   "mimetype": "text/x-python",
   "name": "python",
   "nbconvert_exporter": "python",
   "pygments_lexer": "ipython3",
   "version": "3.7.3"
  }
 },
 "nbformat": 4,
 "nbformat_minor": 2
}
