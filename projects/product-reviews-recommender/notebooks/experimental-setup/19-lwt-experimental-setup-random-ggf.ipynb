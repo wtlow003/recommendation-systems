{
 "cells": [
  {
   "cell_type": "code",
   "execution_count": 11,
   "id": "6226e3aa",
   "metadata": {},
   "outputs": [],
   "source": [
    "from collections import defaultdict\n",
    "from pprint import pprint\n",
    "\n",
    "import gensim\n",
    "import numpy as np\n",
    "import pandas as pd\n",
    "from surprise import Dataset, Reader, NormalPredictor\n",
    "from tqdm import tqdm\n",
    "\n",
    "tqdm.pandas()"
   ]
  },
  {
   "cell_type": "markdown",
   "id": "d6ff2a31",
   "metadata": {},
   "source": [
    "# Load Data"
   ]
  },
  {
   "cell_type": "code",
   "execution_count": 3,
   "id": "1408e3a3",
   "metadata": {},
   "outputs": [],
   "source": [
    "# global variables\n",
    "DATA_PATH = \"data/evaluation\"\n",
    "CATEGORY = \"Grocery_and_Gourmet_Food\"\n",
    "\n",
    "train = pd.read_csv(f\"{DATA_PATH}/{CATEGORY}_train.csv\")"
   ]
  },
  {
   "cell_type": "code",
   "execution_count": 4,
   "id": "23c3b2f5",
   "metadata": {},
   "outputs": [
    {
     "data": {
      "text/html": [
       "<div>\n",
       "<style scoped>\n",
       "    .dataframe tbody tr th:only-of-type {\n",
       "        vertical-align: middle;\n",
       "    }\n",
       "\n",
       "    .dataframe tbody tr th {\n",
       "        vertical-align: top;\n",
       "    }\n",
       "\n",
       "    .dataframe thead th {\n",
       "        text-align: right;\n",
       "    }\n",
       "</style>\n",
       "<table border=\"1\" class=\"dataframe\">\n",
       "  <thead>\n",
       "    <tr style=\"text-align: right;\">\n",
       "      <th></th>\n",
       "      <th>index</th>\n",
       "      <th>asin</th>\n",
       "      <th>title</th>\n",
       "      <th>categories</th>\n",
       "      <th>reviewerID</th>\n",
       "      <th>overall</th>\n",
       "      <th>reviewText</th>\n",
       "      <th>reviewTime</th>\n",
       "      <th>processedReviewText</th>\n",
       "    </tr>\n",
       "  </thead>\n",
       "  <tbody>\n",
       "    <tr>\n",
       "      <th>0</th>\n",
       "      <td>0</td>\n",
       "      <td>9742356831</td>\n",
       "      <td>Mae Ploy Green Curry Paste, 14 oz</td>\n",
       "      <td>['Grocery &amp; Gourmet Food', 'Sauces, Gravies &amp; ...</td>\n",
       "      <td>A23RYWDS884TUL</td>\n",
       "      <td>5.0</td>\n",
       "      <td>This curry paste makes a delicious curry.  I j...</td>\n",
       "      <td>2013-05-28</td>\n",
       "      <td>curry paste delicious curry fry chicken vegeta...</td>\n",
       "    </tr>\n",
       "    <tr>\n",
       "      <th>1</th>\n",
       "      <td>1</td>\n",
       "      <td>9742356831</td>\n",
       "      <td>Mae Ploy Green Curry Paste, 14 oz</td>\n",
       "      <td>['Grocery &amp; Gourmet Food', 'Sauces, Gravies &amp; ...</td>\n",
       "      <td>A945RBQWGZXCK</td>\n",
       "      <td>5.0</td>\n",
       "      <td>I've purchased different curries in the grocer...</td>\n",
       "      <td>2012-09-17</td>\n",
       "      <td>purchase different curry grocery store complet...</td>\n",
       "    </tr>\n",
       "    <tr>\n",
       "      <th>2</th>\n",
       "      <td>3</td>\n",
       "      <td>9742356831</td>\n",
       "      <td>Mae Ploy Green Curry Paste, 14 oz</td>\n",
       "      <td>['Grocery &amp; Gourmet Food', 'Sauces, Gravies &amp; ...</td>\n",
       "      <td>A3AMNY44OP8AOU</td>\n",
       "      <td>4.0</td>\n",
       "      <td>I started a new diet restricting all added sug...</td>\n",
       "      <td>2014-01-23</td>\n",
       "      <td>start new diet restrict added sugar brand suga...</td>\n",
       "    </tr>\n",
       "    <tr>\n",
       "      <th>3</th>\n",
       "      <td>4</td>\n",
       "      <td>9742356831</td>\n",
       "      <td>Mae Ploy Green Curry Paste, 14 oz</td>\n",
       "      <td>['Grocery &amp; Gourmet Food', 'Sauces, Gravies &amp; ...</td>\n",
       "      <td>A3IB4CQ2QEJLJ8</td>\n",
       "      <td>5.0</td>\n",
       "      <td>So many flavors. I can't begin to tell you how...</td>\n",
       "      <td>2014-04-27</td>\n",
       "      <td>flavor begin tell love mae ploy curry ask reci...</td>\n",
       "    </tr>\n",
       "    <tr>\n",
       "      <th>4</th>\n",
       "      <td>5</td>\n",
       "      <td>9742356831</td>\n",
       "      <td>Mae Ploy Green Curry Paste, 14 oz</td>\n",
       "      <td>['Grocery &amp; Gourmet Food', 'Sauces, Gravies &amp; ...</td>\n",
       "      <td>AQA5DF3RWKETQ</td>\n",
       "      <td>5.0</td>\n",
       "      <td>I've used this a lot recently in some of my ch...</td>\n",
       "      <td>2012-11-27</td>\n",
       "      <td>use lot recently chicken dish use lot like spi...</td>\n",
       "    </tr>\n",
       "    <tr>\n",
       "      <th>47769</th>\n",
       "      <td>77420</td>\n",
       "      <td>B00I33696K</td>\n",
       "      <td>Reese's Miniature Peanut Butter Cups .31oz - 1...</td>\n",
       "      <td>['Grocery &amp; Gourmet Food', 'Candy &amp; Chocolate'...</td>\n",
       "      <td>A192LQZWDYPR4U</td>\n",
       "      <td>5.0</td>\n",
       "      <td>Another quality Reese Peanut Butter Cup produc...</td>\n",
       "      <td>2014-02-27</td>\n",
       "      <td>quality reese peanut butter cup product great ...</td>\n",
       "    </tr>\n",
       "    <tr>\n",
       "      <th>47770</th>\n",
       "      <td>77421</td>\n",
       "      <td>B00I33696K</td>\n",
       "      <td>Reese's Miniature Peanut Butter Cups .31oz - 1...</td>\n",
       "      <td>['Grocery &amp; Gourmet Food', 'Candy &amp; Chocolate'...</td>\n",
       "      <td>A2QKXW3LDQ66P5</td>\n",
       "      <td>5.0</td>\n",
       "      <td>I purchased these for my husband who has every...</td>\n",
       "      <td>2013-02-20</td>\n",
       "      <td>purchase husband love reeses valentine day pre...</td>\n",
       "    </tr>\n",
       "    <tr>\n",
       "      <th>47771</th>\n",
       "      <td>77430</td>\n",
       "      <td>B00ID9VSOM</td>\n",
       "      <td>Viva Labs Organic Coconut Sugar: Non-GMO, Low-...</td>\n",
       "      <td>['Grocery &amp; Gourmet Food', 'Cooking &amp; Baking',...</td>\n",
       "      <td>A2P3TGJU301KXD</td>\n",
       "      <td>5.0</td>\n",
       "      <td>this stuff is INCREDIBILY yummy! SO much bette...</td>\n",
       "      <td>2014-07-15</td>\n",
       "      <td>stuff incredibily yummy good regular brown sug...</td>\n",
       "    </tr>\n",
       "    <tr>\n",
       "      <th>47772</th>\n",
       "      <td>77456</td>\n",
       "      <td>B00IRL93SY</td>\n",
       "      <td>Barrie House Kenya Estate - AA Single Cup Caps...</td>\n",
       "      <td>['Grocery &amp; Gourmet Food', 'Beverages', 'Coffe...</td>\n",
       "      <td>AEFE9VDHTQ199</td>\n",
       "      <td>5.0</td>\n",
       "      <td>Very nice aroma, body and taste! Will buy this...</td>\n",
       "      <td>2014-05-24</td>\n",
       "      <td>nice aroma body taste buy coffee good coffee a...</td>\n",
       "    </tr>\n",
       "    <tr>\n",
       "      <th>47773</th>\n",
       "      <td>77508</td>\n",
       "      <td>B00ISVHJ3Y</td>\n",
       "      <td>Wholesome Sweeteners, Organic Sweet and Lite S...</td>\n",
       "      <td>['Grocery &amp; Gourmet Food', 'Cooking &amp; Baking',...</td>\n",
       "      <td>A2AEZQ3DGBBLPR</td>\n",
       "      <td>2.0</td>\n",
       "      <td>This is a no go for diabetics according to my ...</td>\n",
       "      <td>2014-06-26</td>\n",
       "      <td>diabetic accord wife doctor order intention us...</td>\n",
       "    </tr>\n",
       "  </tbody>\n",
       "</table>\n",
       "</div>"
      ],
      "text/plain": [
       "       index        asin                                              title  \\\n",
       "0          0  9742356831                  Mae Ploy Green Curry Paste, 14 oz   \n",
       "1          1  9742356831                  Mae Ploy Green Curry Paste, 14 oz   \n",
       "2          3  9742356831                  Mae Ploy Green Curry Paste, 14 oz   \n",
       "3          4  9742356831                  Mae Ploy Green Curry Paste, 14 oz   \n",
       "4          5  9742356831                  Mae Ploy Green Curry Paste, 14 oz   \n",
       "47769  77420  B00I33696K  Reese's Miniature Peanut Butter Cups .31oz - 1...   \n",
       "47770  77421  B00I33696K  Reese's Miniature Peanut Butter Cups .31oz - 1...   \n",
       "47771  77430  B00ID9VSOM  Viva Labs Organic Coconut Sugar: Non-GMO, Low-...   \n",
       "47772  77456  B00IRL93SY  Barrie House Kenya Estate - AA Single Cup Caps...   \n",
       "47773  77508  B00ISVHJ3Y  Wholesome Sweeteners, Organic Sweet and Lite S...   \n",
       "\n",
       "                                              categories      reviewerID  \\\n",
       "0      ['Grocery & Gourmet Food', 'Sauces, Gravies & ...  A23RYWDS884TUL   \n",
       "1      ['Grocery & Gourmet Food', 'Sauces, Gravies & ...   A945RBQWGZXCK   \n",
       "2      ['Grocery & Gourmet Food', 'Sauces, Gravies & ...  A3AMNY44OP8AOU   \n",
       "3      ['Grocery & Gourmet Food', 'Sauces, Gravies & ...  A3IB4CQ2QEJLJ8   \n",
       "4      ['Grocery & Gourmet Food', 'Sauces, Gravies & ...   AQA5DF3RWKETQ   \n",
       "47769  ['Grocery & Gourmet Food', 'Candy & Chocolate'...  A192LQZWDYPR4U   \n",
       "47770  ['Grocery & Gourmet Food', 'Candy & Chocolate'...  A2QKXW3LDQ66P5   \n",
       "47771  ['Grocery & Gourmet Food', 'Cooking & Baking',...  A2P3TGJU301KXD   \n",
       "47772  ['Grocery & Gourmet Food', 'Beverages', 'Coffe...   AEFE9VDHTQ199   \n",
       "47773  ['Grocery & Gourmet Food', 'Cooking & Baking',...  A2AEZQ3DGBBLPR   \n",
       "\n",
       "       overall                                         reviewText  reviewTime  \\\n",
       "0          5.0  This curry paste makes a delicious curry.  I j...  2013-05-28   \n",
       "1          5.0  I've purchased different curries in the grocer...  2012-09-17   \n",
       "2          4.0  I started a new diet restricting all added sug...  2014-01-23   \n",
       "3          5.0  So many flavors. I can't begin to tell you how...  2014-04-27   \n",
       "4          5.0  I've used this a lot recently in some of my ch...  2012-11-27   \n",
       "47769      5.0  Another quality Reese Peanut Butter Cup produc...  2014-02-27   \n",
       "47770      5.0  I purchased these for my husband who has every...  2013-02-20   \n",
       "47771      5.0  this stuff is INCREDIBILY yummy! SO much bette...  2014-07-15   \n",
       "47772      5.0  Very nice aroma, body and taste! Will buy this...  2014-05-24   \n",
       "47773      2.0  This is a no go for diabetics according to my ...  2014-06-26   \n",
       "\n",
       "                                     processedReviewText  \n",
       "0      curry paste delicious curry fry chicken vegeta...  \n",
       "1      purchase different curry grocery store complet...  \n",
       "2      start new diet restrict added sugar brand suga...  \n",
       "3      flavor begin tell love mae ploy curry ask reci...  \n",
       "4      use lot recently chicken dish use lot like spi...  \n",
       "47769  quality reese peanut butter cup product great ...  \n",
       "47770  purchase husband love reeses valentine day pre...  \n",
       "47771  stuff incredibily yummy good regular brown sug...  \n",
       "47772  nice aroma body taste buy coffee good coffee a...  \n",
       "47773  diabetic accord wife doctor order intention us...  "
      ]
     },
     "execution_count": 4,
     "metadata": {},
     "output_type": "execute_result"
    }
   ],
   "source": [
    "# checking train dataframe\n",
    "train.head().append(train.tail())"
   ]
  },
  {
   "cell_type": "markdown",
   "id": "b026e402",
   "metadata": {},
   "source": [
    "# Utility Function"
   ]
  },
  {
   "cell_type": "code",
   "execution_count": 5,
   "id": "9b9ca18d",
   "metadata": {},
   "outputs": [],
   "source": [
    "def get_top_n(predictions, n=10):\n",
    "    \"\"\"Return the top-N recommendation for each user from a set of predictions.\n",
    "\n",
    "    Args:\n",
    "        predictions(list of Prediction objects): The list of predictions, as\n",
    "            returned by the test method of an algorithm.\n",
    "        n(int): The number of recommendation to output for each user. Default\n",
    "            is 10.\n",
    "\n",
    "    Returns:\n",
    "    A dict where keys are user (raw) ids and values are lists of tuples:\n",
    "        [(raw item id, rating estimation), ...] of size n.\n",
    "    \"\"\"\n",
    "\n",
    "    # First map the predictions to each user.\n",
    "    top_n = defaultdict(list)\n",
    "    for uid, iid, true_r, est, _ in tqdm(predictions):\n",
    "        top_n[uid].append((iid, est))\n",
    "\n",
    "    # Then sort the predictions for each user and retrieve the k highest ones.\n",
    "    for uid, user_ratings in tqdm(top_n.items()):\n",
    "        user_ratings.sort(key=lambda x: x[1], reverse=True)\n",
    "        top_n[uid] = user_ratings[:n]\n",
    "\n",
    "    return top_n\n",
    "\n",
    "def recall_at_k(asins, predicted_asins, k=10):\n",
    "    # number of relevant items\n",
    "    set_actual = set(asins)\n",
    "    set_preds = set(predicted_asins)\n",
    "    num_relevant = len(set_actual.intersection(set_preds))\n",
    "    \n",
    "    # calculating recall@K - relevant / total relevant items\n",
    "    recall_at_k = num_relevant / len(asins)\n",
    "    \n",
    "    return recall_at_k\n",
    "\n",
    "def novelty_at_k(item_popularity, predicted_asins, k=10):\n",
    "    \"\"\"\n",
    "    \"\"\"\n",
    "    # finding avg novelty\n",
    "    popularity_sum = item_popularity.loc[predicted_asins].sum()\n",
    "    novelty_at_k = ((k*1) - popularity_sum) / k\n",
    "    \n",
    "    return novelty_at_k\n",
    "\n",
    "def generate_item_popularity(train: pd.DataFrame) -> pd.DataFrame:\n",
    "    \"\"\"\n",
    "    \"\"\"\n",
    "    \n",
    "    # create a mapping of item popularatity\n",
    "    # based on sum(item's review / max reviews) / no items\n",
    "    max_reviews = (train.groupby(['asin'])\n",
    "                   .agg({'processedReviewText': 'count'})\n",
    "                   .max()\n",
    "                   .values[0])\n",
    "    item_popularity = (train.groupby(['asin'])\n",
    "                       .agg({'processedReviewText': 'count'})\n",
    "                       .apply(lambda x: x/max_reviews))\n",
    "    \n",
    "    return item_popularity\n",
    "    \n",
    "\n",
    "def evaluate_recommendations(top_ns: dict, user_rating_history: pd.DataFrame, item_popularity: pd.DataFrame, k=10) -> pd.DataFrame:\n",
    "    \"\"\"\n",
    "    \n",
    "    Args:\n",
    "        top_ns\n",
    "        user_rating_history\n",
    "    \"\"\"\n",
    "    \n",
    "    test_recommendations = pd.DataFrame(top_ns.items(), columns=[\"reviewerID\", \"pred_asin\"])\n",
    "    test_recommendations['pred_asin'] = test_recommendations['pred_asin'].apply(lambda x: [i[0] for i in x])\n",
    "    \n",
    "    # combined test history and recommendations\n",
    "    test_merged = pd.merge(user_rating_history, test_recommendations, on=\"reviewerID\", how=\"inner\")\n",
    "    \n",
    "    # generating recall@k metrics\n",
    "    test_merged[\"recall@k\"] = test_merged.apply(lambda x: recall_at_k(x.asin, x.pred_asin, k=k), axis=1)\n",
    "    test_merged[\"novelty@k\"] = test_merged.apply(lambda x: novelty_at_k(item_popularity, x.pred_asin, k=k), axis=1)\n",
    "    average_recall_at_k = test_merged[\"recall@k\"].mean()\n",
    "    average_novelty_at_k = test_merged[\"novelty@k\"].mean()\n",
    "    \n",
    "    print(f\"The TI-MF has an average recall@{k}: {average_recall_at_k:.5f}, average novelty@{k}: {average_novelty_at_k:.5f}\")\n",
    "    \n",
    "    return test_merged"
   ]
  },
  {
   "cell_type": "markdown",
   "id": "b650e6f1",
   "metadata": {},
   "source": [
    "# Generate N-Recommendations = {10, 25, 30, 45}"
   ]
  },
  {
   "cell_type": "markdown",
   "id": "24d411a6",
   "metadata": {},
   "source": [
    "## Load Test Data"
   ]
  },
  {
   "cell_type": "code",
   "execution_count": 6,
   "id": "6ec8adeb",
   "metadata": {},
   "outputs": [],
   "source": [
    "test = pd.read_csv(f\"{DATA_PATH}/{CATEGORY}_test.csv\")"
   ]
  },
  {
   "cell_type": "code",
   "execution_count": 7,
   "id": "7c7af911",
   "metadata": {},
   "outputs": [
    {
     "data": {
      "text/html": [
       "<div>\n",
       "<style scoped>\n",
       "    .dataframe tbody tr th:only-of-type {\n",
       "        vertical-align: middle;\n",
       "    }\n",
       "\n",
       "    .dataframe tbody tr th {\n",
       "        vertical-align: top;\n",
       "    }\n",
       "\n",
       "    .dataframe thead th {\n",
       "        text-align: right;\n",
       "    }\n",
       "</style>\n",
       "<table border=\"1\" class=\"dataframe\">\n",
       "  <thead>\n",
       "    <tr style=\"text-align: right;\">\n",
       "      <th></th>\n",
       "      <th>index</th>\n",
       "      <th>asin</th>\n",
       "      <th>title</th>\n",
       "      <th>categories</th>\n",
       "      <th>reviewerID</th>\n",
       "      <th>overall</th>\n",
       "      <th>reviewText</th>\n",
       "      <th>reviewTime</th>\n",
       "      <th>processedReviewText</th>\n",
       "    </tr>\n",
       "  </thead>\n",
       "  <tbody>\n",
       "    <tr>\n",
       "      <th>0</th>\n",
       "      <td>2</td>\n",
       "      <td>9742356831</td>\n",
       "      <td>Mae Ploy Green Curry Paste, 14 oz</td>\n",
       "      <td>['Grocery &amp; Gourmet Food', 'Sauces, Gravies &amp; ...</td>\n",
       "      <td>A1TCSC0YWT82Q0</td>\n",
       "      <td>5.0</td>\n",
       "      <td>I love ethnic foods and to cook them. I recent...</td>\n",
       "      <td>2013-08-03</td>\n",
       "      <td>love ethnic food cook recently purchase produc...</td>\n",
       "    </tr>\n",
       "    <tr>\n",
       "      <th>1</th>\n",
       "      <td>8</td>\n",
       "      <td>9742356831</td>\n",
       "      <td>Mae Ploy Green Curry Paste, 14 oz</td>\n",
       "      <td>['Grocery &amp; Gourmet Food', 'Sauces, Gravies &amp; ...</td>\n",
       "      <td>A1Z7Y2GMAP9SRY</td>\n",
       "      <td>5.0</td>\n",
       "      <td>I like to make my own curry but this is a tast...</td>\n",
       "      <td>2014-06-27</td>\n",
       "      <td>like curry tasty alternative use base kind dif...</td>\n",
       "    </tr>\n",
       "    <tr>\n",
       "      <th>2</th>\n",
       "      <td>23</td>\n",
       "      <td>B00004S1C5</td>\n",
       "      <td>Ateco Food Coloring Kit, 6 colors</td>\n",
       "      <td>['Grocery &amp; Gourmet Food', 'Cooking &amp; Baking',...</td>\n",
       "      <td>A14YSMLYLJEMET</td>\n",
       "      <td>1.0</td>\n",
       "      <td>This product is no where near natural / organi...</td>\n",
       "      <td>2013-03-29</td>\n",
       "      <td>product near natural organic wish review purch...</td>\n",
       "    </tr>\n",
       "    <tr>\n",
       "      <th>3</th>\n",
       "      <td>31</td>\n",
       "      <td>B00005344V</td>\n",
       "      <td>Traditional Medicinals Organic Breathe Easy Se...</td>\n",
       "      <td>['Grocery &amp; Gourmet Food', 'Beverages', 'Coffe...</td>\n",
       "      <td>A2F488C4PLWGEI</td>\n",
       "      <td>5.0</td>\n",
       "      <td>If my wife drinks a cup of this tea when she f...</td>\n",
       "      <td>2014-03-23</td>\n",
       "      <td>wife drink cup tea feel attack come help avoid...</td>\n",
       "    </tr>\n",
       "    <tr>\n",
       "      <th>4</th>\n",
       "      <td>32</td>\n",
       "      <td>B00005344V</td>\n",
       "      <td>Traditional Medicinals Organic Breathe Easy Se...</td>\n",
       "      <td>['Grocery &amp; Gourmet Food', 'Beverages', 'Coffe...</td>\n",
       "      <td>AO1HXV7DWZZIR</td>\n",
       "      <td>5.0</td>\n",
       "      <td>I don't know about the medicinal aspects of th...</td>\n",
       "      <td>2014-02-06</td>\n",
       "      <td>know medicinal aspect tea flavor downright scr...</td>\n",
       "    </tr>\n",
       "    <tr>\n",
       "      <th>28001</th>\n",
       "      <td>77519</td>\n",
       "      <td>B00ISVHJ3Y</td>\n",
       "      <td>Wholesome Sweeteners, Organic Sweet and Lite S...</td>\n",
       "      <td>['Grocery &amp; Gourmet Food', 'Cooking &amp; Baking',...</td>\n",
       "      <td>A1WT3TVHANP7ZF</td>\n",
       "      <td>3.0</td>\n",
       "      <td>Hmmm. I really wanted to love this sweetener. ...</td>\n",
       "      <td>2014-07-22</td>\n",
       "      <td>hmmm want love sweetener half sugar half stevi...</td>\n",
       "    </tr>\n",
       "    <tr>\n",
       "      <th>28002</th>\n",
       "      <td>77520</td>\n",
       "      <td>B00ISVHJ3Y</td>\n",
       "      <td>Wholesome Sweeteners, Organic Sweet and Lite S...</td>\n",
       "      <td>['Grocery &amp; Gourmet Food', 'Cooking &amp; Baking',...</td>\n",
       "      <td>A3NEAETOSXDBOM</td>\n",
       "      <td>5.0</td>\n",
       "      <td>I confess I have a sweet tooth, and love the t...</td>\n",
       "      <td>2014-06-30</td>\n",
       "      <td>confess sweet tooth love taste sugar recognize...</td>\n",
       "    </tr>\n",
       "    <tr>\n",
       "      <th>28003</th>\n",
       "      <td>77521</td>\n",
       "      <td>B00ISVHJ3Y</td>\n",
       "      <td>Wholesome Sweeteners, Organic Sweet and Lite S...</td>\n",
       "      <td>['Grocery &amp; Gourmet Food', 'Cooking &amp; Baking',...</td>\n",
       "      <td>AD1ZOPB0BBEHB</td>\n",
       "      <td>4.0</td>\n",
       "      <td>It has a little of the stevia aftertaste, but ...</td>\n",
       "      <td>2014-07-17</td>\n",
       "      <td>little stevia aftertaste fair compromise able ...</td>\n",
       "    </tr>\n",
       "    <tr>\n",
       "      <th>28004</th>\n",
       "      <td>77522</td>\n",
       "      <td>B00ISVHJ3Y</td>\n",
       "      <td>Wholesome Sweeteners, Organic Sweet and Lite S...</td>\n",
       "      <td>['Grocery &amp; Gourmet Food', 'Cooking &amp; Baking',...</td>\n",
       "      <td>A18ECVX2RJ7HUE</td>\n",
       "      <td>5.0</td>\n",
       "      <td>i love marinade for grilled flank steak or lon...</td>\n",
       "      <td>2014-05-30</td>\n",
       "      <td>love marinade grilled flank steak london broil...</td>\n",
       "    </tr>\n",
       "    <tr>\n",
       "      <th>28005</th>\n",
       "      <td>77523</td>\n",
       "      <td>B00ISVHJ3Y</td>\n",
       "      <td>Wholesome Sweeteners, Organic Sweet and Lite S...</td>\n",
       "      <td>['Grocery &amp; Gourmet Food', 'Cooking &amp; Baking',...</td>\n",
       "      <td>A2G04D4QZAXL15</td>\n",
       "      <td>3.0</td>\n",
       "      <td>I've been using Truvia (a form of stevia) on m...</td>\n",
       "      <td>2014-05-27</td>\n",
       "      <td>use truvia form stevia cereal greek yogurt yea...</td>\n",
       "    </tr>\n",
       "  </tbody>\n",
       "</table>\n",
       "</div>"
      ],
      "text/plain": [
       "       index        asin                                              title  \\\n",
       "0          2  9742356831                  Mae Ploy Green Curry Paste, 14 oz   \n",
       "1          8  9742356831                  Mae Ploy Green Curry Paste, 14 oz   \n",
       "2         23  B00004S1C5                  Ateco Food Coloring Kit, 6 colors   \n",
       "3         31  B00005344V  Traditional Medicinals Organic Breathe Easy Se...   \n",
       "4         32  B00005344V  Traditional Medicinals Organic Breathe Easy Se...   \n",
       "28001  77519  B00ISVHJ3Y  Wholesome Sweeteners, Organic Sweet and Lite S...   \n",
       "28002  77520  B00ISVHJ3Y  Wholesome Sweeteners, Organic Sweet and Lite S...   \n",
       "28003  77521  B00ISVHJ3Y  Wholesome Sweeteners, Organic Sweet and Lite S...   \n",
       "28004  77522  B00ISVHJ3Y  Wholesome Sweeteners, Organic Sweet and Lite S...   \n",
       "28005  77523  B00ISVHJ3Y  Wholesome Sweeteners, Organic Sweet and Lite S...   \n",
       "\n",
       "                                              categories      reviewerID  \\\n",
       "0      ['Grocery & Gourmet Food', 'Sauces, Gravies & ...  A1TCSC0YWT82Q0   \n",
       "1      ['Grocery & Gourmet Food', 'Sauces, Gravies & ...  A1Z7Y2GMAP9SRY   \n",
       "2      ['Grocery & Gourmet Food', 'Cooking & Baking',...  A14YSMLYLJEMET   \n",
       "3      ['Grocery & Gourmet Food', 'Beverages', 'Coffe...  A2F488C4PLWGEI   \n",
       "4      ['Grocery & Gourmet Food', 'Beverages', 'Coffe...   AO1HXV7DWZZIR   \n",
       "28001  ['Grocery & Gourmet Food', 'Cooking & Baking',...  A1WT3TVHANP7ZF   \n",
       "28002  ['Grocery & Gourmet Food', 'Cooking & Baking',...  A3NEAETOSXDBOM   \n",
       "28003  ['Grocery & Gourmet Food', 'Cooking & Baking',...   AD1ZOPB0BBEHB   \n",
       "28004  ['Grocery & Gourmet Food', 'Cooking & Baking',...  A18ECVX2RJ7HUE   \n",
       "28005  ['Grocery & Gourmet Food', 'Cooking & Baking',...  A2G04D4QZAXL15   \n",
       "\n",
       "       overall                                         reviewText  reviewTime  \\\n",
       "0          5.0  I love ethnic foods and to cook them. I recent...  2013-08-03   \n",
       "1          5.0  I like to make my own curry but this is a tast...  2014-06-27   \n",
       "2          1.0  This product is no where near natural / organi...  2013-03-29   \n",
       "3          5.0  If my wife drinks a cup of this tea when she f...  2014-03-23   \n",
       "4          5.0  I don't know about the medicinal aspects of th...  2014-02-06   \n",
       "28001      3.0  Hmmm. I really wanted to love this sweetener. ...  2014-07-22   \n",
       "28002      5.0  I confess I have a sweet tooth, and love the t...  2014-06-30   \n",
       "28003      4.0  It has a little of the stevia aftertaste, but ...  2014-07-17   \n",
       "28004      5.0  i love marinade for grilled flank steak or lon...  2014-05-30   \n",
       "28005      3.0  I've been using Truvia (a form of stevia) on m...  2014-05-27   \n",
       "\n",
       "                                     processedReviewText  \n",
       "0      love ethnic food cook recently purchase produc...  \n",
       "1      like curry tasty alternative use base kind dif...  \n",
       "2      product near natural organic wish review purch...  \n",
       "3      wife drink cup tea feel attack come help avoid...  \n",
       "4      know medicinal aspect tea flavor downright scr...  \n",
       "28001  hmmm want love sweetener half sugar half stevi...  \n",
       "28002  confess sweet tooth love taste sugar recognize...  \n",
       "28003  little stevia aftertaste fair compromise able ...  \n",
       "28004  love marinade grilled flank steak london broil...  \n",
       "28005  use truvia form stevia cereal greek yogurt yea...  "
      ]
     },
     "execution_count": 7,
     "metadata": {},
     "output_type": "execute_result"
    }
   ],
   "source": [
    "test.head().append(test.tail())"
   ]
  },
  {
   "cell_type": "code",
   "execution_count": 8,
   "id": "2830b012",
   "metadata": {},
   "outputs": [],
   "source": [
    "# generating test history\n",
    "test_user_history = (pd.DataFrame(test.groupby(['reviewerID'])['asin']\n",
    "                                  .apply(list).reset_index()))"
   ]
  },
  {
   "cell_type": "code",
   "execution_count": 9,
   "id": "86f5e2a5",
   "metadata": {},
   "outputs": [
    {
     "name": "stdout",
     "output_type": "stream",
     "text": [
      "                  reviewerID  \\\n",
      "0      A00177463W0XWB16A9O05   \n",
      "1      A022899328A0QROR32DCT   \n",
      "2      A068255029AHTHDXZURNU   \n",
      "3      A06944662TFWOKKV4GJKX   \n",
      "4             A1004703RC79J9   \n",
      "...                      ...   \n",
      "13274          AZWRZZAMX90VT   \n",
      "13275          AZXKAH2DE6C8A   \n",
      "13276          AZXON596A1VXC   \n",
      "13277          AZYXC63SS008M   \n",
      "13278          AZZ5ASC403N74   \n",
      "\n",
      "                                                    asin  \n",
      "0                               [B00474OR8G, B00BFM6OAW]  \n",
      "1                                           [B00CMQDKES]  \n",
      "2                                           [B001FA1K2G]  \n",
      "3                                           [B000GFYRHG]  \n",
      "4                                           [B003GTR8IO]  \n",
      "...                                                  ...  \n",
      "13274  [B0007R9L4M, B000CN7BMA, B001EQ5D1K, B002VT3GX...  \n",
      "13275   [B000MAK41I, B004X8TJP2, B006H34CUS, B007W14RMM]  \n",
      "13276                           [B001EO5S0I, B00271QQ7Q]  \n",
      "13277                                       [B0054TWPNC]  \n",
      "13278                                       [B00BIEU5PC]  \n",
      "\n",
      "[13279 rows x 2 columns]\n"
     ]
    }
   ],
   "source": [
    "print(test_user_history)"
   ]
  },
  {
   "cell_type": "markdown",
   "id": "322bbb56",
   "metadata": {},
   "source": [
    "# Preparing Dataset for Surprise's Algorithm"
   ]
  },
  {
   "cell_type": "code",
   "execution_count": 10,
   "id": "64fb769b",
   "metadata": {},
   "outputs": [],
   "source": [
    "# create reader\n",
    "reader = Reader(rating_scale=(1,5))\n",
    "# generate data required for surprise\n",
    "data = Dataset.load_from_df(train[[\"reviewerID\", \"asin\", \"overall\"]], reader)\n",
    "# generating trainset\n",
    "trainset = data.build_full_trainset()"
   ]
  },
  {
   "cell_type": "markdown",
   "id": "9966a70d",
   "metadata": {},
   "source": [
    "# Instantiate Random Recommender (Topic Modelling)"
   ]
  },
  {
   "cell_type": "code",
   "execution_count": 12,
   "id": "045f9da1",
   "metadata": {},
   "outputs": [],
   "source": [
    "random = NormalPredictor()"
   ]
  },
  {
   "cell_type": "code",
   "execution_count": 13,
   "id": "04374f9f",
   "metadata": {},
   "outputs": [
    {
     "data": {
      "text/plain": [
       "<surprise.prediction_algorithms.random_pred.NormalPredictor at 0x1342484f0>"
      ]
     },
     "execution_count": 13,
     "metadata": {},
     "output_type": "execute_result"
    }
   ],
   "source": [
    "random.fit(trainset)"
   ]
  },
  {
   "cell_type": "code",
   "execution_count": 15,
   "id": "4eb99a53",
   "metadata": {},
   "outputs": [
    {
     "name": "stdout",
     "output_type": "stream",
     "text": [
      "CPU times: user 34.4 s, sys: 2.03 s, total: 36.4 s\n",
      "Wall time: 36.9 s\n"
     ]
    }
   ],
   "source": [
    "%%time\n",
    "# generate candidate items for user to predict rating\n",
    "testset = trainset.build_anti_testset()"
   ]
  },
  {
   "cell_type": "code",
   "execution_count": 16,
   "id": "8fe7949a",
   "metadata": {},
   "outputs": [
    {
     "name": "stdout",
     "output_type": "stream",
     "text": [
      "CPU times: user 8min 21s, sys: 4min 59s, total: 13min 20s\n",
      "Wall time: 17min 9s\n"
     ]
    }
   ],
   "source": [
    "%%time\n",
    "# predict ratings for all pairs (u, i) that are NOT in the training set\n",
    "candidate_items = random.test(testset, verbose=False)"
   ]
  },
  {
   "cell_type": "markdown",
   "id": "ce80581f",
   "metadata": {},
   "source": [
    "## Loop through N = {10, 25, 30, 45}"
   ]
  },
  {
   "cell_type": "code",
   "execution_count": 17,
   "id": "d4bc2c9c",
   "metadata": {},
   "outputs": [],
   "source": [
    "# generate item popularity\n",
    "item_popularity = generate_item_popularity(train)"
   ]
  },
  {
   "cell_type": "code",
   "execution_count": 18,
   "id": "9dcb59bd",
   "metadata": {},
   "outputs": [
    {
     "name": "stderr",
     "output_type": "stream",
     "text": [
      "100%|███████████████████████████████████████████████████████████████████████████████████████████████████████████████████████████████████████████████████████| 63307346/63307346 [01:28<00:00, 719049.11it/s]\n",
      "100%|████████████████████████████████████████████████████████████████████████████████████████████████████████████████████████████████████████████████████████████████| 13397/13397 [01:26<00:00, 154.28it/s]\n"
     ]
    },
    {
     "name": "stdout",
     "output_type": "stream",
     "text": [
      "The TI-MF has an average recall@10: 0.00054, average novelty@10: 0.95766\n"
     ]
    },
    {
     "name": "stderr",
     "output_type": "stream",
     "text": [
      "100%|███████████████████████████████████████████████████████████████████████████████████████████████████████████████████████████████████████████████████████| 63307346/63307346 [03:04<00:00, 342421.09it/s]\n",
      "100%|████████████████████████████████████████████████████████████████████████████████████████████████████████████████████████████████████████████████████████████████| 13397/13397 [01:39<00:00, 135.27it/s]\n"
     ]
    },
    {
     "name": "stdout",
     "output_type": "stream",
     "text": [
      "The TI-MF has an average recall@25: 0.00129, average novelty@25: 0.95966\n"
     ]
    },
    {
     "name": "stderr",
     "output_type": "stream",
     "text": [
      "100%|███████████████████████████████████████████████████████████████████████████████████████████████████████████████████████████████████████████████████████| 63307346/63307346 [03:48<00:00, 277623.62it/s]\n",
      "100%|████████████████████████████████████████████████████████████████████████████████████████████████████████████████████████████████████████████████████████████████| 13397/13397 [01:12<00:00, 185.52it/s]\n"
     ]
    },
    {
     "name": "stdout",
     "output_type": "stream",
     "text": [
      "The TI-MF has an average recall@30: 0.00201, average novelty@30: 0.96197\n"
     ]
    },
    {
     "name": "stderr",
     "output_type": "stream",
     "text": [
      "100%|███████████████████████████████████████████████████████████████████████████████████████████████████████████████████████████████████████████████████████| 63307346/63307346 [02:16<00:00, 465378.50it/s]\n",
      "100%|████████████████████████████████████████████████████████████████████████████████████████████████████████████████████████████████████████████████████████████████| 13397/13397 [00:29<00:00, 460.90it/s]\n"
     ]
    },
    {
     "name": "stdout",
     "output_type": "stream",
     "text": [
      "The TI-MF has an average recall@45: 0.00402, average novelty@45: 0.96668\n"
     ]
    }
   ],
   "source": [
    "n_recommendations = {}\n",
    "for n in [10, 25, 30, 45]:\n",
    "    # retrieve the top-n items based on similarities\n",
    "    top_ns = get_top_n(candidate_items, n)\n",
    "    # evaluate how well the recommended items predicted the future purchases\n",
    "    n_recommended_items = evaluate_recommendations(top_ns, test_user_history, item_popularity, n)\n",
    "    # saving the n-value and recommended items\n",
    "    n_recommendations[n] = (top_ns, n_recommended_items)"
   ]
  },
  {
   "cell_type": "code",
   "execution_count": null,
   "id": "f1910b98",
   "metadata": {},
   "outputs": [],
   "source": []
  }
 ],
 "metadata": {
  "kernelspec": {
   "display_name": "Python 3 (ipykernel)",
   "language": "python",
   "name": "python3"
  },
  "language_info": {
   "codemirror_mode": {
    "name": "ipython",
    "version": 3
   },
   "file_extension": ".py",
   "mimetype": "text/x-python",
   "name": "python",
   "nbconvert_exporter": "python",
   "pygments_lexer": "ipython3",
   "version": "3.9.6"
  }
 },
 "nbformat": 4,
 "nbformat_minor": 5
}
