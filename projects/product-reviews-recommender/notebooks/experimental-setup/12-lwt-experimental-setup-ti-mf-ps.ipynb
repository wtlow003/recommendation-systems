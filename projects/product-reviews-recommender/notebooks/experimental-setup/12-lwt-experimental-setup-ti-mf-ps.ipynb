{
 "cells": [
  {
   "cell_type": "code",
   "execution_count": 1,
   "id": "8989ccfe",
   "metadata": {
    "scrolled": true
   },
   "outputs": [
    {
     "name": "stderr",
     "output_type": "stream",
     "text": [
      "/Users/jensen/Desktop/recommendation-systems/projects/product-reviews-recommender/.venv/lib/python3.9/site-packages/gensim/similarities/__init__.py:15: UserWarning: The gensim.similarities.levenshtein submodule is disabled, because the optional Levenshtein package <https://pypi.org/project/python-Levenshtein/> is unavailable. Install Levenhstein (e.g. `pip install python-Levenshtein`) to suppress this warning.\n",
      "  warnings.warn(msg)\n"
     ]
    }
   ],
   "source": [
    "from collections import defaultdict\n",
    "from pprint import pprint\n",
    "\n",
    "import gensim\n",
    "import numpy as np\n",
    "import pandas as pd\n",
    "from surprise import Dataset, Reader\n",
    "from tqdm import tqdm\n",
    "\n",
    "from src.models import cf\n",
    "\n",
    "tqdm.pandas()"
   ]
  },
  {
   "cell_type": "markdown",
   "id": "0fc6b5b6",
   "metadata": {},
   "source": [
    "# Load Data"
   ]
  },
  {
   "cell_type": "code",
   "execution_count": 2,
   "id": "10702db9",
   "metadata": {},
   "outputs": [],
   "source": [
    "# global variables\n",
    "DATA_PATH = \"data/evaluation\"\n",
    "CATEGORY = \"Pet_Supplies\"\n",
    "\n",
    "# training parameters\n",
    "N_EPOCHS = 10\n",
    "LR_ALL = 0.005\n",
    "BETA = 0.1\n",
    "\n",
    "train = pd.read_csv(f\"{DATA_PATH}/{CATEGORY}_train.csv\")"
   ]
  },
  {
   "cell_type": "code",
   "execution_count": 3,
   "id": "8b501eea",
   "metadata": {},
   "outputs": [
    {
     "data": {
      "text/html": [
       "<div>\n",
       "<style scoped>\n",
       "    .dataframe tbody tr th:only-of-type {\n",
       "        vertical-align: middle;\n",
       "    }\n",
       "\n",
       "    .dataframe tbody tr th {\n",
       "        vertical-align: top;\n",
       "    }\n",
       "\n",
       "    .dataframe thead th {\n",
       "        text-align: right;\n",
       "    }\n",
       "</style>\n",
       "<table border=\"1\" class=\"dataframe\">\n",
       "  <thead>\n",
       "    <tr style=\"text-align: right;\">\n",
       "      <th></th>\n",
       "      <th>index</th>\n",
       "      <th>asin</th>\n",
       "      <th>title</th>\n",
       "      <th>categories</th>\n",
       "      <th>reviewerID</th>\n",
       "      <th>overall</th>\n",
       "      <th>reviewText</th>\n",
       "      <th>reviewTime</th>\n",
       "      <th>processedReviewText</th>\n",
       "    </tr>\n",
       "  </thead>\n",
       "  <tbody>\n",
       "    <tr>\n",
       "      <th>0</th>\n",
       "      <td>0</td>\n",
       "      <td>1223000893</td>\n",
       "      <td>Cat Sitter DVD Trilogy - Vol 1, Vol 2 and Vol 3</td>\n",
       "      <td>[]</td>\n",
       "      <td>A14CK12J7C7JRK</td>\n",
       "      <td>3.0</td>\n",
       "      <td>I purchased the Trilogy with hoping my two cat...</td>\n",
       "      <td>2011-01-12</td>\n",
       "      <td>purchase trilogy hop cat age interested yr old...</td>\n",
       "    </tr>\n",
       "    <tr>\n",
       "      <th>1</th>\n",
       "      <td>2</td>\n",
       "      <td>1223000893</td>\n",
       "      <td>Cat Sitter DVD Trilogy - Vol 1, Vol 2 and Vol 3</td>\n",
       "      <td>[]</td>\n",
       "      <td>A2CR37UY3VR7BN</td>\n",
       "      <td>4.0</td>\n",
       "      <td>I bought the triliogy and have tested out all ...</td>\n",
       "      <td>2012-12-19</td>\n",
       "      <td>buy triliogy test dvd appear volume receive re...</td>\n",
       "    </tr>\n",
       "    <tr>\n",
       "      <th>2</th>\n",
       "      <td>3</td>\n",
       "      <td>1223000893</td>\n",
       "      <td>Cat Sitter DVD Trilogy - Vol 1, Vol 2 and Vol 3</td>\n",
       "      <td>[]</td>\n",
       "      <td>A2A4COGL9VW2HY</td>\n",
       "      <td>4.0</td>\n",
       "      <td>My female kitty could care less about these vi...</td>\n",
       "      <td>2011-05-12</td>\n",
       "      <td>female kitty care video care little male dig a...</td>\n",
       "    </tr>\n",
       "    <tr>\n",
       "      <th>3</th>\n",
       "      <td>4</td>\n",
       "      <td>1223000893</td>\n",
       "      <td>Cat Sitter DVD Trilogy - Vol 1, Vol 2 and Vol 3</td>\n",
       "      <td>[]</td>\n",
       "      <td>A2UBQA85NIGLHA</td>\n",
       "      <td>3.0</td>\n",
       "      <td>If I had gotten just volume two, I would have ...</td>\n",
       "      <td>2012-03-05</td>\n",
       "      <td>volume star trilogy star read review know vol ...</td>\n",
       "    </tr>\n",
       "    <tr>\n",
       "      <th>4</th>\n",
       "      <td>5</td>\n",
       "      <td>B00005MF9U</td>\n",
       "      <td>LitterMaid LM900 Mega Self-Cleaning Litter Box</td>\n",
       "      <td>['Pet Supplies', 'Cats', 'Litter &amp;amp; Housebr...</td>\n",
       "      <td>A2BH04B9G9LOYA</td>\n",
       "      <td>1.0</td>\n",
       "      <td>First off, it seems that someone is spamming t...</td>\n",
       "      <td>2006-12-31</td>\n",
       "      <td>spamming review glow reviewer review amazon ba...</td>\n",
       "    </tr>\n",
       "    <tr>\n",
       "      <th>68865</th>\n",
       "      <td>111581</td>\n",
       "      <td>B00K3YPOO0</td>\n",
       "      <td>Brightest Black Light Flashlight on Amazon- UV...</td>\n",
       "      <td>[]</td>\n",
       "      <td>A11J1FHCK5U06J</td>\n",
       "      <td>4.0</td>\n",
       "      <td>Now I know exactly where the trouble spots are...</td>\n",
       "      <td>2014-05-23</td>\n",
       "      <td>know exactly trouble spot sniffing guess invis...</td>\n",
       "    </tr>\n",
       "    <tr>\n",
       "      <th>68866</th>\n",
       "      <td>111585</td>\n",
       "      <td>B00K3YPOO0</td>\n",
       "      <td>Brightest Black Light Flashlight on Amazon- UV...</td>\n",
       "      <td>[]</td>\n",
       "      <td>A18JF0T0GOCORW</td>\n",
       "      <td>4.0</td>\n",
       "      <td>I use this light to help me find stains when I...</td>\n",
       "      <td>2014-05-24</td>\n",
       "      <td>use light help stain carpet clean pre treat ca...</td>\n",
       "    </tr>\n",
       "    <tr>\n",
       "      <th>68867</th>\n",
       "      <td>111595</td>\n",
       "      <td>B00K7EG97C</td>\n",
       "      <td>Nutro Crunchy Dog Treats with Real Mixed Berri...</td>\n",
       "      <td>['Pet Supplies', 'Dogs', 'Treats', 'Cookies, B...</td>\n",
       "      <td>A3GRPCW9DG427Z</td>\n",
       "      <td>5.0</td>\n",
       "      <td>We are owned by the 3 pickiest pooches in the ...</td>\n",
       "      <td>2013-07-27</td>\n",
       "      <td>pickiest pooch world love fool reject doggie t...</td>\n",
       "    </tr>\n",
       "    <tr>\n",
       "      <th>68868</th>\n",
       "      <td>111598</td>\n",
       "      <td>B00K7EG97C</td>\n",
       "      <td>Nutro Crunchy Dog Treats with Real Mixed Berri...</td>\n",
       "      <td>['Pet Supplies', 'Dogs', 'Treats', 'Cookies, B...</td>\n",
       "      <td>A2X6TLAX3JEO1A</td>\n",
       "      <td>5.0</td>\n",
       "      <td>My highly allergic white boxer loves these tre...</td>\n",
       "      <td>2014-05-09</td>\n",
       "      <td>highly allergic white boxer love treat meat co...</td>\n",
       "    </tr>\n",
       "    <tr>\n",
       "      <th>68869</th>\n",
       "      <td>111602</td>\n",
       "      <td>B00KJGFGFO</td>\n",
       "      <td>Curry Brush with Coarse or Fine Bristles. High...</td>\n",
       "      <td>[]</td>\n",
       "      <td>A9PG9ODPPP31N</td>\n",
       "      <td>5.0</td>\n",
       "      <td>Works great on my medium sized dog. She has ve...</td>\n",
       "      <td>2014-07-09</td>\n",
       "      <td>work great medium size dog coarse hair work gr...</td>\n",
       "    </tr>\n",
       "  </tbody>\n",
       "</table>\n",
       "</div>"
      ],
      "text/plain": [
       "        index        asin                                              title  \\\n",
       "0           0  1223000893    Cat Sitter DVD Trilogy - Vol 1, Vol 2 and Vol 3   \n",
       "1           2  1223000893    Cat Sitter DVD Trilogy - Vol 1, Vol 2 and Vol 3   \n",
       "2           3  1223000893    Cat Sitter DVD Trilogy - Vol 1, Vol 2 and Vol 3   \n",
       "3           4  1223000893    Cat Sitter DVD Trilogy - Vol 1, Vol 2 and Vol 3   \n",
       "4           5  B00005MF9U     LitterMaid LM900 Mega Self-Cleaning Litter Box   \n",
       "68865  111581  B00K3YPOO0  Brightest Black Light Flashlight on Amazon- UV...   \n",
       "68866  111585  B00K3YPOO0  Brightest Black Light Flashlight on Amazon- UV...   \n",
       "68867  111595  B00K7EG97C  Nutro Crunchy Dog Treats with Real Mixed Berri...   \n",
       "68868  111598  B00K7EG97C  Nutro Crunchy Dog Treats with Real Mixed Berri...   \n",
       "68869  111602  B00KJGFGFO  Curry Brush with Coarse or Fine Bristles. High...   \n",
       "\n",
       "                                              categories      reviewerID  \\\n",
       "0                                                     []  A14CK12J7C7JRK   \n",
       "1                                                     []  A2CR37UY3VR7BN   \n",
       "2                                                     []  A2A4COGL9VW2HY   \n",
       "3                                                     []  A2UBQA85NIGLHA   \n",
       "4      ['Pet Supplies', 'Cats', 'Litter &amp; Housebr...  A2BH04B9G9LOYA   \n",
       "68865                                                 []  A11J1FHCK5U06J   \n",
       "68866                                                 []  A18JF0T0GOCORW   \n",
       "68867  ['Pet Supplies', 'Dogs', 'Treats', 'Cookies, B...  A3GRPCW9DG427Z   \n",
       "68868  ['Pet Supplies', 'Dogs', 'Treats', 'Cookies, B...  A2X6TLAX3JEO1A   \n",
       "68869                                                 []   A9PG9ODPPP31N   \n",
       "\n",
       "       overall                                         reviewText  reviewTime  \\\n",
       "0          3.0  I purchased the Trilogy with hoping my two cat...  2011-01-12   \n",
       "1          4.0  I bought the triliogy and have tested out all ...  2012-12-19   \n",
       "2          4.0  My female kitty could care less about these vi...  2011-05-12   \n",
       "3          3.0  If I had gotten just volume two, I would have ...  2012-03-05   \n",
       "4          1.0  First off, it seems that someone is spamming t...  2006-12-31   \n",
       "68865      4.0  Now I know exactly where the trouble spots are...  2014-05-23   \n",
       "68866      4.0  I use this light to help me find stains when I...  2014-05-24   \n",
       "68867      5.0  We are owned by the 3 pickiest pooches in the ...  2013-07-27   \n",
       "68868      5.0  My highly allergic white boxer loves these tre...  2014-05-09   \n",
       "68869      5.0  Works great on my medium sized dog. She has ve...  2014-07-09   \n",
       "\n",
       "                                     processedReviewText  \n",
       "0      purchase trilogy hop cat age interested yr old...  \n",
       "1      buy triliogy test dvd appear volume receive re...  \n",
       "2      female kitty care video care little male dig a...  \n",
       "3      volume star trilogy star read review know vol ...  \n",
       "4      spamming review glow reviewer review amazon ba...  \n",
       "68865  know exactly trouble spot sniffing guess invis...  \n",
       "68866  use light help stain carpet clean pre treat ca...  \n",
       "68867  pickiest pooch world love fool reject doggie t...  \n",
       "68868  highly allergic white boxer love treat meat co...  \n",
       "68869  work great medium size dog coarse hair work gr...  "
      ]
     },
     "execution_count": 3,
     "metadata": {},
     "output_type": "execute_result"
    }
   ],
   "source": [
    "# checking train dataframe\n",
    "train.head().append(train.tail())"
   ]
  },
  {
   "cell_type": "markdown",
   "id": "7f7cc66e",
   "metadata": {},
   "source": [
    "# Preparing Topic Vectors"
   ]
  },
  {
   "cell_type": "code",
   "execution_count": 4,
   "id": "5481e594",
   "metadata": {},
   "outputs": [],
   "source": [
    "class LDA:\n",
    "    def __init__(self, reviews):\n",
    "        self.reviews = reviews\n",
    "        self.lda = None\n",
    "        self.dictionary = None\n",
    "\n",
    "    def train(self, n_topics=50, n_epochs=20, workers=8):\n",
    "        # tokenizations\n",
    "        dictionary = gensim.corpora.Dictionary(self.reviews)\n",
    "        # filtering tokens less than 5 reviews, more than 0.85 reviews\n",
    "        dictionary.filter_extremes(no_below=5, no_above=0.85)\n",
    "        # creating dict how many words and time it appears\n",
    "        bow_corpus = [dictionary.doc2bow(doc) for doc in self.reviews]\n",
    "        \n",
    "        # train model\n",
    "        self.lda = gensim.models.LdaMulticore(bow_corpus, \n",
    "                                              num_topics=n_topics, \n",
    "                                              id2word=dictionary, \n",
    "                                              passes=n_epochs,\n",
    "                                              workers=workers)\n",
    "        # save dictionary\n",
    "        self.dictionary = dictionary\n",
    "        \n",
    "    def get_document_topics(self, doc, minimum_probability=0.0):\n",
    "        \"\"\"\n",
    "        \"\"\"\n",
    "        return self.lda.get_document_topics(doc, minimum_probability=minimum_probability)"
   ]
  },
  {
   "cell_type": "code",
   "execution_count": 5,
   "id": "df05785c",
   "metadata": {},
   "outputs": [
    {
     "name": "stderr",
     "output_type": "stream",
     "text": [
      "100%|█████████████████████████████████████████████████████████████████████████████████████████████████████████████████████████████████████████████████████████████| 68870/68870 [00:00<00:00, 181937.33it/s]\n"
     ]
    }
   ],
   "source": [
    "# generating tokenized reviews\n",
    "processed_reviews = train[\"processedReviewText\"].progress_apply(lambda x: x.split())"
   ]
  },
  {
   "cell_type": "code",
   "execution_count": 6,
   "id": "928d28c4",
   "metadata": {},
   "outputs": [],
   "source": [
    "# instantiate lda model\n",
    "lda_model = LDA(processed_reviews)"
   ]
  },
  {
   "cell_type": "code",
   "execution_count": 7,
   "id": "5b80e17d",
   "metadata": {},
   "outputs": [
    {
     "name": "stderr",
     "output_type": "stream",
     "text": [
      "/Users/jensen/Desktop/recommendation-systems/projects/product-reviews-recommender/.venv/lib/python3.9/site-packages/gensim/similarities/__init__.py:15: UserWarning: The gensim.similarities.levenshtein submodule is disabled, because the optional Levenshtein package <https://pypi.org/project/python-Levenshtein/> is unavailable. Install Levenhstein (e.g. `pip install python-Levenshtein`) to suppress this warning.\n",
      "  warnings.warn(msg)\n",
      "/Users/jensen/Desktop/recommendation-systems/projects/product-reviews-recommender/.venv/lib/python3.9/site-packages/gensim/similarities/__init__.py:15: UserWarning: The gensim.similarities.levenshtein submodule is disabled, because the optional Levenshtein package <https://pypi.org/project/python-Levenshtein/> is unavailable. Install Levenhstein (e.g. `pip install python-Levenshtein`) to suppress this warning.\n",
      "  warnings.warn(msg)\n",
      "/Users/jensen/Desktop/recommendation-systems/projects/product-reviews-recommender/.venv/lib/python3.9/site-packages/gensim/similarities/__init__.py:15: UserWarning: The gensim.similarities.levenshtein submodule is disabled, because the optional Levenshtein package <https://pypi.org/project/python-Levenshtein/> is unavailable. Install Levenhstein (e.g. `pip install python-Levenshtein`) to suppress this warning.\n",
      "  warnings.warn(msg)\n",
      "/Users/jensen/Desktop/recommendation-systems/projects/product-reviews-recommender/.venv/lib/python3.9/site-packages/gensim/similarities/__init__.py:15: UserWarning: The gensim.similarities.levenshtein submodule is disabled, because the optional Levenshtein package <https://pypi.org/project/python-Levenshtein/> is unavailable. Install Levenhstein (e.g. `pip install python-Levenshtein`) to suppress this warning.\n",
      "  warnings.warn(msg)\n",
      "/Users/jensen/Desktop/recommendation-systems/projects/product-reviews-recommender/.venv/lib/python3.9/site-packages/gensim/similarities/__init__.py:15: UserWarning: The gensim.similarities.levenshtein submodule is disabled, because the optional Levenshtein package <https://pypi.org/project/python-Levenshtein/> is unavailable. Install Levenhstein (e.g. `pip install python-Levenshtein`) to suppress this warning.\n",
      "  warnings.warn(msg)\n",
      "/Users/jensen/Desktop/recommendation-systems/projects/product-reviews-recommender/.venv/lib/python3.9/site-packages/gensim/similarities/__init__.py:15: UserWarning: The gensim.similarities.levenshtein submodule is disabled, because the optional Levenshtein package <https://pypi.org/project/python-Levenshtein/> is unavailable. Install Levenhstein (e.g. `pip install python-Levenshtein`) to suppress this warning.\n",
      "  warnings.warn(msg)\n",
      "/Users/jensen/Desktop/recommendation-systems/projects/product-reviews-recommender/.venv/lib/python3.9/site-packages/gensim/similarities/__init__.py:15: UserWarning: The gensim.similarities.levenshtein submodule is disabled, because the optional Levenshtein package <https://pypi.org/project/python-Levenshtein/> is unavailable. Install Levenhstein (e.g. `pip install python-Levenshtein`) to suppress this warning.\n",
      "  warnings.warn(msg)\n",
      "/Users/jensen/Desktop/recommendation-systems/projects/product-reviews-recommender/.venv/lib/python3.9/site-packages/gensim/similarities/__init__.py:15: UserWarning: The gensim.similarities.levenshtein submodule is disabled, because the optional Levenshtein package <https://pypi.org/project/python-Levenshtein/> is unavailable. Install Levenhstein (e.g. `pip install python-Levenshtein`) to suppress this warning.\n",
      "  warnings.warn(msg)\n"
     ]
    },
    {
     "name": "stdout",
     "output_type": "stream",
     "text": [
      "CPU times: user 2min 39s, sys: 28.3 s, total: 3min 7s\n",
      "Wall time: 3min 52s\n"
     ]
    }
   ],
   "source": [
    "%%time\n",
    "# training the LDA model\n",
    "lda_model.train()"
   ]
  },
  {
   "cell_type": "markdown",
   "id": "53537751",
   "metadata": {},
   "source": [
    "# Generating User/Item Topic Vectors"
   ]
  },
  {
   "cell_type": "code",
   "execution_count": 8,
   "id": "c660a07a",
   "metadata": {},
   "outputs": [],
   "source": [
    "def get_topic_vectors(model, corpus, n_topics=50):\n",
    "    \"\"\"\n",
    "    \"\"\"\n",
    "    topic_vecs = []\n",
    "    for i in tqdm(range(len(corpus))):\n",
    "        top_topics = model.get_document_topics(corpus[i])\n",
    "        topic_vecs.append([top_topics[i][1] for i in range(n_topics)])\n",
    "        \n",
    "    return topic_vecs\n",
    "\n",
    "def generate_user_item_vectors(lda: LDA, train: pd.DataFrame):\n",
    "    \"\"\"\n",
    "    \"\"\"\n",
    "    user_reviews = train.groupby([\"reviewerID\"])['processedReviewText'].apply(lambda x: ' '.join(x))\n",
    "    item_reviews = train.groupby([\"asin\"])[\"processedReviewText\"].apply(lambda x: ' '.join(x))\n",
    "    \n",
    "    # get unique users and items\n",
    "    unique_users = user_reviews.index.tolist()\n",
    "    unique_items = item_reviews.index.tolist()\n",
    "    \n",
    "    # tokenize reviews\n",
    "    user_reviews_list = user_reviews.apply(lambda x: x.split()).tolist()\n",
    "    item_reviews_list = item_reviews.apply(lambda x: x.split()).tolist()\n",
    "    \n",
    "    # generate corpus based on aggregate of user/item reviews\n",
    "    user_corpus = [lda.dictionary.doc2bow(doc) for doc in user_reviews_list]\n",
    "    item_corpus = [lda.dictionary.doc2bow(doc) for doc in item_reviews_list]\n",
    "    \n",
    "    # retrieve user and item topics vectors\n",
    "    user_vecs = get_topic_vectors(lda, user_corpus)\n",
    "    item_vecs = get_topic_vectors(lda, item_corpus)\n",
    "    \n",
    "    # generate a mapping \n",
    "    user_idx_map = {k: unique_users[k] for k in range(len(unique_users))}\n",
    "    item_idx_map = {k: unique_items[k] for k in range(len(unique_items))}\n",
    "    user_vec_map = {k: v for k, v in zip(unique_users, user_vecs)}\n",
    "    item_vec_map = {k: v for k, v in zip(unique_items, item_vecs)}\n",
    "    \n",
    "    # loading user topic vectors into DF\n",
    "    user_vecs = pd.DataFrame.from_dict(user_vec_map, orient='index')\n",
    "    user_vecs.index.name = 'reviewerID'\n",
    "    # loading item topic vectors into DF\n",
    "    item_vecs = pd.DataFrame.from_dict(item_vec_map, orient='index')\n",
    "    item_vecs.index.name = 'asin'\n",
    "    \n",
    "    return user_idx_map, user_vecs, item_idx_map, item_vecs"
   ]
  },
  {
   "cell_type": "code",
   "execution_count": 9,
   "id": "5e0d386e",
   "metadata": {},
   "outputs": [
    {
     "name": "stderr",
     "output_type": "stream",
     "text": [
      "100%|███████████████████████████████████████████████████████████████████████████████████████████████████████████████████████████████████████████████████████████████| 19058/19058 [00:12<00:00, 1495.32it/s]\n",
      "100%|██████████████████████████████████████████████████████████████████████████████████████████████████████████████████████████████████████████████████████████████████| 4878/4878 [00:06<00:00, 756.40it/s]\n"
     ]
    }
   ],
   "source": [
    "user_idx_map, user_vecs, item_idx_map, item_vecs = generate_user_item_vectors(lda_model, train)"
   ]
  },
  {
   "cell_type": "code",
   "execution_count": 10,
   "id": "9e9bebb5",
   "metadata": {},
   "outputs": [],
   "source": [
    "# converting factors into numpy obj\n",
    "user_factors = user_vecs.to_numpy()\n",
    "item_factors = item_vecs.to_numpy()"
   ]
  },
  {
   "cell_type": "code",
   "execution_count": 11,
   "id": "549515a7",
   "metadata": {},
   "outputs": [
    {
     "data": {
      "text/plain": [
       "array([0.00036378, 0.13002966, 0.00036378, 0.00036378, 0.00036378,\n",
       "       0.19430454, 0.00036378, 0.00036378, 0.00036378, 0.00036378,\n",
       "       0.00036378, 0.00036378, 0.00036378, 0.00036378, 0.00036378,\n",
       "       0.00036378, 0.00036378, 0.00036378, 0.00036378, 0.00036378,\n",
       "       0.00036378, 0.00036378, 0.07538441, 0.00036378, 0.11798983,\n",
       "       0.00036378, 0.00036378, 0.00036378, 0.00036378, 0.00036378,\n",
       "       0.00036378, 0.00036378, 0.00036378, 0.00036378, 0.00036378,\n",
       "       0.00036378, 0.00036378, 0.05412404, 0.20626469, 0.00036378,\n",
       "       0.12013067, 0.00036378, 0.00036378, 0.08649324, 0.00036378,\n",
       "       0.00036378, 0.00036378, 0.00036378, 0.00036378, 0.00036378],\n",
       "      dtype=float32)"
      ]
     },
     "execution_count": 11,
     "metadata": {},
     "output_type": "execute_result"
    }
   ],
   "source": [
    "# check user factors\n",
    "user_factors[0,:]"
   ]
  },
  {
   "cell_type": "code",
   "execution_count": 12,
   "id": "9d06c7c4",
   "metadata": {},
   "outputs": [
    {
     "data": {
      "text/plain": [
       "array([2.6423439e-01, 1.4528287e-04, 2.6851520e-02, 4.5869824e-02,\n",
       "       1.4528287e-04, 1.4528287e-04, 1.4528287e-04, 1.6984434e-01,\n",
       "       1.4528287e-04, 1.4528287e-04, 1.4528287e-04, 1.4528287e-04,\n",
       "       1.4528287e-04, 1.4528287e-04, 1.4528287e-04, 1.4528287e-04,\n",
       "       1.4528287e-04, 1.4528287e-04, 1.4528287e-04, 1.4528287e-04,\n",
       "       3.3183634e-02, 1.4528287e-04, 2.3089450e-02, 1.4528287e-04,\n",
       "       1.4528287e-04, 1.4528287e-04, 1.4528287e-04, 1.4528287e-04,\n",
       "       2.8263895e-02, 1.4557328e-02, 1.1008586e-01, 1.4528287e-04,\n",
       "       1.4528287e-04, 6.3512892e-02, 9.6558370e-02, 1.4528287e-04,\n",
       "       1.4528287e-04, 1.2390847e-02, 3.9634366e-02, 1.4528287e-04,\n",
       "       1.4528287e-04, 1.4528287e-04, 1.4528287e-04, 1.4528287e-04,\n",
       "       1.4528287e-04, 6.6693068e-02, 1.4528287e-04, 1.4528287e-04,\n",
       "       1.4528287e-04, 1.4528287e-04], dtype=float32)"
      ]
     },
     "execution_count": 12,
     "metadata": {},
     "output_type": "execute_result"
    }
   ],
   "source": [
    "# check item factors\n",
    "item_factors[0,:]"
   ]
  },
  {
   "cell_type": "markdown",
   "id": "94084615",
   "metadata": {},
   "source": [
    "# Utility Functions"
   ]
  },
  {
   "cell_type": "code",
   "execution_count": 13,
   "id": "57666372",
   "metadata": {},
   "outputs": [],
   "source": [
    "def get_top_n(predictions, n=10):\n",
    "    \"\"\"Return the top-N recommendation for each user from a set of predictions.\n",
    "\n",
    "    Args:\n",
    "        predictions(list of Prediction objects): The list of predictions, as\n",
    "            returned by the test method of an algorithm.\n",
    "        n(int): The number of recommendation to output for each user. Default\n",
    "            is 10.\n",
    "\n",
    "    Returns:\n",
    "    A dict where keys are user (raw) ids and values are lists of tuples:\n",
    "        [(raw item id, rating estimation), ...] of size n.\n",
    "    \"\"\"\n",
    "\n",
    "    # First map the predictions to each user.\n",
    "    top_n = defaultdict(list)\n",
    "    for uid, iid, true_r, est, _ in tqdm(predictions):\n",
    "        top_n[uid].append((iid, est))\n",
    "\n",
    "    # Then sort the predictions for each user and retrieve the k highest ones.\n",
    "    for uid, user_ratings in tqdm(top_n.items()):\n",
    "        user_ratings.sort(key=lambda x: x[1], reverse=True)\n",
    "        top_n[uid] = user_ratings[:n]\n",
    "\n",
    "    return top_n\n",
    "\n",
    "def recall_at_k(asins, predicted_asins, k=10):\n",
    "    # number of relevant items\n",
    "    set_actual = set(asins)\n",
    "    set_preds = set(predicted_asins)\n",
    "    num_relevant = len(set_actual.intersection(set_preds))\n",
    "    \n",
    "    # calculating recall@K - relevant / total relevant items\n",
    "    recall_at_k = num_relevant / len(asins)\n",
    "    \n",
    "    return recall_at_k\n",
    "\n",
    "def novelty_at_k(item_popularity, predicted_asins, k=10):\n",
    "    \"\"\"\n",
    "    \"\"\"\n",
    "    # finding avg novelty\n",
    "    popularity_sum = item_popularity.loc[predicted_asins].sum()\n",
    "    novelty_at_k = ((k*1) - popularity_sum) / k\n",
    "    \n",
    "    return novelty_at_k\n",
    "\n",
    "def generate_item_popularity(train: pd.DataFrame) -> pd.DataFrame:\n",
    "    \"\"\"\n",
    "    \"\"\"\n",
    "    \n",
    "    # create a mapping of item popularatity\n",
    "    # based on sum(item's review / max reviews) / no items\n",
    "    max_reviews = (train.groupby(['asin'])\n",
    "                   .agg({'processedReviewText': 'count'})\n",
    "                   .max()\n",
    "                   .values[0])\n",
    "    item_popularity = (train.groupby(['asin'])\n",
    "                       .agg({'processedReviewText': 'count'})\n",
    "                       .apply(lambda x: x/max_reviews))\n",
    "    \n",
    "    return item_popularity\n",
    "    \n",
    "\n",
    "def evaluate_recommendations(top_ns: dict, user_rating_history: pd.DataFrame, item_popularity: pd.DataFrame, k=10) -> pd.DataFrame:\n",
    "    \"\"\"\n",
    "    \n",
    "    Args:\n",
    "        top_ns\n",
    "        user_rating_history\n",
    "    \"\"\"\n",
    "    \n",
    "    test_recommendations = pd.DataFrame(top_ns.items(), columns=[\"reviewerID\", \"pred_asin\"])\n",
    "    test_recommendations['pred_asin'] = test_recommendations['pred_asin'].apply(lambda x: [i[0] for i in x])\n",
    "    \n",
    "    # combined test history and recommendations\n",
    "    test_merged = pd.merge(user_rating_history, test_recommendations, on=\"reviewerID\", how=\"inner\")\n",
    "    \n",
    "    # generating recall@k metrics\n",
    "    test_merged[\"recall@k\"] = test_merged.apply(lambda x: recall_at_k(x.asin, x.pred_asin, k=k), axis=1)\n",
    "    test_merged[\"novelty@k\"] = test_merged.apply(lambda x: novelty_at_k(item_popularity, x.pred_asin, k=k), axis=1)\n",
    "    average_recall_at_k = test_merged[\"recall@k\"].mean()\n",
    "    average_novelty_at_k = test_merged[\"novelty@k\"].mean()\n",
    "    \n",
    "    print(f\"The TI-MF has an average recall@{k}: {average_recall_at_k:.5f}, average novelty@{k}: {average_novelty_at_k:.5f}\")\n",
    "    \n",
    "    return test_merged"
   ]
  },
  {
   "cell_type": "markdown",
   "id": "ea420a3f",
   "metadata": {},
   "source": [
    "# Generate N-Recommendations = {10, 25, 30, 45}"
   ]
  },
  {
   "cell_type": "markdown",
   "id": "057aa77f",
   "metadata": {},
   "source": [
    "## Load Test Data"
   ]
  },
  {
   "cell_type": "code",
   "execution_count": 14,
   "id": "52c2f6aa",
   "metadata": {},
   "outputs": [],
   "source": [
    "test = pd.read_csv(f\"{DATA_PATH}/{CATEGORY}_test.csv\")"
   ]
  },
  {
   "cell_type": "code",
   "execution_count": 15,
   "id": "84c8e1d6",
   "metadata": {},
   "outputs": [
    {
     "data": {
      "text/html": [
       "<div>\n",
       "<style scoped>\n",
       "    .dataframe tbody tr th:only-of-type {\n",
       "        vertical-align: middle;\n",
       "    }\n",
       "\n",
       "    .dataframe tbody tr th {\n",
       "        vertical-align: top;\n",
       "    }\n",
       "\n",
       "    .dataframe thead th {\n",
       "        text-align: right;\n",
       "    }\n",
       "</style>\n",
       "<table border=\"1\" class=\"dataframe\">\n",
       "  <thead>\n",
       "    <tr style=\"text-align: right;\">\n",
       "      <th></th>\n",
       "      <th>index</th>\n",
       "      <th>asin</th>\n",
       "      <th>title</th>\n",
       "      <th>categories</th>\n",
       "      <th>reviewerID</th>\n",
       "      <th>overall</th>\n",
       "      <th>reviewText</th>\n",
       "      <th>reviewTime</th>\n",
       "      <th>processedReviewText</th>\n",
       "    </tr>\n",
       "  </thead>\n",
       "  <tbody>\n",
       "    <tr>\n",
       "      <th>0</th>\n",
       "      <td>1</td>\n",
       "      <td>1223000893</td>\n",
       "      <td>Cat Sitter DVD Trilogy - Vol 1, Vol 2 and Vol 3</td>\n",
       "      <td>[]</td>\n",
       "      <td>A39QHP5WLON5HV</td>\n",
       "      <td>5.0</td>\n",
       "      <td>There are usually one or more of my cats watch...</td>\n",
       "      <td>2013-09-14</td>\n",
       "      <td>usually cat watch tv stay trouble dvd play lik...</td>\n",
       "    </tr>\n",
       "    <tr>\n",
       "      <th>1</th>\n",
       "      <td>104</td>\n",
       "      <td>B00005MF9V</td>\n",
       "      <td>LitterMaid Universal Cat Privacy Tent (LMT100)</td>\n",
       "      <td>['Pet Supplies', 'Cats', 'Litter &amp; Housebreaki...</td>\n",
       "      <td>A366V0GCEPH5CX</td>\n",
       "      <td>5.0</td>\n",
       "      <td>My cats love it and so do I. I no longer have ...</td>\n",
       "      <td>2013-02-02</td>\n",
       "      <td>cat love longer cat litter fly floor litter fl...</td>\n",
       "    </tr>\n",
       "    <tr>\n",
       "      <th>2</th>\n",
       "      <td>133</td>\n",
       "      <td>B00005MF9T</td>\n",
       "      <td>LitterMaid LM500 Automated Litter Box</td>\n",
       "      <td>['Pet Supplies', 'Cats', 'Litter &amp; Housebreaki...</td>\n",
       "      <td>ALWWS8QBYN80B</td>\n",
       "      <td>1.0</td>\n",
       "      <td>I have one female cat that weighs under 10 pou...</td>\n",
       "      <td>2004-11-17</td>\n",
       "      <td>female cat weigh pound year old use everclean ...</td>\n",
       "    </tr>\n",
       "    <tr>\n",
       "      <th>3</th>\n",
       "      <td>153</td>\n",
       "      <td>B00005MF9W</td>\n",
       "      <td>LitterMaid Waste Receptacles Automatic Litter ...</td>\n",
       "      <td>['Pet Supplies', 'Cats', 'Litter &amp; Housebreaki...</td>\n",
       "      <td>A3PVI3NE7OY1SP</td>\n",
       "      <td>5.0</td>\n",
       "      <td>I love these. They make the clean up so much e...</td>\n",
       "      <td>2013-09-26</td>\n",
       "      <td>love clean easy clean box manually use issue w...</td>\n",
       "    </tr>\n",
       "    <tr>\n",
       "      <th>4</th>\n",
       "      <td>154</td>\n",
       "      <td>B00005MF9W</td>\n",
       "      <td>LitterMaid Waste Receptacles Automatic Litter ...</td>\n",
       "      <td>['Pet Supplies', 'Cats', 'Litter &amp; Housebreaki...</td>\n",
       "      <td>A2H83XMHUVDLJY</td>\n",
       "      <td>4.0</td>\n",
       "      <td>I love this litter box. I do not use the lids,...</td>\n",
       "      <td>2014-06-26</td>\n",
       "      <td>love litter box use lid use receptacle tear cr...</td>\n",
       "    </tr>\n",
       "    <tr>\n",
       "      <th>41564</th>\n",
       "      <td>111601</td>\n",
       "      <td>B00KJGFGFO</td>\n",
       "      <td>Curry Brush with Coarse or Fine Bristles. High...</td>\n",
       "      <td>[]</td>\n",
       "      <td>AV34KNYW82YSS</td>\n",
       "      <td>4.0</td>\n",
       "      <td>Pulled lots of hair out of my Labs coat. Didn'...</td>\n",
       "      <td>2014-07-18</td>\n",
       "      <td>pulled lot hair labs coat think prove wrong co...</td>\n",
       "    </tr>\n",
       "    <tr>\n",
       "      <th>41565</th>\n",
       "      <td>111603</td>\n",
       "      <td>B00KJGFGFO</td>\n",
       "      <td>Curry Brush with Coarse or Fine Bristles. High...</td>\n",
       "      <td>[]</td>\n",
       "      <td>A1YMNTFLNDYQ1F</td>\n",
       "      <td>5.0</td>\n",
       "      <td>I have been trying to find a rubber bristle br...</td>\n",
       "      <td>2014-07-16</td>\n",
       "      <td>try rubber bristle brush persian year lose glo...</td>\n",
       "    </tr>\n",
       "    <tr>\n",
       "      <th>41566</th>\n",
       "      <td>111604</td>\n",
       "      <td>B00KJGFGFO</td>\n",
       "      <td>Curry Brush with Coarse or Fine Bristles. High...</td>\n",
       "      <td>[]</td>\n",
       "      <td>A1FQ3HRVXA4A5B</td>\n",
       "      <td>5.0</td>\n",
       "      <td>Great product to use on your pets knowing this...</td>\n",
       "      <td>2014-07-11</td>\n",
       "      <td>great product use pet know gentle rubber damag...</td>\n",
       "    </tr>\n",
       "    <tr>\n",
       "      <th>41567</th>\n",
       "      <td>111605</td>\n",
       "      <td>B00KJGFGFO</td>\n",
       "      <td>Curry Brush with Coarse or Fine Bristles. High...</td>\n",
       "      <td>[]</td>\n",
       "      <td>A3OP6CI0XCRQXO</td>\n",
       "      <td>5.0</td>\n",
       "      <td>I bought a second one because I have two cats ...</td>\n",
       "      <td>2014-07-22</td>\n",
       "      <td>buy second cat american short hair buy brush m...</td>\n",
       "    </tr>\n",
       "    <tr>\n",
       "      <th>41568</th>\n",
       "      <td>111606</td>\n",
       "      <td>B00KJGFGFO</td>\n",
       "      <td>Curry Brush with Coarse or Fine Bristles. High...</td>\n",
       "      <td>[]</td>\n",
       "      <td>A11LC938XF35XN</td>\n",
       "      <td>5.0</td>\n",
       "      <td>Our dogs love getting brushed with this.  It m...</td>\n",
       "      <td>2014-07-17</td>\n",
       "      <td>dog love brush massage remove heavy undercoat ...</td>\n",
       "    </tr>\n",
       "  </tbody>\n",
       "</table>\n",
       "</div>"
      ],
      "text/plain": [
       "        index        asin                                              title  \\\n",
       "0           1  1223000893    Cat Sitter DVD Trilogy - Vol 1, Vol 2 and Vol 3   \n",
       "1         104  B00005MF9V     LitterMaid Universal Cat Privacy Tent (LMT100)   \n",
       "2         133  B00005MF9T              LitterMaid LM500 Automated Litter Box   \n",
       "3         153  B00005MF9W  LitterMaid Waste Receptacles Automatic Litter ...   \n",
       "4         154  B00005MF9W  LitterMaid Waste Receptacles Automatic Litter ...   \n",
       "41564  111601  B00KJGFGFO  Curry Brush with Coarse or Fine Bristles. High...   \n",
       "41565  111603  B00KJGFGFO  Curry Brush with Coarse or Fine Bristles. High...   \n",
       "41566  111604  B00KJGFGFO  Curry Brush with Coarse or Fine Bristles. High...   \n",
       "41567  111605  B00KJGFGFO  Curry Brush with Coarse or Fine Bristles. High...   \n",
       "41568  111606  B00KJGFGFO  Curry Brush with Coarse or Fine Bristles. High...   \n",
       "\n",
       "                                              categories      reviewerID  \\\n",
       "0                                                     []  A39QHP5WLON5HV   \n",
       "1      ['Pet Supplies', 'Cats', 'Litter & Housebreaki...  A366V0GCEPH5CX   \n",
       "2      ['Pet Supplies', 'Cats', 'Litter & Housebreaki...   ALWWS8QBYN80B   \n",
       "3      ['Pet Supplies', 'Cats', 'Litter & Housebreaki...  A3PVI3NE7OY1SP   \n",
       "4      ['Pet Supplies', 'Cats', 'Litter & Housebreaki...  A2H83XMHUVDLJY   \n",
       "41564                                                 []   AV34KNYW82YSS   \n",
       "41565                                                 []  A1YMNTFLNDYQ1F   \n",
       "41566                                                 []  A1FQ3HRVXA4A5B   \n",
       "41567                                                 []  A3OP6CI0XCRQXO   \n",
       "41568                                                 []  A11LC938XF35XN   \n",
       "\n",
       "       overall                                         reviewText  reviewTime  \\\n",
       "0          5.0  There are usually one or more of my cats watch...  2013-09-14   \n",
       "1          5.0  My cats love it and so do I. I no longer have ...  2013-02-02   \n",
       "2          1.0  I have one female cat that weighs under 10 pou...  2004-11-17   \n",
       "3          5.0  I love these. They make the clean up so much e...  2013-09-26   \n",
       "4          4.0  I love this litter box. I do not use the lids,...  2014-06-26   \n",
       "41564      4.0  Pulled lots of hair out of my Labs coat. Didn'...  2014-07-18   \n",
       "41565      5.0  I have been trying to find a rubber bristle br...  2014-07-16   \n",
       "41566      5.0  Great product to use on your pets knowing this...  2014-07-11   \n",
       "41567      5.0  I bought a second one because I have two cats ...  2014-07-22   \n",
       "41568      5.0  Our dogs love getting brushed with this.  It m...  2014-07-17   \n",
       "\n",
       "                                     processedReviewText  \n",
       "0      usually cat watch tv stay trouble dvd play lik...  \n",
       "1      cat love longer cat litter fly floor litter fl...  \n",
       "2      female cat weigh pound year old use everclean ...  \n",
       "3      love clean easy clean box manually use issue w...  \n",
       "4      love litter box use lid use receptacle tear cr...  \n",
       "41564  pulled lot hair labs coat think prove wrong co...  \n",
       "41565  try rubber bristle brush persian year lose glo...  \n",
       "41566  great product use pet know gentle rubber damag...  \n",
       "41567  buy second cat american short hair buy brush m...  \n",
       "41568  dog love brush massage remove heavy undercoat ...  "
      ]
     },
     "execution_count": 15,
     "metadata": {},
     "output_type": "execute_result"
    }
   ],
   "source": [
    "test.head().append(test.tail())"
   ]
  },
  {
   "cell_type": "code",
   "execution_count": 16,
   "id": "fea6fb93",
   "metadata": {},
   "outputs": [],
   "source": [
    "# generating test history\n",
    "test_user_history = (pd.DataFrame(test.groupby(['reviewerID'])['asin']\n",
    "                                  .apply(list).reset_index()))"
   ]
  },
  {
   "cell_type": "code",
   "execution_count": 17,
   "id": "f9b316c6",
   "metadata": {},
   "outputs": [
    {
     "name": "stdout",
     "output_type": "stream",
     "text": [
      "                  reviewerID                                  asin\n",
      "0      A04173782GDZSQ91AJ7OD              [B0090Z9AYS, B00CPDWT2M]\n",
      "1      A042274212BJJVOBS4Q85              [B005AZ4M3Q, B00771WQIY]\n",
      "2       A0436342QLT4257JODYJ  [B0018CDR68, B003SJTM8Q, B00474A3DY]\n",
      "3      A04795073FIBKY8GSLZYI              [B001PKT30M, B005DGI2RY]\n",
      "4      A06658082A27F4VB5UG8E              [B000TZ1TTM, B0019VUHH0]\n",
      "...                      ...                                   ...\n",
      "18993          AZYJE40XW6MFG              [B00HVAKJZS, B00IDZT294]\n",
      "18994          AZZ56WF4X19G2                          [B004A7X218]\n",
      "18995          AZZNK89PXD006  [B0002DHV16, B005BP8MQ8, B009RTX4SU]\n",
      "18996          AZZV9PDNMCOZW              [B007EQL390, B00ISBWVT6]\n",
      "18997          AZZYW4YOE1B6E  [B0002AQPA2, B0002AQPA2, B0002ARQV4]\n",
      "\n",
      "[18998 rows x 2 columns]\n"
     ]
    }
   ],
   "source": [
    "print(test_user_history)"
   ]
  },
  {
   "cell_type": "markdown",
   "id": "3e74b499",
   "metadata": {},
   "source": [
    "# Preparing Dataset for Surprise's Algorithm"
   ]
  },
  {
   "cell_type": "code",
   "execution_count": 18,
   "id": "22d9e162",
   "metadata": {},
   "outputs": [],
   "source": [
    "# create reader\n",
    "reader = Reader(rating_scale=(1,5))\n",
    "# generate data required for surprise\n",
    "data = Dataset.load_from_df(train[[\"reviewerID\", \"asin\", \"overall\"]], reader)\n",
    "# generating trainset\n",
    "trainset = data.build_full_trainset()"
   ]
  },
  {
   "cell_type": "markdown",
   "id": "cc2c289d",
   "metadata": {},
   "source": [
    "# Instantiate Pre-Initialised Matrix Factorization (Topic Modelling)"
   ]
  },
  {
   "cell_type": "code",
   "execution_count": 19,
   "id": "6f59e06e",
   "metadata": {},
   "outputs": [],
   "source": [
    "# instantiating ti_mf\n",
    "ti_mf = cf.PreInitialisedMF(user_map=user_idx_map,\n",
    "                            item_map=item_idx_map,\n",
    "                            user_factor=user_factors,\n",
    "                            item_factor=item_factors,\n",
    "                            learning_rate=LR_ALL,\n",
    "                            beta=BETA,\n",
    "                            num_epochs=N_EPOCHS,\n",
    "                            num_factors=50)"
   ]
  },
  {
   "cell_type": "code",
   "execution_count": 20,
   "id": "cc866db5",
   "metadata": {},
   "outputs": [
    {
     "name": "stdout",
     "output_type": "stream",
     "text": [
      "Processing epoch 0\n",
      "Processing epoch 1\n",
      "Processing epoch 2\n",
      "Processing epoch 3\n",
      "Processing epoch 4\n",
      "Processing epoch 5\n",
      "Processing epoch 6\n",
      "Processing epoch 7\n",
      "Processing epoch 8\n",
      "Processing epoch 9\n",
      "CPU times: user 5min 57s, sys: 2.43 s, total: 5min 59s\n",
      "Wall time: 6min 3s\n"
     ]
    }
   ],
   "source": [
    "%%time\n",
    "# fitting to training data\n",
    "ti_mf.fit(trainset, verbose=True)"
   ]
  },
  {
   "cell_type": "code",
   "execution_count": 21,
   "id": "ab9b930d",
   "metadata": {},
   "outputs": [
    {
     "name": "stdout",
     "output_type": "stream",
     "text": [
      "CPU times: user 46.1 s, sys: 2.18 s, total: 48.2 s\n",
      "Wall time: 48.7 s\n"
     ]
    }
   ],
   "source": [
    "%%time\n",
    "# generate candidate items for user to predict rating\n",
    "testset = trainset.build_anti_testset()"
   ]
  },
  {
   "cell_type": "code",
   "execution_count": 22,
   "id": "c5a239a9",
   "metadata": {},
   "outputs": [
    {
     "name": "stdout",
     "output_type": "stream",
     "text": [
      "CPU times: user 12min 25s, sys: 5min 3s, total: 17min 29s\n",
      "Wall time: 19min 41s\n"
     ]
    }
   ],
   "source": [
    "%%time\n",
    "# predict ratings for all pairs (u, i) that are NOT in the training set\n",
    "candidate_items = ti_mf.test(testset, verbose=False)"
   ]
  },
  {
   "cell_type": "markdown",
   "id": "773e39b0",
   "metadata": {},
   "source": [
    "## Loop through N = {10, 25, 30, 45}"
   ]
  },
  {
   "cell_type": "code",
   "execution_count": 23,
   "id": "74a1d337",
   "metadata": {},
   "outputs": [],
   "source": [
    "# generate item popularity\n",
    "item_popularity = generate_item_popularity(train)"
   ]
  },
  {
   "cell_type": "code",
   "execution_count": 24,
   "id": "cdfce793",
   "metadata": {},
   "outputs": [
    {
     "name": "stderr",
     "output_type": "stream",
     "text": [
      "100%|███████████████████████████████████████████████████████████████████████████████████████████████████████████████████████████████████████████████████████| 92907537/92907537 [01:43<00:00, 901422.32it/s]\n",
      "100%|████████████████████████████████████████████████████████████████████████████████████████████████████████████████████████████████████████████████████████████████| 19058/19058 [01:25<00:00, 222.03it/s]\n"
     ]
    },
    {
     "name": "stdout",
     "output_type": "stream",
     "text": [
      "The TI-MF has an average recall@10: 0.00605, average novelty@10: 0.93035\n"
     ]
    },
    {
     "name": "stderr",
     "output_type": "stream",
     "text": [
      "100%|███████████████████████████████████████████████████████████████████████████████████████████████████████████████████████████████████████████████████████| 92907537/92907537 [01:55<00:00, 806898.12it/s]\n",
      "100%|████████████████████████████████████████████████████████████████████████████████████████████████████████████████████████████████████████████████████████████████| 19058/19058 [00:59<00:00, 318.09it/s]\n"
     ]
    },
    {
     "name": "stdout",
     "output_type": "stream",
     "text": [
      "The TI-MF has an average recall@25: 0.01181, average novelty@25: 0.93601\n"
     ]
    },
    {
     "name": "stderr",
     "output_type": "stream",
     "text": [
      "100%|███████████████████████████████████████████████████████████████████████████████████████████████████████████████████████████████████████████████████████| 92907537/92907537 [01:54<00:00, 813178.99it/s]\n",
      "100%|████████████████████████████████████████████████████████████████████████████████████████████████████████████████████████████████████████████████████████████████| 19058/19058 [01:01<00:00, 308.12it/s]\n"
     ]
    },
    {
     "name": "stdout",
     "output_type": "stream",
     "text": [
      "The TI-MF has an average recall@30: 0.01359, average novelty@30: 0.93856\n"
     ]
    },
    {
     "name": "stderr",
     "output_type": "stream",
     "text": [
      "100%|███████████████████████████████████████████████████████████████████████████████████████████████████████████████████████████████████████████████████████| 92907537/92907537 [01:47<00:00, 865394.29it/s]\n",
      "100%|████████████████████████████████████████████████████████████████████████████████████████████████████████████████████████████████████████████████████████████████| 19058/19058 [01:05<00:00, 292.91it/s]\n"
     ]
    },
    {
     "name": "stdout",
     "output_type": "stream",
     "text": [
      "The TI-MF has an average recall@45: 0.01831, average novelty@45: 0.94257\n"
     ]
    }
   ],
   "source": [
    "n_recommendations = {}\n",
    "for n in [10, 25, 30, 45]:\n",
    "    # retrieve the top-n items based on similarities\n",
    "    top_ns = get_top_n(candidate_items, n)\n",
    "    # evaluate how well the recommended items predicted the future purchases\n",
    "    n_recommended_items = evaluate_recommendations(top_ns, test_user_history, item_popularity, n)\n",
    "    # saving the n-value and recommended items\n",
    "    n_recommendations[n] = (top_ns, n_recommended_items)"
   ]
  },
  {
   "cell_type": "markdown",
   "id": "733a392d",
   "metadata": {},
   "source": [
    "# Evaluate N-Recommendations"
   ]
  },
  {
   "cell_type": "code",
   "execution_count": 25,
   "id": "0ff283a7",
   "metadata": {},
   "outputs": [],
   "source": [
    "def retrieve_recommendations(train: pd.DataFrame, top_ns: dict):\n",
    "    \"\"\"\n",
    "    \"\"\"\n",
    "    # generating a random user\n",
    "    random_user = np.random.choice(list(train['reviewerID'].unique()), 1)[0]\n",
    "    print(f\"For user: {random_user}:\")\n",
    "    print(f\"Purchase History:\\n{train[train['reviewerID'] == random_user][['asin', 'title']]}\")\n",
    "\n",
    "    # find the recommendations\n",
    "    print(f\"\\nRecommending:\\n\")\n",
    "    recommendations = (train[train['asin']\n",
    "                             .isin([i[0] for i in top_ns[random_user]])][['asin', 'title']]\n",
    "                       .drop_duplicates(subset='asin')\n",
    "                       .set_index('asin'))\n",
    "    print(f\"{recommendations.loc[[i[0] for i in top_ns[random_user]]].reset_index()}\")"
   ]
  },
  {
   "cell_type": "markdown",
   "id": "e936d5be",
   "metadata": {},
   "source": [
    "## N=10"
   ]
  },
  {
   "cell_type": "code",
   "execution_count": 26,
   "id": "2a97ac0d",
   "metadata": {},
   "outputs": [
    {
     "name": "stdout",
     "output_type": "stream",
     "text": [
      "For user: A28NXWZ64PIZPJ:\n",
      "Purchase History:\n",
      "             asin                               title\n",
      "22674  B0002I0RU8  PetSafe Busy Buddy Chuckle Dog Toy\n",
      "22688  B0002I0RU8  PetSafe Busy Buddy Chuckle Dog Toy\n",
      "\n",
      "Recommending:\n",
      "\n",
      "         asin                                              title\n",
      "0  B001LNUKE6                Purebites Cheddar Cheese Dog Treats\n",
      "1  B0002DJVQY   JW Pet Company Activitoys Triple Mirror Bird Toy\n",
      "2  B0021X17XS  Zymox Otic Enzymatic Pet Ear Treatment without...\n",
      "3  B003BYQ100             Armarkat B5701 57-Inch Cat Tree, Ivory\n",
      "4  B000F4AVPA                                Chuckit! Ultra Ball\n",
      "5  B0017JFNNC                     Redbarn Naturals Bully Springs\n",
      "6  B00E8GJU7Q           2 Pack Feliway Electric Diffuser (48 Ml)\n",
      "7  B0012KB4D4  Purina Friskies Gravy Sensations Wet Cat Food ...\n",
      "8  B000QSON4K  Greenies Pill Pockets Soft Dog Treats, Beef, C...\n",
      "9  B003JFRQQ4  Scaredy Cut Tiny Trim by Small Pet Grooming Sa...\n"
     ]
    }
   ],
   "source": [
    "top_ns_10 = n_recommendations[10][0]\n",
    "retrieve_recommendations(train, top_ns_10)"
   ]
  },
  {
   "cell_type": "markdown",
   "id": "8fc28d45",
   "metadata": {},
   "source": [
    "## N=25"
   ]
  },
  {
   "cell_type": "code",
   "execution_count": 27,
   "id": "ad7a350d",
   "metadata": {},
   "outputs": [
    {
     "name": "stdout",
     "output_type": "stream",
     "text": [
      "For user: A2VUBIY7MXOWFD:\n",
      "Purchase History:\n",
      "             asin                                              title\n",
      "24156  B0002RJMB4                 Safari Soft Bristle Brush for Cats\n",
      "26966  B00063KGEG                   Petrodex Cat Dental Treats, 50Ct\n",
      "34906  B000FPKZPA                   8in1 Perfect Coat Bath Wipes Tub\n",
      "51260  B001P3NU4E  Virbac C.E.T. Enzymatic Oral Hygiene Chews for...\n",
      "\n",
      "Recommending:\n",
      "\n",
      "          asin                                              title\n",
      "0   B003BYQ100             Armarkat B5701 57-Inch Cat Tree, Ivory\n",
      "1   B0002DJVQY   JW Pet Company Activitoys Triple Mirror Bird Toy\n",
      "2   B000K9JRH8  GoCat DaBird Feather Refill, Assorted Colors, ...\n",
      "3   B0017JFNNC                     Redbarn Naturals Bully Springs\n",
      "4   B001LNUKE6                Purebites Cheddar Cheese Dog Treats\n",
      "5   B0002AS1CC                 Bergan Turbo Scratcher Accessories\n",
      "6   B000F4AVPA                                Chuckit! Ultra Ball\n",
      "7   B0002563S6          Magic Coat Cat Tearless Shampoo, 12-Ounce\n",
      "8   B0009YUE7Q         Our Pets Lift-N-Aid Large Mobility Harness\n",
      "9   B003JFRQQ4  Scaredy Cut Tiny Trim by Small Pet Grooming Sa...\n",
      "10  B0049WPZX2  Kitty Tube The Gen 3 Outdoor Insulated Cat Hou...\n",
      "11  B0012KB4D4  Purina Friskies Gravy Sensations Wet Cat Food ...\n",
      "12  B00025YUR2     Marineland Magnum Dual Purpose Canister Filter\n",
      "13  B004X6UEH6  PetFusion Ultimate Cat Scratcher Lounge. [Supe...\n",
      "14  B000A6UF4U     Gamma2 Vittles Vault Plus for Pet Food Storage\n",
      "15  B000255MZG         API STRESS COAT Aquarium Water Conditioner\n",
      "16  B0002ARKVA           Kenic Kalaya Emu Oil Pet Spray, 17-Ounce\n",
      "17  B003BYQ1C8                            Armarkat Cat Tree Model\n",
      "18  B000I82DU4                 Milk-Bone Flavor Snacks Dog Treats\n",
      "19  B00025Z6IO  HIKARI Tropical Algae Wafers for Plecostomus &...\n",
      "20  B000F4O9S0  LuckyPet Pet ID Tag - Round - Custom engraved ...\n",
      "21  B0012KB4M0  Purina Busy Bone Large Dog Treats - 8 Count - ...\n",
      "22  B0002AROVQ                         Marshall Ferret Litter Pan\n",
      "23  B0002H3V5M  Outward Hound Kyjen  PP01131 PipSqueaks Duck T...\n",
      "24  B000QSON4K  Greenies Pill Pockets Soft Dog Treats, Beef, C...\n"
     ]
    }
   ],
   "source": [
    "top_ns_25 = n_recommendations[25][0]\n",
    "retrieve_recommendations(train, top_ns_25)"
   ]
  },
  {
   "cell_type": "markdown",
   "id": "2adc3b85",
   "metadata": {},
   "source": [
    "## N=30"
   ]
  },
  {
   "cell_type": "code",
   "execution_count": 28,
   "id": "db0a60a2",
   "metadata": {},
   "outputs": [
    {
     "name": "stdout",
     "output_type": "stream",
     "text": [
      "For user: A1SKJ0I2P6XF10:\n",
      "Purchase History:\n",
      "             asin                                              title\n",
      "56132  B00336ET5U  Richell Paw Trax Super-Absorbent Training Pads...\n",
      "\n",
      "Recommending:\n",
      "\n",
      "          asin                                              title\n",
      "0   B000MLHDS4  Wellness Pure Rewards Natural Grain Free Dog T...\n",
      "1   B0002DJVQY   JW Pet Company Activitoys Triple Mirror Bird Toy\n",
      "2   B000F4AVPA                                Chuckit! Ultra Ball\n",
      "3   B001LNUKE6                Purebites Cheddar Cheese Dog Treats\n",
      "4   B001HN5Z4K  Bit-O-Luv Bistro Beef Recipe Dog Treats, 4.0-O...\n",
      "5   B000MLG4K2  Wellness Wellbites Soft Natural Dog Treats, Tu...\n",
      "6   B0012KB4D4  Purina Friskies Gravy Sensations Wet Cat Food ...\n",
      "7   B000I82DU4                 Milk-Bone Flavor Snacks Dog Treats\n",
      "8   B0017JFNNC                     Redbarn Naturals Bully Springs\n",
      "9   B003BYQ100             Armarkat B5701 57-Inch Cat Tree, Ivory\n",
      "10  B000ILEIUE  Blue Dog Bakery | Dog Treats | All-Natural | P...\n",
      "11  B000QSON4K  Greenies Pill Pockets Soft Dog Treats, Beef, C...\n",
      "12  B0012KB4M0  Purina Busy Bone Large Dog Treats - 8 Count - ...\n",
      "13  B000N5Z5YI                  Merrick Lamb Hold EMS Filets 8 Oz\n",
      "14  B000255P9E                          Seachem Neutral Regulator\n",
      "15  B003JFRQQ4  Scaredy Cut Tiny Trim by Small Pet Grooming Sa...\n",
      "16  B0029O0XGQ                     Temptations Classic Cat Treats\n",
      "17  B0002ARKVA           Kenic Kalaya Emu Oil Pet Spray, 17-Ounce\n",
      "18  B000OUOYH6                       Pet Botanics Training Reward\n",
      "19  B005F9HEYQ  Milk-Bone Soft &amp; Chewy Chicken Recipe Trea...\n",
      "20  B000255MZG         API STRESS COAT Aquarium Water Conditioner\n",
      "21  B000N62EKK             Merrick Lamb Texas Hold' Ems, 1 lb bag\n",
      "22  B0029NIBE8            Whiskas Tender Bites Wet Cat Food Pouch\n",
      "23  B000A6UF4U     Gamma2 Vittles Vault Plus for Pet Food Storage\n",
      "24  B00025YUR2     Marineland Magnum Dual Purpose Canister Filter\n",
      "25  B0002DK4AG  Four Paws Magic Coat Gentle Slicker Wire Brush...\n",
      "26  B0002563S6          Magic Coat Cat Tearless Shampoo, 12-Ounce\n",
      "27  B000296N7S  Panacur C Canine Dewormer, Net Wt. 12 Grams, P...\n",
      "28  B00008DFK5      KONG - Easy Treat - Dog Treat Paste - 8 Ounce\n",
      "29  B0000AH3QT  Purina One Smartblend Natural Formula Adult Dr...\n"
     ]
    }
   ],
   "source": [
    "top_ns_30 = n_recommendations[30][0]\n",
    "retrieve_recommendations(train, top_ns_30)"
   ]
  },
  {
   "cell_type": "markdown",
   "id": "d2f8f8f8",
   "metadata": {},
   "source": [
    "## N=45"
   ]
  },
  {
   "cell_type": "code",
   "execution_count": 29,
   "id": "8daf6f5e",
   "metadata": {},
   "outputs": [
    {
     "name": "stdout",
     "output_type": "stream",
     "text": [
      "For user: A129E5ETY3QNBL:\n",
      "Purchase History:\n",
      "             asin                                              title\n",
      "51966  B001TY5D6C               Cat Mate Pet Fountain - 70 Fluid Oz.\n",
      "62540  B0053WMOKY  Chasing Our Tails Elk Rack Snack, 100-Percent ...\n",
      "64016  B005NK5DEU                Flexi Explore Retractable Dog Leash\n",
      "\n",
      "Recommending:\n",
      "\n",
      "          asin                                              title\n",
      "0   B000F4AVPA                                Chuckit! Ultra Ball\n",
      "1   B001LNUKE6                Purebites Cheddar Cheese Dog Treats\n",
      "2   B0002DJVQY   JW Pet Company Activitoys Triple Mirror Bird Toy\n",
      "3   B0017JFNNC                     Redbarn Naturals Bully Springs\n",
      "4   B003BYQ100             Armarkat B5701 57-Inch Cat Tree, Ivory\n",
      "5   B0017J8NDY  Mammoth Flossy Chews Cottonblend Color 5-Knot ...\n",
      "6   B0012KB4D4  Purina Friskies Gravy Sensations Wet Cat Food ...\n",
      "7   B000I82DU4                 Milk-Bone Flavor Snacks Dog Treats\n",
      "8   B003JFRQQ4  Scaredy Cut Tiny Trim by Small Pet Grooming Sa...\n",
      "9   B000QSON4K  Greenies Pill Pockets Soft Dog Treats, Beef, C...\n",
      "10  B000255MZG         API STRESS COAT Aquarium Water Conditioner\n",
      "11  B000A6UF4U     Gamma2 Vittles Vault Plus for Pet Food Storage\n",
      "12  B0006JKCN0              KONG Frog Dog Toy, Extra Small, Green\n",
      "13  B0002ARKVA           Kenic Kalaya Emu Oil Pet Spray, 17-Ounce\n",
      "14  B000MLHDS4  Wellness Pure Rewards Natural Grain Free Dog T...\n",
      "15  B00025YUR2     Marineland Magnum Dual Purpose Canister Filter\n",
      "16  B001HN5Z4K  Bit-O-Luv Bistro Beef Recipe Dog Treats, 4.0-O...\n",
      "17  B0002563S6          Magic Coat Cat Tearless Shampoo, 12-Ounce\n",
      "18  B0002AS1CC                 Bergan Turbo Scratcher Accessories\n",
      "19  B001GS71KW  Precision Pet Petmate Soft Side Play Yard Heav...\n",
      "20  B000K9JRH8  GoCat DaBird Feather Refill, Assorted Colors, ...\n",
      "21  B0012KB4M0  Purina Busy Bone Large Dog Treats - 8 Count - ...\n",
      "22  B000MLG4K2  Wellness Wellbites Soft Natural Dog Treats, Tu...\n",
      "23  B0002AROVQ                         Marshall Ferret Litter Pan\n",
      "24  B00025Z6IO  HIKARI Tropical Algae Wafers for Plecostomus &...\n",
      "25  B0029O0XGQ                     Temptations Classic Cat Treats\n",
      "26  B000296N7S  Panacur C Canine Dewormer, Net Wt. 12 Grams, P...\n",
      "27  B000255P9E                          Seachem Neutral Regulator\n",
      "28  B000F4O9S0  LuckyPet Pet ID Tag - Round - Custom engraved ...\n",
      "29  B0002AQL5G  API REPLACEMENT TEST TUBES WITH CAPS For Any A...\n",
      "30  B000ILEIUE  Blue Dog Bakery | Dog Treats | All-Natural | P...\n",
      "31  B0002DK60E           Van Ness Sifting Enclosed Cat Litter Pan\n",
      "32  B000084ETV  Canidae Dry Dog Food For All Life Stages, Chic...\n",
      "33  B00006IX59                         Chuckit! Dog Ball Launcher\n",
      "34  B000FO1QOU  Tomlyn High Calorie Nutritional Gel for Puppie...\n",
      "35  B0002DK4AG  Four Paws Magic Coat Gentle Slicker Wire Brush...\n",
      "36  B004J1JPUC  Antler Dog Chew From Pet Expertise, X-Small 3&...\n",
      "37  B00025646W  Kordon Methylene Blue-General Disease Preventi...\n",
      "38  B0009YUE7Q         Our Pets Lift-N-Aid Large Mobility Harness\n",
      "39  B0000AH3QT  Purina One Smartblend Natural Formula Adult Dr...\n",
      "40  B005799UUK                              Redbarn Bully Springs\n",
      "41  B0002ASCGM  Van Ness Odor Control Extra Giant Enclosed Cat...\n",
      "42  B004X6UEH6  PetFusion Ultimate Cat Scratcher Lounge. [Supe...\n",
      "43  B001B4TV2W                            Chuckit! Max Glow Ball,\n",
      "44  B0029NIBE8            Whiskas Tender Bites Wet Cat Food Pouch\n"
     ]
    }
   ],
   "source": [
    "top_ns_45 = n_recommendations[45][0]\n",
    "retrieve_recommendations(train, top_ns_45)"
   ]
  },
  {
   "cell_type": "code",
   "execution_count": null,
   "id": "0ab22405",
   "metadata": {},
   "outputs": [],
   "source": []
  }
 ],
 "metadata": {
  "kernelspec": {
   "display_name": "Python 3 (ipykernel)",
   "language": "python",
   "name": "python3"
  },
  "language_info": {
   "codemirror_mode": {
    "name": "ipython",
    "version": 3
   },
   "file_extension": ".py",
   "mimetype": "text/x-python",
   "name": "python",
   "nbconvert_exporter": "python",
   "pygments_lexer": "ipython3",
   "version": "3.9.6"
  }
 },
 "nbformat": 4,
 "nbformat_minor": 5
}
