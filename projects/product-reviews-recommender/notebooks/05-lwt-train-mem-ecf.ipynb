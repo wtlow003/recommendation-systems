{
 "cells": [
  {
   "cell_type": "code",
   "execution_count": 1,
   "id": "cfa7e346",
   "metadata": {},
   "outputs": [
    {
     "name": "stdout",
     "output_type": "stream",
     "text": [
      "INFO: Pandarallel will run on 8 workers.\n",
      "INFO: Pandarallel will use standard multiprocessing data transfer (pipe) to transfer data between the main process and workers.\n"
     ]
    },
    {
     "name": "stderr",
     "output_type": "stream",
     "text": [
      "/usr/local/lib/python3.9/site-packages/gensim/similarities/__init__.py:15: UserWarning: The gensim.similarities.levenshtein submodule is disabled, because the optional Levenshtein package <https://pypi.org/project/python-Levenshtein/> is unavailable. Install Levenhstein (e.g. `pip install python-Levenshtein`) to suppress this warning.\n",
      "  warnings.warn(msg)\n"
     ]
    }
   ],
   "source": [
    "import numpy as np \n",
    "import pandas as pd\n",
    "import warnings\n",
    "\n",
    "from gensim.models.doc2vec import Doc2Vec\n",
    "from pandarallel import pandarallel\n",
    "from src.models import cf\n",
    "from tqdm import tqdm \n",
    "\n",
    "pandarallel.initialize()\n",
    "tqdm.pandas()\n",
    "warnings.filterwarnings('ignore')"
   ]
  },
  {
   "cell_type": "markdown",
   "id": "36fa3cef",
   "metadata": {},
   "source": [
    "# Load Data and Model"
   ]
  },
  {
   "cell_type": "code",
   "execution_count": 2,
   "id": "158d1100",
   "metadata": {},
   "outputs": [],
   "source": [
    "# global variables\n",
    "DATA_PATH = 'data/evaluation'\n",
    "MODEL_PATH = 'models/d2v'\n",
    "CATEGORY = 'Grocery_and_Gourmet_Food'\n",
    "\n",
    "train = pd.read_csv(f\"{DATA_PATH}/{CATEGORY}_train.csv\")\n",
    "model = Doc2Vec.load(f\"{MODEL_PATH}/{CATEGORY}_50_d2v.model\") "
   ]
  },
  {
   "cell_type": "code",
   "execution_count": 3,
   "id": "6ec2f7c1",
   "metadata": {
    "scrolled": true
   },
   "outputs": [
    {
     "data": {
      "text/html": [
       "<div>\n",
       "<style scoped>\n",
       "    .dataframe tbody tr th:only-of-type {\n",
       "        vertical-align: middle;\n",
       "    }\n",
       "\n",
       "    .dataframe tbody tr th {\n",
       "        vertical-align: top;\n",
       "    }\n",
       "\n",
       "    .dataframe thead th {\n",
       "        text-align: right;\n",
       "    }\n",
       "</style>\n",
       "<table border=\"1\" class=\"dataframe\">\n",
       "  <thead>\n",
       "    <tr style=\"text-align: right;\">\n",
       "      <th></th>\n",
       "      <th>index</th>\n",
       "      <th>asin</th>\n",
       "      <th>title</th>\n",
       "      <th>categories</th>\n",
       "      <th>reviewerID</th>\n",
       "      <th>overall</th>\n",
       "      <th>reviewText</th>\n",
       "      <th>reviewTime</th>\n",
       "      <th>processedReviewText</th>\n",
       "    </tr>\n",
       "  </thead>\n",
       "  <tbody>\n",
       "    <tr>\n",
       "      <th>0</th>\n",
       "      <td>0</td>\n",
       "      <td>9742356831</td>\n",
       "      <td>Mae Ploy Green Curry Paste, 14 oz</td>\n",
       "      <td>['Grocery &amp; Gourmet Food', 'Sauces, Gravies &amp; ...</td>\n",
       "      <td>A23RYWDS884TUL</td>\n",
       "      <td>5.0</td>\n",
       "      <td>This curry paste makes a delicious curry.  I j...</td>\n",
       "      <td>2013-05-28</td>\n",
       "      <td>curry paste delicious curry fry chicken vegeta...</td>\n",
       "    </tr>\n",
       "    <tr>\n",
       "      <th>1</th>\n",
       "      <td>1</td>\n",
       "      <td>9742356831</td>\n",
       "      <td>Mae Ploy Green Curry Paste, 14 oz</td>\n",
       "      <td>['Grocery &amp; Gourmet Food', 'Sauces, Gravies &amp; ...</td>\n",
       "      <td>A945RBQWGZXCK</td>\n",
       "      <td>5.0</td>\n",
       "      <td>I've purchased different curries in the grocer...</td>\n",
       "      <td>2012-09-17</td>\n",
       "      <td>purchase different curry grocery store complet...</td>\n",
       "    </tr>\n",
       "    <tr>\n",
       "      <th>2</th>\n",
       "      <td>3</td>\n",
       "      <td>9742356831</td>\n",
       "      <td>Mae Ploy Green Curry Paste, 14 oz</td>\n",
       "      <td>['Grocery &amp; Gourmet Food', 'Sauces, Gravies &amp; ...</td>\n",
       "      <td>A3AMNY44OP8AOU</td>\n",
       "      <td>4.0</td>\n",
       "      <td>I started a new diet restricting all added sug...</td>\n",
       "      <td>2014-01-23</td>\n",
       "      <td>start new diet restrict added sugar brand suga...</td>\n",
       "    </tr>\n",
       "    <tr>\n",
       "      <th>3</th>\n",
       "      <td>4</td>\n",
       "      <td>9742356831</td>\n",
       "      <td>Mae Ploy Green Curry Paste, 14 oz</td>\n",
       "      <td>['Grocery &amp; Gourmet Food', 'Sauces, Gravies &amp; ...</td>\n",
       "      <td>A3IB4CQ2QEJLJ8</td>\n",
       "      <td>5.0</td>\n",
       "      <td>So many flavors. I can't begin to tell you how...</td>\n",
       "      <td>2014-04-27</td>\n",
       "      <td>flavor begin tell love mae ploy curry ask reci...</td>\n",
       "    </tr>\n",
       "    <tr>\n",
       "      <th>4</th>\n",
       "      <td>5</td>\n",
       "      <td>9742356831</td>\n",
       "      <td>Mae Ploy Green Curry Paste, 14 oz</td>\n",
       "      <td>['Grocery &amp; Gourmet Food', 'Sauces, Gravies &amp; ...</td>\n",
       "      <td>AQA5DF3RWKETQ</td>\n",
       "      <td>5.0</td>\n",
       "      <td>I've used this a lot recently in some of my ch...</td>\n",
       "      <td>2012-11-27</td>\n",
       "      <td>use lot recently chicken dish use lot like spi...</td>\n",
       "    </tr>\n",
       "    <tr>\n",
       "      <th>47769</th>\n",
       "      <td>77420</td>\n",
       "      <td>B00I33696K</td>\n",
       "      <td>Reese's Miniature Peanut Butter Cups .31oz - 1...</td>\n",
       "      <td>['Grocery &amp; Gourmet Food', 'Candy &amp; Chocolate'...</td>\n",
       "      <td>A192LQZWDYPR4U</td>\n",
       "      <td>5.0</td>\n",
       "      <td>Another quality Reese Peanut Butter Cup produc...</td>\n",
       "      <td>2014-02-27</td>\n",
       "      <td>quality reese peanut butter cup product great ...</td>\n",
       "    </tr>\n",
       "    <tr>\n",
       "      <th>47770</th>\n",
       "      <td>77421</td>\n",
       "      <td>B00I33696K</td>\n",
       "      <td>Reese's Miniature Peanut Butter Cups .31oz - 1...</td>\n",
       "      <td>['Grocery &amp; Gourmet Food', 'Candy &amp; Chocolate'...</td>\n",
       "      <td>A2QKXW3LDQ66P5</td>\n",
       "      <td>5.0</td>\n",
       "      <td>I purchased these for my husband who has every...</td>\n",
       "      <td>2013-02-20</td>\n",
       "      <td>purchase husband love reeses valentine day pre...</td>\n",
       "    </tr>\n",
       "    <tr>\n",
       "      <th>47771</th>\n",
       "      <td>77430</td>\n",
       "      <td>B00ID9VSOM</td>\n",
       "      <td>Viva Labs Organic Coconut Sugar: Non-GMO, Low-...</td>\n",
       "      <td>['Grocery &amp; Gourmet Food', 'Cooking &amp; Baking',...</td>\n",
       "      <td>A2P3TGJU301KXD</td>\n",
       "      <td>5.0</td>\n",
       "      <td>this stuff is INCREDIBILY yummy! SO much bette...</td>\n",
       "      <td>2014-07-15</td>\n",
       "      <td>stuff incredibily yummy good regular brown sug...</td>\n",
       "    </tr>\n",
       "    <tr>\n",
       "      <th>47772</th>\n",
       "      <td>77456</td>\n",
       "      <td>B00IRL93SY</td>\n",
       "      <td>Barrie House Kenya Estate - AA Single Cup Caps...</td>\n",
       "      <td>['Grocery &amp; Gourmet Food', 'Beverages', 'Coffe...</td>\n",
       "      <td>AEFE9VDHTQ199</td>\n",
       "      <td>5.0</td>\n",
       "      <td>Very nice aroma, body and taste! Will buy this...</td>\n",
       "      <td>2014-05-24</td>\n",
       "      <td>nice aroma body taste buy coffee good coffee a...</td>\n",
       "    </tr>\n",
       "    <tr>\n",
       "      <th>47773</th>\n",
       "      <td>77508</td>\n",
       "      <td>B00ISVHJ3Y</td>\n",
       "      <td>Wholesome Sweeteners, Organic Sweet and Lite S...</td>\n",
       "      <td>['Grocery &amp; Gourmet Food', 'Cooking &amp; Baking',...</td>\n",
       "      <td>A2AEZQ3DGBBLPR</td>\n",
       "      <td>2.0</td>\n",
       "      <td>This is a no go for diabetics according to my ...</td>\n",
       "      <td>2014-06-26</td>\n",
       "      <td>diabetic accord wife doctor order intention us...</td>\n",
       "    </tr>\n",
       "  </tbody>\n",
       "</table>\n",
       "</div>"
      ],
      "text/plain": [
       "       index        asin                                              title  \\\n",
       "0          0  9742356831                  Mae Ploy Green Curry Paste, 14 oz   \n",
       "1          1  9742356831                  Mae Ploy Green Curry Paste, 14 oz   \n",
       "2          3  9742356831                  Mae Ploy Green Curry Paste, 14 oz   \n",
       "3          4  9742356831                  Mae Ploy Green Curry Paste, 14 oz   \n",
       "4          5  9742356831                  Mae Ploy Green Curry Paste, 14 oz   \n",
       "47769  77420  B00I33696K  Reese's Miniature Peanut Butter Cups .31oz - 1...   \n",
       "47770  77421  B00I33696K  Reese's Miniature Peanut Butter Cups .31oz - 1...   \n",
       "47771  77430  B00ID9VSOM  Viva Labs Organic Coconut Sugar: Non-GMO, Low-...   \n",
       "47772  77456  B00IRL93SY  Barrie House Kenya Estate - AA Single Cup Caps...   \n",
       "47773  77508  B00ISVHJ3Y  Wholesome Sweeteners, Organic Sweet and Lite S...   \n",
       "\n",
       "                                              categories      reviewerID  \\\n",
       "0      ['Grocery & Gourmet Food', 'Sauces, Gravies & ...  A23RYWDS884TUL   \n",
       "1      ['Grocery & Gourmet Food', 'Sauces, Gravies & ...   A945RBQWGZXCK   \n",
       "2      ['Grocery & Gourmet Food', 'Sauces, Gravies & ...  A3AMNY44OP8AOU   \n",
       "3      ['Grocery & Gourmet Food', 'Sauces, Gravies & ...  A3IB4CQ2QEJLJ8   \n",
       "4      ['Grocery & Gourmet Food', 'Sauces, Gravies & ...   AQA5DF3RWKETQ   \n",
       "47769  ['Grocery & Gourmet Food', 'Candy & Chocolate'...  A192LQZWDYPR4U   \n",
       "47770  ['Grocery & Gourmet Food', 'Candy & Chocolate'...  A2QKXW3LDQ66P5   \n",
       "47771  ['Grocery & Gourmet Food', 'Cooking & Baking',...  A2P3TGJU301KXD   \n",
       "47772  ['Grocery & Gourmet Food', 'Beverages', 'Coffe...   AEFE9VDHTQ199   \n",
       "47773  ['Grocery & Gourmet Food', 'Cooking & Baking',...  A2AEZQ3DGBBLPR   \n",
       "\n",
       "       overall                                         reviewText  reviewTime  \\\n",
       "0          5.0  This curry paste makes a delicious curry.  I j...  2013-05-28   \n",
       "1          5.0  I've purchased different curries in the grocer...  2012-09-17   \n",
       "2          4.0  I started a new diet restricting all added sug...  2014-01-23   \n",
       "3          5.0  So many flavors. I can't begin to tell you how...  2014-04-27   \n",
       "4          5.0  I've used this a lot recently in some of my ch...  2012-11-27   \n",
       "47769      5.0  Another quality Reese Peanut Butter Cup produc...  2014-02-27   \n",
       "47770      5.0  I purchased these for my husband who has every...  2013-02-20   \n",
       "47771      5.0  this stuff is INCREDIBILY yummy! SO much bette...  2014-07-15   \n",
       "47772      5.0  Very nice aroma, body and taste! Will buy this...  2014-05-24   \n",
       "47773      2.0  This is a no go for diabetics according to my ...  2014-06-26   \n",
       "\n",
       "                                     processedReviewText  \n",
       "0      curry paste delicious curry fry chicken vegeta...  \n",
       "1      purchase different curry grocery store complet...  \n",
       "2      start new diet restrict added sugar brand suga...  \n",
       "3      flavor begin tell love mae ploy curry ask reci...  \n",
       "4      use lot recently chicken dish use lot like spi...  \n",
       "47769  quality reese peanut butter cup product great ...  \n",
       "47770  purchase husband love reeses valentine day pre...  \n",
       "47771  stuff incredibily yummy good regular brown sug...  \n",
       "47772  nice aroma body taste buy coffee good coffee a...  \n",
       "47773  diabetic accord wife doctor order intention us...  "
      ]
     },
     "execution_count": 3,
     "metadata": {},
     "output_type": "execute_result"
    }
   ],
   "source": [
    "train.head().append(train.tail())"
   ]
  },
  {
   "cell_type": "code",
   "execution_count": 4,
   "id": "0d33dd7b",
   "metadata": {},
   "outputs": [
    {
     "data": {
      "text/plain": [
       "array([-1.9998994 , -1.1165652 , -0.66850775,  0.98593354, -0.1539128 ,\n",
       "        1.836437  ,  0.04748935,  0.91502106, -0.27679813, -0.71812797,\n",
       "       -0.707553  , -0.6039597 , -0.58606654,  1.0271451 , -0.03445855,\n",
       "       -1.2801527 , -0.48076808, -0.33833098,  0.32701826, -0.56980634,\n",
       "       -0.9162374 ,  0.33309776, -0.37450856,  0.02434505, -0.3233081 ,\n",
       "        2.094295  , -1.4732084 ,  1.2163205 , -1.8009837 , -0.34398207,\n",
       "        0.79519683,  0.48662725,  0.38086358,  0.9061864 ,  0.98379046,\n",
       "       -0.49270517, -1.679146  , -0.8714166 , -0.8851388 ,  1.7304606 ,\n",
       "       -0.21798603, -0.90019166, -1.5550374 , -1.2914916 ,  0.3585223 ,\n",
       "        0.7392237 ,  0.06309976, -0.6030123 ,  1.4061383 ,  0.12848437],\n",
       "      dtype=float32)"
      ]
     },
     "execution_count": 4,
     "metadata": {},
     "output_type": "execute_result"
    }
   ],
   "source": [
    "# testing model\n",
    "model.dv[0]"
   ]
  },
  {
   "cell_type": "markdown",
   "id": "807272ed",
   "metadata": {},
   "source": [
    "# Generate User Embeddings"
   ]
  },
  {
   "cell_type": "code",
   "execution_count": 5,
   "id": "a3423f12",
   "metadata": {},
   "outputs": [
    {
     "name": "stdout",
     "output_type": "stream",
     "text": [
      "reviewerID\n",
      "A00177463W0XWB16A9O05                             [B0029XDZIK, B0094ISOMA]\n",
      "A022899328A0QROR32DCT                             [B001ACMCNU, B003TO9RSU]\n",
      "A068255029AHTHDXZURNU                             [B000K8WVYA, B0094ISOMA]\n",
      "A06944662TFWOKKV4GJKX                                         [B000CQBZPG]\n",
      "A1004703RC79J9                                                [B001E50THY]\n",
      "                                               ...                        \n",
      "AZWRZZAMX90VT            [B0007R9L5Q, B000CQ01GU, B000E123IC, B000E46LZ...\n",
      "AZXKAH2DE6C8A            [B000EML7DS, B000ODF2ME, B001650XUK, B0018QLG9...\n",
      "AZXON596A1VXC                         [B00113SKZW, B00113ZTVK, B001L4JH5I]\n",
      "AZYXC63SS008M                                                 [B0040WCQKQ]\n",
      "AZZ5ASC403N74                                                 [B004U49QU2]\n",
      "Name: asin, Length: 13397, dtype: object\n"
     ]
    }
   ],
   "source": [
    "# get user rating history\n",
    "user_rating_history = train.groupby(['reviewerID'])['asin'].apply(list)\n",
    "\n",
    "print(user_rating_history)"
   ]
  },
  {
   "cell_type": "code",
   "execution_count": 6,
   "id": "e19899fb",
   "metadata": {},
   "outputs": [
    {
     "name": "stderr",
     "output_type": "stream",
     "text": [
      "100%|██████████████████████████████████████████████████████| 13397/13397 [00:00<00:00, 39805.31it/s]\n"
     ]
    }
   ],
   "source": [
    "# getting unique users\n",
    "unique_users = user_rating_history.reset_index()['reviewerID'].tolist()\n",
    "\n",
    "# generating user embeddings for all unique users\n",
    "user_embeddings = {}\n",
    "\n",
    "for user in tqdm(unique_users):\n",
    "    user_embedding = np.zeros(50)\n",
    "    for item in user_rating_history[user]:\n",
    "        user_embedding += model.dv[item]\n",
    "        \n",
    "    # mean aggregation\n",
    "    user_embedding /= len(user_rating_history[user])\n",
    "    user_embeddings[user] = user_embedding"
   ]
  },
  {
   "cell_type": "markdown",
   "id": "06ac96cc",
   "metadata": {},
   "source": [
    "# Generate Top-N Recommendations (N=10)"
   ]
  },
  {
   "cell_type": "code",
   "execution_count": 7,
   "id": "b62046bb",
   "metadata": {},
   "outputs": [],
   "source": [
    "def get_top_n(d2v, user_embeddings, n=10):\n",
    "    \"\"\"Return the top-N recommendations for each user based on cosine similarity.\n",
    "    \n",
    "    Args:\n",
    "        d2v ([Doc2Vec]): Doc2Vec of item representations based on reviews.\n",
    "        user_embeddings ([dict]): User representations based on mean aggregation of item\n",
    "            representations within the d2v vector dimension space.\n",
    "    \n",
    "    Returns:\n",
    "        ([dict]): A dictionary of top-N recommendations for each unique user, sorted by\n",
    "            cosine similarties.\n",
    "    \"\"\"\n",
    "    \n",
    "    # retrieve a 200 items candidate list based on similarities\n",
    "    top_ns = {}\n",
    "    for user in tqdm(user_embeddings.items()):\n",
    "        candidate_items = [i[0] for i in d2v.dv.most_similar([user[1]], topn=200)]\n",
    "        unrated_items = set(candidate_items) - set(user_rating_history[user[0]])\n",
    "        \n",
    "        user_top_n = []\n",
    "        idx = 0\n",
    "        while len(user_top_n) < n:\n",
    "            if candidate_items[idx] in unrated_items:\n",
    "                user_top_n.append(candidate_items[idx])\n",
    "                idx += 1\n",
    "            else:\n",
    "                idx += 1\n",
    "        \n",
    "        top_ns[user[0]] = user_top_n\n",
    "        \n",
    "    return top_ns"
   ]
  },
  {
   "cell_type": "code",
   "execution_count": 8,
   "id": "f3739f9a",
   "metadata": {},
   "outputs": [
    {
     "name": "stderr",
     "output_type": "stream",
     "text": [
      "100%|███████████████████████████████████████████████████████| 13397/13397 [00:04<00:00, 2951.35it/s]\n"
     ]
    }
   ],
   "source": [
    "top_ns = get_top_n(model, user_embeddings, 10)"
   ]
  },
  {
   "cell_type": "code",
   "execution_count": 9,
   "id": "28300635",
   "metadata": {},
   "outputs": [
    {
     "name": "stdout",
     "output_type": "stream",
     "text": [
      "For user: A1IRN1M05TPOVT:\n",
      "Purchase History:\n",
      "             asin                                              title\n",
      "3202   B000CQE3HS  Slim Jim Giant Smoked Snack Sticks, Tabasco, ....\n",
      "3810   B000E1BL5S  Planters Trail Mix, Sweet &amp; Salty 6 Oz (Pa...\n",
      "5835   B000EQT77M  TERRA Sweets &amp; Beets Chips, No Salt Added,...\n",
      "9160   B000H27NU6  Ghirardelli Chocolate Premium Hot Cocoa Mix, D...\n",
      "15998  B0016MN9G8  Twizzlers Strawberry Candy Twists - 180 Pcs, 3...\n",
      "21161  B001EQ4GPO   Planters Cashews with Almonds &amp; Pecans, 9...\n",
      "21700  B001EQ55YU  Emerald Nuts Whole Cashews, 10-Ounce Canisters...\n",
      "23518  B001HBXO54    Lindor Assorted Chocolate Truffles, 21.2 ounce \n",
      "24821  B001M0A8XQ  Special K Breakfast Cereal Original, 18 oz(Pac...\n",
      "26527  B001YJBLMM  Crunchmaster Multi-Grain Crackers, Gluten Free...\n",
      "33157  B003ZXFWP2  Cheez-It Baked Snack Mix, Classic, 10.5 oz Box...\n",
      "\n",
      "Recommending:\n",
      "\n",
      "             asin                                              title\n",
      "8275   B000FYVKUA  Buffalo Bills 2-lb Mild 5&quot; Ole' Smokies S...\n",
      "9786   B000HYE93S  Laffy Taffy by Wonka Banana Flavor 145 Piece T...\n",
      "10777  B000LKTPCS  Good Health Peanut Butter Pretzels, Salted, 5....\n",
      "11015  B000LKX4ZC  Glenny's Low Fat Soy Crisps, Lightly Salted, 1...\n",
      "23493  B001H828EK   Glutino Gluten Free Pretzel Sticks, Delicious...\n",
      "29231  B002DMFSSM  Sahale Snacks Variety Pack, 3 Flavors, 2 each,...\n",
      "41531  B005MZQM6O                Snyders Mini Pretzels Tub, 40 Ounce\n",
      "41786  B005QKH14W  Healthy Creations Pretzels Plus Pizza, 3-Ounce...\n",
      "43204  B006G7Z5UQ       Pop Chips Potato Chips, Barbeque (Pack of 6)\n",
      "47210  B00CHUCBIK  Frito-Lay Variety Pack, Classic Mix, 30 pack- ...\n"
     ]
    }
   ],
   "source": [
    "# generating a random user\n",
    "random_user = np.random.choice(list(train['reviewerID'].unique()), 1)[0]\n",
    "print(f\"For user: {random_user}:\")\n",
    "print(f\"Purchase History:\\n{train[train['reviewerID'] == random_user][['asin', 'title']]}\")\n",
    "\n",
    "# find the recommendations\n",
    "print(f\"\\nRecommending:\\n\")\n",
    "print(f\"{train[train['asin'].isin(top_ns[random_user])][['asin', 'title']].drop_duplicates(subset='asin')}\")"
   ]
  },
  {
   "cell_type": "markdown",
   "id": "f6c6b9ad",
   "metadata": {},
   "source": [
    "# Evaluate Top-N Recommendations (N=10)"
   ]
  },
  {
   "cell_type": "markdown",
   "id": "9f4cca96",
   "metadata": {},
   "source": [
    "### Defining Evaluation Metrics"
   ]
  },
  {
   "cell_type": "code",
   "execution_count": 10,
   "id": "567b3cda",
   "metadata": {},
   "outputs": [],
   "source": [
    "def precision_at_k(asins, predicted_asins, k=10):\n",
    "    # number of relevant items\n",
    "    set_actual = set(asins)\n",
    "    set_preds = set(predicted_asins)\n",
    "    num_relevant = len(set_actual.intersection(set_preds))\n",
    "    \n",
    "    # calculating precision@K - relevant / total recommended\n",
    "    precision_at_k = num_relevant / k\n",
    "    \n",
    "    return precision_at_k\n",
    "\n",
    "def recall_at_k(asins, predicted_asins, k=10):\n",
    "    # number of relevant items\n",
    "    set_actual = set(asins)\n",
    "    set_preds = set(predicted_asins)\n",
    "    num_relevant = len(set_actual.intersection(set_preds))\n",
    "    \n",
    "    # calculating recall@K - relevant / total relevant items\n",
    "    recall_at_k = num_relevant / len(asins)\n",
    "    \n",
    "    return recall_at_k"
   ]
  },
  {
   "cell_type": "code",
   "execution_count": 11,
   "id": "ab3c7ff0",
   "metadata": {},
   "outputs": [],
   "source": [
    "# loading test dataset\n",
    "test = pd.read_csv(f\"{DATA_PATH}/{CATEGORY}_test.csv\")"
   ]
  },
  {
   "cell_type": "code",
   "execution_count": 12,
   "id": "446daced",
   "metadata": {},
   "outputs": [
    {
     "data": {
      "text/html": [
       "<div>\n",
       "<style scoped>\n",
       "    .dataframe tbody tr th:only-of-type {\n",
       "        vertical-align: middle;\n",
       "    }\n",
       "\n",
       "    .dataframe tbody tr th {\n",
       "        vertical-align: top;\n",
       "    }\n",
       "\n",
       "    .dataframe thead th {\n",
       "        text-align: right;\n",
       "    }\n",
       "</style>\n",
       "<table border=\"1\" class=\"dataframe\">\n",
       "  <thead>\n",
       "    <tr style=\"text-align: right;\">\n",
       "      <th></th>\n",
       "      <th>index</th>\n",
       "      <th>asin</th>\n",
       "      <th>title</th>\n",
       "      <th>categories</th>\n",
       "      <th>reviewerID</th>\n",
       "      <th>overall</th>\n",
       "      <th>reviewText</th>\n",
       "      <th>reviewTime</th>\n",
       "      <th>processedReviewText</th>\n",
       "    </tr>\n",
       "  </thead>\n",
       "  <tbody>\n",
       "    <tr>\n",
       "      <th>0</th>\n",
       "      <td>2</td>\n",
       "      <td>9742356831</td>\n",
       "      <td>Mae Ploy Green Curry Paste, 14 oz</td>\n",
       "      <td>['Grocery &amp; Gourmet Food', 'Sauces, Gravies &amp; ...</td>\n",
       "      <td>A1TCSC0YWT82Q0</td>\n",
       "      <td>5.0</td>\n",
       "      <td>I love ethnic foods and to cook them. I recent...</td>\n",
       "      <td>2013-08-03</td>\n",
       "      <td>love ethnic food cook recently purchase produc...</td>\n",
       "    </tr>\n",
       "    <tr>\n",
       "      <th>1</th>\n",
       "      <td>8</td>\n",
       "      <td>9742356831</td>\n",
       "      <td>Mae Ploy Green Curry Paste, 14 oz</td>\n",
       "      <td>['Grocery &amp; Gourmet Food', 'Sauces, Gravies &amp; ...</td>\n",
       "      <td>A1Z7Y2GMAP9SRY</td>\n",
       "      <td>5.0</td>\n",
       "      <td>I like to make my own curry but this is a tast...</td>\n",
       "      <td>2014-06-27</td>\n",
       "      <td>like curry tasty alternative use base kind dif...</td>\n",
       "    </tr>\n",
       "    <tr>\n",
       "      <th>2</th>\n",
       "      <td>23</td>\n",
       "      <td>B00004S1C5</td>\n",
       "      <td>Ateco Food Coloring Kit, 6 colors</td>\n",
       "      <td>['Grocery &amp; Gourmet Food', 'Cooking &amp; Baking',...</td>\n",
       "      <td>A14YSMLYLJEMET</td>\n",
       "      <td>1.0</td>\n",
       "      <td>This product is no where near natural / organi...</td>\n",
       "      <td>2013-03-29</td>\n",
       "      <td>product near natural organic wish review purch...</td>\n",
       "    </tr>\n",
       "    <tr>\n",
       "      <th>3</th>\n",
       "      <td>31</td>\n",
       "      <td>B00005344V</td>\n",
       "      <td>Traditional Medicinals Organic Breathe Easy Se...</td>\n",
       "      <td>['Grocery &amp; Gourmet Food', 'Beverages', 'Coffe...</td>\n",
       "      <td>A2F488C4PLWGEI</td>\n",
       "      <td>5.0</td>\n",
       "      <td>If my wife drinks a cup of this tea when she f...</td>\n",
       "      <td>2014-03-23</td>\n",
       "      <td>wife drink cup tea feel attack come help avoid...</td>\n",
       "    </tr>\n",
       "    <tr>\n",
       "      <th>4</th>\n",
       "      <td>32</td>\n",
       "      <td>B00005344V</td>\n",
       "      <td>Traditional Medicinals Organic Breathe Easy Se...</td>\n",
       "      <td>['Grocery &amp; Gourmet Food', 'Beverages', 'Coffe...</td>\n",
       "      <td>AO1HXV7DWZZIR</td>\n",
       "      <td>5.0</td>\n",
       "      <td>I don't know about the medicinal aspects of th...</td>\n",
       "      <td>2014-02-06</td>\n",
       "      <td>know medicinal aspect tea flavor downright scr...</td>\n",
       "    </tr>\n",
       "    <tr>\n",
       "      <th>28001</th>\n",
       "      <td>77519</td>\n",
       "      <td>B00ISVHJ3Y</td>\n",
       "      <td>Wholesome Sweeteners, Organic Sweet and Lite S...</td>\n",
       "      <td>['Grocery &amp; Gourmet Food', 'Cooking &amp; Baking',...</td>\n",
       "      <td>A1WT3TVHANP7ZF</td>\n",
       "      <td>3.0</td>\n",
       "      <td>Hmmm. I really wanted to love this sweetener. ...</td>\n",
       "      <td>2014-07-22</td>\n",
       "      <td>hmmm want love sweetener half sugar half stevi...</td>\n",
       "    </tr>\n",
       "    <tr>\n",
       "      <th>28002</th>\n",
       "      <td>77520</td>\n",
       "      <td>B00ISVHJ3Y</td>\n",
       "      <td>Wholesome Sweeteners, Organic Sweet and Lite S...</td>\n",
       "      <td>['Grocery &amp; Gourmet Food', 'Cooking &amp; Baking',...</td>\n",
       "      <td>A3NEAETOSXDBOM</td>\n",
       "      <td>5.0</td>\n",
       "      <td>I confess I have a sweet tooth, and love the t...</td>\n",
       "      <td>2014-06-30</td>\n",
       "      <td>confess sweet tooth love taste sugar recognize...</td>\n",
       "    </tr>\n",
       "    <tr>\n",
       "      <th>28003</th>\n",
       "      <td>77521</td>\n",
       "      <td>B00ISVHJ3Y</td>\n",
       "      <td>Wholesome Sweeteners, Organic Sweet and Lite S...</td>\n",
       "      <td>['Grocery &amp; Gourmet Food', 'Cooking &amp; Baking',...</td>\n",
       "      <td>AD1ZOPB0BBEHB</td>\n",
       "      <td>4.0</td>\n",
       "      <td>It has a little of the stevia aftertaste, but ...</td>\n",
       "      <td>2014-07-17</td>\n",
       "      <td>little stevia aftertaste fair compromise able ...</td>\n",
       "    </tr>\n",
       "    <tr>\n",
       "      <th>28004</th>\n",
       "      <td>77522</td>\n",
       "      <td>B00ISVHJ3Y</td>\n",
       "      <td>Wholesome Sweeteners, Organic Sweet and Lite S...</td>\n",
       "      <td>['Grocery &amp; Gourmet Food', 'Cooking &amp; Baking',...</td>\n",
       "      <td>A18ECVX2RJ7HUE</td>\n",
       "      <td>5.0</td>\n",
       "      <td>i love marinade for grilled flank steak or lon...</td>\n",
       "      <td>2014-05-30</td>\n",
       "      <td>love marinade grilled flank steak london broil...</td>\n",
       "    </tr>\n",
       "    <tr>\n",
       "      <th>28005</th>\n",
       "      <td>77523</td>\n",
       "      <td>B00ISVHJ3Y</td>\n",
       "      <td>Wholesome Sweeteners, Organic Sweet and Lite S...</td>\n",
       "      <td>['Grocery &amp; Gourmet Food', 'Cooking &amp; Baking',...</td>\n",
       "      <td>A2G04D4QZAXL15</td>\n",
       "      <td>3.0</td>\n",
       "      <td>I've been using Truvia (a form of stevia) on m...</td>\n",
       "      <td>2014-05-27</td>\n",
       "      <td>use truvia form stevia cereal greek yogurt yea...</td>\n",
       "    </tr>\n",
       "  </tbody>\n",
       "</table>\n",
       "</div>"
      ],
      "text/plain": [
       "       index        asin                                              title  \\\n",
       "0          2  9742356831                  Mae Ploy Green Curry Paste, 14 oz   \n",
       "1          8  9742356831                  Mae Ploy Green Curry Paste, 14 oz   \n",
       "2         23  B00004S1C5                  Ateco Food Coloring Kit, 6 colors   \n",
       "3         31  B00005344V  Traditional Medicinals Organic Breathe Easy Se...   \n",
       "4         32  B00005344V  Traditional Medicinals Organic Breathe Easy Se...   \n",
       "28001  77519  B00ISVHJ3Y  Wholesome Sweeteners, Organic Sweet and Lite S...   \n",
       "28002  77520  B00ISVHJ3Y  Wholesome Sweeteners, Organic Sweet and Lite S...   \n",
       "28003  77521  B00ISVHJ3Y  Wholesome Sweeteners, Organic Sweet and Lite S...   \n",
       "28004  77522  B00ISVHJ3Y  Wholesome Sweeteners, Organic Sweet and Lite S...   \n",
       "28005  77523  B00ISVHJ3Y  Wholesome Sweeteners, Organic Sweet and Lite S...   \n",
       "\n",
       "                                              categories      reviewerID  \\\n",
       "0      ['Grocery & Gourmet Food', 'Sauces, Gravies & ...  A1TCSC0YWT82Q0   \n",
       "1      ['Grocery & Gourmet Food', 'Sauces, Gravies & ...  A1Z7Y2GMAP9SRY   \n",
       "2      ['Grocery & Gourmet Food', 'Cooking & Baking',...  A14YSMLYLJEMET   \n",
       "3      ['Grocery & Gourmet Food', 'Beverages', 'Coffe...  A2F488C4PLWGEI   \n",
       "4      ['Grocery & Gourmet Food', 'Beverages', 'Coffe...   AO1HXV7DWZZIR   \n",
       "28001  ['Grocery & Gourmet Food', 'Cooking & Baking',...  A1WT3TVHANP7ZF   \n",
       "28002  ['Grocery & Gourmet Food', 'Cooking & Baking',...  A3NEAETOSXDBOM   \n",
       "28003  ['Grocery & Gourmet Food', 'Cooking & Baking',...   AD1ZOPB0BBEHB   \n",
       "28004  ['Grocery & Gourmet Food', 'Cooking & Baking',...  A18ECVX2RJ7HUE   \n",
       "28005  ['Grocery & Gourmet Food', 'Cooking & Baking',...  A2G04D4QZAXL15   \n",
       "\n",
       "       overall                                         reviewText  reviewTime  \\\n",
       "0          5.0  I love ethnic foods and to cook them. I recent...  2013-08-03   \n",
       "1          5.0  I like to make my own curry but this is a tast...  2014-06-27   \n",
       "2          1.0  This product is no where near natural / organi...  2013-03-29   \n",
       "3          5.0  If my wife drinks a cup of this tea when she f...  2014-03-23   \n",
       "4          5.0  I don't know about the medicinal aspects of th...  2014-02-06   \n",
       "28001      3.0  Hmmm. I really wanted to love this sweetener. ...  2014-07-22   \n",
       "28002      5.0  I confess I have a sweet tooth, and love the t...  2014-06-30   \n",
       "28003      4.0  It has a little of the stevia aftertaste, but ...  2014-07-17   \n",
       "28004      5.0  i love marinade for grilled flank steak or lon...  2014-05-30   \n",
       "28005      3.0  I've been using Truvia (a form of stevia) on m...  2014-05-27   \n",
       "\n",
       "                                     processedReviewText  \n",
       "0      love ethnic food cook recently purchase produc...  \n",
       "1      like curry tasty alternative use base kind dif...  \n",
       "2      product near natural organic wish review purch...  \n",
       "3      wife drink cup tea feel attack come help avoid...  \n",
       "4      know medicinal aspect tea flavor downright scr...  \n",
       "28001  hmmm want love sweetener half sugar half stevi...  \n",
       "28002  confess sweet tooth love taste sugar recognize...  \n",
       "28003  little stevia aftertaste fair compromise able ...  \n",
       "28004  love marinade grilled flank steak london broil...  \n",
       "28005  use truvia form stevia cereal greek yogurt yea...  "
      ]
     },
     "execution_count": 12,
     "metadata": {},
     "output_type": "execute_result"
    }
   ],
   "source": [
    "test.head().append(test.tail())"
   ]
  },
  {
   "cell_type": "code",
   "execution_count": 13,
   "id": "65ad49bb",
   "metadata": {},
   "outputs": [],
   "source": [
    "# generating test rating history\n",
    "test_user_history = (pd.DataFrame(test.groupby(['reviewerID'])['asin']\n",
    "                                  .apply(list).reset_index()))"
   ]
  },
  {
   "cell_type": "code",
   "execution_count": 14,
   "id": "70e3be26",
   "metadata": {},
   "outputs": [],
   "source": [
    "test_recommendations = pd.DataFrame(top_ns.items(), columns=['reviewerID', 'pred_asin'])"
   ]
  },
  {
   "cell_type": "code",
   "execution_count": 15,
   "id": "52f24cdf",
   "metadata": {},
   "outputs": [],
   "source": [
    "# combined test dataset and recommendations\n",
    "test_merged = pd.merge(test_user_history, test_recommendations, on='reviewerID', how='inner')"
   ]
  },
  {
   "cell_type": "code",
   "execution_count": 16,
   "id": "6d373dba",
   "metadata": {},
   "outputs": [
    {
     "data": {
      "text/html": [
       "<div>\n",
       "<style scoped>\n",
       "    .dataframe tbody tr th:only-of-type {\n",
       "        vertical-align: middle;\n",
       "    }\n",
       "\n",
       "    .dataframe tbody tr th {\n",
       "        vertical-align: top;\n",
       "    }\n",
       "\n",
       "    .dataframe thead th {\n",
       "        text-align: right;\n",
       "    }\n",
       "</style>\n",
       "<table border=\"1\" class=\"dataframe\">\n",
       "  <thead>\n",
       "    <tr style=\"text-align: right;\">\n",
       "      <th></th>\n",
       "      <th>reviewerID</th>\n",
       "      <th>asin</th>\n",
       "      <th>pred_asin</th>\n",
       "    </tr>\n",
       "  </thead>\n",
       "  <tbody>\n",
       "    <tr>\n",
       "      <th>0</th>\n",
       "      <td>A00177463W0XWB16A9O05</td>\n",
       "      <td>[B00474OR8G, B00BFM6OAW]</td>\n",
       "      <td>[B0033GMSTY, B001CHFUDC, B002AQ0OL2, B001EO5Y5...</td>\n",
       "    </tr>\n",
       "    <tr>\n",
       "      <th>1</th>\n",
       "      <td>A022899328A0QROR32DCT</td>\n",
       "      <td>[B00CMQDKES]</td>\n",
       "      <td>[B000E48IP6, B000VK4F5A, B004K677KG, B005I3EGJ...</td>\n",
       "    </tr>\n",
       "    <tr>\n",
       "      <th>2</th>\n",
       "      <td>A068255029AHTHDXZURNU</td>\n",
       "      <td>[B001FA1K2G]</td>\n",
       "      <td>[B001KZ1AE4, B003SBRQAU, B005DVUYCU, B0014EOUA...</td>\n",
       "    </tr>\n",
       "    <tr>\n",
       "      <th>3</th>\n",
       "      <td>A06944662TFWOKKV4GJKX</td>\n",
       "      <td>[B000GFYRHG]</td>\n",
       "      <td>[B001EQ5IN8, B000L8CB76, B0000DBN1L, B001HX59Z...</td>\n",
       "    </tr>\n",
       "    <tr>\n",
       "      <th>4</th>\n",
       "      <td>A1004703RC79J9</td>\n",
       "      <td>[B003GTR8IO]</td>\n",
       "      <td>[B001EQ55PE, B001E50TJC, B001EQ4Q72, B001M1JDM...</td>\n",
       "    </tr>\n",
       "  </tbody>\n",
       "</table>\n",
       "</div>"
      ],
      "text/plain": [
       "              reviewerID                      asin  \\\n",
       "0  A00177463W0XWB16A9O05  [B00474OR8G, B00BFM6OAW]   \n",
       "1  A022899328A0QROR32DCT              [B00CMQDKES]   \n",
       "2  A068255029AHTHDXZURNU              [B001FA1K2G]   \n",
       "3  A06944662TFWOKKV4GJKX              [B000GFYRHG]   \n",
       "4         A1004703RC79J9              [B003GTR8IO]   \n",
       "\n",
       "                                           pred_asin  \n",
       "0  [B0033GMSTY, B001CHFUDC, B002AQ0OL2, B001EO5Y5...  \n",
       "1  [B000E48IP6, B000VK4F5A, B004K677KG, B005I3EGJ...  \n",
       "2  [B001KZ1AE4, B003SBRQAU, B005DVUYCU, B0014EOUA...  \n",
       "3  [B001EQ5IN8, B000L8CB76, B0000DBN1L, B001HX59Z...  \n",
       "4  [B001EQ55PE, B001E50TJC, B001EQ4Q72, B001M1JDM...  "
      ]
     },
     "execution_count": 16,
     "metadata": {},
     "output_type": "execute_result"
    }
   ],
   "source": [
    "test_merged.head()"
   ]
  },
  {
   "cell_type": "code",
   "execution_count": 17,
   "id": "069090e4",
   "metadata": {},
   "outputs": [
    {
     "name": "stderr",
     "output_type": "stream",
     "text": [
      "100%|██████████████████████████████████████████████████████| 13279/13279 [00:00<00:00, 51524.91it/s]\n",
      "100%|██████████████████████████████████████████████████████| 13279/13279 [00:00<00:00, 53171.73it/s]\n"
     ]
    }
   ],
   "source": [
    "test_merged['precision@k'] = test_merged.progress_apply(lambda x: precision_at_k(x.asin, x.pred_asin), axis=1)\n",
    "test_merged['recall@k'] = test_merged.progress_apply(lambda x: recall_at_k(x.asin, x.pred_asin), axis=1)"
   ]
  },
  {
   "cell_type": "code",
   "execution_count": 18,
   "id": "0097cfd9",
   "metadata": {},
   "outputs": [
    {
     "data": {
      "text/html": [
       "<div>\n",
       "<style scoped>\n",
       "    .dataframe tbody tr th:only-of-type {\n",
       "        vertical-align: middle;\n",
       "    }\n",
       "\n",
       "    .dataframe tbody tr th {\n",
       "        vertical-align: top;\n",
       "    }\n",
       "\n",
       "    .dataframe thead th {\n",
       "        text-align: right;\n",
       "    }\n",
       "</style>\n",
       "<table border=\"1\" class=\"dataframe\">\n",
       "  <thead>\n",
       "    <tr style=\"text-align: right;\">\n",
       "      <th></th>\n",
       "      <th>reviewerID</th>\n",
       "      <th>asin</th>\n",
       "      <th>pred_asin</th>\n",
       "      <th>precision@k</th>\n",
       "      <th>recall@k</th>\n",
       "    </tr>\n",
       "  </thead>\n",
       "  <tbody>\n",
       "    <tr>\n",
       "      <th>0</th>\n",
       "      <td>A00177463W0XWB16A9O05</td>\n",
       "      <td>[B00474OR8G, B00BFM6OAW]</td>\n",
       "      <td>[B0033GMSTY, B001CHFUDC, B002AQ0OL2, B001EO5Y5...</td>\n",
       "      <td>0.0</td>\n",
       "      <td>0.0</td>\n",
       "    </tr>\n",
       "    <tr>\n",
       "      <th>1</th>\n",
       "      <td>A022899328A0QROR32DCT</td>\n",
       "      <td>[B00CMQDKES]</td>\n",
       "      <td>[B000E48IP6, B000VK4F5A, B004K677KG, B005I3EGJ...</td>\n",
       "      <td>0.0</td>\n",
       "      <td>0.0</td>\n",
       "    </tr>\n",
       "    <tr>\n",
       "      <th>2</th>\n",
       "      <td>A068255029AHTHDXZURNU</td>\n",
       "      <td>[B001FA1K2G]</td>\n",
       "      <td>[B001KZ1AE4, B003SBRQAU, B005DVUYCU, B0014EOUA...</td>\n",
       "      <td>0.0</td>\n",
       "      <td>0.0</td>\n",
       "    </tr>\n",
       "    <tr>\n",
       "      <th>3</th>\n",
       "      <td>A06944662TFWOKKV4GJKX</td>\n",
       "      <td>[B000GFYRHG]</td>\n",
       "      <td>[B001EQ5IN8, B000L8CB76, B0000DBN1L, B001HX59Z...</td>\n",
       "      <td>0.0</td>\n",
       "      <td>0.0</td>\n",
       "    </tr>\n",
       "    <tr>\n",
       "      <th>4</th>\n",
       "      <td>A1004703RC79J9</td>\n",
       "      <td>[B003GTR8IO]</td>\n",
       "      <td>[B001EQ55PE, B001E50TJC, B001EQ4Q72, B001M1JDM...</td>\n",
       "      <td>0.0</td>\n",
       "      <td>0.0</td>\n",
       "    </tr>\n",
       "  </tbody>\n",
       "</table>\n",
       "</div>"
      ],
      "text/plain": [
       "              reviewerID                      asin  \\\n",
       "0  A00177463W0XWB16A9O05  [B00474OR8G, B00BFM6OAW]   \n",
       "1  A022899328A0QROR32DCT              [B00CMQDKES]   \n",
       "2  A068255029AHTHDXZURNU              [B001FA1K2G]   \n",
       "3  A06944662TFWOKKV4GJKX              [B000GFYRHG]   \n",
       "4         A1004703RC79J9              [B003GTR8IO]   \n",
       "\n",
       "                                           pred_asin  precision@k  recall@k  \n",
       "0  [B0033GMSTY, B001CHFUDC, B002AQ0OL2, B001EO5Y5...          0.0       0.0  \n",
       "1  [B000E48IP6, B000VK4F5A, B004K677KG, B005I3EGJ...          0.0       0.0  \n",
       "2  [B001KZ1AE4, B003SBRQAU, B005DVUYCU, B0014EOUA...          0.0       0.0  \n",
       "3  [B001EQ5IN8, B000L8CB76, B0000DBN1L, B001HX59Z...          0.0       0.0  \n",
       "4  [B001EQ55PE, B001E50TJC, B001EQ4Q72, B001M1JDM...          0.0       0.0  "
      ]
     },
     "execution_count": 18,
     "metadata": {},
     "output_type": "execute_result"
    }
   ],
   "source": [
    "test_merged.head()"
   ]
  },
  {
   "cell_type": "code",
   "execution_count": 19,
   "id": "ffd610b9",
   "metadata": {},
   "outputs": [
    {
     "name": "stdout",
     "output_type": "stream",
     "text": [
      "The MEM-ECF has a average precision@10: 0.00628, average recall@10: 0.03796.\n"
     ]
    }
   ],
   "source": [
    "k = 10\n",
    "average_precision_at_k = test_merged[\"precision@k\"].mean()\n",
    "average_recall_at_k = test_merged[\"recall@k\"].mean()\n",
    "\n",
    "print(f\"The MEM-ECF has a average precision@{k}: {average_precision_at_k:.5f}, average recall@{k}: {average_recall_at_k:.5f}.\")"
   ]
  },
  {
   "cell_type": "markdown",
   "id": "66306cbe",
   "metadata": {},
   "source": [
    "# Looking at Relevant Recommendations"
   ]
  },
  {
   "cell_type": "code",
   "execution_count": 20,
   "id": "4c60b45a",
   "metadata": {},
   "outputs": [
    {
     "data": {
      "text/html": [
       "<div>\n",
       "<style scoped>\n",
       "    .dataframe tbody tr th:only-of-type {\n",
       "        vertical-align: middle;\n",
       "    }\n",
       "\n",
       "    .dataframe tbody tr th {\n",
       "        vertical-align: top;\n",
       "    }\n",
       "\n",
       "    .dataframe thead th {\n",
       "        text-align: right;\n",
       "    }\n",
       "</style>\n",
       "<table border=\"1\" class=\"dataframe\">\n",
       "  <thead>\n",
       "    <tr style=\"text-align: right;\">\n",
       "      <th></th>\n",
       "      <th>reviewerID</th>\n",
       "      <th>asin</th>\n",
       "      <th>pred_asin</th>\n",
       "      <th>precision@k</th>\n",
       "      <th>recall@k</th>\n",
       "    </tr>\n",
       "  </thead>\n",
       "  <tbody>\n",
       "    <tr>\n",
       "      <th>44</th>\n",
       "      <td>A10BWUA2MGA9BK</td>\n",
       "      <td>[B000S8593W]</td>\n",
       "      <td>[B004YTV5S4, B00856TSCC, B000S8593W, B00B8DSFX...</td>\n",
       "      <td>0.1</td>\n",
       "      <td>1.00</td>\n",
       "    </tr>\n",
       "    <tr>\n",
       "      <th>68</th>\n",
       "      <td>A10IRGY2RUZ6MW</td>\n",
       "      <td>[B008TSVXWE]</td>\n",
       "      <td>[B008TSVXWE, B001EQ5S9C, B000FYVKUA, B000RFS57...</td>\n",
       "      <td>0.1</td>\n",
       "      <td>1.00</td>\n",
       "    </tr>\n",
       "    <tr>\n",
       "      <th>77</th>\n",
       "      <td>A10N8O0MPJ7IRH</td>\n",
       "      <td>[B00021639Y, B00021639Y]</td>\n",
       "      <td>[B0013JQON4, B000EDBPO8, B003LPKETS, B00021639...</td>\n",
       "      <td>0.1</td>\n",
       "      <td>0.50</td>\n",
       "    </tr>\n",
       "    <tr>\n",
       "      <th>83</th>\n",
       "      <td>A10PUMFCPP2SXV</td>\n",
       "      <td>[B009PARMMA]</td>\n",
       "      <td>[B001F10XUU, B009PARMMA, B004DJD0DS, B000GB0TM...</td>\n",
       "      <td>0.1</td>\n",
       "      <td>1.00</td>\n",
       "    </tr>\n",
       "    <tr>\n",
       "      <th>91</th>\n",
       "      <td>A10UCLH6YM8F79</td>\n",
       "      <td>[B004SKON6U, B004UA52F4]</td>\n",
       "      <td>[B004UA52F4, B000VJM4FO, B0044R3DNG, B00FQGP20...</td>\n",
       "      <td>0.1</td>\n",
       "      <td>0.50</td>\n",
       "    </tr>\n",
       "    <tr>\n",
       "      <th>...</th>\n",
       "      <td>...</td>\n",
       "      <td>...</td>\n",
       "      <td>...</td>\n",
       "      <td>...</td>\n",
       "      <td>...</td>\n",
       "    </tr>\n",
       "    <tr>\n",
       "      <th>13245</th>\n",
       "      <td>AZKRFNQ8EFO4T</td>\n",
       "      <td>[B000EICISA, B00473PVVO]</td>\n",
       "      <td>[B000EICISA, B000E7WM0U, B000EICJWA, B000LKVSD...</td>\n",
       "      <td>0.1</td>\n",
       "      <td>0.50</td>\n",
       "    </tr>\n",
       "    <tr>\n",
       "      <th>13253</th>\n",
       "      <td>AZOCADWL9N2H2</td>\n",
       "      <td>[B000EML7FG, B001E4Q5GO, B001KUWFPC, B003DNL9VA]</td>\n",
       "      <td>[B00550MI00, B003DNL9VA, B001OCKI5U, B00B2JUEB...</td>\n",
       "      <td>0.1</td>\n",
       "      <td>0.25</td>\n",
       "    </tr>\n",
       "    <tr>\n",
       "      <th>13259</th>\n",
       "      <td>AZQA8ZIGS01FG</td>\n",
       "      <td>[B001CHFUDC, B004538TME]</td>\n",
       "      <td>[B001CHFUDC, B000TK6LBS, B0033HGLTG, B001EO5Y5...</td>\n",
       "      <td>0.1</td>\n",
       "      <td>0.50</td>\n",
       "    </tr>\n",
       "    <tr>\n",
       "      <th>13271</th>\n",
       "      <td>AZWIAYHWL2FWE</td>\n",
       "      <td>[B004D6042G]</td>\n",
       "      <td>[B000K6Z22U, B004D6042G, B000G6Q4GW, B007VCF1Q...</td>\n",
       "      <td>0.1</td>\n",
       "      <td>1.00</td>\n",
       "    </tr>\n",
       "    <tr>\n",
       "      <th>13277</th>\n",
       "      <td>AZYXC63SS008M</td>\n",
       "      <td>[B0054TWPNC]</td>\n",
       "      <td>[B000FFLTD2, B0040WG0QM, B0017U08SQ, B000LQORE...</td>\n",
       "      <td>0.1</td>\n",
       "      <td>1.00</td>\n",
       "    </tr>\n",
       "  </tbody>\n",
       "</table>\n",
       "<p>786 rows × 5 columns</p>\n",
       "</div>"
      ],
      "text/plain": [
       "           reviewerID                                              asin  \\\n",
       "44     A10BWUA2MGA9BK                                      [B000S8593W]   \n",
       "68     A10IRGY2RUZ6MW                                      [B008TSVXWE]   \n",
       "77     A10N8O0MPJ7IRH                          [B00021639Y, B00021639Y]   \n",
       "83     A10PUMFCPP2SXV                                      [B009PARMMA]   \n",
       "91     A10UCLH6YM8F79                          [B004SKON6U, B004UA52F4]   \n",
       "...               ...                                               ...   \n",
       "13245   AZKRFNQ8EFO4T                          [B000EICISA, B00473PVVO]   \n",
       "13253   AZOCADWL9N2H2  [B000EML7FG, B001E4Q5GO, B001KUWFPC, B003DNL9VA]   \n",
       "13259   AZQA8ZIGS01FG                          [B001CHFUDC, B004538TME]   \n",
       "13271   AZWIAYHWL2FWE                                      [B004D6042G]   \n",
       "13277   AZYXC63SS008M                                      [B0054TWPNC]   \n",
       "\n",
       "                                               pred_asin  precision@k  \\\n",
       "44     [B004YTV5S4, B00856TSCC, B000S8593W, B00B8DSFX...          0.1   \n",
       "68     [B008TSVXWE, B001EQ5S9C, B000FYVKUA, B000RFS57...          0.1   \n",
       "77     [B0013JQON4, B000EDBPO8, B003LPKETS, B00021639...          0.1   \n",
       "83     [B001F10XUU, B009PARMMA, B004DJD0DS, B000GB0TM...          0.1   \n",
       "91     [B004UA52F4, B000VJM4FO, B0044R3DNG, B00FQGP20...          0.1   \n",
       "...                                                  ...          ...   \n",
       "13245  [B000EICISA, B000E7WM0U, B000EICJWA, B000LKVSD...          0.1   \n",
       "13253  [B00550MI00, B003DNL9VA, B001OCKI5U, B00B2JUEB...          0.1   \n",
       "13259  [B001CHFUDC, B000TK6LBS, B0033HGLTG, B001EO5Y5...          0.1   \n",
       "13271  [B000K6Z22U, B004D6042G, B000G6Q4GW, B007VCF1Q...          0.1   \n",
       "13277  [B000FFLTD2, B0040WG0QM, B0017U08SQ, B000LQORE...          0.1   \n",
       "\n",
       "       recall@k  \n",
       "44         1.00  \n",
       "68         1.00  \n",
       "77         0.50  \n",
       "83         1.00  \n",
       "91         0.50  \n",
       "...         ...  \n",
       "13245      0.50  \n",
       "13253      0.25  \n",
       "13259      0.50  \n",
       "13271      1.00  \n",
       "13277      1.00  \n",
       "\n",
       "[786 rows x 5 columns]"
      ]
     },
     "execution_count": 20,
     "metadata": {},
     "output_type": "execute_result"
    }
   ],
   "source": [
    "test_merged[test_merged['recall@k'] > 0]"
   ]
  },
  {
   "cell_type": "markdown",
   "id": "04ceaebf",
   "metadata": {},
   "source": [
    "# Generating Top-N Recommendations (N=25)"
   ]
  },
  {
   "cell_type": "code",
   "execution_count": 21,
   "id": "bbd50dd1",
   "metadata": {},
   "outputs": [
    {
     "name": "stderr",
     "output_type": "stream",
     "text": [
      "100%|███████████████████████████████████████████████████████| 13397/13397 [00:05<00:00, 2463.37it/s]\n"
     ]
    }
   ],
   "source": [
    "top_ns = get_top_n(model, user_embeddings, 25)"
   ]
  },
  {
   "cell_type": "code",
   "execution_count": 22,
   "id": "3b2f3fba",
   "metadata": {},
   "outputs": [],
   "source": [
    "test_recommendations = pd.DataFrame(top_ns.items(), columns=['reviewerID', 'pred_asin'])\n",
    "\n",
    "# combined test dataset and recommendations\n",
    "test_merged = pd.merge(test_user_history, test_recommendations, on='reviewerID', how='inner')"
   ]
  },
  {
   "cell_type": "code",
   "execution_count": 23,
   "id": "26fcf9e2",
   "metadata": {},
   "outputs": [
    {
     "name": "stderr",
     "output_type": "stream",
     "text": [
      "100%|██████████████████████████████████████████████████████| 13279/13279 [00:00<00:00, 38239.81it/s]\n",
      "100%|██████████████████████████████████████████████████████| 13279/13279 [00:00<00:00, 40204.20it/s]"
     ]
    },
    {
     "name": "stdout",
     "output_type": "stream",
     "text": [
      "The MEM-ECF has a average precision@25: 0.00442, average recall@25: 0.06376.\n"
     ]
    },
    {
     "name": "stderr",
     "output_type": "stream",
     "text": [
      "\n"
     ]
    }
   ],
   "source": [
    "test_merged['precision@k'] = test_merged.progress_apply(lambda x: precision_at_k(x.asin, x.pred_asin, k=25), axis=1)\n",
    "test_merged['recall@k'] = test_merged.progress_apply(lambda x: recall_at_k(x.asin, x.pred_asin, k=25), axis=1)\n",
    "\n",
    "k = 25\n",
    "average_precision_at_k = test_merged[\"precision@k\"].mean()\n",
    "average_recall_at_k = test_merged[\"recall@k\"].mean()\n",
    "\n",
    "print(f\"The MEM-ECF has a average precision@{k}: {average_precision_at_k:.5f}, average recall@{k}: {average_recall_at_k:.5f}.\")"
   ]
  },
  {
   "cell_type": "code",
   "execution_count": 24,
   "id": "7cc6872f",
   "metadata": {},
   "outputs": [
    {
     "data": {
      "text/html": [
       "<div>\n",
       "<style scoped>\n",
       "    .dataframe tbody tr th:only-of-type {\n",
       "        vertical-align: middle;\n",
       "    }\n",
       "\n",
       "    .dataframe tbody tr th {\n",
       "        vertical-align: top;\n",
       "    }\n",
       "\n",
       "    .dataframe thead th {\n",
       "        text-align: right;\n",
       "    }\n",
       "</style>\n",
       "<table border=\"1\" class=\"dataframe\">\n",
       "  <thead>\n",
       "    <tr style=\"text-align: right;\">\n",
       "      <th></th>\n",
       "      <th>reviewerID</th>\n",
       "      <th>asin</th>\n",
       "      <th>pred_asin</th>\n",
       "      <th>precision@k</th>\n",
       "      <th>recall@k</th>\n",
       "    </tr>\n",
       "  </thead>\n",
       "  <tbody>\n",
       "    <tr>\n",
       "      <th>44</th>\n",
       "      <td>A10BWUA2MGA9BK</td>\n",
       "      <td>[B000S8593W]</td>\n",
       "      <td>[B004YTV5S4, B00856TSCC, B000S8593W, B00B8DSFX...</td>\n",
       "      <td>0.04</td>\n",
       "      <td>1.000000</td>\n",
       "    </tr>\n",
       "    <tr>\n",
       "      <th>55</th>\n",
       "      <td>A10F4G1THW8581</td>\n",
       "      <td>[B0033GMSTY, B005ZBZLT4]</td>\n",
       "      <td>[B001CHDITU, B001CHFUDC, B0033GZMXS, B0033HGLT...</td>\n",
       "      <td>0.04</td>\n",
       "      <td>0.500000</td>\n",
       "    </tr>\n",
       "    <tr>\n",
       "      <th>56</th>\n",
       "      <td>A10FJGRMOTJ35Y</td>\n",
       "      <td>[B0033HPPIO, B0046HG0SY, B007PA33MA]</td>\n",
       "      <td>[B0033HGLTG, B001CHH3PU, B004RYX8UO, B001ELL4F...</td>\n",
       "      <td>0.04</td>\n",
       "      <td>0.333333</td>\n",
       "    </tr>\n",
       "    <tr>\n",
       "      <th>68</th>\n",
       "      <td>A10IRGY2RUZ6MW</td>\n",
       "      <td>[B008TSVXWE]</td>\n",
       "      <td>[B008TSVXWE, B001EQ5S9C, B000FYVKUA, B000RFS57...</td>\n",
       "      <td>0.04</td>\n",
       "      <td>1.000000</td>\n",
       "    </tr>\n",
       "    <tr>\n",
       "      <th>77</th>\n",
       "      <td>A10N8O0MPJ7IRH</td>\n",
       "      <td>[B00021639Y, B00021639Y]</td>\n",
       "      <td>[B0013JQON4, B000EDBPO8, B003LPKETS, B00021639...</td>\n",
       "      <td>0.04</td>\n",
       "      <td>0.500000</td>\n",
       "    </tr>\n",
       "    <tr>\n",
       "      <th>...</th>\n",
       "      <td>...</td>\n",
       "      <td>...</td>\n",
       "      <td>...</td>\n",
       "      <td>...</td>\n",
       "      <td>...</td>\n",
       "    </tr>\n",
       "    <tr>\n",
       "      <th>13253</th>\n",
       "      <td>AZOCADWL9N2H2</td>\n",
       "      <td>[B000EML7FG, B001E4Q5GO, B001KUWFPC, B003DNL9VA]</td>\n",
       "      <td>[B00550MI00, B003DNL9VA, B001OCKI5U, B00B2JUEB...</td>\n",
       "      <td>0.04</td>\n",
       "      <td>0.250000</td>\n",
       "    </tr>\n",
       "    <tr>\n",
       "      <th>13255</th>\n",
       "      <td>AZOTVJHNSAQXG</td>\n",
       "      <td>[B001EQ4RWQ, B005CULMWI]</td>\n",
       "      <td>[B00FKZ5TL0, B003DVKBK2, B001EQ5PKE, B001QKE59...</td>\n",
       "      <td>0.04</td>\n",
       "      <td>0.500000</td>\n",
       "    </tr>\n",
       "    <tr>\n",
       "      <th>13259</th>\n",
       "      <td>AZQA8ZIGS01FG</td>\n",
       "      <td>[B001CHFUDC, B004538TME]</td>\n",
       "      <td>[B001CHFUDC, B000TK6LBS, B0033HGLTG, B001EO5Y5...</td>\n",
       "      <td>0.04</td>\n",
       "      <td>0.500000</td>\n",
       "    </tr>\n",
       "    <tr>\n",
       "      <th>13271</th>\n",
       "      <td>AZWIAYHWL2FWE</td>\n",
       "      <td>[B004D6042G]</td>\n",
       "      <td>[B000K6Z22U, B004D6042G, B000G6Q4GW, B007VCF1Q...</td>\n",
       "      <td>0.04</td>\n",
       "      <td>1.000000</td>\n",
       "    </tr>\n",
       "    <tr>\n",
       "      <th>13277</th>\n",
       "      <td>AZYXC63SS008M</td>\n",
       "      <td>[B0054TWPNC]</td>\n",
       "      <td>[B000FFLTD2, B0040WG0QM, B0017U08SQ, B000LQORE...</td>\n",
       "      <td>0.04</td>\n",
       "      <td>1.000000</td>\n",
       "    </tr>\n",
       "  </tbody>\n",
       "</table>\n",
       "<p>1349 rows × 5 columns</p>\n",
       "</div>"
      ],
      "text/plain": [
       "           reviewerID                                              asin  \\\n",
       "44     A10BWUA2MGA9BK                                      [B000S8593W]   \n",
       "55     A10F4G1THW8581                          [B0033GMSTY, B005ZBZLT4]   \n",
       "56     A10FJGRMOTJ35Y              [B0033HPPIO, B0046HG0SY, B007PA33MA]   \n",
       "68     A10IRGY2RUZ6MW                                      [B008TSVXWE]   \n",
       "77     A10N8O0MPJ7IRH                          [B00021639Y, B00021639Y]   \n",
       "...               ...                                               ...   \n",
       "13253   AZOCADWL9N2H2  [B000EML7FG, B001E4Q5GO, B001KUWFPC, B003DNL9VA]   \n",
       "13255   AZOTVJHNSAQXG                          [B001EQ4RWQ, B005CULMWI]   \n",
       "13259   AZQA8ZIGS01FG                          [B001CHFUDC, B004538TME]   \n",
       "13271   AZWIAYHWL2FWE                                      [B004D6042G]   \n",
       "13277   AZYXC63SS008M                                      [B0054TWPNC]   \n",
       "\n",
       "                                               pred_asin  precision@k  \\\n",
       "44     [B004YTV5S4, B00856TSCC, B000S8593W, B00B8DSFX...         0.04   \n",
       "55     [B001CHDITU, B001CHFUDC, B0033GZMXS, B0033HGLT...         0.04   \n",
       "56     [B0033HGLTG, B001CHH3PU, B004RYX8UO, B001ELL4F...         0.04   \n",
       "68     [B008TSVXWE, B001EQ5S9C, B000FYVKUA, B000RFS57...         0.04   \n",
       "77     [B0013JQON4, B000EDBPO8, B003LPKETS, B00021639...         0.04   \n",
       "...                                                  ...          ...   \n",
       "13253  [B00550MI00, B003DNL9VA, B001OCKI5U, B00B2JUEB...         0.04   \n",
       "13255  [B00FKZ5TL0, B003DVKBK2, B001EQ5PKE, B001QKE59...         0.04   \n",
       "13259  [B001CHFUDC, B000TK6LBS, B0033HGLTG, B001EO5Y5...         0.04   \n",
       "13271  [B000K6Z22U, B004D6042G, B000G6Q4GW, B007VCF1Q...         0.04   \n",
       "13277  [B000FFLTD2, B0040WG0QM, B0017U08SQ, B000LQORE...         0.04   \n",
       "\n",
       "       recall@k  \n",
       "44     1.000000  \n",
       "55     0.500000  \n",
       "56     0.333333  \n",
       "68     1.000000  \n",
       "77     0.500000  \n",
       "...         ...  \n",
       "13253  0.250000  \n",
       "13255  0.500000  \n",
       "13259  0.500000  \n",
       "13271  1.000000  \n",
       "13277  1.000000  \n",
       "\n",
       "[1349 rows x 5 columns]"
      ]
     },
     "execution_count": 24,
     "metadata": {},
     "output_type": "execute_result"
    }
   ],
   "source": [
    "test_merged[test_merged['recall@k'] > 0]"
   ]
  },
  {
   "cell_type": "markdown",
   "id": "d728ae1b",
   "metadata": {},
   "source": [
    "# Generating Top-N Recommendations (N=30)"
   ]
  },
  {
   "cell_type": "code",
   "execution_count": 25,
   "id": "0b9c1a9b",
   "metadata": {},
   "outputs": [
    {
     "name": "stderr",
     "output_type": "stream",
     "text": [
      "100%|███████████████████████████████████████████████████████| 13397/13397 [00:05<00:00, 2677.10it/s]\n"
     ]
    }
   ],
   "source": [
    "top_ns = get_top_n(model, user_embeddings, 30)"
   ]
  },
  {
   "cell_type": "code",
   "execution_count": 26,
   "id": "fc090a6d",
   "metadata": {},
   "outputs": [],
   "source": [
    "test_recommendations = pd.DataFrame(top_ns.items(), columns=['reviewerID', 'pred_asin'])\n",
    "\n",
    "# combined test dataset and recommendations\n",
    "test_merged = pd.merge(test_user_history, test_recommendations, on='reviewerID', how='inner')"
   ]
  },
  {
   "cell_type": "code",
   "execution_count": 27,
   "id": "4c4f03ac",
   "metadata": {},
   "outputs": [
    {
     "name": "stderr",
     "output_type": "stream",
     "text": [
      "100%|██████████████████████████████████████████████████████| 13279/13279 [00:00<00:00, 47299.31it/s]\n",
      "100%|██████████████████████████████████████████████████████| 13279/13279 [00:00<00:00, 45175.29it/s]"
     ]
    },
    {
     "name": "stdout",
     "output_type": "stream",
     "text": [
      "The MEM-ECF has a average precision@30: 0.00404, average recall@30: 0.07000.\n"
     ]
    },
    {
     "name": "stderr",
     "output_type": "stream",
     "text": [
      "\n"
     ]
    }
   ],
   "source": [
    "test_merged['precision@k'] = test_merged.progress_apply(lambda x: precision_at_k(x.asin, x.pred_asin, k=30), axis=1)\n",
    "test_merged['recall@k'] = test_merged.progress_apply(lambda x: recall_at_k(x.asin, x.pred_asin, k=30), axis=1)\n",
    "\n",
    "k = 30\n",
    "average_precision_at_k = test_merged[\"precision@k\"].mean()\n",
    "average_recall_at_k = test_merged[\"recall@k\"].mean()\n",
    "\n",
    "print(f\"The MEM-ECF has a average precision@{k}: {average_precision_at_k:.5f}, average recall@{k}: {average_recall_at_k:.5f}.\")"
   ]
  },
  {
   "cell_type": "code",
   "execution_count": 28,
   "id": "c680d762",
   "metadata": {},
   "outputs": [
    {
     "data": {
      "text/html": [
       "<div>\n",
       "<style scoped>\n",
       "    .dataframe tbody tr th:only-of-type {\n",
       "        vertical-align: middle;\n",
       "    }\n",
       "\n",
       "    .dataframe tbody tr th {\n",
       "        vertical-align: top;\n",
       "    }\n",
       "\n",
       "    .dataframe thead th {\n",
       "        text-align: right;\n",
       "    }\n",
       "</style>\n",
       "<table border=\"1\" class=\"dataframe\">\n",
       "  <thead>\n",
       "    <tr style=\"text-align: right;\">\n",
       "      <th></th>\n",
       "      <th>reviewerID</th>\n",
       "      <th>asin</th>\n",
       "      <th>pred_asin</th>\n",
       "      <th>precision@k</th>\n",
       "      <th>recall@k</th>\n",
       "    </tr>\n",
       "  </thead>\n",
       "  <tbody>\n",
       "    <tr>\n",
       "      <th>3</th>\n",
       "      <td>A06944662TFWOKKV4GJKX</td>\n",
       "      <td>[B000GFYRHG]</td>\n",
       "      <td>[B001EQ5IN8, B000L8CB76, B0000DBN1L, B001HX59Z...</td>\n",
       "      <td>0.033333</td>\n",
       "      <td>1.000000</td>\n",
       "    </tr>\n",
       "    <tr>\n",
       "      <th>44</th>\n",
       "      <td>A10BWUA2MGA9BK</td>\n",
       "      <td>[B000S8593W]</td>\n",
       "      <td>[B004YTV5S4, B00856TSCC, B000S8593W, B00B8DSFX...</td>\n",
       "      <td>0.033333</td>\n",
       "      <td>1.000000</td>\n",
       "    </tr>\n",
       "    <tr>\n",
       "      <th>55</th>\n",
       "      <td>A10F4G1THW8581</td>\n",
       "      <td>[B0033GMSTY, B005ZBZLT4]</td>\n",
       "      <td>[B001CHDITU, B001CHFUDC, B0033GZMXS, B0033HGLT...</td>\n",
       "      <td>0.033333</td>\n",
       "      <td>0.500000</td>\n",
       "    </tr>\n",
       "    <tr>\n",
       "      <th>56</th>\n",
       "      <td>A10FJGRMOTJ35Y</td>\n",
       "      <td>[B0033HPPIO, B0046HG0SY, B007PA33MA]</td>\n",
       "      <td>[B0033HGLTG, B001CHH3PU, B004RYX8UO, B001ELL4F...</td>\n",
       "      <td>0.033333</td>\n",
       "      <td>0.333333</td>\n",
       "    </tr>\n",
       "    <tr>\n",
       "      <th>68</th>\n",
       "      <td>A10IRGY2RUZ6MW</td>\n",
       "      <td>[B008TSVXWE]</td>\n",
       "      <td>[B008TSVXWE, B001EQ5S9C, B000FYVKUA, B000RFS57...</td>\n",
       "      <td>0.033333</td>\n",
       "      <td>1.000000</td>\n",
       "    </tr>\n",
       "    <tr>\n",
       "      <th>...</th>\n",
       "      <td>...</td>\n",
       "      <td>...</td>\n",
       "      <td>...</td>\n",
       "      <td>...</td>\n",
       "      <td>...</td>\n",
       "    </tr>\n",
       "    <tr>\n",
       "      <th>13253</th>\n",
       "      <td>AZOCADWL9N2H2</td>\n",
       "      <td>[B000EML7FG, B001E4Q5GO, B001KUWFPC, B003DNL9VA]</td>\n",
       "      <td>[B00550MI00, B003DNL9VA, B001OCKI5U, B00B2JUEB...</td>\n",
       "      <td>0.033333</td>\n",
       "      <td>0.250000</td>\n",
       "    </tr>\n",
       "    <tr>\n",
       "      <th>13255</th>\n",
       "      <td>AZOTVJHNSAQXG</td>\n",
       "      <td>[B001EQ4RWQ, B005CULMWI]</td>\n",
       "      <td>[B00FKZ5TL0, B003DVKBK2, B001EQ5PKE, B001QKE59...</td>\n",
       "      <td>0.033333</td>\n",
       "      <td>0.500000</td>\n",
       "    </tr>\n",
       "    <tr>\n",
       "      <th>13259</th>\n",
       "      <td>AZQA8ZIGS01FG</td>\n",
       "      <td>[B001CHFUDC, B004538TME]</td>\n",
       "      <td>[B001CHFUDC, B000TK6LBS, B0033HGLTG, B001EO5Y5...</td>\n",
       "      <td>0.033333</td>\n",
       "      <td>0.500000</td>\n",
       "    </tr>\n",
       "    <tr>\n",
       "      <th>13271</th>\n",
       "      <td>AZWIAYHWL2FWE</td>\n",
       "      <td>[B004D6042G]</td>\n",
       "      <td>[B000K6Z22U, B004D6042G, B000G6Q4GW, B007VCF1Q...</td>\n",
       "      <td>0.033333</td>\n",
       "      <td>1.000000</td>\n",
       "    </tr>\n",
       "    <tr>\n",
       "      <th>13277</th>\n",
       "      <td>AZYXC63SS008M</td>\n",
       "      <td>[B0054TWPNC]</td>\n",
       "      <td>[B000FFLTD2, B0040WG0QM, B0017U08SQ, B000LQORE...</td>\n",
       "      <td>0.033333</td>\n",
       "      <td>1.000000</td>\n",
       "    </tr>\n",
       "  </tbody>\n",
       "</table>\n",
       "<p>1477 rows × 5 columns</p>\n",
       "</div>"
      ],
      "text/plain": [
       "                  reviewerID  \\\n",
       "3      A06944662TFWOKKV4GJKX   \n",
       "44            A10BWUA2MGA9BK   \n",
       "55            A10F4G1THW8581   \n",
       "56            A10FJGRMOTJ35Y   \n",
       "68            A10IRGY2RUZ6MW   \n",
       "...                      ...   \n",
       "13253          AZOCADWL9N2H2   \n",
       "13255          AZOTVJHNSAQXG   \n",
       "13259          AZQA8ZIGS01FG   \n",
       "13271          AZWIAYHWL2FWE   \n",
       "13277          AZYXC63SS008M   \n",
       "\n",
       "                                                   asin  \\\n",
       "3                                          [B000GFYRHG]   \n",
       "44                                         [B000S8593W]   \n",
       "55                             [B0033GMSTY, B005ZBZLT4]   \n",
       "56                 [B0033HPPIO, B0046HG0SY, B007PA33MA]   \n",
       "68                                         [B008TSVXWE]   \n",
       "...                                                 ...   \n",
       "13253  [B000EML7FG, B001E4Q5GO, B001KUWFPC, B003DNL9VA]   \n",
       "13255                          [B001EQ4RWQ, B005CULMWI]   \n",
       "13259                          [B001CHFUDC, B004538TME]   \n",
       "13271                                      [B004D6042G]   \n",
       "13277                                      [B0054TWPNC]   \n",
       "\n",
       "                                               pred_asin  precision@k  \\\n",
       "3      [B001EQ5IN8, B000L8CB76, B0000DBN1L, B001HX59Z...     0.033333   \n",
       "44     [B004YTV5S4, B00856TSCC, B000S8593W, B00B8DSFX...     0.033333   \n",
       "55     [B001CHDITU, B001CHFUDC, B0033GZMXS, B0033HGLT...     0.033333   \n",
       "56     [B0033HGLTG, B001CHH3PU, B004RYX8UO, B001ELL4F...     0.033333   \n",
       "68     [B008TSVXWE, B001EQ5S9C, B000FYVKUA, B000RFS57...     0.033333   \n",
       "...                                                  ...          ...   \n",
       "13253  [B00550MI00, B003DNL9VA, B001OCKI5U, B00B2JUEB...     0.033333   \n",
       "13255  [B00FKZ5TL0, B003DVKBK2, B001EQ5PKE, B001QKE59...     0.033333   \n",
       "13259  [B001CHFUDC, B000TK6LBS, B0033HGLTG, B001EO5Y5...     0.033333   \n",
       "13271  [B000K6Z22U, B004D6042G, B000G6Q4GW, B007VCF1Q...     0.033333   \n",
       "13277  [B000FFLTD2, B0040WG0QM, B0017U08SQ, B000LQORE...     0.033333   \n",
       "\n",
       "       recall@k  \n",
       "3      1.000000  \n",
       "44     1.000000  \n",
       "55     0.500000  \n",
       "56     0.333333  \n",
       "68     1.000000  \n",
       "...         ...  \n",
       "13253  0.250000  \n",
       "13255  0.500000  \n",
       "13259  0.500000  \n",
       "13271  1.000000  \n",
       "13277  1.000000  \n",
       "\n",
       "[1477 rows x 5 columns]"
      ]
     },
     "execution_count": 28,
     "metadata": {},
     "output_type": "execute_result"
    }
   ],
   "source": [
    "test_merged[test_merged['recall@k'] > 0]"
   ]
  },
  {
   "cell_type": "markdown",
   "id": "7b0c6f7d",
   "metadata": {},
   "source": [
    "# Generating Top-N Recommendations (N=45)"
   ]
  },
  {
   "cell_type": "code",
   "execution_count": 29,
   "id": "a17253fe",
   "metadata": {},
   "outputs": [
    {
     "name": "stderr",
     "output_type": "stream",
     "text": [
      "100%|███████████████████████████████████████████████████████| 13397/13397 [00:04<00:00, 2814.53it/s]\n"
     ]
    }
   ],
   "source": [
    "top_ns = get_top_n(model, user_embeddings, 45)"
   ]
  },
  {
   "cell_type": "code",
   "execution_count": 30,
   "id": "b03c03f8",
   "metadata": {},
   "outputs": [],
   "source": [
    "test_recommendations = pd.DataFrame(top_ns.items(), columns=['reviewerID', 'pred_asin'])\n",
    "\n",
    "# combined test dataset and recommendations\n",
    "test_merged = pd.merge(test_user_history, test_recommendations, on='reviewerID', how='inner')"
   ]
  },
  {
   "cell_type": "code",
   "execution_count": 31,
   "id": "0d9e69ff",
   "metadata": {},
   "outputs": [
    {
     "name": "stderr",
     "output_type": "stream",
     "text": [
      "100%|██████████████████████████████████████████████████████| 13279/13279 [00:00<00:00, 44435.75it/s]\n",
      "100%|██████████████████████████████████████████████████████| 13279/13279 [00:00<00:00, 44212.78it/s]\n"
     ]
    },
    {
     "name": "stdout",
     "output_type": "stream",
     "text": [
      "The MEM-ECF has a average precision@45: 0.00343, average recall@45: 0.08819.\n"
     ]
    }
   ],
   "source": [
    "test_merged['precision@k'] = test_merged.progress_apply(lambda x: precision_at_k(x.asin, x.pred_asin, k=45), axis=1)\n",
    "test_merged['recall@k'] = test_merged.progress_apply(lambda x: recall_at_k(x.asin, x.pred_asin, k=45), axis=1)\n",
    "\n",
    "k = 45\n",
    "average_precision_at_k = test_merged[\"precision@k\"].mean()\n",
    "average_recall_at_k = test_merged[\"recall@k\"].mean()\n",
    "\n",
    "print(f\"The MEM-ECF has a average precision@{k}: {average_precision_at_k:.5f}, average recall@{k}: {average_recall_at_k:.5f}.\")"
   ]
  },
  {
   "cell_type": "code",
   "execution_count": 32,
   "id": "3aa1bac6",
   "metadata": {},
   "outputs": [
    {
     "data": {
      "text/html": [
       "<div>\n",
       "<style scoped>\n",
       "    .dataframe tbody tr th:only-of-type {\n",
       "        vertical-align: middle;\n",
       "    }\n",
       "\n",
       "    .dataframe tbody tr th {\n",
       "        vertical-align: top;\n",
       "    }\n",
       "\n",
       "    .dataframe thead th {\n",
       "        text-align: right;\n",
       "    }\n",
       "</style>\n",
       "<table border=\"1\" class=\"dataframe\">\n",
       "  <thead>\n",
       "    <tr style=\"text-align: right;\">\n",
       "      <th></th>\n",
       "      <th>reviewerID</th>\n",
       "      <th>asin</th>\n",
       "      <th>pred_asin</th>\n",
       "      <th>precision@k</th>\n",
       "      <th>recall@k</th>\n",
       "    </tr>\n",
       "  </thead>\n",
       "  <tbody>\n",
       "    <tr>\n",
       "      <th>0</th>\n",
       "      <td>A00177463W0XWB16A9O05</td>\n",
       "      <td>[B00474OR8G, B00BFM6OAW]</td>\n",
       "      <td>[B0033GMSTY, B001CHFUDC, B002AQ0OL2, B001EO5Y5...</td>\n",
       "      <td>0.022222</td>\n",
       "      <td>0.500000</td>\n",
       "    </tr>\n",
       "    <tr>\n",
       "      <th>3</th>\n",
       "      <td>A06944662TFWOKKV4GJKX</td>\n",
       "      <td>[B000GFYRHG]</td>\n",
       "      <td>[B001EQ5IN8, B000L8CB76, B0000DBN1L, B001HX59Z...</td>\n",
       "      <td>0.022222</td>\n",
       "      <td>1.000000</td>\n",
       "    </tr>\n",
       "    <tr>\n",
       "      <th>19</th>\n",
       "      <td>A102UXGLDF76G1</td>\n",
       "      <td>[B0009TN7F2, B001HTC17S]</td>\n",
       "      <td>[B005761IRG, B000FDOUXA, B00DRA8HWI, B0012AL3W...</td>\n",
       "      <td>0.022222</td>\n",
       "      <td>0.500000</td>\n",
       "    </tr>\n",
       "    <tr>\n",
       "      <th>44</th>\n",
       "      <td>A10BWUA2MGA9BK</td>\n",
       "      <td>[B000S8593W]</td>\n",
       "      <td>[B004YTV5S4, B00856TSCC, B000S8593W, B00B8DSFX...</td>\n",
       "      <td>0.022222</td>\n",
       "      <td>1.000000</td>\n",
       "    </tr>\n",
       "    <tr>\n",
       "      <th>55</th>\n",
       "      <td>A10F4G1THW8581</td>\n",
       "      <td>[B0033GMSTY, B005ZBZLT4]</td>\n",
       "      <td>[B001CHDITU, B001CHFUDC, B0033GZMXS, B0033HGLT...</td>\n",
       "      <td>0.022222</td>\n",
       "      <td>0.500000</td>\n",
       "    </tr>\n",
       "    <tr>\n",
       "      <th>...</th>\n",
       "      <td>...</td>\n",
       "      <td>...</td>\n",
       "      <td>...</td>\n",
       "      <td>...</td>\n",
       "      <td>...</td>\n",
       "    </tr>\n",
       "    <tr>\n",
       "      <th>13255</th>\n",
       "      <td>AZOTVJHNSAQXG</td>\n",
       "      <td>[B001EQ4RWQ, B005CULMWI]</td>\n",
       "      <td>[B00FKZ5TL0, B003DVKBK2, B001EQ5PKE, B001QKE59...</td>\n",
       "      <td>0.022222</td>\n",
       "      <td>0.500000</td>\n",
       "    </tr>\n",
       "    <tr>\n",
       "      <th>13259</th>\n",
       "      <td>AZQA8ZIGS01FG</td>\n",
       "      <td>[B001CHFUDC, B004538TME]</td>\n",
       "      <td>[B001CHFUDC, B000TK6LBS, B0033HGLTG, B001EO5Y5...</td>\n",
       "      <td>0.022222</td>\n",
       "      <td>0.500000</td>\n",
       "    </tr>\n",
       "    <tr>\n",
       "      <th>13271</th>\n",
       "      <td>AZWIAYHWL2FWE</td>\n",
       "      <td>[B004D6042G]</td>\n",
       "      <td>[B000K6Z22U, B004D6042G, B000G6Q4GW, B007VCF1Q...</td>\n",
       "      <td>0.022222</td>\n",
       "      <td>1.000000</td>\n",
       "    </tr>\n",
       "    <tr>\n",
       "      <th>13273</th>\n",
       "      <td>AZWP97BZPJI1D</td>\n",
       "      <td>[B0025UCHS6, B0025UCHT0, B00BIEU5QQ]</td>\n",
       "      <td>[B007JFXXJY, B000V9NFLQ, B005CT9OEW, B008YUL4C...</td>\n",
       "      <td>0.022222</td>\n",
       "      <td>0.333333</td>\n",
       "    </tr>\n",
       "    <tr>\n",
       "      <th>13277</th>\n",
       "      <td>AZYXC63SS008M</td>\n",
       "      <td>[B0054TWPNC]</td>\n",
       "      <td>[B000FFLTD2, B0040WG0QM, B0017U08SQ, B000LQORE...</td>\n",
       "      <td>0.022222</td>\n",
       "      <td>1.000000</td>\n",
       "    </tr>\n",
       "  </tbody>\n",
       "</table>\n",
       "<p>1858 rows × 5 columns</p>\n",
       "</div>"
      ],
      "text/plain": [
       "                  reviewerID                                  asin  \\\n",
       "0      A00177463W0XWB16A9O05              [B00474OR8G, B00BFM6OAW]   \n",
       "3      A06944662TFWOKKV4GJKX                          [B000GFYRHG]   \n",
       "19            A102UXGLDF76G1              [B0009TN7F2, B001HTC17S]   \n",
       "44            A10BWUA2MGA9BK                          [B000S8593W]   \n",
       "55            A10F4G1THW8581              [B0033GMSTY, B005ZBZLT4]   \n",
       "...                      ...                                   ...   \n",
       "13255          AZOTVJHNSAQXG              [B001EQ4RWQ, B005CULMWI]   \n",
       "13259          AZQA8ZIGS01FG              [B001CHFUDC, B004538TME]   \n",
       "13271          AZWIAYHWL2FWE                          [B004D6042G]   \n",
       "13273          AZWP97BZPJI1D  [B0025UCHS6, B0025UCHT0, B00BIEU5QQ]   \n",
       "13277          AZYXC63SS008M                          [B0054TWPNC]   \n",
       "\n",
       "                                               pred_asin  precision@k  \\\n",
       "0      [B0033GMSTY, B001CHFUDC, B002AQ0OL2, B001EO5Y5...     0.022222   \n",
       "3      [B001EQ5IN8, B000L8CB76, B0000DBN1L, B001HX59Z...     0.022222   \n",
       "19     [B005761IRG, B000FDOUXA, B00DRA8HWI, B0012AL3W...     0.022222   \n",
       "44     [B004YTV5S4, B00856TSCC, B000S8593W, B00B8DSFX...     0.022222   \n",
       "55     [B001CHDITU, B001CHFUDC, B0033GZMXS, B0033HGLT...     0.022222   \n",
       "...                                                  ...          ...   \n",
       "13255  [B00FKZ5TL0, B003DVKBK2, B001EQ5PKE, B001QKE59...     0.022222   \n",
       "13259  [B001CHFUDC, B000TK6LBS, B0033HGLTG, B001EO5Y5...     0.022222   \n",
       "13271  [B000K6Z22U, B004D6042G, B000G6Q4GW, B007VCF1Q...     0.022222   \n",
       "13273  [B007JFXXJY, B000V9NFLQ, B005CT9OEW, B008YUL4C...     0.022222   \n",
       "13277  [B000FFLTD2, B0040WG0QM, B0017U08SQ, B000LQORE...     0.022222   \n",
       "\n",
       "       recall@k  \n",
       "0      0.500000  \n",
       "3      1.000000  \n",
       "19     0.500000  \n",
       "44     1.000000  \n",
       "55     0.500000  \n",
       "...         ...  \n",
       "13255  0.500000  \n",
       "13259  0.500000  \n",
       "13271  1.000000  \n",
       "13273  0.333333  \n",
       "13277  1.000000  \n",
       "\n",
       "[1858 rows x 5 columns]"
      ]
     },
     "execution_count": 32,
     "metadata": {},
     "output_type": "execute_result"
    }
   ],
   "source": [
    "test_merged[test_merged['recall@k'] > 0]"
   ]
  },
  {
   "cell_type": "markdown",
   "id": "e98418d3",
   "metadata": {},
   "source": [
    "# Evaluating `EmbeddedCF` class"
   ]
  },
  {
   "cell_type": "code",
   "execution_count": 33,
   "id": "aea8cc22",
   "metadata": {},
   "outputs": [],
   "source": [
    "class EmbeddedCF():\n",
    "    \"\"\"\n",
    "    \"\"\"\n",
    "    def __init__(self, d2v):\n",
    "        self.d2v = d2v\n",
    "        self.user_rating_history = None\n",
    "        self.user_embeddings = None\n",
    "        \n",
    "    def fit(self, train, dimension=50):\n",
    "        # get user rating history\n",
    "        user_rating_history = train.groupby(['reviewerID'])['asin'].apply(list)\n",
    "        # getting unique users\n",
    "        unique_users = user_rating_history.reset_index()['reviewerID'].tolist()\n",
    "\n",
    "        # generating user embeddings for all unique users\n",
    "        user_embeddings = {}\n",
    "\n",
    "        for user in tqdm(unique_users):\n",
    "            user_embedding = np.zeros(dimension)\n",
    "            for item in user_rating_history[user]:\n",
    "                user_embedding += self.d2v.dv[item]\n",
    "\n",
    "            # mean aggregation\n",
    "            user_embedding /= len(user_rating_history[user])\n",
    "            user_embeddings[user] = user_embedding\n",
    "        \n",
    "        self.user_rating_history = user_rating_history\n",
    "        self.user_embeddings = user_embeddings\n",
    "        \n",
    "    def predict(self, n=200):\n",
    "        \"\"\"Generate a list of n-number of candidates items.\n",
    "\n",
    "        This only generates a generic candidate list of items which do not factor\n",
    "        in existing rated items and also top-N items required for recommendations.\n",
    "\n",
    "        \"\"\"\n",
    "        candidate_items = {}\n",
    "        for user in tqdm(self.user_embeddings.items()):\n",
    "            candidate_items[user[0]] = [i for i in self.d2v.dv.most_similar([user[1]], topn=n)]\n",
    "\n",
    "        return candidate_items\n"
   ]
  },
  {
   "cell_type": "code",
   "execution_count": 34,
   "id": "83c1e0f5",
   "metadata": {},
   "outputs": [],
   "source": [
    "mem_ecf = EmbeddedCF(model)"
   ]
  },
  {
   "cell_type": "code",
   "execution_count": 35,
   "id": "781a31bd",
   "metadata": {},
   "outputs": [
    {
     "name": "stderr",
     "output_type": "stream",
     "text": [
      "100%|██████████████████████████████████████████████████████| 13397/13397 [00:00<00:00, 42798.92it/s]\n"
     ]
    }
   ],
   "source": [
    "mem_ecf.fit(train, dimension=50)"
   ]
  },
  {
   "cell_type": "code",
   "execution_count": 36,
   "id": "782dfa6f",
   "metadata": {},
   "outputs": [
    {
     "data": {
      "text/plain": [
       "reviewerID\n",
       "A00177463W0XWB16A9O05                             [B0029XDZIK, B0094ISOMA]\n",
       "A022899328A0QROR32DCT                             [B001ACMCNU, B003TO9RSU]\n",
       "A068255029AHTHDXZURNU                             [B000K8WVYA, B0094ISOMA]\n",
       "A06944662TFWOKKV4GJKX                                         [B000CQBZPG]\n",
       "A1004703RC79J9                                                [B001E50THY]\n",
       "                                               ...                        \n",
       "AZWRZZAMX90VT            [B0007R9L5Q, B000CQ01GU, B000E123IC, B000E46LZ...\n",
       "AZXKAH2DE6C8A            [B000EML7DS, B000ODF2ME, B001650XUK, B0018QLG9...\n",
       "AZXON596A1VXC                         [B00113SKZW, B00113ZTVK, B001L4JH5I]\n",
       "AZYXC63SS008M                                                 [B0040WCQKQ]\n",
       "AZZ5ASC403N74                                                 [B004U49QU2]\n",
       "Name: asin, Length: 13397, dtype: object"
      ]
     },
     "execution_count": 36,
     "metadata": {},
     "output_type": "execute_result"
    }
   ],
   "source": [
    "mem_ecf.user_rating_history"
   ]
  },
  {
   "cell_type": "code",
   "execution_count": 37,
   "id": "648ceaa5",
   "metadata": {},
   "outputs": [
    {
     "name": "stderr",
     "output_type": "stream",
     "text": [
      "100%|███████████████████████████████████████████████████████| 13397/13397 [00:04<00:00, 2682.15it/s]\n"
     ]
    }
   ],
   "source": [
    "predictions = mem_ecf.predict(n=200)"
   ]
  },
  {
   "cell_type": "code",
   "execution_count": 38,
   "id": "f05c188d",
   "metadata": {},
   "outputs": [
    {
     "data": {
      "text/plain": [
       "[('B0029XDZIK', 0.9551868438720703),\n",
       " ('B0033GMSTY', 0.8697038292884827),\n",
       " ('B001CHFUDC', 0.8662201166152954),\n",
       " ('B002AQ0OL2', 0.8370271325111389),\n",
       " ('B001EO5Y52', 0.8349511027336121)]"
      ]
     },
     "execution_count": 38,
     "metadata": {},
     "output_type": "execute_result"
    }
   ],
   "source": [
    "# check predictions\n",
    "predictions['A00177463W0XWB16A9O05'][:5]"
   ]
  },
  {
   "cell_type": "code",
   "execution_count": 39,
   "id": "3b51f31a",
   "metadata": {},
   "outputs": [],
   "source": [
    "def get_top_n(predictions, user_rating_history, n=10):\n",
    "    \"\"\"Return the top-N recommendations for each user based on cosine similarity.\n",
    "    \n",
    "    Args:\n",
    "    \n",
    "    Returns:\n",
    "        ([dict]): A dictionary of top-N recommendations for each unique user, sorted by\n",
    "            cosine similarties.\n",
    "    \"\"\"\n",
    "    \n",
    "    # retrieve a 200 items candidate list based on similarities\n",
    "    top_ns = {}\n",
    "    for user in tqdm(predictions):\n",
    "        rated_items = user_rating_history[user]\n",
    "        candidate_items = [i[0] for i in predictions[user]]\n",
    "        unrated_items = set(candidate_items) - set(rated_items)\n",
    "        \n",
    "        user_top_n = []\n",
    "        idx = 0\n",
    "        while len(user_top_n) < n:\n",
    "            if candidate_items[idx] in unrated_items:\n",
    "                user_top_n.append(candidate_items[idx])\n",
    "                idx += 1\n",
    "            else:\n",
    "                idx += 1\n",
    "        \n",
    "        top_ns[user] = user_top_n\n",
    "        \n",
    "    return top_ns"
   ]
  },
  {
   "cell_type": "markdown",
   "id": "fb5dc4f1",
   "metadata": {},
   "source": [
    "### N=10"
   ]
  },
  {
   "cell_type": "code",
   "execution_count": 40,
   "id": "036076ef",
   "metadata": {},
   "outputs": [
    {
     "name": "stderr",
     "output_type": "stream",
     "text": [
      "100%|██████████████████████████████████████████████████████| 13397/13397 [00:00<00:00, 25808.82it/s]\n",
      "100%|██████████████████████████████████████████████████████| 13279/13279 [00:00<00:00, 46451.99it/s]\n",
      "100%|██████████████████████████████████████████████████████| 13279/13279 [00:00<00:00, 48486.85it/s]"
     ]
    },
    {
     "name": "stdout",
     "output_type": "stream",
     "text": [
      "The MEM-ECF has a average precision@10: 0.00628, average recall@10: 0.03796.\n"
     ]
    },
    {
     "name": "stderr",
     "output_type": "stream",
     "text": [
      "\n"
     ]
    }
   ],
   "source": [
    "top_ns = get_top_n(predictions, mem_ecf.user_rating_history, n=10)\n",
    "\n",
    "test_recommendations = pd.DataFrame(top_ns.items(), columns=['reviewerID', 'pred_asin'])\n",
    "\n",
    "# combined test dataset and recommendations\n",
    "test_merged = pd.merge(test_user_history, test_recommendations, on='reviewerID', how='inner')\n",
    "\n",
    "k = 10\n",
    "test_merged['precision@k'] = test_merged.progress_apply(lambda x: precision_at_k(x.asin, x.pred_asin, k=k), axis=1)\n",
    "test_merged['recall@k'] = test_merged.progress_apply(lambda x: recall_at_k(x.asin, x.pred_asin, k=k), axis=1)\n",
    "\n",
    "average_precision_at_k = test_merged[\"precision@k\"].mean()\n",
    "average_recall_at_k = test_merged[\"recall@k\"].mean()\n",
    "\n",
    "print(f\"The MEM-ECF has a average precision@{k}: {average_precision_at_k:.5f}, average recall@{k}: {average_recall_at_k:.5f}.\")"
   ]
  },
  {
   "cell_type": "markdown",
   "id": "a8be5d58",
   "metadata": {},
   "source": [
    "### N=25"
   ]
  },
  {
   "cell_type": "code",
   "execution_count": 41,
   "id": "450d2af8",
   "metadata": {},
   "outputs": [
    {
     "name": "stderr",
     "output_type": "stream",
     "text": [
      "100%|██████████████████████████████████████████████████████| 13397/13397 [00:00<00:00, 29920.31it/s]\n",
      "100%|██████████████████████████████████████████████████████| 13279/13279 [00:00<00:00, 46217.08it/s]\n",
      "100%|██████████████████████████████████████████████████████| 13279/13279 [00:00<00:00, 40798.45it/s]"
     ]
    },
    {
     "name": "stdout",
     "output_type": "stream",
     "text": [
      "The MEM-ECF has a average precision@25: 0.00442, average recall@25: 0.06376.\n"
     ]
    },
    {
     "name": "stderr",
     "output_type": "stream",
     "text": [
      "\n"
     ]
    }
   ],
   "source": [
    "top_ns = get_top_n(predictions, mem_ecf.user_rating_history, n=25)\n",
    "\n",
    "test_recommendations = pd.DataFrame(top_ns.items(), columns=['reviewerID', 'pred_asin'])\n",
    "\n",
    "# combined test dataset and recommendations\n",
    "test_merged = pd.merge(test_user_history, test_recommendations, on='reviewerID', how='inner')\n",
    "\n",
    "k = 25\n",
    "test_merged['precision@k'] = test_merged.progress_apply(lambda x: precision_at_k(x.asin, x.pred_asin, k=k), axis=1)\n",
    "test_merged['recall@k'] = test_merged.progress_apply(lambda x: recall_at_k(x.asin, x.pred_asin, k=k), axis=1)\n",
    "\n",
    "average_precision_at_k = test_merged[\"precision@k\"].mean()\n",
    "average_recall_at_k = test_merged[\"recall@k\"].mean()\n",
    "\n",
    "print(f\"The MEM-ECF has a average precision@{k}: {average_precision_at_k:.5f}, average recall@{k}: {average_recall_at_k:.5f}.\")"
   ]
  },
  {
   "cell_type": "markdown",
   "id": "3efa6d28",
   "metadata": {},
   "source": [
    "### N=30"
   ]
  },
  {
   "cell_type": "code",
   "execution_count": 42,
   "id": "6bb88ba6",
   "metadata": {},
   "outputs": [
    {
     "name": "stderr",
     "output_type": "stream",
     "text": [
      "100%|██████████████████████████████████████████████████████| 13397/13397 [00:00<00:00, 22118.05it/s]\n",
      "100%|██████████████████████████████████████████████████████| 13279/13279 [00:00<00:00, 41727.69it/s]\n",
      "100%|██████████████████████████████████████████████████████| 13279/13279 [00:00<00:00, 43009.35it/s]"
     ]
    },
    {
     "name": "stdout",
     "output_type": "stream",
     "text": [
      "The MEM-ECF has a average precision@30: 0.00404, average recall@30: 0.07000.\n"
     ]
    },
    {
     "name": "stderr",
     "output_type": "stream",
     "text": [
      "\n"
     ]
    }
   ],
   "source": [
    "top_ns = get_top_n(predictions, mem_ecf.user_rating_history, n=30)\n",
    "\n",
    "test_recommendations = pd.DataFrame(top_ns.items(), columns=['reviewerID', 'pred_asin'])\n",
    "\n",
    "# combined test dataset and recommendations\n",
    "test_merged = pd.merge(test_user_history, test_recommendations, on='reviewerID', how='inner')\n",
    "\n",
    "k = 30\n",
    "test_merged['precision@k'] = test_merged.progress_apply(lambda x: precision_at_k(x.asin, x.pred_asin, k=k), axis=1)\n",
    "test_merged['recall@k'] = test_merged.progress_apply(lambda x: recall_at_k(x.asin, x.pred_asin, k=k), axis=1)\n",
    "\n",
    "average_precision_at_k = test_merged[\"precision@k\"].mean()\n",
    "average_recall_at_k = test_merged[\"recall@k\"].mean()\n",
    "\n",
    "print(f\"The MEM-ECF has a average precision@{k}: {average_precision_at_k:.5f}, average recall@{k}: {average_recall_at_k:.5f}.\")"
   ]
  },
  {
   "cell_type": "markdown",
   "id": "14a16d98",
   "metadata": {},
   "source": [
    "### N=45"
   ]
  },
  {
   "cell_type": "code",
   "execution_count": 43,
   "id": "8cd8cf05",
   "metadata": {},
   "outputs": [
    {
     "name": "stderr",
     "output_type": "stream",
     "text": [
      "100%|██████████████████████████████████████████████████████| 13397/13397 [00:00<00:00, 25740.60it/s]\n",
      "100%|██████████████████████████████████████████████████████| 13279/13279 [00:00<00:00, 47591.19it/s]\n",
      "100%|██████████████████████████████████████████████████████| 13279/13279 [00:00<00:00, 48284.66it/s]"
     ]
    },
    {
     "name": "stdout",
     "output_type": "stream",
     "text": [
      "The MEM-ECF has a average precision@45: 0.00343, average recall@45: 0.08819.\n"
     ]
    },
    {
     "name": "stderr",
     "output_type": "stream",
     "text": [
      "\n"
     ]
    }
   ],
   "source": [
    "top_ns = get_top_n(predictions, mem_ecf.user_rating_history, n=45)\n",
    "\n",
    "test_recommendations = pd.DataFrame(top_ns.items(), columns=['reviewerID', 'pred_asin'])\n",
    "\n",
    "# combined test dataset and recommendations\n",
    "test_merged = pd.merge(test_user_history, test_recommendations, on='reviewerID', how='inner')\n",
    "\n",
    "k = 45\n",
    "test_merged['precision@k'] = test_merged.progress_apply(lambda x: precision_at_k(x.asin, x.pred_asin, k=k), axis=1)\n",
    "test_merged['recall@k'] = test_merged.progress_apply(lambda x: recall_at_k(x.asin, x.pred_asin, k=k), axis=1)\n",
    "\n",
    "average_precision_at_k = test_merged[\"precision@k\"].mean()\n",
    "average_recall_at_k = test_merged[\"recall@k\"].mean()\n",
    "\n",
    "print(f\"The MEM-ECF has a average precision@{k}: {average_precision_at_k:.5f}, average recall@{k}: {average_recall_at_k:.5f}.\")"
   ]
  },
  {
   "cell_type": "code",
   "execution_count": 44,
   "id": "e8f3e85e",
   "metadata": {},
   "outputs": [
    {
     "data": {
      "text/html": [
       "<div>\n",
       "<style scoped>\n",
       "    .dataframe tbody tr th:only-of-type {\n",
       "        vertical-align: middle;\n",
       "    }\n",
       "\n",
       "    .dataframe tbody tr th {\n",
       "        vertical-align: top;\n",
       "    }\n",
       "\n",
       "    .dataframe thead th {\n",
       "        text-align: right;\n",
       "    }\n",
       "</style>\n",
       "<table border=\"1\" class=\"dataframe\">\n",
       "  <thead>\n",
       "    <tr style=\"text-align: right;\">\n",
       "      <th></th>\n",
       "      <th>reviewerID</th>\n",
       "      <th>asin</th>\n",
       "      <th>pred_asin</th>\n",
       "      <th>precision@k</th>\n",
       "      <th>recall@k</th>\n",
       "    </tr>\n",
       "  </thead>\n",
       "  <tbody>\n",
       "    <tr>\n",
       "      <th>0</th>\n",
       "      <td>A00177463W0XWB16A9O05</td>\n",
       "      <td>[B00474OR8G, B00BFM6OAW]</td>\n",
       "      <td>[B0033GMSTY, B001CHFUDC, B002AQ0OL2, B001EO5Y5...</td>\n",
       "      <td>0.022222</td>\n",
       "      <td>0.500000</td>\n",
       "    </tr>\n",
       "    <tr>\n",
       "      <th>3</th>\n",
       "      <td>A06944662TFWOKKV4GJKX</td>\n",
       "      <td>[B000GFYRHG]</td>\n",
       "      <td>[B001EQ5IN8, B000L8CB76, B0000DBN1L, B001HX59Z...</td>\n",
       "      <td>0.022222</td>\n",
       "      <td>1.000000</td>\n",
       "    </tr>\n",
       "    <tr>\n",
       "      <th>19</th>\n",
       "      <td>A102UXGLDF76G1</td>\n",
       "      <td>[B0009TN7F2, B001HTC17S]</td>\n",
       "      <td>[B005761IRG, B000FDOUXA, B00DRA8HWI, B0012AL3W...</td>\n",
       "      <td>0.022222</td>\n",
       "      <td>0.500000</td>\n",
       "    </tr>\n",
       "    <tr>\n",
       "      <th>44</th>\n",
       "      <td>A10BWUA2MGA9BK</td>\n",
       "      <td>[B000S8593W]</td>\n",
       "      <td>[B004YTV5S4, B00856TSCC, B000S8593W, B00B8DSFX...</td>\n",
       "      <td>0.022222</td>\n",
       "      <td>1.000000</td>\n",
       "    </tr>\n",
       "    <tr>\n",
       "      <th>55</th>\n",
       "      <td>A10F4G1THW8581</td>\n",
       "      <td>[B0033GMSTY, B005ZBZLT4]</td>\n",
       "      <td>[B001CHDITU, B001CHFUDC, B0033GZMXS, B0033HGLT...</td>\n",
       "      <td>0.022222</td>\n",
       "      <td>0.500000</td>\n",
       "    </tr>\n",
       "    <tr>\n",
       "      <th>...</th>\n",
       "      <td>...</td>\n",
       "      <td>...</td>\n",
       "      <td>...</td>\n",
       "      <td>...</td>\n",
       "      <td>...</td>\n",
       "    </tr>\n",
       "    <tr>\n",
       "      <th>13255</th>\n",
       "      <td>AZOTVJHNSAQXG</td>\n",
       "      <td>[B001EQ4RWQ, B005CULMWI]</td>\n",
       "      <td>[B00FKZ5TL0, B003DVKBK2, B001EQ5PKE, B001QKE59...</td>\n",
       "      <td>0.022222</td>\n",
       "      <td>0.500000</td>\n",
       "    </tr>\n",
       "    <tr>\n",
       "      <th>13259</th>\n",
       "      <td>AZQA8ZIGS01FG</td>\n",
       "      <td>[B001CHFUDC, B004538TME]</td>\n",
       "      <td>[B001CHFUDC, B000TK6LBS, B0033HGLTG, B001EO5Y5...</td>\n",
       "      <td>0.022222</td>\n",
       "      <td>0.500000</td>\n",
       "    </tr>\n",
       "    <tr>\n",
       "      <th>13271</th>\n",
       "      <td>AZWIAYHWL2FWE</td>\n",
       "      <td>[B004D6042G]</td>\n",
       "      <td>[B000K6Z22U, B004D6042G, B000G6Q4GW, B007VCF1Q...</td>\n",
       "      <td>0.022222</td>\n",
       "      <td>1.000000</td>\n",
       "    </tr>\n",
       "    <tr>\n",
       "      <th>13273</th>\n",
       "      <td>AZWP97BZPJI1D</td>\n",
       "      <td>[B0025UCHS6, B0025UCHT0, B00BIEU5QQ]</td>\n",
       "      <td>[B007JFXXJY, B000V9NFLQ, B005CT9OEW, B008YUL4C...</td>\n",
       "      <td>0.022222</td>\n",
       "      <td>0.333333</td>\n",
       "    </tr>\n",
       "    <tr>\n",
       "      <th>13277</th>\n",
       "      <td>AZYXC63SS008M</td>\n",
       "      <td>[B0054TWPNC]</td>\n",
       "      <td>[B000FFLTD2, B0040WG0QM, B0017U08SQ, B000LQORE...</td>\n",
       "      <td>0.022222</td>\n",
       "      <td>1.000000</td>\n",
       "    </tr>\n",
       "  </tbody>\n",
       "</table>\n",
       "<p>1858 rows × 5 columns</p>\n",
       "</div>"
      ],
      "text/plain": [
       "                  reviewerID                                  asin  \\\n",
       "0      A00177463W0XWB16A9O05              [B00474OR8G, B00BFM6OAW]   \n",
       "3      A06944662TFWOKKV4GJKX                          [B000GFYRHG]   \n",
       "19            A102UXGLDF76G1              [B0009TN7F2, B001HTC17S]   \n",
       "44            A10BWUA2MGA9BK                          [B000S8593W]   \n",
       "55            A10F4G1THW8581              [B0033GMSTY, B005ZBZLT4]   \n",
       "...                      ...                                   ...   \n",
       "13255          AZOTVJHNSAQXG              [B001EQ4RWQ, B005CULMWI]   \n",
       "13259          AZQA8ZIGS01FG              [B001CHFUDC, B004538TME]   \n",
       "13271          AZWIAYHWL2FWE                          [B004D6042G]   \n",
       "13273          AZWP97BZPJI1D  [B0025UCHS6, B0025UCHT0, B00BIEU5QQ]   \n",
       "13277          AZYXC63SS008M                          [B0054TWPNC]   \n",
       "\n",
       "                                               pred_asin  precision@k  \\\n",
       "0      [B0033GMSTY, B001CHFUDC, B002AQ0OL2, B001EO5Y5...     0.022222   \n",
       "3      [B001EQ5IN8, B000L8CB76, B0000DBN1L, B001HX59Z...     0.022222   \n",
       "19     [B005761IRG, B000FDOUXA, B00DRA8HWI, B0012AL3W...     0.022222   \n",
       "44     [B004YTV5S4, B00856TSCC, B000S8593W, B00B8DSFX...     0.022222   \n",
       "55     [B001CHDITU, B001CHFUDC, B0033GZMXS, B0033HGLT...     0.022222   \n",
       "...                                                  ...          ...   \n",
       "13255  [B00FKZ5TL0, B003DVKBK2, B001EQ5PKE, B001QKE59...     0.022222   \n",
       "13259  [B001CHFUDC, B000TK6LBS, B0033HGLTG, B001EO5Y5...     0.022222   \n",
       "13271  [B000K6Z22U, B004D6042G, B000G6Q4GW, B007VCF1Q...     0.022222   \n",
       "13273  [B007JFXXJY, B000V9NFLQ, B005CT9OEW, B008YUL4C...     0.022222   \n",
       "13277  [B000FFLTD2, B0040WG0QM, B0017U08SQ, B000LQORE...     0.022222   \n",
       "\n",
       "       recall@k  \n",
       "0      0.500000  \n",
       "3      1.000000  \n",
       "19     0.500000  \n",
       "44     1.000000  \n",
       "55     0.500000  \n",
       "...         ...  \n",
       "13255  0.500000  \n",
       "13259  0.500000  \n",
       "13271  1.000000  \n",
       "13273  0.333333  \n",
       "13277  1.000000  \n",
       "\n",
       "[1858 rows x 5 columns]"
      ]
     },
     "execution_count": 44,
     "metadata": {},
     "output_type": "execute_result"
    }
   ],
   "source": [
    "# looking at how many get correct\n",
    "test_merged[test_merged['recall@k'] > 0]"
   ]
  },
  {
   "cell_type": "code",
   "execution_count": null,
   "id": "75f0451e",
   "metadata": {},
   "outputs": [],
   "source": []
  }
 ],
 "metadata": {
  "kernelspec": {
   "display_name": "Python 3 (ipykernel)",
   "language": "python",
   "name": "python3"
  },
  "language_info": {
   "codemirror_mode": {
    "name": "ipython",
    "version": 3
   },
   "file_extension": ".py",
   "mimetype": "text/x-python",
   "name": "python",
   "nbconvert_exporter": "python",
   "pygments_lexer": "ipython3",
   "version": "3.9.6"
  }
 },
 "nbformat": 4,
 "nbformat_minor": 5
}
