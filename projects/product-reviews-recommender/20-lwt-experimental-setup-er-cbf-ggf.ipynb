{
 "cells": [
  {
   "cell_type": "code",
   "execution_count": 1,
   "id": "d5bb6033",
   "metadata": {},
   "outputs": [
    {
     "name": "stderr",
     "output_type": "stream",
     "text": [
      "/Users/jensen/Desktop/recommendation-systems/projects/product-reviews-recommender/.venv/lib/python3.9/site-packages/gensim/similarities/__init__.py:15: UserWarning: The gensim.similarities.levenshtein submodule is disabled, because the optional Levenshtein package <https://pypi.org/project/python-Levenshtein/> is unavailable. Install Levenhstein (e.g. `pip install python-Levenshtein`) to suppress this warning.\n",
      "  warnings.warn(msg)\n"
     ]
    }
   ],
   "source": [
    "import numpy as np\n",
    "import pandas as pd\n",
    "import warnings\n",
    "\n",
    "from gensim.models.doc2vec import Doc2Vec\n",
    "from pandarallel import pandarallel\n",
    "from sqlalchemy import create_engine\n",
    "from tqdm import tqdm\n",
    "\n",
    "from src.models import cf, evaluate_model\n",
    "from src.utilities import utilities\n",
    "\n",
    "tqdm.pandas()\n",
    "warnings.filterwarnings('ignore')"
   ]
  },
  {
   "cell_type": "markdown",
   "id": "ccc8b955",
   "metadata": {},
   "source": [
    "# Load Data and Models"
   ]
  },
  {
   "cell_type": "code",
   "execution_count": 2,
   "id": "4026a31d",
   "metadata": {},
   "outputs": [],
   "source": [
    "# global variables\n",
    "DATA_PATH = \"data/evaluation\"\n",
    "D2V_PATH = \"models/d2v\"\n",
    "CATEGORY = \"Grocery_and_Gourmet_Food\"\n",
    "\n",
    "# d2v training parameters\n",
    "EPOCHS=10\n",
    "\n",
    "# reproducibility checks\n",
    "SEED = 42\n",
    "np.random.seed(42)\n",
    "\n",
    "train = pd.read_csv(f\"{DATA_PATH}/{CATEGORY}_train.csv\")\n",
    "d2v = Doc2Vec.load(f\"{D2V_PATH}/{CATEGORY}_item_50_{EPOCHS}_d2v.model\")"
   ]
  },
  {
   "cell_type": "code",
   "execution_count": 3,
   "id": "d310a929",
   "metadata": {},
   "outputs": [
    {
     "data": {
      "text/html": [
       "<div>\n",
       "<style scoped>\n",
       "    .dataframe tbody tr th:only-of-type {\n",
       "        vertical-align: middle;\n",
       "    }\n",
       "\n",
       "    .dataframe tbody tr th {\n",
       "        vertical-align: top;\n",
       "    }\n",
       "\n",
       "    .dataframe thead th {\n",
       "        text-align: right;\n",
       "    }\n",
       "</style>\n",
       "<table border=\"1\" class=\"dataframe\">\n",
       "  <thead>\n",
       "    <tr style=\"text-align: right;\">\n",
       "      <th></th>\n",
       "      <th>index</th>\n",
       "      <th>asin</th>\n",
       "      <th>title</th>\n",
       "      <th>categories</th>\n",
       "      <th>reviewerID</th>\n",
       "      <th>overall</th>\n",
       "      <th>reviewText</th>\n",
       "      <th>reviewTime</th>\n",
       "      <th>processedReviewText</th>\n",
       "    </tr>\n",
       "  </thead>\n",
       "  <tbody>\n",
       "    <tr>\n",
       "      <th>0</th>\n",
       "      <td>0</td>\n",
       "      <td>9742356831</td>\n",
       "      <td>Mae Ploy Green Curry Paste, 14 oz</td>\n",
       "      <td>['Grocery &amp; Gourmet Food', 'Sauces, Gravies &amp; ...</td>\n",
       "      <td>A23RYWDS884TUL</td>\n",
       "      <td>5.0</td>\n",
       "      <td>This curry paste makes a delicious curry.  I j...</td>\n",
       "      <td>2013-05-28</td>\n",
       "      <td>curry paste delicious curry fry chicken vegeta...</td>\n",
       "    </tr>\n",
       "    <tr>\n",
       "      <th>1</th>\n",
       "      <td>1</td>\n",
       "      <td>9742356831</td>\n",
       "      <td>Mae Ploy Green Curry Paste, 14 oz</td>\n",
       "      <td>['Grocery &amp; Gourmet Food', 'Sauces, Gravies &amp; ...</td>\n",
       "      <td>A945RBQWGZXCK</td>\n",
       "      <td>5.0</td>\n",
       "      <td>I've purchased different curries in the grocer...</td>\n",
       "      <td>2012-09-17</td>\n",
       "      <td>purchase different curry grocery store complet...</td>\n",
       "    </tr>\n",
       "    <tr>\n",
       "      <th>2</th>\n",
       "      <td>3</td>\n",
       "      <td>9742356831</td>\n",
       "      <td>Mae Ploy Green Curry Paste, 14 oz</td>\n",
       "      <td>['Grocery &amp; Gourmet Food', 'Sauces, Gravies &amp; ...</td>\n",
       "      <td>A3AMNY44OP8AOU</td>\n",
       "      <td>4.0</td>\n",
       "      <td>I started a new diet restricting all added sug...</td>\n",
       "      <td>2014-01-23</td>\n",
       "      <td>start new diet restrict added sugar brand suga...</td>\n",
       "    </tr>\n",
       "    <tr>\n",
       "      <th>3</th>\n",
       "      <td>4</td>\n",
       "      <td>9742356831</td>\n",
       "      <td>Mae Ploy Green Curry Paste, 14 oz</td>\n",
       "      <td>['Grocery &amp; Gourmet Food', 'Sauces, Gravies &amp; ...</td>\n",
       "      <td>A3IB4CQ2QEJLJ8</td>\n",
       "      <td>5.0</td>\n",
       "      <td>So many flavors. I can't begin to tell you how...</td>\n",
       "      <td>2014-04-27</td>\n",
       "      <td>flavor begin tell love mae ploy curry ask reci...</td>\n",
       "    </tr>\n",
       "    <tr>\n",
       "      <th>4</th>\n",
       "      <td>5</td>\n",
       "      <td>9742356831</td>\n",
       "      <td>Mae Ploy Green Curry Paste, 14 oz</td>\n",
       "      <td>['Grocery &amp; Gourmet Food', 'Sauces, Gravies &amp; ...</td>\n",
       "      <td>AQA5DF3RWKETQ</td>\n",
       "      <td>5.0</td>\n",
       "      <td>I've used this a lot recently in some of my ch...</td>\n",
       "      <td>2012-11-27</td>\n",
       "      <td>use lot recently chicken dish use lot like spi...</td>\n",
       "    </tr>\n",
       "    <tr>\n",
       "      <th>47769</th>\n",
       "      <td>77420</td>\n",
       "      <td>B00I33696K</td>\n",
       "      <td>Reese's Miniature Peanut Butter Cups .31oz - 1...</td>\n",
       "      <td>['Grocery &amp; Gourmet Food', 'Candy &amp; Chocolate'...</td>\n",
       "      <td>A192LQZWDYPR4U</td>\n",
       "      <td>5.0</td>\n",
       "      <td>Another quality Reese Peanut Butter Cup produc...</td>\n",
       "      <td>2014-02-27</td>\n",
       "      <td>quality reese peanut butter cup product great ...</td>\n",
       "    </tr>\n",
       "    <tr>\n",
       "      <th>47770</th>\n",
       "      <td>77421</td>\n",
       "      <td>B00I33696K</td>\n",
       "      <td>Reese's Miniature Peanut Butter Cups .31oz - 1...</td>\n",
       "      <td>['Grocery &amp; Gourmet Food', 'Candy &amp; Chocolate'...</td>\n",
       "      <td>A2QKXW3LDQ66P5</td>\n",
       "      <td>5.0</td>\n",
       "      <td>I purchased these for my husband who has every...</td>\n",
       "      <td>2013-02-20</td>\n",
       "      <td>purchase husband love reeses valentine day pre...</td>\n",
       "    </tr>\n",
       "    <tr>\n",
       "      <th>47771</th>\n",
       "      <td>77430</td>\n",
       "      <td>B00ID9VSOM</td>\n",
       "      <td>Viva Labs Organic Coconut Sugar: Non-GMO, Low-...</td>\n",
       "      <td>['Grocery &amp; Gourmet Food', 'Cooking &amp; Baking',...</td>\n",
       "      <td>A2P3TGJU301KXD</td>\n",
       "      <td>5.0</td>\n",
       "      <td>this stuff is INCREDIBILY yummy! SO much bette...</td>\n",
       "      <td>2014-07-15</td>\n",
       "      <td>stuff incredibily yummy good regular brown sug...</td>\n",
       "    </tr>\n",
       "    <tr>\n",
       "      <th>47772</th>\n",
       "      <td>77456</td>\n",
       "      <td>B00IRL93SY</td>\n",
       "      <td>Barrie House Kenya Estate - AA Single Cup Caps...</td>\n",
       "      <td>['Grocery &amp; Gourmet Food', 'Beverages', 'Coffe...</td>\n",
       "      <td>AEFE9VDHTQ199</td>\n",
       "      <td>5.0</td>\n",
       "      <td>Very nice aroma, body and taste! Will buy this...</td>\n",
       "      <td>2014-05-24</td>\n",
       "      <td>nice aroma body taste buy coffee good coffee a...</td>\n",
       "    </tr>\n",
       "    <tr>\n",
       "      <th>47773</th>\n",
       "      <td>77508</td>\n",
       "      <td>B00ISVHJ3Y</td>\n",
       "      <td>Wholesome Sweeteners, Organic Sweet and Lite S...</td>\n",
       "      <td>['Grocery &amp; Gourmet Food', 'Cooking &amp; Baking',...</td>\n",
       "      <td>A2AEZQ3DGBBLPR</td>\n",
       "      <td>2.0</td>\n",
       "      <td>This is a no go for diabetics according to my ...</td>\n",
       "      <td>2014-06-26</td>\n",
       "      <td>diabetic accord wife doctor order intention us...</td>\n",
       "    </tr>\n",
       "  </tbody>\n",
       "</table>\n",
       "</div>"
      ],
      "text/plain": [
       "       index        asin                                              title  \\\n",
       "0          0  9742356831                  Mae Ploy Green Curry Paste, 14 oz   \n",
       "1          1  9742356831                  Mae Ploy Green Curry Paste, 14 oz   \n",
       "2          3  9742356831                  Mae Ploy Green Curry Paste, 14 oz   \n",
       "3          4  9742356831                  Mae Ploy Green Curry Paste, 14 oz   \n",
       "4          5  9742356831                  Mae Ploy Green Curry Paste, 14 oz   \n",
       "47769  77420  B00I33696K  Reese's Miniature Peanut Butter Cups .31oz - 1...   \n",
       "47770  77421  B00I33696K  Reese's Miniature Peanut Butter Cups .31oz - 1...   \n",
       "47771  77430  B00ID9VSOM  Viva Labs Organic Coconut Sugar: Non-GMO, Low-...   \n",
       "47772  77456  B00IRL93SY  Barrie House Kenya Estate - AA Single Cup Caps...   \n",
       "47773  77508  B00ISVHJ3Y  Wholesome Sweeteners, Organic Sweet and Lite S...   \n",
       "\n",
       "                                              categories      reviewerID  \\\n",
       "0      ['Grocery & Gourmet Food', 'Sauces, Gravies & ...  A23RYWDS884TUL   \n",
       "1      ['Grocery & Gourmet Food', 'Sauces, Gravies & ...   A945RBQWGZXCK   \n",
       "2      ['Grocery & Gourmet Food', 'Sauces, Gravies & ...  A3AMNY44OP8AOU   \n",
       "3      ['Grocery & Gourmet Food', 'Sauces, Gravies & ...  A3IB4CQ2QEJLJ8   \n",
       "4      ['Grocery & Gourmet Food', 'Sauces, Gravies & ...   AQA5DF3RWKETQ   \n",
       "47769  ['Grocery & Gourmet Food', 'Candy & Chocolate'...  A192LQZWDYPR4U   \n",
       "47770  ['Grocery & Gourmet Food', 'Candy & Chocolate'...  A2QKXW3LDQ66P5   \n",
       "47771  ['Grocery & Gourmet Food', 'Cooking & Baking',...  A2P3TGJU301KXD   \n",
       "47772  ['Grocery & Gourmet Food', 'Beverages', 'Coffe...   AEFE9VDHTQ199   \n",
       "47773  ['Grocery & Gourmet Food', 'Cooking & Baking',...  A2AEZQ3DGBBLPR   \n",
       "\n",
       "       overall                                         reviewText  reviewTime  \\\n",
       "0          5.0  This curry paste makes a delicious curry.  I j...  2013-05-28   \n",
       "1          5.0  I've purchased different curries in the grocer...  2012-09-17   \n",
       "2          4.0  I started a new diet restricting all added sug...  2014-01-23   \n",
       "3          5.0  So many flavors. I can't begin to tell you how...  2014-04-27   \n",
       "4          5.0  I've used this a lot recently in some of my ch...  2012-11-27   \n",
       "47769      5.0  Another quality Reese Peanut Butter Cup produc...  2014-02-27   \n",
       "47770      5.0  I purchased these for my husband who has every...  2013-02-20   \n",
       "47771      5.0  this stuff is INCREDIBILY yummy! SO much bette...  2014-07-15   \n",
       "47772      5.0  Very nice aroma, body and taste! Will buy this...  2014-05-24   \n",
       "47773      2.0  This is a no go for diabetics according to my ...  2014-06-26   \n",
       "\n",
       "                                     processedReviewText  \n",
       "0      curry paste delicious curry fry chicken vegeta...  \n",
       "1      purchase different curry grocery store complet...  \n",
       "2      start new diet restrict added sugar brand suga...  \n",
       "3      flavor begin tell love mae ploy curry ask reci...  \n",
       "4      use lot recently chicken dish use lot like spi...  \n",
       "47769  quality reese peanut butter cup product great ...  \n",
       "47770  purchase husband love reeses valentine day pre...  \n",
       "47771  stuff incredibily yummy good regular brown sug...  \n",
       "47772  nice aroma body taste buy coffee good coffee a...  \n",
       "47773  diabetic accord wife doctor order intention us...  "
      ]
     },
     "execution_count": 3,
     "metadata": {},
     "output_type": "execute_result"
    }
   ],
   "source": [
    "# checking train dataframe\n",
    "train.head().append(train.tail())"
   ]
  },
  {
   "cell_type": "code",
   "execution_count": 4,
   "id": "55810656",
   "metadata": {},
   "outputs": [
    {
     "data": {
      "text/plain": [
       "array([-0.24787457,  0.2366987 ,  0.07916126,  0.16642337, -0.22264582,\n",
       "        0.1313873 , -0.17832264, -0.02456623, -0.2149852 ,  0.05996425,\n",
       "       -0.04100204, -0.007211  , -0.4491644 ,  0.00619583,  0.28233242,\n",
       "       -0.14352706,  0.46190354, -0.34054148, -0.09885064, -0.09016173,\n",
       "       -0.04631675, -0.07979927,  0.48017856, -0.0320221 , -0.03755264,\n",
       "        0.5495328 , -0.28219232, -0.0750133 , -0.41918808, -0.00535791,\n",
       "        0.21370164,  0.28777286, -0.134458  ,  0.50685567, -0.04561058,\n",
       "        0.18546844, -0.31966543, -0.18914244,  0.15019105,  0.18631281,\n",
       "       -0.08661661, -0.15672983, -0.26767418, -0.22857194,  0.21603853,\n",
       "       -0.13274945,  0.01656938, -0.15364222, -0.08694845,  0.09400753],\n",
       "      dtype=float32)"
      ]
     },
     "execution_count": 4,
     "metadata": {},
     "output_type": "execute_result"
    }
   ],
   "source": [
    "# testing d2v models\n",
    "d2v.dv[0]"
   ]
  },
  {
   "cell_type": "markdown",
   "id": "54d8e9ff",
   "metadata": {},
   "source": [
    "# Generate User Embeddings"
   ]
  },
  {
   "cell_type": "code",
   "execution_count": 5,
   "id": "5ce0b98c",
   "metadata": {},
   "outputs": [
    {
     "name": "stderr",
     "output_type": "stream",
     "text": [
      "100%|███████████████████████████████████████████| 13397/13397 [00:00<00:00, 64323.51it/s]"
     ]
    },
    {
     "name": "stdout",
     "output_type": "stream",
     "text": [
      "reviewerID\n",
      "A00177463W0XWB16A9O05                             [B0029XDZIK, B0094ISOMA]\n",
      "A022899328A0QROR32DCT                             [B001ACMCNU, B003TO9RSU]\n",
      "A068255029AHTHDXZURNU                             [B000K8WVYA, B0094ISOMA]\n",
      "A06944662TFWOKKV4GJKX                                         [B000CQBZPG]\n",
      "A1004703RC79J9                                                [B001E50THY]\n",
      "                                               ...                        \n",
      "AZWRZZAMX90VT            [B0007R9L5Q, B000CQ01GU, B000E123IC, B000E46LZ...\n",
      "AZXKAH2DE6C8A            [B000EML7DS, B000ODF2ME, B001650XUK, B0018QLG9...\n",
      "AZXON596A1VXC                         [B00113SKZW, B00113ZTVK, B001L4JH5I]\n",
      "AZYXC63SS008M                                                 [B0040WCQKQ]\n",
      "AZZ5ASC403N74                                                 [B004U49QU2]\n",
      "Name: asin, Length: 13397, dtype: object\n"
     ]
    },
    {
     "name": "stderr",
     "output_type": "stream",
     "text": [
      "\n"
     ]
    }
   ],
   "source": [
    "# get user rating history\n",
    "train_user_rating_history = train.groupby([\"reviewerID\"])[\"asin\"].progress_apply(list)\n",
    "print(train_user_rating_history)"
   ]
  },
  {
   "cell_type": "code",
   "execution_count": 6,
   "id": "93d7d17d",
   "metadata": {},
   "outputs": [
    {
     "name": "stderr",
     "output_type": "stream",
     "text": [
      "100%|███████████████████████████████████████████| 13397/13397 [00:00<00:00, 41329.41it/s]\n"
     ]
    }
   ],
   "source": [
    "train_user_embeddings = utilities.generate_user_embeddings(train_user_rating_history, d2v)"
   ]
  },
  {
   "cell_type": "markdown",
   "id": "d7900a33",
   "metadata": {},
   "source": [
    "# Generate N-Recommendations = {10, 25, 30, 45}"
   ]
  },
  {
   "cell_type": "markdown",
   "id": "68c53c10",
   "metadata": {},
   "source": [
    "## Load Test Data"
   ]
  },
  {
   "cell_type": "code",
   "execution_count": 7,
   "id": "779da8b3",
   "metadata": {},
   "outputs": [],
   "source": [
    "test = pd.read_csv(f\"{DATA_PATH}/{CATEGORY}_test.csv\")"
   ]
  },
  {
   "cell_type": "code",
   "execution_count": 8,
   "id": "a667ee13",
   "metadata": {},
   "outputs": [
    {
     "data": {
      "text/html": [
       "<div>\n",
       "<style scoped>\n",
       "    .dataframe tbody tr th:only-of-type {\n",
       "        vertical-align: middle;\n",
       "    }\n",
       "\n",
       "    .dataframe tbody tr th {\n",
       "        vertical-align: top;\n",
       "    }\n",
       "\n",
       "    .dataframe thead th {\n",
       "        text-align: right;\n",
       "    }\n",
       "</style>\n",
       "<table border=\"1\" class=\"dataframe\">\n",
       "  <thead>\n",
       "    <tr style=\"text-align: right;\">\n",
       "      <th></th>\n",
       "      <th>index</th>\n",
       "      <th>asin</th>\n",
       "      <th>title</th>\n",
       "      <th>categories</th>\n",
       "      <th>reviewerID</th>\n",
       "      <th>overall</th>\n",
       "      <th>reviewText</th>\n",
       "      <th>reviewTime</th>\n",
       "      <th>processedReviewText</th>\n",
       "    </tr>\n",
       "  </thead>\n",
       "  <tbody>\n",
       "    <tr>\n",
       "      <th>0</th>\n",
       "      <td>2</td>\n",
       "      <td>9742356831</td>\n",
       "      <td>Mae Ploy Green Curry Paste, 14 oz</td>\n",
       "      <td>['Grocery &amp; Gourmet Food', 'Sauces, Gravies &amp; ...</td>\n",
       "      <td>A1TCSC0YWT82Q0</td>\n",
       "      <td>5.0</td>\n",
       "      <td>I love ethnic foods and to cook them. I recent...</td>\n",
       "      <td>2013-08-03</td>\n",
       "      <td>love ethnic food cook recently purchase produc...</td>\n",
       "    </tr>\n",
       "    <tr>\n",
       "      <th>1</th>\n",
       "      <td>8</td>\n",
       "      <td>9742356831</td>\n",
       "      <td>Mae Ploy Green Curry Paste, 14 oz</td>\n",
       "      <td>['Grocery &amp; Gourmet Food', 'Sauces, Gravies &amp; ...</td>\n",
       "      <td>A1Z7Y2GMAP9SRY</td>\n",
       "      <td>5.0</td>\n",
       "      <td>I like to make my own curry but this is a tast...</td>\n",
       "      <td>2014-06-27</td>\n",
       "      <td>like curry tasty alternative use base kind dif...</td>\n",
       "    </tr>\n",
       "    <tr>\n",
       "      <th>2</th>\n",
       "      <td>23</td>\n",
       "      <td>B00004S1C5</td>\n",
       "      <td>Ateco Food Coloring Kit, 6 colors</td>\n",
       "      <td>['Grocery &amp; Gourmet Food', 'Cooking &amp; Baking',...</td>\n",
       "      <td>A14YSMLYLJEMET</td>\n",
       "      <td>1.0</td>\n",
       "      <td>This product is no where near natural / organi...</td>\n",
       "      <td>2013-03-29</td>\n",
       "      <td>product near natural organic wish review purch...</td>\n",
       "    </tr>\n",
       "    <tr>\n",
       "      <th>3</th>\n",
       "      <td>31</td>\n",
       "      <td>B00005344V</td>\n",
       "      <td>Traditional Medicinals Organic Breathe Easy Se...</td>\n",
       "      <td>['Grocery &amp; Gourmet Food', 'Beverages', 'Coffe...</td>\n",
       "      <td>A2F488C4PLWGEI</td>\n",
       "      <td>5.0</td>\n",
       "      <td>If my wife drinks a cup of this tea when she f...</td>\n",
       "      <td>2014-03-23</td>\n",
       "      <td>wife drink cup tea feel attack come help avoid...</td>\n",
       "    </tr>\n",
       "    <tr>\n",
       "      <th>4</th>\n",
       "      <td>32</td>\n",
       "      <td>B00005344V</td>\n",
       "      <td>Traditional Medicinals Organic Breathe Easy Se...</td>\n",
       "      <td>['Grocery &amp; Gourmet Food', 'Beverages', 'Coffe...</td>\n",
       "      <td>AO1HXV7DWZZIR</td>\n",
       "      <td>5.0</td>\n",
       "      <td>I don't know about the medicinal aspects of th...</td>\n",
       "      <td>2014-02-06</td>\n",
       "      <td>know medicinal aspect tea flavor downright scr...</td>\n",
       "    </tr>\n",
       "    <tr>\n",
       "      <th>28001</th>\n",
       "      <td>77519</td>\n",
       "      <td>B00ISVHJ3Y</td>\n",
       "      <td>Wholesome Sweeteners, Organic Sweet and Lite S...</td>\n",
       "      <td>['Grocery &amp; Gourmet Food', 'Cooking &amp; Baking',...</td>\n",
       "      <td>A1WT3TVHANP7ZF</td>\n",
       "      <td>3.0</td>\n",
       "      <td>Hmmm. I really wanted to love this sweetener. ...</td>\n",
       "      <td>2014-07-22</td>\n",
       "      <td>hmmm want love sweetener half sugar half stevi...</td>\n",
       "    </tr>\n",
       "    <tr>\n",
       "      <th>28002</th>\n",
       "      <td>77520</td>\n",
       "      <td>B00ISVHJ3Y</td>\n",
       "      <td>Wholesome Sweeteners, Organic Sweet and Lite S...</td>\n",
       "      <td>['Grocery &amp; Gourmet Food', 'Cooking &amp; Baking',...</td>\n",
       "      <td>A3NEAETOSXDBOM</td>\n",
       "      <td>5.0</td>\n",
       "      <td>I confess I have a sweet tooth, and love the t...</td>\n",
       "      <td>2014-06-30</td>\n",
       "      <td>confess sweet tooth love taste sugar recognize...</td>\n",
       "    </tr>\n",
       "    <tr>\n",
       "      <th>28003</th>\n",
       "      <td>77521</td>\n",
       "      <td>B00ISVHJ3Y</td>\n",
       "      <td>Wholesome Sweeteners, Organic Sweet and Lite S...</td>\n",
       "      <td>['Grocery &amp; Gourmet Food', 'Cooking &amp; Baking',...</td>\n",
       "      <td>AD1ZOPB0BBEHB</td>\n",
       "      <td>4.0</td>\n",
       "      <td>It has a little of the stevia aftertaste, but ...</td>\n",
       "      <td>2014-07-17</td>\n",
       "      <td>little stevia aftertaste fair compromise able ...</td>\n",
       "    </tr>\n",
       "    <tr>\n",
       "      <th>28004</th>\n",
       "      <td>77522</td>\n",
       "      <td>B00ISVHJ3Y</td>\n",
       "      <td>Wholesome Sweeteners, Organic Sweet and Lite S...</td>\n",
       "      <td>['Grocery &amp; Gourmet Food', 'Cooking &amp; Baking',...</td>\n",
       "      <td>A18ECVX2RJ7HUE</td>\n",
       "      <td>5.0</td>\n",
       "      <td>i love marinade for grilled flank steak or lon...</td>\n",
       "      <td>2014-05-30</td>\n",
       "      <td>love marinade grilled flank steak london broil...</td>\n",
       "    </tr>\n",
       "    <tr>\n",
       "      <th>28005</th>\n",
       "      <td>77523</td>\n",
       "      <td>B00ISVHJ3Y</td>\n",
       "      <td>Wholesome Sweeteners, Organic Sweet and Lite S...</td>\n",
       "      <td>['Grocery &amp; Gourmet Food', 'Cooking &amp; Baking',...</td>\n",
       "      <td>A2G04D4QZAXL15</td>\n",
       "      <td>3.0</td>\n",
       "      <td>I've been using Truvia (a form of stevia) on m...</td>\n",
       "      <td>2014-05-27</td>\n",
       "      <td>use truvia form stevia cereal greek yogurt yea...</td>\n",
       "    </tr>\n",
       "  </tbody>\n",
       "</table>\n",
       "</div>"
      ],
      "text/plain": [
       "       index        asin                                              title  \\\n",
       "0          2  9742356831                  Mae Ploy Green Curry Paste, 14 oz   \n",
       "1          8  9742356831                  Mae Ploy Green Curry Paste, 14 oz   \n",
       "2         23  B00004S1C5                  Ateco Food Coloring Kit, 6 colors   \n",
       "3         31  B00005344V  Traditional Medicinals Organic Breathe Easy Se...   \n",
       "4         32  B00005344V  Traditional Medicinals Organic Breathe Easy Se...   \n",
       "28001  77519  B00ISVHJ3Y  Wholesome Sweeteners, Organic Sweet and Lite S...   \n",
       "28002  77520  B00ISVHJ3Y  Wholesome Sweeteners, Organic Sweet and Lite S...   \n",
       "28003  77521  B00ISVHJ3Y  Wholesome Sweeteners, Organic Sweet and Lite S...   \n",
       "28004  77522  B00ISVHJ3Y  Wholesome Sweeteners, Organic Sweet and Lite S...   \n",
       "28005  77523  B00ISVHJ3Y  Wholesome Sweeteners, Organic Sweet and Lite S...   \n",
       "\n",
       "                                              categories      reviewerID  \\\n",
       "0      ['Grocery & Gourmet Food', 'Sauces, Gravies & ...  A1TCSC0YWT82Q0   \n",
       "1      ['Grocery & Gourmet Food', 'Sauces, Gravies & ...  A1Z7Y2GMAP9SRY   \n",
       "2      ['Grocery & Gourmet Food', 'Cooking & Baking',...  A14YSMLYLJEMET   \n",
       "3      ['Grocery & Gourmet Food', 'Beverages', 'Coffe...  A2F488C4PLWGEI   \n",
       "4      ['Grocery & Gourmet Food', 'Beverages', 'Coffe...   AO1HXV7DWZZIR   \n",
       "28001  ['Grocery & Gourmet Food', 'Cooking & Baking',...  A1WT3TVHANP7ZF   \n",
       "28002  ['Grocery & Gourmet Food', 'Cooking & Baking',...  A3NEAETOSXDBOM   \n",
       "28003  ['Grocery & Gourmet Food', 'Cooking & Baking',...   AD1ZOPB0BBEHB   \n",
       "28004  ['Grocery & Gourmet Food', 'Cooking & Baking',...  A18ECVX2RJ7HUE   \n",
       "28005  ['Grocery & Gourmet Food', 'Cooking & Baking',...  A2G04D4QZAXL15   \n",
       "\n",
       "       overall                                         reviewText  reviewTime  \\\n",
       "0          5.0  I love ethnic foods and to cook them. I recent...  2013-08-03   \n",
       "1          5.0  I like to make my own curry but this is a tast...  2014-06-27   \n",
       "2          1.0  This product is no where near natural / organi...  2013-03-29   \n",
       "3          5.0  If my wife drinks a cup of this tea when she f...  2014-03-23   \n",
       "4          5.0  I don't know about the medicinal aspects of th...  2014-02-06   \n",
       "28001      3.0  Hmmm. I really wanted to love this sweetener. ...  2014-07-22   \n",
       "28002      5.0  I confess I have a sweet tooth, and love the t...  2014-06-30   \n",
       "28003      4.0  It has a little of the stevia aftertaste, but ...  2014-07-17   \n",
       "28004      5.0  i love marinade for grilled flank steak or lon...  2014-05-30   \n",
       "28005      3.0  I've been using Truvia (a form of stevia) on m...  2014-05-27   \n",
       "\n",
       "                                     processedReviewText  \n",
       "0      love ethnic food cook recently purchase produc...  \n",
       "1      like curry tasty alternative use base kind dif...  \n",
       "2      product near natural organic wish review purch...  \n",
       "3      wife drink cup tea feel attack come help avoid...  \n",
       "4      know medicinal aspect tea flavor downright scr...  \n",
       "28001  hmmm want love sweetener half sugar half stevi...  \n",
       "28002  confess sweet tooth love taste sugar recognize...  \n",
       "28003  little stevia aftertaste fair compromise able ...  \n",
       "28004  love marinade grilled flank steak london broil...  \n",
       "28005  use truvia form stevia cereal greek yogurt yea...  "
      ]
     },
     "execution_count": 8,
     "metadata": {},
     "output_type": "execute_result"
    }
   ],
   "source": [
    "test.head().append(test.tail())"
   ]
  },
  {
   "cell_type": "code",
   "execution_count": 9,
   "id": "cd568ec2",
   "metadata": {},
   "outputs": [],
   "source": [
    "# generating test history\n",
    "test_user_history = (pd.DataFrame(test.groupby(['reviewerID'])['asin']\n",
    "                                  .apply(list).reset_index()))"
   ]
  },
  {
   "cell_type": "code",
   "execution_count": 10,
   "id": "7a799a6a",
   "metadata": {},
   "outputs": [
    {
     "name": "stdout",
     "output_type": "stream",
     "text": [
      "                  reviewerID  \\\n",
      "0      A00177463W0XWB16A9O05   \n",
      "1      A022899328A0QROR32DCT   \n",
      "2      A068255029AHTHDXZURNU   \n",
      "3      A06944662TFWOKKV4GJKX   \n",
      "4             A1004703RC79J9   \n",
      "...                      ...   \n",
      "13274          AZWRZZAMX90VT   \n",
      "13275          AZXKAH2DE6C8A   \n",
      "13276          AZXON596A1VXC   \n",
      "13277          AZYXC63SS008M   \n",
      "13278          AZZ5ASC403N74   \n",
      "\n",
      "                                                    asin  \n",
      "0                               [B00474OR8G, B00BFM6OAW]  \n",
      "1                                           [B00CMQDKES]  \n",
      "2                                           [B001FA1K2G]  \n",
      "3                                           [B000GFYRHG]  \n",
      "4                                           [B003GTR8IO]  \n",
      "...                                                  ...  \n",
      "13274  [B0007R9L4M, B000CN7BMA, B001EQ5D1K, B002VT3GX...  \n",
      "13275   [B000MAK41I, B004X8TJP2, B006H34CUS, B007W14RMM]  \n",
      "13276                           [B001EO5S0I, B00271QQ7Q]  \n",
      "13277                                       [B0054TWPNC]  \n",
      "13278                                       [B00BIEU5PC]  \n",
      "\n",
      "[13279 rows x 2 columns]\n"
     ]
    }
   ],
   "source": [
    "print(test_user_history)"
   ]
  },
  {
   "cell_type": "markdown",
   "id": "9290464f",
   "metadata": {},
   "source": [
    "## Instantiate Embedded Review CBF (Item-based)"
   ]
  },
  {
   "cell_type": "code",
   "execution_count": 11,
   "id": "33206ceb",
   "metadata": {},
   "outputs": [],
   "source": [
    "er_cbf = cf.EmbeddedReviewCBF(d2v)"
   ]
  },
  {
   "cell_type": "code",
   "execution_count": 12,
   "id": "33c20ea3",
   "metadata": {},
   "outputs": [
    {
     "name": "stderr",
     "output_type": "stream",
     "text": [
      "100%|███████████████████████████████████████████| 13397/13397 [00:00<00:00, 42336.35it/s]"
     ]
    },
    {
     "name": "stdout",
     "output_type": "stream",
     "text": [
      "CPU times: user 488 ms, sys: 12.8 ms, total: 500 ms\n",
      "Wall time: 498 ms\n"
     ]
    },
    {
     "name": "stderr",
     "output_type": "stream",
     "text": [
      "\n"
     ]
    }
   ],
   "source": [
    "%%time\n",
    "# fit learning algorithm to training data\n",
    "er_cbf.fit(train)"
   ]
  },
  {
   "cell_type": "code",
   "execution_count": 13,
   "id": "d63d8435",
   "metadata": {},
   "outputs": [
    {
     "name": "stderr",
     "output_type": "stream",
     "text": [
      "100%|████████████████████████████████████████████| 13397/13397 [00:04<00:00, 3043.23it/s]"
     ]
    },
    {
     "name": "stdout",
     "output_type": "stream",
     "text": [
      "CPU times: user 15.3 s, sys: 2.19 s, total: 17.4 s\n",
      "Wall time: 4.4 s\n"
     ]
    },
    {
     "name": "stderr",
     "output_type": "stream",
     "text": [
      "\n"
     ]
    }
   ],
   "source": [
    "%%time\n",
    "# generate n-number of candidates items (200)\n",
    "candidate_items = er_cbf.test()"
   ]
  },
  {
   "cell_type": "markdown",
   "id": "b8a9d5be",
   "metadata": {},
   "source": [
    "## Save Model"
   ]
  },
  {
   "cell_type": "code",
   "execution_count": null,
   "id": "fa5a9719",
   "metadata": {},
   "outputs": [],
   "source": []
  },
  {
   "cell_type": "code",
   "execution_count": null,
   "id": "de68cb7d",
   "metadata": {},
   "outputs": [],
   "source": []
  },
  {
   "cell_type": "markdown",
   "id": "bd02102f",
   "metadata": {},
   "source": [
    "## Loop through N = {10, 25, 30, 45}"
   ]
  },
  {
   "cell_type": "code",
   "execution_count": 14,
   "id": "bc3bc2fa",
   "metadata": {},
   "outputs": [],
   "source": [
    "# generate item popularity\n",
    "item_popularity = evaluate_model.generate_item_popularity(train)"
   ]
  },
  {
   "cell_type": "code",
   "execution_count": 15,
   "id": "71184af5",
   "metadata": {},
   "outputs": [
    {
     "name": "stdout",
     "output_type": "stream",
     "text": [
      "The ER-CBF has an average recall@10: 0.02225, average novelty@10: 0.94279\n",
      "The ER-CBF has an average recall@25: 0.04052, average novelty@25: 0.95107\n",
      "The ER-CBF has an average recall@30: 0.04535, average novelty@30: 0.95311\n",
      "The ER-CBF has an average recall@45: 0.05699, average novelty@45: 0.95741\n"
     ]
    }
   ],
   "source": [
    "n_recommendations = {}\n",
    "for n in [10, 25, 30, 45]:\n",
    "    # retrieve the top-n items based on similarities\n",
    "    # top_ns = get_top_n(candidate_items, mem_ecf.user_rating_history, n)\n",
    "    top_ns = er_cbf.get_top_n(n)\n",
    "    # evaluate how well the recommended items predicted the future purchases\n",
    "    n_recommended_items = (evaluate_model.\n",
    "                           evaluate_recommendations(model_name = 'ER-CBF',\n",
    "                                                    top_ns = top_ns,\n",
    "                                                    user_rating_history = test_user_history, \n",
    "                                                    item_popularity = item_popularity, \n",
    "                                                    n = n,\n",
    "                                                    mf_based = False))\n",
    "    # saving the n-value and recommended items\n",
    "    n_recommendations[n] = (top_ns, n_recommended_items)"
   ]
  },
  {
   "cell_type": "markdown",
   "id": "ccb14b27",
   "metadata": {},
   "source": [
    "# Evaluate N-Recommendations"
   ]
  },
  {
   "cell_type": "markdown",
   "id": "d844dcb0",
   "metadata": {},
   "source": [
    "## N=10"
   ]
  },
  {
   "cell_type": "code",
   "execution_count": 16,
   "id": "2534229a",
   "metadata": {},
   "outputs": [],
   "source": [
    "top_ns_10 = n_recommendations[10][0]"
   ]
  },
  {
   "cell_type": "code",
   "execution_count": 17,
   "id": "14bf8c9b",
   "metadata": {},
   "outputs": [
    {
     "name": "stdout",
     "output_type": "stream",
     "text": [
      "For user: A2H84V55USFJQX:\n",
      "Purchase History:\n",
      "             asin                                              title\n",
      "13844  B000ZSZ5S4  Blue Diamond Almonds, Bold Salt &amp; Vinegar,...\n",
      "41088  B005K4Q1T0  Grove Square Hot Cocoa Dark Chocolate, 24 Sing...\n",
      "\n",
      "Recommending:\n",
      "\n",
      "         asin                                              title\n",
      "0  B0033HPPIO  Donut House Collection Coffee Chocolate Glazed...\n",
      "1  B001CHFSR0  Gloria Jean's Coffees, Mudslide, K-Cup Portion...\n",
      "2  B001EQ4IKW  Millstone Chocolate Velvet Ground Coffee, 12 O...\n",
      "3  B002GWFAEG  Coffee Bean Direct Medium House Blend, Whole B...\n",
      "4  B002ESS6RK  Cameron's Coffee Roasted Whole Bean Coffee, Fl...\n",
      "5  B002Y2QTNO  Community Coffee Signature Blend Dark Roast Pr...\n",
      "6  B005EF0I0I                 Coffee Sampler Gift Basket by ig4U\n",
      "7  B004V3INE2  M.BLOCK &amp; SONS 01800 18 Count Timot Kahlua...\n",
      "8  B001EO5Z6A   Rocamojo Organic Gourmet Coffee, Wild French ...\n",
      "9  B006ZI66J0  Yuban Colombian Coffee, Medium Roast, T-Discs ...\n"
     ]
    }
   ],
   "source": [
    "utilities.retrieve_recommendations(train, top_ns_10)"
   ]
  },
  {
   "cell_type": "markdown",
   "id": "08d04ced",
   "metadata": {},
   "source": [
    "## N=25"
   ]
  },
  {
   "cell_type": "code",
   "execution_count": 18,
   "id": "52278122",
   "metadata": {},
   "outputs": [],
   "source": [
    "top_ns_25 = n_recommendations[25][0]"
   ]
  },
  {
   "cell_type": "code",
   "execution_count": 19,
   "id": "0fe585b0",
   "metadata": {},
   "outputs": [
    {
     "name": "stdout",
     "output_type": "stream",
     "text": [
      "For user: A2W9B725TZBXOX:\n",
      "Purchase History:\n",
      "             asin                                              title\n",
      "1645   B0005Z6LLW  Ghirardelli Hot Chocolate Mix , Chocolate Moch...\n",
      "4683   B000ED9L6C  Bob's Red Mill Raw Shelled Sunflower Seeds (Ke...\n",
      "8508   B000GATCRQ  Dream Foods International Volcano Lemon Burst,...\n",
      "15333  B0014EOUAW  V8 V-Fusion Light Peach Mango Juice Drink, 46-...\n",
      "18192  B001E52ZAS  Post Shredded Wheat Lightly Frosted Cereal, Sp...\n",
      "21093  B001EPQV1W  Honey Bunches of Oats with Almonds, 14.5-Ounce...\n",
      "22932  B001G8UC8K  Tootsie Roll Midgees Candy 5 Pound Value Bag 7...\n",
      "23025  B001GVIRD4                     Grocery &amp; Gourmet Food\" />\n",
      "24945  B001NC8HQS  Idahoan Buttery homestyle flavored mashed pota...\n",
      "25830  B001SAQ7WQ  Progresso Traditional Soup, Chickarina (Chicke...\n",
      "26956  B0025UOMY8  Maruchan Yakisoba Spicy Vegetable, 3.79-Ounce ...\n",
      "33467  B00421DMLM  Libby's Splenda Sliced Peaches, 23.5-Ounce Jar...\n",
      "34141  B004727CL2  Snack Factory Pretzel Crisps Everything, 7.2-O...\n",
      "40204  B005C3IVN8  Anderson's Pure Maple Syrup, Grade A Very Dark...\n",
      "40494  B005ER1DJ6  Quaker Popped Rice Crisps Snacks Chocolate, 7....\n",
      "40552  B005FUMNPU  Quakes Rice Snacks, Sweet Chili, 6 Ounce (Pack...\n",
      "\n",
      "Recommending:\n",
      "\n",
      "          asin                                              title\n",
      "0   B00269UWFG               Kirkland Signature Cashews, 40 Ounce\n",
      "1   B00016JGZI                 Coconut Chips, 1 lb. by Barry Farm\n",
      "2   B001ET5Y52                     Grocery &amp; Gourmet Food\" />\n",
      "3   B003XB3NNE  Coconut Secret Organic Raw Coconut Flour, 1 Pound\n",
      "4   B001EO5SW6   Arrowhead Mills Organic Cereal, Oat Bran Flak...\n",
      "5   B000F9ZM7M           Cheese Sauce Powder, 1 lb. by Barry Farm\n",
      "6   B000FK8HJQ  Inka Crops Inka Crops Roasted Plantains, 4-Oun...\n",
      "7   B004VLVI1O  Bob's Red Mill Unbleached White All Purpose Ba...\n",
      "8   B001E50X66  Sun Maid California Pitted Prunes, 16-Ounce Ca...\n",
      "9   B003S1TNIS  FiberGourmet Light Spaghetti, 8-Ounce Boxes (P...\n",
      "10  B0026BQKT6  Wowbutter Natural Peanut Free Creamy 6x1.1lb Jars\n",
      "11  B000LKZEP0  Road's End Organics Shells &amp; Chreese, Orga...\n",
      "12  B000EDBQ38  Bob's Red Mill Stabilized Rice Bran, 18 Ounce ...\n",
      "13  B000EVIDVI  Glutino Gluten Free Pantry Perfect Pie Crust M...\n",
      "14  B000EMQG0W  Betty Crocker Muffin Mix Blueberry, 16.9-Ounce...\n",
      "15  B0016COPU2                     Grocery &amp; Gourmet Food\" />\n",
      "16  B006045OCY  Teddie All Natural Peanut Butter, Super Chunky...\n",
      "17  B00ASM2C4C                Greek Halva Organic with Honey 200g\n",
      "18  B002NWIQQI  United With Earth Medjool Dates, 16-Ounce Cont...\n",
      "19  B000EDM6KU  Bob's Red Mill Arrowroot Starch/Flour, 16-ounc...\n",
      "20  B004C9KNSE               Ann's House Fiber Smart Edamame 25oz\n",
      "21  B000OU5EKC  Hormel Mary Kitchen Reduced Sodium Corned Beef...\n",
      "22  B004AFODLI  Kodiak Cakes All Natural Frontier Pancake, Fla...\n",
      "23  B0040J01KQ  Pop-Tarts Toaster Pastries Variety Pack, 48-Co...\n",
      "24  B000FDMLVS  Hodgson Mill Vital Wheat Gluten 6.5-Ounce Boxe...\n"
     ]
    }
   ],
   "source": [
    "utilities.retrieve_recommendations(train, top_ns_25)"
   ]
  },
  {
   "cell_type": "markdown",
   "id": "4846c07e",
   "metadata": {},
   "source": [
    "## N=30"
   ]
  },
  {
   "cell_type": "code",
   "execution_count": 20,
   "id": "793f9c53",
   "metadata": {},
   "outputs": [],
   "source": [
    "top_ns_30 = n_recommendations[30][0]"
   ]
  },
  {
   "cell_type": "code",
   "execution_count": 21,
   "id": "5436781b",
   "metadata": {},
   "outputs": [
    {
     "name": "stdout",
     "output_type": "stream",
     "text": [
      "For user: A1G8ECTOF35O2R:\n",
      "Purchase History:\n",
      "             asin                                              title\n",
      "9115   B000H26J7E  Lindt Excellence Bar, 70% Cocoa Smooth Dark Ch...\n",
      "47677  B00EKLPLU4              Healthworks Cacao Powder Organic, 1lb\n",
      "\n",
      "Recommending:\n",
      "\n",
      "          asin                                              title\n",
      "0   B0019ZHU2Q  Ghirardelli Chocolate Intense Dark Bar, Twilig...\n",
      "1   B0029JASWA  Dove Dark Chocolate Promises, 9.5-Ounce Packag...\n",
      "2   B000EUF9CK  Endangered Species Panther, Dark Chocolate (88...\n",
      "3   B000KNB4WA  Ghirardelli Chocolate Baking Chips, Semi-Sweet...\n",
      "4   B000H27PB8  Ritter Sport Bars, Dark Chocolate with Marzipa...\n",
      "5   B001G0MG0K  Ghirardelli Chocolate Squares, Dark Chocolate,...\n",
      "6   B001IZBIRA  KIT KAT White Cr&egrave;me Candy Bar (Pack of 24)\n",
      "7   B001DEX99Q  Vitalicious Super Sampler, 2-Ounce Packages (P...\n",
      "8   B001FA1DUA   KIT KAT Chocolate Candy Bar, Snack Size (Pack...\n",
      "9   B00BLMFL9Q  Ghirardelli Tower of Squares, Chocolate, 51 Count\n",
      "10  B000H151ME  Toblerone Dark Chocolate Bar, 3.52 Ounce (Pack...\n",
      "11  B000OQ4A3S  Navitas Organics Cacao Nibs, 8 oz. Bag &mdash;...\n",
      "12  B001FA1DYG   KIT KAT Assorted Chocolate Candy Bars (White,...\n",
      "13  B0029J6QLM         Snickers Dark Chocolate Candy (Pack of 24)\n",
      "14  B000XSCG9C  Weil By Nature's Path Organic Chocolada Walnut...\n",
      "15  B00BFM6OAW  Kind Peanut Butter Dark Chocolate+ Protein, 1....\n",
      "16  B004BXCZ0A  Chocolove Almonds Seasalt in Dark Chocolate, 3...\n",
      "17  B001G0MG2I   Ghirardelli Chocolate Intense Dark Bar, Midni...\n",
      "18  B004VQATLO  Hershey's Extra Dark Chocolate Assortment,  24...\n",
      "19  B000EG6G9E  Cadbury Crunchie Chocolate Bars 26.1g each - P...\n",
      "20  B0008IT4OM  Chocmod Truffettes de France Natural Truffles ...\n",
      "21  B000LQJKI6  Guylian Belgian Chocolate Sea Shells Perles d'...\n",
      "22  B000JZDY0Y          Cadburys Flake Case of (4pack x 4) 16Bars\n",
      "23  B004EUXLD0    Wine.com Godiva Thank You Chocolate Gift Basket\n",
      "24  B002RBTVC8  Lindt LINDOR White Chocolate Truffles, Kosher,...\n",
      "25  B002RNYAHM  Lindt LINDOR Dark Chocolate Truffles, Kosher, ...\n",
      "26  B00DILCU92  Kind Healthy Grains Bars, Oats &amp; Honey wit...\n",
      "27  B001OCKIDW  South Beach Living Fiber Fit Bars, S'mores, 5-...\n",
      "28  B0019FM33M  LU Cookies Le Petit Ecolier, The Little School...\n",
      "29  B002AQJEAO  LU Erin Fetherston Designed, Creme Roulee Dark...\n"
     ]
    }
   ],
   "source": [
    "utilities.retrieve_recommendations(train, top_ns_30)"
   ]
  },
  {
   "cell_type": "markdown",
   "id": "8ad48ff2",
   "metadata": {},
   "source": [
    "## N=45"
   ]
  },
  {
   "cell_type": "code",
   "execution_count": 22,
   "id": "354ce974",
   "metadata": {},
   "outputs": [],
   "source": [
    "top_ns_45 = n_recommendations[45][0]"
   ]
  },
  {
   "cell_type": "code",
   "execution_count": 23,
   "id": "025239d7",
   "metadata": {},
   "outputs": [
    {
     "name": "stdout",
     "output_type": "stream",
     "text": [
      "For user: A1NEKFNO1E743Y:\n",
      "Purchase History:\n",
      "            asin                                              title\n",
      "8695  B000GFYRHG  Bigelow Constant Comment Tea 20-Count Boxes (P...\n",
      "\n",
      "Recommending:\n",
      "\n",
      "          asin                                              title\n",
      "0   B000F4DKAI  Twinings of London English Afternoon Black Tea...\n",
      "1   B007JFXXJY  Lipton Herbal Pyramid Tea Bags, Orange Blossom...\n",
      "2   B008YUL4CQ  Lipton Decaffeinated Green Tea, Superfruit Jas...\n",
      "3   B001E5E1WS  Rishi Tea Organic Silver Needle Jasmine Loose ...\n",
      "4   B005CT9OEW  Lipton Green Tea Bags, Decaffeinated Blackberr...\n",
      "5   B001BM62T4  Red Espresso Ground Rooibos Tea, 8.8-Ounce Pou...\n",
      "6   B002AR158W   Numi Organic Tea Magnolia Puerh, Full Leaf Gr...\n",
      "7   B0061IUKDM  Higgins &amp; Burke, Green Tea, 20 Count (Pack...\n",
      "8   B001E5E20O  Rishi Tea Organic Black Tea, Earl Grey Loose T...\n",
      "9   B002HQCWYM  Twinings of London English Breakfast Tea K-Cup...\n",
      "10  B001EO5WZ4   Twinings Earl Grey 24 K-Cups, 24 Count (Pack ...\n",
      "11  B000CQBZPG  Stash Tea Super Irish Breakfast Black Tea 20 C...\n",
      "12  B004051BO0  Yogi Tea - Vanilla Spice Perfect Energy - Ener...\n",
      "13  B0005ZX5PM  Lipton Green Tea, Orange Passionfruit &amp; Ja...\n",
      "14  B002AR14WO  Numi Organic Tea Chocolate Puerh, Full Leaf Bl...\n",
      "15  B001HWWL6Q   Bigelow Chai Green Tea Or Green Tea Chai, K-C...\n",
      "16  B000CQBZQA  Stash Tea Fusion Red White &amp; Blueberry Tea...\n",
      "17  B000E130DY  Decaf Lotus Blossom Green FB 20ct/6-20 per cas...\n",
      "18  B007JFXWRC  Lipton Herbal Pyramid Tea Bags, Blackberry Van...\n",
      "19  B000CQBZRE  Stash Tea Green Tea Sampler, Nine Flavor Varie...\n",
      "20  B000EMD1XW  Lipton Black Tea Pyramids, Vanilla Caramel 20 ...\n",
      "21  B0012BSMHY  Stash Tea Lightly Sweetened Green Iced Tea Pow...\n",
      "22  B000EM8UFG  Lipton Black Tea Pyramids, Bavarian Wild Berry...\n",
      "23  B002TMV3E4  Melitta Cafe de Europa Gourmet Coffee, Riviera...\n",
      "24  B000F6SNQM  Good Earth Citrus Kiss Green Tea, 20 Count Tea...\n",
      "25  B005LIDZ26  Lipton Cold Brew Family Iced Tea Bags Black te...\n",
      "26  B003ZT61E2  Maxwell House International Caf&eacute; Flavor...\n",
      "27  B000YVOHBI  Nescafe Taster's Choice Instant Coffee, Decaff...\n",
      "28  B000CQBZQK  Stash Tea Decaf Vanilla Chai Tea 18 Count Tea ...\n",
      "29  B001EQ5JLE   PG Tips Black Tea, Pyramid Tea Bags, 240-Coun...\n",
      "30  B008YUL4KI  Lipton Pyramid Tea Bags, Spiced Cinnamon Chai,...\n",
      "31  B00BIEU5MK  Community Coffee Ground Coffee, French Vanilla...\n",
      "32  B000TK6LBS  Caribou Coffee Caribou Blend, Keurig Single-Se...\n",
      "33  B001EO6654  Green Mountain Coffee Fair Trade Wild Mountain...\n",
      "34  B001E95KOC  Mighty Leaf Green Tea, Tropical, 15 Pouches (P...\n",
      "35  B000FFIUDE  Numi Organic Tea Monkey King, Full Leaf Jasmin...\n",
      "36  B001E5DWR8  Ahmad Tea Aromatic Earl Grey, 17.6-Ounce Tins ...\n",
      "37  B0007IQQXA   Van Houtte French Vanilla Coffee K Cups 18 Count\n",
      "38  B000V9NFLQ  Lipton Pyramid Tea Bags, Bedtime Story, 20-Cou...\n",
      "39  B001D0KG4G  Timothy's World Tea, Chai Tea, 24-Count K-Cups...\n",
      "40  B001CHFT88  Coffee People Extra Bold French Roast Decaf fo...\n",
      "41  B0026ZYZ7Q  Numi Organic Tea Chocolate Pu-erh, 16 Bags, Bl...\n",
      "42  B000W2DSO6  Nescafe Taster's Choice Instant Coffee, Regula...\n",
      "43  B000NIHZMU                 Sunflower Jasmine Tea 1 LB (454 g)\n",
      "44  B000GW257S  Splenda--No Calorie Sweetener Flavors for Coff...\n"
     ]
    }
   ],
   "source": [
    "utilities.retrieve_recommendations(train, top_ns_45)"
   ]
  },
  {
   "cell_type": "markdown",
   "id": "47d1b4ac",
   "metadata": {},
   "source": [
    "# Cross-Analysis for Cold-Start Users (<= 2 Purchased Items)"
   ]
  },
  {
   "cell_type": "code",
   "execution_count": 24,
   "id": "f9acadf5",
   "metadata": {},
   "outputs": [],
   "source": [
    "cold_start_users = utilities.generate_cold_start_users(train)"
   ]
  },
  {
   "cell_type": "code",
   "execution_count": 25,
   "id": "771176b5",
   "metadata": {},
   "outputs": [
    {
     "name": "stdout",
     "output_type": "stream",
     "text": [
      "The ER-CBF has an average recall@10: 0.02562, average novelty@10: 0.94115\n",
      "The ER-CBF has an average recall@25: 0.04448, average novelty@25: 0.94996\n",
      "The ER-CBF has an average recall@30: 0.04977, average novelty@30: 0.95212\n",
      "The ER-CBF has an average recall@45: 0.06174, average novelty@45: 0.95672\n"
     ]
    }
   ],
   "source": [
    "for n in tuple(zip([10, 25, 30, 45], [top_ns_10, top_ns_25, top_ns_30, top_ns_45])):\n",
    "    cold_start_top_ns = dict(filter(lambda x: x[0] in cold_start_users, n[1].items()))\n",
    "    # evaluate how well the recommended items predicted the future purchases\n",
    "    # on cold start users\n",
    "    n_recommended_items = (evaluate_model.\n",
    "                           evaluate_recommendations(model_name = 'ER-CBF',\n",
    "                                                    top_ns = cold_start_top_ns,\n",
    "                                                    user_rating_history = test_user_history, \n",
    "                                                    item_popularity = item_popularity, \n",
    "                                                    n = n[0],\n",
    "                                                    mf_based = False))"
   ]
  },
  {
   "cell_type": "markdown",
   "id": "ad4c5633",
   "metadata": {},
   "source": [
    "# Generating Recommended Items DataFrame"
   ]
  },
  {
   "cell_type": "code",
   "execution_count": 26,
   "id": "37b7cf28",
   "metadata": {},
   "outputs": [],
   "source": [
    "max_recommendations = utilities.generate_recommendations_df(train, n_recommendations, \"ER-CBF\")"
   ]
  },
  {
   "cell_type": "markdown",
   "id": "60c4e302",
   "metadata": {},
   "source": [
    "# Store in `SQLite` DB"
   ]
  },
  {
   "cell_type": "code",
   "execution_count": 27,
   "id": "1176d1e5",
   "metadata": {},
   "outputs": [],
   "source": [
    "engine = create_engine(\"sqlite:///recommender.db\", echo=True)"
   ]
  },
  {
   "cell_type": "code",
   "execution_count": 28,
   "id": "a54870b0",
   "metadata": {},
   "outputs": [
    {
     "name": "stdout",
     "output_type": "stream",
     "text": [
      "2021-09-22 21:19:23,288 INFO sqlalchemy.engine.Engine PRAGMA main.table_info(\"Grocery_and_Gourmet_Food\")\n",
      "2021-09-22 21:19:23,288 INFO sqlalchemy.engine.Engine [raw sql] ()\n",
      "2021-09-22 21:19:23,290 INFO sqlalchemy.engine.Engine PRAGMA temp.table_info(\"Grocery_and_Gourmet_Food\")\n",
      "2021-09-22 21:19:23,290 INFO sqlalchemy.engine.Engine [raw sql] ()\n",
      "2021-09-22 21:19:23,293 INFO sqlalchemy.engine.Engine BEGIN (implicit)\n",
      "2021-09-22 21:19:23,294 INFO sqlalchemy.engine.Engine \n",
      "CREATE TABLE \"Grocery_and_Gourmet_Food\" (\n",
      "\t\"index\" BIGINT, \n",
      "\t\"reviewerID\" TEXT, \n",
      "\titem_rank BIGINT, \n",
      "\tasin TEXT, \n",
      "\talgorithm TEXT, \n",
      "\ttitle TEXT\n",
      ")\n",
      "\n",
      "\n",
      "2021-09-22 21:19:23,294 INFO sqlalchemy.engine.Engine [no key 0.00052s] ()\n",
      "2021-09-22 21:19:23,296 INFO sqlalchemy.engine.Engine CREATE INDEX \"ix_Grocery_and_Gourmet_Food_index\" ON \"Grocery_and_Gourmet_Food\" (\"index\")\n",
      "2021-09-22 21:19:23,297 INFO sqlalchemy.engine.Engine [no key 0.00055s] ()\n",
      "2021-09-22 21:19:23,298 INFO sqlalchemy.engine.Engine COMMIT\n",
      "2021-09-22 21:19:23,479 INFO sqlalchemy.engine.Engine BEGIN (implicit)\n",
      "2021-09-22 21:19:26,770 INFO sqlalchemy.engine.Engine INSERT INTO \"Grocery_and_Gourmet_Food\" (\"index\", \"reviewerID\", item_rank, asin, algorithm, title) VALUES (?, ?, ?, ?, ?, ?)\n",
      "2021-09-22 21:19:26,770 INFO sqlalchemy.engine.Engine [generated in 2.79019s] ((0, 'A00177463W0XWB16A9O05', 0, 'B001D0IZBM', 'ER-CBF', ' Grocery &amp; Gourmet Food\" />'), (1, 'A00177463W0XWB16A9O05', 1, 'B000J4IDO2', 'ER-CBF', 'Coffee People K-Cups, Black Tiger Extra Bold, 24-Count Box (Pack of 2)'), (2, 'A00177463W0XWB16A9O05', 2, 'B005K4Q1YA', 'ER-CBF', 'Grove Square Cappuccino, French Vanilla, 24 Count Single Serve Cups'), (3, 'A00177463W0XWB16A9O05', 3, 'B001ELL67A', 'ER-CBF', ' Grocery &amp; Gourmet Food\" />'), (4, 'A00177463W0XWB16A9O05', 4, 'B000TK6LBS', 'ER-CBF', 'Caribou Coffee Caribou Blend, Keurig Single-Serve K-Cup Pods, Medium Roast Coffee, 96 Count'), (5, 'A00177463W0XWB16A9O05', 5, 'B0029XLH4Y', 'ER-CBF', 'Keurig, Coffee People, Jet Fuel, K-Cup Counts,Dark Roast Coffee 50 Count'), (6, 'A00177463W0XWB16A9O05', 6, 'B001EO5Y8Y', 'ER-CBF', 'Green Mountain Coffee, Dark Magic (Extra Bold), K-Cup Portion Pack for Keurig K-Cup Brewers 24-Count  (Pack of 2)'), (7, 'A00177463W0XWB16A9O05', 7, 'B005ZBZLT4', 'ER-CBF', 'San Francisco Bay OneCup, Fog Chaser, 12 Single Serve Coffees (Pack of 3)')  ... displaying 10 of 602865 total bound parameter sets ...  (602863, 'AZZ5ASC403N74', 43, 'B00DBSG3K4', 'ER-CBF', 'Keebler El Duende Cookies, Coconut, 11 Ounce (Pack of 12)'), (602864, 'AZZ5ASC403N74', 44, 'B0043CVIBG', 'ER-CBF', 'Oreo Mint Creme Oreo Cookie, 15.25-Ounce Package (Pack of 4)'))\n",
      "2021-09-22 21:19:28,146 INFO sqlalchemy.engine.Engine COMMIT\n",
      "2021-09-22 21:19:28,263 INFO sqlalchemy.engine.Engine SELECT name FROM sqlite_master WHERE type='table' ORDER BY name\n",
      "2021-09-22 21:19:28,264 INFO sqlalchemy.engine.Engine [raw sql] ()\n"
     ]
    }
   ],
   "source": [
    "max_recommendations.to_sql(f\"{CATEGORY}\", con=engine, if_exists=\"append\")"
   ]
  },
  {
   "cell_type": "code",
   "execution_count": null,
   "id": "6839eca3",
   "metadata": {},
   "outputs": [],
   "source": []
  }
 ],
 "metadata": {
  "kernelspec": {
   "display_name": "Python 3 (ipykernel)",
   "language": "python",
   "name": "python3"
  },
  "language_info": {
   "codemirror_mode": {
    "name": "ipython",
    "version": 3
   },
   "file_extension": ".py",
   "mimetype": "text/x-python",
   "name": "python",
   "nbconvert_exporter": "python",
   "pygments_lexer": "ipython3",
   "version": "3.9.6"
  }
 },
 "nbformat": 4,
 "nbformat_minor": 5
}
