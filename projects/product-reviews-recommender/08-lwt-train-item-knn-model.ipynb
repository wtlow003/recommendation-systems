{
 "metadata": {
  "language_info": {
   "codemirror_mode": {
    "name": "ipython",
    "version": 3
   },
   "file_extension": ".py",
   "mimetype": "text/x-python",
   "name": "python",
   "nbconvert_exporter": "python",
   "pygments_lexer": "ipython3",
   "version": "3.8.8"
  },
  "orig_nbformat": 4,
  "kernelspec": {
   "name": "python3",
   "display_name": "Python 3.8.8 64-bit ('base': conda)"
  },
  "interpreter": {
   "hash": "25ff572cf74667139a08e9b3925acace09b8544c3d9e895a2455f974072b7e88"
  }
 },
 "nbformat": 4,
 "nbformat_minor": 2,
 "cells": [
  {
   "cell_type": "code",
   "execution_count": 15,
   "metadata": {},
   "outputs": [
    {
     "output_type": "stream",
     "name": "stdout",
     "text": [
      "Requirement already satisfied: gensim in /Users/jensen/opt/anaconda3/lib/python3.8/site-packages (4.0.1)\n",
      "Requirement already satisfied: scipy>=0.18.1 in /Users/jensen/opt/anaconda3/lib/python3.8/site-packages (from gensim) (1.7.0)\n",
      "Requirement already satisfied: smart-open>=1.8.1 in /Users/jensen/opt/anaconda3/lib/python3.8/site-packages (from gensim) (5.1.0)\n",
      "Requirement already satisfied: numpy>=1.11.3 in /Users/jensen/opt/anaconda3/lib/python3.8/site-packages (from gensim) (1.21.1)\n",
      "Requirement already satisfied: pandas in /Users/jensen/opt/anaconda3/lib/python3.8/site-packages (1.3.0)\n",
      "Requirement already satisfied: pytz>=2017.3 in /Users/jensen/opt/anaconda3/lib/python3.8/site-packages (from pandas) (2021.1)\n",
      "Requirement already satisfied: python-dateutil>=2.7.3 in /Users/jensen/opt/anaconda3/lib/python3.8/site-packages (from pandas) (2.8.1)\n",
      "Requirement already satisfied: numpy>=1.17.3 in /Users/jensen/opt/anaconda3/lib/python3.8/site-packages (from pandas) (1.21.1)\n",
      "Requirement already satisfied: six>=1.5 in /Users/jensen/opt/anaconda3/lib/python3.8/site-packages (from python-dateutil>=2.7.3->pandas) (1.16.0)\n",
      "Requirement already satisfied: pandarallel in /Users/jensen/opt/anaconda3/lib/python3.8/site-packages (1.5.2)\n",
      "Requirement already satisfied: dill in /Users/jensen/opt/anaconda3/lib/python3.8/site-packages (from pandarallel) (0.3.4)\n",
      "Requirement already satisfied: numpy in /Users/jensen/opt/anaconda3/lib/python3.8/site-packages (1.21.1)\n",
      "Requirement already satisfied: tqdm in /Users/jensen/opt/anaconda3/lib/python3.8/site-packages (4.61.2)\n",
      "Requirement already satisfied: ipywidgets in /Users/jensen/opt/anaconda3/lib/python3.8/site-packages (7.6.3)\n",
      "Requirement already satisfied: ipykernel>=4.5.1 in /Users/jensen/opt/anaconda3/lib/python3.8/site-packages (from ipywidgets) (5.3.4)\n",
      "Requirement already satisfied: ipython>=4.0.0 in /Users/jensen/opt/anaconda3/lib/python3.8/site-packages (from ipywidgets) (7.22.0)\n",
      "Requirement already satisfied: traitlets>=4.3.1 in /Users/jensen/opt/anaconda3/lib/python3.8/site-packages (from ipywidgets) (5.0.5)\n",
      "Requirement already satisfied: widgetsnbextension~=3.5.0 in /Users/jensen/opt/anaconda3/lib/python3.8/site-packages (from ipywidgets) (3.5.1)\n",
      "Requirement already satisfied: jupyterlab-widgets>=1.0.0 in /Users/jensen/opt/anaconda3/lib/python3.8/site-packages (from ipywidgets) (1.0.0)\n",
      "Requirement already satisfied: nbformat>=4.2.0 in /Users/jensen/opt/anaconda3/lib/python3.8/site-packages (from ipywidgets) (5.1.3)\n",
      "Requirement already satisfied: appnope in /Users/jensen/opt/anaconda3/lib/python3.8/site-packages (from ipykernel>=4.5.1->ipywidgets) (0.1.2)\n",
      "Requirement already satisfied: jupyter-client in /Users/jensen/opt/anaconda3/lib/python3.8/site-packages (from ipykernel>=4.5.1->ipywidgets) (6.1.12)\n",
      "Requirement already satisfied: tornado>=4.2 in /Users/jensen/opt/anaconda3/lib/python3.8/site-packages (from ipykernel>=4.5.1->ipywidgets) (6.1)\n",
      "Requirement already satisfied: decorator in /Users/jensen/opt/anaconda3/lib/python3.8/site-packages (from ipython>=4.0.0->ipywidgets) (5.0.9)\n",
      "Requirement already satisfied: prompt-toolkit!=3.0.0,!=3.0.1,<3.1.0,>=2.0.0 in /Users/jensen/opt/anaconda3/lib/python3.8/site-packages (from ipython>=4.0.0->ipywidgets) (3.0.17)\n",
      "Requirement already satisfied: setuptools>=18.5 in /Users/jensen/opt/anaconda3/lib/python3.8/site-packages (from ipython>=4.0.0->ipywidgets) (52.0.0.post20210125)\n",
      "Requirement already satisfied: jedi>=0.16 in /Users/jensen/opt/anaconda3/lib/python3.8/site-packages (from ipython>=4.0.0->ipywidgets) (0.17.0)\n",
      "Requirement already satisfied: pickleshare in /Users/jensen/opt/anaconda3/lib/python3.8/site-packages (from ipython>=4.0.0->ipywidgets) (0.7.5)\n",
      "Requirement already satisfied: backcall in /Users/jensen/opt/anaconda3/lib/python3.8/site-packages (from ipython>=4.0.0->ipywidgets) (0.2.0)\n",
      "Requirement already satisfied: pexpect>4.3 in /Users/jensen/opt/anaconda3/lib/python3.8/site-packages (from ipython>=4.0.0->ipywidgets) (4.8.0)\n",
      "Requirement already satisfied: pygments in /Users/jensen/opt/anaconda3/lib/python3.8/site-packages (from ipython>=4.0.0->ipywidgets) (2.9.0)\n",
      "Requirement already satisfied: parso>=0.7.0 in /Users/jensen/opt/anaconda3/lib/python3.8/site-packages (from jedi>=0.16->ipython>=4.0.0->ipywidgets) (0.8.2)\n",
      "Requirement already satisfied: ipython-genutils in /Users/jensen/opt/anaconda3/lib/python3.8/site-packages (from nbformat>=4.2.0->ipywidgets) (0.2.0)\n",
      "Requirement already satisfied: jsonschema!=2.5.0,>=2.4 in /Users/jensen/opt/anaconda3/lib/python3.8/site-packages (from nbformat>=4.2.0->ipywidgets) (3.2.0)\n",
      "Requirement already satisfied: jupyter-core in /Users/jensen/opt/anaconda3/lib/python3.8/site-packages (from nbformat>=4.2.0->ipywidgets) (4.7.1)\n",
      "Requirement already satisfied: six>=1.11.0 in /Users/jensen/opt/anaconda3/lib/python3.8/site-packages (from jsonschema!=2.5.0,>=2.4->nbformat>=4.2.0->ipywidgets) (1.16.0)\n",
      "Requirement already satisfied: attrs>=17.4.0 in /Users/jensen/opt/anaconda3/lib/python3.8/site-packages (from jsonschema!=2.5.0,>=2.4->nbformat>=4.2.0->ipywidgets) (21.2.0)\n",
      "Requirement already satisfied: pyrsistent>=0.14.0 in /Users/jensen/opt/anaconda3/lib/python3.8/site-packages (from jsonschema!=2.5.0,>=2.4->nbformat>=4.2.0->ipywidgets) (0.18.0)\n",
      "Requirement already satisfied: ptyprocess>=0.5 in /Users/jensen/opt/anaconda3/lib/python3.8/site-packages (from pexpect>4.3->ipython>=4.0.0->ipywidgets) (0.7.0)\n",
      "Requirement already satisfied: wcwidth in /Users/jensen/opt/anaconda3/lib/python3.8/site-packages (from prompt-toolkit!=3.0.0,!=3.0.1,<3.1.0,>=2.0.0->ipython>=4.0.0->ipywidgets) (0.2.5)\n",
      "Requirement already satisfied: notebook>=4.4.1 in /Users/jensen/opt/anaconda3/lib/python3.8/site-packages (from widgetsnbextension~=3.5.0->ipywidgets) (6.4.0)\n",
      "Requirement already satisfied: nbconvert in /Users/jensen/opt/anaconda3/lib/python3.8/site-packages (from notebook>=4.4.1->widgetsnbextension~=3.5.0->ipywidgets) (6.1.0)\n",
      "Requirement already satisfied: pyzmq>=17 in /Users/jensen/opt/anaconda3/lib/python3.8/site-packages (from notebook>=4.4.1->widgetsnbextension~=3.5.0->ipywidgets) (20.0.0)\n",
      "Requirement already satisfied: argon2-cffi in /Users/jensen/opt/anaconda3/lib/python3.8/site-packages (from notebook>=4.4.1->widgetsnbextension~=3.5.0->ipywidgets) (20.1.0)\n",
      "Requirement already satisfied: Send2Trash>=1.5.0 in /Users/jensen/opt/anaconda3/lib/python3.8/site-packages (from notebook>=4.4.1->widgetsnbextension~=3.5.0->ipywidgets) (1.7.1)\n",
      "Requirement already satisfied: jinja2 in /Users/jensen/opt/anaconda3/lib/python3.8/site-packages (from notebook>=4.4.1->widgetsnbextension~=3.5.0->ipywidgets) (3.0.1)\n",
      "Requirement already satisfied: prometheus-client in /Users/jensen/opt/anaconda3/lib/python3.8/site-packages (from notebook>=4.4.1->widgetsnbextension~=3.5.0->ipywidgets) (0.11.0)\n",
      "Requirement already satisfied: terminado>=0.8.3 in /Users/jensen/opt/anaconda3/lib/python3.8/site-packages (from notebook>=4.4.1->widgetsnbextension~=3.5.0->ipywidgets) (0.10.1)\n",
      "Requirement already satisfied: python-dateutil>=2.1 in /Users/jensen/opt/anaconda3/lib/python3.8/site-packages (from jupyter-client->ipykernel>=4.5.1->ipywidgets) (2.8.1)\n",
      "Requirement already satisfied: cffi>=1.0.0 in /Users/jensen/opt/anaconda3/lib/python3.8/site-packages (from argon2-cffi->notebook>=4.4.1->widgetsnbextension~=3.5.0->ipywidgets) (1.14.6)\n",
      "Requirement already satisfied: pycparser in /Users/jensen/opt/anaconda3/lib/python3.8/site-packages (from cffi>=1.0.0->argon2-cffi->notebook>=4.4.1->widgetsnbextension~=3.5.0->ipywidgets) (2.20)\n",
      "Requirement already satisfied: MarkupSafe>=2.0 in /Users/jensen/opt/anaconda3/lib/python3.8/site-packages (from jinja2->notebook>=4.4.1->widgetsnbextension~=3.5.0->ipywidgets) (2.0.1)\n",
      "Requirement already satisfied: pandocfilters>=1.4.1 in /Users/jensen/opt/anaconda3/lib/python3.8/site-packages (from nbconvert->notebook>=4.4.1->widgetsnbextension~=3.5.0->ipywidgets) (1.4.3)\n",
      "Requirement already satisfied: entrypoints>=0.2.2 in /Users/jensen/opt/anaconda3/lib/python3.8/site-packages (from nbconvert->notebook>=4.4.1->widgetsnbextension~=3.5.0->ipywidgets) (0.3)\n",
      "Requirement already satisfied: testpath in /Users/jensen/opt/anaconda3/lib/python3.8/site-packages (from nbconvert->notebook>=4.4.1->widgetsnbextension~=3.5.0->ipywidgets) (0.5.0)\n",
      "Requirement already satisfied: mistune<2,>=0.8.1 in /Users/jensen/opt/anaconda3/lib/python3.8/site-packages (from nbconvert->notebook>=4.4.1->widgetsnbextension~=3.5.0->ipywidgets) (0.8.4)\n",
      "Requirement already satisfied: nbclient<0.6.0,>=0.5.0 in /Users/jensen/opt/anaconda3/lib/python3.8/site-packages (from nbconvert->notebook>=4.4.1->widgetsnbextension~=3.5.0->ipywidgets) (0.5.3)\n",
      "Requirement already satisfied: bleach in /Users/jensen/opt/anaconda3/lib/python3.8/site-packages (from nbconvert->notebook>=4.4.1->widgetsnbextension~=3.5.0->ipywidgets) (3.3.1)\n",
      "Requirement already satisfied: jupyterlab-pygments in /Users/jensen/opt/anaconda3/lib/python3.8/site-packages (from nbconvert->notebook>=4.4.1->widgetsnbextension~=3.5.0->ipywidgets) (0.1.2)\n",
      "Requirement already satisfied: defusedxml in /Users/jensen/opt/anaconda3/lib/python3.8/site-packages (from nbconvert->notebook>=4.4.1->widgetsnbextension~=3.5.0->ipywidgets) (0.7.1)\n",
      "Requirement already satisfied: nest-asyncio in /Users/jensen/opt/anaconda3/lib/python3.8/site-packages (from nbclient<0.6.0,>=0.5.0->nbconvert->notebook>=4.4.1->widgetsnbextension~=3.5.0->ipywidgets) (1.5.1)\n",
      "Requirement already satisfied: async-generator in /Users/jensen/opt/anaconda3/lib/python3.8/site-packages (from nbclient<0.6.0,>=0.5.0->nbconvert->notebook>=4.4.1->widgetsnbextension~=3.5.0->ipywidgets) (1.10)\n",
      "Requirement already satisfied: packaging in /Users/jensen/opt/anaconda3/lib/python3.8/site-packages (from bleach->nbconvert->notebook>=4.4.1->widgetsnbextension~=3.5.0->ipywidgets) (21.0)\n",
      "Requirement already satisfied: webencodings in /Users/jensen/opt/anaconda3/lib/python3.8/site-packages (from bleach->nbconvert->notebook>=4.4.1->widgetsnbextension~=3.5.0->ipywidgets) (0.5.1)\n",
      "Requirement already satisfied: pyparsing>=2.0.2 in /Users/jensen/opt/anaconda3/lib/python3.8/site-packages (from packaging->bleach->nbconvert->notebook>=4.4.1->widgetsnbextension~=3.5.0->ipywidgets) (2.4.7)\n",
      "Collecting scikit-learn\n",
      "  Downloading scikit_learn-0.24.2-cp38-cp38-macosx_10_13_x86_64.whl (7.2 MB)\n",
      "\u001b[K     |████████████████████████████████| 7.2 MB 6.4 MB/s \n",
      "\u001b[?25hCollecting threadpoolctl>=2.0.0\n",
      "  Downloading threadpoolctl-2.2.0-py3-none-any.whl (12 kB)\n",
      "Requirement already satisfied: numpy>=1.13.3 in /Users/jensen/opt/anaconda3/lib/python3.8/site-packages (from scikit-learn) (1.21.1)\n",
      "Collecting joblib>=0.11\n",
      "  Using cached joblib-1.0.1-py3-none-any.whl (303 kB)\n",
      "Requirement already satisfied: scipy>=0.19.1 in /Users/jensen/opt/anaconda3/lib/python3.8/site-packages (from scikit-learn) (1.7.0)\n",
      "Installing collected packages: threadpoolctl, joblib, scikit-learn\n",
      "Successfully installed joblib-1.0.1 scikit-learn-0.24.2 threadpoolctl-2.2.0\n"
     ]
    }
   ],
   "source": [
    "!pip install gensim\n",
    "!pip install pandas\n",
    "!pip install pandarallel\n",
    "!pip install numpy\n",
    "!pip install tqdm\n",
    "!pip install ipywidgets\n",
    "!pip install scikit-learn"
   ]
  },
  {
   "cell_type": "code",
   "execution_count": 34,
   "metadata": {},
   "outputs": [
    {
     "output_type": "stream",
     "name": "stdout",
     "text": [
      "INFO: Pandarallel will run on 8 workers.\nINFO: Pandarallel will use standard multiprocessing data transfer (pipe) to transfer data between the main process and workers.\n"
     ]
    }
   ],
   "source": [
    "import logging\n",
    "import numpy as np\n",
    "import pandas as pd\n",
    "import warnings\n",
    "\n",
    "from pandarallel import pandarallel\n",
    "from pathlib import Path\n",
    "from pprint import pprint\n",
    "from scipy.sparse import csr_matrix\n",
    "from sklearn.neighbors import NearestNeighbors\n",
    "from src.features import preprocessing \n",
    "from tqdm import tqdm\n",
    "\n",
    "pandarallel.initialize(progress_bar=True)\n",
    "tqdm.pandas()\n",
    "warnings.filterwarnings('ignore')"
   ]
  },
  {
   "source": [
    "## 1. Load data"
   ],
   "cell_type": "markdown",
   "metadata": {}
  },
  {
   "cell_type": "code",
   "execution_count": 3,
   "metadata": {},
   "outputs": [],
   "source": [
    "# global variables\n",
    "DATA_PATH = Path('data/processed/')\n",
    "CATEGORY = 'Clothing_Shoes_and_Jewelry'\n",
    "\n",
    "train = pd.read_csv(f\"{DATA_PATH}/{CATEGORY}_train.csv\")\n",
    "test = pd.read_csv(f\"{DATA_PATH}/{CATEGORY}_test.csv\")"
   ]
  },
  {
   "cell_type": "code",
   "execution_count": 4,
   "metadata": {},
   "outputs": [
    {
     "output_type": "stream",
     "name": "stdout",
     "text": [
      "Train: (231491, 5), unique users: 39387, unique items: 23033\nTest: (47145, 5), unique users: 39380, unique items: 17949\n"
     ]
    }
   ],
   "source": [
    "print(f\"Train: {train.shape}, unique users: {train.reviewerID.nunique()}, unique items: {train.asin.nunique()}\")\n",
    "print(f\"Test: {test.shape}, unique users: {test.reviewerID.nunique()}, unique items: {test.asin.nunique()}\")"
   ]
  },
  {
   "cell_type": "code",
   "execution_count": 5,
   "metadata": {},
   "outputs": [
    {
     "output_type": "execute_result",
     "data": {
      "text/plain": [
       "        overall      reviewerID        asin  \\\n",
       "0           5.0  A1KLRMWW2FWPL4  0000031887   \n",
       "1           5.0  A2G5TCU2WDFZ65  0000031887   \n",
       "2           5.0  A1RLQXYNCMWRWN  0000031887   \n",
       "3           4.0   A27UF1MSF3DB2  0000031887   \n",
       "4           5.0  A16GFPNVF4Y816  0000031887   \n",
       "231486      5.0   ACJT8MUC0LRF0  B00KKXCJQU   \n",
       "231487      5.0  A2DG63DN704LOI  B00KKXCJQU   \n",
       "231488      5.0  A1UQBFCERIP7VJ  B00KKXCJQU   \n",
       "231489      5.0  A22CW0ZHY3NJH8  B00KKXCJQU   \n",
       "231490      5.0  A30VWT3R25QAVD  B00KKXCJQU   \n",
       "\n",
       "                                               reviewText  \\\n",
       "0       This is a great tutu and at a really great pri...   \n",
       "1       I bought this for my 4 yr old daughter for dan...   \n",
       "2       What can I say... my daughters have it in oran...   \n",
       "3       I received this today and I'm not a fan of it ...   \n",
       "4       Bought this as a backup to the regular ballet ...   \n",
       "231486  When I pack it looks like a disaster area in a...   \n",
       "231487  I don't normally go ga-ga over a product very ...   \n",
       "231488  These are very nice packing cubes and the 18 x...   \n",
       "231489  I am on vacation with my family of four and th...   \n",
       "231490  When I signed up to receive a free set of Shac...   \n",
       "\n",
       "                                      processedReviewText  \n",
       "0       this great tutu great price it look cheap glad...  \n",
       "1       buy yr old daughter dance class wore today tim...  \n",
       "2       what daughters orange black white pink think b...  \n",
       "3       receive today fan daughter think puffier look ...  \n",
       "4       bought backup regular ballet outfit daughter w...  \n",
       "231486  when pack look like disaster area suitcase pac...  \n",
       "231487  normally ga ga product cub awesome help review...  \n",
       "231488  these nice packing cube laundry storage bag ni...  \n",
       "231489  vacation family shacke pak set wonderful excep...  \n",
       "231490  when sign receive free set shacke pak review t...  "
      ],
      "text/html": "<div>\n<style scoped>\n    .dataframe tbody tr th:only-of-type {\n        vertical-align: middle;\n    }\n\n    .dataframe tbody tr th {\n        vertical-align: top;\n    }\n\n    .dataframe thead th {\n        text-align: right;\n    }\n</style>\n<table border=\"1\" class=\"dataframe\">\n  <thead>\n    <tr style=\"text-align: right;\">\n      <th></th>\n      <th>overall</th>\n      <th>reviewerID</th>\n      <th>asin</th>\n      <th>reviewText</th>\n      <th>processedReviewText</th>\n    </tr>\n  </thead>\n  <tbody>\n    <tr>\n      <th>0</th>\n      <td>5.0</td>\n      <td>A1KLRMWW2FWPL4</td>\n      <td>0000031887</td>\n      <td>This is a great tutu and at a really great pri...</td>\n      <td>this great tutu great price it look cheap glad...</td>\n    </tr>\n    <tr>\n      <th>1</th>\n      <td>5.0</td>\n      <td>A2G5TCU2WDFZ65</td>\n      <td>0000031887</td>\n      <td>I bought this for my 4 yr old daughter for dan...</td>\n      <td>buy yr old daughter dance class wore today tim...</td>\n    </tr>\n    <tr>\n      <th>2</th>\n      <td>5.0</td>\n      <td>A1RLQXYNCMWRWN</td>\n      <td>0000031887</td>\n      <td>What can I say... my daughters have it in oran...</td>\n      <td>what daughters orange black white pink think b...</td>\n    </tr>\n    <tr>\n      <th>3</th>\n      <td>4.0</td>\n      <td>A27UF1MSF3DB2</td>\n      <td>0000031887</td>\n      <td>I received this today and I'm not a fan of it ...</td>\n      <td>receive today fan daughter think puffier look ...</td>\n    </tr>\n    <tr>\n      <th>4</th>\n      <td>5.0</td>\n      <td>A16GFPNVF4Y816</td>\n      <td>0000031887</td>\n      <td>Bought this as a backup to the regular ballet ...</td>\n      <td>bought backup regular ballet outfit daughter w...</td>\n    </tr>\n    <tr>\n      <th>231486</th>\n      <td>5.0</td>\n      <td>ACJT8MUC0LRF0</td>\n      <td>B00KKXCJQU</td>\n      <td>When I pack it looks like a disaster area in a...</td>\n      <td>when pack look like disaster area suitcase pac...</td>\n    </tr>\n    <tr>\n      <th>231487</th>\n      <td>5.0</td>\n      <td>A2DG63DN704LOI</td>\n      <td>B00KKXCJQU</td>\n      <td>I don't normally go ga-ga over a product very ...</td>\n      <td>normally ga ga product cub awesome help review...</td>\n    </tr>\n    <tr>\n      <th>231488</th>\n      <td>5.0</td>\n      <td>A1UQBFCERIP7VJ</td>\n      <td>B00KKXCJQU</td>\n      <td>These are very nice packing cubes and the 18 x...</td>\n      <td>these nice packing cube laundry storage bag ni...</td>\n    </tr>\n    <tr>\n      <th>231489</th>\n      <td>5.0</td>\n      <td>A22CW0ZHY3NJH8</td>\n      <td>B00KKXCJQU</td>\n      <td>I am on vacation with my family of four and th...</td>\n      <td>vacation family shacke pak set wonderful excep...</td>\n    </tr>\n    <tr>\n      <th>231490</th>\n      <td>5.0</td>\n      <td>A30VWT3R25QAVD</td>\n      <td>B00KKXCJQU</td>\n      <td>When I signed up to receive a free set of Shac...</td>\n      <td>when sign receive free set shacke pak review t...</td>\n    </tr>\n  </tbody>\n</table>\n</div>"
     },
     "metadata": {},
     "execution_count": 5
    }
   ],
   "source": [
    "# check train\n",
    "train.head().append(train.tail())"
   ]
  },
  {
   "cell_type": "code",
   "execution_count": 6,
   "metadata": {},
   "outputs": [
    {
     "output_type": "execute_result",
     "data": {
      "text/plain": [
       "       overall      reviewerID        asin  \\\n",
       "0          5.0   A8U3FAMSJVHS5  0000031887   \n",
       "1          5.0  A3GEOILWLK86XM  0000031887   \n",
       "2          5.0  A2A2WZYLU528RO  0000031887   \n",
       "3          5.0  A34ATJR9KFIXL9  0000031887   \n",
       "4          5.0  A1MXJVYXE2QU6H  0000031887   \n",
       "47140      5.0  A2XX2A4OJCDNLZ  B00KF9180W   \n",
       "47141      2.0  A34BZM6S9L7QI4  B00KGCLROK   \n",
       "47142      5.0  A25C2M3QF9G7OQ  B00KGCLROK   \n",
       "47143      5.0   AEL6CQNQXONBX  B00KKXCJQU   \n",
       "47144      5.0  A1EVV74UQYVKRY  B00KKXCJQU   \n",
       "\n",
       "                                              reviewText  \\\n",
       "0      We bought several tutus at once, and they are ...   \n",
       "1      Thank you Halo Heaven great product for Little...   \n",
       "2      My daughter has worn this skirt almost every d...   \n",
       "3      Full and well stitched.  This tutu is a beauti...   \n",
       "4      Perfect for my budding grand daughter ballerin...   \n",
       "47140  While balaclavas can be used for a variety of ...   \n",
       "47141  These were a free sample for review.  I was ex...   \n",
       "47142  These socks are very nicely made and quite com...   \n",
       "47143  This set of travel organizers includes four pi...   \n",
       "47144  I've been traveling back and forth to England ...   \n",
       "\n",
       "                                     processedReviewText  \n",
       "0      we buy tutu get high review sturdy seemingly t...  \n",
       "1      thank halo heaven great product little girls m...  \n",
       "2      my daughter worn skirt day receive washer clot...  \n",
       "3      full stitch this tutu beautiful purple color l...  \n",
       "4      perfect bud grand daughter ballerina beautiful...  \n",
       "47140  while balaclavas variety thing use mainly late...  \n",
       "47141  these free sample review excite try unfortunat...  \n",
       "47142  these sock nicely comfortable wear the grip do...  \n",
       "47143  this set travel organizer include piece total ...  \n",
       "47144  travel forth england pack way suitcases some p...  "
      ],
      "text/html": "<div>\n<style scoped>\n    .dataframe tbody tr th:only-of-type {\n        vertical-align: middle;\n    }\n\n    .dataframe tbody tr th {\n        vertical-align: top;\n    }\n\n    .dataframe thead th {\n        text-align: right;\n    }\n</style>\n<table border=\"1\" class=\"dataframe\">\n  <thead>\n    <tr style=\"text-align: right;\">\n      <th></th>\n      <th>overall</th>\n      <th>reviewerID</th>\n      <th>asin</th>\n      <th>reviewText</th>\n      <th>processedReviewText</th>\n    </tr>\n  </thead>\n  <tbody>\n    <tr>\n      <th>0</th>\n      <td>5.0</td>\n      <td>A8U3FAMSJVHS5</td>\n      <td>0000031887</td>\n      <td>We bought several tutus at once, and they are ...</td>\n      <td>we buy tutu get high review sturdy seemingly t...</td>\n    </tr>\n    <tr>\n      <th>1</th>\n      <td>5.0</td>\n      <td>A3GEOILWLK86XM</td>\n      <td>0000031887</td>\n      <td>Thank you Halo Heaven great product for Little...</td>\n      <td>thank halo heaven great product little girls m...</td>\n    </tr>\n    <tr>\n      <th>2</th>\n      <td>5.0</td>\n      <td>A2A2WZYLU528RO</td>\n      <td>0000031887</td>\n      <td>My daughter has worn this skirt almost every d...</td>\n      <td>my daughter worn skirt day receive washer clot...</td>\n    </tr>\n    <tr>\n      <th>3</th>\n      <td>5.0</td>\n      <td>A34ATJR9KFIXL9</td>\n      <td>0000031887</td>\n      <td>Full and well stitched.  This tutu is a beauti...</td>\n      <td>full stitch this tutu beautiful purple color l...</td>\n    </tr>\n    <tr>\n      <th>4</th>\n      <td>5.0</td>\n      <td>A1MXJVYXE2QU6H</td>\n      <td>0000031887</td>\n      <td>Perfect for my budding grand daughter ballerin...</td>\n      <td>perfect bud grand daughter ballerina beautiful...</td>\n    </tr>\n    <tr>\n      <th>47140</th>\n      <td>5.0</td>\n      <td>A2XX2A4OJCDNLZ</td>\n      <td>B00KF9180W</td>\n      <td>While balaclavas can be used for a variety of ...</td>\n      <td>while balaclavas variety thing use mainly late...</td>\n    </tr>\n    <tr>\n      <th>47141</th>\n      <td>2.0</td>\n      <td>A34BZM6S9L7QI4</td>\n      <td>B00KGCLROK</td>\n      <td>These were a free sample for review.  I was ex...</td>\n      <td>these free sample review excite try unfortunat...</td>\n    </tr>\n    <tr>\n      <th>47142</th>\n      <td>5.0</td>\n      <td>A25C2M3QF9G7OQ</td>\n      <td>B00KGCLROK</td>\n      <td>These socks are very nicely made and quite com...</td>\n      <td>these sock nicely comfortable wear the grip do...</td>\n    </tr>\n    <tr>\n      <th>47143</th>\n      <td>5.0</td>\n      <td>AEL6CQNQXONBX</td>\n      <td>B00KKXCJQU</td>\n      <td>This set of travel organizers includes four pi...</td>\n      <td>this set travel organizer include piece total ...</td>\n    </tr>\n    <tr>\n      <th>47144</th>\n      <td>5.0</td>\n      <td>A1EVV74UQYVKRY</td>\n      <td>B00KKXCJQU</td>\n      <td>I've been traveling back and forth to England ...</td>\n      <td>travel forth england pack way suitcases some p...</td>\n    </tr>\n  </tbody>\n</table>\n</div>"
     },
     "metadata": {},
     "execution_count": 6
    }
   ],
   "source": [
    "# check test\n",
    "test.head().append(test.tail())"
   ]
  },
  {
   "source": [
    "## 2. Preparing data for `Item-KNN` model"
   ],
   "cell_type": "markdown",
   "metadata": {}
  },
  {
   "cell_type": "code",
   "execution_count": 21,
   "metadata": {},
   "outputs": [
    {
     "output_type": "execute_result",
     "data": {
      "text/plain": [
       "asin                   0000031887  0123456479  1608299953  1617160377  \\\n",
       "reviewerID                                                              \n",
       "A001114613O3F18Q5NVR6         0.0         0.0         0.0         0.0   \n",
       "A00146182PNM90WNNAZ5Q         0.0         0.0         0.0         0.0   \n",
       "A00165422B2GAUE3EL6Z0         0.0         0.0         0.0         0.0   \n",
       "A00338282E99B8OR2JYTZ         0.0         0.0         0.0         0.0   \n",
       "A00354001GE099Q1FL0TU         0.0         0.0         0.0         0.0   \n",
       "\n",
       "asin                   B00001W0KA  B00001WRHJ  B00004SR8W  B00004SR8Z  \\\n",
       "reviewerID                                                              \n",
       "A001114613O3F18Q5NVR6         0.0         0.0         0.0         0.0   \n",
       "A00146182PNM90WNNAZ5Q         0.0         0.0         0.0         0.0   \n",
       "A00165422B2GAUE3EL6Z0         0.0         0.0         0.0         0.0   \n",
       "A00338282E99B8OR2JYTZ         0.0         0.0         0.0         0.0   \n",
       "A00354001GE099Q1FL0TU         0.0         0.0         0.0         0.0   \n",
       "\n",
       "asin                   B00004SR9P  B00004U1J2  ...  B00K0BPFY0  B00K551QR6  \\\n",
       "reviewerID                                     ...                           \n",
       "A001114613O3F18Q5NVR6         0.0         0.0  ...         0.0         0.0   \n",
       "A00146182PNM90WNNAZ5Q         0.0         0.0  ...         0.0         0.0   \n",
       "A00165422B2GAUE3EL6Z0         0.0         0.0  ...         0.0         0.0   \n",
       "A00338282E99B8OR2JYTZ         0.0         0.0  ...         0.0         0.0   \n",
       "A00354001GE099Q1FL0TU         0.0         0.0  ...         0.0         0.0   \n",
       "\n",
       "asin                   B00K5T4NHC  B00K8J06CK  B00KA2X4QK  B00KA602SY  \\\n",
       "reviewerID                                                              \n",
       "A001114613O3F18Q5NVR6         0.0         0.0         0.0         0.0   \n",
       "A00146182PNM90WNNAZ5Q         0.0         0.0         0.0         0.0   \n",
       "A00165422B2GAUE3EL6Z0         0.0         0.0         0.0         0.0   \n",
       "A00338282E99B8OR2JYTZ         0.0         0.0         0.0         0.0   \n",
       "A00354001GE099Q1FL0TU         0.0         0.0         0.0         0.0   \n",
       "\n",
       "asin                   B00KCWMG5S  B00KF9180W  B00KGCLROK  B00KKXCJQU  \n",
       "reviewerID                                                             \n",
       "A001114613O3F18Q5NVR6         0.0         0.0         0.0         0.0  \n",
       "A00146182PNM90WNNAZ5Q         0.0         0.0         0.0         0.0  \n",
       "A00165422B2GAUE3EL6Z0         0.0         0.0         0.0         0.0  \n",
       "A00338282E99B8OR2JYTZ         0.0         0.0         0.0         0.0  \n",
       "A00354001GE099Q1FL0TU         0.0         0.0         0.0         0.0  \n",
       "\n",
       "[5 rows x 23033 columns]"
      ],
      "text/html": "<div>\n<style scoped>\n    .dataframe tbody tr th:only-of-type {\n        vertical-align: middle;\n    }\n\n    .dataframe tbody tr th {\n        vertical-align: top;\n    }\n\n    .dataframe thead th {\n        text-align: right;\n    }\n</style>\n<table border=\"1\" class=\"dataframe\">\n  <thead>\n    <tr style=\"text-align: right;\">\n      <th>asin</th>\n      <th>0000031887</th>\n      <th>0123456479</th>\n      <th>1608299953</th>\n      <th>1617160377</th>\n      <th>B00001W0KA</th>\n      <th>B00001WRHJ</th>\n      <th>B00004SR8W</th>\n      <th>B00004SR8Z</th>\n      <th>B00004SR9P</th>\n      <th>B00004U1J2</th>\n      <th>...</th>\n      <th>B00K0BPFY0</th>\n      <th>B00K551QR6</th>\n      <th>B00K5T4NHC</th>\n      <th>B00K8J06CK</th>\n      <th>B00KA2X4QK</th>\n      <th>B00KA602SY</th>\n      <th>B00KCWMG5S</th>\n      <th>B00KF9180W</th>\n      <th>B00KGCLROK</th>\n      <th>B00KKXCJQU</th>\n    </tr>\n    <tr>\n      <th>reviewerID</th>\n      <th></th>\n      <th></th>\n      <th></th>\n      <th></th>\n      <th></th>\n      <th></th>\n      <th></th>\n      <th></th>\n      <th></th>\n      <th></th>\n      <th></th>\n      <th></th>\n      <th></th>\n      <th></th>\n      <th></th>\n      <th></th>\n      <th></th>\n      <th></th>\n      <th></th>\n      <th></th>\n      <th></th>\n    </tr>\n  </thead>\n  <tbody>\n    <tr>\n      <th>A001114613O3F18Q5NVR6</th>\n      <td>0.0</td>\n      <td>0.0</td>\n      <td>0.0</td>\n      <td>0.0</td>\n      <td>0.0</td>\n      <td>0.0</td>\n      <td>0.0</td>\n      <td>0.0</td>\n      <td>0.0</td>\n      <td>0.0</td>\n      <td>...</td>\n      <td>0.0</td>\n      <td>0.0</td>\n      <td>0.0</td>\n      <td>0.0</td>\n      <td>0.0</td>\n      <td>0.0</td>\n      <td>0.0</td>\n      <td>0.0</td>\n      <td>0.0</td>\n      <td>0.0</td>\n    </tr>\n    <tr>\n      <th>A00146182PNM90WNNAZ5Q</th>\n      <td>0.0</td>\n      <td>0.0</td>\n      <td>0.0</td>\n      <td>0.0</td>\n      <td>0.0</td>\n      <td>0.0</td>\n      <td>0.0</td>\n      <td>0.0</td>\n      <td>0.0</td>\n      <td>0.0</td>\n      <td>...</td>\n      <td>0.0</td>\n      <td>0.0</td>\n      <td>0.0</td>\n      <td>0.0</td>\n      <td>0.0</td>\n      <td>0.0</td>\n      <td>0.0</td>\n      <td>0.0</td>\n      <td>0.0</td>\n      <td>0.0</td>\n    </tr>\n    <tr>\n      <th>A00165422B2GAUE3EL6Z0</th>\n      <td>0.0</td>\n      <td>0.0</td>\n      <td>0.0</td>\n      <td>0.0</td>\n      <td>0.0</td>\n      <td>0.0</td>\n      <td>0.0</td>\n      <td>0.0</td>\n      <td>0.0</td>\n      <td>0.0</td>\n      <td>...</td>\n      <td>0.0</td>\n      <td>0.0</td>\n      <td>0.0</td>\n      <td>0.0</td>\n      <td>0.0</td>\n      <td>0.0</td>\n      <td>0.0</td>\n      <td>0.0</td>\n      <td>0.0</td>\n      <td>0.0</td>\n    </tr>\n    <tr>\n      <th>A00338282E99B8OR2JYTZ</th>\n      <td>0.0</td>\n      <td>0.0</td>\n      <td>0.0</td>\n      <td>0.0</td>\n      <td>0.0</td>\n      <td>0.0</td>\n      <td>0.0</td>\n      <td>0.0</td>\n      <td>0.0</td>\n      <td>0.0</td>\n      <td>...</td>\n      <td>0.0</td>\n      <td>0.0</td>\n      <td>0.0</td>\n      <td>0.0</td>\n      <td>0.0</td>\n      <td>0.0</td>\n      <td>0.0</td>\n      <td>0.0</td>\n      <td>0.0</td>\n      <td>0.0</td>\n    </tr>\n    <tr>\n      <th>A00354001GE099Q1FL0TU</th>\n      <td>0.0</td>\n      <td>0.0</td>\n      <td>0.0</td>\n      <td>0.0</td>\n      <td>0.0</td>\n      <td>0.0</td>\n      <td>0.0</td>\n      <td>0.0</td>\n      <td>0.0</td>\n      <td>0.0</td>\n      <td>...</td>\n      <td>0.0</td>\n      <td>0.0</td>\n      <td>0.0</td>\n      <td>0.0</td>\n      <td>0.0</td>\n      <td>0.0</td>\n      <td>0.0</td>\n      <td>0.0</td>\n      <td>0.0</td>\n      <td>0.0</td>\n    </tr>\n  </tbody>\n</table>\n<p>5 rows × 23033 columns</p>\n</div>"
     },
     "metadata": {},
     "execution_count": 21
    }
   ],
   "source": [
    "# creating a pivot matrix\n",
    "user_item_matrix_df = train.pivot_table(index='reviewerID', columns='asin', values='overall').fillna(0.0)\n",
    "\n",
    "# checking the first 5 rows\n",
    "user_item_matrix_df.head()"
   ]
  },
  {
   "source": [
    "### 2.1 Creating sparse matrix"
   ],
   "cell_type": "markdown",
   "metadata": {}
  },
  {
   "cell_type": "code",
   "execution_count": 10,
   "metadata": {},
   "outputs": [],
   "source": [
    "user_item_matrix = csr_matrix(user_item_matrix_df.values)"
   ]
  },
  {
   "cell_type": "code",
   "execution_count": 13,
   "metadata": {},
   "outputs": [
    {
     "output_type": "stream",
     "name": "stdout",
     "text": [
      "User-Item Matrix: (39387, 23033)\n"
     ]
    }
   ],
   "source": [
    "print(f\"User-Item Matrix: {user_item_matrix.shape}\")"
   ]
  },
  {
   "source": [
    "### 2.2 Training a KNN model"
   ],
   "cell_type": "markdown",
   "metadata": {}
  },
  {
   "cell_type": "code",
   "execution_count": 19,
   "metadata": {},
   "outputs": [
    {
     "output_type": "execute_result",
     "data": {
      "text/plain": [
       "NearestNeighbors(algorithm='brute', metric='cosine', n_neighbors=10)"
      ]
     },
     "metadata": {},
     "execution_count": 19
    }
   ],
   "source": [
    "# instantiating model\n",
    "model = NearestNeighbors(metric='cosine', algorithm='brute', n_neighbors=10)\n",
    "# fitting model to data\n",
    "model.fit(user_item_matrix)"
   ]
  },
  {
   "source": [
    "### 2.3 Evaluating model queries"
   ],
   "cell_type": "markdown",
   "metadata": {}
  },
  {
   "cell_type": "code",
   "execution_count": 24,
   "metadata": {},
   "outputs": [
    {
     "output_type": "stream",
     "name": "stdout",
     "text": [
      "Query index: 1573...\n"
     ]
    }
   ],
   "source": [
    "query_index = np.random.choice(user_item_matrix_df.shape[0])\n",
    "print(f\"Query index: {query_index}...\")\n",
    "\n",
    "distances, indices = model.kneighbors(user_item_matrix_df.iloc[query_index,:].values.reshape(1, -1), n_neighbors=10)"
   ]
  },
  {
   "source": [
    "## 3. Generating recommendations"
   ],
   "cell_type": "markdown",
   "metadata": {}
  },
  {
   "cell_type": "code",
   "execution_count": 31,
   "metadata": {},
   "outputs": [
    {
     "output_type": "stream",
     "name": "stdout",
     "text": [
      "Recommendation for A15JPYV0L19RF...\n\n1: A3ID3ZGPOA1LJ7, with a distance of 0.68107\n2: AY8GWRA0LQTAB, with a distance of 0.71873\n3: A1AFY8WLHKC20T, with a distance of 0.74842\n4: A1VN1E366B3PUS, with a distance of 0.79035\n5: A1MXJVANURX26J, with a distance of 0.79264\n6: A394HK1TR2GV9P, with a distance of 0.79797\n7: A15BCH9AYL7PD5, with a distance of 0.80415\n8: APOXJ8I6412IR, with a distance of 0.80497\n9: A3CHCNPBZJSTFE, with a distance of 0.80642\n"
     ]
    }
   ],
   "source": [
    "similar_users = []\n",
    "\n",
    "for i in range(0, len(distances.flatten())):\n",
    "    if i == 0:\n",
    "        print(f\"Recommendation for {user_item_matrix_df.index[query_index]}...\\n\")\n",
    "    else:\n",
    "        print(f'{i}: {user_item_matrix_df.index[indices.flatten()[i]]}, with a distance of {distances.flatten()[i]:.5f}')\n",
    "        similar_users.append(user_item_matrix_df.index[indices.flatten()[i]])"
   ]
  },
  {
   "cell_type": "code",
   "execution_count": 40,
   "metadata": {},
   "outputs": [
    {
     "output_type": "stream",
     "name": "stdout",
     "text": [
      "             asin  rating_average  count  rating_weighted\n0      0000031887        4.500000     18         4.402917\n1      0123456479        4.200000      5         4.230287\n2      1608299953        4.200000     10         4.223076\n3      1617160377        4.538462     13         4.403525\n4      B00001W0KA        4.714286      7         4.426922\n...           ...             ...    ...              ...\n23028  B00KA602SY        3.833333      6         4.099094\n23029  B00KCWMG5S        2.500000      4         3.778973\n23030  B00KF9180W        4.714286      7         4.426922\n23031  B00KGCLROK        5.000000      3         4.406043\n23032  B00KKXCJQU        5.000000      7         4.538033\n\n[23033 rows x 4 columns]\n"
     ]
    }
   ],
   "source": [
    "# computing weighted average\n",
    "product_metrics = train.groupby(['asin']).agg({'overall': np.mean, 'reviewerID': 'count'}).rename(columns={'overall': 'rating_average', 'reviewerID': 'count'}).reset_index()\n",
    "product_metrics = preprocessing.compute_weighted_ratings(product_metrics, 'count', 'rating_average')\n",
    "\n",
    "# check dataframe\n",
    "pprint(product_metrics)"
   ]
  },
  {
   "cell_type": "code",
   "execution_count": 41,
   "metadata": {},
   "outputs": [
    {
     "output_type": "execute_result",
     "data": {
      "text/plain": [
       "   overall      reviewerID        asin  \\\n",
       "0      5.0  A1KLRMWW2FWPL4  0000031887   \n",
       "1      5.0  A2G5TCU2WDFZ65  0000031887   \n",
       "2      5.0  A1RLQXYNCMWRWN  0000031887   \n",
       "3      4.0   A27UF1MSF3DB2  0000031887   \n",
       "4      5.0  A16GFPNVF4Y816  0000031887   \n",
       "\n",
       "                                          reviewText  \\\n",
       "0  This is a great tutu and at a really great pri...   \n",
       "1  I bought this for my 4 yr old daughter for dan...   \n",
       "2  What can I say... my daughters have it in oran...   \n",
       "3  I received this today and I'm not a fan of it ...   \n",
       "4  Bought this as a backup to the regular ballet ...   \n",
       "\n",
       "                                 processedReviewText  rating_weighted  \n",
       "0  this great tutu great price it look cheap glad...         4.402917  \n",
       "1  buy yr old daughter dance class wore today tim...         4.402917  \n",
       "2  what daughters orange black white pink think b...         4.402917  \n",
       "3  receive today fan daughter think puffier look ...         4.402917  \n",
       "4  bought backup regular ballet outfit daughter w...         4.402917  "
      ],
      "text/html": "<div>\n<style scoped>\n    .dataframe tbody tr th:only-of-type {\n        vertical-align: middle;\n    }\n\n    .dataframe tbody tr th {\n        vertical-align: top;\n    }\n\n    .dataframe thead th {\n        text-align: right;\n    }\n</style>\n<table border=\"1\" class=\"dataframe\">\n  <thead>\n    <tr style=\"text-align: right;\">\n      <th></th>\n      <th>overall</th>\n      <th>reviewerID</th>\n      <th>asin</th>\n      <th>reviewText</th>\n      <th>processedReviewText</th>\n      <th>rating_weighted</th>\n    </tr>\n  </thead>\n  <tbody>\n    <tr>\n      <th>0</th>\n      <td>5.0</td>\n      <td>A1KLRMWW2FWPL4</td>\n      <td>0000031887</td>\n      <td>This is a great tutu and at a really great pri...</td>\n      <td>this great tutu great price it look cheap glad...</td>\n      <td>4.402917</td>\n    </tr>\n    <tr>\n      <th>1</th>\n      <td>5.0</td>\n      <td>A2G5TCU2WDFZ65</td>\n      <td>0000031887</td>\n      <td>I bought this for my 4 yr old daughter for dan...</td>\n      <td>buy yr old daughter dance class wore today tim...</td>\n      <td>4.402917</td>\n    </tr>\n    <tr>\n      <th>2</th>\n      <td>5.0</td>\n      <td>A1RLQXYNCMWRWN</td>\n      <td>0000031887</td>\n      <td>What can I say... my daughters have it in oran...</td>\n      <td>what daughters orange black white pink think b...</td>\n      <td>4.402917</td>\n    </tr>\n    <tr>\n      <th>3</th>\n      <td>4.0</td>\n      <td>A27UF1MSF3DB2</td>\n      <td>0000031887</td>\n      <td>I received this today and I'm not a fan of it ...</td>\n      <td>receive today fan daughter think puffier look ...</td>\n      <td>4.402917</td>\n    </tr>\n    <tr>\n      <th>4</th>\n      <td>5.0</td>\n      <td>A16GFPNVF4Y816</td>\n      <td>0000031887</td>\n      <td>Bought this as a backup to the regular ballet ...</td>\n      <td>bought backup regular ballet outfit daughter w...</td>\n      <td>4.402917</td>\n    </tr>\n  </tbody>\n</table>\n</div>"
     },
     "metadata": {},
     "execution_count": 41
    }
   ],
   "source": [
    "# join the weighted average back into the training dataframe so we can sort\n",
    "train = train.merge(product_metrics[['asin', 'rating_weighted']], on='asin')\n",
    "train.head()"
   ]
  },
  {
   "source": [
    "### 3.1 Retrieving past purchase history of similar users"
   ],
   "cell_type": "markdown",
   "metadata": {}
  },
  {
   "cell_type": "code",
   "execution_count": 54,
   "metadata": {},
   "outputs": [
    {
     "output_type": "execute_result",
     "data": {
      "text/plain": [
       "['B000GKUGC6',\n",
       " 'B0013UMQX0',\n",
       " 'B004LCPDBY',\n",
       " 'B000JFHQWG',\n",
       " 'B000XP0FDY',\n",
       " 'B00383YAMK',\n",
       " 'B000R7NYU4',\n",
       " 'B0031U0PO2',\n",
       " 'B000KK0OLA',\n",
       " 'B004OYT3TM']"
      ]
     },
     "metadata": {},
     "execution_count": 54
    }
   ],
   "source": [
    "similar_users_history = train[train['reviewerID'].isin(similar_users)][['asin', 'rating_weighted']].drop_duplicates().sort_values(by='rating_weighted', ascending=False)[:10]['asin'].to_list()"
   ]
  },
  {
   "source": [
    "### 3.2 Generate a loop to go through all test users"
   ],
   "cell_type": "markdown",
   "metadata": {}
  },
  {
   "cell_type": "code",
   "execution_count": 113,
   "metadata": {},
   "outputs": [],
   "source": [
    "test_purchase_history = test.groupby(['reviewerID'])['asin'].apply(list).to_frame().reset_index()"
   ]
  },
  {
   "cell_type": "code",
   "execution_count": 114,
   "metadata": {},
   "outputs": [
    {
     "output_type": "stream",
     "name": "stdout",
     "text": [
      "           reviewerID                                               asin\n109    A104QGECCAFCI9                                       [B00592VMNI]\n15112  A2G5OW0UIBAUIT                           [B008SCM0AU, B00AOCV6OI]\n13118  A29BPMJI0ZYH4H  [B0058XH5D4, B007BZ5CUU, B00A0SXLOO, B00AVPHH4...\n37097   ARQZEE0LA1PBB                                       [B000A2KC7O]\n31660   A8VSC4N8D63MJ                                       [B007ZRS0ZI]\n...               ...                                                ...\n14667  A2EP4PMBS78D5F                                       [B001SN8DHK]\n16387  A2KNB31SNXN0MR                                       [B008MMJ27K]\n33258   AENTXUFIYPSMZ                                       [B003NX8C2O]\n7029    A1OJHJSWH0F4K                                       [B0087SX5YA]\n26273  A3IKG99RBVQDMK                                       [B00CJ6YMES]\n\n[5000 rows x 2 columns]\n"
     ]
    }
   ],
   "source": [
    "# let randomly sample 1000 rows to make predictions\n",
    "sampled_test_purchase_history = test_purchase_history.sample(n=5000, random_state=42)\n",
    "\n",
    "pprint(sampled_test_purchase_history)"
   ]
  },
  {
   "cell_type": "code",
   "execution_count": 116,
   "metadata": {},
   "outputs": [
    {
     "output_type": "stream",
     "name": "stderr",
     "text": [
      "100%|██████████| 5000/5000 [01:51<00:00, 44.73it/s]\n"
     ]
    }
   ],
   "source": [
    "user_recommendations = {}\n",
    "\n",
    "for user in tqdm(sampled_test_purchase_history.reviewerID.values):\n",
    "    query_index = user_item_matrix_df.index.to_list().index(user)\n",
    "    distances, indices = model.kneighbors(user_item_matrix_df.iloc[query_index,:].values.reshape(1, -1), n_neighbors=10)\n",
    "    recommendations = (train[train['reviewerID'].isin(similar_users)][['asin', 'rating_weighted']]\n",
    "                   .drop_duplicates()\n",
    "                   .sort_values(by='rating_weighted', ascending=False)[:10]['asin']\n",
    "                   .to_list())\n",
    "    # storing k,v - user, recommendations into dictionary\n",
    "    user_recommendations[user] = recommendations"
   ]
  },
  {
   "cell_type": "code",
   "execution_count": 117,
   "metadata": {},
   "outputs": [],
   "source": [
    "def precision_at_k(user, asins, k=10):\n",
    "    # number of relevant items\n",
    "    set_actual = set(asins)\n",
    "    set_preds = set(user_recommendations[user])\n",
    "    num_relevant = len(set_actual.intersection(set_preds))\n",
    "    \n",
    "    # calculating precision@K - relevant / total recommended\n",
    "    precision_at_k = num_relevant / k\n",
    "    \n",
    "    return precision_at_k\n",
    "\n",
    "def recall_at_k(user, asins, k=10):\n",
    "    # number of relevant items\n",
    "    set_actual = set(asins)\n",
    "    set_preds = set(user_recommendations[user])\n",
    "    num_relevant = len(set_actual.intersection(set_preds))\n",
    "    \n",
    "    # calculating recall@K - relevant / total relevant items\n",
    "    recall_at_k = num_relevant / len(asins)\n",
    "    \n",
    "    return recall_at_k"
   ]
  },
  {
   "cell_type": "code",
   "execution_count": 119,
   "metadata": {},
   "outputs": [
    {
     "output_type": "stream",
     "name": "stderr",
     "text": [
      "100%|██████████| 5000/5000 [00:00<00:00, 42528.92it/s]\n",
      "100%|██████████| 5000/5000 [00:00<00:00, 44877.59it/s]\n"
     ]
    }
   ],
   "source": [
    "sampled_test_purchase_history['precision@K'] = sampled_test_purchase_history.progress_apply(lambda x: precision_at_k(x.reviewerID, x.asin), axis=1)\n",
    "sampled_test_purchase_history['recall@K'] = sampled_test_purchase_history.progress_apply(lambda x: recall_at_k(x.reviewerID, x.asin), axis=1)"
   ]
  },
  {
   "cell_type": "code",
   "execution_count": 121,
   "metadata": {},
   "outputs": [
    {
     "output_type": "execute_result",
     "data": {
      "text/plain": [
       "           reviewerID                                               asin  \\\n",
       "109    A104QGECCAFCI9                                       [B00592VMNI]   \n",
       "15112  A2G5OW0UIBAUIT                           [B008SCM0AU, B00AOCV6OI]   \n",
       "13118  A29BPMJI0ZYH4H  [B0058XH5D4, B007BZ5CUU, B00A0SXLOO, B00AVPHH4...   \n",
       "37097   ARQZEE0LA1PBB                                       [B000A2KC7O]   \n",
       "31660   A8VSC4N8D63MJ                                       [B007ZRS0ZI]   \n",
       "14667  A2EP4PMBS78D5F                                       [B001SN8DHK]   \n",
       "16387  A2KNB31SNXN0MR                                       [B008MMJ27K]   \n",
       "33258   AENTXUFIYPSMZ                                       [B003NX8C2O]   \n",
       "7029    A1OJHJSWH0F4K                                       [B0087SX5YA]   \n",
       "26273  A3IKG99RBVQDMK                                       [B00CJ6YMES]   \n",
       "\n",
       "       precision@K  recall@K  \n",
       "109            0.0       0.0  \n",
       "15112          0.0       0.0  \n",
       "13118          0.0       0.0  \n",
       "37097          0.0       0.0  \n",
       "31660          0.0       0.0  \n",
       "14667          0.0       0.0  \n",
       "16387          0.0       0.0  \n",
       "33258          0.0       0.0  \n",
       "7029           0.0       0.0  \n",
       "26273          0.0       0.0  "
      ],
      "text/html": "<div>\n<style scoped>\n    .dataframe tbody tr th:only-of-type {\n        vertical-align: middle;\n    }\n\n    .dataframe tbody tr th {\n        vertical-align: top;\n    }\n\n    .dataframe thead th {\n        text-align: right;\n    }\n</style>\n<table border=\"1\" class=\"dataframe\">\n  <thead>\n    <tr style=\"text-align: right;\">\n      <th></th>\n      <th>reviewerID</th>\n      <th>asin</th>\n      <th>precision@K</th>\n      <th>recall@K</th>\n    </tr>\n  </thead>\n  <tbody>\n    <tr>\n      <th>109</th>\n      <td>A104QGECCAFCI9</td>\n      <td>[B00592VMNI]</td>\n      <td>0.0</td>\n      <td>0.0</td>\n    </tr>\n    <tr>\n      <th>15112</th>\n      <td>A2G5OW0UIBAUIT</td>\n      <td>[B008SCM0AU, B00AOCV6OI]</td>\n      <td>0.0</td>\n      <td>0.0</td>\n    </tr>\n    <tr>\n      <th>13118</th>\n      <td>A29BPMJI0ZYH4H</td>\n      <td>[B0058XH5D4, B007BZ5CUU, B00A0SXLOO, B00AVPHH4...</td>\n      <td>0.0</td>\n      <td>0.0</td>\n    </tr>\n    <tr>\n      <th>37097</th>\n      <td>ARQZEE0LA1PBB</td>\n      <td>[B000A2KC7O]</td>\n      <td>0.0</td>\n      <td>0.0</td>\n    </tr>\n    <tr>\n      <th>31660</th>\n      <td>A8VSC4N8D63MJ</td>\n      <td>[B007ZRS0ZI]</td>\n      <td>0.0</td>\n      <td>0.0</td>\n    </tr>\n    <tr>\n      <th>14667</th>\n      <td>A2EP4PMBS78D5F</td>\n      <td>[B001SN8DHK]</td>\n      <td>0.0</td>\n      <td>0.0</td>\n    </tr>\n    <tr>\n      <th>16387</th>\n      <td>A2KNB31SNXN0MR</td>\n      <td>[B008MMJ27K]</td>\n      <td>0.0</td>\n      <td>0.0</td>\n    </tr>\n    <tr>\n      <th>33258</th>\n      <td>AENTXUFIYPSMZ</td>\n      <td>[B003NX8C2O]</td>\n      <td>0.0</td>\n      <td>0.0</td>\n    </tr>\n    <tr>\n      <th>7029</th>\n      <td>A1OJHJSWH0F4K</td>\n      <td>[B0087SX5YA]</td>\n      <td>0.0</td>\n      <td>0.0</td>\n    </tr>\n    <tr>\n      <th>26273</th>\n      <td>A3IKG99RBVQDMK</td>\n      <td>[B00CJ6YMES]</td>\n      <td>0.0</td>\n      <td>0.0</td>\n    </tr>\n  </tbody>\n</table>\n</div>"
     },
     "metadata": {},
     "execution_count": 121
    }
   ],
   "source": [
    "# checking the dataframe\n",
    "sampled_test_purchase_history.head().append(sampled_test_purchase_history.tail())"
   ]
  },
  {
   "cell_type": "code",
   "execution_count": 126,
   "metadata": {},
   "outputs": [
    {
     "output_type": "stream",
     "name": "stdout",
     "text": [
      "The model has a average precision@K: 0.00012, average recall@K: 0.00120.\n"
     ]
    }
   ],
   "source": [
    "average_precision_at_k = sampled_test_purchase_history[\"precision@K\"].mean()\n",
    "average_recall_at_k = sampled_test_purchase_history[\"recall@K\"].mean()\n",
    "\n",
    "print(f\"The model has a average precision@K: {average_precision_at_k:.5f}, average recall@K: {average_recall_at_k:.5f}.\")"
   ]
  },
  {
   "source": [
    "### 3.3 Looking at the correct recommendations"
   ],
   "cell_type": "markdown",
   "metadata": {}
  },
  {
   "cell_type": "code",
   "execution_count": 125,
   "metadata": {},
   "outputs": [
    {
     "output_type": "execute_result",
     "data": {
      "text/plain": [
       "           reviewerID          asin  precision@K  recall@K\n",
       "38958    AYEKQENVQ5D4  [B000KK0OLA]          0.1       1.0\n",
       "8059   A1S39JTPIBMR6C  [B0031U0PO2]          0.1       1.0\n",
       "37210   AS6Z51F731HD2  [B0031U0PO2]          0.1       1.0\n",
       "36938   AR6Y9LV34NIQT  [B0031U0PO2]          0.1       1.0\n",
       "27067  A3LB2NFSHKWGCJ  [B000XP0FDY]          0.1       1.0\n",
       "8510   A1TMAVN4CEM8U8  [B000GKUGC6]          0.1       1.0"
      ],
      "text/html": "<div>\n<style scoped>\n    .dataframe tbody tr th:only-of-type {\n        vertical-align: middle;\n    }\n\n    .dataframe tbody tr th {\n        vertical-align: top;\n    }\n\n    .dataframe thead th {\n        text-align: right;\n    }\n</style>\n<table border=\"1\" class=\"dataframe\">\n  <thead>\n    <tr style=\"text-align: right;\">\n      <th></th>\n      <th>reviewerID</th>\n      <th>asin</th>\n      <th>precision@K</th>\n      <th>recall@K</th>\n    </tr>\n  </thead>\n  <tbody>\n    <tr>\n      <th>38958</th>\n      <td>AYEKQENVQ5D4</td>\n      <td>[B000KK0OLA]</td>\n      <td>0.1</td>\n      <td>1.0</td>\n    </tr>\n    <tr>\n      <th>8059</th>\n      <td>A1S39JTPIBMR6C</td>\n      <td>[B0031U0PO2]</td>\n      <td>0.1</td>\n      <td>1.0</td>\n    </tr>\n    <tr>\n      <th>37210</th>\n      <td>AS6Z51F731HD2</td>\n      <td>[B0031U0PO2]</td>\n      <td>0.1</td>\n      <td>1.0</td>\n    </tr>\n    <tr>\n      <th>36938</th>\n      <td>AR6Y9LV34NIQT</td>\n      <td>[B0031U0PO2]</td>\n      <td>0.1</td>\n      <td>1.0</td>\n    </tr>\n    <tr>\n      <th>27067</th>\n      <td>A3LB2NFSHKWGCJ</td>\n      <td>[B000XP0FDY]</td>\n      <td>0.1</td>\n      <td>1.0</td>\n    </tr>\n    <tr>\n      <th>8510</th>\n      <td>A1TMAVN4CEM8U8</td>\n      <td>[B000GKUGC6]</td>\n      <td>0.1</td>\n      <td>1.0</td>\n    </tr>\n  </tbody>\n</table>\n</div>"
     },
     "metadata": {},
     "execution_count": 125
    }
   ],
   "source": [
    "sampled_test_purchase_history[sampled_test_purchase_history['recall@K'] == 1]"
   ]
  },
  {
   "cell_type": "code",
   "execution_count": null,
   "metadata": {},
   "outputs": [],
   "source": []
  }
 ]
}