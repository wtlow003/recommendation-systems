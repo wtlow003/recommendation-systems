{
 "cells": [
  {
   "cell_type": "code",
   "execution_count": 1,
   "id": "8989ccfe",
   "metadata": {
    "scrolled": true
   },
   "outputs": [
    {
     "name": "stderr",
     "output_type": "stream",
     "text": [
      "/Users/jensen/Desktop/recommendation-systems/projects/product-reviews-recommender/.venv/lib/python3.9/site-packages/gensim/similarities/__init__.py:15: UserWarning: The gensim.similarities.levenshtein submodule is disabled, because the optional Levenshtein package <https://pypi.org/project/python-Levenshtein/> is unavailable. Install Levenhstein (e.g. `pip install python-Levenshtein`) to suppress this warning.\n",
      "  warnings.warn(msg)\n"
     ]
    }
   ],
   "source": [
    "from pathlib import Path\n",
    "import pickle\n",
    "import warnings\n",
    "\n",
    "import gensim\n",
    "import numpy as np\n",
    "import pandas as pd\n",
    "from surprise import Dataset, Reader\n",
    "from tqdm import tqdm\n",
    "\n",
    "from src.models import cf, evaluate_model, lda\n",
    "from src.utilities import utilities\n",
    "\n",
    "tqdm.pandas()\n",
    "warnings.filterwarnings('ignore')"
   ]
  },
  {
   "cell_type": "markdown",
   "id": "0fc6b5b6",
   "metadata": {},
   "source": [
    "# Load Data"
   ]
  },
  {
   "cell_type": "code",
   "execution_count": 2,
   "id": "10702db9",
   "metadata": {},
   "outputs": [],
   "source": [
    "# global variables\n",
    "DATA_PATH = \"data/evaluation\"\n",
    "CATEGORY = \"Pet_Supplies\"\n",
    "MODEL_PATH = Path(f\"models/ti_mf/ti_mf_{CATEGORY}.pkl\")\n",
    "\n",
    "# LDA parameters\n",
    "EPOCHS = 10\n",
    "\n",
    "# training parameters\n",
    "N_EPOCHS = 10\n",
    "LR_ALL = 0.01\n",
    "BETA = 0.1\n",
    "\n",
    "# reproducibility checks\n",
    "SEED = 42\n",
    "np.random.seed(42)\n",
    "\n",
    "train = pd.read_csv(f\"{DATA_PATH}/{CATEGORY}_train.csv\")"
   ]
  },
  {
   "cell_type": "code",
   "execution_count": 3,
   "id": "8b501eea",
   "metadata": {},
   "outputs": [
    {
     "data": {
      "text/html": [
       "<div>\n",
       "<style scoped>\n",
       "    .dataframe tbody tr th:only-of-type {\n",
       "        vertical-align: middle;\n",
       "    }\n",
       "\n",
       "    .dataframe tbody tr th {\n",
       "        vertical-align: top;\n",
       "    }\n",
       "\n",
       "    .dataframe thead th {\n",
       "        text-align: right;\n",
       "    }\n",
       "</style>\n",
       "<table border=\"1\" class=\"dataframe\">\n",
       "  <thead>\n",
       "    <tr style=\"text-align: right;\">\n",
       "      <th></th>\n",
       "      <th>index</th>\n",
       "      <th>asin</th>\n",
       "      <th>title</th>\n",
       "      <th>categories</th>\n",
       "      <th>reviewerID</th>\n",
       "      <th>overall</th>\n",
       "      <th>reviewText</th>\n",
       "      <th>reviewTime</th>\n",
       "      <th>processedReviewText</th>\n",
       "    </tr>\n",
       "  </thead>\n",
       "  <tbody>\n",
       "    <tr>\n",
       "      <th>0</th>\n",
       "      <td>0</td>\n",
       "      <td>1223000893</td>\n",
       "      <td>Cat Sitter DVD Trilogy - Vol 1, Vol 2 and Vol 3</td>\n",
       "      <td>[]</td>\n",
       "      <td>A14CK12J7C7JRK</td>\n",
       "      <td>3.0</td>\n",
       "      <td>I purchased the Trilogy with hoping my two cat...</td>\n",
       "      <td>2011-01-12</td>\n",
       "      <td>purchase trilogy hop cat age interested yr old...</td>\n",
       "    </tr>\n",
       "    <tr>\n",
       "      <th>1</th>\n",
       "      <td>2</td>\n",
       "      <td>1223000893</td>\n",
       "      <td>Cat Sitter DVD Trilogy - Vol 1, Vol 2 and Vol 3</td>\n",
       "      <td>[]</td>\n",
       "      <td>A2CR37UY3VR7BN</td>\n",
       "      <td>4.0</td>\n",
       "      <td>I bought the triliogy and have tested out all ...</td>\n",
       "      <td>2012-12-19</td>\n",
       "      <td>buy triliogy test dvd appear volume receive re...</td>\n",
       "    </tr>\n",
       "    <tr>\n",
       "      <th>2</th>\n",
       "      <td>3</td>\n",
       "      <td>1223000893</td>\n",
       "      <td>Cat Sitter DVD Trilogy - Vol 1, Vol 2 and Vol 3</td>\n",
       "      <td>[]</td>\n",
       "      <td>A2A4COGL9VW2HY</td>\n",
       "      <td>4.0</td>\n",
       "      <td>My female kitty could care less about these vi...</td>\n",
       "      <td>2011-05-12</td>\n",
       "      <td>female kitty care video care little male dig a...</td>\n",
       "    </tr>\n",
       "    <tr>\n",
       "      <th>3</th>\n",
       "      <td>4</td>\n",
       "      <td>1223000893</td>\n",
       "      <td>Cat Sitter DVD Trilogy - Vol 1, Vol 2 and Vol 3</td>\n",
       "      <td>[]</td>\n",
       "      <td>A2UBQA85NIGLHA</td>\n",
       "      <td>3.0</td>\n",
       "      <td>If I had gotten just volume two, I would have ...</td>\n",
       "      <td>2012-03-05</td>\n",
       "      <td>volume star trilogy star read review know vol ...</td>\n",
       "    </tr>\n",
       "    <tr>\n",
       "      <th>4</th>\n",
       "      <td>5</td>\n",
       "      <td>B00005MF9U</td>\n",
       "      <td>LitterMaid LM900 Mega Self-Cleaning Litter Box</td>\n",
       "      <td>['Pet Supplies', 'Cats', 'Litter &amp;amp; Housebr...</td>\n",
       "      <td>A2BH04B9G9LOYA</td>\n",
       "      <td>1.0</td>\n",
       "      <td>First off, it seems that someone is spamming t...</td>\n",
       "      <td>2006-12-31</td>\n",
       "      <td>spamming review glow reviewer review amazon ba...</td>\n",
       "    </tr>\n",
       "    <tr>\n",
       "      <th>68865</th>\n",
       "      <td>111581</td>\n",
       "      <td>B00K3YPOO0</td>\n",
       "      <td>Brightest Black Light Flashlight on Amazon- UV...</td>\n",
       "      <td>[]</td>\n",
       "      <td>A11J1FHCK5U06J</td>\n",
       "      <td>4.0</td>\n",
       "      <td>Now I know exactly where the trouble spots are...</td>\n",
       "      <td>2014-05-23</td>\n",
       "      <td>know exactly trouble spot sniffing guess invis...</td>\n",
       "    </tr>\n",
       "    <tr>\n",
       "      <th>68866</th>\n",
       "      <td>111585</td>\n",
       "      <td>B00K3YPOO0</td>\n",
       "      <td>Brightest Black Light Flashlight on Amazon- UV...</td>\n",
       "      <td>[]</td>\n",
       "      <td>A18JF0T0GOCORW</td>\n",
       "      <td>4.0</td>\n",
       "      <td>I use this light to help me find stains when I...</td>\n",
       "      <td>2014-05-24</td>\n",
       "      <td>use light help stain carpet clean pre treat ca...</td>\n",
       "    </tr>\n",
       "    <tr>\n",
       "      <th>68867</th>\n",
       "      <td>111595</td>\n",
       "      <td>B00K7EG97C</td>\n",
       "      <td>Nutro Crunchy Dog Treats with Real Mixed Berri...</td>\n",
       "      <td>['Pet Supplies', 'Dogs', 'Treats', 'Cookies, B...</td>\n",
       "      <td>A3GRPCW9DG427Z</td>\n",
       "      <td>5.0</td>\n",
       "      <td>We are owned by the 3 pickiest pooches in the ...</td>\n",
       "      <td>2013-07-27</td>\n",
       "      <td>pickiest pooch world love fool reject doggie t...</td>\n",
       "    </tr>\n",
       "    <tr>\n",
       "      <th>68868</th>\n",
       "      <td>111598</td>\n",
       "      <td>B00K7EG97C</td>\n",
       "      <td>Nutro Crunchy Dog Treats with Real Mixed Berri...</td>\n",
       "      <td>['Pet Supplies', 'Dogs', 'Treats', 'Cookies, B...</td>\n",
       "      <td>A2X6TLAX3JEO1A</td>\n",
       "      <td>5.0</td>\n",
       "      <td>My highly allergic white boxer loves these tre...</td>\n",
       "      <td>2014-05-09</td>\n",
       "      <td>highly allergic white boxer love treat meat co...</td>\n",
       "    </tr>\n",
       "    <tr>\n",
       "      <th>68869</th>\n",
       "      <td>111602</td>\n",
       "      <td>B00KJGFGFO</td>\n",
       "      <td>Curry Brush with Coarse or Fine Bristles. High...</td>\n",
       "      <td>[]</td>\n",
       "      <td>A9PG9ODPPP31N</td>\n",
       "      <td>5.0</td>\n",
       "      <td>Works great on my medium sized dog. She has ve...</td>\n",
       "      <td>2014-07-09</td>\n",
       "      <td>work great medium size dog coarse hair work gr...</td>\n",
       "    </tr>\n",
       "  </tbody>\n",
       "</table>\n",
       "</div>"
      ],
      "text/plain": [
       "        index        asin                                              title  \\\n",
       "0           0  1223000893    Cat Sitter DVD Trilogy - Vol 1, Vol 2 and Vol 3   \n",
       "1           2  1223000893    Cat Sitter DVD Trilogy - Vol 1, Vol 2 and Vol 3   \n",
       "2           3  1223000893    Cat Sitter DVD Trilogy - Vol 1, Vol 2 and Vol 3   \n",
       "3           4  1223000893    Cat Sitter DVD Trilogy - Vol 1, Vol 2 and Vol 3   \n",
       "4           5  B00005MF9U     LitterMaid LM900 Mega Self-Cleaning Litter Box   \n",
       "68865  111581  B00K3YPOO0  Brightest Black Light Flashlight on Amazon- UV...   \n",
       "68866  111585  B00K3YPOO0  Brightest Black Light Flashlight on Amazon- UV...   \n",
       "68867  111595  B00K7EG97C  Nutro Crunchy Dog Treats with Real Mixed Berri...   \n",
       "68868  111598  B00K7EG97C  Nutro Crunchy Dog Treats with Real Mixed Berri...   \n",
       "68869  111602  B00KJGFGFO  Curry Brush with Coarse or Fine Bristles. High...   \n",
       "\n",
       "                                              categories      reviewerID  \\\n",
       "0                                                     []  A14CK12J7C7JRK   \n",
       "1                                                     []  A2CR37UY3VR7BN   \n",
       "2                                                     []  A2A4COGL9VW2HY   \n",
       "3                                                     []  A2UBQA85NIGLHA   \n",
       "4      ['Pet Supplies', 'Cats', 'Litter &amp; Housebr...  A2BH04B9G9LOYA   \n",
       "68865                                                 []  A11J1FHCK5U06J   \n",
       "68866                                                 []  A18JF0T0GOCORW   \n",
       "68867  ['Pet Supplies', 'Dogs', 'Treats', 'Cookies, B...  A3GRPCW9DG427Z   \n",
       "68868  ['Pet Supplies', 'Dogs', 'Treats', 'Cookies, B...  A2X6TLAX3JEO1A   \n",
       "68869                                                 []   A9PG9ODPPP31N   \n",
       "\n",
       "       overall                                         reviewText  reviewTime  \\\n",
       "0          3.0  I purchased the Trilogy with hoping my two cat...  2011-01-12   \n",
       "1          4.0  I bought the triliogy and have tested out all ...  2012-12-19   \n",
       "2          4.0  My female kitty could care less about these vi...  2011-05-12   \n",
       "3          3.0  If I had gotten just volume two, I would have ...  2012-03-05   \n",
       "4          1.0  First off, it seems that someone is spamming t...  2006-12-31   \n",
       "68865      4.0  Now I know exactly where the trouble spots are...  2014-05-23   \n",
       "68866      4.0  I use this light to help me find stains when I...  2014-05-24   \n",
       "68867      5.0  We are owned by the 3 pickiest pooches in the ...  2013-07-27   \n",
       "68868      5.0  My highly allergic white boxer loves these tre...  2014-05-09   \n",
       "68869      5.0  Works great on my medium sized dog. She has ve...  2014-07-09   \n",
       "\n",
       "                                     processedReviewText  \n",
       "0      purchase trilogy hop cat age interested yr old...  \n",
       "1      buy triliogy test dvd appear volume receive re...  \n",
       "2      female kitty care video care little male dig a...  \n",
       "3      volume star trilogy star read review know vol ...  \n",
       "4      spamming review glow reviewer review amazon ba...  \n",
       "68865  know exactly trouble spot sniffing guess invis...  \n",
       "68866  use light help stain carpet clean pre treat ca...  \n",
       "68867  pickiest pooch world love fool reject doggie t...  \n",
       "68868  highly allergic white boxer love treat meat co...  \n",
       "68869  work great medium size dog coarse hair work gr...  "
      ]
     },
     "execution_count": 3,
     "metadata": {},
     "output_type": "execute_result"
    }
   ],
   "source": [
    "# checking train dataframe\n",
    "train.head().append(train.tail())"
   ]
  },
  {
   "cell_type": "markdown",
   "id": "7f7cc66e",
   "metadata": {},
   "source": [
    "# Preparing Topic Vectors"
   ]
  },
  {
   "cell_type": "code",
   "execution_count": 4,
   "id": "df05785c",
   "metadata": {},
   "outputs": [],
   "source": [
    "# generating tokenized reviews\n",
    "processed_reviews = train[\"processedReviewText\"].apply(lambda x: x.split())"
   ]
  },
  {
   "cell_type": "code",
   "execution_count": 5,
   "id": "928d28c4",
   "metadata": {},
   "outputs": [],
   "source": [
    "# instantiate lda model\n",
    "lda_model = lda.LDA(reviews=processed_reviews, n_epochs=EPOCHS)"
   ]
  },
  {
   "cell_type": "code",
   "execution_count": 6,
   "id": "5b80e17d",
   "metadata": {
    "scrolled": true
   },
   "outputs": [
    {
     "name": "stderr",
     "output_type": "stream",
     "text": [
      "/Users/jensen/Desktop/recommendation-systems/projects/product-reviews-recommender/.venv/lib/python3.9/site-packages/gensim/similarities/__init__.py:15: UserWarning: The gensim.similarities.levenshtein submodule is disabled, because the optional Levenshtein package <https://pypi.org/project/python-Levenshtein/> is unavailable. Install Levenhstein (e.g. `pip install python-Levenshtein`) to suppress this warning.\n",
      "  warnings.warn(msg)\n",
      "/Users/jensen/Desktop/recommendation-systems/projects/product-reviews-recommender/.venv/lib/python3.9/site-packages/gensim/similarities/__init__.py:15: UserWarning: The gensim.similarities.levenshtein submodule is disabled, because the optional Levenshtein package <https://pypi.org/project/python-Levenshtein/> is unavailable. Install Levenhstein (e.g. `pip install python-Levenshtein`) to suppress this warning.\n",
      "  warnings.warn(msg)\n",
      "/Users/jensen/Desktop/recommendation-systems/projects/product-reviews-recommender/.venv/lib/python3.9/site-packages/gensim/similarities/__init__.py:15: UserWarning: The gensim.similarities.levenshtein submodule is disabled, because the optional Levenshtein package <https://pypi.org/project/python-Levenshtein/> is unavailable. Install Levenhstein (e.g. `pip install python-Levenshtein`) to suppress this warning.\n",
      "  warnings.warn(msg)\n",
      "/Users/jensen/Desktop/recommendation-systems/projects/product-reviews-recommender/.venv/lib/python3.9/site-packages/gensim/similarities/__init__.py:15: UserWarning: The gensim.similarities.levenshtein submodule is disabled, because the optional Levenshtein package <https://pypi.org/project/python-Levenshtein/> is unavailable. Install Levenhstein (e.g. `pip install python-Levenshtein`) to suppress this warning.\n",
      "  warnings.warn(msg)\n",
      "/Users/jensen/Desktop/recommendation-systems/projects/product-reviews-recommender/.venv/lib/python3.9/site-packages/gensim/similarities/__init__.py:15: UserWarning: The gensim.similarities.levenshtein submodule is disabled, because the optional Levenshtein package <https://pypi.org/project/python-Levenshtein/> is unavailable. Install Levenhstein (e.g. `pip install python-Levenshtein`) to suppress this warning.\n",
      "  warnings.warn(msg)\n",
      "/Users/jensen/Desktop/recommendation-systems/projects/product-reviews-recommender/.venv/lib/python3.9/site-packages/gensim/similarities/__init__.py:15: UserWarning: The gensim.similarities.levenshtein submodule is disabled, because the optional Levenshtein package <https://pypi.org/project/python-Levenshtein/> is unavailable. Install Levenhstein (e.g. `pip install python-Levenshtein`) to suppress this warning.\n",
      "  warnings.warn(msg)\n",
      "/Users/jensen/Desktop/recommendation-systems/projects/product-reviews-recommender/.venv/lib/python3.9/site-packages/gensim/similarities/__init__.py:15: UserWarning: The gensim.similarities.levenshtein submodule is disabled, because the optional Levenshtein package <https://pypi.org/project/python-Levenshtein/> is unavailable. Install Levenhstein (e.g. `pip install python-Levenshtein`) to suppress this warning.\n",
      "  warnings.warn(msg)\n",
      "/Users/jensen/Desktop/recommendation-systems/projects/product-reviews-recommender/.venv/lib/python3.9/site-packages/gensim/similarities/__init__.py:15: UserWarning: The gensim.similarities.levenshtein submodule is disabled, because the optional Levenshtein package <https://pypi.org/project/python-Levenshtein/> is unavailable. Install Levenhstein (e.g. `pip install python-Levenshtein`) to suppress this warning.\n",
      "  warnings.warn(msg)\n"
     ]
    },
    {
     "name": "stdout",
     "output_type": "stream",
     "text": [
      "CPU times: user 1min 21s, sys: 14 s, total: 1min 35s\n",
      "Wall time: 1min 58s\n"
     ]
    }
   ],
   "source": [
    "%%time\n",
    "# training the LDA model\n",
    "lda_model.train()"
   ]
  },
  {
   "cell_type": "markdown",
   "id": "53537751",
   "metadata": {},
   "source": [
    "# Generating User/Item Topic Vectors"
   ]
  },
  {
   "cell_type": "code",
   "execution_count": 7,
   "id": "5e0d386e",
   "metadata": {},
   "outputs": [
    {
     "name": "stderr",
     "output_type": "stream",
     "text": [
      "100%|████████████████████████████████████████████| 19058/19058 [00:14<00:00, 1341.67it/s]\n",
      "100%|███████████████████████████████████████████████| 4878/4878 [00:05<00:00, 913.74it/s]\n"
     ]
    }
   ],
   "source": [
    "user_idx_map, user_vecs, item_idx_map, item_vecs = utilities.generate_user_item_vectors(lda_model, train)"
   ]
  },
  {
   "cell_type": "code",
   "execution_count": 8,
   "id": "9e9bebb5",
   "metadata": {},
   "outputs": [],
   "source": [
    "# converting factors into numpy obj\n",
    "user_factors = user_vecs.to_numpy()\n",
    "item_factors = item_vecs.to_numpy()"
   ]
  },
  {
   "cell_type": "code",
   "execution_count": 9,
   "id": "549515a7",
   "metadata": {},
   "outputs": [
    {
     "data": {
      "text/plain": [
       "array([0.00036379, 0.00036379, 0.00036379, 0.00036379, 0.26873264,\n",
       "       0.00036379, 0.00036379, 0.00036379, 0.00036379, 0.00036379,\n",
       "       0.00036379, 0.00036379, 0.00036379, 0.12225699, 0.00036379,\n",
       "       0.00036379, 0.00036379, 0.17429906, 0.00036379, 0.23009104,\n",
       "       0.00036379, 0.00036379, 0.00036379, 0.00036379, 0.00036379,\n",
       "       0.00036379, 0.00036379, 0.00036379, 0.08897535, 0.00036379,\n",
       "       0.00036379, 0.00036379, 0.00036379, 0.00036379, 0.00036379,\n",
       "       0.00036379, 0.00036379, 0.00036379, 0.00036379, 0.00036379,\n",
       "       0.00036379, 0.00036379, 0.09963837, 0.00036379, 0.00036379,\n",
       "       0.00036379, 0.00036379, 0.00036379, 0.00036379, 0.00036379],\n",
       "      dtype=float32)"
      ]
     },
     "execution_count": 9,
     "metadata": {},
     "output_type": "execute_result"
    }
   ],
   "source": [
    "# check user factors\n",
    "user_factors[0,:]"
   ]
  },
  {
   "cell_type": "code",
   "execution_count": 10,
   "id": "9d06c7c4",
   "metadata": {},
   "outputs": [
    {
     "data": {
      "text/plain": [
       "array([1.1177247e-01, 1.4506711e-04, 5.6503665e-02, 1.4506711e-04,\n",
       "       1.4506711e-04, 1.4506711e-04, 1.4506711e-04, 1.4506711e-04,\n",
       "       1.4506711e-04, 2.2955917e-02, 1.4506711e-04, 5.0217144e-02,\n",
       "       1.4506711e-04, 1.4506711e-04, 1.4506711e-04, 1.4506711e-04,\n",
       "       2.4304722e-02, 1.4506711e-04, 1.4506711e-04, 1.4506711e-04,\n",
       "       1.4506711e-04, 8.3538137e-02, 1.4506711e-04, 1.4506711e-04,\n",
       "       1.4506711e-04, 1.4506711e-04, 1.4506711e-04, 2.7800582e-02,\n",
       "       3.9269468e-01, 1.4506711e-04, 1.4506711e-04, 1.4506711e-04,\n",
       "       1.4506711e-04, 1.4506711e-04, 1.4506711e-04, 7.0282929e-02,\n",
       "       9.3918078e-02, 1.4506711e-04, 1.4506711e-04, 1.4506711e-04,\n",
       "       1.4506711e-04, 1.4506711e-04, 1.4506711e-04, 1.4506711e-04,\n",
       "       1.4506711e-04, 1.4506711e-04, 1.4506711e-04, 4.0322088e-02,\n",
       "       1.4506711e-04, 2.0177044e-02], dtype=float32)"
      ]
     },
     "execution_count": 10,
     "metadata": {},
     "output_type": "execute_result"
    }
   ],
   "source": [
    "# check item factors\n",
    "item_factors[0,:]"
   ]
  },
  {
   "cell_type": "markdown",
   "id": "94084615",
   "metadata": {},
   "source": [
    "# Utility Functions"
   ]
  },
  {
   "cell_type": "markdown",
   "id": "ea420a3f",
   "metadata": {},
   "source": [
    "# Generate N-Recommendations = {10, 25, 30, 45}"
   ]
  },
  {
   "cell_type": "markdown",
   "id": "057aa77f",
   "metadata": {},
   "source": [
    "## Load Test Data"
   ]
  },
  {
   "cell_type": "code",
   "execution_count": 11,
   "id": "52c2f6aa",
   "metadata": {},
   "outputs": [],
   "source": [
    "test = pd.read_csv(f\"{DATA_PATH}/{CATEGORY}_test.csv\")"
   ]
  },
  {
   "cell_type": "code",
   "execution_count": 12,
   "id": "84c8e1d6",
   "metadata": {},
   "outputs": [
    {
     "data": {
      "text/html": [
       "<div>\n",
       "<style scoped>\n",
       "    .dataframe tbody tr th:only-of-type {\n",
       "        vertical-align: middle;\n",
       "    }\n",
       "\n",
       "    .dataframe tbody tr th {\n",
       "        vertical-align: top;\n",
       "    }\n",
       "\n",
       "    .dataframe thead th {\n",
       "        text-align: right;\n",
       "    }\n",
       "</style>\n",
       "<table border=\"1\" class=\"dataframe\">\n",
       "  <thead>\n",
       "    <tr style=\"text-align: right;\">\n",
       "      <th></th>\n",
       "      <th>index</th>\n",
       "      <th>asin</th>\n",
       "      <th>title</th>\n",
       "      <th>categories</th>\n",
       "      <th>reviewerID</th>\n",
       "      <th>overall</th>\n",
       "      <th>reviewText</th>\n",
       "      <th>reviewTime</th>\n",
       "      <th>processedReviewText</th>\n",
       "    </tr>\n",
       "  </thead>\n",
       "  <tbody>\n",
       "    <tr>\n",
       "      <th>0</th>\n",
       "      <td>1</td>\n",
       "      <td>1223000893</td>\n",
       "      <td>Cat Sitter DVD Trilogy - Vol 1, Vol 2 and Vol 3</td>\n",
       "      <td>[]</td>\n",
       "      <td>A39QHP5WLON5HV</td>\n",
       "      <td>5.0</td>\n",
       "      <td>There are usually one or more of my cats watch...</td>\n",
       "      <td>2013-09-14</td>\n",
       "      <td>usually cat watch tv stay trouble dvd play lik...</td>\n",
       "    </tr>\n",
       "    <tr>\n",
       "      <th>1</th>\n",
       "      <td>104</td>\n",
       "      <td>B00005MF9V</td>\n",
       "      <td>LitterMaid Universal Cat Privacy Tent (LMT100)</td>\n",
       "      <td>['Pet Supplies', 'Cats', 'Litter &amp; Housebreaki...</td>\n",
       "      <td>A366V0GCEPH5CX</td>\n",
       "      <td>5.0</td>\n",
       "      <td>My cats love it and so do I. I no longer have ...</td>\n",
       "      <td>2013-02-02</td>\n",
       "      <td>cat love longer cat litter fly floor litter fl...</td>\n",
       "    </tr>\n",
       "    <tr>\n",
       "      <th>2</th>\n",
       "      <td>133</td>\n",
       "      <td>B00005MF9T</td>\n",
       "      <td>LitterMaid LM500 Automated Litter Box</td>\n",
       "      <td>['Pet Supplies', 'Cats', 'Litter &amp; Housebreaki...</td>\n",
       "      <td>ALWWS8QBYN80B</td>\n",
       "      <td>1.0</td>\n",
       "      <td>I have one female cat that weighs under 10 pou...</td>\n",
       "      <td>2004-11-17</td>\n",
       "      <td>female cat weigh pound year old use everclean ...</td>\n",
       "    </tr>\n",
       "    <tr>\n",
       "      <th>3</th>\n",
       "      <td>153</td>\n",
       "      <td>B00005MF9W</td>\n",
       "      <td>LitterMaid Waste Receptacles Automatic Litter ...</td>\n",
       "      <td>['Pet Supplies', 'Cats', 'Litter &amp; Housebreaki...</td>\n",
       "      <td>A3PVI3NE7OY1SP</td>\n",
       "      <td>5.0</td>\n",
       "      <td>I love these. They make the clean up so much e...</td>\n",
       "      <td>2013-09-26</td>\n",
       "      <td>love clean easy clean box manually use issue w...</td>\n",
       "    </tr>\n",
       "    <tr>\n",
       "      <th>4</th>\n",
       "      <td>154</td>\n",
       "      <td>B00005MF9W</td>\n",
       "      <td>LitterMaid Waste Receptacles Automatic Litter ...</td>\n",
       "      <td>['Pet Supplies', 'Cats', 'Litter &amp; Housebreaki...</td>\n",
       "      <td>A2H83XMHUVDLJY</td>\n",
       "      <td>4.0</td>\n",
       "      <td>I love this litter box. I do not use the lids,...</td>\n",
       "      <td>2014-06-26</td>\n",
       "      <td>love litter box use lid use receptacle tear cr...</td>\n",
       "    </tr>\n",
       "    <tr>\n",
       "      <th>41564</th>\n",
       "      <td>111601</td>\n",
       "      <td>B00KJGFGFO</td>\n",
       "      <td>Curry Brush with Coarse or Fine Bristles. High...</td>\n",
       "      <td>[]</td>\n",
       "      <td>AV34KNYW82YSS</td>\n",
       "      <td>4.0</td>\n",
       "      <td>Pulled lots of hair out of my Labs coat. Didn'...</td>\n",
       "      <td>2014-07-18</td>\n",
       "      <td>pulled lot hair labs coat think prove wrong co...</td>\n",
       "    </tr>\n",
       "    <tr>\n",
       "      <th>41565</th>\n",
       "      <td>111603</td>\n",
       "      <td>B00KJGFGFO</td>\n",
       "      <td>Curry Brush with Coarse or Fine Bristles. High...</td>\n",
       "      <td>[]</td>\n",
       "      <td>A1YMNTFLNDYQ1F</td>\n",
       "      <td>5.0</td>\n",
       "      <td>I have been trying to find a rubber bristle br...</td>\n",
       "      <td>2014-07-16</td>\n",
       "      <td>try rubber bristle brush persian year lose glo...</td>\n",
       "    </tr>\n",
       "    <tr>\n",
       "      <th>41566</th>\n",
       "      <td>111604</td>\n",
       "      <td>B00KJGFGFO</td>\n",
       "      <td>Curry Brush with Coarse or Fine Bristles. High...</td>\n",
       "      <td>[]</td>\n",
       "      <td>A1FQ3HRVXA4A5B</td>\n",
       "      <td>5.0</td>\n",
       "      <td>Great product to use on your pets knowing this...</td>\n",
       "      <td>2014-07-11</td>\n",
       "      <td>great product use pet know gentle rubber damag...</td>\n",
       "    </tr>\n",
       "    <tr>\n",
       "      <th>41567</th>\n",
       "      <td>111605</td>\n",
       "      <td>B00KJGFGFO</td>\n",
       "      <td>Curry Brush with Coarse or Fine Bristles. High...</td>\n",
       "      <td>[]</td>\n",
       "      <td>A3OP6CI0XCRQXO</td>\n",
       "      <td>5.0</td>\n",
       "      <td>I bought a second one because I have two cats ...</td>\n",
       "      <td>2014-07-22</td>\n",
       "      <td>buy second cat american short hair buy brush m...</td>\n",
       "    </tr>\n",
       "    <tr>\n",
       "      <th>41568</th>\n",
       "      <td>111606</td>\n",
       "      <td>B00KJGFGFO</td>\n",
       "      <td>Curry Brush with Coarse or Fine Bristles. High...</td>\n",
       "      <td>[]</td>\n",
       "      <td>A11LC938XF35XN</td>\n",
       "      <td>5.0</td>\n",
       "      <td>Our dogs love getting brushed with this.  It m...</td>\n",
       "      <td>2014-07-17</td>\n",
       "      <td>dog love brush massage remove heavy undercoat ...</td>\n",
       "    </tr>\n",
       "  </tbody>\n",
       "</table>\n",
       "</div>"
      ],
      "text/plain": [
       "        index        asin                                              title  \\\n",
       "0           1  1223000893    Cat Sitter DVD Trilogy - Vol 1, Vol 2 and Vol 3   \n",
       "1         104  B00005MF9V     LitterMaid Universal Cat Privacy Tent (LMT100)   \n",
       "2         133  B00005MF9T              LitterMaid LM500 Automated Litter Box   \n",
       "3         153  B00005MF9W  LitterMaid Waste Receptacles Automatic Litter ...   \n",
       "4         154  B00005MF9W  LitterMaid Waste Receptacles Automatic Litter ...   \n",
       "41564  111601  B00KJGFGFO  Curry Brush with Coarse or Fine Bristles. High...   \n",
       "41565  111603  B00KJGFGFO  Curry Brush with Coarse or Fine Bristles. High...   \n",
       "41566  111604  B00KJGFGFO  Curry Brush with Coarse or Fine Bristles. High...   \n",
       "41567  111605  B00KJGFGFO  Curry Brush with Coarse or Fine Bristles. High...   \n",
       "41568  111606  B00KJGFGFO  Curry Brush with Coarse or Fine Bristles. High...   \n",
       "\n",
       "                                              categories      reviewerID  \\\n",
       "0                                                     []  A39QHP5WLON5HV   \n",
       "1      ['Pet Supplies', 'Cats', 'Litter & Housebreaki...  A366V0GCEPH5CX   \n",
       "2      ['Pet Supplies', 'Cats', 'Litter & Housebreaki...   ALWWS8QBYN80B   \n",
       "3      ['Pet Supplies', 'Cats', 'Litter & Housebreaki...  A3PVI3NE7OY1SP   \n",
       "4      ['Pet Supplies', 'Cats', 'Litter & Housebreaki...  A2H83XMHUVDLJY   \n",
       "41564                                                 []   AV34KNYW82YSS   \n",
       "41565                                                 []  A1YMNTFLNDYQ1F   \n",
       "41566                                                 []  A1FQ3HRVXA4A5B   \n",
       "41567                                                 []  A3OP6CI0XCRQXO   \n",
       "41568                                                 []  A11LC938XF35XN   \n",
       "\n",
       "       overall                                         reviewText  reviewTime  \\\n",
       "0          5.0  There are usually one or more of my cats watch...  2013-09-14   \n",
       "1          5.0  My cats love it and so do I. I no longer have ...  2013-02-02   \n",
       "2          1.0  I have one female cat that weighs under 10 pou...  2004-11-17   \n",
       "3          5.0  I love these. They make the clean up so much e...  2013-09-26   \n",
       "4          4.0  I love this litter box. I do not use the lids,...  2014-06-26   \n",
       "41564      4.0  Pulled lots of hair out of my Labs coat. Didn'...  2014-07-18   \n",
       "41565      5.0  I have been trying to find a rubber bristle br...  2014-07-16   \n",
       "41566      5.0  Great product to use on your pets knowing this...  2014-07-11   \n",
       "41567      5.0  I bought a second one because I have two cats ...  2014-07-22   \n",
       "41568      5.0  Our dogs love getting brushed with this.  It m...  2014-07-17   \n",
       "\n",
       "                                     processedReviewText  \n",
       "0      usually cat watch tv stay trouble dvd play lik...  \n",
       "1      cat love longer cat litter fly floor litter fl...  \n",
       "2      female cat weigh pound year old use everclean ...  \n",
       "3      love clean easy clean box manually use issue w...  \n",
       "4      love litter box use lid use receptacle tear cr...  \n",
       "41564  pulled lot hair labs coat think prove wrong co...  \n",
       "41565  try rubber bristle brush persian year lose glo...  \n",
       "41566  great product use pet know gentle rubber damag...  \n",
       "41567  buy second cat american short hair buy brush m...  \n",
       "41568  dog love brush massage remove heavy undercoat ...  "
      ]
     },
     "execution_count": 12,
     "metadata": {},
     "output_type": "execute_result"
    }
   ],
   "source": [
    "test.head().append(test.tail())"
   ]
  },
  {
   "cell_type": "code",
   "execution_count": 13,
   "id": "fea6fb93",
   "metadata": {},
   "outputs": [],
   "source": [
    "# generating test history\n",
    "test_user_history = (pd.DataFrame(test.groupby(['reviewerID'])['asin']\n",
    "                                  .apply(list).reset_index()))"
   ]
  },
  {
   "cell_type": "code",
   "execution_count": 14,
   "id": "f9b316c6",
   "metadata": {},
   "outputs": [
    {
     "name": "stdout",
     "output_type": "stream",
     "text": [
      "                  reviewerID                                  asin\n",
      "0      A04173782GDZSQ91AJ7OD              [B0090Z9AYS, B00CPDWT2M]\n",
      "1      A042274212BJJVOBS4Q85              [B005AZ4M3Q, B00771WQIY]\n",
      "2       A0436342QLT4257JODYJ  [B0018CDR68, B003SJTM8Q, B00474A3DY]\n",
      "3      A04795073FIBKY8GSLZYI              [B001PKT30M, B005DGI2RY]\n",
      "4      A06658082A27F4VB5UG8E              [B000TZ1TTM, B0019VUHH0]\n",
      "...                      ...                                   ...\n",
      "18993          AZYJE40XW6MFG              [B00HVAKJZS, B00IDZT294]\n",
      "18994          AZZ56WF4X19G2                          [B004A7X218]\n",
      "18995          AZZNK89PXD006  [B0002DHV16, B005BP8MQ8, B009RTX4SU]\n",
      "18996          AZZV9PDNMCOZW              [B007EQL390, B00ISBWVT6]\n",
      "18997          AZZYW4YOE1B6E  [B0002AQPA2, B0002AQPA2, B0002ARQV4]\n",
      "\n",
      "[18998 rows x 2 columns]\n"
     ]
    }
   ],
   "source": [
    "print(test_user_history)"
   ]
  },
  {
   "cell_type": "markdown",
   "id": "3e74b499",
   "metadata": {},
   "source": [
    "## Preparing Dataset for Surprise's Algorithm"
   ]
  },
  {
   "cell_type": "code",
   "execution_count": 15,
   "id": "22d9e162",
   "metadata": {},
   "outputs": [],
   "source": [
    "# create reader\n",
    "reader = Reader(rating_scale=(1,5))\n",
    "# generate data required for surprise\n",
    "data = Dataset.load_from_df(train[[\"reviewerID\", \"asin\", \"overall\"]], reader)\n",
    "# generating trainset\n",
    "trainset = data.build_full_trainset()"
   ]
  },
  {
   "cell_type": "markdown",
   "id": "cc2c289d",
   "metadata": {},
   "source": [
    "## Instantiate Pre-Initialised Matrix Factorization (Topic Modelling)"
   ]
  },
  {
   "cell_type": "code",
   "execution_count": 16,
   "id": "6f59e06e",
   "metadata": {},
   "outputs": [],
   "source": [
    "# instantiating ti_mf\n",
    "ti_mf = cf.PreInitialisedMF(user_map=user_idx_map,\n",
    "                            item_map=item_idx_map,\n",
    "                            user_factor=user_factors,\n",
    "                            item_factor=item_factors,\n",
    "                            learning_rate=LR_ALL,\n",
    "                            beta=BETA,\n",
    "                            num_epochs=N_EPOCHS,\n",
    "                            num_factors=50)"
   ]
  },
  {
   "cell_type": "code",
   "execution_count": 17,
   "id": "cc866db5",
   "metadata": {},
   "outputs": [
    {
     "name": "stdout",
     "output_type": "stream",
     "text": [
      "Processing epoch 0\n",
      "Processing epoch 1\n",
      "Processing epoch 2\n",
      "Processing epoch 3\n",
      "Processing epoch 4\n",
      "Processing epoch 5\n",
      "Processing epoch 6\n",
      "Processing epoch 7\n",
      "Processing epoch 8\n",
      "Processing epoch 9\n",
      "CPU times: user 5min 36s, sys: 1.41 s, total: 5min 37s\n",
      "Wall time: 5min 40s\n"
     ]
    }
   ],
   "source": [
    "%%time\n",
    "# fitting to training data\n",
    "ti_mf.fit(trainset, verbose=True)"
   ]
  },
  {
   "cell_type": "code",
   "execution_count": 18,
   "id": "ab9b930d",
   "metadata": {},
   "outputs": [
    {
     "name": "stdout",
     "output_type": "stream",
     "text": [
      "CPU times: user 42.8 s, sys: 1.85 s, total: 44.7 s\n",
      "Wall time: 44.8 s\n"
     ]
    }
   ],
   "source": [
    "%%time\n",
    "# generate candidate items for user to predict rating\n",
    "testset = trainset.build_anti_testset()"
   ]
  },
  {
   "cell_type": "code",
   "execution_count": 19,
   "id": "c5a239a9",
   "metadata": {},
   "outputs": [
    {
     "name": "stdout",
     "output_type": "stream",
     "text": [
      "CPU times: user 12min 5s, sys: 5min 35s, total: 17min 40s\n",
      "Wall time: 19min 54s\n"
     ]
    }
   ],
   "source": [
    "%%time\n",
    "# predict ratings for all pairs (u, i) that are NOT in the training set\n",
    "candidate_items = ti_mf.test(testset, verbose=False)"
   ]
  },
  {
   "cell_type": "markdown",
   "id": "81f4fe03",
   "metadata": {},
   "source": [
    "## Save Model\n",
    "* Not adviced to save model due to long persistence time required to save model."
   ]
  },
  {
   "cell_type": "code",
   "execution_count": 20,
   "id": "8ca1b444",
   "metadata": {},
   "outputs": [],
   "source": [
    "# MODEL_PATH.parent.mkdir(parents=True, exist_ok=True)\n",
    "# dump.dump(MODEL_PATH, algo=ti_mf)"
   ]
  },
  {
   "cell_type": "code",
   "execution_count": 21,
   "id": "db53d184",
   "metadata": {},
   "outputs": [],
   "source": [
    "# load model\n",
    "# _, ti_mf = dump.load(MODEL_PATH)"
   ]
  },
  {
   "cell_type": "markdown",
   "id": "773e39b0",
   "metadata": {},
   "source": [
    "## Loop through N = {10, 25, 30, 45}"
   ]
  },
  {
   "cell_type": "code",
   "execution_count": 22,
   "id": "74a1d337",
   "metadata": {},
   "outputs": [],
   "source": [
    "# generate item popularity\n",
    "item_popularity = evaluate_model.generate_item_popularity(train)"
   ]
  },
  {
   "cell_type": "code",
   "execution_count": 23,
   "id": "cdfce793",
   "metadata": {},
   "outputs": [
    {
     "name": "stdout",
     "output_type": "stream",
     "text": [
      "The TI-MF has an average recall@10: 0.00195, average novelty@10: 0.96859\n",
      "The TI-MF has an average recall@25: 0.00689, average novelty@25: 0.95925\n",
      "The TI-MF has an average recall@30: 0.00829, average novelty@30: 0.95847\n",
      "The TI-MF has an average recall@45: 0.01263, average novelty@45: 0.95831\n"
     ]
    }
   ],
   "source": [
    "n_recommendations = {}\n",
    "for n in [10, 25, 30, 45]:\n",
    "    # retrieve the top-n items based on similarities\n",
    "    # top_ns = get_top_n(candidate_items, n)\n",
    "    top_ns = ti_mf.get_top_n(candidate_items, n)\n",
    "    # evaluate how well the recommended items predicted the future purchases\n",
    "    n_recommended_items = (evaluate_model.\n",
    "                           evaluate_recommendations(model_name = 'TI-MF',\n",
    "                                                    top_ns = top_ns,\n",
    "                                                    user_rating_history = test_user_history, \n",
    "                                                    item_popularity = item_popularity, \n",
    "                                                    n = n,\n",
    "                                                    mf_based = True))\n",
    "    # saving the n-value and recommended items\n",
    "    n_recommendations[n] = (top_ns, n_recommended_items)"
   ]
  },
  {
   "cell_type": "markdown",
   "id": "733a392d",
   "metadata": {},
   "source": [
    "# Evaluate N-Recommendations"
   ]
  },
  {
   "cell_type": "markdown",
   "id": "e936d5be",
   "metadata": {},
   "source": [
    "## N=10"
   ]
  },
  {
   "cell_type": "code",
   "execution_count": 24,
   "id": "2a97ac0d",
   "metadata": {},
   "outputs": [
    {
     "name": "stdout",
     "output_type": "stream",
     "text": [
      "For user: A4F6KTQ0A6REY:\n",
      "Purchase History:\n",
      "             asin                                              title\n",
      "29467  B0009JOX2S  Purina Fancy Feast With Ocean Fish &amp; Salmo...\n",
      "43750  B0012KB466  Purina Fancy Feast Flaked Feast Wet Cat Food -...\n",
      "63942  B005MWF4BQ  Purina Fancy Feast Purely Natural Entrees in a...\n",
      "64115  B005OB3E30  Purina Fancy Feast Gravy Lovers Poultry &amp; ...\n",
      "\n",
      "Recommending:\n",
      "\n",
      "         asin                                              title\n",
      "0  B003BYQ100             Armarkat B5701 57-Inch Cat Tree, Ivory\n",
      "1  B001IMN8GW  New Kitty Cat Fun Play Tunnel 4 Feet Long Pet ...\n",
      "2  B00025Z6IO  HIKARI Tropical Algae Wafers for Plecostomus &...\n",
      "3  B000K9JRH8  GoCat DaBird Feather Refill, Assorted Colors, ...\n",
      "4  B0002Y1QOI                        Rattling Fur Mice - 12 pack\n",
      "5  B0009YUE7Q         Our Pets Lift-N-Aid Large Mobility Harness\n",
      "6  B0051BGOJ4    KONG Beaver Refillable Catnip Toy (Colors Vary)\n",
      "7  B0029NIBE8            Whiskas Tender Bites Wet Cat Food Pouch\n",
      "8  B001JQLKS0        KONG Cat Wubba Bunny, Cat Toy (Colors Vary)\n",
      "9  B0012KB4M0  Purina Busy Bone Large Dog Treats - 8 Count - ...\n"
     ]
    }
   ],
   "source": [
    "top_ns_10 = n_recommendations[10][0]\n",
    "utilities.retrieve_recommendations(train, top_ns_10, mf_based=True)"
   ]
  },
  {
   "cell_type": "markdown",
   "id": "8fc28d45",
   "metadata": {},
   "source": [
    "## N=25"
   ]
  },
  {
   "cell_type": "code",
   "execution_count": 25,
   "id": "ad7a350d",
   "metadata": {},
   "outputs": [
    {
     "name": "stdout",
     "output_type": "stream",
     "text": [
      "For user: A162BBV0C0ZFNK:\n",
      "Purchase History:\n",
      "             asin                                              title\n",
      "24594  B0002XJ15U  X-O Odor Neutralizer Concentrated ( 32oz, 1gal...\n",
      "24598  B0002XJ15U  X-O Odor Neutralizer Concentrated ( 32oz, 1gal...\n",
      "51429  B001Q9EGHC      Hartz Nodor Unscented Cat Litter Spray - 17oz\n",
      "\n",
      "Recommending:\n",
      "\n",
      "          asin                                              title\n",
      "0   B00025Z6IO  HIKARI Tropical Algae Wafers for Plecostomus &...\n",
      "1   B003B3S3TS  EZwhelp 27&quot; x 32&quot; Machine Washable, ...\n",
      "2   B009XB1E5W  Allmax Puppy Training Pads, 27.5-Inch by 35.5-...\n",
      "3   B000HHSAU8    Tetra Whisper Fish Net With Soft Cushion Handle\n",
      "4   B0012KB4M0  Purina Busy Bone Large Dog Treats - 8 Count - ...\n",
      "5   B000GA75RK  33 Pack GRIDLOCK 24&rdquo; x 24&rdquo; Puppy D...\n",
      "6   B0017JFNNC                     Redbarn Naturals Bully Springs\n",
      "7   B00028ZLV8      Sentry Petrodex Enzymatic Toothpaste for Dogs\n",
      "8   B0029O0XGQ                     Temptations Classic Cat Treats\n",
      "9   B000F4O9S0  LuckyPet Pet ID Tag - Round - Custom engraved ...\n",
      "10  B000255MZG         API STRESS COAT Aquarium Water Conditioner\n",
      "11  B0002563S6          Magic Coat Cat Tearless Shampoo, 12-Ounce\n",
      "12  B000CMKHSQ  JW Pet Company Insight Cuttlebone Holder, Colo...\n",
      "13  B00025YUR2     Marineland Magnum Dual Purpose Canister Filter\n",
      "14  B0002DJVQY   JW Pet Company Activitoys Triple Mirror Bird Toy\n",
      "15  B000F4AVPA                                Chuckit! Ultra Ball\n",
      "16  B003BYQ100             Armarkat B5701 57-Inch Cat Tree, Ivory\n",
      "17  B000A6UF4U     Gamma2 Vittles Vault Plus for Pet Food Storage\n",
      "18  B0002I0O5G  Outward Hound Hide-A-Squirrel Puzzle Plush Squ...\n",
      "19  B0002ARKVA           Kenic Kalaya Emu Oil Pet Spray, 17-Ounce\n",
      "20  B0013L2DSC  Oxbow Essentials Adult Guinea Pig (Timothy Bas...\n",
      "21  B001LNUKE6                Purebites Cheddar Cheese Dog Treats\n",
      "22  B0000AH3QT  Purina One Smartblend Natural Formula Adult Dr...\n",
      "23  B0029NIBE8            Whiskas Tender Bites Wet Cat Food Pouch\n",
      "24  B003JFRQQ4  Scaredy Cut Tiny Trim by Small Pet Grooming Sa...\n"
     ]
    }
   ],
   "source": [
    "top_ns_25 = n_recommendations[25][0]\n",
    "utilities.retrieve_recommendations(train, top_ns_25, mf_based=True)"
   ]
  },
  {
   "cell_type": "markdown",
   "id": "2adc3b85",
   "metadata": {},
   "source": [
    "## N=30"
   ]
  },
  {
   "cell_type": "code",
   "execution_count": 26,
   "id": "db0a60a2",
   "metadata": {},
   "outputs": [
    {
     "name": "stdout",
     "output_type": "stream",
     "text": [
      "For user: ABJVSQBJ4G438:\n",
      "Purchase History:\n",
      "             asin                                              title\n",
      "68610  B00H7PY3JA  Petseer Pet Odor Eliminator and Stain Remover ...\n",
      "68836  B00IRJUCL8  Pawbiotics pet probiotics and enzymes with pre...\n",
      "68858  B00JRC5WC8  Cat Bed - Cozy Cat Thermal Cat Mat Cheetah Leo...\n",
      "\n",
      "Recommending:\n",
      "\n",
      "          asin                                              title\n",
      "0   B00025Z6IO  HIKARI Tropical Algae Wafers for Plecostomus &...\n",
      "1   B000F4O9S0  LuckyPet Pet ID Tag - Round - Custom engraved ...\n",
      "2   B00028ZLV8      Sentry Petrodex Enzymatic Toothpaste for Dogs\n",
      "3   B0002ARKVA           Kenic Kalaya Emu Oil Pet Spray, 17-Ounce\n",
      "4   B0012KB4M0  Purina Busy Bone Large Dog Treats - 8 Count - ...\n",
      "5   B000HHSAU8    Tetra Whisper Fish Net With Soft Cushion Handle\n",
      "6   B0002DK4AG  Four Paws Magic Coat Gentle Slicker Wire Brush...\n",
      "7   B0002563S6          Magic Coat Cat Tearless Shampoo, 12-Ounce\n",
      "8   B0017JFNNC                     Redbarn Naturals Bully Springs\n",
      "9   B0029O0XGQ                     Temptations Classic Cat Treats\n",
      "10  B000255MZG         API STRESS COAT Aquarium Water Conditioner\n",
      "11  B00025YUR2     Marineland Magnum Dual Purpose Canister Filter\n",
      "12  B0002AR18M                                 HDP Cat Zoom Groom\n",
      "13  B003BYQ100             Armarkat B5701 57-Inch Cat Tree, Ivory\n",
      "14  B0049WPZX2  Kitty Tube The Gen 3 Outdoor Insulated Cat Hou...\n",
      "15  B000F4AVPA                                Chuckit! Ultra Ball\n",
      "16  B0000AH3QT  Purina One Smartblend Natural Formula Adult Dr...\n",
      "17  B001LNUKE6                Purebites Cheddar Cheese Dog Treats\n",
      "18  B0013L2DSC  Oxbow Essentials Adult Guinea Pig (Timothy Bas...\n",
      "19  B0002DJVQY   JW Pet Company Activitoys Triple Mirror Bird Toy\n",
      "20  B00337KW8M           Vetericyn Wound &amp; Skin Care Hydrogel\n",
      "21  B0029NIBE8            Whiskas Tender Bites Wet Cat Food Pouch\n",
      "22  B000CMKHSQ  JW Pet Company Insight Cuttlebone Holder, Colo...\n",
      "23  B000F4UBQO  LuckyPet Pet ID Tag - Heart - Custom engraved ...\n",
      "24  B000K9JRH8  GoCat DaBird Feather Refill, Assorted Colors, ...\n",
      "25  B007CREMW6                             Flexi Giant Tape Leash\n",
      "26  B000A6UF4U     Gamma2 Vittles Vault Plus for Pet Food Storage\n",
      "27  B0002ASPT6  Nylabone Big Chew Durable Toy Bone for Large B...\n",
      "28  B0012KB4D4  Purina Friskies Gravy Sensations Wet Cat Food ...\n",
      "29  B000296N7S  Panacur C Canine Dewormer, Net Wt. 12 Grams, P...\n"
     ]
    }
   ],
   "source": [
    "top_ns_30 = n_recommendations[30][0]\n",
    "utilities.retrieve_recommendations(train, top_ns_30, mf_based=True)"
   ]
  },
  {
   "cell_type": "markdown",
   "id": "d2f8f8f8",
   "metadata": {},
   "source": [
    "## N=45"
   ]
  },
  {
   "cell_type": "code",
   "execution_count": 27,
   "id": "8daf6f5e",
   "metadata": {},
   "outputs": [
    {
     "name": "stdout",
     "output_type": "stream",
     "text": [
      "For user: A27DWPL2X5520Z:\n",
      "Purchase History:\n",
      "             asin                                              title\n",
      "16881  B0002DGLPS  Nylabone FlexiChew Regular Bone Dog Chew Toy, ...\n",
      "16895  B0002DGLPS  Nylabone FlexiChew Regular Bone Dog Chew Toy, ...\n",
      "29822  B0009X0RA6  Chicken Soup For The Dog Lover'S Soul Dry Dog ...\n",
      "48062  B001CXIUVK  Corner Dog Bed with Bolster XXL 44&quot; x 64&...\n",
      "\n",
      "Recommending:\n",
      "\n",
      "          asin                                              title\n",
      "0   B00025Z6IO  HIKARI Tropical Algae Wafers for Plecostomus &...\n",
      "1   B000HHSAU8    Tetra Whisper Fish Net With Soft Cushion Handle\n",
      "2   B000F4O9S0  LuckyPet Pet ID Tag - Round - Custom engraved ...\n",
      "3   B00028ZLV8      Sentry Petrodex Enzymatic Toothpaste for Dogs\n",
      "4   B0012KB4M0  Purina Busy Bone Large Dog Treats - 8 Count - ...\n",
      "5   B0017JFNNC                     Redbarn Naturals Bully Springs\n",
      "6   B001LNUKE6                Purebites Cheddar Cheese Dog Treats\n",
      "7   B0002563S6          Magic Coat Cat Tearless Shampoo, 12-Ounce\n",
      "8   B0029O0XGQ                     Temptations Classic Cat Treats\n",
      "9   B000CMKHSQ  JW Pet Company Insight Cuttlebone Holder, Colo...\n",
      "10  B0000AH3QT  Purina One Smartblend Natural Formula Adult Dr...\n",
      "11  B000F4AVPA                                Chuckit! Ultra Ball\n",
      "12  B0013L2DSC  Oxbow Essentials Adult Guinea Pig (Timothy Bas...\n",
      "13  B0017J8NDY  Mammoth Flossy Chews Cottonblend Color 5-Knot ...\n",
      "14  B003BYQ100             Armarkat B5701 57-Inch Cat Tree, Ivory\n",
      "15  B000255MZG         API STRESS COAT Aquarium Water Conditioner\n",
      "16  B0002ARKVA           Kenic Kalaya Emu Oil Pet Spray, 17-Ounce\n",
      "17  B0049WPZX2  Kitty Tube The Gen 3 Outdoor Insulated Cat Hou...\n",
      "18  B0002DK4AG  Four Paws Magic Coat Gentle Slicker Wire Brush...\n",
      "19  B00025YUR2     Marineland Magnum Dual Purpose Canister Filter\n",
      "20  B00027466A                            Chuckit! Travel Dog Bed\n",
      "21  B0002ASCGM  Van Ness Odor Control Extra Giant Enclosed Cat...\n",
      "22  B00337KW8M           Vetericyn Wound &amp; Skin Care Hydrogel\n",
      "23  B004J1JPUC  Antler Dog Chew From Pet Expertise, X-Small 3&...\n",
      "24  B003JFRQQ4  Scaredy Cut Tiny Trim by Small Pet Grooming Sa...\n",
      "25  B0051QJRBG  Feliway Behavior Modification Spray, 75 ml - 3...\n",
      "26  B000A6UF4U     Gamma2 Vittles Vault Plus for Pet Food Storage\n",
      "27  B000FO1QOU  Tomlyn High Calorie Nutritional Gel for Puppie...\n",
      "28  B0029NIBE8            Whiskas Tender Bites Wet Cat Food Pouch\n",
      "29  B00008DFK5      KONG - Easy Treat - Dog Treat Paste - 8 Ounce\n",
      "30  B000MLG4K2  Wellness Wellbites Soft Natural Dog Treats, Tu...\n",
      "31  B0002DJVQY   JW Pet Company Activitoys Triple Mirror Bird Toy\n",
      "32  B000K9JRH8  GoCat DaBird Feather Refill, Assorted Colors, ...\n",
      "33  B005799UUK                              Redbarn Bully Springs\n",
      "34  B000296N7S  Panacur C Canine Dewormer, Net Wt. 12 Grams, P...\n",
      "35  B000N5Z5YI                  Merrick Lamb Hold EMS Filets 8 Oz\n",
      "36  B0015G862M  Stella &amp; Chewy'S Freeze-Dried Dinner Patti...\n",
      "37  B00CPDWT2M  Benebone Real Flavor Wishbone Dog Chew Toy, Ma...\n",
      "38  B0012KB4D4  Purina Friskies Gravy Sensations Wet Cat Food ...\n",
      "39  B000OUOYH6                       Pet Botanics Training Reward\n",
      "40  B00E8GJU7Q           2 Pack Feliway Electric Diffuser (48 Ml)\n",
      "41  B0006JKCN0              KONG Frog Dog Toy, Extra Small, Green\n",
      "42  B000OQPVUE  TetraCichlid Cichlid Crisps Advanced Clear Wat...\n",
      "43  B000MLHDS4  Wellness Pure Rewards Natural Grain Free Dog T...\n",
      "44  B0018CJZ32                         SmartCat Corner Litter Box\n"
     ]
    }
   ],
   "source": [
    "top_ns_45 = n_recommendations[45][0]\n",
    "utilities.retrieve_recommendations(train, top_ns_45, mf_based=True)"
   ]
  },
  {
   "cell_type": "code",
   "execution_count": null,
   "id": "0ab22405",
   "metadata": {},
   "outputs": [],
   "source": []
  }
 ],
 "metadata": {
  "kernelspec": {
   "display_name": "Python 3 (ipykernel)",
   "language": "python",
   "name": "python3"
  },
  "language_info": {
   "codemirror_mode": {
    "name": "ipython",
    "version": 3
   },
   "file_extension": ".py",
   "mimetype": "text/x-python",
   "name": "python",
   "nbconvert_exporter": "python",
   "pygments_lexer": "ipython3",
   "version": "3.9.6"
  }
 },
 "nbformat": 4,
 "nbformat_minor": 5
}
