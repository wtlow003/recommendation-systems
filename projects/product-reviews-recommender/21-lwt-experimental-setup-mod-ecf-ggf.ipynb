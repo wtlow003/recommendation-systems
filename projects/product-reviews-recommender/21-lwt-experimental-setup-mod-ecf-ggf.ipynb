{
 "cells": [
  {
   "cell_type": "code",
   "execution_count": 1,
   "id": "36551cca",
   "metadata": {},
   "outputs": [
    {
     "name": "stderr",
     "output_type": "stream",
     "text": [
      "/Users/jensen/Desktop/recommendation-systems/projects/product-reviews-recommender/.venv/lib/python3.9/site-packages/gensim/similarities/__init__.py:15: UserWarning: The gensim.similarities.levenshtein submodule is disabled, because the optional Levenshtein package <https://pypi.org/project/python-Levenshtein/> is unavailable. Install Levenhstein (e.g. `pip install python-Levenshtein`) to suppress this warning.\n",
      "  warnings.warn(msg)\n"
     ]
    }
   ],
   "source": [
    "import warnings\n",
    "\n",
    "import numpy as np\n",
    "import pandas as pd\n",
    "\n",
    "from gensim.models.doc2vec import Doc2Vec\n",
    "from surprise import Dataset, Reader\n",
    "from tqdm import tqdm\n",
    "\n",
    "from src.models import cf, evaluate_model\n",
    "from src.utilities import utilities\n",
    "\n",
    "tqdm.pandas()\n",
    "warnings.filterwarnings('ignore')"
   ]
  },
  {
   "cell_type": "markdown",
   "id": "3e56bfe5",
   "metadata": {},
   "source": [
    "# Load Data and Models"
   ]
  },
  {
   "cell_type": "code",
   "execution_count": 2,
   "id": "d4e036df",
   "metadata": {},
   "outputs": [],
   "source": [
    "# global variables\n",
    "DATA_PATH = \"data/evaluation\"\n",
    "D2V_PATH = \"models/d2v\"\n",
    "CATEGORY = \"Grocery_and_Gourmet_Food\"\n",
    "\n",
    "# d2v training parameters\n",
    "EPOCHS = 10\n",
    "\n",
    "# training parameters\n",
    "N_EPOCHS = 15\n",
    "LR_ALL = 0.01\n",
    "BETA = 0.1\n",
    "\n",
    "# reproducibility checks\n",
    "SEED = 42\n",
    "np.random.seed(42)\n",
    "\n",
    "train = pd.read_csv(f\"{DATA_PATH}/{CATEGORY}_train.csv\")\n",
    "d2v = Doc2Vec.load(f\"{D2V_PATH}/{CATEGORY}_user_item_50_{EPOCHS}_d2v.model\")"
   ]
  },
  {
   "cell_type": "code",
   "execution_count": 3,
   "id": "4b085128",
   "metadata": {
    "scrolled": true
   },
   "outputs": [
    {
     "data": {
      "text/html": [
       "<div>\n",
       "<style scoped>\n",
       "    .dataframe tbody tr th:only-of-type {\n",
       "        vertical-align: middle;\n",
       "    }\n",
       "\n",
       "    .dataframe tbody tr th {\n",
       "        vertical-align: top;\n",
       "    }\n",
       "\n",
       "    .dataframe thead th {\n",
       "        text-align: right;\n",
       "    }\n",
       "</style>\n",
       "<table border=\"1\" class=\"dataframe\">\n",
       "  <thead>\n",
       "    <tr style=\"text-align: right;\">\n",
       "      <th></th>\n",
       "      <th>index</th>\n",
       "      <th>asin</th>\n",
       "      <th>title</th>\n",
       "      <th>categories</th>\n",
       "      <th>reviewerID</th>\n",
       "      <th>overall</th>\n",
       "      <th>reviewText</th>\n",
       "      <th>reviewTime</th>\n",
       "      <th>processedReviewText</th>\n",
       "    </tr>\n",
       "  </thead>\n",
       "  <tbody>\n",
       "    <tr>\n",
       "      <th>0</th>\n",
       "      <td>0</td>\n",
       "      <td>9742356831</td>\n",
       "      <td>Mae Ploy Green Curry Paste, 14 oz</td>\n",
       "      <td>['Grocery &amp; Gourmet Food', 'Sauces, Gravies &amp; ...</td>\n",
       "      <td>A23RYWDS884TUL</td>\n",
       "      <td>5.0</td>\n",
       "      <td>This curry paste makes a delicious curry.  I j...</td>\n",
       "      <td>2013-05-28</td>\n",
       "      <td>curry paste delicious curry fry chicken vegeta...</td>\n",
       "    </tr>\n",
       "    <tr>\n",
       "      <th>1</th>\n",
       "      <td>1</td>\n",
       "      <td>9742356831</td>\n",
       "      <td>Mae Ploy Green Curry Paste, 14 oz</td>\n",
       "      <td>['Grocery &amp; Gourmet Food', 'Sauces, Gravies &amp; ...</td>\n",
       "      <td>A945RBQWGZXCK</td>\n",
       "      <td>5.0</td>\n",
       "      <td>I've purchased different curries in the grocer...</td>\n",
       "      <td>2012-09-17</td>\n",
       "      <td>purchase different curry grocery store complet...</td>\n",
       "    </tr>\n",
       "    <tr>\n",
       "      <th>2</th>\n",
       "      <td>3</td>\n",
       "      <td>9742356831</td>\n",
       "      <td>Mae Ploy Green Curry Paste, 14 oz</td>\n",
       "      <td>['Grocery &amp; Gourmet Food', 'Sauces, Gravies &amp; ...</td>\n",
       "      <td>A3AMNY44OP8AOU</td>\n",
       "      <td>4.0</td>\n",
       "      <td>I started a new diet restricting all added sug...</td>\n",
       "      <td>2014-01-23</td>\n",
       "      <td>start new diet restrict added sugar brand suga...</td>\n",
       "    </tr>\n",
       "    <tr>\n",
       "      <th>3</th>\n",
       "      <td>4</td>\n",
       "      <td>9742356831</td>\n",
       "      <td>Mae Ploy Green Curry Paste, 14 oz</td>\n",
       "      <td>['Grocery &amp; Gourmet Food', 'Sauces, Gravies &amp; ...</td>\n",
       "      <td>A3IB4CQ2QEJLJ8</td>\n",
       "      <td>5.0</td>\n",
       "      <td>So many flavors. I can't begin to tell you how...</td>\n",
       "      <td>2014-04-27</td>\n",
       "      <td>flavor begin tell love mae ploy curry ask reci...</td>\n",
       "    </tr>\n",
       "    <tr>\n",
       "      <th>4</th>\n",
       "      <td>5</td>\n",
       "      <td>9742356831</td>\n",
       "      <td>Mae Ploy Green Curry Paste, 14 oz</td>\n",
       "      <td>['Grocery &amp; Gourmet Food', 'Sauces, Gravies &amp; ...</td>\n",
       "      <td>AQA5DF3RWKETQ</td>\n",
       "      <td>5.0</td>\n",
       "      <td>I've used this a lot recently in some of my ch...</td>\n",
       "      <td>2012-11-27</td>\n",
       "      <td>use lot recently chicken dish use lot like spi...</td>\n",
       "    </tr>\n",
       "    <tr>\n",
       "      <th>47769</th>\n",
       "      <td>77420</td>\n",
       "      <td>B00I33696K</td>\n",
       "      <td>Reese's Miniature Peanut Butter Cups .31oz - 1...</td>\n",
       "      <td>['Grocery &amp; Gourmet Food', 'Candy &amp; Chocolate'...</td>\n",
       "      <td>A192LQZWDYPR4U</td>\n",
       "      <td>5.0</td>\n",
       "      <td>Another quality Reese Peanut Butter Cup produc...</td>\n",
       "      <td>2014-02-27</td>\n",
       "      <td>quality reese peanut butter cup product great ...</td>\n",
       "    </tr>\n",
       "    <tr>\n",
       "      <th>47770</th>\n",
       "      <td>77421</td>\n",
       "      <td>B00I33696K</td>\n",
       "      <td>Reese's Miniature Peanut Butter Cups .31oz - 1...</td>\n",
       "      <td>['Grocery &amp; Gourmet Food', 'Candy &amp; Chocolate'...</td>\n",
       "      <td>A2QKXW3LDQ66P5</td>\n",
       "      <td>5.0</td>\n",
       "      <td>I purchased these for my husband who has every...</td>\n",
       "      <td>2013-02-20</td>\n",
       "      <td>purchase husband love reeses valentine day pre...</td>\n",
       "    </tr>\n",
       "    <tr>\n",
       "      <th>47771</th>\n",
       "      <td>77430</td>\n",
       "      <td>B00ID9VSOM</td>\n",
       "      <td>Viva Labs Organic Coconut Sugar: Non-GMO, Low-...</td>\n",
       "      <td>['Grocery &amp; Gourmet Food', 'Cooking &amp; Baking',...</td>\n",
       "      <td>A2P3TGJU301KXD</td>\n",
       "      <td>5.0</td>\n",
       "      <td>this stuff is INCREDIBILY yummy! SO much bette...</td>\n",
       "      <td>2014-07-15</td>\n",
       "      <td>stuff incredibily yummy good regular brown sug...</td>\n",
       "    </tr>\n",
       "    <tr>\n",
       "      <th>47772</th>\n",
       "      <td>77456</td>\n",
       "      <td>B00IRL93SY</td>\n",
       "      <td>Barrie House Kenya Estate - AA Single Cup Caps...</td>\n",
       "      <td>['Grocery &amp; Gourmet Food', 'Beverages', 'Coffe...</td>\n",
       "      <td>AEFE9VDHTQ199</td>\n",
       "      <td>5.0</td>\n",
       "      <td>Very nice aroma, body and taste! Will buy this...</td>\n",
       "      <td>2014-05-24</td>\n",
       "      <td>nice aroma body taste buy coffee good coffee a...</td>\n",
       "    </tr>\n",
       "    <tr>\n",
       "      <th>47773</th>\n",
       "      <td>77508</td>\n",
       "      <td>B00ISVHJ3Y</td>\n",
       "      <td>Wholesome Sweeteners, Organic Sweet and Lite S...</td>\n",
       "      <td>['Grocery &amp; Gourmet Food', 'Cooking &amp; Baking',...</td>\n",
       "      <td>A2AEZQ3DGBBLPR</td>\n",
       "      <td>2.0</td>\n",
       "      <td>This is a no go for diabetics according to my ...</td>\n",
       "      <td>2014-06-26</td>\n",
       "      <td>diabetic accord wife doctor order intention us...</td>\n",
       "    </tr>\n",
       "  </tbody>\n",
       "</table>\n",
       "</div>"
      ],
      "text/plain": [
       "       index        asin                                              title  \\\n",
       "0          0  9742356831                  Mae Ploy Green Curry Paste, 14 oz   \n",
       "1          1  9742356831                  Mae Ploy Green Curry Paste, 14 oz   \n",
       "2          3  9742356831                  Mae Ploy Green Curry Paste, 14 oz   \n",
       "3          4  9742356831                  Mae Ploy Green Curry Paste, 14 oz   \n",
       "4          5  9742356831                  Mae Ploy Green Curry Paste, 14 oz   \n",
       "47769  77420  B00I33696K  Reese's Miniature Peanut Butter Cups .31oz - 1...   \n",
       "47770  77421  B00I33696K  Reese's Miniature Peanut Butter Cups .31oz - 1...   \n",
       "47771  77430  B00ID9VSOM  Viva Labs Organic Coconut Sugar: Non-GMO, Low-...   \n",
       "47772  77456  B00IRL93SY  Barrie House Kenya Estate - AA Single Cup Caps...   \n",
       "47773  77508  B00ISVHJ3Y  Wholesome Sweeteners, Organic Sweet and Lite S...   \n",
       "\n",
       "                                              categories      reviewerID  \\\n",
       "0      ['Grocery & Gourmet Food', 'Sauces, Gravies & ...  A23RYWDS884TUL   \n",
       "1      ['Grocery & Gourmet Food', 'Sauces, Gravies & ...   A945RBQWGZXCK   \n",
       "2      ['Grocery & Gourmet Food', 'Sauces, Gravies & ...  A3AMNY44OP8AOU   \n",
       "3      ['Grocery & Gourmet Food', 'Sauces, Gravies & ...  A3IB4CQ2QEJLJ8   \n",
       "4      ['Grocery & Gourmet Food', 'Sauces, Gravies & ...   AQA5DF3RWKETQ   \n",
       "47769  ['Grocery & Gourmet Food', 'Candy & Chocolate'...  A192LQZWDYPR4U   \n",
       "47770  ['Grocery & Gourmet Food', 'Candy & Chocolate'...  A2QKXW3LDQ66P5   \n",
       "47771  ['Grocery & Gourmet Food', 'Cooking & Baking',...  A2P3TGJU301KXD   \n",
       "47772  ['Grocery & Gourmet Food', 'Beverages', 'Coffe...   AEFE9VDHTQ199   \n",
       "47773  ['Grocery & Gourmet Food', 'Cooking & Baking',...  A2AEZQ3DGBBLPR   \n",
       "\n",
       "       overall                                         reviewText  reviewTime  \\\n",
       "0          5.0  This curry paste makes a delicious curry.  I j...  2013-05-28   \n",
       "1          5.0  I've purchased different curries in the grocer...  2012-09-17   \n",
       "2          4.0  I started a new diet restricting all added sug...  2014-01-23   \n",
       "3          5.0  So many flavors. I can't begin to tell you how...  2014-04-27   \n",
       "4          5.0  I've used this a lot recently in some of my ch...  2012-11-27   \n",
       "47769      5.0  Another quality Reese Peanut Butter Cup produc...  2014-02-27   \n",
       "47770      5.0  I purchased these for my husband who has every...  2013-02-20   \n",
       "47771      5.0  this stuff is INCREDIBILY yummy! SO much bette...  2014-07-15   \n",
       "47772      5.0  Very nice aroma, body and taste! Will buy this...  2014-05-24   \n",
       "47773      2.0  This is a no go for diabetics according to my ...  2014-06-26   \n",
       "\n",
       "                                     processedReviewText  \n",
       "0      curry paste delicious curry fry chicken vegeta...  \n",
       "1      purchase different curry grocery store complet...  \n",
       "2      start new diet restrict added sugar brand suga...  \n",
       "3      flavor begin tell love mae ploy curry ask reci...  \n",
       "4      use lot recently chicken dish use lot like spi...  \n",
       "47769  quality reese peanut butter cup product great ...  \n",
       "47770  purchase husband love reeses valentine day pre...  \n",
       "47771  stuff incredibily yummy good regular brown sug...  \n",
       "47772  nice aroma body taste buy coffee good coffee a...  \n",
       "47773  diabetic accord wife doctor order intention us...  "
      ]
     },
     "execution_count": 3,
     "metadata": {},
     "output_type": "execute_result"
    }
   ],
   "source": [
    "# checking train dataframe\n",
    "train.head().append(train.tail())"
   ]
  },
  {
   "cell_type": "code",
   "execution_count": 4,
   "id": "ba37a930",
   "metadata": {},
   "outputs": [
    {
     "data": {
      "text/plain": [
       "array([-0.27549782,  0.20413424, -0.08202688,  0.11671811, -0.12001666,\n",
       "        0.14240262, -0.1531975 , -0.04004756,  0.22749828,  0.07618919,\n",
       "       -0.02856197, -0.17817275, -0.20922764,  0.00729961,  0.23265481,\n",
       "       -0.40277228,  0.14615832, -0.16966432, -0.05449987, -0.17599425,\n",
       "        0.01856123, -0.07569042,  0.19056639,  0.04286703, -0.03356553,\n",
       "        0.3742853 , -0.3664872 ,  0.02314829, -0.3146308 ,  0.09372662,\n",
       "        0.0800645 ,  0.17360352, -0.12081917, -0.20905615,  0.01595591,\n",
       "       -0.02186558, -0.31253535, -0.09657891,  0.15574145,  0.33629766,\n",
       "       -0.2215663 , -0.23758855, -0.14656585, -0.05834552, -0.05299786,\n",
       "       -0.20230757, -0.28766856,  0.07311316,  0.19890316, -0.0960729 ],\n",
       "      dtype=float32)"
      ]
     },
     "execution_count": 4,
     "metadata": {},
     "output_type": "execute_result"
    }
   ],
   "source": [
    "# testing d2v models\n",
    "d2v.dv[0]"
   ]
  },
  {
   "cell_type": "markdown",
   "id": "4ed374ca",
   "metadata": {},
   "source": [
    "# Generating User & Item Embeddings"
   ]
  },
  {
   "cell_type": "code",
   "execution_count": 5,
   "id": "ccc02f16",
   "metadata": {},
   "outputs": [],
   "source": [
    "user_idx_map, user_vecs, item_idx_map, item_vecs = utilities.generate_user_item_embeddings(train, d2v)"
   ]
  },
  {
   "cell_type": "code",
   "execution_count": 6,
   "id": "455ba70f",
   "metadata": {},
   "outputs": [],
   "source": [
    "# converting factors into numpy obj\n",
    "user_factors = user_vecs.to_numpy()\n",
    "item_factors = item_vecs.to_numpy()"
   ]
  },
  {
   "cell_type": "code",
   "execution_count": 7,
   "id": "e06b73c0",
   "metadata": {},
   "outputs": [
    {
     "data": {
      "text/plain": [
       "array([-0.02736311,  0.00325166, -0.00024077,  0.00998505, -0.01258574,\n",
       "       -0.00547524,  0.00145343, -0.00015249,  0.00506267,  0.02065624,\n",
       "        0.01541428,  0.0094595 , -0.03136451,  0.00920544,  0.01232455,\n",
       "       -0.0171574 ,  0.01223645, -0.00086656, -0.0191491 , -0.02470782,\n",
       "       -0.01328263, -0.01610228,  0.00892396,  0.00606314, -0.005087  ,\n",
       "        0.03478223, -0.03029266, -0.01222032, -0.03508016, -0.00363975,\n",
       "        0.02242427,  0.00488477,  0.00057464, -0.00215315, -0.00866075,\n",
       "       -0.00311717, -0.01708894,  0.00399594,  0.03462548,  0.02504152,\n",
       "        0.00528121, -0.00953821,  0.00041977, -0.01929475, -0.00617209,\n",
       "       -0.01144104,  0.00639438, -0.01098371,  0.02299422, -0.00714812],\n",
       "      dtype=float32)"
      ]
     },
     "execution_count": 7,
     "metadata": {},
     "output_type": "execute_result"
    }
   ],
   "source": [
    "# check user factors\n",
    "user_factors[0,:]"
   ]
  },
  {
   "cell_type": "code",
   "execution_count": 8,
   "id": "e0652aad",
   "metadata": {},
   "outputs": [
    {
     "data": {
      "text/plain": [
       "array([-0.27549782,  0.20413424, -0.08202688,  0.11671811, -0.12001666,\n",
       "        0.14240262, -0.1531975 , -0.04004756,  0.22749828,  0.07618919,\n",
       "       -0.02856197, -0.17817275, -0.20922764,  0.00729961,  0.23265481,\n",
       "       -0.40277228,  0.14615832, -0.16966432, -0.05449987, -0.17599425,\n",
       "        0.01856123, -0.07569042,  0.19056639,  0.04286703, -0.03356553,\n",
       "        0.3742853 , -0.3664872 ,  0.02314829, -0.3146308 ,  0.09372662,\n",
       "        0.0800645 ,  0.17360352, -0.12081917, -0.20905615,  0.01595591,\n",
       "       -0.02186558, -0.31253535, -0.09657891,  0.15574145,  0.33629766,\n",
       "       -0.2215663 , -0.23758855, -0.14656585, -0.05834552, -0.05299786,\n",
       "       -0.20230757, -0.28766856,  0.07311316,  0.19890316, -0.0960729 ],\n",
       "      dtype=float32)"
      ]
     },
     "execution_count": 8,
     "metadata": {},
     "output_type": "execute_result"
    }
   ],
   "source": [
    "# check item factors\n",
    "item_factors[0,:]"
   ]
  },
  {
   "cell_type": "markdown",
   "id": "e6e16880",
   "metadata": {},
   "source": [
    "# Utility Functions"
   ]
  },
  {
   "cell_type": "markdown",
   "id": "6c47668d",
   "metadata": {},
   "source": [
    "# Generate N-Recommendations = {10, 25, 30, 45}"
   ]
  },
  {
   "cell_type": "markdown",
   "id": "f58f98d6",
   "metadata": {},
   "source": [
    "## Load Test Data"
   ]
  },
  {
   "cell_type": "code",
   "execution_count": 9,
   "id": "11b82429",
   "metadata": {},
   "outputs": [
    {
     "data": {
      "text/html": [
       "<div>\n",
       "<style scoped>\n",
       "    .dataframe tbody tr th:only-of-type {\n",
       "        vertical-align: middle;\n",
       "    }\n",
       "\n",
       "    .dataframe tbody tr th {\n",
       "        vertical-align: top;\n",
       "    }\n",
       "\n",
       "    .dataframe thead th {\n",
       "        text-align: right;\n",
       "    }\n",
       "</style>\n",
       "<table border=\"1\" class=\"dataframe\">\n",
       "  <thead>\n",
       "    <tr style=\"text-align: right;\">\n",
       "      <th></th>\n",
       "      <th>index</th>\n",
       "      <th>asin</th>\n",
       "      <th>title</th>\n",
       "      <th>categories</th>\n",
       "      <th>reviewerID</th>\n",
       "      <th>overall</th>\n",
       "      <th>reviewText</th>\n",
       "      <th>reviewTime</th>\n",
       "      <th>processedReviewText</th>\n",
       "    </tr>\n",
       "  </thead>\n",
       "  <tbody>\n",
       "    <tr>\n",
       "      <th>0</th>\n",
       "      <td>2</td>\n",
       "      <td>9742356831</td>\n",
       "      <td>Mae Ploy Green Curry Paste, 14 oz</td>\n",
       "      <td>['Grocery &amp; Gourmet Food', 'Sauces, Gravies &amp; ...</td>\n",
       "      <td>A1TCSC0YWT82Q0</td>\n",
       "      <td>5.0</td>\n",
       "      <td>I love ethnic foods and to cook them. I recent...</td>\n",
       "      <td>2013-08-03</td>\n",
       "      <td>love ethnic food cook recently purchase produc...</td>\n",
       "    </tr>\n",
       "    <tr>\n",
       "      <th>1</th>\n",
       "      <td>8</td>\n",
       "      <td>9742356831</td>\n",
       "      <td>Mae Ploy Green Curry Paste, 14 oz</td>\n",
       "      <td>['Grocery &amp; Gourmet Food', 'Sauces, Gravies &amp; ...</td>\n",
       "      <td>A1Z7Y2GMAP9SRY</td>\n",
       "      <td>5.0</td>\n",
       "      <td>I like to make my own curry but this is a tast...</td>\n",
       "      <td>2014-06-27</td>\n",
       "      <td>like curry tasty alternative use base kind dif...</td>\n",
       "    </tr>\n",
       "    <tr>\n",
       "      <th>2</th>\n",
       "      <td>23</td>\n",
       "      <td>B00004S1C5</td>\n",
       "      <td>Ateco Food Coloring Kit, 6 colors</td>\n",
       "      <td>['Grocery &amp; Gourmet Food', 'Cooking &amp; Baking',...</td>\n",
       "      <td>A14YSMLYLJEMET</td>\n",
       "      <td>1.0</td>\n",
       "      <td>This product is no where near natural / organi...</td>\n",
       "      <td>2013-03-29</td>\n",
       "      <td>product near natural organic wish review purch...</td>\n",
       "    </tr>\n",
       "    <tr>\n",
       "      <th>3</th>\n",
       "      <td>31</td>\n",
       "      <td>B00005344V</td>\n",
       "      <td>Traditional Medicinals Organic Breathe Easy Se...</td>\n",
       "      <td>['Grocery &amp; Gourmet Food', 'Beverages', 'Coffe...</td>\n",
       "      <td>A2F488C4PLWGEI</td>\n",
       "      <td>5.0</td>\n",
       "      <td>If my wife drinks a cup of this tea when she f...</td>\n",
       "      <td>2014-03-23</td>\n",
       "      <td>wife drink cup tea feel attack come help avoid...</td>\n",
       "    </tr>\n",
       "    <tr>\n",
       "      <th>4</th>\n",
       "      <td>32</td>\n",
       "      <td>B00005344V</td>\n",
       "      <td>Traditional Medicinals Organic Breathe Easy Se...</td>\n",
       "      <td>['Grocery &amp; Gourmet Food', 'Beverages', 'Coffe...</td>\n",
       "      <td>AO1HXV7DWZZIR</td>\n",
       "      <td>5.0</td>\n",
       "      <td>I don't know about the medicinal aspects of th...</td>\n",
       "      <td>2014-02-06</td>\n",
       "      <td>know medicinal aspect tea flavor downright scr...</td>\n",
       "    </tr>\n",
       "    <tr>\n",
       "      <th>28001</th>\n",
       "      <td>77519</td>\n",
       "      <td>B00ISVHJ3Y</td>\n",
       "      <td>Wholesome Sweeteners, Organic Sweet and Lite S...</td>\n",
       "      <td>['Grocery &amp; Gourmet Food', 'Cooking &amp; Baking',...</td>\n",
       "      <td>A1WT3TVHANP7ZF</td>\n",
       "      <td>3.0</td>\n",
       "      <td>Hmmm. I really wanted to love this sweetener. ...</td>\n",
       "      <td>2014-07-22</td>\n",
       "      <td>hmmm want love sweetener half sugar half stevi...</td>\n",
       "    </tr>\n",
       "    <tr>\n",
       "      <th>28002</th>\n",
       "      <td>77520</td>\n",
       "      <td>B00ISVHJ3Y</td>\n",
       "      <td>Wholesome Sweeteners, Organic Sweet and Lite S...</td>\n",
       "      <td>['Grocery &amp; Gourmet Food', 'Cooking &amp; Baking',...</td>\n",
       "      <td>A3NEAETOSXDBOM</td>\n",
       "      <td>5.0</td>\n",
       "      <td>I confess I have a sweet tooth, and love the t...</td>\n",
       "      <td>2014-06-30</td>\n",
       "      <td>confess sweet tooth love taste sugar recognize...</td>\n",
       "    </tr>\n",
       "    <tr>\n",
       "      <th>28003</th>\n",
       "      <td>77521</td>\n",
       "      <td>B00ISVHJ3Y</td>\n",
       "      <td>Wholesome Sweeteners, Organic Sweet and Lite S...</td>\n",
       "      <td>['Grocery &amp; Gourmet Food', 'Cooking &amp; Baking',...</td>\n",
       "      <td>AD1ZOPB0BBEHB</td>\n",
       "      <td>4.0</td>\n",
       "      <td>It has a little of the stevia aftertaste, but ...</td>\n",
       "      <td>2014-07-17</td>\n",
       "      <td>little stevia aftertaste fair compromise able ...</td>\n",
       "    </tr>\n",
       "    <tr>\n",
       "      <th>28004</th>\n",
       "      <td>77522</td>\n",
       "      <td>B00ISVHJ3Y</td>\n",
       "      <td>Wholesome Sweeteners, Organic Sweet and Lite S...</td>\n",
       "      <td>['Grocery &amp; Gourmet Food', 'Cooking &amp; Baking',...</td>\n",
       "      <td>A18ECVX2RJ7HUE</td>\n",
       "      <td>5.0</td>\n",
       "      <td>i love marinade for grilled flank steak or lon...</td>\n",
       "      <td>2014-05-30</td>\n",
       "      <td>love marinade grilled flank steak london broil...</td>\n",
       "    </tr>\n",
       "    <tr>\n",
       "      <th>28005</th>\n",
       "      <td>77523</td>\n",
       "      <td>B00ISVHJ3Y</td>\n",
       "      <td>Wholesome Sweeteners, Organic Sweet and Lite S...</td>\n",
       "      <td>['Grocery &amp; Gourmet Food', 'Cooking &amp; Baking',...</td>\n",
       "      <td>A2G04D4QZAXL15</td>\n",
       "      <td>3.0</td>\n",
       "      <td>I've been using Truvia (a form of stevia) on m...</td>\n",
       "      <td>2014-05-27</td>\n",
       "      <td>use truvia form stevia cereal greek yogurt yea...</td>\n",
       "    </tr>\n",
       "  </tbody>\n",
       "</table>\n",
       "</div>"
      ],
      "text/plain": [
       "       index        asin                                              title  \\\n",
       "0          2  9742356831                  Mae Ploy Green Curry Paste, 14 oz   \n",
       "1          8  9742356831                  Mae Ploy Green Curry Paste, 14 oz   \n",
       "2         23  B00004S1C5                  Ateco Food Coloring Kit, 6 colors   \n",
       "3         31  B00005344V  Traditional Medicinals Organic Breathe Easy Se...   \n",
       "4         32  B00005344V  Traditional Medicinals Organic Breathe Easy Se...   \n",
       "28001  77519  B00ISVHJ3Y  Wholesome Sweeteners, Organic Sweet and Lite S...   \n",
       "28002  77520  B00ISVHJ3Y  Wholesome Sweeteners, Organic Sweet and Lite S...   \n",
       "28003  77521  B00ISVHJ3Y  Wholesome Sweeteners, Organic Sweet and Lite S...   \n",
       "28004  77522  B00ISVHJ3Y  Wholesome Sweeteners, Organic Sweet and Lite S...   \n",
       "28005  77523  B00ISVHJ3Y  Wholesome Sweeteners, Organic Sweet and Lite S...   \n",
       "\n",
       "                                              categories      reviewerID  \\\n",
       "0      ['Grocery & Gourmet Food', 'Sauces, Gravies & ...  A1TCSC0YWT82Q0   \n",
       "1      ['Grocery & Gourmet Food', 'Sauces, Gravies & ...  A1Z7Y2GMAP9SRY   \n",
       "2      ['Grocery & Gourmet Food', 'Cooking & Baking',...  A14YSMLYLJEMET   \n",
       "3      ['Grocery & Gourmet Food', 'Beverages', 'Coffe...  A2F488C4PLWGEI   \n",
       "4      ['Grocery & Gourmet Food', 'Beverages', 'Coffe...   AO1HXV7DWZZIR   \n",
       "28001  ['Grocery & Gourmet Food', 'Cooking & Baking',...  A1WT3TVHANP7ZF   \n",
       "28002  ['Grocery & Gourmet Food', 'Cooking & Baking',...  A3NEAETOSXDBOM   \n",
       "28003  ['Grocery & Gourmet Food', 'Cooking & Baking',...   AD1ZOPB0BBEHB   \n",
       "28004  ['Grocery & Gourmet Food', 'Cooking & Baking',...  A18ECVX2RJ7HUE   \n",
       "28005  ['Grocery & Gourmet Food', 'Cooking & Baking',...  A2G04D4QZAXL15   \n",
       "\n",
       "       overall                                         reviewText  reviewTime  \\\n",
       "0          5.0  I love ethnic foods and to cook them. I recent...  2013-08-03   \n",
       "1          5.0  I like to make my own curry but this is a tast...  2014-06-27   \n",
       "2          1.0  This product is no where near natural / organi...  2013-03-29   \n",
       "3          5.0  If my wife drinks a cup of this tea when she f...  2014-03-23   \n",
       "4          5.0  I don't know about the medicinal aspects of th...  2014-02-06   \n",
       "28001      3.0  Hmmm. I really wanted to love this sweetener. ...  2014-07-22   \n",
       "28002      5.0  I confess I have a sweet tooth, and love the t...  2014-06-30   \n",
       "28003      4.0  It has a little of the stevia aftertaste, but ...  2014-07-17   \n",
       "28004      5.0  i love marinade for grilled flank steak or lon...  2014-05-30   \n",
       "28005      3.0  I've been using Truvia (a form of stevia) on m...  2014-05-27   \n",
       "\n",
       "                                     processedReviewText  \n",
       "0      love ethnic food cook recently purchase produc...  \n",
       "1      like curry tasty alternative use base kind dif...  \n",
       "2      product near natural organic wish review purch...  \n",
       "3      wife drink cup tea feel attack come help avoid...  \n",
       "4      know medicinal aspect tea flavor downright scr...  \n",
       "28001  hmmm want love sweetener half sugar half stevi...  \n",
       "28002  confess sweet tooth love taste sugar recognize...  \n",
       "28003  little stevia aftertaste fair compromise able ...  \n",
       "28004  love marinade grilled flank steak london broil...  \n",
       "28005  use truvia form stevia cereal greek yogurt yea...  "
      ]
     },
     "execution_count": 9,
     "metadata": {},
     "output_type": "execute_result"
    }
   ],
   "source": [
    "test = pd.read_csv(f\"{DATA_PATH}/{CATEGORY}_test.csv\")\n",
    "test.head().append(test.tail())"
   ]
  },
  {
   "cell_type": "code",
   "execution_count": 10,
   "id": "dc34f14f",
   "metadata": {},
   "outputs": [],
   "source": [
    "# generating test history\n",
    "test_user_history = (pd.DataFrame(test.groupby(['reviewerID'])['asin']\n",
    "                                  .apply(list).reset_index()))"
   ]
  },
  {
   "cell_type": "code",
   "execution_count": 11,
   "id": "85b19cfc",
   "metadata": {},
   "outputs": [
    {
     "name": "stdout",
     "output_type": "stream",
     "text": [
      "                  reviewerID  \\\n",
      "0      A00177463W0XWB16A9O05   \n",
      "1      A022899328A0QROR32DCT   \n",
      "2      A068255029AHTHDXZURNU   \n",
      "3      A06944662TFWOKKV4GJKX   \n",
      "4             A1004703RC79J9   \n",
      "...                      ...   \n",
      "13274          AZWRZZAMX90VT   \n",
      "13275          AZXKAH2DE6C8A   \n",
      "13276          AZXON596A1VXC   \n",
      "13277          AZYXC63SS008M   \n",
      "13278          AZZ5ASC403N74   \n",
      "\n",
      "                                                    asin  \n",
      "0                               [B00474OR8G, B00BFM6OAW]  \n",
      "1                                           [B00CMQDKES]  \n",
      "2                                           [B001FA1K2G]  \n",
      "3                                           [B000GFYRHG]  \n",
      "4                                           [B003GTR8IO]  \n",
      "...                                                  ...  \n",
      "13274  [B0007R9L4M, B000CN7BMA, B001EQ5D1K, B002VT3GX...  \n",
      "13275   [B000MAK41I, B004X8TJP2, B006H34CUS, B007W14RMM]  \n",
      "13276                           [B001EO5S0I, B00271QQ7Q]  \n",
      "13277                                       [B0054TWPNC]  \n",
      "13278                                       [B00BIEU5PC]  \n",
      "\n",
      "[13279 rows x 2 columns]\n"
     ]
    }
   ],
   "source": [
    "print(test_user_history)"
   ]
  },
  {
   "cell_type": "markdown",
   "id": "0d650855",
   "metadata": {},
   "source": [
    "## Preparing Dataset for Surprise's Algorithm"
   ]
  },
  {
   "cell_type": "code",
   "execution_count": 12,
   "id": "05afcd97",
   "metadata": {},
   "outputs": [],
   "source": [
    "# create reader\n",
    "reader = Reader(rating_scale=(1,5))\n",
    "# generate data required for surprise\n",
    "data = Dataset.load_from_df(train[[\"reviewerID\", \"asin\", \"overall\"]], reader)\n",
    "# generating trainset\n",
    "trainset = data.build_full_trainset()"
   ]
  },
  {
   "cell_type": "markdown",
   "id": "07343755",
   "metadata": {},
   "source": [
    "## Instantiate Pre-Initialised Matrix Factorization (Paragraph Vector)"
   ]
  },
  {
   "cell_type": "code",
   "execution_count": 13,
   "id": "cd71b389",
   "metadata": {},
   "outputs": [],
   "source": [
    "# instantiating mod-ecf\n",
    "mod_ecf = cf.PreInitialisedMF(user_map=user_idx_map,\n",
    "                              item_map=item_idx_map,\n",
    "                              user_factor=user_factors,\n",
    "                              item_factor=item_factors,\n",
    "                              learning_rate=LR_ALL,\n",
    "                              beta=BETA,\n",
    "                              num_epochs=N_EPOCHS,\n",
    "                              num_factors=50)"
   ]
  },
  {
   "cell_type": "code",
   "execution_count": 14,
   "id": "1eeabadc",
   "metadata": {},
   "outputs": [
    {
     "name": "stdout",
     "output_type": "stream",
     "text": [
      "Processing epoch 0\n",
      "Processing epoch 1\n",
      "Processing epoch 2\n",
      "Processing epoch 3\n",
      "Processing epoch 4\n",
      "Processing epoch 5\n",
      "Processing epoch 6\n",
      "Processing epoch 7\n",
      "Processing epoch 8\n",
      "Processing epoch 9\n",
      "Processing epoch 10\n",
      "Processing epoch 11\n",
      "Processing epoch 12\n",
      "Processing epoch 13\n",
      "Processing epoch 14\n",
      "CPU times: user 5min 49s, sys: 756 ms, total: 5min 49s\n",
      "Wall time: 5min 50s\n"
     ]
    }
   ],
   "source": [
    "%%time\n",
    "# fitting to training data\n",
    "mod_ecf.fit(trainset, verbose=True)"
   ]
  },
  {
   "cell_type": "code",
   "execution_count": 15,
   "id": "fa587004",
   "metadata": {},
   "outputs": [
    {
     "name": "stdout",
     "output_type": "stream",
     "text": [
      "CPU times: user 30.4 s, sys: 1.44 s, total: 31.8 s\n",
      "Wall time: 32 s\n"
     ]
    }
   ],
   "source": [
    "%%time\n",
    "# generate candidate items for user to predict rating\n",
    "testset = trainset.build_anti_testset()"
   ]
  },
  {
   "cell_type": "code",
   "execution_count": 16,
   "id": "c8e539de",
   "metadata": {},
   "outputs": [
    {
     "name": "stdout",
     "output_type": "stream",
     "text": [
      "CPU times: user 7min 25s, sys: 1min 35s, total: 9min\n",
      "Wall time: 9min 43s\n"
     ]
    }
   ],
   "source": [
    "%%time\n",
    "# predict ratings for all pairs (u, i) that are NOT in the training set\n",
    "candidate_items = mod_ecf.test(testset, verbose=False)"
   ]
  },
  {
   "cell_type": "markdown",
   "id": "006c2beb",
   "metadata": {},
   "source": [
    "## Loop through N = {10, 25, 30, 45}"
   ]
  },
  {
   "cell_type": "code",
   "execution_count": 17,
   "id": "b98c854f",
   "metadata": {},
   "outputs": [],
   "source": [
    "# generate item popularity\n",
    "item_popularity = evaluate_model.generate_item_popularity(train)"
   ]
  },
  {
   "cell_type": "code",
   "execution_count": 18,
   "id": "2caa53f0",
   "metadata": {},
   "outputs": [
    {
     "name": "stdout",
     "output_type": "stream",
     "text": [
      "The MOD-ECF has an average recall@10: 0.00043, average novelty@10: 0.97630\n",
      "The MOD-ECF has an average recall@25: 0.00135, average novelty@25: 0.96513\n",
      "The MOD-ECF has an average recall@30: 0.00188, average novelty@30: 0.95590\n",
      "The MOD-ECF has an average recall@45: 0.00236, average novelty@45: 0.95725\n"
     ]
    }
   ],
   "source": [
    "n_recommendations = {}\n",
    "for n in [10, 25, 30, 45]:\n",
    "    # retrieve the top-n items based on similarities\n",
    "    # top_ns = get_top_n(candidate_items, n)\n",
    "    top_ns = mod_ecf.get_top_n(candidate_items, n)\n",
    "    # evaluate how well the recommended items predicted the future purchases\n",
    "    n_recommended_items = (evaluate_model.\n",
    "                           evaluate_recommendations(model_name = 'MOD-ECF',\n",
    "                                                    top_ns = top_ns,\n",
    "                                                    user_rating_history = test_user_history, \n",
    "                                                    item_popularity = item_popularity, \n",
    "                                                    n = n,\n",
    "                                                    mf_based = True))\n",
    "    # saving the n-value and recommended items\n",
    "    n_recommendations[n] = (top_ns, n_recommended_items)"
   ]
  },
  {
   "cell_type": "markdown",
   "id": "d3e73163",
   "metadata": {},
   "source": [
    "# Evaluate N-Recommendations"
   ]
  },
  {
   "cell_type": "markdown",
   "id": "a30e36de",
   "metadata": {},
   "source": [
    "## N=10"
   ]
  },
  {
   "cell_type": "code",
   "execution_count": 19,
   "id": "4e86fdb8",
   "metadata": {},
   "outputs": [
    {
     "name": "stdout",
     "output_type": "stream",
     "text": [
      "For user: A2H84V55USFJQX:\n",
      "Purchase History:\n",
      "             asin                                              title\n",
      "13844  B000ZSZ5S4  Blue Diamond Almonds, Bold Salt &amp; Vinegar,...\n",
      "41088  B005K4Q1T0  Grove Square Hot Cocoa Dark Chocolate, 24 Sing...\n",
      "\n",
      "Recommending:\n",
      "\n",
      "         asin                                              title\n",
      "0  9742356831                  Mae Ploy Green Curry Paste, 14 oz\n",
      "1  B00004S1C5                  Ateco Food Coloring Kit, 6 colors\n",
      "2  B00005344V  Traditional Medicinals Organic Breathe Easy Se...\n",
      "3  B0000CDEPD      Rodelle Organic Pure Vanilla Extract, 4-Ounce\n",
      "4  B0000CFPI2                      BJ-6 3-Pack Jerky Spice Works\n",
      "5  B0000CH39R            See's Candies 3 lb. Assorted Chocolates\n",
      "6  B0000CNU1S                   Dynasty Five Spices Powder, 2 oz\n",
      "7  B0000CNU1X  Hime Powdered Wasabi (Japanese Horseradish) - ...\n",
      "8  B0000CNU15  Lee Kum Kee Chiu Chow Chili Oil net wt. 205g (...\n",
      "9  B0000DBN1H  Tazo Awake English Breakfast Tea, 24 Tea Bags,...\n"
     ]
    }
   ],
   "source": [
    "top_ns_10 = n_recommendations[10][0]\n",
    "utilities.retrieve_recommendations(train, top_ns_10, mf_based=True)"
   ]
  },
  {
   "cell_type": "markdown",
   "id": "ca424cf6",
   "metadata": {},
   "source": [
    "## N=25"
   ]
  },
  {
   "cell_type": "code",
   "execution_count": 20,
   "id": "4522e6db",
   "metadata": {},
   "outputs": [
    {
     "name": "stdout",
     "output_type": "stream",
     "text": [
      "For user: A2W9B725TZBXOX:\n",
      "Purchase History:\n",
      "             asin                                              title\n",
      "1645   B0005Z6LLW  Ghirardelli Hot Chocolate Mix , Chocolate Moch...\n",
      "4683   B000ED9L6C  Bob's Red Mill Raw Shelled Sunflower Seeds (Ke...\n",
      "8508   B000GATCRQ  Dream Foods International Volcano Lemon Burst,...\n",
      "15333  B0014EOUAW  V8 V-Fusion Light Peach Mango Juice Drink, 46-...\n",
      "18192  B001E52ZAS  Post Shredded Wheat Lightly Frosted Cereal, Sp...\n",
      "21093  B001EPQV1W  Honey Bunches of Oats with Almonds, 14.5-Ounce...\n",
      "22932  B001G8UC8K  Tootsie Roll Midgees Candy 5 Pound Value Bag 7...\n",
      "23025  B001GVIRD4                     Grocery &amp; Gourmet Food\" />\n",
      "24945  B001NC8HQS  Idahoan Buttery homestyle flavored mashed pota...\n",
      "25830  B001SAQ7WQ  Progresso Traditional Soup, Chickarina (Chicke...\n",
      "26956  B0025UOMY8  Maruchan Yakisoba Spicy Vegetable, 3.79-Ounce ...\n",
      "33467  B00421DMLM  Libby's Splenda Sliced Peaches, 23.5-Ounce Jar...\n",
      "34141  B004727CL2  Snack Factory Pretzel Crisps Everything, 7.2-O...\n",
      "40204  B005C3IVN8  Anderson's Pure Maple Syrup, Grade A Very Dark...\n",
      "40494  B005ER1DJ6  Quaker Popped Rice Crisps Snacks Chocolate, 7....\n",
      "40552  B005FUMNPU  Quakes Rice Snacks, Sweet Chili, 6 Ounce (Pack...\n",
      "\n",
      "Recommending:\n",
      "\n",
      "          asin                                              title\n",
      "0   9742356831                  Mae Ploy Green Curry Paste, 14 oz\n",
      "1   B00004S1C5                  Ateco Food Coloring Kit, 6 colors\n",
      "2   B00005344V  Traditional Medicinals Organic Breathe Easy Se...\n",
      "3   B0000CDEPD      Rodelle Organic Pure Vanilla Extract, 4-Ounce\n",
      "4   B0000CFPI2                      BJ-6 3-Pack Jerky Spice Works\n",
      "5   B0000CH39R            See's Candies 3 lb. Assorted Chocolates\n",
      "6   B0000CNU1S                   Dynasty Five Spices Powder, 2 oz\n",
      "7   B0000CNU1X  Hime Powdered Wasabi (Japanese Horseradish) - ...\n",
      "8   B0000CNU15  Lee Kum Kee Chiu Chow Chili Oil net wt. 205g (...\n",
      "9   B0000DBN1H  Tazo Awake English Breakfast Tea, 24 Tea Bags,...\n",
      "10  B0000DBN1L               Tazo Organic Chai, 24 Tea Bags 2.3oz\n",
      "11  B0000DGF9V  Brussel's Live Golden Gate Ficus Indoor Bonsai...\n",
      "12  B0000DI085  Simply Organic Almond Extract, Certified Organ...\n",
      "13  B0000DID5R           Dave's Original Insanity Hot Sauce - 5oz\n",
      "14  B0000E5JIU      Cafe Du Monde Coffee Chicory, 15 Ounce Ground\n",
      "15  B0000GHNT0  El Yucateco Chile Habanero Hot Sauce Bottle, R...\n",
      "16  B0000GL6RK         Taj&iacute;n Cl&aacute;sico Seasoning 5 oz\n",
      "17  B0000GHNSQ  El Yucateco Green Hot Sauce Bottle, Chile Haba...\n",
      "18  B0000IJYK4  Maseca Instant Yellow Corn Masa Flour 4.84lb |...\n",
      "19  B0000SXEN2      Sans Sucre Chocolate Mousse Mix - Gluten Free\n",
      "20  B0000TA3SK  Wright's Natural Hickory Seasoning Liquid Smok...\n",
      "21  B0000V09L4  Igourmet Cheddars of the World Assortment, 2-P...\n",
      "22  B0000VLU0I  Nielsen-Massey Madagascar Bourbon Pure Vanilla...\n",
      "23  B0000W0GQQ  Nielsen-Massey Madagascar Bourbon Vanilla Bean...\n",
      "24  B00012182G                                 Fresh Whole Rabbit\n"
     ]
    }
   ],
   "source": [
    "top_ns_25 = n_recommendations[25][0]\n",
    "utilities.retrieve_recommendations(train, top_ns_25, mf_based=True)"
   ]
  },
  {
   "cell_type": "markdown",
   "id": "ffe6bc5f",
   "metadata": {},
   "source": [
    "## N=30"
   ]
  },
  {
   "cell_type": "code",
   "execution_count": 21,
   "id": "02c52994",
   "metadata": {},
   "outputs": [
    {
     "name": "stdout",
     "output_type": "stream",
     "text": [
      "For user: A1G8ECTOF35O2R:\n",
      "Purchase History:\n",
      "             asin                                              title\n",
      "9115   B000H26J7E  Lindt Excellence Bar, 70% Cocoa Smooth Dark Ch...\n",
      "47677  B00EKLPLU4              Healthworks Cacao Powder Organic, 1lb\n",
      "\n",
      "Recommending:\n",
      "\n",
      "          asin                                              title\n",
      "0   9742356831                  Mae Ploy Green Curry Paste, 14 oz\n",
      "1   B00004S1C5                  Ateco Food Coloring Kit, 6 colors\n",
      "2   B00005344V  Traditional Medicinals Organic Breathe Easy Se...\n",
      "3   B0000CDEPD      Rodelle Organic Pure Vanilla Extract, 4-Ounce\n",
      "4   B0000CFPI2                      BJ-6 3-Pack Jerky Spice Works\n",
      "5   B0000CH39R            See's Candies 3 lb. Assorted Chocolates\n",
      "6   B0000CNU1S                   Dynasty Five Spices Powder, 2 oz\n",
      "7   B0000CNU1X  Hime Powdered Wasabi (Japanese Horseradish) - ...\n",
      "8   B0000CNU15  Lee Kum Kee Chiu Chow Chili Oil net wt. 205g (...\n",
      "9   B0000DBN1H  Tazo Awake English Breakfast Tea, 24 Tea Bags,...\n",
      "10  B0000DBN1L               Tazo Organic Chai, 24 Tea Bags 2.3oz\n",
      "11  B0000DGF9V  Brussel's Live Golden Gate Ficus Indoor Bonsai...\n",
      "12  B0000DI085  Simply Organic Almond Extract, Certified Organ...\n",
      "13  B0000DID5R           Dave's Original Insanity Hot Sauce - 5oz\n",
      "14  B0000E5JIU      Cafe Du Monde Coffee Chicory, 15 Ounce Ground\n",
      "15  B0000GHNT0  El Yucateco Chile Habanero Hot Sauce Bottle, R...\n",
      "16  B0000GL6RK         Taj&iacute;n Cl&aacute;sico Seasoning 5 oz\n",
      "17  B0000GHNSQ  El Yucateco Green Hot Sauce Bottle, Chile Haba...\n",
      "18  B0000IJYK4  Maseca Instant Yellow Corn Masa Flour 4.84lb |...\n",
      "19  B0000SXEN2      Sans Sucre Chocolate Mousse Mix - Gluten Free\n",
      "20  B0000TA3SK  Wright's Natural Hickory Seasoning Liquid Smok...\n",
      "21  B0000V09L4  Igourmet Cheddars of the World Assortment, 2-P...\n",
      "22  B0000VLU0I  Nielsen-Massey Madagascar Bourbon Pure Vanilla...\n",
      "23  B0000W0GQQ  Nielsen-Massey Madagascar Bourbon Vanilla Bean...\n",
      "24  B00012182G                                 Fresh Whole Rabbit\n",
      "25  B00013MY78          Red Vines- Original Red Twists, 5.5lb Tub\n",
      "26  B00014HS2S  Prince of Peace Oolong Tea - 100 Tea Bags net ...\n",
      "27  B00014JNI0  YS Organic Bee Farms CERTIFIED ORGANIC RAW HON...\n",
      "28  B00014VTNW            Marmite Yeast Extract Flavored, 4.40 oz\n",
      "29  B0001590BY                           Lyle's Golden Syrup 454g\n"
     ]
    }
   ],
   "source": [
    "top_ns_30 = n_recommendations[30][0]\n",
    "utilities.retrieve_recommendations(train, top_ns_30, mf_based=True)"
   ]
  },
  {
   "cell_type": "markdown",
   "id": "02489a59",
   "metadata": {},
   "source": [
    "## N=45"
   ]
  },
  {
   "cell_type": "code",
   "execution_count": 22,
   "id": "c3588f67",
   "metadata": {},
   "outputs": [
    {
     "name": "stdout",
     "output_type": "stream",
     "text": [
      "For user: A1NEKFNO1E743Y:\n",
      "Purchase History:\n",
      "            asin                                              title\n",
      "8695  B000GFYRHG  Bigelow Constant Comment Tea 20-Count Boxes (P...\n",
      "\n",
      "Recommending:\n",
      "\n",
      "          asin                                              title\n",
      "0   9742356831                  Mae Ploy Green Curry Paste, 14 oz\n",
      "1   B00004S1C5                  Ateco Food Coloring Kit, 6 colors\n",
      "2   B00005344V  Traditional Medicinals Organic Breathe Easy Se...\n",
      "3   B0000CDEPD      Rodelle Organic Pure Vanilla Extract, 4-Ounce\n",
      "4   B0000CFPI2                      BJ-6 3-Pack Jerky Spice Works\n",
      "5   B0000CH39R            See's Candies 3 lb. Assorted Chocolates\n",
      "6   B0000CNU1S                   Dynasty Five Spices Powder, 2 oz\n",
      "7   B0000CNU1X  Hime Powdered Wasabi (Japanese Horseradish) - ...\n",
      "8   B0000CNU15  Lee Kum Kee Chiu Chow Chili Oil net wt. 205g (...\n",
      "9   B0000DBN1H  Tazo Awake English Breakfast Tea, 24 Tea Bags,...\n",
      "10  B0000DBN1L               Tazo Organic Chai, 24 Tea Bags 2.3oz\n",
      "11  B0000DGF9V  Brussel's Live Golden Gate Ficus Indoor Bonsai...\n",
      "12  B0000DI085  Simply Organic Almond Extract, Certified Organ...\n",
      "13  B0000DID5R           Dave's Original Insanity Hot Sauce - 5oz\n",
      "14  B0000E5JIU      Cafe Du Monde Coffee Chicory, 15 Ounce Ground\n",
      "15  B0000GHNT0  El Yucateco Chile Habanero Hot Sauce Bottle, R...\n",
      "16  B0000GL6RK         Taj&iacute;n Cl&aacute;sico Seasoning 5 oz\n",
      "17  B0000GHNSQ  El Yucateco Green Hot Sauce Bottle, Chile Haba...\n",
      "18  B0000IJYK4  Maseca Instant Yellow Corn Masa Flour 4.84lb |...\n",
      "19  B0000SXEN2      Sans Sucre Chocolate Mousse Mix - Gluten Free\n",
      "20  B0000TA3SK  Wright's Natural Hickory Seasoning Liquid Smok...\n",
      "21  B0000V09L4  Igourmet Cheddars of the World Assortment, 2-P...\n",
      "22  B0000VLU0I  Nielsen-Massey Madagascar Bourbon Pure Vanilla...\n",
      "23  B0000W0GQQ  Nielsen-Massey Madagascar Bourbon Vanilla Bean...\n",
      "24  B00012182G                                 Fresh Whole Rabbit\n",
      "25  B00013MY78          Red Vines- Original Red Twists, 5.5lb Tub\n",
      "26  B00014HS2S  Prince of Peace Oolong Tea - 100 Tea Bags net ...\n",
      "27  B00014JNI0  YS Organic Bee Farms CERTIFIED ORGANIC RAW HON...\n",
      "28  B00014VTNW            Marmite Yeast Extract Flavored, 4.40 oz\n",
      "29  B0001590BY                           Lyle's Golden Syrup 454g\n",
      "30  B0001590IC    Freshpak Rooibos Tea 80 Tagless Bags (2 X Pack)\n",
      "31  B00015HNMM               Organic Pu-erh Teabags - 18 Tea Bags\n",
      "32  B00015UC4S                                    Clear Jel, 1 lb\n",
      "33  B00015UC4I                            Arrowroot Powder, 1 lb.\n",
      "34  B00015UC8O                          Barley Malt Powder, 1 lb.\n",
      "35  B00015YTU6                              Quinoa Berries, 1 lb.\n",
      "36  B00016AQRU  Traditional Medicinal Organic Ginger with Cham...\n",
      "37  B00016BS7W                     Pumpkin Seeds - Pepitas, 8 oz.\n",
      "38  B00016JGZI                 Coconut Chips, 1 lb. by Barry Farm\n",
      "39  B00016LA8Y        Better Than Bouillon Base, Lobster, 8 Ounce\n",
      "40  B00016LAFM    BETTER THAN BOUILLON Organic Chicken Base, 8 OZ\n",
      "41  B00016LZT8         Cheddar Cheese Powder, 1 lb. by Barry Farm\n",
      "42  B00016LA98     Better than Bouillon Mushroom Base 8 oz (227g)\n",
      "43  B00016UX1E  Lee Kum Kee Premium Oyster Sauce, 18-Ounce Gla...\n",
      "44  B00016XJM4  Frontier Co-op Nutritional Yeast Mini Flakes, ...\n"
     ]
    }
   ],
   "source": [
    "top_ns_45 = n_recommendations[45][0]\n",
    "utilities.retrieve_recommendations(train, top_ns_45, mf_based=True)"
   ]
  },
  {
   "cell_type": "code",
   "execution_count": null,
   "id": "1bdfb48d",
   "metadata": {},
   "outputs": [],
   "source": []
  }
 ],
 "metadata": {
  "kernelspec": {
   "display_name": "Python 3 (ipykernel)",
   "language": "python",
   "name": "python3"
  },
  "language_info": {
   "codemirror_mode": {
    "name": "ipython",
    "version": 3
   },
   "file_extension": ".py",
   "mimetype": "text/x-python",
   "name": "python",
   "nbconvert_exporter": "python",
   "pygments_lexer": "ipython3",
   "version": "3.9.6"
  }
 },
 "nbformat": 4,
 "nbformat_minor": 5
}
