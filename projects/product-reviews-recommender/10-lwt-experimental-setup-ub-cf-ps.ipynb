{
 "cells": [
  {
   "cell_type": "code",
   "execution_count": 1,
   "id": "2c5d118e",
   "metadata": {},
   "outputs": [
    {
     "name": "stdout",
     "output_type": "stream",
     "text": [
      "INFO: Pandarallel will run on 8 workers.\n",
      "INFO: Pandarallel will use standard multiprocessing data transfer (pipe) to transfer data between the main process and workers.\n"
     ]
    },
    {
     "name": "stderr",
     "output_type": "stream",
     "text": [
      "/Users/jensen/Desktop/recommendation-systems/projects/product-reviews-recommender/.venv/lib/python3.9/site-packages/gensim/similarities/__init__.py:15: UserWarning: The gensim.similarities.levenshtein submodule is disabled, because the optional Levenshtein package <https://pypi.org/project/python-Levenshtein/> is unavailable. Install Levenhstein (e.g. `pip install python-Levenshtein`) to suppress this warning.\n",
      "  warnings.warn(msg)\n"
     ]
    }
   ],
   "source": [
    "from pathlib import Path\n",
    "import pickle\n",
    "import warnings\n",
    "\n",
    "import numpy as np\n",
    "import pandas as pd\n",
    "from pandarallel import pandarallel\n",
    "from sklearn.metrics.pairwise import cosine_similarity\n",
    "from sklearn.metrics import pairwise_distances\n",
    "from tqdm import tqdm\n",
    "\n",
    "from src.models import cf, evaluate_model\n",
    "from src.utilities import utilities\n",
    "\n",
    "pandarallel.initialize()\n",
    "tqdm.pandas()\n",
    "warnings.filterwarnings('ignore')"
   ]
  },
  {
   "cell_type": "markdown",
   "id": "d99df1ea",
   "metadata": {},
   "source": [
    "# Load Data"
   ]
  },
  {
   "cell_type": "code",
   "execution_count": 2,
   "id": "6468429e",
   "metadata": {},
   "outputs": [],
   "source": [
    "# global variables\n",
    "DATA_PATH = \"data/evaluation\"\n",
    "CATEGORY = \"Pet_Supplies\"\n",
    "MODEL_PATH = Path(f\"models/ub_cf/ub_cf_{CATEGORY}.pkl\")\n",
    "\n",
    "# reproducibility checks\n",
    "SEED = 42\n",
    "np.random.seed(42)\n",
    "\n",
    "# load train dataset\n",
    "train = pd.read_csv(f\"{DATA_PATH}/{CATEGORY}_train.csv\")"
   ]
  },
  {
   "cell_type": "code",
   "execution_count": 3,
   "id": "74b50ddf",
   "metadata": {},
   "outputs": [
    {
     "data": {
      "text/html": [
       "<div>\n",
       "<style scoped>\n",
       "    .dataframe tbody tr th:only-of-type {\n",
       "        vertical-align: middle;\n",
       "    }\n",
       "\n",
       "    .dataframe tbody tr th {\n",
       "        vertical-align: top;\n",
       "    }\n",
       "\n",
       "    .dataframe thead th {\n",
       "        text-align: right;\n",
       "    }\n",
       "</style>\n",
       "<table border=\"1\" class=\"dataframe\">\n",
       "  <thead>\n",
       "    <tr style=\"text-align: right;\">\n",
       "      <th></th>\n",
       "      <th>index</th>\n",
       "      <th>asin</th>\n",
       "      <th>title</th>\n",
       "      <th>categories</th>\n",
       "      <th>reviewerID</th>\n",
       "      <th>overall</th>\n",
       "      <th>reviewText</th>\n",
       "      <th>reviewTime</th>\n",
       "      <th>processedReviewText</th>\n",
       "    </tr>\n",
       "  </thead>\n",
       "  <tbody>\n",
       "    <tr>\n",
       "      <th>0</th>\n",
       "      <td>0</td>\n",
       "      <td>1223000893</td>\n",
       "      <td>Cat Sitter DVD Trilogy - Vol 1, Vol 2 and Vol 3</td>\n",
       "      <td>[]</td>\n",
       "      <td>A14CK12J7C7JRK</td>\n",
       "      <td>3.0</td>\n",
       "      <td>I purchased the Trilogy with hoping my two cat...</td>\n",
       "      <td>2011-01-12</td>\n",
       "      <td>purchase trilogy hop cat age interested yr old...</td>\n",
       "    </tr>\n",
       "    <tr>\n",
       "      <th>1</th>\n",
       "      <td>2</td>\n",
       "      <td>1223000893</td>\n",
       "      <td>Cat Sitter DVD Trilogy - Vol 1, Vol 2 and Vol 3</td>\n",
       "      <td>[]</td>\n",
       "      <td>A2CR37UY3VR7BN</td>\n",
       "      <td>4.0</td>\n",
       "      <td>I bought the triliogy and have tested out all ...</td>\n",
       "      <td>2012-12-19</td>\n",
       "      <td>buy triliogy test dvd appear volume receive re...</td>\n",
       "    </tr>\n",
       "    <tr>\n",
       "      <th>2</th>\n",
       "      <td>3</td>\n",
       "      <td>1223000893</td>\n",
       "      <td>Cat Sitter DVD Trilogy - Vol 1, Vol 2 and Vol 3</td>\n",
       "      <td>[]</td>\n",
       "      <td>A2A4COGL9VW2HY</td>\n",
       "      <td>4.0</td>\n",
       "      <td>My female kitty could care less about these vi...</td>\n",
       "      <td>2011-05-12</td>\n",
       "      <td>female kitty care video care little male dig a...</td>\n",
       "    </tr>\n",
       "    <tr>\n",
       "      <th>3</th>\n",
       "      <td>4</td>\n",
       "      <td>1223000893</td>\n",
       "      <td>Cat Sitter DVD Trilogy - Vol 1, Vol 2 and Vol 3</td>\n",
       "      <td>[]</td>\n",
       "      <td>A2UBQA85NIGLHA</td>\n",
       "      <td>3.0</td>\n",
       "      <td>If I had gotten just volume two, I would have ...</td>\n",
       "      <td>2012-03-05</td>\n",
       "      <td>volume star trilogy star read review know vol ...</td>\n",
       "    </tr>\n",
       "    <tr>\n",
       "      <th>4</th>\n",
       "      <td>5</td>\n",
       "      <td>B00005MF9U</td>\n",
       "      <td>LitterMaid LM900 Mega Self-Cleaning Litter Box</td>\n",
       "      <td>['Pet Supplies', 'Cats', 'Litter &amp;amp; Housebr...</td>\n",
       "      <td>A2BH04B9G9LOYA</td>\n",
       "      <td>1.0</td>\n",
       "      <td>First off, it seems that someone is spamming t...</td>\n",
       "      <td>2006-12-31</td>\n",
       "      <td>spamming review glow reviewer review amazon ba...</td>\n",
       "    </tr>\n",
       "    <tr>\n",
       "      <th>68865</th>\n",
       "      <td>111581</td>\n",
       "      <td>B00K3YPOO0</td>\n",
       "      <td>Brightest Black Light Flashlight on Amazon- UV...</td>\n",
       "      <td>[]</td>\n",
       "      <td>A11J1FHCK5U06J</td>\n",
       "      <td>4.0</td>\n",
       "      <td>Now I know exactly where the trouble spots are...</td>\n",
       "      <td>2014-05-23</td>\n",
       "      <td>know exactly trouble spot sniffing guess invis...</td>\n",
       "    </tr>\n",
       "    <tr>\n",
       "      <th>68866</th>\n",
       "      <td>111585</td>\n",
       "      <td>B00K3YPOO0</td>\n",
       "      <td>Brightest Black Light Flashlight on Amazon- UV...</td>\n",
       "      <td>[]</td>\n",
       "      <td>A18JF0T0GOCORW</td>\n",
       "      <td>4.0</td>\n",
       "      <td>I use this light to help me find stains when I...</td>\n",
       "      <td>2014-05-24</td>\n",
       "      <td>use light help stain carpet clean pre treat ca...</td>\n",
       "    </tr>\n",
       "    <tr>\n",
       "      <th>68867</th>\n",
       "      <td>111595</td>\n",
       "      <td>B00K7EG97C</td>\n",
       "      <td>Nutro Crunchy Dog Treats with Real Mixed Berri...</td>\n",
       "      <td>['Pet Supplies', 'Dogs', 'Treats', 'Cookies, B...</td>\n",
       "      <td>A3GRPCW9DG427Z</td>\n",
       "      <td>5.0</td>\n",
       "      <td>We are owned by the 3 pickiest pooches in the ...</td>\n",
       "      <td>2013-07-27</td>\n",
       "      <td>pickiest pooch world love fool reject doggie t...</td>\n",
       "    </tr>\n",
       "    <tr>\n",
       "      <th>68868</th>\n",
       "      <td>111598</td>\n",
       "      <td>B00K7EG97C</td>\n",
       "      <td>Nutro Crunchy Dog Treats with Real Mixed Berri...</td>\n",
       "      <td>['Pet Supplies', 'Dogs', 'Treats', 'Cookies, B...</td>\n",
       "      <td>A2X6TLAX3JEO1A</td>\n",
       "      <td>5.0</td>\n",
       "      <td>My highly allergic white boxer loves these tre...</td>\n",
       "      <td>2014-05-09</td>\n",
       "      <td>highly allergic white boxer love treat meat co...</td>\n",
       "    </tr>\n",
       "    <tr>\n",
       "      <th>68869</th>\n",
       "      <td>111602</td>\n",
       "      <td>B00KJGFGFO</td>\n",
       "      <td>Curry Brush with Coarse or Fine Bristles. High...</td>\n",
       "      <td>[]</td>\n",
       "      <td>A9PG9ODPPP31N</td>\n",
       "      <td>5.0</td>\n",
       "      <td>Works great on my medium sized dog. She has ve...</td>\n",
       "      <td>2014-07-09</td>\n",
       "      <td>work great medium size dog coarse hair work gr...</td>\n",
       "    </tr>\n",
       "  </tbody>\n",
       "</table>\n",
       "</div>"
      ],
      "text/plain": [
       "        index        asin                                              title  \\\n",
       "0           0  1223000893    Cat Sitter DVD Trilogy - Vol 1, Vol 2 and Vol 3   \n",
       "1           2  1223000893    Cat Sitter DVD Trilogy - Vol 1, Vol 2 and Vol 3   \n",
       "2           3  1223000893    Cat Sitter DVD Trilogy - Vol 1, Vol 2 and Vol 3   \n",
       "3           4  1223000893    Cat Sitter DVD Trilogy - Vol 1, Vol 2 and Vol 3   \n",
       "4           5  B00005MF9U     LitterMaid LM900 Mega Self-Cleaning Litter Box   \n",
       "68865  111581  B00K3YPOO0  Brightest Black Light Flashlight on Amazon- UV...   \n",
       "68866  111585  B00K3YPOO0  Brightest Black Light Flashlight on Amazon- UV...   \n",
       "68867  111595  B00K7EG97C  Nutro Crunchy Dog Treats with Real Mixed Berri...   \n",
       "68868  111598  B00K7EG97C  Nutro Crunchy Dog Treats with Real Mixed Berri...   \n",
       "68869  111602  B00KJGFGFO  Curry Brush with Coarse or Fine Bristles. High...   \n",
       "\n",
       "                                              categories      reviewerID  \\\n",
       "0                                                     []  A14CK12J7C7JRK   \n",
       "1                                                     []  A2CR37UY3VR7BN   \n",
       "2                                                     []  A2A4COGL9VW2HY   \n",
       "3                                                     []  A2UBQA85NIGLHA   \n",
       "4      ['Pet Supplies', 'Cats', 'Litter &amp; Housebr...  A2BH04B9G9LOYA   \n",
       "68865                                                 []  A11J1FHCK5U06J   \n",
       "68866                                                 []  A18JF0T0GOCORW   \n",
       "68867  ['Pet Supplies', 'Dogs', 'Treats', 'Cookies, B...  A3GRPCW9DG427Z   \n",
       "68868  ['Pet Supplies', 'Dogs', 'Treats', 'Cookies, B...  A2X6TLAX3JEO1A   \n",
       "68869                                                 []   A9PG9ODPPP31N   \n",
       "\n",
       "       overall                                         reviewText  reviewTime  \\\n",
       "0          3.0  I purchased the Trilogy with hoping my two cat...  2011-01-12   \n",
       "1          4.0  I bought the triliogy and have tested out all ...  2012-12-19   \n",
       "2          4.0  My female kitty could care less about these vi...  2011-05-12   \n",
       "3          3.0  If I had gotten just volume two, I would have ...  2012-03-05   \n",
       "4          1.0  First off, it seems that someone is spamming t...  2006-12-31   \n",
       "68865      4.0  Now I know exactly where the trouble spots are...  2014-05-23   \n",
       "68866      4.0  I use this light to help me find stains when I...  2014-05-24   \n",
       "68867      5.0  We are owned by the 3 pickiest pooches in the ...  2013-07-27   \n",
       "68868      5.0  My highly allergic white boxer loves these tre...  2014-05-09   \n",
       "68869      5.0  Works great on my medium sized dog. She has ve...  2014-07-09   \n",
       "\n",
       "                                     processedReviewText  \n",
       "0      purchase trilogy hop cat age interested yr old...  \n",
       "1      buy triliogy test dvd appear volume receive re...  \n",
       "2      female kitty care video care little male dig a...  \n",
       "3      volume star trilogy star read review know vol ...  \n",
       "4      spamming review glow reviewer review amazon ba...  \n",
       "68865  know exactly trouble spot sniffing guess invis...  \n",
       "68866  use light help stain carpet clean pre treat ca...  \n",
       "68867  pickiest pooch world love fool reject doggie t...  \n",
       "68868  highly allergic white boxer love treat meat co...  \n",
       "68869  work great medium size dog coarse hair work gr...  "
      ]
     },
     "execution_count": 3,
     "metadata": {},
     "output_type": "execute_result"
    }
   ],
   "source": [
    "# checking train dataframe\n",
    "train.head().append(train.tail())"
   ]
  },
  {
   "cell_type": "code",
   "execution_count": 4,
   "id": "c805e4cd",
   "metadata": {},
   "outputs": [
    {
     "name": "stderr",
     "output_type": "stream",
     "text": [
      "100%|█████████████████████████████████████████████████████████| 19058/19058 [00:00<00:00, 63199.45it/s]"
     ]
    },
    {
     "name": "stdout",
     "output_type": "stream",
     "text": [
      "reviewerID\n",
      "A04173782GDZSQ91AJ7OD                 [B0002AT464, B0002AT464, B00078ZK2S]\n",
      "A042274212BJJVOBS4Q85                 [B001AT9B8M, B001E8LD3K, B00II7195M]\n",
      "A0436342QLT4257JODYJ     [B000255NCI, B000255NCI, B000255O90, B000255O9...\n",
      "A04795073FIBKY8GSLZYI                             [B000O39TDC, B000O39TE6]\n",
      "A06658082A27F4VB5UG8E                             [B0006MU8WC, B000FS4OYA]\n",
      "                                               ...                        \n",
      "AZYJE40XW6MFG                                     [B0002IEYIE, B0002IEYIE]\n",
      "AZZ56WF4X19G2                                                 [B0010P0YSW]\n",
      "AZZNK89PXD006            [B0002DHV16, B0006N9D4A, B0018CIPS8, B001Q9EGK...\n",
      "AZZV9PDNMCOZW                         [B0006N9LN8, B004PU7SBU, B00DIIKLCI]\n",
      "AZZYW4YOE1B6E            [B0002ARQV4, B0002H3R2E, B0002H3R2E, B000MLG4K...\n",
      "Name: asin, Length: 19058, dtype: object\n"
     ]
    },
    {
     "name": "stderr",
     "output_type": "stream",
     "text": [
      "\n"
     ]
    }
   ],
   "source": [
    "# get user rating history\n",
    "train_user_rating_history = train.groupby([\"reviewerID\"])[\"asin\"].progress_apply(list)\n",
    "print(train_user_rating_history)"
   ]
  },
  {
   "cell_type": "markdown",
   "id": "a2b57c91",
   "metadata": {},
   "source": [
    "# Generate N-Recommendations = {10, 25, 30, 45}"
   ]
  },
  {
   "cell_type": "markdown",
   "id": "f79bbbd3",
   "metadata": {},
   "source": [
    "## Load Test Data"
   ]
  },
  {
   "cell_type": "code",
   "execution_count": 5,
   "id": "216ef47c",
   "metadata": {},
   "outputs": [],
   "source": [
    "# loading test dataset\n",
    "test = pd.read_csv(f\"{DATA_PATH}/{CATEGORY}_test.csv\")"
   ]
  },
  {
   "cell_type": "code",
   "execution_count": 6,
   "id": "7d56ca46",
   "metadata": {},
   "outputs": [
    {
     "data": {
      "text/html": [
       "<div>\n",
       "<style scoped>\n",
       "    .dataframe tbody tr th:only-of-type {\n",
       "        vertical-align: middle;\n",
       "    }\n",
       "\n",
       "    .dataframe tbody tr th {\n",
       "        vertical-align: top;\n",
       "    }\n",
       "\n",
       "    .dataframe thead th {\n",
       "        text-align: right;\n",
       "    }\n",
       "</style>\n",
       "<table border=\"1\" class=\"dataframe\">\n",
       "  <thead>\n",
       "    <tr style=\"text-align: right;\">\n",
       "      <th></th>\n",
       "      <th>index</th>\n",
       "      <th>asin</th>\n",
       "      <th>title</th>\n",
       "      <th>categories</th>\n",
       "      <th>reviewerID</th>\n",
       "      <th>overall</th>\n",
       "      <th>reviewText</th>\n",
       "      <th>reviewTime</th>\n",
       "      <th>processedReviewText</th>\n",
       "    </tr>\n",
       "  </thead>\n",
       "  <tbody>\n",
       "    <tr>\n",
       "      <th>0</th>\n",
       "      <td>1</td>\n",
       "      <td>1223000893</td>\n",
       "      <td>Cat Sitter DVD Trilogy - Vol 1, Vol 2 and Vol 3</td>\n",
       "      <td>[]</td>\n",
       "      <td>A39QHP5WLON5HV</td>\n",
       "      <td>5.0</td>\n",
       "      <td>There are usually one or more of my cats watch...</td>\n",
       "      <td>2013-09-14</td>\n",
       "      <td>usually cat watch tv stay trouble dvd play lik...</td>\n",
       "    </tr>\n",
       "    <tr>\n",
       "      <th>1</th>\n",
       "      <td>104</td>\n",
       "      <td>B00005MF9V</td>\n",
       "      <td>LitterMaid Universal Cat Privacy Tent (LMT100)</td>\n",
       "      <td>['Pet Supplies', 'Cats', 'Litter &amp; Housebreaki...</td>\n",
       "      <td>A366V0GCEPH5CX</td>\n",
       "      <td>5.0</td>\n",
       "      <td>My cats love it and so do I. I no longer have ...</td>\n",
       "      <td>2013-02-02</td>\n",
       "      <td>cat love longer cat litter fly floor litter fl...</td>\n",
       "    </tr>\n",
       "    <tr>\n",
       "      <th>2</th>\n",
       "      <td>133</td>\n",
       "      <td>B00005MF9T</td>\n",
       "      <td>LitterMaid LM500 Automated Litter Box</td>\n",
       "      <td>['Pet Supplies', 'Cats', 'Litter &amp; Housebreaki...</td>\n",
       "      <td>ALWWS8QBYN80B</td>\n",
       "      <td>1.0</td>\n",
       "      <td>I have one female cat that weighs under 10 pou...</td>\n",
       "      <td>2004-11-17</td>\n",
       "      <td>female cat weigh pound year old use everclean ...</td>\n",
       "    </tr>\n",
       "    <tr>\n",
       "      <th>3</th>\n",
       "      <td>153</td>\n",
       "      <td>B00005MF9W</td>\n",
       "      <td>LitterMaid Waste Receptacles Automatic Litter ...</td>\n",
       "      <td>['Pet Supplies', 'Cats', 'Litter &amp; Housebreaki...</td>\n",
       "      <td>A3PVI3NE7OY1SP</td>\n",
       "      <td>5.0</td>\n",
       "      <td>I love these. They make the clean up so much e...</td>\n",
       "      <td>2013-09-26</td>\n",
       "      <td>love clean easy clean box manually use issue w...</td>\n",
       "    </tr>\n",
       "    <tr>\n",
       "      <th>4</th>\n",
       "      <td>154</td>\n",
       "      <td>B00005MF9W</td>\n",
       "      <td>LitterMaid Waste Receptacles Automatic Litter ...</td>\n",
       "      <td>['Pet Supplies', 'Cats', 'Litter &amp; Housebreaki...</td>\n",
       "      <td>A2H83XMHUVDLJY</td>\n",
       "      <td>4.0</td>\n",
       "      <td>I love this litter box. I do not use the lids,...</td>\n",
       "      <td>2014-06-26</td>\n",
       "      <td>love litter box use lid use receptacle tear cr...</td>\n",
       "    </tr>\n",
       "    <tr>\n",
       "      <th>41564</th>\n",
       "      <td>111601</td>\n",
       "      <td>B00KJGFGFO</td>\n",
       "      <td>Curry Brush with Coarse or Fine Bristles. High...</td>\n",
       "      <td>[]</td>\n",
       "      <td>AV34KNYW82YSS</td>\n",
       "      <td>4.0</td>\n",
       "      <td>Pulled lots of hair out of my Labs coat. Didn'...</td>\n",
       "      <td>2014-07-18</td>\n",
       "      <td>pulled lot hair labs coat think prove wrong co...</td>\n",
       "    </tr>\n",
       "    <tr>\n",
       "      <th>41565</th>\n",
       "      <td>111603</td>\n",
       "      <td>B00KJGFGFO</td>\n",
       "      <td>Curry Brush with Coarse or Fine Bristles. High...</td>\n",
       "      <td>[]</td>\n",
       "      <td>A1YMNTFLNDYQ1F</td>\n",
       "      <td>5.0</td>\n",
       "      <td>I have been trying to find a rubber bristle br...</td>\n",
       "      <td>2014-07-16</td>\n",
       "      <td>try rubber bristle brush persian year lose glo...</td>\n",
       "    </tr>\n",
       "    <tr>\n",
       "      <th>41566</th>\n",
       "      <td>111604</td>\n",
       "      <td>B00KJGFGFO</td>\n",
       "      <td>Curry Brush with Coarse or Fine Bristles. High...</td>\n",
       "      <td>[]</td>\n",
       "      <td>A1FQ3HRVXA4A5B</td>\n",
       "      <td>5.0</td>\n",
       "      <td>Great product to use on your pets knowing this...</td>\n",
       "      <td>2014-07-11</td>\n",
       "      <td>great product use pet know gentle rubber damag...</td>\n",
       "    </tr>\n",
       "    <tr>\n",
       "      <th>41567</th>\n",
       "      <td>111605</td>\n",
       "      <td>B00KJGFGFO</td>\n",
       "      <td>Curry Brush with Coarse or Fine Bristles. High...</td>\n",
       "      <td>[]</td>\n",
       "      <td>A3OP6CI0XCRQXO</td>\n",
       "      <td>5.0</td>\n",
       "      <td>I bought a second one because I have two cats ...</td>\n",
       "      <td>2014-07-22</td>\n",
       "      <td>buy second cat american short hair buy brush m...</td>\n",
       "    </tr>\n",
       "    <tr>\n",
       "      <th>41568</th>\n",
       "      <td>111606</td>\n",
       "      <td>B00KJGFGFO</td>\n",
       "      <td>Curry Brush with Coarse or Fine Bristles. High...</td>\n",
       "      <td>[]</td>\n",
       "      <td>A11LC938XF35XN</td>\n",
       "      <td>5.0</td>\n",
       "      <td>Our dogs love getting brushed with this.  It m...</td>\n",
       "      <td>2014-07-17</td>\n",
       "      <td>dog love brush massage remove heavy undercoat ...</td>\n",
       "    </tr>\n",
       "  </tbody>\n",
       "</table>\n",
       "</div>"
      ],
      "text/plain": [
       "        index        asin                                              title  \\\n",
       "0           1  1223000893    Cat Sitter DVD Trilogy - Vol 1, Vol 2 and Vol 3   \n",
       "1         104  B00005MF9V     LitterMaid Universal Cat Privacy Tent (LMT100)   \n",
       "2         133  B00005MF9T              LitterMaid LM500 Automated Litter Box   \n",
       "3         153  B00005MF9W  LitterMaid Waste Receptacles Automatic Litter ...   \n",
       "4         154  B00005MF9W  LitterMaid Waste Receptacles Automatic Litter ...   \n",
       "41564  111601  B00KJGFGFO  Curry Brush with Coarse or Fine Bristles. High...   \n",
       "41565  111603  B00KJGFGFO  Curry Brush with Coarse or Fine Bristles. High...   \n",
       "41566  111604  B00KJGFGFO  Curry Brush with Coarse or Fine Bristles. High...   \n",
       "41567  111605  B00KJGFGFO  Curry Brush with Coarse or Fine Bristles. High...   \n",
       "41568  111606  B00KJGFGFO  Curry Brush with Coarse or Fine Bristles. High...   \n",
       "\n",
       "                                              categories      reviewerID  \\\n",
       "0                                                     []  A39QHP5WLON5HV   \n",
       "1      ['Pet Supplies', 'Cats', 'Litter & Housebreaki...  A366V0GCEPH5CX   \n",
       "2      ['Pet Supplies', 'Cats', 'Litter & Housebreaki...   ALWWS8QBYN80B   \n",
       "3      ['Pet Supplies', 'Cats', 'Litter & Housebreaki...  A3PVI3NE7OY1SP   \n",
       "4      ['Pet Supplies', 'Cats', 'Litter & Housebreaki...  A2H83XMHUVDLJY   \n",
       "41564                                                 []   AV34KNYW82YSS   \n",
       "41565                                                 []  A1YMNTFLNDYQ1F   \n",
       "41566                                                 []  A1FQ3HRVXA4A5B   \n",
       "41567                                                 []  A3OP6CI0XCRQXO   \n",
       "41568                                                 []  A11LC938XF35XN   \n",
       "\n",
       "       overall                                         reviewText  reviewTime  \\\n",
       "0          5.0  There are usually one or more of my cats watch...  2013-09-14   \n",
       "1          5.0  My cats love it and so do I. I no longer have ...  2013-02-02   \n",
       "2          1.0  I have one female cat that weighs under 10 pou...  2004-11-17   \n",
       "3          5.0  I love these. They make the clean up so much e...  2013-09-26   \n",
       "4          4.0  I love this litter box. I do not use the lids,...  2014-06-26   \n",
       "41564      4.0  Pulled lots of hair out of my Labs coat. Didn'...  2014-07-18   \n",
       "41565      5.0  I have been trying to find a rubber bristle br...  2014-07-16   \n",
       "41566      5.0  Great product to use on your pets knowing this...  2014-07-11   \n",
       "41567      5.0  I bought a second one because I have two cats ...  2014-07-22   \n",
       "41568      5.0  Our dogs love getting brushed with this.  It m...  2014-07-17   \n",
       "\n",
       "                                     processedReviewText  \n",
       "0      usually cat watch tv stay trouble dvd play lik...  \n",
       "1      cat love longer cat litter fly floor litter fl...  \n",
       "2      female cat weigh pound year old use everclean ...  \n",
       "3      love clean easy clean box manually use issue w...  \n",
       "4      love litter box use lid use receptacle tear cr...  \n",
       "41564  pulled lot hair labs coat think prove wrong co...  \n",
       "41565  try rubber bristle brush persian year lose glo...  \n",
       "41566  great product use pet know gentle rubber damag...  \n",
       "41567  buy second cat american short hair buy brush m...  \n",
       "41568  dog love brush massage remove heavy undercoat ...  "
      ]
     },
     "execution_count": 6,
     "metadata": {},
     "output_type": "execute_result"
    }
   ],
   "source": [
    "test.head().append(test.tail())"
   ]
  },
  {
   "cell_type": "code",
   "execution_count": 7,
   "id": "1d42af2f",
   "metadata": {},
   "outputs": [],
   "source": [
    "# generating test history\n",
    "test_user_history = (pd.DataFrame(test.groupby(['reviewerID'])['asin']\n",
    "                                  .apply(list).reset_index()))"
   ]
  },
  {
   "cell_type": "code",
   "execution_count": 8,
   "id": "0a3c6934",
   "metadata": {},
   "outputs": [
    {
     "name": "stdout",
     "output_type": "stream",
     "text": [
      "                  reviewerID                                  asin\n",
      "0      A04173782GDZSQ91AJ7OD              [B0090Z9AYS, B00CPDWT2M]\n",
      "1      A042274212BJJVOBS4Q85              [B005AZ4M3Q, B00771WQIY]\n",
      "2       A0436342QLT4257JODYJ  [B0018CDR68, B003SJTM8Q, B00474A3DY]\n",
      "3      A04795073FIBKY8GSLZYI              [B001PKT30M, B005DGI2RY]\n",
      "4      A06658082A27F4VB5UG8E              [B000TZ1TTM, B0019VUHH0]\n",
      "...                      ...                                   ...\n",
      "18993          AZYJE40XW6MFG              [B00HVAKJZS, B00IDZT294]\n",
      "18994          AZZ56WF4X19G2                          [B004A7X218]\n",
      "18995          AZZNK89PXD006  [B0002DHV16, B005BP8MQ8, B009RTX4SU]\n",
      "18996          AZZV9PDNMCOZW              [B007EQL390, B00ISBWVT6]\n",
      "18997          AZZYW4YOE1B6E  [B0002AQPA2, B0002AQPA2, B0002ARQV4]\n",
      "\n",
      "[18998 rows x 2 columns]\n"
     ]
    }
   ],
   "source": [
    "print(test_user_history)"
   ]
  },
  {
   "cell_type": "markdown",
   "id": "960c85be",
   "metadata": {},
   "source": [
    "## Instantiate Memory-based Embedding CF (User-based)"
   ]
  },
  {
   "cell_type": "code",
   "execution_count": 9,
   "id": "5a613133",
   "metadata": {},
   "outputs": [],
   "source": [
    "# instantiate model\n",
    "ub_cf = cf.UserBasedCF()"
   ]
  },
  {
   "cell_type": "code",
   "execution_count": 10,
   "id": "070ea35e",
   "metadata": {},
   "outputs": [
    {
     "name": "stdout",
     "output_type": "stream",
     "text": [
      "Generating user rating history...\n",
      "Generating user-rating item rating (utility) matrix...\n",
      "Generate user similarities matrix...\n",
      "Generate k-neighbourhood of similar users...\n",
      "CPU times: user 1min 47s, sys: 3.48 s, total: 1min 50s\n",
      "Wall time: 1min 4s\n"
     ]
    }
   ],
   "source": [
    "%%time\n",
    "# fit learning algorithm to training datab\n",
    "ub_cf.fit(train, k_neighbours=50)"
   ]
  },
  {
   "cell_type": "code",
   "execution_count": 11,
   "id": "684069f3",
   "metadata": {},
   "outputs": [
    {
     "name": "stderr",
     "output_type": "stream",
     "text": [
      "100%|████████████████████████████████████████████████████████████| 19058/19058 [57:07<00:00,  5.56it/s]\n"
     ]
    }
   ],
   "source": [
    "# generate candidates items ranked by predicted ratings\n",
    "candidate_items = ub_cf.test()"
   ]
  },
  {
   "cell_type": "markdown",
   "id": "165789d5",
   "metadata": {},
   "source": [
    "## Save Model"
   ]
  },
  {
   "cell_type": "code",
   "execution_count": 12,
   "id": "9f27a0f3",
   "metadata": {},
   "outputs": [],
   "source": [
    "# MODEL_PATH.parent.mkdir(parents=True, exist_ok=True)\n",
    "# with open(MODEL_PATH, \"wb\") as f:\n",
    "#     pickle.dump(ub_cf, f)"
   ]
  },
  {
   "cell_type": "code",
   "execution_count": 13,
   "id": "edfda5e1",
   "metadata": {},
   "outputs": [],
   "source": [
    "# # load model\n",
    "# with open(MODEL_PATH, \"rb\") as f:\n",
    "#     ub_cf = pickle.load(f)"
   ]
  },
  {
   "cell_type": "markdown",
   "id": "162dfd9b",
   "metadata": {},
   "source": [
    "## Loop through N = {10, 25, 30, 45}"
   ]
  },
  {
   "cell_type": "code",
   "execution_count": 14,
   "id": "f8a4d061",
   "metadata": {},
   "outputs": [],
   "source": [
    "# generate item popularity\n",
    "item_popularity = evaluate_model.generate_item_popularity(train)"
   ]
  },
  {
   "cell_type": "code",
   "execution_count": 15,
   "id": "00e832bb",
   "metadata": {
    "scrolled": true
   },
   "outputs": [
    {
     "name": "stdout",
     "output_type": "stream",
     "text": [
      "The UB-CF has an average recall@10: 0.01101, average novelty@10: 0.91562\n",
      "The UB-CF has an average recall@25: 0.02542, average novelty@25: 0.94082\n",
      "The UB-CF has an average recall@30: 0.02758, average novelty@30: 0.94730\n",
      "The UB-CF has an average recall@45: 0.03673, average novelty@45: 0.95870\n"
     ]
    }
   ],
   "source": [
    "n_recommendations = {}\n",
    "for n in [10, 25, 30, 45]:\n",
    "    # retrieve the top-n items based on similarities\n",
    "    # top_ns = get_top_n(candidate_items, train_user_rating_history, n)\n",
    "    top_ns = ub_cf.get_top_n(n)\n",
    "    # evaluate how well the recommended items predicted the future purchases\n",
    "    n_recommended_items = (evaluate_model\n",
    "                           .evaluate_recommendations(model_name = 'UB-CF',\n",
    "                                                     top_ns = top_ns, \n",
    "                                                     user_rating_history = test_user_history,\n",
    "                                                     item_popularity = item_popularity,\n",
    "                                                     n = n,\n",
    "                                                     mf_based = False))\n",
    "    # saving the n-value and recommended items\n",
    "    n_recommendations[n] = (top_ns, n_recommended_items)"
   ]
  },
  {
   "cell_type": "markdown",
   "id": "0cf77a85",
   "metadata": {},
   "source": [
    "# Evaluate N-Recommendations "
   ]
  },
  {
   "cell_type": "markdown",
   "id": "f6ccfde9",
   "metadata": {},
   "source": [
    "## N=10"
   ]
  },
  {
   "cell_type": "code",
   "execution_count": 16,
   "id": "976d4af5",
   "metadata": {},
   "outputs": [],
   "source": [
    "top_ns_10 = n_recommendations[10][0]"
   ]
  },
  {
   "cell_type": "code",
   "execution_count": 17,
   "id": "c763317d",
   "metadata": {},
   "outputs": [
    {
     "name": "stdout",
     "output_type": "stream",
     "text": [
      "For user: A3T87QAUUPTMZK:\n",
      "Purchase History:\n",
      "             asin                                              title\n",
      "43366  B0010OSIHW  Zoo Med Eco Earth Compressed Coconut Fiber Sub...\n",
      "45100  B00167VVP4   Zoo Med Eco Earth Loose Coconut Fiber Substra...\n",
      "46998  B0019IJXD2       Zoo Med Reptile Fogger Terrarium Humidifier \n",
      "\n",
      "Recommending:\n",
      "\n",
      "         asin                                              title\n",
      "0  B0002ASM94  Nylabone Dura Chew Pooch Pacifier Chew Bone Va...\n",
      "1  B00153RC9I  Halo Holistic Natural Dry Cat Food for Adult Cats\n",
      "2  B00025640S  Tetra ReptoMin Floating Food Sticks for Aquati...\n",
      "3  B0002AS5PU  Kaytee CritterTrail Fun-nels Tubes Accessories...\n",
      "4  B0002568I6  Fluval Replacement 304, 404, 305, 405, 306 and...\n",
      "5  B009MKCJAI                                           KONG TUG\n",
      "6  B0002563KY       AquaClear Levelling Device for Power Filters\n",
      "7  B0048Z73TY   DERMagic Shampoo Bar, 3.75 oz, Certified Organic\n",
      "8  B0002ASC1M  Pureness Heavyweight Large Crock Pet Dish, 52-...\n",
      "9  B004YTZYV8  Bravo! Bonus Bites All Natural Freeze Dried Ve...\n"
     ]
    }
   ],
   "source": [
    "utilities.retrieve_recommendations(train, top_ns_10)"
   ]
  },
  {
   "cell_type": "markdown",
   "id": "3e84d1b0",
   "metadata": {},
   "source": [
    "## N=25"
   ]
  },
  {
   "cell_type": "code",
   "execution_count": 18,
   "id": "f1106ae0",
   "metadata": {},
   "outputs": [],
   "source": [
    "top_ns_25 = n_recommendations[25][0]"
   ]
  },
  {
   "cell_type": "code",
   "execution_count": 19,
   "id": "55930c8d",
   "metadata": {},
   "outputs": [
    {
     "name": "stdout",
     "output_type": "stream",
     "text": [
      "For user: A1XEZIHQIUAOR1:\n",
      "Purchase History:\n",
      "             asin                                              title\n",
      "1487   B000084E6V                      Nylabone Dental Dinosaur Chew\n",
      "1727   B000084E6V                      Nylabone Dental Dinosaur Chew\n",
      "28789  B0006VMN4O  Pioneer Pet SmartCat Peek-A-Prize Toy Box with...\n",
      "37658  B000JZ1WSU                     SmartCat 3836 Tick Tock Teaser\n",
      "42603  B000XZDV44  Hill'S Science Diet Kitten Savory Salmon Entre...\n",
      "43867  B0012KCUOG  Whisker Lickin'S Soft &amp; Delicious Chicken ...\n",
      "\n",
      "Recommending:\n",
      "\n",
      "          asin                                              title\n",
      "0   B0000AH3RP  Purina ONE Healthy Kitten Formula Dry Kitten Food\n",
      "1   B00006H36X  Advantage Once-A-Month Topical Flea Treatment ...\n",
      "2   B0002AT5AO           FAT CAT Crazy Circle Interactive Cat Toy\n",
      "3   B00008DFTP  Purina Pro Plan Focus Small Breed Formula Adul...\n",
      "4   B0000CEPDP               Hi-Tor Neo Diet For Cats 5.5-oz cans\n",
      "5   B000HHLVA4                   Petmate Giant Litter Pan for Cat\n",
      "6   B0006Z9RB2  Pet Gear Happy Trails Pet Stroller for Cats/Do...\n",
      "7   B0033118LS  Simple Solution Washable Diaper Cover-Ups, Lar...\n",
      "8   B008M40M3G       Drinkwell Platinum Premium Filters, 12-Count\n",
      "9   B001HU0S0O   PetZoom Self Cleaning Grooming Brush with Bon...\n",
      "10  B001TIA9FS             HDP Cat Slicker Brush with Coated Tips\n",
      "11  B005OB3E30  Purina Fancy Feast Gravy Lovers Poultry &amp; ...\n",
      "12  B001BOQ1P2   Wellness Healthy Indulgence Natural Wet Cat F...\n",
      "13  B0006N9I68      Cat Dancer 101 Cat Dancer Interactive Cat Toy\n",
      "14  B000L3XYZ4  PetSafe Drinkwell Platinum Cat and Dog Water F...\n",
      "15  B001Q9EHM6                             Lucky Champ Litter Pan\n",
      "16  B006OCG4JY  Pet Naturals L-Lysine Chews Cats, Immune Respi...\n",
      "17  B001CGN5PS  FATCAT Big Mama's Scratch 'n Play Ramp Reversi...\n",
      "18  B0006TQU36  PetSafe SlimCat Interactive Toy and Food Dispe...\n",
      "19  B00106WXSA      JW Pet JW Ruffians Treat Puzzler Amaze-A-Ball\n",
      "20  B0052UEL4E                   SCRATCH'M Big Fish Cat Scratcher\n",
      "21  B001NIZAH6  PetSafe Drinkwell 360 Pet Water Fountain, Filt...\n",
      "22  B00AO1VK8Q                              Leegoal Nylon Harness\n"
     ]
    }
   ],
   "source": [
    "utilities.retrieve_recommendations(train, top_ns_25)"
   ]
  },
  {
   "cell_type": "markdown",
   "id": "451fd10c",
   "metadata": {},
   "source": [
    "## N=30"
   ]
  },
  {
   "cell_type": "code",
   "execution_count": 20,
   "id": "45063536",
   "metadata": {},
   "outputs": [],
   "source": [
    "top_ns_30 = n_recommendations[30][0]"
   ]
  },
  {
   "cell_type": "code",
   "execution_count": 21,
   "id": "04c83c41",
   "metadata": {},
   "outputs": [
    {
     "name": "stdout",
     "output_type": "stream",
     "text": [
      "For user: A89LQAXW1IY6S:\n",
      "Purchase History:\n",
      "             asin                                              title\n",
      "12819  B0002ARP2O  Marshall Ferret Deluxe Leisure Lounge, Pattern...\n",
      "12825  B0002ARP2O  Marshall Ferret Deluxe Leisure Lounge, Pattern...\n",
      "38837  B000MD3NLS  MidWest Homes for Pets Snap'y Fit Stainless St...\n",
      "42683  B000Y8UNAU  Pro Select Fleece Cat Perch Covers - Comfortab...\n",
      "46465  B0018CJZ32                         SmartCat Corner Litter Box\n",
      "\n",
      "Recommending:\n",
      "\n",
      "          asin                                              title\n",
      "0   B00153RC9I  Halo Holistic Natural Dry Cat Food for Adult Cats\n",
      "1   B000I1M76Q  Midwest Cat Playpen | Cat Cage Includes 3 Adju...\n",
      "2   B0002AS5PU  Kaytee CritterTrail Fun-nels Tubes Accessories...\n",
      "3   B009MKCJAI                                           KONG TUG\n",
      "4   B0002563KY       AquaClear Levelling Device for Power Filters\n",
      "5   B0048Z73TY   DERMagic Shampoo Bar, 3.75 oz, Certified Organic\n",
      "6   B0002ASC1M  Pureness Heavyweight Large Crock Pet Dish, 52-...\n",
      "7   B004YTZYV8  Bravo! Bonus Bites All Natural Freeze Dried Ve...\n",
      "8   B0002DK6HM           Van Ness X-Small Auto Waterer, 1.5 Liter\n",
      "9   B0002UL3F4                Lixit Top Fill Water Tank, 32-Ounce\n",
      "10  B0002AQ228  Prevue Hendryx Pet Products Wrought Iron Fligh...\n",
      "11  B004ECI5P2  36&quot; Beige Cat Tree Condo Scratcher Furniture\n",
      "12  B0013ERRQM                Heininger 3050 PortablePet FoodTote\n",
      "13  B0006G56WK                 Horsemen's Pride Equine Jolly Ball\n",
      "14  B0009YUE6C  PetBuckle Kwik-Connect Tether for the Universa...\n",
      "15  B00ISBWVT6  Pogi&rsquo;s Poop Bags - Large, Earth-Friendly...\n",
      "16  B00ATJSH48    Animal Planet Memory Foam Sherpa Pet Bed, Large\n",
      "17  B000633QVG  Hill'S Science Diet Senior Cat Food, Adult 7+ ...\n",
      "18  B000TMXVJG                            PetAlive EaseSure, 2 oz\n",
      "19  B00FKDZRC8  Shedding Tool For Dogs &ndash; Cats &ndash; Pu...\n",
      "20  B001VIYAH4  8 In 1 Pet Products SEOP84002 Ecotrition Small...\n",
      "21  B002JFZLZ8  Stella &amp; Chewy's Carnivore Kisses Chicken ...\n",
      "22  B00CJLP4EA        Victor Hi-Pro Plus Dry Dog Food, 40 Lb. Bag\n",
      "23  B00BD73Y52  Iams Proactive Health Senior Dry Dog Food - Ch...\n",
      "24  B003M48LUW     The Missing Link Well Blend Plus Joint Support\n",
      "25  B0019T25QI  Merrick Before Grain #1 Chicken Dry Cat Food, ...\n",
      "26  B00J391SUA  Rocco &amp; Roxie All Natural Liver Dog Treats...\n",
      "27  B009FXPERC               Sassy Dog Wear Adjustable Dog Collar\n",
      "28  B003E75Y5C  Royal Canin Dry Cat Food, Persian 30 Formula, ...\n",
      "29  B005IDR2MS                  Premier Pogo Plush Ladybug, Small\n"
     ]
    }
   ],
   "source": [
    "utilities.retrieve_recommendations(train, top_ns_30)"
   ]
  },
  {
   "cell_type": "markdown",
   "id": "a07e61cc",
   "metadata": {},
   "source": [
    "## N=45"
   ]
  },
  {
   "cell_type": "code",
   "execution_count": 22,
   "id": "d34fd03d",
   "metadata": {},
   "outputs": [],
   "source": [
    "top_ns_45 = n_recommendations[45][0]"
   ]
  },
  {
   "cell_type": "code",
   "execution_count": 23,
   "id": "7c68a9b6",
   "metadata": {},
   "outputs": [
    {
     "name": "stdout",
     "output_type": "stream",
     "text": [
      "For user: A3C2ECIXEQ0YFQ:\n",
      "Purchase History:\n",
      "             asin                                              title\n",
      "30751  B0009YS4P0  Nutri-Vet Hip &amp; Joint Extra Strength Chewa...\n",
      "37067  B000IBRI2Y              Dog Dazer II Ultrasonic Dog Deterrent\n",
      "40175  B000OV4VAU                        Nutri-Vet Alaska Salmon Oil\n",
      "53623  B0029NQTI8  Pedigree Choice Cuts Variety Pack Lamb/Vegetab...\n",
      "\n",
      "Recommending:\n",
      "\n",
      "          asin                                              title\n",
      "0   B0002ASM94  Nylabone Dura Chew Pooch Pacifier Chew Bone Va...\n",
      "1   B00153RC9I  Halo Holistic Natural Dry Cat Food for Adult Cats\n",
      "2   B0002AB9FS                                 Grizzly Salmon Oil\n",
      "3   B0002AS5PU  Kaytee CritterTrail Fun-nels Tubes Accessories...\n",
      "4   B009MKCJAI                                           KONG TUG\n",
      "5   B0002563KY       AquaClear Levelling Device for Power Filters\n",
      "6   B0048Z73TY   DERMagic Shampoo Bar, 3.75 oz, Certified Organic\n",
      "7   B0002ASC1M  Pureness Heavyweight Large Crock Pet Dish, 52-...\n",
      "8   B004YTZYV8  Bravo! Bonus Bites All Natural Freeze Dried Ve...\n",
      "9   B0002DK6HM           Van Ness X-Small Auto Waterer, 1.5 Liter\n",
      "10  B0002AQ444  Coralife 05508 Mini Flourescent Colormax Lamp,...\n",
      "11  B0002UL3F4                Lixit Top Fill Water Tank, 32-Ounce\n",
      "12  B0002AQ228  Prevue Hendryx Pet Products Wrought Iron Fligh...\n",
      "13  B00025Z74C                              Hikari Betta Bio-Gold\n",
      "14  B000634HD2  Dick Van Patten's Natural Balance&reg; Natural...\n",
      "15  B000OSNYKG  Molly and Friends Four-Tier Scratching Post Fu...\n",
      "16  B000FPM55S  Perfect Coat Moisturizing Bath Wipes for Dogs,...\n",
      "17  B00D7GEDOI  K9 Ballistics Original Tough Dog Bed - Ripstop...\n",
      "18  B000OXCHEU  CareFRESH&reg; Colors&trade; Premium Soft Bedd...\n",
      "19  B00078Y3US        Multipet Nuts for Knots Ball Medium Dog Toy\n",
      "20  B00ISBWVT6  Pogi&rsquo;s Poop Bags - Large, Earth-Friendly...\n",
      "21  B00ATJSH48    Animal Planet Memory Foam Sherpa Pet Bed, Large\n",
      "22  B000633QVG  Hill'S Science Diet Senior Cat Food, Adult 7+ ...\n",
      "23  B000TMXVJG                            PetAlive EaseSure, 2 oz\n",
      "24  B00FKDZRC8  Shedding Tool For Dogs &ndash; Cats &ndash; Pu...\n",
      "25  B001VIYAH4  8 In 1 Pet Products SEOP84002 Ecotrition Small...\n",
      "26  B002JFZLZ8  Stella &amp; Chewy's Carnivore Kisses Chicken ...\n",
      "27  B00CJLP4EA        Victor Hi-Pro Plus Dry Dog Food, 40 Lb. Bag\n",
      "28  B00BD73Y52  Iams Proactive Health Senior Dry Dog Food - Ch...\n",
      "29  B003M48LUW     The Missing Link Well Blend Plus Joint Support\n",
      "30  B00J391SUA  Rocco &amp; Roxie All Natural Liver Dog Treats...\n",
      "31  B0019T25QI  Merrick Before Grain #1 Chicken Dry Cat Food, ...\n",
      "32  B009FXPERC               Sassy Dog Wear Adjustable Dog Collar\n",
      "33  B003E75Y5C  Royal Canin Dry Cat Food, Persian 30 Formula, ...\n",
      "34  B005IDR2MS                  Premier Pogo Plush Ladybug, Small\n",
      "35  B000HHMFJA  Ethical Pet Stainless Steel Scroll Work Double...\n",
      "36  B00H2ZS5VM  Rocco &amp; Roxie Gourmet Jerky Dog Treats Mad...\n",
      "37  B0006L2Y7A  Zoo Med Super Deluxe Stainless Steel Feeding T...\n",
      "38  B0058QQVIG  Nutri-Vet Senior-Vite Soft Chews for Dogs, 6-O...\n",
      "39  B0018CG2WE  Nutri-Vet Bladder Control Liver Chewables for ...\n",
      "40  B002AI39QW               Epi-Pet Sun Protector Spray for Pets\n",
      "41  B002LKGRR2       Neater Feeder Deluxe Leg Extensions - 4 Pack\n",
      "42  B000R9A5DG              Zoo Med MagClip Magnetic Suction Cups\n",
      "43  B0029NQSHU  Pedigree Meaty Ground Dinner Multipack Chicken...\n",
      "44  B005N2MQWK                              HDP thermal mat beige\n"
     ]
    }
   ],
   "source": [
    "utilities.retrieve_recommendations(train, top_ns_45)"
   ]
  },
  {
   "cell_type": "code",
   "execution_count": null,
   "id": "0ab2c1da",
   "metadata": {},
   "outputs": [],
   "source": []
  }
 ],
 "metadata": {
  "kernelspec": {
   "display_name": "Python 3 (ipykernel)",
   "language": "python",
   "name": "python3"
  },
  "language_info": {
   "codemirror_mode": {
    "name": "ipython",
    "version": 3
   },
   "file_extension": ".py",
   "mimetype": "text/x-python",
   "name": "python",
   "nbconvert_exporter": "python",
   "pygments_lexer": "ipython3",
   "version": "3.9.6"
  }
 },
 "nbformat": 4,
 "nbformat_minor": 5
}
