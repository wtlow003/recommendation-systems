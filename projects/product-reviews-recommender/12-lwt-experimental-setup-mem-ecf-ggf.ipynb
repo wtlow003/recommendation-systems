{
 "cells": [
  {
   "cell_type": "code",
   "execution_count": 1,
   "id": "d5bb6033",
   "metadata": {},
   "outputs": [
    {
     "name": "stderr",
     "output_type": "stream",
     "text": [
      "/Users/jensen/Desktop/recommendation-systems/projects/product-reviews-recommender/.venv/lib/python3.9/site-packages/gensim/similarities/__init__.py:15: UserWarning: The gensim.similarities.levenshtein submodule is disabled, because the optional Levenshtein package <https://pypi.org/project/python-Levenshtein/> is unavailable. Install Levenhstein (e.g. `pip install python-Levenshtein`) to suppress this warning.\n",
      "  warnings.warn(msg)\n"
     ]
    },
    {
     "name": "stdout",
     "output_type": "stream",
     "text": [
      "INFO: Pandarallel will run on 8 workers.\n",
      "INFO: Pandarallel will use standard multiprocessing data transfer (pipe) to transfer data between the main process and workers.\n"
     ]
    }
   ],
   "source": [
    "import numpy as np\n",
    "import pandas as pd\n",
    "import warnings\n",
    "\n",
    "from gensim.models.doc2vec import Doc2Vec\n",
    "from pandarallel import pandarallel\n",
    "from tqdm import tqdm\n",
    "\n",
    "from src.models import cf\n",
    "\n",
    "pandarallel.initialize()\n",
    "tqdm.pandas()\n",
    "warnings.filterwarnings('ignore')"
   ]
  },
  {
   "cell_type": "markdown",
   "id": "ccc8b955",
   "metadata": {},
   "source": [
    "# Load Data and Models"
   ]
  },
  {
   "cell_type": "code",
   "execution_count": 2,
   "id": "4026a31d",
   "metadata": {},
   "outputs": [],
   "source": [
    "# global variables\n",
    "DATA_PATH = \"data/evaluation\"\n",
    "D2V_PATH = \"models/d2v\"\n",
    "CATEGORY = \"Grocery_and_Gourmet_Food\"\n",
    "\n",
    "train = pd.read_csv(f\"{DATA_PATH}/{CATEGORY}_train.csv\")\n",
    "d2v = Doc2Vec.load(f\"{D2V_PATH}/{CATEGORY}_50_d2v.model\")"
   ]
  },
  {
   "cell_type": "code",
   "execution_count": 3,
   "id": "d310a929",
   "metadata": {},
   "outputs": [
    {
     "data": {
      "text/html": [
       "<div>\n",
       "<style scoped>\n",
       "    .dataframe tbody tr th:only-of-type {\n",
       "        vertical-align: middle;\n",
       "    }\n",
       "\n",
       "    .dataframe tbody tr th {\n",
       "        vertical-align: top;\n",
       "    }\n",
       "\n",
       "    .dataframe thead th {\n",
       "        text-align: right;\n",
       "    }\n",
       "</style>\n",
       "<table border=\"1\" class=\"dataframe\">\n",
       "  <thead>\n",
       "    <tr style=\"text-align: right;\">\n",
       "      <th></th>\n",
       "      <th>index</th>\n",
       "      <th>asin</th>\n",
       "      <th>title</th>\n",
       "      <th>categories</th>\n",
       "      <th>reviewerID</th>\n",
       "      <th>overall</th>\n",
       "      <th>reviewText</th>\n",
       "      <th>reviewTime</th>\n",
       "      <th>processedReviewText</th>\n",
       "    </tr>\n",
       "  </thead>\n",
       "  <tbody>\n",
       "    <tr>\n",
       "      <th>0</th>\n",
       "      <td>0</td>\n",
       "      <td>9742356831</td>\n",
       "      <td>Mae Ploy Green Curry Paste, 14 oz</td>\n",
       "      <td>['Grocery &amp; Gourmet Food', 'Sauces, Gravies &amp; ...</td>\n",
       "      <td>A23RYWDS884TUL</td>\n",
       "      <td>5.0</td>\n",
       "      <td>This curry paste makes a delicious curry.  I j...</td>\n",
       "      <td>2013-05-28</td>\n",
       "      <td>curry paste delicious curry fry chicken vegeta...</td>\n",
       "    </tr>\n",
       "    <tr>\n",
       "      <th>1</th>\n",
       "      <td>1</td>\n",
       "      <td>9742356831</td>\n",
       "      <td>Mae Ploy Green Curry Paste, 14 oz</td>\n",
       "      <td>['Grocery &amp; Gourmet Food', 'Sauces, Gravies &amp; ...</td>\n",
       "      <td>A945RBQWGZXCK</td>\n",
       "      <td>5.0</td>\n",
       "      <td>I've purchased different curries in the grocer...</td>\n",
       "      <td>2012-09-17</td>\n",
       "      <td>purchase different curry grocery store complet...</td>\n",
       "    </tr>\n",
       "    <tr>\n",
       "      <th>2</th>\n",
       "      <td>3</td>\n",
       "      <td>9742356831</td>\n",
       "      <td>Mae Ploy Green Curry Paste, 14 oz</td>\n",
       "      <td>['Grocery &amp; Gourmet Food', 'Sauces, Gravies &amp; ...</td>\n",
       "      <td>A3AMNY44OP8AOU</td>\n",
       "      <td>4.0</td>\n",
       "      <td>I started a new diet restricting all added sug...</td>\n",
       "      <td>2014-01-23</td>\n",
       "      <td>start new diet restrict added sugar brand suga...</td>\n",
       "    </tr>\n",
       "    <tr>\n",
       "      <th>3</th>\n",
       "      <td>4</td>\n",
       "      <td>9742356831</td>\n",
       "      <td>Mae Ploy Green Curry Paste, 14 oz</td>\n",
       "      <td>['Grocery &amp; Gourmet Food', 'Sauces, Gravies &amp; ...</td>\n",
       "      <td>A3IB4CQ2QEJLJ8</td>\n",
       "      <td>5.0</td>\n",
       "      <td>So many flavors. I can't begin to tell you how...</td>\n",
       "      <td>2014-04-27</td>\n",
       "      <td>flavor begin tell love mae ploy curry ask reci...</td>\n",
       "    </tr>\n",
       "    <tr>\n",
       "      <th>4</th>\n",
       "      <td>5</td>\n",
       "      <td>9742356831</td>\n",
       "      <td>Mae Ploy Green Curry Paste, 14 oz</td>\n",
       "      <td>['Grocery &amp; Gourmet Food', 'Sauces, Gravies &amp; ...</td>\n",
       "      <td>AQA5DF3RWKETQ</td>\n",
       "      <td>5.0</td>\n",
       "      <td>I've used this a lot recently in some of my ch...</td>\n",
       "      <td>2012-11-27</td>\n",
       "      <td>use lot recently chicken dish use lot like spi...</td>\n",
       "    </tr>\n",
       "    <tr>\n",
       "      <th>47769</th>\n",
       "      <td>77420</td>\n",
       "      <td>B00I33696K</td>\n",
       "      <td>Reese's Miniature Peanut Butter Cups .31oz - 1...</td>\n",
       "      <td>['Grocery &amp; Gourmet Food', 'Candy &amp; Chocolate'...</td>\n",
       "      <td>A192LQZWDYPR4U</td>\n",
       "      <td>5.0</td>\n",
       "      <td>Another quality Reese Peanut Butter Cup produc...</td>\n",
       "      <td>2014-02-27</td>\n",
       "      <td>quality reese peanut butter cup product great ...</td>\n",
       "    </tr>\n",
       "    <tr>\n",
       "      <th>47770</th>\n",
       "      <td>77421</td>\n",
       "      <td>B00I33696K</td>\n",
       "      <td>Reese's Miniature Peanut Butter Cups .31oz - 1...</td>\n",
       "      <td>['Grocery &amp; Gourmet Food', 'Candy &amp; Chocolate'...</td>\n",
       "      <td>A2QKXW3LDQ66P5</td>\n",
       "      <td>5.0</td>\n",
       "      <td>I purchased these for my husband who has every...</td>\n",
       "      <td>2013-02-20</td>\n",
       "      <td>purchase husband love reeses valentine day pre...</td>\n",
       "    </tr>\n",
       "    <tr>\n",
       "      <th>47771</th>\n",
       "      <td>77430</td>\n",
       "      <td>B00ID9VSOM</td>\n",
       "      <td>Viva Labs Organic Coconut Sugar: Non-GMO, Low-...</td>\n",
       "      <td>['Grocery &amp; Gourmet Food', 'Cooking &amp; Baking',...</td>\n",
       "      <td>A2P3TGJU301KXD</td>\n",
       "      <td>5.0</td>\n",
       "      <td>this stuff is INCREDIBILY yummy! SO much bette...</td>\n",
       "      <td>2014-07-15</td>\n",
       "      <td>stuff incredibily yummy good regular brown sug...</td>\n",
       "    </tr>\n",
       "    <tr>\n",
       "      <th>47772</th>\n",
       "      <td>77456</td>\n",
       "      <td>B00IRL93SY</td>\n",
       "      <td>Barrie House Kenya Estate - AA Single Cup Caps...</td>\n",
       "      <td>['Grocery &amp; Gourmet Food', 'Beverages', 'Coffe...</td>\n",
       "      <td>AEFE9VDHTQ199</td>\n",
       "      <td>5.0</td>\n",
       "      <td>Very nice aroma, body and taste! Will buy this...</td>\n",
       "      <td>2014-05-24</td>\n",
       "      <td>nice aroma body taste buy coffee good coffee a...</td>\n",
       "    </tr>\n",
       "    <tr>\n",
       "      <th>47773</th>\n",
       "      <td>77508</td>\n",
       "      <td>B00ISVHJ3Y</td>\n",
       "      <td>Wholesome Sweeteners, Organic Sweet and Lite S...</td>\n",
       "      <td>['Grocery &amp; Gourmet Food', 'Cooking &amp; Baking',...</td>\n",
       "      <td>A2AEZQ3DGBBLPR</td>\n",
       "      <td>2.0</td>\n",
       "      <td>This is a no go for diabetics according to my ...</td>\n",
       "      <td>2014-06-26</td>\n",
       "      <td>diabetic accord wife doctor order intention us...</td>\n",
       "    </tr>\n",
       "  </tbody>\n",
       "</table>\n",
       "</div>"
      ],
      "text/plain": [
       "       index        asin                                              title  \\\n",
       "0          0  9742356831                  Mae Ploy Green Curry Paste, 14 oz   \n",
       "1          1  9742356831                  Mae Ploy Green Curry Paste, 14 oz   \n",
       "2          3  9742356831                  Mae Ploy Green Curry Paste, 14 oz   \n",
       "3          4  9742356831                  Mae Ploy Green Curry Paste, 14 oz   \n",
       "4          5  9742356831                  Mae Ploy Green Curry Paste, 14 oz   \n",
       "47769  77420  B00I33696K  Reese's Miniature Peanut Butter Cups .31oz - 1...   \n",
       "47770  77421  B00I33696K  Reese's Miniature Peanut Butter Cups .31oz - 1...   \n",
       "47771  77430  B00ID9VSOM  Viva Labs Organic Coconut Sugar: Non-GMO, Low-...   \n",
       "47772  77456  B00IRL93SY  Barrie House Kenya Estate - AA Single Cup Caps...   \n",
       "47773  77508  B00ISVHJ3Y  Wholesome Sweeteners, Organic Sweet and Lite S...   \n",
       "\n",
       "                                              categories      reviewerID  \\\n",
       "0      ['Grocery & Gourmet Food', 'Sauces, Gravies & ...  A23RYWDS884TUL   \n",
       "1      ['Grocery & Gourmet Food', 'Sauces, Gravies & ...   A945RBQWGZXCK   \n",
       "2      ['Grocery & Gourmet Food', 'Sauces, Gravies & ...  A3AMNY44OP8AOU   \n",
       "3      ['Grocery & Gourmet Food', 'Sauces, Gravies & ...  A3IB4CQ2QEJLJ8   \n",
       "4      ['Grocery & Gourmet Food', 'Sauces, Gravies & ...   AQA5DF3RWKETQ   \n",
       "47769  ['Grocery & Gourmet Food', 'Candy & Chocolate'...  A192LQZWDYPR4U   \n",
       "47770  ['Grocery & Gourmet Food', 'Candy & Chocolate'...  A2QKXW3LDQ66P5   \n",
       "47771  ['Grocery & Gourmet Food', 'Cooking & Baking',...  A2P3TGJU301KXD   \n",
       "47772  ['Grocery & Gourmet Food', 'Beverages', 'Coffe...   AEFE9VDHTQ199   \n",
       "47773  ['Grocery & Gourmet Food', 'Cooking & Baking',...  A2AEZQ3DGBBLPR   \n",
       "\n",
       "       overall                                         reviewText  reviewTime  \\\n",
       "0          5.0  This curry paste makes a delicious curry.  I j...  2013-05-28   \n",
       "1          5.0  I've purchased different curries in the grocer...  2012-09-17   \n",
       "2          4.0  I started a new diet restricting all added sug...  2014-01-23   \n",
       "3          5.0  So many flavors. I can't begin to tell you how...  2014-04-27   \n",
       "4          5.0  I've used this a lot recently in some of my ch...  2012-11-27   \n",
       "47769      5.0  Another quality Reese Peanut Butter Cup produc...  2014-02-27   \n",
       "47770      5.0  I purchased these for my husband who has every...  2013-02-20   \n",
       "47771      5.0  this stuff is INCREDIBILY yummy! SO much bette...  2014-07-15   \n",
       "47772      5.0  Very nice aroma, body and taste! Will buy this...  2014-05-24   \n",
       "47773      2.0  This is a no go for diabetics according to my ...  2014-06-26   \n",
       "\n",
       "                                     processedReviewText  \n",
       "0      curry paste delicious curry fry chicken vegeta...  \n",
       "1      purchase different curry grocery store complet...  \n",
       "2      start new diet restrict added sugar brand suga...  \n",
       "3      flavor begin tell love mae ploy curry ask reci...  \n",
       "4      use lot recently chicken dish use lot like spi...  \n",
       "47769  quality reese peanut butter cup product great ...  \n",
       "47770  purchase husband love reeses valentine day pre...  \n",
       "47771  stuff incredibily yummy good regular brown sug...  \n",
       "47772  nice aroma body taste buy coffee good coffee a...  \n",
       "47773  diabetic accord wife doctor order intention us...  "
      ]
     },
     "execution_count": 3,
     "metadata": {},
     "output_type": "execute_result"
    }
   ],
   "source": [
    "# checking train dataframe\n",
    "train.head().append(train.tail())"
   ]
  },
  {
   "cell_type": "code",
   "execution_count": 4,
   "id": "55810656",
   "metadata": {},
   "outputs": [
    {
     "data": {
      "text/plain": [
       "array([-2.0247097 , -1.3294973 , -0.21396987,  0.4237852 ,  0.00897375,\n",
       "        2.1241405 ,  0.04780632,  1.0691372 , -0.11706699, -0.46099463,\n",
       "       -0.08401425, -1.0733169 , -0.21556404,  0.08397805, -0.025368  ,\n",
       "       -1.5263675 ,  0.11098978,  0.41218644, -0.01474508, -1.0207732 ,\n",
       "       -0.67836535,  0.21077251, -0.51048225, -0.1605686 ,  0.13394798,\n",
       "        1.6452312 , -1.1992716 ,  1.9470034 , -2.037423  ,  0.868756  ,\n",
       "        0.8278804 ,  0.70229375,  0.63159204,  1.3180909 ,  0.36948895,\n",
       "       -0.55629754, -1.2663819 , -1.5738735 , -1.4281844 ,  1.90474   ,\n",
       "       -0.5490278 , -0.90059054, -1.3286449 , -0.9170224 ,  0.06542239,\n",
       "        0.00427322, -0.6460078 , -0.2183445 ,  1.2150261 ,  0.9847518 ],\n",
       "      dtype=float32)"
      ]
     },
     "execution_count": 4,
     "metadata": {},
     "output_type": "execute_result"
    }
   ],
   "source": [
    "# testing d2v models\n",
    "d2v.dv[0]"
   ]
  },
  {
   "cell_type": "markdown",
   "id": "54d8e9ff",
   "metadata": {},
   "source": [
    "# Generate User Embeddings"
   ]
  },
  {
   "cell_type": "code",
   "execution_count": 5,
   "id": "5ce0b98c",
   "metadata": {},
   "outputs": [
    {
     "name": "stderr",
     "output_type": "stream",
     "text": [
      "100%|██████████████████████████████████████████████████████| 13397/13397 [00:00<00:00, 61740.17it/s]"
     ]
    },
    {
     "name": "stdout",
     "output_type": "stream",
     "text": [
      "reviewerID\n",
      "A00177463W0XWB16A9O05                             [B0029XDZIK, B0094ISOMA]\n",
      "A022899328A0QROR32DCT                             [B001ACMCNU, B003TO9RSU]\n",
      "A068255029AHTHDXZURNU                             [B000K8WVYA, B0094ISOMA]\n",
      "A06944662TFWOKKV4GJKX                                         [B000CQBZPG]\n",
      "A1004703RC79J9                                                [B001E50THY]\n",
      "                                               ...                        \n",
      "AZWRZZAMX90VT            [B0007R9L5Q, B000CQ01GU, B000E123IC, B000E46LZ...\n",
      "AZXKAH2DE6C8A            [B000EML7DS, B000ODF2ME, B001650XUK, B0018QLG9...\n",
      "AZXON596A1VXC                         [B00113SKZW, B00113ZTVK, B001L4JH5I]\n",
      "AZYXC63SS008M                                                 [B0040WCQKQ]\n",
      "AZZ5ASC403N74                                                 [B004U49QU2]\n",
      "Name: asin, Length: 13397, dtype: object\n"
     ]
    },
    {
     "name": "stderr",
     "output_type": "stream",
     "text": [
      "\n"
     ]
    }
   ],
   "source": [
    "# get user rating history\n",
    "train_user_rating_history = train.groupby([\"reviewerID\"])[\"asin\"].progress_apply(list)\n",
    "print(train_user_rating_history)"
   ]
  },
  {
   "cell_type": "code",
   "execution_count": 6,
   "id": "44201966",
   "metadata": {},
   "outputs": [],
   "source": [
    "def generate_user_embeddings(user_rating_history: pd.DataFrame, d2v: Doc2Vec) -> dict:\n",
    "    \"\"\"\n",
    "    \n",
    "    Args:\n",
    "        unique_users ([list]):\n",
    "        d2v ([Doc2Vec]):\n",
    "    \"\"\"\n",
    "    \n",
    "    # generate unique users\n",
    "    unique_users = user_rating_history.reset_index()[\"reviewerID\"].tolist()\n",
    "    \n",
    "    user_embeddings = {}\n",
    "    for user in tqdm(unique_users):\n",
    "        user_embedding = np.zeros(50)\n",
    "        for item in user_rating_history[user]:\n",
    "            user_embedding += d2v.dv[item]\n",
    "            \n",
    "        # computing mean aggregation\n",
    "        user_embedding /= len(user_rating_history[user])\n",
    "        user_embeddings[user] = user_embedding\n",
    "        \n",
    "    return user_embeddings"
   ]
  },
  {
   "cell_type": "code",
   "execution_count": 7,
   "id": "93d7d17d",
   "metadata": {},
   "outputs": [
    {
     "name": "stderr",
     "output_type": "stream",
     "text": [
      "100%|██████████████████████████████████████████████████████| 13397/13397 [00:00<00:00, 37724.29it/s]\n"
     ]
    }
   ],
   "source": [
    "train_user_embeddings = generate_user_embeddings(train_user_rating_history, d2v)"
   ]
  },
  {
   "cell_type": "markdown",
   "id": "e5a513b1",
   "metadata": {},
   "source": [
    "# Utility Functions"
   ]
  },
  {
   "cell_type": "code",
   "execution_count": 8,
   "id": "4417ea1c",
   "metadata": {},
   "outputs": [],
   "source": [
    "def get_top_n(predictions: dict, user_rating_history: pd.DataFrame, n=10) -> dict:\n",
    "    \"\"\"Return the top-N recommendations for each user based on cosine similarity.\n",
    "    \n",
    "    Args:\n",
    "        d2v ([Doc2Vec]): Doc2Vec of item representations based on reviews.\n",
    "        user_rating_history ([dict]): \"Future\" purchases aggregated by users based on\n",
    "            test set.\n",
    "    \n",
    "    Returns:\n",
    "        ([dict]): A dictionary of top-N recommendations for each unique user, sorted by\n",
    "            cosine similarties.\n",
    "    \"\"\"\n",
    "    \n",
    "    # retrieve a 200 items candidate list based on similarities\n",
    "    top_ns = {}\n",
    "    for user in predictions:\n",
    "        rated_items = user_rating_history[user]\n",
    "        candidate_items = [i[0] for i in predictions[user]]\n",
    "        unrated_items = set(candidate_items) - set(rated_items)\n",
    "        \n",
    "        user_top_n = []\n",
    "        idx = 0\n",
    "        while len(user_top_n) < n:\n",
    "            if candidate_items[idx] in unrated_items:\n",
    "                user_top_n.append(candidate_items[idx])\n",
    "                idx += 1\n",
    "            else:\n",
    "                idx += 1\n",
    "        \n",
    "        top_ns[user] = user_top_n\n",
    "        \n",
    "    return top_ns\n",
    "\n",
    "def recall_at_k(asins, predicted_asins, k=10):\n",
    "    # number of relevant items\n",
    "    set_actual = set(asins)\n",
    "    set_preds = set(predicted_asins)\n",
    "    num_relevant = len(set_actual.intersection(set_preds))\n",
    "    \n",
    "    # calculating recall@K - relevant / total relevant items\n",
    "    recall_at_k = num_relevant / len(asins)\n",
    "    \n",
    "    return recall_at_k\n",
    "\n",
    "def novelty_at_k(item_popularity, predicted_asins, k=10):\n",
    "    \"\"\"\n",
    "    \"\"\"\n",
    "    # finding avg novelty\n",
    "    popularity_sum = item_popularity.loc[predicted_asins].sum()\n",
    "    novelty_at_k = ((k*1) - popularity_sum) / k\n",
    "    \n",
    "    return novelty_at_k\n",
    "\n",
    "def generate_item_popularity(train: pd.DataFrame) -> pd.DataFrame:\n",
    "    \"\"\"\n",
    "    \"\"\"\n",
    "    \n",
    "    # create a mapping of item popularatity\n",
    "    # based on sum(item's review / max reviews) / no items\n",
    "    max_reviews = (train.groupby(['asin'])\n",
    "                   .agg({'processedReviewText': 'count'})\n",
    "                   .max()\n",
    "                   .values[0])\n",
    "    item_popularity = (train.groupby(['asin'])\n",
    "                       .agg({'processedReviewText': 'count'})\n",
    "                       .apply(lambda x: x/max_reviews))\n",
    "    \n",
    "    return item_popularity\n",
    "    \n",
    "\n",
    "def evaluate_recommendations(top_ns: dict, user_rating_history: pd.DataFrame, item_popularity: pd.DataFrame, k=10) -> pd.DataFrame:\n",
    "    \"\"\"\n",
    "    \n",
    "    Args:\n",
    "        top_ns\n",
    "        user_rating_history\n",
    "    \"\"\"\n",
    "    \n",
    "    test_recommendations = pd.DataFrame(top_ns.items(), columns=[\"reviewerID\", \"pred_asin\"])\n",
    "    \n",
    "    # combined test history and recommendations\n",
    "    test_merged = pd.merge(user_rating_history, test_recommendations, on=\"reviewerID\", how=\"inner\")\n",
    "    \n",
    "    # generating recall@k metrics\n",
    "    test_merged[\"recall@k\"] = test_merged.apply(lambda x: recall_at_k(x.asin, x.pred_asin, k=k), axis=1)\n",
    "    test_merged[\"novelty@k\"] = test_merged.apply(lambda x: novelty_at_k(item_popularity, x.pred_asin, k=k), axis=1)\n",
    "    average_recall_at_k = test_merged[\"recall@k\"].mean()\n",
    "    average_novelty_at_k = test_merged[\"novelty@k\"].mean()\n",
    "    \n",
    "    print(f\"The MEM-ECF has an average recall@{k}: {average_recall_at_k:.5f}, average novelty@{k}: {average_novelty_at_k:.5f}\")\n",
    "    \n",
    "    return test_merged"
   ]
  },
  {
   "cell_type": "markdown",
   "id": "d7900a33",
   "metadata": {},
   "source": [
    "# Generate N-Recommendations = {10, 25, 30, 45}"
   ]
  },
  {
   "cell_type": "markdown",
   "id": "68c53c10",
   "metadata": {},
   "source": [
    "## Load Test Data"
   ]
  },
  {
   "cell_type": "code",
   "execution_count": 9,
   "id": "779da8b3",
   "metadata": {},
   "outputs": [],
   "source": [
    "test = pd.read_csv(f\"{DATA_PATH}/{CATEGORY}_test.csv\")"
   ]
  },
  {
   "cell_type": "code",
   "execution_count": 10,
   "id": "a667ee13",
   "metadata": {},
   "outputs": [
    {
     "data": {
      "text/html": [
       "<div>\n",
       "<style scoped>\n",
       "    .dataframe tbody tr th:only-of-type {\n",
       "        vertical-align: middle;\n",
       "    }\n",
       "\n",
       "    .dataframe tbody tr th {\n",
       "        vertical-align: top;\n",
       "    }\n",
       "\n",
       "    .dataframe thead th {\n",
       "        text-align: right;\n",
       "    }\n",
       "</style>\n",
       "<table border=\"1\" class=\"dataframe\">\n",
       "  <thead>\n",
       "    <tr style=\"text-align: right;\">\n",
       "      <th></th>\n",
       "      <th>index</th>\n",
       "      <th>asin</th>\n",
       "      <th>title</th>\n",
       "      <th>categories</th>\n",
       "      <th>reviewerID</th>\n",
       "      <th>overall</th>\n",
       "      <th>reviewText</th>\n",
       "      <th>reviewTime</th>\n",
       "      <th>processedReviewText</th>\n",
       "    </tr>\n",
       "  </thead>\n",
       "  <tbody>\n",
       "    <tr>\n",
       "      <th>0</th>\n",
       "      <td>2</td>\n",
       "      <td>9742356831</td>\n",
       "      <td>Mae Ploy Green Curry Paste, 14 oz</td>\n",
       "      <td>['Grocery &amp; Gourmet Food', 'Sauces, Gravies &amp; ...</td>\n",
       "      <td>A1TCSC0YWT82Q0</td>\n",
       "      <td>5.0</td>\n",
       "      <td>I love ethnic foods and to cook them. I recent...</td>\n",
       "      <td>2013-08-03</td>\n",
       "      <td>love ethnic food cook recently purchase produc...</td>\n",
       "    </tr>\n",
       "    <tr>\n",
       "      <th>1</th>\n",
       "      <td>8</td>\n",
       "      <td>9742356831</td>\n",
       "      <td>Mae Ploy Green Curry Paste, 14 oz</td>\n",
       "      <td>['Grocery &amp; Gourmet Food', 'Sauces, Gravies &amp; ...</td>\n",
       "      <td>A1Z7Y2GMAP9SRY</td>\n",
       "      <td>5.0</td>\n",
       "      <td>I like to make my own curry but this is a tast...</td>\n",
       "      <td>2014-06-27</td>\n",
       "      <td>like curry tasty alternative use base kind dif...</td>\n",
       "    </tr>\n",
       "    <tr>\n",
       "      <th>2</th>\n",
       "      <td>23</td>\n",
       "      <td>B00004S1C5</td>\n",
       "      <td>Ateco Food Coloring Kit, 6 colors</td>\n",
       "      <td>['Grocery &amp; Gourmet Food', 'Cooking &amp; Baking',...</td>\n",
       "      <td>A14YSMLYLJEMET</td>\n",
       "      <td>1.0</td>\n",
       "      <td>This product is no where near natural / organi...</td>\n",
       "      <td>2013-03-29</td>\n",
       "      <td>product near natural organic wish review purch...</td>\n",
       "    </tr>\n",
       "    <tr>\n",
       "      <th>3</th>\n",
       "      <td>31</td>\n",
       "      <td>B00005344V</td>\n",
       "      <td>Traditional Medicinals Organic Breathe Easy Se...</td>\n",
       "      <td>['Grocery &amp; Gourmet Food', 'Beverages', 'Coffe...</td>\n",
       "      <td>A2F488C4PLWGEI</td>\n",
       "      <td>5.0</td>\n",
       "      <td>If my wife drinks a cup of this tea when she f...</td>\n",
       "      <td>2014-03-23</td>\n",
       "      <td>wife drink cup tea feel attack come help avoid...</td>\n",
       "    </tr>\n",
       "    <tr>\n",
       "      <th>4</th>\n",
       "      <td>32</td>\n",
       "      <td>B00005344V</td>\n",
       "      <td>Traditional Medicinals Organic Breathe Easy Se...</td>\n",
       "      <td>['Grocery &amp; Gourmet Food', 'Beverages', 'Coffe...</td>\n",
       "      <td>AO1HXV7DWZZIR</td>\n",
       "      <td>5.0</td>\n",
       "      <td>I don't know about the medicinal aspects of th...</td>\n",
       "      <td>2014-02-06</td>\n",
       "      <td>know medicinal aspect tea flavor downright scr...</td>\n",
       "    </tr>\n",
       "    <tr>\n",
       "      <th>28001</th>\n",
       "      <td>77519</td>\n",
       "      <td>B00ISVHJ3Y</td>\n",
       "      <td>Wholesome Sweeteners, Organic Sweet and Lite S...</td>\n",
       "      <td>['Grocery &amp; Gourmet Food', 'Cooking &amp; Baking',...</td>\n",
       "      <td>A1WT3TVHANP7ZF</td>\n",
       "      <td>3.0</td>\n",
       "      <td>Hmmm. I really wanted to love this sweetener. ...</td>\n",
       "      <td>2014-07-22</td>\n",
       "      <td>hmmm want love sweetener half sugar half stevi...</td>\n",
       "    </tr>\n",
       "    <tr>\n",
       "      <th>28002</th>\n",
       "      <td>77520</td>\n",
       "      <td>B00ISVHJ3Y</td>\n",
       "      <td>Wholesome Sweeteners, Organic Sweet and Lite S...</td>\n",
       "      <td>['Grocery &amp; Gourmet Food', 'Cooking &amp; Baking',...</td>\n",
       "      <td>A3NEAETOSXDBOM</td>\n",
       "      <td>5.0</td>\n",
       "      <td>I confess I have a sweet tooth, and love the t...</td>\n",
       "      <td>2014-06-30</td>\n",
       "      <td>confess sweet tooth love taste sugar recognize...</td>\n",
       "    </tr>\n",
       "    <tr>\n",
       "      <th>28003</th>\n",
       "      <td>77521</td>\n",
       "      <td>B00ISVHJ3Y</td>\n",
       "      <td>Wholesome Sweeteners, Organic Sweet and Lite S...</td>\n",
       "      <td>['Grocery &amp; Gourmet Food', 'Cooking &amp; Baking',...</td>\n",
       "      <td>AD1ZOPB0BBEHB</td>\n",
       "      <td>4.0</td>\n",
       "      <td>It has a little of the stevia aftertaste, but ...</td>\n",
       "      <td>2014-07-17</td>\n",
       "      <td>little stevia aftertaste fair compromise able ...</td>\n",
       "    </tr>\n",
       "    <tr>\n",
       "      <th>28004</th>\n",
       "      <td>77522</td>\n",
       "      <td>B00ISVHJ3Y</td>\n",
       "      <td>Wholesome Sweeteners, Organic Sweet and Lite S...</td>\n",
       "      <td>['Grocery &amp; Gourmet Food', 'Cooking &amp; Baking',...</td>\n",
       "      <td>A18ECVX2RJ7HUE</td>\n",
       "      <td>5.0</td>\n",
       "      <td>i love marinade for grilled flank steak or lon...</td>\n",
       "      <td>2014-05-30</td>\n",
       "      <td>love marinade grilled flank steak london broil...</td>\n",
       "    </tr>\n",
       "    <tr>\n",
       "      <th>28005</th>\n",
       "      <td>77523</td>\n",
       "      <td>B00ISVHJ3Y</td>\n",
       "      <td>Wholesome Sweeteners, Organic Sweet and Lite S...</td>\n",
       "      <td>['Grocery &amp; Gourmet Food', 'Cooking &amp; Baking',...</td>\n",
       "      <td>A2G04D4QZAXL15</td>\n",
       "      <td>3.0</td>\n",
       "      <td>I've been using Truvia (a form of stevia) on m...</td>\n",
       "      <td>2014-05-27</td>\n",
       "      <td>use truvia form stevia cereal greek yogurt yea...</td>\n",
       "    </tr>\n",
       "  </tbody>\n",
       "</table>\n",
       "</div>"
      ],
      "text/plain": [
       "       index        asin                                              title  \\\n",
       "0          2  9742356831                  Mae Ploy Green Curry Paste, 14 oz   \n",
       "1          8  9742356831                  Mae Ploy Green Curry Paste, 14 oz   \n",
       "2         23  B00004S1C5                  Ateco Food Coloring Kit, 6 colors   \n",
       "3         31  B00005344V  Traditional Medicinals Organic Breathe Easy Se...   \n",
       "4         32  B00005344V  Traditional Medicinals Organic Breathe Easy Se...   \n",
       "28001  77519  B00ISVHJ3Y  Wholesome Sweeteners, Organic Sweet and Lite S...   \n",
       "28002  77520  B00ISVHJ3Y  Wholesome Sweeteners, Organic Sweet and Lite S...   \n",
       "28003  77521  B00ISVHJ3Y  Wholesome Sweeteners, Organic Sweet and Lite S...   \n",
       "28004  77522  B00ISVHJ3Y  Wholesome Sweeteners, Organic Sweet and Lite S...   \n",
       "28005  77523  B00ISVHJ3Y  Wholesome Sweeteners, Organic Sweet and Lite S...   \n",
       "\n",
       "                                              categories      reviewerID  \\\n",
       "0      ['Grocery & Gourmet Food', 'Sauces, Gravies & ...  A1TCSC0YWT82Q0   \n",
       "1      ['Grocery & Gourmet Food', 'Sauces, Gravies & ...  A1Z7Y2GMAP9SRY   \n",
       "2      ['Grocery & Gourmet Food', 'Cooking & Baking',...  A14YSMLYLJEMET   \n",
       "3      ['Grocery & Gourmet Food', 'Beverages', 'Coffe...  A2F488C4PLWGEI   \n",
       "4      ['Grocery & Gourmet Food', 'Beverages', 'Coffe...   AO1HXV7DWZZIR   \n",
       "28001  ['Grocery & Gourmet Food', 'Cooking & Baking',...  A1WT3TVHANP7ZF   \n",
       "28002  ['Grocery & Gourmet Food', 'Cooking & Baking',...  A3NEAETOSXDBOM   \n",
       "28003  ['Grocery & Gourmet Food', 'Cooking & Baking',...   AD1ZOPB0BBEHB   \n",
       "28004  ['Grocery & Gourmet Food', 'Cooking & Baking',...  A18ECVX2RJ7HUE   \n",
       "28005  ['Grocery & Gourmet Food', 'Cooking & Baking',...  A2G04D4QZAXL15   \n",
       "\n",
       "       overall                                         reviewText  reviewTime  \\\n",
       "0          5.0  I love ethnic foods and to cook them. I recent...  2013-08-03   \n",
       "1          5.0  I like to make my own curry but this is a tast...  2014-06-27   \n",
       "2          1.0  This product is no where near natural / organi...  2013-03-29   \n",
       "3          5.0  If my wife drinks a cup of this tea when she f...  2014-03-23   \n",
       "4          5.0  I don't know about the medicinal aspects of th...  2014-02-06   \n",
       "28001      3.0  Hmmm. I really wanted to love this sweetener. ...  2014-07-22   \n",
       "28002      5.0  I confess I have a sweet tooth, and love the t...  2014-06-30   \n",
       "28003      4.0  It has a little of the stevia aftertaste, but ...  2014-07-17   \n",
       "28004      5.0  i love marinade for grilled flank steak or lon...  2014-05-30   \n",
       "28005      3.0  I've been using Truvia (a form of stevia) on m...  2014-05-27   \n",
       "\n",
       "                                     processedReviewText  \n",
       "0      love ethnic food cook recently purchase produc...  \n",
       "1      like curry tasty alternative use base kind dif...  \n",
       "2      product near natural organic wish review purch...  \n",
       "3      wife drink cup tea feel attack come help avoid...  \n",
       "4      know medicinal aspect tea flavor downright scr...  \n",
       "28001  hmmm want love sweetener half sugar half stevi...  \n",
       "28002  confess sweet tooth love taste sugar recognize...  \n",
       "28003  little stevia aftertaste fair compromise able ...  \n",
       "28004  love marinade grilled flank steak london broil...  \n",
       "28005  use truvia form stevia cereal greek yogurt yea...  "
      ]
     },
     "execution_count": 10,
     "metadata": {},
     "output_type": "execute_result"
    }
   ],
   "source": [
    "test.head().append(test.tail())"
   ]
  },
  {
   "cell_type": "code",
   "execution_count": 11,
   "id": "cd568ec2",
   "metadata": {},
   "outputs": [],
   "source": [
    "# generating test history\n",
    "test_user_history = (pd.DataFrame(test.groupby(['reviewerID'])['asin']\n",
    "                                  .apply(list).reset_index()))"
   ]
  },
  {
   "cell_type": "code",
   "execution_count": 12,
   "id": "7a799a6a",
   "metadata": {},
   "outputs": [
    {
     "name": "stdout",
     "output_type": "stream",
     "text": [
      "                  reviewerID  \\\n",
      "0      A00177463W0XWB16A9O05   \n",
      "1      A022899328A0QROR32DCT   \n",
      "2      A068255029AHTHDXZURNU   \n",
      "3      A06944662TFWOKKV4GJKX   \n",
      "4             A1004703RC79J9   \n",
      "...                      ...   \n",
      "13274          AZWRZZAMX90VT   \n",
      "13275          AZXKAH2DE6C8A   \n",
      "13276          AZXON596A1VXC   \n",
      "13277          AZYXC63SS008M   \n",
      "13278          AZZ5ASC403N74   \n",
      "\n",
      "                                                    asin  \n",
      "0                               [B00474OR8G, B00BFM6OAW]  \n",
      "1                                           [B00CMQDKES]  \n",
      "2                                           [B001FA1K2G]  \n",
      "3                                           [B000GFYRHG]  \n",
      "4                                           [B003GTR8IO]  \n",
      "...                                                  ...  \n",
      "13274  [B0007R9L4M, B000CN7BMA, B001EQ5D1K, B002VT3GX...  \n",
      "13275   [B000MAK41I, B004X8TJP2, B006H34CUS, B007W14RMM]  \n",
      "13276                           [B001EO5S0I, B00271QQ7Q]  \n",
      "13277                                       [B0054TWPNC]  \n",
      "13278                                       [B00BIEU5PC]  \n",
      "\n",
      "[13279 rows x 2 columns]\n"
     ]
    }
   ],
   "source": [
    "print(test_user_history)"
   ]
  },
  {
   "cell_type": "markdown",
   "id": "9290464f",
   "metadata": {},
   "source": [
    "## Instantiate Memory-based Embedding CF (Item-based)"
   ]
  },
  {
   "cell_type": "code",
   "execution_count": 13,
   "id": "33206ceb",
   "metadata": {},
   "outputs": [],
   "source": [
    "mem_ecf = cf.EmbeddedItemBasedCF(d2v)"
   ]
  },
  {
   "cell_type": "code",
   "execution_count": 14,
   "id": "33c20ea3",
   "metadata": {},
   "outputs": [
    {
     "name": "stderr",
     "output_type": "stream",
     "text": [
      "100%|██████████████████████████████████████████████████████| 13397/13397 [00:00<00:00, 40798.12it/s]\n"
     ]
    }
   ],
   "source": [
    "# fit learning algorithm to training data\n",
    "mem_ecf.fit(train)"
   ]
  },
  {
   "cell_type": "code",
   "execution_count": 15,
   "id": "d63d8435",
   "metadata": {},
   "outputs": [
    {
     "name": "stderr",
     "output_type": "stream",
     "text": [
      "100%|███████████████████████████████████████████████████████| 13397/13397 [00:04<00:00, 2762.29it/s]\n"
     ]
    }
   ],
   "source": [
    "# generate n-number of candidates items (200)\n",
    "candidate_items = mem_ecf.test()"
   ]
  },
  {
   "cell_type": "markdown",
   "id": "bd02102f",
   "metadata": {},
   "source": [
    "## Loop through N = {10, 25, 30, 45}"
   ]
  },
  {
   "cell_type": "code",
   "execution_count": 16,
   "id": "bc3bc2fa",
   "metadata": {},
   "outputs": [],
   "source": [
    "# generate item popularity\n",
    "item_popularity = generate_item_popularity(train)"
   ]
  },
  {
   "cell_type": "code",
   "execution_count": 17,
   "id": "71184af5",
   "metadata": {},
   "outputs": [
    {
     "name": "stdout",
     "output_type": "stream",
     "text": [
      "The MEM-ECF has an average recall@10: 0.03662, average novelty@10: 0.97241\n",
      "The MEM-ECF has an average recall@25: 0.06371, average novelty@25: 0.97619\n",
      "The MEM-ECF has an average recall@30: 0.07138, average novelty@30: 0.97686\n",
      "The MEM-ECF has an average recall@45: 0.08744, average novelty@45: 0.97812\n"
     ]
    }
   ],
   "source": [
    "n_recommendations = {}\n",
    "for n in [10, 25, 30, 45]:\n",
    "    # retrieve the top-n items based on similarities\n",
    "    top_ns = get_top_n(candidate_items, mem_ecf.user_rating_history, n)\n",
    "    # evaluate how well the recommended items predicted the future purchases\n",
    "    n_recommended_items = evaluate_recommendations(top_ns, test_user_history, item_popularity, n)\n",
    "    # saving the n-value and recommended items\n",
    "    n_recommendations[n] = (top_ns, n_recommended_items)"
   ]
  },
  {
   "cell_type": "markdown",
   "id": "ccb14b27",
   "metadata": {},
   "source": [
    "# Evaluate N-Recommendations"
   ]
  },
  {
   "cell_type": "code",
   "execution_count": 18,
   "id": "4a194f34",
   "metadata": {},
   "outputs": [],
   "source": [
    "def retrieve_recommendations(train: pd.DataFrame, top_ns: dict):\n",
    "    \"\"\"\n",
    "    \"\"\"\n",
    "    # generating a random user\n",
    "    random_user = np.random.choice(list(train['reviewerID'].unique()), 1)[0]\n",
    "    print(f\"For user: {random_user}:\")\n",
    "    print(f\"Purchase History:\\n{train[train['reviewerID'] == random_user][['asin', 'title']]}\")\n",
    "\n",
    "    # find the recommendations\n",
    "    print(f\"\\nRecommending:\\n\")\n",
    "    recommendations = (train[train['asin']\n",
    "                             .isin(top_ns[random_user])][['asin', 'title']]\n",
    "                       .drop_duplicates(subset='asin')\n",
    "                       .set_index('asin'))\n",
    "    print(f\"{recommendations.loc[top_ns[random_user]].reset_index()}\")"
   ]
  },
  {
   "cell_type": "markdown",
   "id": "d844dcb0",
   "metadata": {},
   "source": [
    "## N=10"
   ]
  },
  {
   "cell_type": "code",
   "execution_count": 19,
   "id": "2534229a",
   "metadata": {},
   "outputs": [],
   "source": [
    "top_ns_10 = n_recommendations[10][0]"
   ]
  },
  {
   "cell_type": "code",
   "execution_count": 30,
   "id": "14bf8c9b",
   "metadata": {},
   "outputs": [
    {
     "name": "stdout",
     "output_type": "stream",
     "text": [
      "For user: A34057DJGD2E9A:\n",
      "Purchase History:\n",
      "             asin                                              title\n",
      "24871  B001M23XK4  Mementa Tea, Organic Chinese White Tea, 100-Co...\n",
      "35918  B004JR67XE  Galil Green Pitted Olive + 20% Extra Value Siz...\n",
      "\n",
      "Recommending:\n",
      "\n",
      "         asin                                              title\n",
      "0  B000RI8NWW                  Yogi Tea Kombucha Green Tea 16 ea\n",
      "1  B004VLV6F2  Bob's Red Mill Golden Couscous, 24-ounce (Pack...\n",
      "2  B000QV8KNW                Legends of China White Tea 100 Bags\n",
      "3  B001E5E1XC  Rishi Tea Organic Green Jasmine Tea Loose Tea,...\n",
      "4  B00BY6NN30  Yogi Tea, Cinnamon Vanilla Healthy Skin, 16 Co...\n",
      "5  B0046LHGQU        Roland Lentils, Red, 35.3 Ounce (Pack of 2)\n",
      "6  B006M542TW  Non-GMO Project Verifed USA Grown 10 Lb Bean P...\n",
      "7  B0047NSHBK  Allen's Popeye Spinach, 13.5000-Ounce (Pack of 6)\n",
      "8  B004452P46  Mario Camacho Green Pitted Olives Seasoned wit...\n",
      "9  B00AKKTYEI  Doritos Tortilla Chips, Nacho Cheese, 11 Ounce...\n"
     ]
    }
   ],
   "source": [
    "retrieve_recommendations(train, top_ns_10)"
   ]
  },
  {
   "cell_type": "markdown",
   "id": "08d04ced",
   "metadata": {},
   "source": [
    "## N=25"
   ]
  },
  {
   "cell_type": "code",
   "execution_count": 21,
   "id": "52278122",
   "metadata": {},
   "outputs": [],
   "source": [
    "top_ns_25 = n_recommendations[25][0]"
   ]
  },
  {
   "cell_type": "code",
   "execution_count": 22,
   "id": "0fe585b0",
   "metadata": {},
   "outputs": [
    {
     "name": "stdout",
     "output_type": "stream",
     "text": [
      "For user: A5Y70Y025O34P:\n",
      "Purchase History:\n",
      "             asin                                              title\n",
      "14358  B0011XKHY4             Biscoff Cookies, 8.8-Ounce (Pack of 5)\n",
      "28291  B0029XLH4Y  Keurig, Coffee People, Jet Fuel, K-Cup Counts,...\n",
      "\n",
      "Recommending:\n",
      "\n",
      "          asin                                              title\n",
      "0   B003M7TTYG  Green Mountain Coffee Revv, 22-Count K-Cups fo...\n",
      "1   B0029XDZFS  Coffee People Wake Up Call K-Cup Portion Pack ...\n",
      "2   B001D0IZBM                     Grocery &amp; Gourmet Food\" />\n",
      "3   B000J4IDO2  Coffee People K-Cups, Black Tiger Extra Bold, ...\n",
      "4   B000TK6LBS  Caribou Coffee Caribou Blend, Keurig Single-Se...\n",
      "5   B001CHFSU2                     Grocery &amp; Gourmet Food\" />\n",
      "6   B001CHFUDC  Coffee People Donut Shop Regular Medium Roast ...\n",
      "7   B001ELL67A                     Grocery &amp; Gourmet Food\" />\n",
      "8   B004CZ1D8C  Green Mountain Coffee Keurig Nantucket Blend (...\n",
      "9   B0029XDZDK  Coffee People Black Tiger K-Cup Portion Pack f...\n",
      "10  B001EO5Y52                     Grocery &amp; Gourmet Food\" />\n",
      "11  B002L46PS4                     Grocery &amp; Gourmet Food\" />\n",
      "12  B003EH6P9Q            Green Mountain Coffee revv Pulse K-Cups\n",
      "13  B001CHFUGY  Coffee People Dark Roast, Jet Fuel, K-Cup Port...\n",
      "14  B002APWQ4G  Timothy's World Coffee, Midnight Magic, Extra ...\n",
      "15  B0033GMSTY  Donut House Collection Green Mountain Coffee L...\n",
      "16  B003N0XNLC  Diedrich Coffee Morning Edition K-Cup Portion ...\n",
      "17  B004S7TZD4  Coffee People DARK Roast Variety Sampler * JET...\n",
      "18  B001ELL4ZY                     Grocery &amp; Gourmet Food\" />\n",
      "19  B0039555VM  Van Houtte House Blend Melange Maison Coffee, ...\n",
      "20  B001GQ220I  Coffee People Santa's Buzz, 24-Count K-Cups fo...\n",
      "21  B002UQE206  Coffee People Tree Hugger Fair Trade &amp; Org...\n",
      "22  B001D0GVAO                     Grocery &amp; Gourmet Food\" />\n",
      "23  B000V9WSLY  Emeril's K-cups, Big Easy Bold, 24 Count Box (...\n",
      "24  B001EYUE5M  Green Mountain Coffee Breakfast Blend for Keur...\n"
     ]
    }
   ],
   "source": [
    "retrieve_recommendations(train, top_ns_25)"
   ]
  },
  {
   "cell_type": "markdown",
   "id": "4846c07e",
   "metadata": {},
   "source": [
    "## N=30"
   ]
  },
  {
   "cell_type": "code",
   "execution_count": 23,
   "id": "793f9c53",
   "metadata": {},
   "outputs": [],
   "source": [
    "top_ns_30 = n_recommendations[30][0]"
   ]
  },
  {
   "cell_type": "code",
   "execution_count": 24,
   "id": "5436781b",
   "metadata": {},
   "outputs": [
    {
     "name": "stdout",
     "output_type": "stream",
     "text": [
      "For user: AS6SH2JM2YY3H:\n",
      "Purchase History:\n",
      "             asin                                              title\n",
      "1996   B00099XMX4  Progresso Soup, Traditional, Homestyle Chicken...\n",
      "9621   B000HGA782  Stretch Island Original Fruit Leather, Ripened...\n",
      "12710  B000UUWECC  O.N.E. Coconut Water, 11.2-Ounce Aseptic Conta...\n",
      "14128  B00110FINM  Yuban Breakfast Blend Ground Coffee, 12-Ounce ...\n",
      "14573  B0012C55DW  mix 1 Protein &amp; Antioxidant Drink, Mix Ber...\n",
      "17025  B001CEDW26  Wild Planet, Wild Pink Shrimp,  4 Ounce Cans (...\n",
      "25922  B001SB8AZC  Wild Planet Wild Skipjack Tuna (Light Tuna), 5...\n",
      "39014  B004YGQPAK  Ambrosoli-HoneesEnergy Plus Vitamin Honey (Pac...\n",
      "40041  B005BPVB84  Eat. Think. Smile. Baked Nutrition Bar, Dark C...\n",
      "40155  B005BPVCVU  Eat. Think. Smile. Baked Nutrition Bar, Orange...\n",
      "44699  B007JFXWRC  Lipton Herbal Pyramid Tea Bags, Blackberry Van...\n",
      "46456  B00ANX41O0  Belvita Cinnamon Brown Sugar Breakfast Biscuit...\n",
      "\n",
      "Recommending:\n",
      "\n",
      "          asin                                              title\n",
      "0   B007LK5DDG  Crystal Light On The Go Citrus Caffeine, 10 Pa...\n",
      "1   B000WLXL8K  Gatorade Performance Series Carbohydrate Energ...\n",
      "2   B0010EEWP4  Flora Sunflower Oil Certified Organic 17-Ounce...\n",
      "3   B009YG66P4  CoCos-Pure 100% Pure Coconut Water, 11.16 ounc...\n",
      "4   B000CS9Z8S  Kettle Valley All Natural Real Fruit Snacks, S...\n",
      "5   B000WLW8MK  Gatorade Performance Series Carbohydrate Energ...\n",
      "6   B001E4S7VK  Gatorade Performance Series Protein Recovery S...\n",
      "7   B001LO50SQ  Lakewood Organic PURE Orange Juice, 12.5-Ounce...\n",
      "8   B001E4S7WE  Gatorade Performance Series Nutrition Shake, V...\n",
      "9   B005VOOQGO                   Mio Orange Tangerine, 1.62-Ounce\n",
      "10  B000JSQDK4         Lipton Yellow Label Tea Bags 100ct, 1 pack\n",
      "11  B008476SX4  Mother Earth Products Freeze Dried Cherries, 7...\n",
      "12  B001AY7XVO  Morinaga Hi-Chew Mango Fruit Chews, 1.76-Ounce...\n",
      "13  B00BKL4KKY  Orgain Kids Protein Organic Nutritional Shake,...\n",
      "14  B0015A2W32       Andes Creme De Menthe Thins, 120 Count Thins\n",
      "15  B000NB3VFM  Airborne (New Zealand) Manuka Honey 500g / 17....\n",
      "16  B001E4Q54G  Gatorade Performance Series Nutrition Shake, S...\n",
      "17  B008YDK8SO  Taste Nirvana Real Coconut Water, Coco Aloe wi...\n",
      "18  B00B59QB8U   Keystone Meats All Natural Canned Pork, 28 Ounce\n",
      "19  B00D1G7LZM  Tony Chachere's Original Creole Seasoning, 17 ...\n",
      "20  B00AX0CYWE  Quaker Chewy Variety Pack 60 Granola Bars (Pea...\n",
      "21  B00BI8CQVY  100% Fruit Strips - 98 Unit Case Pack (Wildberry)\n",
      "22  B004S07G3C  Hormel Compleats Pasta Primavera with Chicken,...\n",
      "23  B00AZMQECQ  Crystal Light Liquid Drink Mix Iced Tea 1.62 o...\n",
      "24  B007MI2O6G  Core Power by fairlife High Protein (26g) Milk...\n",
      "25  B002RBOBS2   Lindt LINDOR 60% Extra Dark Chocolate Truffle...\n",
      "26  B007P5T3Y2  Apple &amp; Eve Fruitables Variety Pack, 6.75 ...\n",
      "27  B000EDG3TU  Bob's Red Mill Natural Whole Grain Granola, 12...\n",
      "28  B007ZZQAKM  The Original Donut Shop Regular Iced Coffee, K...\n",
      "29  B00101S5SC  Vita Coco Coconut Water with Tangerine, 11.2-O...\n"
     ]
    }
   ],
   "source": [
    "retrieve_recommendations(train, top_ns_30)"
   ]
  },
  {
   "cell_type": "markdown",
   "id": "8ad48ff2",
   "metadata": {},
   "source": [
    "## N=45"
   ]
  },
  {
   "cell_type": "code",
   "execution_count": 25,
   "id": "354ce974",
   "metadata": {},
   "outputs": [],
   "source": [
    "top_ns_45 = n_recommendations[45][0]"
   ]
  },
  {
   "cell_type": "code",
   "execution_count": 26,
   "id": "025239d7",
   "metadata": {},
   "outputs": [
    {
     "name": "stdout",
     "output_type": "stream",
     "text": [
      "For user: A2IYSJV1O3DEMO:\n",
      "Purchase History:\n",
      "             asin                                              title\n",
      "5240   B000EF3E5O  Crown Prince Natural Solid White Albacore Tuna...\n",
      "8637   B000GFYRHG  Bigelow Constant Comment Tea 20-Count Boxes (P...\n",
      "19459  B001E5E3JY  SweetLeaf Sweet Drops Liquid Stevia Sweetener,...\n",
      "\n",
      "Recommending:\n",
      "\n",
      "          asin                                              title\n",
      "0   B001D0KG28  Timothy's World Tea, Chamomile Tea, 24-Count K...\n",
      "1   B000GFYRK8  Bigelow Cozy Chamomile Herbal Tea Bags 20-Coun...\n",
      "2   B00170NWEI  Rishi Tea, Organic Green Tea Sencha, 2.11-Ounc...\n",
      "3   B000CMF18W  Yogi Teas St. John's Wort Blues Away, 16 Count...\n",
      "4   B0019FOZC4  DoMatcha - Organic Ceremonial Matcha Powder, N...\n",
      "5   B00142C0X8  Prince of Peace Organic Green Tea Jasmine, 100...\n",
      "6   B0009F3PM6  Traditional Medicinals Organic Chamomile Herba...\n",
      "7   B001QXYQFK  Bigelow Organic Rooibos with Asian Pear Tea, 1...\n",
      "8   B001E5E38A  Uncle Lee's Tea Organic White Tea, Tea Bags, 1...\n",
      "9   B00A0OLTJ2  Heavenly Tea Leaves Tea Sampler, Green Tea, 4 ...\n",
      "10  B0001590IC    Freshpak Rooibos Tea 80 Tagless Bags (2 X Pack)\n",
      "11  B005Q8BL72  Stash Tea Green Tea Six Flavor Assortment, 18-...\n",
      "12  B000CQBZQA  Stash Tea Fusion Red White &amp; Blueberry Tea...\n",
      "13  B000LKXZKQ  Triple Leaf Tea, White Peony, 20 Tea Bags (Pac...\n",
      "14  B001HTI4WO  Stash Tea Chocolate Mint Wuyi Oolong Tea 18 Co...\n",
      "15  B0005ZX5PM  Lipton Green Tea, Orange Passionfruit &amp; Ja...\n",
      "16  B000PILF24  Prince of Peace Organic White Tea 100 Count, 6...\n",
      "17  B001467JYO  Foojoy Wuyi Mtn. Oolong (Wu Long) Tea 100 Tea ...\n",
      "18  B0016JKXGU  Newman's Own Organics Royal Tea, Organic Green...\n",
      "19  B0009F3QKM  Yogi Tea, Triple Echinacea Green Tea, 16 Count...\n",
      "20  B0009F3SAU  Yogi Tea - Echinacea Immune Support - Supports...\n",
      "21  B00014HS2S  Prince of Peace Oolong Tea - 100 Tea Bags net ...\n",
      "22  B007BIUB62  PURE VIA Stevia Sweetener Packets, Sugar Subst...\n",
      "23  B0012BSDNW  Frontier Co-op Organic Hibiscus Flowers, Cut &...\n",
      "24  B000CQBZOW  Stash Tea Wild Raspberry Hibiscus Herbal Tea 2...\n",
      "25  B000I660LY  Ito En Sencha Shot, Japanese Green Tea, 6.4 Ou...\n",
      "26  B005XAYXRS                             Tazo Awake Tea - 16 ct\n",
      "27  B0009F3POE  Traditional Medicinals Gypsy Cold Care Seasona...\n",
      "28  B000CMD64S  Yogi Rejuvenation Green Tea, 16 Tea Bags (Pack...\n",
      "29  B00286KM8E  Lipton Black Tea Bags, America's Favorite Tea,...\n",
      "30  B000E1BMYI    Mighty Leaf Tea Organic African Nectar - 100 ct\n",
      "31  B000F2O70W  Lipton Green Tea, Mixed Berry, Tea Bags, 20Cou...\n",
      "32  B003VTN7AC  Dilmah Premium 100% Pure Ceylon Tea, 100-Count...\n",
      "33  B0028H1H32  Twinings of London Rooibos Red Tea K-Cups for ...\n",
      "34  B0009F3PQM  Traditional Medicinals Organic Cup of Calm Rel...\n",
      "35  B000E63LQA  Celestial Seasonings White Tea, Imperial White...\n",
      "36  B0019FR0WQ  DoMatcha - Summer Harvest Matcha Powder, Natur...\n",
      "37  B00CDK1OZU  V8 V-Fusion, Tropical Orange, 46 Ounce (Pack o...\n",
      "38  B0009F3SC8  Yogi Tea - Green Tea Super Antioxidant - Helps...\n",
      "39  B000V7MCBC  Uncle Lee's Tea- Organic White Tea, Premium Or...\n",
      "40  B00404VPW4  Yogi Herbal Tea Bags, Berry DeTox 16 ea ( pack...\n",
      "41  B001VNGK6I  Frontier Co-op Turmeric Root, Ground, 1 Pound ...\n",
      "42  B001E5E330  Twinings of London Green Tea K-Cups for Keurig...\n",
      "43  B001A43E6M  AriZona Green Tea with Pomegranate and Acai, 2...\n",
      "44  B001D0MF1S  Timothy's World Coffee Canarino, Italian Hot L...\n"
     ]
    }
   ],
   "source": [
    "retrieve_recommendations(train, top_ns_45)"
   ]
  },
  {
   "cell_type": "code",
   "execution_count": null,
   "id": "d558faae",
   "metadata": {},
   "outputs": [],
   "source": []
  }
 ],
 "metadata": {
  "kernelspec": {
   "display_name": "Python 3 (ipykernel)",
   "language": "python",
   "name": "python3"
  },
  "language_info": {
   "codemirror_mode": {
    "name": "ipython",
    "version": 3
   },
   "file_extension": ".py",
   "mimetype": "text/x-python",
   "name": "python",
   "nbconvert_exporter": "python",
   "pygments_lexer": "ipython3",
   "version": "3.9.6"
  }
 },
 "nbformat": 4,
 "nbformat_minor": 5
}
