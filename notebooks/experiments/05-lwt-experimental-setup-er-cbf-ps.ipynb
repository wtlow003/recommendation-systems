{
 "cells": [
  {
   "cell_type": "code",
   "execution_count": 1,
   "id": "d5bb6033",
   "metadata": {},
   "outputs": [
    {
     "name": "stderr",
     "output_type": "stream",
     "text": [
      "/Users/jensen/Desktop/recommendation-systems/.venv/lib/python3.9/site-packages/gensim/similarities/__init__.py:15: UserWarning: The gensim.similarities.levenshtein submodule is disabled, because the optional Levenshtein package <https://pypi.org/project/python-Levenshtein/> is unavailable. Install Levenhstein (e.g. `pip install python-Levenshtein`) to suppress this warning.\n",
      "  warnings.warn(msg)\n"
     ]
    }
   ],
   "source": [
    "import os\n",
    "import sys\n",
    "\n",
    "# set environment path\n",
    "sys.path.append(\"../..\")\n",
    "\n",
    "# data manipulation\n",
    "import numpy as np\n",
    "import pandas as pd\n",
    "import warnings\n",
    "\n",
    "from gensim.models.doc2vec import Doc2Vec\n",
    "from sqlalchemy import create_engine\n",
    "from tqdm import tqdm\n",
    "\n",
    "# custom functions\n",
    "from src.models import algorithms, evaluate_model\n",
    "from src.utilities import utilities\n",
    "\n",
    "tqdm.pandas()\n",
    "warnings.filterwarnings('ignore')"
   ]
  },
  {
   "cell_type": "markdown",
   "id": "ccc8b955",
   "metadata": {},
   "source": [
    "# Load Data and Models"
   ]
  },
  {
   "cell_type": "code",
   "execution_count": 2,
   "id": "4026a31d",
   "metadata": {},
   "outputs": [],
   "source": [
    "# set path to where repo is located\n",
    "REPO_PATH = os.path.join(\"..\", \"..\")\n",
    "\n",
    "# setting path\n",
    "DATA_PATH = os.path.join(REPO_PATH, \"data\", \"evaluation\")\n",
    "D2V_PATH = os.path.join(REPO_PATH, \"models\", \"d2v\")\n",
    "\n",
    "# category to train\n",
    "CATEGORY = \"Pet_Supplies\"\n",
    "\n",
    "# reproducibility checks\n",
    "SEED = 42\n",
    "np.random.seed(42)\n",
    "\n",
    "# load train/test dataset and doc2vec trained model\n",
    "train = pd.read_csv(f\"{DATA_PATH}/{CATEGORY}_train.csv\")\n",
    "test = pd.read_csv(f\"{DATA_PATH}/{CATEGORY}_test.csv\")\n",
    "d2v = Doc2Vec.load(f\"{D2V_PATH}/{CATEGORY}_item_50_10_d2v.model\")"
   ]
  },
  {
   "cell_type": "code",
   "execution_count": 3,
   "id": "d310a929",
   "metadata": {
    "scrolled": false
   },
   "outputs": [
    {
     "data": {
      "text/html": [
       "<div>\n",
       "<style scoped>\n",
       "    .dataframe tbody tr th:only-of-type {\n",
       "        vertical-align: middle;\n",
       "    }\n",
       "\n",
       "    .dataframe tbody tr th {\n",
       "        vertical-align: top;\n",
       "    }\n",
       "\n",
       "    .dataframe thead th {\n",
       "        text-align: right;\n",
       "    }\n",
       "</style>\n",
       "<table border=\"1\" class=\"dataframe\">\n",
       "  <thead>\n",
       "    <tr style=\"text-align: right;\">\n",
       "      <th></th>\n",
       "      <th>index</th>\n",
       "      <th>asin</th>\n",
       "      <th>title</th>\n",
       "      <th>categories</th>\n",
       "      <th>reviewerID</th>\n",
       "      <th>overall</th>\n",
       "      <th>reviewText</th>\n",
       "      <th>reviewTime</th>\n",
       "      <th>processedReviewText</th>\n",
       "    </tr>\n",
       "  </thead>\n",
       "  <tbody>\n",
       "    <tr>\n",
       "      <th>0</th>\n",
       "      <td>0</td>\n",
       "      <td>1223000893</td>\n",
       "      <td>Cat Sitter DVD Trilogy - Vol 1, Vol 2 and Vol 3</td>\n",
       "      <td>[]</td>\n",
       "      <td>A14CK12J7C7JRK</td>\n",
       "      <td>3.0</td>\n",
       "      <td>I purchased the Trilogy with hoping my two cat...</td>\n",
       "      <td>2011-01-12</td>\n",
       "      <td>purchase trilogy hop cat age interested yr old...</td>\n",
       "    </tr>\n",
       "    <tr>\n",
       "      <th>1</th>\n",
       "      <td>2</td>\n",
       "      <td>1223000893</td>\n",
       "      <td>Cat Sitter DVD Trilogy - Vol 1, Vol 2 and Vol 3</td>\n",
       "      <td>[]</td>\n",
       "      <td>A2CR37UY3VR7BN</td>\n",
       "      <td>4.0</td>\n",
       "      <td>I bought the triliogy and have tested out all ...</td>\n",
       "      <td>2012-12-19</td>\n",
       "      <td>buy triliogy test dvd appear volume receive re...</td>\n",
       "    </tr>\n",
       "    <tr>\n",
       "      <th>2</th>\n",
       "      <td>3</td>\n",
       "      <td>1223000893</td>\n",
       "      <td>Cat Sitter DVD Trilogy - Vol 1, Vol 2 and Vol 3</td>\n",
       "      <td>[]</td>\n",
       "      <td>A2A4COGL9VW2HY</td>\n",
       "      <td>4.0</td>\n",
       "      <td>My female kitty could care less about these vi...</td>\n",
       "      <td>2011-05-12</td>\n",
       "      <td>female kitty care video care little male dig a...</td>\n",
       "    </tr>\n",
       "    <tr>\n",
       "      <th>3</th>\n",
       "      <td>4</td>\n",
       "      <td>1223000893</td>\n",
       "      <td>Cat Sitter DVD Trilogy - Vol 1, Vol 2 and Vol 3</td>\n",
       "      <td>[]</td>\n",
       "      <td>A2UBQA85NIGLHA</td>\n",
       "      <td>3.0</td>\n",
       "      <td>If I had gotten just volume two, I would have ...</td>\n",
       "      <td>2012-03-05</td>\n",
       "      <td>volume star trilogy star read review know vol ...</td>\n",
       "    </tr>\n",
       "    <tr>\n",
       "      <th>4</th>\n",
       "      <td>5</td>\n",
       "      <td>B00005MF9U</td>\n",
       "      <td>LitterMaid LM900 Mega Self-Cleaning Litter Box</td>\n",
       "      <td>['Pet Supplies', 'Cats', 'Litter &amp;amp; Housebr...</td>\n",
       "      <td>A2BH04B9G9LOYA</td>\n",
       "      <td>1.0</td>\n",
       "      <td>First off, it seems that someone is spamming t...</td>\n",
       "      <td>2006-12-31</td>\n",
       "      <td>spamming review glow reviewer review amazon ba...</td>\n",
       "    </tr>\n",
       "    <tr>\n",
       "      <th>68865</th>\n",
       "      <td>111581</td>\n",
       "      <td>B00K3YPOO0</td>\n",
       "      <td>Brightest Black Light Flashlight on Amazon- UV...</td>\n",
       "      <td>[]</td>\n",
       "      <td>A11J1FHCK5U06J</td>\n",
       "      <td>4.0</td>\n",
       "      <td>Now I know exactly where the trouble spots are...</td>\n",
       "      <td>2014-05-23</td>\n",
       "      <td>know exactly trouble spot sniffing guess invis...</td>\n",
       "    </tr>\n",
       "    <tr>\n",
       "      <th>68866</th>\n",
       "      <td>111585</td>\n",
       "      <td>B00K3YPOO0</td>\n",
       "      <td>Brightest Black Light Flashlight on Amazon- UV...</td>\n",
       "      <td>[]</td>\n",
       "      <td>A18JF0T0GOCORW</td>\n",
       "      <td>4.0</td>\n",
       "      <td>I use this light to help me find stains when I...</td>\n",
       "      <td>2014-05-24</td>\n",
       "      <td>use light help stain carpet clean pre treat ca...</td>\n",
       "    </tr>\n",
       "    <tr>\n",
       "      <th>68867</th>\n",
       "      <td>111595</td>\n",
       "      <td>B00K7EG97C</td>\n",
       "      <td>Nutro Crunchy Dog Treats with Real Mixed Berri...</td>\n",
       "      <td>['Pet Supplies', 'Dogs', 'Treats', 'Cookies, B...</td>\n",
       "      <td>A3GRPCW9DG427Z</td>\n",
       "      <td>5.0</td>\n",
       "      <td>We are owned by the 3 pickiest pooches in the ...</td>\n",
       "      <td>2013-07-27</td>\n",
       "      <td>pickiest pooch world love fool reject doggie t...</td>\n",
       "    </tr>\n",
       "    <tr>\n",
       "      <th>68868</th>\n",
       "      <td>111598</td>\n",
       "      <td>B00K7EG97C</td>\n",
       "      <td>Nutro Crunchy Dog Treats with Real Mixed Berri...</td>\n",
       "      <td>['Pet Supplies', 'Dogs', 'Treats', 'Cookies, B...</td>\n",
       "      <td>A2X6TLAX3JEO1A</td>\n",
       "      <td>5.0</td>\n",
       "      <td>My highly allergic white boxer loves these tre...</td>\n",
       "      <td>2014-05-09</td>\n",
       "      <td>highly allergic white boxer love treat meat co...</td>\n",
       "    </tr>\n",
       "    <tr>\n",
       "      <th>68869</th>\n",
       "      <td>111602</td>\n",
       "      <td>B00KJGFGFO</td>\n",
       "      <td>Curry Brush with Coarse or Fine Bristles. High...</td>\n",
       "      <td>[]</td>\n",
       "      <td>A9PG9ODPPP31N</td>\n",
       "      <td>5.0</td>\n",
       "      <td>Works great on my medium sized dog. She has ve...</td>\n",
       "      <td>2014-07-09</td>\n",
       "      <td>work great medium size dog coarse hair work gr...</td>\n",
       "    </tr>\n",
       "  </tbody>\n",
       "</table>\n",
       "</div>"
      ],
      "text/plain": [
       "        index        asin                                              title  \\\n",
       "0           0  1223000893    Cat Sitter DVD Trilogy - Vol 1, Vol 2 and Vol 3   \n",
       "1           2  1223000893    Cat Sitter DVD Trilogy - Vol 1, Vol 2 and Vol 3   \n",
       "2           3  1223000893    Cat Sitter DVD Trilogy - Vol 1, Vol 2 and Vol 3   \n",
       "3           4  1223000893    Cat Sitter DVD Trilogy - Vol 1, Vol 2 and Vol 3   \n",
       "4           5  B00005MF9U     LitterMaid LM900 Mega Self-Cleaning Litter Box   \n",
       "68865  111581  B00K3YPOO0  Brightest Black Light Flashlight on Amazon- UV...   \n",
       "68866  111585  B00K3YPOO0  Brightest Black Light Flashlight on Amazon- UV...   \n",
       "68867  111595  B00K7EG97C  Nutro Crunchy Dog Treats with Real Mixed Berri...   \n",
       "68868  111598  B00K7EG97C  Nutro Crunchy Dog Treats with Real Mixed Berri...   \n",
       "68869  111602  B00KJGFGFO  Curry Brush with Coarse or Fine Bristles. High...   \n",
       "\n",
       "                                              categories      reviewerID  \\\n",
       "0                                                     []  A14CK12J7C7JRK   \n",
       "1                                                     []  A2CR37UY3VR7BN   \n",
       "2                                                     []  A2A4COGL9VW2HY   \n",
       "3                                                     []  A2UBQA85NIGLHA   \n",
       "4      ['Pet Supplies', 'Cats', 'Litter &amp; Housebr...  A2BH04B9G9LOYA   \n",
       "68865                                                 []  A11J1FHCK5U06J   \n",
       "68866                                                 []  A18JF0T0GOCORW   \n",
       "68867  ['Pet Supplies', 'Dogs', 'Treats', 'Cookies, B...  A3GRPCW9DG427Z   \n",
       "68868  ['Pet Supplies', 'Dogs', 'Treats', 'Cookies, B...  A2X6TLAX3JEO1A   \n",
       "68869                                                 []   A9PG9ODPPP31N   \n",
       "\n",
       "       overall                                         reviewText  reviewTime  \\\n",
       "0          3.0  I purchased the Trilogy with hoping my two cat...  2011-01-12   \n",
       "1          4.0  I bought the triliogy and have tested out all ...  2012-12-19   \n",
       "2          4.0  My female kitty could care less about these vi...  2011-05-12   \n",
       "3          3.0  If I had gotten just volume two, I would have ...  2012-03-05   \n",
       "4          1.0  First off, it seems that someone is spamming t...  2006-12-31   \n",
       "68865      4.0  Now I know exactly where the trouble spots are...  2014-05-23   \n",
       "68866      4.0  I use this light to help me find stains when I...  2014-05-24   \n",
       "68867      5.0  We are owned by the 3 pickiest pooches in the ...  2013-07-27   \n",
       "68868      5.0  My highly allergic white boxer loves these tre...  2014-05-09   \n",
       "68869      5.0  Works great on my medium sized dog. She has ve...  2014-07-09   \n",
       "\n",
       "                                     processedReviewText  \n",
       "0      purchase trilogy hop cat age interested yr old...  \n",
       "1      buy triliogy test dvd appear volume receive re...  \n",
       "2      female kitty care video care little male dig a...  \n",
       "3      volume star trilogy star read review know vol ...  \n",
       "4      spamming review glow reviewer review amazon ba...  \n",
       "68865  know exactly trouble spot sniffing guess invis...  \n",
       "68866  use light help stain carpet clean pre treat ca...  \n",
       "68867  pickiest pooch world love fool reject doggie t...  \n",
       "68868  highly allergic white boxer love treat meat co...  \n",
       "68869  work great medium size dog coarse hair work gr...  "
      ]
     },
     "execution_count": 3,
     "metadata": {},
     "output_type": "execute_result"
    }
   ],
   "source": [
    "# checking train dataframe\n",
    "train.head().append(train.tail())"
   ]
  },
  {
   "cell_type": "code",
   "execution_count": 4,
   "id": "1ecf7fe2",
   "metadata": {},
   "outputs": [
    {
     "data": {
      "text/html": [
       "<div>\n",
       "<style scoped>\n",
       "    .dataframe tbody tr th:only-of-type {\n",
       "        vertical-align: middle;\n",
       "    }\n",
       "\n",
       "    .dataframe tbody tr th {\n",
       "        vertical-align: top;\n",
       "    }\n",
       "\n",
       "    .dataframe thead th {\n",
       "        text-align: right;\n",
       "    }\n",
       "</style>\n",
       "<table border=\"1\" class=\"dataframe\">\n",
       "  <thead>\n",
       "    <tr style=\"text-align: right;\">\n",
       "      <th></th>\n",
       "      <th>index</th>\n",
       "      <th>asin</th>\n",
       "      <th>title</th>\n",
       "      <th>categories</th>\n",
       "      <th>reviewerID</th>\n",
       "      <th>overall</th>\n",
       "      <th>reviewText</th>\n",
       "      <th>reviewTime</th>\n",
       "      <th>processedReviewText</th>\n",
       "    </tr>\n",
       "  </thead>\n",
       "  <tbody>\n",
       "    <tr>\n",
       "      <th>0</th>\n",
       "      <td>1</td>\n",
       "      <td>1223000893</td>\n",
       "      <td>Cat Sitter DVD Trilogy - Vol 1, Vol 2 and Vol 3</td>\n",
       "      <td>[]</td>\n",
       "      <td>A39QHP5WLON5HV</td>\n",
       "      <td>5.0</td>\n",
       "      <td>There are usually one or more of my cats watch...</td>\n",
       "      <td>2013-09-14</td>\n",
       "      <td>usually cat watch tv stay trouble dvd play lik...</td>\n",
       "    </tr>\n",
       "    <tr>\n",
       "      <th>1</th>\n",
       "      <td>104</td>\n",
       "      <td>B00005MF9V</td>\n",
       "      <td>LitterMaid Universal Cat Privacy Tent (LMT100)</td>\n",
       "      <td>['Pet Supplies', 'Cats', 'Litter &amp; Housebreaki...</td>\n",
       "      <td>A366V0GCEPH5CX</td>\n",
       "      <td>5.0</td>\n",
       "      <td>My cats love it and so do I. I no longer have ...</td>\n",
       "      <td>2013-02-02</td>\n",
       "      <td>cat love longer cat litter fly floor litter fl...</td>\n",
       "    </tr>\n",
       "    <tr>\n",
       "      <th>2</th>\n",
       "      <td>133</td>\n",
       "      <td>B00005MF9T</td>\n",
       "      <td>LitterMaid LM500 Automated Litter Box</td>\n",
       "      <td>['Pet Supplies', 'Cats', 'Litter &amp; Housebreaki...</td>\n",
       "      <td>ALWWS8QBYN80B</td>\n",
       "      <td>1.0</td>\n",
       "      <td>I have one female cat that weighs under 10 pou...</td>\n",
       "      <td>2004-11-17</td>\n",
       "      <td>female cat weigh pound year old use everclean ...</td>\n",
       "    </tr>\n",
       "    <tr>\n",
       "      <th>3</th>\n",
       "      <td>153</td>\n",
       "      <td>B00005MF9W</td>\n",
       "      <td>LitterMaid Waste Receptacles Automatic Litter ...</td>\n",
       "      <td>['Pet Supplies', 'Cats', 'Litter &amp; Housebreaki...</td>\n",
       "      <td>A3PVI3NE7OY1SP</td>\n",
       "      <td>5.0</td>\n",
       "      <td>I love these. They make the clean up so much e...</td>\n",
       "      <td>2013-09-26</td>\n",
       "      <td>love clean easy clean box manually use issue w...</td>\n",
       "    </tr>\n",
       "    <tr>\n",
       "      <th>4</th>\n",
       "      <td>154</td>\n",
       "      <td>B00005MF9W</td>\n",
       "      <td>LitterMaid Waste Receptacles Automatic Litter ...</td>\n",
       "      <td>['Pet Supplies', 'Cats', 'Litter &amp; Housebreaki...</td>\n",
       "      <td>A2H83XMHUVDLJY</td>\n",
       "      <td>4.0</td>\n",
       "      <td>I love this litter box. I do not use the lids,...</td>\n",
       "      <td>2014-06-26</td>\n",
       "      <td>love litter box use lid use receptacle tear cr...</td>\n",
       "    </tr>\n",
       "    <tr>\n",
       "      <th>41564</th>\n",
       "      <td>111601</td>\n",
       "      <td>B00KJGFGFO</td>\n",
       "      <td>Curry Brush with Coarse or Fine Bristles. High...</td>\n",
       "      <td>[]</td>\n",
       "      <td>AV34KNYW82YSS</td>\n",
       "      <td>4.0</td>\n",
       "      <td>Pulled lots of hair out of my Labs coat. Didn'...</td>\n",
       "      <td>2014-07-18</td>\n",
       "      <td>pulled lot hair labs coat think prove wrong co...</td>\n",
       "    </tr>\n",
       "    <tr>\n",
       "      <th>41565</th>\n",
       "      <td>111603</td>\n",
       "      <td>B00KJGFGFO</td>\n",
       "      <td>Curry Brush with Coarse or Fine Bristles. High...</td>\n",
       "      <td>[]</td>\n",
       "      <td>A1YMNTFLNDYQ1F</td>\n",
       "      <td>5.0</td>\n",
       "      <td>I have been trying to find a rubber bristle br...</td>\n",
       "      <td>2014-07-16</td>\n",
       "      <td>try rubber bristle brush persian year lose glo...</td>\n",
       "    </tr>\n",
       "    <tr>\n",
       "      <th>41566</th>\n",
       "      <td>111604</td>\n",
       "      <td>B00KJGFGFO</td>\n",
       "      <td>Curry Brush with Coarse or Fine Bristles. High...</td>\n",
       "      <td>[]</td>\n",
       "      <td>A1FQ3HRVXA4A5B</td>\n",
       "      <td>5.0</td>\n",
       "      <td>Great product to use on your pets knowing this...</td>\n",
       "      <td>2014-07-11</td>\n",
       "      <td>great product use pet know gentle rubber damag...</td>\n",
       "    </tr>\n",
       "    <tr>\n",
       "      <th>41567</th>\n",
       "      <td>111605</td>\n",
       "      <td>B00KJGFGFO</td>\n",
       "      <td>Curry Brush with Coarse or Fine Bristles. High...</td>\n",
       "      <td>[]</td>\n",
       "      <td>A3OP6CI0XCRQXO</td>\n",
       "      <td>5.0</td>\n",
       "      <td>I bought a second one because I have two cats ...</td>\n",
       "      <td>2014-07-22</td>\n",
       "      <td>buy second cat american short hair buy brush m...</td>\n",
       "    </tr>\n",
       "    <tr>\n",
       "      <th>41568</th>\n",
       "      <td>111606</td>\n",
       "      <td>B00KJGFGFO</td>\n",
       "      <td>Curry Brush with Coarse or Fine Bristles. High...</td>\n",
       "      <td>[]</td>\n",
       "      <td>A11LC938XF35XN</td>\n",
       "      <td>5.0</td>\n",
       "      <td>Our dogs love getting brushed with this.  It m...</td>\n",
       "      <td>2014-07-17</td>\n",
       "      <td>dog love brush massage remove heavy undercoat ...</td>\n",
       "    </tr>\n",
       "  </tbody>\n",
       "</table>\n",
       "</div>"
      ],
      "text/plain": [
       "        index        asin                                              title  \\\n",
       "0           1  1223000893    Cat Sitter DVD Trilogy - Vol 1, Vol 2 and Vol 3   \n",
       "1         104  B00005MF9V     LitterMaid Universal Cat Privacy Tent (LMT100)   \n",
       "2         133  B00005MF9T              LitterMaid LM500 Automated Litter Box   \n",
       "3         153  B00005MF9W  LitterMaid Waste Receptacles Automatic Litter ...   \n",
       "4         154  B00005MF9W  LitterMaid Waste Receptacles Automatic Litter ...   \n",
       "41564  111601  B00KJGFGFO  Curry Brush with Coarse or Fine Bristles. High...   \n",
       "41565  111603  B00KJGFGFO  Curry Brush with Coarse or Fine Bristles. High...   \n",
       "41566  111604  B00KJGFGFO  Curry Brush with Coarse or Fine Bristles. High...   \n",
       "41567  111605  B00KJGFGFO  Curry Brush with Coarse or Fine Bristles. High...   \n",
       "41568  111606  B00KJGFGFO  Curry Brush with Coarse or Fine Bristles. High...   \n",
       "\n",
       "                                              categories      reviewerID  \\\n",
       "0                                                     []  A39QHP5WLON5HV   \n",
       "1      ['Pet Supplies', 'Cats', 'Litter & Housebreaki...  A366V0GCEPH5CX   \n",
       "2      ['Pet Supplies', 'Cats', 'Litter & Housebreaki...   ALWWS8QBYN80B   \n",
       "3      ['Pet Supplies', 'Cats', 'Litter & Housebreaki...  A3PVI3NE7OY1SP   \n",
       "4      ['Pet Supplies', 'Cats', 'Litter & Housebreaki...  A2H83XMHUVDLJY   \n",
       "41564                                                 []   AV34KNYW82YSS   \n",
       "41565                                                 []  A1YMNTFLNDYQ1F   \n",
       "41566                                                 []  A1FQ3HRVXA4A5B   \n",
       "41567                                                 []  A3OP6CI0XCRQXO   \n",
       "41568                                                 []  A11LC938XF35XN   \n",
       "\n",
       "       overall                                         reviewText  reviewTime  \\\n",
       "0          5.0  There are usually one or more of my cats watch...  2013-09-14   \n",
       "1          5.0  My cats love it and so do I. I no longer have ...  2013-02-02   \n",
       "2          1.0  I have one female cat that weighs under 10 pou...  2004-11-17   \n",
       "3          5.0  I love these. They make the clean up so much e...  2013-09-26   \n",
       "4          4.0  I love this litter box. I do not use the lids,...  2014-06-26   \n",
       "41564      4.0  Pulled lots of hair out of my Labs coat. Didn'...  2014-07-18   \n",
       "41565      5.0  I have been trying to find a rubber bristle br...  2014-07-16   \n",
       "41566      5.0  Great product to use on your pets knowing this...  2014-07-11   \n",
       "41567      5.0  I bought a second one because I have two cats ...  2014-07-22   \n",
       "41568      5.0  Our dogs love getting brushed with this.  It m...  2014-07-17   \n",
       "\n",
       "                                     processedReviewText  \n",
       "0      usually cat watch tv stay trouble dvd play lik...  \n",
       "1      cat love longer cat litter fly floor litter fl...  \n",
       "2      female cat weigh pound year old use everclean ...  \n",
       "3      love clean easy clean box manually use issue w...  \n",
       "4      love litter box use lid use receptacle tear cr...  \n",
       "41564  pulled lot hair labs coat think prove wrong co...  \n",
       "41565  try rubber bristle brush persian year lose glo...  \n",
       "41566  great product use pet know gentle rubber damag...  \n",
       "41567  buy second cat american short hair buy brush m...  \n",
       "41568  dog love brush massage remove heavy undercoat ...  "
      ]
     },
     "execution_count": 4,
     "metadata": {},
     "output_type": "execute_result"
    }
   ],
   "source": [
    "test.head().append(test.tail())"
   ]
  },
  {
   "cell_type": "code",
   "execution_count": 5,
   "id": "95db7a26",
   "metadata": {},
   "outputs": [
    {
     "name": "stdout",
     "output_type": "stream",
     "text": [
      "                  reviewerID                                  asin\n",
      "0      A04173782GDZSQ91AJ7OD              [B0090Z9AYS, B00CPDWT2M]\n",
      "1      A042274212BJJVOBS4Q85              [B005AZ4M3Q, B00771WQIY]\n",
      "2       A0436342QLT4257JODYJ  [B0018CDR68, B003SJTM8Q, B00474A3DY]\n",
      "3      A04795073FIBKY8GSLZYI              [B001PKT30M, B005DGI2RY]\n",
      "4      A06658082A27F4VB5UG8E              [B000TZ1TTM, B0019VUHH0]\n",
      "...                      ...                                   ...\n",
      "18993          AZYJE40XW6MFG              [B00HVAKJZS, B00IDZT294]\n",
      "18994          AZZ56WF4X19G2                          [B004A7X218]\n",
      "18995          AZZNK89PXD006  [B0002DHV16, B005BP8MQ8, B009RTX4SU]\n",
      "18996          AZZV9PDNMCOZW              [B007EQL390, B00ISBWVT6]\n",
      "18997          AZZYW4YOE1B6E  [B0002AQPA2, B0002AQPA2, B0002ARQV4]\n",
      "\n",
      "[18998 rows x 2 columns]\n"
     ]
    }
   ],
   "source": [
    "# generating test history\n",
    "test_user_history = (pd.DataFrame(test.groupby(['reviewerID'])['asin']\n",
    "                                  .apply(list).reset_index()))\n",
    "print(test_user_history)"
   ]
  },
  {
   "cell_type": "code",
   "execution_count": 6,
   "id": "55810656",
   "metadata": {},
   "outputs": [
    {
     "data": {
      "text/plain": [
       "array([-0.35133928, -0.17229962,  0.0257495 , -0.06583848, -0.04991433,\n",
       "        0.02270661,  0.06725261,  0.06901126, -0.1656547 ,  0.13047186,\n",
       "       -0.002418  ,  0.20924543,  0.04927928,  0.10133805, -0.02269881,\n",
       "       -0.07407231,  0.02801738, -0.03638814, -0.13904478, -0.03911084,\n",
       "       -0.02153517, -0.00893907, -0.1383793 , -0.06263901, -0.03441359,\n",
       "        0.18414213,  0.03725764, -0.18159781, -0.14632137, -0.17885764,\n",
       "        0.07679559,  0.12158407,  0.02334197,  0.10554555,  0.08597451,\n",
       "        0.20490324, -0.1590936 , -0.24413228,  0.17860389,  0.10301679,\n",
       "       -0.06252921,  0.12318915, -0.03536423, -0.01251181,  0.022075  ,\n",
       "        0.1465826 ,  0.1827539 , -0.13209747, -0.06246685, -0.01958987],\n",
       "      dtype=float32)"
      ]
     },
     "execution_count": 6,
     "metadata": {},
     "output_type": "execute_result"
    }
   ],
   "source": [
    "# testing d2v models\n",
    "d2v.dv[0]"
   ]
  },
  {
   "cell_type": "markdown",
   "id": "d7900a33",
   "metadata": {},
   "source": [
    "# Generate N-Recommendations = {5, 10, 15, 20}"
   ]
  },
  {
   "cell_type": "markdown",
   "id": "9290464f",
   "metadata": {},
   "source": [
    "## Instantiate and Training Embedded Review CBF (Item-based)"
   ]
  },
  {
   "cell_type": "code",
   "execution_count": 7,
   "id": "33206ceb",
   "metadata": {},
   "outputs": [],
   "source": [
    "er_cbf = algorithms.EmbeddedReviewCBF(d2v)"
   ]
  },
  {
   "cell_type": "code",
   "execution_count": 8,
   "id": "33c20ea3",
   "metadata": {},
   "outputs": [
    {
     "name": "stderr",
     "output_type": "stream",
     "text": [
      "100%|████████████████████████████████████████████████████████████████████████████████████████████████| 19058/19058 [00:00<00:00, 41775.26it/s]"
     ]
    },
    {
     "name": "stdout",
     "output_type": "stream",
     "text": [
      "CPU times: user 699 ms, sys: 31.3 ms, total: 731 ms\n",
      "Wall time: 730 ms\n"
     ]
    },
    {
     "name": "stderr",
     "output_type": "stream",
     "text": [
      "\n"
     ]
    }
   ],
   "source": [
    "%%time\n",
    "# fit learning algorithm to training data\n",
    "er_cbf.fit(train)"
   ]
  },
  {
   "cell_type": "code",
   "execution_count": 9,
   "id": "d63d8435",
   "metadata": {},
   "outputs": [
    {
     "name": "stderr",
     "output_type": "stream",
     "text": [
      "100%|█████████████████████████████████████████████████████████████████████████████████████████████████| 19058/19058 [00:06<00:00, 2930.07it/s]"
     ]
    },
    {
     "name": "stdout",
     "output_type": "stream",
     "text": [
      "CPU times: user 22 s, sys: 3.5 s, total: 25.5 s\n",
      "Wall time: 6.51 s\n"
     ]
    },
    {
     "name": "stderr",
     "output_type": "stream",
     "text": [
      "\n"
     ]
    }
   ],
   "source": [
    "%%time\n",
    "# generate n-number of candidates items (200)\n",
    "candidate_items = er_cbf.test()"
   ]
  },
  {
   "cell_type": "markdown",
   "id": "bd02102f",
   "metadata": {},
   "source": [
    "## Loop through N = {5, 10, 15, 20}\n",
    "\n",
    "For each top-N setting, we will generate candidates items up to *N*-items and run metrics evaluation of `Recall@N` and `Novelty@N` on all users."
   ]
  },
  {
   "cell_type": "code",
   "execution_count": 10,
   "id": "bc3bc2fa",
   "metadata": {},
   "outputs": [],
   "source": [
    "# generate item popularity\n",
    "item_popularity = evaluate_model.generate_item_popularity(train)"
   ]
  },
  {
   "cell_type": "code",
   "execution_count": 11,
   "id": "71184af5",
   "metadata": {},
   "outputs": [
    {
     "name": "stdout",
     "output_type": "stream",
     "text": [
      "The ER-CBF has an average recall@5: 0.01616, average novelty@5: 0.94879\n",
      "The ER-CBF has an average recall@10: 0.02474, average novelty@10: 0.95356\n",
      "The ER-CBF has an average recall@15: 0.03334, average novelty@15: 0.95632\n",
      "The ER-CBF has an average recall@20: 0.03927, average novelty@20: 0.95855\n",
      "CPU times: user 1min 10s, sys: 1.06 s, total: 1min 11s\n",
      "Wall time: 1min 12s\n"
     ]
    }
   ],
   "source": [
    "%%time\n",
    "n_recommendations = {}\n",
    "for n in [5, 10, 15, 20]:\n",
    "    # retrieve the top-n items based on similarities\n",
    "    top_ns = er_cbf.get_top_n(n)\n",
    "    # evaluate how well the recommended items predicted the future purchases\n",
    "    n_recommended_items = (evaluate_model.\n",
    "                           evaluate_recommendations(model_name=\"ER-CBF\",\n",
    "                                                    top_ns=top_ns,\n",
    "                                                    user_rating_history=test_user_history, \n",
    "                                                    item_popularity=item_popularity, \n",
    "                                                    n=n,\n",
    "                                                    mf_based=False))\n",
    "    # saving the n-value and recommended items\n",
    "    n_recommendations[n] = (top_ns, n_recommended_items)"
   ]
  },
  {
   "cell_type": "markdown",
   "id": "ccb14b27",
   "metadata": {},
   "source": [
    "# Evaluate N-Recommendations\n",
    "\n",
    "For each top-N recommendation list, we pick a randomly sampled user to look at their *N*-number of recommendations based on their purchase history."
   ]
  },
  {
   "cell_type": "markdown",
   "id": "d844dcb0",
   "metadata": {},
   "source": [
    "## N=5"
   ]
  },
  {
   "cell_type": "code",
   "execution_count": 12,
   "id": "2534229a",
   "metadata": {},
   "outputs": [
    {
     "name": "stdout",
     "output_type": "stream",
     "text": [
      "For user: A3T87QAUUPTMZK:\n",
      "Purchase History:\n",
      "             asin                                              title\n",
      "43366  B0010OSIHW  Zoo Med Eco Earth Compressed Coconut Fiber Sub...\n",
      "45100  B00167VVP4   Zoo Med Eco Earth Loose Coconut Fiber Substra...\n",
      "46998  B0019IJXD2       Zoo Med Reptile Fogger Terrarium Humidifier \n",
      "\n",
      "Recommending:\n",
      "\n",
      "         asin                                            title\n",
      "0  B00025664C              POLYBIO POLY FILTER PAD 4 X 8&quot;\n",
      "1  B001F9CVRK     Loving Pets Acurel Water Clarifier, Aquarium\n",
      "2  B00025YRJS               Boyd Enterprises Chemi-Clean - 2 g\n",
      "3  B000HHLH0I                            Tetra Gel Fish Feeder\n",
      "4  B0006IGZCI  Microbe Lift 1-Quart Pond Microbe-Lift PL 10PLQ\n"
     ]
    }
   ],
   "source": [
    "top_ns_05 = n_recommendations[5][0]\n",
    "utilities.retrieve_recommendations(train, top_ns_05)"
   ]
  },
  {
   "cell_type": "markdown",
   "id": "08d04ced",
   "metadata": {},
   "source": [
    "## N=10"
   ]
  },
  {
   "cell_type": "code",
   "execution_count": 13,
   "id": "52278122",
   "metadata": {},
   "outputs": [
    {
     "name": "stdout",
     "output_type": "stream",
     "text": [
      "For user: A1XEZIHQIUAOR1:\n",
      "Purchase History:\n",
      "             asin                                              title\n",
      "1487   B000084E6V                      Nylabone Dental Dinosaur Chew\n",
      "1727   B000084E6V                      Nylabone Dental Dinosaur Chew\n",
      "28789  B0006VMN4O  Pioneer Pet SmartCat Peek-A-Prize Toy Box with...\n",
      "37658  B000JZ1WSU                     SmartCat 3836 Tick Tock Teaser\n",
      "42603  B000XZDV44  Hill'S Science Diet Kitten Savory Salmon Entre...\n",
      "43867  B0012KCUOG  Whisker Lickin'S Soft &amp; Delicious Chicken ...\n",
      "\n",
      "Recommending:\n",
      "\n",
      "         asin                                              title\n",
      "0  B0027J5RZA  Nylabone Dental Chew Bacon flavored Pro Action...\n",
      "1  B0002DGMGG         Nylabone Dura Chew Double Action Chew Wolf\n",
      "2  B0002DGM7K  Nylabone Just For Puppies  Key Ring Bone Puppy...\n",
      "3  B000084EXU  Nylabone Dental Chew Petit Original Flavored B...\n",
      "4  B0000BYDH7                    Nylabone FlexiChew Chicken Bone\n",
      "5  B0002ASMT4                              Nylabone Dog Chew Toy\n",
      "6  B000084F80    Hartz Chew 'n Clean Bacon Flavored Dog Chew Toy\n",
      "7  B004J1JPUC  Antler Dog Chew From Pet Expertise, X-Small 3&...\n",
      "8  B0053WMOKE  Chasing Our Tails Elk Rack Snack, 100-Percent ...\n",
      "9  B0059SE95A  Nylabone Power Chew DuraChew Double Bone Bacon...\n"
     ]
    }
   ],
   "source": [
    "top_ns_10 = n_recommendations[10][0]\n",
    "utilities.retrieve_recommendations(train, top_ns_10)"
   ]
  },
  {
   "cell_type": "markdown",
   "id": "4846c07e",
   "metadata": {},
   "source": [
    "## N=15"
   ]
  },
  {
   "cell_type": "code",
   "execution_count": 14,
   "id": "793f9c53",
   "metadata": {},
   "outputs": [
    {
     "name": "stdout",
     "output_type": "stream",
     "text": [
      "For user: A89LQAXW1IY6S:\n",
      "Purchase History:\n",
      "             asin                                              title\n",
      "12819  B0002ARP2O  Marshall Ferret Deluxe Leisure Lounge, Pattern...\n",
      "12825  B0002ARP2O  Marshall Ferret Deluxe Leisure Lounge, Pattern...\n",
      "38837  B000MD3NLS  MidWest Homes for Pets Snap'y Fit Stainless St...\n",
      "42683  B000Y8UNAU  Pro Select Fleece Cat Perch Covers - Comfortab...\n",
      "46465  B0018CJZ32                         SmartCat Corner Litter Box\n",
      "\n",
      "Recommending:\n",
      "\n",
      "          asin                                              title\n",
      "0   B0002602UK                        Ethical Stonewe Animal Dish\n",
      "1   B000GEZCJ4  PetSafe Wall Entry Pet Door with Telescoping T...\n",
      "2   B000MD3MIW     PetSafe Plastic Pet Door with Soft Tinted Flap\n",
      "3   B0002AT3QK                  Four Paws Dog Rake Pooper Scooper\n",
      "4   B0002ZS370                 Stainless Steel Bird Cup with Wire\n",
      "5   B000CMHWZC  Kaytee Multi-Level Habitat w/Removable Casters...\n",
      "6   B0002Y1PSA                   Cat Mate Lockable Cat Flap Brown\n",
      "7   B000QFMYWQ            Prevue Hendryx Black Feisty Ferret Cage\n",
      "8   B001V5J7UW  IRIS Pet Carrier for Dog or Cat, Picnic Basket...\n",
      "9   B003DNBG54  BestPet Beige Pet Playpen Play Yard Pen Exerci...\n",
      "10  B000GDTRAU  Pro Select Stainless Steel Coop Cups  Versatil...\n",
      "11  B000793LFK  Cat Mate 4 Way Locking Cat Flap with Door Line...\n",
      "12  B00067MVUE  Noz2Noz Poop Patrol Pet Waste Scoop, 27-Inches...\n",
      "13  B000TZ5BRI         Super Pet My First Home for Exotics, Large\n",
      "14  B000I68IGO                     Perfect Pet Tubby-Kat Cat Door\n"
     ]
    }
   ],
   "source": [
    "top_ns_15 = n_recommendations[15][0]\n",
    "utilities.retrieve_recommendations(train, top_ns_15)"
   ]
  },
  {
   "cell_type": "markdown",
   "id": "8ad48ff2",
   "metadata": {},
   "source": [
    "## N=20"
   ]
  },
  {
   "cell_type": "code",
   "execution_count": 15,
   "id": "354ce974",
   "metadata": {},
   "outputs": [
    {
     "name": "stdout",
     "output_type": "stream",
     "text": [
      "For user: A3C2ECIXEQ0YFQ:\n",
      "Purchase History:\n",
      "             asin                                              title\n",
      "30751  B0009YS4P0  Nutri-Vet Hip &amp; Joint Extra Strength Chewa...\n",
      "37067  B000IBRI2Y              Dog Dazer II Ultrasonic Dog Deterrent\n",
      "40175  B000OV4VAU                        Nutri-Vet Alaska Salmon Oil\n",
      "53623  B0029NQTI8  Pedigree Choice Cuts Variety Pack Lamb/Vegetab...\n",
      "\n",
      "Recommending:\n",
      "\n",
      "          asin                                              title\n",
      "0   B0006G5REC  Grannicks Bitter Apple Dog Chew Deterrent, 32-...\n",
      "1   B000633Z3K  NaturVet GrassSaver for Dogs, 250 Chewable Tab...\n",
      "2   B000O5K03I  ADAPTIL (D.A.P.) Dog Appeasing Pheromone Refil...\n",
      "3   B005B0OKO6                            Virbac Anxitane Tablets\n",
      "4   B000J3HZWE  Comfort Zone with DAP for Dogs Diffuser and Si...\n",
      "5   B000HHSAA8                        Emt Spray for Pets, 1 Ounce\n",
      "6   B00076KPGG            Cholodin Canine (500 tablets) CHEWABLES\n",
      "7   B000G85UM4           Comfort Zone Refill with D.A.P. for Dogs\n",
      "8   B00076X0K4  American BioSciences DGP, Joint Relief Formula...\n",
      "9   B001GQI8RE               Adaptil Spray (formally D.A.P Spray)\n",
      "10  B00076KR9G  Virbac Preventic Tick Collar, Large Dog, 25\", ...\n",
      "11  B00518G50U      Isle of Dogs 100% Natural Chillout Dog Treats\n",
      "12  B00028ZLD6                     Panacur Canine Dewormer 1 gram\n",
      "13  B000TMPPQS  PetAlive Cushex Drops-S, Adrenal Gland Balance...\n",
      "14  B0002PBZY8  Nutri-Vet Grass Guard Chewable Tablets for Dog...\n",
      "15  B002LSI1RS  Bellyrubs Organic 16-Ounce Liquid Dog Suppleme...\n",
      "16  B006GFB8WW                        Custom Service Dog ID Cards\n",
      "17  B000B8GENI  VetriScience Laboratories - Composure Liquid M...\n",
      "18  B00280BCNO              PetSafe Venture Series Trainer Remote\n",
      "19  B001WOOC9S  VetriScience Laboratories Composure, Calming S...\n"
     ]
    }
   ],
   "source": [
    "top_ns_20 = n_recommendations[20][0]\n",
    "utilities.retrieve_recommendations(train, top_ns_20)"
   ]
  },
  {
   "cell_type": "markdown",
   "id": "f9be4eb7",
   "metadata": {},
   "source": [
    "# Cross-Analysis for Cold-Start Users (<= 2 Purchased Items)\n",
    "\n",
    "For each top-N setting, we will generate candidates items up to *N*-items and run metrics evaluation of `Recall@N` and `Novelty@N` on cold-start users (e.g., users who purchased two or less items based on items per user in the training set)."
   ]
  },
  {
   "cell_type": "code",
   "execution_count": 16,
   "id": "2358c794",
   "metadata": {},
   "outputs": [],
   "source": [
    "cold_start_users = utilities.generate_cold_start_users(train)"
   ]
  },
  {
   "cell_type": "code",
   "execution_count": 17,
   "id": "a506b4d4",
   "metadata": {},
   "outputs": [
    {
     "name": "stdout",
     "output_type": "stream",
     "text": [
      "The ER-CBF has an average recall@5: 0.01867, average novelty@5: 0.94987\n",
      "The ER-CBF has an average recall@10: 0.02746, average novelty@10: 0.95508\n",
      "The ER-CBF has an average recall@15: 0.03691, average novelty@15: 0.95790\n",
      "The ER-CBF has an average recall@20: 0.04233, average novelty@20: 0.96017\n"
     ]
    }
   ],
   "source": [
    "for n in tuple(zip([5, 10, 15, 20], [top_ns_05, top_ns_10, top_ns_15, top_ns_20])):\n",
    "    cold_start_top_ns = dict(filter(lambda x: x[0] in cold_start_users, n[1].items()))\n",
    "    # evaluate how well the recommended items predicted the future purchases\n",
    "    # on cold start users\n",
    "    n_recommended_items = (evaluate_model.\n",
    "                           evaluate_recommendations(model_name=\"ER-CBF\",\n",
    "                                                    top_ns=cold_start_top_ns,\n",
    "                                                    user_rating_history=test_user_history, \n",
    "                                                    item_popularity=item_popularity, \n",
    "                                                    n=n[0],\n",
    "                                                    mf_based=False))"
   ]
  },
  {
   "cell_type": "markdown",
   "id": "465e74a4",
   "metadata": {},
   "source": [
    "# Generating Recommended Items DataFrame"
   ]
  },
  {
   "cell_type": "code",
   "execution_count": 18,
   "id": "8a95bfd0",
   "metadata": {},
   "outputs": [],
   "source": [
    "max_recommendations = (utilities\n",
    "                       .generate_recommendations_df(train=train,\n",
    "                                                    n_recommendations=n_recommendations,\n",
    "                                                    algo_name=\"ER-CBF\",\n",
    "                                                    mf_based=False,\n",
    "                                                    max_recommended=20))"
   ]
  },
  {
   "cell_type": "code",
   "execution_count": 19,
   "id": "2c2b6fc5",
   "metadata": {},
   "outputs": [
    {
     "data": {
      "text/html": [
       "<div>\n",
       "<style scoped>\n",
       "    .dataframe tbody tr th:only-of-type {\n",
       "        vertical-align: middle;\n",
       "    }\n",
       "\n",
       "    .dataframe tbody tr th {\n",
       "        vertical-align: top;\n",
       "    }\n",
       "\n",
       "    .dataframe thead th {\n",
       "        text-align: right;\n",
       "    }\n",
       "</style>\n",
       "<table border=\"1\" class=\"dataframe\">\n",
       "  <thead>\n",
       "    <tr style=\"text-align: right;\">\n",
       "      <th></th>\n",
       "      <th>reviewerID</th>\n",
       "      <th>item_rank</th>\n",
       "      <th>asin</th>\n",
       "      <th>algorithm</th>\n",
       "      <th>title</th>\n",
       "    </tr>\n",
       "  </thead>\n",
       "  <tbody>\n",
       "    <tr>\n",
       "      <th>0</th>\n",
       "      <td>A04173782GDZSQ91AJ7OD</td>\n",
       "      <td>0</td>\n",
       "      <td>B0002AT450</td>\n",
       "      <td>ER-CBF</td>\n",
       "      <td>Rake Set for Pet Waste Removal</td>\n",
       "    </tr>\n",
       "    <tr>\n",
       "      <th>1</th>\n",
       "      <td>A04173782GDZSQ91AJ7OD</td>\n",
       "      <td>1</td>\n",
       "      <td>B0002AQQ56</td>\n",
       "      <td>ER-CBF</td>\n",
       "      <td>Omega Paw Paw-Cleaning Litter Mat, Tan</td>\n",
       "    </tr>\n",
       "    <tr>\n",
       "      <th>2</th>\n",
       "      <td>A04173782GDZSQ91AJ7OD</td>\n",
       "      <td>2</td>\n",
       "      <td>B0002AR0KG</td>\n",
       "      <td>ER-CBF</td>\n",
       "      <td>Booda No Track Litter Mat</td>\n",
       "    </tr>\n",
       "    <tr>\n",
       "      <th>3</th>\n",
       "      <td>A04173782GDZSQ91AJ7OD</td>\n",
       "      <td>3</td>\n",
       "      <td>B0002DHA2Q</td>\n",
       "      <td>ER-CBF</td>\n",
       "      <td>Booda Scoop'N Hide Litter Scoop</td>\n",
       "    </tr>\n",
       "    <tr>\n",
       "      <th>4</th>\n",
       "      <td>A04173782GDZSQ91AJ7OD</td>\n",
       "      <td>4</td>\n",
       "      <td>B00023XCYG</td>\n",
       "      <td>ER-CBF</td>\n",
       "      <td>LitterMaid LMC100 Litter Box Carpet (LMC100)</td>\n",
       "    </tr>\n",
       "    <tr>\n",
       "      <th>...</th>\n",
       "      <td>...</td>\n",
       "      <td>...</td>\n",
       "      <td>...</td>\n",
       "      <td>...</td>\n",
       "      <td>...</td>\n",
       "    </tr>\n",
       "    <tr>\n",
       "      <th>381155</th>\n",
       "      <td>AZZYW4YOE1B6E</td>\n",
       "      <td>15</td>\n",
       "      <td>B0018707AW</td>\n",
       "      <td>ER-CBF</td>\n",
       "      <td>Safari Stainless Steel Double-Bladed Nail Trim...</td>\n",
       "    </tr>\n",
       "    <tr>\n",
       "      <th>381156</th>\n",
       "      <td>AZZYW4YOE1B6E</td>\n",
       "      <td>16</td>\n",
       "      <td>B0002DK09G</td>\n",
       "      <td>ER-CBF</td>\n",
       "      <td>JW Pet Company GripSoft Cat Nail Clipper</td>\n",
       "    </tr>\n",
       "    <tr>\n",
       "      <th>381157</th>\n",
       "      <td>AZZYW4YOE1B6E</td>\n",
       "      <td>17</td>\n",
       "      <td>B008FWOAXI</td>\n",
       "      <td>ER-CBF</td>\n",
       "      <td>Loving Pets Pure Buffalo 10-Inch Backstrap Ten...</td>\n",
       "    </tr>\n",
       "    <tr>\n",
       "      <th>381158</th>\n",
       "      <td>AZZYW4YOE1B6E</td>\n",
       "      <td>18</td>\n",
       "      <td>B0002ARUKQ</td>\n",
       "      <td>ER-CBF</td>\n",
       "      <td>Millers Forge Stainless Steel Dog Nail Clipper...</td>\n",
       "    </tr>\n",
       "    <tr>\n",
       "      <th>381159</th>\n",
       "      <td>AZZYW4YOE1B6E</td>\n",
       "      <td>19</td>\n",
       "      <td>B001ID3IRA</td>\n",
       "      <td>ER-CBF</td>\n",
       "      <td>Resco Nail Clipper Blade Replacement Kit, Fits...</td>\n",
       "    </tr>\n",
       "  </tbody>\n",
       "</table>\n",
       "<p>381160 rows × 5 columns</p>\n",
       "</div>"
      ],
      "text/plain": [
       "                   reviewerID item_rank        asin algorithm  \\\n",
       "0       A04173782GDZSQ91AJ7OD         0  B0002AT450    ER-CBF   \n",
       "1       A04173782GDZSQ91AJ7OD         1  B0002AQQ56    ER-CBF   \n",
       "2       A04173782GDZSQ91AJ7OD         2  B0002AR0KG    ER-CBF   \n",
       "3       A04173782GDZSQ91AJ7OD         3  B0002DHA2Q    ER-CBF   \n",
       "4       A04173782GDZSQ91AJ7OD         4  B00023XCYG    ER-CBF   \n",
       "...                       ...       ...         ...       ...   \n",
       "381155          AZZYW4YOE1B6E        15  B0018707AW    ER-CBF   \n",
       "381156          AZZYW4YOE1B6E        16  B0002DK09G    ER-CBF   \n",
       "381157          AZZYW4YOE1B6E        17  B008FWOAXI    ER-CBF   \n",
       "381158          AZZYW4YOE1B6E        18  B0002ARUKQ    ER-CBF   \n",
       "381159          AZZYW4YOE1B6E        19  B001ID3IRA    ER-CBF   \n",
       "\n",
       "                                                    title  \n",
       "0                          Rake Set for Pet Waste Removal  \n",
       "1                  Omega Paw Paw-Cleaning Litter Mat, Tan  \n",
       "2                               Booda No Track Litter Mat  \n",
       "3                         Booda Scoop'N Hide Litter Scoop  \n",
       "4            LitterMaid LMC100 Litter Box Carpet (LMC100)  \n",
       "...                                                   ...  \n",
       "381155  Safari Stainless Steel Double-Bladed Nail Trim...  \n",
       "381156           JW Pet Company GripSoft Cat Nail Clipper  \n",
       "381157  Loving Pets Pure Buffalo 10-Inch Backstrap Ten...  \n",
       "381158  Millers Forge Stainless Steel Dog Nail Clipper...  \n",
       "381159  Resco Nail Clipper Blade Replacement Kit, Fits...  \n",
       "\n",
       "[381160 rows x 5 columns]"
      ]
     },
     "execution_count": 19,
     "metadata": {},
     "output_type": "execute_result"
    }
   ],
   "source": [
    "max_recommendations"
   ]
  },
  {
   "cell_type": "markdown",
   "id": "c913d857",
   "metadata": {},
   "source": [
    "# Store in `SQLite` DB"
   ]
  },
  {
   "cell_type": "code",
   "execution_count": 20,
   "id": "0e971ef8",
   "metadata": {},
   "outputs": [],
   "source": [
    "# engine = create_engine(\"sqlite:///recommender.db\", echo=True)"
   ]
  },
  {
   "cell_type": "code",
   "execution_count": 21,
   "id": "1b684030",
   "metadata": {},
   "outputs": [],
   "source": [
    "# max_recommendations.to_sql(f\"{CATEGORY}\", con=engine, if_exists=\"append\")"
   ]
  },
  {
   "cell_type": "code",
   "execution_count": null,
   "id": "986ebd69",
   "metadata": {},
   "outputs": [],
   "source": []
  }
 ],
 "metadata": {
  "kernelspec": {
   "display_name": "Python 3 (ipykernel)",
   "language": "python",
   "name": "python3"
  },
  "language_info": {
   "codemirror_mode": {
    "name": "ipython",
    "version": 3
   },
   "file_extension": ".py",
   "mimetype": "text/x-python",
   "name": "python",
   "nbconvert_exporter": "python",
   "pygments_lexer": "ipython3",
   "version": "3.9.6"
  }
 },
 "nbformat": 4,
 "nbformat_minor": 5
}
