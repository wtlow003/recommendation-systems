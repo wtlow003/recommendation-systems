{
 "cells": [
  {
   "cell_type": "code",
   "execution_count": 1,
   "id": "36551cca",
   "metadata": {},
   "outputs": [
    {
     "name": "stderr",
     "output_type": "stream",
     "text": [
      "/Users/jensen/Desktop/recommendation-systems/.venv/lib/python3.9/site-packages/gensim/similarities/__init__.py:15: UserWarning: The gensim.similarities.levenshtein submodule is disabled, because the optional Levenshtein package <https://pypi.org/project/python-Levenshtein/> is unavailable. Install Levenhstein (e.g. `pip install python-Levenshtein`) to suppress this warning.\n",
      "  warnings.warn(msg)\n"
     ]
    }
   ],
   "source": [
    "import os\n",
    "import sys\n",
    "import warnings\n",
    "\n",
    "# set environment path\n",
    "sys.path.append(\"../..\")\n",
    "\n",
    "import numpy as np\n",
    "import pandas as pd\n",
    "\n",
    "from gensim.models.doc2vec import Doc2Vec\n",
    "from sqlalchemy import create_engine\n",
    "from tqdm import tqdm\n",
    "\n",
    "from src.models import algorithms, evaluate_model\n",
    "from src.utilities import utilities\n",
    "\n",
    "tqdm.pandas()\n",
    "warnings.filterwarnings('ignore')"
   ]
  },
  {
   "cell_type": "markdown",
   "id": "3e56bfe5",
   "metadata": {},
   "source": [
    "# Load Data and Models"
   ]
  },
  {
   "cell_type": "code",
   "execution_count": 2,
   "id": "d4e036df",
   "metadata": {},
   "outputs": [],
   "source": [
    "# set path to where repo is located\n",
    "REPO_PATH = os.path.join(\"..\", \"..\")\n",
    "\n",
    "# setting path\n",
    "DATA_PATH = os.path.join(REPO_PATH, \"data\", \"evaluation\")\n",
    "D2V_PATH = os.path.join(REPO_PATH, \"models\", \"d2v\")\n",
    "\n",
    "# category to train\n",
    "CATEGORY = \"Grocery_and_Gourmet_Food\"\n",
    "\n",
    "# mod-ecf training parameters, training epochs, learning, and regularisation rate\n",
    "PARAMS = {\"num_epochs\": 5,\n",
    "          \"learning_rate\": 0.005,\n",
    "          \"beta\": 0.1}\n",
    "\n",
    "# reproducibility checks\n",
    "SEED = 42\n",
    "np.random.seed(42)\n",
    "\n",
    "# load train/test dataset and d2v trained model\n",
    "train = pd.read_csv(f\"{DATA_PATH}/{CATEGORY}_train.csv\")\n",
    "test = pd.read_csv(f\"{DATA_PATH}/{CATEGORY}_test.csv\")\n",
    "d2v = Doc2Vec.load(f\"{D2V_PATH}/{CATEGORY}_user_item_50_10_d2v.model\")"
   ]
  },
  {
   "cell_type": "code",
   "execution_count": 3,
   "id": "4b085128",
   "metadata": {
    "scrolled": true
   },
   "outputs": [
    {
     "data": {
      "text/html": [
       "<div>\n",
       "<style scoped>\n",
       "    .dataframe tbody tr th:only-of-type {\n",
       "        vertical-align: middle;\n",
       "    }\n",
       "\n",
       "    .dataframe tbody tr th {\n",
       "        vertical-align: top;\n",
       "    }\n",
       "\n",
       "    .dataframe thead th {\n",
       "        text-align: right;\n",
       "    }\n",
       "</style>\n",
       "<table border=\"1\" class=\"dataframe\">\n",
       "  <thead>\n",
       "    <tr style=\"text-align: right;\">\n",
       "      <th></th>\n",
       "      <th>index</th>\n",
       "      <th>asin</th>\n",
       "      <th>title</th>\n",
       "      <th>categories</th>\n",
       "      <th>reviewerID</th>\n",
       "      <th>overall</th>\n",
       "      <th>reviewText</th>\n",
       "      <th>reviewTime</th>\n",
       "      <th>processedReviewText</th>\n",
       "    </tr>\n",
       "  </thead>\n",
       "  <tbody>\n",
       "    <tr>\n",
       "      <th>0</th>\n",
       "      <td>0</td>\n",
       "      <td>9742356831</td>\n",
       "      <td>Mae Ploy Green Curry Paste, 14 oz</td>\n",
       "      <td>['Grocery &amp; Gourmet Food', 'Sauces, Gravies &amp; ...</td>\n",
       "      <td>A23RYWDS884TUL</td>\n",
       "      <td>5.0</td>\n",
       "      <td>This curry paste makes a delicious curry.  I j...</td>\n",
       "      <td>2013-05-28</td>\n",
       "      <td>curry paste delicious curry fry chicken vegeta...</td>\n",
       "    </tr>\n",
       "    <tr>\n",
       "      <th>1</th>\n",
       "      <td>1</td>\n",
       "      <td>9742356831</td>\n",
       "      <td>Mae Ploy Green Curry Paste, 14 oz</td>\n",
       "      <td>['Grocery &amp; Gourmet Food', 'Sauces, Gravies &amp; ...</td>\n",
       "      <td>A945RBQWGZXCK</td>\n",
       "      <td>5.0</td>\n",
       "      <td>I've purchased different curries in the grocer...</td>\n",
       "      <td>2012-09-17</td>\n",
       "      <td>purchase different curry grocery store complet...</td>\n",
       "    </tr>\n",
       "    <tr>\n",
       "      <th>2</th>\n",
       "      <td>3</td>\n",
       "      <td>9742356831</td>\n",
       "      <td>Mae Ploy Green Curry Paste, 14 oz</td>\n",
       "      <td>['Grocery &amp; Gourmet Food', 'Sauces, Gravies &amp; ...</td>\n",
       "      <td>A3AMNY44OP8AOU</td>\n",
       "      <td>4.0</td>\n",
       "      <td>I started a new diet restricting all added sug...</td>\n",
       "      <td>2014-01-23</td>\n",
       "      <td>start new diet restrict added sugar brand suga...</td>\n",
       "    </tr>\n",
       "    <tr>\n",
       "      <th>3</th>\n",
       "      <td>4</td>\n",
       "      <td>9742356831</td>\n",
       "      <td>Mae Ploy Green Curry Paste, 14 oz</td>\n",
       "      <td>['Grocery &amp; Gourmet Food', 'Sauces, Gravies &amp; ...</td>\n",
       "      <td>A3IB4CQ2QEJLJ8</td>\n",
       "      <td>5.0</td>\n",
       "      <td>So many flavors. I can't begin to tell you how...</td>\n",
       "      <td>2014-04-27</td>\n",
       "      <td>flavor begin tell love mae ploy curry ask reci...</td>\n",
       "    </tr>\n",
       "    <tr>\n",
       "      <th>4</th>\n",
       "      <td>5</td>\n",
       "      <td>9742356831</td>\n",
       "      <td>Mae Ploy Green Curry Paste, 14 oz</td>\n",
       "      <td>['Grocery &amp; Gourmet Food', 'Sauces, Gravies &amp; ...</td>\n",
       "      <td>AQA5DF3RWKETQ</td>\n",
       "      <td>5.0</td>\n",
       "      <td>I've used this a lot recently in some of my ch...</td>\n",
       "      <td>2012-11-27</td>\n",
       "      <td>use lot recently chicken dish use lot like spi...</td>\n",
       "    </tr>\n",
       "    <tr>\n",
       "      <th>47769</th>\n",
       "      <td>77420</td>\n",
       "      <td>B00I33696K</td>\n",
       "      <td>Reese's Miniature Peanut Butter Cups .31oz - 1...</td>\n",
       "      <td>['Grocery &amp; Gourmet Food', 'Candy &amp; Chocolate'...</td>\n",
       "      <td>A192LQZWDYPR4U</td>\n",
       "      <td>5.0</td>\n",
       "      <td>Another quality Reese Peanut Butter Cup produc...</td>\n",
       "      <td>2014-02-27</td>\n",
       "      <td>quality reese peanut butter cup product great ...</td>\n",
       "    </tr>\n",
       "    <tr>\n",
       "      <th>47770</th>\n",
       "      <td>77421</td>\n",
       "      <td>B00I33696K</td>\n",
       "      <td>Reese's Miniature Peanut Butter Cups .31oz - 1...</td>\n",
       "      <td>['Grocery &amp; Gourmet Food', 'Candy &amp; Chocolate'...</td>\n",
       "      <td>A2QKXW3LDQ66P5</td>\n",
       "      <td>5.0</td>\n",
       "      <td>I purchased these for my husband who has every...</td>\n",
       "      <td>2013-02-20</td>\n",
       "      <td>purchase husband love reeses valentine day pre...</td>\n",
       "    </tr>\n",
       "    <tr>\n",
       "      <th>47771</th>\n",
       "      <td>77430</td>\n",
       "      <td>B00ID9VSOM</td>\n",
       "      <td>Viva Labs Organic Coconut Sugar: Non-GMO, Low-...</td>\n",
       "      <td>['Grocery &amp; Gourmet Food', 'Cooking &amp; Baking',...</td>\n",
       "      <td>A2P3TGJU301KXD</td>\n",
       "      <td>5.0</td>\n",
       "      <td>this stuff is INCREDIBILY yummy! SO much bette...</td>\n",
       "      <td>2014-07-15</td>\n",
       "      <td>stuff incredibily yummy good regular brown sug...</td>\n",
       "    </tr>\n",
       "    <tr>\n",
       "      <th>47772</th>\n",
       "      <td>77456</td>\n",
       "      <td>B00IRL93SY</td>\n",
       "      <td>Barrie House Kenya Estate - AA Single Cup Caps...</td>\n",
       "      <td>['Grocery &amp; Gourmet Food', 'Beverages', 'Coffe...</td>\n",
       "      <td>AEFE9VDHTQ199</td>\n",
       "      <td>5.0</td>\n",
       "      <td>Very nice aroma, body and taste! Will buy this...</td>\n",
       "      <td>2014-05-24</td>\n",
       "      <td>nice aroma body taste buy coffee good coffee a...</td>\n",
       "    </tr>\n",
       "    <tr>\n",
       "      <th>47773</th>\n",
       "      <td>77508</td>\n",
       "      <td>B00ISVHJ3Y</td>\n",
       "      <td>Wholesome Sweeteners, Organic Sweet and Lite S...</td>\n",
       "      <td>['Grocery &amp; Gourmet Food', 'Cooking &amp; Baking',...</td>\n",
       "      <td>A2AEZQ3DGBBLPR</td>\n",
       "      <td>2.0</td>\n",
       "      <td>This is a no go for diabetics according to my ...</td>\n",
       "      <td>2014-06-26</td>\n",
       "      <td>diabetic accord wife doctor order intention us...</td>\n",
       "    </tr>\n",
       "  </tbody>\n",
       "</table>\n",
       "</div>"
      ],
      "text/plain": [
       "       index        asin                                              title  \\\n",
       "0          0  9742356831                  Mae Ploy Green Curry Paste, 14 oz   \n",
       "1          1  9742356831                  Mae Ploy Green Curry Paste, 14 oz   \n",
       "2          3  9742356831                  Mae Ploy Green Curry Paste, 14 oz   \n",
       "3          4  9742356831                  Mae Ploy Green Curry Paste, 14 oz   \n",
       "4          5  9742356831                  Mae Ploy Green Curry Paste, 14 oz   \n",
       "47769  77420  B00I33696K  Reese's Miniature Peanut Butter Cups .31oz - 1...   \n",
       "47770  77421  B00I33696K  Reese's Miniature Peanut Butter Cups .31oz - 1...   \n",
       "47771  77430  B00ID9VSOM  Viva Labs Organic Coconut Sugar: Non-GMO, Low-...   \n",
       "47772  77456  B00IRL93SY  Barrie House Kenya Estate - AA Single Cup Caps...   \n",
       "47773  77508  B00ISVHJ3Y  Wholesome Sweeteners, Organic Sweet and Lite S...   \n",
       "\n",
       "                                              categories      reviewerID  \\\n",
       "0      ['Grocery & Gourmet Food', 'Sauces, Gravies & ...  A23RYWDS884TUL   \n",
       "1      ['Grocery & Gourmet Food', 'Sauces, Gravies & ...   A945RBQWGZXCK   \n",
       "2      ['Grocery & Gourmet Food', 'Sauces, Gravies & ...  A3AMNY44OP8AOU   \n",
       "3      ['Grocery & Gourmet Food', 'Sauces, Gravies & ...  A3IB4CQ2QEJLJ8   \n",
       "4      ['Grocery & Gourmet Food', 'Sauces, Gravies & ...   AQA5DF3RWKETQ   \n",
       "47769  ['Grocery & Gourmet Food', 'Candy & Chocolate'...  A192LQZWDYPR4U   \n",
       "47770  ['Grocery & Gourmet Food', 'Candy & Chocolate'...  A2QKXW3LDQ66P5   \n",
       "47771  ['Grocery & Gourmet Food', 'Cooking & Baking',...  A2P3TGJU301KXD   \n",
       "47772  ['Grocery & Gourmet Food', 'Beverages', 'Coffe...   AEFE9VDHTQ199   \n",
       "47773  ['Grocery & Gourmet Food', 'Cooking & Baking',...  A2AEZQ3DGBBLPR   \n",
       "\n",
       "       overall                                         reviewText  reviewTime  \\\n",
       "0          5.0  This curry paste makes a delicious curry.  I j...  2013-05-28   \n",
       "1          5.0  I've purchased different curries in the grocer...  2012-09-17   \n",
       "2          4.0  I started a new diet restricting all added sug...  2014-01-23   \n",
       "3          5.0  So many flavors. I can't begin to tell you how...  2014-04-27   \n",
       "4          5.0  I've used this a lot recently in some of my ch...  2012-11-27   \n",
       "47769      5.0  Another quality Reese Peanut Butter Cup produc...  2014-02-27   \n",
       "47770      5.0  I purchased these for my husband who has every...  2013-02-20   \n",
       "47771      5.0  this stuff is INCREDIBILY yummy! SO much bette...  2014-07-15   \n",
       "47772      5.0  Very nice aroma, body and taste! Will buy this...  2014-05-24   \n",
       "47773      2.0  This is a no go for diabetics according to my ...  2014-06-26   \n",
       "\n",
       "                                     processedReviewText  \n",
       "0      curry paste delicious curry fry chicken vegeta...  \n",
       "1      purchase different curry grocery store complet...  \n",
       "2      start new diet restrict added sugar brand suga...  \n",
       "3      flavor begin tell love mae ploy curry ask reci...  \n",
       "4      use lot recently chicken dish use lot like spi...  \n",
       "47769  quality reese peanut butter cup product great ...  \n",
       "47770  purchase husband love reeses valentine day pre...  \n",
       "47771  stuff incredibily yummy good regular brown sug...  \n",
       "47772  nice aroma body taste buy coffee good coffee a...  \n",
       "47773  diabetic accord wife doctor order intention us...  "
      ]
     },
     "execution_count": 3,
     "metadata": {},
     "output_type": "execute_result"
    }
   ],
   "source": [
    "# checking train dataframe\n",
    "train.head().append(train.tail())"
   ]
  },
  {
   "cell_type": "code",
   "execution_count": 4,
   "id": "5a5af3e9",
   "metadata": {},
   "outputs": [
    {
     "data": {
      "text/html": [
       "<div>\n",
       "<style scoped>\n",
       "    .dataframe tbody tr th:only-of-type {\n",
       "        vertical-align: middle;\n",
       "    }\n",
       "\n",
       "    .dataframe tbody tr th {\n",
       "        vertical-align: top;\n",
       "    }\n",
       "\n",
       "    .dataframe thead th {\n",
       "        text-align: right;\n",
       "    }\n",
       "</style>\n",
       "<table border=\"1\" class=\"dataframe\">\n",
       "  <thead>\n",
       "    <tr style=\"text-align: right;\">\n",
       "      <th></th>\n",
       "      <th>index</th>\n",
       "      <th>asin</th>\n",
       "      <th>title</th>\n",
       "      <th>categories</th>\n",
       "      <th>reviewerID</th>\n",
       "      <th>overall</th>\n",
       "      <th>reviewText</th>\n",
       "      <th>reviewTime</th>\n",
       "      <th>processedReviewText</th>\n",
       "    </tr>\n",
       "  </thead>\n",
       "  <tbody>\n",
       "    <tr>\n",
       "      <th>0</th>\n",
       "      <td>2</td>\n",
       "      <td>9742356831</td>\n",
       "      <td>Mae Ploy Green Curry Paste, 14 oz</td>\n",
       "      <td>['Grocery &amp; Gourmet Food', 'Sauces, Gravies &amp; ...</td>\n",
       "      <td>A1TCSC0YWT82Q0</td>\n",
       "      <td>5.0</td>\n",
       "      <td>I love ethnic foods and to cook them. I recent...</td>\n",
       "      <td>2013-08-03</td>\n",
       "      <td>love ethnic food cook recently purchase produc...</td>\n",
       "    </tr>\n",
       "    <tr>\n",
       "      <th>1</th>\n",
       "      <td>8</td>\n",
       "      <td>9742356831</td>\n",
       "      <td>Mae Ploy Green Curry Paste, 14 oz</td>\n",
       "      <td>['Grocery &amp; Gourmet Food', 'Sauces, Gravies &amp; ...</td>\n",
       "      <td>A1Z7Y2GMAP9SRY</td>\n",
       "      <td>5.0</td>\n",
       "      <td>I like to make my own curry but this is a tast...</td>\n",
       "      <td>2014-06-27</td>\n",
       "      <td>like curry tasty alternative use base kind dif...</td>\n",
       "    </tr>\n",
       "    <tr>\n",
       "      <th>2</th>\n",
       "      <td>23</td>\n",
       "      <td>B00004S1C5</td>\n",
       "      <td>Ateco Food Coloring Kit, 6 colors</td>\n",
       "      <td>['Grocery &amp; Gourmet Food', 'Cooking &amp; Baking',...</td>\n",
       "      <td>A14YSMLYLJEMET</td>\n",
       "      <td>1.0</td>\n",
       "      <td>This product is no where near natural / organi...</td>\n",
       "      <td>2013-03-29</td>\n",
       "      <td>product near natural organic wish review purch...</td>\n",
       "    </tr>\n",
       "    <tr>\n",
       "      <th>3</th>\n",
       "      <td>31</td>\n",
       "      <td>B00005344V</td>\n",
       "      <td>Traditional Medicinals Organic Breathe Easy Se...</td>\n",
       "      <td>['Grocery &amp; Gourmet Food', 'Beverages', 'Coffe...</td>\n",
       "      <td>A2F488C4PLWGEI</td>\n",
       "      <td>5.0</td>\n",
       "      <td>If my wife drinks a cup of this tea when she f...</td>\n",
       "      <td>2014-03-23</td>\n",
       "      <td>wife drink cup tea feel attack come help avoid...</td>\n",
       "    </tr>\n",
       "    <tr>\n",
       "      <th>4</th>\n",
       "      <td>32</td>\n",
       "      <td>B00005344V</td>\n",
       "      <td>Traditional Medicinals Organic Breathe Easy Se...</td>\n",
       "      <td>['Grocery &amp; Gourmet Food', 'Beverages', 'Coffe...</td>\n",
       "      <td>AO1HXV7DWZZIR</td>\n",
       "      <td>5.0</td>\n",
       "      <td>I don't know about the medicinal aspects of th...</td>\n",
       "      <td>2014-02-06</td>\n",
       "      <td>know medicinal aspect tea flavor downright scr...</td>\n",
       "    </tr>\n",
       "    <tr>\n",
       "      <th>28001</th>\n",
       "      <td>77519</td>\n",
       "      <td>B00ISVHJ3Y</td>\n",
       "      <td>Wholesome Sweeteners, Organic Sweet and Lite S...</td>\n",
       "      <td>['Grocery &amp; Gourmet Food', 'Cooking &amp; Baking',...</td>\n",
       "      <td>A1WT3TVHANP7ZF</td>\n",
       "      <td>3.0</td>\n",
       "      <td>Hmmm. I really wanted to love this sweetener. ...</td>\n",
       "      <td>2014-07-22</td>\n",
       "      <td>hmmm want love sweetener half sugar half stevi...</td>\n",
       "    </tr>\n",
       "    <tr>\n",
       "      <th>28002</th>\n",
       "      <td>77520</td>\n",
       "      <td>B00ISVHJ3Y</td>\n",
       "      <td>Wholesome Sweeteners, Organic Sweet and Lite S...</td>\n",
       "      <td>['Grocery &amp; Gourmet Food', 'Cooking &amp; Baking',...</td>\n",
       "      <td>A3NEAETOSXDBOM</td>\n",
       "      <td>5.0</td>\n",
       "      <td>I confess I have a sweet tooth, and love the t...</td>\n",
       "      <td>2014-06-30</td>\n",
       "      <td>confess sweet tooth love taste sugar recognize...</td>\n",
       "    </tr>\n",
       "    <tr>\n",
       "      <th>28003</th>\n",
       "      <td>77521</td>\n",
       "      <td>B00ISVHJ3Y</td>\n",
       "      <td>Wholesome Sweeteners, Organic Sweet and Lite S...</td>\n",
       "      <td>['Grocery &amp; Gourmet Food', 'Cooking &amp; Baking',...</td>\n",
       "      <td>AD1ZOPB0BBEHB</td>\n",
       "      <td>4.0</td>\n",
       "      <td>It has a little of the stevia aftertaste, but ...</td>\n",
       "      <td>2014-07-17</td>\n",
       "      <td>little stevia aftertaste fair compromise able ...</td>\n",
       "    </tr>\n",
       "    <tr>\n",
       "      <th>28004</th>\n",
       "      <td>77522</td>\n",
       "      <td>B00ISVHJ3Y</td>\n",
       "      <td>Wholesome Sweeteners, Organic Sweet and Lite S...</td>\n",
       "      <td>['Grocery &amp; Gourmet Food', 'Cooking &amp; Baking',...</td>\n",
       "      <td>A18ECVX2RJ7HUE</td>\n",
       "      <td>5.0</td>\n",
       "      <td>i love marinade for grilled flank steak or lon...</td>\n",
       "      <td>2014-05-30</td>\n",
       "      <td>love marinade grilled flank steak london broil...</td>\n",
       "    </tr>\n",
       "    <tr>\n",
       "      <th>28005</th>\n",
       "      <td>77523</td>\n",
       "      <td>B00ISVHJ3Y</td>\n",
       "      <td>Wholesome Sweeteners, Organic Sweet and Lite S...</td>\n",
       "      <td>['Grocery &amp; Gourmet Food', 'Cooking &amp; Baking',...</td>\n",
       "      <td>A2G04D4QZAXL15</td>\n",
       "      <td>3.0</td>\n",
       "      <td>I've been using Truvia (a form of stevia) on m...</td>\n",
       "      <td>2014-05-27</td>\n",
       "      <td>use truvia form stevia cereal greek yogurt yea...</td>\n",
       "    </tr>\n",
       "  </tbody>\n",
       "</table>\n",
       "</div>"
      ],
      "text/plain": [
       "       index        asin                                              title  \\\n",
       "0          2  9742356831                  Mae Ploy Green Curry Paste, 14 oz   \n",
       "1          8  9742356831                  Mae Ploy Green Curry Paste, 14 oz   \n",
       "2         23  B00004S1C5                  Ateco Food Coloring Kit, 6 colors   \n",
       "3         31  B00005344V  Traditional Medicinals Organic Breathe Easy Se...   \n",
       "4         32  B00005344V  Traditional Medicinals Organic Breathe Easy Se...   \n",
       "28001  77519  B00ISVHJ3Y  Wholesome Sweeteners, Organic Sweet and Lite S...   \n",
       "28002  77520  B00ISVHJ3Y  Wholesome Sweeteners, Organic Sweet and Lite S...   \n",
       "28003  77521  B00ISVHJ3Y  Wholesome Sweeteners, Organic Sweet and Lite S...   \n",
       "28004  77522  B00ISVHJ3Y  Wholesome Sweeteners, Organic Sweet and Lite S...   \n",
       "28005  77523  B00ISVHJ3Y  Wholesome Sweeteners, Organic Sweet and Lite S...   \n",
       "\n",
       "                                              categories      reviewerID  \\\n",
       "0      ['Grocery & Gourmet Food', 'Sauces, Gravies & ...  A1TCSC0YWT82Q0   \n",
       "1      ['Grocery & Gourmet Food', 'Sauces, Gravies & ...  A1Z7Y2GMAP9SRY   \n",
       "2      ['Grocery & Gourmet Food', 'Cooking & Baking',...  A14YSMLYLJEMET   \n",
       "3      ['Grocery & Gourmet Food', 'Beverages', 'Coffe...  A2F488C4PLWGEI   \n",
       "4      ['Grocery & Gourmet Food', 'Beverages', 'Coffe...   AO1HXV7DWZZIR   \n",
       "28001  ['Grocery & Gourmet Food', 'Cooking & Baking',...  A1WT3TVHANP7ZF   \n",
       "28002  ['Grocery & Gourmet Food', 'Cooking & Baking',...  A3NEAETOSXDBOM   \n",
       "28003  ['Grocery & Gourmet Food', 'Cooking & Baking',...   AD1ZOPB0BBEHB   \n",
       "28004  ['Grocery & Gourmet Food', 'Cooking & Baking',...  A18ECVX2RJ7HUE   \n",
       "28005  ['Grocery & Gourmet Food', 'Cooking & Baking',...  A2G04D4QZAXL15   \n",
       "\n",
       "       overall                                         reviewText  reviewTime  \\\n",
       "0          5.0  I love ethnic foods and to cook them. I recent...  2013-08-03   \n",
       "1          5.0  I like to make my own curry but this is a tast...  2014-06-27   \n",
       "2          1.0  This product is no where near natural / organi...  2013-03-29   \n",
       "3          5.0  If my wife drinks a cup of this tea when she f...  2014-03-23   \n",
       "4          5.0  I don't know about the medicinal aspects of th...  2014-02-06   \n",
       "28001      3.0  Hmmm. I really wanted to love this sweetener. ...  2014-07-22   \n",
       "28002      5.0  I confess I have a sweet tooth, and love the t...  2014-06-30   \n",
       "28003      4.0  It has a little of the stevia aftertaste, but ...  2014-07-17   \n",
       "28004      5.0  i love marinade for grilled flank steak or lon...  2014-05-30   \n",
       "28005      3.0  I've been using Truvia (a form of stevia) on m...  2014-05-27   \n",
       "\n",
       "                                     processedReviewText  \n",
       "0      love ethnic food cook recently purchase produc...  \n",
       "1      like curry tasty alternative use base kind dif...  \n",
       "2      product near natural organic wish review purch...  \n",
       "3      wife drink cup tea feel attack come help avoid...  \n",
       "4      know medicinal aspect tea flavor downright scr...  \n",
       "28001  hmmm want love sweetener half sugar half stevi...  \n",
       "28002  confess sweet tooth love taste sugar recognize...  \n",
       "28003  little stevia aftertaste fair compromise able ...  \n",
       "28004  love marinade grilled flank steak london broil...  \n",
       "28005  use truvia form stevia cereal greek yogurt yea...  "
      ]
     },
     "execution_count": 4,
     "metadata": {},
     "output_type": "execute_result"
    }
   ],
   "source": [
    "test.head().append(test.tail())"
   ]
  },
  {
   "cell_type": "code",
   "execution_count": 5,
   "id": "685805ab",
   "metadata": {},
   "outputs": [
    {
     "name": "stdout",
     "output_type": "stream",
     "text": [
      "                  reviewerID  \\\n",
      "0      A00177463W0XWB16A9O05   \n",
      "1      A022899328A0QROR32DCT   \n",
      "2      A068255029AHTHDXZURNU   \n",
      "3      A06944662TFWOKKV4GJKX   \n",
      "4             A1004703RC79J9   \n",
      "...                      ...   \n",
      "13274          AZWRZZAMX90VT   \n",
      "13275          AZXKAH2DE6C8A   \n",
      "13276          AZXON596A1VXC   \n",
      "13277          AZYXC63SS008M   \n",
      "13278          AZZ5ASC403N74   \n",
      "\n",
      "                                                    asin  \n",
      "0                               [B00474OR8G, B00BFM6OAW]  \n",
      "1                                           [B00CMQDKES]  \n",
      "2                                           [B001FA1K2G]  \n",
      "3                                           [B000GFYRHG]  \n",
      "4                                           [B003GTR8IO]  \n",
      "...                                                  ...  \n",
      "13274  [B0007R9L4M, B000CN7BMA, B001EQ5D1K, B002VT3GX...  \n",
      "13275   [B000MAK41I, B004X8TJP2, B006H34CUS, B007W14RMM]  \n",
      "13276                           [B001EO5S0I, B00271QQ7Q]  \n",
      "13277                                       [B0054TWPNC]  \n",
      "13278                                       [B00BIEU5PC]  \n",
      "\n",
      "[13279 rows x 2 columns]\n"
     ]
    }
   ],
   "source": [
    "# generating test history\n",
    "test_user_history = (pd.DataFrame(test.groupby(['reviewerID'])['asin']\n",
    "                                  .apply(list).reset_index()))\n",
    "print(test_user_history)"
   ]
  },
  {
   "cell_type": "code",
   "execution_count": 6,
   "id": "ba37a930",
   "metadata": {},
   "outputs": [
    {
     "data": {
      "text/plain": [
       "array([-2.69315392e-01,  1.77457169e-01, -1.50210857e-01,  2.73750961e-01,\n",
       "       -1.25641584e-01,  1.87143400e-01, -6.93344045e-04,  6.15229197e-02,\n",
       "        2.11115584e-01,  1.25968456e-01, -4.85256240e-02, -5.65706976e-02,\n",
       "       -1.99691564e-01, -2.46316718e-04,  2.05525205e-01, -3.18667293e-01,\n",
       "        1.79601699e-01, -5.59894741e-02, -2.77974214e-02, -3.20212483e-01,\n",
       "       -4.33429256e-02, -1.83360443e-01,  7.21168593e-02,  1.21368565e-01,\n",
       "       -1.03593357e-01,  3.28915179e-01, -3.99071664e-01,  5.18425256e-02,\n",
       "       -3.10916811e-01, -4.83547822e-02,  2.06307508e-03,  2.12369546e-01,\n",
       "       -6.04294017e-02, -3.64843979e-02,  5.01722582e-02, -9.40858275e-02,\n",
       "       -2.99028754e-01, -1.37448817e-01,  4.79324944e-02,  3.00572991e-01,\n",
       "       -2.44538441e-01, -4.12640929e-01, -9.99419242e-02, -1.71399504e-01,\n",
       "       -1.28195733e-01, -1.09600469e-01, -2.79572457e-01,  5.46566062e-02,\n",
       "        1.19243681e-01, -1.26136661e-01], dtype=float32)"
      ]
     },
     "execution_count": 6,
     "metadata": {},
     "output_type": "execute_result"
    }
   ],
   "source": [
    "# testing d2v models\n",
    "d2v.dv[0]"
   ]
  },
  {
   "cell_type": "markdown",
   "id": "4ed374ca",
   "metadata": {},
   "source": [
    "# Generating User & Item Embeddings"
   ]
  },
  {
   "cell_type": "code",
   "execution_count": 7,
   "id": "ccc02f16",
   "metadata": {},
   "outputs": [],
   "source": [
    "user_idx_map, user_vecs, item_idx_map, item_vecs = utilities.generate_user_item_embeddings(train, d2v)"
   ]
  },
  {
   "cell_type": "code",
   "execution_count": 8,
   "id": "455ba70f",
   "metadata": {},
   "outputs": [],
   "source": [
    "# converting factors into numpy obj\n",
    "user_factors = user_vecs.to_numpy()\n",
    "item_factors = item_vecs.to_numpy()"
   ]
  },
  {
   "cell_type": "code",
   "execution_count": 9,
   "id": "e06b73c0",
   "metadata": {},
   "outputs": [
    {
     "data": {
      "text/plain": [
       "array([-0.02061913, -0.00143573, -0.0034858 ,  0.01238337, -0.00435263,\n",
       "       -0.0059842 ,  0.0124501 ,  0.0046955 ,  0.01869343,  0.02591518,\n",
       "        0.01818508,  0.01330373, -0.0275974 ,  0.01780992,  0.0090669 ,\n",
       "       -0.00876903,  0.00522102,  0.02922117, -0.02179917, -0.02653198,\n",
       "       -0.01430879, -0.01388872, -0.00422054,  0.01177809, -0.00635913,\n",
       "        0.02515404, -0.02425172, -0.01412499, -0.0229231 , -0.0077565 ,\n",
       "        0.01418342,  0.00071108,  0.00133703, -0.0057057 , -0.01286033,\n",
       "       -0.01078283, -0.01986053,  0.01030534,  0.03729956,  0.01735871,\n",
       "        0.00730524, -0.02362714,  0.00063266, -0.01385546, -0.012858  ,\n",
       "       -0.00943028,  0.00276966, -0.01782037,  0.02445681, -0.01371916],\n",
       "      dtype=float32)"
      ]
     },
     "execution_count": 9,
     "metadata": {},
     "output_type": "execute_result"
    }
   ],
   "source": [
    "# check user factors\n",
    "user_factors[0,:]"
   ]
  },
  {
   "cell_type": "code",
   "execution_count": 10,
   "id": "e0652aad",
   "metadata": {},
   "outputs": [
    {
     "data": {
      "text/plain": [
       "array([-2.69315392e-01,  1.77457169e-01, -1.50210857e-01,  2.73750961e-01,\n",
       "       -1.25641584e-01,  1.87143400e-01, -6.93344045e-04,  6.15229197e-02,\n",
       "        2.11115584e-01,  1.25968456e-01, -4.85256240e-02, -5.65706976e-02,\n",
       "       -1.99691564e-01, -2.46316718e-04,  2.05525205e-01, -3.18667293e-01,\n",
       "        1.79601699e-01, -5.59894741e-02, -2.77974214e-02, -3.20212483e-01,\n",
       "       -4.33429256e-02, -1.83360443e-01,  7.21168593e-02,  1.21368565e-01,\n",
       "       -1.03593357e-01,  3.28915179e-01, -3.99071664e-01,  5.18425256e-02,\n",
       "       -3.10916811e-01, -4.83547822e-02,  2.06307508e-03,  2.12369546e-01,\n",
       "       -6.04294017e-02, -3.64843979e-02,  5.01722582e-02, -9.40858275e-02,\n",
       "       -2.99028754e-01, -1.37448817e-01,  4.79324944e-02,  3.00572991e-01,\n",
       "       -2.44538441e-01, -4.12640929e-01, -9.99419242e-02, -1.71399504e-01,\n",
       "       -1.28195733e-01, -1.09600469e-01, -2.79572457e-01,  5.46566062e-02,\n",
       "        1.19243681e-01, -1.26136661e-01], dtype=float32)"
      ]
     },
     "execution_count": 10,
     "metadata": {},
     "output_type": "execute_result"
    }
   ],
   "source": [
    "# check item factors\n",
    "item_factors[0,:]"
   ]
  },
  {
   "cell_type": "markdown",
   "id": "6c47668d",
   "metadata": {},
   "source": [
    "# Generate N-Recommendations = {5, 10, 15, 20}"
   ]
  },
  {
   "cell_type": "markdown",
   "id": "07343755",
   "metadata": {},
   "source": [
    "## Instantiate Pre-Initialised Matrix Factorization (Paragraph Vector)"
   ]
  },
  {
   "cell_type": "code",
   "execution_count": 11,
   "id": "cd71b389",
   "metadata": {},
   "outputs": [],
   "source": [
    "# instantiating mod-ecf\n",
    "mod_ecf = algorithms.PreInitialisedMF(user_map=user_idx_map,\n",
    "                                      item_map=item_idx_map,\n",
    "                                      user_factor=user_factors,\n",
    "                                      item_factor=item_factors,\n",
    "                                      num_factors=50,\n",
    "                                      **PARAMS)"
   ]
  },
  {
   "cell_type": "code",
   "execution_count": 12,
   "id": "1eeabadc",
   "metadata": {},
   "outputs": [
    {
     "name": "stdout",
     "output_type": "stream",
     "text": [
      "Processing epoch 0\n",
      "Processing epoch 1\n",
      "Processing epoch 2\n",
      "Processing epoch 3\n",
      "Processing epoch 4\n",
      "CPU times: user 2min 3s, sys: 727 ms, total: 2min 4s\n",
      "Wall time: 2min 5s\n"
     ]
    }
   ],
   "source": [
    "%%time\n",
    "# fitting to training data\n",
    "mod_ecf.fit(train, verbose=True)"
   ]
  },
  {
   "cell_type": "code",
   "execution_count": 13,
   "id": "fa587004",
   "metadata": {},
   "outputs": [
    {
     "name": "stdout",
     "output_type": "stream",
     "text": [
      "CPU times: user 32.9 s, sys: 1.69 s, total: 34.6 s\n",
      "Wall time: 35.3 s\n"
     ]
    }
   ],
   "source": [
    "%%time\n",
    "# generate candidate items for user to predict rating\n",
    "testset = mod_ecf.trainset.build_anti_testset()"
   ]
  },
  {
   "cell_type": "code",
   "execution_count": 14,
   "id": "c8e539de",
   "metadata": {},
   "outputs": [
    {
     "name": "stdout",
     "output_type": "stream",
     "text": [
      "CPU times: user 7min 50s, sys: 1min 15s, total: 9min 5s\n",
      "Wall time: 9min 19s\n"
     ]
    }
   ],
   "source": [
    "%%time\n",
    "# predict ratings for all pairs (u, i) that are NOT in the training set\n",
    "candidate_items = mod_ecf.test(testset, verbose=False)"
   ]
  },
  {
   "cell_type": "markdown",
   "id": "006c2beb",
   "metadata": {},
   "source": [
    "## Loop through N = {5, 10, 15, 20}\n",
    "\n",
    "For each top-N setting, we will generate candidates items up to *N*-items and run metrics evaluation of `Recall@N` and `Novelty@N` on all users."
   ]
  },
  {
   "cell_type": "code",
   "execution_count": 15,
   "id": "b98c854f",
   "metadata": {},
   "outputs": [],
   "source": [
    "# generate item popularity\n",
    "item_popularity = evaluate_model.generate_item_popularity(train)"
   ]
  },
  {
   "cell_type": "code",
   "execution_count": 16,
   "id": "2caa53f0",
   "metadata": {},
   "outputs": [
    {
     "name": "stdout",
     "output_type": "stream",
     "text": [
      "The MOD-ECF has an average recall@5: 0.00242, average novelty@5: 0.96789\n",
      "The MOD-ECF has an average recall@10: 0.00491, average novelty@10: 0.96825\n",
      "The MOD-ECF has an average recall@15: 0.00699, average novelty@15: 0.96826\n",
      "The MOD-ECF has an average recall@20: 0.00972, average novelty@20: 0.96829\n",
      "CPU times: user 4min 26s, sys: 1min 47s, total: 6min 14s\n",
      "Wall time: 7min 26s\n"
     ]
    }
   ],
   "source": [
    "%%time\n",
    "n_recommendations = {}\n",
    "for n in [5, 10, 15, 20]:\n",
    "    # retrieve the top-n items based on similarities\n",
    "    top_ns = mod_ecf.get_top_n(candidate_items, n)\n",
    "    # evaluate how well the recommended items predicted the future purchases\n",
    "    n_recommended_items = (evaluate_model.\n",
    "                           evaluate_recommendations(model_name=\"MOD-ECF\",\n",
    "                                                    top_ns=top_ns,\n",
    "                                                    user_rating_history=test_user_history, \n",
    "                                                    item_popularity=item_popularity, \n",
    "                                                    n=n,\n",
    "                                                    mf_based=True))\n",
    "    # saving the n-value and recommended items\n",
    "    n_recommendations[n] = (top_ns, n_recommended_items)"
   ]
  },
  {
   "cell_type": "markdown",
   "id": "d3e73163",
   "metadata": {},
   "source": [
    "# Evaluate N-Recommendations\n",
    "\n",
    "For each top-N recommendation list, we pick a randomly sampled user to look at their *N*-number of recommendations based on their purchase history."
   ]
  },
  {
   "cell_type": "markdown",
   "id": "a30e36de",
   "metadata": {},
   "source": [
    "## N=5"
   ]
  },
  {
   "cell_type": "code",
   "execution_count": 17,
   "id": "4e86fdb8",
   "metadata": {},
   "outputs": [
    {
     "name": "stdout",
     "output_type": "stream",
     "text": [
      "For user: A2H84V55USFJQX:\n",
      "Purchase History:\n",
      "             asin                                              title\n",
      "13844  B000ZSZ5S4  Blue Diamond Almonds, Bold Salt &amp; Vinegar,...\n",
      "41088  B005K4Q1T0  Grove Square Hot Cocoa Dark Chocolate, 24 Sing...\n",
      "\n",
      "Recommending:\n",
      "\n",
      "         asin                                              title\n",
      "0  B004YTV5S4  Navitas Organics Hemp Seeds, 8 oz. Bags (Pack ...\n",
      "1  B004IX03MK  Wedderspoon 100% Raw Organic Dandelion Honey, ...\n",
      "2  B00856TSCC  Manitoba Harvest Hemp Hearts Raw Shelled Hemp ...\n",
      "3  B00B8DSFXC  Kevala Organic Black Raw and Unhulled Sesame S...\n",
      "4  B004334FPG        Bob's Red Mill White Sesame Seeds, 16-ounce\n"
     ]
    }
   ],
   "source": [
    "top_ns_05 = n_recommendations[5][0]\n",
    "utilities.retrieve_recommendations(train, top_ns_05, mf_based=True)"
   ]
  },
  {
   "cell_type": "markdown",
   "id": "ca424cf6",
   "metadata": {},
   "source": [
    "## N=10"
   ]
  },
  {
   "cell_type": "code",
   "execution_count": 18,
   "id": "4522e6db",
   "metadata": {},
   "outputs": [
    {
     "name": "stdout",
     "output_type": "stream",
     "text": [
      "For user: A2W9B725TZBXOX:\n",
      "Purchase History:\n",
      "             asin                                              title\n",
      "1645   B0005Z6LLW  Ghirardelli Hot Chocolate Mix , Chocolate Moch...\n",
      "4683   B000ED9L6C  Bob's Red Mill Raw Shelled Sunflower Seeds (Ke...\n",
      "8508   B000GATCRQ  Dream Foods International Volcano Lemon Burst,...\n",
      "15333  B0014EOUAW  V8 V-Fusion Light Peach Mango Juice Drink, 46-...\n",
      "18192  B001E52ZAS  Post Shredded Wheat Lightly Frosted Cereal, Sp...\n",
      "21093  B001EPQV1W  Honey Bunches of Oats with Almonds, 14.5-Ounce...\n",
      "22932  B001G8UC8K  Tootsie Roll Midgees Candy 5 Pound Value Bag 7...\n",
      "23025  B001GVIRD4                     Grocery &amp; Gourmet Food\" />\n",
      "24945  B001NC8HQS  Idahoan Buttery homestyle flavored mashed pota...\n",
      "25830  B001SAQ7WQ  Progresso Traditional Soup, Chickarina (Chicke...\n",
      "26956  B0025UOMY8  Maruchan Yakisoba Spicy Vegetable, 3.79-Ounce ...\n",
      "33467  B00421DMLM  Libby's Splenda Sliced Peaches, 23.5-Ounce Jar...\n",
      "34141  B004727CL2  Snack Factory Pretzel Crisps Everything, 7.2-O...\n",
      "40204  B005C3IVN8  Anderson's Pure Maple Syrup, Grade A Very Dark...\n",
      "40494  B005ER1DJ6  Quaker Popped Rice Crisps Snacks Chocolate, 7....\n",
      "40552  B005FUMNPU  Quakes Rice Snacks, Sweet Chili, 6 Ounce (Pack...\n",
      "\n",
      "Recommending:\n",
      "\n",
      "         asin                                              title\n",
      "0  B0000GL6RK         Taj&iacute;n Cl&aacute;sico Seasoning 5 oz\n",
      "1  B0000GHNSQ  El Yucateco Green Hot Sauce Bottle, Chile Haba...\n",
      "2  B0000IJYK4  Maseca Instant Yellow Corn Masa Flour 4.84lb |...\n",
      "3  B0000W0GQQ  Nielsen-Massey Madagascar Bourbon Vanilla Bean...\n",
      "4  B00014JNI0  YS Organic Bee Farms CERTIFIED ORGANIC RAW HON...\n",
      "5  B00014VTNW            Marmite Yeast Extract Flavored, 4.40 oz\n",
      "6  B0001590BY                           Lyle's Golden Syrup 454g\n",
      "7  B00016JGZI                 Coconut Chips, 1 lb. by Barry Farm\n",
      "8  B00016UX1E  Lee Kum Kee Premium Oyster Sauce, 18-Ounce Gla...\n",
      "9  B00016XJM4  Frontier Co-op Nutritional Yeast Mini Flakes, ...\n"
     ]
    }
   ],
   "source": [
    "top_ns_10 = n_recommendations[10][0]\n",
    "utilities.retrieve_recommendations(train, top_ns_10, mf_based=True)"
   ]
  },
  {
   "cell_type": "markdown",
   "id": "ffe6bc5f",
   "metadata": {},
   "source": [
    "## N=15"
   ]
  },
  {
   "cell_type": "code",
   "execution_count": 19,
   "id": "02c52994",
   "metadata": {},
   "outputs": [
    {
     "name": "stdout",
     "output_type": "stream",
     "text": [
      "For user: A1G8ECTOF35O2R:\n",
      "Purchase History:\n",
      "             asin                                              title\n",
      "9115   B000H26J7E  Lindt Excellence Bar, 70% Cocoa Smooth Dark Ch...\n",
      "47677  B00EKLPLU4              Healthworks Cacao Powder Organic, 1lb\n",
      "\n",
      "Recommending:\n",
      "\n",
      "          asin                                              title\n",
      "0   B00028Q45A    Arrowhead Mills Organic Flax Seeds, 1 Pound Bag\n",
      "1   B000HLH7AS          Mr Kipling Cakes Mini Battenbergs- 5 pack\n",
      "2   B000IXUJOQ  ALMOND JOY, Chocolate Coconut Candy Bar (Pack ...\n",
      "3   B000MIFS3Y  Chef Boyardee Beef Ravioli, 14.25-Ounce Microw...\n",
      "4   B001EQ5G1C  Manitoba Harvest Organic Hemp Hearts Raw Shell...\n",
      "5   B001SJHNKC  Kicking Horse Organic Whole Bean Coffee, Cliff...\n",
      "6   B0029JASWA  Dove Dark Chocolate Promises, 9.5-Ounce Packag...\n",
      "7   B0029J6QLM         Snickers Dark Chocolate Candy (Pack of 24)\n",
      "8   B002NHSQ6I  Newman's Own Organics Organic Premium Chocolat...\n",
      "9   B002RBRY0Y  Lindt LINDOR Dark Chocolate Truffles, Kosher, ...\n",
      "10  B002RNYAHM  Lindt LINDOR Dark Chocolate Truffles, Kosher, ...\n",
      "11  B002Y2QT2K  Community Coffee 100% Pure Chicory Medium Roas...\n",
      "12  B003BI2EUW     YS BEE FARMS Raw Tupelo Blossom Honey, 13.5 OZ\n",
      "13  B003SRKSRC  Lavazza Crema e Gusto Ground Coffee, Italian E...\n",
      "14  B004334FPG        Bob's Red Mill White Sesame Seeds, 16-ounce\n"
     ]
    }
   ],
   "source": [
    "top_ns_15 = n_recommendations[15][0]\n",
    "utilities.retrieve_recommendations(train, top_ns_15, mf_based=True)"
   ]
  },
  {
   "cell_type": "markdown",
   "id": "02489a59",
   "metadata": {},
   "source": [
    "## N=20"
   ]
  },
  {
   "cell_type": "code",
   "execution_count": 20,
   "id": "c3588f67",
   "metadata": {},
   "outputs": [
    {
     "name": "stdout",
     "output_type": "stream",
     "text": [
      "For user: A1NEKFNO1E743Y:\n",
      "Purchase History:\n",
      "            asin                                              title\n",
      "8695  B000GFYRHG  Bigelow Constant Comment Tea 20-Count Boxes (P...\n",
      "\n",
      "Recommending:\n",
      "\n",
      "          asin                                              title\n",
      "0   B004YTV5S4  Navitas Organics Hemp Seeds, 8 oz. Bags (Pack ...\n",
      "1   B004IX03MK  Wedderspoon 100% Raw Organic Dandelion Honey, ...\n",
      "2   B00856TSCC  Manitoba Harvest Hemp Hearts Raw Shelled Hemp ...\n",
      "3   B00B8DSFXC  Kevala Organic Black Raw and Unhulled Sesame S...\n",
      "4   B004334FPG        Bob's Red Mill White Sesame Seeds, 16-ounce\n",
      "5   B007JBO41E  Emergency Preparedness &amp; Survival Gluten-F...\n",
      "6   B003BI2EUW     YS BEE FARMS Raw Tupelo Blossom Honey, 13.5 OZ\n",
      "7   B004TDTZEG  MW Polar Herring, Hot Tomato Sauce, 6-Ounce (P...\n",
      "8   B00B8DU1QQ           Kevala Organic Toasted Sesame Seeds 2Lbs\n",
      "9   B008XCSXHO  Vitacost Organic Apple Cider Vinegar with ''Mo...\n",
      "10  B001EQ5G1C  Manitoba Harvest Organic Hemp Hearts Raw Shell...\n",
      "11  B00DDT116M  Organic Matcha Green Tea Powder - Japanese Cul...\n",
      "12  B00826F95K  Igourmet Four Continents of Cheese on a Budget...\n",
      "13  B005ECLNIM                              True Orange 100 Count\n",
      "14  B00485GY1M  Navitas Naturals Organic Flax Seed Sprouted Po...\n",
      "15  B0029JES6W  M&amp;M'S Almond Chocolate Candy 9.9-Ounce Bag...\n",
      "16  B003S1TNIS  FiberGourmet Light Spaghetti, 8-Ounce Boxes (P...\n",
      "17  B000IXUJOQ  ALMOND JOY, Chocolate Coconut Candy Bar (Pack ...\n",
      "18  B000MIFS3Y  Chef Boyardee Beef Ravioli, 14.25-Ounce Microw...\n",
      "19  B003VTG7RC             Q Tonic Water Glass Bottle(Pack of 24)\n"
     ]
    }
   ],
   "source": [
    "top_ns_20 = n_recommendations[20][0]\n",
    "utilities.retrieve_recommendations(train, top_ns_20, mf_based=True)"
   ]
  },
  {
   "cell_type": "markdown",
   "id": "8172ae1d",
   "metadata": {},
   "source": [
    "# Cross-Analysis for Cold-Start Users (<= 2 Purchased Items)\n",
    "\n",
    "For each top-N setting, we will generate candidates items up to *N*-items and run metrics evaluation of `Recall@N` and `Novelty@N` on cold-start users (e.g., users who purchased two or less items based on items per user in the training set)."
   ]
  },
  {
   "cell_type": "code",
   "execution_count": 21,
   "id": "9adfbd9e",
   "metadata": {},
   "outputs": [],
   "source": [
    "cold_start_users = utilities.generate_cold_start_users(train)"
   ]
  },
  {
   "cell_type": "code",
   "execution_count": 22,
   "id": "24d19299",
   "metadata": {},
   "outputs": [
    {
     "name": "stdout",
     "output_type": "stream",
     "text": [
      "The MOD-ECF has an average recall@5: 0.00281, average novelty@5: 0.97652\n",
      "The MOD-ECF has an average recall@10: 0.00488, average novelty@10: 0.97484\n",
      "The MOD-ECF has an average recall@15: 0.00682, average novelty@15: 0.97395\n",
      "The MOD-ECF has an average recall@20: 0.00990, average novelty@20: 0.97335\n"
     ]
    }
   ],
   "source": [
    "for n in tuple(zip([5, 10, 15, 20], [top_ns_05, top_ns_10, top_ns_15, top_ns_20])):\n",
    "    cold_start_top_ns = dict(filter(lambda x: x[0] in cold_start_users, n[1].items()))\n",
    "    # evaluate how well the recommended items predicted the future purchases\n",
    "    # on cold start users\n",
    "    n_recommended_items = (evaluate_model.\n",
    "                           evaluate_recommendations(model_name=\"MOD-ECF\",\n",
    "                                                    top_ns=cold_start_top_ns,\n",
    "                                                    user_rating_history=test_user_history, \n",
    "                                                    item_popularity=item_popularity, \n",
    "                                                    n=n[0],\n",
    "                                                    mf_based=True))"
   ]
  },
  {
   "cell_type": "markdown",
   "id": "93633ef4",
   "metadata": {},
   "source": [
    "# Generating Recommended Items DataFrame"
   ]
  },
  {
   "cell_type": "code",
   "execution_count": 23,
   "id": "da654eb0",
   "metadata": {},
   "outputs": [],
   "source": [
    "max_recommendations = (utilities\n",
    "                       .generate_recommendations_df(train=train,\n",
    "                                                    n_recommendations=n_recommendations,\n",
    "                                                    algo_name=\"MOD-ECF\",\n",
    "                                                    mf_based=True,\n",
    "                                                    max_recommended=20))"
   ]
  },
  {
   "cell_type": "code",
   "execution_count": 24,
   "id": "869e43b5",
   "metadata": {},
   "outputs": [
    {
     "data": {
      "text/html": [
       "<div>\n",
       "<style scoped>\n",
       "    .dataframe tbody tr th:only-of-type {\n",
       "        vertical-align: middle;\n",
       "    }\n",
       "\n",
       "    .dataframe tbody tr th {\n",
       "        vertical-align: top;\n",
       "    }\n",
       "\n",
       "    .dataframe thead th {\n",
       "        text-align: right;\n",
       "    }\n",
       "</style>\n",
       "<table border=\"1\" class=\"dataframe\">\n",
       "  <thead>\n",
       "    <tr style=\"text-align: right;\">\n",
       "      <th></th>\n",
       "      <th>reviewerID</th>\n",
       "      <th>item_rank</th>\n",
       "      <th>asin</th>\n",
       "      <th>algorithm</th>\n",
       "      <th>title</th>\n",
       "    </tr>\n",
       "  </thead>\n",
       "  <tbody>\n",
       "    <tr>\n",
       "      <th>0</th>\n",
       "      <td>A00177463W0XWB16A9O05</td>\n",
       "      <td>0</td>\n",
       "      <td>B00028Q45A</td>\n",
       "      <td>MOD-ECF</td>\n",
       "      <td>Arrowhead Mills Organic Flax Seeds, 1 Pound Bag</td>\n",
       "    </tr>\n",
       "    <tr>\n",
       "      <th>1</th>\n",
       "      <td>A00177463W0XWB16A9O05</td>\n",
       "      <td>1</td>\n",
       "      <td>B001EQ5G1C</td>\n",
       "      <td>MOD-ECF</td>\n",
       "      <td>Manitoba Harvest Organic Hemp Hearts Raw Shell...</td>\n",
       "    </tr>\n",
       "    <tr>\n",
       "      <th>2</th>\n",
       "      <td>A00177463W0XWB16A9O05</td>\n",
       "      <td>2</td>\n",
       "      <td>B003BI2EUW</td>\n",
       "      <td>MOD-ECF</td>\n",
       "      <td>YS BEE FARMS Raw Tupelo Blossom Honey, 13.5 OZ</td>\n",
       "    </tr>\n",
       "    <tr>\n",
       "      <th>3</th>\n",
       "      <td>A00177463W0XWB16A9O05</td>\n",
       "      <td>3</td>\n",
       "      <td>B004334FPG</td>\n",
       "      <td>MOD-ECF</td>\n",
       "      <td>Bob's Red Mill White Sesame Seeds, 16-ounce</td>\n",
       "    </tr>\n",
       "    <tr>\n",
       "      <th>4</th>\n",
       "      <td>A00177463W0XWB16A9O05</td>\n",
       "      <td>4</td>\n",
       "      <td>B004IX03MK</td>\n",
       "      <td>MOD-ECF</td>\n",
       "      <td>Wedderspoon 100% Raw Organic Dandelion Honey, ...</td>\n",
       "    </tr>\n",
       "    <tr>\n",
       "      <th>...</th>\n",
       "      <td>...</td>\n",
       "      <td>...</td>\n",
       "      <td>...</td>\n",
       "      <td>...</td>\n",
       "      <td>...</td>\n",
       "    </tr>\n",
       "    <tr>\n",
       "      <th>267935</th>\n",
       "      <td>AZZ5ASC403N74</td>\n",
       "      <td>15</td>\n",
       "      <td>B00BXGB4F0</td>\n",
       "      <td>MOD-ECF</td>\n",
       "      <td>Austin Cheese Crackers with Peanut Butter, 45 ...</td>\n",
       "    </tr>\n",
       "    <tr>\n",
       "      <th>267936</th>\n",
       "      <td>AZZ5ASC403N74</td>\n",
       "      <td>16</td>\n",
       "      <td>B001HBXO54</td>\n",
       "      <td>MOD-ECF</td>\n",
       "      <td>Lindor Assorted Chocolate Truffles, 21.2 ounce</td>\n",
       "    </tr>\n",
       "    <tr>\n",
       "      <th>267937</th>\n",
       "      <td>AZZ5ASC403N74</td>\n",
       "      <td>17</td>\n",
       "      <td>B00370957E</td>\n",
       "      <td>MOD-ECF</td>\n",
       "      <td>Barney Butter Almond Butter, Crunchy, 10 Ounce...</td>\n",
       "    </tr>\n",
       "    <tr>\n",
       "      <th>267938</th>\n",
       "      <td>AZZ5ASC403N74</td>\n",
       "      <td>18</td>\n",
       "      <td>B005C3IVME</td>\n",
       "      <td>MOD-ECF</td>\n",
       "      <td>Anderson's Pure Maple Syrup, Grade A, 32-Ounce</td>\n",
       "    </tr>\n",
       "    <tr>\n",
       "      <th>267939</th>\n",
       "      <td>AZZ5ASC403N74</td>\n",
       "      <td>19</td>\n",
       "      <td>B004VLV7NS</td>\n",
       "      <td>MOD-ECF</td>\n",
       "      <td>Bob's Red Mill Cereal, 10 Grain Hot, 25 Ounce ...</td>\n",
       "    </tr>\n",
       "  </tbody>\n",
       "</table>\n",
       "<p>267940 rows × 5 columns</p>\n",
       "</div>"
      ],
      "text/plain": [
       "                   reviewerID item_rank        asin algorithm  \\\n",
       "0       A00177463W0XWB16A9O05         0  B00028Q45A   MOD-ECF   \n",
       "1       A00177463W0XWB16A9O05         1  B001EQ5G1C   MOD-ECF   \n",
       "2       A00177463W0XWB16A9O05         2  B003BI2EUW   MOD-ECF   \n",
       "3       A00177463W0XWB16A9O05         3  B004334FPG   MOD-ECF   \n",
       "4       A00177463W0XWB16A9O05         4  B004IX03MK   MOD-ECF   \n",
       "...                       ...       ...         ...       ...   \n",
       "267935          AZZ5ASC403N74        15  B00BXGB4F0   MOD-ECF   \n",
       "267936          AZZ5ASC403N74        16  B001HBXO54   MOD-ECF   \n",
       "267937          AZZ5ASC403N74        17  B00370957E   MOD-ECF   \n",
       "267938          AZZ5ASC403N74        18  B005C3IVME   MOD-ECF   \n",
       "267939          AZZ5ASC403N74        19  B004VLV7NS   MOD-ECF   \n",
       "\n",
       "                                                    title  \n",
       "0         Arrowhead Mills Organic Flax Seeds, 1 Pound Bag  \n",
       "1       Manitoba Harvest Organic Hemp Hearts Raw Shell...  \n",
       "2          YS BEE FARMS Raw Tupelo Blossom Honey, 13.5 OZ  \n",
       "3             Bob's Red Mill White Sesame Seeds, 16-ounce  \n",
       "4       Wedderspoon 100% Raw Organic Dandelion Honey, ...  \n",
       "...                                                   ...  \n",
       "267935  Austin Cheese Crackers with Peanut Butter, 45 ...  \n",
       "267936    Lindor Assorted Chocolate Truffles, 21.2 ounce   \n",
       "267937  Barney Butter Almond Butter, Crunchy, 10 Ounce...  \n",
       "267938     Anderson's Pure Maple Syrup, Grade A, 32-Ounce  \n",
       "267939  Bob's Red Mill Cereal, 10 Grain Hot, 25 Ounce ...  \n",
       "\n",
       "[267940 rows x 5 columns]"
      ]
     },
     "execution_count": 24,
     "metadata": {},
     "output_type": "execute_result"
    }
   ],
   "source": [
    " max_recommendations"
   ]
  },
  {
   "cell_type": "markdown",
   "id": "e7cf23a5",
   "metadata": {},
   "source": [
    "# Store in `SQLite` DB"
   ]
  },
  {
   "cell_type": "code",
   "execution_count": 25,
   "id": "a318ef9b",
   "metadata": {},
   "outputs": [],
   "source": [
    "# engine = create_engine(\"sqlite:///recommender.db\", echo=True)"
   ]
  },
  {
   "cell_type": "code",
   "execution_count": 26,
   "id": "afb14413",
   "metadata": {},
   "outputs": [],
   "source": [
    "# max_recommendations.to_sql(f\"{CATEGORY}\", con=engine, if_exists=\"append\")"
   ]
  },
  {
   "cell_type": "code",
   "execution_count": null,
   "id": "7c5155fa",
   "metadata": {},
   "outputs": [],
   "source": []
  }
 ],
 "metadata": {
  "kernelspec": {
   "display_name": "Python 3 (ipykernel)",
   "language": "python",
   "name": "python3"
  },
  "language_info": {
   "codemirror_mode": {
    "name": "ipython",
    "version": 3
   },
   "file_extension": ".py",
   "mimetype": "text/x-python",
   "name": "python",
   "nbconvert_exporter": "python",
   "pygments_lexer": "ipython3",
   "version": "3.9.6"
  }
 },
 "nbformat": 4,
 "nbformat_minor": 5
}
