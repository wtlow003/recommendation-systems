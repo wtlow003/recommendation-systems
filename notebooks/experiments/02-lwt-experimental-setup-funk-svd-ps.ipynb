{
 "cells": [
  {
   "cell_type": "code",
   "execution_count": 1,
   "id": "c665c066",
   "metadata": {},
   "outputs": [
    {
     "name": "stderr",
     "output_type": "stream",
     "text": [
      "/Users/jensen/Desktop/recommendation-systems/.venv/lib/python3.9/site-packages/gensim/similarities/__init__.py:15: UserWarning: The gensim.similarities.levenshtein submodule is disabled, because the optional Levenshtein package <https://pypi.org/project/python-Levenshtein/> is unavailable. Install Levenhstein (e.g. `pip install python-Levenshtein`) to suppress this warning.\n",
      "  warnings.warn(msg)\n"
     ]
    }
   ],
   "source": [
    "import os\n",
    "import sys\n",
    "import warnings\n",
    "\n",
    "# set environment path\n",
    "sys.path.append(\"../..\")\n",
    "\n",
    "import numpy as np\n",
    "import pandas as pd\n",
    "from sqlalchemy import create_engine\n",
    "from tqdm import tqdm\n",
    "\n",
    "from src.models import algorithms, evaluate_model\n",
    "from src.utilities import utilities\n",
    "\n",
    "tqdm.pandas()\n",
    "warnings.filterwarnings('ignore')"
   ]
  },
  {
   "cell_type": "markdown",
   "id": "c8423b6f",
   "metadata": {},
   "source": [
    "# Load Data"
   ]
  },
  {
   "cell_type": "code",
   "execution_count": 2,
   "id": "de9567d6",
   "metadata": {},
   "outputs": [],
   "source": [
    "# set path to where repo is located\n",
    "REPO_PATH = os.path.join(\"..\", \"..\")\n",
    "\n",
    "# setting path\n",
    "DATA_PATH = os.path.join(REPO_PATH, \"data\", \"evaluation\")\n",
    "\n",
    "# category to train\n",
    "CATEGORY = \"Pet_Supplies\"\n",
    "\n",
    "# training parameters: training epochs, learning, and regularisation rate\n",
    "PARAMS = {\"n_epochs\": 5,\n",
    "          \"lr_all\": 0.005,\n",
    "          \"reg_all\": 0.1}\n",
    "\n",
    "# reproducibility checks\n",
    "SEED = 42\n",
    "np.random.seed(42)\n",
    "\n",
    "# load train/test dataset\n",
    "train = pd.read_csv(f\"{DATA_PATH}/{CATEGORY}_train.csv\")\n",
    "test = pd.read_csv(f\"{DATA_PATH}/{CATEGORY}_test.csv\")"
   ]
  },
  {
   "cell_type": "code",
   "execution_count": 3,
   "id": "df224947",
   "metadata": {},
   "outputs": [
    {
     "data": {
      "text/html": [
       "<div>\n",
       "<style scoped>\n",
       "    .dataframe tbody tr th:only-of-type {\n",
       "        vertical-align: middle;\n",
       "    }\n",
       "\n",
       "    .dataframe tbody tr th {\n",
       "        vertical-align: top;\n",
       "    }\n",
       "\n",
       "    .dataframe thead th {\n",
       "        text-align: right;\n",
       "    }\n",
       "</style>\n",
       "<table border=\"1\" class=\"dataframe\">\n",
       "  <thead>\n",
       "    <tr style=\"text-align: right;\">\n",
       "      <th></th>\n",
       "      <th>index</th>\n",
       "      <th>asin</th>\n",
       "      <th>title</th>\n",
       "      <th>categories</th>\n",
       "      <th>reviewerID</th>\n",
       "      <th>overall</th>\n",
       "      <th>reviewText</th>\n",
       "      <th>reviewTime</th>\n",
       "      <th>processedReviewText</th>\n",
       "    </tr>\n",
       "  </thead>\n",
       "  <tbody>\n",
       "    <tr>\n",
       "      <th>0</th>\n",
       "      <td>0</td>\n",
       "      <td>1223000893</td>\n",
       "      <td>Cat Sitter DVD Trilogy - Vol 1, Vol 2 and Vol 3</td>\n",
       "      <td>[]</td>\n",
       "      <td>A14CK12J7C7JRK</td>\n",
       "      <td>3.0</td>\n",
       "      <td>I purchased the Trilogy with hoping my two cat...</td>\n",
       "      <td>2011-01-12</td>\n",
       "      <td>purchase trilogy hop cat age interested yr old...</td>\n",
       "    </tr>\n",
       "    <tr>\n",
       "      <th>1</th>\n",
       "      <td>2</td>\n",
       "      <td>1223000893</td>\n",
       "      <td>Cat Sitter DVD Trilogy - Vol 1, Vol 2 and Vol 3</td>\n",
       "      <td>[]</td>\n",
       "      <td>A2CR37UY3VR7BN</td>\n",
       "      <td>4.0</td>\n",
       "      <td>I bought the triliogy and have tested out all ...</td>\n",
       "      <td>2012-12-19</td>\n",
       "      <td>buy triliogy test dvd appear volume receive re...</td>\n",
       "    </tr>\n",
       "    <tr>\n",
       "      <th>2</th>\n",
       "      <td>3</td>\n",
       "      <td>1223000893</td>\n",
       "      <td>Cat Sitter DVD Trilogy - Vol 1, Vol 2 and Vol 3</td>\n",
       "      <td>[]</td>\n",
       "      <td>A2A4COGL9VW2HY</td>\n",
       "      <td>4.0</td>\n",
       "      <td>My female kitty could care less about these vi...</td>\n",
       "      <td>2011-05-12</td>\n",
       "      <td>female kitty care video care little male dig a...</td>\n",
       "    </tr>\n",
       "    <tr>\n",
       "      <th>3</th>\n",
       "      <td>4</td>\n",
       "      <td>1223000893</td>\n",
       "      <td>Cat Sitter DVD Trilogy - Vol 1, Vol 2 and Vol 3</td>\n",
       "      <td>[]</td>\n",
       "      <td>A2UBQA85NIGLHA</td>\n",
       "      <td>3.0</td>\n",
       "      <td>If I had gotten just volume two, I would have ...</td>\n",
       "      <td>2012-03-05</td>\n",
       "      <td>volume star trilogy star read review know vol ...</td>\n",
       "    </tr>\n",
       "    <tr>\n",
       "      <th>4</th>\n",
       "      <td>5</td>\n",
       "      <td>B00005MF9U</td>\n",
       "      <td>LitterMaid LM900 Mega Self-Cleaning Litter Box</td>\n",
       "      <td>['Pet Supplies', 'Cats', 'Litter &amp;amp; Housebr...</td>\n",
       "      <td>A2BH04B9G9LOYA</td>\n",
       "      <td>1.0</td>\n",
       "      <td>First off, it seems that someone is spamming t...</td>\n",
       "      <td>2006-12-31</td>\n",
       "      <td>spamming review glow reviewer review amazon ba...</td>\n",
       "    </tr>\n",
       "    <tr>\n",
       "      <th>68865</th>\n",
       "      <td>111581</td>\n",
       "      <td>B00K3YPOO0</td>\n",
       "      <td>Brightest Black Light Flashlight on Amazon- UV...</td>\n",
       "      <td>[]</td>\n",
       "      <td>A11J1FHCK5U06J</td>\n",
       "      <td>4.0</td>\n",
       "      <td>Now I know exactly where the trouble spots are...</td>\n",
       "      <td>2014-05-23</td>\n",
       "      <td>know exactly trouble spot sniffing guess invis...</td>\n",
       "    </tr>\n",
       "    <tr>\n",
       "      <th>68866</th>\n",
       "      <td>111585</td>\n",
       "      <td>B00K3YPOO0</td>\n",
       "      <td>Brightest Black Light Flashlight on Amazon- UV...</td>\n",
       "      <td>[]</td>\n",
       "      <td>A18JF0T0GOCORW</td>\n",
       "      <td>4.0</td>\n",
       "      <td>I use this light to help me find stains when I...</td>\n",
       "      <td>2014-05-24</td>\n",
       "      <td>use light help stain carpet clean pre treat ca...</td>\n",
       "    </tr>\n",
       "    <tr>\n",
       "      <th>68867</th>\n",
       "      <td>111595</td>\n",
       "      <td>B00K7EG97C</td>\n",
       "      <td>Nutro Crunchy Dog Treats with Real Mixed Berri...</td>\n",
       "      <td>['Pet Supplies', 'Dogs', 'Treats', 'Cookies, B...</td>\n",
       "      <td>A3GRPCW9DG427Z</td>\n",
       "      <td>5.0</td>\n",
       "      <td>We are owned by the 3 pickiest pooches in the ...</td>\n",
       "      <td>2013-07-27</td>\n",
       "      <td>pickiest pooch world love fool reject doggie t...</td>\n",
       "    </tr>\n",
       "    <tr>\n",
       "      <th>68868</th>\n",
       "      <td>111598</td>\n",
       "      <td>B00K7EG97C</td>\n",
       "      <td>Nutro Crunchy Dog Treats with Real Mixed Berri...</td>\n",
       "      <td>['Pet Supplies', 'Dogs', 'Treats', 'Cookies, B...</td>\n",
       "      <td>A2X6TLAX3JEO1A</td>\n",
       "      <td>5.0</td>\n",
       "      <td>My highly allergic white boxer loves these tre...</td>\n",
       "      <td>2014-05-09</td>\n",
       "      <td>highly allergic white boxer love treat meat co...</td>\n",
       "    </tr>\n",
       "    <tr>\n",
       "      <th>68869</th>\n",
       "      <td>111602</td>\n",
       "      <td>B00KJGFGFO</td>\n",
       "      <td>Curry Brush with Coarse or Fine Bristles. High...</td>\n",
       "      <td>[]</td>\n",
       "      <td>A9PG9ODPPP31N</td>\n",
       "      <td>5.0</td>\n",
       "      <td>Works great on my medium sized dog. She has ve...</td>\n",
       "      <td>2014-07-09</td>\n",
       "      <td>work great medium size dog coarse hair work gr...</td>\n",
       "    </tr>\n",
       "  </tbody>\n",
       "</table>\n",
       "</div>"
      ],
      "text/plain": [
       "        index        asin                                              title  \\\n",
       "0           0  1223000893    Cat Sitter DVD Trilogy - Vol 1, Vol 2 and Vol 3   \n",
       "1           2  1223000893    Cat Sitter DVD Trilogy - Vol 1, Vol 2 and Vol 3   \n",
       "2           3  1223000893    Cat Sitter DVD Trilogy - Vol 1, Vol 2 and Vol 3   \n",
       "3           4  1223000893    Cat Sitter DVD Trilogy - Vol 1, Vol 2 and Vol 3   \n",
       "4           5  B00005MF9U     LitterMaid LM900 Mega Self-Cleaning Litter Box   \n",
       "68865  111581  B00K3YPOO0  Brightest Black Light Flashlight on Amazon- UV...   \n",
       "68866  111585  B00K3YPOO0  Brightest Black Light Flashlight on Amazon- UV...   \n",
       "68867  111595  B00K7EG97C  Nutro Crunchy Dog Treats with Real Mixed Berri...   \n",
       "68868  111598  B00K7EG97C  Nutro Crunchy Dog Treats with Real Mixed Berri...   \n",
       "68869  111602  B00KJGFGFO  Curry Brush with Coarse or Fine Bristles. High...   \n",
       "\n",
       "                                              categories      reviewerID  \\\n",
       "0                                                     []  A14CK12J7C7JRK   \n",
       "1                                                     []  A2CR37UY3VR7BN   \n",
       "2                                                     []  A2A4COGL9VW2HY   \n",
       "3                                                     []  A2UBQA85NIGLHA   \n",
       "4      ['Pet Supplies', 'Cats', 'Litter &amp; Housebr...  A2BH04B9G9LOYA   \n",
       "68865                                                 []  A11J1FHCK5U06J   \n",
       "68866                                                 []  A18JF0T0GOCORW   \n",
       "68867  ['Pet Supplies', 'Dogs', 'Treats', 'Cookies, B...  A3GRPCW9DG427Z   \n",
       "68868  ['Pet Supplies', 'Dogs', 'Treats', 'Cookies, B...  A2X6TLAX3JEO1A   \n",
       "68869                                                 []   A9PG9ODPPP31N   \n",
       "\n",
       "       overall                                         reviewText  reviewTime  \\\n",
       "0          3.0  I purchased the Trilogy with hoping my two cat...  2011-01-12   \n",
       "1          4.0  I bought the triliogy and have tested out all ...  2012-12-19   \n",
       "2          4.0  My female kitty could care less about these vi...  2011-05-12   \n",
       "3          3.0  If I had gotten just volume two, I would have ...  2012-03-05   \n",
       "4          1.0  First off, it seems that someone is spamming t...  2006-12-31   \n",
       "68865      4.0  Now I know exactly where the trouble spots are...  2014-05-23   \n",
       "68866      4.0  I use this light to help me find stains when I...  2014-05-24   \n",
       "68867      5.0  We are owned by the 3 pickiest pooches in the ...  2013-07-27   \n",
       "68868      5.0  My highly allergic white boxer loves these tre...  2014-05-09   \n",
       "68869      5.0  Works great on my medium sized dog. She has ve...  2014-07-09   \n",
       "\n",
       "                                     processedReviewText  \n",
       "0      purchase trilogy hop cat age interested yr old...  \n",
       "1      buy triliogy test dvd appear volume receive re...  \n",
       "2      female kitty care video care little male dig a...  \n",
       "3      volume star trilogy star read review know vol ...  \n",
       "4      spamming review glow reviewer review amazon ba...  \n",
       "68865  know exactly trouble spot sniffing guess invis...  \n",
       "68866  use light help stain carpet clean pre treat ca...  \n",
       "68867  pickiest pooch world love fool reject doggie t...  \n",
       "68868  highly allergic white boxer love treat meat co...  \n",
       "68869  work great medium size dog coarse hair work gr...  "
      ]
     },
     "execution_count": 3,
     "metadata": {},
     "output_type": "execute_result"
    }
   ],
   "source": [
    "# checking train dataframe\n",
    "train.head().append(train.tail())"
   ]
  },
  {
   "cell_type": "code",
   "execution_count": 4,
   "id": "450e2b1b",
   "metadata": {},
   "outputs": [
    {
     "data": {
      "text/html": [
       "<div>\n",
       "<style scoped>\n",
       "    .dataframe tbody tr th:only-of-type {\n",
       "        vertical-align: middle;\n",
       "    }\n",
       "\n",
       "    .dataframe tbody tr th {\n",
       "        vertical-align: top;\n",
       "    }\n",
       "\n",
       "    .dataframe thead th {\n",
       "        text-align: right;\n",
       "    }\n",
       "</style>\n",
       "<table border=\"1\" class=\"dataframe\">\n",
       "  <thead>\n",
       "    <tr style=\"text-align: right;\">\n",
       "      <th></th>\n",
       "      <th>index</th>\n",
       "      <th>asin</th>\n",
       "      <th>title</th>\n",
       "      <th>categories</th>\n",
       "      <th>reviewerID</th>\n",
       "      <th>overall</th>\n",
       "      <th>reviewText</th>\n",
       "      <th>reviewTime</th>\n",
       "      <th>processedReviewText</th>\n",
       "    </tr>\n",
       "  </thead>\n",
       "  <tbody>\n",
       "    <tr>\n",
       "      <th>0</th>\n",
       "      <td>1</td>\n",
       "      <td>1223000893</td>\n",
       "      <td>Cat Sitter DVD Trilogy - Vol 1, Vol 2 and Vol 3</td>\n",
       "      <td>[]</td>\n",
       "      <td>A39QHP5WLON5HV</td>\n",
       "      <td>5.0</td>\n",
       "      <td>There are usually one or more of my cats watch...</td>\n",
       "      <td>2013-09-14</td>\n",
       "      <td>usually cat watch tv stay trouble dvd play lik...</td>\n",
       "    </tr>\n",
       "    <tr>\n",
       "      <th>1</th>\n",
       "      <td>104</td>\n",
       "      <td>B00005MF9V</td>\n",
       "      <td>LitterMaid Universal Cat Privacy Tent (LMT100)</td>\n",
       "      <td>['Pet Supplies', 'Cats', 'Litter &amp; Housebreaki...</td>\n",
       "      <td>A366V0GCEPH5CX</td>\n",
       "      <td>5.0</td>\n",
       "      <td>My cats love it and so do I. I no longer have ...</td>\n",
       "      <td>2013-02-02</td>\n",
       "      <td>cat love longer cat litter fly floor litter fl...</td>\n",
       "    </tr>\n",
       "    <tr>\n",
       "      <th>2</th>\n",
       "      <td>133</td>\n",
       "      <td>B00005MF9T</td>\n",
       "      <td>LitterMaid LM500 Automated Litter Box</td>\n",
       "      <td>['Pet Supplies', 'Cats', 'Litter &amp; Housebreaki...</td>\n",
       "      <td>ALWWS8QBYN80B</td>\n",
       "      <td>1.0</td>\n",
       "      <td>I have one female cat that weighs under 10 pou...</td>\n",
       "      <td>2004-11-17</td>\n",
       "      <td>female cat weigh pound year old use everclean ...</td>\n",
       "    </tr>\n",
       "    <tr>\n",
       "      <th>3</th>\n",
       "      <td>153</td>\n",
       "      <td>B00005MF9W</td>\n",
       "      <td>LitterMaid Waste Receptacles Automatic Litter ...</td>\n",
       "      <td>['Pet Supplies', 'Cats', 'Litter &amp; Housebreaki...</td>\n",
       "      <td>A3PVI3NE7OY1SP</td>\n",
       "      <td>5.0</td>\n",
       "      <td>I love these. They make the clean up so much e...</td>\n",
       "      <td>2013-09-26</td>\n",
       "      <td>love clean easy clean box manually use issue w...</td>\n",
       "    </tr>\n",
       "    <tr>\n",
       "      <th>4</th>\n",
       "      <td>154</td>\n",
       "      <td>B00005MF9W</td>\n",
       "      <td>LitterMaid Waste Receptacles Automatic Litter ...</td>\n",
       "      <td>['Pet Supplies', 'Cats', 'Litter &amp; Housebreaki...</td>\n",
       "      <td>A2H83XMHUVDLJY</td>\n",
       "      <td>4.0</td>\n",
       "      <td>I love this litter box. I do not use the lids,...</td>\n",
       "      <td>2014-06-26</td>\n",
       "      <td>love litter box use lid use receptacle tear cr...</td>\n",
       "    </tr>\n",
       "    <tr>\n",
       "      <th>41564</th>\n",
       "      <td>111601</td>\n",
       "      <td>B00KJGFGFO</td>\n",
       "      <td>Curry Brush with Coarse or Fine Bristles. High...</td>\n",
       "      <td>[]</td>\n",
       "      <td>AV34KNYW82YSS</td>\n",
       "      <td>4.0</td>\n",
       "      <td>Pulled lots of hair out of my Labs coat. Didn'...</td>\n",
       "      <td>2014-07-18</td>\n",
       "      <td>pulled lot hair labs coat think prove wrong co...</td>\n",
       "    </tr>\n",
       "    <tr>\n",
       "      <th>41565</th>\n",
       "      <td>111603</td>\n",
       "      <td>B00KJGFGFO</td>\n",
       "      <td>Curry Brush with Coarse or Fine Bristles. High...</td>\n",
       "      <td>[]</td>\n",
       "      <td>A1YMNTFLNDYQ1F</td>\n",
       "      <td>5.0</td>\n",
       "      <td>I have been trying to find a rubber bristle br...</td>\n",
       "      <td>2014-07-16</td>\n",
       "      <td>try rubber bristle brush persian year lose glo...</td>\n",
       "    </tr>\n",
       "    <tr>\n",
       "      <th>41566</th>\n",
       "      <td>111604</td>\n",
       "      <td>B00KJGFGFO</td>\n",
       "      <td>Curry Brush with Coarse or Fine Bristles. High...</td>\n",
       "      <td>[]</td>\n",
       "      <td>A1FQ3HRVXA4A5B</td>\n",
       "      <td>5.0</td>\n",
       "      <td>Great product to use on your pets knowing this...</td>\n",
       "      <td>2014-07-11</td>\n",
       "      <td>great product use pet know gentle rubber damag...</td>\n",
       "    </tr>\n",
       "    <tr>\n",
       "      <th>41567</th>\n",
       "      <td>111605</td>\n",
       "      <td>B00KJGFGFO</td>\n",
       "      <td>Curry Brush with Coarse or Fine Bristles. High...</td>\n",
       "      <td>[]</td>\n",
       "      <td>A3OP6CI0XCRQXO</td>\n",
       "      <td>5.0</td>\n",
       "      <td>I bought a second one because I have two cats ...</td>\n",
       "      <td>2014-07-22</td>\n",
       "      <td>buy second cat american short hair buy brush m...</td>\n",
       "    </tr>\n",
       "    <tr>\n",
       "      <th>41568</th>\n",
       "      <td>111606</td>\n",
       "      <td>B00KJGFGFO</td>\n",
       "      <td>Curry Brush with Coarse or Fine Bristles. High...</td>\n",
       "      <td>[]</td>\n",
       "      <td>A11LC938XF35XN</td>\n",
       "      <td>5.0</td>\n",
       "      <td>Our dogs love getting brushed with this.  It m...</td>\n",
       "      <td>2014-07-17</td>\n",
       "      <td>dog love brush massage remove heavy undercoat ...</td>\n",
       "    </tr>\n",
       "  </tbody>\n",
       "</table>\n",
       "</div>"
      ],
      "text/plain": [
       "        index        asin                                              title  \\\n",
       "0           1  1223000893    Cat Sitter DVD Trilogy - Vol 1, Vol 2 and Vol 3   \n",
       "1         104  B00005MF9V     LitterMaid Universal Cat Privacy Tent (LMT100)   \n",
       "2         133  B00005MF9T              LitterMaid LM500 Automated Litter Box   \n",
       "3         153  B00005MF9W  LitterMaid Waste Receptacles Automatic Litter ...   \n",
       "4         154  B00005MF9W  LitterMaid Waste Receptacles Automatic Litter ...   \n",
       "41564  111601  B00KJGFGFO  Curry Brush with Coarse or Fine Bristles. High...   \n",
       "41565  111603  B00KJGFGFO  Curry Brush with Coarse or Fine Bristles. High...   \n",
       "41566  111604  B00KJGFGFO  Curry Brush with Coarse or Fine Bristles. High...   \n",
       "41567  111605  B00KJGFGFO  Curry Brush with Coarse or Fine Bristles. High...   \n",
       "41568  111606  B00KJGFGFO  Curry Brush with Coarse or Fine Bristles. High...   \n",
       "\n",
       "                                              categories      reviewerID  \\\n",
       "0                                                     []  A39QHP5WLON5HV   \n",
       "1      ['Pet Supplies', 'Cats', 'Litter & Housebreaki...  A366V0GCEPH5CX   \n",
       "2      ['Pet Supplies', 'Cats', 'Litter & Housebreaki...   ALWWS8QBYN80B   \n",
       "3      ['Pet Supplies', 'Cats', 'Litter & Housebreaki...  A3PVI3NE7OY1SP   \n",
       "4      ['Pet Supplies', 'Cats', 'Litter & Housebreaki...  A2H83XMHUVDLJY   \n",
       "41564                                                 []   AV34KNYW82YSS   \n",
       "41565                                                 []  A1YMNTFLNDYQ1F   \n",
       "41566                                                 []  A1FQ3HRVXA4A5B   \n",
       "41567                                                 []  A3OP6CI0XCRQXO   \n",
       "41568                                                 []  A11LC938XF35XN   \n",
       "\n",
       "       overall                                         reviewText  reviewTime  \\\n",
       "0          5.0  There are usually one or more of my cats watch...  2013-09-14   \n",
       "1          5.0  My cats love it and so do I. I no longer have ...  2013-02-02   \n",
       "2          1.0  I have one female cat that weighs under 10 pou...  2004-11-17   \n",
       "3          5.0  I love these. They make the clean up so much e...  2013-09-26   \n",
       "4          4.0  I love this litter box. I do not use the lids,...  2014-06-26   \n",
       "41564      4.0  Pulled lots of hair out of my Labs coat. Didn'...  2014-07-18   \n",
       "41565      5.0  I have been trying to find a rubber bristle br...  2014-07-16   \n",
       "41566      5.0  Great product to use on your pets knowing this...  2014-07-11   \n",
       "41567      5.0  I bought a second one because I have two cats ...  2014-07-22   \n",
       "41568      5.0  Our dogs love getting brushed with this.  It m...  2014-07-17   \n",
       "\n",
       "                                     processedReviewText  \n",
       "0      usually cat watch tv stay trouble dvd play lik...  \n",
       "1      cat love longer cat litter fly floor litter fl...  \n",
       "2      female cat weigh pound year old use everclean ...  \n",
       "3      love clean easy clean box manually use issue w...  \n",
       "4      love litter box use lid use receptacle tear cr...  \n",
       "41564  pulled lot hair labs coat think prove wrong co...  \n",
       "41565  try rubber bristle brush persian year lose glo...  \n",
       "41566  great product use pet know gentle rubber damag...  \n",
       "41567  buy second cat american short hair buy brush m...  \n",
       "41568  dog love brush massage remove heavy undercoat ...  "
      ]
     },
     "execution_count": 4,
     "metadata": {},
     "output_type": "execute_result"
    }
   ],
   "source": [
    "test.head().append(test.tail())"
   ]
  },
  {
   "cell_type": "code",
   "execution_count": 5,
   "id": "fb4466f9",
   "metadata": {},
   "outputs": [
    {
     "name": "stdout",
     "output_type": "stream",
     "text": [
      "                  reviewerID                                  asin\n",
      "0      A04173782GDZSQ91AJ7OD              [B0090Z9AYS, B00CPDWT2M]\n",
      "1      A042274212BJJVOBS4Q85              [B005AZ4M3Q, B00771WQIY]\n",
      "2       A0436342QLT4257JODYJ  [B0018CDR68, B003SJTM8Q, B00474A3DY]\n",
      "3      A04795073FIBKY8GSLZYI              [B001PKT30M, B005DGI2RY]\n",
      "4      A06658082A27F4VB5UG8E              [B000TZ1TTM, B0019VUHH0]\n",
      "...                      ...                                   ...\n",
      "18993          AZYJE40XW6MFG              [B00HVAKJZS, B00IDZT294]\n",
      "18994          AZZ56WF4X19G2                          [B004A7X218]\n",
      "18995          AZZNK89PXD006  [B0002DHV16, B005BP8MQ8, B009RTX4SU]\n",
      "18996          AZZV9PDNMCOZW              [B007EQL390, B00ISBWVT6]\n",
      "18997          AZZYW4YOE1B6E  [B0002AQPA2, B0002AQPA2, B0002ARQV4]\n",
      "\n",
      "[18998 rows x 2 columns]\n"
     ]
    }
   ],
   "source": [
    "# generating test history\n",
    "test_user_history = (pd.DataFrame(test.groupby(['reviewerID'])['asin']\n",
    "                                  .apply(list).reset_index()))\n",
    "print(test_user_history)"
   ]
  },
  {
   "cell_type": "markdown",
   "id": "59cfe8eb",
   "metadata": {},
   "source": [
    "# Generate N-Recommendations = {5, 10, 15, 20}"
   ]
  },
  {
   "cell_type": "markdown",
   "id": "090a56a2",
   "metadata": {},
   "source": [
    "## Instantiate FunkSVD (Matrix Factorization)"
   ]
  },
  {
   "cell_type": "code",
   "execution_count": 6,
   "id": "84886447",
   "metadata": {},
   "outputs": [],
   "source": [
    "# instantiating funksvd \n",
    "# funk_svd = algorithms.FunkMF(n_epochs=N_EPOCHS,\n",
    "#                              lr_all=LR_ALL,\n",
    "#                              reg_all=BETA)\n",
    "\n",
    "funk_svd = algorithms.FunkMF(**PARAMS)"
   ]
  },
  {
   "cell_type": "code",
   "execution_count": 7,
   "id": "6cebc3d3",
   "metadata": {},
   "outputs": [
    {
     "name": "stdout",
     "output_type": "stream",
     "text": [
      "Processing epoch 0\n",
      "Processing epoch 1\n",
      "Processing epoch 2\n",
      "Processing epoch 3\n",
      "Processing epoch 4\n",
      "CPU times: user 792 ms, sys: 21.8 ms, total: 814 ms\n",
      "Wall time: 828 ms\n"
     ]
    }
   ],
   "source": [
    "%%time\n",
    "# fitting to the training data\n",
    "funk_svd.fit(train)"
   ]
  },
  {
   "cell_type": "code",
   "execution_count": 8,
   "id": "75d850f3",
   "metadata": {},
   "outputs": [
    {
     "name": "stdout",
     "output_type": "stream",
     "text": [
      "CPU times: user 49.6 s, sys: 2.49 s, total: 52.1 s\n",
      "Wall time: 52.7 s\n"
     ]
    }
   ],
   "source": [
    "%%time\n",
    "# creating testset for prediction\n",
    "testset = funk_svd.trainset.build_anti_testset()"
   ]
  },
  {
   "cell_type": "code",
   "execution_count": 9,
   "id": "7ac2aaca",
   "metadata": {},
   "outputs": [
    {
     "name": "stdout",
     "output_type": "stream",
     "text": [
      "CPU times: user 11min 7s, sys: 6min 19s, total: 17min 26s\n",
      "Wall time: 20min 52s\n"
     ]
    }
   ],
   "source": [
    "%%time\n",
    "# generate candidate times\n",
    "candidate_items = funk_svd.test(testset, verbose=False)"
   ]
  },
  {
   "cell_type": "markdown",
   "id": "fe3b5941",
   "metadata": {},
   "source": [
    "## Loop through N = {5, 10, 15, 20}\n",
    "\n",
    "For each top-N setting, we will generate candidates items up to *N*-items and run metrics evaluation of `Recall@N` and `Novelty@N` on all users."
   ]
  },
  {
   "cell_type": "code",
   "execution_count": 10,
   "id": "89c333b3",
   "metadata": {},
   "outputs": [],
   "source": [
    "# generate item popularity\n",
    "item_popularity = evaluate_model.generate_item_popularity(train)"
   ]
  },
  {
   "cell_type": "code",
   "execution_count": 11,
   "id": "8e8bd8fc",
   "metadata": {},
   "outputs": [
    {
     "name": "stdout",
     "output_type": "stream",
     "text": [
      "The FUNK-SVD has an average recall@5: 0.00507, average novelty@5: 0.79858\n",
      "The FUNK-SVD has an average recall@10: 0.00893, average novelty@10: 0.79893\n",
      "The FUNK-SVD has an average recall@15: 0.01312, average novelty@15: 0.80896\n",
      "The FUNK-SVD has an average recall@20: 0.01613, average novelty@20: 0.82021\n",
      "CPU times: user 6min 4s, sys: 3min 20s, total: 9min 24s\n",
      "Wall time: 12min 49s\n"
     ]
    }
   ],
   "source": [
    "%%time\n",
    "n_recommendations = {}\n",
    "for n in [5, 10, 15, 20]:\n",
    "    # retrieve the top-n items based on similarities\n",
    "    top_ns = funk_svd.get_top_n(n)\n",
    "    # evaluate how well the recommended items predicted the future purchases\n",
    "    n_recommended_items = (evaluate_model.\n",
    "                           evaluate_recommendations(model_name=\"FUNK-SVD\",\n",
    "                                                    top_ns=top_ns,\n",
    "                                                    user_rating_history=test_user_history, \n",
    "                                                    item_popularity=item_popularity, \n",
    "                                                    n=n,\n",
    "                                                    mf_based=True))\n",
    "    # saving the n-value and recommended items\n",
    "    n_recommendations[n] = (top_ns, n_recommended_items)"
   ]
  },
  {
   "cell_type": "markdown",
   "id": "6b054127",
   "metadata": {},
   "source": [
    "# Evaluate N-Recommendations\n",
    "\n",
    "For each top-N recommendation list, we pick a randomly sampled user to look at their *N*-number of recommendations based on their purchase history."
   ]
  },
  {
   "cell_type": "markdown",
   "id": "7c56fb86",
   "metadata": {},
   "source": [
    "## N=5"
   ]
  },
  {
   "cell_type": "code",
   "execution_count": 12,
   "id": "93f6073e",
   "metadata": {},
   "outputs": [
    {
     "name": "stdout",
     "output_type": "stream",
     "text": [
      "For user: AM7YDJ5OF3P5P:\n",
      "Purchase History:\n",
      "             asin                                              title\n",
      "40436  B000PKSW5A  Precious Cat Dr. Elsey's Kitten Attract Scoopa...\n",
      "50006  B001K5NTOS                   Our Pets SmartScoop Litter Mat-p\n",
      "57972  B003R0LLIK  Purina Pro Plan Focus Chicken &amp; Rice Formu...\n",
      "66811  B008MZILMY           Blue Tasty Chicken Kitty Yums Cat Treats\n",
      "\n",
      "Recommending:\n",
      "\n",
      "         asin                                              title\n",
      "0  B001LNSSH2  ZYMOX Pet King Brand Otic Pet Ear Treatment wi...\n",
      "1  B000F4AVPA                                Chuckit! Ultra Ball\n",
      "2  B003JFRQQ4  Scaredy Cut Tiny Trim by Small Pet Grooming Sa...\n",
      "3  B0002AS1CC                 Bergan Turbo Scratcher Accessories\n",
      "4  B000255NCI                               API Master Test Kits\n"
     ]
    }
   ],
   "source": [
    "top_ns_05 = n_recommendations[5][0]\n",
    "utilities.retrieve_recommendations(train, top_ns_05, mf_based=True)"
   ]
  },
  {
   "cell_type": "markdown",
   "id": "2d9e325a",
   "metadata": {},
   "source": [
    "## N=10"
   ]
  },
  {
   "cell_type": "code",
   "execution_count": 13,
   "id": "8555043a",
   "metadata": {},
   "outputs": [
    {
     "name": "stdout",
     "output_type": "stream",
     "text": [
      "For user: AUIQTTPIMCVQ4:\n",
      "Purchase History:\n",
      "             asin                                              title\n",
      "40981  B000ROR8Z4  Sojos Good Dog Crunchy Natural Dog Treats, 8-O...\n",
      "60885  B004ULYZII                         Bully Pizzle, 6 Inch 25 Pk\n",
      "67348  B00AEJANCW  KONG Chase-It Wand Squeaking Dog Toy, Assorted...\n",
      "\n",
      "Recommending:\n",
      "\n",
      "         asin                                              title\n",
      "0  B003JFRQQ4  Scaredy Cut Tiny Trim by Small Pet Grooming Sa...\n",
      "1  B000K9JRH8  GoCat DaBird Feather Refill, Assorted Colors, ...\n",
      "2  B00025Z6YI  TetraFin Balanced Diet Goldfish Flake Food for...\n",
      "3  B0002DJONY                            Vittles Vault Stackable\n",
      "4  B000255NCI                               API Master Test Kits\n",
      "5  B000F4AVPA                                Chuckit! Ultra Ball\n",
      "6  B0002AS1CC                 Bergan Turbo Scratcher Accessories\n",
      "7  B000255OIG       Stewart Freeze Dried Treats 14 oz Beef Liver\n",
      "8  B0002AQI9K                     Marina Airline Tubing, 20 Feet\n",
      "9  B000QSON4K  Greenies Pill Pockets Soft Dog Treats, Beef, C...\n"
     ]
    }
   ],
   "source": [
    "top_ns_10 = n_recommendations[10][0]\n",
    "utilities.retrieve_recommendations(train, top_ns_10, mf_based=True)"
   ]
  },
  {
   "cell_type": "markdown",
   "id": "b63d0263",
   "metadata": {},
   "source": [
    "## N=15"
   ]
  },
  {
   "cell_type": "code",
   "execution_count": 14,
   "id": "e4ef333b",
   "metadata": {},
   "outputs": [
    {
     "name": "stdout",
     "output_type": "stream",
     "text": [
      "For user: A2YORE61EX6ASQ:\n",
      "Purchase History:\n",
      "             asin                             title\n",
      "24664  B0002XUIRA  Fashion Pet Suede Shearling Coat\n",
      "24707  B0002XUIRA  Fashion Pet Suede Shearling Coat\n",
      "\n",
      "Recommending:\n",
      "\n",
      "          asin                                              title\n",
      "0   B0002DJONY                            Vittles Vault Stackable\n",
      "1   B000F4AVPA                                Chuckit! Ultra Ball\n",
      "2   B0002AS1CC                 Bergan Turbo Scratcher Accessories\n",
      "3   B001LNSSH2  ZYMOX Pet King Brand Otic Pet Ear Treatment wi...\n",
      "4   B003JFRQQ4  Scaredy Cut Tiny Trim by Small Pet Grooming Sa...\n",
      "5   B000K9JRH8  GoCat DaBird Feather Refill, Assorted Colors, ...\n",
      "6   B000255NCI                               API Master Test Kits\n",
      "7   B00025Z6YI  TetraFin Balanced Diet Goldfish Flake Food for...\n",
      "8   B0010B6IFY  Purina Fancy Feast Grilled Collection Wet Cat ...\n",
      "9   B003BYQ1C8                            Armarkat Cat Tree Model\n",
      "10  B0002AQKIO        Fluval Carbon, 100-gram Nylon Bags - 3-Pack\n",
      "11  B000255OIG       Stewart Freeze Dried Treats 14 oz Beef Liver\n",
      "12  B0002QX3Q0       Charlee Bear Dog Treat, 16-Ounce, Cheese/Egg\n",
      "13  B0002563O0                           JW Comfy Perch for Birds\n",
      "14  B0002ARQV4            Safari 770045 Professional Nail Trimmer\n"
     ]
    }
   ],
   "source": [
    "top_ns_15 = n_recommendations[15][0]\n",
    "utilities.retrieve_recommendations(train, top_ns_15, mf_based=True)"
   ]
  },
  {
   "cell_type": "markdown",
   "id": "bb587e63",
   "metadata": {},
   "source": [
    "## N=20"
   ]
  },
  {
   "cell_type": "code",
   "execution_count": 15,
   "id": "06de827d",
   "metadata": {},
   "outputs": [
    {
     "name": "stdout",
     "output_type": "stream",
     "text": [
      "For user: A3PDSVXNSBA9ZQ:\n",
      "Purchase History:\n",
      "             asin                                              title\n",
      "20851  B0002DK2DU              Roll n Clean Self Cleaning Litter Box\n",
      "21049  B0002DK2DU              Roll n Clean Self Cleaning Litter Box\n",
      "31120  B0009YWLCM  K&amp;H Pet Products Pet Bed Warmer Tan - MET ...\n",
      "35405  B000G136RM                 Hartz Home Protection Gel Dog Pads\n",
      "\n",
      "Recommending:\n",
      "\n",
      "          asin                                              title\n",
      "0   B001LNSSH2  ZYMOX Pet King Brand Otic Pet Ear Treatment wi...\n",
      "1   B000F4AVPA                                Chuckit! Ultra Ball\n",
      "2   B000K9JRH8  GoCat DaBird Feather Refill, Assorted Colors, ...\n",
      "3   B003JFRQQ4  Scaredy Cut Tiny Trim by Small Pet Grooming Sa...\n",
      "4   B0002AS1CC                 Bergan Turbo Scratcher Accessories\n",
      "5   B0002563O0                           JW Comfy Perch for Birds\n",
      "6   B00008JOL0                       Zuke's Hip Action Dog Treats\n",
      "7   B0002DJONY                            Vittles Vault Stackable\n",
      "8   B000255NCI                               API Master Test Kits\n",
      "9   B000W73M10  PetSafe Drinkwell Premium Carbon Replacement F...\n",
      "10  B0009YUIZE  Petmate FATCAT Big Mama's Scratchy Box Cardboa...\n",
      "11  B000255MZG         API STRESS COAT Aquarium Water Conditioner\n",
      "12  B0002XUIRA                   Fashion Pet Suede Shearling Coat\n",
      "13  B004X6UEH6  PetFusion Ultimate Cat Scratcher Lounge. [Supe...\n",
      "14  B000PVTLWW  The Da Bird Super Pack (Includes 1 Da Bird Ori...\n",
      "15  B00006IX59                         Chuckit! Dog Ball Launcher\n",
      "16  B003BYQ100             Armarkat B5701 57-Inch Cat Tree, Ivory\n",
      "17  B000LPOUNW             Go Cat Teaser Cat Catcher Wand Cat Toy\n",
      "18  B000VTRI32  Wellness Core Natural Grain Free Dry Dog Food ...\n",
      "19  B000I82DU4                 Milk-Bone Flavor Snacks Dog Treats\n"
     ]
    }
   ],
   "source": [
    "top_ns_20 = n_recommendations[20][0]\n",
    "utilities.retrieve_recommendations(train, top_ns_20, mf_based=True)"
   ]
  },
  {
   "cell_type": "markdown",
   "id": "1aca27c4",
   "metadata": {},
   "source": [
    "# Cross-Analysis for Cold-Start Users (<= 2 Purchased Items)\n",
    "\n",
    "For each top-N setting, we will generate candidates items up to *N*-items and run metrics evaluation of `Recall@N` and `Novelty@N` on cold-start users (e.g., users who purchased two or less items based on items per user in the training set)."
   ]
  },
  {
   "cell_type": "code",
   "execution_count": 16,
   "id": "9f64259e",
   "metadata": {},
   "outputs": [],
   "source": [
    "cold_start_users = utilities.generate_cold_start_users(train)"
   ]
  },
  {
   "cell_type": "code",
   "execution_count": 17,
   "id": "339a2d2e",
   "metadata": {},
   "outputs": [
    {
     "name": "stdout",
     "output_type": "stream",
     "text": [
      "The FUNK-SVD has an average recall@5: 0.00512, average novelty@5: 0.79950\n",
      "The FUNK-SVD has an average recall@10: 0.00909, average novelty@10: 0.79886\n",
      "The FUNK-SVD has an average recall@15: 0.01289, average novelty@15: 0.80873\n",
      "The FUNK-SVD has an average recall@20: 0.01572, average novelty@20: 0.81989\n"
     ]
    }
   ],
   "source": [
    "for n in tuple(zip([5, 10, 15, 20], [top_ns_05, top_ns_10, top_ns_15, top_ns_20])):\n",
    "    cold_start_top_ns = dict(filter(lambda x: x[0] in cold_start_users, n[1].items()))\n",
    "    # evaluate how well the recommended items predicted the future purchases\n",
    "    # on cold start users\n",
    "    n_recommended_items = (evaluate_model.\n",
    "                           evaluate_recommendations(model_name=\"FUNK-SVD\",\n",
    "                                                    top_ns=cold_start_top_ns,\n",
    "                                                    user_rating_history=test_user_history, \n",
    "                                                    item_popularity=item_popularity, \n",
    "                                                    n=n[0],\n",
    "                                                    mf_based=True))"
   ]
  },
  {
   "cell_type": "markdown",
   "id": "d7d09af3",
   "metadata": {},
   "source": [
    "# Generating Recommended Items DataFrame"
   ]
  },
  {
   "cell_type": "code",
   "execution_count": 18,
   "id": "b9b2328a",
   "metadata": {},
   "outputs": [],
   "source": [
    "max_recommendations = (utilities\n",
    "                       .generate_recommendations_df(train=train,\n",
    "                                                    n_recommendations=n_recommendations,\n",
    "                                                    algo_name=\"FUNK-SVD\",\n",
    "                                                    mf_based=True,\n",
    "                                                    max_recommended=20))"
   ]
  },
  {
   "cell_type": "code",
   "execution_count": 19,
   "id": "2fb7861a",
   "metadata": {},
   "outputs": [
    {
     "data": {
      "text/html": [
       "<div>\n",
       "<style scoped>\n",
       "    .dataframe tbody tr th:only-of-type {\n",
       "        vertical-align: middle;\n",
       "    }\n",
       "\n",
       "    .dataframe tbody tr th {\n",
       "        vertical-align: top;\n",
       "    }\n",
       "\n",
       "    .dataframe thead th {\n",
       "        text-align: right;\n",
       "    }\n",
       "</style>\n",
       "<table border=\"1\" class=\"dataframe\">\n",
       "  <thead>\n",
       "    <tr style=\"text-align: right;\">\n",
       "      <th></th>\n",
       "      <th>reviewerID</th>\n",
       "      <th>item_rank</th>\n",
       "      <th>asin</th>\n",
       "      <th>algorithm</th>\n",
       "      <th>title</th>\n",
       "    </tr>\n",
       "  </thead>\n",
       "  <tbody>\n",
       "    <tr>\n",
       "      <th>0</th>\n",
       "      <td>A04173782GDZSQ91AJ7OD</td>\n",
       "      <td>0</td>\n",
       "      <td>B001LNSSH2</td>\n",
       "      <td>FUNK-SVD</td>\n",
       "      <td>ZYMOX Pet King Brand Otic Pet Ear Treatment wi...</td>\n",
       "    </tr>\n",
       "    <tr>\n",
       "      <th>1</th>\n",
       "      <td>A04173782GDZSQ91AJ7OD</td>\n",
       "      <td>1</td>\n",
       "      <td>B0002DJONY</td>\n",
       "      <td>FUNK-SVD</td>\n",
       "      <td>Vittles Vault Stackable</td>\n",
       "    </tr>\n",
       "    <tr>\n",
       "      <th>2</th>\n",
       "      <td>A04173782GDZSQ91AJ7OD</td>\n",
       "      <td>2</td>\n",
       "      <td>B000F4AVPA</td>\n",
       "      <td>FUNK-SVD</td>\n",
       "      <td>Chuckit! Ultra Ball</td>\n",
       "    </tr>\n",
       "    <tr>\n",
       "      <th>3</th>\n",
       "      <td>A04173782GDZSQ91AJ7OD</td>\n",
       "      <td>3</td>\n",
       "      <td>B0002AQKIO</td>\n",
       "      <td>FUNK-SVD</td>\n",
       "      <td>Fluval Carbon, 100-gram Nylon Bags - 3-Pack</td>\n",
       "    </tr>\n",
       "    <tr>\n",
       "      <th>4</th>\n",
       "      <td>A04173782GDZSQ91AJ7OD</td>\n",
       "      <td>4</td>\n",
       "      <td>B000255NCI</td>\n",
       "      <td>FUNK-SVD</td>\n",
       "      <td>API Master Test Kits</td>\n",
       "    </tr>\n",
       "    <tr>\n",
       "      <th>...</th>\n",
       "      <td>...</td>\n",
       "      <td>...</td>\n",
       "      <td>...</td>\n",
       "      <td>...</td>\n",
       "      <td>...</td>\n",
       "    </tr>\n",
       "    <tr>\n",
       "      <th>381155</th>\n",
       "      <td>AZZYW4YOE1B6E</td>\n",
       "      <td>15</td>\n",
       "      <td>B003BYQ1C8</td>\n",
       "      <td>FUNK-SVD</td>\n",
       "      <td>Armarkat Cat Tree Model</td>\n",
       "    </tr>\n",
       "    <tr>\n",
       "      <th>381156</th>\n",
       "      <td>AZZYW4YOE1B6E</td>\n",
       "      <td>16</td>\n",
       "      <td>B0002563O0</td>\n",
       "      <td>FUNK-SVD</td>\n",
       "      <td>JW Comfy Perch for Birds</td>\n",
       "    </tr>\n",
       "    <tr>\n",
       "      <th>381157</th>\n",
       "      <td>AZZYW4YOE1B6E</td>\n",
       "      <td>17</td>\n",
       "      <td>B0017JE6B2</td>\n",
       "      <td>FUNK-SVD</td>\n",
       "      <td>Pet Food Container</td>\n",
       "    </tr>\n",
       "    <tr>\n",
       "      <th>381158</th>\n",
       "      <td>AZZYW4YOE1B6E</td>\n",
       "      <td>18</td>\n",
       "      <td>B000I82DU4</td>\n",
       "      <td>FUNK-SVD</td>\n",
       "      <td>Milk-Bone Flavor Snacks Dog Treats</td>\n",
       "    </tr>\n",
       "    <tr>\n",
       "      <th>381159</th>\n",
       "      <td>AZZYW4YOE1B6E</td>\n",
       "      <td>19</td>\n",
       "      <td>B004X6UEH6</td>\n",
       "      <td>FUNK-SVD</td>\n",
       "      <td>PetFusion Ultimate Cat Scratcher Lounge. [Supe...</td>\n",
       "    </tr>\n",
       "  </tbody>\n",
       "</table>\n",
       "<p>381160 rows × 5 columns</p>\n",
       "</div>"
      ],
      "text/plain": [
       "                   reviewerID item_rank        asin algorithm  \\\n",
       "0       A04173782GDZSQ91AJ7OD         0  B001LNSSH2  FUNK-SVD   \n",
       "1       A04173782GDZSQ91AJ7OD         1  B0002DJONY  FUNK-SVD   \n",
       "2       A04173782GDZSQ91AJ7OD         2  B000F4AVPA  FUNK-SVD   \n",
       "3       A04173782GDZSQ91AJ7OD         3  B0002AQKIO  FUNK-SVD   \n",
       "4       A04173782GDZSQ91AJ7OD         4  B000255NCI  FUNK-SVD   \n",
       "...                       ...       ...         ...       ...   \n",
       "381155          AZZYW4YOE1B6E        15  B003BYQ1C8  FUNK-SVD   \n",
       "381156          AZZYW4YOE1B6E        16  B0002563O0  FUNK-SVD   \n",
       "381157          AZZYW4YOE1B6E        17  B0017JE6B2  FUNK-SVD   \n",
       "381158          AZZYW4YOE1B6E        18  B000I82DU4  FUNK-SVD   \n",
       "381159          AZZYW4YOE1B6E        19  B004X6UEH6  FUNK-SVD   \n",
       "\n",
       "                                                    title  \n",
       "0       ZYMOX Pet King Brand Otic Pet Ear Treatment wi...  \n",
       "1                                 Vittles Vault Stackable  \n",
       "2                                     Chuckit! Ultra Ball  \n",
       "3             Fluval Carbon, 100-gram Nylon Bags - 3-Pack  \n",
       "4                                    API Master Test Kits  \n",
       "...                                                   ...  \n",
       "381155                            Armarkat Cat Tree Model  \n",
       "381156                           JW Comfy Perch for Birds  \n",
       "381157                                 Pet Food Container  \n",
       "381158                 Milk-Bone Flavor Snacks Dog Treats  \n",
       "381159  PetFusion Ultimate Cat Scratcher Lounge. [Supe...  \n",
       "\n",
       "[381160 rows x 5 columns]"
      ]
     },
     "execution_count": 19,
     "metadata": {},
     "output_type": "execute_result"
    }
   ],
   "source": [
    "max_recommendations"
   ]
  },
  {
   "cell_type": "markdown",
   "id": "bf49f0e3",
   "metadata": {},
   "source": [
    "# Store in `SQLite` DB"
   ]
  },
  {
   "cell_type": "code",
   "execution_count": 20,
   "id": "30ceaaf3",
   "metadata": {},
   "outputs": [],
   "source": [
    "# engine = create_engine(\"sqlite:///recommender.db\", echo=True)"
   ]
  },
  {
   "cell_type": "code",
   "execution_count": 21,
   "id": "07371e5e",
   "metadata": {},
   "outputs": [],
   "source": [
    "# max_recommendations.to_sql(f\"{CATEGORY}\", con=engine, if_exists=\"append\")"
   ]
  },
  {
   "cell_type": "code",
   "execution_count": null,
   "id": "af65f65b",
   "metadata": {},
   "outputs": [],
   "source": []
  }
 ],
 "metadata": {
  "kernelspec": {
   "display_name": "Python 3 (ipykernel)",
   "language": "python",
   "name": "python3"
  },
  "language_info": {
   "codemirror_mode": {
    "name": "ipython",
    "version": 3
   },
   "file_extension": ".py",
   "mimetype": "text/x-python",
   "name": "python",
   "nbconvert_exporter": "python",
   "pygments_lexer": "ipython3",
   "version": "3.9.6"
  }
 },
 "nbformat": 4,
 "nbformat_minor": 5
}
