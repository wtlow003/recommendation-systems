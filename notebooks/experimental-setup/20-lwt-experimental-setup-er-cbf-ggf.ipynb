{
 "cells": [
  {
   "cell_type": "code",
   "execution_count": 1,
   "id": "d5bb6033",
   "metadata": {},
   "outputs": [
    {
     "name": "stderr",
     "output_type": "stream",
     "text": [
      "/Users/jensen/Desktop/recommendation-systems/projects/product-reviews-recommender/.venv/lib/python3.9/site-packages/gensim/similarities/__init__.py:15: UserWarning: The gensim.similarities.levenshtein submodule is disabled, because the optional Levenshtein package <https://pypi.org/project/python-Levenshtein/> is unavailable. Install Levenhstein (e.g. `pip install python-Levenshtein`) to suppress this warning.\n",
      "  warnings.warn(msg)\n"
     ]
    },
    {
     "name": "stdout",
     "output_type": "stream",
     "text": [
      "INFO: Pandarallel will run on 8 workers.\n",
      "INFO: Pandarallel will use standard multiprocessing data transfer (pipe) to transfer data between the main process and workers.\n"
     ]
    }
   ],
   "source": [
    "import numpy as np\n",
    "import pandas as pd\n",
    "import warnings\n",
    "\n",
    "from gensim.models.doc2vec import Doc2Vec\n",
    "from pandarallel import pandarallel\n",
    "from tqdm import tqdm\n",
    "\n",
    "from src.models import cf\n",
    "\n",
    "pandarallel.initialize()\n",
    "tqdm.pandas()\n",
    "warnings.filterwarnings('ignore')"
   ]
  },
  {
   "cell_type": "markdown",
   "id": "ccc8b955",
   "metadata": {},
   "source": [
    "# Load Data and Models"
   ]
  },
  {
   "cell_type": "code",
   "execution_count": 2,
   "id": "4026a31d",
   "metadata": {},
   "outputs": [],
   "source": [
    "# global variables\n",
    "DATA_PATH = \"data/evaluation\"\n",
    "D2V_PATH = \"models/d2v\"\n",
    "CATEGORY = \"Grocery_and_Gourmet_Food\"\n",
    "\n",
    "\n",
    "train = pd.read_csv(f\"{DATA_PATH}/{CATEGORY}_train.csv\")\n",
    "d2v = Doc2Vec.load(f\"{D2V_PATH}/{CATEGORY}_50_d2v.model\")"
   ]
  },
  {
   "cell_type": "code",
   "execution_count": 3,
   "id": "d310a929",
   "metadata": {},
   "outputs": [
    {
     "data": {
      "text/html": [
       "<div>\n",
       "<style scoped>\n",
       "    .dataframe tbody tr th:only-of-type {\n",
       "        vertical-align: middle;\n",
       "    }\n",
       "\n",
       "    .dataframe tbody tr th {\n",
       "        vertical-align: top;\n",
       "    }\n",
       "\n",
       "    .dataframe thead th {\n",
       "        text-align: right;\n",
       "    }\n",
       "</style>\n",
       "<table border=\"1\" class=\"dataframe\">\n",
       "  <thead>\n",
       "    <tr style=\"text-align: right;\">\n",
       "      <th></th>\n",
       "      <th>index</th>\n",
       "      <th>asin</th>\n",
       "      <th>title</th>\n",
       "      <th>categories</th>\n",
       "      <th>reviewerID</th>\n",
       "      <th>overall</th>\n",
       "      <th>reviewText</th>\n",
       "      <th>reviewTime</th>\n",
       "      <th>processedReviewText</th>\n",
       "    </tr>\n",
       "  </thead>\n",
       "  <tbody>\n",
       "    <tr>\n",
       "      <th>0</th>\n",
       "      <td>0</td>\n",
       "      <td>9742356831</td>\n",
       "      <td>Mae Ploy Green Curry Paste, 14 oz</td>\n",
       "      <td>['Grocery &amp; Gourmet Food', 'Sauces, Gravies &amp; ...</td>\n",
       "      <td>A23RYWDS884TUL</td>\n",
       "      <td>5.0</td>\n",
       "      <td>This curry paste makes a delicious curry.  I j...</td>\n",
       "      <td>2013-05-28</td>\n",
       "      <td>curry paste delicious curry fry chicken vegeta...</td>\n",
       "    </tr>\n",
       "    <tr>\n",
       "      <th>1</th>\n",
       "      <td>1</td>\n",
       "      <td>9742356831</td>\n",
       "      <td>Mae Ploy Green Curry Paste, 14 oz</td>\n",
       "      <td>['Grocery &amp; Gourmet Food', 'Sauces, Gravies &amp; ...</td>\n",
       "      <td>A945RBQWGZXCK</td>\n",
       "      <td>5.0</td>\n",
       "      <td>I've purchased different curries in the grocer...</td>\n",
       "      <td>2012-09-17</td>\n",
       "      <td>purchase different curry grocery store complet...</td>\n",
       "    </tr>\n",
       "    <tr>\n",
       "      <th>2</th>\n",
       "      <td>3</td>\n",
       "      <td>9742356831</td>\n",
       "      <td>Mae Ploy Green Curry Paste, 14 oz</td>\n",
       "      <td>['Grocery &amp; Gourmet Food', 'Sauces, Gravies &amp; ...</td>\n",
       "      <td>A3AMNY44OP8AOU</td>\n",
       "      <td>4.0</td>\n",
       "      <td>I started a new diet restricting all added sug...</td>\n",
       "      <td>2014-01-23</td>\n",
       "      <td>start new diet restrict added sugar brand suga...</td>\n",
       "    </tr>\n",
       "    <tr>\n",
       "      <th>3</th>\n",
       "      <td>4</td>\n",
       "      <td>9742356831</td>\n",
       "      <td>Mae Ploy Green Curry Paste, 14 oz</td>\n",
       "      <td>['Grocery &amp; Gourmet Food', 'Sauces, Gravies &amp; ...</td>\n",
       "      <td>A3IB4CQ2QEJLJ8</td>\n",
       "      <td>5.0</td>\n",
       "      <td>So many flavors. I can't begin to tell you how...</td>\n",
       "      <td>2014-04-27</td>\n",
       "      <td>flavor begin tell love mae ploy curry ask reci...</td>\n",
       "    </tr>\n",
       "    <tr>\n",
       "      <th>4</th>\n",
       "      <td>5</td>\n",
       "      <td>9742356831</td>\n",
       "      <td>Mae Ploy Green Curry Paste, 14 oz</td>\n",
       "      <td>['Grocery &amp; Gourmet Food', 'Sauces, Gravies &amp; ...</td>\n",
       "      <td>AQA5DF3RWKETQ</td>\n",
       "      <td>5.0</td>\n",
       "      <td>I've used this a lot recently in some of my ch...</td>\n",
       "      <td>2012-11-27</td>\n",
       "      <td>use lot recently chicken dish use lot like spi...</td>\n",
       "    </tr>\n",
       "    <tr>\n",
       "      <th>47769</th>\n",
       "      <td>77420</td>\n",
       "      <td>B00I33696K</td>\n",
       "      <td>Reese's Miniature Peanut Butter Cups .31oz - 1...</td>\n",
       "      <td>['Grocery &amp; Gourmet Food', 'Candy &amp; Chocolate'...</td>\n",
       "      <td>A192LQZWDYPR4U</td>\n",
       "      <td>5.0</td>\n",
       "      <td>Another quality Reese Peanut Butter Cup produc...</td>\n",
       "      <td>2014-02-27</td>\n",
       "      <td>quality reese peanut butter cup product great ...</td>\n",
       "    </tr>\n",
       "    <tr>\n",
       "      <th>47770</th>\n",
       "      <td>77421</td>\n",
       "      <td>B00I33696K</td>\n",
       "      <td>Reese's Miniature Peanut Butter Cups .31oz - 1...</td>\n",
       "      <td>['Grocery &amp; Gourmet Food', 'Candy &amp; Chocolate'...</td>\n",
       "      <td>A2QKXW3LDQ66P5</td>\n",
       "      <td>5.0</td>\n",
       "      <td>I purchased these for my husband who has every...</td>\n",
       "      <td>2013-02-20</td>\n",
       "      <td>purchase husband love reeses valentine day pre...</td>\n",
       "    </tr>\n",
       "    <tr>\n",
       "      <th>47771</th>\n",
       "      <td>77430</td>\n",
       "      <td>B00ID9VSOM</td>\n",
       "      <td>Viva Labs Organic Coconut Sugar: Non-GMO, Low-...</td>\n",
       "      <td>['Grocery &amp; Gourmet Food', 'Cooking &amp; Baking',...</td>\n",
       "      <td>A2P3TGJU301KXD</td>\n",
       "      <td>5.0</td>\n",
       "      <td>this stuff is INCREDIBILY yummy! SO much bette...</td>\n",
       "      <td>2014-07-15</td>\n",
       "      <td>stuff incredibily yummy good regular brown sug...</td>\n",
       "    </tr>\n",
       "    <tr>\n",
       "      <th>47772</th>\n",
       "      <td>77456</td>\n",
       "      <td>B00IRL93SY</td>\n",
       "      <td>Barrie House Kenya Estate - AA Single Cup Caps...</td>\n",
       "      <td>['Grocery &amp; Gourmet Food', 'Beverages', 'Coffe...</td>\n",
       "      <td>AEFE9VDHTQ199</td>\n",
       "      <td>5.0</td>\n",
       "      <td>Very nice aroma, body and taste! Will buy this...</td>\n",
       "      <td>2014-05-24</td>\n",
       "      <td>nice aroma body taste buy coffee good coffee a...</td>\n",
       "    </tr>\n",
       "    <tr>\n",
       "      <th>47773</th>\n",
       "      <td>77508</td>\n",
       "      <td>B00ISVHJ3Y</td>\n",
       "      <td>Wholesome Sweeteners, Organic Sweet and Lite S...</td>\n",
       "      <td>['Grocery &amp; Gourmet Food', 'Cooking &amp; Baking',...</td>\n",
       "      <td>A2AEZQ3DGBBLPR</td>\n",
       "      <td>2.0</td>\n",
       "      <td>This is a no go for diabetics according to my ...</td>\n",
       "      <td>2014-06-26</td>\n",
       "      <td>diabetic accord wife doctor order intention us...</td>\n",
       "    </tr>\n",
       "  </tbody>\n",
       "</table>\n",
       "</div>"
      ],
      "text/plain": [
       "       index        asin                                              title  \\\n",
       "0          0  9742356831                  Mae Ploy Green Curry Paste, 14 oz   \n",
       "1          1  9742356831                  Mae Ploy Green Curry Paste, 14 oz   \n",
       "2          3  9742356831                  Mae Ploy Green Curry Paste, 14 oz   \n",
       "3          4  9742356831                  Mae Ploy Green Curry Paste, 14 oz   \n",
       "4          5  9742356831                  Mae Ploy Green Curry Paste, 14 oz   \n",
       "47769  77420  B00I33696K  Reese's Miniature Peanut Butter Cups .31oz - 1...   \n",
       "47770  77421  B00I33696K  Reese's Miniature Peanut Butter Cups .31oz - 1...   \n",
       "47771  77430  B00ID9VSOM  Viva Labs Organic Coconut Sugar: Non-GMO, Low-...   \n",
       "47772  77456  B00IRL93SY  Barrie House Kenya Estate - AA Single Cup Caps...   \n",
       "47773  77508  B00ISVHJ3Y  Wholesome Sweeteners, Organic Sweet and Lite S...   \n",
       "\n",
       "                                              categories      reviewerID  \\\n",
       "0      ['Grocery & Gourmet Food', 'Sauces, Gravies & ...  A23RYWDS884TUL   \n",
       "1      ['Grocery & Gourmet Food', 'Sauces, Gravies & ...   A945RBQWGZXCK   \n",
       "2      ['Grocery & Gourmet Food', 'Sauces, Gravies & ...  A3AMNY44OP8AOU   \n",
       "3      ['Grocery & Gourmet Food', 'Sauces, Gravies & ...  A3IB4CQ2QEJLJ8   \n",
       "4      ['Grocery & Gourmet Food', 'Sauces, Gravies & ...   AQA5DF3RWKETQ   \n",
       "47769  ['Grocery & Gourmet Food', 'Candy & Chocolate'...  A192LQZWDYPR4U   \n",
       "47770  ['Grocery & Gourmet Food', 'Candy & Chocolate'...  A2QKXW3LDQ66P5   \n",
       "47771  ['Grocery & Gourmet Food', 'Cooking & Baking',...  A2P3TGJU301KXD   \n",
       "47772  ['Grocery & Gourmet Food', 'Beverages', 'Coffe...   AEFE9VDHTQ199   \n",
       "47773  ['Grocery & Gourmet Food', 'Cooking & Baking',...  A2AEZQ3DGBBLPR   \n",
       "\n",
       "       overall                                         reviewText  reviewTime  \\\n",
       "0          5.0  This curry paste makes a delicious curry.  I j...  2013-05-28   \n",
       "1          5.0  I've purchased different curries in the grocer...  2012-09-17   \n",
       "2          4.0  I started a new diet restricting all added sug...  2014-01-23   \n",
       "3          5.0  So many flavors. I can't begin to tell you how...  2014-04-27   \n",
       "4          5.0  I've used this a lot recently in some of my ch...  2012-11-27   \n",
       "47769      5.0  Another quality Reese Peanut Butter Cup produc...  2014-02-27   \n",
       "47770      5.0  I purchased these for my husband who has every...  2013-02-20   \n",
       "47771      5.0  this stuff is INCREDIBILY yummy! SO much bette...  2014-07-15   \n",
       "47772      5.0  Very nice aroma, body and taste! Will buy this...  2014-05-24   \n",
       "47773      2.0  This is a no go for diabetics according to my ...  2014-06-26   \n",
       "\n",
       "                                     processedReviewText  \n",
       "0      curry paste delicious curry fry chicken vegeta...  \n",
       "1      purchase different curry grocery store complet...  \n",
       "2      start new diet restrict added sugar brand suga...  \n",
       "3      flavor begin tell love mae ploy curry ask reci...  \n",
       "4      use lot recently chicken dish use lot like spi...  \n",
       "47769  quality reese peanut butter cup product great ...  \n",
       "47770  purchase husband love reeses valentine day pre...  \n",
       "47771  stuff incredibily yummy good regular brown sug...  \n",
       "47772  nice aroma body taste buy coffee good coffee a...  \n",
       "47773  diabetic accord wife doctor order intention us...  "
      ]
     },
     "execution_count": 3,
     "metadata": {},
     "output_type": "execute_result"
    }
   ],
   "source": [
    "# checking train dataframe\n",
    "train.head().append(train.tail())"
   ]
  },
  {
   "cell_type": "code",
   "execution_count": 4,
   "id": "55810656",
   "metadata": {},
   "outputs": [
    {
     "data": {
      "text/plain": [
       "array([-1.68350220e-01,  1.28843918e-01,  1.53609708e-01,  1.02531262e-01,\n",
       "       -1.78938702e-01,  1.40786603e-01, -1.02161698e-01,  2.32769642e-02,\n",
       "       -2.05874681e-01,  1.07798077e-01, -6.60957396e-02, -3.01132966e-02,\n",
       "       -4.72943723e-01,  8.28767791e-02,  2.58622289e-01, -1.09628424e-01,\n",
       "        4.43287522e-01, -3.27611864e-01, -1.31865367e-01, -1.37127474e-01,\n",
       "       -9.12572891e-02,  2.37981174e-02,  4.94413167e-01, -7.89995044e-02,\n",
       "       -4.79375347e-02,  5.91341615e-01, -4.05233592e-01,  4.74170223e-03,\n",
       "       -4.25971776e-01,  3.98977101e-02,  1.94822073e-01,  3.21712404e-01,\n",
       "       -9.83737037e-02,  4.36548710e-01,  1.68986227e-02,  3.02458614e-01,\n",
       "       -2.99157470e-01, -3.90456207e-02,  3.00976545e-01,  1.16236672e-01,\n",
       "       -4.14809547e-02, -2.12868959e-01, -2.89017200e-01, -2.83463597e-01,\n",
       "        2.26068288e-01, -1.09374970e-01, -7.62177492e-03, -1.16938069e-01,\n",
       "       -1.03234852e-04,  8.88586491e-02], dtype=float32)"
      ]
     },
     "execution_count": 4,
     "metadata": {},
     "output_type": "execute_result"
    }
   ],
   "source": [
    "# testing d2v models\n",
    "d2v.dv[0]"
   ]
  },
  {
   "cell_type": "markdown",
   "id": "54d8e9ff",
   "metadata": {},
   "source": [
    "# Generate User Embeddings"
   ]
  },
  {
   "cell_type": "code",
   "execution_count": 5,
   "id": "5ce0b98c",
   "metadata": {},
   "outputs": [
    {
     "name": "stderr",
     "output_type": "stream",
     "text": [
      "100%|██████████████████████████████████████████████████████████████████████████████████████████████████████████████████████████████████████████████████████████████| 13397/13397 [00:00<00:00, 62043.53it/s]"
     ]
    },
    {
     "name": "stdout",
     "output_type": "stream",
     "text": [
      "reviewerID\n",
      "A00177463W0XWB16A9O05                             [B0029XDZIK, B0094ISOMA]\n",
      "A022899328A0QROR32DCT                             [B001ACMCNU, B003TO9RSU]\n",
      "A068255029AHTHDXZURNU                             [B000K8WVYA, B0094ISOMA]\n",
      "A06944662TFWOKKV4GJKX                                         [B000CQBZPG]\n",
      "A1004703RC79J9                                                [B001E50THY]\n",
      "                                               ...                        \n",
      "AZWRZZAMX90VT            [B0007R9L5Q, B000CQ01GU, B000E123IC, B000E46LZ...\n",
      "AZXKAH2DE6C8A            [B000EML7DS, B000ODF2ME, B001650XUK, B0018QLG9...\n",
      "AZXON596A1VXC                         [B00113SKZW, B00113ZTVK, B001L4JH5I]\n",
      "AZYXC63SS008M                                                 [B0040WCQKQ]\n",
      "AZZ5ASC403N74                                                 [B004U49QU2]\n",
      "Name: asin, Length: 13397, dtype: object\n"
     ]
    },
    {
     "name": "stderr",
     "output_type": "stream",
     "text": [
      "\n"
     ]
    }
   ],
   "source": [
    "# get user rating history\n",
    "train_user_rating_history = train.groupby([\"reviewerID\"])[\"asin\"].progress_apply(list)\n",
    "print(train_user_rating_history)"
   ]
  },
  {
   "cell_type": "code",
   "execution_count": 6,
   "id": "44201966",
   "metadata": {},
   "outputs": [],
   "source": [
    "def generate_user_embeddings(user_rating_history: pd.DataFrame, d2v: Doc2Vec) -> dict:\n",
    "    \"\"\"\n",
    "    \n",
    "    Args:\n",
    "        unique_users ([list]):\n",
    "        d2v ([Doc2Vec]):\n",
    "    \"\"\"\n",
    "    \n",
    "    # generate unique users\n",
    "    unique_users = user_rating_history.reset_index()[\"reviewerID\"].tolist()\n",
    "    \n",
    "    user_embeddings = {}\n",
    "    for user in tqdm(unique_users):\n",
    "        user_embedding = np.zeros(50)\n",
    "        for item in user_rating_history[user]:\n",
    "            user_embedding += d2v.dv[item]\n",
    "            \n",
    "        # computing mean aggregation\n",
    "        user_embedding /= len(user_rating_history[user])\n",
    "        user_embeddings[user] = user_embedding\n",
    "        \n",
    "    return user_embeddings"
   ]
  },
  {
   "cell_type": "code",
   "execution_count": 7,
   "id": "93d7d17d",
   "metadata": {},
   "outputs": [
    {
     "name": "stderr",
     "output_type": "stream",
     "text": [
      "100%|██████████████████████████████████████████████████████████████████████████████████████████████████████████████████████████████████████████████████████████████| 13397/13397 [00:00<00:00, 40451.55it/s]\n"
     ]
    }
   ],
   "source": [
    "train_user_embeddings = generate_user_embeddings(train_user_rating_history, d2v)"
   ]
  },
  {
   "cell_type": "markdown",
   "id": "e5a513b1",
   "metadata": {},
   "source": [
    "# Utility Functions"
   ]
  },
  {
   "cell_type": "code",
   "execution_count": 8,
   "id": "4417ea1c",
   "metadata": {},
   "outputs": [],
   "source": [
    "def get_top_n(predictions: dict, user_rating_history: pd.DataFrame, n=10) -> dict:\n",
    "    \"\"\"Return the top-N recommendations for each user based on cosine similarity.\n",
    "    \n",
    "    Args:\n",
    "        d2v ([Doc2Vec]): Doc2Vec of item representations based on reviews.\n",
    "        user_rating_history ([dict]): \"Future\" purchases aggregated by users based on\n",
    "            test set.\n",
    "    \n",
    "    Returns:\n",
    "        ([dict]): A dictionary of top-N recommendations for each unique user, sorted by\n",
    "            cosine similarties.\n",
    "    \"\"\"\n",
    "    \n",
    "    # retrieve a 200 items candidate list based on similarities\n",
    "    top_ns = {}\n",
    "    for user in predictions:\n",
    "        rated_items = user_rating_history[user]\n",
    "        candidate_items = [i[0] for i in predictions[user]]\n",
    "        unrated_items = set(candidate_items) - set(rated_items)\n",
    "        \n",
    "        user_top_n = []\n",
    "        idx = 0\n",
    "        while len(user_top_n) < n:\n",
    "            if candidate_items[idx] in unrated_items:\n",
    "                user_top_n.append(candidate_items[idx])\n",
    "                idx += 1\n",
    "            else:\n",
    "                idx += 1\n",
    "        \n",
    "        top_ns[user] = user_top_n\n",
    "        \n",
    "    return top_ns\n",
    "\n",
    "def recall_at_k(asins, predicted_asins, k=10):\n",
    "    # number of relevant items\n",
    "    set_actual = set(asins)\n",
    "    set_preds = set(predicted_asins)\n",
    "    num_relevant = len(set_actual.intersection(set_preds))\n",
    "    \n",
    "    # calculating recall@K - relevant / total relevant items\n",
    "    recall_at_k = num_relevant / len(asins)\n",
    "    \n",
    "    return recall_at_k\n",
    "\n",
    "def novelty_at_k(item_popularity, predicted_asins, k=10):\n",
    "    \"\"\"\n",
    "    \"\"\"\n",
    "    # finding avg novelty\n",
    "    popularity_sum = item_popularity.loc[predicted_asins].sum()\n",
    "    novelty_at_k = ((k*1) - popularity_sum) / k\n",
    "    \n",
    "    return novelty_at_k\n",
    "\n",
    "def generate_item_popularity(train: pd.DataFrame) -> pd.DataFrame:\n",
    "    \"\"\"\n",
    "    \"\"\"\n",
    "    \n",
    "    # create a mapping of item popularatity\n",
    "    # based on sum(item's review / max reviews) / no items\n",
    "    max_reviews = (train.groupby(['asin'])\n",
    "                   .agg({'processedReviewText': 'count'})\n",
    "                   .max()\n",
    "                   .values[0])\n",
    "    item_popularity = (train.groupby(['asin'])\n",
    "                       .agg({'processedReviewText': 'count'})\n",
    "                       .apply(lambda x: x/max_reviews))\n",
    "    \n",
    "    return item_popularity\n",
    "    \n",
    "\n",
    "def evaluate_recommendations(top_ns: dict, user_rating_history: pd.DataFrame, item_popularity: pd.DataFrame, k=10) -> pd.DataFrame:\n",
    "    \"\"\"\n",
    "    \n",
    "    Args:\n",
    "        top_ns\n",
    "        user_rating_history\n",
    "    \"\"\"\n",
    "    \n",
    "    test_recommendations = pd.DataFrame(top_ns.items(), columns=[\"reviewerID\", \"pred_asin\"])\n",
    "    \n",
    "    # combined test history and recommendations\n",
    "    test_merged = pd.merge(user_rating_history, test_recommendations, on=\"reviewerID\", how=\"inner\")\n",
    "    \n",
    "    # generating recall@k metrics\n",
    "    test_merged[\"recall@k\"] = test_merged.apply(lambda x: recall_at_k(x.asin, x.pred_asin, k=k), axis=1)\n",
    "    test_merged[\"novelty@k\"] = test_merged.apply(lambda x: novelty_at_k(item_popularity, x.pred_asin, k=k), axis=1)\n",
    "    average_recall_at_k = test_merged[\"recall@k\"].mean()\n",
    "    average_novelty_at_k = test_merged[\"novelty@k\"].mean()\n",
    "    \n",
    "    print(f\"The MEM-ECF has an average recall@{k}: {average_recall_at_k:.5f}, average novelty@{k}: {average_novelty_at_k:.5f}\")\n",
    "    \n",
    "    return test_merged"
   ]
  },
  {
   "cell_type": "markdown",
   "id": "d7900a33",
   "metadata": {},
   "source": [
    "# Generate N-Recommendations = {10, 25, 30, 45}"
   ]
  },
  {
   "cell_type": "markdown",
   "id": "68c53c10",
   "metadata": {},
   "source": [
    "## Load Test Data"
   ]
  },
  {
   "cell_type": "code",
   "execution_count": 9,
   "id": "779da8b3",
   "metadata": {},
   "outputs": [],
   "source": [
    "test = pd.read_csv(f\"{DATA_PATH}/{CATEGORY}_test.csv\")"
   ]
  },
  {
   "cell_type": "code",
   "execution_count": 10,
   "id": "a667ee13",
   "metadata": {},
   "outputs": [
    {
     "data": {
      "text/html": [
       "<div>\n",
       "<style scoped>\n",
       "    .dataframe tbody tr th:only-of-type {\n",
       "        vertical-align: middle;\n",
       "    }\n",
       "\n",
       "    .dataframe tbody tr th {\n",
       "        vertical-align: top;\n",
       "    }\n",
       "\n",
       "    .dataframe thead th {\n",
       "        text-align: right;\n",
       "    }\n",
       "</style>\n",
       "<table border=\"1\" class=\"dataframe\">\n",
       "  <thead>\n",
       "    <tr style=\"text-align: right;\">\n",
       "      <th></th>\n",
       "      <th>index</th>\n",
       "      <th>asin</th>\n",
       "      <th>title</th>\n",
       "      <th>categories</th>\n",
       "      <th>reviewerID</th>\n",
       "      <th>overall</th>\n",
       "      <th>reviewText</th>\n",
       "      <th>reviewTime</th>\n",
       "      <th>processedReviewText</th>\n",
       "    </tr>\n",
       "  </thead>\n",
       "  <tbody>\n",
       "    <tr>\n",
       "      <th>0</th>\n",
       "      <td>2</td>\n",
       "      <td>9742356831</td>\n",
       "      <td>Mae Ploy Green Curry Paste, 14 oz</td>\n",
       "      <td>['Grocery &amp; Gourmet Food', 'Sauces, Gravies &amp; ...</td>\n",
       "      <td>A1TCSC0YWT82Q0</td>\n",
       "      <td>5.0</td>\n",
       "      <td>I love ethnic foods and to cook them. I recent...</td>\n",
       "      <td>2013-08-03</td>\n",
       "      <td>love ethnic food cook recently purchase produc...</td>\n",
       "    </tr>\n",
       "    <tr>\n",
       "      <th>1</th>\n",
       "      <td>8</td>\n",
       "      <td>9742356831</td>\n",
       "      <td>Mae Ploy Green Curry Paste, 14 oz</td>\n",
       "      <td>['Grocery &amp; Gourmet Food', 'Sauces, Gravies &amp; ...</td>\n",
       "      <td>A1Z7Y2GMAP9SRY</td>\n",
       "      <td>5.0</td>\n",
       "      <td>I like to make my own curry but this is a tast...</td>\n",
       "      <td>2014-06-27</td>\n",
       "      <td>like curry tasty alternative use base kind dif...</td>\n",
       "    </tr>\n",
       "    <tr>\n",
       "      <th>2</th>\n",
       "      <td>23</td>\n",
       "      <td>B00004S1C5</td>\n",
       "      <td>Ateco Food Coloring Kit, 6 colors</td>\n",
       "      <td>['Grocery &amp; Gourmet Food', 'Cooking &amp; Baking',...</td>\n",
       "      <td>A14YSMLYLJEMET</td>\n",
       "      <td>1.0</td>\n",
       "      <td>This product is no where near natural / organi...</td>\n",
       "      <td>2013-03-29</td>\n",
       "      <td>product near natural organic wish review purch...</td>\n",
       "    </tr>\n",
       "    <tr>\n",
       "      <th>3</th>\n",
       "      <td>31</td>\n",
       "      <td>B00005344V</td>\n",
       "      <td>Traditional Medicinals Organic Breathe Easy Se...</td>\n",
       "      <td>['Grocery &amp; Gourmet Food', 'Beverages', 'Coffe...</td>\n",
       "      <td>A2F488C4PLWGEI</td>\n",
       "      <td>5.0</td>\n",
       "      <td>If my wife drinks a cup of this tea when she f...</td>\n",
       "      <td>2014-03-23</td>\n",
       "      <td>wife drink cup tea feel attack come help avoid...</td>\n",
       "    </tr>\n",
       "    <tr>\n",
       "      <th>4</th>\n",
       "      <td>32</td>\n",
       "      <td>B00005344V</td>\n",
       "      <td>Traditional Medicinals Organic Breathe Easy Se...</td>\n",
       "      <td>['Grocery &amp; Gourmet Food', 'Beverages', 'Coffe...</td>\n",
       "      <td>AO1HXV7DWZZIR</td>\n",
       "      <td>5.0</td>\n",
       "      <td>I don't know about the medicinal aspects of th...</td>\n",
       "      <td>2014-02-06</td>\n",
       "      <td>know medicinal aspect tea flavor downright scr...</td>\n",
       "    </tr>\n",
       "    <tr>\n",
       "      <th>28001</th>\n",
       "      <td>77519</td>\n",
       "      <td>B00ISVHJ3Y</td>\n",
       "      <td>Wholesome Sweeteners, Organic Sweet and Lite S...</td>\n",
       "      <td>['Grocery &amp; Gourmet Food', 'Cooking &amp; Baking',...</td>\n",
       "      <td>A1WT3TVHANP7ZF</td>\n",
       "      <td>3.0</td>\n",
       "      <td>Hmmm. I really wanted to love this sweetener. ...</td>\n",
       "      <td>2014-07-22</td>\n",
       "      <td>hmmm want love sweetener half sugar half stevi...</td>\n",
       "    </tr>\n",
       "    <tr>\n",
       "      <th>28002</th>\n",
       "      <td>77520</td>\n",
       "      <td>B00ISVHJ3Y</td>\n",
       "      <td>Wholesome Sweeteners, Organic Sweet and Lite S...</td>\n",
       "      <td>['Grocery &amp; Gourmet Food', 'Cooking &amp; Baking',...</td>\n",
       "      <td>A3NEAETOSXDBOM</td>\n",
       "      <td>5.0</td>\n",
       "      <td>I confess I have a sweet tooth, and love the t...</td>\n",
       "      <td>2014-06-30</td>\n",
       "      <td>confess sweet tooth love taste sugar recognize...</td>\n",
       "    </tr>\n",
       "    <tr>\n",
       "      <th>28003</th>\n",
       "      <td>77521</td>\n",
       "      <td>B00ISVHJ3Y</td>\n",
       "      <td>Wholesome Sweeteners, Organic Sweet and Lite S...</td>\n",
       "      <td>['Grocery &amp; Gourmet Food', 'Cooking &amp; Baking',...</td>\n",
       "      <td>AD1ZOPB0BBEHB</td>\n",
       "      <td>4.0</td>\n",
       "      <td>It has a little of the stevia aftertaste, but ...</td>\n",
       "      <td>2014-07-17</td>\n",
       "      <td>little stevia aftertaste fair compromise able ...</td>\n",
       "    </tr>\n",
       "    <tr>\n",
       "      <th>28004</th>\n",
       "      <td>77522</td>\n",
       "      <td>B00ISVHJ3Y</td>\n",
       "      <td>Wholesome Sweeteners, Organic Sweet and Lite S...</td>\n",
       "      <td>['Grocery &amp; Gourmet Food', 'Cooking &amp; Baking',...</td>\n",
       "      <td>A18ECVX2RJ7HUE</td>\n",
       "      <td>5.0</td>\n",
       "      <td>i love marinade for grilled flank steak or lon...</td>\n",
       "      <td>2014-05-30</td>\n",
       "      <td>love marinade grilled flank steak london broil...</td>\n",
       "    </tr>\n",
       "    <tr>\n",
       "      <th>28005</th>\n",
       "      <td>77523</td>\n",
       "      <td>B00ISVHJ3Y</td>\n",
       "      <td>Wholesome Sweeteners, Organic Sweet and Lite S...</td>\n",
       "      <td>['Grocery &amp; Gourmet Food', 'Cooking &amp; Baking',...</td>\n",
       "      <td>A2G04D4QZAXL15</td>\n",
       "      <td>3.0</td>\n",
       "      <td>I've been using Truvia (a form of stevia) on m...</td>\n",
       "      <td>2014-05-27</td>\n",
       "      <td>use truvia form stevia cereal greek yogurt yea...</td>\n",
       "    </tr>\n",
       "  </tbody>\n",
       "</table>\n",
       "</div>"
      ],
      "text/plain": [
       "       index        asin                                              title  \\\n",
       "0          2  9742356831                  Mae Ploy Green Curry Paste, 14 oz   \n",
       "1          8  9742356831                  Mae Ploy Green Curry Paste, 14 oz   \n",
       "2         23  B00004S1C5                  Ateco Food Coloring Kit, 6 colors   \n",
       "3         31  B00005344V  Traditional Medicinals Organic Breathe Easy Se...   \n",
       "4         32  B00005344V  Traditional Medicinals Organic Breathe Easy Se...   \n",
       "28001  77519  B00ISVHJ3Y  Wholesome Sweeteners, Organic Sweet and Lite S...   \n",
       "28002  77520  B00ISVHJ3Y  Wholesome Sweeteners, Organic Sweet and Lite S...   \n",
       "28003  77521  B00ISVHJ3Y  Wholesome Sweeteners, Organic Sweet and Lite S...   \n",
       "28004  77522  B00ISVHJ3Y  Wholesome Sweeteners, Organic Sweet and Lite S...   \n",
       "28005  77523  B00ISVHJ3Y  Wholesome Sweeteners, Organic Sweet and Lite S...   \n",
       "\n",
       "                                              categories      reviewerID  \\\n",
       "0      ['Grocery & Gourmet Food', 'Sauces, Gravies & ...  A1TCSC0YWT82Q0   \n",
       "1      ['Grocery & Gourmet Food', 'Sauces, Gravies & ...  A1Z7Y2GMAP9SRY   \n",
       "2      ['Grocery & Gourmet Food', 'Cooking & Baking',...  A14YSMLYLJEMET   \n",
       "3      ['Grocery & Gourmet Food', 'Beverages', 'Coffe...  A2F488C4PLWGEI   \n",
       "4      ['Grocery & Gourmet Food', 'Beverages', 'Coffe...   AO1HXV7DWZZIR   \n",
       "28001  ['Grocery & Gourmet Food', 'Cooking & Baking',...  A1WT3TVHANP7ZF   \n",
       "28002  ['Grocery & Gourmet Food', 'Cooking & Baking',...  A3NEAETOSXDBOM   \n",
       "28003  ['Grocery & Gourmet Food', 'Cooking & Baking',...   AD1ZOPB0BBEHB   \n",
       "28004  ['Grocery & Gourmet Food', 'Cooking & Baking',...  A18ECVX2RJ7HUE   \n",
       "28005  ['Grocery & Gourmet Food', 'Cooking & Baking',...  A2G04D4QZAXL15   \n",
       "\n",
       "       overall                                         reviewText  reviewTime  \\\n",
       "0          5.0  I love ethnic foods and to cook them. I recent...  2013-08-03   \n",
       "1          5.0  I like to make my own curry but this is a tast...  2014-06-27   \n",
       "2          1.0  This product is no where near natural / organi...  2013-03-29   \n",
       "3          5.0  If my wife drinks a cup of this tea when she f...  2014-03-23   \n",
       "4          5.0  I don't know about the medicinal aspects of th...  2014-02-06   \n",
       "28001      3.0  Hmmm. I really wanted to love this sweetener. ...  2014-07-22   \n",
       "28002      5.0  I confess I have a sweet tooth, and love the t...  2014-06-30   \n",
       "28003      4.0  It has a little of the stevia aftertaste, but ...  2014-07-17   \n",
       "28004      5.0  i love marinade for grilled flank steak or lon...  2014-05-30   \n",
       "28005      3.0  I've been using Truvia (a form of stevia) on m...  2014-05-27   \n",
       "\n",
       "                                     processedReviewText  \n",
       "0      love ethnic food cook recently purchase produc...  \n",
       "1      like curry tasty alternative use base kind dif...  \n",
       "2      product near natural organic wish review purch...  \n",
       "3      wife drink cup tea feel attack come help avoid...  \n",
       "4      know medicinal aspect tea flavor downright scr...  \n",
       "28001  hmmm want love sweetener half sugar half stevi...  \n",
       "28002  confess sweet tooth love taste sugar recognize...  \n",
       "28003  little stevia aftertaste fair compromise able ...  \n",
       "28004  love marinade grilled flank steak london broil...  \n",
       "28005  use truvia form stevia cereal greek yogurt yea...  "
      ]
     },
     "execution_count": 10,
     "metadata": {},
     "output_type": "execute_result"
    }
   ],
   "source": [
    "test.head().append(test.tail())"
   ]
  },
  {
   "cell_type": "code",
   "execution_count": 11,
   "id": "cd568ec2",
   "metadata": {},
   "outputs": [],
   "source": [
    "# generating test history\n",
    "test_user_history = (pd.DataFrame(test.groupby(['reviewerID'])['asin']\n",
    "                                  .apply(list).reset_index()))"
   ]
  },
  {
   "cell_type": "code",
   "execution_count": 12,
   "id": "7a799a6a",
   "metadata": {},
   "outputs": [
    {
     "name": "stdout",
     "output_type": "stream",
     "text": [
      "                  reviewerID  \\\n",
      "0      A00177463W0XWB16A9O05   \n",
      "1      A022899328A0QROR32DCT   \n",
      "2      A068255029AHTHDXZURNU   \n",
      "3      A06944662TFWOKKV4GJKX   \n",
      "4             A1004703RC79J9   \n",
      "...                      ...   \n",
      "13274          AZWRZZAMX90VT   \n",
      "13275          AZXKAH2DE6C8A   \n",
      "13276          AZXON596A1VXC   \n",
      "13277          AZYXC63SS008M   \n",
      "13278          AZZ5ASC403N74   \n",
      "\n",
      "                                                    asin  \n",
      "0                               [B00474OR8G, B00BFM6OAW]  \n",
      "1                                           [B00CMQDKES]  \n",
      "2                                           [B001FA1K2G]  \n",
      "3                                           [B000GFYRHG]  \n",
      "4                                           [B003GTR8IO]  \n",
      "...                                                  ...  \n",
      "13274  [B0007R9L4M, B000CN7BMA, B001EQ5D1K, B002VT3GX...  \n",
      "13275   [B000MAK41I, B004X8TJP2, B006H34CUS, B007W14RMM]  \n",
      "13276                           [B001EO5S0I, B00271QQ7Q]  \n",
      "13277                                       [B0054TWPNC]  \n",
      "13278                                       [B00BIEU5PC]  \n",
      "\n",
      "[13279 rows x 2 columns]\n"
     ]
    }
   ],
   "source": [
    "print(test_user_history)"
   ]
  },
  {
   "cell_type": "markdown",
   "id": "9290464f",
   "metadata": {},
   "source": [
    "## Instantiate Memory-based Embedding CF (Item-based)"
   ]
  },
  {
   "cell_type": "code",
   "execution_count": 13,
   "id": "33206ceb",
   "metadata": {},
   "outputs": [],
   "source": [
    "mem_ecf = cf.EmbeddedItemBasedCF(d2v)"
   ]
  },
  {
   "cell_type": "code",
   "execution_count": 14,
   "id": "33c20ea3",
   "metadata": {},
   "outputs": [
    {
     "name": "stderr",
     "output_type": "stream",
     "text": [
      "100%|██████████████████████████████████████████████████████████████████████████████████████████████████████████████████████████████████████████████████████████████| 13397/13397 [00:00<00:00, 41946.42it/s]"
     ]
    },
    {
     "name": "stdout",
     "output_type": "stream",
     "text": [
      "CPU times: user 489 ms, sys: 13.4 ms, total: 503 ms\n",
      "Wall time: 500 ms\n"
     ]
    },
    {
     "name": "stderr",
     "output_type": "stream",
     "text": [
      "\n"
     ]
    }
   ],
   "source": [
    "%%time\n",
    "# fit learning algorithm to training data\n",
    "mem_ecf.fit(train)"
   ]
  },
  {
   "cell_type": "code",
   "execution_count": 15,
   "id": "d63d8435",
   "metadata": {},
   "outputs": [
    {
     "name": "stderr",
     "output_type": "stream",
     "text": [
      "100%|███████████████████████████████████████████████████████████████████████████████████████████████████████████████████████████████████████████████████████████████| 13397/13397 [00:05<00:00, 2601.82it/s]"
     ]
    },
    {
     "name": "stdout",
     "output_type": "stream",
     "text": [
      "CPU times: user 16.9 s, sys: 2.92 s, total: 19.8 s\n",
      "Wall time: 5.15 s\n"
     ]
    },
    {
     "name": "stderr",
     "output_type": "stream",
     "text": [
      "\n"
     ]
    }
   ],
   "source": [
    "%%time\n",
    "# generate n-number of candidates items (200)\n",
    "candidate_items = mem_ecf.test()"
   ]
  },
  {
   "cell_type": "markdown",
   "id": "bd02102f",
   "metadata": {},
   "source": [
    "## Loop through N = {10, 25, 30, 45}"
   ]
  },
  {
   "cell_type": "code",
   "execution_count": 16,
   "id": "bc3bc2fa",
   "metadata": {},
   "outputs": [],
   "source": [
    "# generate item popularity\n",
    "item_popularity = generate_item_popularity(train)"
   ]
  },
  {
   "cell_type": "code",
   "execution_count": 17,
   "id": "71184af5",
   "metadata": {},
   "outputs": [
    {
     "name": "stdout",
     "output_type": "stream",
     "text": [
      "The MEM-ECF has an average recall@10: 0.02156, average novelty@10: 0.94243\n",
      "The MEM-ECF has an average recall@25: 0.04002, average novelty@25: 0.95109\n",
      "The MEM-ECF has an average recall@30: 0.04542, average novelty@30: 0.95319\n",
      "The MEM-ECF has an average recall@45: 0.05798, average novelty@45: 0.95722\n"
     ]
    }
   ],
   "source": [
    "n_recommendations = {}\n",
    "for n in [10, 25, 30, 45]:\n",
    "    # retrieve the top-n items based on similarities\n",
    "    top_ns = get_top_n(candidate_items, mem_ecf.user_rating_history, n)\n",
    "    # evaluate how well the recommended items predicted the future purchases\n",
    "    n_recommended_items = evaluate_recommendations(top_ns, test_user_history, item_popularity, n)\n",
    "    # saving the n-value and recommended items\n",
    "    n_recommendations[n] = (top_ns, n_recommended_items)"
   ]
  },
  {
   "cell_type": "markdown",
   "id": "ccb14b27",
   "metadata": {},
   "source": [
    "# Evaluate N-Recommendations"
   ]
  },
  {
   "cell_type": "code",
   "execution_count": 18,
   "id": "4a194f34",
   "metadata": {},
   "outputs": [],
   "source": [
    "def retrieve_recommendations(train: pd.DataFrame, top_ns: dict):\n",
    "    \"\"\"\n",
    "    \"\"\"\n",
    "    # generating a random user\n",
    "    random_user = np.random.choice(list(train['reviewerID'].unique()), 1)[0]\n",
    "    print(f\"For user: {random_user}:\")\n",
    "    print(f\"Purchase History:\\n{train[train['reviewerID'] == random_user][['asin', 'title']]}\")\n",
    "\n",
    "    # find the recommendations\n",
    "    print(f\"\\nRecommending:\\n\")\n",
    "    recommendations = (train[train['asin']\n",
    "                             .isin(top_ns[random_user])][['asin', 'title']]\n",
    "                       .drop_duplicates(subset='asin')\n",
    "                       .set_index('asin'))\n",
    "    print(f\"{recommendations.loc[top_ns[random_user]].reset_index()}\")"
   ]
  },
  {
   "cell_type": "markdown",
   "id": "d844dcb0",
   "metadata": {},
   "source": [
    "## N=10"
   ]
  },
  {
   "cell_type": "code",
   "execution_count": 19,
   "id": "2534229a",
   "metadata": {},
   "outputs": [],
   "source": [
    "top_ns_10 = n_recommendations[10][0]"
   ]
  },
  {
   "cell_type": "code",
   "execution_count": 38,
   "id": "14bf8c9b",
   "metadata": {},
   "outputs": [
    {
     "name": "stdout",
     "output_type": "stream",
     "text": [
      "For user: A9I40WFF40R4:\n",
      "Purchase History:\n",
      "             asin                                              title\n",
      "14256  B00119OLSQ  South Beach Living Snack Pack Delights Dark Ch...\n",
      "35357  B004FELBH8  Newtons Fruit Thins Fig and Honey, 10.5-Ounce ...\n",
      "35635  B004JGQ16I  Oreo Golden Oreo Fudge Creme, 11.3-Ounce (Pack...\n",
      "\n",
      "Recommending:\n",
      "\n",
      "         asin                                              title\n",
      "0  B004FEJ968  Newtons Fruit Thins Cranberry Citrus Oats, 10....\n",
      "1  B00027CE2S  Newman's Own Organics Newman O's, (Original) C...\n",
      "2  B005KK3N36  Quaker Soft Baked Oatmeal Cookie, Chocolate Al...\n",
      "3  B00119OL8G  South Beach Living Snack Pack Delights Dark Ch...\n",
      "4  B000FA38ZY  Mallomars Pure Chocolate Cookies, 8-Ounce Boxe...\n",
      "5  B00B18PAWI  Nestle Skinny Cow Divine Filled Chocolates, Ca...\n",
      "6  B007JFMIWW  Quaker Stila Crispy Oat Cookie Bar - Blueberry...\n",
      "7  B000EMQFY4  Nature Valley Chewy Granola Bar, Trail Mix, Fr...\n",
      "8  B006BXV1H6  Kellogg's Krave Double Chocolate Cereal, 11-Ou...\n",
      "9  B00DBSG2NC         Keebler Jumbo Dark Fudge Sticks, 6.6 Ounce\n"
     ]
    }
   ],
   "source": [
    "retrieve_recommendations(train, top_ns_10)"
   ]
  },
  {
   "cell_type": "markdown",
   "id": "08d04ced",
   "metadata": {},
   "source": [
    "## N=25"
   ]
  },
  {
   "cell_type": "code",
   "execution_count": 21,
   "id": "52278122",
   "metadata": {},
   "outputs": [],
   "source": [
    "top_ns_25 = n_recommendations[25][0]"
   ]
  },
  {
   "cell_type": "code",
   "execution_count": 55,
   "id": "0fe585b0",
   "metadata": {},
   "outputs": [
    {
     "name": "stdout",
     "output_type": "stream",
     "text": [
      "For user: A1PMWT1I668I15:\n",
      "Purchase History:\n",
      "             asin                                              title\n",
      "7101   B000FA38ZY  Mallomars Pure Chocolate Cookies, 8-Ounce Boxe...\n",
      "23297  B001H3201Q  Werther's Original Caramel Milk Chocolate, 5.2...\n",
      "29853  B002NHSQ6I  Newman's Own Organics Organic Premium Chocolat...\n",
      "36393  B004K00DGC  Jamba Juice Energy Drink, Crisp Apple, 8.4-Oun...\n",
      "38987  B004YGQPAK  Ambrosoli-HoneesEnergy Plus Vitamin Honey (Pac...\n",
      "40883  B005IW4WEA  KIND Healthy Grains Clusters, Peanut Butter Wh...\n",
      "41362  B005KK3N36  Quaker Soft Baked Oatmeal Cookie, Chocolate Al...\n",
      "42708  B006BXUZVO  Kellogg's Raisin Bran Cereals, Cinnamon and Al...\n",
      "42898  B006BXUY2Y  Kellogg's Special K Granola Bar, Dark Chocolat...\n",
      "\n",
      "Recommending:\n",
      "\n",
      "          asin                                              title\n",
      "0   B000H26J7E  Lindt Excellence Bar, 70% Cocoa Smooth Dark Ch...\n",
      "1   B0013TO51W  Wonka Nerds Giant Chewy Candies, 1.8-Ounce Bag...\n",
      "2   B001E6KBYE  Special K Chocolatey Delight Cereal, 13.4-Ounc...\n",
      "3   B001D0DMMO  KIND PLUS, Strawberry Nut Delight + Calcium, N...\n",
      "4   B004DOXI9O  Lazy Day Foods Dark Chocolate Ginger Cookies, ...\n",
      "5   B006BXV176  Kashi Chocolate Chip Chewy Snack Bar, Banana, ...\n",
      "6   B0062EORXE  Green &amp; Black's Organic Classic Collection...\n",
      "7   B00DHXC1AY  Nabisco Oreo Limited Edition Watermelon Flavor...\n",
      "8   B000NY6Q0G  Lindt Excellence Extra Dark Chocolate 85% Coco...\n",
      "9   B0019ZHU2Q  Ghirardelli Chocolate Intense Dark Bar, Twilig...\n",
      "10  B000F9Z1WI  100 Calorie Packs Oreo Thin Crisps, 6-Count Pa...\n",
      "11  B00B18PAWI  Nestle Skinny Cow Divine Filled Chocolates, Ca...\n",
      "12  B004YV7YIM  Bazooka Candy Sugar Free Ring Pop, 1.50-Ounce ...\n",
      "13  B00DBSG2NC         Keebler Jumbo Dark Fudge Sticks, 6.6 Ounce\n",
      "14  B00119OL8G  South Beach Living Snack Pack Delights Dark Ch...\n",
      "15  B00DUQNFSU       Werther's Original Popcorn, Caramel, 8 Ounce\n",
      "16  B001G0MG2I   Ghirardelli Chocolate Intense Dark Bar, Midni...\n",
      "17  B0007LXU0Y  Kashi TLC Chewy Granola Bar, Peanut Peanut But...\n",
      "18  B000CSCOXQ  Special K Bars, Vanilla Crisp, 6 - .8 oz Bars ...\n",
      "19  B001G0MFZQ  Ghirardelli Chocolate Squares, Milk Chocolate ...\n",
      "20  B000EMOCDA  Nature Valley Sweet &amp; Salty Nut Granola Ba...\n",
      "21  B001E5DRPA  Crispy Green Fruit Snacks, Crispy Asian Pears,...\n",
      "22  B005BPVE5Y  Eat. Think. Smile. Chewy Granola Bars, Rich Co...\n",
      "23  B005BPVE3G  Eat. Think. Smile. Chewy Granola Bars, Mixed B...\n",
      "24  B00DBSG2WI  Keebler El Duende Sandwich Cookies, Lemon, 13 ...\n"
     ]
    }
   ],
   "source": [
    "retrieve_recommendations(train, top_ns_25)"
   ]
  },
  {
   "cell_type": "markdown",
   "id": "4846c07e",
   "metadata": {},
   "source": [
    "## N=30"
   ]
  },
  {
   "cell_type": "code",
   "execution_count": 23,
   "id": "793f9c53",
   "metadata": {},
   "outputs": [],
   "source": [
    "top_ns_30 = n_recommendations[30][0]"
   ]
  },
  {
   "cell_type": "code",
   "execution_count": 24,
   "id": "5436781b",
   "metadata": {},
   "outputs": [
    {
     "name": "stdout",
     "output_type": "stream",
     "text": [
      "For user: A2BBZGVLEGIAVN:\n",
      "Purchase History:\n",
      "             asin                                              title\n",
      "11307  B000LQJT1O  NongShim Bowl Noodle, Hot and Spicy, 3.03-Ounc...\n",
      "24970  B001NJJOCW     Chef Boyardee Microwavable 8 Bowl Variety Pack\n",
      "26014  B001UFSOXE  Coffee Masters Around The World In Twelve Coff...\n",
      "\n",
      "Recommending:\n",
      "\n",
      "          asin                                              title\n",
      "0   B001NZLUYG                                 Shanti's Spice Box\n",
      "1   B000H241DS                        Sushi Chef Sushi Making Kit\n",
      "2   B001GVIT6E  Jacobs Kronung Coffee, 17.6-Ounce Vacuum Packs...\n",
      "3   B00826F95K  Igourmet Four Continents of Cheese on a Budget...\n",
      "4   B000OUX2QA             Ras El Hanout 4.0 Oz By Zamouri Spices\n",
      "5   B000EZZISK                  Tone's Onion Powder - 20oz shaker\n",
      "6   B000BBY7ZC                              Nature's Best Bouquet\n",
      "7   B00631TI2Q  Kirkland Signature Whole Black Peppercorns, 14...\n",
      "8   B001VNEBSC   Frontier Cinnamon Powder, Korintje (a Grade) ...\n",
      "9   B003AYEHIO  Starwest Botanicals Organic Dried Lavender Flo...\n",
      "10  B0016AZH4M   Starwest Botanicals Organic Fennel Seeds, 1 P...\n",
      "11  B000MIFS3Y  Chef Boyardee Beef Ravioli, 14.25-Ounce Microw...\n",
      "12  B001DTMIIO                     Grocery &amp; Gourmet Food\" />\n",
      "13  B001ELL5EO  Heinz Baked Beans in Tomato Sauce, 5.7-Pound C...\n",
      "14  B003A7LDXS  Tully's Coffee House Collection, 22-Count K-Cu...\n",
      "15  B001IZM8WE  Zoe Diva Select Bomba Rice, 17.5 OZ. bag (Pack...\n",
      "16  B000CR1ELU  Premium Madagascar Vanilla Beans 1/4 lb (26-30...\n",
      "17  B001N9V56K  La Tourangelle Infused White Truffle Oil, 8.45...\n",
      "18  B004VITI0K  Nestle Carnation Instant Nonfat Dry Milk, 25.6...\n",
      "19  B004LL46Y0     EkoJava, Sumatra Single Serve Coffee, 25-Count\n",
      "20  B004ZIEZMM  Marie Callender's Corn Muffin Mix, 7-Ounce Pou...\n",
      "21  B000EY5COG  Meyenberg Evaporated Goat Milk, Vitamin D, 12 ...\n",
      "22  B004UBMABM  Achva Sugar Free SESAME Halva Snack Kosher Min...\n",
      "23  B0002VXZ40     Hoosier Hill Farm Wasabi Peas, 5 lbs. (80 oz.)\n",
      "24  B000EYOBRU  Emeril's Original Essence Seasoning Condimento...\n",
      "25  B004BW45Q8  Lindsay Olives Green Ripe Medium Pitted, 6-Oun...\n",
      "26  B005IR6BWQ    Valrhona Chocolate Cocoa Powder 100% cacao 1 lb\n",
      "27  B000LQNK6E  NongShim Shin Cup Noodle Soup, Gourmet Spicy, ...\n",
      "28  B002GWH7O2  Coffee Bean Direct, Herbal Peppermint, Loose L...\n",
      "29  B001CEDW26  Wild Planet, Wild Pink Shrimp,  4 Ounce Cans (...\n"
     ]
    }
   ],
   "source": [
    "retrieve_recommendations(train, top_ns_30)"
   ]
  },
  {
   "cell_type": "markdown",
   "id": "8ad48ff2",
   "metadata": {},
   "source": [
    "## N=45"
   ]
  },
  {
   "cell_type": "code",
   "execution_count": 25,
   "id": "354ce974",
   "metadata": {},
   "outputs": [],
   "source": [
    "top_ns_45 = n_recommendations[45][0]"
   ]
  },
  {
   "cell_type": "code",
   "execution_count": 26,
   "id": "025239d7",
   "metadata": {},
   "outputs": [
    {
     "name": "stdout",
     "output_type": "stream",
     "text": [
      "For user: A2MJZT59XTMN6U:\n",
      "Purchase History:\n",
      "             asin                                              title\n",
      "12868  B000V1RBRS  Bob's Red Mill Pancake &amp; Waffle Mix Hi Fib...\n",
      "47070  B00BY6NN30  Yogi Tea, Cinnamon Vanilla Healthy Skin, 16 Co...\n",
      "\n",
      "Recommending:\n",
      "\n",
      "          asin                                              title\n",
      "0   B005ER1JI6  Life Cereal, Maple and Brown Sugar, 13-Ounce (...\n",
      "1   B001EQ5NLU  Spam with Real Hormel Bacon, 12 Ounce Can (Pac...\n",
      "2   B00286M6TW  Hormel  Compleats Beef Steak &amp; Peppers wit...\n",
      "3   B000EA2D9W  Billington's Natural Light Brown Muscovado Sug...\n",
      "4   B001E5E29A  Stonewall Kitchen Farmhouse Pancake and Waffle...\n",
      "5   B000MIFS3Y  Chef Boyardee Beef Ravioli, 14.25-Ounce Microw...\n",
      "6   B000EITYUU  Fine Ground Celtic Sea Salt &ndash; (1) 16 Oun...\n",
      "7   B002WTE0MQ                            Sunchang Gochujang 500g\n",
      "8   B000E5GFQE       Bragg Organic Sprinkle Seasoning 1.50 Ounces\n",
      "9   B000EF3E54  Crown Prince Natural Flat Fillets of Anchovies...\n",
      "10  B004UA52EU  Francesco Rinaldi Traditional Meat Pasta Sauce...\n",
      "11  B002PO3KBK  Fondarific Buttercream Antique White Fondant, ...\n",
      "12  B000NW9XNK  Jaipur Karhi, Organic Potato Dumplings in Spic...\n",
      "13  B001VNEICQ  Frontier Co-op Organic Korintje Cinnamon, Grou...\n",
      "14  B001CAV6V4   Underwood Chicken Spread, 4.25 Ounce (Pack of...\n",
      "15  B000CSKK5A  Orville Redenbacher's Gourmet Microwavable Pop...\n",
      "16  B0017U08SQ  Dr. McDougall's Right Foods Vegan Spring Onion...\n",
      "17  B004ZIEZMM  Marie Callender's Corn Muffin Mix, 7-Ounce Pou...\n",
      "18  B001N29O5G  Amarena Toschi Italian Black Cherries in Syrup...\n",
      "19  B000FFRTYK  Dr. McDougall's Right Foods Vegan Minestrone &...\n",
      "20  B002AISTA8        Konjac Foods Glucomannan Powder Bag, 500 g \n",
      "21  B000K7644E  Das Foods Hawaiian Alaea Sea Salt- Sea Salt 6 ...\n",
      "22  B000FFRTZO  Dr. McDougall's Right Foods Vegan Tamale Soup ...\n",
      "23  B001BCVDXO         Chef Boyardee Mini Ravioli, 15 oz, 24 Pack\n",
      "24  B000I3XOPM  The Spice Lab Hawaiian Red Alaea Medium Sea Sa...\n",
      "25  B003T0W5LK              DAK Premium Ham, Fully Cooked, 16 oz.\n",
      "26  B000JZ9ATS  Wrigley's Orbit Sugarfree Gum Variety Pack - 1...\n",
      "27  B0018JMP00  ICE BREAKERS ICE CUBES Chewing Gum, Sugar Free...\n",
      "28  B000LKU1VC  Pacific Natural Foods Organic Soup, Creamy Tom...\n",
      "29  B00271QQ7Q  Coombs Family Farms 100% Pure Organic Maple Sy...\n",
      "30  B002E36DPW  Ginger People Organic Crystallized Ginger Box ...\n",
      "31  B000NME632  York Peppermint Patties, 175-Count Changemaker...\n",
      "32  B001VNEBSC   Frontier Cinnamon Powder, Korintje (a Grade) ...\n",
      "33  B000LQJT5A  NongShim Neoguri Noodle, Spicy Seafood, 4.2 Ou...\n",
      "34  B001AY8VV0  Marutomo Katsuo Bonito Flake Hana, 16-Ounce Units\n",
      "35  B000LQNK6E  NongShim Shin Cup Noodle Soup, Gourmet Spicy, ...\n",
      "36  B001T8MDFW  Quaker Instant Oatmeal Fruit &amp; Cream, Vari...\n",
      "37  B0001590BY                           Lyle's Golden Syrup 454g\n",
      "38  B001VNGJ5K  Frontier Chopped White Onion, Allium Cepa, 16 ...\n",
      "39  B00653S7II               Queen Anne Cordial Blueberries,5.6oz\n",
      "40  B00286361O  Sun Maid Natural California Raisins, 4.5-Pound...\n",
      "41  B00555H0LC  Chocolate Hazelnut Butter by Justin's, Organic...\n",
      "42  B006GCMI5Q  Benson's - Table Tasty Salt Substitute - No Po...\n",
      "43  B0046H3190  Bella Sun Luci Dried Tomatoes Julienne-Cut, 3....\n",
      "44  B004DC9BCO  McVities Milk Chocolate Digestives, 10.5-Ounce...\n"
     ]
    }
   ],
   "source": [
    "retrieve_recommendations(train, top_ns_45)"
   ]
  },
  {
   "cell_type": "code",
   "execution_count": null,
   "id": "d558faae",
   "metadata": {},
   "outputs": [],
   "source": []
  }
 ],
 "metadata": {
  "kernelspec": {
   "display_name": "Python 3 (ipykernel)",
   "language": "python",
   "name": "python3"
  },
  "language_info": {
   "codemirror_mode": {
    "name": "ipython",
    "version": 3
   },
   "file_extension": ".py",
   "mimetype": "text/x-python",
   "name": "python",
   "nbconvert_exporter": "python",
   "pygments_lexer": "ipython3",
   "version": "3.9.6"
  }
 },
 "nbformat": 4,
 "nbformat_minor": 5
}
