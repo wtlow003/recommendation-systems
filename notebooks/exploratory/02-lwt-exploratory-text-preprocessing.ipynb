{
 "cells": [
  {
   "cell_type": "code",
   "execution_count": 1,
   "id": "54668b68",
   "metadata": {},
   "outputs": [
    {
     "name": "stderr",
     "output_type": "stream",
     "text": [
      "/Users/jensen/Desktop/recommendation-systems/projects/product-reviews-recommender/.venv/lib/python3.9/site-packages/gensim/similarities/__init__.py:15: UserWarning: The gensim.similarities.levenshtein submodule is disabled, because the optional Levenshtein package <https://pypi.org/project/python-Levenshtein/> is unavailable. Install Levenhstein (e.g. `pip install python-Levenshtein`) to suppress this warning.\n",
      "  warnings.warn(msg)\n"
     ]
    },
    {
     "name": "stdout",
     "output_type": "stream",
     "text": [
      "INFO: Pandarallel will run on 8 workers.\n",
      "INFO: Pandarallel will use standard multiprocessing data transfer (pipe) to transfer data between the main process and workers.\n"
     ]
    }
   ],
   "source": [
    "import numpy as np\n",
    "import pandas as pd\n",
    "\n",
    "import contractions\n",
    "import re\n",
    "from gensim.parsing.preprocessing import remove_stopwords\n",
    "from gensim.utils import simple_preprocess\n",
    "import nltk\n",
    "from nltk.corpus import stopwords\n",
    "from textblob import TextBlob\n",
    "\n",
    "from src.features.build_features import preprocess_text, lemmatize_with_postags, remove_missing_reviews\n",
    "from src.utilities.utilities import text_statistics, token_statistics\n",
    "\n",
    "from pandarallel import pandarallel\n",
    "from tqdm import tqdm\n",
    "\n",
    "import matplotlib.pyplot as plt\n",
    "import seaborn as sns\n",
    "\n",
    "tqdm.pandas()\n",
    "pandarallel.initialize()"
   ]
  },
  {
   "cell_type": "code",
   "execution_count": 2,
   "id": "ce807905",
   "metadata": {},
   "outputs": [],
   "source": [
    "# setting some CONSTANTs\n",
    "plt.style.use(['science'])\n",
    "plt.rcParams.update({\n",
    "    \"text.usetex\": False,\n",
    "    \"font.family\": \"serif\",   # specify font family here\n",
    "    \"font.serif\": [\"Palatino\"],  # specify font here\n",
    "    \"font.size\":12})"
   ]
  },
  {
   "cell_type": "markdown",
   "id": "ed965d62",
   "metadata": {},
   "source": [
    "# Exploratory Text Pre-processing"
   ]
  },
  {
   "cell_type": "code",
   "execution_count": 3,
   "id": "49d41d19",
   "metadata": {},
   "outputs": [],
   "source": [
    "CATEGORY = \"Pet_Supplies\""
   ]
  },
  {
   "cell_type": "code",
   "execution_count": 4,
   "id": "7a32f62f",
   "metadata": {},
   "outputs": [
    {
     "data": {
      "text/html": [
       "<div>\n",
       "<style scoped>\n",
       "    .dataframe tbody tr th:only-of-type {\n",
       "        vertical-align: middle;\n",
       "    }\n",
       "\n",
       "    .dataframe tbody tr th {\n",
       "        vertical-align: top;\n",
       "    }\n",
       "\n",
       "    .dataframe thead th {\n",
       "        text-align: right;\n",
       "    }\n",
       "</style>\n",
       "<table border=\"1\" class=\"dataframe\">\n",
       "  <thead>\n",
       "    <tr style=\"text-align: right;\">\n",
       "      <th></th>\n",
       "      <th>asin</th>\n",
       "      <th>title</th>\n",
       "      <th>categories</th>\n",
       "      <th>reviewerID</th>\n",
       "      <th>overall</th>\n",
       "      <th>reviewText</th>\n",
       "      <th>reviewTime</th>\n",
       "    </tr>\n",
       "  </thead>\n",
       "  <tbody>\n",
       "    <tr>\n",
       "      <th>0</th>\n",
       "      <td>1223000893</td>\n",
       "      <td>Cat Sitter DVD Trilogy - Vol 1, Vol 2 and Vol 3</td>\n",
       "      <td>[]</td>\n",
       "      <td>A14CK12J7C7JRK</td>\n",
       "      <td>3.0</td>\n",
       "      <td>I purchased the Trilogy with hoping my two cat...</td>\n",
       "      <td>01 12, 2011</td>\n",
       "    </tr>\n",
       "    <tr>\n",
       "      <th>1</th>\n",
       "      <td>1223000893</td>\n",
       "      <td>Cat Sitter DVD Trilogy - Vol 1, Vol 2 and Vol 3</td>\n",
       "      <td>[]</td>\n",
       "      <td>A39QHP5WLON5HV</td>\n",
       "      <td>5.0</td>\n",
       "      <td>There are usually one or more of my cats watch...</td>\n",
       "      <td>09 14, 2013</td>\n",
       "    </tr>\n",
       "    <tr>\n",
       "      <th>2</th>\n",
       "      <td>1223000893</td>\n",
       "      <td>Cat Sitter DVD Trilogy - Vol 1, Vol 2 and Vol 3</td>\n",
       "      <td>[]</td>\n",
       "      <td>A2CR37UY3VR7BN</td>\n",
       "      <td>4.0</td>\n",
       "      <td>I bought the triliogy and have tested out all ...</td>\n",
       "      <td>12 19, 2012</td>\n",
       "    </tr>\n",
       "    <tr>\n",
       "      <th>3</th>\n",
       "      <td>1223000893</td>\n",
       "      <td>Cat Sitter DVD Trilogy - Vol 1, Vol 2 and Vol 3</td>\n",
       "      <td>[]</td>\n",
       "      <td>A2A4COGL9VW2HY</td>\n",
       "      <td>4.0</td>\n",
       "      <td>My female kitty could care less about these vi...</td>\n",
       "      <td>05 12, 2011</td>\n",
       "    </tr>\n",
       "    <tr>\n",
       "      <th>4</th>\n",
       "      <td>1223000893</td>\n",
       "      <td>Cat Sitter DVD Trilogy - Vol 1, Vol 2 and Vol 3</td>\n",
       "      <td>[]</td>\n",
       "      <td>A2UBQA85NIGLHA</td>\n",
       "      <td>3.0</td>\n",
       "      <td>If I had gotten just volume two, I would have ...</td>\n",
       "      <td>03 5, 2012</td>\n",
       "    </tr>\n",
       "  </tbody>\n",
       "</table>\n",
       "</div>"
      ],
      "text/plain": [
       "         asin                                            title categories  \\\n",
       "0  1223000893  Cat Sitter DVD Trilogy - Vol 1, Vol 2 and Vol 3         []   \n",
       "1  1223000893  Cat Sitter DVD Trilogy - Vol 1, Vol 2 and Vol 3         []   \n",
       "2  1223000893  Cat Sitter DVD Trilogy - Vol 1, Vol 2 and Vol 3         []   \n",
       "3  1223000893  Cat Sitter DVD Trilogy - Vol 1, Vol 2 and Vol 3         []   \n",
       "4  1223000893  Cat Sitter DVD Trilogy - Vol 1, Vol 2 and Vol 3         []   \n",
       "\n",
       "       reviewerID  overall                                         reviewText  \\\n",
       "0  A14CK12J7C7JRK      3.0  I purchased the Trilogy with hoping my two cat...   \n",
       "1  A39QHP5WLON5HV      5.0  There are usually one or more of my cats watch...   \n",
       "2  A2CR37UY3VR7BN      4.0  I bought the triliogy and have tested out all ...   \n",
       "3  A2A4COGL9VW2HY      4.0  My female kitty could care less about these vi...   \n",
       "4  A2UBQA85NIGLHA      3.0  If I had gotten just volume two, I would have ...   \n",
       "\n",
       "    reviewTime  \n",
       "0  01 12, 2011  \n",
       "1  09 14, 2013  \n",
       "2  12 19, 2012  \n",
       "3  05 12, 2011  \n",
       "4   03 5, 2012  "
      ]
     },
     "execution_count": 4,
     "metadata": {},
     "output_type": "execute_result"
    }
   ],
   "source": [
    "# load dataset\n",
    "products = pd.read_csv(f\"data/interim/{CATEGORY}_merged.csv\")\n",
    "\n",
    "# check first 5 rows\n",
    "products.head()"
   ]
  },
  {
   "cell_type": "markdown",
   "id": "c173c084",
   "metadata": {},
   "source": [
    "## 1. Review Text Characteristics"
   ]
  },
  {
   "cell_type": "markdown",
   "id": "10cf2ac8",
   "metadata": {},
   "source": [
    "### What is the min/max and average review length?"
   ]
  },
  {
   "cell_type": "code",
   "execution_count": 5,
   "id": "5b35e8a7",
   "metadata": {},
   "outputs": [
    {
     "name": "stdout",
     "output_type": "stream",
     "text": [
      "Text statistics:\n",
      "\n",
      "Minimum `reviewText` length: 2 characters, 1 words.\n",
      "Maximum `reviewText` length: 15622 characters, 2652 words.\n",
      "Mean `reviewText` length: 458.63 characters, 87.44 words.\n",
      "Median `reviewText` length: 298.0 characters, 58.0 words.\n"
     ]
    }
   ],
   "source": [
    "text_statistics(products, 'reviewText')"
   ]
  },
  {
   "cell_type": "markdown",
   "id": "3a345c81",
   "metadata": {},
   "source": [
    "## 2. Text Pre-processing"
   ]
  },
  {
   "cell_type": "markdown",
   "id": "b5e85df6",
   "metadata": {},
   "source": [
    "### Expanding Contractions"
   ]
  },
  {
   "cell_type": "code",
   "execution_count": 6,
   "id": "c66be634",
   "metadata": {},
   "outputs": [],
   "source": [
    "products[\"processedReviewText\"] = products[\"reviewText\"].parallel_apply(lambda x: contractions.fix(x))"
   ]
  },
  {
   "cell_type": "code",
   "execution_count": 7,
   "id": "b9fd616c",
   "metadata": {},
   "outputs": [
    {
     "name": "stdout",
     "output_type": "stream",
     "text": [
      "Text statistics:\n",
      "\n",
      "Minimum `reviewText` length: 2 characters, 1 words.\n",
      "Maximum `reviewText` length: 15634 characters, 2656 words.\n",
      "Mean `reviewText` length: 460.72 characters, 88.91 words.\n",
      "Median `reviewText` length: 300.0 characters, 59.0 words.\n"
     ]
    }
   ],
   "source": [
    "# check statistics\n",
    "text_statistics(products, \"processedReviewText\")"
   ]
  },
  {
   "cell_type": "code",
   "execution_count": 8,
   "id": "8c117054",
   "metadata": {},
   "outputs": [
    {
     "name": "stdout",
     "output_type": "stream",
     "text": [
      "['My little Maltese loves this.  I put food into each one and cover it up.  He loves to push the circles off the holes to get to the food.  It is great for a picky eater.  He thinks it is fun and eats!  It would also be good for a fast eater to slow them down.', \"When our cat was a kitten she LOVED the 'Turbo Scratcher'. Over the years she is worn out the pads.These pads are a perfect fit!I periodically sprinkle catnip underneath the pad.We also use the lighted 'StarChaser Replacement Ball' in the Turbo Toy which helps capture kitty's attention :)\", 'Well first off the little black grips that go over the wire ends to keep from scratching the well always fall off. I gave up and just put a little tape over the sharp edge. Second my cats are able to break the mouse from the string easily and do so about once a week. I re attach the toy part by tying the strings back together. That being said the cats freaking love this thing. I would give it five stars if it were not so irritating to have to fix it all the time but the cats would give it five stars for sure.', \"We finally found the perfect bird for me (have not had birds since I was a kid and grew up with parrots--22 of them at one point!)--Conner, a green cheek pineapple conure. I learned that a lot of things have changed in bird toys over the years (about 17 years now) since I had birds, and a lot of toys are very much the same--my kids are grown, but both still live at home--and we have all been picking out bird toys for Conner. I knew to avoid the cheap hard plastic toys, because they really are not safe for birds--their beaks can break them and they can be pointy and sharp when that happens.So the kabobs were a safe, soft toy that would encourage a foraging type of chewing and beaking. The pet store recommended the kabobs. The manager said birds love to chew on them. Well, I almost did not buy one, because they are so plain and boring looking. I did not remember ever having them with our other birds, or even seeing them in the stores when we bought things for our birds years ago. But somehow, a small kabob ended up in the basket and we went ahead and put it in Conner's cage. All the other toys looked so much more colorful and pretty and so the eye tends to want those really pretty things for your bird, right? Well, the kabob is so deceptive--and as inexpensive as they are, you should really consider getting one and trying it on your bird--just to see. Every bird is different, and they will not all like the same things, but my Conner...he loves his kabob!When I first put it in there, he did not really do much with it. But within a few minutes, and that is fast in bird terms for something new in a cage, he attacked that kabob and had one of the discs (do not know what else to call them--they are individual little circular discs, stacked and held together by woody string) and he tore the first disc up really fast. Then, he is worked on it solidly now for about a week. he is pecked into some of the bottom discs a little, but he is managed to completely obliterate the top three discs. He also has managed to peck at the string and untie it, so we had to secure it really tightly to keep him from doing that (he did it several times, and the string is easy to untie--which is good, because it makes it easy to take off the cage when the discs are gone).Also, Conner does not make a really big mess with it either. We have it tied on the side of the cage, where it could potentially make a big mess on the floor, but it does not. I do not know what he does with the crumbles--maybe he eats some? but there are some small crumbles on the bottom of the cage. Even so, it is not a messy toy. He just really likes it. And they are light enough he will pick it up with his birdie hand and shake it, climb on it, and more. For a 'bland-looking' toy, he sure gets a lot of mileage out of it, especially for the price.We will probably make sure, as inexpensive as they are, to always have a kabob in various sizes in the cage for Conner. He just loves it, even more than the bright and colorful toys we got for him. Like I said, for the inexpensive price, it is well worth the cost to give it a try.\", 'Beware: if you are ordering this product for a soccer (proper football) lover, you may not get a soccer ball. I received a red and white pseudo-basketball. The tag said \"soccer ball\" too so the manufacturer is clearly not an athlete/sportsman.At $4, I did not bother returning it, but be forewarned: you may not receive a soccer ball!', 'I have large dogs and two of them just love those. Amazingly they do last a long time. Its still in one piece...', 'It works... Positive feedback!  I have several different premier clickers. Amazon offers books on the training with this method and other styles of clickers. When you get to one of the steps it helps to have this design to sort of hide it.', 'as mentioned in other reviews the hood does not stay up by itself. learn if that is something your pet likes (do they hide under covers or do they prefer to be in shelters). if they do not like being under covers it is going to be hard to convince them this is for them. in addition, the bed kind of sags when the pet gets in, in my opinion making it an even harder sell for the pet.', 'My dogs did love these right off the bat but got tired of them within a couple days.  Even after I put them away for a while and then re-introduced these, my two dogs (60lb shephard/lab mixes) did not feel all too keen on them over time.  They chew through many things like their life depends on it so I purchased these rings due to their durability.  However, the nylabone material hardens and becomes very \"spiky\" that gets caught in my pups\\' teeth when ripped off and punctures my skin when accidentally stepped on.', 'Out dog loves this toy! it is the perfect size for her (she is 18 lbs). Not sure if she is figured out that the ball is attached to the rope but she drags this around the house and keeps her busy for a good amount of time.', 'but it is extremely tiny. I put some in the aquarium to feed my cichlids, but I do not think they could see it. I think my fish are too big for this tiny food. They go after a larger pellet immediately.', 'Made my dogs breath fresh but these were a little too small for even my Shih Tzus & Pekinese - I was scared they would choke on them.  I would recommend the company not making them so small and just sticking with the medium ones.', 'The screw that held the two different post sections together was missing, and seeing as how I did not care to wait for a replacement, my husband rigged it to work. I have two kittens that are 3-4 months. One took to it immediately and loves to put her claws all over it. They were both very mesmerized by the ball for a long while ( which somehow stayed attached despite their tugging). So, you definitely cannot beat the price! It actually seems/feels well made too.', \"The promotional video starts buy the girl saying sit repeatedly while pulling up on the dog's leash. This is what the company considers an obedient dog?\", 'Great sturdy product and very cute. My dog just loves to chew, play and wag this around in her mouth. I would highly recommend this for any small puppy.', 'it is really a great toy. It has an adjustment for the difficulty and it is easy enough to clean. My pup personally LOVES it. If you have got a dog who gets bored when you are away, or a dog who needs constant engagement, this is a great toy to introduce. Just stuff it with their favorite treat and let them have at it.', 'Dog still sheds like crazy but the product smells good. I would not buy it again and I do not recommend it for what it is advertised to do.', 'This is a great toy for the agressive chewers.Just make sure that you discard whenever the edges become frayed.', 'When you blow into the whistle it makes an easily audible sound.  I returned it because I really wanted an unobtrusive and silent whistle to communicate with my working pup.', 'this is cute and it fits on my XXL lab but only because the strap holds it in place. On a smaller dog (60lbs) it might actually fit on the head and the strap is adjustable. I wish the strap were not so bright white but photoshop can fix it ok...', 'This product is of great quality. I like the fact that the bottle does not contain plastic and the fish oil comes from pure waters of Iceland. My dogs love the taste. Their hair looks very nice.', 'Bags do their job well. Glad I bought in bulk, do not have to worry about running out for a while.', 'These look nice and are not too difficult to get into the window seal, but putting the window down and then back up makes them come dislodged.  Disappointing since the main reason I take the dogs on rides is so they can get some air.  I may try to rig them differently and see if they stay.  Will update review upon any success.', \"This toy is one of my Standard Poodle's favorites. She loves Mr. Bill and his mournful, &#34;oh no.&#34;  She likes to carry Bill around and make him talk to her. It is well made and a good toy for SNL lovers.\", 'I have a 50 foot aquarium Python, but some days I just want to change the 20 gallon tank.  This smaller version is easy to use, convenient to store, and gets the job done.  Thank you.']\n"
     ]
    }
   ],
   "source": [
    "print([i for i in products.sample(25)[\"processedReviewText\"].values.tolist()])"
   ]
  },
  {
   "cell_type": "markdown",
   "id": "4fe6924e",
   "metadata": {},
   "source": [
    "### Removing Special Characters"
   ]
  },
  {
   "cell_type": "code",
   "execution_count": 9,
   "id": "ce07b913",
   "metadata": {},
   "outputs": [],
   "source": [
    "products[\"processedReviewText\"] = products[\"processedReviewText\"].parallel_apply(lambda x: \" \".join(str(x).splitlines()))\n",
    "products[\"processedReviewText\"] = products[\"processedReviewText\"].parallel_apply(lambda x: re.sub(r\"[^a-zA-Z]+\", ' ', x.lower()))"
   ]
  },
  {
   "cell_type": "code",
   "execution_count": 10,
   "id": "29f5790b",
   "metadata": {},
   "outputs": [
    {
     "name": "stdout",
     "output_type": "stream",
     "text": [
      "Text statistics:\n",
      "\n",
      "Minimum `reviewText` length: 2 characters, 1 words.\n",
      "Maximum `reviewText` length: 14681 characters, 2672 words.\n",
      "Mean `reviewText` length: 446.29 characters, 89.14 words.\n",
      "Median `reviewText` length: 291.0 characters, 59.0 words.\n"
     ]
    }
   ],
   "source": [
    "# check statistics\n",
    "text_statistics(products, \"processedReviewText\")"
   ]
  },
  {
   "cell_type": "code",
   "execution_count": 11,
   "id": "f1460af5",
   "metadata": {},
   "outputs": [
    {
     "name": "stdout",
     "output_type": "stream",
     "text": [
      "['i bought this to give my guinea pigs a change from timothy hay they loved it ate it up very quickly got excited and whistled and popcorned when i was filling the hay ball even liked eating it from my hand guinea pigs should only eat timothy hay or orchard grass i am very happy that this is available to keep their diet from getting monotonous ', 'i gave this ball to a friend who has a great dane pup and she loves it big dogs need big toys and toys that they cannot destroy in short order are hard to find this is the right size for her and as tough as she is ', 'though this product is well made and attractive it is definitely not small i have a canary who never uses it because it is so big and bulky ', 'dogs love this chew toy its thier favorite there is a squeeker in it also which makes it even better ', 'my gerbil inky loves this cage and i do too but for a few reasons i do not good stuff gerbil loved cagei do not have to clean petting zone often inky does not use it muchwater bottle is easy to get on plus easy for gerbil to reachplenty of extra space to put toys and hideouts ininky loves the wheel and can easily access itproblems poop flew out of wheel when she ran on itshe brought food into the wheel and made an awful rattling noise when she ran on itinky chewed up about inches up the spiral staircase but this was before i bought her chew toys so she does not usually mess with it anymore inky built nests and tunnels all over the bottom level bar space was about inch wide and she made a huge mess of aspen shavings on the floor from kicking it out to burrow only the wheel glows in the dark and it is very faint it is a good cage but i suggest not having the small holes in the wheel as the poop goes everywhere as well as urine and pieces of shredded food ', 'these leashes are very beautifully made i have purchased signature k leashes in the past and discovered another use for them i just purchased a new jeep wrangler and was dismayed to find that when you put the back seat up which is where i keep my dog on long trips there was nothing to secure the seat so that if there was a sudden stop the seat could fall back i tried my dogs k leash to hold it up and it worked perfectly there are little metal rings that are on the top of the actual seat part when folded up i wrapped the leash around the side corner of the top roll bar by pulling the leash through the handle loop of the leash forming a slip knot and attached the lock of the leash to the metal rings on the seat this foot leash works perfectly i purchased for each side of the seat and extra to keep in the car for the dog the leash is easily and quickly unattached by unlocking the leash to put the seats back down the black leather is so attractive and the gold hardware so beautiful that there is no need to take them out or off of the roll bar they just hang down next to the roll bar unnoticed till needed again the leather is strong and survived my dog s teething puppy stage beautiful leash and multi tasking ', 'no one wants pet hair all over their clothes or furniture or bed sheets my cat sleeps with me this works wonders quick reliable easy to remove the hair it picks up and it is inexpensive i have discovered that as it ages the material will crumble but that just means it is time to replace it at the price one or more a year does not make a huge budget impact ', 'two of these pockets each day help the mg tabs of lyseine go into the kitty without the human being torn to shreds thank you ', 'my enthusiastic chewer has barely put a dent in his dinosaur after a month of chewing unfortunately my vet does not recommend this type of toy as it may break his teeth so i will not buy another one luckily it looks like this one will last forever ', 'so what well one kitten is blind she took one step onto the thing and just madly clawed at it started flipping around and army crawling through the center the other cat has severe ch cerebellar hypoplasia he cannot walk and he was thrilled to just jiggle around the outside of it and paw at it i would say if you have a kitten this is a must buy if you have a playful cat this is probably a must buy if you have a lazy and unamused cat this probably will not revive him it is a cat scratcher not a miracle worker ', 'we have a longish haired wriggly puppy who was getting a bit too matted and does not like being combed we ordered this and to be honest i did not expect much but it works like a charm the puppy is now dematted and his coat is so much softer and cleaner it is really wonderful this is incredible value for it is effectiveness and one of the best purchases we made for the dog after combing him with this i then sprinkle some baby powder on him he is got a white coat and brush it out and now he is soft and sweet smelling makes grooming much much easier ', 'i could not resist this toy for my dog mostly because it is so cute but also because of the price i also kind of like the surprise of not knowing what you will get we received a brontosaurus my puppy loves it carries it everywhere and it keeps her from chewing the furniture i would definitely purchase again and certainly recommend it for any chewy puppy parents cannot go wrong with nylabone ', 'i have one cat who can only eat soft food because of teeth problems and this is the only food she consistently eats price is very competitive when you can get it for under can ', 'still best cat litter available the metal scooper is recommended because this stuff really clumps after awhile your plastic one will bend found it cheaper at petsmart and there are off coupons on the manufacturers website you can print', 'my pitbull girl loves the nylanone monster chicken flavor she bears down and applies intense pressure to this nylabone and it stil lasts for about two months it is a great choice at a great price since she decimates even the largest rawhide bones thanks again nylabone my only negative comment is that i wish it was available direct from amazon instead of one of its partners since the shipping is expensive ', 'dog loves to make sounds with this even if we are not playing fetch with ball my dog will actually drop and pick up just to make it squeak and carry it around in her mouth i have the medium and large size for my pound australian labradoodle i believe she likes the medium size best great toy ', 'i orderd these for my indoor pets in case something happens and they get out they came exactly how i wanted them and are so lightweight even the ferrets and rabbit do not notice them ', 'i have a little yorkie who plays with this every morning i put a cup of his food in this and he has so much fun playing and eating highly recommend for anyone with a super energetic pup or someone who wants to prevent their dog from eating their food too fast it is also dishwasher safe ', 'purchased it twice so i could use it on another tank best in the business right here and i would highly recommend to anyone took weeks to cycle a gallon aquarium use as directed and you will be fine ', 'fits great in the back on a bar jeep places for holding stuff great size nice design easily slips in and out for cleaning ', 'shipom male loves his extreme kong it is heavy but he loves it he will destuff it and spend a few minutes chewing on it he does not chew for long just because of the weight of it ', 'my kitty loved these flippers the first few days he seems to get bored with toys when the new wears off but he does still play with them some especially when i hide them under the edge of the area rug i do like these though because he chews on his toys that are not made for chewing but ignores his chew toys these are a nice thick rubbery material so i do not have to worry about him eating them ', 'we waited too long to neuter and i was so upset that i was going to be constantly cleaning the dog beds and scrubbing and disinfecting different areas of my house well feliway made a huge difference we have no peeing in the house and since using the spray that you can get to use in addition to the diffusers we have been able to reintroduce all our dog beds whew this stuff is not cheap but we were amazed at the difference this made i actually think that i will not have to use it forever we are about months post neutering if the good habits continue we will gradually discontinue the spraying of the dog beds and then one by one remove the infusers note after neutering without the spray we tried to reintroduce a dog bed the cat peed on it almost instantly with the spray he does not care a thing about them ', 'my cat loves using combing himself whenever he wants its a must get item for the feline lovers i highly recommend best used of flat or angled corner walls ', 'received promptly and engraving is correct i got the large size and my puppy will grow to lbs we will see how durable it is up date informed company the color came off and they promptly replaced tag without my request for replacement replacement was done within a week of informing them of color loss very impressed thank you']\n"
     ]
    }
   ],
   "source": [
    "print([i for i in products.sample(25)[\"processedReviewText\"].values.tolist()])"
   ]
  },
  {
   "cell_type": "markdown",
   "id": "1fa32b99",
   "metadata": {},
   "source": [
    "### Lower Case"
   ]
  },
  {
   "cell_type": "code",
   "execution_count": 12,
   "id": "5b084cde",
   "metadata": {},
   "outputs": [],
   "source": [
    "products[\"processedReviewText\"] = products[\"processedReviewText\"].parallel_apply(lambda x: x.lower())"
   ]
  },
  {
   "cell_type": "code",
   "execution_count": 13,
   "id": "886070de",
   "metadata": {},
   "outputs": [
    {
     "name": "stdout",
     "output_type": "stream",
     "text": [
      "Text statistics:\n",
      "\n",
      "Minimum `reviewText` length: 2 characters, 1 words.\n",
      "Maximum `reviewText` length: 14681 characters, 2672 words.\n",
      "Mean `reviewText` length: 446.29 characters, 89.14 words.\n",
      "Median `reviewText` length: 291.0 characters, 59.0 words.\n"
     ]
    }
   ],
   "source": [
    "# check statistics\n",
    "text_statistics(products, \"processedReviewText\")"
   ]
  },
  {
   "cell_type": "code",
   "execution_count": 14,
   "id": "308bc854",
   "metadata": {},
   "outputs": [
    {
     "name": "stdout",
     "output_type": "stream",
     "text": [
      "['well the cats love the juice the veggies and the very small turkey bits but the chunks of turkey get left on the plates and thrown away is it just my cats or do most cats like a finer grind i would like to give this a higher rating because of the ingredients but the waste tarnishes that opinion ', 'i bought this for my cat because he grew out of his old one it is cute and very durable ', 'i replied to another review about these types of toys prior to receiving this skunk giving this brand a very positive review in my reply to another customer s review when the skunk arrived i was shocked at the poor quality of the toy immediately i went to my dog s folder and pulled out the cardboard that had been attached to her fox and her raccoon that is when i realized that this was not the same brand that i had previously purchased her toys are by a company called crazy critters i purchased it at meijers a super grocery store and the cardboard indicates in a red box in the upper right hand corner as seen on tv she loves these toys and has been carrying them around in her mouth for about a year the squeaker in the tail of both was chewed out within a day or two so it may be worth removing the tail squeaker and leaving in the head squeaker looking at the skinneeez i can see how a number of dogs have ingested this toy i did not give the skinneeez to my smooth coat collie and would never recommend giving the skinneeez to any dog the material looks very thin and like it can easily be torn ', 'my ferrets love this stuff only this i tried another salmon oil when i last ran out and they thought it was gross their coats are soft from it and a drop on their belly distracts them for nail clipping hate that the price went up bucks but still worth it ', 'i really like how the dispenser attaches to the leash so i always have a poopsack i bought compostible refills be sure to get the kind that dispense from the bottom ', 'my guinea pigs love love love timothy hay it is also very important for a guinea pig s diet since they need a lot of roughage from past experience also very good for rabbits i would definitely recommend timothy hay to anyone getting a guinea pig or rabbit the brand kaytee has always been a nice brand to go to for timothy hay as well ', 'the aka barn cat barney is a large cat lbs from rescue and he eats a lot so he naturally needs to potty a lot the extra storage space lasts days longer than previous ', 'a very nice dog feeder and works awesome if my dog would ever learn how to use it he is scared of the swinging door any suggestions ', 'the heat is hard on the bunnies we have several bottles for them this one is good because you can fit ice inside and the water stays cooler for the day ', 'dogs go wild for these and they are made in the you s with no soy wheat or other nasty allergens the only thing you might not like is that these are not strips as in the jerky strips that others sell these are compressed little briquettes that you can break apart for tiny training treats ', 'not as good as the cat man doo brand according to my cat he almost knocks me over for those these he eats but i can tell that he does not like them as well as the other brand i will likely go back to that brand even though it cost a bit more ', 'neither of the bottles that i purchased leak and i do not have to refill them more than once a day as long as they are washed daily they work very well ', 'i like it but its extremely loud it sounds like something is rubbing against something i clean the filter every week ', 'i got this after watching my cat from hell animal planet netflix along with da bird guinea feather refills i have two males with too much energy and a female with low self esteem that they gang up on all three go batshiz crazy for this toy even the female who is years old and rarely playful turns into a lioness and loses her mind over this mins of playtime and they are tired for the rest of the night ', 'cats loved it only problem was that they figured out they could stand up and put their head through the top to get any treats on the top level other than that they have figured out how it works and look forward to hearing the sound of my adding food i would keep it at the hardest level since they figure it out pretty quickly and the treats food are gone within minutes ', 'my miniature schnauzer loves this toy this is my second one buying not because it broke because it has gotten so nasty he drags it with him everywhere we have to make him drop this toy the only downside is if you have hardware floors this toy will scratch them so be careful my boxer likes this toy as well but not as much because her teeth are alot smaller i would recommend it for a dog with bigger teeth i have noticed an improvement in his gum strength i have had to brush his teeth less since getting this toy and he loves it i cannot say enough how much my dog loves this toy also while crate training he used to chew his bed but once we got this toy he has not touched his bed if we leave his toy out of his crate his bed is chewed again life saver love nylabone love this dinosaur ', 'these filters fit the fountain i have and seem to do the job they are expensive though and i tend to leave them in a bit longer than suggested to overcome that cost ', 'my dog does not have any fleas she is a small dog but the upgrade to the pound size made a significant difference yay ', 'my dogs love this toy as a fetch toy or to chew on i love it as well only thing is with larger more aggressive chewers they can tear it ', 'brownie likes these and they are really cheap compared to other skin and coat treats there is in a bag but small dogs only need half a day so this bag will last me months sweet deal ', 'quote ziggy on this bone my pound boxer pit mix is a fan it is no stick or real bone but it seems to be the next best thing he is been chewing on it on and off for a few weeks and has not gotten far which is nice i guess he likes the different textures and shapes but i cannot telepathically talk to the pooch so i just take the chew marks for what they are it does not smell and it does not get slimy weeks of him chewing on it and it is still in great shape so it is lasting a while too ', 'definitey can not go wrong with nylabone can keep your dog busy for hours and are good for their teeth as well reccommend for people who have dogs who are heavy chewers', 'i bought these because my friend told me how much her pups love them that they are much safer than rawhide and last longer they did go over with my dogs however they brought out their prey drive and caused them to be aggressive towards eachother they never actually chewed them they just guarded them two of the dogs attacked each other i guess for getting too close and my other very large dog growled and lunged at us when we got to close we had to coax them away from these the seller was wonderful i called him with my concerns he returned my call right away and sent me a full refund i would absolutely do business again with this company perhaps in the future we can try these again ', 'this product is great especially when you have two cats controls the order which is wonderful will continue to use', 'we usually never have fleas but we do not want to risk it and do not want to spend so much on frontline have not had a flea or tick on the dogs yet been using this all summer now even have been giving baths to the dogs week after use ']\n"
     ]
    }
   ],
   "source": [
    "print([i for i in products.sample(25)[\"processedReviewText\"].values.tolist()])"
   ]
  },
  {
   "cell_type": "markdown",
   "id": "e6dc7093",
   "metadata": {},
   "source": [
    "### Lemmatization"
   ]
  },
  {
   "cell_type": "code",
   "execution_count": 15,
   "id": "3443276d",
   "metadata": {},
   "outputs": [],
   "source": [
    "def lemmatize_with_postags(sentence):\n",
    "    \"\"\"Lemmatize a given sentence based on given POS tags.\n",
    "        Ref: https://www.machinelearningplus.com/nlp/lemmatization-examples-python/#comparingnltktextblobspacypatternandstanfordcorenlp\n",
    "\n",
    "    Args:\n",
    "        sentence ([type]): [description]\n",
    "\n",
    "    Returns:\n",
    "        [type]: [description]\n",
    "    \"\"\"\n",
    "    sent = TextBlob(sentence)\n",
    "    tag_dict = {\"J\": \"a\", \"N\": \"n\", \"V\": \"v\", \"R\": \"r\"}\n",
    "    words_and_tags = [(w, tag_dict.get(pos[0], \"n\")) for w, pos in sent.tags]\n",
    "    lemmatized_list = [wd.lemmatize(tag) for wd, tag in words_and_tags]\n",
    "\n",
    "    return \" \".join(lemmatized_list)"
   ]
  },
  {
   "cell_type": "code",
   "execution_count": 16,
   "id": "4e6ccb95",
   "metadata": {},
   "outputs": [
    {
     "name": "stdout",
     "output_type": "stream",
     "text": [
      "CPU times: user 232 ms, sys: 294 ms, total: 527 ms\n",
      "Wall time: 2min 29s\n"
     ]
    }
   ],
   "source": [
    "%%time\n",
    "products[\"processedReviewText\"] = products[\"processedReviewText\"].parallel_apply(lambda x: lemmatize_with_postags(x))"
   ]
  },
  {
   "cell_type": "code",
   "execution_count": 17,
   "id": "7c9f696a",
   "metadata": {},
   "outputs": [
    {
     "name": "stdout",
     "output_type": "stream",
     "text": [
      "Text statistics:\n",
      "\n",
      "Minimum `reviewText` length: 2 characters, 1 words.\n",
      "Maximum `reviewText` length: 13993 characters, 2673 words.\n",
      "Mean `reviewText` length: 428.19 characters, 89.23 words.\n",
      "Median `reviewText` length: 278.0 characters, 59.0 words.\n"
     ]
    }
   ],
   "source": [
    "# check statistics\n",
    "text_statistics(products, \"processedReviewText\")"
   ]
  },
  {
   "cell_type": "code",
   "execution_count": 18,
   "id": "e6411698",
   "metadata": {},
   "outputs": [
    {
     "name": "stdout",
     "output_type": "stream",
     "text": [
      "['this be one of the few chew toy my lab can not destroy she give it the old college try but could not rip it to shred needless to say i be happy', 'item a described i have be use this product on my dog for a long time and they have not have an ear infection since i start use it be recommend by my vet good investment', 'i buy a bag of the sojos dog food for my golden retriever on amazon recently and on a whim pick up a tin of catnip for some friend who be visit from out of town their cat be senior and have try many type of catnip over the year this be an excerpt of the e mail i receive from my friend when they get home and give their cat the sojos catnip i have never see the cat respond to catnip the way they do to the tin you give me they be fight over it like i have just lay out a tray of mouse and still wriggle tuna i have to get out a second plate just to keep the yowl down and after they go outside and roll in the dirt for several hour purr and completely stone i bring a plate out with a little left and the picture of lt name omit show how much she like roll all over that as well now i be try to think of who else i know with cat that i could give this to at christmas', 'i buy it on sale from amazon first off the temp reading seem stick at f then while adjust within the tank the tip lightly bump against the wall and break i be not sure if i get all the piece out not a good purchase', 'our little dog love these treat all of the wellness line appeal to her at least all the one we have use i highly recommend these treat they be truly healthy and make her happy', 'it be not perfect my long haired collie still bark but it be certainly well with the collar than without it also seem to work well when she have a summer hair cut a the metal probe can reach her skin more easily the other drawback of this collar be that the on off set button be annoy old model have a dial you could turn on this model you push and hold a little button for second let go and the setting change for example to change from correction level to you have to press and hold the button for sec then let go if you want correction level you have to do it again after correction level press the button and release take you to test mode then you can press it again to turn it off cycle through all of these setting be slow and frustrate especially since you might release the button too soon set do not change or you might hold it in too long tip i have discover a trick that i be not sure be explain in the instruction you can avoid cycle through all of these level if e g your dog always need correction level when you be ready to turn the collar off press and keep hold the button until you see if flash green and then red do not let go after it flash green when it flash red the unit be off to turn it back on press the button twice and it will automatically take you back to the level you use last if i have not discover this feature of the collar i think i would have give up on it a long time ago overall i would still buy this collar i trust the brand in term of my pet s safety i just wish it be more effective at curb the barking and that it be not so annoy to use', 'i do not know what i do wrong by my dog and cat seem to have ear problem despite not have mite and be on topical preventative in any event they do get issue and when i use this otic with hydrocortisone it seem to take care of it within a couple of day they initially will shake their head more and they do not like the application process if i even go into the room i keep it in they scatter but eventually it loosen stuff up help with the itching and their ear get good', 'unfortunately these ribbon be not make very well i try pull the rubberband open to tie the bow in my puppy s hair and the bow would untie itself and i would be stick with piece i try about of them', 'shechem purigen be expensive but it be great completely replace carbon i be not new to this product i use it with my fluvals recharge it with bleach every few mths i do not suggest buy the bulk container because the ml bag be so well make easily recharge my tank stay well balance without much maintenance thanks to purigen', 'so this be the second iams dog food i have try that i have like and that make two out of all the iams food we have explore that pas muster in this family the ingredient in this particular iams product be a good solid mix and it be terrific that it be grain free it cause no stomach or skin problem for our senior labrador he enjoy it thoroughly so it pass the taste test a well the only downside i see lie in the price point and small bag size our dog be pound and laugh at a bag of food and even a bag of food that be snackage weight seriously this be not a cost effective food for u to use long term the food we buy from pet store come in bag double that size have good ingredient and come in same or slightly high price pound we buy when on sale and buy big make them a good value for our family if we have a small dog this would not be such an issue', 'my dog miniature poodle and mo love these this puppy one be nice and soft for the baby but still toothsome enough for an adult dog i often find one of the other one have snake the baby s kong also an appropriate size for a pup time for cheesy cheese aerosol cheese brings them all fly to their crate for a nice slurp and chew and a cozy rest dishwasher safe top rack last forever your dog need one the classic dog toy mb', 'perfect size it fit nicely on my cat can food i hate put regular plastic wrap over the can these cover stay put and seal can nicely i have search through other can cover and saw others have complain that they do not fit they be the exact color which do come in handy', 'it be less expensive and the cat get use to it but if i could buy a real good cat food i would definitely consider other product', 'some day my dog be willing to take it all right and sometimes she glare at me for not offer her a good treat a a vitamin i think it be all right it would probably be go down more reliably if i try dip it in people food or something but since i be okay with her just take it sometimes i do not worry about it too much when she do not want it mostly i try to make sure she be eat decent food that should provide for most of her need but occasionally supplement it with a vitamin seem to be a good way to sneak a little extra in for the sake of cover gap this be fine for that purpose not outstanding but not a huge ordeal to give her either', 'if you have cat urine smell in your carpet you need to rid it of the protein of the urine or you will never get rid of that smell every rainly day you will still smell that urine even if you rent or purchase a very expensive carpet cleaner in fact we do some research and find that a steamer can make thing bad by set the smell in we use a spot bot for daily cleaning but the room the cat be mess in start to smell bad we purchase this light to shine on the carpet find the urine spot and then use a power pump sprayer with an enzyme base pet cleaner to apply we just spray on and let it dry for a week or however long it take the light allow u to see the stain spot very very well i do not understand the one post that state they could hardly see the stain because we saw them very clearly our carpet have some thread in it that give u a sprinkling of light consistent throughout but it be very easy to see spot that you could not see at all in regular light so far so good after we use the light and enzyme we rent a carpet cleaner add only water and a little vinegar about a cup and thoroughly rinced the carpet it cost only to rent no soap or extra need last we follow our research tip and dowse the area with sented bake soda it really work we finally get the smell out if there be any negative with this light i will edit my post here good luck', 'buy two of these for our two little dog size chart work just fine product have last for year with no problem', 'our new puppy pitbull be teethe and this be a nice kong to have for him this be not really his favorite toy but he do play with it at time for the price i can not complain', 'my dog love this toothpaste so much she actually come back to me for more of course she still hat have her teeth brush i mean who like have a toothbrush shove in their mouth anyway but see her actually want to lick or be anywhere near a toothbrush let alone go back for more be something i truly appreciate the poultry flavor make my dog happy and the veterinarian approve enzymatic toothpaste make me happy this stuff really make the whole teeth brush process so much easy excellent amount of product for the price it be out of stock at the time i purchase it so it take a few week to arrive amazon kept me notify through email and as soon a they restock i be email promptly and receive the product two day later through amazon prime overall very pleased with product and service', 'it take a few time but my yorkies have learn to head the other way the first week i use both the horn spray now i just use the horn place righi t at thier choice place to go rather than thier pad i be glad i saw this on tv follow up on it it be good for dog as well a cat recomend seller for promptness safe ship recommend product however a bit pricy if you need it in several place', 'i use other brand and the step be too big enough to play with water so i choose this product so far so good because the hold be small my cat can not touch the toilet water so he learn water here be not for play still minor problem be exist but it be only catsonal problem the product be good some people complain it be very hard to cut the line but if you think about the cat over lbs it should have enough strength to stay', 'i order size largei ve be through a lot of clipper most of them just can not handle tough dog nail for long this pair however have serve me very well for my dog a medium size aussie mix tip the hook off cat claw and it even make short work on my cockatoo s nail before he even realize what be happen if you have ever have to trim a cockatoo s nail you know what a big deal this be they can just eat your finger off with a chomp i will not hesitate to ever recommend these to anyone ever i will never buy el cheapos from the local pet store again update somehow somewhere my clipper have be misplace yeah sure i could go to one of the local pet store and find some junky clipper but no i order another pair of these nothing else will do once you have a quality tool that make clean fast stressless work of nail trim', 'i like purina it be make in america and the sensitive stomach and skin have pretty much literally save izzy s life when we adopt her she have issue and we try pretty much everything holistic food high end premium food make her food nothing work she have colitis and the doggie version of ibs finally after a thanksgiving time visit to the vet to get her fluid he suggest purina and it be be nothing short of a miracle this make give her treat interest and enter chef michael the large puffy chicken nugget look thing while an odd texture make a great treat so do the veggie izzy love this stuff and think she be get a real reward when she be really get good for her dog food food she can keep down and do not give her horrible mucous run', 'my cat like these but not anymore than the other greenies treat these cost over twice as much a say chicken or tuna so i be hop they would be special one of my cat do not like them at all but other do i would buy them again but only if the price go way down', 'i buy this pouch along with several other wet cat food brand to see which one my picky cat who eat more dry food than wet would like and i have to say this one beat the others hand down because it be real shredded chicken piece in a small amount of liquid my cat could not really tell the difference between this and regular chicken the one benefit this have over regular chicken be that it be a balanced diet that have all the nutrient adult cat need and be aafco approved needle to say it be go within a minute or two i will need to try weruva s other flavor and get more of the pumpkin lickin chicken for my baby', 'my kitten java love to play fetch with small toy and he have dozen of them in vary shape size and texture whenever company be come over i shove them all in this hidey hole box and hide it away then when i bring it out again java spends hour pull them all out attack it from all side and hide them inside again my old cat pay little attention unless there be a catnip toy inside but kitten seem to love it it be very heavy and well make and i have love every product i have purchase from this brand it be not cheap but it be worth the price you could not destroy it without a sledgehammer or a fire']\n"
     ]
    }
   ],
   "source": [
    "print([i for i in products.sample(25)[\"processedReviewText\"].values.tolist()])"
   ]
  },
  {
   "cell_type": "markdown",
   "id": "c3c02423",
   "metadata": {},
   "source": [
    "### Remove Stop Words"
   ]
  },
  {
   "cell_type": "code",
   "execution_count": 19,
   "id": "29f87a9b",
   "metadata": {},
   "outputs": [],
   "source": [
    "products[\"processedReviewText\"] = products[\"processedReviewText\"].parallel_apply(lambda x: remove_stopwords(x))"
   ]
  },
  {
   "cell_type": "code",
   "execution_count": 20,
   "id": "2f07f920",
   "metadata": {},
   "outputs": [
    {
     "name": "stdout",
     "output_type": "stream",
     "text": [
      "Text statistics:\n",
      "\n",
      "Minimum `reviewText` length: 0 characters, 0 words.\n",
      "Maximum `reviewText` length: 8449 characters, 1302 words.\n",
      "Mean `reviewText` length: 211.34 characters, 34.45 words.\n",
      "Median `reviewText` length: 134.0 characters, 22.0 words.\n"
     ]
    }
   ],
   "source": [
    "# check statistics\n",
    "text_statistics(products, \"processedReviewText\")"
   ]
  },
  {
   "cell_type": "code",
   "execution_count": 21,
   "id": "03ddb070",
   "metadata": {},
   "outputs": [
    {
     "name": "stdout",
     "output_type": "stream",
     "text": [
      "['cat sleep night mind crinkly fabric inside use snuggle safe snuggle safe stay warmer longer underneath pad help warm pad', 'use john deere gator dog spill drive uneven ground', 'young cat slow harassment old sickly cat work hard litter box water bowl thing pheromone oil stuff foot maybe foot think ran completely spray final jet foot room lever slow consumption week month want replace heater month calm kitty worth', 'chat love toy buy cat pretty fast cat use time fast ship thank', 'exactly look litterbox large cage cage come thank goodness fit opening rabbit issue use right away negative fact like chew hole chew throw negative choose color definitely buy', 'cute t shirt fit great hard time buying clothes lab fit perfect', 'little skeptical day def reduce odor cat box end week odor nearly chemical smell detect def', 'okay item use difference buy item price sell local store animal like arrive day scent okay', 'cat bath smell great sure clean kitty apply bath groom mit use regular brush disperse kitty love immediately lick afterward smell good bath think worth reason luckily price right', 'great night dog collar buy lighted leash want sure dog collar run free beach night great light', 'attempt automatic renewal product absolutely hate pet store buy come huge bag difficult handle price product amazon pretty darn close pay local pet store cheap pet store purchase base convenience delivery date right dog manage finish way renew buy store food okay know best dog food work pet dog regular normal bowel movement great weight coat look fine enjoy eat poop know', 'work long haired cat waste short hair flea comb work', 'cat need catify house create place hang crowd annoy reason young boy cat opie start bully auntie sister jump harass stress time significantly decrease climber use treat long climb level love spend time day hallway sit left purview living room watch living room bathroom perch right bedroom great view climber eye easily skip level jump straight second like level slightly taller low profile way unlike monstrous ugly carpet cover cat tree time pass climber opportunity talk petting love rub face shelf lounge roll shelf rub scratch vertical sisal scratch portion try entice cat use original kitty year old jump level day interested term little tricky line disabled sister able think leg cast unable walk little creative assemble little heavy sit floor manage prop section chair ottoman add roll hallway office chair m use injure able lift hang door caveat assembly secure shelf sure shelf flush vertical scratching section direction come help video online helpful sister handle tighten bolt realize shelf flush reviewer problem climber stable need sure push plastic metal piece insert bolt far wooden section carve bolt insert push far wood insure shelf flush sorry best explanation hard bolt plastic climber round carve section wood round video metal straight careful direction shelf picture box shelf right hand climber install way second shelf bump door handle picture review second shelf right shelf left good way install interfere able turn door knob leave way work line right stand thought apart door hang basement open end turn door knob latch pull knob open door instead turn deadbolt lock door shut secure u pull metal spring section climber hook door climber solid secure wiggle slightly opie jump second shelf little effort negligible mind amazon warehouse deal think return perfect shape end save price', 'scalp lot itchiness sting matter use reviewer mention use shampoo clear year problem wash begin notice real difference end consult dermatologist feel real treasure product use doctor s recommendation comfort know prove ineffective clearly work keeper company need mention human use shame folk turn product meant pet medically comprehensive shampoo', 'like porous look like trap large particle original pad nice tight pore long time look cheaply weigh day later water cloudy clear like order generic replacemeads foam pad update let know work comparison fluval c poly foam pad replacement foam pad fluval aqueon hob small pore porous perfect design use canister s basket love good quality foam large block size', 'year ago cat come cornfield yard mow grass think neighbor turn truly feral cat e fearful contact human animal start feed darn thing cat like later contact local feral cat program cat neuter trapping transport vet challenge small fee want cat wander neighborhood semi rural area create litter kitten lastly vet true feral cat picture swollen paw ipad vet prescribe antibiotic minimize possibility infection winter come purchase kitty camper amazon small dome like tent cat build heat pad winter neighbor cat catch food heated kitty camper purchase item second heating pad place old dog house shih tzu cat argue heating pad pad economical buying kitty camper like neighbor s cat occasional visitor visit warm place stay purchase heating pad manufacture company kitty camper know good product cat person cat inside house feral cat help mouse mole vole control neighborhood cat good idea p s buy heated water dish provide water cat purchase amazon', 'dog crazy chewer store dollar piece forever chew', 'buy neighbor dashund dog complete ham love attention meet buy halloween tonight look absolutely adorable talk town hard time convince eat bun think dog toy overall happy purchase', 'great food dog healthy ibd clear love taste', 'yes sure people think clean cat box fun clean litter box easy simple quick roll roll remove tray dump mess automatic self cleaning litter box market work good die month repair think brand different come omega paw month great actually clean litter box easy cat happy happy recommend mother sister cat product work difficulty cat wet corner grate sift clump hard fault cat litter pan reviewer comment thump turn clumps fall collection area truly wish spent automatic box work bit break clog jam extra cartridge collection bin purchase economical work', 'know talk cartridge biofilter work fish sick actually know taht happen water quality fantastic run brackish', 'provide leash unbiased review lb lhasa apso use leash leash bit heavy small dog feel good hand grip sturdy strong retraction spring feel strong normal pulling retracting lot use lock easy use truly finger lock mechanism easy half year old like walk dog house handle wide doggy bag holder fit add kine clip ring clip doggie bag great add doggy bag holder similar http www amazon com gp product b em jjs ref wms ohs product utf psc favorite leash house course poorly construct u long month leash tape cord rope retract suddenly tape bind twist cause issue let dog ahead pull catch retract nicely overall think good leash use small dog train walk binding dog like walk place fro frustrate', 'famous chuckit reason love live claim', 'golden retriever paw flavor endorsement matter fact beg dog tested dog approve aid digestion happy size tiny suit small dog star feel packaging specify small dog read determine dosage package gear large dog dog pound typically goldens weigh day pm mean package simply day supply u think large breed version high quantity packaging large dog', 'buy bottle try cat suffer hairball digestive issue despite quality food pretty low expectation resist attempt year hairball gel mixed result kitty touch think flavor preference sort thing prefer cheese fish flavor treat male cat nut actually beg treat day break small piece gobble day adverse effect hairball tummy issue start impressed tablet large soft easily break small piece cat issue chew year old wish offer flavor smell like cheese fish try way kitty interested possibly try mix fishy soft food']\n"
     ]
    }
   ],
   "source": [
    "print([i for i in products.sample(25)[\"processedReviewText\"].values.tolist()])"
   ]
  },
  {
   "cell_type": "markdown",
   "id": "e3421397",
   "metadata": {},
   "source": [
    "### Tokenization"
   ]
  },
  {
   "cell_type": "code",
   "execution_count": 22,
   "id": "8a52f419",
   "metadata": {},
   "outputs": [],
   "source": [
    "products[\"processedReviewText\"] = products[\"processedReviewText\"].parallel_apply(lambda x: simple_preprocess(x, deacc=True))"
   ]
  },
  {
   "cell_type": "code",
   "execution_count": 23,
   "id": "1974142b",
   "metadata": {},
   "outputs": [
    {
     "name": "stdout",
     "output_type": "stream",
     "text": [
      "[['dog', 'thing', 'come', 'apart', 'second', 'toss', 'trash', 'big', 'disappointment'], ['dog', 'big', 'fan', 'saddle', 'pack', 'great', 'carry', 'stuff', 'hike'], ['customer', 'service', 'outstanding', 'spelling', 'error', 'quickly', 'correct', 'new', 'tag', 'send', 'tag', 'high', 'quality', 'long', 'time', 'golden', 'prefer', 'round', 'shape', 'bone', 'shape', 'previously', 'think', 'comfortable', 'collar', 'bone', 'company', 'plastic', 'mere', 'month', 'illegible', 'highly', 'recommend', 'item', 'look', 'quality', 'safety', 'furry', 'friend'], ['work', 'sufficiently', 'smell', 'improve', 'star', 'room', 'rug', 'leave', 'closed', 'definitely', 'notice', 'smell', 'walk', 'fortunately', 'problem', 'area', 'rug', 'bring', 'outside', 'wash', 'hop', 'easy', 'solution', 'smell', 'try', 'eventually', 'smell', 'totally', 'rinse', 'rug', 'use', 'vinegar', 'let', 'dry', 'hot', 'sun', 'couple', 'time', 'smell', 'surprise', 'rug', 'look', 'good', 'rougher', 'foot', 'failure', 'spray', 'suppose', 'effect', 'cat', 'use', 'rug', 'litter', 'box', 'try', 'use', 'rug', 'fortunately', 'wall', 'wall', 'area', 'rug', 'fail', 'cat', 'rug', 'eventually', 'vinegar', 'sunshine', 'smell', 'eventually', 'pain', 'heavy', 'rug', 'final', 'solution', 'indoor', 'outdoor', 'cat', 'love', 'note', 'bring', 'vet', 'health', 'problem', 'suggest', 'try', 'different', 'litter', 'work', 'pine', 'litter', 'want', 'expensive', 'messy', 'inconvenient', 'decide', 'mean', 'use', 'outside', 'litter', 'box', 'suggest', 'problem', 'cat', 'use', 'litter', 'box', 'bladder', 'infection', 'health', 'problem', 'try', 'litter'], ['think', 'dog', 'love', 'bed', 'cheapo', 'poly', 'adore', 'think', 'memory', 'foam', 'support', 'love', 'lay', 'choice', 'lay', 'floor'], ['mix', 'lysine', 'powder', 'cat', 'food', 'day', 'help', 'control', 'herpes', 'symptom', 'flare', 'runny', 'eye', 'sneeze', 'increase', 'dosage', 'twice', 'day', 'definitely', 'help', 'easy', 'worry', 'medication', 'nice', 'supplement', 'mind', 'wet', 'food'], ['buy', 'leash', 'seam', 'leather', 'leash', 'year', 'old', 'start', 'come', 'undone', 'handle', 'little', 'stiff', 'arrive', 'soften', 'comfortable', 'use', 'puppy', 'wind', 'tree', 'trunk', 'leave', 'scratch', 'leather', 'leash', 'like', 'braided', 'design', 'worry', 'stitch', 'come', 'apart', 'good', 'quality', 'leash', 'recommend'], ['good', 'crate', 'traing', 'piece', 'chicken', 'jerky', 'stick', 'slot', 'bento', 'ball', 'dog', 'pen', 'leave', 'associate', 'leave', 'happy', 'event', 'treat', 'nice', 'work', 'gices', 'fun', 'time', 'exit', 'work', 'unnoticed'], ['cat', 'love', 'flutter', 'like', 'bird', 'recommend', 'add', 'inch', 'twine', 'feather', 'metal', 'clasp', 'stick', 'cat', 'bite', 'metal', 'clasp', 'hurt', 'month', 'crazy', 'thing', 'metal', 'clasp', 'near', 'feather', 'star'], ['fully', 'cover', 'cat', 'comfortable', 'use', 'box', 'easy', 'scoop'], ['love', 'product', 'thing', 'little', 'annoying', 'boarder', 'consistent', 'beep', 'different', 'spot', 'maybe', 'try', 'catch', 'movement', 'great', 'fence', 'wooded', 'yard', 'dog', 'desire', 'run', 'away', 'anymore', 'learn', 'stay', 'yard', 'day'], ['think', 'worry', 'poop', 'bag', 'rest', 'year', 'bag', 'good', 'quality', 'dispenser', 'work', 'great'], ['like', 'community', 'tank', 'serpae', 'tetra', 'boeasmani', 'rainbows', 'albino', 'pleco', 'unidentified', 'pleco', 'black', 'kuhli', 'loaches', 'rainbow', 'shark', 'green', 'tiger', 'barb', 'variety', 'food', 'alternate', 'tetramin', 'flake', 'tropical', 'fish', 'spirulina', 'flake', 'new', 'life', 'community', 'fish', 'food', 'pellet', 'omegaone', 'shrimp', 'pellet', 'crazy', 'tank', 'feeding', 'frenzy', 'drop', 'tank', 'compare', 'omegaone', 'shrimp', 'pellet', 'feed', 'cheap', 'cheap', 'cheap', 'half', 'price', 'omegaone', 'pellets', 'twice', 'size', 'economical', 'omegaones', 'shrimp', 'fish', 'ingredient', 'wheat', 'wardley', 'shrimp', 'pellet', 'wheat', 'middling', 'shrimp', 'meal', 'fish', 'meal', 'fish', 'oil', 'wheat', 'predominant', 'single', 'ingredient', 'wardley', 'product', 'breakdown', 'actual', 'percentage', 'possible', 'fish', 'add', 'shrimp', 'meal', 'fish', 'meal', 'wheat', 'likely', 'hand', 'omegaone', 'product', 'fish', 'fee', 'primary', 'food', 'wardley', 'pellet', 'quickly', 'fall', 'immediately', 'begin', 'expand', 'break', 'apart', 'good', 'bad', 'fish', 'rip', 'explode', 'piece', 'aggressive', 'fish', 'chance', 'rainbow', 'shark', 'try', 'chase', 'away', 'albino', 'pleco', 'like', 'grab', 'piece', 'sit', 'small', 'piece', 'inevitably', 'settle', 'gravel', 'omegaone', 'pellet', 'hold', 'good', 'think', 'wardley', 'pellet', 'cloud', 'water', 'concern', 'uneaten', 'piece', 'settle', 'gravel', 'feeder', 'change', 'water', 'pretty', 'anticipate', 'huge', 'problem', 'think', 'fish', 'star', 'taste', 'star', 'price', 'away', 'star', 'nutritional', 'value', 'sure', 'value', 'wheat', 'fish', 'diet', 'little', 'concerned', 'messiness', 'careful', 'feed', 'drop', 'time', 'gallon', 'tank', 'sure', 'eat', 'explode', 'float'], ['little', 'tiny', 'yorkie', 'puppy', 'love', 'right', 'size', 'little', 'mouth', 'come', 'quickly'], ['guinea', 'pig', 'love', 'food', 'plain', 'olf', 'pellet', 'little', 'bit', 'dried', 'fruit', 'seed', 'little', 'bit', 'sin', 'new', 'baby', 'pig', 'climb', 'bowl', 'lay'], ['pet', 'apparel', 'industry', 'need', 'revisit', 'sizing', 'standard', 'love', 'shirt', 'need', 'new', 'size'], ['sure', 'discontinue', 'turtle', 'inside', 'indicate', 'water', 'level', 'bit', 'disappointed', 'great', 'water', 'bottle', 'serve', 'purpose'], ['pill', 'dog', 'week', 'sure', 'work', 'guess', 'time', 'tell', 'wary', 'herbal', 'remedy', 'test', 'result', 'subjective', 'sure', 'continue'], ['multiple', 'age', 'dog', 'home', 'food', 'feed', 'multiple', 'age', 'range', 'body', 'type', 'dog', 'product', 'wheat', 'corn', 'free', 'dog', 'gas', 'anymore'], ['use', 'little', 'precious', 'pom', 'chew', 'lick', 'paw', 'work', 'great'], ['buy', 'couple', 'heavy', 'chewer', 'like', 'bullmastiff', 'pups', 'great', 'hard', 'chew'], ['dog', 'lovvvvved', 'expensive', 'treat', 'wish', 'little', 'cheap', 'labs', 'small', 'dog', 'thank', 'youdrumcat'], ['intend', 'regular', 'use', 'great', 'short', 'term', 'calm', 'vet', 'visit', 'cat', 'care', 'taste', 'eat', 'crush', 'finely', 'mixed', 'wet', 'food', 'sleepy', 'calm'], ['prefer', 'longer', 'wand', 'ok', 'guess', 'kitten', 'unfortunately', 'adult', 'totally', 'unimpressed'], ['shorten', 'dogit', 'version', 'pitbull', 'climb', 'center', 'console', 'tundra', 'block', 'driver', 'view', 'road', 'end', 'petbuckle', 'kwik', 'connect', 'tether', 'connect', 'harness', 'help', 'shorten', 'distance', 'inch', 'truly', 'need', 'discourage', 'rid', 'console', 'sure', 'footing', 'console', 'tether', 'shorter', 'think', 'end', 'dogit', 'version', 'friend', 'dog', 'idea', 'success']]\n"
     ]
    }
   ],
   "source": [
    "print([i for i in products.sample(25)[\"processedReviewText\"].values.tolist()])"
   ]
  },
  {
   "cell_type": "markdown",
   "id": "620edc4c",
   "metadata": {},
   "source": [
    "### Combining Tokens Into Pre-processed Reviews"
   ]
  },
  {
   "cell_type": "code",
   "execution_count": 24,
   "id": "70dcebcf",
   "metadata": {},
   "outputs": [],
   "source": [
    "products[\"processedReviewText\"] = products[\"processedReviewText\"].parallel_apply(lambda x: ' '.join(x))"
   ]
  },
  {
   "cell_type": "code",
   "execution_count": 25,
   "id": "b5c944d5",
   "metadata": {},
   "outputs": [
    {
     "name": "stdout",
     "output_type": "stream",
     "text": [
      "Text statistics:\n",
      "\n",
      "Minimum `reviewText` length: 0 characters, 0 words.\n",
      "Maximum `reviewText` length: 8335 characters, 1245 words.\n",
      "Mean `reviewText` length: 210.62 characters, 34.14 words.\n",
      "Median `reviewText` length: 134.0 characters, 22.0 words.\n"
     ]
    }
   ],
   "source": [
    "# check statistics\n",
    "text_statistics(products, \"processedReviewText\")"
   ]
  },
  {
   "cell_type": "code",
   "execution_count": 26,
   "id": "2c5c05a9",
   "metadata": {
    "scrolled": true
   },
   "outputs": [
    {
     "name": "stdout",
     "output_type": "stream",
     "text": [
      "['dog love chew month energy good year old benefit satisfied order product', 'lb papillion love tennis ball small chuck ball launcher play fetch barely fit mouth saw bring home love small tiny mouth beware big choke hazard throw far outdoor use love squeaky sound absolutely adore chase inside house time fell asleep mouth away ok maybe lol pretty sturdy rip felt ball happy important', 'dog enjoy toy love pull treat middle fun good', 'cheap method replace cartridge simple extra need definitely buy', 'receive package canine plus senior bite size chew immediately begin dog year old year old year old want particular old especially year old bit picky eat chew hard like geriatric chew small smell bit like vitamin love recommend pound dog weigh chew daily like want understand treat appetizing chicken liver flavor appeal bone shape dog know bone shape factor think dog owner buy product long list ingredient bag bromelain counter bladder drug contains bromelain relaxation help senior dog feel notice year old appetite good supplement bit hard real easy chew consider small mainly chew twice swallow rest like idea vitamin chew price look cheap', 'rake great work easy install think eye shut awesome stuck purchase new litterbox happy camper cat forever rake deserves star thank rick', 'think good toy cat cat year old play daughter cat love cat', 'cat favorite favorite fly toy lazy cat maybe toy cat love toy acrobatic trick know buy sister cat like gary', 'absolutely love convenience height size scoop price unbeatable way impossible litter box big tall price', 'add puppy water like taste urinary tract issue far work', 'wow thing hurl tennis ball chuckit product far dog love love bc slimy tennis ball bend pick', 'leave original review year use container pound bag dog food small dog airtight food fresh fact purchase new food little guy like eat hop review enlighten purchase vittles vault heavily research pet food container storage method purchasing completely airtight worry waste expensive breed specific dog food believe product holy grail pet food container extremely durable great design easy pound bag dog food dog smell container like original bag thanks buddeez brand look product', 'ordered arrive good time package buy lil treat year ago longerordered passing lil guy reallty love decide purchase lil chic marosnacks purchase order love dearly receive lol send order friend lil guy actually love lol like usually yes dogfriend life lol def good treat great size good price come good container fresh purchase tku trish', 'fancy litter box omega inner grate turn let poop fall long cup cup bit sniffy spray stuff odor great stuff use lot', 'order xsmall pound toy fox terrier small bit short body coat warm easy hole leash outside sit door wait coat tell warm hurry come inside wear', 'little baby gem diy seal air tight look great', 'think cat tip happen game mind think kibble glad busy', 'filter great job clear water aquarium super quiet tell run far best external canister type filter complaint direction super vague youtube video explain set wise scratch head utter confusion', 'dog love heavy duty bounce high roll far smooth surface rec item', 'chewable cut againg border collie touch stick inside steak border collie extra sense thing watch routine figure thing dog clueless buddy walk bowl home cook dog food fat free chicken breast brown rice veggie adore sniff minute analyze content half crushed crush dilute disguise rest walk away touch food aspirin day punish dissolve little water possible add tiny bit sugar suck small syringe administer teeth jaw clamp tight frustrating try spit anymore result work weak hip age arthritic pain vet tramadol drowsy weak lethargic day administer morning hour later big difference mobility stand taller end droop weaken hind leg willing walk long bette rug leg separate slip double split feeble helpless rug aspire gain strength outside jump like puppy course sore later downhill fast pain relief continue deteriorate age feel good relieve misery respond dog like expect embrace beef liver flavor gulper swallow offer', 'buy car travel dog actually recline passenger bucket seat way insert bed seat dog lbs bed supportive travel', 'unlike pet owner know melamine introduction pet food extremely cautious fee animal check ingredient zealously time run thing veterinarian long ago shift product united state research bully stick grass fed raise beef brazil acceptable list hidden ingredient strange herbal concoction hide inside bully stick trouble small dog herb ingredient dry pizzle look people know eat medicinal purpose think ll pas neighbor dog bub german shepherd adore bully stick big teeth bit eat aren totally odor free light scent open bag wasn chemical line seriously pay day want decent chew bully stick fit feature virtually odor free free harsh chemical bleach formaldehyde natural fully digestible free range grass feed south american beef brazil great dental chew usda certify inspect single ingredient dog chewsi cringe people use cowhide unravels sits gut bully stick hand purportedly digestible complaint loose stool trip vet dog literally wolf treat food gulp pas include bully stick dear depart brandy gulp stuff imbibe shot bully stick day dentist away sort treat gnawing bub prove freezer extend life stick insect love dog sure ziplock like enclosure zip good measure fyi year shelf life homework low fat high protein chem free good teeth sound like good human diet probably people consider animal fledged member household provide best bully stick sample provide review', 'foam ball amazon bargain blast boot cat love chase bat playing cat bring present meow transport teeth great honor', 'great price buy outside cat sleep winter sturdy great carport cat cold winter love look ship quick great value', 'pleased turn bit skeptical purchase work exactly like suppose use clump litter urine clump stick firm thump send bin effort need litter scoop allow extremely fast easy cleaning easily disassemble monthly wash tab bit weak hold far issue']\n"
     ]
    }
   ],
   "source": [
    "print([i for i in products.sample(25)[\"processedReviewText\"].values.tolist()])"
   ]
  },
  {
   "cell_type": "markdown",
   "id": "f343c041",
   "metadata": {},
   "source": [
    "### Removing Empty Reviews\n",
    "\n",
    "Post pre-processing, we observed that the minimum characters and words of a review is 0. This indicates some reviews which are short to begin with, will get pruned after the series of pre-processing. Hence, we will remove such reviews."
   ]
  },
  {
   "cell_type": "code",
   "execution_count": 27,
   "id": "d7307e95",
   "metadata": {},
   "outputs": [],
   "source": [
    "products = remove_missing_reviews(products, \"processedReviewText\")"
   ]
  },
  {
   "cell_type": "code",
   "execution_count": 28,
   "id": "1444e9f4",
   "metadata": {},
   "outputs": [
    {
     "name": "stdout",
     "output_type": "stream",
     "text": [
      "Text statistics:\n",
      "\n",
      "Minimum `reviewText` length: 2 characters, 1 words.\n",
      "Maximum `reviewText` length: 8335 characters, 1245 words.\n",
      "Mean `reviewText` length: 210.63 characters, 34.14 words.\n",
      "Median `reviewText` length: 134.0 characters, 22.0 words.\n"
     ]
    }
   ],
   "source": [
    "text_statistics(products, \"processedReviewText\")"
   ]
  },
  {
   "cell_type": "code",
   "execution_count": 29,
   "id": "f4a79174",
   "metadata": {},
   "outputs": [
    {
     "name": "stdout",
     "output_type": "stream",
     "text": [
      "Rows: 111623, Columns: 10.\n"
     ]
    }
   ],
   "source": [
    "# check shape\n",
    "print(f\"Rows: {products.shape[0]}, Columns: {products.shape[1]}.\")"
   ]
  },
  {
   "cell_type": "code",
   "execution_count": 30,
   "id": "123cf19f",
   "metadata": {},
   "outputs": [
    {
     "data": {
      "text/html": [
       "<div>\n",
       "<style scoped>\n",
       "    .dataframe tbody tr th:only-of-type {\n",
       "        vertical-align: middle;\n",
       "    }\n",
       "\n",
       "    .dataframe tbody tr th {\n",
       "        vertical-align: top;\n",
       "    }\n",
       "\n",
       "    .dataframe thead th {\n",
       "        text-align: right;\n",
       "    }\n",
       "</style>\n",
       "<table border=\"1\" class=\"dataframe\">\n",
       "  <thead>\n",
       "    <tr style=\"text-align: right;\">\n",
       "      <th></th>\n",
       "      <th>asin</th>\n",
       "      <th>title</th>\n",
       "      <th>categories</th>\n",
       "      <th>reviewerID</th>\n",
       "      <th>overall</th>\n",
       "      <th>reviewText</th>\n",
       "      <th>reviewTime</th>\n",
       "      <th>reviewCharLength</th>\n",
       "      <th>reviewWordLength</th>\n",
       "      <th>processedReviewText</th>\n",
       "    </tr>\n",
       "  </thead>\n",
       "  <tbody>\n",
       "    <tr>\n",
       "      <th>111618</th>\n",
       "      <td>B00KMHKOZC</td>\n",
       "      <td>Pet Magasin Retractable Dog Leash - Durable Do...</td>\n",
       "      <td>['Pet Supplies', 'Dogs', 'Collars, Harnesses &amp;...</td>\n",
       "      <td>A136YD08SCJ2LV</td>\n",
       "      <td>5.0</td>\n",
       "      <td>The Pet Magasin Retractable Dog Leash is the b...</td>\n",
       "      <td>07 14, 2014</td>\n",
       "      <td>299</td>\n",
       "      <td>46</td>\n",
       "      <td>pet magasin retractable dog leash best use lik...</td>\n",
       "    </tr>\n",
       "    <tr>\n",
       "      <th>111619</th>\n",
       "      <td>B00KMHKOZC</td>\n",
       "      <td>Pet Magasin Retractable Dog Leash - Durable Do...</td>\n",
       "      <td>['Pet Supplies', 'Dogs', 'Collars, Harnesses &amp;...</td>\n",
       "      <td>A2YKWYC3WQJX5J</td>\n",
       "      <td>5.0</td>\n",
       "      <td>I'm not the biggest fan of retractable leashes...</td>\n",
       "      <td>07 14, 2014</td>\n",
       "      <td>300</td>\n",
       "      <td>44</td>\n",
       "      <td>big fan retractable leash certain circumstance...</td>\n",
       "    </tr>\n",
       "    <tr>\n",
       "      <th>111620</th>\n",
       "      <td>B00KMHKOZC</td>\n",
       "      <td>Pet Magasin Retractable Dog Leash - Durable Do...</td>\n",
       "      <td>['Pet Supplies', 'Dogs', 'Collars, Harnesses &amp;...</td>\n",
       "      <td>A2K0D19N83G6U2</td>\n",
       "      <td>4.0</td>\n",
       "      <td>I was provided a leash for my unbiased review....</td>\n",
       "      <td>07 22, 2014</td>\n",
       "      <td>681</td>\n",
       "      <td>119</td>\n",
       "      <td>provide leash unbiased review lb lhasa apso us...</td>\n",
       "    </tr>\n",
       "    <tr>\n",
       "      <th>111621</th>\n",
       "      <td>B00KMHKOZC</td>\n",
       "      <td>Pet Magasin Retractable Dog Leash - Durable Do...</td>\n",
       "      <td>['Pet Supplies', 'Dogs', 'Collars, Harnesses &amp;...</td>\n",
       "      <td>A3A4ZAIBQWKOZS</td>\n",
       "      <td>5.0</td>\n",
       "      <td>This is a well designed leash that offers the ...</td>\n",
       "      <td>07 18, 2014</td>\n",
       "      <td>323</td>\n",
       "      <td>50</td>\n",
       "      <td>design leash offer flexi style retraction flex...</td>\n",
       "    </tr>\n",
       "    <tr>\n",
       "      <th>111622</th>\n",
       "      <td>B00KMHKOZC</td>\n",
       "      <td>Pet Magasin Retractable Dog Leash - Durable Do...</td>\n",
       "      <td>['Pet Supplies', 'Dogs', 'Collars, Harnesses &amp;...</td>\n",
       "      <td>A1ITRGMT80D5TK</td>\n",
       "      <td>4.0</td>\n",
       "      <td>This leash is stated to be good for dogs up to...</td>\n",
       "      <td>07 14, 2014</td>\n",
       "      <td>785</td>\n",
       "      <td>135</td>\n",
       "      <td>leash state good dog pound chihuahuas weigh po...</td>\n",
       "    </tr>\n",
       "  </tbody>\n",
       "</table>\n",
       "</div>"
      ],
      "text/plain": [
       "              asin                                              title  \\\n",
       "111618  B00KMHKOZC  Pet Magasin Retractable Dog Leash - Durable Do...   \n",
       "111619  B00KMHKOZC  Pet Magasin Retractable Dog Leash - Durable Do...   \n",
       "111620  B00KMHKOZC  Pet Magasin Retractable Dog Leash - Durable Do...   \n",
       "111621  B00KMHKOZC  Pet Magasin Retractable Dog Leash - Durable Do...   \n",
       "111622  B00KMHKOZC  Pet Magasin Retractable Dog Leash - Durable Do...   \n",
       "\n",
       "                                               categories      reviewerID  \\\n",
       "111618  ['Pet Supplies', 'Dogs', 'Collars, Harnesses &...  A136YD08SCJ2LV   \n",
       "111619  ['Pet Supplies', 'Dogs', 'Collars, Harnesses &...  A2YKWYC3WQJX5J   \n",
       "111620  ['Pet Supplies', 'Dogs', 'Collars, Harnesses &...  A2K0D19N83G6U2   \n",
       "111621  ['Pet Supplies', 'Dogs', 'Collars, Harnesses &...  A3A4ZAIBQWKOZS   \n",
       "111622  ['Pet Supplies', 'Dogs', 'Collars, Harnesses &...  A1ITRGMT80D5TK   \n",
       "\n",
       "        overall                                         reviewText  \\\n",
       "111618      5.0  The Pet Magasin Retractable Dog Leash is the b...   \n",
       "111619      5.0  I'm not the biggest fan of retractable leashes...   \n",
       "111620      4.0  I was provided a leash for my unbiased review....   \n",
       "111621      5.0  This is a well designed leash that offers the ...   \n",
       "111622      4.0  This leash is stated to be good for dogs up to...   \n",
       "\n",
       "         reviewTime  reviewCharLength  reviewWordLength  \\\n",
       "111618  07 14, 2014               299                46   \n",
       "111619  07 14, 2014               300                44   \n",
       "111620  07 22, 2014               681               119   \n",
       "111621  07 18, 2014               323                50   \n",
       "111622  07 14, 2014               785               135   \n",
       "\n",
       "                                      processedReviewText  \n",
       "111618  pet magasin retractable dog leash best use lik...  \n",
       "111619  big fan retractable leash certain circumstance...  \n",
       "111620  provide leash unbiased review lb lhasa apso us...  \n",
       "111621  design leash offer flexi style retraction flex...  \n",
       "111622  leash state good dog pound chihuahuas weigh po...  "
      ]
     },
     "execution_count": 30,
     "metadata": {},
     "output_type": "execute_result"
    }
   ],
   "source": [
    "# check last 5 rows and their index\n",
    "products.tail()"
   ]
  },
  {
   "cell_type": "markdown",
   "id": "9fed617c",
   "metadata": {},
   "source": [
    "# Pre-processing Demonstration"
   ]
  },
  {
   "cell_type": "code",
   "execution_count": 31,
   "id": "e4ff4a08",
   "metadata": {},
   "outputs": [
    {
     "data": {
      "text/html": [
       "<div>\n",
       "<style scoped>\n",
       "    .dataframe tbody tr th:only-of-type {\n",
       "        vertical-align: middle;\n",
       "    }\n",
       "\n",
       "    .dataframe tbody tr th {\n",
       "        vertical-align: top;\n",
       "    }\n",
       "\n",
       "    .dataframe thead th {\n",
       "        text-align: right;\n",
       "    }\n",
       "</style>\n",
       "<table border=\"1\" class=\"dataframe\">\n",
       "  <thead>\n",
       "    <tr style=\"text-align: right;\">\n",
       "      <th></th>\n",
       "      <th>asin</th>\n",
       "      <th>title</th>\n",
       "      <th>categories</th>\n",
       "      <th>reviewerID</th>\n",
       "      <th>overall</th>\n",
       "      <th>reviewText</th>\n",
       "      <th>reviewTime</th>\n",
       "    </tr>\n",
       "  </thead>\n",
       "  <tbody>\n",
       "    <tr>\n",
       "      <th>0</th>\n",
       "      <td>1223000893</td>\n",
       "      <td>Cat Sitter DVD Trilogy - Vol 1, Vol 2 and Vol 3</td>\n",
       "      <td>[]</td>\n",
       "      <td>A14CK12J7C7JRK</td>\n",
       "      <td>3.0</td>\n",
       "      <td>I purchased the Trilogy with hoping my two cat...</td>\n",
       "      <td>01 12, 2011</td>\n",
       "    </tr>\n",
       "    <tr>\n",
       "      <th>1</th>\n",
       "      <td>1223000893</td>\n",
       "      <td>Cat Sitter DVD Trilogy - Vol 1, Vol 2 and Vol 3</td>\n",
       "      <td>[]</td>\n",
       "      <td>A39QHP5WLON5HV</td>\n",
       "      <td>5.0</td>\n",
       "      <td>There are usually one or more of my cats watch...</td>\n",
       "      <td>09 14, 2013</td>\n",
       "    </tr>\n",
       "    <tr>\n",
       "      <th>2</th>\n",
       "      <td>1223000893</td>\n",
       "      <td>Cat Sitter DVD Trilogy - Vol 1, Vol 2 and Vol 3</td>\n",
       "      <td>[]</td>\n",
       "      <td>A2CR37UY3VR7BN</td>\n",
       "      <td>4.0</td>\n",
       "      <td>I bought the triliogy and have tested out all ...</td>\n",
       "      <td>12 19, 2012</td>\n",
       "    </tr>\n",
       "    <tr>\n",
       "      <th>3</th>\n",
       "      <td>1223000893</td>\n",
       "      <td>Cat Sitter DVD Trilogy - Vol 1, Vol 2 and Vol 3</td>\n",
       "      <td>[]</td>\n",
       "      <td>A2A4COGL9VW2HY</td>\n",
       "      <td>4.0</td>\n",
       "      <td>My female kitty could care less about these vi...</td>\n",
       "      <td>05 12, 2011</td>\n",
       "    </tr>\n",
       "    <tr>\n",
       "      <th>4</th>\n",
       "      <td>1223000893</td>\n",
       "      <td>Cat Sitter DVD Trilogy - Vol 1, Vol 2 and Vol 3</td>\n",
       "      <td>[]</td>\n",
       "      <td>A2UBQA85NIGLHA</td>\n",
       "      <td>3.0</td>\n",
       "      <td>If I had gotten just volume two, I would have ...</td>\n",
       "      <td>03 5, 2012</td>\n",
       "    </tr>\n",
       "  </tbody>\n",
       "</table>\n",
       "</div>"
      ],
      "text/plain": [
       "         asin                                            title categories  \\\n",
       "0  1223000893  Cat Sitter DVD Trilogy - Vol 1, Vol 2 and Vol 3         []   \n",
       "1  1223000893  Cat Sitter DVD Trilogy - Vol 1, Vol 2 and Vol 3         []   \n",
       "2  1223000893  Cat Sitter DVD Trilogy - Vol 1, Vol 2 and Vol 3         []   \n",
       "3  1223000893  Cat Sitter DVD Trilogy - Vol 1, Vol 2 and Vol 3         []   \n",
       "4  1223000893  Cat Sitter DVD Trilogy - Vol 1, Vol 2 and Vol 3         []   \n",
       "\n",
       "       reviewerID  overall                                         reviewText  \\\n",
       "0  A14CK12J7C7JRK      3.0  I purchased the Trilogy with hoping my two cat...   \n",
       "1  A39QHP5WLON5HV      5.0  There are usually one or more of my cats watch...   \n",
       "2  A2CR37UY3VR7BN      4.0  I bought the triliogy and have tested out all ...   \n",
       "3  A2A4COGL9VW2HY      4.0  My female kitty could care less about these vi...   \n",
       "4  A2UBQA85NIGLHA      3.0  If I had gotten just volume two, I would have ...   \n",
       "\n",
       "    reviewTime  \n",
       "0  01 12, 2011  \n",
       "1  09 14, 2013  \n",
       "2  12 19, 2012  \n",
       "3  05 12, 2011  \n",
       "4   03 5, 2012  "
      ]
     },
     "execution_count": 31,
     "metadata": {},
     "output_type": "execute_result"
    }
   ],
   "source": [
    "# load dataset\n",
    "products_demo = pd.read_csv(f\"data/interim/{CATEGORY}_merged.csv\")\n",
    "\n",
    "# check first 5 rows\n",
    "products_demo.head()"
   ]
  },
  {
   "cell_type": "code",
   "execution_count": 32,
   "id": "3be01ce8",
   "metadata": {},
   "outputs": [],
   "source": [
    "n_random_products = products_demo.sample(10)"
   ]
  },
  {
   "cell_type": "code",
   "execution_count": 33,
   "id": "72c28fc6",
   "metadata": {},
   "outputs": [
    {
     "name": "stderr",
     "output_type": "stream",
     "text": [
      "100%|███████████████████████████████████████████████████████████████| 10/10 [00:01<00:00,  6.35it/s]\n"
     ]
    }
   ],
   "source": [
    "n_random_products[\"processedReviewText\"] = n_random_products[\"reviewText\"].progress_apply(lambda x: preprocess_text(x))"
   ]
  },
  {
   "cell_type": "code",
   "execution_count": 34,
   "id": "01802028",
   "metadata": {
    "scrolled": true
   },
   "outputs": [
    {
     "data": {
      "text/html": [
       "<div>\n",
       "<style scoped>\n",
       "    .dataframe tbody tr th:only-of-type {\n",
       "        vertical-align: middle;\n",
       "    }\n",
       "\n",
       "    .dataframe tbody tr th {\n",
       "        vertical-align: top;\n",
       "    }\n",
       "\n",
       "    .dataframe thead th {\n",
       "        text-align: right;\n",
       "    }\n",
       "</style>\n",
       "<table border=\"1\" class=\"dataframe\">\n",
       "  <thead>\n",
       "    <tr style=\"text-align: right;\">\n",
       "      <th></th>\n",
       "      <th>asin</th>\n",
       "      <th>title</th>\n",
       "      <th>categories</th>\n",
       "      <th>reviewerID</th>\n",
       "      <th>overall</th>\n",
       "      <th>reviewText</th>\n",
       "      <th>reviewTime</th>\n",
       "      <th>processedReviewText</th>\n",
       "    </tr>\n",
       "  </thead>\n",
       "  <tbody>\n",
       "    <tr>\n",
       "      <th>71058</th>\n",
       "      <td>B001F0RRUA</td>\n",
       "      <td>PetSafe Busy Buddy Kibble Nibble Meal Dispensi...</td>\n",
       "      <td>['Pet Supplies', 'Dogs', 'Toys', 'Chew Toys']</td>\n",
       "      <td>A3III07Y9VJI8Q</td>\n",
       "      <td>4.0</td>\n",
       "      <td>My dog loves this toy, but I only use it when ...</td>\n",
       "      <td>07 15, 2011</td>\n",
       "      <td>dog love toy use leave house noise tile wood f...</td>\n",
       "    </tr>\n",
       "    <tr>\n",
       "      <th>53111</th>\n",
       "      <td>B000K9JRH8</td>\n",
       "      <td>GoCat DaBird Feather Refill, Assorted Colors, ...</td>\n",
       "      <td>['Pet Supplies', 'Cats', 'Toys', 'Feather Toys']</td>\n",
       "      <td>A1HKB0CZ226VFF</td>\n",
       "      <td>5.0</td>\n",
       "      <td>My cats love DaBird! I was so pleased to find ...</td>\n",
       "      <td>03 10, 2014</td>\n",
       "      <td>cat love dabird pleased refill reasonable pric...</td>\n",
       "    </tr>\n",
       "    <tr>\n",
       "      <th>48670</th>\n",
       "      <td>B000FPJ78Q</td>\n",
       "      <td>Dingo Goof Balls, Rawhide Chews Made With Real...</td>\n",
       "      <td>['Pet Supplies', 'Dogs', 'Treats', 'Rawhide', ...</td>\n",
       "      <td>A2EVG1OUG840JQ</td>\n",
       "      <td>5.0</td>\n",
       "      <td>She plays with them a little, eats the meaty p...</td>\n",
       "      <td>09 1, 2011</td>\n",
       "      <td>play little eat meaty way enjoyment normal raw...</td>\n",
       "    </tr>\n",
       "    <tr>\n",
       "      <th>71834</th>\n",
       "      <td>B001FNZG96</td>\n",
       "      <td>goDog Dragons With Chew Guard Technology Durab...</td>\n",
       "      <td>['Pet Supplies', 'Dogs', 'Toys']</td>\n",
       "      <td>A1C96WFS5J3EGD</td>\n",
       "      <td>4.0</td>\n",
       "      <td>I got this for my puppy a year ago and she lov...</td>\n",
       "      <td>08 23, 2011</td>\n",
       "      <td>puppy year ago love death sleep carry apartmen...</td>\n",
       "    </tr>\n",
       "    <tr>\n",
       "      <th>102731</th>\n",
       "      <td>B007CRF1A8</td>\n",
       "      <td>Nature's Miracle Intense Defense Clumping Litter</td>\n",
       "      <td>['Pet Supplies', 'Cats', 'Litter &amp; Housebreaki...</td>\n",
       "      <td>A14I6MXBSI0BX</td>\n",
       "      <td>5.0</td>\n",
       "      <td>Just bought this litter on sale at petsmart la...</td>\n",
       "      <td>09 19, 2012</td>\n",
       "      <td>buy litter sale petsmart week try wow actually...</td>\n",
       "    </tr>\n",
       "    <tr>\n",
       "      <th>55933</th>\n",
       "      <td>B000O00E6G</td>\n",
       "      <td>PetSafe Martingale Dog Collar Quick Snap Buckle</td>\n",
       "      <td>['Pet Supplies', 'Dogs', 'Collars, Harnesses &amp;...</td>\n",
       "      <td>AX8RL03LVZG1E</td>\n",
       "      <td>5.0</td>\n",
       "      <td>These collars are specifically great for dogs ...</td>\n",
       "      <td>03 15, 2014</td>\n",
       "      <td>collar specifically great dog pull jump sit tr...</td>\n",
       "    </tr>\n",
       "    <tr>\n",
       "      <th>44627</th>\n",
       "      <td>B000BO3DZE</td>\n",
       "      <td>Petstages Mini Loop Ball</td>\n",
       "      <td>['Pet Supplies', 'Dogs', 'Toys', 'Balls']</td>\n",
       "      <td>A2XYNWW23PAN1Z</td>\n",
       "      <td>5.0</td>\n",
       "      <td>This is very small, so if you have a larger pu...</td>\n",
       "      <td>05 4, 2014</td>\n",
       "      <td>small large puppy work mini doxie perfect perf...</td>\n",
       "    </tr>\n",
       "    <tr>\n",
       "      <th>13165</th>\n",
       "      <td>B0002AQCXM</td>\n",
       "      <td>Zoo Med Deluxe Porcelain Clamp Lamp</td>\n",
       "      <td>['Pet Supplies', 'Reptiles &amp; Amphibians', 'Ter...</td>\n",
       "      <td>A2EAW9C31JE4L6</td>\n",
       "      <td>5.0</td>\n",
       "      <td>I tried a couple different heating mats for se...</td>\n",
       "      <td>06 21, 2014</td>\n",
       "      <td>try couple different heating mat seed tank hea...</td>\n",
       "    </tr>\n",
       "    <tr>\n",
       "      <th>64414</th>\n",
       "      <td>B0015QC4P2</td>\n",
       "      <td>Suncast Elevated Feeding Tray, Small</td>\n",
       "      <td>['Pet Supplies', 'Dogs', 'Feeding &amp; Watering S...</td>\n",
       "      <td>A2JZIXBDRW4C5G</td>\n",
       "      <td>5.0</td>\n",
       "      <td>I got this because my girlfriend had one for h...</td>\n",
       "      <td>09 10, 2008</td>\n",
       "      <td>girlfriend dog apartment tell dog want right l...</td>\n",
       "    </tr>\n",
       "    <tr>\n",
       "      <th>508</th>\n",
       "      <td>B0000632T8</td>\n",
       "      <td>KONG Teddy Bear Dog Toy</td>\n",
       "      <td>['Pet Supplies', 'Dogs', 'Toys', 'Squeak Toys']</td>\n",
       "      <td>A3UCXYEAV06AHA</td>\n",
       "      <td>5.0</td>\n",
       "      <td>My first dog loved this toy as soon as I took ...</td>\n",
       "      <td>06 13, 2011</td>\n",
       "      <td>dog love toy soon box aggressive chewer worry ...</td>\n",
       "    </tr>\n",
       "  </tbody>\n",
       "</table>\n",
       "</div>"
      ],
      "text/plain": [
       "              asin                                              title  \\\n",
       "71058   B001F0RRUA  PetSafe Busy Buddy Kibble Nibble Meal Dispensi...   \n",
       "53111   B000K9JRH8  GoCat DaBird Feather Refill, Assorted Colors, ...   \n",
       "48670   B000FPJ78Q  Dingo Goof Balls, Rawhide Chews Made With Real...   \n",
       "71834   B001FNZG96  goDog Dragons With Chew Guard Technology Durab...   \n",
       "102731  B007CRF1A8   Nature's Miracle Intense Defense Clumping Litter   \n",
       "55933   B000O00E6G    PetSafe Martingale Dog Collar Quick Snap Buckle   \n",
       "44627   B000BO3DZE                           Petstages Mini Loop Ball   \n",
       "13165   B0002AQCXM                Zoo Med Deluxe Porcelain Clamp Lamp   \n",
       "64414   B0015QC4P2               Suncast Elevated Feeding Tray, Small   \n",
       "508     B0000632T8                            KONG Teddy Bear Dog Toy   \n",
       "\n",
       "                                               categories      reviewerID  \\\n",
       "71058       ['Pet Supplies', 'Dogs', 'Toys', 'Chew Toys']  A3III07Y9VJI8Q   \n",
       "53111    ['Pet Supplies', 'Cats', 'Toys', 'Feather Toys']  A1HKB0CZ226VFF   \n",
       "48670   ['Pet Supplies', 'Dogs', 'Treats', 'Rawhide', ...  A2EVG1OUG840JQ   \n",
       "71834                    ['Pet Supplies', 'Dogs', 'Toys']  A1C96WFS5J3EGD   \n",
       "102731  ['Pet Supplies', 'Cats', 'Litter & Housebreaki...   A14I6MXBSI0BX   \n",
       "55933   ['Pet Supplies', 'Dogs', 'Collars, Harnesses &...   AX8RL03LVZG1E   \n",
       "44627           ['Pet Supplies', 'Dogs', 'Toys', 'Balls']  A2XYNWW23PAN1Z   \n",
       "13165   ['Pet Supplies', 'Reptiles & Amphibians', 'Ter...  A2EAW9C31JE4L6   \n",
       "64414   ['Pet Supplies', 'Dogs', 'Feeding & Watering S...  A2JZIXBDRW4C5G   \n",
       "508       ['Pet Supplies', 'Dogs', 'Toys', 'Squeak Toys']  A3UCXYEAV06AHA   \n",
       "\n",
       "        overall                                         reviewText  \\\n",
       "71058       4.0  My dog loves this toy, but I only use it when ...   \n",
       "53111       5.0  My cats love DaBird! I was so pleased to find ...   \n",
       "48670       5.0  She plays with them a little, eats the meaty p...   \n",
       "71834       4.0  I got this for my puppy a year ago and she lov...   \n",
       "102731      5.0  Just bought this litter on sale at petsmart la...   \n",
       "55933       5.0  These collars are specifically great for dogs ...   \n",
       "44627       5.0  This is very small, so if you have a larger pu...   \n",
       "13165       5.0  I tried a couple different heating mats for se...   \n",
       "64414       5.0  I got this because my girlfriend had one for h...   \n",
       "508         5.0  My first dog loved this toy as soon as I took ...   \n",
       "\n",
       "         reviewTime                                processedReviewText  \n",
       "71058   07 15, 2011  dog love toy use leave house noise tile wood f...  \n",
       "53111   03 10, 2014  cat love dabird pleased refill reasonable pric...  \n",
       "48670    09 1, 2011  play little eat meaty way enjoyment normal raw...  \n",
       "71834   08 23, 2011  puppy year ago love death sleep carry apartmen...  \n",
       "102731  09 19, 2012  buy litter sale petsmart week try wow actually...  \n",
       "55933   03 15, 2014  collar specifically great dog pull jump sit tr...  \n",
       "44627    05 4, 2014  small large puppy work mini doxie perfect perf...  \n",
       "13165   06 21, 2014  try couple different heating mat seed tank hea...  \n",
       "64414   09 10, 2008  girlfriend dog apartment tell dog want right l...  \n",
       "508     06 13, 2011  dog love toy soon box aggressive chewer worry ...  "
      ]
     },
     "execution_count": 34,
     "metadata": {},
     "output_type": "execute_result"
    }
   ],
   "source": [
    "n_random_products"
   ]
  },
  {
   "cell_type": "code",
   "execution_count": 35,
   "id": "ca8d9487",
   "metadata": {},
   "outputs": [
    {
     "name": "stdout",
     "output_type": "stream",
     "text": [
      "Review text pre-processing, before vs. after: \n",
      "Before: My dog loves this toy, but I only use it when I'm leaving the house. She makes so much noise with it in my tile and wood floor home. If I have to leave around feeding time, I put her cup of food in here and leave it along with her usual kongs. I usually find it in my closet with one or two kibbles left inside when I get home.\n",
      "After: dog love toy use leave house noise tile wood floor home leave feeding time cup food leave usual kongs usually closet kibble leave inside home\n",
      "\n",
      "Before: My cats love DaBird! I was so pleased to find refills at a reasonable price because the feathers always eventually fall out of the red cap holding them to the string.\n",
      "After: cat love dabird pleased refill reasonable price feather eventually fall red cap hold string\n",
      "\n",
      "Before: She plays with them a little, eats the meaty parts, and gets way more enjoyment than she ever does from just a normal rawhide. Less time for chewing, but more time for playing.\n",
      "After: play little eat meaty way enjoyment normal rawhide time chew time play\n",
      "\n",
      "Before: I got this for my puppy a year ago and she loves it to death. She sleeps with it and carries it with her around the apartment. It's the perfect travel buddy, too, since it's on the smaller side. She's not the biggest chewer, so that may be why it's lasted so long. I love that there's no stuffing in the body- I wish all dog toys would have an alternative to the stuffing. The toy just got a hole in it a few days ago when her and my new puppy were playing tug with it. No big deal since the $9 was worth the year it lasted. I'm back to get a couple more and hope they last just as long. I give it 4 stars because I wish there was a way to replace the squeaker.Note: I don't think this toy is good for heavy chewers or those who like to thrash toys around, but I don't think any stuffed toys are good for puppies who enjoy those activities.\n",
      "After: puppy year ago love death sleep carry apartment perfect travel buddy small big chewer long love stuff body wish dog toy alternative stuff toy hole day ago new puppy play tug big deal worth year couple hope long star wish way replace squeaker note think toy good heavy chewer like thrash toy think stuffed toy good puppy enjoy activity\n",
      "\n",
      "Before: Just bought this litter on sale at petsmart last week to try it, and wow it actually takes all the smell of what happens in the evil catbox away.  It does not have any weird perfumy smell some of the litters we have tried do.  It also clumps really well, and firmly so make sure you have a few inches of litter in the box. The cats havent seem to mind the difference in litter and just hopped right in.I have a very sensitive nose and really hated having thecats indoor  because of the smell  (no matter how often I clean there is always that ammonia smell), but this litter really made a huge difference...it doesnt even bother me now when I am cleaning it except now I have stopped cleaning everyother day to ever couple days, cause its easy to forget because I don't smell it and I have to peek in the boxes to see how its looking.\n",
      "After: buy litter sale petsmart week try wow actually smell happen evil catbox away weird perfumy smell litter try clump firmly sure inch litter box cat mind difference litter hop right sensitive nose hat thecats indoor smell matter clean ammonia smell litter huge difference bother clean stop clean everyother day couple day easy forget smell peek box look\n",
      "\n",
      "Before: These collars are specifically great for dogs that pull, jump, sit back when trying to train them..so you won't be unhappy with these collars but make sure they are snug and using them properly....\n",
      "After: collar specifically great dog pull jump sit try train unhappy collar sure snug use properly\n",
      "\n",
      "Before: This is very small, so if you have a larger puppy this won't work well, but for my mini doxie it's perfect.  It's the perfect size, soft and the loops give enough contrast that it keeps him interested.  One of his favorite toys.\n",
      "After: small large puppy work mini doxie perfect perfect size soft loop contrast interested favorite toy\n",
      "\n",
      "Before: I tried a couple different heating mats for seeds and under tank heater mats but this lamp and clamp is just a far superior method in my humble opinion. Trust me and save needless money spent on mats like I did and buy this lamp clamp and the infrared heat emitter.\n",
      "After: try couple different heating mat seed tank heater mat lamp clamp far superior method humble opinion trust save needless money spend mat like buy lamp clamp infrared heat emitter\n",
      "\n",
      "Before: I got this because my girlfriend had one for her dog.  Whenever we went to her apartment I could tell that my dogs wanted one.  I was right.  They really like having elevated feeding bowls.  Its construction is sturdy and it looks easy to clean (it hasn't gotten dirty yet).  I was worried that the bowls might be cheap, but they are made of sturdy steel.  I also like that you have the option of not using the legs and snapping them under the bowls.  The only sacrifice there is there is nothing below the bowls to catch water.  Not a big deal unless you are putting this onto a hardwood floor.  Also this is not really for a small dog like a Yorkie even though they label it \"small.\"  My dogs are over 30 pounds, which I consider medium, and the bowl is at a perfect height for them.  But I suppose dogs that size don't really need a raised bowl anyway.  All in all I would recommend this product.\n",
      "After: girlfriend dog apartment tell dog want right like elevate feed bowl construction sturdy look easy clean dirty worry bowl cheap sturdy steel like option use leg snap bowl sacrifice bowl catch water big deal hardwood floor small dog like yorkie label small dog pound consider medium bowl perfect height suppose dog size need raise bowl recommend product\n",
      "\n",
      "Before: My first dog loved this toy as soon as I took it out of the box.  He isn't an aggressive chewer, so I don't have to worry about the toy being ripped apart.  He likes to throw it around and chew on it.** UPDATE ** After 6 months, the paws and ears have been chewed off, but overall still a useable toy.  I got a second dog in September, and the two dogs tug on this and love it still.\n",
      "After: dog love toy soon box aggressive chewer worry toy rip apart like throw chew update month paw ear chew overall useable toy second dog september dog tug love\n",
      "\n"
     ]
    }
   ],
   "source": [
    "print(\"Review text pre-processing, before vs. after: \")\n",
    "before = n_random_products[\"reviewText\"].values.tolist()\n",
    "after = n_random_products[\"processedReviewText\"].values.tolist()\n",
    "\n",
    "for i in zip(before, after):\n",
    "    print(f\"Before: {i[0]}\")\n",
    "    print(f\"After: {i[1]}\\n\")"
   ]
  },
  {
   "cell_type": "markdown",
   "id": "afec6e28",
   "metadata": {},
   "source": [
    "# Data Visualization"
   ]
  },
  {
   "cell_type": "code",
   "execution_count": 36,
   "id": "f0e33887",
   "metadata": {},
   "outputs": [
    {
     "name": "stdout",
     "output_type": "stream",
     "text": [
      "Text statistics:\n",
      "\n",
      "Minimum `reviewText` length: 2 characters, 1 words.\n",
      "Maximum `reviewText` length: 15622 characters, 2652 words.\n",
      "Mean `reviewText` length: 458.65 characters, 87.44 words.\n",
      "Median `reviewText` length: 298.0 characters, 58.0 words.\n"
     ]
    }
   ],
   "source": [
    "text_statistics(products, \"reviewText\")"
   ]
  },
  {
   "cell_type": "code",
   "execution_count": 37,
   "id": "997d3fa7",
   "metadata": {},
   "outputs": [
    {
     "data": {
      "text/html": [
       "<div>\n",
       "<style scoped>\n",
       "    .dataframe tbody tr th:only-of-type {\n",
       "        vertical-align: middle;\n",
       "    }\n",
       "\n",
       "    .dataframe tbody tr th {\n",
       "        vertical-align: top;\n",
       "    }\n",
       "\n",
       "    .dataframe thead th {\n",
       "        text-align: right;\n",
       "    }\n",
       "</style>\n",
       "<table border=\"1\" class=\"dataframe\">\n",
       "  <thead>\n",
       "    <tr style=\"text-align: right;\">\n",
       "      <th></th>\n",
       "      <th>asin</th>\n",
       "      <th>title</th>\n",
       "      <th>categories</th>\n",
       "      <th>reviewerID</th>\n",
       "      <th>overall</th>\n",
       "      <th>reviewText</th>\n",
       "      <th>reviewTime</th>\n",
       "      <th>reviewCharLength</th>\n",
       "      <th>reviewWordLength</th>\n",
       "      <th>processedReviewText</th>\n",
       "    </tr>\n",
       "  </thead>\n",
       "  <tbody>\n",
       "    <tr>\n",
       "      <th>0</th>\n",
       "      <td>1223000893</td>\n",
       "      <td>Cat Sitter DVD Trilogy - Vol 1, Vol 2 and Vol 3</td>\n",
       "      <td>[]</td>\n",
       "      <td>A14CK12J7C7JRK</td>\n",
       "      <td>3.0</td>\n",
       "      <td>I purchased the Trilogy with hoping my two cat...</td>\n",
       "      <td>01 12, 2011</td>\n",
       "      <td>590</td>\n",
       "      <td>116</td>\n",
       "      <td>purchase trilogy hop cat age interested yr old...</td>\n",
       "    </tr>\n",
       "    <tr>\n",
       "      <th>1</th>\n",
       "      <td>1223000893</td>\n",
       "      <td>Cat Sitter DVD Trilogy - Vol 1, Vol 2 and Vol 3</td>\n",
       "      <td>[]</td>\n",
       "      <td>A39QHP5WLON5HV</td>\n",
       "      <td>5.0</td>\n",
       "      <td>There are usually one or more of my cats watch...</td>\n",
       "      <td>09 14, 2013</td>\n",
       "      <td>217</td>\n",
       "      <td>44</td>\n",
       "      <td>usually cat watch tv stay trouble dvd play lik...</td>\n",
       "    </tr>\n",
       "    <tr>\n",
       "      <th>2</th>\n",
       "      <td>1223000893</td>\n",
       "      <td>Cat Sitter DVD Trilogy - Vol 1, Vol 2 and Vol 3</td>\n",
       "      <td>[]</td>\n",
       "      <td>A2CR37UY3VR7BN</td>\n",
       "      <td>4.0</td>\n",
       "      <td>I bought the triliogy and have tested out all ...</td>\n",
       "      <td>12 19, 2012</td>\n",
       "      <td>412</td>\n",
       "      <td>81</td>\n",
       "      <td>buy triliogy test dvd appear volume receive re...</td>\n",
       "    </tr>\n",
       "    <tr>\n",
       "      <th>3</th>\n",
       "      <td>1223000893</td>\n",
       "      <td>Cat Sitter DVD Trilogy - Vol 1, Vol 2 and Vol 3</td>\n",
       "      <td>[]</td>\n",
       "      <td>A2A4COGL9VW2HY</td>\n",
       "      <td>4.0</td>\n",
       "      <td>My female kitty could care less about these vi...</td>\n",
       "      <td>05 12, 2011</td>\n",
       "      <td>288</td>\n",
       "      <td>57</td>\n",
       "      <td>female kitty care video care little male dig a...</td>\n",
       "    </tr>\n",
       "    <tr>\n",
       "      <th>4</th>\n",
       "      <td>1223000893</td>\n",
       "      <td>Cat Sitter DVD Trilogy - Vol 1, Vol 2 and Vol 3</td>\n",
       "      <td>[]</td>\n",
       "      <td>A2UBQA85NIGLHA</td>\n",
       "      <td>3.0</td>\n",
       "      <td>If I had gotten just volume two, I would have ...</td>\n",
       "      <td>03 5, 2012</td>\n",
       "      <td>888</td>\n",
       "      <td>171</td>\n",
       "      <td>volume star trilogy star read review know vol ...</td>\n",
       "    </tr>\n",
       "  </tbody>\n",
       "</table>\n",
       "</div>"
      ],
      "text/plain": [
       "         asin                                            title categories  \\\n",
       "0  1223000893  Cat Sitter DVD Trilogy - Vol 1, Vol 2 and Vol 3         []   \n",
       "1  1223000893  Cat Sitter DVD Trilogy - Vol 1, Vol 2 and Vol 3         []   \n",
       "2  1223000893  Cat Sitter DVD Trilogy - Vol 1, Vol 2 and Vol 3         []   \n",
       "3  1223000893  Cat Sitter DVD Trilogy - Vol 1, Vol 2 and Vol 3         []   \n",
       "4  1223000893  Cat Sitter DVD Trilogy - Vol 1, Vol 2 and Vol 3         []   \n",
       "\n",
       "       reviewerID  overall                                         reviewText  \\\n",
       "0  A14CK12J7C7JRK      3.0  I purchased the Trilogy with hoping my two cat...   \n",
       "1  A39QHP5WLON5HV      5.0  There are usually one or more of my cats watch...   \n",
       "2  A2CR37UY3VR7BN      4.0  I bought the triliogy and have tested out all ...   \n",
       "3  A2A4COGL9VW2HY      4.0  My female kitty could care less about these vi...   \n",
       "4  A2UBQA85NIGLHA      3.0  If I had gotten just volume two, I would have ...   \n",
       "\n",
       "    reviewTime  reviewCharLength  reviewWordLength  \\\n",
       "0  01 12, 2011               590               116   \n",
       "1  09 14, 2013               217                44   \n",
       "2  12 19, 2012               412                81   \n",
       "3  05 12, 2011               288                57   \n",
       "4   03 5, 2012               888               171   \n",
       "\n",
       "                                 processedReviewText  \n",
       "0  purchase trilogy hop cat age interested yr old...  \n",
       "1  usually cat watch tv stay trouble dvd play lik...  \n",
       "2  buy triliogy test dvd appear volume receive re...  \n",
       "3  female kitty care video care little male dig a...  \n",
       "4  volume star trilogy star read review know vol ...  "
      ]
     },
     "execution_count": 37,
     "metadata": {},
     "output_type": "execute_result"
    }
   ],
   "source": [
    "products.head()"
   ]
  },
  {
   "cell_type": "code",
   "execution_count": 38,
   "id": "58892cab",
   "metadata": {},
   "outputs": [],
   "source": [
    "products[\"processedReviewWordLength\"] = products[\"processedReviewText\"].apply(lambda x: len(x.split()))"
   ]
  },
  {
   "cell_type": "code",
   "execution_count": 39,
   "id": "867cc4e6",
   "metadata": {},
   "outputs": [],
   "source": [
    "def plot_distributions(df, cols=['reviewWordLength', 'processedReviewWordLength']):\n",
    "    fig, axes = plt.subplots(1, 2, figsize=(15, 8), sharey=True)\n",
    "    fig.suptitle(f\"Comparison of Review Words Distribution Before and After Pre-processing\", y=0.925, verticalalignment='bottom')\n",
    "    for idx, col in enumerate(cols):\n",
    "        ax = sns.histplot(df[col], ax=axes[idx], bins=100, binwidth=10)\n",
    "        ax.set_xlim(0,500)\n",
    "    \n",
    "    plt.savefig(f\"reports/figures/review_words_distribution.png\", dpi=150)\n",
    "    plt.show()"
   ]
  },
  {
   "cell_type": "code",
   "execution_count": 40,
   "id": "d432696c",
   "metadata": {},
   "outputs": [
    {
     "data": {
      "image/png": "[encoded data removed]",
      "text/plain": [
       "<Figure size 1080x576 with 2 Axes>"
      ]
     },
     "metadata": {
      "needs_background": "light"
     },
     "output_type": "display_data"
    }
   ],
   "source": [
    "plot_distributions(products)"
   ]
  },
  {
   "cell_type": "code",
   "execution_count": 41,
   "id": "372d2255",
   "metadata": {},
   "outputs": [
    {
     "data": {
      "text/html": [
       "<div>\n",
       "<style scoped>\n",
       "    .dataframe tbody tr th:only-of-type {\n",
       "        vertical-align: middle;\n",
       "    }\n",
       "\n",
       "    .dataframe tbody tr th {\n",
       "        vertical-align: top;\n",
       "    }\n",
       "\n",
       "    .dataframe thead th {\n",
       "        text-align: right;\n",
       "    }\n",
       "</style>\n",
       "<table border=\"1\" class=\"dataframe\">\n",
       "  <thead>\n",
       "    <tr style=\"text-align: right;\">\n",
       "      <th></th>\n",
       "      <th>asin</th>\n",
       "      <th>title</th>\n",
       "      <th>categories</th>\n",
       "      <th>reviewerID</th>\n",
       "      <th>overall</th>\n",
       "      <th>reviewText</th>\n",
       "      <th>reviewTime</th>\n",
       "      <th>reviewCharLength</th>\n",
       "      <th>reviewWordLength</th>\n",
       "      <th>processedReviewText</th>\n",
       "      <th>processedReviewWordLength</th>\n",
       "    </tr>\n",
       "  </thead>\n",
       "  <tbody>\n",
       "    <tr>\n",
       "      <th>56204</th>\n",
       "      <td>B000O5DI1E</td>\n",
       "      <td>Beef Pill Pockets Large 7.9oz</td>\n",
       "      <td>['Pet Supplies', 'Dogs', 'Health Supplies', 'S...</td>\n",
       "      <td>AZ7HUXVHAFFKN</td>\n",
       "      <td>3.0</td>\n",
       "      <td>ok</td>\n",
       "      <td>07 2, 2014</td>\n",
       "      <td>2</td>\n",
       "      <td>1</td>\n",
       "      <td>ok</td>\n",
       "      <td>1</td>\n",
       "    </tr>\n",
       "    <tr>\n",
       "      <th>7572</th>\n",
       "      <td>B000255OIG</td>\n",
       "      <td>Stewart Freeze Dried Treats 14 oz Beef Liver</td>\n",
       "      <td>['Pet Supplies', 'Dogs', 'Treats', 'Cookies, B...</td>\n",
       "      <td>A19HDIOM7WGMFB</td>\n",
       "      <td>4.0</td>\n",
       "      <td>but the dogs can't get enough.</td>\n",
       "      <td>07 8, 2014</td>\n",
       "      <td>30</td>\n",
       "      <td>6</td>\n",
       "      <td>dog</td>\n",
       "      <td>1</td>\n",
       "    </tr>\n",
       "    <tr>\n",
       "      <th>7465</th>\n",
       "      <td>B000255OIG</td>\n",
       "      <td>Stewart Freeze Dried Treats 14 oz Beef Liver</td>\n",
       "      <td>['Pet Supplies', 'Dogs', 'Treats', 'Cookies, B...</td>\n",
       "      <td>A19HDIOM7WGMFB</td>\n",
       "      <td>4.0</td>\n",
       "      <td>but the dogs can't get enough.</td>\n",
       "      <td>07 8, 2014</td>\n",
       "      <td>30</td>\n",
       "      <td>6</td>\n",
       "      <td>dog</td>\n",
       "      <td>1</td>\n",
       "    </tr>\n",
       "    <tr>\n",
       "      <th>14208</th>\n",
       "      <td>B0002AQM9Q</td>\n",
       "      <td>Vets Best Dog Hot Spot Itch Relief Spray | Soo...</td>\n",
       "      <td>['Pet Supplies', 'Dogs', 'Health Supplies', 'I...</td>\n",
       "      <td>AOJA8QAE740LY</td>\n",
       "      <td>3.0</td>\n",
       "      <td>meh</td>\n",
       "      <td>07 9, 2014</td>\n",
       "      <td>3</td>\n",
       "      <td>1</td>\n",
       "      <td>meh</td>\n",
       "      <td>1</td>\n",
       "    </tr>\n",
       "    <tr>\n",
       "      <th>14222</th>\n",
       "      <td>B0002AQM9Q</td>\n",
       "      <td>Vets Best Dog Hot Spot Itch Relief Spray | Soo...</td>\n",
       "      <td>['Pet Supplies', 'Dogs', 'Health Supplies', 'I...</td>\n",
       "      <td>AOJA8QAE740LY</td>\n",
       "      <td>3.0</td>\n",
       "      <td>meh</td>\n",
       "      <td>07 9, 2014</td>\n",
       "      <td>3</td>\n",
       "      <td>1</td>\n",
       "      <td>meh</td>\n",
       "      <td>1</td>\n",
       "    </tr>\n",
       "    <tr>\n",
       "      <th>...</th>\n",
       "      <td>...</td>\n",
       "      <td>...</td>\n",
       "      <td>...</td>\n",
       "      <td>...</td>\n",
       "      <td>...</td>\n",
       "      <td>...</td>\n",
       "      <td>...</td>\n",
       "      <td>...</td>\n",
       "      <td>...</td>\n",
       "      <td>...</td>\n",
       "      <td>...</td>\n",
       "    </tr>\n",
       "    <tr>\n",
       "      <th>9720</th>\n",
       "      <td>B00025K1GG</td>\n",
       "      <td>Hikari Freeze Dried Tubifex Worms</td>\n",
       "      <td>['Pet Supplies', 'Fish &amp; Aquatic Pets', 'Food']</td>\n",
       "      <td>A3BNVMPIHDYGNQ</td>\n",
       "      <td>5.0</td>\n",
       "      <td>Tubifex worms are usually gobbled up by most f...</td>\n",
       "      <td>01 13, 2014</td>\n",
       "      <td>6736</td>\n",
       "      <td>973</td>\n",
       "      <td>tubifex worm usually gobble fish need protein ...</td>\n",
       "      <td>654</td>\n",
       "    </tr>\n",
       "    <tr>\n",
       "      <th>9738</th>\n",
       "      <td>B00025K1GG</td>\n",
       "      <td>Hikari Freeze Dried Tubifex Worms</td>\n",
       "      <td>['Pet Supplies', 'Fish &amp; Aquatic Pets', 'Food']</td>\n",
       "      <td>A3BNVMPIHDYGNQ</td>\n",
       "      <td>5.0</td>\n",
       "      <td>Tubifex worms are usually gobbled up by most f...</td>\n",
       "      <td>01 13, 2014</td>\n",
       "      <td>6736</td>\n",
       "      <td>973</td>\n",
       "      <td>tubifex worm usually gobble fish need protein ...</td>\n",
       "      <td>654</td>\n",
       "    </tr>\n",
       "    <tr>\n",
       "      <th>104708</th>\n",
       "      <td>B008CA7W7E</td>\n",
       "      <td>Tetra LED Cube Shaped 3 Gallon Aquarium with P...</td>\n",
       "      <td>['Pet Supplies', 'Fish &amp; Aquatic Pets', 'Aquar...</td>\n",
       "      <td>AYXM55IJH5APV</td>\n",
       "      <td>2.0</td>\n",
       "      <td>Now obviously this is quite a long review, but...</td>\n",
       "      <td>11 4, 2013</td>\n",
       "      <td>9672</td>\n",
       "      <td>1750</td>\n",
       "      <td>obviously long review try address question ask...</td>\n",
       "      <td>767</td>\n",
       "    </tr>\n",
       "    <tr>\n",
       "      <th>55340</th>\n",
       "      <td>B000MS6Q2Q</td>\n",
       "      <td>HDP Fleabusters Rx for Fleas Plus 3Lb Kills Ro...</td>\n",
       "      <td>['Pet Supplies', 'Cats', 'Flea &amp; Tick Control']</td>\n",
       "      <td>A1QCJOGQL05KRI</td>\n",
       "      <td>1.0</td>\n",
       "      <td>I had a bad flea problem last year after getti...</td>\n",
       "      <td>12 10, 2007</td>\n",
       "      <td>12543</td>\n",
       "      <td>2346</td>\n",
       "      <td>bad flea problem year puppy year manage new dy...</td>\n",
       "      <td>786</td>\n",
       "    </tr>\n",
       "    <tr>\n",
       "      <th>57641</th>\n",
       "      <td>B000QFMYWQ</td>\n",
       "      <td>Prevue Hendryx Black Feisty Ferret Cage</td>\n",
       "      <td>['Pet Supplies', 'Small Animals', 'Houses &amp; Ha...</td>\n",
       "      <td>AI0BCEWRE04G0</td>\n",
       "      <td>5.0</td>\n",
       "      <td>GENERAL DESCRIPTION&gt; The Prevue 485 is a well-...</td>\n",
       "      <td>01 4, 2014</td>\n",
       "      <td>15622</td>\n",
       "      <td>2652</td>\n",
       "      <td>general description prevue design build genera...</td>\n",
       "      <td>1245</td>\n",
       "    </tr>\n",
       "  </tbody>\n",
       "</table>\n",
       "<p>111623 rows × 11 columns</p>\n",
       "</div>"
      ],
      "text/plain": [
       "              asin                                              title  \\\n",
       "56204   B000O5DI1E                      Beef Pill Pockets Large 7.9oz   \n",
       "7572    B000255OIG       Stewart Freeze Dried Treats 14 oz Beef Liver   \n",
       "7465    B000255OIG       Stewart Freeze Dried Treats 14 oz Beef Liver   \n",
       "14208   B0002AQM9Q  Vets Best Dog Hot Spot Itch Relief Spray | Soo...   \n",
       "14222   B0002AQM9Q  Vets Best Dog Hot Spot Itch Relief Spray | Soo...   \n",
       "...            ...                                                ...   \n",
       "9720    B00025K1GG                  Hikari Freeze Dried Tubifex Worms   \n",
       "9738    B00025K1GG                  Hikari Freeze Dried Tubifex Worms   \n",
       "104708  B008CA7W7E  Tetra LED Cube Shaped 3 Gallon Aquarium with P...   \n",
       "55340   B000MS6Q2Q  HDP Fleabusters Rx for Fleas Plus 3Lb Kills Ro...   \n",
       "57641   B000QFMYWQ            Prevue Hendryx Black Feisty Ferret Cage   \n",
       "\n",
       "                                               categories      reviewerID  \\\n",
       "56204   ['Pet Supplies', 'Dogs', 'Health Supplies', 'S...   AZ7HUXVHAFFKN   \n",
       "7572    ['Pet Supplies', 'Dogs', 'Treats', 'Cookies, B...  A19HDIOM7WGMFB   \n",
       "7465    ['Pet Supplies', 'Dogs', 'Treats', 'Cookies, B...  A19HDIOM7WGMFB   \n",
       "14208   ['Pet Supplies', 'Dogs', 'Health Supplies', 'I...   AOJA8QAE740LY   \n",
       "14222   ['Pet Supplies', 'Dogs', 'Health Supplies', 'I...   AOJA8QAE740LY   \n",
       "...                                                   ...             ...   \n",
       "9720      ['Pet Supplies', 'Fish & Aquatic Pets', 'Food']  A3BNVMPIHDYGNQ   \n",
       "9738      ['Pet Supplies', 'Fish & Aquatic Pets', 'Food']  A3BNVMPIHDYGNQ   \n",
       "104708  ['Pet Supplies', 'Fish & Aquatic Pets', 'Aquar...   AYXM55IJH5APV   \n",
       "55340     ['Pet Supplies', 'Cats', 'Flea & Tick Control']  A1QCJOGQL05KRI   \n",
       "57641   ['Pet Supplies', 'Small Animals', 'Houses & Ha...   AI0BCEWRE04G0   \n",
       "\n",
       "        overall                                         reviewText  \\\n",
       "56204       3.0                                                 ok   \n",
       "7572        4.0                     but the dogs can't get enough.   \n",
       "7465        4.0                     but the dogs can't get enough.   \n",
       "14208       3.0                                                meh   \n",
       "14222       3.0                                                meh   \n",
       "...         ...                                                ...   \n",
       "9720        5.0  Tubifex worms are usually gobbled up by most f...   \n",
       "9738        5.0  Tubifex worms are usually gobbled up by most f...   \n",
       "104708      2.0  Now obviously this is quite a long review, but...   \n",
       "55340       1.0  I had a bad flea problem last year after getti...   \n",
       "57641       5.0  GENERAL DESCRIPTION> The Prevue 485 is a well-...   \n",
       "\n",
       "         reviewTime  reviewCharLength  reviewWordLength  \\\n",
       "56204    07 2, 2014                 2                 1   \n",
       "7572     07 8, 2014                30                 6   \n",
       "7465     07 8, 2014                30                 6   \n",
       "14208    07 9, 2014                 3                 1   \n",
       "14222    07 9, 2014                 3                 1   \n",
       "...             ...               ...               ...   \n",
       "9720    01 13, 2014              6736               973   \n",
       "9738    01 13, 2014              6736               973   \n",
       "104708   11 4, 2013              9672              1750   \n",
       "55340   12 10, 2007             12543              2346   \n",
       "57641    01 4, 2014             15622              2652   \n",
       "\n",
       "                                      processedReviewText  \\\n",
       "56204                                                  ok   \n",
       "7572                                                  dog   \n",
       "7465                                                  dog   \n",
       "14208                                                 meh   \n",
       "14222                                                 meh   \n",
       "...                                                   ...   \n",
       "9720    tubifex worm usually gobble fish need protein ...   \n",
       "9738    tubifex worm usually gobble fish need protein ...   \n",
       "104708  obviously long review try address question ask...   \n",
       "55340   bad flea problem year puppy year manage new dy...   \n",
       "57641   general description prevue design build genera...   \n",
       "\n",
       "        processedReviewWordLength  \n",
       "56204                           1  \n",
       "7572                            1  \n",
       "7465                            1  \n",
       "14208                           1  \n",
       "14222                           1  \n",
       "...                           ...  \n",
       "9720                          654  \n",
       "9738                          654  \n",
       "104708                        767  \n",
       "55340                         786  \n",
       "57641                        1245  \n",
       "\n",
       "[111623 rows x 11 columns]"
      ]
     },
     "execution_count": 41,
     "metadata": {},
     "output_type": "execute_result"
    }
   ],
   "source": [
    "products.sort_values(by='processedReviewText', ascending=True, key=lambda x: x.str.len())"
   ]
  },
  {
   "cell_type": "code",
   "execution_count": 42,
   "id": "f7d1cf53",
   "metadata": {},
   "outputs": [
    {
     "name": "stdout",
     "output_type": "stream",
     "text": [
      "The number of unique tokens: 44330\n"
     ]
    }
   ],
   "source": [
    "# finding unique tokens for `preprocessedReviewText`\n",
    "concat_tokens = ' '.join(products[\"processedReviewText\"])\n",
    "unique_tokens = len(set(concat_tokens.split()))\n",
    "print(f\"The number of unique tokens: {unique_tokens}\")"
   ]
  },
  {
   "cell_type": "code",
   "execution_count": 43,
   "id": "619ade40",
   "metadata": {},
   "outputs": [
    {
     "name": "stdout",
     "output_type": "stream",
     "text": [
      "The number of unique tokens: 231430\n"
     ]
    }
   ],
   "source": [
    "# finding unique tokens for `reviewText`\n",
    "concat_tokens = ' '.join(products[\"reviewText\"])\n",
    "unique_tokens = len(set(concat_tokens.split()))\n",
    "print(f\"The number of unique tokens: {unique_tokens}\")"
   ]
  },
  {
   "cell_type": "markdown",
   "id": "ed243358",
   "metadata": {},
   "source": [
    "## Misc Test"
   ]
  },
  {
   "cell_type": "code",
   "execution_count": 44,
   "id": "32a37a49",
   "metadata": {},
   "outputs": [
    {
     "name": "stdout",
     "output_type": "stream",
     "text": [
      "This comb does not work on DSH cats. The teeth are too far apart to be effective our flea comb works better\n"
     ]
    }
   ],
   "source": [
    "review = products_demo.sample(1)['reviewText'].values[0]\n",
    "print(review)"
   ]
  },
  {
   "cell_type": "code",
   "execution_count": 45,
   "id": "f8f68de4",
   "metadata": {},
   "outputs": [
    {
     "name": "stdout",
     "output_type": "stream",
     "text": [
      "This comb do not work on DSH cat The teeth be too far apart to be effective our flea comb work well\n"
     ]
    }
   ],
   "source": [
    "review = lemmatize_with_postags(review)\n",
    "print(review)"
   ]
  },
  {
   "cell_type": "code",
   "execution_count": 46,
   "id": "cdc2e211",
   "metadata": {},
   "outputs": [
    {
     "name": "stdout",
     "output_type": "stream",
     "text": [
      "['this', 'comb', 'do', 'not', 'work', 'on', 'dsh', 'cat', 'the', 'teeth', 'be', 'too', 'far', 'apart', 'to', 'be', 'effective', 'our', 'flea', 'comb', 'work', 'well']\n"
     ]
    }
   ],
   "source": [
    "review = simple_preprocess(review, deacc=True)\n",
    "print(review)"
   ]
  },
  {
   "cell_type": "code",
   "execution_count": 47,
   "id": "f99242e6",
   "metadata": {},
   "outputs": [
    {
     "name": "stdout",
     "output_type": "stream",
     "text": [
      "comb work dsh cat teeth far apart effective flea comb work\n"
     ]
    }
   ],
   "source": [
    "review_gensim = remove_stopwords(\" \".join(review))\n",
    "print(review_gensim)"
   ]
  },
  {
   "cell_type": "code",
   "execution_count": 48,
   "id": "8a70cb7b",
   "metadata": {},
   "outputs": [
    {
     "name": "stdout",
     "output_type": "stream",
     "text": [
      "comb work dsh teeth far apart effective flea comb work well\n"
     ]
    }
   ],
   "source": [
    "review_nltk = \" \".join([word for word in review if not word in stopwords.words()])\n",
    "print(review_nltk)"
   ]
  },
  {
   "cell_type": "code",
   "execution_count": null,
   "id": "5f0c6b49",
   "metadata": {},
   "outputs": [],
   "source": []
  }
 ],
 "metadata": {
  "kernelspec": {
   "display_name": "Python 3 (ipykernel)",
   "language": "python",
   "name": "python3"
  },
  "language_info": {
   "codemirror_mode": {
    "name": "ipython",
    "version": 3
   },
   "file_extension": ".py",
   "mimetype": "text/x-python",
   "name": "python",
   "nbconvert_exporter": "python",
   "pygments_lexer": "ipython3",
   "version": "3.9.6"
  }
 },
 "nbformat": 4,
 "nbformat_minor": 5
}
